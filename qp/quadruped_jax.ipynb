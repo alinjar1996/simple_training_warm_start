{
 "cells": [
  {
   "cell_type": "code",
   "execution_count": 1,
   "id": "07f957e0",
   "metadata": {},
   "outputs": [],
   "source": [
    "import jax\n",
    "import jax.numpy as jnp\n",
    "from functools import partial\n",
    "import numpy as np\n",
    "import time\n",
    "\n",
    "from stance_leg_controller import ForceStanceLegController\n",
    "\n",
    "from quadruped_jax import QuadrupedQPProjector\n",
    "\n",
    "import matplotlib.pyplot as plt"
   ]
  },
  {
   "cell_type": "code",
   "execution_count": 2,
   "id": "8c8f4af1",
   "metadata": {},
   "outputs": [],
   "source": [
    "num_batch=10  # Increased batch size to demonstrate batching\n",
    "maxiter=200\n",
    "rho=1.0\n",
    "desired_speed=(0.0, 0.0)\n",
    "desired_twisting_speed=0.0\n",
    "desired_body_height=0.5\n",
    "body_mass=50.0\n",
    "body_inertia=(1.0, 0.0, 0.0, 0.0, 1.0, 0.0, 0.0, 0.0, 1.0)\n",
    "num_legs=4\n",
    "friction_coeff=0.2\n",
    "timestep=0.05\n",
    "horizon=100\n",
    "foot_x=0.2\n",
    "foot_y=0.2\n",
    "foot_z=-desired_body_height"
   ]
  },
  {
   "cell_type": "code",
   "execution_count": 3,
   "id": "0f7017ca",
   "metadata": {},
   "outputs": [
    {
     "name": "stdout",
     "output_type": "stream",
     "text": [
      "self.num_total_constraints 2400\n",
      "self.A_eq.shape (300, 1200)\n",
      "self.b_eq.shape (10, 300)\n"
     ]
    }
   ],
   "source": [
    "# Initialize the projector with organized parameters\n",
    "projector = QuadrupedQPProjector(\n",
    "    num_batch=num_batch,\n",
    "    maxiter=maxiter,\n",
    "    rho=rho,\n",
    "    desired_speed=desired_speed,\n",
    "    desired_twisting_speed=desired_twisting_speed,\n",
    "    desired_body_height=desired_body_height,\n",
    "    body_mass=body_mass,\n",
    "    body_inertia=body_inertia,\n",
    "    num_legs=num_legs,\n",
    "    friction_coeff=friction_coeff,\n",
    "    timestep=timestep,\n",
    "    horizon=horizon,\n",
    "    foot_x=foot_x,\n",
    "    foot_y=foot_y,\n",
    "    foot_z=foot_z\n",
    ")\n",
    "    "
   ]
  },
  {
   "cell_type": "code",
   "execution_count": 4,
   "id": "6a31581f",
   "metadata": {},
   "outputs": [
    {
     "name": "stdout",
     "output_type": "stream",
     "text": [
      "=== Quadruped QP Problem Information ===\n",
      "H matrix shape: (1200, 1200)\n",
      "g vector shape: (1200,)\n",
      "C matrix shape: (2400, 1200)\n",
      "constraint limit vector shape: (2400,)\n",
      "Number of variables: 1200\n",
      "Number of constraints: 2400\n",
      "Batch size: 10\n",
      "Max iterations: 200\n",
      "ADMM penalty (rho): 1.0\n",
      "========================================\n",
      "Initial lambda batch shape: (10, 1200)\n"
     ]
    }
   ],
   "source": [
    "# Print problem information\n",
    "projector.print_problem_info()\n",
    "\n",
    "# Sample batched initial guess\n",
    "key = jax.random.PRNGKey(42)\n",
    "\n",
    "\n",
    "lamda_init = jnp.zeros((projector.num_batch, projector.nvar))\n",
    "\n",
    "#print(f\"Initial xi batch shape: {xi_init.shape}\")\n",
    "print(f\"Initial lambda batch shape: {lamda_init.shape}\")\n",
    "\n",
    "xi_init = jnp.zeros((projector.num_batch, projector.nvar))\n",
    "# for i in range(4*projector.horizon):\n",
    "#     xi_init[:, 3*i+2] == body_mass*9.81/4.0"
   ]
  },
  {
   "cell_type": "code",
   "execution_count": 5,
   "id": "947cabbf",
   "metadata": {},
   "outputs": [],
   "source": [
    "# Solve batched QP projection\n",
    "start_time = time.time()\n",
    "xi_proj, primal_residual, fixed_point_residual = projector.compute_qp_projection(xi_init, lamda_init)\n",
    "solve_time = time.time() - start_time"
   ]
  },
  {
   "cell_type": "code",
   "execution_count": 6,
   "id": "635c3555",
   "metadata": {},
   "outputs": [
    {
     "name": "stdout",
     "output_type": "stream",
     "text": [
      "\n",
      "=== Solution Results ===\n",
      "Projection time: 2.172315 seconds\n",
      "Projected xi batch shape: (10, 1200)\n",
      "Final primal residual shape: (10,)\n",
      "Final dual residual shape: (10,)\n",
      "\n",
      "=== Convergence Statistics ===\n",
      "Primal residual - Initial (mean): 0.000000, Final (mean): 0.000000\n",
      "Dual residual - Initial (mean): 5024.423340, Final (mean): 0.268326\n",
      "Primal residual - Final (max): 0.000000\n",
      "Dual residual - Final (max): 0.268326\n",
      "\n",
      "=== Force Output ===\n",
      "Projected forces batch shape: (10, 12)\n",
      "First batch projected forces: [ 2.92432446e-06  5.28630198e-06 -1.22663780e+02  4.06369418e-06\n",
      "  5.19014475e-06 -1.22663795e+02  2.26289080e-06  3.16947921e-06\n",
      " -1.22586281e+02  1.19149388e-06  5.16316049e-06 -1.22586235e+02]\n",
      "\n",
      "Batched Quadruped QP projection complete!\n"
     ]
    }
   ],
   "source": [
    "print(f\"\\n=== Solution Results ===\")\n",
    "print(f\"Projection time: {solve_time:.6f} seconds\")\n",
    "print(f\"Projected xi batch shape: {xi_proj.shape}\")\n",
    "print(f\"Final primal residual shape: {primal_residual[-1].shape}\")\n",
    "print(f\"Final dual residual shape: {fixed_point_residual[-1].shape}\")\n",
    "\n",
    "# Display convergence statistics\n",
    "primal_residual_np = np.array(primal_residual)\n",
    "fixed_point_residual_np = np.array(fixed_point_residual)\n",
    "\n",
    "print(f\"\\n=== Convergence Statistics ===\")\n",
    "print(f\"Primal residual - Initial (mean): {np.mean(primal_residual_np[0]):.6f}, Final (mean): {np.mean(primal_residual_np[-1]):.6f}\")\n",
    "print(f\"Dual residual - Initial (mean): {np.mean(fixed_point_residual_np[0]):.6f}, Final (mean): {np.mean(fixed_point_residual_np[-1]):.6f}\")\n",
    "print(f\"Primal residual - Final (max): {np.max(primal_residual_np[-1]):.6f}\")\n",
    "print(f\"Dual residual - Final (max): {np.max(fixed_point_residual_np[-1]):.6f}\")\n",
    "\n",
    "# Extract force outputs (first 12 elements as in original code) for all batches\n",
    "force_output = -xi_proj[:, :12]\n",
    "print(f\"\\n=== Force Output ===\")\n",
    "print(f\"Projected forces batch shape: {force_output.shape}\")\n",
    "print(f\"First batch projected forces: {force_output[0]}\")\n",
    "\n",
    "print(\"\\nBatched Quadruped QP projection complete!\")"
   ]
  },
  {
   "cell_type": "code",
   "execution_count": 7,
   "id": "1295bf89",
   "metadata": {},
   "outputs": [
    {
     "data": {
      "image/png": "[encoded data removed]",
      "text/plain": [
       "<Figure size 640x480 with 1 Axes>"
      ]
     },
     "metadata": {},
     "output_type": "display_data"
    }
   ],
   "source": [
    "%matplotlib inline\n",
    "plt.figure()\n",
    "plt.plot(primal_residual)\n",
    "plt.show()"
   ]
  },
  {
   "cell_type": "code",
   "execution_count": 8,
   "id": "0f09b0a8",
   "metadata": {},
   "outputs": [
    {
     "data": {
      "image/png": "[encoded data removed]",
      "text/plain": [
       "<Figure size 640x480 with 1 Axes>"
      ]
     },
     "metadata": {},
     "output_type": "display_data"
    }
   ],
   "source": [
    "%matplotlib inline\n",
    "plt.figure()\n",
    "plt.plot(fixed_point_residual)\n",
    "plt.show()"
   ]
  },
  {
   "cell_type": "code",
   "execution_count": 9,
   "id": "71d2cc98",
   "metadata": {},
   "outputs": [
    {
     "data": {
      "image/png": "[encoded data removed]",
      "text/plain": [
       "<Figure size 640x480 with 1 Axes>"
      ]
     },
     "metadata": {},
     "output_type": "display_data"
    }
   ],
   "source": [
    "%matplotlib inline\n",
    "plt.figure()\n",
    "plt.plot(-xi_proj.T)\n",
    "plt.show()"
   ]
  }
 ],
 "metadata": {
  "kernelspec": {
   "display_name": "manipulator_torch_env",
   "language": "python",
   "name": "python3"
  },
  "language_info": {
   "codemirror_mode": {
    "name": "ipython",
    "version": 3
   },
   "file_extension": ".py",
   "mimetype": "text/x-python",
   "name": "python",
   "nbconvert_exporter": "python",
   "pygments_lexer": "ipython3",
   "version": "3.12.3"
  }
 },
 "nbformat": 4,
 "nbformat_minor": 5
}
