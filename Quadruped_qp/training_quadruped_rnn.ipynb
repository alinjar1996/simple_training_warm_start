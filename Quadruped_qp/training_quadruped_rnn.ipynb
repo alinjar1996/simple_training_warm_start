{
 "cells": [
  {
   "cell_type": "code",
   "execution_count": 48,
   "id": "041274ca",
   "metadata": {},
   "outputs": [],
   "source": [
    "# parser = argparse.ArgumentParser(description=\"Choose RNN module: LSTM or GRU\")\n",
    "# parser.add_argument(\"--rnn_module\", type=str, default=\"LSTM\", help=\"Choose RNN module: LSTM or GRU\")\n",
    "# args = parser.parse_args()\n",
    "\n",
    "rnn = \"GRU\""
   ]
  },
  {
   "cell_type": "code",
   "execution_count": 49,
   "id": "b6d44515",
   "metadata": {},
   "outputs": [
    {
     "name": "stdout",
     "output_type": "stream",
     "text": [
      "/home/alinjar/simple_training_warm_start/Quadruped_qp\n",
      "Using cuda device\n"
     ]
    }
   ],
   "source": [
    "import os\n",
    "current_working_directory = os.getcwd()\n",
    "print(current_working_directory)\n",
    "\n",
    "import matplotlib.pyplot as plt\n",
    "import numpy as np \n",
    "import torch \n",
    "import torch.nn as nn \n",
    "import torch.optim as optim\n",
    "\n",
    "from torch.utils.data import Dataset, DataLoader\n",
    "import scipy.io as sio\n",
    "\n",
    "from tqdm import trange, tqdm\n",
    "import argparse\n",
    "\n",
    "# Import the quadruped model components from your second file\n",
    "from mlp_quadruped_rnn import MLP, MLPQuadrupedProjectionFilter, CustomGRULayer, GRU_Hidden_State, CustomLSTMLayer, LSTM_Hidden_State\n",
    "\n",
    "\n",
    "from scipy.spatial.transform import Rotation as R\n",
    "\n",
    "# Device setup\n",
    "device = torch.device(\"cuda\" if torch.cuda.is_available() else \"cpu\")\n",
    "print(f\"Using {device} device\")"
   ]
  },
  {
   "cell_type": "code",
   "execution_count": 50,
   "id": "1f99a83a",
   "metadata": {},
   "outputs": [],
   "source": [
    "class ForceDataset(Dataset):\n",
    "    \"\"\"Expert Trajectory Dataset.\"\"\"\n",
    "    def __init__(self, inp, desired_speed, desired_twisting_speed):\n",
    "        # input\n",
    "        self.inp = inp\n",
    "        self.desired_speed = desired_speed\n",
    "        self.desired_twisting_speed = desired_twisting_speed\n",
    "\n",
    "    def __len__(self):\n",
    "        return len(self.inp)    \n",
    "        \n",
    "    def __getitem__(self, idx):\n",
    "        # Input\n",
    "        inp = self.inp[idx]\n",
    "        desired_speed = self.desired_speed[idx]\n",
    "        desired_twisting_speed = self.desired_twisting_speed\n",
    "        return torch.tensor(inp).float(), torch.tensor(desired_speed).float(), torch.tensor(desired_twisting_speed).float()    \n",
    "\n",
    "\n",
    "def sample_uniform_variables(key, var_min, var_max, dataset_size, nvar):\n",
    "    rng = np.random.default_rng(seed=key)\n",
    "    xi_samples = rng.uniform(\n",
    "        low=var_min,\n",
    "        high=var_max,\n",
    "        size=(dataset_size, nvar)\n",
    "    )\n",
    "    return xi_samples, rng\n"
   ]
  },
  {
   "cell_type": "code",
   "execution_count": 51,
   "id": "ee43f8c6",
   "metadata": {},
   "outputs": [],
   "source": [
    "\n",
    "\n",
    "# Parameters for Quadruped Model\n",
    "num_batch = 1\n",
    "timestep = 0.05  # 50 Hz control frequency\n",
    "horizon = 10     # prediction horizon steps\n",
    "num_legs = 4\n",
    "friction_coeff = 0.2\n",
    "body_mass = 50.0  # kg\n",
    "\n",
    "body_inertia=(1.0, 0.0, 0.0, 0.0, 1.0, 0.0, 0.0, 0.0, 1.0)\n",
    "\n",
    "# Desired motion parameters\n",
    "# desired_speed_x_tensor, rng = sample_uniform_variable(42, -0.5, 0.5, 1, 1)\n",
    "# desired_speed_x = desired_speed_x_tensor.squeeze().item()\n",
    "# print(\"desired_speed_x\", desired_speed_x)\n",
    "desired_body_height = 0.5     # m\n"
   ]
  },
  {
   "cell_type": "code",
   "execution_count": 52,
   "id": "28923a97",
   "metadata": {},
   "outputs": [],
   "source": [
    "##Parameters for MLP model\n",
    "# Default states\n",
    "BaseRollPitchYaw = (0.0, 0.0, 0.0)\n",
    "AngularVelocityBodyFrame = (0.0, 0.0, 0.0)\n",
    "ComVelocityBodyFrame = (0.0, 0.0, 0.0)\n",
    "FootContacts = (True, True, True, True)\n",
    "slope_estimate = (0.0, 0.0, 0.0)\n",
    "RotationBodyWrtWorld = (1.0, 0.0, 0.0, 0.0, 1.0, 0.0, 0.0, 0.0, 1.0)\n",
    "\n",
    "roll, pitch, yaw = BaseRollPitchYaw\n",
    "\n",
    "# Create rotation object from Euler angles (in radians)\n",
    "rot = R.from_euler('xyz', [roll, pitch, yaw])\n",
    "\n",
    "# Convert to rotation matrix\n",
    "rotation_matrix = rot.as_matrix()  # Shape (3, 3)\n",
    "\n",
    "# Flatten into a 9-element tuple (row-major order)\n",
    "RotationBodyWrtWorld = tuple(rotation_matrix.flatten())\n",
    "#self.RotationBodyWrtWorld = (1.0, 0.0, 0.0, 0.0, 1.0, 0.0, 0.0, 0.0, 1.0)\n",
    "\n",
    "\n",
    "\"\"\"Setup foot positions and default states for quadruped\"\"\"\n",
    "# Foot positions in body frame\n",
    "foot_x=0.2\n",
    "foot_y=0.2\n",
    "foot_z=-desired_body_height\n",
    "\n",
    "FootPositionsInBodyFrame = torch.tensor([\n",
    "    [ foot_x,  foot_y, foot_z],\n",
    "    [-foot_x,  foot_y, foot_z],\n",
    "    [ foot_x, -foot_y, foot_z],\n",
    "    [-foot_x, -foot_y, foot_z]])\n",
    "\n",
    "# Define QP matrices for quadruped control (simplified example)\n",
    "# In practice, these would come from your quadruped dynamics model\n",
    "\n",
    "\n",
    "\n",
    "\n",
    "# Maximum Iterations\n",
    "maxiter_projection = 10\n",
    "\n",
    "nvar = 3*num_legs*horizon\n",
    "\n",
    "num_total_constraints = 2*nvar\n"
   ]
  },
  {
   "cell_type": "code",
   "execution_count": 53,
   "id": "aa732956",
   "metadata": {},
   "outputs": [
    {
     "name": "stdout",
     "output_type": "stream",
     "text": [
      "desired_speed_batched.shape (1, 2)\n",
      "desired_twisting_speed_batched.shape (1, 1)\n"
     ]
    }
   ],
   "source": [
    "dataset_size = 1*num_batch\n",
    "desired_speed_batched, rng_desired_speed_batched = sample_uniform_variables(None, var_min= -0.0, var_max = 0.0, dataset_size=dataset_size, nvar=2)\n",
    "desired_twisting_speed_batched,  rng_desired_twisting_speed_batched = sample_uniform_variables(\n",
    "                                                                      42, var_min= -0.0, var_max = 0.0, dataset_size=dataset_size, \n",
    "                                                                      nvar=1)\n",
    "\n",
    "desired_speed_batched_val, rng_desired_speed_batched = sample_uniform_variables(None, var_min= -0.1, var_max = 0.1, dataset_size=dataset_size, nvar=2)\n",
    "desired_twisting_speed_batched_val,  rng_desired_twisting_speed_batched = sample_uniform_variables(\n",
    "                                                                      39, var_min= -0.1, var_max = 0.1, dataset_size=dataset_size,\n",
    "                                                                      nvar=1)\n",
    "\n",
    "print(\"desired_speed_batched.shape\", desired_speed_batched.shape)\n",
    "print(\"desired_twisting_speed_batched.shape\", desired_twisting_speed_batched.shape)\n",
    "\n",
    "inp = np.hstack((desired_speed_batched, desired_twisting_speed_batched))\n",
    "\n",
    "inp_val = np.hstack(( desired_speed_batched_val, desired_twisting_speed_batched_val))\n",
    "\n",
    "# Using PyTorch Dataloader\n",
    "train_dataset = ForceDataset(inp, desired_speed_batched, desired_twisting_speed_batched)\n",
    "val_dataset = ForceDataset(inp_val, desired_speed_batched_val, desired_twisting_speed_batched_val)\n",
    "\n",
    "train_loader = DataLoader(train_dataset, batch_size=num_batch, shuffle=True, num_workers=0, drop_last=True)\n",
    "val_loader = DataLoader(val_dataset, batch_size=num_batch, shuffle=True, num_workers=0, drop_last=True)\n"
   ]
  },
  {
   "cell_type": "code",
   "execution_count": 54,
   "id": "e57d3406",
   "metadata": {},
   "outputs": [
    {
     "name": "stdout",
     "output_type": "stream",
     "text": [
      "Training with GRU\n"
     ]
    }
   ],
   "source": [
    "if rnn == \"GRU\":\n",
    "    print(\"Training with GRU\")\n",
    "    #GRU handling\n",
    "    rnn = \"GRU\"\n",
    "    gru_input_size = 3*num_total_constraints+3*nvar\n",
    "    # print(gru_input_size)\n",
    "    gru_hidden_size = 512\n",
    "    # gru_output_size = (2*nvar)**2+2*nvar\n",
    "    gru_output_size = num_total_constraints+nvar\n",
    "    # gru_context_size = mlp_planner_inp_dim\n",
    "\n",
    "    gru_context = CustomGRULayer(gru_input_size, gru_hidden_size, gru_output_size)\n",
    "\n",
    "    rnn_context = gru_context\n",
    "\n",
    "\n",
    "    input_hidden_state_init = np.shape(inp)[1]\n",
    "    mid_hidden_state_init = 512\n",
    "    out_hidden_state_init = gru_hidden_size\n",
    "\n",
    "    gru_init  =  GRU_Hidden_State(input_hidden_state_init, mid_hidden_state_init, out_hidden_state_init)\n",
    "    \n",
    "    rnn_init = gru_init\n",
    "    ##\n",
    "elif rnn == \"LSTM\":\n",
    "    print(\"Training with LSTM\")\n",
    "    #LSTM handling\n",
    "    rnn = \"LSTM\"\n",
    "    lstm_input_size = 3*num_total_constraints+3*nvar\n",
    "    # print(lstm_input_size)\n",
    "    lstm_hidden_size = 512\n",
    "    # lstm_output_size = (2*nvar)**2+2*nvar\n",
    "    lstm_output_size = num_total_constraints+nvar\n",
    "    # lstm_context_size = mlp_planner_inp_dim\n",
    "\n",
    "    lstm_context = CustomLSTMLayer(lstm_input_size, lstm_hidden_size, lstm_output_size)\n",
    "\n",
    "    rnn_context = lstm_context\n",
    "\n",
    "    input_hidden_state_init = np.shape(inp)[1]\n",
    "    mid_hidden_state_init = 512\n",
    "    out_hidden_state_init = lstm_hidden_size\n",
    "\n",
    "    lstm_init = LSTM_Hidden_State(input_hidden_state_init, mid_hidden_state_init, out_hidden_state_init)\n",
    "\n",
    "    rnn_init = lstm_init\n",
    "\n",
    "    ##\n"
   ]
  },
  {
   "cell_type": "code",
   "execution_count": 55,
   "id": "ca756394",
   "metadata": {},
   "outputs": [],
   "source": [
    "# MLP setup\n",
    "enc_inp_dim = np.shape(inp)[1] \n",
    "mlp_inp_dim = enc_inp_dim\n",
    "hidden_dim = 1024\n",
    "mlp_out_dim = 2*nvar + num_total_constraints  # xi_samples, lambda_samples, slack_variables\n",
    "\n",
    "mlp = MLP(mlp_inp_dim, hidden_dim, mlp_out_dim)\n"
   ]
  },
  {
   "cell_type": "code",
   "execution_count": 56,
   "id": "1a47e937",
   "metadata": {},
   "outputs": [
    {
     "name": "stdout",
     "output_type": "stream",
     "text": [
      "Model type: <class 'mlp_quadruped_rnn.MLPQuadrupedProjectionFilter'>\n",
      "Number of parameters: 4869192\n"
     ]
    }
   ],
   "source": [
    "\n",
    "# Create the quadruped model\n",
    "model = MLPQuadrupedProjectionFilter(\n",
    "    mlp=mlp,\n",
    "    rnn_context=rnn_context, \n",
    "    rnn_init=rnn_init, \n",
    "    num_batch=num_batch,\n",
    "    maxiter_projection=maxiter_projection,\n",
    "    BaseRollPitchYaw=BaseRollPitchYaw,\n",
    "    AngularVelocityBodyFrame=AngularVelocityBodyFrame,\n",
    "    ComVelocityBodyFrame=ComVelocityBodyFrame,\n",
    "    FootPositionsInBodyFrame=FootPositionsInBodyFrame,\n",
    "    FootContacts=FootContacts,\n",
    "    slope_estimate=slope_estimate,\n",
    "    RotationBodyWrtWorld=RotationBodyWrtWorld, \n",
    "    desired_body_height=desired_body_height,\n",
    "    body_mass=body_mass,\n",
    "    body_inertia=body_inertia,\n",
    "    num_legs=num_legs,\n",
    "    friction_coeff=friction_coeff,\n",
    "    timestep=timestep,\n",
    "    horizon=horizon,\n",
    "    rnn=rnn).to(device)\n",
    "\n",
    "print(f\"Model type: {type(model)}\")\n",
    "print(f\"Number of parameters: {sum(p.numel() for p in model.parameters())}\")\n"
   ]
  },
  {
   "cell_type": "code",
   "execution_count": 57,
   "id": "7a01e5b9",
   "metadata": {},
   "outputs": [
    {
     "name": "stderr",
     "output_type": "stream",
     "text": [
      "Epoch 1/1500: 100%|██████████| 1/1 [00:00<00:00, 18.16it/s]\n",
      "Validation: 100%|██████████| 1/1 [00:00<00:00, 26.29it/s]\n"
     ]
    },
    {
     "name": "stdout",
     "output_type": "stream",
     "text": [
      "Epoch: 1, Train Loss: 20622.0312, \n",
      "Validation Loss: 8885.3691\n"
     ]
    },
    {
     "name": "stderr",
     "output_type": "stream",
     "text": [
      "Epoch 2/1500: 100%|██████████| 1/1 [00:00<00:00, 21.36it/s]\n",
      "Epoch 3/1500: 100%|██████████| 1/1 [00:00<00:00, 21.70it/s]\n",
      "Validation: 100%|██████████| 1/1 [00:00<00:00, 26.21it/s]\n"
     ]
    },
    {
     "name": "stdout",
     "output_type": "stream",
     "text": [
      "Epoch: 3, Train Loss: 4528.4624, \n",
      "Validation Loss: 4398.2227\n"
     ]
    },
    {
     "name": "stderr",
     "output_type": "stream",
     "text": [
      "Epoch 4/1500: 100%|██████████| 1/1 [00:00<00:00, 21.41it/s]\n",
      "Epoch 5/1500: 100%|██████████| 1/1 [00:00<00:00, 23.00it/s]\n",
      "Validation: 100%|██████████| 1/1 [00:00<00:00, 28.21it/s]\n"
     ]
    },
    {
     "name": "stdout",
     "output_type": "stream",
     "text": [
      "Epoch: 5, Train Loss: 7244.6187, \n",
      "Validation Loss: 5561.5894\n"
     ]
    },
    {
     "name": "stderr",
     "output_type": "stream",
     "text": [
      "Epoch 6/1500: 100%|██████████| 1/1 [00:00<00:00, 22.32it/s]\n",
      "Epoch 7/1500: 100%|██████████| 1/1 [00:00<00:00, 22.50it/s]\n",
      "Validation: 100%|██████████| 1/1 [00:00<00:00, 27.26it/s]\n"
     ]
    },
    {
     "name": "stdout",
     "output_type": "stream",
     "text": [
      "Epoch: 7, Train Loss: 6412.8184, \n",
      "Validation Loss: 8852.7773\n"
     ]
    },
    {
     "name": "stderr",
     "output_type": "stream",
     "text": [
      "Epoch 8/1500: 100%|██████████| 1/1 [00:00<00:00, 23.06it/s]\n",
      "Epoch 9/1500: 100%|██████████| 1/1 [00:00<00:00, 22.83it/s]\n",
      "Validation: 100%|██████████| 1/1 [00:00<00:00, 28.86it/s]\n"
     ]
    },
    {
     "name": "stdout",
     "output_type": "stream",
     "text": [
      "Epoch: 9, Train Loss: 4017.3555, \n",
      "Validation Loss: 3442.8687\n"
     ]
    },
    {
     "name": "stderr",
     "output_type": "stream",
     "text": [
      "Epoch 10/1500: 100%|██████████| 1/1 [00:00<00:00, 22.57it/s]\n",
      "Epoch 11/1500: 100%|██████████| 1/1 [00:00<00:00, 23.31it/s]\n",
      "Validation: 100%|██████████| 1/1 [00:00<00:00, 28.87it/s]\n"
     ]
    },
    {
     "name": "stdout",
     "output_type": "stream",
     "text": [
      "Epoch: 11, Train Loss: 4468.8267, \n",
      "Validation Loss: 3652.9172\n"
     ]
    },
    {
     "name": "stderr",
     "output_type": "stream",
     "text": [
      "Epoch 12/1500: 100%|██████████| 1/1 [00:00<00:00, 22.95it/s]\n",
      "Epoch 13/1500: 100%|██████████| 1/1 [00:00<00:00, 23.35it/s]\n",
      "Validation: 100%|██████████| 1/1 [00:00<00:00, 29.22it/s]\n"
     ]
    },
    {
     "name": "stdout",
     "output_type": "stream",
     "text": [
      "Epoch: 13, Train Loss: 5174.4888, \n",
      "Validation Loss: 5106.2778\n"
     ]
    },
    {
     "name": "stderr",
     "output_type": "stream",
     "text": [
      "Epoch 14/1500: 100%|██████████| 1/1 [00:00<00:00, 22.97it/s]\n",
      "Epoch 15/1500: 100%|██████████| 1/1 [00:00<00:00, 22.46it/s]\n",
      "Validation: 100%|██████████| 1/1 [00:00<00:00, 29.22it/s]\n"
     ]
    },
    {
     "name": "stdout",
     "output_type": "stream",
     "text": [
      "Epoch: 15, Train Loss: 3641.9514, \n",
      "Validation Loss: 3230.8267\n"
     ]
    },
    {
     "name": "stderr",
     "output_type": "stream",
     "text": [
      "Epoch 16/1500: 100%|██████████| 1/1 [00:00<00:00, 20.66it/s]\n",
      "Epoch 17/1500: 100%|██████████| 1/1 [00:00<00:00, 23.76it/s]\n",
      "Validation: 100%|██████████| 1/1 [00:00<00:00, 29.00it/s]\n"
     ]
    },
    {
     "name": "stdout",
     "output_type": "stream",
     "text": [
      "Epoch: 17, Train Loss: 3839.1958, \n",
      "Validation Loss: 3629.9871\n"
     ]
    },
    {
     "name": "stderr",
     "output_type": "stream",
     "text": [
      "Epoch 18/1500: 100%|██████████| 1/1 [00:00<00:00, 22.60it/s]\n",
      "Epoch 19/1500: 100%|██████████| 1/1 [00:00<00:00, 22.32it/s]\n",
      "Validation: 100%|██████████| 1/1 [00:00<00:00, 28.99it/s]\n"
     ]
    },
    {
     "name": "stdout",
     "output_type": "stream",
     "text": [
      "Epoch: 19, Train Loss: 3107.1985, \n",
      "Validation Loss: 3154.7363\n"
     ]
    },
    {
     "name": "stderr",
     "output_type": "stream",
     "text": [
      "Epoch 20/1500: 100%|██████████| 1/1 [00:00<00:00, 21.93it/s]\n",
      "Epoch 21/1500: 100%|██████████| 1/1 [00:00<00:00, 23.45it/s]\n",
      "Validation: 100%|██████████| 1/1 [00:00<00:00, 28.65it/s]\n"
     ]
    },
    {
     "name": "stdout",
     "output_type": "stream",
     "text": [
      "Epoch: 21, Train Loss: 2995.0217, \n",
      "Validation Loss: 2030.9380\n"
     ]
    },
    {
     "name": "stderr",
     "output_type": "stream",
     "text": [
      "Epoch 22/1500: 100%|██████████| 1/1 [00:00<00:00, 22.95it/s]\n",
      "Epoch 23/1500: 100%|██████████| 1/1 [00:00<00:00, 22.79it/s]\n",
      "Validation: 100%|██████████| 1/1 [00:00<00:00, 29.94it/s]\n"
     ]
    },
    {
     "name": "stdout",
     "output_type": "stream",
     "text": [
      "Epoch: 23, Train Loss: 4192.9790, \n",
      "Validation Loss: 1783.7941\n"
     ]
    },
    {
     "name": "stderr",
     "output_type": "stream",
     "text": [
      "Epoch 24/1500: 100%|██████████| 1/1 [00:00<00:00, 24.31it/s]\n",
      "Epoch 25/1500: 100%|██████████| 1/1 [00:00<00:00, 22.44it/s]\n",
      "Validation: 100%|██████████| 1/1 [00:00<00:00, 29.06it/s]\n"
     ]
    },
    {
     "name": "stdout",
     "output_type": "stream",
     "text": [
      "Epoch: 25, Train Loss: 1811.0034, \n",
      "Validation Loss: 1399.0021\n"
     ]
    },
    {
     "name": "stderr",
     "output_type": "stream",
     "text": [
      "Epoch 26/1500: 100%|██████████| 1/1 [00:00<00:00, 22.11it/s]\n",
      "Epoch 27/1500: 100%|██████████| 1/1 [00:00<00:00, 22.90it/s]\n",
      "Validation: 100%|██████████| 1/1 [00:00<00:00, 25.70it/s]\n"
     ]
    },
    {
     "name": "stdout",
     "output_type": "stream",
     "text": [
      "Epoch: 27, Train Loss: 2182.6458, \n",
      "Validation Loss: 1877.8690\n"
     ]
    },
    {
     "name": "stderr",
     "output_type": "stream",
     "text": [
      "Epoch 28/1500: 100%|██████████| 1/1 [00:00<00:00, 19.39it/s]\n",
      "Epoch 29/1500: 100%|██████████| 1/1 [00:00<00:00, 22.78it/s]\n",
      "Validation: 100%|██████████| 1/1 [00:00<00:00, 26.74it/s]\n"
     ]
    },
    {
     "name": "stdout",
     "output_type": "stream",
     "text": [
      "Epoch: 29, Train Loss: 1865.1517, \n",
      "Validation Loss: 1710.8556\n"
     ]
    },
    {
     "name": "stderr",
     "output_type": "stream",
     "text": [
      "Epoch 30/1500: 100%|██████████| 1/1 [00:00<00:00, 22.46it/s]\n",
      "Epoch 31/1500: 100%|██████████| 1/1 [00:00<00:00, 21.95it/s]\n",
      "Validation: 100%|██████████| 1/1 [00:00<00:00, 28.63it/s]\n"
     ]
    },
    {
     "name": "stdout",
     "output_type": "stream",
     "text": [
      "Epoch: 31, Train Loss: 1570.2179, \n",
      "Validation Loss: 2298.2573\n"
     ]
    },
    {
     "name": "stderr",
     "output_type": "stream",
     "text": [
      "Epoch 32/1500: 100%|██████████| 1/1 [00:00<00:00, 22.21it/s]\n",
      "Epoch 33/1500: 100%|██████████| 1/1 [00:00<00:00, 22.82it/s]\n",
      "Validation: 100%|██████████| 1/1 [00:00<00:00, 28.57it/s]\n"
     ]
    },
    {
     "name": "stdout",
     "output_type": "stream",
     "text": [
      "Epoch: 33, Train Loss: 3492.3682, \n",
      "Validation Loss: 1334.1881\n"
     ]
    },
    {
     "name": "stderr",
     "output_type": "stream",
     "text": [
      "Epoch 34/1500: 100%|██████████| 1/1 [00:00<00:00, 23.21it/s]\n",
      "Epoch 35/1500: 100%|██████████| 1/1 [00:00<00:00, 22.70it/s]\n",
      "Validation: 100%|██████████| 1/1 [00:00<00:00, 28.66it/s]\n"
     ]
    },
    {
     "name": "stdout",
     "output_type": "stream",
     "text": [
      "Epoch: 35, Train Loss: 1639.1633, \n",
      "Validation Loss: 1593.6609\n"
     ]
    },
    {
     "name": "stderr",
     "output_type": "stream",
     "text": [
      "Epoch 36/1500: 100%|██████████| 1/1 [00:00<00:00, 20.34it/s]\n",
      "Epoch 37/1500: 100%|██████████| 1/1 [00:00<00:00, 22.61it/s]\n",
      "Validation: 100%|██████████| 1/1 [00:00<00:00, 27.97it/s]\n"
     ]
    },
    {
     "name": "stdout",
     "output_type": "stream",
     "text": [
      "Epoch: 37, Train Loss: 1360.9084, \n",
      "Validation Loss: 1039.1300\n"
     ]
    },
    {
     "name": "stderr",
     "output_type": "stream",
     "text": [
      "Epoch 38/1500: 100%|██████████| 1/1 [00:00<00:00, 21.84it/s]\n",
      "Epoch 39/1500: 100%|██████████| 1/1 [00:00<00:00, 23.40it/s]\n",
      "Validation: 100%|██████████| 1/1 [00:00<00:00, 28.18it/s]\n"
     ]
    },
    {
     "name": "stdout",
     "output_type": "stream",
     "text": [
      "Epoch: 39, Train Loss: 1021.5609, \n",
      "Validation Loss: 1029.8014\n"
     ]
    },
    {
     "name": "stderr",
     "output_type": "stream",
     "text": [
      "Epoch 40/1500: 100%|██████████| 1/1 [00:00<00:00, 21.45it/s]\n",
      "Epoch 41/1500: 100%|██████████| 1/1 [00:00<00:00, 20.86it/s]\n",
      "Validation: 100%|██████████| 1/1 [00:00<00:00, 29.04it/s]\n"
     ]
    },
    {
     "name": "stdout",
     "output_type": "stream",
     "text": [
      "Epoch: 41, Train Loss: 1354.8883, \n",
      "Validation Loss: 1336.8715\n"
     ]
    },
    {
     "name": "stderr",
     "output_type": "stream",
     "text": [
      "Epoch 42/1500: 100%|██████████| 1/1 [00:00<00:00, 20.51it/s]\n",
      "Epoch 43/1500: 100%|██████████| 1/1 [00:00<00:00, 21.97it/s]\n",
      "Validation: 100%|██████████| 1/1 [00:00<00:00, 28.44it/s]\n"
     ]
    },
    {
     "name": "stdout",
     "output_type": "stream",
     "text": [
      "Epoch: 43, Train Loss: 2388.7080, \n",
      "Validation Loss: 937.8890\n"
     ]
    },
    {
     "name": "stderr",
     "output_type": "stream",
     "text": [
      "Epoch 44/1500: 100%|██████████| 1/1 [00:00<00:00, 21.65it/s]\n",
      "Epoch 45/1500: 100%|██████████| 1/1 [00:00<00:00, 22.36it/s]\n",
      "Validation: 100%|██████████| 1/1 [00:00<00:00, 24.12it/s]\n"
     ]
    },
    {
     "name": "stdout",
     "output_type": "stream",
     "text": [
      "Epoch: 45, Train Loss: 2017.7399, \n",
      "Validation Loss: 1215.4806\n"
     ]
    },
    {
     "name": "stderr",
     "output_type": "stream",
     "text": [
      "Epoch 46/1500: 100%|██████████| 1/1 [00:00<00:00, 21.45it/s]\n",
      "Epoch 47/1500: 100%|██████████| 1/1 [00:00<00:00, 23.36it/s]\n",
      "Validation: 100%|██████████| 1/1 [00:00<00:00, 31.46it/s]\n"
     ]
    },
    {
     "name": "stdout",
     "output_type": "stream",
     "text": [
      "Epoch: 47, Train Loss: 1324.4000, \n",
      "Validation Loss: 1097.7435\n"
     ]
    },
    {
     "name": "stderr",
     "output_type": "stream",
     "text": [
      "Epoch 48/1500: 100%|██████████| 1/1 [00:00<00:00, 22.38it/s]\n",
      "Epoch 49/1500: 100%|██████████| 1/1 [00:00<00:00, 22.61it/s]\n",
      "Validation: 100%|██████████| 1/1 [00:00<00:00, 28.08it/s]\n"
     ]
    },
    {
     "name": "stdout",
     "output_type": "stream",
     "text": [
      "Epoch: 49, Train Loss: 1271.0886, \n",
      "Validation Loss: 746.6222\n"
     ]
    },
    {
     "name": "stderr",
     "output_type": "stream",
     "text": [
      "Epoch 50/1500: 100%|██████████| 1/1 [00:00<00:00, 22.70it/s]\n",
      "Epoch 51/1500: 100%|██████████| 1/1 [00:00<00:00, 22.49it/s]\n",
      "Validation: 100%|██████████| 1/1 [00:00<00:00, 28.43it/s]\n"
     ]
    },
    {
     "name": "stdout",
     "output_type": "stream",
     "text": [
      "Epoch: 51, Train Loss: 1732.9607, \n",
      "Validation Loss: 1263.5935\n"
     ]
    },
    {
     "name": "stderr",
     "output_type": "stream",
     "text": [
      "Epoch 52/1500: 100%|██████████| 1/1 [00:00<00:00, 22.42it/s]\n",
      "Epoch 53/1500: 100%|██████████| 1/1 [00:00<00:00, 22.35it/s]\n",
      "Validation: 100%|██████████| 1/1 [00:00<00:00, 29.04it/s]\n"
     ]
    },
    {
     "name": "stdout",
     "output_type": "stream",
     "text": [
      "Epoch: 53, Train Loss: 967.8246, \n",
      "Validation Loss: 1280.1044\n"
     ]
    },
    {
     "name": "stderr",
     "output_type": "stream",
     "text": [
      "Epoch 54/1500: 100%|██████████| 1/1 [00:00<00:00, 22.20it/s]\n",
      "Epoch 55/1500: 100%|██████████| 1/1 [00:00<00:00, 22.16it/s]\n",
      "Validation: 100%|██████████| 1/1 [00:00<00:00, 28.61it/s]\n"
     ]
    },
    {
     "name": "stdout",
     "output_type": "stream",
     "text": [
      "Epoch: 55, Train Loss: 2216.3669, \n",
      "Validation Loss: 709.1428\n"
     ]
    },
    {
     "name": "stderr",
     "output_type": "stream",
     "text": [
      "Epoch 56/1500: 100%|██████████| 1/1 [00:00<00:00, 22.26it/s]\n",
      "Epoch 57/1500: 100%|██████████| 1/1 [00:00<00:00, 22.25it/s]\n",
      "Validation: 100%|██████████| 1/1 [00:00<00:00, 25.78it/s]\n"
     ]
    },
    {
     "name": "stdout",
     "output_type": "stream",
     "text": [
      "Epoch: 57, Train Loss: 1162.6758, \n",
      "Validation Loss: 770.3578\n"
     ]
    },
    {
     "name": "stderr",
     "output_type": "stream",
     "text": [
      "Epoch 58/1500: 100%|██████████| 1/1 [00:00<00:00, 21.26it/s]\n",
      "Epoch 59/1500: 100%|██████████| 1/1 [00:00<00:00, 22.92it/s]\n",
      "Validation: 100%|██████████| 1/1 [00:00<00:00, 29.27it/s]\n"
     ]
    },
    {
     "name": "stdout",
     "output_type": "stream",
     "text": [
      "Epoch: 59, Train Loss: 1176.8883, \n",
      "Validation Loss: 494.9889\n"
     ]
    },
    {
     "name": "stderr",
     "output_type": "stream",
     "text": [
      "Epoch 60/1500: 100%|██████████| 1/1 [00:00<00:00, 22.06it/s]\n",
      "Epoch 61/1500: 100%|██████████| 1/1 [00:00<00:00, 21.97it/s]\n",
      "Validation: 100%|██████████| 1/1 [00:00<00:00, 24.93it/s]\n"
     ]
    },
    {
     "name": "stdout",
     "output_type": "stream",
     "text": [
      "Epoch: 61, Train Loss: 1640.9979, \n",
      "Validation Loss: 851.9052\n"
     ]
    },
    {
     "name": "stderr",
     "output_type": "stream",
     "text": [
      "Epoch 62/1500: 100%|██████████| 1/1 [00:00<00:00, 23.03it/s]\n",
      "Epoch 63/1500: 100%|██████████| 1/1 [00:00<00:00, 22.52it/s]\n",
      "Validation: 100%|██████████| 1/1 [00:00<00:00, 27.77it/s]\n"
     ]
    },
    {
     "name": "stdout",
     "output_type": "stream",
     "text": [
      "Epoch: 63, Train Loss: 645.1906, \n",
      "Validation Loss: 914.7859\n"
     ]
    },
    {
     "name": "stderr",
     "output_type": "stream",
     "text": [
      "Epoch 64/1500: 100%|██████████| 1/1 [00:00<00:00, 21.24it/s]\n",
      "Epoch 65/1500: 100%|██████████| 1/1 [00:00<00:00, 23.51it/s]\n",
      "Validation: 100%|██████████| 1/1 [00:00<00:00, 28.99it/s]\n"
     ]
    },
    {
     "name": "stdout",
     "output_type": "stream",
     "text": [
      "Epoch: 65, Train Loss: 1289.9408, \n",
      "Validation Loss: 927.9016\n"
     ]
    },
    {
     "name": "stderr",
     "output_type": "stream",
     "text": [
      "Epoch 66/1500: 100%|██████████| 1/1 [00:00<00:00, 21.32it/s]\n",
      "Epoch 67/1500: 100%|██████████| 1/1 [00:00<00:00, 21.29it/s]\n",
      "Validation: 100%|██████████| 1/1 [00:00<00:00, 28.13it/s]\n"
     ]
    },
    {
     "name": "stdout",
     "output_type": "stream",
     "text": [
      "Epoch: 67, Train Loss: 1303.6094, \n",
      "Validation Loss: 348.8154\n"
     ]
    },
    {
     "name": "stderr",
     "output_type": "stream",
     "text": [
      "Epoch 68/1500: 100%|██████████| 1/1 [00:00<00:00, 21.40it/s]\n",
      "Epoch 69/1500: 100%|██████████| 1/1 [00:00<00:00, 22.35it/s]\n",
      "Validation: 100%|██████████| 1/1 [00:00<00:00, 28.44it/s]\n"
     ]
    },
    {
     "name": "stdout",
     "output_type": "stream",
     "text": [
      "Epoch: 69, Train Loss: 537.3236, \n",
      "Validation Loss: 560.2792\n"
     ]
    },
    {
     "name": "stderr",
     "output_type": "stream",
     "text": [
      "Epoch 70/1500: 100%|██████████| 1/1 [00:00<00:00, 21.97it/s]\n",
      "Epoch 71/1500: 100%|██████████| 1/1 [00:00<00:00, 22.14it/s]\n",
      "Validation: 100%|██████████| 1/1 [00:00<00:00, 28.78it/s]\n"
     ]
    },
    {
     "name": "stdout",
     "output_type": "stream",
     "text": [
      "Epoch: 71, Train Loss: 1190.1722, \n",
      "Validation Loss: 751.2643\n"
     ]
    },
    {
     "name": "stderr",
     "output_type": "stream",
     "text": [
      "Epoch 72/1500: 100%|██████████| 1/1 [00:00<00:00, 22.46it/s]\n",
      "Epoch 73/1500: 100%|██████████| 1/1 [00:00<00:00, 23.17it/s]\n",
      "Validation: 100%|██████████| 1/1 [00:00<00:00, 28.82it/s]\n"
     ]
    },
    {
     "name": "stdout",
     "output_type": "stream",
     "text": [
      "Epoch: 73, Train Loss: 1024.8767, \n",
      "Validation Loss: 676.2189\n"
     ]
    },
    {
     "name": "stderr",
     "output_type": "stream",
     "text": [
      "Epoch 74/1500: 100%|██████████| 1/1 [00:00<00:00, 20.38it/s]\n",
      "Epoch 75/1500: 100%|██████████| 1/1 [00:00<00:00, 23.19it/s]\n",
      "Validation: 100%|██████████| 1/1 [00:00<00:00, 28.92it/s]\n"
     ]
    },
    {
     "name": "stdout",
     "output_type": "stream",
     "text": [
      "Epoch: 75, Train Loss: 1107.5625, \n",
      "Validation Loss: 330.8593\n"
     ]
    },
    {
     "name": "stderr",
     "output_type": "stream",
     "text": [
      "Epoch 76/1500: 100%|██████████| 1/1 [00:00<00:00, 22.05it/s]\n",
      "Epoch 77/1500: 100%|██████████| 1/1 [00:00<00:00, 22.46it/s]\n",
      "Validation: 100%|██████████| 1/1 [00:00<00:00, 28.38it/s]\n"
     ]
    },
    {
     "name": "stdout",
     "output_type": "stream",
     "text": [
      "Epoch: 77, Train Loss: 1328.5277, \n",
      "Validation Loss: 533.0638\n"
     ]
    },
    {
     "name": "stderr",
     "output_type": "stream",
     "text": [
      "Epoch 78/1500: 100%|██████████| 1/1 [00:00<00:00, 22.30it/s]\n",
      "Epoch 79/1500: 100%|██████████| 1/1 [00:00<00:00, 22.79it/s]\n",
      "Validation: 100%|██████████| 1/1 [00:00<00:00, 26.29it/s]\n"
     ]
    },
    {
     "name": "stdout",
     "output_type": "stream",
     "text": [
      "Epoch: 79, Train Loss: 1018.7094, \n",
      "Validation Loss: 677.6644\n"
     ]
    },
    {
     "name": "stderr",
     "output_type": "stream",
     "text": [
      "Epoch 80/1500: 100%|██████████| 1/1 [00:00<00:00, 21.14it/s]\n",
      "Epoch 81/1500: 100%|██████████| 1/1 [00:00<00:00, 22.22it/s]\n",
      "Validation: 100%|██████████| 1/1 [00:00<00:00, 28.40it/s]\n"
     ]
    },
    {
     "name": "stdout",
     "output_type": "stream",
     "text": [
      "Epoch: 81, Train Loss: 1432.5839, \n",
      "Validation Loss: 737.8514\n"
     ]
    },
    {
     "name": "stderr",
     "output_type": "stream",
     "text": [
      "Epoch 82/1500: 100%|██████████| 1/1 [00:00<00:00, 21.99it/s]\n",
      "Epoch 83/1500: 100%|██████████| 1/1 [00:00<00:00, 23.00it/s]\n",
      "Validation: 100%|██████████| 1/1 [00:00<00:00, 27.81it/s]\n"
     ]
    },
    {
     "name": "stdout",
     "output_type": "stream",
     "text": [
      "Epoch: 83, Train Loss: 868.4279, \n",
      "Validation Loss: 556.5377\n"
     ]
    },
    {
     "name": "stderr",
     "output_type": "stream",
     "text": [
      "Epoch 84/1500: 100%|██████████| 1/1 [00:00<00:00, 22.35it/s]\n",
      "Epoch 85/1500: 100%|██████████| 1/1 [00:00<00:00, 23.19it/s]\n",
      "Validation: 100%|██████████| 1/1 [00:00<00:00, 28.27it/s]\n"
     ]
    },
    {
     "name": "stdout",
     "output_type": "stream",
     "text": [
      "Epoch: 85, Train Loss: 1227.7877, \n",
      "Validation Loss: 1660.4257\n"
     ]
    },
    {
     "name": "stderr",
     "output_type": "stream",
     "text": [
      "Epoch 86/1500: 100%|██████████| 1/1 [00:00<00:00, 22.12it/s]\n",
      "Epoch 87/1500: 100%|██████████| 1/1 [00:00<00:00, 22.27it/s]\n",
      "Validation: 100%|██████████| 1/1 [00:00<00:00, 28.08it/s]\n"
     ]
    },
    {
     "name": "stdout",
     "output_type": "stream",
     "text": [
      "Epoch: 87, Train Loss: 1365.5297, \n",
      "Validation Loss: 543.3849\n"
     ]
    },
    {
     "name": "stderr",
     "output_type": "stream",
     "text": [
      "Epoch 88/1500: 100%|██████████| 1/1 [00:00<00:00, 23.28it/s]\n",
      "Epoch 89/1500: 100%|██████████| 1/1 [00:00<00:00, 21.98it/s]\n",
      "Validation: 100%|██████████| 1/1 [00:00<00:00, 28.22it/s]\n"
     ]
    },
    {
     "name": "stdout",
     "output_type": "stream",
     "text": [
      "Epoch: 89, Train Loss: 841.1820, \n",
      "Validation Loss: 897.0716\n"
     ]
    },
    {
     "name": "stderr",
     "output_type": "stream",
     "text": [
      "Epoch 90/1500: 100%|██████████| 1/1 [00:00<00:00, 20.57it/s]\n",
      "Epoch 91/1500: 100%|██████████| 1/1 [00:00<00:00, 23.20it/s]\n",
      "Validation: 100%|██████████| 1/1 [00:00<00:00, 29.24it/s]\n"
     ]
    },
    {
     "name": "stdout",
     "output_type": "stream",
     "text": [
      "Epoch: 91, Train Loss: 915.5524, \n",
      "Validation Loss: 561.6539\n"
     ]
    },
    {
     "name": "stderr",
     "output_type": "stream",
     "text": [
      "Epoch 92/1500: 100%|██████████| 1/1 [00:00<00:00, 22.69it/s]\n",
      "Epoch 93/1500: 100%|██████████| 1/1 [00:00<00:00, 22.57it/s]\n",
      "Validation: 100%|██████████| 1/1 [00:00<00:00, 29.44it/s]\n"
     ]
    },
    {
     "name": "stdout",
     "output_type": "stream",
     "text": [
      "Epoch: 93, Train Loss: 1384.9141, \n",
      "Validation Loss: 723.3503\n"
     ]
    },
    {
     "name": "stderr",
     "output_type": "stream",
     "text": [
      "Epoch 94/1500: 100%|██████████| 1/1 [00:00<00:00, 21.03it/s]\n",
      "Epoch 95/1500: 100%|██████████| 1/1 [00:00<00:00, 22.70it/s]\n",
      "Validation: 100%|██████████| 1/1 [00:00<00:00, 29.53it/s]\n"
     ]
    },
    {
     "name": "stdout",
     "output_type": "stream",
     "text": [
      "Epoch: 95, Train Loss: 1271.4515, \n",
      "Validation Loss: 1652.0654\n"
     ]
    },
    {
     "name": "stderr",
     "output_type": "stream",
     "text": [
      "Epoch 96/1500: 100%|██████████| 1/1 [00:00<00:00, 22.67it/s]\n",
      "Epoch 97/1500: 100%|██████████| 1/1 [00:00<00:00, 23.31it/s]\n",
      "Validation: 100%|██████████| 1/1 [00:00<00:00, 29.92it/s]\n"
     ]
    },
    {
     "name": "stdout",
     "output_type": "stream",
     "text": [
      "Epoch: 97, Train Loss: 1540.1354, \n",
      "Validation Loss: 867.6080\n"
     ]
    },
    {
     "name": "stderr",
     "output_type": "stream",
     "text": [
      "Epoch 98/1500: 100%|██████████| 1/1 [00:00<00:00, 21.35it/s]\n",
      "Epoch 99/1500: 100%|██████████| 1/1 [00:00<00:00, 22.33it/s]\n",
      "Validation: 100%|██████████| 1/1 [00:00<00:00, 28.31it/s]\n"
     ]
    },
    {
     "name": "stdout",
     "output_type": "stream",
     "text": [
      "Epoch: 99, Train Loss: 1166.8778, \n",
      "Validation Loss: 468.5528\n"
     ]
    },
    {
     "name": "stderr",
     "output_type": "stream",
     "text": [
      "Epoch 100/1500: 100%|██████████| 1/1 [00:00<00:00, 22.34it/s]\n",
      "Epoch 101/1500: 100%|██████████| 1/1 [00:00<00:00, 22.06it/s]\n",
      "Validation: 100%|██████████| 1/1 [00:00<00:00, 29.34it/s]\n"
     ]
    },
    {
     "name": "stdout",
     "output_type": "stream",
     "text": [
      "Epoch: 101, Train Loss: 1079.0336, \n",
      "Validation Loss: 626.7549\n"
     ]
    },
    {
     "name": "stderr",
     "output_type": "stream",
     "text": [
      "Epoch 102/1500: 100%|██████████| 1/1 [00:00<00:00, 21.25it/s]\n",
      "Epoch 103/1500: 100%|██████████| 1/1 [00:00<00:00, 22.44it/s]\n",
      "Validation: 100%|██████████| 1/1 [00:00<00:00, 28.90it/s]\n"
     ]
    },
    {
     "name": "stdout",
     "output_type": "stream",
     "text": [
      "Epoch: 103, Train Loss: 1277.5206, \n",
      "Validation Loss: 605.6304\n"
     ]
    },
    {
     "name": "stderr",
     "output_type": "stream",
     "text": [
      "Epoch 104/1500: 100%|██████████| 1/1 [00:00<00:00, 22.91it/s]\n",
      "Epoch 105/1500: 100%|██████████| 1/1 [00:00<00:00, 22.89it/s]\n",
      "Validation: 100%|██████████| 1/1 [00:00<00:00, 28.75it/s]\n"
     ]
    },
    {
     "name": "stdout",
     "output_type": "stream",
     "text": [
      "Epoch: 105, Train Loss: 629.9239, \n",
      "Validation Loss: 596.6104\n"
     ]
    },
    {
     "name": "stderr",
     "output_type": "stream",
     "text": [
      "Epoch 106/1500: 100%|██████████| 1/1 [00:00<00:00, 20.55it/s]\n",
      "Epoch 107/1500: 100%|██████████| 1/1 [00:00<00:00, 20.45it/s]\n",
      "Validation: 100%|██████████| 1/1 [00:00<00:00, 26.30it/s]\n"
     ]
    },
    {
     "name": "stdout",
     "output_type": "stream",
     "text": [
      "Epoch: 107, Train Loss: 791.7526, \n",
      "Validation Loss: 525.7621\n"
     ]
    },
    {
     "name": "stderr",
     "output_type": "stream",
     "text": [
      "Epoch 108/1500: 100%|██████████| 1/1 [00:00<00:00, 22.49it/s]\n",
      "Epoch 109/1500: 100%|██████████| 1/1 [00:00<00:00, 22.95it/s]\n",
      "Validation: 100%|██████████| 1/1 [00:00<00:00, 28.80it/s]\n"
     ]
    },
    {
     "name": "stdout",
     "output_type": "stream",
     "text": [
      "Epoch: 109, Train Loss: 1557.4181, \n",
      "Validation Loss: 469.5456\n"
     ]
    },
    {
     "name": "stderr",
     "output_type": "stream",
     "text": [
      "Epoch 110/1500: 100%|██████████| 1/1 [00:00<00:00, 23.00it/s]\n",
      "Epoch 111/1500: 100%|██████████| 1/1 [00:00<00:00, 23.08it/s]\n",
      "Validation: 100%|██████████| 1/1 [00:00<00:00, 28.79it/s]\n"
     ]
    },
    {
     "name": "stdout",
     "output_type": "stream",
     "text": [
      "Epoch: 111, Train Loss: 709.9991, \n",
      "Validation Loss: 393.1409\n"
     ]
    },
    {
     "name": "stderr",
     "output_type": "stream",
     "text": [
      "Epoch 112/1500: 100%|██████████| 1/1 [00:00<00:00, 23.09it/s]\n",
      "Epoch 113/1500: 100%|██████████| 1/1 [00:00<00:00, 23.10it/s]\n",
      "Validation: 100%|██████████| 1/1 [00:00<00:00, 28.85it/s]\n"
     ]
    },
    {
     "name": "stdout",
     "output_type": "stream",
     "text": [
      "Epoch: 113, Train Loss: 687.3845, \n",
      "Validation Loss: 366.3892\n"
     ]
    },
    {
     "name": "stderr",
     "output_type": "stream",
     "text": [
      "Epoch 114/1500: 100%|██████████| 1/1 [00:00<00:00, 23.00it/s]\n",
      "Epoch 115/1500: 100%|██████████| 1/1 [00:00<00:00, 22.54it/s]\n",
      "Validation: 100%|██████████| 1/1 [00:00<00:00, 29.19it/s]\n"
     ]
    },
    {
     "name": "stdout",
     "output_type": "stream",
     "text": [
      "Epoch: 115, Train Loss: 994.4653, \n",
      "Validation Loss: 396.0573\n"
     ]
    },
    {
     "name": "stderr",
     "output_type": "stream",
     "text": [
      "Epoch 116/1500: 100%|██████████| 1/1 [00:00<00:00, 22.92it/s]\n",
      "Epoch 117/1500: 100%|██████████| 1/1 [00:00<00:00, 22.83it/s]\n",
      "Validation: 100%|██████████| 1/1 [00:00<00:00, 28.73it/s]\n"
     ]
    },
    {
     "name": "stdout",
     "output_type": "stream",
     "text": [
      "Epoch: 117, Train Loss: 578.7438, \n",
      "Validation Loss: 371.0755\n"
     ]
    },
    {
     "name": "stderr",
     "output_type": "stream",
     "text": [
      "Epoch 118/1500: 100%|██████████| 1/1 [00:00<00:00, 22.82it/s]\n",
      "Epoch 119/1500: 100%|██████████| 1/1 [00:00<00:00, 22.92it/s]\n",
      "Validation: 100%|██████████| 1/1 [00:00<00:00, 28.51it/s]\n"
     ]
    },
    {
     "name": "stdout",
     "output_type": "stream",
     "text": [
      "Epoch: 119, Train Loss: 877.8632, \n",
      "Validation Loss: 276.7988\n"
     ]
    },
    {
     "name": "stderr",
     "output_type": "stream",
     "text": [
      "Epoch 120/1500: 100%|██████████| 1/1 [00:00<00:00, 21.54it/s]\n",
      "Epoch 121/1500: 100%|██████████| 1/1 [00:00<00:00, 22.23it/s]\n",
      "Validation: 100%|██████████| 1/1 [00:00<00:00, 26.88it/s]\n"
     ]
    },
    {
     "name": "stdout",
     "output_type": "stream",
     "text": [
      "Epoch: 121, Train Loss: 767.6492, \n",
      "Validation Loss: 397.9758\n"
     ]
    },
    {
     "name": "stderr",
     "output_type": "stream",
     "text": [
      "Epoch 122/1500: 100%|██████████| 1/1 [00:00<00:00, 22.32it/s]\n",
      "Epoch 123/1500: 100%|██████████| 1/1 [00:00<00:00, 23.12it/s]\n",
      "Validation: 100%|██████████| 1/1 [00:00<00:00, 28.52it/s]\n"
     ]
    },
    {
     "name": "stdout",
     "output_type": "stream",
     "text": [
      "Epoch: 123, Train Loss: 677.4364, \n",
      "Validation Loss: 473.6188\n"
     ]
    },
    {
     "name": "stderr",
     "output_type": "stream",
     "text": [
      "Epoch 124/1500: 100%|██████████| 1/1 [00:00<00:00, 23.18it/s]\n",
      "Epoch 125/1500: 100%|██████████| 1/1 [00:00<00:00, 19.13it/s]\n",
      "Validation: 100%|██████████| 1/1 [00:00<00:00, 29.27it/s]\n"
     ]
    },
    {
     "name": "stdout",
     "output_type": "stream",
     "text": [
      "Epoch: 125, Train Loss: 721.1340, \n",
      "Validation Loss: 467.6437\n"
     ]
    },
    {
     "name": "stderr",
     "output_type": "stream",
     "text": [
      "Epoch 126/1500: 100%|██████████| 1/1 [00:00<00:00, 22.17it/s]\n",
      "Epoch 127/1500: 100%|██████████| 1/1 [00:00<00:00, 22.44it/s]\n",
      "Validation: 100%|██████████| 1/1 [00:00<00:00, 28.55it/s]\n"
     ]
    },
    {
     "name": "stdout",
     "output_type": "stream",
     "text": [
      "Epoch: 127, Train Loss: 850.6649, \n",
      "Validation Loss: 762.7632\n"
     ]
    },
    {
     "name": "stderr",
     "output_type": "stream",
     "text": [
      "Epoch 128/1500: 100%|██████████| 1/1 [00:00<00:00, 21.26it/s]\n",
      "Epoch 129/1500: 100%|██████████| 1/1 [00:00<00:00, 23.28it/s]\n",
      "Validation: 100%|██████████| 1/1 [00:00<00:00, 28.98it/s]\n"
     ]
    },
    {
     "name": "stdout",
     "output_type": "stream",
     "text": [
      "Epoch: 129, Train Loss: 701.2953, \n",
      "Validation Loss: 707.5036\n"
     ]
    },
    {
     "name": "stderr",
     "output_type": "stream",
     "text": [
      "Epoch 130/1500: 100%|██████████| 1/1 [00:00<00:00, 22.82it/s]\n",
      "Epoch 131/1500: 100%|██████████| 1/1 [00:00<00:00, 23.15it/s]\n",
      "Validation: 100%|██████████| 1/1 [00:00<00:00, 28.08it/s]\n"
     ]
    },
    {
     "name": "stdout",
     "output_type": "stream",
     "text": [
      "Epoch: 131, Train Loss: 705.1496, \n",
      "Validation Loss: 381.2495\n"
     ]
    },
    {
     "name": "stderr",
     "output_type": "stream",
     "text": [
      "Epoch 132/1500: 100%|██████████| 1/1 [00:00<00:00, 22.91it/s]\n",
      "Epoch 133/1500: 100%|██████████| 1/1 [00:00<00:00, 22.52it/s]\n",
      "Validation: 100%|██████████| 1/1 [00:00<00:00, 28.74it/s]\n"
     ]
    },
    {
     "name": "stdout",
     "output_type": "stream",
     "text": [
      "Epoch: 133, Train Loss: 871.4245, \n",
      "Validation Loss: 406.8266\n"
     ]
    },
    {
     "name": "stderr",
     "output_type": "stream",
     "text": [
      "Epoch 134/1500: 100%|██████████| 1/1 [00:00<00:00, 22.70it/s]\n",
      "Epoch 135/1500: 100%|██████████| 1/1 [00:00<00:00, 23.09it/s]\n",
      "Validation: 100%|██████████| 1/1 [00:00<00:00, 28.47it/s]\n"
     ]
    },
    {
     "name": "stdout",
     "output_type": "stream",
     "text": [
      "Epoch: 135, Train Loss: 898.5510, \n",
      "Validation Loss: 556.3313\n"
     ]
    },
    {
     "name": "stderr",
     "output_type": "stream",
     "text": [
      "Epoch 136/1500: 100%|██████████| 1/1 [00:00<00:00, 23.34it/s]\n",
      "Epoch 137/1500: 100%|██████████| 1/1 [00:00<00:00, 22.52it/s]\n",
      "Validation: 100%|██████████| 1/1 [00:00<00:00, 28.98it/s]\n"
     ]
    },
    {
     "name": "stdout",
     "output_type": "stream",
     "text": [
      "Epoch: 137, Train Loss: 656.8337, \n",
      "Validation Loss: 354.3314\n"
     ]
    },
    {
     "name": "stderr",
     "output_type": "stream",
     "text": [
      "Epoch 138/1500: 100%|██████████| 1/1 [00:00<00:00, 23.12it/s]\n",
      "Epoch 139/1500: 100%|██████████| 1/1 [00:00<00:00, 23.50it/s]\n",
      "Validation: 100%|██████████| 1/1 [00:00<00:00, 29.06it/s]\n"
     ]
    },
    {
     "name": "stdout",
     "output_type": "stream",
     "text": [
      "Epoch: 139, Train Loss: 786.1060, \n",
      "Validation Loss: 401.2899\n"
     ]
    },
    {
     "name": "stderr",
     "output_type": "stream",
     "text": [
      "Epoch 140/1500: 100%|██████████| 1/1 [00:00<00:00, 22.40it/s]\n",
      "Epoch 141/1500: 100%|██████████| 1/1 [00:00<00:00, 23.15it/s]\n",
      "Validation: 100%|██████████| 1/1 [00:00<00:00, 28.78it/s]\n"
     ]
    },
    {
     "name": "stdout",
     "output_type": "stream",
     "text": [
      "Epoch: 141, Train Loss: 1169.1046, \n",
      "Validation Loss: 491.6539\n"
     ]
    },
    {
     "name": "stderr",
     "output_type": "stream",
     "text": [
      "Epoch 142/1500: 100%|██████████| 1/1 [00:00<00:00, 22.89it/s]\n",
      "Epoch 143/1500: 100%|██████████| 1/1 [00:00<00:00, 23.00it/s]\n",
      "Validation: 100%|██████████| 1/1 [00:00<00:00, 28.46it/s]\n"
     ]
    },
    {
     "name": "stdout",
     "output_type": "stream",
     "text": [
      "Epoch: 143, Train Loss: 662.0229, \n",
      "Validation Loss: 335.8905\n"
     ]
    },
    {
     "name": "stderr",
     "output_type": "stream",
     "text": [
      "Epoch 144/1500: 100%|██████████| 1/1 [00:00<00:00, 21.42it/s]\n",
      "Epoch 145/1500: 100%|██████████| 1/1 [00:00<00:00, 20.94it/s]\n",
      "Validation: 100%|██████████| 1/1 [00:00<00:00, 28.23it/s]\n"
     ]
    },
    {
     "name": "stdout",
     "output_type": "stream",
     "text": [
      "Epoch: 145, Train Loss: 417.5398, \n",
      "Validation Loss: 400.8795\n"
     ]
    },
    {
     "name": "stderr",
     "output_type": "stream",
     "text": [
      "Epoch 146/1500: 100%|██████████| 1/1 [00:00<00:00, 22.45it/s]\n",
      "Epoch 147/1500: 100%|██████████| 1/1 [00:00<00:00, 21.89it/s]\n",
      "Validation: 100%|██████████| 1/1 [00:00<00:00, 28.99it/s]\n"
     ]
    },
    {
     "name": "stdout",
     "output_type": "stream",
     "text": [
      "Epoch: 147, Train Loss: 816.3454, \n",
      "Validation Loss: 422.2071\n"
     ]
    },
    {
     "name": "stderr",
     "output_type": "stream",
     "text": [
      "Epoch 148/1500: 100%|██████████| 1/1 [00:00<00:00, 22.83it/s]\n",
      "Epoch 149/1500: 100%|██████████| 1/1 [00:00<00:00, 21.94it/s]\n",
      "Validation: 100%|██████████| 1/1 [00:00<00:00, 28.00it/s]\n"
     ]
    },
    {
     "name": "stdout",
     "output_type": "stream",
     "text": [
      "Epoch: 149, Train Loss: 763.8917, \n",
      "Validation Loss: 679.5264\n"
     ]
    },
    {
     "name": "stderr",
     "output_type": "stream",
     "text": [
      "Epoch 150/1500: 100%|██████████| 1/1 [00:00<00:00, 21.21it/s]\n",
      "Epoch 151/1500: 100%|██████████| 1/1 [00:00<00:00, 22.58it/s]\n",
      "Validation: 100%|██████████| 1/1 [00:00<00:00, 27.93it/s]\n"
     ]
    },
    {
     "name": "stdout",
     "output_type": "stream",
     "text": [
      "Epoch: 151, Train Loss: 594.5745, \n",
      "Validation Loss: 307.0282\n"
     ]
    },
    {
     "name": "stderr",
     "output_type": "stream",
     "text": [
      "Epoch 152/1500: 100%|██████████| 1/1 [00:00<00:00, 21.88it/s]\n",
      "Epoch 153/1500: 100%|██████████| 1/1 [00:00<00:00, 22.92it/s]\n",
      "Validation: 100%|██████████| 1/1 [00:00<00:00, 28.06it/s]\n"
     ]
    },
    {
     "name": "stdout",
     "output_type": "stream",
     "text": [
      "Epoch: 153, Train Loss: 495.8856, \n",
      "Validation Loss: 488.3217\n"
     ]
    },
    {
     "name": "stderr",
     "output_type": "stream",
     "text": [
      "Epoch 154/1500: 100%|██████████| 1/1 [00:00<00:00, 21.30it/s]\n",
      "Epoch 155/1500: 100%|██████████| 1/1 [00:00<00:00, 23.58it/s]\n",
      "Validation: 100%|██████████| 1/1 [00:00<00:00, 28.90it/s]\n"
     ]
    },
    {
     "name": "stdout",
     "output_type": "stream",
     "text": [
      "Epoch: 155, Train Loss: 759.5323, \n",
      "Validation Loss: 263.9652\n"
     ]
    },
    {
     "name": "stderr",
     "output_type": "stream",
     "text": [
      "Epoch 156/1500: 100%|██████████| 1/1 [00:00<00:00, 23.27it/s]\n",
      "Epoch 157/1500: 100%|██████████| 1/1 [00:00<00:00, 22.73it/s]\n",
      "Validation: 100%|██████████| 1/1 [00:00<00:00, 27.98it/s]\n"
     ]
    },
    {
     "name": "stdout",
     "output_type": "stream",
     "text": [
      "Epoch: 157, Train Loss: 436.9501, \n",
      "Validation Loss: 437.9583\n"
     ]
    },
    {
     "name": "stderr",
     "output_type": "stream",
     "text": [
      "Epoch 158/1500: 100%|██████████| 1/1 [00:00<00:00, 21.87it/s]\n",
      "Epoch 159/1500: 100%|██████████| 1/1 [00:00<00:00, 23.47it/s]\n",
      "Validation: 100%|██████████| 1/1 [00:00<00:00, 28.75it/s]\n"
     ]
    },
    {
     "name": "stdout",
     "output_type": "stream",
     "text": [
      "Epoch: 159, Train Loss: 443.6670, \n",
      "Validation Loss: 336.1490\n"
     ]
    },
    {
     "name": "stderr",
     "output_type": "stream",
     "text": [
      "Epoch 160/1500: 100%|██████████| 1/1 [00:00<00:00, 22.58it/s]\n",
      "Epoch 161/1500: 100%|██████████| 1/1 [00:00<00:00, 22.29it/s]\n",
      "Validation: 100%|██████████| 1/1 [00:00<00:00, 28.09it/s]\n"
     ]
    },
    {
     "name": "stdout",
     "output_type": "stream",
     "text": [
      "Epoch: 161, Train Loss: 701.8143, \n",
      "Validation Loss: 196.5421\n"
     ]
    },
    {
     "name": "stderr",
     "output_type": "stream",
     "text": [
      "Epoch 162/1500: 100%|██████████| 1/1 [00:00<00:00, 21.61it/s]\n",
      "Epoch 163/1500: 100%|██████████| 1/1 [00:00<00:00, 22.11it/s]\n",
      "Validation: 100%|██████████| 1/1 [00:00<00:00, 24.12it/s]\n"
     ]
    },
    {
     "name": "stdout",
     "output_type": "stream",
     "text": [
      "Epoch: 163, Train Loss: 610.9031, \n",
      "Validation Loss: 200.9121\n"
     ]
    },
    {
     "name": "stderr",
     "output_type": "stream",
     "text": [
      "Epoch 164/1500: 100%|██████████| 1/1 [00:00<00:00, 22.28it/s]\n",
      "Epoch 165/1500: 100%|██████████| 1/1 [00:00<00:00, 22.51it/s]\n",
      "Validation: 100%|██████████| 1/1 [00:00<00:00, 28.96it/s]\n"
     ]
    },
    {
     "name": "stdout",
     "output_type": "stream",
     "text": [
      "Epoch: 165, Train Loss: 646.1401, \n",
      "Validation Loss: 200.4437\n"
     ]
    },
    {
     "name": "stderr",
     "output_type": "stream",
     "text": [
      "Epoch 166/1500: 100%|██████████| 1/1 [00:00<00:00, 21.85it/s]\n",
      "Epoch 167/1500: 100%|██████████| 1/1 [00:00<00:00, 23.34it/s]\n",
      "Validation: 100%|██████████| 1/1 [00:00<00:00, 28.88it/s]\n"
     ]
    },
    {
     "name": "stdout",
     "output_type": "stream",
     "text": [
      "Epoch: 167, Train Loss: 477.8169, \n",
      "Validation Loss: 323.5558\n"
     ]
    },
    {
     "name": "stderr",
     "output_type": "stream",
     "text": [
      "Epoch 168/1500: 100%|██████████| 1/1 [00:00<00:00, 22.25it/s]\n",
      "Epoch 169/1500: 100%|██████████| 1/1 [00:00<00:00, 22.36it/s]\n",
      "Validation: 100%|██████████| 1/1 [00:00<00:00, 28.70it/s]\n"
     ]
    },
    {
     "name": "stdout",
     "output_type": "stream",
     "text": [
      "Epoch: 169, Train Loss: 808.7851, \n",
      "Validation Loss: 260.7501\n"
     ]
    },
    {
     "name": "stderr",
     "output_type": "stream",
     "text": [
      "Epoch 170/1500: 100%|██████████| 1/1 [00:00<00:00, 23.12it/s]\n",
      "Epoch 171/1500: 100%|██████████| 1/1 [00:00<00:00, 22.13it/s]\n",
      "Validation: 100%|██████████| 1/1 [00:00<00:00, 28.13it/s]\n"
     ]
    },
    {
     "name": "stdout",
     "output_type": "stream",
     "text": [
      "Epoch: 171, Train Loss: 586.6852, \n",
      "Validation Loss: 261.1642\n"
     ]
    },
    {
     "name": "stderr",
     "output_type": "stream",
     "text": [
      "Epoch 172/1500: 100%|██████████| 1/1 [00:00<00:00, 20.52it/s]\n",
      "Epoch 173/1500: 100%|██████████| 1/1 [00:00<00:00, 22.13it/s]\n",
      "Validation: 100%|██████████| 1/1 [00:00<00:00, 29.02it/s]\n"
     ]
    },
    {
     "name": "stdout",
     "output_type": "stream",
     "text": [
      "Epoch: 173, Train Loss: 405.6121, \n",
      "Validation Loss: 347.7574\n"
     ]
    },
    {
     "name": "stderr",
     "output_type": "stream",
     "text": [
      "Epoch 174/1500: 100%|██████████| 1/1 [00:00<00:00, 23.43it/s]\n",
      "Epoch 175/1500: 100%|██████████| 1/1 [00:00<00:00, 22.09it/s]\n",
      "Validation: 100%|██████████| 1/1 [00:00<00:00, 26.64it/s]\n"
     ]
    },
    {
     "name": "stdout",
     "output_type": "stream",
     "text": [
      "Epoch: 175, Train Loss: 434.2279, \n",
      "Validation Loss: 567.3433\n"
     ]
    },
    {
     "name": "stderr",
     "output_type": "stream",
     "text": [
      "Epoch 176/1500: 100%|██████████| 1/1 [00:00<00:00, 20.28it/s]\n",
      "Epoch 177/1500: 100%|██████████| 1/1 [00:00<00:00, 20.90it/s]\n",
      "Validation: 100%|██████████| 1/1 [00:00<00:00, 28.54it/s]\n"
     ]
    },
    {
     "name": "stdout",
     "output_type": "stream",
     "text": [
      "Epoch: 177, Train Loss: 559.0934, \n",
      "Validation Loss: 168.6228\n"
     ]
    },
    {
     "name": "stderr",
     "output_type": "stream",
     "text": [
      "Epoch 178/1500: 100%|██████████| 1/1 [00:00<00:00, 20.97it/s]\n",
      "Epoch 179/1500: 100%|██████████| 1/1 [00:00<00:00, 21.74it/s]\n",
      "Validation: 100%|██████████| 1/1 [00:00<00:00, 27.31it/s]\n"
     ]
    },
    {
     "name": "stdout",
     "output_type": "stream",
     "text": [
      "Epoch: 179, Train Loss: 482.0408, \n",
      "Validation Loss: 224.7690\n"
     ]
    },
    {
     "name": "stderr",
     "output_type": "stream",
     "text": [
      "Epoch 180/1500: 100%|██████████| 1/1 [00:00<00:00, 22.43it/s]\n",
      "Epoch 181/1500: 100%|██████████| 1/1 [00:00<00:00, 23.47it/s]\n",
      "Validation: 100%|██████████| 1/1 [00:00<00:00, 25.85it/s]\n"
     ]
    },
    {
     "name": "stdout",
     "output_type": "stream",
     "text": [
      "Epoch: 181, Train Loss: 479.9112, \n",
      "Validation Loss: 257.7485\n"
     ]
    },
    {
     "name": "stderr",
     "output_type": "stream",
     "text": [
      "Epoch 182/1500: 100%|██████████| 1/1 [00:00<00:00, 22.46it/s]\n",
      "Epoch 183/1500: 100%|██████████| 1/1 [00:00<00:00, 22.00it/s]\n",
      "Validation: 100%|██████████| 1/1 [00:00<00:00, 27.53it/s]\n"
     ]
    },
    {
     "name": "stdout",
     "output_type": "stream",
     "text": [
      "Epoch: 183, Train Loss: 770.5491, \n",
      "Validation Loss: 317.0403\n"
     ]
    },
    {
     "name": "stderr",
     "output_type": "stream",
     "text": [
      "Epoch 184/1500: 100%|██████████| 1/1 [00:00<00:00, 21.41it/s]\n",
      "Epoch 185/1500: 100%|██████████| 1/1 [00:00<00:00, 22.38it/s]\n",
      "Validation: 100%|██████████| 1/1 [00:00<00:00, 26.89it/s]\n"
     ]
    },
    {
     "name": "stdout",
     "output_type": "stream",
     "text": [
      "Epoch: 185, Train Loss: 771.5760, \n",
      "Validation Loss: 325.2460\n"
     ]
    },
    {
     "name": "stderr",
     "output_type": "stream",
     "text": [
      "Epoch 186/1500: 100%|██████████| 1/1 [00:00<00:00, 22.85it/s]\n",
      "Epoch 187/1500: 100%|██████████| 1/1 [00:00<00:00, 22.83it/s]\n",
      "Validation: 100%|██████████| 1/1 [00:00<00:00, 28.65it/s]\n"
     ]
    },
    {
     "name": "stdout",
     "output_type": "stream",
     "text": [
      "Epoch: 187, Train Loss: 344.0194, \n",
      "Validation Loss: 481.9766\n"
     ]
    },
    {
     "name": "stderr",
     "output_type": "stream",
     "text": [
      "Epoch 188/1500: 100%|██████████| 1/1 [00:00<00:00, 19.53it/s]\n",
      "Epoch 189/1500: 100%|██████████| 1/1 [00:00<00:00, 22.29it/s]\n",
      "Validation: 100%|██████████| 1/1 [00:00<00:00, 28.23it/s]\n"
     ]
    },
    {
     "name": "stdout",
     "output_type": "stream",
     "text": [
      "Epoch: 189, Train Loss: 559.9584, \n",
      "Validation Loss: 543.8614\n"
     ]
    },
    {
     "name": "stderr",
     "output_type": "stream",
     "text": [
      "Epoch 190/1500: 100%|██████████| 1/1 [00:00<00:00, 21.29it/s]\n",
      "Epoch 191/1500: 100%|██████████| 1/1 [00:00<00:00, 23.15it/s]\n",
      "Validation: 100%|██████████| 1/1 [00:00<00:00, 28.47it/s]\n"
     ]
    },
    {
     "name": "stdout",
     "output_type": "stream",
     "text": [
      "Epoch: 191, Train Loss: 570.3106, \n",
      "Validation Loss: 313.4058\n"
     ]
    },
    {
     "name": "stderr",
     "output_type": "stream",
     "text": [
      "Epoch 192/1500: 100%|██████████| 1/1 [00:00<00:00, 22.23it/s]\n",
      "Epoch 193/1500: 100%|██████████| 1/1 [00:00<00:00, 22.27it/s]\n",
      "Validation: 100%|██████████| 1/1 [00:00<00:00, 28.54it/s]\n"
     ]
    },
    {
     "name": "stdout",
     "output_type": "stream",
     "text": [
      "Epoch: 193, Train Loss: 499.5817, \n",
      "Validation Loss: 316.6576\n"
     ]
    },
    {
     "name": "stderr",
     "output_type": "stream",
     "text": [
      "Epoch 194/1500: 100%|██████████| 1/1 [00:00<00:00, 21.29it/s]\n",
      "Epoch 195/1500: 100%|██████████| 1/1 [00:00<00:00, 23.27it/s]\n",
      "Validation: 100%|██████████| 1/1 [00:00<00:00, 28.98it/s]\n"
     ]
    },
    {
     "name": "stdout",
     "output_type": "stream",
     "text": [
      "Epoch: 195, Train Loss: 710.7235, \n",
      "Validation Loss: 442.6450\n"
     ]
    },
    {
     "name": "stderr",
     "output_type": "stream",
     "text": [
      "Epoch 196/1500: 100%|██████████| 1/1 [00:00<00:00, 22.18it/s]\n",
      "Epoch 197/1500: 100%|██████████| 1/1 [00:00<00:00, 23.00it/s]\n",
      "Validation: 100%|██████████| 1/1 [00:00<00:00, 28.83it/s]\n"
     ]
    },
    {
     "name": "stdout",
     "output_type": "stream",
     "text": [
      "Epoch: 197, Train Loss: 481.3991, \n",
      "Validation Loss: 300.7025\n"
     ]
    },
    {
     "name": "stderr",
     "output_type": "stream",
     "text": [
      "Epoch 198/1500: 100%|██████████| 1/1 [00:00<00:00, 22.05it/s]\n",
      "Epoch 199/1500: 100%|██████████| 1/1 [00:00<00:00, 22.98it/s]\n",
      "Validation: 100%|██████████| 1/1 [00:00<00:00, 28.36it/s]\n"
     ]
    },
    {
     "name": "stdout",
     "output_type": "stream",
     "text": [
      "Epoch: 199, Train Loss: 425.8632, \n",
      "Validation Loss: 242.3472\n"
     ]
    },
    {
     "name": "stderr",
     "output_type": "stream",
     "text": [
      "Epoch 200/1500: 100%|██████████| 1/1 [00:00<00:00, 22.94it/s]\n",
      "Epoch 201/1500: 100%|██████████| 1/1 [00:00<00:00, 22.35it/s]\n",
      "Validation: 100%|██████████| 1/1 [00:00<00:00, 28.46it/s]\n"
     ]
    },
    {
     "name": "stdout",
     "output_type": "stream",
     "text": [
      "Epoch: 201, Train Loss: 590.0483, \n",
      "Validation Loss: 236.1761\n"
     ]
    },
    {
     "name": "stderr",
     "output_type": "stream",
     "text": [
      "Epoch 202/1500: 100%|██████████| 1/1 [00:00<00:00, 22.83it/s]\n",
      "Epoch 203/1500: 100%|██████████| 1/1 [00:00<00:00, 21.42it/s]\n",
      "Validation: 100%|██████████| 1/1 [00:00<00:00, 26.60it/s]\n"
     ]
    },
    {
     "name": "stdout",
     "output_type": "stream",
     "text": [
      "Epoch: 203, Train Loss: 482.8706, \n",
      "Validation Loss: 190.2432\n"
     ]
    },
    {
     "name": "stderr",
     "output_type": "stream",
     "text": [
      "Epoch 204/1500: 100%|██████████| 1/1 [00:00<00:00, 22.84it/s]\n",
      "Epoch 205/1500: 100%|██████████| 1/1 [00:00<00:00, 19.79it/s]\n",
      "Validation: 100%|██████████| 1/1 [00:00<00:00, 27.29it/s]\n"
     ]
    },
    {
     "name": "stdout",
     "output_type": "stream",
     "text": [
      "Epoch: 205, Train Loss: 340.3602, \n",
      "Validation Loss: 171.5280\n"
     ]
    },
    {
     "name": "stderr",
     "output_type": "stream",
     "text": [
      "Epoch 206/1500: 100%|██████████| 1/1 [00:00<00:00, 22.27it/s]\n",
      "Epoch 207/1500: 100%|██████████| 1/1 [00:00<00:00, 22.05it/s]\n",
      "Validation: 100%|██████████| 1/1 [00:00<00:00, 27.14it/s]\n"
     ]
    },
    {
     "name": "stdout",
     "output_type": "stream",
     "text": [
      "Epoch: 207, Train Loss: 248.5060, \n",
      "Validation Loss: 213.8273\n"
     ]
    },
    {
     "name": "stderr",
     "output_type": "stream",
     "text": [
      "Epoch 208/1500: 100%|██████████| 1/1 [00:00<00:00, 22.76it/s]\n",
      "Epoch 209/1500: 100%|██████████| 1/1 [00:00<00:00, 23.74it/s]\n",
      "Validation: 100%|██████████| 1/1 [00:00<00:00, 28.93it/s]\n"
     ]
    },
    {
     "name": "stdout",
     "output_type": "stream",
     "text": [
      "Epoch: 209, Train Loss: 720.1095, \n",
      "Validation Loss: 331.2574\n"
     ]
    },
    {
     "name": "stderr",
     "output_type": "stream",
     "text": [
      "Epoch 210/1500: 100%|██████████| 1/1 [00:00<00:00, 21.73it/s]\n",
      "Epoch 211/1500: 100%|██████████| 1/1 [00:00<00:00, 23.01it/s]\n",
      "Validation: 100%|██████████| 1/1 [00:00<00:00, 28.61it/s]\n"
     ]
    },
    {
     "name": "stdout",
     "output_type": "stream",
     "text": [
      "Epoch: 211, Train Loss: 574.4913, \n",
      "Validation Loss: 213.5500\n"
     ]
    },
    {
     "name": "stderr",
     "output_type": "stream",
     "text": [
      "Epoch 212/1500: 100%|██████████| 1/1 [00:00<00:00, 21.75it/s]\n",
      "Epoch 213/1500: 100%|██████████| 1/1 [00:00<00:00, 22.58it/s]\n",
      "Validation: 100%|██████████| 1/1 [00:00<00:00, 28.68it/s]\n"
     ]
    },
    {
     "name": "stdout",
     "output_type": "stream",
     "text": [
      "Epoch: 213, Train Loss: 320.6468, \n",
      "Validation Loss: 250.0083\n"
     ]
    },
    {
     "name": "stderr",
     "output_type": "stream",
     "text": [
      "Epoch 214/1500: 100%|██████████| 1/1 [00:00<00:00, 21.59it/s]\n",
      "Epoch 215/1500: 100%|██████████| 1/1 [00:00<00:00, 21.76it/s]\n",
      "Validation: 100%|██████████| 1/1 [00:00<00:00, 28.38it/s]\n"
     ]
    },
    {
     "name": "stdout",
     "output_type": "stream",
     "text": [
      "Epoch: 215, Train Loss: 565.5614, \n",
      "Validation Loss: 288.3991\n"
     ]
    },
    {
     "name": "stderr",
     "output_type": "stream",
     "text": [
      "Epoch 216/1500: 100%|██████████| 1/1 [00:00<00:00, 22.46it/s]\n",
      "Epoch 217/1500: 100%|██████████| 1/1 [00:00<00:00, 22.60it/s]\n",
      "Validation: 100%|██████████| 1/1 [00:00<00:00, 28.56it/s]\n"
     ]
    },
    {
     "name": "stdout",
     "output_type": "stream",
     "text": [
      "Epoch: 217, Train Loss: 556.7565, \n",
      "Validation Loss: 248.2946\n"
     ]
    },
    {
     "name": "stderr",
     "output_type": "stream",
     "text": [
      "Epoch 218/1500: 100%|██████████| 1/1 [00:00<00:00, 21.71it/s]\n",
      "Epoch 219/1500: 100%|██████████| 1/1 [00:00<00:00, 22.15it/s]\n",
      "Validation: 100%|██████████| 1/1 [00:00<00:00, 29.35it/s]\n"
     ]
    },
    {
     "name": "stdout",
     "output_type": "stream",
     "text": [
      "Epoch: 219, Train Loss: 427.8255, \n",
      "Validation Loss: 304.0048\n"
     ]
    },
    {
     "name": "stderr",
     "output_type": "stream",
     "text": [
      "Epoch 220/1500: 100%|██████████| 1/1 [00:00<00:00, 20.50it/s]\n",
      "Epoch 221/1500: 100%|██████████| 1/1 [00:00<00:00, 21.74it/s]\n",
      "Validation: 100%|██████████| 1/1 [00:00<00:00, 27.81it/s]\n"
     ]
    },
    {
     "name": "stdout",
     "output_type": "stream",
     "text": [
      "Epoch: 221, Train Loss: 671.8918, \n",
      "Validation Loss: 436.7235\n"
     ]
    },
    {
     "name": "stderr",
     "output_type": "stream",
     "text": [
      "Epoch 222/1500: 100%|██████████| 1/1 [00:00<00:00, 21.66it/s]\n",
      "Epoch 223/1500: 100%|██████████| 1/1 [00:00<00:00, 22.75it/s]\n",
      "Validation: 100%|██████████| 1/1 [00:00<00:00, 27.85it/s]\n"
     ]
    },
    {
     "name": "stdout",
     "output_type": "stream",
     "text": [
      "Epoch: 223, Train Loss: 484.4106, \n",
      "Validation Loss: 122.9919\n"
     ]
    },
    {
     "name": "stderr",
     "output_type": "stream",
     "text": [
      "Epoch 224/1500: 100%|██████████| 1/1 [00:00<00:00, 22.97it/s]\n",
      "Epoch 225/1500: 100%|██████████| 1/1 [00:00<00:00, 22.68it/s]\n",
      "Validation: 100%|██████████| 1/1 [00:00<00:00, 26.84it/s]\n"
     ]
    },
    {
     "name": "stdout",
     "output_type": "stream",
     "text": [
      "Epoch: 225, Train Loss: 515.5541, \n",
      "Validation Loss: 344.4710\n"
     ]
    },
    {
     "name": "stderr",
     "output_type": "stream",
     "text": [
      "Epoch 226/1500: 100%|██████████| 1/1 [00:00<00:00, 20.64it/s]\n",
      "Epoch 227/1500: 100%|██████████| 1/1 [00:00<00:00, 23.39it/s]\n",
      "Validation: 100%|██████████| 1/1 [00:00<00:00, 28.66it/s]\n"
     ]
    },
    {
     "name": "stdout",
     "output_type": "stream",
     "text": [
      "Epoch: 227, Train Loss: 351.4864, \n",
      "Validation Loss: 343.5012\n"
     ]
    },
    {
     "name": "stderr",
     "output_type": "stream",
     "text": [
      "Epoch 228/1500: 100%|██████████| 1/1 [00:00<00:00, 22.18it/s]\n",
      "Epoch 229/1500: 100%|██████████| 1/1 [00:00<00:00, 23.05it/s]\n",
      "Validation: 100%|██████████| 1/1 [00:00<00:00, 26.82it/s]\n"
     ]
    },
    {
     "name": "stdout",
     "output_type": "stream",
     "text": [
      "Epoch: 229, Train Loss: 415.6261, \n",
      "Validation Loss: 209.7199\n"
     ]
    },
    {
     "name": "stderr",
     "output_type": "stream",
     "text": [
      "Epoch 230/1500: 100%|██████████| 1/1 [00:00<00:00, 22.43it/s]\n",
      "Epoch 231/1500: 100%|██████████| 1/1 [00:00<00:00, 23.47it/s]\n",
      "Validation: 100%|██████████| 1/1 [00:00<00:00, 29.13it/s]\n"
     ]
    },
    {
     "name": "stdout",
     "output_type": "stream",
     "text": [
      "Epoch: 231, Train Loss: 684.1189, \n",
      "Validation Loss: 259.1517\n"
     ]
    },
    {
     "name": "stderr",
     "output_type": "stream",
     "text": [
      "Epoch 232/1500: 100%|██████████| 1/1 [00:00<00:00, 21.27it/s]\n",
      "Epoch 233/1500: 100%|██████████| 1/1 [00:00<00:00, 21.65it/s]\n",
      "Validation: 100%|██████████| 1/1 [00:00<00:00, 27.56it/s]\n"
     ]
    },
    {
     "name": "stdout",
     "output_type": "stream",
     "text": [
      "Epoch: 233, Train Loss: 360.3912, \n",
      "Validation Loss: 226.6844\n"
     ]
    },
    {
     "name": "stderr",
     "output_type": "stream",
     "text": [
      "Epoch 234/1500: 100%|██████████| 1/1 [00:00<00:00, 20.32it/s]\n",
      "Epoch 235/1500: 100%|██████████| 1/1 [00:00<00:00, 22.56it/s]\n",
      "Validation: 100%|██████████| 1/1 [00:00<00:00, 29.18it/s]\n"
     ]
    },
    {
     "name": "stdout",
     "output_type": "stream",
     "text": [
      "Epoch: 235, Train Loss: 719.4105, \n",
      "Validation Loss: 285.7287\n"
     ]
    },
    {
     "name": "stderr",
     "output_type": "stream",
     "text": [
      "Epoch 236/1500: 100%|██████████| 1/1 [00:00<00:00, 22.06it/s]\n",
      "Epoch 237/1500: 100%|██████████| 1/1 [00:00<00:00, 22.14it/s]\n",
      "Validation: 100%|██████████| 1/1 [00:00<00:00, 28.48it/s]\n"
     ]
    },
    {
     "name": "stdout",
     "output_type": "stream",
     "text": [
      "Epoch: 237, Train Loss: 714.6058, \n",
      "Validation Loss: 266.3533\n"
     ]
    },
    {
     "name": "stderr",
     "output_type": "stream",
     "text": [
      "Epoch 238/1500: 100%|██████████| 1/1 [00:00<00:00, 22.73it/s]\n",
      "Epoch 239/1500: 100%|██████████| 1/1 [00:00<00:00, 22.51it/s]\n",
      "Validation: 100%|██████████| 1/1 [00:00<00:00, 28.62it/s]\n"
     ]
    },
    {
     "name": "stdout",
     "output_type": "stream",
     "text": [
      "Epoch: 239, Train Loss: 345.5337, \n",
      "Validation Loss: 327.6546\n"
     ]
    },
    {
     "name": "stderr",
     "output_type": "stream",
     "text": [
      "Epoch 240/1500: 100%|██████████| 1/1 [00:00<00:00, 22.10it/s]\n",
      "Epoch 241/1500: 100%|██████████| 1/1 [00:00<00:00, 22.81it/s]\n",
      "Validation: 100%|██████████| 1/1 [00:00<00:00, 29.03it/s]\n"
     ]
    },
    {
     "name": "stdout",
     "output_type": "stream",
     "text": [
      "Epoch: 241, Train Loss: 534.4755, \n",
      "Validation Loss: 269.0925\n"
     ]
    },
    {
     "name": "stderr",
     "output_type": "stream",
     "text": [
      "Epoch 242/1500: 100%|██████████| 1/1 [00:00<00:00, 21.00it/s]\n",
      "Epoch 243/1500: 100%|██████████| 1/1 [00:00<00:00, 22.89it/s]\n",
      "Validation: 100%|██████████| 1/1 [00:00<00:00, 29.14it/s]\n"
     ]
    },
    {
     "name": "stdout",
     "output_type": "stream",
     "text": [
      "Epoch: 243, Train Loss: 329.6655, \n",
      "Validation Loss: 264.6187\n"
     ]
    },
    {
     "name": "stderr",
     "output_type": "stream",
     "text": [
      "Epoch 244/1500: 100%|██████████| 1/1 [00:00<00:00, 22.77it/s]\n",
      "Epoch 245/1500: 100%|██████████| 1/1 [00:00<00:00, 22.80it/s]\n",
      "Validation: 100%|██████████| 1/1 [00:00<00:00, 28.95it/s]\n"
     ]
    },
    {
     "name": "stdout",
     "output_type": "stream",
     "text": [
      "Epoch: 245, Train Loss: 470.2821, \n",
      "Validation Loss: 380.9253\n"
     ]
    },
    {
     "name": "stderr",
     "output_type": "stream",
     "text": [
      "Epoch 246/1500: 100%|██████████| 1/1 [00:00<00:00, 21.62it/s]\n",
      "Epoch 247/1500: 100%|██████████| 1/1 [00:00<00:00, 22.10it/s]\n",
      "Validation: 100%|██████████| 1/1 [00:00<00:00, 29.26it/s]\n"
     ]
    },
    {
     "name": "stdout",
     "output_type": "stream",
     "text": [
      "Epoch: 247, Train Loss: 595.2703, \n",
      "Validation Loss: 285.8182\n"
     ]
    },
    {
     "name": "stderr",
     "output_type": "stream",
     "text": [
      "Epoch 248/1500: 100%|██████████| 1/1 [00:00<00:00, 22.31it/s]\n",
      "Epoch 249/1500: 100%|██████████| 1/1 [00:00<00:00, 23.39it/s]\n",
      "Validation: 100%|██████████| 1/1 [00:00<00:00, 27.06it/s]\n"
     ]
    },
    {
     "name": "stdout",
     "output_type": "stream",
     "text": [
      "Epoch: 249, Train Loss: 517.7642, \n",
      "Validation Loss: 258.7377\n"
     ]
    },
    {
     "name": "stderr",
     "output_type": "stream",
     "text": [
      "Epoch 250/1500: 100%|██████████| 1/1 [00:00<00:00, 22.11it/s]\n",
      "Epoch 251/1500: 100%|██████████| 1/1 [00:00<00:00, 22.68it/s]\n",
      "Validation: 100%|██████████| 1/1 [00:00<00:00, 28.83it/s]\n"
     ]
    },
    {
     "name": "stdout",
     "output_type": "stream",
     "text": [
      "Epoch: 251, Train Loss: 378.6679, \n",
      "Validation Loss: 299.7900\n"
     ]
    },
    {
     "name": "stderr",
     "output_type": "stream",
     "text": [
      "Epoch 252/1500: 100%|██████████| 1/1 [00:00<00:00, 22.26it/s]\n",
      "Epoch 253/1500: 100%|██████████| 1/1 [00:00<00:00, 22.35it/s]\n",
      "Validation: 100%|██████████| 1/1 [00:00<00:00, 27.61it/s]\n"
     ]
    },
    {
     "name": "stdout",
     "output_type": "stream",
     "text": [
      "Epoch: 253, Train Loss: 349.8038, \n",
      "Validation Loss: 312.2193\n"
     ]
    },
    {
     "name": "stderr",
     "output_type": "stream",
     "text": [
      "Epoch 254/1500: 100%|██████████| 1/1 [00:00<00:00, 21.18it/s]\n",
      "Epoch 255/1500: 100%|██████████| 1/1 [00:00<00:00, 21.31it/s]\n",
      "Validation: 100%|██████████| 1/1 [00:00<00:00, 24.91it/s]\n"
     ]
    },
    {
     "name": "stdout",
     "output_type": "stream",
     "text": [
      "Epoch: 255, Train Loss: 672.3699, \n",
      "Validation Loss: 336.3246\n"
     ]
    },
    {
     "name": "stderr",
     "output_type": "stream",
     "text": [
      "Epoch 256/1500: 100%|██████████| 1/1 [00:00<00:00, 22.48it/s]\n",
      "Epoch 257/1500: 100%|██████████| 1/1 [00:00<00:00, 21.74it/s]\n",
      "Validation: 100%|██████████| 1/1 [00:00<00:00, 26.50it/s]\n"
     ]
    },
    {
     "name": "stdout",
     "output_type": "stream",
     "text": [
      "Epoch: 257, Train Loss: 237.1971, \n",
      "Validation Loss: 257.9439\n"
     ]
    },
    {
     "name": "stderr",
     "output_type": "stream",
     "text": [
      "Epoch 258/1500: 100%|██████████| 1/1 [00:00<00:00, 20.95it/s]\n",
      "Epoch 259/1500: 100%|██████████| 1/1 [00:00<00:00, 19.47it/s]\n",
      "Validation: 100%|██████████| 1/1 [00:00<00:00, 27.43it/s]\n"
     ]
    },
    {
     "name": "stdout",
     "output_type": "stream",
     "text": [
      "Epoch: 259, Train Loss: 519.3979, \n",
      "Validation Loss: 166.0172\n"
     ]
    },
    {
     "name": "stderr",
     "output_type": "stream",
     "text": [
      "Epoch 260/1500: 100%|██████████| 1/1 [00:00<00:00, 22.61it/s]\n",
      "Epoch 261/1500: 100%|██████████| 1/1 [00:00<00:00, 21.75it/s]\n",
      "Validation: 100%|██████████| 1/1 [00:00<00:00, 26.25it/s]\n"
     ]
    },
    {
     "name": "stdout",
     "output_type": "stream",
     "text": [
      "Epoch: 261, Train Loss: 674.5710, \n",
      "Validation Loss: 261.1259\n"
     ]
    },
    {
     "name": "stderr",
     "output_type": "stream",
     "text": [
      "Epoch 262/1500: 100%|██████████| 1/1 [00:00<00:00, 22.43it/s]\n",
      "Epoch 263/1500: 100%|██████████| 1/1 [00:00<00:00, 23.17it/s]\n",
      "Validation: 100%|██████████| 1/1 [00:00<00:00, 27.22it/s]\n"
     ]
    },
    {
     "name": "stdout",
     "output_type": "stream",
     "text": [
      "Epoch: 263, Train Loss: 355.8692, \n",
      "Validation Loss: 190.3511\n"
     ]
    },
    {
     "name": "stderr",
     "output_type": "stream",
     "text": [
      "Epoch 264/1500: 100%|██████████| 1/1 [00:00<00:00, 22.13it/s]\n",
      "Epoch 265/1500: 100%|██████████| 1/1 [00:00<00:00, 20.16it/s]\n",
      "Validation: 100%|██████████| 1/1 [00:00<00:00, 25.66it/s]\n"
     ]
    },
    {
     "name": "stdout",
     "output_type": "stream",
     "text": [
      "Epoch: 265, Train Loss: 329.7408, \n",
      "Validation Loss: 290.7341\n"
     ]
    },
    {
     "name": "stderr",
     "output_type": "stream",
     "text": [
      "Epoch 266/1500: 100%|██████████| 1/1 [00:00<00:00, 23.04it/s]\n",
      "Epoch 267/1500: 100%|██████████| 1/1 [00:00<00:00, 22.22it/s]\n",
      "Validation: 100%|██████████| 1/1 [00:00<00:00, 29.70it/s]\n"
     ]
    },
    {
     "name": "stdout",
     "output_type": "stream",
     "text": [
      "Epoch: 267, Train Loss: 279.9362, \n",
      "Validation Loss: 197.4521\n"
     ]
    },
    {
     "name": "stderr",
     "output_type": "stream",
     "text": [
      "Epoch 268/1500: 100%|██████████| 1/1 [00:00<00:00, 22.28it/s]\n",
      "Epoch 269/1500: 100%|██████████| 1/1 [00:00<00:00, 23.33it/s]\n",
      "Validation: 100%|██████████| 1/1 [00:00<00:00, 28.75it/s]\n"
     ]
    },
    {
     "name": "stdout",
     "output_type": "stream",
     "text": [
      "Epoch: 269, Train Loss: 405.6711, \n",
      "Validation Loss: 267.5451\n"
     ]
    },
    {
     "name": "stderr",
     "output_type": "stream",
     "text": [
      "Epoch 270/1500: 100%|██████████| 1/1 [00:00<00:00, 23.04it/s]\n",
      "Epoch 271/1500: 100%|██████████| 1/1 [00:00<00:00, 23.07it/s]\n",
      "Validation: 100%|██████████| 1/1 [00:00<00:00, 28.18it/s]\n"
     ]
    },
    {
     "name": "stdout",
     "output_type": "stream",
     "text": [
      "Epoch: 271, Train Loss: 411.8870, \n",
      "Validation Loss: 179.3143\n"
     ]
    },
    {
     "name": "stderr",
     "output_type": "stream",
     "text": [
      "Epoch 272/1500: 100%|██████████| 1/1 [00:00<00:00, 23.13it/s]\n",
      "Epoch 273/1500: 100%|██████████| 1/1 [00:00<00:00, 22.02it/s]\n",
      "Validation: 100%|██████████| 1/1 [00:00<00:00, 27.32it/s]\n"
     ]
    },
    {
     "name": "stdout",
     "output_type": "stream",
     "text": [
      "Epoch: 273, Train Loss: 338.9892, \n",
      "Validation Loss: 151.9432\n"
     ]
    },
    {
     "name": "stderr",
     "output_type": "stream",
     "text": [
      "Epoch 274/1500: 100%|██████████| 1/1 [00:00<00:00, 22.01it/s]\n",
      "Epoch 275/1500: 100%|██████████| 1/1 [00:00<00:00, 23.06it/s]\n",
      "Validation: 100%|██████████| 1/1 [00:00<00:00, 27.85it/s]\n"
     ]
    },
    {
     "name": "stdout",
     "output_type": "stream",
     "text": [
      "Epoch: 275, Train Loss: 268.1262, \n",
      "Validation Loss: 282.3896\n"
     ]
    },
    {
     "name": "stderr",
     "output_type": "stream",
     "text": [
      "Epoch 276/1500: 100%|██████████| 1/1 [00:00<00:00, 21.30it/s]\n",
      "Epoch 277/1500: 100%|██████████| 1/1 [00:00<00:00, 22.91it/s]\n",
      "Validation: 100%|██████████| 1/1 [00:00<00:00, 27.65it/s]\n"
     ]
    },
    {
     "name": "stdout",
     "output_type": "stream",
     "text": [
      "Epoch: 277, Train Loss: 243.5656, \n",
      "Validation Loss: 440.0619\n"
     ]
    },
    {
     "name": "stderr",
     "output_type": "stream",
     "text": [
      "Epoch 278/1500: 100%|██████████| 1/1 [00:00<00:00, 20.46it/s]\n",
      "Epoch 279/1500: 100%|██████████| 1/1 [00:00<00:00, 22.68it/s]\n",
      "Validation: 100%|██████████| 1/1 [00:00<00:00, 28.54it/s]\n"
     ]
    },
    {
     "name": "stdout",
     "output_type": "stream",
     "text": [
      "Epoch: 279, Train Loss: 332.3537, \n",
      "Validation Loss: 159.8345\n"
     ]
    },
    {
     "name": "stderr",
     "output_type": "stream",
     "text": [
      "Epoch 280/1500: 100%|██████████| 1/1 [00:00<00:00, 22.80it/s]\n",
      "Epoch 281/1500: 100%|██████████| 1/1 [00:00<00:00, 22.31it/s]\n",
      "Validation: 100%|██████████| 1/1 [00:00<00:00, 29.19it/s]\n"
     ]
    },
    {
     "name": "stdout",
     "output_type": "stream",
     "text": [
      "Epoch: 281, Train Loss: 280.3069, \n",
      "Validation Loss: 202.1622\n"
     ]
    },
    {
     "name": "stderr",
     "output_type": "stream",
     "text": [
      "Epoch 282/1500: 100%|██████████| 1/1 [00:00<00:00, 21.87it/s]\n",
      "Epoch 283/1500: 100%|██████████| 1/1 [00:00<00:00, 23.29it/s]\n",
      "Validation: 100%|██████████| 1/1 [00:00<00:00, 28.68it/s]\n"
     ]
    },
    {
     "name": "stdout",
     "output_type": "stream",
     "text": [
      "Epoch: 283, Train Loss: 546.9151, \n",
      "Validation Loss: 271.9153\n"
     ]
    },
    {
     "name": "stderr",
     "output_type": "stream",
     "text": [
      "Epoch 284/1500: 100%|██████████| 1/1 [00:00<00:00, 22.62it/s]\n",
      "Epoch 285/1500: 100%|██████████| 1/1 [00:00<00:00, 22.99it/s]\n",
      "Validation: 100%|██████████| 1/1 [00:00<00:00, 27.03it/s]\n"
     ]
    },
    {
     "name": "stdout",
     "output_type": "stream",
     "text": [
      "Epoch: 285, Train Loss: 385.7679, \n",
      "Validation Loss: 271.8709\n"
     ]
    },
    {
     "name": "stderr",
     "output_type": "stream",
     "text": [
      "Epoch 286/1500: 100%|██████████| 1/1 [00:00<00:00, 16.46it/s]\n",
      "Epoch 287/1500: 100%|██████████| 1/1 [00:00<00:00, 20.99it/s]\n",
      "Validation: 100%|██████████| 1/1 [00:00<00:00, 25.24it/s]\n"
     ]
    },
    {
     "name": "stdout",
     "output_type": "stream",
     "text": [
      "Epoch: 287, Train Loss: 404.4050, \n",
      "Validation Loss: 242.2914\n"
     ]
    },
    {
     "name": "stderr",
     "output_type": "stream",
     "text": [
      "Epoch 288/1500: 100%|██████████| 1/1 [00:00<00:00, 23.27it/s]\n",
      "Epoch 289/1500: 100%|██████████| 1/1 [00:00<00:00, 22.59it/s]\n",
      "Validation: 100%|██████████| 1/1 [00:00<00:00, 28.50it/s]\n"
     ]
    },
    {
     "name": "stdout",
     "output_type": "stream",
     "text": [
      "Epoch: 289, Train Loss: 432.4271, \n",
      "Validation Loss: 514.4141\n"
     ]
    },
    {
     "name": "stderr",
     "output_type": "stream",
     "text": [
      "Epoch 290/1500: 100%|██████████| 1/1 [00:00<00:00, 23.00it/s]\n",
      "Epoch 291/1500: 100%|██████████| 1/1 [00:00<00:00, 22.41it/s]\n",
      "Validation: 100%|██████████| 1/1 [00:00<00:00, 27.33it/s]\n"
     ]
    },
    {
     "name": "stdout",
     "output_type": "stream",
     "text": [
      "Epoch: 291, Train Loss: 350.5939, \n",
      "Validation Loss: 219.7209\n"
     ]
    },
    {
     "name": "stderr",
     "output_type": "stream",
     "text": [
      "Epoch 292/1500: 100%|██████████| 1/1 [00:00<00:00, 21.66it/s]\n",
      "Epoch 293/1500: 100%|██████████| 1/1 [00:00<00:00, 21.62it/s]\n",
      "Validation: 100%|██████████| 1/1 [00:00<00:00, 26.49it/s]\n"
     ]
    },
    {
     "name": "stdout",
     "output_type": "stream",
     "text": [
      "Epoch: 293, Train Loss: 438.2877, \n",
      "Validation Loss: 224.4341\n"
     ]
    },
    {
     "name": "stderr",
     "output_type": "stream",
     "text": [
      "Epoch 294/1500: 100%|██████████| 1/1 [00:00<00:00, 22.10it/s]\n",
      "Epoch 295/1500: 100%|██████████| 1/1 [00:00<00:00, 22.96it/s]\n",
      "Validation: 100%|██████████| 1/1 [00:00<00:00, 27.90it/s]\n"
     ]
    },
    {
     "name": "stdout",
     "output_type": "stream",
     "text": [
      "Epoch: 295, Train Loss: 399.0019, \n",
      "Validation Loss: 253.5489\n"
     ]
    },
    {
     "name": "stderr",
     "output_type": "stream",
     "text": [
      "Epoch 296/1500: 100%|██████████| 1/1 [00:00<00:00, 22.42it/s]\n",
      "Epoch 297/1500: 100%|██████████| 1/1 [00:00<00:00, 21.55it/s]\n",
      "Validation: 100%|██████████| 1/1 [00:00<00:00, 28.31it/s]\n"
     ]
    },
    {
     "name": "stdout",
     "output_type": "stream",
     "text": [
      "Epoch: 297, Train Loss: 319.4071, \n",
      "Validation Loss: 164.8226\n"
     ]
    },
    {
     "name": "stderr",
     "output_type": "stream",
     "text": [
      "Epoch 298/1500: 100%|██████████| 1/1 [00:00<00:00, 21.38it/s]\n",
      "Epoch 299/1500: 100%|██████████| 1/1 [00:00<00:00, 21.88it/s]\n",
      "Validation: 100%|██████████| 1/1 [00:00<00:00, 28.54it/s]\n"
     ]
    },
    {
     "name": "stdout",
     "output_type": "stream",
     "text": [
      "Epoch: 299, Train Loss: 497.2929, \n",
      "Validation Loss: 213.3788\n"
     ]
    },
    {
     "name": "stderr",
     "output_type": "stream",
     "text": [
      "Epoch 300/1500: 100%|██████████| 1/1 [00:00<00:00, 22.23it/s]\n",
      "Epoch 301/1500: 100%|██████████| 1/1 [00:00<00:00, 22.80it/s]\n",
      "Validation: 100%|██████████| 1/1 [00:00<00:00, 26.30it/s]\n"
     ]
    },
    {
     "name": "stdout",
     "output_type": "stream",
     "text": [
      "Epoch: 301, Train Loss: 337.2352, \n",
      "Validation Loss: 232.2431\n"
     ]
    },
    {
     "name": "stderr",
     "output_type": "stream",
     "text": [
      "Epoch 302/1500: 100%|██████████| 1/1 [00:00<00:00, 20.53it/s]\n",
      "Epoch 303/1500: 100%|██████████| 1/1 [00:00<00:00, 23.29it/s]\n",
      "Validation: 100%|██████████| 1/1 [00:00<00:00, 28.53it/s]\n"
     ]
    },
    {
     "name": "stdout",
     "output_type": "stream",
     "text": [
      "Epoch: 303, Train Loss: 437.9489, \n",
      "Validation Loss: 199.1192\n"
     ]
    },
    {
     "name": "stderr",
     "output_type": "stream",
     "text": [
      "Epoch 304/1500: 100%|██████████| 1/1 [00:00<00:00, 22.68it/s]\n",
      "Epoch 305/1500: 100%|██████████| 1/1 [00:00<00:00, 22.99it/s]\n",
      "Validation: 100%|██████████| 1/1 [00:00<00:00, 28.23it/s]\n"
     ]
    },
    {
     "name": "stdout",
     "output_type": "stream",
     "text": [
      "Epoch: 305, Train Loss: 302.2937, \n",
      "Validation Loss: 272.9402\n"
     ]
    },
    {
     "name": "stderr",
     "output_type": "stream",
     "text": [
      "Epoch 306/1500: 100%|██████████| 1/1 [00:00<00:00, 23.27it/s]\n",
      "Epoch 307/1500: 100%|██████████| 1/1 [00:00<00:00, 22.85it/s]\n",
      "Validation: 100%|██████████| 1/1 [00:00<00:00, 29.25it/s]\n"
     ]
    },
    {
     "name": "stdout",
     "output_type": "stream",
     "text": [
      "Epoch: 307, Train Loss: 308.2392, \n",
      "Validation Loss: 263.1347\n"
     ]
    },
    {
     "name": "stderr",
     "output_type": "stream",
     "text": [
      "Epoch 308/1500: 100%|██████████| 1/1 [00:00<00:00, 22.70it/s]\n",
      "Epoch 309/1500: 100%|██████████| 1/1 [00:00<00:00, 22.94it/s]\n",
      "Validation: 100%|██████████| 1/1 [00:00<00:00, 25.83it/s]\n"
     ]
    },
    {
     "name": "stdout",
     "output_type": "stream",
     "text": [
      "Epoch: 309, Train Loss: 386.5367, \n",
      "Validation Loss: 119.9698\n"
     ]
    },
    {
     "name": "stderr",
     "output_type": "stream",
     "text": [
      "Epoch 310/1500: 100%|██████████| 1/1 [00:00<00:00, 22.63it/s]\n",
      "Epoch 311/1500: 100%|██████████| 1/1 [00:00<00:00, 22.41it/s]\n",
      "Validation: 100%|██████████| 1/1 [00:00<00:00, 27.69it/s]\n"
     ]
    },
    {
     "name": "stdout",
     "output_type": "stream",
     "text": [
      "Epoch: 311, Train Loss: 312.1716, \n",
      "Validation Loss: 329.6720\n"
     ]
    },
    {
     "name": "stderr",
     "output_type": "stream",
     "text": [
      "Epoch 312/1500: 100%|██████████| 1/1 [00:00<00:00, 21.75it/s]\n",
      "Epoch 313/1500: 100%|██████████| 1/1 [00:00<00:00, 23.27it/s]\n",
      "Validation: 100%|██████████| 1/1 [00:00<00:00, 27.49it/s]\n"
     ]
    },
    {
     "name": "stdout",
     "output_type": "stream",
     "text": [
      "Epoch: 313, Train Loss: 521.3088, \n",
      "Validation Loss: 333.4658\n"
     ]
    },
    {
     "name": "stderr",
     "output_type": "stream",
     "text": [
      "Epoch 314/1500: 100%|██████████| 1/1 [00:00<00:00, 21.24it/s]\n",
      "Epoch 315/1500: 100%|██████████| 1/1 [00:00<00:00, 21.17it/s]\n",
      "Validation: 100%|██████████| 1/1 [00:00<00:00, 27.35it/s]\n"
     ]
    },
    {
     "name": "stdout",
     "output_type": "stream",
     "text": [
      "Epoch: 315, Train Loss: 343.6511, \n",
      "Validation Loss: 287.0797\n"
     ]
    },
    {
     "name": "stderr",
     "output_type": "stream",
     "text": [
      "Epoch 316/1500: 100%|██████████| 1/1 [00:00<00:00, 20.02it/s]\n",
      "Epoch 317/1500: 100%|██████████| 1/1 [00:00<00:00, 22.42it/s]\n",
      "Validation: 100%|██████████| 1/1 [00:00<00:00, 28.13it/s]\n"
     ]
    },
    {
     "name": "stdout",
     "output_type": "stream",
     "text": [
      "Epoch: 317, Train Loss: 318.0721, \n",
      "Validation Loss: 174.5204\n"
     ]
    },
    {
     "name": "stderr",
     "output_type": "stream",
     "text": [
      "Epoch 318/1500: 100%|██████████| 1/1 [00:00<00:00, 22.29it/s]\n",
      "Epoch 319/1500: 100%|██████████| 1/1 [00:00<00:00, 22.13it/s]\n",
      "Validation: 100%|██████████| 1/1 [00:00<00:00, 28.53it/s]\n"
     ]
    },
    {
     "name": "stdout",
     "output_type": "stream",
     "text": [
      "Epoch: 319, Train Loss: 434.3655, \n",
      "Validation Loss: 202.1449\n"
     ]
    },
    {
     "name": "stderr",
     "output_type": "stream",
     "text": [
      "Epoch 320/1500: 100%|██████████| 1/1 [00:00<00:00, 21.56it/s]\n",
      "Epoch 321/1500: 100%|██████████| 1/1 [00:00<00:00, 21.98it/s]\n",
      "Validation: 100%|██████████| 1/1 [00:00<00:00, 27.54it/s]\n"
     ]
    },
    {
     "name": "stdout",
     "output_type": "stream",
     "text": [
      "Epoch: 321, Train Loss: 269.1347, \n",
      "Validation Loss: 239.4483\n"
     ]
    },
    {
     "name": "stderr",
     "output_type": "stream",
     "text": [
      "Epoch 322/1500: 100%|██████████| 1/1 [00:00<00:00, 19.74it/s]\n",
      "Epoch 323/1500: 100%|██████████| 1/1 [00:00<00:00, 22.31it/s]\n",
      "Validation: 100%|██████████| 1/1 [00:00<00:00, 27.14it/s]\n"
     ]
    },
    {
     "name": "stdout",
     "output_type": "stream",
     "text": [
      "Epoch: 323, Train Loss: 224.6939, \n",
      "Validation Loss: 154.9299\n"
     ]
    },
    {
     "name": "stderr",
     "output_type": "stream",
     "text": [
      "Epoch 324/1500: 100%|██████████| 1/1 [00:00<00:00, 21.94it/s]\n",
      "Epoch 325/1500: 100%|██████████| 1/1 [00:00<00:00, 22.50it/s]\n",
      "Validation: 100%|██████████| 1/1 [00:00<00:00, 26.84it/s]\n"
     ]
    },
    {
     "name": "stdout",
     "output_type": "stream",
     "text": [
      "Epoch: 325, Train Loss: 221.7735, \n",
      "Validation Loss: 221.8661\n"
     ]
    },
    {
     "name": "stderr",
     "output_type": "stream",
     "text": [
      "Epoch 326/1500: 100%|██████████| 1/1 [00:00<00:00, 21.49it/s]\n",
      "Epoch 327/1500: 100%|██████████| 1/1 [00:00<00:00, 23.17it/s]\n",
      "Validation: 100%|██████████| 1/1 [00:00<00:00, 29.36it/s]\n"
     ]
    },
    {
     "name": "stdout",
     "output_type": "stream",
     "text": [
      "Epoch: 327, Train Loss: 363.8058, \n",
      "Validation Loss: 174.4059\n"
     ]
    },
    {
     "name": "stderr",
     "output_type": "stream",
     "text": [
      "Epoch 328/1500: 100%|██████████| 1/1 [00:00<00:00, 22.28it/s]\n",
      "Epoch 329/1500: 100%|██████████| 1/1 [00:00<00:00, 22.98it/s]\n",
      "Validation: 100%|██████████| 1/1 [00:00<00:00, 28.66it/s]\n"
     ]
    },
    {
     "name": "stdout",
     "output_type": "stream",
     "text": [
      "Epoch: 329, Train Loss: 274.6209, \n",
      "Validation Loss: 226.7858\n"
     ]
    },
    {
     "name": "stderr",
     "output_type": "stream",
     "text": [
      "Epoch 330/1500: 100%|██████████| 1/1 [00:00<00:00, 22.18it/s]\n",
      "Epoch 331/1500: 100%|██████████| 1/1 [00:00<00:00, 22.67it/s]\n",
      "Validation: 100%|██████████| 1/1 [00:00<00:00, 26.02it/s]\n"
     ]
    },
    {
     "name": "stdout",
     "output_type": "stream",
     "text": [
      "Epoch: 331, Train Loss: 299.4601, \n",
      "Validation Loss: 232.2928\n"
     ]
    },
    {
     "name": "stderr",
     "output_type": "stream",
     "text": [
      "Epoch 332/1500: 100%|██████████| 1/1 [00:00<00:00, 22.02it/s]\n",
      "Epoch 333/1500: 100%|██████████| 1/1 [00:00<00:00, 22.47it/s]\n",
      "Validation: 100%|██████████| 1/1 [00:00<00:00, 27.99it/s]\n"
     ]
    },
    {
     "name": "stdout",
     "output_type": "stream",
     "text": [
      "Epoch: 333, Train Loss: 437.0948, \n",
      "Validation Loss: 141.5460\n"
     ]
    },
    {
     "name": "stderr",
     "output_type": "stream",
     "text": [
      "Epoch 334/1500: 100%|██████████| 1/1 [00:00<00:00, 23.46it/s]\n",
      "Epoch 335/1500: 100%|██████████| 1/1 [00:00<00:00, 22.65it/s]\n",
      "Validation: 100%|██████████| 1/1 [00:00<00:00, 28.52it/s]\n"
     ]
    },
    {
     "name": "stdout",
     "output_type": "stream",
     "text": [
      "Epoch: 335, Train Loss: 418.4529, \n",
      "Validation Loss: 166.2050\n"
     ]
    },
    {
     "name": "stderr",
     "output_type": "stream",
     "text": [
      "Epoch 336/1500: 100%|██████████| 1/1 [00:00<00:00, 22.25it/s]\n",
      "Epoch 337/1500: 100%|██████████| 1/1 [00:00<00:00, 23.08it/s]\n",
      "Validation: 100%|██████████| 1/1 [00:00<00:00, 28.61it/s]\n"
     ]
    },
    {
     "name": "stdout",
     "output_type": "stream",
     "text": [
      "Epoch: 337, Train Loss: 344.8795, \n",
      "Validation Loss: 130.4270\n"
     ]
    },
    {
     "name": "stderr",
     "output_type": "stream",
     "text": [
      "Epoch 338/1500: 100%|██████████| 1/1 [00:00<00:00, 22.64it/s]\n",
      "Epoch 339/1500: 100%|██████████| 1/1 [00:00<00:00, 23.26it/s]\n",
      "Validation: 100%|██████████| 1/1 [00:00<00:00, 27.03it/s]\n"
     ]
    },
    {
     "name": "stdout",
     "output_type": "stream",
     "text": [
      "Epoch: 339, Train Loss: 261.3199, \n",
      "Validation Loss: 124.8696\n"
     ]
    },
    {
     "name": "stderr",
     "output_type": "stream",
     "text": [
      "Epoch 340/1500: 100%|██████████| 1/1 [00:00<00:00, 22.74it/s]\n",
      "Epoch 341/1500: 100%|██████████| 1/1 [00:00<00:00, 22.98it/s]\n",
      "Validation: 100%|██████████| 1/1 [00:00<00:00, 28.47it/s]\n"
     ]
    },
    {
     "name": "stdout",
     "output_type": "stream",
     "text": [
      "Epoch: 341, Train Loss: 286.8620, \n",
      "Validation Loss: 291.9591\n"
     ]
    },
    {
     "name": "stderr",
     "output_type": "stream",
     "text": [
      "Epoch 342/1500: 100%|██████████| 1/1 [00:00<00:00, 23.07it/s]\n",
      "Epoch 343/1500: 100%|██████████| 1/1 [00:00<00:00, 23.32it/s]\n",
      "Validation: 100%|██████████| 1/1 [00:00<00:00, 28.44it/s]\n"
     ]
    },
    {
     "name": "stdout",
     "output_type": "stream",
     "text": [
      "Epoch: 343, Train Loss: 363.0809, \n",
      "Validation Loss: 160.2934\n"
     ]
    },
    {
     "name": "stderr",
     "output_type": "stream",
     "text": [
      "Epoch 344/1500: 100%|██████████| 1/1 [00:00<00:00, 22.58it/s]\n",
      "Epoch 345/1500: 100%|██████████| 1/1 [00:00<00:00, 22.38it/s]\n",
      "Validation: 100%|██████████| 1/1 [00:00<00:00, 24.90it/s]\n"
     ]
    },
    {
     "name": "stdout",
     "output_type": "stream",
     "text": [
      "Epoch: 345, Train Loss: 330.8160, \n",
      "Validation Loss: 175.1574\n"
     ]
    },
    {
     "name": "stderr",
     "output_type": "stream",
     "text": [
      "Epoch 346/1500: 100%|██████████| 1/1 [00:00<00:00, 20.64it/s]\n",
      "Epoch 347/1500: 100%|██████████| 1/1 [00:00<00:00, 22.41it/s]\n",
      "Validation: 100%|██████████| 1/1 [00:00<00:00, 27.91it/s]\n"
     ]
    },
    {
     "name": "stdout",
     "output_type": "stream",
     "text": [
      "Epoch: 347, Train Loss: 348.4864, \n",
      "Validation Loss: 200.9977\n"
     ]
    },
    {
     "name": "stderr",
     "output_type": "stream",
     "text": [
      "Epoch 348/1500: 100%|██████████| 1/1 [00:00<00:00, 20.36it/s]\n",
      "Epoch 349/1500: 100%|██████████| 1/1 [00:00<00:00, 21.85it/s]\n",
      "Validation: 100%|██████████| 1/1 [00:00<00:00, 28.42it/s]\n"
     ]
    },
    {
     "name": "stdout",
     "output_type": "stream",
     "text": [
      "Epoch: 349, Train Loss: 228.2444, \n",
      "Validation Loss: 221.0464\n"
     ]
    },
    {
     "name": "stderr",
     "output_type": "stream",
     "text": [
      "Epoch 350/1500: 100%|██████████| 1/1 [00:00<00:00, 22.42it/s]\n",
      "Epoch 351/1500: 100%|██████████| 1/1 [00:00<00:00, 19.40it/s]\n",
      "Validation: 100%|██████████| 1/1 [00:00<00:00, 28.65it/s]\n"
     ]
    },
    {
     "name": "stdout",
     "output_type": "stream",
     "text": [
      "Epoch: 351, Train Loss: 408.6600, \n",
      "Validation Loss: 205.4459\n"
     ]
    },
    {
     "name": "stderr",
     "output_type": "stream",
     "text": [
      "Epoch 352/1500: 100%|██████████| 1/1 [00:00<00:00, 19.44it/s]\n",
      "Epoch 353/1500: 100%|██████████| 1/1 [00:00<00:00, 22.02it/s]\n",
      "Validation: 100%|██████████| 1/1 [00:00<00:00, 26.99it/s]\n"
     ]
    },
    {
     "name": "stdout",
     "output_type": "stream",
     "text": [
      "Epoch: 353, Train Loss: 289.6646, \n",
      "Validation Loss: 255.6381\n"
     ]
    },
    {
     "name": "stderr",
     "output_type": "stream",
     "text": [
      "Epoch 354/1500: 100%|██████████| 1/1 [00:00<00:00, 22.79it/s]\n",
      "Epoch 355/1500: 100%|██████████| 1/1 [00:00<00:00, 22.77it/s]\n",
      "Validation: 100%|██████████| 1/1 [00:00<00:00, 27.15it/s]\n"
     ]
    },
    {
     "name": "stdout",
     "output_type": "stream",
     "text": [
      "Epoch: 355, Train Loss: 434.3280, \n",
      "Validation Loss: 194.7070\n"
     ]
    },
    {
     "name": "stderr",
     "output_type": "stream",
     "text": [
      "Epoch 356/1500: 100%|██████████| 1/1 [00:00<00:00, 17.20it/s]\n",
      "Epoch 357/1500: 100%|██████████| 1/1 [00:00<00:00, 20.82it/s]\n",
      "Validation: 100%|██████████| 1/1 [00:00<00:00, 25.56it/s]\n"
     ]
    },
    {
     "name": "stdout",
     "output_type": "stream",
     "text": [
      "Epoch: 357, Train Loss: 318.5441, \n",
      "Validation Loss: 146.1133\n"
     ]
    },
    {
     "name": "stderr",
     "output_type": "stream",
     "text": [
      "Epoch 358/1500: 100%|██████████| 1/1 [00:00<00:00, 21.38it/s]\n",
      "Epoch 359/1500: 100%|██████████| 1/1 [00:00<00:00, 20.47it/s]\n",
      "Validation: 100%|██████████| 1/1 [00:00<00:00, 27.07it/s]\n"
     ]
    },
    {
     "name": "stdout",
     "output_type": "stream",
     "text": [
      "Epoch: 359, Train Loss: 480.1898, \n",
      "Validation Loss: 302.8112\n"
     ]
    },
    {
     "name": "stderr",
     "output_type": "stream",
     "text": [
      "Epoch 360/1500: 100%|██████████| 1/1 [00:00<00:00, 20.08it/s]\n",
      "Epoch 361/1500: 100%|██████████| 1/1 [00:00<00:00, 21.80it/s]\n",
      "Validation: 100%|██████████| 1/1 [00:00<00:00, 27.32it/s]\n"
     ]
    },
    {
     "name": "stdout",
     "output_type": "stream",
     "text": [
      "Epoch: 361, Train Loss: 468.7098, \n",
      "Validation Loss: 170.6255\n"
     ]
    },
    {
     "name": "stderr",
     "output_type": "stream",
     "text": [
      "Epoch 362/1500: 100%|██████████| 1/1 [00:00<00:00, 22.93it/s]\n",
      "Epoch 363/1500: 100%|██████████| 1/1 [00:00<00:00, 23.08it/s]\n",
      "Validation: 100%|██████████| 1/1 [00:00<00:00, 28.05it/s]\n"
     ]
    },
    {
     "name": "stdout",
     "output_type": "stream",
     "text": [
      "Epoch: 363, Train Loss: 267.7273, \n",
      "Validation Loss: 166.9516\n"
     ]
    },
    {
     "name": "stderr",
     "output_type": "stream",
     "text": [
      "Epoch 364/1500: 100%|██████████| 1/1 [00:00<00:00, 21.82it/s]\n",
      "Epoch 365/1500: 100%|██████████| 1/1 [00:00<00:00, 22.78it/s]\n",
      "Validation: 100%|██████████| 1/1 [00:00<00:00, 29.11it/s]\n"
     ]
    },
    {
     "name": "stdout",
     "output_type": "stream",
     "text": [
      "Epoch: 365, Train Loss: 355.6472, \n",
      "Validation Loss: 235.5448\n"
     ]
    },
    {
     "name": "stderr",
     "output_type": "stream",
     "text": [
      "Epoch 366/1500: 100%|██████████| 1/1 [00:00<00:00, 23.18it/s]\n",
      "Epoch 367/1500: 100%|██████████| 1/1 [00:00<00:00, 22.08it/s]\n",
      "Validation: 100%|██████████| 1/1 [00:00<00:00, 27.05it/s]\n"
     ]
    },
    {
     "name": "stdout",
     "output_type": "stream",
     "text": [
      "Epoch: 367, Train Loss: 402.2980, \n",
      "Validation Loss: 197.9264\n"
     ]
    },
    {
     "name": "stderr",
     "output_type": "stream",
     "text": [
      "Epoch 368/1500: 100%|██████████| 1/1 [00:00<00:00, 22.31it/s]\n",
      "Epoch 369/1500: 100%|██████████| 1/1 [00:00<00:00, 22.45it/s]\n",
      "Validation: 100%|██████████| 1/1 [00:00<00:00, 28.50it/s]\n"
     ]
    },
    {
     "name": "stdout",
     "output_type": "stream",
     "text": [
      "Epoch: 369, Train Loss: 550.2671, \n",
      "Validation Loss: 141.7853\n"
     ]
    },
    {
     "name": "stderr",
     "output_type": "stream",
     "text": [
      "Epoch 370/1500: 100%|██████████| 1/1 [00:00<00:00, 21.37it/s]\n",
      "Epoch 371/1500: 100%|██████████| 1/1 [00:00<00:00, 21.99it/s]\n",
      "Validation: 100%|██████████| 1/1 [00:00<00:00, 28.01it/s]\n"
     ]
    },
    {
     "name": "stdout",
     "output_type": "stream",
     "text": [
      "Epoch: 371, Train Loss: 310.2965, \n",
      "Validation Loss: 153.0441\n"
     ]
    },
    {
     "name": "stderr",
     "output_type": "stream",
     "text": [
      "Epoch 372/1500: 100%|██████████| 1/1 [00:00<00:00, 21.97it/s]\n",
      "Epoch 373/1500: 100%|██████████| 1/1 [00:00<00:00, 22.37it/s]\n",
      "Validation: 100%|██████████| 1/1 [00:00<00:00, 28.34it/s]\n"
     ]
    },
    {
     "name": "stdout",
     "output_type": "stream",
     "text": [
      "Epoch: 373, Train Loss: 247.3822, \n",
      "Validation Loss: 235.8314\n"
     ]
    },
    {
     "name": "stderr",
     "output_type": "stream",
     "text": [
      "Epoch 374/1500: 100%|██████████| 1/1 [00:00<00:00, 22.16it/s]\n",
      "Epoch 375/1500: 100%|██████████| 1/1 [00:00<00:00, 23.63it/s]\n",
      "Validation: 100%|██████████| 1/1 [00:00<00:00, 27.81it/s]\n"
     ]
    },
    {
     "name": "stdout",
     "output_type": "stream",
     "text": [
      "Epoch: 375, Train Loss: 548.8132, \n",
      "Validation Loss: 168.7935\n"
     ]
    },
    {
     "name": "stderr",
     "output_type": "stream",
     "text": [
      "Epoch 376/1500: 100%|██████████| 1/1 [00:00<00:00, 22.43it/s]\n",
      "Epoch 377/1500: 100%|██████████| 1/1 [00:00<00:00, 21.89it/s]\n",
      "Validation: 100%|██████████| 1/1 [00:00<00:00, 28.40it/s]\n"
     ]
    },
    {
     "name": "stdout",
     "output_type": "stream",
     "text": [
      "Epoch: 377, Train Loss: 369.9157, \n",
      "Validation Loss: 164.1768\n"
     ]
    },
    {
     "name": "stderr",
     "output_type": "stream",
     "text": [
      "Epoch 378/1500: 100%|██████████| 1/1 [00:00<00:00, 20.38it/s]\n",
      "Epoch 379/1500: 100%|██████████| 1/1 [00:00<00:00, 22.71it/s]\n",
      "Validation: 100%|██████████| 1/1 [00:00<00:00, 28.16it/s]\n"
     ]
    },
    {
     "name": "stdout",
     "output_type": "stream",
     "text": [
      "Epoch: 379, Train Loss: 417.9328, \n",
      "Validation Loss: 216.5585\n"
     ]
    },
    {
     "name": "stderr",
     "output_type": "stream",
     "text": [
      "Epoch 380/1500: 100%|██████████| 1/1 [00:00<00:00, 22.32it/s]\n",
      "Epoch 381/1500: 100%|██████████| 1/1 [00:00<00:00, 22.26it/s]\n",
      "Validation: 100%|██████████| 1/1 [00:00<00:00, 28.64it/s]\n"
     ]
    },
    {
     "name": "stdout",
     "output_type": "stream",
     "text": [
      "Epoch: 381, Train Loss: 412.9397, \n",
      "Validation Loss: 249.0847\n"
     ]
    },
    {
     "name": "stderr",
     "output_type": "stream",
     "text": [
      "Epoch 382/1500: 100%|██████████| 1/1 [00:00<00:00, 22.33it/s]\n",
      "Epoch 383/1500: 100%|██████████| 1/1 [00:00<00:00, 21.14it/s]\n",
      "Validation: 100%|██████████| 1/1 [00:00<00:00, 28.98it/s]\n"
     ]
    },
    {
     "name": "stdout",
     "output_type": "stream",
     "text": [
      "Epoch: 383, Train Loss: 339.9343, \n",
      "Validation Loss: 209.7285\n"
     ]
    },
    {
     "name": "stderr",
     "output_type": "stream",
     "text": [
      "Epoch 384/1500: 100%|██████████| 1/1 [00:00<00:00, 22.99it/s]\n",
      "Epoch 385/1500: 100%|██████████| 1/1 [00:00<00:00, 22.35it/s]\n",
      "Validation: 100%|██████████| 1/1 [00:00<00:00, 28.10it/s]\n"
     ]
    },
    {
     "name": "stdout",
     "output_type": "stream",
     "text": [
      "Epoch: 385, Train Loss: 377.6176, \n",
      "Validation Loss: 183.1072\n"
     ]
    },
    {
     "name": "stderr",
     "output_type": "stream",
     "text": [
      "Epoch 386/1500: 100%|██████████| 1/1 [00:00<00:00, 22.70it/s]\n",
      "Epoch 387/1500: 100%|██████████| 1/1 [00:00<00:00, 22.03it/s]\n",
      "Validation: 100%|██████████| 1/1 [00:00<00:00, 26.59it/s]\n"
     ]
    },
    {
     "name": "stdout",
     "output_type": "stream",
     "text": [
      "Epoch: 387, Train Loss: 345.3183, \n",
      "Validation Loss: 139.8483\n"
     ]
    },
    {
     "name": "stderr",
     "output_type": "stream",
     "text": [
      "Epoch 388/1500: 100%|██████████| 1/1 [00:00<00:00, 20.10it/s]\n",
      "Epoch 389/1500: 100%|██████████| 1/1 [00:00<00:00, 23.14it/s]\n",
      "Validation: 100%|██████████| 1/1 [00:00<00:00, 26.34it/s]\n"
     ]
    },
    {
     "name": "stdout",
     "output_type": "stream",
     "text": [
      "Epoch: 389, Train Loss: 398.9688, \n",
      "Validation Loss: 202.3206\n"
     ]
    },
    {
     "name": "stderr",
     "output_type": "stream",
     "text": [
      "Epoch 390/1500: 100%|██████████| 1/1 [00:00<00:00, 23.08it/s]\n",
      "Epoch 391/1500: 100%|██████████| 1/1 [00:00<00:00, 23.11it/s]\n",
      "Validation: 100%|██████████| 1/1 [00:00<00:00, 28.78it/s]\n"
     ]
    },
    {
     "name": "stdout",
     "output_type": "stream",
     "text": [
      "Epoch: 391, Train Loss: 197.2132, \n",
      "Validation Loss: 153.8423\n"
     ]
    },
    {
     "name": "stderr",
     "output_type": "stream",
     "text": [
      "Epoch 392/1500: 100%|██████████| 1/1 [00:00<00:00, 23.65it/s]\n",
      "Epoch 393/1500: 100%|██████████| 1/1 [00:00<00:00, 22.95it/s]\n",
      "Validation: 100%|██████████| 1/1 [00:00<00:00, 28.95it/s]\n"
     ]
    },
    {
     "name": "stdout",
     "output_type": "stream",
     "text": [
      "Epoch: 393, Train Loss: 378.0742, \n",
      "Validation Loss: 184.3569\n"
     ]
    },
    {
     "name": "stderr",
     "output_type": "stream",
     "text": [
      "Epoch 394/1500: 100%|██████████| 1/1 [00:00<00:00, 21.39it/s]\n",
      "Epoch 395/1500: 100%|██████████| 1/1 [00:00<00:00, 21.99it/s]\n",
      "Validation: 100%|██████████| 1/1 [00:00<00:00, 27.81it/s]\n"
     ]
    },
    {
     "name": "stdout",
     "output_type": "stream",
     "text": [
      "Epoch: 395, Train Loss: 387.3895, \n",
      "Validation Loss: 162.6433\n"
     ]
    },
    {
     "name": "stderr",
     "output_type": "stream",
     "text": [
      "Epoch 396/1500: 100%|██████████| 1/1 [00:00<00:00, 21.83it/s]\n",
      "Epoch 397/1500: 100%|██████████| 1/1 [00:00<00:00, 22.13it/s]\n",
      "Validation: 100%|██████████| 1/1 [00:00<00:00, 28.08it/s]\n"
     ]
    },
    {
     "name": "stdout",
     "output_type": "stream",
     "text": [
      "Epoch: 397, Train Loss: 386.2731, \n",
      "Validation Loss: 310.5358\n"
     ]
    },
    {
     "name": "stderr",
     "output_type": "stream",
     "text": [
      "Epoch 398/1500: 100%|██████████| 1/1 [00:00<00:00, 20.37it/s]\n",
      "Epoch 399/1500: 100%|██████████| 1/1 [00:00<00:00, 23.53it/s]\n",
      "Validation: 100%|██████████| 1/1 [00:00<00:00, 28.21it/s]\n"
     ]
    },
    {
     "name": "stdout",
     "output_type": "stream",
     "text": [
      "Epoch: 399, Train Loss: 684.3167, \n",
      "Validation Loss: 170.2546\n"
     ]
    },
    {
     "name": "stderr",
     "output_type": "stream",
     "text": [
      "Epoch 400/1500: 100%|██████████| 1/1 [00:00<00:00, 21.76it/s]\n",
      "Epoch 401/1500: 100%|██████████| 1/1 [00:00<00:00, 22.86it/s]\n",
      "Validation: 100%|██████████| 1/1 [00:00<00:00, 28.17it/s]\n"
     ]
    },
    {
     "name": "stdout",
     "output_type": "stream",
     "text": [
      "Epoch: 401, Train Loss: 303.6846, \n",
      "Validation Loss: 207.6370\n"
     ]
    },
    {
     "name": "stderr",
     "output_type": "stream",
     "text": [
      "Epoch 402/1500: 100%|██████████| 1/1 [00:00<00:00, 21.53it/s]\n",
      "Epoch 403/1500: 100%|██████████| 1/1 [00:00<00:00, 22.77it/s]\n",
      "Validation: 100%|██████████| 1/1 [00:00<00:00, 28.41it/s]\n"
     ]
    },
    {
     "name": "stdout",
     "output_type": "stream",
     "text": [
      "Epoch: 403, Train Loss: 342.1000, \n",
      "Validation Loss: 216.0247\n"
     ]
    },
    {
     "name": "stderr",
     "output_type": "stream",
     "text": [
      "Epoch 404/1500: 100%|██████████| 1/1 [00:00<00:00, 22.47it/s]\n",
      "Epoch 405/1500: 100%|██████████| 1/1 [00:00<00:00, 22.86it/s]\n",
      "Validation: 100%|██████████| 1/1 [00:00<00:00, 28.26it/s]\n"
     ]
    },
    {
     "name": "stdout",
     "output_type": "stream",
     "text": [
      "Epoch: 405, Train Loss: 308.1149, \n",
      "Validation Loss: 193.4681\n"
     ]
    },
    {
     "name": "stderr",
     "output_type": "stream",
     "text": [
      "Epoch 406/1500: 100%|██████████| 1/1 [00:00<00:00, 22.65it/s]\n",
      "Epoch 407/1500: 100%|██████████| 1/1 [00:00<00:00, 22.67it/s]\n",
      "Validation: 100%|██████████| 1/1 [00:00<00:00, 27.70it/s]\n"
     ]
    },
    {
     "name": "stdout",
     "output_type": "stream",
     "text": [
      "Epoch: 407, Train Loss: 310.8557, \n",
      "Validation Loss: 144.2036\n"
     ]
    },
    {
     "name": "stderr",
     "output_type": "stream",
     "text": [
      "Epoch 408/1500: 100%|██████████| 1/1 [00:00<00:00, 22.95it/s]\n",
      "Epoch 409/1500: 100%|██████████| 1/1 [00:00<00:00, 23.19it/s]\n",
      "Validation: 100%|██████████| 1/1 [00:00<00:00, 28.30it/s]\n"
     ]
    },
    {
     "name": "stdout",
     "output_type": "stream",
     "text": [
      "Epoch: 409, Train Loss: 293.2304, \n",
      "Validation Loss: 242.7931\n"
     ]
    },
    {
     "name": "stderr",
     "output_type": "stream",
     "text": [
      "Epoch 410/1500: 100%|██████████| 1/1 [00:00<00:00, 22.25it/s]\n",
      "Epoch 411/1500: 100%|██████████| 1/1 [00:00<00:00, 22.38it/s]\n",
      "Validation: 100%|██████████| 1/1 [00:00<00:00, 28.41it/s]\n"
     ]
    },
    {
     "name": "stdout",
     "output_type": "stream",
     "text": [
      "Epoch: 411, Train Loss: 265.0855, \n",
      "Validation Loss: 132.3935\n"
     ]
    },
    {
     "name": "stderr",
     "output_type": "stream",
     "text": [
      "Epoch 412/1500: 100%|██████████| 1/1 [00:00<00:00, 21.89it/s]\n",
      "Epoch 413/1500: 100%|██████████| 1/1 [00:00<00:00, 22.47it/s]\n",
      "Validation: 100%|██████████| 1/1 [00:00<00:00, 26.50it/s]\n"
     ]
    },
    {
     "name": "stdout",
     "output_type": "stream",
     "text": [
      "Epoch: 413, Train Loss: 207.8331, \n",
      "Validation Loss: 260.3255\n"
     ]
    },
    {
     "name": "stderr",
     "output_type": "stream",
     "text": [
      "Epoch 414/1500: 100%|██████████| 1/1 [00:00<00:00, 20.89it/s]\n",
      "Epoch 415/1500: 100%|██████████| 1/1 [00:00<00:00, 22.94it/s]\n",
      "Validation: 100%|██████████| 1/1 [00:00<00:00, 30.05it/s]\n"
     ]
    },
    {
     "name": "stdout",
     "output_type": "stream",
     "text": [
      "Epoch: 415, Train Loss: 425.5434, \n",
      "Validation Loss: 143.2585\n"
     ]
    },
    {
     "name": "stderr",
     "output_type": "stream",
     "text": [
      "Epoch 416/1500: 100%|██████████| 1/1 [00:00<00:00, 21.97it/s]\n",
      "Epoch 417/1500: 100%|██████████| 1/1 [00:00<00:00, 22.42it/s]\n",
      "Validation: 100%|██████████| 1/1 [00:00<00:00, 28.41it/s]\n"
     ]
    },
    {
     "name": "stdout",
     "output_type": "stream",
     "text": [
      "Epoch: 417, Train Loss: 372.7381, \n",
      "Validation Loss: 216.3062\n"
     ]
    },
    {
     "name": "stderr",
     "output_type": "stream",
     "text": [
      "Epoch 418/1500: 100%|██████████| 1/1 [00:00<00:00, 22.49it/s]\n",
      "Epoch 419/1500: 100%|██████████| 1/1 [00:00<00:00, 22.50it/s]\n",
      "Validation: 100%|██████████| 1/1 [00:00<00:00, 28.27it/s]\n"
     ]
    },
    {
     "name": "stdout",
     "output_type": "stream",
     "text": [
      "Epoch: 419, Train Loss: 342.8935, \n",
      "Validation Loss: 357.5051\n"
     ]
    },
    {
     "name": "stderr",
     "output_type": "stream",
     "text": [
      "Epoch 420/1500: 100%|██████████| 1/1 [00:00<00:00, 21.21it/s]\n",
      "Epoch 421/1500: 100%|██████████| 1/1 [00:00<00:00, 22.21it/s]\n",
      "Validation: 100%|██████████| 1/1 [00:00<00:00, 26.97it/s]\n"
     ]
    },
    {
     "name": "stdout",
     "output_type": "stream",
     "text": [
      "Epoch: 421, Train Loss: 302.4501, \n",
      "Validation Loss: 210.6245\n"
     ]
    },
    {
     "name": "stderr",
     "output_type": "stream",
     "text": [
      "Epoch 422/1500: 100%|██████████| 1/1 [00:00<00:00, 22.11it/s]\n",
      "Epoch 423/1500: 100%|██████████| 1/1 [00:00<00:00, 21.36it/s]\n",
      "Validation: 100%|██████████| 1/1 [00:00<00:00, 25.85it/s]\n"
     ]
    },
    {
     "name": "stdout",
     "output_type": "stream",
     "text": [
      "Epoch: 423, Train Loss: 299.5080, \n",
      "Validation Loss: 235.7384\n"
     ]
    },
    {
     "name": "stderr",
     "output_type": "stream",
     "text": [
      "Epoch 424/1500: 100%|██████████| 1/1 [00:00<00:00, 22.52it/s]\n",
      "Epoch 425/1500: 100%|██████████| 1/1 [00:00<00:00, 22.01it/s]\n",
      "Validation: 100%|██████████| 1/1 [00:00<00:00, 26.09it/s]\n"
     ]
    },
    {
     "name": "stdout",
     "output_type": "stream",
     "text": [
      "Epoch: 425, Train Loss: 174.1056, \n",
      "Validation Loss: 95.5434\n"
     ]
    },
    {
     "name": "stderr",
     "output_type": "stream",
     "text": [
      "Epoch 426/1500: 100%|██████████| 1/1 [00:00<00:00, 21.98it/s]\n",
      "Epoch 427/1500: 100%|██████████| 1/1 [00:00<00:00, 22.51it/s]\n",
      "Validation: 100%|██████████| 1/1 [00:00<00:00, 28.88it/s]\n"
     ]
    },
    {
     "name": "stdout",
     "output_type": "stream",
     "text": [
      "Epoch: 427, Train Loss: 576.2492, \n",
      "Validation Loss: 108.5194\n"
     ]
    },
    {
     "name": "stderr",
     "output_type": "stream",
     "text": [
      "Epoch 428/1500: 100%|██████████| 1/1 [00:00<00:00, 22.69it/s]\n",
      "Epoch 429/1500: 100%|██████████| 1/1 [00:00<00:00, 23.00it/s]\n",
      "Validation: 100%|██████████| 1/1 [00:00<00:00, 28.10it/s]\n"
     ]
    },
    {
     "name": "stdout",
     "output_type": "stream",
     "text": [
      "Epoch: 429, Train Loss: 297.3757, \n",
      "Validation Loss: 179.5623\n"
     ]
    },
    {
     "name": "stderr",
     "output_type": "stream",
     "text": [
      "Epoch 430/1500: 100%|██████████| 1/1 [00:00<00:00, 21.96it/s]\n",
      "Epoch 431/1500: 100%|██████████| 1/1 [00:00<00:00, 22.74it/s]\n",
      "Validation: 100%|██████████| 1/1 [00:00<00:00, 29.16it/s]\n"
     ]
    },
    {
     "name": "stdout",
     "output_type": "stream",
     "text": [
      "Epoch: 431, Train Loss: 373.1679, \n",
      "Validation Loss: 110.4762\n"
     ]
    },
    {
     "name": "stderr",
     "output_type": "stream",
     "text": [
      "Epoch 432/1500: 100%|██████████| 1/1 [00:00<00:00, 21.68it/s]\n",
      "Epoch 433/1500: 100%|██████████| 1/1 [00:00<00:00, 22.30it/s]\n",
      "Validation: 100%|██████████| 1/1 [00:00<00:00, 28.77it/s]\n"
     ]
    },
    {
     "name": "stdout",
     "output_type": "stream",
     "text": [
      "Epoch: 433, Train Loss: 368.2941, \n",
      "Validation Loss: 267.2415\n"
     ]
    },
    {
     "name": "stderr",
     "output_type": "stream",
     "text": [
      "Epoch 434/1500: 100%|██████████| 1/1 [00:00<00:00, 22.21it/s]\n",
      "Epoch 435/1500: 100%|██████████| 1/1 [00:00<00:00, 22.31it/s]\n",
      "Validation: 100%|██████████| 1/1 [00:00<00:00, 28.36it/s]\n"
     ]
    },
    {
     "name": "stdout",
     "output_type": "stream",
     "text": [
      "Epoch: 435, Train Loss: 261.3622, \n",
      "Validation Loss: 244.2921\n"
     ]
    },
    {
     "name": "stderr",
     "output_type": "stream",
     "text": [
      "Epoch 436/1500: 100%|██████████| 1/1 [00:00<00:00, 20.42it/s]\n",
      "Epoch 437/1500: 100%|██████████| 1/1 [00:00<00:00, 22.44it/s]\n",
      "Validation: 100%|██████████| 1/1 [00:00<00:00, 28.90it/s]\n"
     ]
    },
    {
     "name": "stdout",
     "output_type": "stream",
     "text": [
      "Epoch: 437, Train Loss: 471.1738, \n",
      "Validation Loss: 201.5079\n"
     ]
    },
    {
     "name": "stderr",
     "output_type": "stream",
     "text": [
      "Epoch 438/1500: 100%|██████████| 1/1 [00:00<00:00, 21.93it/s]\n",
      "Epoch 439/1500: 100%|██████████| 1/1 [00:00<00:00, 22.78it/s]\n",
      "Validation: 100%|██████████| 1/1 [00:00<00:00, 28.18it/s]\n"
     ]
    },
    {
     "name": "stdout",
     "output_type": "stream",
     "text": [
      "Epoch: 439, Train Loss: 360.4080, \n",
      "Validation Loss: 168.6836\n"
     ]
    },
    {
     "name": "stderr",
     "output_type": "stream",
     "text": [
      "Epoch 440/1500: 100%|██████████| 1/1 [00:00<00:00, 22.27it/s]\n",
      "Epoch 441/1500: 100%|██████████| 1/1 [00:00<00:00, 22.72it/s]\n",
      "Validation: 100%|██████████| 1/1 [00:00<00:00, 28.80it/s]\n"
     ]
    },
    {
     "name": "stdout",
     "output_type": "stream",
     "text": [
      "Epoch: 441, Train Loss: 292.3202, \n",
      "Validation Loss: 205.9066\n"
     ]
    },
    {
     "name": "stderr",
     "output_type": "stream",
     "text": [
      "Epoch 442/1500: 100%|██████████| 1/1 [00:00<00:00, 20.67it/s]\n",
      "Epoch 443/1500: 100%|██████████| 1/1 [00:00<00:00, 22.30it/s]\n",
      "Validation: 100%|██████████| 1/1 [00:00<00:00, 28.22it/s]\n"
     ]
    },
    {
     "name": "stdout",
     "output_type": "stream",
     "text": [
      "Epoch: 443, Train Loss: 266.6743, \n",
      "Validation Loss: 204.3067\n"
     ]
    },
    {
     "name": "stderr",
     "output_type": "stream",
     "text": [
      "Epoch 444/1500: 100%|██████████| 1/1 [00:00<00:00, 21.68it/s]\n",
      "Epoch 445/1500: 100%|██████████| 1/1 [00:00<00:00, 22.73it/s]\n",
      "Validation: 100%|██████████| 1/1 [00:00<00:00, 28.60it/s]\n"
     ]
    },
    {
     "name": "stdout",
     "output_type": "stream",
     "text": [
      "Epoch: 445, Train Loss: 252.7491, \n",
      "Validation Loss: 177.9550\n"
     ]
    },
    {
     "name": "stderr",
     "output_type": "stream",
     "text": [
      "Epoch 446/1500: 100%|██████████| 1/1 [00:00<00:00, 19.74it/s]\n",
      "Epoch 447/1500: 100%|██████████| 1/1 [00:00<00:00, 19.59it/s]\n",
      "Validation: 100%|██████████| 1/1 [00:00<00:00, 28.47it/s]\n"
     ]
    },
    {
     "name": "stdout",
     "output_type": "stream",
     "text": [
      "Epoch: 447, Train Loss: 280.0549, \n",
      "Validation Loss: 144.2899\n"
     ]
    },
    {
     "name": "stderr",
     "output_type": "stream",
     "text": [
      "Epoch 448/1500: 100%|██████████| 1/1 [00:00<00:00, 22.29it/s]\n",
      "Epoch 449/1500: 100%|██████████| 1/1 [00:00<00:00, 22.29it/s]\n",
      "Validation: 100%|██████████| 1/1 [00:00<00:00, 28.76it/s]\n"
     ]
    },
    {
     "name": "stdout",
     "output_type": "stream",
     "text": [
      "Epoch: 449, Train Loss: 336.5862, \n",
      "Validation Loss: 137.0810\n"
     ]
    },
    {
     "name": "stderr",
     "output_type": "stream",
     "text": [
      "Epoch 450/1500: 100%|██████████| 1/1 [00:00<00:00, 22.05it/s]\n",
      "Epoch 451/1500: 100%|██████████| 1/1 [00:00<00:00, 22.97it/s]\n",
      "Validation: 100%|██████████| 1/1 [00:00<00:00, 28.10it/s]\n"
     ]
    },
    {
     "name": "stdout",
     "output_type": "stream",
     "text": [
      "Epoch: 451, Train Loss: 172.5141, \n",
      "Validation Loss: 106.5570\n"
     ]
    },
    {
     "name": "stderr",
     "output_type": "stream",
     "text": [
      "Epoch 452/1500: 100%|██████████| 1/1 [00:00<00:00, 22.46it/s]\n",
      "Epoch 453/1500: 100%|██████████| 1/1 [00:00<00:00, 22.30it/s]\n",
      "Validation: 100%|██████████| 1/1 [00:00<00:00, 28.20it/s]\n"
     ]
    },
    {
     "name": "stdout",
     "output_type": "stream",
     "text": [
      "Epoch: 453, Train Loss: 274.4426, \n",
      "Validation Loss: 192.0585\n"
     ]
    },
    {
     "name": "stderr",
     "output_type": "stream",
     "text": [
      "Epoch 454/1500: 100%|██████████| 1/1 [00:00<00:00, 22.22it/s]\n",
      "Epoch 455/1500: 100%|██████████| 1/1 [00:00<00:00, 21.82it/s]\n",
      "Validation: 100%|██████████| 1/1 [00:00<00:00, 26.19it/s]\n"
     ]
    },
    {
     "name": "stdout",
     "output_type": "stream",
     "text": [
      "Epoch: 455, Train Loss: 201.1342, \n",
      "Validation Loss: 93.2751\n"
     ]
    },
    {
     "name": "stderr",
     "output_type": "stream",
     "text": [
      "Epoch 456/1500: 100%|██████████| 1/1 [00:00<00:00, 21.06it/s]\n",
      "Epoch 457/1500: 100%|██████████| 1/1 [00:00<00:00, 21.70it/s]\n",
      "Validation: 100%|██████████| 1/1 [00:00<00:00, 25.95it/s]\n"
     ]
    },
    {
     "name": "stdout",
     "output_type": "stream",
     "text": [
      "Epoch: 457, Train Loss: 341.5954, \n",
      "Validation Loss: 156.7159\n"
     ]
    },
    {
     "name": "stderr",
     "output_type": "stream",
     "text": [
      "Epoch 458/1500: 100%|██████████| 1/1 [00:00<00:00, 21.99it/s]\n",
      "Epoch 459/1500: 100%|██████████| 1/1 [00:00<00:00, 23.09it/s]\n",
      "Validation: 100%|██████████| 1/1 [00:00<00:00, 27.91it/s]\n"
     ]
    },
    {
     "name": "stdout",
     "output_type": "stream",
     "text": [
      "Epoch: 459, Train Loss: 162.3219, \n",
      "Validation Loss: 171.4014\n"
     ]
    },
    {
     "name": "stderr",
     "output_type": "stream",
     "text": [
      "Epoch 460/1500: 100%|██████████| 1/1 [00:00<00:00, 20.48it/s]\n",
      "Epoch 461/1500: 100%|██████████| 1/1 [00:00<00:00, 21.85it/s]\n",
      "Validation: 100%|██████████| 1/1 [00:00<00:00, 28.26it/s]\n"
     ]
    },
    {
     "name": "stdout",
     "output_type": "stream",
     "text": [
      "Epoch: 461, Train Loss: 284.3542, \n",
      "Validation Loss: 150.6219\n"
     ]
    },
    {
     "name": "stderr",
     "output_type": "stream",
     "text": [
      "Epoch 462/1500: 100%|██████████| 1/1 [00:00<00:00, 21.91it/s]\n",
      "Epoch 463/1500: 100%|██████████| 1/1 [00:00<00:00, 22.32it/s]\n",
      "Validation: 100%|██████████| 1/1 [00:00<00:00, 28.52it/s]\n"
     ]
    },
    {
     "name": "stdout",
     "output_type": "stream",
     "text": [
      "Epoch: 463, Train Loss: 259.0253, \n",
      "Validation Loss: 178.8094\n"
     ]
    },
    {
     "name": "stderr",
     "output_type": "stream",
     "text": [
      "Epoch 464/1500: 100%|██████████| 1/1 [00:00<00:00, 22.86it/s]\n",
      "Epoch 465/1500: 100%|██████████| 1/1 [00:00<00:00, 19.34it/s]\n",
      "Validation: 100%|██████████| 1/1 [00:00<00:00, 28.16it/s]\n"
     ]
    },
    {
     "name": "stdout",
     "output_type": "stream",
     "text": [
      "Epoch: 465, Train Loss: 462.3701, \n",
      "Validation Loss: 186.8853\n"
     ]
    },
    {
     "name": "stderr",
     "output_type": "stream",
     "text": [
      "Epoch 466/1500: 100%|██████████| 1/1 [00:00<00:00, 23.29it/s]\n",
      "Epoch 467/1500: 100%|██████████| 1/1 [00:00<00:00, 22.75it/s]\n",
      "Validation: 100%|██████████| 1/1 [00:00<00:00, 28.76it/s]\n"
     ]
    },
    {
     "name": "stdout",
     "output_type": "stream",
     "text": [
      "Epoch: 467, Train Loss: 302.5981, \n",
      "Validation Loss: 208.6210\n"
     ]
    },
    {
     "name": "stderr",
     "output_type": "stream",
     "text": [
      "Epoch 468/1500: 100%|██████████| 1/1 [00:00<00:00, 23.38it/s]\n",
      "Epoch 469/1500: 100%|██████████| 1/1 [00:00<00:00, 22.61it/s]\n",
      "Validation: 100%|██████████| 1/1 [00:00<00:00, 28.82it/s]\n"
     ]
    },
    {
     "name": "stdout",
     "output_type": "stream",
     "text": [
      "Epoch: 469, Train Loss: 323.2612, \n",
      "Validation Loss: 278.9443\n"
     ]
    },
    {
     "name": "stderr",
     "output_type": "stream",
     "text": [
      "Epoch 470/1500: 100%|██████████| 1/1 [00:00<00:00, 22.45it/s]\n",
      "Epoch 471/1500: 100%|██████████| 1/1 [00:00<00:00, 21.69it/s]\n",
      "Validation: 100%|██████████| 1/1 [00:00<00:00, 28.49it/s]\n"
     ]
    },
    {
     "name": "stdout",
     "output_type": "stream",
     "text": [
      "Epoch: 471, Train Loss: 335.7458, \n",
      "Validation Loss: 148.9215\n"
     ]
    },
    {
     "name": "stderr",
     "output_type": "stream",
     "text": [
      "Epoch 472/1500: 100%|██████████| 1/1 [00:00<00:00, 22.24it/s]\n",
      "Epoch 473/1500: 100%|██████████| 1/1 [00:00<00:00, 22.29it/s]\n",
      "Validation: 100%|██████████| 1/1 [00:00<00:00, 27.38it/s]\n"
     ]
    },
    {
     "name": "stdout",
     "output_type": "stream",
     "text": [
      "Epoch: 473, Train Loss: 251.3934, \n",
      "Validation Loss: 125.3107\n"
     ]
    },
    {
     "name": "stderr",
     "output_type": "stream",
     "text": [
      "Epoch 474/1500: 100%|██████████| 1/1 [00:00<00:00, 22.66it/s]\n",
      "Epoch 475/1500: 100%|██████████| 1/1 [00:00<00:00, 23.68it/s]\n",
      "Validation: 100%|██████████| 1/1 [00:00<00:00, 26.77it/s]\n"
     ]
    },
    {
     "name": "stdout",
     "output_type": "stream",
     "text": [
      "Epoch: 475, Train Loss: 241.3137, \n",
      "Validation Loss: 185.7434\n"
     ]
    },
    {
     "name": "stderr",
     "output_type": "stream",
     "text": [
      "Epoch 476/1500: 100%|██████████| 1/1 [00:00<00:00, 22.65it/s]\n",
      "Epoch 477/1500: 100%|██████████| 1/1 [00:00<00:00, 22.64it/s]\n",
      "Validation: 100%|██████████| 1/1 [00:00<00:00, 28.35it/s]\n"
     ]
    },
    {
     "name": "stdout",
     "output_type": "stream",
     "text": [
      "Epoch: 477, Train Loss: 371.0938, \n",
      "Validation Loss: 109.9516\n"
     ]
    },
    {
     "name": "stderr",
     "output_type": "stream",
     "text": [
      "Epoch 478/1500: 100%|██████████| 1/1 [00:00<00:00, 20.90it/s]\n",
      "Epoch 479/1500: 100%|██████████| 1/1 [00:00<00:00, 22.59it/s]\n",
      "Validation: 100%|██████████| 1/1 [00:00<00:00, 28.09it/s]\n"
     ]
    },
    {
     "name": "stdout",
     "output_type": "stream",
     "text": [
      "Epoch: 479, Train Loss: 225.2558, \n",
      "Validation Loss: 70.4791\n"
     ]
    },
    {
     "name": "stderr",
     "output_type": "stream",
     "text": [
      "Epoch 480/1500: 100%|██████████| 1/1 [00:00<00:00, 21.44it/s]\n",
      "Epoch 481/1500: 100%|██████████| 1/1 [00:00<00:00, 22.60it/s]\n",
      "Validation: 100%|██████████| 1/1 [00:00<00:00, 28.47it/s]\n"
     ]
    },
    {
     "name": "stdout",
     "output_type": "stream",
     "text": [
      "Epoch: 481, Train Loss: 259.5827, \n",
      "Validation Loss: 80.8176\n"
     ]
    },
    {
     "name": "stderr",
     "output_type": "stream",
     "text": [
      "Epoch 482/1500: 100%|██████████| 1/1 [00:00<00:00, 21.73it/s]\n",
      "Epoch 483/1500: 100%|██████████| 1/1 [00:00<00:00, 23.10it/s]\n",
      "Validation: 100%|██████████| 1/1 [00:00<00:00, 28.01it/s]\n"
     ]
    },
    {
     "name": "stdout",
     "output_type": "stream",
     "text": [
      "Epoch: 483, Train Loss: 360.8304, \n",
      "Validation Loss: 89.5010\n"
     ]
    },
    {
     "name": "stderr",
     "output_type": "stream",
     "text": [
      "Epoch 484/1500: 100%|██████████| 1/1 [00:00<00:00, 20.97it/s]\n",
      "Epoch 485/1500: 100%|██████████| 1/1 [00:00<00:00, 21.38it/s]\n",
      "Validation: 100%|██████████| 1/1 [00:00<00:00, 27.69it/s]\n"
     ]
    },
    {
     "name": "stdout",
     "output_type": "stream",
     "text": [
      "Epoch: 485, Train Loss: 260.9209, \n",
      "Validation Loss: 104.0476\n"
     ]
    },
    {
     "name": "stderr",
     "output_type": "stream",
     "text": [
      "Epoch 486/1500: 100%|██████████| 1/1 [00:00<00:00, 20.97it/s]\n",
      "Epoch 487/1500: 100%|██████████| 1/1 [00:00<00:00, 19.27it/s]\n",
      "Validation: 100%|██████████| 1/1 [00:00<00:00, 27.66it/s]\n"
     ]
    },
    {
     "name": "stdout",
     "output_type": "stream",
     "text": [
      "Epoch: 487, Train Loss: 231.7487, \n",
      "Validation Loss: 97.6382\n"
     ]
    },
    {
     "name": "stderr",
     "output_type": "stream",
     "text": [
      "Epoch 488/1500: 100%|██████████| 1/1 [00:00<00:00, 20.88it/s]\n",
      "Epoch 489/1500: 100%|██████████| 1/1 [00:00<00:00, 20.04it/s]\n",
      "Validation: 100%|██████████| 1/1 [00:00<00:00, 25.95it/s]\n"
     ]
    },
    {
     "name": "stdout",
     "output_type": "stream",
     "text": [
      "Epoch: 489, Train Loss: 180.8015, \n",
      "Validation Loss: 75.7774\n"
     ]
    },
    {
     "name": "stderr",
     "output_type": "stream",
     "text": [
      "Epoch 490/1500: 100%|██████████| 1/1 [00:00<00:00, 21.29it/s]\n",
      "Epoch 491/1500: 100%|██████████| 1/1 [00:00<00:00, 22.80it/s]\n",
      "Validation: 100%|██████████| 1/1 [00:00<00:00, 28.79it/s]\n"
     ]
    },
    {
     "name": "stdout",
     "output_type": "stream",
     "text": [
      "Epoch: 491, Train Loss: 217.3720, \n",
      "Validation Loss: 114.2435\n"
     ]
    },
    {
     "name": "stderr",
     "output_type": "stream",
     "text": [
      "Epoch 492/1500: 100%|██████████| 1/1 [00:00<00:00, 21.84it/s]\n",
      "Epoch 493/1500: 100%|██████████| 1/1 [00:00<00:00, 22.80it/s]\n",
      "Validation: 100%|██████████| 1/1 [00:00<00:00, 28.30it/s]\n"
     ]
    },
    {
     "name": "stdout",
     "output_type": "stream",
     "text": [
      "Epoch: 493, Train Loss: 257.0731, \n",
      "Validation Loss: 94.3437\n"
     ]
    },
    {
     "name": "stderr",
     "output_type": "stream",
     "text": [
      "Epoch 494/1500: 100%|██████████| 1/1 [00:00<00:00, 23.18it/s]\n",
      "Epoch 495/1500: 100%|██████████| 1/1 [00:00<00:00, 21.43it/s]\n",
      "Validation: 100%|██████████| 1/1 [00:00<00:00, 25.08it/s]\n"
     ]
    },
    {
     "name": "stdout",
     "output_type": "stream",
     "text": [
      "Epoch: 495, Train Loss: 129.6236, \n",
      "Validation Loss: 116.1364\n"
     ]
    },
    {
     "name": "stderr",
     "output_type": "stream",
     "text": [
      "Epoch 496/1500: 100%|██████████| 1/1 [00:00<00:00, 22.53it/s]\n",
      "Epoch 497/1500: 100%|██████████| 1/1 [00:00<00:00, 23.54it/s]\n",
      "Validation: 100%|██████████| 1/1 [00:00<00:00, 31.48it/s]\n"
     ]
    },
    {
     "name": "stdout",
     "output_type": "stream",
     "text": [
      "Epoch: 497, Train Loss: 224.8580, \n",
      "Validation Loss: 135.4386\n"
     ]
    },
    {
     "name": "stderr",
     "output_type": "stream",
     "text": [
      "Epoch 498/1500: 100%|██████████| 1/1 [00:00<00:00, 22.47it/s]\n",
      "Epoch 499/1500: 100%|██████████| 1/1 [00:00<00:00, 22.80it/s]\n",
      "Validation: 100%|██████████| 1/1 [00:00<00:00, 25.98it/s]\n"
     ]
    },
    {
     "name": "stdout",
     "output_type": "stream",
     "text": [
      "Epoch: 499, Train Loss: 249.9857, \n",
      "Validation Loss: 119.5423\n"
     ]
    },
    {
     "name": "stderr",
     "output_type": "stream",
     "text": [
      "Epoch 500/1500: 100%|██████████| 1/1 [00:00<00:00, 20.69it/s]\n",
      "Epoch 501/1500: 100%|██████████| 1/1 [00:00<00:00, 22.44it/s]\n",
      "Validation: 100%|██████████| 1/1 [00:00<00:00, 28.80it/s]\n"
     ]
    },
    {
     "name": "stdout",
     "output_type": "stream",
     "text": [
      "Epoch: 501, Train Loss: 172.7494, \n",
      "Validation Loss: 140.7512\n"
     ]
    },
    {
     "name": "stderr",
     "output_type": "stream",
     "text": [
      "Epoch 502/1500: 100%|██████████| 1/1 [00:00<00:00, 22.73it/s]\n",
      "Epoch 503/1500: 100%|██████████| 1/1 [00:00<00:00, 22.50it/s]\n",
      "Validation: 100%|██████████| 1/1 [00:00<00:00, 28.80it/s]\n"
     ]
    },
    {
     "name": "stdout",
     "output_type": "stream",
     "text": [
      "Epoch: 503, Train Loss: 186.2543, \n",
      "Validation Loss: 115.3224\n"
     ]
    },
    {
     "name": "stderr",
     "output_type": "stream",
     "text": [
      "Epoch 504/1500: 100%|██████████| 1/1 [00:00<00:00, 22.45it/s]\n",
      "Epoch 505/1500: 100%|██████████| 1/1 [00:00<00:00, 23.56it/s]\n",
      "Validation: 100%|██████████| 1/1 [00:00<00:00, 28.50it/s]\n"
     ]
    },
    {
     "name": "stdout",
     "output_type": "stream",
     "text": [
      "Epoch: 505, Train Loss: 168.6922, \n",
      "Validation Loss: 102.4393\n"
     ]
    },
    {
     "name": "stderr",
     "output_type": "stream",
     "text": [
      "Epoch 506/1500: 100%|██████████| 1/1 [00:00<00:00, 22.06it/s]\n",
      "Epoch 507/1500: 100%|██████████| 1/1 [00:00<00:00, 22.25it/s]\n",
      "Validation: 100%|██████████| 1/1 [00:00<00:00, 28.70it/s]\n"
     ]
    },
    {
     "name": "stdout",
     "output_type": "stream",
     "text": [
      "Epoch: 507, Train Loss: 238.3337, \n",
      "Validation Loss: 62.7779\n"
     ]
    },
    {
     "name": "stderr",
     "output_type": "stream",
     "text": [
      "Epoch 508/1500: 100%|██████████| 1/1 [00:00<00:00, 21.15it/s]\n",
      "Epoch 509/1500: 100%|██████████| 1/1 [00:00<00:00, 19.91it/s]\n",
      "Validation: 100%|██████████| 1/1 [00:00<00:00, 23.41it/s]\n"
     ]
    },
    {
     "name": "stdout",
     "output_type": "stream",
     "text": [
      "Epoch: 509, Train Loss: 250.9431, \n",
      "Validation Loss: 94.7523\n"
     ]
    },
    {
     "name": "stderr",
     "output_type": "stream",
     "text": [
      "Epoch 510/1500: 100%|██████████| 1/1 [00:00<00:00, 21.33it/s]\n",
      "Epoch 511/1500: 100%|██████████| 1/1 [00:00<00:00, 23.72it/s]\n",
      "Validation: 100%|██████████| 1/1 [00:00<00:00, 28.83it/s]\n"
     ]
    },
    {
     "name": "stdout",
     "output_type": "stream",
     "text": [
      "Epoch: 511, Train Loss: 203.4627, \n",
      "Validation Loss: 202.8930\n"
     ]
    },
    {
     "name": "stderr",
     "output_type": "stream",
     "text": [
      "Epoch 512/1500: 100%|██████████| 1/1 [00:00<00:00, 21.99it/s]\n",
      "Epoch 513/1500: 100%|██████████| 1/1 [00:00<00:00, 22.31it/s]\n",
      "Validation: 100%|██████████| 1/1 [00:00<00:00, 29.59it/s]\n"
     ]
    },
    {
     "name": "stdout",
     "output_type": "stream",
     "text": [
      "Epoch: 513, Train Loss: 195.9967, \n",
      "Validation Loss: 129.6033\n"
     ]
    },
    {
     "name": "stderr",
     "output_type": "stream",
     "text": [
      "Epoch 514/1500: 100%|██████████| 1/1 [00:00<00:00, 21.25it/s]\n",
      "Epoch 515/1500: 100%|██████████| 1/1 [00:00<00:00, 23.45it/s]\n",
      "Validation: 100%|██████████| 1/1 [00:00<00:00, 29.32it/s]\n"
     ]
    },
    {
     "name": "stdout",
     "output_type": "stream",
     "text": [
      "Epoch: 515, Train Loss: 141.2249, \n",
      "Validation Loss: 200.0318\n"
     ]
    },
    {
     "name": "stderr",
     "output_type": "stream",
     "text": [
      "Epoch 516/1500: 100%|██████████| 1/1 [00:00<00:00, 22.20it/s]\n",
      "Epoch 517/1500: 100%|██████████| 1/1 [00:00<00:00, 21.55it/s]\n",
      "Validation: 100%|██████████| 1/1 [00:00<00:00, 29.06it/s]\n"
     ]
    },
    {
     "name": "stdout",
     "output_type": "stream",
     "text": [
      "Epoch: 517, Train Loss: 154.7435, \n",
      "Validation Loss: 151.4059\n"
     ]
    },
    {
     "name": "stderr",
     "output_type": "stream",
     "text": [
      "Epoch 518/1500: 100%|██████████| 1/1 [00:00<00:00, 20.55it/s]\n",
      "Epoch 519/1500: 100%|██████████| 1/1 [00:00<00:00, 20.75it/s]\n",
      "Validation: 100%|██████████| 1/1 [00:00<00:00, 28.81it/s]\n"
     ]
    },
    {
     "name": "stdout",
     "output_type": "stream",
     "text": [
      "Epoch: 519, Train Loss: 240.9485, \n",
      "Validation Loss: 149.9760\n"
     ]
    },
    {
     "name": "stderr",
     "output_type": "stream",
     "text": [
      "Epoch 520/1500: 100%|██████████| 1/1 [00:00<00:00, 22.43it/s]\n",
      "Epoch 521/1500: 100%|██████████| 1/1 [00:00<00:00, 21.81it/s]\n",
      "Validation: 100%|██████████| 1/1 [00:00<00:00, 27.65it/s]\n"
     ]
    },
    {
     "name": "stdout",
     "output_type": "stream",
     "text": [
      "Epoch: 521, Train Loss: 310.9760, \n",
      "Validation Loss: 83.8502\n"
     ]
    },
    {
     "name": "stderr",
     "output_type": "stream",
     "text": [
      "Epoch 522/1500: 100%|██████████| 1/1 [00:00<00:00, 21.74it/s]\n",
      "Epoch 523/1500: 100%|██████████| 1/1 [00:00<00:00, 23.12it/s]\n",
      "Validation: 100%|██████████| 1/1 [00:00<00:00, 28.49it/s]\n"
     ]
    },
    {
     "name": "stdout",
     "output_type": "stream",
     "text": [
      "Epoch: 523, Train Loss: 226.9396, \n",
      "Validation Loss: 143.1697\n"
     ]
    },
    {
     "name": "stderr",
     "output_type": "stream",
     "text": [
      "Epoch 524/1500: 100%|██████████| 1/1 [00:00<00:00, 21.11it/s]\n",
      "Epoch 525/1500: 100%|██████████| 1/1 [00:00<00:00, 22.72it/s]\n",
      "Validation: 100%|██████████| 1/1 [00:00<00:00, 30.14it/s]\n"
     ]
    },
    {
     "name": "stdout",
     "output_type": "stream",
     "text": [
      "Epoch: 525, Train Loss: 271.5945, \n",
      "Validation Loss: 120.0676\n"
     ]
    },
    {
     "name": "stderr",
     "output_type": "stream",
     "text": [
      "Epoch 526/1500: 100%|██████████| 1/1 [00:00<00:00, 21.08it/s]\n",
      "Epoch 527/1500: 100%|██████████| 1/1 [00:00<00:00, 22.80it/s]\n",
      "Validation: 100%|██████████| 1/1 [00:00<00:00, 28.99it/s]\n"
     ]
    },
    {
     "name": "stdout",
     "output_type": "stream",
     "text": [
      "Epoch: 527, Train Loss: 218.3571, \n",
      "Validation Loss: 113.2286\n"
     ]
    },
    {
     "name": "stderr",
     "output_type": "stream",
     "text": [
      "Epoch 528/1500: 100%|██████████| 1/1 [00:00<00:00, 22.62it/s]\n",
      "Epoch 529/1500: 100%|██████████| 1/1 [00:00<00:00, 23.63it/s]\n",
      "Validation: 100%|██████████| 1/1 [00:00<00:00, 29.01it/s]\n"
     ]
    },
    {
     "name": "stdout",
     "output_type": "stream",
     "text": [
      "Epoch: 529, Train Loss: 206.6479, \n",
      "Validation Loss: 142.7243\n"
     ]
    },
    {
     "name": "stderr",
     "output_type": "stream",
     "text": [
      "Epoch 530/1500: 100%|██████████| 1/1 [00:00<00:00, 21.06it/s]\n",
      "Epoch 531/1500: 100%|██████████| 1/1 [00:00<00:00, 23.52it/s]\n",
      "Validation: 100%|██████████| 1/1 [00:00<00:00, 29.45it/s]\n"
     ]
    },
    {
     "name": "stdout",
     "output_type": "stream",
     "text": [
      "Epoch: 531, Train Loss: 369.3798, \n",
      "Validation Loss: 104.9021\n"
     ]
    },
    {
     "name": "stderr",
     "output_type": "stream",
     "text": [
      "Epoch 532/1500: 100%|██████████| 1/1 [00:00<00:00, 22.50it/s]\n",
      "Epoch 533/1500: 100%|██████████| 1/1 [00:00<00:00, 23.67it/s]\n",
      "Validation: 100%|██████████| 1/1 [00:00<00:00, 28.79it/s]\n"
     ]
    },
    {
     "name": "stdout",
     "output_type": "stream",
     "text": [
      "Epoch: 533, Train Loss: 175.1222, \n",
      "Validation Loss: 113.5265\n"
     ]
    },
    {
     "name": "stderr",
     "output_type": "stream",
     "text": [
      "Epoch 534/1500: 100%|██████████| 1/1 [00:00<00:00, 23.31it/s]\n",
      "Epoch 535/1500: 100%|██████████| 1/1 [00:00<00:00, 22.95it/s]\n",
      "Validation: 100%|██████████| 1/1 [00:00<00:00, 29.22it/s]\n"
     ]
    },
    {
     "name": "stdout",
     "output_type": "stream",
     "text": [
      "Epoch: 535, Train Loss: 166.9472, \n",
      "Validation Loss: 126.3919\n"
     ]
    },
    {
     "name": "stderr",
     "output_type": "stream",
     "text": [
      "Epoch 536/1500: 100%|██████████| 1/1 [00:00<00:00, 22.62it/s]\n",
      "Epoch 537/1500: 100%|██████████| 1/1 [00:00<00:00, 23.09it/s]\n",
      "Validation: 100%|██████████| 1/1 [00:00<00:00, 29.45it/s]\n"
     ]
    },
    {
     "name": "stdout",
     "output_type": "stream",
     "text": [
      "Epoch: 537, Train Loss: 171.2352, \n",
      "Validation Loss: 115.1047\n"
     ]
    },
    {
     "name": "stderr",
     "output_type": "stream",
     "text": [
      "Epoch 538/1500: 100%|██████████| 1/1 [00:00<00:00, 23.61it/s]\n",
      "Epoch 539/1500: 100%|██████████| 1/1 [00:00<00:00, 23.15it/s]\n",
      "Validation: 100%|██████████| 1/1 [00:00<00:00, 29.80it/s]\n"
     ]
    },
    {
     "name": "stdout",
     "output_type": "stream",
     "text": [
      "Epoch: 539, Train Loss: 319.1857, \n",
      "Validation Loss: 162.3780\n"
     ]
    },
    {
     "name": "stderr",
     "output_type": "stream",
     "text": [
      "Epoch 540/1500: 100%|██████████| 1/1 [00:00<00:00, 22.91it/s]\n",
      "Epoch 541/1500: 100%|██████████| 1/1 [00:00<00:00, 22.50it/s]\n",
      "Validation: 100%|██████████| 1/1 [00:00<00:00, 28.36it/s]\n"
     ]
    },
    {
     "name": "stdout",
     "output_type": "stream",
     "text": [
      "Epoch: 541, Train Loss: 233.1981, \n",
      "Validation Loss: 118.4353\n"
     ]
    },
    {
     "name": "stderr",
     "output_type": "stream",
     "text": [
      "Epoch 542/1500: 100%|██████████| 1/1 [00:00<00:00, 23.57it/s]\n",
      "Epoch 543/1500: 100%|██████████| 1/1 [00:00<00:00, 22.82it/s]\n",
      "Validation: 100%|██████████| 1/1 [00:00<00:00, 29.48it/s]\n"
     ]
    },
    {
     "name": "stdout",
     "output_type": "stream",
     "text": [
      "Epoch: 543, Train Loss: 162.5055, \n",
      "Validation Loss: 141.4966\n"
     ]
    },
    {
     "name": "stderr",
     "output_type": "stream",
     "text": [
      "Epoch 544/1500: 100%|██████████| 1/1 [00:00<00:00, 22.22it/s]\n",
      "Epoch 545/1500: 100%|██████████| 1/1 [00:00<00:00, 22.63it/s]\n",
      "Validation: 100%|██████████| 1/1 [00:00<00:00, 29.07it/s]\n"
     ]
    },
    {
     "name": "stdout",
     "output_type": "stream",
     "text": [
      "Epoch: 545, Train Loss: 391.2032, \n",
      "Validation Loss: 266.6530\n"
     ]
    },
    {
     "name": "stderr",
     "output_type": "stream",
     "text": [
      "Epoch 546/1500: 100%|██████████| 1/1 [00:00<00:00, 22.79it/s]\n",
      "Epoch 547/1500: 100%|██████████| 1/1 [00:00<00:00, 22.72it/s]\n",
      "Validation: 100%|██████████| 1/1 [00:00<00:00, 25.71it/s]\n"
     ]
    },
    {
     "name": "stdout",
     "output_type": "stream",
     "text": [
      "Epoch: 547, Train Loss: 212.7506, \n",
      "Validation Loss: 106.6539\n"
     ]
    },
    {
     "name": "stderr",
     "output_type": "stream",
     "text": [
      "Epoch 548/1500: 100%|██████████| 1/1 [00:00<00:00, 21.93it/s]\n",
      "Epoch 549/1500: 100%|██████████| 1/1 [00:00<00:00, 22.64it/s]\n",
      "Validation: 100%|██████████| 1/1 [00:00<00:00, 28.21it/s]\n"
     ]
    },
    {
     "name": "stdout",
     "output_type": "stream",
     "text": [
      "Epoch: 549, Train Loss: 214.4331, \n",
      "Validation Loss: 107.6078\n"
     ]
    },
    {
     "name": "stderr",
     "output_type": "stream",
     "text": [
      "Epoch 550/1500: 100%|██████████| 1/1 [00:00<00:00, 22.91it/s]\n",
      "Epoch 551/1500: 100%|██████████| 1/1 [00:00<00:00, 22.54it/s]\n",
      "Validation: 100%|██████████| 1/1 [00:00<00:00, 26.74it/s]\n"
     ]
    },
    {
     "name": "stdout",
     "output_type": "stream",
     "text": [
      "Epoch: 551, Train Loss: 434.3779, \n",
      "Validation Loss: 203.6886\n"
     ]
    },
    {
     "name": "stderr",
     "output_type": "stream",
     "text": [
      "Epoch 552/1500: 100%|██████████| 1/1 [00:00<00:00, 22.32it/s]\n",
      "Epoch 553/1500: 100%|██████████| 1/1 [00:00<00:00, 22.58it/s]\n",
      "Validation: 100%|██████████| 1/1 [00:00<00:00, 28.64it/s]\n"
     ]
    },
    {
     "name": "stdout",
     "output_type": "stream",
     "text": [
      "Epoch: 553, Train Loss: 179.2946, \n",
      "Validation Loss: 135.0759\n"
     ]
    },
    {
     "name": "stderr",
     "output_type": "stream",
     "text": [
      "Epoch 554/1500: 100%|██████████| 1/1 [00:00<00:00, 22.44it/s]\n",
      "Epoch 555/1500: 100%|██████████| 1/1 [00:00<00:00, 23.05it/s]\n",
      "Validation: 100%|██████████| 1/1 [00:00<00:00, 28.53it/s]\n"
     ]
    },
    {
     "name": "stdout",
     "output_type": "stream",
     "text": [
      "Epoch: 555, Train Loss: 242.1112, \n",
      "Validation Loss: 176.2428\n"
     ]
    },
    {
     "name": "stderr",
     "output_type": "stream",
     "text": [
      "Epoch 556/1500: 100%|██████████| 1/1 [00:00<00:00, 21.65it/s]\n",
      "Epoch 557/1500: 100%|██████████| 1/1 [00:00<00:00, 22.86it/s]\n",
      "Validation: 100%|██████████| 1/1 [00:00<00:00, 27.99it/s]\n"
     ]
    },
    {
     "name": "stdout",
     "output_type": "stream",
     "text": [
      "Epoch: 557, Train Loss: 201.6956, \n",
      "Validation Loss: 93.1962\n"
     ]
    },
    {
     "name": "stderr",
     "output_type": "stream",
     "text": [
      "Epoch 558/1500: 100%|██████████| 1/1 [00:00<00:00, 22.44it/s]\n",
      "Epoch 559/1500: 100%|██████████| 1/1 [00:00<00:00, 23.13it/s]\n",
      "Validation: 100%|██████████| 1/1 [00:00<00:00, 29.49it/s]\n"
     ]
    },
    {
     "name": "stdout",
     "output_type": "stream",
     "text": [
      "Epoch: 559, Train Loss: 210.7479, \n",
      "Validation Loss: 90.5799\n"
     ]
    },
    {
     "name": "stderr",
     "output_type": "stream",
     "text": [
      "Epoch 560/1500: 100%|██████████| 1/1 [00:00<00:00, 23.67it/s]\n",
      "Epoch 561/1500: 100%|██████████| 1/1 [00:00<00:00, 23.88it/s]\n",
      "Validation: 100%|██████████| 1/1 [00:00<00:00, 29.25it/s]\n"
     ]
    },
    {
     "name": "stdout",
     "output_type": "stream",
     "text": [
      "Epoch: 561, Train Loss: 260.8008, \n",
      "Validation Loss: 123.9534\n"
     ]
    },
    {
     "name": "stderr",
     "output_type": "stream",
     "text": [
      "Epoch 562/1500: 100%|██████████| 1/1 [00:00<00:00, 20.04it/s]\n",
      "Epoch 563/1500: 100%|██████████| 1/1 [00:00<00:00, 21.45it/s]\n",
      "Validation: 100%|██████████| 1/1 [00:00<00:00, 29.13it/s]\n"
     ]
    },
    {
     "name": "stdout",
     "output_type": "stream",
     "text": [
      "Epoch: 563, Train Loss: 230.1331, \n",
      "Validation Loss: 117.7589\n"
     ]
    },
    {
     "name": "stderr",
     "output_type": "stream",
     "text": [
      "Epoch 564/1500: 100%|██████████| 1/1 [00:00<00:00, 23.02it/s]\n",
      "Epoch 565/1500: 100%|██████████| 1/1 [00:00<00:00, 21.57it/s]\n",
      "Validation: 100%|██████████| 1/1 [00:00<00:00, 28.73it/s]\n"
     ]
    },
    {
     "name": "stdout",
     "output_type": "stream",
     "text": [
      "Epoch: 565, Train Loss: 116.1464, \n",
      "Validation Loss: 89.5911\n"
     ]
    },
    {
     "name": "stderr",
     "output_type": "stream",
     "text": [
      "Epoch 566/1500: 100%|██████████| 1/1 [00:00<00:00, 22.68it/s]\n",
      "Epoch 567/1500: 100%|██████████| 1/1 [00:00<00:00, 22.16it/s]\n",
      "Validation: 100%|██████████| 1/1 [00:00<00:00, 28.53it/s]\n"
     ]
    },
    {
     "name": "stdout",
     "output_type": "stream",
     "text": [
      "Epoch: 567, Train Loss: 124.1009, \n",
      "Validation Loss: 58.6734\n"
     ]
    },
    {
     "name": "stderr",
     "output_type": "stream",
     "text": [
      "Epoch 568/1500: 100%|██████████| 1/1 [00:00<00:00, 20.94it/s]\n",
      "Epoch 569/1500: 100%|██████████| 1/1 [00:00<00:00, 22.36it/s]\n",
      "Validation: 100%|██████████| 1/1 [00:00<00:00, 29.02it/s]\n"
     ]
    },
    {
     "name": "stdout",
     "output_type": "stream",
     "text": [
      "Epoch: 569, Train Loss: 261.9875, \n",
      "Validation Loss: 70.3387\n"
     ]
    },
    {
     "name": "stderr",
     "output_type": "stream",
     "text": [
      "Epoch 570/1500: 100%|██████████| 1/1 [00:00<00:00, 23.16it/s]\n",
      "Epoch 571/1500: 100%|██████████| 1/1 [00:00<00:00, 23.28it/s]\n",
      "Validation: 100%|██████████| 1/1 [00:00<00:00, 29.40it/s]\n"
     ]
    },
    {
     "name": "stdout",
     "output_type": "stream",
     "text": [
      "Epoch: 571, Train Loss: 303.9881, \n",
      "Validation Loss: 62.0594\n"
     ]
    },
    {
     "name": "stderr",
     "output_type": "stream",
     "text": [
      "Epoch 572/1500: 100%|██████████| 1/1 [00:00<00:00, 22.58it/s]\n",
      "Epoch 573/1500: 100%|██████████| 1/1 [00:00<00:00, 23.39it/s]\n",
      "Validation: 100%|██████████| 1/1 [00:00<00:00, 29.28it/s]\n"
     ]
    },
    {
     "name": "stdout",
     "output_type": "stream",
     "text": [
      "Epoch: 573, Train Loss: 178.7071, \n",
      "Validation Loss: 94.9219\n"
     ]
    },
    {
     "name": "stderr",
     "output_type": "stream",
     "text": [
      "Epoch 574/1500: 100%|██████████| 1/1 [00:00<00:00, 23.42it/s]\n",
      "Epoch 575/1500: 100%|██████████| 1/1 [00:00<00:00, 23.82it/s]\n",
      "Validation: 100%|██████████| 1/1 [00:00<00:00, 28.94it/s]\n"
     ]
    },
    {
     "name": "stdout",
     "output_type": "stream",
     "text": [
      "Epoch: 575, Train Loss: 176.9404, \n",
      "Validation Loss: 71.9368\n"
     ]
    },
    {
     "name": "stderr",
     "output_type": "stream",
     "text": [
      "Epoch 576/1500: 100%|██████████| 1/1 [00:00<00:00, 23.31it/s]\n",
      "Epoch 577/1500: 100%|██████████| 1/1 [00:00<00:00, 22.86it/s]\n",
      "Validation: 100%|██████████| 1/1 [00:00<00:00, 29.34it/s]\n"
     ]
    },
    {
     "name": "stdout",
     "output_type": "stream",
     "text": [
      "Epoch: 577, Train Loss: 174.7452, \n",
      "Validation Loss: 65.9389\n"
     ]
    },
    {
     "name": "stderr",
     "output_type": "stream",
     "text": [
      "Epoch 578/1500: 100%|██████████| 1/1 [00:00<00:00, 22.83it/s]\n",
      "Epoch 579/1500: 100%|██████████| 1/1 [00:00<00:00, 22.64it/s]\n",
      "Validation: 100%|██████████| 1/1 [00:00<00:00, 28.38it/s]\n"
     ]
    },
    {
     "name": "stdout",
     "output_type": "stream",
     "text": [
      "Epoch: 579, Train Loss: 154.2010, \n",
      "Validation Loss: 121.7752\n"
     ]
    },
    {
     "name": "stderr",
     "output_type": "stream",
     "text": [
      "Epoch 580/1500: 100%|██████████| 1/1 [00:00<00:00, 20.76it/s]\n",
      "Epoch 581/1500: 100%|██████████| 1/1 [00:00<00:00, 22.58it/s]\n",
      "Validation: 100%|██████████| 1/1 [00:00<00:00, 28.36it/s]\n"
     ]
    },
    {
     "name": "stdout",
     "output_type": "stream",
     "text": [
      "Epoch: 581, Train Loss: 232.1670, \n",
      "Validation Loss: 71.2315\n"
     ]
    },
    {
     "name": "stderr",
     "output_type": "stream",
     "text": [
      "Epoch 582/1500: 100%|██████████| 1/1 [00:00<00:00, 22.30it/s]\n",
      "Epoch 583/1500: 100%|██████████| 1/1 [00:00<00:00, 22.32it/s]\n",
      "Validation: 100%|██████████| 1/1 [00:00<00:00, 27.98it/s]\n"
     ]
    },
    {
     "name": "stdout",
     "output_type": "stream",
     "text": [
      "Epoch: 583, Train Loss: 176.0784, \n",
      "Validation Loss: 56.2071\n"
     ]
    },
    {
     "name": "stderr",
     "output_type": "stream",
     "text": [
      "Epoch 584/1500: 100%|██████████| 1/1 [00:00<00:00, 21.51it/s]\n",
      "Epoch 585/1500: 100%|██████████| 1/1 [00:00<00:00, 22.26it/s]\n",
      "Validation: 100%|██████████| 1/1 [00:00<00:00, 27.39it/s]\n"
     ]
    },
    {
     "name": "stdout",
     "output_type": "stream",
     "text": [
      "Epoch: 585, Train Loss: 110.8980, \n",
      "Validation Loss: 79.3912\n"
     ]
    },
    {
     "name": "stderr",
     "output_type": "stream",
     "text": [
      "Epoch 586/1500: 100%|██████████| 1/1 [00:00<00:00, 21.74it/s]\n",
      "Epoch 587/1500: 100%|██████████| 1/1 [00:00<00:00, 22.97it/s]\n",
      "Validation: 100%|██████████| 1/1 [00:00<00:00, 29.18it/s]\n"
     ]
    },
    {
     "name": "stdout",
     "output_type": "stream",
     "text": [
      "Epoch: 587, Train Loss: 187.8709, \n",
      "Validation Loss: 65.4331\n"
     ]
    },
    {
     "name": "stderr",
     "output_type": "stream",
     "text": [
      "Epoch 588/1500: 100%|██████████| 1/1 [00:00<00:00, 22.66it/s]\n",
      "Epoch 589/1500: 100%|██████████| 1/1 [00:00<00:00, 23.66it/s]\n",
      "Validation: 100%|██████████| 1/1 [00:00<00:00, 28.39it/s]\n"
     ]
    },
    {
     "name": "stdout",
     "output_type": "stream",
     "text": [
      "Epoch: 589, Train Loss: 107.5540, \n",
      "Validation Loss: 54.3202\n"
     ]
    },
    {
     "name": "stderr",
     "output_type": "stream",
     "text": [
      "Epoch 590/1500: 100%|██████████| 1/1 [00:00<00:00, 22.52it/s]\n",
      "Epoch 591/1500: 100%|██████████| 1/1 [00:00<00:00, 22.99it/s]\n",
      "Validation: 100%|██████████| 1/1 [00:00<00:00, 29.30it/s]\n"
     ]
    },
    {
     "name": "stdout",
     "output_type": "stream",
     "text": [
      "Epoch: 591, Train Loss: 132.9684, \n",
      "Validation Loss: 69.7101\n"
     ]
    },
    {
     "name": "stderr",
     "output_type": "stream",
     "text": [
      "Epoch 592/1500: 100%|██████████| 1/1 [00:00<00:00, 21.48it/s]\n",
      "Epoch 593/1500: 100%|██████████| 1/1 [00:00<00:00, 23.54it/s]\n",
      "Validation: 100%|██████████| 1/1 [00:00<00:00, 27.78it/s]\n"
     ]
    },
    {
     "name": "stdout",
     "output_type": "stream",
     "text": [
      "Epoch: 593, Train Loss: 121.2710, \n",
      "Validation Loss: 83.3602\n"
     ]
    },
    {
     "name": "stderr",
     "output_type": "stream",
     "text": [
      "Epoch 594/1500: 100%|██████████| 1/1 [00:00<00:00, 22.73it/s]\n",
      "Epoch 595/1500: 100%|██████████| 1/1 [00:00<00:00, 23.40it/s]\n",
      "Validation: 100%|██████████| 1/1 [00:00<00:00, 29.03it/s]\n"
     ]
    },
    {
     "name": "stdout",
     "output_type": "stream",
     "text": [
      "Epoch: 595, Train Loss: 188.2516, \n",
      "Validation Loss: 70.4512\n"
     ]
    },
    {
     "name": "stderr",
     "output_type": "stream",
     "text": [
      "Epoch 596/1500: 100%|██████████| 1/1 [00:00<00:00, 21.67it/s]\n",
      "Epoch 597/1500: 100%|██████████| 1/1 [00:00<00:00, 20.46it/s]\n",
      "Validation: 100%|██████████| 1/1 [00:00<00:00, 28.24it/s]\n"
     ]
    },
    {
     "name": "stdout",
     "output_type": "stream",
     "text": [
      "Epoch: 597, Train Loss: 100.3910, \n",
      "Validation Loss: 42.5571\n"
     ]
    },
    {
     "name": "stderr",
     "output_type": "stream",
     "text": [
      "Epoch 598/1500: 100%|██████████| 1/1 [00:00<00:00, 22.08it/s]\n",
      "Epoch 599/1500: 100%|██████████| 1/1 [00:00<00:00, 23.05it/s]\n",
      "Validation: 100%|██████████| 1/1 [00:00<00:00, 28.53it/s]\n"
     ]
    },
    {
     "name": "stdout",
     "output_type": "stream",
     "text": [
      "Epoch: 599, Train Loss: 145.3872, \n",
      "Validation Loss: 90.8343\n"
     ]
    },
    {
     "name": "stderr",
     "output_type": "stream",
     "text": [
      "Epoch 600/1500: 100%|██████████| 1/1 [00:00<00:00, 22.00it/s]\n",
      "Epoch 601/1500: 100%|██████████| 1/1 [00:00<00:00, 22.71it/s]\n",
      "Validation: 100%|██████████| 1/1 [00:00<00:00, 28.55it/s]\n"
     ]
    },
    {
     "name": "stdout",
     "output_type": "stream",
     "text": [
      "Epoch: 601, Train Loss: 141.0597, \n",
      "Validation Loss: 97.0231\n"
     ]
    },
    {
     "name": "stderr",
     "output_type": "stream",
     "text": [
      "Epoch 602/1500: 100%|██████████| 1/1 [00:00<00:00, 22.08it/s]\n",
      "Epoch 603/1500: 100%|██████████| 1/1 [00:00<00:00, 22.81it/s]\n",
      "Validation: 100%|██████████| 1/1 [00:00<00:00, 27.86it/s]\n"
     ]
    },
    {
     "name": "stdout",
     "output_type": "stream",
     "text": [
      "Epoch: 603, Train Loss: 168.0401, \n",
      "Validation Loss: 49.6377\n"
     ]
    },
    {
     "name": "stderr",
     "output_type": "stream",
     "text": [
      "Epoch 604/1500: 100%|██████████| 1/1 [00:00<00:00, 22.83it/s]\n",
      "Epoch 605/1500: 100%|██████████| 1/1 [00:00<00:00, 22.11it/s]\n",
      "Validation: 100%|██████████| 1/1 [00:00<00:00, 27.95it/s]\n"
     ]
    },
    {
     "name": "stdout",
     "output_type": "stream",
     "text": [
      "Epoch: 605, Train Loss: 155.7895, \n",
      "Validation Loss: 90.2056\n"
     ]
    },
    {
     "name": "stderr",
     "output_type": "stream",
     "text": [
      "Epoch 606/1500: 100%|██████████| 1/1 [00:00<00:00, 22.33it/s]\n",
      "Epoch 607/1500: 100%|██████████| 1/1 [00:00<00:00, 21.67it/s]\n",
      "Validation: 100%|██████████| 1/1 [00:00<00:00, 28.23it/s]\n"
     ]
    },
    {
     "name": "stdout",
     "output_type": "stream",
     "text": [
      "Epoch: 607, Train Loss: 201.5601, \n",
      "Validation Loss: 70.7040\n"
     ]
    },
    {
     "name": "stderr",
     "output_type": "stream",
     "text": [
      "Epoch 608/1500: 100%|██████████| 1/1 [00:00<00:00, 22.42it/s]\n",
      "Epoch 609/1500: 100%|██████████| 1/1 [00:00<00:00, 23.52it/s]\n",
      "Validation: 100%|██████████| 1/1 [00:00<00:00, 28.23it/s]\n"
     ]
    },
    {
     "name": "stdout",
     "output_type": "stream",
     "text": [
      "Epoch: 609, Train Loss: 168.5741, \n",
      "Validation Loss: 72.2039\n"
     ]
    },
    {
     "name": "stderr",
     "output_type": "stream",
     "text": [
      "Epoch 610/1500: 100%|██████████| 1/1 [00:00<00:00, 22.56it/s]\n",
      "Epoch 611/1500: 100%|██████████| 1/1 [00:00<00:00, 23.03it/s]\n",
      "Validation: 100%|██████████| 1/1 [00:00<00:00, 29.28it/s]\n"
     ]
    },
    {
     "name": "stdout",
     "output_type": "stream",
     "text": [
      "Epoch: 611, Train Loss: 160.7690, \n",
      "Validation Loss: 99.4361\n"
     ]
    },
    {
     "name": "stderr",
     "output_type": "stream",
     "text": [
      "Epoch 612/1500: 100%|██████████| 1/1 [00:00<00:00, 23.23it/s]\n",
      "Epoch 613/1500: 100%|██████████| 1/1 [00:00<00:00, 22.93it/s]\n",
      "Validation: 100%|██████████| 1/1 [00:00<00:00, 29.19it/s]\n"
     ]
    },
    {
     "name": "stdout",
     "output_type": "stream",
     "text": [
      "Epoch: 613, Train Loss: 90.4156, \n",
      "Validation Loss: 73.9705\n"
     ]
    },
    {
     "name": "stderr",
     "output_type": "stream",
     "text": [
      "Epoch 614/1500: 100%|██████████| 1/1 [00:00<00:00, 22.37it/s]\n",
      "Epoch 615/1500: 100%|██████████| 1/1 [00:00<00:00, 22.83it/s]\n",
      "Validation: 100%|██████████| 1/1 [00:00<00:00, 28.90it/s]\n"
     ]
    },
    {
     "name": "stdout",
     "output_type": "stream",
     "text": [
      "Epoch: 615, Train Loss: 182.3654, \n",
      "Validation Loss: 88.5808\n"
     ]
    },
    {
     "name": "stderr",
     "output_type": "stream",
     "text": [
      "Epoch 616/1500: 100%|██████████| 1/1 [00:00<00:00, 22.43it/s]\n",
      "Epoch 617/1500: 100%|██████████| 1/1 [00:00<00:00, 23.31it/s]\n",
      "Validation: 100%|██████████| 1/1 [00:00<00:00, 28.77it/s]\n"
     ]
    },
    {
     "name": "stdout",
     "output_type": "stream",
     "text": [
      "Epoch: 617, Train Loss: 310.8297, \n",
      "Validation Loss: 73.9818\n"
     ]
    },
    {
     "name": "stderr",
     "output_type": "stream",
     "text": [
      "Epoch 618/1500: 100%|██████████| 1/1 [00:00<00:00, 19.76it/s]\n",
      "Epoch 619/1500: 100%|██████████| 1/1 [00:00<00:00, 22.52it/s]\n",
      "Validation: 100%|██████████| 1/1 [00:00<00:00, 28.89it/s]\n"
     ]
    },
    {
     "name": "stdout",
     "output_type": "stream",
     "text": [
      "Epoch: 619, Train Loss: 200.8379, \n",
      "Validation Loss: 96.1028\n"
     ]
    },
    {
     "name": "stderr",
     "output_type": "stream",
     "text": [
      "Epoch 620/1500: 100%|██████████| 1/1 [00:00<00:00, 19.19it/s]\n",
      "Epoch 621/1500: 100%|██████████| 1/1 [00:00<00:00, 20.18it/s]\n",
      "Validation: 100%|██████████| 1/1 [00:00<00:00, 28.75it/s]\n"
     ]
    },
    {
     "name": "stdout",
     "output_type": "stream",
     "text": [
      "Epoch: 621, Train Loss: 121.4676, \n",
      "Validation Loss: 103.6483\n"
     ]
    },
    {
     "name": "stderr",
     "output_type": "stream",
     "text": [
      "Epoch 622/1500: 100%|██████████| 1/1 [00:00<00:00, 22.50it/s]\n",
      "Epoch 623/1500: 100%|██████████| 1/1 [00:00<00:00, 22.12it/s]\n",
      "Validation: 100%|██████████| 1/1 [00:00<00:00, 28.32it/s]\n"
     ]
    },
    {
     "name": "stdout",
     "output_type": "stream",
     "text": [
      "Epoch: 623, Train Loss: 213.1011, \n",
      "Validation Loss: 136.3539\n"
     ]
    },
    {
     "name": "stderr",
     "output_type": "stream",
     "text": [
      "Epoch 624/1500: 100%|██████████| 1/1 [00:00<00:00, 21.22it/s]\n",
      "Epoch 625/1500: 100%|██████████| 1/1 [00:00<00:00, 22.08it/s]\n",
      "Validation: 100%|██████████| 1/1 [00:00<00:00, 29.74it/s]\n"
     ]
    },
    {
     "name": "stdout",
     "output_type": "stream",
     "text": [
      "Epoch: 625, Train Loss: 121.3056, \n",
      "Validation Loss: 58.8037\n"
     ]
    },
    {
     "name": "stderr",
     "output_type": "stream",
     "text": [
      "Epoch 626/1500: 100%|██████████| 1/1 [00:00<00:00, 23.79it/s]\n",
      "Epoch 627/1500: 100%|██████████| 1/1 [00:00<00:00, 23.10it/s]\n",
      "Validation: 100%|██████████| 1/1 [00:00<00:00, 29.42it/s]\n"
     ]
    },
    {
     "name": "stdout",
     "output_type": "stream",
     "text": [
      "Epoch: 627, Train Loss: 238.1428, \n",
      "Validation Loss: 164.6250\n"
     ]
    },
    {
     "name": "stderr",
     "output_type": "stream",
     "text": [
      "Epoch 628/1500: 100%|██████████| 1/1 [00:00<00:00, 22.50it/s]\n",
      "Epoch 629/1500: 100%|██████████| 1/1 [00:00<00:00, 23.81it/s]\n",
      "Validation: 100%|██████████| 1/1 [00:00<00:00, 29.56it/s]\n"
     ]
    },
    {
     "name": "stdout",
     "output_type": "stream",
     "text": [
      "Epoch: 629, Train Loss: 159.8519, \n",
      "Validation Loss: 73.7642\n"
     ]
    },
    {
     "name": "stderr",
     "output_type": "stream",
     "text": [
      "Epoch 630/1500: 100%|██████████| 1/1 [00:00<00:00, 21.52it/s]\n",
      "Epoch 631/1500: 100%|██████████| 1/1 [00:00<00:00, 22.82it/s]\n",
      "Validation: 100%|██████████| 1/1 [00:00<00:00, 28.53it/s]\n"
     ]
    },
    {
     "name": "stdout",
     "output_type": "stream",
     "text": [
      "Epoch: 631, Train Loss: 170.8313, \n",
      "Validation Loss: 66.7402\n"
     ]
    },
    {
     "name": "stderr",
     "output_type": "stream",
     "text": [
      "Epoch 632/1500: 100%|██████████| 1/1 [00:00<00:00, 21.82it/s]\n",
      "Epoch 633/1500: 100%|██████████| 1/1 [00:00<00:00, 22.27it/s]\n",
      "Validation: 100%|██████████| 1/1 [00:00<00:00, 28.78it/s]\n"
     ]
    },
    {
     "name": "stdout",
     "output_type": "stream",
     "text": [
      "Epoch: 633, Train Loss: 162.1407, \n",
      "Validation Loss: 89.9379\n"
     ]
    },
    {
     "name": "stderr",
     "output_type": "stream",
     "text": [
      "Epoch 634/1500: 100%|██████████| 1/1 [00:00<00:00, 22.34it/s]\n",
      "Epoch 635/1500: 100%|██████████| 1/1 [00:00<00:00, 23.29it/s]\n",
      "Validation: 100%|██████████| 1/1 [00:00<00:00, 29.33it/s]\n"
     ]
    },
    {
     "name": "stdout",
     "output_type": "stream",
     "text": [
      "Epoch: 635, Train Loss: 131.1981, \n",
      "Validation Loss: 133.8699\n"
     ]
    },
    {
     "name": "stderr",
     "output_type": "stream",
     "text": [
      "Epoch 636/1500: 100%|██████████| 1/1 [00:00<00:00, 22.66it/s]\n",
      "Epoch 637/1500: 100%|██████████| 1/1 [00:00<00:00, 23.13it/s]\n",
      "Validation: 100%|██████████| 1/1 [00:00<00:00, 28.31it/s]\n"
     ]
    },
    {
     "name": "stdout",
     "output_type": "stream",
     "text": [
      "Epoch: 637, Train Loss: 125.3873, \n",
      "Validation Loss: 126.1528\n"
     ]
    },
    {
     "name": "stderr",
     "output_type": "stream",
     "text": [
      "Epoch 638/1500: 100%|██████████| 1/1 [00:00<00:00, 22.54it/s]\n",
      "Epoch 639/1500: 100%|██████████| 1/1 [00:00<00:00, 22.27it/s]\n",
      "Validation: 100%|██████████| 1/1 [00:00<00:00, 28.52it/s]\n"
     ]
    },
    {
     "name": "stdout",
     "output_type": "stream",
     "text": [
      "Epoch: 639, Train Loss: 181.4608, \n",
      "Validation Loss: 76.5399\n"
     ]
    },
    {
     "name": "stderr",
     "output_type": "stream",
     "text": [
      "Epoch 640/1500: 100%|██████████| 1/1 [00:00<00:00, 20.76it/s]\n",
      "Epoch 641/1500: 100%|██████████| 1/1 [00:00<00:00, 22.20it/s]\n",
      "Validation: 100%|██████████| 1/1 [00:00<00:00, 28.75it/s]\n"
     ]
    },
    {
     "name": "stdout",
     "output_type": "stream",
     "text": [
      "Epoch: 641, Train Loss: 166.3354, \n",
      "Validation Loss: 135.7043\n"
     ]
    },
    {
     "name": "stderr",
     "output_type": "stream",
     "text": [
      "Epoch 642/1500: 100%|██████████| 1/1 [00:00<00:00, 20.71it/s]\n",
      "Epoch 643/1500: 100%|██████████| 1/1 [00:00<00:00, 21.68it/s]\n",
      "Validation: 100%|██████████| 1/1 [00:00<00:00, 28.66it/s]\n"
     ]
    },
    {
     "name": "stdout",
     "output_type": "stream",
     "text": [
      "Epoch: 643, Train Loss: 345.3881, \n",
      "Validation Loss: 54.4460\n"
     ]
    },
    {
     "name": "stderr",
     "output_type": "stream",
     "text": [
      "Epoch 644/1500: 100%|██████████| 1/1 [00:00<00:00, 21.80it/s]\n",
      "Epoch 645/1500: 100%|██████████| 1/1 [00:00<00:00, 22.47it/s]\n",
      "Validation: 100%|██████████| 1/1 [00:00<00:00, 28.97it/s]\n"
     ]
    },
    {
     "name": "stdout",
     "output_type": "stream",
     "text": [
      "Epoch: 645, Train Loss: 138.9606, \n",
      "Validation Loss: 127.7366\n"
     ]
    },
    {
     "name": "stderr",
     "output_type": "stream",
     "text": [
      "Epoch 646/1500: 100%|██████████| 1/1 [00:00<00:00, 22.35it/s]\n",
      "Epoch 647/1500: 100%|██████████| 1/1 [00:00<00:00, 23.80it/s]\n",
      "Validation: 100%|██████████| 1/1 [00:00<00:00, 28.94it/s]\n"
     ]
    },
    {
     "name": "stdout",
     "output_type": "stream",
     "text": [
      "Epoch: 647, Train Loss: 161.5372, \n",
      "Validation Loss: 84.5082\n"
     ]
    },
    {
     "name": "stderr",
     "output_type": "stream",
     "text": [
      "Epoch 648/1500: 100%|██████████| 1/1 [00:00<00:00, 21.20it/s]\n",
      "Epoch 649/1500: 100%|██████████| 1/1 [00:00<00:00, 23.45it/s]\n",
      "Validation: 100%|██████████| 1/1 [00:00<00:00, 29.02it/s]\n"
     ]
    },
    {
     "name": "stdout",
     "output_type": "stream",
     "text": [
      "Epoch: 649, Train Loss: 205.0825, \n",
      "Validation Loss: 76.3075\n"
     ]
    },
    {
     "name": "stderr",
     "output_type": "stream",
     "text": [
      "Epoch 650/1500: 100%|██████████| 1/1 [00:00<00:00, 23.19it/s]\n",
      "Epoch 651/1500: 100%|██████████| 1/1 [00:00<00:00, 23.10it/s]\n",
      "Validation: 100%|██████████| 1/1 [00:00<00:00, 29.62it/s]\n"
     ]
    },
    {
     "name": "stdout",
     "output_type": "stream",
     "text": [
      "Epoch: 651, Train Loss: 157.3051, \n",
      "Validation Loss: 100.0971\n"
     ]
    },
    {
     "name": "stderr",
     "output_type": "stream",
     "text": [
      "Epoch 652/1500: 100%|██████████| 1/1 [00:00<00:00, 21.44it/s]\n",
      "Epoch 653/1500: 100%|██████████| 1/1 [00:00<00:00, 22.80it/s]\n",
      "Validation: 100%|██████████| 1/1 [00:00<00:00, 29.53it/s]\n"
     ]
    },
    {
     "name": "stdout",
     "output_type": "stream",
     "text": [
      "Epoch: 653, Train Loss: 250.9853, \n",
      "Validation Loss: 98.5492\n"
     ]
    },
    {
     "name": "stderr",
     "output_type": "stream",
     "text": [
      "Epoch 654/1500: 100%|██████████| 1/1 [00:00<00:00, 22.89it/s]\n",
      "Epoch 655/1500: 100%|██████████| 1/1 [00:00<00:00, 23.36it/s]\n",
      "Validation: 100%|██████████| 1/1 [00:00<00:00, 27.29it/s]\n"
     ]
    },
    {
     "name": "stdout",
     "output_type": "stream",
     "text": [
      "Epoch: 655, Train Loss: 144.2270, \n",
      "Validation Loss: 69.4603\n"
     ]
    },
    {
     "name": "stderr",
     "output_type": "stream",
     "text": [
      "Epoch 656/1500: 100%|██████████| 1/1 [00:00<00:00, 22.67it/s]\n",
      "Epoch 657/1500: 100%|██████████| 1/1 [00:00<00:00, 22.48it/s]\n",
      "Validation: 100%|██████████| 1/1 [00:00<00:00, 29.45it/s]\n"
     ]
    },
    {
     "name": "stdout",
     "output_type": "stream",
     "text": [
      "Epoch: 657, Train Loss: 176.0245, \n",
      "Validation Loss: 61.3270\n"
     ]
    },
    {
     "name": "stderr",
     "output_type": "stream",
     "text": [
      "Epoch 658/1500: 100%|██████████| 1/1 [00:00<00:00, 21.48it/s]\n",
      "Epoch 659/1500: 100%|██████████| 1/1 [00:00<00:00, 23.44it/s]\n",
      "Validation: 100%|██████████| 1/1 [00:00<00:00, 28.29it/s]\n"
     ]
    },
    {
     "name": "stdout",
     "output_type": "stream",
     "text": [
      "Epoch: 659, Train Loss: 255.3894, \n",
      "Validation Loss: 72.3501\n"
     ]
    },
    {
     "name": "stderr",
     "output_type": "stream",
     "text": [
      "Epoch 660/1500: 100%|██████████| 1/1 [00:00<00:00, 22.66it/s]\n",
      "Epoch 661/1500: 100%|██████████| 1/1 [00:00<00:00, 23.19it/s]\n",
      "Validation: 100%|██████████| 1/1 [00:00<00:00, 27.93it/s]\n"
     ]
    },
    {
     "name": "stdout",
     "output_type": "stream",
     "text": [
      "Epoch: 661, Train Loss: 182.3706, \n",
      "Validation Loss: 126.1667\n"
     ]
    },
    {
     "name": "stderr",
     "output_type": "stream",
     "text": [
      "Epoch 662/1500: 100%|██████████| 1/1 [00:00<00:00, 22.44it/s]\n",
      "Epoch 663/1500: 100%|██████████| 1/1 [00:00<00:00, 22.97it/s]\n",
      "Validation: 100%|██████████| 1/1 [00:00<00:00, 29.41it/s]\n"
     ]
    },
    {
     "name": "stdout",
     "output_type": "stream",
     "text": [
      "Epoch: 663, Train Loss: 167.5013, \n",
      "Validation Loss: 126.5376\n"
     ]
    },
    {
     "name": "stderr",
     "output_type": "stream",
     "text": [
      "Epoch 664/1500: 100%|██████████| 1/1 [00:00<00:00, 23.12it/s]\n",
      "Epoch 665/1500: 100%|██████████| 1/1 [00:00<00:00, 23.05it/s]\n",
      "Validation: 100%|██████████| 1/1 [00:00<00:00, 29.08it/s]\n"
     ]
    },
    {
     "name": "stdout",
     "output_type": "stream",
     "text": [
      "Epoch: 665, Train Loss: 146.0601, \n",
      "Validation Loss: 101.4800\n"
     ]
    },
    {
     "name": "stderr",
     "output_type": "stream",
     "text": [
      "Epoch 666/1500: 100%|██████████| 1/1 [00:00<00:00, 22.33it/s]\n",
      "Epoch 667/1500: 100%|██████████| 1/1 [00:00<00:00, 19.27it/s]\n",
      "Validation: 100%|██████████| 1/1 [00:00<00:00, 28.87it/s]\n"
     ]
    },
    {
     "name": "stdout",
     "output_type": "stream",
     "text": [
      "Epoch: 667, Train Loss: 240.4560, \n",
      "Validation Loss: 62.0117\n"
     ]
    },
    {
     "name": "stderr",
     "output_type": "stream",
     "text": [
      "Epoch 668/1500: 100%|██████████| 1/1 [00:00<00:00, 22.13it/s]\n",
      "Epoch 669/1500: 100%|██████████| 1/1 [00:00<00:00, 23.65it/s]\n",
      "Validation: 100%|██████████| 1/1 [00:00<00:00, 29.24it/s]\n"
     ]
    },
    {
     "name": "stdout",
     "output_type": "stream",
     "text": [
      "Epoch: 669, Train Loss: 155.1652, \n",
      "Validation Loss: 46.7392\n"
     ]
    },
    {
     "name": "stderr",
     "output_type": "stream",
     "text": [
      "Epoch 670/1500: 100%|██████████| 1/1 [00:00<00:00, 21.03it/s]\n",
      "Epoch 671/1500: 100%|██████████| 1/1 [00:00<00:00, 23.66it/s]\n",
      "Validation: 100%|██████████| 1/1 [00:00<00:00, 29.23it/s]\n"
     ]
    },
    {
     "name": "stdout",
     "output_type": "stream",
     "text": [
      "Epoch: 671, Train Loss: 153.0987, \n",
      "Validation Loss: 98.9047\n"
     ]
    },
    {
     "name": "stderr",
     "output_type": "stream",
     "text": [
      "Epoch 672/1500: 100%|██████████| 1/1 [00:00<00:00, 23.02it/s]\n",
      "Epoch 673/1500: 100%|██████████| 1/1 [00:00<00:00, 23.04it/s]\n",
      "Validation: 100%|██████████| 1/1 [00:00<00:00, 29.74it/s]\n"
     ]
    },
    {
     "name": "stdout",
     "output_type": "stream",
     "text": [
      "Epoch: 673, Train Loss: 130.1154, \n",
      "Validation Loss: 79.6790\n"
     ]
    },
    {
     "name": "stderr",
     "output_type": "stream",
     "text": [
      "Epoch 674/1500: 100%|██████████| 1/1 [00:00<00:00, 22.70it/s]\n",
      "Epoch 675/1500: 100%|██████████| 1/1 [00:00<00:00, 23.52it/s]\n",
      "Validation: 100%|██████████| 1/1 [00:00<00:00, 29.14it/s]\n"
     ]
    },
    {
     "name": "stdout",
     "output_type": "stream",
     "text": [
      "Epoch: 675, Train Loss: 160.9027, \n",
      "Validation Loss: 87.4533\n"
     ]
    },
    {
     "name": "stderr",
     "output_type": "stream",
     "text": [
      "Epoch 676/1500: 100%|██████████| 1/1 [00:00<00:00, 23.60it/s]\n",
      "Epoch 677/1500: 100%|██████████| 1/1 [00:00<00:00, 23.09it/s]\n",
      "Validation: 100%|██████████| 1/1 [00:00<00:00, 29.18it/s]\n"
     ]
    },
    {
     "name": "stdout",
     "output_type": "stream",
     "text": [
      "Epoch: 677, Train Loss: 156.7617, \n",
      "Validation Loss: 68.6752\n"
     ]
    },
    {
     "name": "stderr",
     "output_type": "stream",
     "text": [
      "Epoch 678/1500: 100%|██████████| 1/1 [00:00<00:00, 22.39it/s]\n",
      "Epoch 679/1500: 100%|██████████| 1/1 [00:00<00:00, 23.25it/s]\n",
      "Validation: 100%|██████████| 1/1 [00:00<00:00, 29.80it/s]\n"
     ]
    },
    {
     "name": "stdout",
     "output_type": "stream",
     "text": [
      "Epoch: 679, Train Loss: 154.3709, \n",
      "Validation Loss: 84.1314\n"
     ]
    },
    {
     "name": "stderr",
     "output_type": "stream",
     "text": [
      "Epoch 680/1500: 100%|██████████| 1/1 [00:00<00:00, 23.72it/s]\n",
      "Epoch 681/1500: 100%|██████████| 1/1 [00:00<00:00, 22.80it/s]\n",
      "Validation: 100%|██████████| 1/1 [00:00<00:00, 29.27it/s]\n"
     ]
    },
    {
     "name": "stdout",
     "output_type": "stream",
     "text": [
      "Epoch: 681, Train Loss: 108.7243, \n",
      "Validation Loss: 80.4060\n"
     ]
    },
    {
     "name": "stderr",
     "output_type": "stream",
     "text": [
      "Epoch 682/1500: 100%|██████████| 1/1 [00:00<00:00, 22.64it/s]\n",
      "Epoch 683/1500: 100%|██████████| 1/1 [00:00<00:00, 22.61it/s]\n",
      "Validation: 100%|██████████| 1/1 [00:00<00:00, 28.56it/s]\n"
     ]
    },
    {
     "name": "stdout",
     "output_type": "stream",
     "text": [
      "Epoch: 683, Train Loss: 160.5187, \n",
      "Validation Loss: 74.6457\n"
     ]
    },
    {
     "name": "stderr",
     "output_type": "stream",
     "text": [
      "Epoch 684/1500: 100%|██████████| 1/1 [00:00<00:00, 21.30it/s]\n",
      "Epoch 685/1500: 100%|██████████| 1/1 [00:00<00:00, 23.39it/s]\n",
      "Validation: 100%|██████████| 1/1 [00:00<00:00, 26.86it/s]\n"
     ]
    },
    {
     "name": "stdout",
     "output_type": "stream",
     "text": [
      "Epoch: 685, Train Loss: 153.2013, \n",
      "Validation Loss: 64.6056\n"
     ]
    },
    {
     "name": "stderr",
     "output_type": "stream",
     "text": [
      "Epoch 686/1500: 100%|██████████| 1/1 [00:00<00:00, 23.02it/s]\n",
      "Epoch 687/1500: 100%|██████████| 1/1 [00:00<00:00, 23.56it/s]\n",
      "Validation: 100%|██████████| 1/1 [00:00<00:00, 29.31it/s]\n"
     ]
    },
    {
     "name": "stdout",
     "output_type": "stream",
     "text": [
      "Epoch: 687, Train Loss: 108.8413, \n",
      "Validation Loss: 116.4176\n"
     ]
    },
    {
     "name": "stderr",
     "output_type": "stream",
     "text": [
      "Epoch 688/1500: 100%|██████████| 1/1 [00:00<00:00, 21.43it/s]\n",
      "Epoch 689/1500: 100%|██████████| 1/1 [00:00<00:00, 22.37it/s]\n",
      "Validation: 100%|██████████| 1/1 [00:00<00:00, 28.44it/s]\n"
     ]
    },
    {
     "name": "stdout",
     "output_type": "stream",
     "text": [
      "Epoch: 689, Train Loss: 205.3771, \n",
      "Validation Loss: 69.8912\n"
     ]
    },
    {
     "name": "stderr",
     "output_type": "stream",
     "text": [
      "Epoch 690/1500: 100%|██████████| 1/1 [00:00<00:00, 21.62it/s]\n",
      "Epoch 691/1500: 100%|██████████| 1/1 [00:00<00:00, 21.41it/s]\n",
      "Validation: 100%|██████████| 1/1 [00:00<00:00, 28.00it/s]\n"
     ]
    },
    {
     "name": "stdout",
     "output_type": "stream",
     "text": [
      "Epoch: 691, Train Loss: 133.6360, \n",
      "Validation Loss: 70.6601\n"
     ]
    },
    {
     "name": "stderr",
     "output_type": "stream",
     "text": [
      "Epoch 692/1500: 100%|██████████| 1/1 [00:00<00:00, 21.61it/s]\n",
      "Epoch 693/1500: 100%|██████████| 1/1 [00:00<00:00, 22.84it/s]\n",
      "Validation: 100%|██████████| 1/1 [00:00<00:00, 28.37it/s]\n"
     ]
    },
    {
     "name": "stdout",
     "output_type": "stream",
     "text": [
      "Epoch: 693, Train Loss: 100.4420, \n",
      "Validation Loss: 59.0601\n"
     ]
    },
    {
     "name": "stderr",
     "output_type": "stream",
     "text": [
      "Epoch 694/1500: 100%|██████████| 1/1 [00:00<00:00, 22.09it/s]\n",
      "Epoch 695/1500: 100%|██████████| 1/1 [00:00<00:00, 21.54it/s]\n",
      "Validation: 100%|██████████| 1/1 [00:00<00:00, 28.43it/s]\n"
     ]
    },
    {
     "name": "stdout",
     "output_type": "stream",
     "text": [
      "Epoch: 695, Train Loss: 138.2249, \n",
      "Validation Loss: 73.0296\n"
     ]
    },
    {
     "name": "stderr",
     "output_type": "stream",
     "text": [
      "Epoch 696/1500: 100%|██████████| 1/1 [00:00<00:00, 23.03it/s]\n",
      "Epoch 697/1500: 100%|██████████| 1/1 [00:00<00:00, 22.27it/s]\n",
      "Validation: 100%|██████████| 1/1 [00:00<00:00, 29.08it/s]\n"
     ]
    },
    {
     "name": "stdout",
     "output_type": "stream",
     "text": [
      "Epoch: 697, Train Loss: 221.7631, \n",
      "Validation Loss: 101.7057\n"
     ]
    },
    {
     "name": "stderr",
     "output_type": "stream",
     "text": [
      "Epoch 698/1500: 100%|██████████| 1/1 [00:00<00:00, 22.58it/s]\n",
      "Epoch 699/1500: 100%|██████████| 1/1 [00:00<00:00, 23.03it/s]\n",
      "Validation: 100%|██████████| 1/1 [00:00<00:00, 29.27it/s]\n"
     ]
    },
    {
     "name": "stdout",
     "output_type": "stream",
     "text": [
      "Epoch: 699, Train Loss: 172.8966, \n",
      "Validation Loss: 101.7376\n"
     ]
    },
    {
     "name": "stderr",
     "output_type": "stream",
     "text": [
      "Epoch 700/1500: 100%|██████████| 1/1 [00:00<00:00, 23.56it/s]\n",
      "Epoch 701/1500: 100%|██████████| 1/1 [00:00<00:00, 18.61it/s]\n",
      "Validation: 100%|██████████| 1/1 [00:00<00:00, 29.22it/s]\n"
     ]
    },
    {
     "name": "stdout",
     "output_type": "stream",
     "text": [
      "Epoch: 701, Train Loss: 234.1395, \n",
      "Validation Loss: 134.2535\n"
     ]
    },
    {
     "name": "stderr",
     "output_type": "stream",
     "text": [
      "Epoch 702/1500: 100%|██████████| 1/1 [00:00<00:00, 22.90it/s]\n",
      "Epoch 703/1500: 100%|██████████| 1/1 [00:00<00:00, 23.44it/s]\n",
      "Validation: 100%|██████████| 1/1 [00:00<00:00, 29.31it/s]\n"
     ]
    },
    {
     "name": "stdout",
     "output_type": "stream",
     "text": [
      "Epoch: 703, Train Loss: 264.4496, \n",
      "Validation Loss: 89.7904\n"
     ]
    },
    {
     "name": "stderr",
     "output_type": "stream",
     "text": [
      "Epoch 704/1500: 100%|██████████| 1/1 [00:00<00:00, 22.05it/s]\n",
      "Epoch 705/1500: 100%|██████████| 1/1 [00:00<00:00, 23.29it/s]\n",
      "Validation: 100%|██████████| 1/1 [00:00<00:00, 28.69it/s]\n"
     ]
    },
    {
     "name": "stdout",
     "output_type": "stream",
     "text": [
      "Epoch: 705, Train Loss: 126.6233, \n",
      "Validation Loss: 98.8180\n"
     ]
    },
    {
     "name": "stderr",
     "output_type": "stream",
     "text": [
      "Epoch 706/1500: 100%|██████████| 1/1 [00:00<00:00, 22.34it/s]\n",
      "Epoch 707/1500: 100%|██████████| 1/1 [00:00<00:00, 22.72it/s]\n",
      "Validation: 100%|██████████| 1/1 [00:00<00:00, 29.48it/s]\n"
     ]
    },
    {
     "name": "stdout",
     "output_type": "stream",
     "text": [
      "Epoch: 707, Train Loss: 244.9353, \n",
      "Validation Loss: 91.8030\n"
     ]
    },
    {
     "name": "stderr",
     "output_type": "stream",
     "text": [
      "Epoch 708/1500: 100%|██████████| 1/1 [00:00<00:00, 22.68it/s]\n",
      "Epoch 709/1500: 100%|██████████| 1/1 [00:00<00:00, 23.51it/s]\n",
      "Validation: 100%|██████████| 1/1 [00:00<00:00, 29.05it/s]\n"
     ]
    },
    {
     "name": "stdout",
     "output_type": "stream",
     "text": [
      "Epoch: 709, Train Loss: 81.5653, \n",
      "Validation Loss: 84.7277\n"
     ]
    },
    {
     "name": "stderr",
     "output_type": "stream",
     "text": [
      "Epoch 710/1500: 100%|██████████| 1/1 [00:00<00:00, 22.22it/s]\n",
      "Epoch 711/1500: 100%|██████████| 1/1 [00:00<00:00, 22.51it/s]\n",
      "Validation: 100%|██████████| 1/1 [00:00<00:00, 28.77it/s]\n"
     ]
    },
    {
     "name": "stdout",
     "output_type": "stream",
     "text": [
      "Epoch: 711, Train Loss: 160.5714, \n",
      "Validation Loss: 65.6878\n"
     ]
    },
    {
     "name": "stderr",
     "output_type": "stream",
     "text": [
      "Epoch 712/1500: 100%|██████████| 1/1 [00:00<00:00, 22.60it/s]\n",
      "Epoch 713/1500: 100%|██████████| 1/1 [00:00<00:00, 23.57it/s]\n",
      "Validation: 100%|██████████| 1/1 [00:00<00:00, 29.26it/s]\n"
     ]
    },
    {
     "name": "stdout",
     "output_type": "stream",
     "text": [
      "Epoch: 713, Train Loss: 156.5875, \n",
      "Validation Loss: 60.2119\n"
     ]
    },
    {
     "name": "stderr",
     "output_type": "stream",
     "text": [
      "Epoch 714/1500: 100%|██████████| 1/1 [00:00<00:00, 22.82it/s]\n",
      "Epoch 715/1500: 100%|██████████| 1/1 [00:00<00:00, 22.46it/s]\n",
      "Validation: 100%|██████████| 1/1 [00:00<00:00, 28.25it/s]\n"
     ]
    },
    {
     "name": "stdout",
     "output_type": "stream",
     "text": [
      "Epoch: 715, Train Loss: 142.5210, \n",
      "Validation Loss: 64.9667\n"
     ]
    },
    {
     "name": "stderr",
     "output_type": "stream",
     "text": [
      "Epoch 716/1500: 100%|██████████| 1/1 [00:00<00:00, 23.03it/s]\n",
      "Epoch 717/1500: 100%|██████████| 1/1 [00:00<00:00, 22.57it/s]\n",
      "Validation: 100%|██████████| 1/1 [00:00<00:00, 28.61it/s]\n"
     ]
    },
    {
     "name": "stdout",
     "output_type": "stream",
     "text": [
      "Epoch: 717, Train Loss: 153.8449, \n",
      "Validation Loss: 84.0340\n"
     ]
    },
    {
     "name": "stderr",
     "output_type": "stream",
     "text": [
      "Epoch 718/1500: 100%|██████████| 1/1 [00:00<00:00, 22.79it/s]\n",
      "Epoch 719/1500: 100%|██████████| 1/1 [00:00<00:00, 22.60it/s]\n",
      "Validation: 100%|██████████| 1/1 [00:00<00:00, 29.42it/s]\n"
     ]
    },
    {
     "name": "stdout",
     "output_type": "stream",
     "text": [
      "Epoch: 719, Train Loss: 133.8465, \n",
      "Validation Loss: 65.1968\n"
     ]
    },
    {
     "name": "stderr",
     "output_type": "stream",
     "text": [
      "Epoch 720/1500: 100%|██████████| 1/1 [00:00<00:00, 22.18it/s]\n",
      "Epoch 721/1500: 100%|██████████| 1/1 [00:00<00:00, 23.27it/s]\n",
      "Validation: 100%|██████████| 1/1 [00:00<00:00, 30.42it/s]\n"
     ]
    },
    {
     "name": "stdout",
     "output_type": "stream",
     "text": [
      "Epoch: 721, Train Loss: 133.8801, \n",
      "Validation Loss: 78.2694\n"
     ]
    },
    {
     "name": "stderr",
     "output_type": "stream",
     "text": [
      "Epoch 722/1500: 100%|██████████| 1/1 [00:00<00:00, 22.94it/s]\n",
      "Epoch 723/1500: 100%|██████████| 1/1 [00:00<00:00, 23.58it/s]\n",
      "Validation: 100%|██████████| 1/1 [00:00<00:00, 29.86it/s]\n"
     ]
    },
    {
     "name": "stdout",
     "output_type": "stream",
     "text": [
      "Epoch: 723, Train Loss: 206.0096, \n",
      "Validation Loss: 66.9307\n"
     ]
    },
    {
     "name": "stderr",
     "output_type": "stream",
     "text": [
      "Epoch 724/1500: 100%|██████████| 1/1 [00:00<00:00, 22.89it/s]\n",
      "Epoch 725/1500: 100%|██████████| 1/1 [00:00<00:00, 23.43it/s]\n",
      "Validation: 100%|██████████| 1/1 [00:00<00:00, 29.03it/s]\n"
     ]
    },
    {
     "name": "stdout",
     "output_type": "stream",
     "text": [
      "Epoch: 725, Train Loss: 146.4207, \n",
      "Validation Loss: 135.3605\n"
     ]
    },
    {
     "name": "stderr",
     "output_type": "stream",
     "text": [
      "Epoch 726/1500: 100%|██████████| 1/1 [00:00<00:00, 22.99it/s]\n",
      "Epoch 727/1500: 100%|██████████| 1/1 [00:00<00:00, 22.55it/s]\n",
      "Validation: 100%|██████████| 1/1 [00:00<00:00, 29.76it/s]\n"
     ]
    },
    {
     "name": "stdout",
     "output_type": "stream",
     "text": [
      "Epoch: 727, Train Loss: 244.4790, \n",
      "Validation Loss: 87.2981\n"
     ]
    },
    {
     "name": "stderr",
     "output_type": "stream",
     "text": [
      "Epoch 728/1500: 100%|██████████| 1/1 [00:00<00:00, 22.44it/s]\n",
      "Epoch 729/1500: 100%|██████████| 1/1 [00:00<00:00, 22.56it/s]\n",
      "Validation: 100%|██████████| 1/1 [00:00<00:00, 29.87it/s]\n"
     ]
    },
    {
     "name": "stdout",
     "output_type": "stream",
     "text": [
      "Epoch: 729, Train Loss: 155.2589, \n",
      "Validation Loss: 62.1733\n"
     ]
    },
    {
     "name": "stderr",
     "output_type": "stream",
     "text": [
      "Epoch 730/1500: 100%|██████████| 1/1 [00:00<00:00, 22.51it/s]\n",
      "Epoch 731/1500: 100%|██████████| 1/1 [00:00<00:00, 23.22it/s]\n",
      "Validation: 100%|██████████| 1/1 [00:00<00:00, 28.49it/s]\n"
     ]
    },
    {
     "name": "stdout",
     "output_type": "stream",
     "text": [
      "Epoch: 731, Train Loss: 193.0531, \n",
      "Validation Loss: 125.6715\n"
     ]
    },
    {
     "name": "stderr",
     "output_type": "stream",
     "text": [
      "Epoch 732/1500: 100%|██████████| 1/1 [00:00<00:00, 20.75it/s]\n",
      "Epoch 733/1500: 100%|██████████| 1/1 [00:00<00:00, 22.49it/s]\n",
      "Validation: 100%|██████████| 1/1 [00:00<00:00, 28.63it/s]\n"
     ]
    },
    {
     "name": "stdout",
     "output_type": "stream",
     "text": [
      "Epoch: 733, Train Loss: 235.1965, \n",
      "Validation Loss: 104.1742\n"
     ]
    },
    {
     "name": "stderr",
     "output_type": "stream",
     "text": [
      "Epoch 734/1500: 100%|██████████| 1/1 [00:00<00:00, 19.44it/s]\n",
      "Epoch 735/1500: 100%|██████████| 1/1 [00:00<00:00, 22.55it/s]\n",
      "Validation: 100%|██████████| 1/1 [00:00<00:00, 29.77it/s]\n"
     ]
    },
    {
     "name": "stdout",
     "output_type": "stream",
     "text": [
      "Epoch: 735, Train Loss: 125.5762, \n",
      "Validation Loss: 86.3224\n"
     ]
    },
    {
     "name": "stderr",
     "output_type": "stream",
     "text": [
      "Epoch 736/1500: 100%|██████████| 1/1 [00:00<00:00, 21.86it/s]\n",
      "Epoch 737/1500: 100%|██████████| 1/1 [00:00<00:00, 23.72it/s]\n",
      "Validation: 100%|██████████| 1/1 [00:00<00:00, 28.61it/s]\n"
     ]
    },
    {
     "name": "stdout",
     "output_type": "stream",
     "text": [
      "Epoch: 737, Train Loss: 241.2625, \n",
      "Validation Loss: 161.7291\n"
     ]
    },
    {
     "name": "stderr",
     "output_type": "stream",
     "text": [
      "Epoch 738/1500: 100%|██████████| 1/1 [00:00<00:00, 23.14it/s]\n",
      "Epoch 739/1500: 100%|██████████| 1/1 [00:00<00:00, 22.57it/s]\n",
      "Validation: 100%|██████████| 1/1 [00:00<00:00, 26.56it/s]\n"
     ]
    },
    {
     "name": "stdout",
     "output_type": "stream",
     "text": [
      "Epoch: 739, Train Loss: 226.5838, \n",
      "Validation Loss: 85.7636\n"
     ]
    },
    {
     "name": "stderr",
     "output_type": "stream",
     "text": [
      "Epoch 740/1500: 100%|██████████| 1/1 [00:00<00:00, 23.68it/s]\n",
      "Epoch 741/1500: 100%|██████████| 1/1 [00:00<00:00, 23.42it/s]\n",
      "Validation: 100%|██████████| 1/1 [00:00<00:00, 29.90it/s]\n"
     ]
    },
    {
     "name": "stdout",
     "output_type": "stream",
     "text": [
      "Epoch: 741, Train Loss: 182.7920, \n",
      "Validation Loss: 116.1258\n"
     ]
    },
    {
     "name": "stderr",
     "output_type": "stream",
     "text": [
      "Epoch 742/1500: 100%|██████████| 1/1 [00:00<00:00, 22.08it/s]\n",
      "Epoch 743/1500: 100%|██████████| 1/1 [00:00<00:00, 23.69it/s]\n",
      "Validation: 100%|██████████| 1/1 [00:00<00:00, 28.02it/s]\n"
     ]
    },
    {
     "name": "stdout",
     "output_type": "stream",
     "text": [
      "Epoch: 743, Train Loss: 119.8972, \n",
      "Validation Loss: 90.5736\n"
     ]
    },
    {
     "name": "stderr",
     "output_type": "stream",
     "text": [
      "Epoch 744/1500: 100%|██████████| 1/1 [00:00<00:00, 23.67it/s]\n",
      "Epoch 745/1500: 100%|██████████| 1/1 [00:00<00:00, 23.81it/s]\n",
      "Validation: 100%|██████████| 1/1 [00:00<00:00, 27.70it/s]\n"
     ]
    },
    {
     "name": "stdout",
     "output_type": "stream",
     "text": [
      "Epoch: 745, Train Loss: 183.8443, \n",
      "Validation Loss: 98.7109\n"
     ]
    },
    {
     "name": "stderr",
     "output_type": "stream",
     "text": [
      "Epoch 746/1500: 100%|██████████| 1/1 [00:00<00:00, 22.08it/s]\n",
      "Epoch 747/1500: 100%|██████████| 1/1 [00:00<00:00, 22.28it/s]\n",
      "Validation: 100%|██████████| 1/1 [00:00<00:00, 28.79it/s]\n"
     ]
    },
    {
     "name": "stdout",
     "output_type": "stream",
     "text": [
      "Epoch: 747, Train Loss: 193.6665, \n",
      "Validation Loss: 94.0743\n"
     ]
    },
    {
     "name": "stderr",
     "output_type": "stream",
     "text": [
      "Epoch 748/1500: 100%|██████████| 1/1 [00:00<00:00, 21.30it/s]\n",
      "Epoch 749/1500: 100%|██████████| 1/1 [00:00<00:00, 23.02it/s]\n",
      "Validation: 100%|██████████| 1/1 [00:00<00:00, 27.97it/s]\n"
     ]
    },
    {
     "name": "stdout",
     "output_type": "stream",
     "text": [
      "Epoch: 749, Train Loss: 206.5644, \n",
      "Validation Loss: 118.3754\n"
     ]
    },
    {
     "name": "stderr",
     "output_type": "stream",
     "text": [
      "Epoch 750/1500: 100%|██████████| 1/1 [00:00<00:00, 21.42it/s]\n",
      "Epoch 751/1500: 100%|██████████| 1/1 [00:00<00:00, 22.33it/s]\n",
      "Validation: 100%|██████████| 1/1 [00:00<00:00, 26.53it/s]\n"
     ]
    },
    {
     "name": "stdout",
     "output_type": "stream",
     "text": [
      "Epoch: 751, Train Loss: 161.4265, \n",
      "Validation Loss: 77.4656\n"
     ]
    },
    {
     "name": "stderr",
     "output_type": "stream",
     "text": [
      "Epoch 752/1500: 100%|██████████| 1/1 [00:00<00:00, 23.58it/s]\n",
      "Epoch 753/1500: 100%|██████████| 1/1 [00:00<00:00, 22.28it/s]\n",
      "Validation: 100%|██████████| 1/1 [00:00<00:00, 29.36it/s]\n"
     ]
    },
    {
     "name": "stdout",
     "output_type": "stream",
     "text": [
      "Epoch: 753, Train Loss: 213.9248, \n",
      "Validation Loss: 71.2461\n"
     ]
    },
    {
     "name": "stderr",
     "output_type": "stream",
     "text": [
      "Epoch 754/1500: 100%|██████████| 1/1 [00:00<00:00, 22.06it/s]\n",
      "Epoch 755/1500: 100%|██████████| 1/1 [00:00<00:00, 22.04it/s]\n",
      "Validation: 100%|██████████| 1/1 [00:00<00:00, 29.97it/s]\n"
     ]
    },
    {
     "name": "stdout",
     "output_type": "stream",
     "text": [
      "Epoch: 755, Train Loss: 145.7524, \n",
      "Validation Loss: 101.0155\n"
     ]
    },
    {
     "name": "stderr",
     "output_type": "stream",
     "text": [
      "Epoch 756/1500: 100%|██████████| 1/1 [00:00<00:00, 22.21it/s]\n",
      "Epoch 757/1500: 100%|██████████| 1/1 [00:00<00:00, 23.48it/s]\n",
      "Validation: 100%|██████████| 1/1 [00:00<00:00, 28.44it/s]\n"
     ]
    },
    {
     "name": "stdout",
     "output_type": "stream",
     "text": [
      "Epoch: 757, Train Loss: 155.3137, \n",
      "Validation Loss: 80.8267\n"
     ]
    },
    {
     "name": "stderr",
     "output_type": "stream",
     "text": [
      "Epoch 758/1500: 100%|██████████| 1/1 [00:00<00:00, 23.10it/s]\n",
      "Epoch 759/1500: 100%|██████████| 1/1 [00:00<00:00, 23.83it/s]\n",
      "Validation: 100%|██████████| 1/1 [00:00<00:00, 28.19it/s]\n"
     ]
    },
    {
     "name": "stdout",
     "output_type": "stream",
     "text": [
      "Epoch: 759, Train Loss: 101.0815, \n",
      "Validation Loss: 105.5034\n"
     ]
    },
    {
     "name": "stderr",
     "output_type": "stream",
     "text": [
      "Epoch 760/1500: 100%|██████████| 1/1 [00:00<00:00, 22.46it/s]\n",
      "Epoch 761/1500: 100%|██████████| 1/1 [00:00<00:00, 22.88it/s]\n",
      "Validation: 100%|██████████| 1/1 [00:00<00:00, 30.40it/s]\n"
     ]
    },
    {
     "name": "stdout",
     "output_type": "stream",
     "text": [
      "Epoch: 761, Train Loss: 123.0901, \n",
      "Validation Loss: 100.0214\n"
     ]
    },
    {
     "name": "stderr",
     "output_type": "stream",
     "text": [
      "Epoch 762/1500: 100%|██████████| 1/1 [00:00<00:00, 23.08it/s]\n",
      "Epoch 763/1500: 100%|██████████| 1/1 [00:00<00:00, 22.91it/s]\n",
      "Validation: 100%|██████████| 1/1 [00:00<00:00, 29.27it/s]\n"
     ]
    },
    {
     "name": "stdout",
     "output_type": "stream",
     "text": [
      "Epoch: 763, Train Loss: 156.9069, \n",
      "Validation Loss: 51.1779\n"
     ]
    },
    {
     "name": "stderr",
     "output_type": "stream",
     "text": [
      "Epoch 764/1500: 100%|██████████| 1/1 [00:00<00:00, 23.34it/s]\n",
      "Epoch 765/1500: 100%|██████████| 1/1 [00:00<00:00, 23.12it/s]\n",
      "Validation: 100%|██████████| 1/1 [00:00<00:00, 26.83it/s]\n"
     ]
    },
    {
     "name": "stdout",
     "output_type": "stream",
     "text": [
      "Epoch: 765, Train Loss: 155.5216, \n",
      "Validation Loss: 76.5866\n"
     ]
    },
    {
     "name": "stderr",
     "output_type": "stream",
     "text": [
      "Epoch 766/1500: 100%|██████████| 1/1 [00:00<00:00, 23.14it/s]\n",
      "Epoch 767/1500: 100%|██████████| 1/1 [00:00<00:00, 22.61it/s]\n",
      "Validation: 100%|██████████| 1/1 [00:00<00:00, 29.01it/s]\n"
     ]
    },
    {
     "name": "stdout",
     "output_type": "stream",
     "text": [
      "Epoch: 767, Train Loss: 205.2547, \n",
      "Validation Loss: 78.5001\n"
     ]
    },
    {
     "name": "stderr",
     "output_type": "stream",
     "text": [
      "Epoch 768/1500: 100%|██████████| 1/1 [00:00<00:00, 21.22it/s]\n",
      "Epoch 769/1500: 100%|██████████| 1/1 [00:00<00:00, 23.22it/s]\n",
      "Validation: 100%|██████████| 1/1 [00:00<00:00, 30.28it/s]\n"
     ]
    },
    {
     "name": "stdout",
     "output_type": "stream",
     "text": [
      "Epoch: 769, Train Loss: 88.9222, \n",
      "Validation Loss: 103.0703\n"
     ]
    },
    {
     "name": "stderr",
     "output_type": "stream",
     "text": [
      "Epoch 770/1500: 100%|██████████| 1/1 [00:00<00:00, 22.31it/s]\n",
      "Epoch 771/1500: 100%|██████████| 1/1 [00:00<00:00, 24.28it/s]\n",
      "Validation: 100%|██████████| 1/1 [00:00<00:00, 28.81it/s]\n"
     ]
    },
    {
     "name": "stdout",
     "output_type": "stream",
     "text": [
      "Epoch: 771, Train Loss: 133.7243, \n",
      "Validation Loss: 64.6522\n"
     ]
    },
    {
     "name": "stderr",
     "output_type": "stream",
     "text": [
      "Epoch 772/1500: 100%|██████████| 1/1 [00:00<00:00, 20.75it/s]\n",
      "Epoch 773/1500: 100%|██████████| 1/1 [00:00<00:00, 23.48it/s]\n",
      "Validation: 100%|██████████| 1/1 [00:00<00:00, 28.64it/s]\n"
     ]
    },
    {
     "name": "stdout",
     "output_type": "stream",
     "text": [
      "Epoch: 773, Train Loss: 98.3861, \n",
      "Validation Loss: 87.3994\n"
     ]
    },
    {
     "name": "stderr",
     "output_type": "stream",
     "text": [
      "Epoch 774/1500: 100%|██████████| 1/1 [00:00<00:00, 21.79it/s]\n",
      "Epoch 775/1500: 100%|██████████| 1/1 [00:00<00:00, 21.07it/s]\n",
      "Validation: 100%|██████████| 1/1 [00:00<00:00, 28.21it/s]\n"
     ]
    },
    {
     "name": "stdout",
     "output_type": "stream",
     "text": [
      "Epoch: 775, Train Loss: 90.2501, \n",
      "Validation Loss: 44.1151\n"
     ]
    },
    {
     "name": "stderr",
     "output_type": "stream",
     "text": [
      "Epoch 776/1500: 100%|██████████| 1/1 [00:00<00:00, 22.17it/s]\n",
      "Epoch 777/1500: 100%|██████████| 1/1 [00:00<00:00, 22.90it/s]\n",
      "Validation: 100%|██████████| 1/1 [00:00<00:00, 28.83it/s]\n"
     ]
    },
    {
     "name": "stdout",
     "output_type": "stream",
     "text": [
      "Epoch: 777, Train Loss: 143.0217, \n",
      "Validation Loss: 45.5470\n"
     ]
    },
    {
     "name": "stderr",
     "output_type": "stream",
     "text": [
      "Epoch 778/1500: 100%|██████████| 1/1 [00:00<00:00, 23.11it/s]\n",
      "Epoch 779/1500: 100%|██████████| 1/1 [00:00<00:00, 23.41it/s]\n",
      "Validation: 100%|██████████| 1/1 [00:00<00:00, 27.79it/s]\n"
     ]
    },
    {
     "name": "stdout",
     "output_type": "stream",
     "text": [
      "Epoch: 779, Train Loss: 228.0984, \n",
      "Validation Loss: 60.3034\n"
     ]
    },
    {
     "name": "stderr",
     "output_type": "stream",
     "text": [
      "Epoch 780/1500: 100%|██████████| 1/1 [00:00<00:00, 22.92it/s]\n",
      "Epoch 781/1500: 100%|██████████| 1/1 [00:00<00:00, 23.05it/s]\n",
      "Validation: 100%|██████████| 1/1 [00:00<00:00, 28.87it/s]\n"
     ]
    },
    {
     "name": "stdout",
     "output_type": "stream",
     "text": [
      "Epoch: 781, Train Loss: 141.6157, \n",
      "Validation Loss: 57.7549\n"
     ]
    },
    {
     "name": "stderr",
     "output_type": "stream",
     "text": [
      "Epoch 782/1500: 100%|██████████| 1/1 [00:00<00:00, 23.08it/s]\n",
      "Epoch 783/1500: 100%|██████████| 1/1 [00:00<00:00, 22.86it/s]\n",
      "Validation: 100%|██████████| 1/1 [00:00<00:00, 29.92it/s]\n"
     ]
    },
    {
     "name": "stdout",
     "output_type": "stream",
     "text": [
      "Epoch: 783, Train Loss: 139.7142, \n",
      "Validation Loss: 101.1474\n"
     ]
    },
    {
     "name": "stderr",
     "output_type": "stream",
     "text": [
      "Epoch 784/1500: 100%|██████████| 1/1 [00:00<00:00, 22.50it/s]\n",
      "Epoch 785/1500: 100%|██████████| 1/1 [00:00<00:00, 23.58it/s]\n",
      "Validation: 100%|██████████| 1/1 [00:00<00:00, 28.36it/s]\n"
     ]
    },
    {
     "name": "stdout",
     "output_type": "stream",
     "text": [
      "Epoch: 785, Train Loss: 175.0666, \n",
      "Validation Loss: 68.0073\n"
     ]
    },
    {
     "name": "stderr",
     "output_type": "stream",
     "text": [
      "Epoch 786/1500: 100%|██████████| 1/1 [00:00<00:00, 21.60it/s]\n",
      "Epoch 787/1500: 100%|██████████| 1/1 [00:00<00:00, 23.41it/s]\n",
      "Validation: 100%|██████████| 1/1 [00:00<00:00, 29.21it/s]\n"
     ]
    },
    {
     "name": "stdout",
     "output_type": "stream",
     "text": [
      "Epoch: 787, Train Loss: 122.3971, \n",
      "Validation Loss: 73.5944\n"
     ]
    },
    {
     "name": "stderr",
     "output_type": "stream",
     "text": [
      "Epoch 788/1500: 100%|██████████| 1/1 [00:00<00:00, 21.60it/s]\n",
      "Epoch 789/1500: 100%|██████████| 1/1 [00:00<00:00, 21.81it/s]\n",
      "Validation: 100%|██████████| 1/1 [00:00<00:00, 29.69it/s]\n"
     ]
    },
    {
     "name": "stdout",
     "output_type": "stream",
     "text": [
      "Epoch: 789, Train Loss: 207.4859, \n",
      "Validation Loss: 57.7500\n"
     ]
    },
    {
     "name": "stderr",
     "output_type": "stream",
     "text": [
      "Epoch 790/1500: 100%|██████████| 1/1 [00:00<00:00, 21.39it/s]\n",
      "Epoch 791/1500: 100%|██████████| 1/1 [00:00<00:00, 22.80it/s]\n",
      "Validation: 100%|██████████| 1/1 [00:00<00:00, 28.31it/s]\n"
     ]
    },
    {
     "name": "stdout",
     "output_type": "stream",
     "text": [
      "Epoch: 791, Train Loss: 130.4014, \n",
      "Validation Loss: 95.1775\n"
     ]
    },
    {
     "name": "stderr",
     "output_type": "stream",
     "text": [
      "Epoch 792/1500: 100%|██████████| 1/1 [00:00<00:00, 22.47it/s]\n",
      "Epoch 793/1500: 100%|██████████| 1/1 [00:00<00:00, 23.83it/s]\n",
      "Validation: 100%|██████████| 1/1 [00:00<00:00, 26.25it/s]\n"
     ]
    },
    {
     "name": "stdout",
     "output_type": "stream",
     "text": [
      "Epoch: 793, Train Loss: 273.5279, \n",
      "Validation Loss: 89.1575\n"
     ]
    },
    {
     "name": "stderr",
     "output_type": "stream",
     "text": [
      "Epoch 794/1500: 100%|██████████| 1/1 [00:00<00:00, 22.79it/s]\n",
      "Epoch 795/1500: 100%|██████████| 1/1 [00:00<00:00, 22.34it/s]\n",
      "Validation: 100%|██████████| 1/1 [00:00<00:00, 28.80it/s]\n"
     ]
    },
    {
     "name": "stdout",
     "output_type": "stream",
     "text": [
      "Epoch: 795, Train Loss: 95.4947, \n",
      "Validation Loss: 87.0791\n"
     ]
    },
    {
     "name": "stderr",
     "output_type": "stream",
     "text": [
      "Epoch 796/1500: 100%|██████████| 1/1 [00:00<00:00, 22.48it/s]\n",
      "Epoch 797/1500: 100%|██████████| 1/1 [00:00<00:00, 20.65it/s]\n",
      "Validation: 100%|██████████| 1/1 [00:00<00:00, 29.19it/s]\n"
     ]
    },
    {
     "name": "stdout",
     "output_type": "stream",
     "text": [
      "Epoch: 797, Train Loss: 205.4786, \n",
      "Validation Loss: 96.7446\n"
     ]
    },
    {
     "name": "stderr",
     "output_type": "stream",
     "text": [
      "Epoch 798/1500: 100%|██████████| 1/1 [00:00<00:00, 22.09it/s]\n",
      "Epoch 799/1500: 100%|██████████| 1/1 [00:00<00:00, 22.90it/s]\n",
      "Validation: 100%|██████████| 1/1 [00:00<00:00, 28.65it/s]\n"
     ]
    },
    {
     "name": "stdout",
     "output_type": "stream",
     "text": [
      "Epoch: 799, Train Loss: 108.7920, \n",
      "Validation Loss: 40.5896\n"
     ]
    },
    {
     "name": "stderr",
     "output_type": "stream",
     "text": [
      "Epoch 800/1500: 100%|██████████| 1/1 [00:00<00:00, 23.42it/s]\n",
      "Epoch 801/1500: 100%|██████████| 1/1 [00:00<00:00, 22.46it/s]\n",
      "Validation: 100%|██████████| 1/1 [00:00<00:00, 28.44it/s]\n"
     ]
    },
    {
     "name": "stdout",
     "output_type": "stream",
     "text": [
      "Epoch: 801, Train Loss: 85.6761, \n",
      "Validation Loss: 64.7528\n"
     ]
    },
    {
     "name": "stderr",
     "output_type": "stream",
     "text": [
      "Epoch 802/1500: 100%|██████████| 1/1 [00:00<00:00, 23.11it/s]\n",
      "Epoch 803/1500: 100%|██████████| 1/1 [00:00<00:00, 22.42it/s]\n",
      "Validation: 100%|██████████| 1/1 [00:00<00:00, 29.88it/s]\n"
     ]
    },
    {
     "name": "stdout",
     "output_type": "stream",
     "text": [
      "Epoch: 803, Train Loss: 138.7930, \n",
      "Validation Loss: 48.3036\n"
     ]
    },
    {
     "name": "stderr",
     "output_type": "stream",
     "text": [
      "Epoch 804/1500: 100%|██████████| 1/1 [00:00<00:00, 22.13it/s]\n",
      "Epoch 805/1500: 100%|██████████| 1/1 [00:00<00:00, 23.05it/s]\n",
      "Validation: 100%|██████████| 1/1 [00:00<00:00, 28.55it/s]\n"
     ]
    },
    {
     "name": "stdout",
     "output_type": "stream",
     "text": [
      "Epoch: 805, Train Loss: 114.3487, \n",
      "Validation Loss: 100.0811\n"
     ]
    },
    {
     "name": "stderr",
     "output_type": "stream",
     "text": [
      "Epoch 806/1500: 100%|██████████| 1/1 [00:00<00:00, 20.01it/s]\n",
      "Epoch 807/1500: 100%|██████████| 1/1 [00:00<00:00, 22.34it/s]\n",
      "Validation: 100%|██████████| 1/1 [00:00<00:00, 28.75it/s]\n"
     ]
    },
    {
     "name": "stdout",
     "output_type": "stream",
     "text": [
      "Epoch: 807, Train Loss: 141.6668, \n",
      "Validation Loss: 52.2047\n"
     ]
    },
    {
     "name": "stderr",
     "output_type": "stream",
     "text": [
      "Epoch 808/1500: 100%|██████████| 1/1 [00:00<00:00, 23.30it/s]\n",
      "Epoch 809/1500: 100%|██████████| 1/1 [00:00<00:00, 22.13it/s]\n",
      "Validation: 100%|██████████| 1/1 [00:00<00:00, 29.93it/s]\n"
     ]
    },
    {
     "name": "stdout",
     "output_type": "stream",
     "text": [
      "Epoch: 809, Train Loss: 112.6135, \n",
      "Validation Loss: 71.7644\n"
     ]
    },
    {
     "name": "stderr",
     "output_type": "stream",
     "text": [
      "Epoch 810/1500: 100%|██████████| 1/1 [00:00<00:00, 22.72it/s]\n",
      "Epoch 811/1500: 100%|██████████| 1/1 [00:00<00:00, 22.88it/s]\n",
      "Validation: 100%|██████████| 1/1 [00:00<00:00, 29.55it/s]\n"
     ]
    },
    {
     "name": "stdout",
     "output_type": "stream",
     "text": [
      "Epoch: 811, Train Loss: 216.3717, \n",
      "Validation Loss: 98.6169\n"
     ]
    },
    {
     "name": "stderr",
     "output_type": "stream",
     "text": [
      "Epoch 812/1500: 100%|██████████| 1/1 [00:00<00:00, 22.39it/s]\n",
      "Epoch 813/1500: 100%|██████████| 1/1 [00:00<00:00, 23.43it/s]\n",
      "Validation: 100%|██████████| 1/1 [00:00<00:00, 27.75it/s]\n"
     ]
    },
    {
     "name": "stdout",
     "output_type": "stream",
     "text": [
      "Epoch: 813, Train Loss: 135.7438, \n",
      "Validation Loss: 78.8373\n"
     ]
    },
    {
     "name": "stderr",
     "output_type": "stream",
     "text": [
      "Epoch 814/1500: 100%|██████████| 1/1 [00:00<00:00, 23.29it/s]\n",
      "Epoch 815/1500: 100%|██████████| 1/1 [00:00<00:00, 23.60it/s]\n",
      "Validation: 100%|██████████| 1/1 [00:00<00:00, 28.65it/s]\n"
     ]
    },
    {
     "name": "stdout",
     "output_type": "stream",
     "text": [
      "Epoch: 815, Train Loss: 173.0727, \n",
      "Validation Loss: 50.4631\n"
     ]
    },
    {
     "name": "stderr",
     "output_type": "stream",
     "text": [
      "Epoch 816/1500: 100%|██████████| 1/1 [00:00<00:00, 24.01it/s]\n",
      "Epoch 817/1500: 100%|██████████| 1/1 [00:00<00:00, 23.67it/s]\n",
      "Validation: 100%|██████████| 1/1 [00:00<00:00, 30.73it/s]\n"
     ]
    },
    {
     "name": "stdout",
     "output_type": "stream",
     "text": [
      "Epoch: 817, Train Loss: 107.9568, \n",
      "Validation Loss: 83.9044\n"
     ]
    },
    {
     "name": "stderr",
     "output_type": "stream",
     "text": [
      "Epoch 818/1500: 100%|██████████| 1/1 [00:00<00:00, 23.07it/s]\n",
      "Epoch 819/1500: 100%|██████████| 1/1 [00:00<00:00, 23.01it/s]\n",
      "Validation: 100%|██████████| 1/1 [00:00<00:00, 28.65it/s]\n"
     ]
    },
    {
     "name": "stdout",
     "output_type": "stream",
     "text": [
      "Epoch: 819, Train Loss: 151.4374, \n",
      "Validation Loss: 80.9775\n"
     ]
    },
    {
     "name": "stderr",
     "output_type": "stream",
     "text": [
      "Epoch 820/1500: 100%|██████████| 1/1 [00:00<00:00, 22.82it/s]\n",
      "Epoch 821/1500: 100%|██████████| 1/1 [00:00<00:00, 23.43it/s]\n",
      "Validation: 100%|██████████| 1/1 [00:00<00:00, 26.07it/s]\n"
     ]
    },
    {
     "name": "stdout",
     "output_type": "stream",
     "text": [
      "Epoch: 821, Train Loss: 156.8549, \n",
      "Validation Loss: 91.8518\n"
     ]
    },
    {
     "name": "stderr",
     "output_type": "stream",
     "text": [
      "Epoch 822/1500: 100%|██████████| 1/1 [00:00<00:00, 23.55it/s]\n",
      "Epoch 823/1500: 100%|██████████| 1/1 [00:00<00:00, 23.10it/s]\n",
      "Validation: 100%|██████████| 1/1 [00:00<00:00, 29.24it/s]\n"
     ]
    },
    {
     "name": "stdout",
     "output_type": "stream",
     "text": [
      "Epoch: 823, Train Loss: 124.0450, \n",
      "Validation Loss: 108.9141\n"
     ]
    },
    {
     "name": "stderr",
     "output_type": "stream",
     "text": [
      "Epoch 824/1500: 100%|██████████| 1/1 [00:00<00:00, 23.19it/s]\n",
      "Epoch 825/1500: 100%|██████████| 1/1 [00:00<00:00, 20.87it/s]\n",
      "Validation: 100%|██████████| 1/1 [00:00<00:00, 29.97it/s]\n"
     ]
    },
    {
     "name": "stdout",
     "output_type": "stream",
     "text": [
      "Epoch: 825, Train Loss: 182.1885, \n",
      "Validation Loss: 99.9113\n"
     ]
    },
    {
     "name": "stderr",
     "output_type": "stream",
     "text": [
      "Epoch 826/1500: 100%|██████████| 1/1 [00:00<00:00, 21.76it/s]\n",
      "Epoch 827/1500: 100%|██████████| 1/1 [00:00<00:00, 23.91it/s]\n",
      "Validation: 100%|██████████| 1/1 [00:00<00:00, 27.90it/s]\n"
     ]
    },
    {
     "name": "stdout",
     "output_type": "stream",
     "text": [
      "Epoch: 827, Train Loss: 115.5247, \n",
      "Validation Loss: 49.5625\n"
     ]
    },
    {
     "name": "stderr",
     "output_type": "stream",
     "text": [
      "Epoch 828/1500: 100%|██████████| 1/1 [00:00<00:00, 22.51it/s]\n",
      "Epoch 829/1500: 100%|██████████| 1/1 [00:00<00:00, 23.26it/s]\n",
      "Validation: 100%|██████████| 1/1 [00:00<00:00, 29.36it/s]\n"
     ]
    },
    {
     "name": "stdout",
     "output_type": "stream",
     "text": [
      "Epoch: 829, Train Loss: 143.3585, \n",
      "Validation Loss: 66.5407\n"
     ]
    },
    {
     "name": "stderr",
     "output_type": "stream",
     "text": [
      "Epoch 830/1500: 100%|██████████| 1/1 [00:00<00:00, 23.54it/s]\n",
      "Epoch 831/1500: 100%|██████████| 1/1 [00:00<00:00, 20.59it/s]\n",
      "Validation: 100%|██████████| 1/1 [00:00<00:00, 30.28it/s]\n"
     ]
    },
    {
     "name": "stdout",
     "output_type": "stream",
     "text": [
      "Epoch: 831, Train Loss: 149.5660, \n",
      "Validation Loss: 74.6025\n"
     ]
    },
    {
     "name": "stderr",
     "output_type": "stream",
     "text": [
      "Epoch 832/1500: 100%|██████████| 1/1 [00:00<00:00, 22.47it/s]\n",
      "Epoch 833/1500: 100%|██████████| 1/1 [00:00<00:00, 23.05it/s]\n",
      "Validation: 100%|██████████| 1/1 [00:00<00:00, 28.68it/s]\n"
     ]
    },
    {
     "name": "stdout",
     "output_type": "stream",
     "text": [
      "Epoch: 833, Train Loss: 177.0004, \n",
      "Validation Loss: 68.9072\n"
     ]
    },
    {
     "name": "stderr",
     "output_type": "stream",
     "text": [
      "Epoch 834/1500: 100%|██████████| 1/1 [00:00<00:00, 21.41it/s]\n",
      "Epoch 835/1500: 100%|██████████| 1/1 [00:00<00:00, 23.26it/s]\n",
      "Validation: 100%|██████████| 1/1 [00:00<00:00, 28.44it/s]\n"
     ]
    },
    {
     "name": "stdout",
     "output_type": "stream",
     "text": [
      "Epoch: 835, Train Loss: 135.6262, \n",
      "Validation Loss: 97.2679\n"
     ]
    },
    {
     "name": "stderr",
     "output_type": "stream",
     "text": [
      "Epoch 836/1500: 100%|██████████| 1/1 [00:00<00:00, 21.99it/s]\n",
      "Epoch 837/1500: 100%|██████████| 1/1 [00:00<00:00, 22.82it/s]\n",
      "Validation: 100%|██████████| 1/1 [00:00<00:00, 29.99it/s]\n"
     ]
    },
    {
     "name": "stdout",
     "output_type": "stream",
     "text": [
      "Epoch: 837, Train Loss: 113.8000, \n",
      "Validation Loss: 88.7635\n"
     ]
    },
    {
     "name": "stderr",
     "output_type": "stream",
     "text": [
      "Epoch 838/1500: 100%|██████████| 1/1 [00:00<00:00, 22.20it/s]\n",
      "Epoch 839/1500: 100%|██████████| 1/1 [00:00<00:00, 23.33it/s]\n",
      "Validation: 100%|██████████| 1/1 [00:00<00:00, 30.22it/s]\n"
     ]
    },
    {
     "name": "stdout",
     "output_type": "stream",
     "text": [
      "Epoch: 839, Train Loss: 163.9069, \n",
      "Validation Loss: 71.0515\n"
     ]
    },
    {
     "name": "stderr",
     "output_type": "stream",
     "text": [
      "Epoch 840/1500: 100%|██████████| 1/1 [00:00<00:00, 22.99it/s]\n",
      "Epoch 841/1500: 100%|██████████| 1/1 [00:00<00:00, 23.54it/s]\n",
      "Validation: 100%|██████████| 1/1 [00:00<00:00, 28.78it/s]\n"
     ]
    },
    {
     "name": "stdout",
     "output_type": "stream",
     "text": [
      "Epoch: 841, Train Loss: 158.8055, \n",
      "Validation Loss: 56.1535\n"
     ]
    },
    {
     "name": "stderr",
     "output_type": "stream",
     "text": [
      "Epoch 842/1500: 100%|██████████| 1/1 [00:00<00:00, 22.80it/s]\n",
      "Epoch 843/1500: 100%|██████████| 1/1 [00:00<00:00, 22.83it/s]\n",
      "Validation: 100%|██████████| 1/1 [00:00<00:00, 27.97it/s]\n"
     ]
    },
    {
     "name": "stdout",
     "output_type": "stream",
     "text": [
      "Epoch: 843, Train Loss: 173.1372, \n",
      "Validation Loss: 90.2528\n"
     ]
    },
    {
     "name": "stderr",
     "output_type": "stream",
     "text": [
      "Epoch 844/1500: 100%|██████████| 1/1 [00:00<00:00, 24.29it/s]\n",
      "Epoch 845/1500: 100%|██████████| 1/1 [00:00<00:00, 22.59it/s]\n",
      "Validation: 100%|██████████| 1/1 [00:00<00:00, 30.11it/s]\n"
     ]
    },
    {
     "name": "stdout",
     "output_type": "stream",
     "text": [
      "Epoch: 845, Train Loss: 140.6859, \n",
      "Validation Loss: 135.6930\n"
     ]
    },
    {
     "name": "stderr",
     "output_type": "stream",
     "text": [
      "Epoch 846/1500: 100%|██████████| 1/1 [00:00<00:00, 22.64it/s]\n",
      "Epoch 847/1500: 100%|██████████| 1/1 [00:00<00:00, 23.50it/s]\n",
      "Validation: 100%|██████████| 1/1 [00:00<00:00, 30.01it/s]\n"
     ]
    },
    {
     "name": "stdout",
     "output_type": "stream",
     "text": [
      "Epoch: 847, Train Loss: 172.0757, \n",
      "Validation Loss: 110.8316\n"
     ]
    },
    {
     "name": "stderr",
     "output_type": "stream",
     "text": [
      "Epoch 848/1500: 100%|██████████| 1/1 [00:00<00:00, 23.11it/s]\n",
      "Epoch 849/1500: 100%|██████████| 1/1 [00:00<00:00, 23.74it/s]\n",
      "Validation: 100%|██████████| 1/1 [00:00<00:00, 28.87it/s]\n"
     ]
    },
    {
     "name": "stdout",
     "output_type": "stream",
     "text": [
      "Epoch: 849, Train Loss: 155.0007, \n",
      "Validation Loss: 85.7370\n"
     ]
    },
    {
     "name": "stderr",
     "output_type": "stream",
     "text": [
      "Epoch 850/1500: 100%|██████████| 1/1 [00:00<00:00, 22.46it/s]\n",
      "Epoch 851/1500: 100%|██████████| 1/1 [00:00<00:00, 22.33it/s]\n",
      "Validation: 100%|██████████| 1/1 [00:00<00:00, 28.39it/s]\n"
     ]
    },
    {
     "name": "stdout",
     "output_type": "stream",
     "text": [
      "Epoch: 851, Train Loss: 164.4766, \n",
      "Validation Loss: 120.2459\n"
     ]
    },
    {
     "name": "stderr",
     "output_type": "stream",
     "text": [
      "Epoch 852/1500: 100%|██████████| 1/1 [00:00<00:00, 23.52it/s]\n",
      "Epoch 853/1500: 100%|██████████| 1/1 [00:00<00:00, 23.05it/s]\n",
      "Validation: 100%|██████████| 1/1 [00:00<00:00, 30.36it/s]\n"
     ]
    },
    {
     "name": "stdout",
     "output_type": "stream",
     "text": [
      "Epoch: 853, Train Loss: 244.2907, \n",
      "Validation Loss: 77.6568\n"
     ]
    },
    {
     "name": "stderr",
     "output_type": "stream",
     "text": [
      "Epoch 854/1500: 100%|██████████| 1/1 [00:00<00:00, 21.43it/s]\n",
      "Epoch 855/1500: 100%|██████████| 1/1 [00:00<00:00, 23.38it/s]\n",
      "Validation: 100%|██████████| 1/1 [00:00<00:00, 29.01it/s]\n"
     ]
    },
    {
     "name": "stdout",
     "output_type": "stream",
     "text": [
      "Epoch: 855, Train Loss: 151.0985, \n",
      "Validation Loss: 92.3720\n"
     ]
    },
    {
     "name": "stderr",
     "output_type": "stream",
     "text": [
      "Epoch 856/1500: 100%|██████████| 1/1 [00:00<00:00, 22.67it/s]\n",
      "Epoch 857/1500: 100%|██████████| 1/1 [00:00<00:00, 23.52it/s]\n",
      "Validation: 100%|██████████| 1/1 [00:00<00:00, 28.26it/s]\n"
     ]
    },
    {
     "name": "stdout",
     "output_type": "stream",
     "text": [
      "Epoch: 857, Train Loss: 222.9986, \n",
      "Validation Loss: 157.6408\n"
     ]
    },
    {
     "name": "stderr",
     "output_type": "stream",
     "text": [
      "Epoch 858/1500: 100%|██████████| 1/1 [00:00<00:00, 22.17it/s]\n",
      "Epoch 859/1500: 100%|██████████| 1/1 [00:00<00:00, 21.97it/s]\n",
      "Validation: 100%|██████████| 1/1 [00:00<00:00, 29.63it/s]\n"
     ]
    },
    {
     "name": "stdout",
     "output_type": "stream",
     "text": [
      "Epoch: 859, Train Loss: 193.2358, \n",
      "Validation Loss: 92.5390\n"
     ]
    },
    {
     "name": "stderr",
     "output_type": "stream",
     "text": [
      "Epoch 860/1500: 100%|██████████| 1/1 [00:00<00:00, 23.31it/s]\n",
      "Epoch 861/1500: 100%|██████████| 1/1 [00:00<00:00, 22.38it/s]\n",
      "Validation: 100%|██████████| 1/1 [00:00<00:00, 29.76it/s]\n"
     ]
    },
    {
     "name": "stdout",
     "output_type": "stream",
     "text": [
      "Epoch: 861, Train Loss: 88.8653, \n",
      "Validation Loss: 119.5654\n"
     ]
    },
    {
     "name": "stderr",
     "output_type": "stream",
     "text": [
      "Epoch 862/1500: 100%|██████████| 1/1 [00:00<00:00, 21.95it/s]\n",
      "Epoch 863/1500: 100%|██████████| 1/1 [00:00<00:00, 23.44it/s]\n",
      "Validation: 100%|██████████| 1/1 [00:00<00:00, 28.61it/s]\n"
     ]
    },
    {
     "name": "stdout",
     "output_type": "stream",
     "text": [
      "Epoch: 863, Train Loss: 213.5794, \n",
      "Validation Loss: 96.3860\n"
     ]
    },
    {
     "name": "stderr",
     "output_type": "stream",
     "text": [
      "Epoch 864/1500: 100%|██████████| 1/1 [00:00<00:00, 22.76it/s]\n",
      "Epoch 865/1500: 100%|██████████| 1/1 [00:00<00:00, 22.54it/s]\n",
      "Validation: 100%|██████████| 1/1 [00:00<00:00, 27.98it/s]\n"
     ]
    },
    {
     "name": "stdout",
     "output_type": "stream",
     "text": [
      "Epoch: 865, Train Loss: 127.1479, \n",
      "Validation Loss: 50.6515\n"
     ]
    },
    {
     "name": "stderr",
     "output_type": "stream",
     "text": [
      "Epoch 866/1500: 100%|██████████| 1/1 [00:00<00:00, 24.07it/s]\n",
      "Epoch 867/1500: 100%|██████████| 1/1 [00:00<00:00, 23.45it/s]\n",
      "Validation: 100%|██████████| 1/1 [00:00<00:00, 30.03it/s]\n"
     ]
    },
    {
     "name": "stdout",
     "output_type": "stream",
     "text": [
      "Epoch: 867, Train Loss: 111.6950, \n",
      "Validation Loss: 123.1492\n"
     ]
    },
    {
     "name": "stderr",
     "output_type": "stream",
     "text": [
      "Epoch 868/1500: 100%|██████████| 1/1 [00:00<00:00, 22.59it/s]\n",
      "Epoch 869/1500: 100%|██████████| 1/1 [00:00<00:00, 22.88it/s]\n",
      "Validation: 100%|██████████| 1/1 [00:00<00:00, 28.55it/s]\n"
     ]
    },
    {
     "name": "stdout",
     "output_type": "stream",
     "text": [
      "Epoch: 869, Train Loss: 160.5871, \n",
      "Validation Loss: 83.9541\n"
     ]
    },
    {
     "name": "stderr",
     "output_type": "stream",
     "text": [
      "Epoch 870/1500: 100%|██████████| 1/1 [00:00<00:00, 22.24it/s]\n",
      "Epoch 871/1500: 100%|██████████| 1/1 [00:00<00:00, 23.07it/s]\n",
      "Validation: 100%|██████████| 1/1 [00:00<00:00, 28.68it/s]\n"
     ]
    },
    {
     "name": "stdout",
     "output_type": "stream",
     "text": [
      "Epoch: 871, Train Loss: 160.4789, \n",
      "Validation Loss: 74.4377\n"
     ]
    },
    {
     "name": "stderr",
     "output_type": "stream",
     "text": [
      "Epoch 872/1500: 100%|██████████| 1/1 [00:00<00:00, 22.95it/s]\n",
      "Epoch 873/1500: 100%|██████████| 1/1 [00:00<00:00, 22.41it/s]\n",
      "Validation: 100%|██████████| 1/1 [00:00<00:00, 28.22it/s]\n"
     ]
    },
    {
     "name": "stdout",
     "output_type": "stream",
     "text": [
      "Epoch: 873, Train Loss: 151.0948, \n",
      "Validation Loss: 134.1264\n"
     ]
    },
    {
     "name": "stderr",
     "output_type": "stream",
     "text": [
      "Epoch 874/1500: 100%|██████████| 1/1 [00:00<00:00, 23.93it/s]\n",
      "Epoch 875/1500: 100%|██████████| 1/1 [00:00<00:00, 22.93it/s]\n",
      "Validation: 100%|██████████| 1/1 [00:00<00:00, 29.88it/s]\n"
     ]
    },
    {
     "name": "stdout",
     "output_type": "stream",
     "text": [
      "Epoch: 875, Train Loss: 208.1955, \n",
      "Validation Loss: 62.8333\n"
     ]
    },
    {
     "name": "stderr",
     "output_type": "stream",
     "text": [
      "Epoch 876/1500: 100%|██████████| 1/1 [00:00<00:00, 22.85it/s]\n",
      "Epoch 877/1500: 100%|██████████| 1/1 [00:00<00:00, 23.16it/s]\n",
      "Validation: 100%|██████████| 1/1 [00:00<00:00, 28.41it/s]\n"
     ]
    },
    {
     "name": "stdout",
     "output_type": "stream",
     "text": [
      "Epoch: 877, Train Loss: 176.2532, \n",
      "Validation Loss: 205.8471\n"
     ]
    },
    {
     "name": "stderr",
     "output_type": "stream",
     "text": [
      "Epoch 878/1500: 100%|██████████| 1/1 [00:00<00:00, 22.17it/s]\n",
      "Epoch 879/1500: 100%|██████████| 1/1 [00:00<00:00, 23.84it/s]\n",
      "Validation: 100%|██████████| 1/1 [00:00<00:00, 28.26it/s]\n"
     ]
    },
    {
     "name": "stdout",
     "output_type": "stream",
     "text": [
      "Epoch: 879, Train Loss: 152.5337, \n",
      "Validation Loss: 54.7735\n"
     ]
    },
    {
     "name": "stderr",
     "output_type": "stream",
     "text": [
      "Epoch 880/1500: 100%|██████████| 1/1 [00:00<00:00, 23.14it/s]\n",
      "Epoch 881/1500: 100%|██████████| 1/1 [00:00<00:00, 22.78it/s]\n",
      "Validation: 100%|██████████| 1/1 [00:00<00:00, 29.85it/s]\n"
     ]
    },
    {
     "name": "stdout",
     "output_type": "stream",
     "text": [
      "Epoch: 881, Train Loss: 100.8141, \n",
      "Validation Loss: 74.9923\n"
     ]
    },
    {
     "name": "stderr",
     "output_type": "stream",
     "text": [
      "Epoch 882/1500: 100%|██████████| 1/1 [00:00<00:00, 22.05it/s]\n",
      "Epoch 883/1500: 100%|██████████| 1/1 [00:00<00:00, 22.01it/s]\n",
      "Validation: 100%|██████████| 1/1 [00:00<00:00, 30.18it/s]\n"
     ]
    },
    {
     "name": "stdout",
     "output_type": "stream",
     "text": [
      "Epoch: 883, Train Loss: 133.3540, \n",
      "Validation Loss: 85.0730\n"
     ]
    },
    {
     "name": "stderr",
     "output_type": "stream",
     "text": [
      "Epoch 884/1500: 100%|██████████| 1/1 [00:00<00:00, 21.61it/s]\n",
      "Epoch 885/1500: 100%|██████████| 1/1 [00:00<00:00, 23.35it/s]\n",
      "Validation: 100%|██████████| 1/1 [00:00<00:00, 28.44it/s]\n"
     ]
    },
    {
     "name": "stdout",
     "output_type": "stream",
     "text": [
      "Epoch: 885, Train Loss: 282.9837, \n",
      "Validation Loss: 67.2886\n"
     ]
    },
    {
     "name": "stderr",
     "output_type": "stream",
     "text": [
      "Epoch 886/1500: 100%|██████████| 1/1 [00:00<00:00, 21.40it/s]\n",
      "Epoch 887/1500: 100%|██████████| 1/1 [00:00<00:00, 23.38it/s]\n",
      "Validation: 100%|██████████| 1/1 [00:00<00:00, 28.20it/s]\n"
     ]
    },
    {
     "name": "stdout",
     "output_type": "stream",
     "text": [
      "Epoch: 887, Train Loss: 140.2700, \n",
      "Validation Loss: 72.5334\n"
     ]
    },
    {
     "name": "stderr",
     "output_type": "stream",
     "text": [
      "Epoch 888/1500: 100%|██████████| 1/1 [00:00<00:00, 23.56it/s]\n",
      "Epoch 889/1500: 100%|██████████| 1/1 [00:00<00:00, 21.54it/s]\n",
      "Validation: 100%|██████████| 1/1 [00:00<00:00, 28.88it/s]\n"
     ]
    },
    {
     "name": "stdout",
     "output_type": "stream",
     "text": [
      "Epoch: 889, Train Loss: 185.3795, \n",
      "Validation Loss: 62.5878\n"
     ]
    },
    {
     "name": "stderr",
     "output_type": "stream",
     "text": [
      "Epoch 890/1500: 100%|██████████| 1/1 [00:00<00:00, 22.82it/s]\n",
      "Epoch 891/1500: 100%|██████████| 1/1 [00:00<00:00, 23.72it/s]\n",
      "Validation: 100%|██████████| 1/1 [00:00<00:00, 28.26it/s]\n"
     ]
    },
    {
     "name": "stdout",
     "output_type": "stream",
     "text": [
      "Epoch: 891, Train Loss: 122.9362, \n",
      "Validation Loss: 89.7735\n"
     ]
    },
    {
     "name": "stderr",
     "output_type": "stream",
     "text": [
      "Epoch 892/1500: 100%|██████████| 1/1 [00:00<00:00, 21.73it/s]\n",
      "Epoch 893/1500: 100%|██████████| 1/1 [00:00<00:00, 22.89it/s]\n",
      "Validation: 100%|██████████| 1/1 [00:00<00:00, 28.52it/s]\n"
     ]
    },
    {
     "name": "stdout",
     "output_type": "stream",
     "text": [
      "Epoch: 893, Train Loss: 123.6457, \n",
      "Validation Loss: 85.6408\n"
     ]
    },
    {
     "name": "stderr",
     "output_type": "stream",
     "text": [
      "Epoch 894/1500: 100%|██████████| 1/1 [00:00<00:00, 23.06it/s]\n",
      "Epoch 895/1500: 100%|██████████| 1/1 [00:00<00:00, 22.27it/s]\n",
      "Validation: 100%|██████████| 1/1 [00:00<00:00, 30.04it/s]\n"
     ]
    },
    {
     "name": "stdout",
     "output_type": "stream",
     "text": [
      "Epoch: 895, Train Loss: 138.1535, \n",
      "Validation Loss: 63.7244\n"
     ]
    },
    {
     "name": "stderr",
     "output_type": "stream",
     "text": [
      "Epoch 896/1500: 100%|██████████| 1/1 [00:00<00:00, 22.49it/s]\n",
      "Epoch 897/1500: 100%|██████████| 1/1 [00:00<00:00, 22.74it/s]\n",
      "Validation: 100%|██████████| 1/1 [00:00<00:00, 29.60it/s]\n"
     ]
    },
    {
     "name": "stdout",
     "output_type": "stream",
     "text": [
      "Epoch: 897, Train Loss: 198.1525, \n",
      "Validation Loss: 133.9817\n"
     ]
    },
    {
     "name": "stderr",
     "output_type": "stream",
     "text": [
      "Epoch 898/1500: 100%|██████████| 1/1 [00:00<00:00, 23.03it/s]\n",
      "Epoch 899/1500: 100%|██████████| 1/1 [00:00<00:00, 23.61it/s]\n",
      "Validation: 100%|██████████| 1/1 [00:00<00:00, 29.36it/s]\n"
     ]
    },
    {
     "name": "stdout",
     "output_type": "stream",
     "text": [
      "Epoch: 899, Train Loss: 196.1378, \n",
      "Validation Loss: 79.5365\n"
     ]
    },
    {
     "name": "stderr",
     "output_type": "stream",
     "text": [
      "Epoch 900/1500: 100%|██████████| 1/1 [00:00<00:00, 20.83it/s]\n",
      "Epoch 901/1500: 100%|██████████| 1/1 [00:00<00:00, 22.15it/s]\n",
      "Validation: 100%|██████████| 1/1 [00:00<00:00, 28.71it/s]\n"
     ]
    },
    {
     "name": "stdout",
     "output_type": "stream",
     "text": [
      "Epoch: 901, Train Loss: 149.5389, \n",
      "Validation Loss: 75.8947\n"
     ]
    },
    {
     "name": "stderr",
     "output_type": "stream",
     "text": [
      "Epoch 902/1500: 100%|██████████| 1/1 [00:00<00:00, 22.57it/s]\n",
      "Epoch 903/1500: 100%|██████████| 1/1 [00:00<00:00, 23.00it/s]\n",
      "Validation: 100%|██████████| 1/1 [00:00<00:00, 28.93it/s]\n"
     ]
    },
    {
     "name": "stdout",
     "output_type": "stream",
     "text": [
      "Epoch: 903, Train Loss: 126.7145, \n",
      "Validation Loss: 107.6662\n"
     ]
    },
    {
     "name": "stderr",
     "output_type": "stream",
     "text": [
      "Epoch 904/1500: 100%|██████████| 1/1 [00:00<00:00, 22.44it/s]\n",
      "Epoch 905/1500: 100%|██████████| 1/1 [00:00<00:00, 22.64it/s]\n",
      "Validation: 100%|██████████| 1/1 [00:00<00:00, 24.69it/s]\n"
     ]
    },
    {
     "name": "stdout",
     "output_type": "stream",
     "text": [
      "Epoch: 905, Train Loss: 188.5218, \n",
      "Validation Loss: 110.9278\n"
     ]
    },
    {
     "name": "stderr",
     "output_type": "stream",
     "text": [
      "Epoch 906/1500: 100%|██████████| 1/1 [00:00<00:00, 22.69it/s]\n",
      "Epoch 907/1500: 100%|██████████| 1/1 [00:00<00:00, 21.78it/s]\n",
      "Validation: 100%|██████████| 1/1 [00:00<00:00, 28.07it/s]\n"
     ]
    },
    {
     "name": "stdout",
     "output_type": "stream",
     "text": [
      "Epoch: 907, Train Loss: 105.7178, \n",
      "Validation Loss: 90.4166\n"
     ]
    },
    {
     "name": "stderr",
     "output_type": "stream",
     "text": [
      "Epoch 908/1500: 100%|██████████| 1/1 [00:00<00:00, 22.91it/s]\n",
      "Epoch 909/1500: 100%|██████████| 1/1 [00:00<00:00, 22.79it/s]\n",
      "Validation: 100%|██████████| 1/1 [00:00<00:00, 30.16it/s]\n"
     ]
    },
    {
     "name": "stdout",
     "output_type": "stream",
     "text": [
      "Epoch: 909, Train Loss: 132.8517, \n",
      "Validation Loss: 48.6128\n"
     ]
    },
    {
     "name": "stderr",
     "output_type": "stream",
     "text": [
      "Epoch 910/1500: 100%|██████████| 1/1 [00:00<00:00, 23.70it/s]\n",
      "Epoch 911/1500: 100%|██████████| 1/1 [00:00<00:00, 23.83it/s]\n",
      "Validation: 100%|██████████| 1/1 [00:00<00:00, 29.43it/s]\n"
     ]
    },
    {
     "name": "stdout",
     "output_type": "stream",
     "text": [
      "Epoch: 911, Train Loss: 126.6429, \n",
      "Validation Loss: 64.2952\n"
     ]
    },
    {
     "name": "stderr",
     "output_type": "stream",
     "text": [
      "Epoch 912/1500: 100%|██████████| 1/1 [00:00<00:00, 23.73it/s]\n",
      "Epoch 913/1500: 100%|██████████| 1/1 [00:00<00:00, 23.62it/s]\n",
      "Validation: 100%|██████████| 1/1 [00:00<00:00, 29.57it/s]\n"
     ]
    },
    {
     "name": "stdout",
     "output_type": "stream",
     "text": [
      "Epoch: 913, Train Loss: 177.7961, \n",
      "Validation Loss: 67.0281\n"
     ]
    },
    {
     "name": "stderr",
     "output_type": "stream",
     "text": [
      "Epoch 914/1500: 100%|██████████| 1/1 [00:00<00:00, 22.84it/s]\n",
      "Epoch 915/1500: 100%|██████████| 1/1 [00:00<00:00, 22.10it/s]\n",
      "Validation: 100%|██████████| 1/1 [00:00<00:00, 28.76it/s]\n"
     ]
    },
    {
     "name": "stdout",
     "output_type": "stream",
     "text": [
      "Epoch: 915, Train Loss: 118.2506, \n",
      "Validation Loss: 72.9634\n"
     ]
    },
    {
     "name": "stderr",
     "output_type": "stream",
     "text": [
      "Epoch 916/1500: 100%|██████████| 1/1 [00:00<00:00, 21.92it/s]\n",
      "Epoch 917/1500: 100%|██████████| 1/1 [00:00<00:00, 23.52it/s]\n",
      "Validation: 100%|██████████| 1/1 [00:00<00:00, 28.55it/s]\n"
     ]
    },
    {
     "name": "stdout",
     "output_type": "stream",
     "text": [
      "Epoch: 917, Train Loss: 124.0187, \n",
      "Validation Loss: 60.3273\n"
     ]
    },
    {
     "name": "stderr",
     "output_type": "stream",
     "text": [
      "Epoch 918/1500: 100%|██████████| 1/1 [00:00<00:00, 21.05it/s]\n",
      "Epoch 919/1500: 100%|██████████| 1/1 [00:00<00:00, 21.83it/s]\n",
      "Validation: 100%|██████████| 1/1 [00:00<00:00, 28.44it/s]\n"
     ]
    },
    {
     "name": "stdout",
     "output_type": "stream",
     "text": [
      "Epoch: 919, Train Loss: 105.4445, \n",
      "Validation Loss: 63.1844\n"
     ]
    },
    {
     "name": "stderr",
     "output_type": "stream",
     "text": [
      "Epoch 920/1500: 100%|██████████| 1/1 [00:00<00:00, 23.21it/s]\n",
      "Epoch 921/1500: 100%|██████████| 1/1 [00:00<00:00, 22.35it/s]\n",
      "Validation: 100%|██████████| 1/1 [00:00<00:00, 28.25it/s]\n"
     ]
    },
    {
     "name": "stdout",
     "output_type": "stream",
     "text": [
      "Epoch: 921, Train Loss: 127.3354, \n",
      "Validation Loss: 65.5742\n"
     ]
    },
    {
     "name": "stderr",
     "output_type": "stream",
     "text": [
      "Epoch 922/1500: 100%|██████████| 1/1 [00:00<00:00, 22.18it/s]\n",
      "Epoch 923/1500: 100%|██████████| 1/1 [00:00<00:00, 21.73it/s]\n",
      "Validation: 100%|██████████| 1/1 [00:00<00:00, 28.83it/s]\n"
     ]
    },
    {
     "name": "stdout",
     "output_type": "stream",
     "text": [
      "Epoch: 923, Train Loss: 144.9833, \n",
      "Validation Loss: 68.8554\n"
     ]
    },
    {
     "name": "stderr",
     "output_type": "stream",
     "text": [
      "Epoch 924/1500: 100%|██████████| 1/1 [00:00<00:00, 22.68it/s]\n",
      "Epoch 925/1500: 100%|██████████| 1/1 [00:00<00:00, 22.69it/s]\n",
      "Validation: 100%|██████████| 1/1 [00:00<00:00, 28.78it/s]\n"
     ]
    },
    {
     "name": "stdout",
     "output_type": "stream",
     "text": [
      "Epoch: 925, Train Loss: 67.9887, \n",
      "Validation Loss: 49.8665\n"
     ]
    },
    {
     "name": "stderr",
     "output_type": "stream",
     "text": [
      "Epoch 926/1500: 100%|██████████| 1/1 [00:00<00:00, 21.49it/s]\n",
      "Epoch 927/1500: 100%|██████████| 1/1 [00:00<00:00, 22.73it/s]\n",
      "Validation: 100%|██████████| 1/1 [00:00<00:00, 29.42it/s]\n"
     ]
    },
    {
     "name": "stdout",
     "output_type": "stream",
     "text": [
      "Epoch: 927, Train Loss: 99.1846, \n",
      "Validation Loss: 49.1558\n"
     ]
    },
    {
     "name": "stderr",
     "output_type": "stream",
     "text": [
      "Epoch 928/1500: 100%|██████████| 1/1 [00:00<00:00, 21.41it/s]\n",
      "Epoch 929/1500: 100%|██████████| 1/1 [00:00<00:00, 23.16it/s]\n",
      "Validation: 100%|██████████| 1/1 [00:00<00:00, 27.81it/s]\n"
     ]
    },
    {
     "name": "stdout",
     "output_type": "stream",
     "text": [
      "Epoch: 929, Train Loss: 93.1398, \n",
      "Validation Loss: 72.9124\n"
     ]
    },
    {
     "name": "stderr",
     "output_type": "stream",
     "text": [
      "Epoch 930/1500: 100%|██████████| 1/1 [00:00<00:00, 22.46it/s]\n",
      "Epoch 931/1500: 100%|██████████| 1/1 [00:00<00:00, 22.56it/s]\n",
      "Validation: 100%|██████████| 1/1 [00:00<00:00, 28.59it/s]\n"
     ]
    },
    {
     "name": "stdout",
     "output_type": "stream",
     "text": [
      "Epoch: 931, Train Loss: 106.9414, \n",
      "Validation Loss: 62.2259\n"
     ]
    },
    {
     "name": "stderr",
     "output_type": "stream",
     "text": [
      "Epoch 932/1500: 100%|██████████| 1/1 [00:00<00:00, 22.87it/s]\n",
      "Epoch 933/1500: 100%|██████████| 1/1 [00:00<00:00, 23.45it/s]\n",
      "Validation: 100%|██████████| 1/1 [00:00<00:00, 29.51it/s]\n"
     ]
    },
    {
     "name": "stdout",
     "output_type": "stream",
     "text": [
      "Epoch: 933, Train Loss: 93.5845, \n",
      "Validation Loss: 50.5409\n"
     ]
    },
    {
     "name": "stderr",
     "output_type": "stream",
     "text": [
      "Epoch 934/1500: 100%|██████████| 1/1 [00:00<00:00, 23.06it/s]\n",
      "Epoch 935/1500: 100%|██████████| 1/1 [00:00<00:00, 23.29it/s]\n",
      "Validation: 100%|██████████| 1/1 [00:00<00:00, 29.03it/s]\n"
     ]
    },
    {
     "name": "stdout",
     "output_type": "stream",
     "text": [
      "Epoch: 935, Train Loss: 111.7928, \n",
      "Validation Loss: 65.5292\n"
     ]
    },
    {
     "name": "stderr",
     "output_type": "stream",
     "text": [
      "Epoch 936/1500: 100%|██████████| 1/1 [00:00<00:00, 23.61it/s]\n",
      "Epoch 937/1500: 100%|██████████| 1/1 [00:00<00:00, 23.34it/s]\n",
      "Validation: 100%|██████████| 1/1 [00:00<00:00, 29.96it/s]\n"
     ]
    },
    {
     "name": "stdout",
     "output_type": "stream",
     "text": [
      "Epoch: 937, Train Loss: 187.1148, \n",
      "Validation Loss: 62.1641\n"
     ]
    },
    {
     "name": "stderr",
     "output_type": "stream",
     "text": [
      "Epoch 938/1500: 100%|██████████| 1/1 [00:00<00:00, 21.26it/s]\n",
      "Epoch 939/1500: 100%|██████████| 1/1 [00:00<00:00, 22.10it/s]\n",
      "Validation: 100%|██████████| 1/1 [00:00<00:00, 28.43it/s]\n"
     ]
    },
    {
     "name": "stdout",
     "output_type": "stream",
     "text": [
      "Epoch: 939, Train Loss: 128.3248, \n",
      "Validation Loss: 51.1613\n"
     ]
    },
    {
     "name": "stderr",
     "output_type": "stream",
     "text": [
      "Epoch 940/1500: 100%|██████████| 1/1 [00:00<00:00, 22.53it/s]\n",
      "Epoch 941/1500: 100%|██████████| 1/1 [00:00<00:00, 23.41it/s]\n",
      "Validation: 100%|██████████| 1/1 [00:00<00:00, 29.40it/s]\n"
     ]
    },
    {
     "name": "stdout",
     "output_type": "stream",
     "text": [
      "Epoch: 941, Train Loss: 136.8851, \n",
      "Validation Loss: 71.9003\n"
     ]
    },
    {
     "name": "stderr",
     "output_type": "stream",
     "text": [
      "Epoch 942/1500: 100%|██████████| 1/1 [00:00<00:00, 23.21it/s]\n",
      "Epoch 943/1500: 100%|██████████| 1/1 [00:00<00:00, 22.05it/s]\n",
      "Validation: 100%|██████████| 1/1 [00:00<00:00, 26.86it/s]\n"
     ]
    },
    {
     "name": "stdout",
     "output_type": "stream",
     "text": [
      "Epoch: 943, Train Loss: 164.8277, \n",
      "Validation Loss: 62.0161\n"
     ]
    },
    {
     "name": "stderr",
     "output_type": "stream",
     "text": [
      "Epoch 944/1500: 100%|██████████| 1/1 [00:00<00:00, 22.57it/s]\n",
      "Epoch 945/1500: 100%|██████████| 1/1 [00:00<00:00, 22.71it/s]\n",
      "Validation: 100%|██████████| 1/1 [00:00<00:00, 29.18it/s]\n"
     ]
    },
    {
     "name": "stdout",
     "output_type": "stream",
     "text": [
      "Epoch: 945, Train Loss: 97.0122, \n",
      "Validation Loss: 52.4418\n"
     ]
    },
    {
     "name": "stderr",
     "output_type": "stream",
     "text": [
      "Epoch 946/1500: 100%|██████████| 1/1 [00:00<00:00, 23.15it/s]\n",
      "Epoch 947/1500: 100%|██████████| 1/1 [00:00<00:00, 23.75it/s]\n",
      "Validation: 100%|██████████| 1/1 [00:00<00:00, 29.47it/s]\n"
     ]
    },
    {
     "name": "stdout",
     "output_type": "stream",
     "text": [
      "Epoch: 947, Train Loss: 116.2673, \n",
      "Validation Loss: 59.0468\n"
     ]
    },
    {
     "name": "stderr",
     "output_type": "stream",
     "text": [
      "Epoch 948/1500: 100%|██████████| 1/1 [00:00<00:00, 22.97it/s]\n",
      "Epoch 949/1500: 100%|██████████| 1/1 [00:00<00:00, 23.30it/s]\n",
      "Validation: 100%|██████████| 1/1 [00:00<00:00, 29.29it/s]\n"
     ]
    },
    {
     "name": "stdout",
     "output_type": "stream",
     "text": [
      "Epoch: 949, Train Loss: 135.1597, \n",
      "Validation Loss: 62.3423\n"
     ]
    },
    {
     "name": "stderr",
     "output_type": "stream",
     "text": [
      "Epoch 950/1500: 100%|██████████| 1/1 [00:00<00:00, 22.99it/s]\n",
      "Epoch 951/1500: 100%|██████████| 1/1 [00:00<00:00, 24.13it/s]\n",
      "Validation: 100%|██████████| 1/1 [00:00<00:00, 30.02it/s]\n"
     ]
    },
    {
     "name": "stdout",
     "output_type": "stream",
     "text": [
      "Epoch: 951, Train Loss: 102.5199, \n",
      "Validation Loss: 53.1065\n"
     ]
    },
    {
     "name": "stderr",
     "output_type": "stream",
     "text": [
      "Epoch 952/1500: 100%|██████████| 1/1 [00:00<00:00, 21.78it/s]\n",
      "Epoch 953/1500: 100%|██████████| 1/1 [00:00<00:00, 22.79it/s]\n",
      "Validation: 100%|██████████| 1/1 [00:00<00:00, 28.12it/s]\n"
     ]
    },
    {
     "name": "stdout",
     "output_type": "stream",
     "text": [
      "Epoch: 953, Train Loss: 105.6065, \n",
      "Validation Loss: 65.3532\n"
     ]
    },
    {
     "name": "stderr",
     "output_type": "stream",
     "text": [
      "Epoch 954/1500: 100%|██████████| 1/1 [00:00<00:00, 23.40it/s]\n",
      "Epoch 955/1500: 100%|██████████| 1/1 [00:00<00:00, 22.51it/s]\n",
      "Validation: 100%|██████████| 1/1 [00:00<00:00, 29.41it/s]\n"
     ]
    },
    {
     "name": "stdout",
     "output_type": "stream",
     "text": [
      "Epoch: 955, Train Loss: 144.9412, \n",
      "Validation Loss: 53.9296\n"
     ]
    },
    {
     "name": "stderr",
     "output_type": "stream",
     "text": [
      "Epoch 956/1500: 100%|██████████| 1/1 [00:00<00:00, 22.87it/s]\n",
      "Epoch 957/1500: 100%|██████████| 1/1 [00:00<00:00, 23.47it/s]\n",
      "Validation: 100%|██████████| 1/1 [00:00<00:00, 30.09it/s]\n"
     ]
    },
    {
     "name": "stdout",
     "output_type": "stream",
     "text": [
      "Epoch: 957, Train Loss: 102.5934, \n",
      "Validation Loss: 72.4240\n"
     ]
    },
    {
     "name": "stderr",
     "output_type": "stream",
     "text": [
      "Epoch 958/1500: 100%|██████████| 1/1 [00:00<00:00, 23.52it/s]\n",
      "Epoch 959/1500: 100%|██████████| 1/1 [00:00<00:00, 22.59it/s]\n",
      "Validation: 100%|██████████| 1/1 [00:00<00:00, 27.75it/s]\n"
     ]
    },
    {
     "name": "stdout",
     "output_type": "stream",
     "text": [
      "Epoch: 959, Train Loss: 118.9482, \n",
      "Validation Loss: 61.1132\n"
     ]
    },
    {
     "name": "stderr",
     "output_type": "stream",
     "text": [
      "Epoch 960/1500: 100%|██████████| 1/1 [00:00<00:00, 23.11it/s]\n",
      "Epoch 961/1500: 100%|██████████| 1/1 [00:00<00:00, 22.75it/s]\n",
      "Validation: 100%|██████████| 1/1 [00:00<00:00, 29.29it/s]\n"
     ]
    },
    {
     "name": "stdout",
     "output_type": "stream",
     "text": [
      "Epoch: 961, Train Loss: 98.2421, \n",
      "Validation Loss: 48.1232\n"
     ]
    },
    {
     "name": "stderr",
     "output_type": "stream",
     "text": [
      "Epoch 962/1500: 100%|██████████| 1/1 [00:00<00:00, 20.37it/s]\n",
      "Epoch 963/1500: 100%|██████████| 1/1 [00:00<00:00, 23.01it/s]\n",
      "Validation: 100%|██████████| 1/1 [00:00<00:00, 28.66it/s]\n"
     ]
    },
    {
     "name": "stdout",
     "output_type": "stream",
     "text": [
      "Epoch: 963, Train Loss: 107.2692, \n",
      "Validation Loss: 63.5904\n"
     ]
    },
    {
     "name": "stderr",
     "output_type": "stream",
     "text": [
      "Epoch 964/1500: 100%|██████████| 1/1 [00:00<00:00, 20.80it/s]\n",
      "Epoch 965/1500: 100%|██████████| 1/1 [00:00<00:00, 22.67it/s]\n",
      "Validation: 100%|██████████| 1/1 [00:00<00:00, 28.56it/s]\n"
     ]
    },
    {
     "name": "stdout",
     "output_type": "stream",
     "text": [
      "Epoch: 965, Train Loss: 140.1991, \n",
      "Validation Loss: 57.6709\n"
     ]
    },
    {
     "name": "stderr",
     "output_type": "stream",
     "text": [
      "Epoch 966/1500: 100%|██████████| 1/1 [00:00<00:00, 22.01it/s]\n",
      "Epoch 967/1500: 100%|██████████| 1/1 [00:00<00:00, 22.24it/s]\n",
      "Validation: 100%|██████████| 1/1 [00:00<00:00, 28.70it/s]\n"
     ]
    },
    {
     "name": "stdout",
     "output_type": "stream",
     "text": [
      "Epoch: 967, Train Loss: 91.4553, \n",
      "Validation Loss: 56.5605\n"
     ]
    },
    {
     "name": "stderr",
     "output_type": "stream",
     "text": [
      "Epoch 968/1500: 100%|██████████| 1/1 [00:00<00:00, 22.70it/s]\n",
      "Epoch 969/1500: 100%|██████████| 1/1 [00:00<00:00, 21.14it/s]\n",
      "Validation: 100%|██████████| 1/1 [00:00<00:00, 29.33it/s]\n"
     ]
    },
    {
     "name": "stdout",
     "output_type": "stream",
     "text": [
      "Epoch: 969, Train Loss: 116.4500, \n",
      "Validation Loss: 71.4080\n"
     ]
    },
    {
     "name": "stderr",
     "output_type": "stream",
     "text": [
      "Epoch 970/1500: 100%|██████████| 1/1 [00:00<00:00, 21.17it/s]\n",
      "Epoch 971/1500: 100%|██████████| 1/1 [00:00<00:00, 23.47it/s]\n",
      "Validation: 100%|██████████| 1/1 [00:00<00:00, 29.49it/s]\n"
     ]
    },
    {
     "name": "stdout",
     "output_type": "stream",
     "text": [
      "Epoch: 971, Train Loss: 149.2722, \n",
      "Validation Loss: 72.6182\n"
     ]
    },
    {
     "name": "stderr",
     "output_type": "stream",
     "text": [
      "Epoch 972/1500: 100%|██████████| 1/1 [00:00<00:00, 23.40it/s]\n",
      "Epoch 973/1500: 100%|██████████| 1/1 [00:00<00:00, 22.70it/s]\n",
      "Validation: 100%|██████████| 1/1 [00:00<00:00, 29.00it/s]\n"
     ]
    },
    {
     "name": "stdout",
     "output_type": "stream",
     "text": [
      "Epoch: 973, Train Loss: 120.4462, \n",
      "Validation Loss: 43.7314\n"
     ]
    },
    {
     "name": "stderr",
     "output_type": "stream",
     "text": [
      "Epoch 974/1500: 100%|██████████| 1/1 [00:00<00:00, 22.99it/s]\n",
      "Epoch 975/1500: 100%|██████████| 1/1 [00:00<00:00, 22.40it/s]\n",
      "Validation: 100%|██████████| 1/1 [00:00<00:00, 28.16it/s]\n"
     ]
    },
    {
     "name": "stdout",
     "output_type": "stream",
     "text": [
      "Epoch: 975, Train Loss: 89.4955, \n",
      "Validation Loss: 94.2642\n"
     ]
    },
    {
     "name": "stderr",
     "output_type": "stream",
     "text": [
      "Epoch 976/1500: 100%|██████████| 1/1 [00:00<00:00, 22.92it/s]\n",
      "Epoch 977/1500: 100%|██████████| 1/1 [00:00<00:00, 23.41it/s]\n",
      "Validation: 100%|██████████| 1/1 [00:00<00:00, 30.08it/s]\n"
     ]
    },
    {
     "name": "stdout",
     "output_type": "stream",
     "text": [
      "Epoch: 977, Train Loss: 152.7748, \n",
      "Validation Loss: 43.0719\n"
     ]
    },
    {
     "name": "stderr",
     "output_type": "stream",
     "text": [
      "Epoch 978/1500: 100%|██████████| 1/1 [00:00<00:00, 23.02it/s]\n",
      "Epoch 979/1500: 100%|██████████| 1/1 [00:00<00:00, 23.43it/s]\n",
      "Validation: 100%|██████████| 1/1 [00:00<00:00, 28.64it/s]\n"
     ]
    },
    {
     "name": "stdout",
     "output_type": "stream",
     "text": [
      "Epoch: 979, Train Loss: 205.1640, \n",
      "Validation Loss: 113.8653\n"
     ]
    },
    {
     "name": "stderr",
     "output_type": "stream",
     "text": [
      "Epoch 980/1500: 100%|██████████| 1/1 [00:00<00:00, 22.11it/s]\n",
      "Epoch 981/1500: 100%|██████████| 1/1 [00:00<00:00, 23.53it/s]\n",
      "Validation: 100%|██████████| 1/1 [00:00<00:00, 29.60it/s]\n"
     ]
    },
    {
     "name": "stdout",
     "output_type": "stream",
     "text": [
      "Epoch: 981, Train Loss: 114.8207, \n",
      "Validation Loss: 85.0533\n"
     ]
    },
    {
     "name": "stderr",
     "output_type": "stream",
     "text": [
      "Epoch 982/1500: 100%|██████████| 1/1 [00:00<00:00, 21.58it/s]\n",
      "Epoch 983/1500: 100%|██████████| 1/1 [00:00<00:00, 23.72it/s]\n",
      "Validation: 100%|██████████| 1/1 [00:00<00:00, 27.29it/s]\n"
     ]
    },
    {
     "name": "stdout",
     "output_type": "stream",
     "text": [
      "Epoch: 983, Train Loss: 179.4377, \n",
      "Validation Loss: 60.6764\n"
     ]
    },
    {
     "name": "stderr",
     "output_type": "stream",
     "text": [
      "Epoch 984/1500: 100%|██████████| 1/1 [00:00<00:00, 23.36it/s]\n",
      "Epoch 985/1500: 100%|██████████| 1/1 [00:00<00:00, 22.95it/s]\n",
      "Validation: 100%|██████████| 1/1 [00:00<00:00, 28.88it/s]\n"
     ]
    },
    {
     "name": "stdout",
     "output_type": "stream",
     "text": [
      "Epoch: 985, Train Loss: 131.3463, \n",
      "Validation Loss: 85.0145\n"
     ]
    },
    {
     "name": "stderr",
     "output_type": "stream",
     "text": [
      "Epoch 986/1500: 100%|██████████| 1/1 [00:00<00:00, 20.99it/s]\n",
      "Epoch 987/1500: 100%|██████████| 1/1 [00:00<00:00, 22.22it/s]\n",
      "Validation: 100%|██████████| 1/1 [00:00<00:00, 26.96it/s]\n"
     ]
    },
    {
     "name": "stdout",
     "output_type": "stream",
     "text": [
      "Epoch: 987, Train Loss: 143.6355, \n",
      "Validation Loss: 104.4948\n"
     ]
    },
    {
     "name": "stderr",
     "output_type": "stream",
     "text": [
      "Epoch 988/1500: 100%|██████████| 1/1 [00:00<00:00, 22.75it/s]\n",
      "Epoch 989/1500: 100%|██████████| 1/1 [00:00<00:00, 22.64it/s]\n",
      "Validation: 100%|██████████| 1/1 [00:00<00:00, 29.39it/s]\n"
     ]
    },
    {
     "name": "stdout",
     "output_type": "stream",
     "text": [
      "Epoch: 989, Train Loss: 120.6362, \n",
      "Validation Loss: 90.7786\n"
     ]
    },
    {
     "name": "stderr",
     "output_type": "stream",
     "text": [
      "Epoch 990/1500: 100%|██████████| 1/1 [00:00<00:00, 23.34it/s]\n",
      "Epoch 991/1500: 100%|██████████| 1/1 [00:00<00:00, 23.43it/s]\n",
      "Validation: 100%|██████████| 1/1 [00:00<00:00, 29.30it/s]\n"
     ]
    },
    {
     "name": "stdout",
     "output_type": "stream",
     "text": [
      "Epoch: 991, Train Loss: 99.8940, \n",
      "Validation Loss: 69.6022\n"
     ]
    },
    {
     "name": "stderr",
     "output_type": "stream",
     "text": [
      "Epoch 992/1500: 100%|██████████| 1/1 [00:00<00:00, 23.04it/s]\n",
      "Epoch 993/1500: 100%|██████████| 1/1 [00:00<00:00, 22.29it/s]\n",
      "Validation: 100%|██████████| 1/1 [00:00<00:00, 28.51it/s]\n"
     ]
    },
    {
     "name": "stdout",
     "output_type": "stream",
     "text": [
      "Epoch: 993, Train Loss: 98.9821, \n",
      "Validation Loss: 80.5760\n"
     ]
    },
    {
     "name": "stderr",
     "output_type": "stream",
     "text": [
      "Epoch 994/1500: 100%|██████████| 1/1 [00:00<00:00, 22.55it/s]\n",
      "Epoch 995/1500: 100%|██████████| 1/1 [00:00<00:00, 19.32it/s]\n",
      "Validation: 100%|██████████| 1/1 [00:00<00:00, 28.63it/s]\n"
     ]
    },
    {
     "name": "stdout",
     "output_type": "stream",
     "text": [
      "Epoch: 995, Train Loss: 182.8664, \n",
      "Validation Loss: 76.7768\n"
     ]
    },
    {
     "name": "stderr",
     "output_type": "stream",
     "text": [
      "Epoch 996/1500: 100%|██████████| 1/1 [00:00<00:00, 23.37it/s]\n",
      "Epoch 997/1500: 100%|██████████| 1/1 [00:00<00:00, 22.90it/s]\n",
      "Validation: 100%|██████████| 1/1 [00:00<00:00, 29.78it/s]\n"
     ]
    },
    {
     "name": "stdout",
     "output_type": "stream",
     "text": [
      "Epoch: 997, Train Loss: 117.2115, \n",
      "Validation Loss: 42.3914\n"
     ]
    },
    {
     "name": "stderr",
     "output_type": "stream",
     "text": [
      "Epoch 998/1500: 100%|██████████| 1/1 [00:00<00:00, 22.39it/s]\n",
      "Epoch 999/1500: 100%|██████████| 1/1 [00:00<00:00, 23.33it/s]\n",
      "Validation: 100%|██████████| 1/1 [00:00<00:00, 29.44it/s]\n"
     ]
    },
    {
     "name": "stdout",
     "output_type": "stream",
     "text": [
      "Epoch: 999, Train Loss: 103.4584, \n",
      "Validation Loss: 51.9056\n"
     ]
    },
    {
     "name": "stderr",
     "output_type": "stream",
     "text": [
      "Epoch 1000/1500: 100%|██████████| 1/1 [00:00<00:00, 22.78it/s]\n",
      "Epoch 1001/1500: 100%|██████████| 1/1 [00:00<00:00, 22.98it/s]\n",
      "Validation: 100%|██████████| 1/1 [00:00<00:00, 29.44it/s]\n"
     ]
    },
    {
     "name": "stdout",
     "output_type": "stream",
     "text": [
      "Epoch: 1001, Train Loss: 101.1928, \n",
      "Validation Loss: 100.1348\n"
     ]
    },
    {
     "name": "stderr",
     "output_type": "stream",
     "text": [
      "Epoch 1002/1500: 100%|██████████| 1/1 [00:00<00:00, 22.72it/s]\n",
      "Epoch 1003/1500: 100%|██████████| 1/1 [00:00<00:00, 23.10it/s]\n",
      "Validation: 100%|██████████| 1/1 [00:00<00:00, 29.29it/s]\n"
     ]
    },
    {
     "name": "stdout",
     "output_type": "stream",
     "text": [
      "Epoch: 1003, Train Loss: 134.6615, \n",
      "Validation Loss: 101.8132\n"
     ]
    },
    {
     "name": "stderr",
     "output_type": "stream",
     "text": [
      "Epoch 1004/1500: 100%|██████████| 1/1 [00:00<00:00, 23.60it/s]\n",
      "Epoch 1005/1500: 100%|██████████| 1/1 [00:00<00:00, 23.05it/s]\n",
      "Validation: 100%|██████████| 1/1 [00:00<00:00, 29.60it/s]\n"
     ]
    },
    {
     "name": "stdout",
     "output_type": "stream",
     "text": [
      "Epoch: 1005, Train Loss: 164.2192, \n",
      "Validation Loss: 74.6137\n"
     ]
    },
    {
     "name": "stderr",
     "output_type": "stream",
     "text": [
      "Epoch 1006/1500: 100%|██████████| 1/1 [00:00<00:00, 22.63it/s]\n",
      "Epoch 1007/1500: 100%|██████████| 1/1 [00:00<00:00, 23.34it/s]\n",
      "Validation: 100%|██████████| 1/1 [00:00<00:00, 29.94it/s]\n"
     ]
    },
    {
     "name": "stdout",
     "output_type": "stream",
     "text": [
      "Epoch: 1007, Train Loss: 38.9758, \n",
      "Validation Loss: 51.6980\n"
     ]
    },
    {
     "name": "stderr",
     "output_type": "stream",
     "text": [
      "Epoch 1008/1500: 100%|██████████| 1/1 [00:00<00:00, 22.86it/s]\n",
      "Epoch 1009/1500: 100%|██████████| 1/1 [00:00<00:00, 22.86it/s]\n",
      "Validation: 100%|██████████| 1/1 [00:00<00:00, 29.35it/s]\n"
     ]
    },
    {
     "name": "stdout",
     "output_type": "stream",
     "text": [
      "Epoch: 1009, Train Loss: 114.2274, \n",
      "Validation Loss: 63.4441\n"
     ]
    },
    {
     "name": "stderr",
     "output_type": "stream",
     "text": [
      "Epoch 1010/1500: 100%|██████████| 1/1 [00:00<00:00, 22.99it/s]\n",
      "Epoch 1011/1500: 100%|██████████| 1/1 [00:00<00:00, 23.20it/s]\n",
      "Validation: 100%|██████████| 1/1 [00:00<00:00, 28.50it/s]\n"
     ]
    },
    {
     "name": "stdout",
     "output_type": "stream",
     "text": [
      "Epoch: 1011, Train Loss: 116.5186, \n",
      "Validation Loss: 92.8618\n"
     ]
    },
    {
     "name": "stderr",
     "output_type": "stream",
     "text": [
      "Epoch 1012/1500: 100%|██████████| 1/1 [00:00<00:00, 22.70it/s]\n",
      "Epoch 1013/1500: 100%|██████████| 1/1 [00:00<00:00, 23.38it/s]\n",
      "Validation: 100%|██████████| 1/1 [00:00<00:00, 28.65it/s]\n"
     ]
    },
    {
     "name": "stdout",
     "output_type": "stream",
     "text": [
      "Epoch: 1013, Train Loss: 183.2501, \n",
      "Validation Loss: 72.8978\n"
     ]
    },
    {
     "name": "stderr",
     "output_type": "stream",
     "text": [
      "Epoch 1014/1500: 100%|██████████| 1/1 [00:00<00:00, 22.37it/s]\n",
      "Epoch 1015/1500: 100%|██████████| 1/1 [00:00<00:00, 22.56it/s]\n",
      "Validation: 100%|██████████| 1/1 [00:00<00:00, 27.20it/s]\n"
     ]
    },
    {
     "name": "stdout",
     "output_type": "stream",
     "text": [
      "Epoch: 1015, Train Loss: 132.9614, \n",
      "Validation Loss: 69.4060\n"
     ]
    },
    {
     "name": "stderr",
     "output_type": "stream",
     "text": [
      "Epoch 1016/1500: 100%|██████████| 1/1 [00:00<00:00, 22.48it/s]\n",
      "Epoch 1017/1500: 100%|██████████| 1/1 [00:00<00:00, 22.80it/s]\n",
      "Validation: 100%|██████████| 1/1 [00:00<00:00, 28.59it/s]\n"
     ]
    },
    {
     "name": "stdout",
     "output_type": "stream",
     "text": [
      "Epoch: 1017, Train Loss: 130.9225, \n",
      "Validation Loss: 109.3036\n"
     ]
    },
    {
     "name": "stderr",
     "output_type": "stream",
     "text": [
      "Epoch 1018/1500: 100%|██████████| 1/1 [00:00<00:00, 22.02it/s]\n",
      "Epoch 1019/1500: 100%|██████████| 1/1 [00:00<00:00, 21.32it/s]\n",
      "Validation: 100%|██████████| 1/1 [00:00<00:00, 28.31it/s]\n"
     ]
    },
    {
     "name": "stdout",
     "output_type": "stream",
     "text": [
      "Epoch: 1019, Train Loss: 86.5898, \n",
      "Validation Loss: 69.4877\n"
     ]
    },
    {
     "name": "stderr",
     "output_type": "stream",
     "text": [
      "Epoch 1020/1500: 100%|██████████| 1/1 [00:00<00:00, 22.86it/s]\n",
      "Epoch 1021/1500: 100%|██████████| 1/1 [00:00<00:00, 22.49it/s]\n",
      "Validation: 100%|██████████| 1/1 [00:00<00:00, 28.93it/s]\n"
     ]
    },
    {
     "name": "stdout",
     "output_type": "stream",
     "text": [
      "Epoch: 1021, Train Loss: 114.4397, \n",
      "Validation Loss: 43.1928\n"
     ]
    },
    {
     "name": "stderr",
     "output_type": "stream",
     "text": [
      "Epoch 1022/1500: 100%|██████████| 1/1 [00:00<00:00, 20.47it/s]\n",
      "Epoch 1023/1500: 100%|██████████| 1/1 [00:00<00:00, 22.40it/s]\n",
      "Validation: 100%|██████████| 1/1 [00:00<00:00, 29.39it/s]\n"
     ]
    },
    {
     "name": "stdout",
     "output_type": "stream",
     "text": [
      "Epoch: 1023, Train Loss: 111.6485, \n",
      "Validation Loss: 82.9378\n"
     ]
    },
    {
     "name": "stderr",
     "output_type": "stream",
     "text": [
      "Epoch 1024/1500: 100%|██████████| 1/1 [00:00<00:00, 23.09it/s]\n",
      "Epoch 1025/1500: 100%|██████████| 1/1 [00:00<00:00, 23.17it/s]\n",
      "Validation: 100%|██████████| 1/1 [00:00<00:00, 29.59it/s]\n"
     ]
    },
    {
     "name": "stdout",
     "output_type": "stream",
     "text": [
      "Epoch: 1025, Train Loss: 104.5291, \n",
      "Validation Loss: 38.1767\n"
     ]
    },
    {
     "name": "stderr",
     "output_type": "stream",
     "text": [
      "Epoch 1026/1500: 100%|██████████| 1/1 [00:00<00:00, 22.86it/s]\n",
      "Epoch 1027/1500: 100%|██████████| 1/1 [00:00<00:00, 23.35it/s]\n",
      "Validation: 100%|██████████| 1/1 [00:00<00:00, 28.92it/s]\n"
     ]
    },
    {
     "name": "stdout",
     "output_type": "stream",
     "text": [
      "Epoch: 1027, Train Loss: 69.3616, \n",
      "Validation Loss: 50.0915\n"
     ]
    },
    {
     "name": "stderr",
     "output_type": "stream",
     "text": [
      "Epoch 1028/1500: 100%|██████████| 1/1 [00:00<00:00, 22.68it/s]\n",
      "Epoch 1029/1500: 100%|██████████| 1/1 [00:00<00:00, 22.86it/s]\n",
      "Validation: 100%|██████████| 1/1 [00:00<00:00, 29.73it/s]\n"
     ]
    },
    {
     "name": "stdout",
     "output_type": "stream",
     "text": [
      "Epoch: 1029, Train Loss: 143.3077, \n",
      "Validation Loss: 40.9170\n"
     ]
    },
    {
     "name": "stderr",
     "output_type": "stream",
     "text": [
      "Epoch 1030/1500: 100%|██████████| 1/1 [00:00<00:00, 23.25it/s]\n",
      "Epoch 1031/1500: 100%|██████████| 1/1 [00:00<00:00, 23.11it/s]\n",
      "Validation: 100%|██████████| 1/1 [00:00<00:00, 28.60it/s]\n"
     ]
    },
    {
     "name": "stdout",
     "output_type": "stream",
     "text": [
      "Epoch: 1031, Train Loss: 88.1338, \n",
      "Validation Loss: 53.4672\n"
     ]
    },
    {
     "name": "stderr",
     "output_type": "stream",
     "text": [
      "Epoch 1032/1500: 100%|██████████| 1/1 [00:00<00:00, 21.88it/s]\n",
      "Epoch 1033/1500: 100%|██████████| 1/1 [00:00<00:00, 22.33it/s]\n",
      "Validation: 100%|██████████| 1/1 [00:00<00:00, 27.57it/s]\n"
     ]
    },
    {
     "name": "stdout",
     "output_type": "stream",
     "text": [
      "Epoch: 1033, Train Loss: 126.8429, \n",
      "Validation Loss: 42.5093\n"
     ]
    },
    {
     "name": "stderr",
     "output_type": "stream",
     "text": [
      "Epoch 1034/1500: 100%|██████████| 1/1 [00:00<00:00, 20.87it/s]\n",
      "Epoch 1035/1500: 100%|██████████| 1/1 [00:00<00:00, 21.81it/s]\n",
      "Validation: 100%|██████████| 1/1 [00:00<00:00, 27.26it/s]\n"
     ]
    },
    {
     "name": "stdout",
     "output_type": "stream",
     "text": [
      "Epoch: 1035, Train Loss: 79.7769, \n",
      "Validation Loss: 49.0226\n"
     ]
    },
    {
     "name": "stderr",
     "output_type": "stream",
     "text": [
      "Epoch 1036/1500: 100%|██████████| 1/1 [00:00<00:00, 23.18it/s]\n",
      "Epoch 1037/1500: 100%|██████████| 1/1 [00:00<00:00, 23.56it/s]\n",
      "Validation: 100%|██████████| 1/1 [00:00<00:00, 29.34it/s]\n"
     ]
    },
    {
     "name": "stdout",
     "output_type": "stream",
     "text": [
      "Epoch: 1037, Train Loss: 93.3705, \n",
      "Validation Loss: 37.7148\n"
     ]
    },
    {
     "name": "stderr",
     "output_type": "stream",
     "text": [
      "Epoch 1038/1500: 100%|██████████| 1/1 [00:00<00:00, 21.16it/s]\n",
      "Epoch 1039/1500: 100%|██████████| 1/1 [00:00<00:00, 23.47it/s]\n",
      "Validation: 100%|██████████| 1/1 [00:00<00:00, 29.79it/s]\n"
     ]
    },
    {
     "name": "stdout",
     "output_type": "stream",
     "text": [
      "Epoch: 1039, Train Loss: 98.6556, \n",
      "Validation Loss: 39.3450\n"
     ]
    },
    {
     "name": "stderr",
     "output_type": "stream",
     "text": [
      "Epoch 1040/1500: 100%|██████████| 1/1 [00:00<00:00, 23.36it/s]\n",
      "Epoch 1041/1500: 100%|██████████| 1/1 [00:00<00:00, 23.29it/s]\n",
      "Validation: 100%|██████████| 1/1 [00:00<00:00, 29.57it/s]\n"
     ]
    },
    {
     "name": "stdout",
     "output_type": "stream",
     "text": [
      "Epoch: 1041, Train Loss: 100.9354, \n",
      "Validation Loss: 53.7791\n"
     ]
    },
    {
     "name": "stderr",
     "output_type": "stream",
     "text": [
      "Epoch 1042/1500: 100%|██████████| 1/1 [00:00<00:00, 22.37it/s]\n",
      "Epoch 1043/1500: 100%|██████████| 1/1 [00:00<00:00, 23.00it/s]\n",
      "Validation: 100%|██████████| 1/1 [00:00<00:00, 28.84it/s]\n"
     ]
    },
    {
     "name": "stdout",
     "output_type": "stream",
     "text": [
      "Epoch: 1043, Train Loss: 130.1143, \n",
      "Validation Loss: 54.6965\n"
     ]
    },
    {
     "name": "stderr",
     "output_type": "stream",
     "text": [
      "Epoch 1044/1500: 100%|██████████| 1/1 [00:00<00:00, 22.90it/s]\n",
      "Epoch 1045/1500: 100%|██████████| 1/1 [00:00<00:00, 23.27it/s]\n",
      "Validation: 100%|██████████| 1/1 [00:00<00:00, 28.86it/s]\n"
     ]
    },
    {
     "name": "stdout",
     "output_type": "stream",
     "text": [
      "Epoch: 1045, Train Loss: 64.6056, \n",
      "Validation Loss: 70.7176\n"
     ]
    },
    {
     "name": "stderr",
     "output_type": "stream",
     "text": [
      "Epoch 1046/1500: 100%|██████████| 1/1 [00:00<00:00, 22.28it/s]\n",
      "Epoch 1047/1500: 100%|██████████| 1/1 [00:00<00:00, 22.60it/s]\n",
      "Validation: 100%|██████████| 1/1 [00:00<00:00, 28.39it/s]\n"
     ]
    },
    {
     "name": "stdout",
     "output_type": "stream",
     "text": [
      "Epoch: 1047, Train Loss: 89.1054, \n",
      "Validation Loss: 57.8741\n"
     ]
    },
    {
     "name": "stderr",
     "output_type": "stream",
     "text": [
      "Epoch 1048/1500: 100%|██████████| 1/1 [00:00<00:00, 21.67it/s]\n",
      "Epoch 1049/1500: 100%|██████████| 1/1 [00:00<00:00, 23.50it/s]\n",
      "Validation: 100%|██████████| 1/1 [00:00<00:00, 29.64it/s]\n"
     ]
    },
    {
     "name": "stdout",
     "output_type": "stream",
     "text": [
      "Epoch: 1049, Train Loss: 185.3002, \n",
      "Validation Loss: 42.0207\n"
     ]
    },
    {
     "name": "stderr",
     "output_type": "stream",
     "text": [
      "Epoch 1050/1500: 100%|██████████| 1/1 [00:00<00:00, 22.85it/s]\n",
      "Epoch 1051/1500: 100%|██████████| 1/1 [00:00<00:00, 23.48it/s]\n",
      "Validation: 100%|██████████| 1/1 [00:00<00:00, 29.14it/s]\n"
     ]
    },
    {
     "name": "stdout",
     "output_type": "stream",
     "text": [
      "Epoch: 1051, Train Loss: 78.1185, \n",
      "Validation Loss: 91.2208\n"
     ]
    },
    {
     "name": "stderr",
     "output_type": "stream",
     "text": [
      "Epoch 1052/1500: 100%|██████████| 1/1 [00:00<00:00, 22.42it/s]\n",
      "Epoch 1053/1500: 100%|██████████| 1/1 [00:00<00:00, 22.61it/s]\n",
      "Validation: 100%|██████████| 1/1 [00:00<00:00, 29.45it/s]\n"
     ]
    },
    {
     "name": "stdout",
     "output_type": "stream",
     "text": [
      "Epoch: 1053, Train Loss: 140.0450, \n",
      "Validation Loss: 69.0026\n"
     ]
    },
    {
     "name": "stderr",
     "output_type": "stream",
     "text": [
      "Epoch 1054/1500: 100%|██████████| 1/1 [00:00<00:00, 23.08it/s]\n",
      "Epoch 1055/1500: 100%|██████████| 1/1 [00:00<00:00, 22.92it/s]\n",
      "Validation: 100%|██████████| 1/1 [00:00<00:00, 29.07it/s]\n"
     ]
    },
    {
     "name": "stdout",
     "output_type": "stream",
     "text": [
      "Epoch: 1055, Train Loss: 115.4657, \n",
      "Validation Loss: 79.1586\n"
     ]
    },
    {
     "name": "stderr",
     "output_type": "stream",
     "text": [
      "Epoch 1056/1500: 100%|██████████| 1/1 [00:00<00:00, 20.35it/s]\n",
      "Epoch 1057/1500: 100%|██████████| 1/1 [00:00<00:00, 23.39it/s]\n",
      "Validation: 100%|██████████| 1/1 [00:00<00:00, 29.70it/s]\n"
     ]
    },
    {
     "name": "stdout",
     "output_type": "stream",
     "text": [
      "Epoch: 1057, Train Loss: 119.2402, \n",
      "Validation Loss: 59.2711\n"
     ]
    },
    {
     "name": "stderr",
     "output_type": "stream",
     "text": [
      "Epoch 1058/1500: 100%|██████████| 1/1 [00:00<00:00, 21.69it/s]\n",
      "Epoch 1059/1500: 100%|██████████| 1/1 [00:00<00:00, 23.29it/s]\n",
      "Validation: 100%|██████████| 1/1 [00:00<00:00, 29.56it/s]\n"
     ]
    },
    {
     "name": "stdout",
     "output_type": "stream",
     "text": [
      "Epoch: 1059, Train Loss: 87.2647, \n",
      "Validation Loss: 30.7938\n"
     ]
    },
    {
     "name": "stderr",
     "output_type": "stream",
     "text": [
      "Epoch 1060/1500: 100%|██████████| 1/1 [00:00<00:00, 23.17it/s]\n",
      "Epoch 1061/1500: 100%|██████████| 1/1 [00:00<00:00, 23.03it/s]\n",
      "Validation: 100%|██████████| 1/1 [00:00<00:00, 29.66it/s]\n"
     ]
    },
    {
     "name": "stdout",
     "output_type": "stream",
     "text": [
      "Epoch: 1061, Train Loss: 98.3762, \n",
      "Validation Loss: 48.9620\n"
     ]
    },
    {
     "name": "stderr",
     "output_type": "stream",
     "text": [
      "Epoch 1062/1500: 100%|██████████| 1/1 [00:00<00:00, 22.08it/s]\n",
      "Epoch 1063/1500: 100%|██████████| 1/1 [00:00<00:00, 22.35it/s]\n",
      "Validation: 100%|██████████| 1/1 [00:00<00:00, 28.53it/s]\n"
     ]
    },
    {
     "name": "stdout",
     "output_type": "stream",
     "text": [
      "Epoch: 1063, Train Loss: 87.3526, \n",
      "Validation Loss: 34.8835\n"
     ]
    },
    {
     "name": "stderr",
     "output_type": "stream",
     "text": [
      "Epoch 1064/1500: 100%|██████████| 1/1 [00:00<00:00, 21.14it/s]\n",
      "Epoch 1065/1500: 100%|██████████| 1/1 [00:00<00:00, 22.18it/s]\n",
      "Validation: 100%|██████████| 1/1 [00:00<00:00, 28.86it/s]\n"
     ]
    },
    {
     "name": "stdout",
     "output_type": "stream",
     "text": [
      "Epoch: 1065, Train Loss: 110.9043, \n",
      "Validation Loss: 37.5597\n"
     ]
    },
    {
     "name": "stderr",
     "output_type": "stream",
     "text": [
      "Epoch 1066/1500: 100%|██████████| 1/1 [00:00<00:00, 21.47it/s]\n",
      "Epoch 1067/1500: 100%|██████████| 1/1 [00:00<00:00, 23.04it/s]\n",
      "Validation: 100%|██████████| 1/1 [00:00<00:00, 28.72it/s]\n"
     ]
    },
    {
     "name": "stdout",
     "output_type": "stream",
     "text": [
      "Epoch: 1067, Train Loss: 60.8114, \n",
      "Validation Loss: 57.2906\n"
     ]
    },
    {
     "name": "stderr",
     "output_type": "stream",
     "text": [
      "Epoch 1068/1500: 100%|██████████| 1/1 [00:00<00:00, 20.87it/s]\n",
      "Epoch 1069/1500: 100%|██████████| 1/1 [00:00<00:00, 22.42it/s]\n",
      "Validation: 100%|██████████| 1/1 [00:00<00:00, 29.37it/s]\n"
     ]
    },
    {
     "name": "stdout",
     "output_type": "stream",
     "text": [
      "Epoch: 1069, Train Loss: 70.0663, \n",
      "Validation Loss: 45.8761\n"
     ]
    },
    {
     "name": "stderr",
     "output_type": "stream",
     "text": [
      "Epoch 1070/1500: 100%|██████████| 1/1 [00:00<00:00, 20.45it/s]\n",
      "Epoch 1071/1500: 100%|██████████| 1/1 [00:00<00:00, 21.12it/s]\n",
      "Validation: 100%|██████████| 1/1 [00:00<00:00, 29.50it/s]\n"
     ]
    },
    {
     "name": "stdout",
     "output_type": "stream",
     "text": [
      "Epoch: 1071, Train Loss: 107.8603, \n",
      "Validation Loss: 40.9748\n"
     ]
    },
    {
     "name": "stderr",
     "output_type": "stream",
     "text": [
      "Epoch 1072/1500: 100%|██████████| 1/1 [00:00<00:00, 23.44it/s]\n",
      "Epoch 1073/1500: 100%|██████████| 1/1 [00:00<00:00, 22.16it/s]\n",
      "Validation: 100%|██████████| 1/1 [00:00<00:00, 29.38it/s]\n"
     ]
    },
    {
     "name": "stdout",
     "output_type": "stream",
     "text": [
      "Epoch: 1073, Train Loss: 90.1758, \n",
      "Validation Loss: 48.1119\n"
     ]
    },
    {
     "name": "stderr",
     "output_type": "stream",
     "text": [
      "Epoch 1074/1500: 100%|██████████| 1/1 [00:00<00:00, 21.49it/s]\n",
      "Epoch 1075/1500: 100%|██████████| 1/1 [00:00<00:00, 22.76it/s]\n",
      "Validation: 100%|██████████| 1/1 [00:00<00:00, 28.05it/s]\n"
     ]
    },
    {
     "name": "stdout",
     "output_type": "stream",
     "text": [
      "Epoch: 1075, Train Loss: 135.9568, \n",
      "Validation Loss: 38.9412\n"
     ]
    },
    {
     "name": "stderr",
     "output_type": "stream",
     "text": [
      "Epoch 1076/1500: 100%|██████████| 1/1 [00:00<00:00, 22.89it/s]\n",
      "Epoch 1077/1500: 100%|██████████| 1/1 [00:00<00:00, 22.89it/s]\n",
      "Validation: 100%|██████████| 1/1 [00:00<00:00, 24.78it/s]\n"
     ]
    },
    {
     "name": "stdout",
     "output_type": "stream",
     "text": [
      "Epoch: 1077, Train Loss: 102.3771, \n",
      "Validation Loss: 47.7532\n"
     ]
    },
    {
     "name": "stderr",
     "output_type": "stream",
     "text": [
      "Epoch 1078/1500: 100%|██████████| 1/1 [00:00<00:00, 22.99it/s]\n",
      "Epoch 1079/1500: 100%|██████████| 1/1 [00:00<00:00, 23.55it/s]\n",
      "Validation: 100%|██████████| 1/1 [00:00<00:00, 29.61it/s]\n"
     ]
    },
    {
     "name": "stdout",
     "output_type": "stream",
     "text": [
      "Epoch: 1079, Train Loss: 100.2719, \n",
      "Validation Loss: 60.0070\n"
     ]
    },
    {
     "name": "stderr",
     "output_type": "stream",
     "text": [
      "Epoch 1080/1500: 100%|██████████| 1/1 [00:00<00:00, 20.00it/s]\n",
      "Epoch 1081/1500: 100%|██████████| 1/1 [00:00<00:00, 20.55it/s]\n",
      "Validation: 100%|██████████| 1/1 [00:00<00:00, 29.08it/s]\n"
     ]
    },
    {
     "name": "stdout",
     "output_type": "stream",
     "text": [
      "Epoch: 1081, Train Loss: 84.2915, \n",
      "Validation Loss: 73.7960\n"
     ]
    },
    {
     "name": "stderr",
     "output_type": "stream",
     "text": [
      "Epoch 1082/1500: 100%|██████████| 1/1 [00:00<00:00, 21.64it/s]\n",
      "Epoch 1083/1500: 100%|██████████| 1/1 [00:00<00:00, 23.27it/s]\n",
      "Validation: 100%|██████████| 1/1 [00:00<00:00, 28.79it/s]\n"
     ]
    },
    {
     "name": "stdout",
     "output_type": "stream",
     "text": [
      "Epoch: 1083, Train Loss: 141.1357, \n",
      "Validation Loss: 58.6382\n"
     ]
    },
    {
     "name": "stderr",
     "output_type": "stream",
     "text": [
      "Epoch 1084/1500: 100%|██████████| 1/1 [00:00<00:00, 21.36it/s]\n",
      "Epoch 1085/1500: 100%|██████████| 1/1 [00:00<00:00, 22.93it/s]\n",
      "Validation: 100%|██████████| 1/1 [00:00<00:00, 29.71it/s]\n"
     ]
    },
    {
     "name": "stdout",
     "output_type": "stream",
     "text": [
      "Epoch: 1085, Train Loss: 80.4109, \n",
      "Validation Loss: 49.3856\n"
     ]
    },
    {
     "name": "stderr",
     "output_type": "stream",
     "text": [
      "Epoch 1086/1500: 100%|██████████| 1/1 [00:00<00:00, 23.53it/s]\n",
      "Epoch 1087/1500: 100%|██████████| 1/1 [00:00<00:00, 23.77it/s]\n",
      "Validation: 100%|██████████| 1/1 [00:00<00:00, 29.29it/s]\n"
     ]
    },
    {
     "name": "stdout",
     "output_type": "stream",
     "text": [
      "Epoch: 1087, Train Loss: 92.5597, \n",
      "Validation Loss: 72.1623\n"
     ]
    },
    {
     "name": "stderr",
     "output_type": "stream",
     "text": [
      "Epoch 1088/1500: 100%|██████████| 1/1 [00:00<00:00, 21.94it/s]\n",
      "Epoch 1089/1500: 100%|██████████| 1/1 [00:00<00:00, 23.07it/s]\n",
      "Validation: 100%|██████████| 1/1 [00:00<00:00, 28.77it/s]\n"
     ]
    },
    {
     "name": "stdout",
     "output_type": "stream",
     "text": [
      "Epoch: 1089, Train Loss: 142.9919, \n",
      "Validation Loss: 98.0657\n"
     ]
    },
    {
     "name": "stderr",
     "output_type": "stream",
     "text": [
      "Epoch 1090/1500: 100%|██████████| 1/1 [00:00<00:00, 21.84it/s]\n",
      "Epoch 1091/1500: 100%|██████████| 1/1 [00:00<00:00, 22.78it/s]\n",
      "Validation: 100%|██████████| 1/1 [00:00<00:00, 29.16it/s]\n"
     ]
    },
    {
     "name": "stdout",
     "output_type": "stream",
     "text": [
      "Epoch: 1091, Train Loss: 134.9173, \n",
      "Validation Loss: 58.9308\n"
     ]
    },
    {
     "name": "stderr",
     "output_type": "stream",
     "text": [
      "Epoch 1092/1500: 100%|██████████| 1/1 [00:00<00:00, 22.58it/s]\n",
      "Epoch 1093/1500: 100%|██████████| 1/1 [00:00<00:00, 22.99it/s]\n",
      "Validation: 100%|██████████| 1/1 [00:00<00:00, 28.62it/s]\n"
     ]
    },
    {
     "name": "stdout",
     "output_type": "stream",
     "text": [
      "Epoch: 1093, Train Loss: 114.1271, \n",
      "Validation Loss: 54.3641\n"
     ]
    },
    {
     "name": "stderr",
     "output_type": "stream",
     "text": [
      "Epoch 1094/1500: 100%|██████████| 1/1 [00:00<00:00, 22.47it/s]\n",
      "Epoch 1095/1500: 100%|██████████| 1/1 [00:00<00:00, 23.14it/s]\n",
      "Validation: 100%|██████████| 1/1 [00:00<00:00, 28.68it/s]\n"
     ]
    },
    {
     "name": "stdout",
     "output_type": "stream",
     "text": [
      "Epoch: 1095, Train Loss: 108.3517, \n",
      "Validation Loss: 72.2111\n"
     ]
    },
    {
     "name": "stderr",
     "output_type": "stream",
     "text": [
      "Epoch 1096/1500: 100%|██████████| 1/1 [00:00<00:00, 23.17it/s]\n",
      "Epoch 1097/1500: 100%|██████████| 1/1 [00:00<00:00, 23.39it/s]\n",
      "Validation: 100%|██████████| 1/1 [00:00<00:00, 28.95it/s]\n"
     ]
    },
    {
     "name": "stdout",
     "output_type": "stream",
     "text": [
      "Epoch: 1097, Train Loss: 114.4798, \n",
      "Validation Loss: 76.8600\n"
     ]
    },
    {
     "name": "stderr",
     "output_type": "stream",
     "text": [
      "Epoch 1098/1500: 100%|██████████| 1/1 [00:00<00:00, 22.73it/s]\n",
      "Epoch 1099/1500: 100%|██████████| 1/1 [00:00<00:00, 22.46it/s]\n",
      "Validation: 100%|██████████| 1/1 [00:00<00:00, 28.22it/s]\n"
     ]
    },
    {
     "name": "stdout",
     "output_type": "stream",
     "text": [
      "Epoch: 1099, Train Loss: 66.8490, \n",
      "Validation Loss: 35.3623\n"
     ]
    },
    {
     "name": "stderr",
     "output_type": "stream",
     "text": [
      "Epoch 1100/1500: 100%|██████████| 1/1 [00:00<00:00, 20.35it/s]\n",
      "Epoch 1101/1500: 100%|██████████| 1/1 [00:00<00:00, 23.29it/s]\n",
      "Validation: 100%|██████████| 1/1 [00:00<00:00, 29.28it/s]\n"
     ]
    },
    {
     "name": "stdout",
     "output_type": "stream",
     "text": [
      "Epoch: 1101, Train Loss: 51.9445, \n",
      "Validation Loss: 80.3777\n"
     ]
    },
    {
     "name": "stderr",
     "output_type": "stream",
     "text": [
      "Epoch 1102/1500: 100%|██████████| 1/1 [00:00<00:00, 23.43it/s]\n",
      "Epoch 1103/1500: 100%|██████████| 1/1 [00:00<00:00, 22.83it/s]\n",
      "Validation: 100%|██████████| 1/1 [00:00<00:00, 29.58it/s]\n"
     ]
    },
    {
     "name": "stdout",
     "output_type": "stream",
     "text": [
      "Epoch: 1103, Train Loss: 105.5624, \n",
      "Validation Loss: 37.1844\n"
     ]
    },
    {
     "name": "stderr",
     "output_type": "stream",
     "text": [
      "Epoch 1104/1500: 100%|██████████| 1/1 [00:00<00:00, 23.32it/s]\n",
      "Epoch 1105/1500: 100%|██████████| 1/1 [00:00<00:00, 22.26it/s]\n",
      "Validation: 100%|██████████| 1/1 [00:00<00:00, 29.58it/s]\n"
     ]
    },
    {
     "name": "stdout",
     "output_type": "stream",
     "text": [
      "Epoch: 1105, Train Loss: 134.4658, \n",
      "Validation Loss: 70.6228\n"
     ]
    },
    {
     "name": "stderr",
     "output_type": "stream",
     "text": [
      "Epoch 1106/1500: 100%|██████████| 1/1 [00:00<00:00, 22.69it/s]\n",
      "Epoch 1107/1500: 100%|██████████| 1/1 [00:00<00:00, 23.38it/s]\n",
      "Validation: 100%|██████████| 1/1 [00:00<00:00, 29.63it/s]\n"
     ]
    },
    {
     "name": "stdout",
     "output_type": "stream",
     "text": [
      "Epoch: 1107, Train Loss: 101.1072, \n",
      "Validation Loss: 51.7004\n"
     ]
    },
    {
     "name": "stderr",
     "output_type": "stream",
     "text": [
      "Epoch 1108/1500: 100%|██████████| 1/1 [00:00<00:00, 22.22it/s]\n",
      "Epoch 1109/1500: 100%|██████████| 1/1 [00:00<00:00, 22.15it/s]\n",
      "Validation: 100%|██████████| 1/1 [00:00<00:00, 29.06it/s]\n"
     ]
    },
    {
     "name": "stdout",
     "output_type": "stream",
     "text": [
      "Epoch: 1109, Train Loss: 133.8102, \n",
      "Validation Loss: 54.4293\n"
     ]
    },
    {
     "name": "stderr",
     "output_type": "stream",
     "text": [
      "Epoch 1110/1500: 100%|██████████| 1/1 [00:00<00:00, 21.70it/s]\n",
      "Epoch 1111/1500: 100%|██████████| 1/1 [00:00<00:00, 21.86it/s]\n",
      "Validation: 100%|██████████| 1/1 [00:00<00:00, 28.30it/s]\n"
     ]
    },
    {
     "name": "stdout",
     "output_type": "stream",
     "text": [
      "Epoch: 1111, Train Loss: 140.6548, \n",
      "Validation Loss: 54.5159\n"
     ]
    },
    {
     "name": "stderr",
     "output_type": "stream",
     "text": [
      "Epoch 1112/1500: 100%|██████████| 1/1 [00:00<00:00, 21.84it/s]\n",
      "Epoch 1113/1500: 100%|██████████| 1/1 [00:00<00:00, 22.66it/s]\n",
      "Validation: 100%|██████████| 1/1 [00:00<00:00, 28.42it/s]\n"
     ]
    },
    {
     "name": "stdout",
     "output_type": "stream",
     "text": [
      "Epoch: 1113, Train Loss: 83.6713, \n",
      "Validation Loss: 62.9712\n"
     ]
    },
    {
     "name": "stderr",
     "output_type": "stream",
     "text": [
      "Epoch 1114/1500: 100%|██████████| 1/1 [00:00<00:00, 20.84it/s]\n",
      "Epoch 1115/1500: 100%|██████████| 1/1 [00:00<00:00, 22.50it/s]\n",
      "Validation: 100%|██████████| 1/1 [00:00<00:00, 28.81it/s]\n"
     ]
    },
    {
     "name": "stdout",
     "output_type": "stream",
     "text": [
      "Epoch: 1115, Train Loss: 152.0307, \n",
      "Validation Loss: 47.2611\n"
     ]
    },
    {
     "name": "stderr",
     "output_type": "stream",
     "text": [
      "Epoch 1116/1500: 100%|██████████| 1/1 [00:00<00:00, 21.95it/s]\n",
      "Epoch 1117/1500: 100%|██████████| 1/1 [00:00<00:00, 22.66it/s]\n",
      "Validation: 100%|██████████| 1/1 [00:00<00:00, 28.33it/s]\n"
     ]
    },
    {
     "name": "stdout",
     "output_type": "stream",
     "text": [
      "Epoch: 1117, Train Loss: 108.4777, \n",
      "Validation Loss: 107.6731\n"
     ]
    },
    {
     "name": "stderr",
     "output_type": "stream",
     "text": [
      "Epoch 1118/1500: 100%|██████████| 1/1 [00:00<00:00, 21.06it/s]\n",
      "Epoch 1119/1500: 100%|██████████| 1/1 [00:00<00:00, 23.26it/s]\n",
      "Validation: 100%|██████████| 1/1 [00:00<00:00, 29.39it/s]\n"
     ]
    },
    {
     "name": "stdout",
     "output_type": "stream",
     "text": [
      "Epoch: 1119, Train Loss: 138.2462, \n",
      "Validation Loss: 89.3691\n"
     ]
    },
    {
     "name": "stderr",
     "output_type": "stream",
     "text": [
      "Epoch 1120/1500: 100%|██████████| 1/1 [00:00<00:00, 22.93it/s]\n",
      "Epoch 1121/1500: 100%|██████████| 1/1 [00:00<00:00, 23.04it/s]\n",
      "Validation: 100%|██████████| 1/1 [00:00<00:00, 28.74it/s]\n"
     ]
    },
    {
     "name": "stdout",
     "output_type": "stream",
     "text": [
      "Epoch: 1121, Train Loss: 110.4231, \n",
      "Validation Loss: 78.2041\n"
     ]
    },
    {
     "name": "stderr",
     "output_type": "stream",
     "text": [
      "Epoch 1122/1500: 100%|██████████| 1/1 [00:00<00:00, 22.92it/s]\n",
      "Epoch 1123/1500: 100%|██████████| 1/1 [00:00<00:00, 23.66it/s]\n",
      "Validation: 100%|██████████| 1/1 [00:00<00:00, 29.97it/s]\n"
     ]
    },
    {
     "name": "stdout",
     "output_type": "stream",
     "text": [
      "Epoch: 1123, Train Loss: 146.4438, \n",
      "Validation Loss: 94.4437\n"
     ]
    },
    {
     "name": "stderr",
     "output_type": "stream",
     "text": [
      "Epoch 1124/1500: 100%|██████████| 1/1 [00:00<00:00, 22.66it/s]\n",
      "Epoch 1125/1500: 100%|██████████| 1/1 [00:00<00:00, 23.28it/s]\n",
      "Validation: 100%|██████████| 1/1 [00:00<00:00, 29.44it/s]\n"
     ]
    },
    {
     "name": "stdout",
     "output_type": "stream",
     "text": [
      "Epoch: 1125, Train Loss: 112.2938, \n",
      "Validation Loss: 66.7156\n"
     ]
    },
    {
     "name": "stderr",
     "output_type": "stream",
     "text": [
      "Epoch 1126/1500: 100%|██████████| 1/1 [00:00<00:00, 23.09it/s]\n",
      "Epoch 1127/1500: 100%|██████████| 1/1 [00:00<00:00, 22.44it/s]\n",
      "Validation: 100%|██████████| 1/1 [00:00<00:00, 29.54it/s]\n"
     ]
    },
    {
     "name": "stdout",
     "output_type": "stream",
     "text": [
      "Epoch: 1127, Train Loss: 91.4380, \n",
      "Validation Loss: 72.1725\n"
     ]
    },
    {
     "name": "stderr",
     "output_type": "stream",
     "text": [
      "Epoch 1128/1500: 100%|██████████| 1/1 [00:00<00:00, 23.59it/s]\n",
      "Epoch 1129/1500: 100%|██████████| 1/1 [00:00<00:00, 22.80it/s]\n",
      "Validation: 100%|██████████| 1/1 [00:00<00:00, 29.45it/s]\n"
     ]
    },
    {
     "name": "stdout",
     "output_type": "stream",
     "text": [
      "Epoch: 1129, Train Loss: 57.4679, \n",
      "Validation Loss: 39.8084\n"
     ]
    },
    {
     "name": "stderr",
     "output_type": "stream",
     "text": [
      "Epoch 1130/1500: 100%|██████████| 1/1 [00:00<00:00, 23.15it/s]\n",
      "Epoch 1131/1500: 100%|██████████| 1/1 [00:00<00:00, 23.14it/s]\n",
      "Validation: 100%|██████████| 1/1 [00:00<00:00, 27.40it/s]\n"
     ]
    },
    {
     "name": "stdout",
     "output_type": "stream",
     "text": [
      "Epoch: 1131, Train Loss: 112.5538, \n",
      "Validation Loss: 55.2055\n"
     ]
    },
    {
     "name": "stderr",
     "output_type": "stream",
     "text": [
      "Epoch 1132/1500: 100%|██████████| 1/1 [00:00<00:00, 23.26it/s]\n",
      "Epoch 1133/1500: 100%|██████████| 1/1 [00:00<00:00, 21.86it/s]\n",
      "Validation: 100%|██████████| 1/1 [00:00<00:00, 28.21it/s]\n"
     ]
    },
    {
     "name": "stdout",
     "output_type": "stream",
     "text": [
      "Epoch: 1133, Train Loss: 78.4269, \n",
      "Validation Loss: 45.4494\n"
     ]
    },
    {
     "name": "stderr",
     "output_type": "stream",
     "text": [
      "Epoch 1134/1500: 100%|██████████| 1/1 [00:00<00:00, 22.83it/s]\n",
      "Epoch 1135/1500: 100%|██████████| 1/1 [00:00<00:00, 23.16it/s]\n",
      "Validation: 100%|██████████| 1/1 [00:00<00:00, 29.68it/s]\n"
     ]
    },
    {
     "name": "stdout",
     "output_type": "stream",
     "text": [
      "Epoch: 1135, Train Loss: 96.8607, \n",
      "Validation Loss: 45.4832\n"
     ]
    },
    {
     "name": "stderr",
     "output_type": "stream",
     "text": [
      "Epoch 1136/1500: 100%|██████████| 1/1 [00:00<00:00, 21.86it/s]\n",
      "Epoch 1137/1500: 100%|██████████| 1/1 [00:00<00:00, 23.39it/s]\n",
      "Validation: 100%|██████████| 1/1 [00:00<00:00, 29.30it/s]\n"
     ]
    },
    {
     "name": "stdout",
     "output_type": "stream",
     "text": [
      "Epoch: 1137, Train Loss: 63.6753, \n",
      "Validation Loss: 46.8285\n"
     ]
    },
    {
     "name": "stderr",
     "output_type": "stream",
     "text": [
      "Epoch 1138/1500: 100%|██████████| 1/1 [00:00<00:00, 22.18it/s]\n",
      "Epoch 1139/1500: 100%|██████████| 1/1 [00:00<00:00, 22.30it/s]\n",
      "Validation: 100%|██████████| 1/1 [00:00<00:00, 28.96it/s]\n"
     ]
    },
    {
     "name": "stdout",
     "output_type": "stream",
     "text": [
      "Epoch: 1139, Train Loss: 100.7493, \n",
      "Validation Loss: 53.8622\n"
     ]
    },
    {
     "name": "stderr",
     "output_type": "stream",
     "text": [
      "Epoch 1140/1500: 100%|██████████| 1/1 [00:00<00:00, 23.39it/s]\n",
      "Epoch 1141/1500: 100%|██████████| 1/1 [00:00<00:00, 22.78it/s]\n",
      "Validation: 100%|██████████| 1/1 [00:00<00:00, 27.33it/s]\n"
     ]
    },
    {
     "name": "stdout",
     "output_type": "stream",
     "text": [
      "Epoch: 1141, Train Loss: 78.4734, \n",
      "Validation Loss: 33.0676\n"
     ]
    },
    {
     "name": "stderr",
     "output_type": "stream",
     "text": [
      "Epoch 1142/1500: 100%|██████████| 1/1 [00:00<00:00, 23.78it/s]\n",
      "Epoch 1143/1500: 100%|██████████| 1/1 [00:00<00:00, 23.31it/s]\n",
      "Validation: 100%|██████████| 1/1 [00:00<00:00, 29.65it/s]\n"
     ]
    },
    {
     "name": "stdout",
     "output_type": "stream",
     "text": [
      "Epoch: 1143, Train Loss: 71.5818, \n",
      "Validation Loss: 76.2367\n"
     ]
    },
    {
     "name": "stderr",
     "output_type": "stream",
     "text": [
      "Epoch 1144/1500: 100%|██████████| 1/1 [00:00<00:00, 22.56it/s]\n",
      "Epoch 1145/1500: 100%|██████████| 1/1 [00:00<00:00, 23.28it/s]\n",
      "Validation: 100%|██████████| 1/1 [00:00<00:00, 29.12it/s]\n"
     ]
    },
    {
     "name": "stdout",
     "output_type": "stream",
     "text": [
      "Epoch: 1145, Train Loss: 82.8787, \n",
      "Validation Loss: 51.7456\n"
     ]
    },
    {
     "name": "stderr",
     "output_type": "stream",
     "text": [
      "Epoch 1146/1500: 100%|██████████| 1/1 [00:00<00:00, 22.70it/s]\n",
      "Epoch 1147/1500: 100%|██████████| 1/1 [00:00<00:00, 21.23it/s]\n",
      "Validation: 100%|██████████| 1/1 [00:00<00:00, 29.11it/s]\n"
     ]
    },
    {
     "name": "stdout",
     "output_type": "stream",
     "text": [
      "Epoch: 1147, Train Loss: 77.7799, \n",
      "Validation Loss: 87.5133\n"
     ]
    },
    {
     "name": "stderr",
     "output_type": "stream",
     "text": [
      "Epoch 1148/1500: 100%|██████████| 1/1 [00:00<00:00, 20.99it/s]\n",
      "Epoch 1149/1500: 100%|██████████| 1/1 [00:00<00:00, 23.45it/s]\n",
      "Validation: 100%|██████████| 1/1 [00:00<00:00, 27.52it/s]\n"
     ]
    },
    {
     "name": "stdout",
     "output_type": "stream",
     "text": [
      "Epoch: 1149, Train Loss: 115.7346, \n",
      "Validation Loss: 57.6270\n"
     ]
    },
    {
     "name": "stderr",
     "output_type": "stream",
     "text": [
      "Epoch 1150/1500: 100%|██████████| 1/1 [00:00<00:00, 23.25it/s]\n",
      "Epoch 1151/1500: 100%|██████████| 1/1 [00:00<00:00, 22.85it/s]\n",
      "Validation: 100%|██████████| 1/1 [00:00<00:00, 29.16it/s]\n"
     ]
    },
    {
     "name": "stdout",
     "output_type": "stream",
     "text": [
      "Epoch: 1151, Train Loss: 57.1773, \n",
      "Validation Loss: 66.6822\n"
     ]
    },
    {
     "name": "stderr",
     "output_type": "stream",
     "text": [
      "Epoch 1152/1500: 100%|██████████| 1/1 [00:00<00:00, 22.77it/s]\n",
      "Epoch 1153/1500: 100%|██████████| 1/1 [00:00<00:00, 22.05it/s]\n",
      "Validation: 100%|██████████| 1/1 [00:00<00:00, 28.38it/s]\n"
     ]
    },
    {
     "name": "stdout",
     "output_type": "stream",
     "text": [
      "Epoch: 1153, Train Loss: 143.9805, \n",
      "Validation Loss: 52.9142\n"
     ]
    },
    {
     "name": "stderr",
     "output_type": "stream",
     "text": [
      "Epoch 1154/1500: 100%|██████████| 1/1 [00:00<00:00, 20.82it/s]\n",
      "Epoch 1155/1500: 100%|██████████| 1/1 [00:00<00:00, 22.69it/s]\n",
      "Validation: 100%|██████████| 1/1 [00:00<00:00, 29.40it/s]\n"
     ]
    },
    {
     "name": "stdout",
     "output_type": "stream",
     "text": [
      "Epoch: 1155, Train Loss: 87.8118, \n",
      "Validation Loss: 46.8574\n"
     ]
    },
    {
     "name": "stderr",
     "output_type": "stream",
     "text": [
      "Epoch 1156/1500: 100%|██████████| 1/1 [00:00<00:00, 21.41it/s]\n",
      "Epoch 1157/1500: 100%|██████████| 1/1 [00:00<00:00, 22.61it/s]\n",
      "Validation: 100%|██████████| 1/1 [00:00<00:00, 29.32it/s]\n"
     ]
    },
    {
     "name": "stdout",
     "output_type": "stream",
     "text": [
      "Epoch: 1157, Train Loss: 99.6336, \n",
      "Validation Loss: 77.9603\n"
     ]
    },
    {
     "name": "stderr",
     "output_type": "stream",
     "text": [
      "Epoch 1158/1500: 100%|██████████| 1/1 [00:00<00:00, 20.86it/s]\n",
      "Epoch 1159/1500: 100%|██████████| 1/1 [00:00<00:00, 22.98it/s]\n",
      "Validation: 100%|██████████| 1/1 [00:00<00:00, 29.31it/s]\n"
     ]
    },
    {
     "name": "stdout",
     "output_type": "stream",
     "text": [
      "Epoch: 1159, Train Loss: 105.1888, \n",
      "Validation Loss: 49.6457\n"
     ]
    },
    {
     "name": "stderr",
     "output_type": "stream",
     "text": [
      "Epoch 1160/1500: 100%|██████████| 1/1 [00:00<00:00, 22.70it/s]\n",
      "Epoch 1161/1500: 100%|██████████| 1/1 [00:00<00:00, 23.03it/s]\n",
      "Validation: 100%|██████████| 1/1 [00:00<00:00, 25.03it/s]\n"
     ]
    },
    {
     "name": "stdout",
     "output_type": "stream",
     "text": [
      "Epoch: 1161, Train Loss: 125.3383, \n",
      "Validation Loss: 55.3419\n"
     ]
    },
    {
     "name": "stderr",
     "output_type": "stream",
     "text": [
      "Epoch 1162/1500: 100%|██████████| 1/1 [00:00<00:00, 22.29it/s]\n",
      "Epoch 1163/1500: 100%|██████████| 1/1 [00:00<00:00, 22.82it/s]\n",
      "Validation: 100%|██████████| 1/1 [00:00<00:00, 29.70it/s]\n"
     ]
    },
    {
     "name": "stdout",
     "output_type": "stream",
     "text": [
      "Epoch: 1163, Train Loss: 77.5795, \n",
      "Validation Loss: 74.7121\n"
     ]
    },
    {
     "name": "stderr",
     "output_type": "stream",
     "text": [
      "Epoch 1164/1500: 100%|██████████| 1/1 [00:00<00:00, 23.12it/s]\n",
      "Epoch 1165/1500: 100%|██████████| 1/1 [00:00<00:00, 24.15it/s]\n",
      "Validation: 100%|██████████| 1/1 [00:00<00:00, 29.72it/s]\n"
     ]
    },
    {
     "name": "stdout",
     "output_type": "stream",
     "text": [
      "Epoch: 1165, Train Loss: 82.8641, \n",
      "Validation Loss: 37.8577\n"
     ]
    },
    {
     "name": "stderr",
     "output_type": "stream",
     "text": [
      "Epoch 1166/1500: 100%|██████████| 1/1 [00:00<00:00, 21.39it/s]\n",
      "Epoch 1167/1500: 100%|██████████| 1/1 [00:00<00:00, 23.41it/s]\n",
      "Validation: 100%|██████████| 1/1 [00:00<00:00, 29.72it/s]\n"
     ]
    },
    {
     "name": "stdout",
     "output_type": "stream",
     "text": [
      "Epoch: 1167, Train Loss: 85.5178, \n",
      "Validation Loss: 51.2871\n"
     ]
    },
    {
     "name": "stderr",
     "output_type": "stream",
     "text": [
      "Epoch 1168/1500: 100%|██████████| 1/1 [00:00<00:00, 23.99it/s]\n",
      "Epoch 1169/1500: 100%|██████████| 1/1 [00:00<00:00, 23.20it/s]\n",
      "Validation: 100%|██████████| 1/1 [00:00<00:00, 29.68it/s]\n"
     ]
    },
    {
     "name": "stdout",
     "output_type": "stream",
     "text": [
      "Epoch: 1169, Train Loss: 82.6336, \n",
      "Validation Loss: 55.4841\n"
     ]
    },
    {
     "name": "stderr",
     "output_type": "stream",
     "text": [
      "Epoch 1170/1500: 100%|██████████| 1/1 [00:00<00:00, 22.88it/s]\n",
      "Epoch 1171/1500: 100%|██████████| 1/1 [00:00<00:00, 23.36it/s]\n",
      "Validation: 100%|██████████| 1/1 [00:00<00:00, 29.90it/s]\n"
     ]
    },
    {
     "name": "stdout",
     "output_type": "stream",
     "text": [
      "Epoch: 1171, Train Loss: 117.1606, \n",
      "Validation Loss: 42.8745\n"
     ]
    },
    {
     "name": "stderr",
     "output_type": "stream",
     "text": [
      "Epoch 1172/1500: 100%|██████████| 1/1 [00:00<00:00, 22.96it/s]\n",
      "Epoch 1173/1500: 100%|██████████| 1/1 [00:00<00:00, 22.36it/s]\n",
      "Validation: 100%|██████████| 1/1 [00:00<00:00, 28.88it/s]\n"
     ]
    },
    {
     "name": "stdout",
     "output_type": "stream",
     "text": [
      "Epoch: 1173, Train Loss: 55.9965, \n",
      "Validation Loss: 58.0704\n"
     ]
    },
    {
     "name": "stderr",
     "output_type": "stream",
     "text": [
      "Epoch 1174/1500: 100%|██████████| 1/1 [00:00<00:00, 22.11it/s]\n",
      "Epoch 1175/1500: 100%|██████████| 1/1 [00:00<00:00, 21.66it/s]\n",
      "Validation: 100%|██████████| 1/1 [00:00<00:00, 28.69it/s]\n"
     ]
    },
    {
     "name": "stdout",
     "output_type": "stream",
     "text": [
      "Epoch: 1175, Train Loss: 69.6000, \n",
      "Validation Loss: 41.5402\n"
     ]
    },
    {
     "name": "stderr",
     "output_type": "stream",
     "text": [
      "Epoch 1176/1500: 100%|██████████| 1/1 [00:00<00:00, 22.09it/s]\n",
      "Epoch 1177/1500: 100%|██████████| 1/1 [00:00<00:00, 22.82it/s]\n",
      "Validation: 100%|██████████| 1/1 [00:00<00:00, 28.99it/s]\n"
     ]
    },
    {
     "name": "stdout",
     "output_type": "stream",
     "text": [
      "Epoch: 1177, Train Loss: 104.0655, \n",
      "Validation Loss: 44.7377\n"
     ]
    },
    {
     "name": "stderr",
     "output_type": "stream",
     "text": [
      "Epoch 1178/1500: 100%|██████████| 1/1 [00:00<00:00, 22.91it/s]\n",
      "Epoch 1179/1500: 100%|██████████| 1/1 [00:00<00:00, 23.23it/s]\n",
      "Validation: 100%|██████████| 1/1 [00:00<00:00, 29.48it/s]\n"
     ]
    },
    {
     "name": "stdout",
     "output_type": "stream",
     "text": [
      "Epoch: 1179, Train Loss: 71.8897, \n",
      "Validation Loss: 41.5651\n"
     ]
    },
    {
     "name": "stderr",
     "output_type": "stream",
     "text": [
      "Epoch 1180/1500: 100%|██████████| 1/1 [00:00<00:00, 22.55it/s]\n",
      "Epoch 1181/1500: 100%|██████████| 1/1 [00:00<00:00, 22.36it/s]\n",
      "Validation: 100%|██████████| 1/1 [00:00<00:00, 28.12it/s]\n"
     ]
    },
    {
     "name": "stdout",
     "output_type": "stream",
     "text": [
      "Epoch: 1181, Train Loss: 73.2312, \n",
      "Validation Loss: 52.9154\n"
     ]
    },
    {
     "name": "stderr",
     "output_type": "stream",
     "text": [
      "Epoch 1182/1500: 100%|██████████| 1/1 [00:00<00:00, 20.98it/s]\n",
      "Epoch 1183/1500: 100%|██████████| 1/1 [00:00<00:00, 21.97it/s]\n",
      "Validation: 100%|██████████| 1/1 [00:00<00:00, 28.85it/s]\n"
     ]
    },
    {
     "name": "stdout",
     "output_type": "stream",
     "text": [
      "Epoch: 1183, Train Loss: 77.4434, \n",
      "Validation Loss: 60.3859\n"
     ]
    },
    {
     "name": "stderr",
     "output_type": "stream",
     "text": [
      "Epoch 1184/1500: 100%|██████████| 1/1 [00:00<00:00, 21.85it/s]\n",
      "Epoch 1185/1500: 100%|██████████| 1/1 [00:00<00:00, 18.72it/s]\n",
      "Validation: 100%|██████████| 1/1 [00:00<00:00, 28.67it/s]\n"
     ]
    },
    {
     "name": "stdout",
     "output_type": "stream",
     "text": [
      "Epoch: 1185, Train Loss: 79.4927, \n",
      "Validation Loss: 30.1414\n"
     ]
    },
    {
     "name": "stderr",
     "output_type": "stream",
     "text": [
      "Epoch 1186/1500: 100%|██████████| 1/1 [00:00<00:00, 21.23it/s]\n",
      "Epoch 1187/1500: 100%|██████████| 1/1 [00:00<00:00, 20.95it/s]\n",
      "Validation: 100%|██████████| 1/1 [00:00<00:00, 28.01it/s]\n"
     ]
    },
    {
     "name": "stdout",
     "output_type": "stream",
     "text": [
      "Epoch: 1187, Train Loss: 130.3176, \n",
      "Validation Loss: 77.5983\n"
     ]
    },
    {
     "name": "stderr",
     "output_type": "stream",
     "text": [
      "Epoch 1188/1500: 100%|██████████| 1/1 [00:00<00:00, 21.80it/s]\n",
      "Epoch 1189/1500: 100%|██████████| 1/1 [00:00<00:00, 23.15it/s]\n",
      "Validation: 100%|██████████| 1/1 [00:00<00:00, 28.85it/s]\n"
     ]
    },
    {
     "name": "stdout",
     "output_type": "stream",
     "text": [
      "Epoch: 1189, Train Loss: 110.4697, \n",
      "Validation Loss: 36.6776\n"
     ]
    },
    {
     "name": "stderr",
     "output_type": "stream",
     "text": [
      "Epoch 1190/1500: 100%|██████████| 1/1 [00:00<00:00, 22.48it/s]\n",
      "Epoch 1191/1500: 100%|██████████| 1/1 [00:00<00:00, 22.62it/s]\n",
      "Validation: 100%|██████████| 1/1 [00:00<00:00, 29.47it/s]\n"
     ]
    },
    {
     "name": "stdout",
     "output_type": "stream",
     "text": [
      "Epoch: 1191, Train Loss: 80.1263, \n",
      "Validation Loss: 45.8520\n"
     ]
    },
    {
     "name": "stderr",
     "output_type": "stream",
     "text": [
      "Epoch 1192/1500: 100%|██████████| 1/1 [00:00<00:00, 22.69it/s]\n",
      "Epoch 1193/1500: 100%|██████████| 1/1 [00:00<00:00, 23.17it/s]\n",
      "Validation: 100%|██████████| 1/1 [00:00<00:00, 29.80it/s]\n"
     ]
    },
    {
     "name": "stdout",
     "output_type": "stream",
     "text": [
      "Epoch: 1193, Train Loss: 116.3448, \n",
      "Validation Loss: 60.6009\n"
     ]
    },
    {
     "name": "stderr",
     "output_type": "stream",
     "text": [
      "Epoch 1194/1500: 100%|██████████| 1/1 [00:00<00:00, 23.14it/s]\n",
      "Epoch 1195/1500: 100%|██████████| 1/1 [00:00<00:00, 23.04it/s]\n",
      "Validation: 100%|██████████| 1/1 [00:00<00:00, 29.06it/s]\n"
     ]
    },
    {
     "name": "stdout",
     "output_type": "stream",
     "text": [
      "Epoch: 1195, Train Loss: 76.5692, \n",
      "Validation Loss: 49.1132\n"
     ]
    },
    {
     "name": "stderr",
     "output_type": "stream",
     "text": [
      "Epoch 1196/1500: 100%|██████████| 1/1 [00:00<00:00, 23.13it/s]\n",
      "Epoch 1197/1500: 100%|██████████| 1/1 [00:00<00:00, 22.64it/s]\n",
      "Validation: 100%|██████████| 1/1 [00:00<00:00, 28.10it/s]\n"
     ]
    },
    {
     "name": "stdout",
     "output_type": "stream",
     "text": [
      "Epoch: 1197, Train Loss: 60.6855, \n",
      "Validation Loss: 62.7878\n"
     ]
    },
    {
     "name": "stderr",
     "output_type": "stream",
     "text": [
      "Epoch 1198/1500: 100%|██████████| 1/1 [00:00<00:00, 22.27it/s]\n",
      "Epoch 1199/1500: 100%|██████████| 1/1 [00:00<00:00, 22.24it/s]\n",
      "Validation: 100%|██████████| 1/1 [00:00<00:00, 28.41it/s]\n"
     ]
    },
    {
     "name": "stdout",
     "output_type": "stream",
     "text": [
      "Epoch: 1199, Train Loss: 78.6661, \n",
      "Validation Loss: 50.8789\n"
     ]
    },
    {
     "name": "stderr",
     "output_type": "stream",
     "text": [
      "Epoch 1200/1500: 100%|██████████| 1/1 [00:00<00:00, 22.86it/s]\n",
      "Epoch 1201/1500: 100%|██████████| 1/1 [00:00<00:00, 23.65it/s]\n",
      "Validation: 100%|██████████| 1/1 [00:00<00:00, 29.63it/s]\n"
     ]
    },
    {
     "name": "stdout",
     "output_type": "stream",
     "text": [
      "Epoch: 1201, Train Loss: 149.6565, \n",
      "Validation Loss: 74.2122\n"
     ]
    },
    {
     "name": "stderr",
     "output_type": "stream",
     "text": [
      "Epoch 1202/1500: 100%|██████████| 1/1 [00:00<00:00, 22.56it/s]\n",
      "Epoch 1203/1500: 100%|██████████| 1/1 [00:00<00:00, 22.25it/s]\n",
      "Validation: 100%|██████████| 1/1 [00:00<00:00, 29.15it/s]\n"
     ]
    },
    {
     "name": "stdout",
     "output_type": "stream",
     "text": [
      "Epoch: 1203, Train Loss: 126.7487, \n",
      "Validation Loss: 43.9609\n"
     ]
    },
    {
     "name": "stderr",
     "output_type": "stream",
     "text": [
      "Epoch 1204/1500: 100%|██████████| 1/1 [00:00<00:00, 21.86it/s]\n",
      "Epoch 1205/1500: 100%|██████████| 1/1 [00:00<00:00, 22.64it/s]\n",
      "Validation: 100%|██████████| 1/1 [00:00<00:00, 28.49it/s]\n"
     ]
    },
    {
     "name": "stdout",
     "output_type": "stream",
     "text": [
      "Epoch: 1205, Train Loss: 114.0553, \n",
      "Validation Loss: 42.2583\n"
     ]
    },
    {
     "name": "stderr",
     "output_type": "stream",
     "text": [
      "Epoch 1206/1500: 100%|██████████| 1/1 [00:00<00:00, 22.41it/s]\n",
      "Epoch 1207/1500: 100%|██████████| 1/1 [00:00<00:00, 23.10it/s]\n",
      "Validation: 100%|██████████| 1/1 [00:00<00:00, 28.49it/s]\n"
     ]
    },
    {
     "name": "stdout",
     "output_type": "stream",
     "text": [
      "Epoch: 1207, Train Loss: 72.2628, \n",
      "Validation Loss: 41.0031\n"
     ]
    },
    {
     "name": "stderr",
     "output_type": "stream",
     "text": [
      "Epoch 1208/1500: 100%|██████████| 1/1 [00:00<00:00, 22.07it/s]\n",
      "Epoch 1209/1500: 100%|██████████| 1/1 [00:00<00:00, 22.37it/s]\n",
      "Validation: 100%|██████████| 1/1 [00:00<00:00, 25.26it/s]\n"
     ]
    },
    {
     "name": "stdout",
     "output_type": "stream",
     "text": [
      "Epoch: 1209, Train Loss: 84.2876, \n",
      "Validation Loss: 79.4622\n"
     ]
    },
    {
     "name": "stderr",
     "output_type": "stream",
     "text": [
      "Epoch 1210/1500: 100%|██████████| 1/1 [00:00<00:00, 21.64it/s]\n",
      "Epoch 1211/1500: 100%|██████████| 1/1 [00:00<00:00, 23.04it/s]\n",
      "Validation: 100%|██████████| 1/1 [00:00<00:00, 28.55it/s]\n"
     ]
    },
    {
     "name": "stdout",
     "output_type": "stream",
     "text": [
      "Epoch: 1211, Train Loss: 124.8819, \n",
      "Validation Loss: 86.0426\n"
     ]
    },
    {
     "name": "stderr",
     "output_type": "stream",
     "text": [
      "Epoch 1212/1500: 100%|██████████| 1/1 [00:00<00:00, 22.41it/s]\n",
      "Epoch 1213/1500: 100%|██████████| 1/1 [00:00<00:00, 22.04it/s]\n",
      "Validation: 100%|██████████| 1/1 [00:00<00:00, 28.11it/s]\n"
     ]
    },
    {
     "name": "stdout",
     "output_type": "stream",
     "text": [
      "Epoch: 1213, Train Loss: 88.6865, \n",
      "Validation Loss: 46.9110\n"
     ]
    },
    {
     "name": "stderr",
     "output_type": "stream",
     "text": [
      "Epoch 1214/1500: 100%|██████████| 1/1 [00:00<00:00, 22.54it/s]\n",
      "Epoch 1215/1500: 100%|██████████| 1/1 [00:00<00:00, 22.23it/s]\n",
      "Validation: 100%|██████████| 1/1 [00:00<00:00, 27.64it/s]\n"
     ]
    },
    {
     "name": "stdout",
     "output_type": "stream",
     "text": [
      "Epoch: 1215, Train Loss: 177.1788, \n",
      "Validation Loss: 59.8465\n"
     ]
    },
    {
     "name": "stderr",
     "output_type": "stream",
     "text": [
      "Epoch 1216/1500: 100%|██████████| 1/1 [00:00<00:00, 22.07it/s]\n",
      "Epoch 1217/1500: 100%|██████████| 1/1 [00:00<00:00, 22.33it/s]\n",
      "Validation: 100%|██████████| 1/1 [00:00<00:00, 29.26it/s]\n"
     ]
    },
    {
     "name": "stdout",
     "output_type": "stream",
     "text": [
      "Epoch: 1217, Train Loss: 71.1419, \n",
      "Validation Loss: 42.6438\n"
     ]
    },
    {
     "name": "stderr",
     "output_type": "stream",
     "text": [
      "Epoch 1218/1500: 100%|██████████| 1/1 [00:00<00:00, 21.52it/s]\n",
      "Epoch 1219/1500: 100%|██████████| 1/1 [00:00<00:00, 22.11it/s]\n",
      "Validation: 100%|██████████| 1/1 [00:00<00:00, 30.00it/s]\n"
     ]
    },
    {
     "name": "stdout",
     "output_type": "stream",
     "text": [
      "Epoch: 1219, Train Loss: 90.1598, \n",
      "Validation Loss: 81.5575\n"
     ]
    },
    {
     "name": "stderr",
     "output_type": "stream",
     "text": [
      "Epoch 1220/1500: 100%|██████████| 1/1 [00:00<00:00, 23.36it/s]\n",
      "Epoch 1221/1500: 100%|██████████| 1/1 [00:00<00:00, 23.62it/s]\n",
      "Validation: 100%|██████████| 1/1 [00:00<00:00, 28.91it/s]\n"
     ]
    },
    {
     "name": "stdout",
     "output_type": "stream",
     "text": [
      "Epoch: 1221, Train Loss: 124.5483, \n",
      "Validation Loss: 59.4820\n"
     ]
    },
    {
     "name": "stderr",
     "output_type": "stream",
     "text": [
      "Epoch 1222/1500: 100%|██████████| 1/1 [00:00<00:00, 22.83it/s]\n",
      "Epoch 1223/1500: 100%|██████████| 1/1 [00:00<00:00, 23.06it/s]\n",
      "Validation: 100%|██████████| 1/1 [00:00<00:00, 28.93it/s]\n"
     ]
    },
    {
     "name": "stdout",
     "output_type": "stream",
     "text": [
      "Epoch: 1223, Train Loss: 36.9431, \n",
      "Validation Loss: 53.1955\n"
     ]
    },
    {
     "name": "stderr",
     "output_type": "stream",
     "text": [
      "Epoch 1224/1500: 100%|██████████| 1/1 [00:00<00:00, 20.83it/s]\n",
      "Epoch 1225/1500: 100%|██████████| 1/1 [00:00<00:00, 22.71it/s]\n",
      "Validation: 100%|██████████| 1/1 [00:00<00:00, 29.27it/s]\n"
     ]
    },
    {
     "name": "stdout",
     "output_type": "stream",
     "text": [
      "Epoch: 1225, Train Loss: 129.6556, \n",
      "Validation Loss: 61.9632\n"
     ]
    },
    {
     "name": "stderr",
     "output_type": "stream",
     "text": [
      "Epoch 1226/1500: 100%|██████████| 1/1 [00:00<00:00, 19.84it/s]\n",
      "Epoch 1227/1500: 100%|██████████| 1/1 [00:00<00:00, 21.34it/s]\n",
      "Validation: 100%|██████████| 1/1 [00:00<00:00, 28.80it/s]\n"
     ]
    },
    {
     "name": "stdout",
     "output_type": "stream",
     "text": [
      "Epoch: 1227, Train Loss: 85.9661, \n",
      "Validation Loss: 53.2730\n"
     ]
    },
    {
     "name": "stderr",
     "output_type": "stream",
     "text": [
      "Epoch 1228/1500: 100%|██████████| 1/1 [00:00<00:00, 21.49it/s]\n",
      "Epoch 1229/1500: 100%|██████████| 1/1 [00:00<00:00, 21.86it/s]\n",
      "Validation: 100%|██████████| 1/1 [00:00<00:00, 27.81it/s]\n"
     ]
    },
    {
     "name": "stdout",
     "output_type": "stream",
     "text": [
      "Epoch: 1229, Train Loss: 78.8064, \n",
      "Validation Loss: 46.4899\n"
     ]
    },
    {
     "name": "stderr",
     "output_type": "stream",
     "text": [
      "Epoch 1230/1500: 100%|██████████| 1/1 [00:00<00:00, 22.53it/s]\n",
      "Epoch 1231/1500: 100%|██████████| 1/1 [00:00<00:00, 22.27it/s]\n",
      "Validation: 100%|██████████| 1/1 [00:00<00:00, 27.88it/s]\n"
     ]
    },
    {
     "name": "stdout",
     "output_type": "stream",
     "text": [
      "Epoch: 1231, Train Loss: 115.4356, \n",
      "Validation Loss: 55.7045\n"
     ]
    },
    {
     "name": "stderr",
     "output_type": "stream",
     "text": [
      "Epoch 1232/1500: 100%|██████████| 1/1 [00:00<00:00, 21.58it/s]\n",
      "Epoch 1233/1500: 100%|██████████| 1/1 [00:00<00:00, 21.79it/s]\n",
      "Validation: 100%|██████████| 1/1 [00:00<00:00, 26.50it/s]\n"
     ]
    },
    {
     "name": "stdout",
     "output_type": "stream",
     "text": [
      "Epoch: 1233, Train Loss: 106.9053, \n",
      "Validation Loss: 67.6391\n"
     ]
    },
    {
     "name": "stderr",
     "output_type": "stream",
     "text": [
      "Epoch 1234/1500: 100%|██████████| 1/1 [00:00<00:00, 22.54it/s]\n",
      "Epoch 1235/1500: 100%|██████████| 1/1 [00:00<00:00, 23.41it/s]\n",
      "Validation: 100%|██████████| 1/1 [00:00<00:00, 28.88it/s]\n"
     ]
    },
    {
     "name": "stdout",
     "output_type": "stream",
     "text": [
      "Epoch: 1235, Train Loss: 77.4938, \n",
      "Validation Loss: 48.5934\n"
     ]
    },
    {
     "name": "stderr",
     "output_type": "stream",
     "text": [
      "Epoch 1236/1500: 100%|██████████| 1/1 [00:00<00:00, 22.96it/s]\n",
      "Epoch 1237/1500: 100%|██████████| 1/1 [00:00<00:00, 22.51it/s]\n",
      "Validation: 100%|██████████| 1/1 [00:00<00:00, 28.59it/s]\n"
     ]
    },
    {
     "name": "stdout",
     "output_type": "stream",
     "text": [
      "Epoch: 1237, Train Loss: 131.9839, \n",
      "Validation Loss: 82.4478\n"
     ]
    },
    {
     "name": "stderr",
     "output_type": "stream",
     "text": [
      "Epoch 1238/1500: 100%|██████████| 1/1 [00:00<00:00, 20.72it/s]\n",
      "Epoch 1239/1500: 100%|██████████| 1/1 [00:00<00:00, 22.81it/s]\n",
      "Validation: 100%|██████████| 1/1 [00:00<00:00, 28.33it/s]\n"
     ]
    },
    {
     "name": "stdout",
     "output_type": "stream",
     "text": [
      "Epoch: 1239, Train Loss: 48.1057, \n",
      "Validation Loss: 39.8994\n"
     ]
    },
    {
     "name": "stderr",
     "output_type": "stream",
     "text": [
      "Epoch 1240/1500: 100%|██████████| 1/1 [00:00<00:00, 19.78it/s]\n",
      "Epoch 1241/1500: 100%|██████████| 1/1 [00:00<00:00, 21.60it/s]\n",
      "Validation: 100%|██████████| 1/1 [00:00<00:00, 26.28it/s]\n"
     ]
    },
    {
     "name": "stdout",
     "output_type": "stream",
     "text": [
      "Epoch: 1241, Train Loss: 116.6196, \n",
      "Validation Loss: 59.9833\n"
     ]
    },
    {
     "name": "stderr",
     "output_type": "stream",
     "text": [
      "Epoch 1242/1500: 100%|██████████| 1/1 [00:00<00:00, 23.18it/s]\n",
      "Epoch 1243/1500: 100%|██████████| 1/1 [00:00<00:00, 22.88it/s]\n",
      "Validation: 100%|██████████| 1/1 [00:00<00:00, 28.60it/s]\n"
     ]
    },
    {
     "name": "stdout",
     "output_type": "stream",
     "text": [
      "Epoch: 1243, Train Loss: 103.8664, \n",
      "Validation Loss: 42.1876\n"
     ]
    },
    {
     "name": "stderr",
     "output_type": "stream",
     "text": [
      "Epoch 1244/1500: 100%|██████████| 1/1 [00:00<00:00, 22.98it/s]\n",
      "Epoch 1245/1500: 100%|██████████| 1/1 [00:00<00:00, 22.85it/s]\n",
      "Validation: 100%|██████████| 1/1 [00:00<00:00, 28.99it/s]\n"
     ]
    },
    {
     "name": "stdout",
     "output_type": "stream",
     "text": [
      "Epoch: 1245, Train Loss: 35.3013, \n",
      "Validation Loss: 60.1865\n"
     ]
    },
    {
     "name": "stderr",
     "output_type": "stream",
     "text": [
      "Epoch 1246/1500: 100%|██████████| 1/1 [00:00<00:00, 21.83it/s]\n",
      "Epoch 1247/1500: 100%|██████████| 1/1 [00:00<00:00, 22.22it/s]\n",
      "Validation: 100%|██████████| 1/1 [00:00<00:00, 27.80it/s]\n"
     ]
    },
    {
     "name": "stdout",
     "output_type": "stream",
     "text": [
      "Epoch: 1247, Train Loss: 112.7243, \n",
      "Validation Loss: 43.7054\n"
     ]
    },
    {
     "name": "stderr",
     "output_type": "stream",
     "text": [
      "Epoch 1248/1500: 100%|██████████| 1/1 [00:00<00:00, 20.19it/s]\n",
      "Epoch 1249/1500: 100%|██████████| 1/1 [00:00<00:00, 22.58it/s]\n",
      "Validation: 100%|██████████| 1/1 [00:00<00:00, 28.82it/s]\n"
     ]
    },
    {
     "name": "stdout",
     "output_type": "stream",
     "text": [
      "Epoch: 1249, Train Loss: 44.0865, \n",
      "Validation Loss: 46.0152\n"
     ]
    },
    {
     "name": "stderr",
     "output_type": "stream",
     "text": [
      "Epoch 1250/1500: 100%|██████████| 1/1 [00:00<00:00, 22.10it/s]\n",
      "Epoch 1251/1500: 100%|██████████| 1/1 [00:00<00:00, 22.27it/s]\n",
      "Validation: 100%|██████████| 1/1 [00:00<00:00, 28.64it/s]\n"
     ]
    },
    {
     "name": "stdout",
     "output_type": "stream",
     "text": [
      "Epoch: 1251, Train Loss: 102.2298, \n",
      "Validation Loss: 42.7858\n"
     ]
    },
    {
     "name": "stderr",
     "output_type": "stream",
     "text": [
      "Epoch 1252/1500: 100%|██████████| 1/1 [00:00<00:00, 21.70it/s]\n",
      "Epoch 1253/1500: 100%|██████████| 1/1 [00:00<00:00, 22.52it/s]\n",
      "Validation: 100%|██████████| 1/1 [00:00<00:00, 27.23it/s]\n"
     ]
    },
    {
     "name": "stdout",
     "output_type": "stream",
     "text": [
      "Epoch: 1253, Train Loss: 55.5881, \n",
      "Validation Loss: 44.3151\n"
     ]
    },
    {
     "name": "stderr",
     "output_type": "stream",
     "text": [
      "Epoch 1254/1500: 100%|██████████| 1/1 [00:00<00:00, 22.68it/s]\n",
      "Epoch 1255/1500: 100%|██████████| 1/1 [00:00<00:00, 22.16it/s]\n",
      "Validation: 100%|██████████| 1/1 [00:00<00:00, 27.70it/s]\n"
     ]
    },
    {
     "name": "stdout",
     "output_type": "stream",
     "text": [
      "Epoch: 1255, Train Loss: 95.5357, \n",
      "Validation Loss: 45.1081\n"
     ]
    },
    {
     "name": "stderr",
     "output_type": "stream",
     "text": [
      "Epoch 1256/1500: 100%|██████████| 1/1 [00:00<00:00, 19.59it/s]\n",
      "Epoch 1257/1500: 100%|██████████| 1/1 [00:00<00:00, 23.36it/s]\n",
      "Validation: 100%|██████████| 1/1 [00:00<00:00, 29.66it/s]\n"
     ]
    },
    {
     "name": "stdout",
     "output_type": "stream",
     "text": [
      "Epoch: 1257, Train Loss: 87.5136, \n",
      "Validation Loss: 37.0514\n"
     ]
    },
    {
     "name": "stderr",
     "output_type": "stream",
     "text": [
      "Epoch 1258/1500: 100%|██████████| 1/1 [00:00<00:00, 22.16it/s]\n",
      "Epoch 1259/1500: 100%|██████████| 1/1 [00:00<00:00, 22.06it/s]\n",
      "Validation: 100%|██████████| 1/1 [00:00<00:00, 29.19it/s]\n"
     ]
    },
    {
     "name": "stdout",
     "output_type": "stream",
     "text": [
      "Epoch: 1259, Train Loss: 69.2538, \n",
      "Validation Loss: 45.5433\n"
     ]
    },
    {
     "name": "stderr",
     "output_type": "stream",
     "text": [
      "Epoch 1260/1500: 100%|██████████| 1/1 [00:00<00:00, 21.31it/s]\n",
      "Epoch 1261/1500: 100%|██████████| 1/1 [00:00<00:00, 23.36it/s]\n",
      "Validation: 100%|██████████| 1/1 [00:00<00:00, 29.22it/s]\n"
     ]
    },
    {
     "name": "stdout",
     "output_type": "stream",
     "text": [
      "Epoch: 1261, Train Loss: 109.1530, \n",
      "Validation Loss: 44.3067\n"
     ]
    },
    {
     "name": "stderr",
     "output_type": "stream",
     "text": [
      "Epoch 1262/1500: 100%|██████████| 1/1 [00:00<00:00, 21.54it/s]\n",
      "Epoch 1263/1500: 100%|██████████| 1/1 [00:00<00:00, 22.41it/s]\n",
      "Validation: 100%|██████████| 1/1 [00:00<00:00, 27.43it/s]\n"
     ]
    },
    {
     "name": "stdout",
     "output_type": "stream",
     "text": [
      "Epoch: 1263, Train Loss: 102.9705, \n",
      "Validation Loss: 46.8658\n"
     ]
    },
    {
     "name": "stderr",
     "output_type": "stream",
     "text": [
      "Epoch 1264/1500: 100%|██████████| 1/1 [00:00<00:00, 21.37it/s]\n",
      "Epoch 1265/1500: 100%|██████████| 1/1 [00:00<00:00, 23.80it/s]\n",
      "Validation: 100%|██████████| 1/1 [00:00<00:00, 26.63it/s]\n"
     ]
    },
    {
     "name": "stdout",
     "output_type": "stream",
     "text": [
      "Epoch: 1265, Train Loss: 83.3767, \n",
      "Validation Loss: 51.4150\n"
     ]
    },
    {
     "name": "stderr",
     "output_type": "stream",
     "text": [
      "Epoch 1266/1500: 100%|██████████| 1/1 [00:00<00:00, 22.94it/s]\n",
      "Epoch 1267/1500: 100%|██████████| 1/1 [00:00<00:00, 23.16it/s]\n",
      "Validation: 100%|██████████| 1/1 [00:00<00:00, 28.59it/s]\n"
     ]
    },
    {
     "name": "stdout",
     "output_type": "stream",
     "text": [
      "Epoch: 1267, Train Loss: 55.2222, \n",
      "Validation Loss: 47.5246\n"
     ]
    },
    {
     "name": "stderr",
     "output_type": "stream",
     "text": [
      "Epoch 1268/1500: 100%|██████████| 1/1 [00:00<00:00, 21.76it/s]\n",
      "Epoch 1269/1500: 100%|██████████| 1/1 [00:00<00:00, 21.78it/s]\n",
      "Validation: 100%|██████████| 1/1 [00:00<00:00, 28.48it/s]\n"
     ]
    },
    {
     "name": "stdout",
     "output_type": "stream",
     "text": [
      "Epoch: 1269, Train Loss: 103.0691, \n",
      "Validation Loss: 70.2898\n"
     ]
    },
    {
     "name": "stderr",
     "output_type": "stream",
     "text": [
      "Epoch 1270/1500: 100%|██████████| 1/1 [00:00<00:00, 22.11it/s]\n",
      "Epoch 1271/1500: 100%|██████████| 1/1 [00:00<00:00, 22.32it/s]\n",
      "Validation: 100%|██████████| 1/1 [00:00<00:00, 28.39it/s]\n"
     ]
    },
    {
     "name": "stdout",
     "output_type": "stream",
     "text": [
      "Epoch: 1271, Train Loss: 68.8724, \n",
      "Validation Loss: 46.2662\n"
     ]
    },
    {
     "name": "stderr",
     "output_type": "stream",
     "text": [
      "Epoch 1272/1500: 100%|██████████| 1/1 [00:00<00:00, 22.44it/s]\n",
      "Epoch 1273/1500: 100%|██████████| 1/1 [00:00<00:00, 22.80it/s]\n",
      "Validation: 100%|██████████| 1/1 [00:00<00:00, 28.13it/s]\n"
     ]
    },
    {
     "name": "stdout",
     "output_type": "stream",
     "text": [
      "Epoch: 1273, Train Loss: 94.2839, \n",
      "Validation Loss: 64.0290\n"
     ]
    },
    {
     "name": "stderr",
     "output_type": "stream",
     "text": [
      "Epoch 1274/1500: 100%|██████████| 1/1 [00:00<00:00, 23.18it/s]\n",
      "Epoch 1275/1500: 100%|██████████| 1/1 [00:00<00:00, 22.35it/s]\n",
      "Validation: 100%|██████████| 1/1 [00:00<00:00, 28.44it/s]\n"
     ]
    },
    {
     "name": "stdout",
     "output_type": "stream",
     "text": [
      "Epoch: 1275, Train Loss: 153.4432, \n",
      "Validation Loss: 60.6046\n"
     ]
    },
    {
     "name": "stderr",
     "output_type": "stream",
     "text": [
      "Epoch 1276/1500: 100%|██████████| 1/1 [00:00<00:00, 22.87it/s]\n",
      "Epoch 1277/1500: 100%|██████████| 1/1 [00:00<00:00, 22.36it/s]\n",
      "Validation: 100%|██████████| 1/1 [00:00<00:00, 28.46it/s]\n"
     ]
    },
    {
     "name": "stdout",
     "output_type": "stream",
     "text": [
      "Epoch: 1277, Train Loss: 70.0575, \n",
      "Validation Loss: 53.3825\n"
     ]
    },
    {
     "name": "stderr",
     "output_type": "stream",
     "text": [
      "Epoch 1278/1500: 100%|██████████| 1/1 [00:00<00:00, 21.00it/s]\n",
      "Epoch 1279/1500: 100%|██████████| 1/1 [00:00<00:00, 22.68it/s]\n",
      "Validation: 100%|██████████| 1/1 [00:00<00:00, 28.69it/s]\n"
     ]
    },
    {
     "name": "stdout",
     "output_type": "stream",
     "text": [
      "Epoch: 1279, Train Loss: 93.6916, \n",
      "Validation Loss: 92.1588\n"
     ]
    },
    {
     "name": "stderr",
     "output_type": "stream",
     "text": [
      "Epoch 1280/1500: 100%|██████████| 1/1 [00:00<00:00, 22.69it/s]\n",
      "Epoch 1281/1500: 100%|██████████| 1/1 [00:00<00:00, 23.34it/s]\n",
      "Validation: 100%|██████████| 1/1 [00:00<00:00, 28.58it/s]\n"
     ]
    },
    {
     "name": "stdout",
     "output_type": "stream",
     "text": [
      "Epoch: 1281, Train Loss: 165.7096, \n",
      "Validation Loss: 45.5360\n"
     ]
    },
    {
     "name": "stderr",
     "output_type": "stream",
     "text": [
      "Epoch 1282/1500: 100%|██████████| 1/1 [00:00<00:00, 22.87it/s]\n",
      "Epoch 1283/1500: 100%|██████████| 1/1 [00:00<00:00, 21.29it/s]\n",
      "Validation: 100%|██████████| 1/1 [00:00<00:00, 28.68it/s]\n"
     ]
    },
    {
     "name": "stdout",
     "output_type": "stream",
     "text": [
      "Epoch: 1283, Train Loss: 63.7441, \n",
      "Validation Loss: 65.3167\n"
     ]
    },
    {
     "name": "stderr",
     "output_type": "stream",
     "text": [
      "Epoch 1284/1500: 100%|██████████| 1/1 [00:00<00:00, 20.73it/s]\n",
      "Epoch 1285/1500: 100%|██████████| 1/1 [00:00<00:00, 21.96it/s]\n",
      "Validation: 100%|██████████| 1/1 [00:00<00:00, 28.36it/s]\n"
     ]
    },
    {
     "name": "stdout",
     "output_type": "stream",
     "text": [
      "Epoch: 1285, Train Loss: 60.4258, \n",
      "Validation Loss: 51.9647\n"
     ]
    },
    {
     "name": "stderr",
     "output_type": "stream",
     "text": [
      "Epoch 1286/1500: 100%|██████████| 1/1 [00:00<00:00, 21.87it/s]\n",
      "Epoch 1287/1500: 100%|██████████| 1/1 [00:00<00:00, 23.48it/s]\n",
      "Validation: 100%|██████████| 1/1 [00:00<00:00, 27.95it/s]\n"
     ]
    },
    {
     "name": "stdout",
     "output_type": "stream",
     "text": [
      "Epoch: 1287, Train Loss: 99.4016, \n",
      "Validation Loss: 41.5868\n"
     ]
    },
    {
     "name": "stderr",
     "output_type": "stream",
     "text": [
      "Epoch 1288/1500: 100%|██████████| 1/1 [00:00<00:00, 20.84it/s]\n",
      "Epoch 1289/1500: 100%|██████████| 1/1 [00:00<00:00, 22.53it/s]\n",
      "Validation: 100%|██████████| 1/1 [00:00<00:00, 27.55it/s]\n"
     ]
    },
    {
     "name": "stdout",
     "output_type": "stream",
     "text": [
      "Epoch: 1289, Train Loss: 93.9696, \n",
      "Validation Loss: 52.4376\n"
     ]
    },
    {
     "name": "stderr",
     "output_type": "stream",
     "text": [
      "Epoch 1290/1500: 100%|██████████| 1/1 [00:00<00:00, 23.42it/s]\n",
      "Epoch 1291/1500: 100%|██████████| 1/1 [00:00<00:00, 22.32it/s]\n",
      "Validation: 100%|██████████| 1/1 [00:00<00:00, 28.14it/s]\n"
     ]
    },
    {
     "name": "stdout",
     "output_type": "stream",
     "text": [
      "Epoch: 1291, Train Loss: 54.0328, \n",
      "Validation Loss: 71.4846\n"
     ]
    },
    {
     "name": "stderr",
     "output_type": "stream",
     "text": [
      "Epoch 1292/1500: 100%|██████████| 1/1 [00:00<00:00, 22.52it/s]\n",
      "Epoch 1293/1500: 100%|██████████| 1/1 [00:00<00:00, 22.54it/s]\n",
      "Validation: 100%|██████████| 1/1 [00:00<00:00, 28.48it/s]\n"
     ]
    },
    {
     "name": "stdout",
     "output_type": "stream",
     "text": [
      "Epoch: 1293, Train Loss: 63.1436, \n",
      "Validation Loss: 53.5604\n"
     ]
    },
    {
     "name": "stderr",
     "output_type": "stream",
     "text": [
      "Epoch 1294/1500: 100%|██████████| 1/1 [00:00<00:00, 22.33it/s]\n",
      "Epoch 1295/1500: 100%|██████████| 1/1 [00:00<00:00, 23.30it/s]\n",
      "Validation: 100%|██████████| 1/1 [00:00<00:00, 28.44it/s]\n"
     ]
    },
    {
     "name": "stdout",
     "output_type": "stream",
     "text": [
      "Epoch: 1295, Train Loss: 134.5390, \n",
      "Validation Loss: 55.6915\n"
     ]
    },
    {
     "name": "stderr",
     "output_type": "stream",
     "text": [
      "Epoch 1296/1500: 100%|██████████| 1/1 [00:00<00:00, 23.27it/s]\n",
      "Epoch 1297/1500: 100%|██████████| 1/1 [00:00<00:00, 23.40it/s]\n",
      "Validation: 100%|██████████| 1/1 [00:00<00:00, 28.33it/s]\n"
     ]
    },
    {
     "name": "stdout",
     "output_type": "stream",
     "text": [
      "Epoch: 1297, Train Loss: 96.4262, \n",
      "Validation Loss: 64.1747\n"
     ]
    },
    {
     "name": "stderr",
     "output_type": "stream",
     "text": [
      "Epoch 1298/1500: 100%|██████████| 1/1 [00:00<00:00, 22.51it/s]\n",
      "Epoch 1299/1500: 100%|██████████| 1/1 [00:00<00:00, 23.30it/s]\n",
      "Validation: 100%|██████████| 1/1 [00:00<00:00, 29.29it/s]\n"
     ]
    },
    {
     "name": "stdout",
     "output_type": "stream",
     "text": [
      "Epoch: 1299, Train Loss: 122.5633, \n",
      "Validation Loss: 37.0947\n"
     ]
    },
    {
     "name": "stderr",
     "output_type": "stream",
     "text": [
      "Epoch 1300/1500: 100%|██████████| 1/1 [00:00<00:00, 21.62it/s]\n",
      "Epoch 1301/1500: 100%|██████████| 1/1 [00:00<00:00, 23.37it/s]\n",
      "Validation: 100%|██████████| 1/1 [00:00<00:00, 29.20it/s]\n"
     ]
    },
    {
     "name": "stdout",
     "output_type": "stream",
     "text": [
      "Epoch: 1301, Train Loss: 50.3578, \n",
      "Validation Loss: 80.1888\n"
     ]
    },
    {
     "name": "stderr",
     "output_type": "stream",
     "text": [
      "Epoch 1302/1500: 100%|██████████| 1/1 [00:00<00:00, 23.06it/s]\n",
      "Epoch 1303/1500: 100%|██████████| 1/1 [00:00<00:00, 23.10it/s]\n",
      "Validation: 100%|██████████| 1/1 [00:00<00:00, 29.94it/s]\n"
     ]
    },
    {
     "name": "stdout",
     "output_type": "stream",
     "text": [
      "Epoch: 1303, Train Loss: 144.4227, \n",
      "Validation Loss: 57.2706\n"
     ]
    },
    {
     "name": "stderr",
     "output_type": "stream",
     "text": [
      "Epoch 1304/1500: 100%|██████████| 1/1 [00:00<00:00, 22.71it/s]\n",
      "Epoch 1305/1500: 100%|██████████| 1/1 [00:00<00:00, 23.66it/s]\n",
      "Validation: 100%|██████████| 1/1 [00:00<00:00, 29.77it/s]\n"
     ]
    },
    {
     "name": "stdout",
     "output_type": "stream",
     "text": [
      "Epoch: 1305, Train Loss: 66.8174, \n",
      "Validation Loss: 54.3866\n"
     ]
    },
    {
     "name": "stderr",
     "output_type": "stream",
     "text": [
      "Epoch 1306/1500: 100%|██████████| 1/1 [00:00<00:00, 23.45it/s]\n",
      "Epoch 1307/1500: 100%|██████████| 1/1 [00:00<00:00, 23.19it/s]\n",
      "Validation: 100%|██████████| 1/1 [00:00<00:00, 29.36it/s]\n"
     ]
    },
    {
     "name": "stdout",
     "output_type": "stream",
     "text": [
      "Epoch: 1307, Train Loss: 129.1990, \n",
      "Validation Loss: 70.4484\n"
     ]
    },
    {
     "name": "stderr",
     "output_type": "stream",
     "text": [
      "Epoch 1308/1500: 100%|██████████| 1/1 [00:00<00:00, 21.13it/s]\n",
      "Epoch 1309/1500: 100%|██████████| 1/1 [00:00<00:00, 22.13it/s]\n",
      "Validation: 100%|██████████| 1/1 [00:00<00:00, 28.70it/s]\n"
     ]
    },
    {
     "name": "stdout",
     "output_type": "stream",
     "text": [
      "Epoch: 1309, Train Loss: 48.3404, \n",
      "Validation Loss: 47.2021\n"
     ]
    },
    {
     "name": "stderr",
     "output_type": "stream",
     "text": [
      "Epoch 1310/1500: 100%|██████████| 1/1 [00:00<00:00, 21.35it/s]\n",
      "Epoch 1311/1500: 100%|██████████| 1/1 [00:00<00:00, 22.56it/s]\n",
      "Validation: 100%|██████████| 1/1 [00:00<00:00, 25.38it/s]\n"
     ]
    },
    {
     "name": "stdout",
     "output_type": "stream",
     "text": [
      "Epoch: 1311, Train Loss: 73.4463, \n",
      "Validation Loss: 83.4025\n"
     ]
    },
    {
     "name": "stderr",
     "output_type": "stream",
     "text": [
      "Epoch 1312/1500: 100%|██████████| 1/1 [00:00<00:00, 22.28it/s]\n",
      "Epoch 1313/1500: 100%|██████████| 1/1 [00:00<00:00, 22.43it/s]\n",
      "Validation: 100%|██████████| 1/1 [00:00<00:00, 28.19it/s]\n"
     ]
    },
    {
     "name": "stdout",
     "output_type": "stream",
     "text": [
      "Epoch: 1313, Train Loss: 67.9205, \n",
      "Validation Loss: 56.3009\n"
     ]
    },
    {
     "name": "stderr",
     "output_type": "stream",
     "text": [
      "Epoch 1314/1500: 100%|██████████| 1/1 [00:00<00:00, 22.35it/s]\n",
      "Epoch 1315/1500: 100%|██████████| 1/1 [00:00<00:00, 22.78it/s]\n",
      "Validation: 100%|██████████| 1/1 [00:00<00:00, 28.40it/s]\n"
     ]
    },
    {
     "name": "stdout",
     "output_type": "stream",
     "text": [
      "Epoch: 1315, Train Loss: 99.9863, \n",
      "Validation Loss: 43.2503\n"
     ]
    },
    {
     "name": "stderr",
     "output_type": "stream",
     "text": [
      "Epoch 1316/1500: 100%|██████████| 1/1 [00:00<00:00, 22.51it/s]\n",
      "Epoch 1317/1500: 100%|██████████| 1/1 [00:00<00:00, 23.00it/s]\n",
      "Validation: 100%|██████████| 1/1 [00:00<00:00, 27.57it/s]\n"
     ]
    },
    {
     "name": "stdout",
     "output_type": "stream",
     "text": [
      "Epoch: 1317, Train Loss: 139.9948, \n",
      "Validation Loss: 39.5219\n"
     ]
    },
    {
     "name": "stderr",
     "output_type": "stream",
     "text": [
      "Epoch 1318/1500: 100%|██████████| 1/1 [00:00<00:00, 22.91it/s]\n",
      "Epoch 1319/1500: 100%|██████████| 1/1 [00:00<00:00, 23.03it/s]\n",
      "Validation: 100%|██████████| 1/1 [00:00<00:00, 28.85it/s]\n"
     ]
    },
    {
     "name": "stdout",
     "output_type": "stream",
     "text": [
      "Epoch: 1319, Train Loss: 124.2272, \n",
      "Validation Loss: 43.5137\n"
     ]
    },
    {
     "name": "stderr",
     "output_type": "stream",
     "text": [
      "Epoch 1320/1500: 100%|██████████| 1/1 [00:00<00:00, 21.89it/s]\n",
      "Epoch 1321/1500: 100%|██████████| 1/1 [00:00<00:00, 23.10it/s]\n",
      "Validation: 100%|██████████| 1/1 [00:00<00:00, 29.17it/s]\n"
     ]
    },
    {
     "name": "stdout",
     "output_type": "stream",
     "text": [
      "Epoch: 1321, Train Loss: 67.8442, \n",
      "Validation Loss: 78.1309\n"
     ]
    },
    {
     "name": "stderr",
     "output_type": "stream",
     "text": [
      "Epoch 1322/1500: 100%|██████████| 1/1 [00:00<00:00, 22.19it/s]\n",
      "Epoch 1323/1500: 100%|██████████| 1/1 [00:00<00:00, 23.04it/s]\n",
      "Validation: 100%|██████████| 1/1 [00:00<00:00, 29.54it/s]\n"
     ]
    },
    {
     "name": "stdout",
     "output_type": "stream",
     "text": [
      "Epoch: 1323, Train Loss: 98.2619, \n",
      "Validation Loss: 71.4386\n"
     ]
    },
    {
     "name": "stderr",
     "output_type": "stream",
     "text": [
      "Epoch 1324/1500: 100%|██████████| 1/1 [00:00<00:00, 23.75it/s]\n",
      "Epoch 1325/1500: 100%|██████████| 1/1 [00:00<00:00, 23.21it/s]\n",
      "Validation: 100%|██████████| 1/1 [00:00<00:00, 27.89it/s]\n"
     ]
    },
    {
     "name": "stdout",
     "output_type": "stream",
     "text": [
      "Epoch: 1325, Train Loss: 111.6338, \n",
      "Validation Loss: 62.8090\n"
     ]
    },
    {
     "name": "stderr",
     "output_type": "stream",
     "text": [
      "Epoch 1326/1500: 100%|██████████| 1/1 [00:00<00:00, 22.59it/s]\n",
      "Epoch 1327/1500: 100%|██████████| 1/1 [00:00<00:00, 23.13it/s]\n",
      "Validation: 100%|██████████| 1/1 [00:00<00:00, 29.70it/s]\n"
     ]
    },
    {
     "name": "stdout",
     "output_type": "stream",
     "text": [
      "Epoch: 1327, Train Loss: 83.8725, \n",
      "Validation Loss: 71.4630\n"
     ]
    },
    {
     "name": "stderr",
     "output_type": "stream",
     "text": [
      "Epoch 1328/1500: 100%|██████████| 1/1 [00:00<00:00, 22.33it/s]\n",
      "Epoch 1329/1500: 100%|██████████| 1/1 [00:00<00:00, 22.80it/s]\n",
      "Validation: 100%|██████████| 1/1 [00:00<00:00, 29.27it/s]\n"
     ]
    },
    {
     "name": "stdout",
     "output_type": "stream",
     "text": [
      "Epoch: 1329, Train Loss: 73.7644, \n",
      "Validation Loss: 67.7070\n"
     ]
    },
    {
     "name": "stderr",
     "output_type": "stream",
     "text": [
      "Epoch 1330/1500: 100%|██████████| 1/1 [00:00<00:00, 23.20it/s]\n",
      "Epoch 1331/1500: 100%|██████████| 1/1 [00:00<00:00, 23.13it/s]\n",
      "Validation: 100%|██████████| 1/1 [00:00<00:00, 27.25it/s]\n"
     ]
    },
    {
     "name": "stdout",
     "output_type": "stream",
     "text": [
      "Epoch: 1331, Train Loss: 64.0187, \n",
      "Validation Loss: 109.4445\n"
     ]
    },
    {
     "name": "stderr",
     "output_type": "stream",
     "text": [
      "Epoch 1332/1500: 100%|██████████| 1/1 [00:00<00:00, 21.82it/s]\n",
      "Epoch 1333/1500: 100%|██████████| 1/1 [00:00<00:00, 23.89it/s]\n",
      "Validation: 100%|██████████| 1/1 [00:00<00:00, 28.46it/s]\n"
     ]
    },
    {
     "name": "stdout",
     "output_type": "stream",
     "text": [
      "Epoch: 1333, Train Loss: 109.9107, \n",
      "Validation Loss: 66.7572\n"
     ]
    },
    {
     "name": "stderr",
     "output_type": "stream",
     "text": [
      "Epoch 1334/1500: 100%|██████████| 1/1 [00:00<00:00, 22.80it/s]\n",
      "Epoch 1335/1500: 100%|██████████| 1/1 [00:00<00:00, 22.30it/s]\n",
      "Validation: 100%|██████████| 1/1 [00:00<00:00, 27.25it/s]\n"
     ]
    },
    {
     "name": "stdout",
     "output_type": "stream",
     "text": [
      "Epoch: 1335, Train Loss: 137.3488, \n",
      "Validation Loss: 69.6351\n"
     ]
    },
    {
     "name": "stderr",
     "output_type": "stream",
     "text": [
      "Epoch 1336/1500: 100%|██████████| 1/1 [00:00<00:00, 22.17it/s]\n",
      "Epoch 1337/1500: 100%|██████████| 1/1 [00:00<00:00, 22.21it/s]\n",
      "Validation: 100%|██████████| 1/1 [00:00<00:00, 28.56it/s]\n"
     ]
    },
    {
     "name": "stdout",
     "output_type": "stream",
     "text": [
      "Epoch: 1337, Train Loss: 224.1012, \n",
      "Validation Loss: 168.1388\n"
     ]
    },
    {
     "name": "stderr",
     "output_type": "stream",
     "text": [
      "Epoch 1338/1500: 100%|██████████| 1/1 [00:00<00:00, 22.56it/s]\n",
      "Epoch 1339/1500: 100%|██████████| 1/1 [00:00<00:00, 22.67it/s]\n",
      "Validation: 100%|██████████| 1/1 [00:00<00:00, 28.45it/s]\n"
     ]
    },
    {
     "name": "stdout",
     "output_type": "stream",
     "text": [
      "Epoch: 1339, Train Loss: 132.8952, \n",
      "Validation Loss: 58.5085\n"
     ]
    },
    {
     "name": "stderr",
     "output_type": "stream",
     "text": [
      "Epoch 1340/1500: 100%|██████████| 1/1 [00:00<00:00, 22.45it/s]\n",
      "Epoch 1341/1500: 100%|██████████| 1/1 [00:00<00:00, 22.59it/s]\n",
      "Validation: 100%|██████████| 1/1 [00:00<00:00, 27.92it/s]\n"
     ]
    },
    {
     "name": "stdout",
     "output_type": "stream",
     "text": [
      "Epoch: 1341, Train Loss: 108.1617, \n",
      "Validation Loss: 106.8007\n"
     ]
    },
    {
     "name": "stderr",
     "output_type": "stream",
     "text": [
      "Epoch 1342/1500: 100%|██████████| 1/1 [00:00<00:00, 22.93it/s]\n",
      "Epoch 1343/1500: 100%|██████████| 1/1 [00:00<00:00, 22.22it/s]\n",
      "Validation: 100%|██████████| 1/1 [00:00<00:00, 28.43it/s]\n"
     ]
    },
    {
     "name": "stdout",
     "output_type": "stream",
     "text": [
      "Epoch: 1343, Train Loss: 173.7830, \n",
      "Validation Loss: 90.3234\n"
     ]
    },
    {
     "name": "stderr",
     "output_type": "stream",
     "text": [
      "Epoch 1344/1500: 100%|██████████| 1/1 [00:00<00:00, 22.11it/s]\n",
      "Epoch 1345/1500: 100%|██████████| 1/1 [00:00<00:00, 22.55it/s]\n",
      "Validation: 100%|██████████| 1/1 [00:00<00:00, 27.86it/s]\n"
     ]
    },
    {
     "name": "stdout",
     "output_type": "stream",
     "text": [
      "Epoch: 1345, Train Loss: 128.8326, \n",
      "Validation Loss: 64.2542\n"
     ]
    },
    {
     "name": "stderr",
     "output_type": "stream",
     "text": [
      "Epoch 1346/1500: 100%|██████████| 1/1 [00:00<00:00, 22.21it/s]\n",
      "Epoch 1347/1500: 100%|██████████| 1/1 [00:00<00:00, 21.82it/s]\n",
      "Validation: 100%|██████████| 1/1 [00:00<00:00, 28.81it/s]\n"
     ]
    },
    {
     "name": "stdout",
     "output_type": "stream",
     "text": [
      "Epoch: 1347, Train Loss: 117.2279, \n",
      "Validation Loss: 69.2456\n"
     ]
    },
    {
     "name": "stderr",
     "output_type": "stream",
     "text": [
      "Epoch 1348/1500: 100%|██████████| 1/1 [00:00<00:00, 21.23it/s]\n",
      "Epoch 1349/1500: 100%|██████████| 1/1 [00:00<00:00, 22.55it/s]\n",
      "Validation: 100%|██████████| 1/1 [00:00<00:00, 28.52it/s]\n"
     ]
    },
    {
     "name": "stdout",
     "output_type": "stream",
     "text": [
      "Epoch: 1349, Train Loss: 114.1654, \n",
      "Validation Loss: 65.1544\n"
     ]
    },
    {
     "name": "stderr",
     "output_type": "stream",
     "text": [
      "Epoch 1350/1500: 100%|██████████| 1/1 [00:00<00:00, 22.79it/s]\n",
      "Epoch 1351/1500: 100%|██████████| 1/1 [00:00<00:00, 22.84it/s]\n",
      "Validation: 100%|██████████| 1/1 [00:00<00:00, 28.14it/s]\n"
     ]
    },
    {
     "name": "stdout",
     "output_type": "stream",
     "text": [
      "Epoch: 1351, Train Loss: 88.1648, \n",
      "Validation Loss: 44.3854\n"
     ]
    },
    {
     "name": "stderr",
     "output_type": "stream",
     "text": [
      "Epoch 1352/1500: 100%|██████████| 1/1 [00:00<00:00, 22.35it/s]\n",
      "Epoch 1353/1500: 100%|██████████| 1/1 [00:00<00:00, 22.74it/s]\n",
      "Validation: 100%|██████████| 1/1 [00:00<00:00, 28.39it/s]\n"
     ]
    },
    {
     "name": "stdout",
     "output_type": "stream",
     "text": [
      "Epoch: 1353, Train Loss: 72.0697, \n",
      "Validation Loss: 98.2905\n"
     ]
    },
    {
     "name": "stderr",
     "output_type": "stream",
     "text": [
      "Epoch 1354/1500: 100%|██████████| 1/1 [00:00<00:00, 21.21it/s]\n",
      "Epoch 1355/1500: 100%|██████████| 1/1 [00:00<00:00, 21.86it/s]\n",
      "Validation: 100%|██████████| 1/1 [00:00<00:00, 28.01it/s]\n"
     ]
    },
    {
     "name": "stdout",
     "output_type": "stream",
     "text": [
      "Epoch: 1355, Train Loss: 109.1769, \n",
      "Validation Loss: 84.6402\n"
     ]
    },
    {
     "name": "stderr",
     "output_type": "stream",
     "text": [
      "Epoch 1356/1500: 100%|██████████| 1/1 [00:00<00:00, 21.41it/s]\n",
      "Epoch 1357/1500: 100%|██████████| 1/1 [00:00<00:00, 23.36it/s]\n",
      "Validation: 100%|██████████| 1/1 [00:00<00:00, 28.28it/s]\n"
     ]
    },
    {
     "name": "stdout",
     "output_type": "stream",
     "text": [
      "Epoch: 1357, Train Loss: 93.3956, \n",
      "Validation Loss: 54.8556\n"
     ]
    },
    {
     "name": "stderr",
     "output_type": "stream",
     "text": [
      "Epoch 1358/1500: 100%|██████████| 1/1 [00:00<00:00, 22.14it/s]\n",
      "Epoch 1359/1500: 100%|██████████| 1/1 [00:00<00:00, 22.49it/s]\n",
      "Validation: 100%|██████████| 1/1 [00:00<00:00, 27.71it/s]\n"
     ]
    },
    {
     "name": "stdout",
     "output_type": "stream",
     "text": [
      "Epoch: 1359, Train Loss: 60.5947, \n",
      "Validation Loss: 56.1514\n"
     ]
    },
    {
     "name": "stderr",
     "output_type": "stream",
     "text": [
      "Epoch 1360/1500: 100%|██████████| 1/1 [00:00<00:00, 22.53it/s]\n",
      "Epoch 1361/1500: 100%|██████████| 1/1 [00:00<00:00, 22.41it/s]\n",
      "Validation: 100%|██████████| 1/1 [00:00<00:00, 28.16it/s]\n"
     ]
    },
    {
     "name": "stdout",
     "output_type": "stream",
     "text": [
      "Epoch: 1361, Train Loss: 91.9913, \n",
      "Validation Loss: 41.7602\n"
     ]
    },
    {
     "name": "stderr",
     "output_type": "stream",
     "text": [
      "Epoch 1362/1500: 100%|██████████| 1/1 [00:00<00:00, 21.34it/s]\n",
      "Epoch 1363/1500: 100%|██████████| 1/1 [00:00<00:00, 22.93it/s]\n",
      "Validation: 100%|██████████| 1/1 [00:00<00:00, 28.77it/s]\n"
     ]
    },
    {
     "name": "stdout",
     "output_type": "stream",
     "text": [
      "Epoch: 1363, Train Loss: 66.7398, \n",
      "Validation Loss: 55.8458\n"
     ]
    },
    {
     "name": "stderr",
     "output_type": "stream",
     "text": [
      "Epoch 1364/1500: 100%|██████████| 1/1 [00:00<00:00, 19.69it/s]\n",
      "Epoch 1365/1500: 100%|██████████| 1/1 [00:00<00:00, 22.28it/s]\n",
      "Validation: 100%|██████████| 1/1 [00:00<00:00, 27.84it/s]\n"
     ]
    },
    {
     "name": "stdout",
     "output_type": "stream",
     "text": [
      "Epoch: 1365, Train Loss: 118.5401, \n",
      "Validation Loss: 39.4983\n"
     ]
    },
    {
     "name": "stderr",
     "output_type": "stream",
     "text": [
      "Epoch 1366/1500: 100%|██████████| 1/1 [00:00<00:00, 22.28it/s]\n",
      "Epoch 1367/1500: 100%|██████████| 1/1 [00:00<00:00, 22.67it/s]\n",
      "Validation: 100%|██████████| 1/1 [00:00<00:00, 28.18it/s]\n"
     ]
    },
    {
     "name": "stdout",
     "output_type": "stream",
     "text": [
      "Epoch: 1367, Train Loss: 38.1594, \n",
      "Validation Loss: 39.5984\n"
     ]
    },
    {
     "name": "stderr",
     "output_type": "stream",
     "text": [
      "Epoch 1368/1500: 100%|██████████| 1/1 [00:00<00:00, 21.74it/s]\n",
      "Epoch 1369/1500: 100%|██████████| 1/1 [00:00<00:00, 22.55it/s]\n",
      "Validation: 100%|██████████| 1/1 [00:00<00:00, 28.06it/s]\n"
     ]
    },
    {
     "name": "stdout",
     "output_type": "stream",
     "text": [
      "Epoch: 1369, Train Loss: 84.8195, \n",
      "Validation Loss: 48.2313\n"
     ]
    },
    {
     "name": "stderr",
     "output_type": "stream",
     "text": [
      "Epoch 1370/1500: 100%|██████████| 1/1 [00:00<00:00, 22.04it/s]\n",
      "Epoch 1371/1500: 100%|██████████| 1/1 [00:00<00:00, 22.38it/s]\n",
      "Validation: 100%|██████████| 1/1 [00:00<00:00, 27.22it/s]\n"
     ]
    },
    {
     "name": "stdout",
     "output_type": "stream",
     "text": [
      "Epoch: 1371, Train Loss: 68.8010, \n",
      "Validation Loss: 36.4357\n"
     ]
    },
    {
     "name": "stderr",
     "output_type": "stream",
     "text": [
      "Epoch 1372/1500: 100%|██████████| 1/1 [00:00<00:00, 23.19it/s]\n",
      "Epoch 1373/1500: 100%|██████████| 1/1 [00:00<00:00, 22.15it/s]\n",
      "Validation: 100%|██████████| 1/1 [00:00<00:00, 27.67it/s]\n"
     ]
    },
    {
     "name": "stdout",
     "output_type": "stream",
     "text": [
      "Epoch: 1373, Train Loss: 45.3638, \n",
      "Validation Loss: 46.1336\n"
     ]
    },
    {
     "name": "stderr",
     "output_type": "stream",
     "text": [
      "Epoch 1374/1500: 100%|██████████| 1/1 [00:00<00:00, 22.48it/s]\n",
      "Epoch 1375/1500: 100%|██████████| 1/1 [00:00<00:00, 23.16it/s]\n",
      "Validation: 100%|██████████| 1/1 [00:00<00:00, 27.77it/s]\n"
     ]
    },
    {
     "name": "stdout",
     "output_type": "stream",
     "text": [
      "Epoch: 1375, Train Loss: 114.0959, \n",
      "Validation Loss: 46.9970\n"
     ]
    },
    {
     "name": "stderr",
     "output_type": "stream",
     "text": [
      "Epoch 1376/1500: 100%|██████████| 1/1 [00:00<00:00, 22.32it/s]\n",
      "Epoch 1377/1500: 100%|██████████| 1/1 [00:00<00:00, 22.81it/s]\n",
      "Validation: 100%|██████████| 1/1 [00:00<00:00, 28.67it/s]\n"
     ]
    },
    {
     "name": "stdout",
     "output_type": "stream",
     "text": [
      "Epoch: 1377, Train Loss: 68.3419, \n",
      "Validation Loss: 43.2312\n"
     ]
    },
    {
     "name": "stderr",
     "output_type": "stream",
     "text": [
      "Epoch 1378/1500: 100%|██████████| 1/1 [00:00<00:00, 22.88it/s]\n",
      "Epoch 1379/1500: 100%|██████████| 1/1 [00:00<00:00, 22.73it/s]\n",
      "Validation: 100%|██████████| 1/1 [00:00<00:00, 28.60it/s]\n"
     ]
    },
    {
     "name": "stdout",
     "output_type": "stream",
     "text": [
      "Epoch: 1379, Train Loss: 73.0463, \n",
      "Validation Loss: 38.3202\n"
     ]
    },
    {
     "name": "stderr",
     "output_type": "stream",
     "text": [
      "Epoch 1380/1500: 100%|██████████| 1/1 [00:00<00:00, 22.47it/s]\n",
      "Epoch 1381/1500: 100%|██████████| 1/1 [00:00<00:00, 22.94it/s]\n",
      "Validation: 100%|██████████| 1/1 [00:00<00:00, 27.67it/s]\n"
     ]
    },
    {
     "name": "stdout",
     "output_type": "stream",
     "text": [
      "Epoch: 1381, Train Loss: 59.4373, \n",
      "Validation Loss: 58.4664\n"
     ]
    },
    {
     "name": "stderr",
     "output_type": "stream",
     "text": [
      "Epoch 1382/1500: 100%|██████████| 1/1 [00:00<00:00, 22.95it/s]\n",
      "Epoch 1383/1500: 100%|██████████| 1/1 [00:00<00:00, 22.12it/s]\n",
      "Validation: 100%|██████████| 1/1 [00:00<00:00, 27.49it/s]\n"
     ]
    },
    {
     "name": "stdout",
     "output_type": "stream",
     "text": [
      "Epoch: 1383, Train Loss: 75.5011, \n",
      "Validation Loss: 80.3117\n"
     ]
    },
    {
     "name": "stderr",
     "output_type": "stream",
     "text": [
      "Epoch 1384/1500: 100%|██████████| 1/1 [00:00<00:00, 22.91it/s]\n",
      "Epoch 1385/1500: 100%|██████████| 1/1 [00:00<00:00, 21.99it/s]\n",
      "Validation: 100%|██████████| 1/1 [00:00<00:00, 29.14it/s]\n"
     ]
    },
    {
     "name": "stdout",
     "output_type": "stream",
     "text": [
      "Epoch: 1385, Train Loss: 85.9680, \n",
      "Validation Loss: 50.6066\n"
     ]
    },
    {
     "name": "stderr",
     "output_type": "stream",
     "text": [
      "Epoch 1386/1500: 100%|██████████| 1/1 [00:00<00:00, 22.10it/s]\n",
      "Epoch 1387/1500: 100%|██████████| 1/1 [00:00<00:00, 20.26it/s]\n",
      "Validation: 100%|██████████| 1/1 [00:00<00:00, 27.54it/s]\n"
     ]
    },
    {
     "name": "stdout",
     "output_type": "stream",
     "text": [
      "Epoch: 1387, Train Loss: 79.0143, \n",
      "Validation Loss: 69.7107\n"
     ]
    },
    {
     "name": "stderr",
     "output_type": "stream",
     "text": [
      "Epoch 1388/1500: 100%|██████████| 1/1 [00:00<00:00, 23.39it/s]\n",
      "Epoch 1389/1500: 100%|██████████| 1/1 [00:00<00:00, 22.22it/s]\n",
      "Validation: 100%|██████████| 1/1 [00:00<00:00, 28.40it/s]\n"
     ]
    },
    {
     "name": "stdout",
     "output_type": "stream",
     "text": [
      "Epoch: 1389, Train Loss: 98.6274, \n",
      "Validation Loss: 30.4927\n"
     ]
    },
    {
     "name": "stderr",
     "output_type": "stream",
     "text": [
      "Epoch 1390/1500: 100%|██████████| 1/1 [00:00<00:00, 22.53it/s]\n",
      "Epoch 1391/1500: 100%|██████████| 1/1 [00:00<00:00, 22.67it/s]\n",
      "Validation: 100%|██████████| 1/1 [00:00<00:00, 28.51it/s]\n"
     ]
    },
    {
     "name": "stdout",
     "output_type": "stream",
     "text": [
      "Epoch: 1391, Train Loss: 65.4143, \n",
      "Validation Loss: 69.8519\n"
     ]
    },
    {
     "name": "stderr",
     "output_type": "stream",
     "text": [
      "Epoch 1392/1500: 100%|██████████| 1/1 [00:00<00:00, 23.02it/s]\n",
      "Epoch 1393/1500: 100%|██████████| 1/1 [00:00<00:00, 23.18it/s]\n",
      "Validation: 100%|██████████| 1/1 [00:00<00:00, 29.04it/s]\n"
     ]
    },
    {
     "name": "stdout",
     "output_type": "stream",
     "text": [
      "Epoch: 1393, Train Loss: 128.5866, \n",
      "Validation Loss: 37.9707\n"
     ]
    },
    {
     "name": "stderr",
     "output_type": "stream",
     "text": [
      "Epoch 1394/1500: 100%|██████████| 1/1 [00:00<00:00, 22.16it/s]\n",
      "Epoch 1395/1500: 100%|██████████| 1/1 [00:00<00:00, 21.11it/s]\n",
      "Validation: 100%|██████████| 1/1 [00:00<00:00, 24.50it/s]\n"
     ]
    },
    {
     "name": "stdout",
     "output_type": "stream",
     "text": [
      "Epoch: 1395, Train Loss: 125.0900, \n",
      "Validation Loss: 53.6525\n"
     ]
    },
    {
     "name": "stderr",
     "output_type": "stream",
     "text": [
      "Epoch 1396/1500: 100%|██████████| 1/1 [00:00<00:00, 21.50it/s]\n",
      "Epoch 1397/1500: 100%|██████████| 1/1 [00:00<00:00, 22.76it/s]\n",
      "Validation: 100%|██████████| 1/1 [00:00<00:00, 28.34it/s]\n"
     ]
    },
    {
     "name": "stdout",
     "output_type": "stream",
     "text": [
      "Epoch: 1397, Train Loss: 108.6489, \n",
      "Validation Loss: 61.1271\n"
     ]
    },
    {
     "name": "stderr",
     "output_type": "stream",
     "text": [
      "Epoch 1398/1500: 100%|██████████| 1/1 [00:00<00:00, 22.48it/s]\n",
      "Epoch 1399/1500: 100%|██████████| 1/1 [00:00<00:00, 22.27it/s]\n",
      "Validation: 100%|██████████| 1/1 [00:00<00:00, 29.40it/s]\n"
     ]
    },
    {
     "name": "stdout",
     "output_type": "stream",
     "text": [
      "Epoch: 1399, Train Loss: 75.6613, \n",
      "Validation Loss: 61.3498\n"
     ]
    },
    {
     "name": "stderr",
     "output_type": "stream",
     "text": [
      "Epoch 1400/1500: 100%|██████████| 1/1 [00:00<00:00, 22.80it/s]\n",
      "Epoch 1401/1500: 100%|██████████| 1/1 [00:00<00:00, 23.03it/s]\n",
      "Validation: 100%|██████████| 1/1 [00:00<00:00, 28.54it/s]\n"
     ]
    },
    {
     "name": "stdout",
     "output_type": "stream",
     "text": [
      "Epoch: 1401, Train Loss: 161.8192, \n",
      "Validation Loss: 67.7385\n"
     ]
    },
    {
     "name": "stderr",
     "output_type": "stream",
     "text": [
      "Epoch 1402/1500: 100%|██████████| 1/1 [00:00<00:00, 21.47it/s]\n",
      "Epoch 1403/1500: 100%|██████████| 1/1 [00:00<00:00, 22.63it/s]\n",
      "Validation: 100%|██████████| 1/1 [00:00<00:00, 28.69it/s]\n"
     ]
    },
    {
     "name": "stdout",
     "output_type": "stream",
     "text": [
      "Epoch: 1403, Train Loss: 47.3311, \n",
      "Validation Loss: 41.2955\n"
     ]
    },
    {
     "name": "stderr",
     "output_type": "stream",
     "text": [
      "Epoch 1404/1500: 100%|██████████| 1/1 [00:00<00:00, 22.17it/s]\n",
      "Epoch 1405/1500: 100%|██████████| 1/1 [00:00<00:00, 22.99it/s]\n",
      "Validation: 100%|██████████| 1/1 [00:00<00:00, 28.90it/s]\n"
     ]
    },
    {
     "name": "stdout",
     "output_type": "stream",
     "text": [
      "Epoch: 1405, Train Loss: 50.0304, \n",
      "Validation Loss: 54.8078\n"
     ]
    },
    {
     "name": "stderr",
     "output_type": "stream",
     "text": [
      "Epoch 1406/1500: 100%|██████████| 1/1 [00:00<00:00, 20.73it/s]\n",
      "Epoch 1407/1500: 100%|██████████| 1/1 [00:00<00:00, 22.61it/s]\n",
      "Validation: 100%|██████████| 1/1 [00:00<00:00, 27.47it/s]\n"
     ]
    },
    {
     "name": "stdout",
     "output_type": "stream",
     "text": [
      "Epoch: 1407, Train Loss: 55.1428, \n",
      "Validation Loss: 50.7305\n"
     ]
    },
    {
     "name": "stderr",
     "output_type": "stream",
     "text": [
      "Epoch 1408/1500: 100%|██████████| 1/1 [00:00<00:00, 21.80it/s]\n",
      "Epoch 1409/1500: 100%|██████████| 1/1 [00:00<00:00, 22.61it/s]\n",
      "Validation: 100%|██████████| 1/1 [00:00<00:00, 26.16it/s]\n"
     ]
    },
    {
     "name": "stdout",
     "output_type": "stream",
     "text": [
      "Epoch: 1409, Train Loss: 82.9726, \n",
      "Validation Loss: 47.8542\n"
     ]
    },
    {
     "name": "stderr",
     "output_type": "stream",
     "text": [
      "Epoch 1410/1500: 100%|██████████| 1/1 [00:00<00:00, 22.04it/s]\n",
      "Epoch 1411/1500: 100%|██████████| 1/1 [00:00<00:00, 23.34it/s]\n",
      "Validation: 100%|██████████| 1/1 [00:00<00:00, 29.35it/s]\n"
     ]
    },
    {
     "name": "stdout",
     "output_type": "stream",
     "text": [
      "Epoch: 1411, Train Loss: 108.3908, \n",
      "Validation Loss: 68.8320\n"
     ]
    },
    {
     "name": "stderr",
     "output_type": "stream",
     "text": [
      "Epoch 1412/1500: 100%|██████████| 1/1 [00:00<00:00, 23.39it/s]\n",
      "Epoch 1413/1500: 100%|██████████| 1/1 [00:00<00:00, 22.21it/s]\n",
      "Validation: 100%|██████████| 1/1 [00:00<00:00, 27.87it/s]\n"
     ]
    },
    {
     "name": "stdout",
     "output_type": "stream",
     "text": [
      "Epoch: 1413, Train Loss: 57.3264, \n",
      "Validation Loss: 30.3177\n"
     ]
    },
    {
     "name": "stderr",
     "output_type": "stream",
     "text": [
      "Epoch 1414/1500: 100%|██████████| 1/1 [00:00<00:00, 22.55it/s]\n",
      "Epoch 1415/1500: 100%|██████████| 1/1 [00:00<00:00, 22.47it/s]\n",
      "Validation: 100%|██████████| 1/1 [00:00<00:00, 29.63it/s]\n"
     ]
    },
    {
     "name": "stdout",
     "output_type": "stream",
     "text": [
      "Epoch: 1415, Train Loss: 134.1915, \n",
      "Validation Loss: 67.6543\n"
     ]
    },
    {
     "name": "stderr",
     "output_type": "stream",
     "text": [
      "Epoch 1416/1500: 100%|██████████| 1/1 [00:00<00:00, 23.12it/s]\n",
      "Epoch 1417/1500: 100%|██████████| 1/1 [00:00<00:00, 23.74it/s]\n",
      "Validation: 100%|██████████| 1/1 [00:00<00:00, 29.39it/s]\n"
     ]
    },
    {
     "name": "stdout",
     "output_type": "stream",
     "text": [
      "Epoch: 1417, Train Loss: 96.0818, \n",
      "Validation Loss: 47.0164\n"
     ]
    },
    {
     "name": "stderr",
     "output_type": "stream",
     "text": [
      "Epoch 1418/1500: 100%|██████████| 1/1 [00:00<00:00, 23.11it/s]\n",
      "Epoch 1419/1500: 100%|██████████| 1/1 [00:00<00:00, 22.85it/s]\n",
      "Validation: 100%|██████████| 1/1 [00:00<00:00, 29.83it/s]\n"
     ]
    },
    {
     "name": "stdout",
     "output_type": "stream",
     "text": [
      "Epoch: 1419, Train Loss: 81.2013, \n",
      "Validation Loss: 60.5457\n"
     ]
    },
    {
     "name": "stderr",
     "output_type": "stream",
     "text": [
      "Epoch 1420/1500: 100%|██████████| 1/1 [00:00<00:00, 22.50it/s]\n",
      "Epoch 1421/1500: 100%|██████████| 1/1 [00:00<00:00, 22.85it/s]\n",
      "Validation: 100%|██████████| 1/1 [00:00<00:00, 27.92it/s]\n"
     ]
    },
    {
     "name": "stdout",
     "output_type": "stream",
     "text": [
      "Epoch: 1421, Train Loss: 116.5525, \n",
      "Validation Loss: 70.1903\n"
     ]
    },
    {
     "name": "stderr",
     "output_type": "stream",
     "text": [
      "Epoch 1422/1500: 100%|██████████| 1/1 [00:00<00:00, 22.47it/s]\n",
      "Epoch 1423/1500: 100%|██████████| 1/1 [00:00<00:00, 22.84it/s]\n",
      "Validation: 100%|██████████| 1/1 [00:00<00:00, 29.12it/s]\n"
     ]
    },
    {
     "name": "stdout",
     "output_type": "stream",
     "text": [
      "Epoch: 1423, Train Loss: 133.0711, \n",
      "Validation Loss: 56.4142\n"
     ]
    },
    {
     "name": "stderr",
     "output_type": "stream",
     "text": [
      "Epoch 1424/1500: 100%|██████████| 1/1 [00:00<00:00, 22.43it/s]\n",
      "Epoch 1425/1500: 100%|██████████| 1/1 [00:00<00:00, 23.88it/s]\n",
      "Validation: 100%|██████████| 1/1 [00:00<00:00, 27.86it/s]\n"
     ]
    },
    {
     "name": "stdout",
     "output_type": "stream",
     "text": [
      "Epoch: 1425, Train Loss: 83.4725, \n",
      "Validation Loss: 48.9660\n"
     ]
    },
    {
     "name": "stderr",
     "output_type": "stream",
     "text": [
      "Epoch 1426/1500: 100%|██████████| 1/1 [00:00<00:00, 23.26it/s]\n",
      "Epoch 1427/1500: 100%|██████████| 1/1 [00:00<00:00, 22.77it/s]\n",
      "Validation: 100%|██████████| 1/1 [00:00<00:00, 28.53it/s]\n"
     ]
    },
    {
     "name": "stdout",
     "output_type": "stream",
     "text": [
      "Epoch: 1427, Train Loss: 142.4501, \n",
      "Validation Loss: 55.8357\n"
     ]
    },
    {
     "name": "stderr",
     "output_type": "stream",
     "text": [
      "Epoch 1428/1500: 100%|██████████| 1/1 [00:00<00:00, 21.60it/s]\n",
      "Epoch 1429/1500: 100%|██████████| 1/1 [00:00<00:00, 21.63it/s]\n",
      "Validation: 100%|██████████| 1/1 [00:00<00:00, 28.12it/s]\n"
     ]
    },
    {
     "name": "stdout",
     "output_type": "stream",
     "text": [
      "Epoch: 1429, Train Loss: 85.3236, \n",
      "Validation Loss: 52.0586\n"
     ]
    },
    {
     "name": "stderr",
     "output_type": "stream",
     "text": [
      "Epoch 1430/1500: 100%|██████████| 1/1 [00:00<00:00, 21.86it/s]\n",
      "Epoch 1431/1500: 100%|██████████| 1/1 [00:00<00:00, 22.49it/s]\n",
      "Validation: 100%|██████████| 1/1 [00:00<00:00, 27.47it/s]\n"
     ]
    },
    {
     "name": "stdout",
     "output_type": "stream",
     "text": [
      "Epoch: 1431, Train Loss: 139.5130, \n",
      "Validation Loss: 51.6550\n"
     ]
    },
    {
     "name": "stderr",
     "output_type": "stream",
     "text": [
      "Epoch 1432/1500: 100%|██████████| 1/1 [00:00<00:00, 23.32it/s]\n",
      "Epoch 1433/1500: 100%|██████████| 1/1 [00:00<00:00, 22.46it/s]\n",
      "Validation: 100%|██████████| 1/1 [00:00<00:00, 26.43it/s]\n"
     ]
    },
    {
     "name": "stdout",
     "output_type": "stream",
     "text": [
      "Epoch: 1433, Train Loss: 101.4164, \n",
      "Validation Loss: 39.7966\n"
     ]
    },
    {
     "name": "stderr",
     "output_type": "stream",
     "text": [
      "Epoch 1434/1500: 100%|██████████| 1/1 [00:00<00:00, 22.05it/s]\n",
      "Epoch 1435/1500: 100%|██████████| 1/1 [00:00<00:00, 23.47it/s]\n",
      "Validation: 100%|██████████| 1/1 [00:00<00:00, 29.79it/s]\n"
     ]
    },
    {
     "name": "stdout",
     "output_type": "stream",
     "text": [
      "Epoch: 1435, Train Loss: 49.7924, \n",
      "Validation Loss: 41.1434\n"
     ]
    },
    {
     "name": "stderr",
     "output_type": "stream",
     "text": [
      "Epoch 1436/1500: 100%|██████████| 1/1 [00:00<00:00, 22.50it/s]\n",
      "Epoch 1437/1500: 100%|██████████| 1/1 [00:00<00:00, 22.09it/s]\n",
      "Validation: 100%|██████████| 1/1 [00:00<00:00, 28.81it/s]\n"
     ]
    },
    {
     "name": "stdout",
     "output_type": "stream",
     "text": [
      "Epoch: 1437, Train Loss: 58.4114, \n",
      "Validation Loss: 38.5083\n"
     ]
    },
    {
     "name": "stderr",
     "output_type": "stream",
     "text": [
      "Epoch 1438/1500: 100%|██████████| 1/1 [00:00<00:00, 21.61it/s]\n",
      "Epoch 1439/1500: 100%|██████████| 1/1 [00:00<00:00, 22.30it/s]\n",
      "Validation: 100%|██████████| 1/1 [00:00<00:00, 28.68it/s]\n"
     ]
    },
    {
     "name": "stdout",
     "output_type": "stream",
     "text": [
      "Epoch: 1439, Train Loss: 97.0627, \n",
      "Validation Loss: 64.6741\n"
     ]
    },
    {
     "name": "stderr",
     "output_type": "stream",
     "text": [
      "Epoch 1440/1500: 100%|██████████| 1/1 [00:00<00:00, 21.34it/s]\n",
      "Epoch 1441/1500: 100%|██████████| 1/1 [00:00<00:00, 20.95it/s]\n",
      "Validation: 100%|██████████| 1/1 [00:00<00:00, 26.76it/s]\n"
     ]
    },
    {
     "name": "stdout",
     "output_type": "stream",
     "text": [
      "Epoch: 1441, Train Loss: 70.0345, \n",
      "Validation Loss: 57.9127\n"
     ]
    },
    {
     "name": "stderr",
     "output_type": "stream",
     "text": [
      "Epoch 1442/1500: 100%|██████████| 1/1 [00:00<00:00, 22.43it/s]\n",
      "Epoch 1443/1500: 100%|██████████| 1/1 [00:00<00:00, 21.80it/s]\n",
      "Validation: 100%|██████████| 1/1 [00:00<00:00, 26.05it/s]\n"
     ]
    },
    {
     "name": "stdout",
     "output_type": "stream",
     "text": [
      "Epoch: 1443, Train Loss: 67.2926, \n",
      "Validation Loss: 48.6790\n"
     ]
    },
    {
     "name": "stderr",
     "output_type": "stream",
     "text": [
      "Epoch 1444/1500: 100%|██████████| 1/1 [00:00<00:00, 21.87it/s]\n",
      "Epoch 1445/1500: 100%|██████████| 1/1 [00:00<00:00, 22.83it/s]\n",
      "Validation: 100%|██████████| 1/1 [00:00<00:00, 27.04it/s]\n"
     ]
    },
    {
     "name": "stdout",
     "output_type": "stream",
     "text": [
      "Epoch: 1445, Train Loss: 78.1728, \n",
      "Validation Loss: 44.0760\n"
     ]
    },
    {
     "name": "stderr",
     "output_type": "stream",
     "text": [
      "Epoch 1446/1500: 100%|██████████| 1/1 [00:00<00:00, 22.14it/s]\n",
      "Epoch 1447/1500: 100%|██████████| 1/1 [00:00<00:00, 21.01it/s]\n",
      "Validation: 100%|██████████| 1/1 [00:00<00:00, 26.91it/s]\n"
     ]
    },
    {
     "name": "stdout",
     "output_type": "stream",
     "text": [
      "Epoch: 1447, Train Loss: 48.0645, \n",
      "Validation Loss: 40.5439\n"
     ]
    },
    {
     "name": "stderr",
     "output_type": "stream",
     "text": [
      "Epoch 1448/1500: 100%|██████████| 1/1 [00:00<00:00, 23.40it/s]\n",
      "Epoch 1449/1500: 100%|██████████| 1/1 [00:00<00:00, 23.25it/s]\n",
      "Validation: 100%|██████████| 1/1 [00:00<00:00, 28.24it/s]\n"
     ]
    },
    {
     "name": "stdout",
     "output_type": "stream",
     "text": [
      "Epoch: 1449, Train Loss: 67.8173, \n",
      "Validation Loss: 38.2842\n"
     ]
    },
    {
     "name": "stderr",
     "output_type": "stream",
     "text": [
      "Epoch 1450/1500: 100%|██████████| 1/1 [00:00<00:00, 23.44it/s]\n",
      "Epoch 1451/1500: 100%|██████████| 1/1 [00:00<00:00, 22.12it/s]\n",
      "Validation: 100%|██████████| 1/1 [00:00<00:00, 28.04it/s]\n"
     ]
    },
    {
     "name": "stdout",
     "output_type": "stream",
     "text": [
      "Epoch: 1451, Train Loss: 51.7901, \n",
      "Validation Loss: 46.1728\n"
     ]
    },
    {
     "name": "stderr",
     "output_type": "stream",
     "text": [
      "Epoch 1452/1500: 100%|██████████| 1/1 [00:00<00:00, 23.48it/s]\n",
      "Epoch 1453/1500: 100%|██████████| 1/1 [00:00<00:00, 21.71it/s]\n",
      "Validation: 100%|██████████| 1/1 [00:00<00:00, 28.67it/s]\n"
     ]
    },
    {
     "name": "stdout",
     "output_type": "stream",
     "text": [
      "Epoch: 1453, Train Loss: 49.5017, \n",
      "Validation Loss: 32.4103\n"
     ]
    },
    {
     "name": "stderr",
     "output_type": "stream",
     "text": [
      "Epoch 1454/1500: 100%|██████████| 1/1 [00:00<00:00, 22.68it/s]\n",
      "Epoch 1455/1500: 100%|██████████| 1/1 [00:00<00:00, 22.77it/s]\n",
      "Validation: 100%|██████████| 1/1 [00:00<00:00, 26.82it/s]\n"
     ]
    },
    {
     "name": "stdout",
     "output_type": "stream",
     "text": [
      "Epoch: 1455, Train Loss: 65.8003, \n",
      "Validation Loss: 35.0189\n"
     ]
    },
    {
     "name": "stderr",
     "output_type": "stream",
     "text": [
      "Epoch 1456/1500: 100%|██████████| 1/1 [00:00<00:00, 22.00it/s]\n",
      "Epoch 1457/1500: 100%|██████████| 1/1 [00:00<00:00, 23.16it/s]\n",
      "Validation: 100%|██████████| 1/1 [00:00<00:00, 28.42it/s]\n"
     ]
    },
    {
     "name": "stdout",
     "output_type": "stream",
     "text": [
      "Epoch: 1457, Train Loss: 75.6685, \n",
      "Validation Loss: 51.6141\n"
     ]
    },
    {
     "name": "stderr",
     "output_type": "stream",
     "text": [
      "Epoch 1458/1500: 100%|██████████| 1/1 [00:00<00:00, 22.79it/s]\n",
      "Epoch 1459/1500: 100%|██████████| 1/1 [00:00<00:00, 23.36it/s]\n",
      "Validation: 100%|██████████| 1/1 [00:00<00:00, 29.11it/s]\n"
     ]
    },
    {
     "name": "stdout",
     "output_type": "stream",
     "text": [
      "Epoch: 1459, Train Loss: 54.1196, \n",
      "Validation Loss: 44.0092\n"
     ]
    },
    {
     "name": "stderr",
     "output_type": "stream",
     "text": [
      "Epoch 1460/1500: 100%|██████████| 1/1 [00:00<00:00, 21.50it/s]\n",
      "Epoch 1461/1500: 100%|██████████| 1/1 [00:00<00:00, 23.67it/s]\n",
      "Validation: 100%|██████████| 1/1 [00:00<00:00, 29.92it/s]\n"
     ]
    },
    {
     "name": "stdout",
     "output_type": "stream",
     "text": [
      "Epoch: 1461, Train Loss: 71.3379, \n",
      "Validation Loss: 30.2521\n"
     ]
    },
    {
     "name": "stderr",
     "output_type": "stream",
     "text": [
      "Epoch 1462/1500: 100%|██████████| 1/1 [00:00<00:00, 22.84it/s]\n",
      "Epoch 1463/1500: 100%|██████████| 1/1 [00:00<00:00, 22.63it/s]\n",
      "Validation: 100%|██████████| 1/1 [00:00<00:00, 28.49it/s]\n"
     ]
    },
    {
     "name": "stdout",
     "output_type": "stream",
     "text": [
      "Epoch: 1463, Train Loss: 75.1709, \n",
      "Validation Loss: 43.6888\n"
     ]
    },
    {
     "name": "stderr",
     "output_type": "stream",
     "text": [
      "Epoch 1464/1500: 100%|██████████| 1/1 [00:00<00:00, 23.10it/s]\n",
      "Epoch 1465/1500: 100%|██████████| 1/1 [00:00<00:00, 23.09it/s]\n",
      "Validation: 100%|██████████| 1/1 [00:00<00:00, 29.66it/s]\n"
     ]
    },
    {
     "name": "stdout",
     "output_type": "stream",
     "text": [
      "Epoch: 1465, Train Loss: 73.6296, \n",
      "Validation Loss: 28.9684\n"
     ]
    },
    {
     "name": "stderr",
     "output_type": "stream",
     "text": [
      "Epoch 1466/1500: 100%|██████████| 1/1 [00:00<00:00, 22.63it/s]\n",
      "Epoch 1467/1500: 100%|██████████| 1/1 [00:00<00:00, 17.17it/s]\n",
      "Validation: 100%|██████████| 1/1 [00:00<00:00, 29.47it/s]\n"
     ]
    },
    {
     "name": "stdout",
     "output_type": "stream",
     "text": [
      "Epoch: 1467, Train Loss: 30.5365, \n",
      "Validation Loss: 48.3453\n"
     ]
    },
    {
     "name": "stderr",
     "output_type": "stream",
     "text": [
      "Epoch 1468/1500: 100%|██████████| 1/1 [00:00<00:00, 23.08it/s]\n",
      "Epoch 1469/1500: 100%|██████████| 1/1 [00:00<00:00, 22.82it/s]\n",
      "Validation: 100%|██████████| 1/1 [00:00<00:00, 29.15it/s]\n"
     ]
    },
    {
     "name": "stdout",
     "output_type": "stream",
     "text": [
      "Epoch: 1469, Train Loss: 74.9703, \n",
      "Validation Loss: 33.8920\n"
     ]
    },
    {
     "name": "stderr",
     "output_type": "stream",
     "text": [
      "Epoch 1470/1500: 100%|██████████| 1/1 [00:00<00:00, 21.15it/s]\n",
      "Epoch 1471/1500: 100%|██████████| 1/1 [00:00<00:00, 22.73it/s]\n",
      "Validation: 100%|██████████| 1/1 [00:00<00:00, 28.17it/s]\n"
     ]
    },
    {
     "name": "stdout",
     "output_type": "stream",
     "text": [
      "Epoch: 1471, Train Loss: 45.6037, \n",
      "Validation Loss: 32.6787\n"
     ]
    },
    {
     "name": "stderr",
     "output_type": "stream",
     "text": [
      "Epoch 1472/1500: 100%|██████████| 1/1 [00:00<00:00, 22.97it/s]\n",
      "Epoch 1473/1500: 100%|██████████| 1/1 [00:00<00:00, 21.79it/s]\n",
      "Validation: 100%|██████████| 1/1 [00:00<00:00, 28.41it/s]\n"
     ]
    },
    {
     "name": "stdout",
     "output_type": "stream",
     "text": [
      "Epoch: 1473, Train Loss: 85.8239, \n",
      "Validation Loss: 36.2710\n"
     ]
    },
    {
     "name": "stderr",
     "output_type": "stream",
     "text": [
      "Epoch 1474/1500: 100%|██████████| 1/1 [00:00<00:00, 21.03it/s]\n",
      "Epoch 1475/1500: 100%|██████████| 1/1 [00:00<00:00, 22.30it/s]\n",
      "Validation: 100%|██████████| 1/1 [00:00<00:00, 28.70it/s]\n"
     ]
    },
    {
     "name": "stdout",
     "output_type": "stream",
     "text": [
      "Epoch: 1475, Train Loss: 56.2734, \n",
      "Validation Loss: 41.1668\n"
     ]
    },
    {
     "name": "stderr",
     "output_type": "stream",
     "text": [
      "Epoch 1476/1500: 100%|██████████| 1/1 [00:00<00:00, 22.93it/s]\n",
      "Epoch 1477/1500: 100%|██████████| 1/1 [00:00<00:00, 22.93it/s]\n",
      "Validation: 100%|██████████| 1/1 [00:00<00:00, 28.44it/s]\n"
     ]
    },
    {
     "name": "stdout",
     "output_type": "stream",
     "text": [
      "Epoch: 1477, Train Loss: 47.1340, \n",
      "Validation Loss: 36.2429\n"
     ]
    },
    {
     "name": "stderr",
     "output_type": "stream",
     "text": [
      "Epoch 1478/1500: 100%|██████████| 1/1 [00:00<00:00, 22.56it/s]\n",
      "Epoch 1479/1500: 100%|██████████| 1/1 [00:00<00:00, 23.03it/s]\n",
      "Validation: 100%|██████████| 1/1 [00:00<00:00, 28.88it/s]\n"
     ]
    },
    {
     "name": "stdout",
     "output_type": "stream",
     "text": [
      "Epoch: 1479, Train Loss: 83.2054, \n",
      "Validation Loss: 38.5996\n"
     ]
    },
    {
     "name": "stderr",
     "output_type": "stream",
     "text": [
      "Epoch 1480/1500: 100%|██████████| 1/1 [00:00<00:00, 23.48it/s]\n",
      "Epoch 1481/1500: 100%|██████████| 1/1 [00:00<00:00, 23.06it/s]\n",
      "Validation: 100%|██████████| 1/1 [00:00<00:00, 28.69it/s]\n"
     ]
    },
    {
     "name": "stdout",
     "output_type": "stream",
     "text": [
      "Epoch: 1481, Train Loss: 84.7080, \n",
      "Validation Loss: 33.6797\n"
     ]
    },
    {
     "name": "stderr",
     "output_type": "stream",
     "text": [
      "Epoch 1482/1500: 100%|██████████| 1/1 [00:00<00:00, 22.70it/s]\n",
      "Epoch 1483/1500: 100%|██████████| 1/1 [00:00<00:00, 22.76it/s]\n",
      "Validation: 100%|██████████| 1/1 [00:00<00:00, 27.95it/s]\n"
     ]
    },
    {
     "name": "stdout",
     "output_type": "stream",
     "text": [
      "Epoch: 1483, Train Loss: 64.3782, \n",
      "Validation Loss: 56.1004\n"
     ]
    },
    {
     "name": "stderr",
     "output_type": "stream",
     "text": [
      "Epoch 1484/1500: 100%|██████████| 1/1 [00:00<00:00, 21.03it/s]\n",
      "Epoch 1485/1500: 100%|██████████| 1/1 [00:00<00:00, 22.64it/s]\n",
      "Validation: 100%|██████████| 1/1 [00:00<00:00, 28.35it/s]\n"
     ]
    },
    {
     "name": "stdout",
     "output_type": "stream",
     "text": [
      "Epoch: 1485, Train Loss: 174.3070, \n",
      "Validation Loss: 43.8832\n"
     ]
    },
    {
     "name": "stderr",
     "output_type": "stream",
     "text": [
      "Epoch 1486/1500: 100%|██████████| 1/1 [00:00<00:00, 23.38it/s]\n",
      "Epoch 1487/1500: 100%|██████████| 1/1 [00:00<00:00, 23.19it/s]\n",
      "Validation: 100%|██████████| 1/1 [00:00<00:00, 27.65it/s]\n"
     ]
    },
    {
     "name": "stdout",
     "output_type": "stream",
     "text": [
      "Epoch: 1487, Train Loss: 59.8823, \n",
      "Validation Loss: 56.6914\n"
     ]
    },
    {
     "name": "stderr",
     "output_type": "stream",
     "text": [
      "Epoch 1488/1500: 100%|██████████| 1/1 [00:00<00:00, 22.14it/s]\n",
      "Epoch 1489/1500: 100%|██████████| 1/1 [00:00<00:00, 21.82it/s]\n",
      "Validation: 100%|██████████| 1/1 [00:00<00:00, 27.99it/s]\n"
     ]
    },
    {
     "name": "stdout",
     "output_type": "stream",
     "text": [
      "Epoch: 1489, Train Loss: 91.5640, \n",
      "Validation Loss: 31.6757\n"
     ]
    },
    {
     "name": "stderr",
     "output_type": "stream",
     "text": [
      "Epoch 1490/1500: 100%|██████████| 1/1 [00:00<00:00, 21.74it/s]\n",
      "Epoch 1491/1500: 100%|██████████| 1/1 [00:00<00:00, 22.73it/s]\n",
      "Validation: 100%|██████████| 1/1 [00:00<00:00, 28.60it/s]\n"
     ]
    },
    {
     "name": "stdout",
     "output_type": "stream",
     "text": [
      "Epoch: 1491, Train Loss: 40.1112, \n",
      "Validation Loss: 55.6104\n"
     ]
    },
    {
     "name": "stderr",
     "output_type": "stream",
     "text": [
      "Epoch 1492/1500: 100%|██████████| 1/1 [00:00<00:00, 22.15it/s]\n",
      "Epoch 1493/1500: 100%|██████████| 1/1 [00:00<00:00, 22.09it/s]\n",
      "Validation: 100%|██████████| 1/1 [00:00<00:00, 28.03it/s]\n"
     ]
    },
    {
     "name": "stdout",
     "output_type": "stream",
     "text": [
      "Epoch: 1493, Train Loss: 67.1202, \n",
      "Validation Loss: 54.7942\n"
     ]
    },
    {
     "name": "stderr",
     "output_type": "stream",
     "text": [
      "Epoch 1494/1500: 100%|██████████| 1/1 [00:00<00:00, 22.48it/s]\n",
      "Epoch 1495/1500: 100%|██████████| 1/1 [00:00<00:00, 22.31it/s]\n",
      "Validation: 100%|██████████| 1/1 [00:00<00:00, 28.48it/s]\n"
     ]
    },
    {
     "name": "stdout",
     "output_type": "stream",
     "text": [
      "Epoch: 1495, Train Loss: 108.2890, \n",
      "Validation Loss: 47.9361\n"
     ]
    },
    {
     "name": "stderr",
     "output_type": "stream",
     "text": [
      "Epoch 1496/1500: 100%|██████████| 1/1 [00:00<00:00, 22.04it/s]\n",
      "Epoch 1497/1500: 100%|██████████| 1/1 [00:00<00:00, 22.77it/s]\n",
      "Validation: 100%|██████████| 1/1 [00:00<00:00, 28.34it/s]\n"
     ]
    },
    {
     "name": "stdout",
     "output_type": "stream",
     "text": [
      "Epoch: 1497, Train Loss: 91.8529, \n",
      "Validation Loss: 38.6730\n"
     ]
    },
    {
     "name": "stderr",
     "output_type": "stream",
     "text": [
      "Epoch 1498/1500: 100%|██████████| 1/1 [00:00<00:00, 22.38it/s]\n",
      "Epoch 1499/1500: 100%|██████████| 1/1 [00:00<00:00, 22.79it/s]\n",
      "Validation: 100%|██████████| 1/1 [00:00<00:00, 28.52it/s]\n"
     ]
    },
    {
     "name": "stdout",
     "output_type": "stream",
     "text": [
      "Epoch: 1499, Train Loss: 50.2825, \n",
      "Validation Loss: 49.9361\n"
     ]
    },
    {
     "name": "stderr",
     "output_type": "stream",
     "text": [
      "Epoch 1500/1500: 100%|██████████| 1/1 [00:00<00:00, 22.33it/s]"
     ]
    },
    {
     "name": "stdout",
     "output_type": "stream",
     "text": [
      "Training completed!\n"
     ]
    },
    {
     "name": "stderr",
     "output_type": "stream",
     "text": [
      "\n"
     ]
    }
   ],
   "source": [
    "# Training\n",
    "epochs = 1500\n",
    "optimizer = optim.AdamW(model.parameters(), lr=1e-4, weight_decay=6e-5)\n",
    "\n",
    "losses = []\n",
    "last_loss = torch.inf\n",
    "avg_train_loss, avg_primal_loss, avg_fixed_point_loss, avg_qp_cost_loss = [], [], [], []\n",
    "avg_val_loss = []\n",
    "\n",
    "for epoch in range(epochs):\n",
    "    \n",
    "    # Train Loop\n",
    "    model.train()\n",
    "    losses_train, primal_losses, fixed_point_losses, qp_cost_losses = [], [], [], []\n",
    "    \n",
    "    for (inp, desired_speed_batched, desired_twisting_speed_batched) in tqdm(train_loader, desc=f\"Epoch {epoch+1}/{epochs}\"):\n",
    "        \n",
    "        desired_speed_batched, rng_desired_speed_batched = sample_uniform_variables(None, var_min= -2, var_max = 2, dataset_size=dataset_size, nvar=2)\n",
    "        desired_twisting_speed_batched, rng_desired_twisting_speed_batched = sample_uniform_variables(None, var_min= -0.5, var_max = 0.5, \n",
    "                                                                                                     dataset_size=dataset_size, nvar=1)\n",
    "        \n",
    "        inp = np.hstack((desired_speed_batched, desired_twisting_speed_batched))\n",
    "\n",
    "        #print(\"desired_speed_batched\", desired_speed_batched)\n",
    "\n",
    "        desired_speed_batched = torch.tensor(desired_speed_batched).float()\n",
    "        desired_twisting_speed_batched = torch.tensor(desired_twisting_speed_batched).float()\n",
    "        inp = torch.tensor(inp).float()\n",
    "\n",
    "        # Input and Output \n",
    "        inp = inp.to(device)\n",
    "        desired_speed_batched = desired_speed_batched.to(device)\n",
    "        desired_twisting_speed_batched = desired_twisting_speed_batched.to(device)\n",
    "        \n",
    "        # Forward pass through quadruped model\n",
    "        xi_projected, avg_res_fixed_point, avg_res_primal, avg_res_qp_cost, res_primal_history, res_fixed_point_history, _ = model(inp, desired_speed_batched, \n",
    "                                                                                                               desired_twisting_speed_batched, rnn)\n",
    "        \n",
    "        \n",
    "        # Compute loss\n",
    "        primal_loss, fixed_point_loss, qp_cost_loss ,loss = model.mlp_loss(\n",
    "            avg_res_primal, avg_res_fixed_point, avg_res_qp_cost)\n",
    "\n",
    "        optimizer.zero_grad()\n",
    "        loss.backward()\n",
    "        \n",
    "        # Optional gradient clipping\n",
    "        #torch.nn.utils.clip_grad_norm_(model.parameters(), max_norm=1.0)\n",
    "        \n",
    "        optimizer.step()\n",
    "        \n",
    "        losses_train.append(loss.detach().cpu().numpy()) \n",
    "        primal_losses.append(primal_loss.detach().cpu().numpy())\n",
    "        fixed_point_losses.append(fixed_point_loss.detach().cpu().numpy())\n",
    "        qp_cost_losses.append(qp_cost_loss.detach().cpu().numpy())\n",
    "        #projection_losses.append(projection_loss.detach().cpu().numpy())\n",
    "        \n",
    "    # Validation every 2 epochs\n",
    "    if epoch % 2 == 0:\n",
    "        model.eval()\n",
    "        val_losses = []\n",
    "\n",
    "        with torch.no_grad():\n",
    "            for (inp_val, desired_speed_batched_val, desired_twisting_speed_batched_val) in tqdm(val_loader, desc=\"Validation\"):\n",
    "\n",
    "                desired_speed_batched_val, rng_desired_speed_batched_val = sample_uniform_variables(None, var_min= -2, var_max = 2, dataset_size=dataset_size, nvar=2)\n",
    "                desired_twisting_speed_batched_val, rng_desired_twisting_speed_batched_val = sample_uniform_variables(None, var_min= -0.5, var_max = 0.5, \n",
    "                                                                                                            dataset_size=dataset_size, nvar=1)\n",
    "                \n",
    "                inp_val = np.hstack((desired_speed_batched_val, desired_twisting_speed_batched_val))\n",
    "\n",
    "                #print(\"desired_speed_batched\", desired_speed_batched)\n",
    "\n",
    "                desired_speed_batched_val = torch.tensor(desired_speed_batched_val).float()\n",
    "                desired_twisting_speed_batched_val = torch.tensor(desired_twisting_speed_batched_val).float()\n",
    "                inp_val = torch.tensor(inp_val).float()\n",
    "                \n",
    "                inp_val = inp_val.to(device)\n",
    "                desired_speed_batched_val = desired_speed_batched_val.to(device)\n",
    "                desired_twisting_speed_batched_val = desired_twisting_speed_batched_val.to(device)\n",
    "\n",
    "                xi_projected, avg_res_fixed_point, avg_res_primal, avg_res_qp_cost, res_primal_history, res_fixed_point_history, _ = model(inp_val, desired_speed_batched_val, \n",
    "                                                                                                                       desired_twisting_speed_batched_val,\n",
    "                                                                                                                       rnn)\n",
    "                \n",
    "                _, _, _, val_loss = model.mlp_loss(\n",
    "                    avg_res_primal, avg_res_fixed_point, avg_res_qp_cost\n",
    "                )\n",
    "\n",
    "                val_losses.append(val_loss.detach().cpu().numpy())\n",
    "\n",
    "    # Print progress every 2 epochs\n",
    "    if epoch % 2 == 0:    \n",
    "        print(\n",
    "            f\"Epoch: {epoch + 1}, Train Loss: {np.average(losses_train):.4f}, \"\n",
    "        )\n",
    "\n",
    "              #f\"Projection Loss: {np.average(projection_losses):.4f}\")\n",
    "        \n",
    "        if len(val_losses) > 0:\n",
    "            print(f\"Validation Loss: {np.average(val_losses):.4f}\")\n",
    "\n",
    "    # Save best model\n",
    "    os.makedirs(\"./training_weights\", exist_ok=True)\n",
    "    if loss <= last_loss:\n",
    "        torch.save(model.state_dict(), f\"./training_weights/mlp_learned_quadruped_{rnn}.pth\")\n",
    "        last_loss = loss\n",
    "\n",
    "    # Store metrics\n",
    "    avg_train_loss.append(np.average(losses_train))\n",
    "    avg_primal_loss.append(np.average(primal_losses))\n",
    "    avg_qp_cost_loss.append(np.average(qp_cost_losses))\n",
    "    avg_fixed_point_loss.append(np.average(fixed_point_losses))\n",
    "    \n",
    "    if len(val_losses) > 0:\n",
    "        avg_val_loss.append(np.average(val_losses))\n",
    "    else:\n",
    "        avg_val_loss.append(avg_val_loss[-1] if avg_val_loss else 0.0)\n",
    "\n",
    "print(\"Training completed!\")\n",
    "\n"
   ]
  },
  {
   "cell_type": "code",
   "execution_count": 58,
   "id": "a92793eb",
   "metadata": {},
   "outputs": [
    {
     "data": {
      "image/png": "[encoded data removed]",
      "text/plain": [
       "<Figure size 1200x600 with 1 Axes>"
      ]
     },
     "metadata": {},
     "output_type": "display_data"
    },
    {
     "data": {
      "image/png": "[encoded data removed]",
      "text/plain": [
       "<Figure size 1200x600 with 1 Axes>"
      ]
     },
     "metadata": {},
     "output_type": "display_data"
    }
   ],
   "source": [
    "# Plot training losses\n",
    "\n",
    "plt.figure(figsize=(12, 6))\n",
    "\n",
    "plt.plot(avg_train_loss, label='Total Loss')\n",
    "plt.plot(avg_primal_loss, label='Primal Loss')\n",
    "plt.plot(avg_fixed_point_loss, label='Fixed-Point Loss')\n",
    "plt.plot(avg_qp_cost_loss, label='QP Cost Loss')\n",
    "\n",
    "\n",
    "plt.title('Training Loss Curves')\n",
    "plt.xlabel('Epoch')\n",
    "plt.ylabel('Loss')\n",
    "plt.legend()\n",
    "plt.grid(True)\n",
    "plt.tight_layout()\n",
    "plt.show()\n",
    "\n",
    "# Plot validation losses\n",
    "plt.figure(figsize=(12, 6))\n",
    "plt.plot(avg_val_loss, label='Validation Loss')\n",
    "\n",
    "plt.title('Validation Loss Curves')\n",
    "plt.xlabel('Epoch')\n",
    "plt.ylabel('Loss')\n",
    "plt.legend()\n",
    "plt.grid(True)\n",
    "plt.tight_layout()\n",
    "plt.show()"
   ]
  },
  {
   "cell_type": "code",
   "execution_count": 59,
   "id": "c9726596",
   "metadata": {},
   "outputs": [
    {
     "name": "stdout",
     "output_type": "stream",
     "text": [
      "Training_loss_start 20622.031\n",
      "Validation_loss_start 8885.369\n",
      "Fixed_Point_loss_start 4.7643847\n",
      "QP_loss_start 25771.504\n",
      "Training_loss_end 64.22509\n",
      "Validation_loss_end 49.936077\n",
      "Fixed_Point_loss_end 2.6528456\n",
      "QP_loss_end 76.96531\n"
     ]
    }
   ],
   "source": [
    "avg_train_loss = np.asarray(avg_train_loss)\n",
    "avg_val_loss = np.asarray(avg_val_loss)\n",
    "avg_fixed_point_loss = np.asarray(avg_fixed_point_loss)\n",
    "avg_qp_cost_loss = np.asarray(avg_qp_cost_loss)\n",
    "\n",
    "print(\"Training_loss_start\", avg_train_loss[0])\n",
    "print(\"Validation_loss_start\", avg_val_loss[0])\n",
    "print(\"Fixed_Point_loss_start\", avg_fixed_point_loss[0])\n",
    "print(\"QP_loss_start\", avg_qp_cost_loss[0])\n",
    "\n",
    "print(\"Training_loss_end\", avg_train_loss[-1])\n",
    "print(\"Validation_loss_end\", avg_val_loss[-1])\n",
    "print(\"Fixed_Point_loss_end\", avg_fixed_point_loss[-1])\n",
    "print(\"QP_loss_end\", avg_qp_cost_loss[-1])"
   ]
  }
 ],
 "metadata": {
  "kernelspec": {
   "display_name": "manipulator_torch_env",
   "language": "python",
   "name": "python3"
  },
  "language_info": {
   "codemirror_mode": {
    "name": "ipython",
    "version": 3
   },
   "file_extension": ".py",
   "mimetype": "text/x-python",
   "name": "python",
   "nbconvert_exporter": "python",
   "pygments_lexer": "ipython3",
   "version": "3.12.3"
  }
 },
 "nbformat": 4,
 "nbformat_minor": 5
}
