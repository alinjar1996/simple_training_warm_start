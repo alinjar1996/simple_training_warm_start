{
 "cells": [
  {
   "cell_type": "code",
   "execution_count": 13,
   "id": "041274ca",
   "metadata": {},
   "outputs": [],
   "source": [
    "# parser = argparse.ArgumentParser(description=\"Choose RNN module: LSTM or GRU\")\n",
    "# parser.add_argument(\"--rnn_module\", type=str, default=\"LSTM\", help=\"Choose RNN module: LSTM or GRU\")\n",
    "# args = parser.parse_args()\n",
    "\n",
    "rnn = \"GRU\""
   ]
  },
  {
   "cell_type": "code",
   "execution_count": 14,
   "id": "b6d44515",
   "metadata": {},
   "outputs": [
    {
     "name": "stdout",
     "output_type": "stream",
     "text": [
      "/home/alinjar/simple_training_warm_start/Quadruped_qp\n",
      "Using cuda device\n"
     ]
    }
   ],
   "source": [
    "import os\n",
    "current_working_directory = os.getcwd()\n",
    "print(current_working_directory)\n",
    "\n",
    "import matplotlib.pyplot as plt\n",
    "import numpy as np \n",
    "import torch \n",
    "import torch.nn as nn \n",
    "import torch.optim as optim\n",
    "\n",
    "from torch.utils.data import Dataset, DataLoader\n",
    "import scipy.io as sio\n",
    "\n",
    "from tqdm import trange, tqdm\n",
    "import argparse\n",
    "\n",
    "# Import the quadruped model components from your second file\n",
    "from mlp_quadruped_rnn import MLP, MLPQuadrupedProjectionFilter, CustomGRULayer, GRU_Hidden_State, CustomLSTMLayer, LSTM_Hidden_State\n",
    "\n",
    "\n",
    "from scipy.spatial.transform import Rotation as R\n",
    "\n",
    "# Device setup\n",
    "device = torch.device(\"cuda\" if torch.cuda.is_available() else \"cpu\")\n",
    "print(f\"Using {device} device\")"
   ]
  },
  {
   "cell_type": "code",
   "execution_count": 15,
   "id": "1f99a83a",
   "metadata": {},
   "outputs": [],
   "source": [
    "class ForceDataset(Dataset):\n",
    "    \"\"\"Expert Trajectory Dataset.\"\"\"\n",
    "    def __init__(self, inp, desired_speed, desired_twisting_speed):\n",
    "        # input\n",
    "        self.inp = inp\n",
    "        self.desired_speed = desired_speed\n",
    "        self.desired_twisting_speed = desired_twisting_speed\n",
    "\n",
    "    def __len__(self):\n",
    "        return len(self.inp)    \n",
    "        \n",
    "    def __getitem__(self, idx):\n",
    "        # Input\n",
    "        inp = self.inp[idx]\n",
    "        desired_speed = self.desired_speed[idx]\n",
    "        desired_twisting_speed = self.desired_twisting_speed\n",
    "        return torch.tensor(inp).float(), torch.tensor(desired_speed).float(), torch.tensor(desired_twisting_speed).float()    \n",
    "\n",
    "\n",
    "def sample_uniform_variables(key, var_min, var_max, dataset_size, nvar):\n",
    "    rng = np.random.default_rng(seed=key)\n",
    "    xi_samples = rng.uniform(\n",
    "        low=var_min,\n",
    "        high=var_max,\n",
    "        size=(dataset_size, nvar)\n",
    "    )\n",
    "    return xi_samples, rng\n"
   ]
  },
  {
   "cell_type": "code",
   "execution_count": 16,
   "id": "ee43f8c6",
   "metadata": {},
   "outputs": [],
   "source": [
    "\n",
    "\n",
    "# Parameters for Quadruped Model\n",
    "num_batch = 1\n",
    "timestep = 0.05  # 50 Hz control frequency\n",
    "horizon = 10     # prediction horizon steps\n",
    "num_legs = 4\n",
    "friction_coeff = 0.2\n",
    "body_mass = 50.0  # kg\n",
    "\n",
    "body_inertia=(1.0, 0.0, 0.0, 0.0, 1.0, 0.0, 0.0, 0.0, 1.0)\n",
    "\n",
    "# Desired motion parameters\n",
    "# desired_speed_x_tensor, rng = sample_uniform_variable(42, -0.5, 0.5, 1, 1)\n",
    "# desired_speed_x = desired_speed_x_tensor.squeeze().item()\n",
    "# print(\"desired_speed_x\", desired_speed_x)\n",
    "desired_body_height = 0.5     # m\n"
   ]
  },
  {
   "cell_type": "code",
   "execution_count": 17,
   "id": "28923a97",
   "metadata": {},
   "outputs": [],
   "source": [
    "##Parameters for MLP model\n",
    "# Default states\n",
    "BaseRollPitchYaw = (0.0, 0.0, 0.0)\n",
    "AngularVelocityBodyFrame = (0.0, 0.0, 0.0)\n",
    "ComVelocityBodyFrame = (0.0, 0.0, 0.0)\n",
    "FootContacts = (True, True, True, True)\n",
    "slope_estimate = (0.0, 0.0, 0.0)\n",
    "RotationBodyWrtWorld = (1.0, 0.0, 0.0, 0.0, 1.0, 0.0, 0.0, 0.0, 1.0)\n",
    "\n",
    "roll, pitch, yaw = BaseRollPitchYaw\n",
    "\n",
    "# Create rotation object from Euler angles (in radians)\n",
    "rot = R.from_euler('xyz', [roll, pitch, yaw])\n",
    "\n",
    "# Convert to rotation matrix\n",
    "rotation_matrix = rot.as_matrix()  # Shape (3, 3)\n",
    "\n",
    "# Flatten into a 9-element tuple (row-major order)\n",
    "RotationBodyWrtWorld = tuple(rotation_matrix.flatten())\n",
    "#self.RotationBodyWrtWorld = (1.0, 0.0, 0.0, 0.0, 1.0, 0.0, 0.0, 0.0, 1.0)\n",
    "\n",
    "\n",
    "\"\"\"Setup foot positions and default states for quadruped\"\"\"\n",
    "# Foot positions in body frame\n",
    "foot_x=0.2\n",
    "foot_y=0.2\n",
    "foot_z=-desired_body_height\n",
    "\n",
    "FootPositionsInBodyFrame = torch.tensor([\n",
    "    [ foot_x,  foot_y, foot_z],\n",
    "    [-foot_x,  foot_y, foot_z],\n",
    "    [ foot_x, -foot_y, foot_z],\n",
    "    [-foot_x, -foot_y, foot_z]])\n",
    "\n",
    "# Define QP matrices for quadruped control (simplified example)\n",
    "# In practice, these would come from your quadruped dynamics model\n",
    "\n",
    "\n",
    "\n",
    "\n",
    "# Maximum Iterations\n",
    "maxiter_projection = 5\n",
    "\n",
    "nvar = 3*num_legs*horizon\n",
    "\n",
    "num_total_constraints = 2*nvar\n"
   ]
  },
  {
   "cell_type": "code",
   "execution_count": 18,
   "id": "aa732956",
   "metadata": {},
   "outputs": [
    {
     "name": "stdout",
     "output_type": "stream",
     "text": [
      "desired_speed_batched.shape (1, 2)\n",
      "desired_twisting_speed_batched.shape (1, 1)\n"
     ]
    }
   ],
   "source": [
    "dataset_size = 1*num_batch\n",
    "desired_speed_batched, rng_desired_speed_batched = sample_uniform_variables(None, var_min= -0.0, var_max = 0.0, dataset_size=dataset_size, nvar=2)\n",
    "desired_twisting_speed_batched,  rng_desired_twisting_speed_batched = sample_uniform_variables(\n",
    "                                                                      42, var_min= -0.0, var_max = 0.0, dataset_size=dataset_size, \n",
    "                                                                      nvar=1)\n",
    "\n",
    "desired_speed_batched_val, rng_desired_speed_batched = sample_uniform_variables(None, var_min= -0.1, var_max = 0.1, dataset_size=dataset_size, nvar=2)\n",
    "desired_twisting_speed_batched_val,  rng_desired_twisting_speed_batched = sample_uniform_variables(\n",
    "                                                                      39, var_min= -0.1, var_max = 0.1, dataset_size=dataset_size,\n",
    "                                                                      nvar=1)\n",
    "\n",
    "print(\"desired_speed_batched.shape\", desired_speed_batched.shape)\n",
    "print(\"desired_twisting_speed_batched.shape\", desired_twisting_speed_batched.shape)\n",
    "\n",
    "inp = np.hstack((desired_speed_batched, desired_twisting_speed_batched))\n",
    "\n",
    "inp_val = np.hstack(( desired_speed_batched_val, desired_twisting_speed_batched_val))\n",
    "\n",
    "# Using PyTorch Dataloader\n",
    "train_dataset = ForceDataset(inp, desired_speed_batched, desired_twisting_speed_batched)\n",
    "val_dataset = ForceDataset(inp_val, desired_speed_batched_val, desired_twisting_speed_batched_val)\n",
    "\n",
    "train_loader = DataLoader(train_dataset, batch_size=num_batch, shuffle=True, num_workers=0, drop_last=True)\n",
    "val_loader = DataLoader(val_dataset, batch_size=num_batch, shuffle=True, num_workers=0, drop_last=True)\n"
   ]
  },
  {
   "cell_type": "code",
   "execution_count": 19,
   "id": "e57d3406",
   "metadata": {},
   "outputs": [
    {
     "name": "stdout",
     "output_type": "stream",
     "text": [
      "Training with GRU\n"
     ]
    }
   ],
   "source": [
    "if rnn == \"GRU\":\n",
    "    print(\"Training with GRU\")\n",
    "    #GRU handling\n",
    "    rnn = \"GRU\"\n",
    "    gru_input_size = 3*num_total_constraints+3*nvar\n",
    "    # print(gru_input_size)\n",
    "    gru_hidden_size = 512\n",
    "    # gru_output_size = (2*nvar)**2+2*nvar\n",
    "    gru_output_size = num_total_constraints+nvar\n",
    "    # gru_context_size = mlp_planner_inp_dim\n",
    "\n",
    "    gru_context = CustomGRULayer(gru_input_size, gru_hidden_size, gru_output_size)\n",
    "\n",
    "    rnn_context = gru_context\n",
    "\n",
    "\n",
    "    input_hidden_state_init = np.shape(inp)[1]\n",
    "    mid_hidden_state_init = 512\n",
    "    out_hidden_state_init = gru_hidden_size\n",
    "\n",
    "    gru_init  =  GRU_Hidden_State(input_hidden_state_init, mid_hidden_state_init, out_hidden_state_init)\n",
    "    \n",
    "    rnn_init = gru_init\n",
    "    ##\n",
    "elif rnn == \"LSTM\":\n",
    "    print(\"Training with LSTM\")\n",
    "    #LSTM handling\n",
    "    rnn = \"LSTM\"\n",
    "    lstm_input_size = 3*num_total_constraints+3*nvar\n",
    "    # print(lstm_input_size)\n",
    "    lstm_hidden_size = 512\n",
    "    # lstm_output_size = (2*nvar)**2+2*nvar\n",
    "    lstm_output_size = num_total_constraints+nvar\n",
    "    # lstm_context_size = mlp_planner_inp_dim\n",
    "\n",
    "    lstm_context = CustomLSTMLayer(lstm_input_size, lstm_hidden_size, lstm_output_size)\n",
    "\n",
    "    rnn_context = lstm_context\n",
    "\n",
    "    input_hidden_state_init = np.shape(inp)[1]\n",
    "    mid_hidden_state_init = 512\n",
    "    out_hidden_state_init = lstm_hidden_size\n",
    "\n",
    "    lstm_init = LSTM_Hidden_State(input_hidden_state_init, mid_hidden_state_init, out_hidden_state_init)\n",
    "\n",
    "    rnn_init = lstm_init\n",
    "\n",
    "    ##\n"
   ]
  },
  {
   "cell_type": "code",
   "execution_count": 20,
   "id": "ca756394",
   "metadata": {},
   "outputs": [],
   "source": [
    "# MLP setup\n",
    "enc_inp_dim = np.shape(inp)[1] \n",
    "mlp_inp_dim = enc_inp_dim\n",
    "hidden_dim = 1024\n",
    "mlp_out_dim = 2*nvar + num_total_constraints  # xi_samples, lambda_samples, slack_variables\n",
    "\n",
    "mlp = MLP(mlp_inp_dim, hidden_dim, mlp_out_dim)\n"
   ]
  },
  {
   "cell_type": "code",
   "execution_count": 21,
   "id": "1a47e937",
   "metadata": {},
   "outputs": [
    {
     "name": "stdout",
     "output_type": "stream",
     "text": [
      "Model type: <class 'mlp_quadruped_rnn.MLPQuadrupedProjectionFilter'>\n",
      "Number of parameters: 4869192\n"
     ]
    }
   ],
   "source": [
    "\n",
    "# Create the quadruped model\n",
    "model = MLPQuadrupedProjectionFilter(\n",
    "    mlp=mlp,\n",
    "    rnn_context=rnn_context, \n",
    "    rnn_init=rnn_init, \n",
    "    num_batch=num_batch,\n",
    "    maxiter_projection=maxiter_projection,\n",
    "    BaseRollPitchYaw=BaseRollPitchYaw,\n",
    "    AngularVelocityBodyFrame=AngularVelocityBodyFrame,\n",
    "    ComVelocityBodyFrame=ComVelocityBodyFrame,\n",
    "    FootPositionsInBodyFrame=FootPositionsInBodyFrame,\n",
    "    FootContacts=FootContacts,\n",
    "    slope_estimate=slope_estimate,\n",
    "    RotationBodyWrtWorld=RotationBodyWrtWorld, \n",
    "    desired_body_height=desired_body_height,\n",
    "    body_mass=body_mass,\n",
    "    body_inertia=body_inertia,\n",
    "    num_legs=num_legs,\n",
    "    friction_coeff=friction_coeff,\n",
    "    timestep=timestep,\n",
    "    horizon=horizon,\n",
    "    rnn=rnn).to(device)\n",
    "\n",
    "print(f\"Model type: {type(model)}\")\n",
    "print(f\"Number of parameters: {sum(p.numel() for p in model.parameters())}\")\n"
   ]
  },
  {
   "cell_type": "code",
   "execution_count": 22,
   "id": "7a01e5b9",
   "metadata": {},
   "outputs": [
    {
     "name": "stderr",
     "output_type": "stream",
     "text": [
      "Epoch 1/3000: 100%|██████████| 1/1 [00:00<00:00, 34.01it/s]\n",
      "Validation: 100%|██████████| 1/1 [00:00<00:00, 47.78it/s]\n"
     ]
    },
    {
     "name": "stdout",
     "output_type": "stream",
     "text": [
      "Epoch: 1, Train Loss: 5459.3232, \n",
      "Validation Loss: 2245.4583\n"
     ]
    },
    {
     "name": "stderr",
     "output_type": "stream",
     "text": [
      "Epoch 2/3000: 100%|██████████| 1/1 [00:00<00:00, 34.38it/s]\n",
      "Epoch 3/3000: 100%|██████████| 1/1 [00:00<00:00, 33.57it/s]\n",
      "Validation: 100%|██████████| 1/1 [00:00<00:00, 47.08it/s]"
     ]
    },
    {
     "name": "stdout",
     "output_type": "stream",
     "text": [
      "Epoch: 3, Train Loss: 2643.6042, \n",
      "Validation Loss: 2102.2700\n"
     ]
    },
    {
     "name": "stderr",
     "output_type": "stream",
     "text": [
      "\n",
      "Epoch 4/3000: 100%|██████████| 1/1 [00:00<00:00, 37.97it/s]\n",
      "Epoch 5/3000: 100%|██████████| 1/1 [00:00<00:00, 37.06it/s]\n",
      "Validation: 100%|██████████| 1/1 [00:00<00:00, 47.97it/s]\n"
     ]
    },
    {
     "name": "stdout",
     "output_type": "stream",
     "text": [
      "Epoch: 5, Train Loss: 3668.6152, \n",
      "Validation Loss: 1826.1604\n"
     ]
    },
    {
     "name": "stderr",
     "output_type": "stream",
     "text": [
      "Epoch 6/3000: 100%|██████████| 1/1 [00:00<00:00, 38.89it/s]\n",
      "Epoch 7/3000: 100%|██████████| 1/1 [00:00<00:00, 38.01it/s]\n",
      "Validation: 100%|██████████| 1/1 [00:00<00:00, 51.94it/s]\n"
     ]
    },
    {
     "name": "stdout",
     "output_type": "stream",
     "text": [
      "Epoch: 7, Train Loss: 2103.4900, \n",
      "Validation Loss: 1119.7257\n"
     ]
    },
    {
     "name": "stderr",
     "output_type": "stream",
     "text": [
      "Epoch 8/3000: 100%|██████████| 1/1 [00:00<00:00, 36.86it/s]\n",
      "Epoch 9/3000: 100%|██████████| 1/1 [00:00<00:00, 37.41it/s]\n",
      "Validation: 100%|██████████| 1/1 [00:00<00:00, 51.38it/s]\n"
     ]
    },
    {
     "name": "stdout",
     "output_type": "stream",
     "text": [
      "Epoch: 9, Train Loss: 2180.0256, \n",
      "Validation Loss: 961.0944\n"
     ]
    },
    {
     "name": "stderr",
     "output_type": "stream",
     "text": [
      "Epoch 10/3000: 100%|██████████| 1/1 [00:00<00:00, 38.21it/s]\n",
      "Epoch 11/3000: 100%|██████████| 1/1 [00:00<00:00, 33.55it/s]\n",
      "Validation: 100%|██████████| 1/1 [00:00<00:00, 50.14it/s]\n"
     ]
    },
    {
     "name": "stdout",
     "output_type": "stream",
     "text": [
      "Epoch: 11, Train Loss: 1813.8091, \n",
      "Validation Loss: 881.4308\n"
     ]
    },
    {
     "name": "stderr",
     "output_type": "stream",
     "text": [
      "Epoch 12/3000: 100%|██████████| 1/1 [00:00<00:00, 41.44it/s]\n",
      "Epoch 13/3000: 100%|██████████| 1/1 [00:00<00:00, 38.28it/s]\n",
      "Validation: 100%|██████████| 1/1 [00:00<00:00, 49.46it/s]\n"
     ]
    },
    {
     "name": "stdout",
     "output_type": "stream",
     "text": [
      "Epoch: 13, Train Loss: 1855.2965, \n",
      "Validation Loss: 812.9836\n"
     ]
    },
    {
     "name": "stderr",
     "output_type": "stream",
     "text": [
      "Epoch 14/3000: 100%|██████████| 1/1 [00:00<00:00, 40.35it/s]\n",
      "Epoch 15/3000: 100%|██████████| 1/1 [00:00<00:00, 37.69it/s]\n",
      "Validation: 100%|██████████| 1/1 [00:00<00:00, 53.50it/s]\n"
     ]
    },
    {
     "name": "stdout",
     "output_type": "stream",
     "text": [
      "Epoch: 15, Train Loss: 1528.2008, \n",
      "Validation Loss: 639.3597\n"
     ]
    },
    {
     "name": "stderr",
     "output_type": "stream",
     "text": [
      "Epoch 16/3000: 100%|██████████| 1/1 [00:00<00:00, 39.25it/s]\n",
      "Epoch 17/3000: 100%|██████████| 1/1 [00:00<00:00, 38.06it/s]\n",
      "Validation: 100%|██████████| 1/1 [00:00<00:00, 54.73it/s]\n"
     ]
    },
    {
     "name": "stdout",
     "output_type": "stream",
     "text": [
      "Epoch: 17, Train Loss: 1198.0281, \n",
      "Validation Loss: 750.1196\n"
     ]
    },
    {
     "name": "stderr",
     "output_type": "stream",
     "text": [
      "Epoch 18/3000: 100%|██████████| 1/1 [00:00<00:00, 38.97it/s]\n",
      "Epoch 19/3000: 100%|██████████| 1/1 [00:00<00:00, 36.59it/s]\n",
      "Validation: 100%|██████████| 1/1 [00:00<00:00, 54.76it/s]\n"
     ]
    },
    {
     "name": "stdout",
     "output_type": "stream",
     "text": [
      "Epoch: 19, Train Loss: 1679.6132, \n",
      "Validation Loss: 720.7338\n"
     ]
    },
    {
     "name": "stderr",
     "output_type": "stream",
     "text": [
      "Epoch 20/3000: 100%|██████████| 1/1 [00:00<00:00, 36.64it/s]\n",
      "Epoch 21/3000: 100%|██████████| 1/1 [00:00<00:00, 38.46it/s]\n",
      "Validation: 100%|██████████| 1/1 [00:00<00:00, 48.97it/s]\n"
     ]
    },
    {
     "name": "stdout",
     "output_type": "stream",
     "text": [
      "Epoch: 21, Train Loss: 1287.7955, \n",
      "Validation Loss: 551.8197\n"
     ]
    },
    {
     "name": "stderr",
     "output_type": "stream",
     "text": [
      "Epoch 22/3000: 100%|██████████| 1/1 [00:00<00:00, 39.55it/s]\n",
      "Epoch 23/3000: 100%|██████████| 1/1 [00:00<00:00, 40.78it/s]\n",
      "Validation: 100%|██████████| 1/1 [00:00<00:00, 50.60it/s]\n"
     ]
    },
    {
     "name": "stdout",
     "output_type": "stream",
     "text": [
      "Epoch: 23, Train Loss: 1165.1777, \n",
      "Validation Loss: 538.1642\n"
     ]
    },
    {
     "name": "stderr",
     "output_type": "stream",
     "text": [
      "Epoch 24/3000: 100%|██████████| 1/1 [00:00<00:00, 40.19it/s]\n",
      "Epoch 25/3000: 100%|██████████| 1/1 [00:00<00:00, 39.30it/s]\n",
      "Validation: 100%|██████████| 1/1 [00:00<00:00, 50.61it/s]\n"
     ]
    },
    {
     "name": "stdout",
     "output_type": "stream",
     "text": [
      "Epoch: 25, Train Loss: 782.8400, \n",
      "Validation Loss: 578.4838\n"
     ]
    },
    {
     "name": "stderr",
     "output_type": "stream",
     "text": [
      "Epoch 26/3000: 100%|██████████| 1/1 [00:00<00:00, 36.22it/s]\n",
      "Epoch 27/3000: 100%|██████████| 1/1 [00:00<00:00, 37.33it/s]\n",
      "Validation: 100%|██████████| 1/1 [00:00<00:00, 51.72it/s]\n"
     ]
    },
    {
     "name": "stdout",
     "output_type": "stream",
     "text": [
      "Epoch: 27, Train Loss: 1166.8545, \n",
      "Validation Loss: 616.4482\n"
     ]
    },
    {
     "name": "stderr",
     "output_type": "stream",
     "text": [
      "Epoch 28/3000: 100%|██████████| 1/1 [00:00<00:00, 42.98it/s]\n",
      "Epoch 29/3000: 100%|██████████| 1/1 [00:00<00:00, 40.16it/s]\n",
      "Validation: 100%|██████████| 1/1 [00:00<00:00, 47.88it/s]\n"
     ]
    },
    {
     "name": "stdout",
     "output_type": "stream",
     "text": [
      "Epoch: 29, Train Loss: 939.2504, \n",
      "Validation Loss: 520.8351\n"
     ]
    },
    {
     "name": "stderr",
     "output_type": "stream",
     "text": [
      "Epoch 30/3000: 100%|██████████| 1/1 [00:00<00:00, 38.77it/s]\n",
      "Epoch 31/3000: 100%|██████████| 1/1 [00:00<00:00, 40.82it/s]\n",
      "Validation: 100%|██████████| 1/1 [00:00<00:00, 50.58it/s]\n"
     ]
    },
    {
     "name": "stdout",
     "output_type": "stream",
     "text": [
      "Epoch: 31, Train Loss: 1038.6487, \n",
      "Validation Loss: 486.3979\n"
     ]
    },
    {
     "name": "stderr",
     "output_type": "stream",
     "text": [
      "Epoch 32/3000: 100%|██████████| 1/1 [00:00<00:00, 33.09it/s]\n",
      "Epoch 33/3000: 100%|██████████| 1/1 [00:00<00:00, 32.36it/s]\n",
      "Validation: 100%|██████████| 1/1 [00:00<00:00, 53.08it/s]\n"
     ]
    },
    {
     "name": "stdout",
     "output_type": "stream",
     "text": [
      "Epoch: 33, Train Loss: 1531.3881, \n",
      "Validation Loss: 502.7535\n"
     ]
    },
    {
     "name": "stderr",
     "output_type": "stream",
     "text": [
      "Epoch 34/3000: 100%|██████████| 1/1 [00:00<00:00, 31.63it/s]\n",
      "Epoch 35/3000: 100%|██████████| 1/1 [00:00<00:00, 39.57it/s]\n",
      "Validation: 100%|██████████| 1/1 [00:00<00:00, 48.36it/s]\n"
     ]
    },
    {
     "name": "stdout",
     "output_type": "stream",
     "text": [
      "Epoch: 35, Train Loss: 774.6836, \n",
      "Validation Loss: 413.5937\n"
     ]
    },
    {
     "name": "stderr",
     "output_type": "stream",
     "text": [
      "Epoch 36/3000: 100%|██████████| 1/1 [00:00<00:00, 37.29it/s]\n",
      "Epoch 37/3000: 100%|██████████| 1/1 [00:00<00:00, 35.39it/s]\n",
      "Validation: 100%|██████████| 1/1 [00:00<00:00, 55.05it/s]\n"
     ]
    },
    {
     "name": "stdout",
     "output_type": "stream",
     "text": [
      "Epoch: 37, Train Loss: 923.5542, \n",
      "Validation Loss: 377.5341\n"
     ]
    },
    {
     "name": "stderr",
     "output_type": "stream",
     "text": [
      "Epoch 38/3000: 100%|██████████| 1/1 [00:00<00:00, 39.47it/s]\n",
      "Epoch 39/3000: 100%|██████████| 1/1 [00:00<00:00, 39.31it/s]\n",
      "Validation: 100%|██████████| 1/1 [00:00<00:00, 47.95it/s]\n"
     ]
    },
    {
     "name": "stdout",
     "output_type": "stream",
     "text": [
      "Epoch: 39, Train Loss: 1501.2733, \n",
      "Validation Loss: 339.5046\n"
     ]
    },
    {
     "name": "stderr",
     "output_type": "stream",
     "text": [
      "Epoch 40/3000: 100%|██████████| 1/1 [00:00<00:00, 39.75it/s]\n",
      "Epoch 41/3000: 100%|██████████| 1/1 [00:00<00:00, 38.70it/s]\n",
      "Validation: 100%|██████████| 1/1 [00:00<00:00, 50.76it/s]\n"
     ]
    },
    {
     "name": "stdout",
     "output_type": "stream",
     "text": [
      "Epoch: 41, Train Loss: 715.4791, \n",
      "Validation Loss: 327.0769\n"
     ]
    },
    {
     "name": "stderr",
     "output_type": "stream",
     "text": [
      "Epoch 42/3000: 100%|██████████| 1/1 [00:00<00:00, 38.92it/s]\n",
      "Epoch 43/3000: 100%|██████████| 1/1 [00:00<00:00, 31.82it/s]\n",
      "Validation: 100%|██████████| 1/1 [00:00<00:00, 48.32it/s]\n"
     ]
    },
    {
     "name": "stdout",
     "output_type": "stream",
     "text": [
      "Epoch: 43, Train Loss: 736.8054, \n",
      "Validation Loss: 334.0993\n"
     ]
    },
    {
     "name": "stderr",
     "output_type": "stream",
     "text": [
      "Epoch 44/3000: 100%|██████████| 1/1 [00:00<00:00, 38.27it/s]\n",
      "Epoch 45/3000: 100%|██████████| 1/1 [00:00<00:00, 34.88it/s]\n",
      "Validation: 100%|██████████| 1/1 [00:00<00:00, 53.06it/s]\n"
     ]
    },
    {
     "name": "stdout",
     "output_type": "stream",
     "text": [
      "Epoch: 45, Train Loss: 717.0215, \n",
      "Validation Loss: 362.5814\n"
     ]
    },
    {
     "name": "stderr",
     "output_type": "stream",
     "text": [
      "Epoch 46/3000: 100%|██████████| 1/1 [00:00<00:00, 34.42it/s]\n",
      "Epoch 47/3000: 100%|██████████| 1/1 [00:00<00:00, 38.59it/s]\n",
      "Validation: 100%|██████████| 1/1 [00:00<00:00, 50.26it/s]\n"
     ]
    },
    {
     "name": "stdout",
     "output_type": "stream",
     "text": [
      "Epoch: 47, Train Loss: 864.7993, \n",
      "Validation Loss: 325.8720\n"
     ]
    },
    {
     "name": "stderr",
     "output_type": "stream",
     "text": [
      "Epoch 48/3000: 100%|██████████| 1/1 [00:00<00:00, 33.39it/s]\n",
      "Epoch 49/3000: 100%|██████████| 1/1 [00:00<00:00, 37.49it/s]\n",
      "Validation: 100%|██████████| 1/1 [00:00<00:00, 51.45it/s]\n"
     ]
    },
    {
     "name": "stdout",
     "output_type": "stream",
     "text": [
      "Epoch: 49, Train Loss: 602.5876, \n",
      "Validation Loss: 229.4303\n"
     ]
    },
    {
     "name": "stderr",
     "output_type": "stream",
     "text": [
      "Epoch 50/3000: 100%|██████████| 1/1 [00:00<00:00, 36.40it/s]\n",
      "Epoch 51/3000: 100%|██████████| 1/1 [00:00<00:00, 38.00it/s]\n",
      "Validation: 100%|██████████| 1/1 [00:00<00:00, 49.69it/s]\n"
     ]
    },
    {
     "name": "stdout",
     "output_type": "stream",
     "text": [
      "Epoch: 51, Train Loss: 603.8163, \n",
      "Validation Loss: 167.5341\n"
     ]
    },
    {
     "name": "stderr",
     "output_type": "stream",
     "text": [
      "Epoch 52/3000: 100%|██████████| 1/1 [00:00<00:00, 40.04it/s]\n",
      "Epoch 53/3000: 100%|██████████| 1/1 [00:00<00:00, 39.24it/s]\n",
      "Validation: 100%|██████████| 1/1 [00:00<00:00, 51.31it/s]\n"
     ]
    },
    {
     "name": "stdout",
     "output_type": "stream",
     "text": [
      "Epoch: 53, Train Loss: 745.8610, \n",
      "Validation Loss: 138.7576\n"
     ]
    },
    {
     "name": "stderr",
     "output_type": "stream",
     "text": [
      "Epoch 54/3000: 100%|██████████| 1/1 [00:00<00:00, 33.77it/s]\n",
      "Epoch 55/3000: 100%|██████████| 1/1 [00:00<00:00, 33.28it/s]\n",
      "Validation: 100%|██████████| 1/1 [00:00<00:00, 46.49it/s]\n"
     ]
    },
    {
     "name": "stdout",
     "output_type": "stream",
     "text": [
      "Epoch: 55, Train Loss: 801.9678, \n",
      "Validation Loss: 159.4540\n"
     ]
    },
    {
     "name": "stderr",
     "output_type": "stream",
     "text": [
      "Epoch 56/3000: 100%|██████████| 1/1 [00:00<00:00, 40.21it/s]\n",
      "Epoch 57/3000: 100%|██████████| 1/1 [00:00<00:00, 40.77it/s]\n",
      "Validation: 100%|██████████| 1/1 [00:00<00:00, 50.88it/s]\n"
     ]
    },
    {
     "name": "stdout",
     "output_type": "stream",
     "text": [
      "Epoch: 57, Train Loss: 426.5025, \n",
      "Validation Loss: 224.9742\n"
     ]
    },
    {
     "name": "stderr",
     "output_type": "stream",
     "text": [
      "Epoch 58/3000: 100%|██████████| 1/1 [00:00<00:00, 39.14it/s]\n",
      "Epoch 59/3000: 100%|██████████| 1/1 [00:00<00:00, 39.85it/s]\n",
      "Validation: 100%|██████████| 1/1 [00:00<00:00, 49.58it/s]\n"
     ]
    },
    {
     "name": "stdout",
     "output_type": "stream",
     "text": [
      "Epoch: 59, Train Loss: 693.6005, \n",
      "Validation Loss: 227.4339\n"
     ]
    },
    {
     "name": "stderr",
     "output_type": "stream",
     "text": [
      "Epoch 60/3000: 100%|██████████| 1/1 [00:00<00:00, 37.35it/s]\n",
      "Epoch 61/3000: 100%|██████████| 1/1 [00:00<00:00, 40.32it/s]\n",
      "Validation: 100%|██████████| 1/1 [00:00<00:00, 51.55it/s]\n"
     ]
    },
    {
     "name": "stdout",
     "output_type": "stream",
     "text": [
      "Epoch: 61, Train Loss: 539.5622, \n",
      "Validation Loss: 269.9857\n"
     ]
    },
    {
     "name": "stderr",
     "output_type": "stream",
     "text": [
      "Epoch 62/3000: 100%|██████████| 1/1 [00:00<00:00, 37.93it/s]\n",
      "Epoch 63/3000: 100%|██████████| 1/1 [00:00<00:00, 32.17it/s]\n",
      "Validation: 100%|██████████| 1/1 [00:00<00:00, 45.53it/s]\n"
     ]
    },
    {
     "name": "stdout",
     "output_type": "stream",
     "text": [
      "Epoch: 63, Train Loss: 589.3971, \n",
      "Validation Loss: 280.0658\n"
     ]
    },
    {
     "name": "stderr",
     "output_type": "stream",
     "text": [
      "Epoch 64/3000: 100%|██████████| 1/1 [00:00<00:00, 39.38it/s]\n",
      "Epoch 65/3000: 100%|██████████| 1/1 [00:00<00:00, 38.51it/s]\n",
      "Validation: 100%|██████████| 1/1 [00:00<00:00, 51.90it/s]\n"
     ]
    },
    {
     "name": "stdout",
     "output_type": "stream",
     "text": [
      "Epoch: 65, Train Loss: 575.9530, \n",
      "Validation Loss: 270.4706\n"
     ]
    },
    {
     "name": "stderr",
     "output_type": "stream",
     "text": [
      "Epoch 66/3000: 100%|██████████| 1/1 [00:00<00:00, 37.53it/s]\n",
      "Epoch 67/3000: 100%|██████████| 1/1 [00:00<00:00, 40.97it/s]\n",
      "Validation: 100%|██████████| 1/1 [00:00<00:00, 48.50it/s]\n"
     ]
    },
    {
     "name": "stdout",
     "output_type": "stream",
     "text": [
      "Epoch: 67, Train Loss: 606.6110, \n",
      "Validation Loss: 240.4079\n"
     ]
    },
    {
     "name": "stderr",
     "output_type": "stream",
     "text": [
      "Epoch 68/3000: 100%|██████████| 1/1 [00:00<00:00, 39.34it/s]\n",
      "Epoch 69/3000: 100%|██████████| 1/1 [00:00<00:00, 40.44it/s]\n",
      "Validation: 100%|██████████| 1/1 [00:00<00:00, 48.23it/s]\n"
     ]
    },
    {
     "name": "stdout",
     "output_type": "stream",
     "text": [
      "Epoch: 69, Train Loss: 504.4832, \n",
      "Validation Loss: 234.1416\n"
     ]
    },
    {
     "name": "stderr",
     "output_type": "stream",
     "text": [
      "Epoch 70/3000: 100%|██████████| 1/1 [00:00<00:00, 37.01it/s]\n",
      "Epoch 71/3000: 100%|██████████| 1/1 [00:00<00:00, 34.20it/s]\n",
      "Validation: 100%|██████████| 1/1 [00:00<00:00, 51.44it/s]\n"
     ]
    },
    {
     "name": "stdout",
     "output_type": "stream",
     "text": [
      "Epoch: 71, Train Loss: 422.7397, \n",
      "Validation Loss: 139.8736\n"
     ]
    },
    {
     "name": "stderr",
     "output_type": "stream",
     "text": [
      "Epoch 72/3000: 100%|██████████| 1/1 [00:00<00:00, 34.82it/s]\n",
      "Epoch 73/3000: 100%|██████████| 1/1 [00:00<00:00, 38.66it/s]\n",
      "Validation: 100%|██████████| 1/1 [00:00<00:00, 49.61it/s]\n"
     ]
    },
    {
     "name": "stdout",
     "output_type": "stream",
     "text": [
      "Epoch: 73, Train Loss: 470.9000, \n",
      "Validation Loss: 149.3396\n"
     ]
    },
    {
     "name": "stderr",
     "output_type": "stream",
     "text": [
      "Epoch 74/3000: 100%|██████████| 1/1 [00:00<00:00, 29.72it/s]\n",
      "Epoch 75/3000: 100%|██████████| 1/1 [00:00<00:00, 33.69it/s]\n",
      "Validation: 100%|██████████| 1/1 [00:00<00:00, 47.25it/s]\n"
     ]
    },
    {
     "name": "stdout",
     "output_type": "stream",
     "text": [
      "Epoch: 75, Train Loss: 792.0582, \n",
      "Validation Loss: 163.6481\n"
     ]
    },
    {
     "name": "stderr",
     "output_type": "stream",
     "text": [
      "Epoch 76/3000: 100%|██████████| 1/1 [00:00<00:00, 38.83it/s]\n",
      "Epoch 77/3000: 100%|██████████| 1/1 [00:00<00:00, 37.97it/s]\n",
      "Validation: 100%|██████████| 1/1 [00:00<00:00, 37.77it/s]\n"
     ]
    },
    {
     "name": "stdout",
     "output_type": "stream",
     "text": [
      "Epoch: 77, Train Loss: 562.8621, \n",
      "Validation Loss: 267.7973\n"
     ]
    },
    {
     "name": "stderr",
     "output_type": "stream",
     "text": [
      "Epoch 78/3000: 100%|██████████| 1/1 [00:00<00:00, 36.75it/s]\n",
      "Epoch 79/3000: 100%|██████████| 1/1 [00:00<00:00, 37.62it/s]\n",
      "Validation: 100%|██████████| 1/1 [00:00<00:00, 49.57it/s]\n"
     ]
    },
    {
     "name": "stdout",
     "output_type": "stream",
     "text": [
      "Epoch: 79, Train Loss: 543.2538, \n",
      "Validation Loss: 322.2516\n"
     ]
    },
    {
     "name": "stderr",
     "output_type": "stream",
     "text": [
      "Epoch 80/3000: 100%|██████████| 1/1 [00:00<00:00, 37.63it/s]\n",
      "Epoch 81/3000: 100%|██████████| 1/1 [00:00<00:00, 36.81it/s]\n",
      "Validation: 100%|██████████| 1/1 [00:00<00:00, 51.19it/s]\n"
     ]
    },
    {
     "name": "stdout",
     "output_type": "stream",
     "text": [
      "Epoch: 81, Train Loss: 765.7804, \n",
      "Validation Loss: 376.9403\n"
     ]
    },
    {
     "name": "stderr",
     "output_type": "stream",
     "text": [
      "Epoch 82/3000: 100%|██████████| 1/1 [00:00<00:00, 37.97it/s]\n",
      "Epoch 83/3000: 100%|██████████| 1/1 [00:00<00:00, 39.33it/s]\n",
      "Validation: 100%|██████████| 1/1 [00:00<00:00, 49.34it/s]\n"
     ]
    },
    {
     "name": "stdout",
     "output_type": "stream",
     "text": [
      "Epoch: 83, Train Loss: 713.2292, \n",
      "Validation Loss: 433.2873\n"
     ]
    },
    {
     "name": "stderr",
     "output_type": "stream",
     "text": [
      "Epoch 84/3000: 100%|██████████| 1/1 [00:00<00:00, 40.29it/s]\n",
      "Epoch 85/3000: 100%|██████████| 1/1 [00:00<00:00, 35.65it/s]\n",
      "Validation: 100%|██████████| 1/1 [00:00<00:00, 49.60it/s]\n"
     ]
    },
    {
     "name": "stdout",
     "output_type": "stream",
     "text": [
      "Epoch: 85, Train Loss: 709.6647, \n",
      "Validation Loss: 353.3939\n"
     ]
    },
    {
     "name": "stderr",
     "output_type": "stream",
     "text": [
      "Epoch 86/3000: 100%|██████████| 1/1 [00:00<00:00, 39.66it/s]\n",
      "Epoch 87/3000: 100%|██████████| 1/1 [00:00<00:00, 37.02it/s]\n",
      "Validation: 100%|██████████| 1/1 [00:00<00:00, 50.12it/s]\n"
     ]
    },
    {
     "name": "stdout",
     "output_type": "stream",
     "text": [
      "Epoch: 87, Train Loss: 573.4243, \n",
      "Validation Loss: 257.3467\n"
     ]
    },
    {
     "name": "stderr",
     "output_type": "stream",
     "text": [
      "Epoch 88/3000: 100%|██████████| 1/1 [00:00<00:00, 37.06it/s]\n",
      "Epoch 89/3000: 100%|██████████| 1/1 [00:00<00:00, 38.55it/s]\n",
      "Validation: 100%|██████████| 1/1 [00:00<00:00, 51.06it/s]\n"
     ]
    },
    {
     "name": "stdout",
     "output_type": "stream",
     "text": [
      "Epoch: 89, Train Loss: 279.7731, \n",
      "Validation Loss: 273.4498\n"
     ]
    },
    {
     "name": "stderr",
     "output_type": "stream",
     "text": [
      "Epoch 90/3000: 100%|██████████| 1/1 [00:00<00:00, 35.47it/s]\n",
      "Epoch 91/3000: 100%|██████████| 1/1 [00:00<00:00, 38.97it/s]\n",
      "Validation: 100%|██████████| 1/1 [00:00<00:00, 51.88it/s]\n"
     ]
    },
    {
     "name": "stdout",
     "output_type": "stream",
     "text": [
      "Epoch: 91, Train Loss: 717.6998, \n",
      "Validation Loss: 234.1822\n"
     ]
    },
    {
     "name": "stderr",
     "output_type": "stream",
     "text": [
      "Epoch 92/3000: 100%|██████████| 1/1 [00:00<00:00, 37.95it/s]\n",
      "Epoch 93/3000: 100%|██████████| 1/1 [00:00<00:00, 41.43it/s]\n",
      "Validation: 100%|██████████| 1/1 [00:00<00:00, 49.43it/s]\n"
     ]
    },
    {
     "name": "stdout",
     "output_type": "stream",
     "text": [
      "Epoch: 93, Train Loss: 661.3535, \n",
      "Validation Loss: 138.5302\n"
     ]
    },
    {
     "name": "stderr",
     "output_type": "stream",
     "text": [
      "Epoch 94/3000: 100%|██████████| 1/1 [00:00<00:00, 38.79it/s]\n",
      "Epoch 95/3000: 100%|██████████| 1/1 [00:00<00:00, 40.07it/s]\n",
      "Validation: 100%|██████████| 1/1 [00:00<00:00, 51.37it/s]\n"
     ]
    },
    {
     "name": "stdout",
     "output_type": "stream",
     "text": [
      "Epoch: 95, Train Loss: 527.3981, \n",
      "Validation Loss: 123.7641\n"
     ]
    },
    {
     "name": "stderr",
     "output_type": "stream",
     "text": [
      "Epoch 96/3000: 100%|██████████| 1/1 [00:00<00:00, 40.24it/s]\n",
      "Epoch 97/3000: 100%|██████████| 1/1 [00:00<00:00, 37.93it/s]\n",
      "Validation: 100%|██████████| 1/1 [00:00<00:00, 37.75it/s]\n"
     ]
    },
    {
     "name": "stdout",
     "output_type": "stream",
     "text": [
      "Epoch: 97, Train Loss: 375.8632, \n",
      "Validation Loss: 132.6494\n"
     ]
    },
    {
     "name": "stderr",
     "output_type": "stream",
     "text": [
      "Epoch 98/3000: 100%|██████████| 1/1 [00:00<00:00, 39.12it/s]\n",
      "Epoch 99/3000: 100%|██████████| 1/1 [00:00<00:00, 37.05it/s]\n",
      "Validation: 100%|██████████| 1/1 [00:00<00:00, 49.77it/s]\n"
     ]
    },
    {
     "name": "stdout",
     "output_type": "stream",
     "text": [
      "Epoch: 99, Train Loss: 396.7196, \n",
      "Validation Loss: 160.1845\n"
     ]
    },
    {
     "name": "stderr",
     "output_type": "stream",
     "text": [
      "Epoch 100/3000: 100%|██████████| 1/1 [00:00<00:00, 39.67it/s]\n",
      "Epoch 101/3000: 100%|██████████| 1/1 [00:00<00:00, 39.37it/s]\n",
      "Validation: 100%|██████████| 1/1 [00:00<00:00, 50.72it/s]\n"
     ]
    },
    {
     "name": "stdout",
     "output_type": "stream",
     "text": [
      "Epoch: 101, Train Loss: 489.2108, \n",
      "Validation Loss: 218.0006\n"
     ]
    },
    {
     "name": "stderr",
     "output_type": "stream",
     "text": [
      "Epoch 102/3000: 100%|██████████| 1/1 [00:00<00:00, 35.57it/s]\n",
      "Epoch 103/3000: 100%|██████████| 1/1 [00:00<00:00, 38.05it/s]\n",
      "Validation: 100%|██████████| 1/1 [00:00<00:00, 51.85it/s]\n"
     ]
    },
    {
     "name": "stdout",
     "output_type": "stream",
     "text": [
      "Epoch: 103, Train Loss: 417.1089, \n",
      "Validation Loss: 317.5482\n"
     ]
    },
    {
     "name": "stderr",
     "output_type": "stream",
     "text": [
      "Epoch 104/3000: 100%|██████████| 1/1 [00:00<00:00, 36.53it/s]\n",
      "Epoch 105/3000: 100%|██████████| 1/1 [00:00<00:00, 38.97it/s]\n",
      "Validation: 100%|██████████| 1/1 [00:00<00:00, 48.64it/s]\n"
     ]
    },
    {
     "name": "stdout",
     "output_type": "stream",
     "text": [
      "Epoch: 105, Train Loss: 614.2603, \n",
      "Validation Loss: 224.3979\n"
     ]
    },
    {
     "name": "stderr",
     "output_type": "stream",
     "text": [
      "Epoch 106/3000: 100%|██████████| 1/1 [00:00<00:00, 39.62it/s]\n",
      "Epoch 107/3000: 100%|██████████| 1/1 [00:00<00:00, 35.70it/s]\n",
      "Validation: 100%|██████████| 1/1 [00:00<00:00, 48.01it/s]\n"
     ]
    },
    {
     "name": "stdout",
     "output_type": "stream",
     "text": [
      "Epoch: 107, Train Loss: 443.3037, \n",
      "Validation Loss: 165.4153\n"
     ]
    },
    {
     "name": "stderr",
     "output_type": "stream",
     "text": [
      "Epoch 108/3000: 100%|██████████| 1/1 [00:00<00:00, 35.92it/s]\n",
      "Epoch 109/3000: 100%|██████████| 1/1 [00:00<00:00, 37.76it/s]\n",
      "Validation: 100%|██████████| 1/1 [00:00<00:00, 45.41it/s]\n"
     ]
    },
    {
     "name": "stdout",
     "output_type": "stream",
     "text": [
      "Epoch: 109, Train Loss: 604.2147, \n",
      "Validation Loss: 137.5845\n"
     ]
    },
    {
     "name": "stderr",
     "output_type": "stream",
     "text": [
      "Epoch 110/3000: 100%|██████████| 1/1 [00:00<00:00, 38.87it/s]\n",
      "Epoch 111/3000: 100%|██████████| 1/1 [00:00<00:00, 38.22it/s]\n",
      "Validation: 100%|██████████| 1/1 [00:00<00:00, 49.44it/s]\n"
     ]
    },
    {
     "name": "stdout",
     "output_type": "stream",
     "text": [
      "Epoch: 111, Train Loss: 444.5618, \n",
      "Validation Loss: 138.8250\n"
     ]
    },
    {
     "name": "stderr",
     "output_type": "stream",
     "text": [
      "Epoch 112/3000: 100%|██████████| 1/1 [00:00<00:00, 36.86it/s]\n",
      "Epoch 113/3000: 100%|██████████| 1/1 [00:00<00:00, 38.43it/s]\n",
      "Validation: 100%|██████████| 1/1 [00:00<00:00, 48.79it/s]\n"
     ]
    },
    {
     "name": "stdout",
     "output_type": "stream",
     "text": [
      "Epoch: 113, Train Loss: 404.8619, \n",
      "Validation Loss: 162.1860\n"
     ]
    },
    {
     "name": "stderr",
     "output_type": "stream",
     "text": [
      "Epoch 114/3000: 100%|██████████| 1/1 [00:00<00:00, 29.76it/s]\n",
      "Epoch 115/3000: 100%|██████████| 1/1 [00:00<00:00, 30.34it/s]\n",
      "Validation: 100%|██████████| 1/1 [00:00<00:00, 42.54it/s]\n"
     ]
    },
    {
     "name": "stdout",
     "output_type": "stream",
     "text": [
      "Epoch: 115, Train Loss: 365.9286, \n",
      "Validation Loss: 220.1525\n"
     ]
    },
    {
     "name": "stderr",
     "output_type": "stream",
     "text": [
      "Epoch 116/3000: 100%|██████████| 1/1 [00:00<00:00, 38.60it/s]\n",
      "Epoch 117/3000: 100%|██████████| 1/1 [00:00<00:00, 39.74it/s]\n",
      "Validation: 100%|██████████| 1/1 [00:00<00:00, 51.19it/s]\n"
     ]
    },
    {
     "name": "stdout",
     "output_type": "stream",
     "text": [
      "Epoch: 117, Train Loss: 382.1119, \n",
      "Validation Loss: 235.8936\n"
     ]
    },
    {
     "name": "stderr",
     "output_type": "stream",
     "text": [
      "Epoch 118/3000: 100%|██████████| 1/1 [00:00<00:00, 38.44it/s]\n",
      "Epoch 119/3000: 100%|██████████| 1/1 [00:00<00:00, 41.43it/s]\n",
      "Validation: 100%|██████████| 1/1 [00:00<00:00, 48.44it/s]\n"
     ]
    },
    {
     "name": "stdout",
     "output_type": "stream",
     "text": [
      "Epoch: 119, Train Loss: 805.9935, \n",
      "Validation Loss: 183.4490\n"
     ]
    },
    {
     "name": "stderr",
     "output_type": "stream",
     "text": [
      "Epoch 120/3000: 100%|██████████| 1/1 [00:00<00:00, 37.83it/s]\n",
      "Epoch 121/3000: 100%|██████████| 1/1 [00:00<00:00, 36.93it/s]\n",
      "Validation: 100%|██████████| 1/1 [00:00<00:00, 48.37it/s]\n"
     ]
    },
    {
     "name": "stdout",
     "output_type": "stream",
     "text": [
      "Epoch: 121, Train Loss: 437.5284, \n",
      "Validation Loss: 215.0937\n"
     ]
    },
    {
     "name": "stderr",
     "output_type": "stream",
     "text": [
      "Epoch 122/3000: 100%|██████████| 1/1 [00:00<00:00, 38.64it/s]\n",
      "Epoch 123/3000: 100%|██████████| 1/1 [00:00<00:00, 40.14it/s]\n",
      "Validation: 100%|██████████| 1/1 [00:00<00:00, 49.80it/s]\n"
     ]
    },
    {
     "name": "stdout",
     "output_type": "stream",
     "text": [
      "Epoch: 123, Train Loss: 465.1848, \n",
      "Validation Loss: 239.4453\n"
     ]
    },
    {
     "name": "stderr",
     "output_type": "stream",
     "text": [
      "Epoch 124/3000: 100%|██████████| 1/1 [00:00<00:00, 34.56it/s]\n",
      "Epoch 125/3000: 100%|██████████| 1/1 [00:00<00:00, 40.27it/s]\n",
      "Validation: 100%|██████████| 1/1 [00:00<00:00, 48.38it/s]\n"
     ]
    },
    {
     "name": "stdout",
     "output_type": "stream",
     "text": [
      "Epoch: 125, Train Loss: 319.0017, \n",
      "Validation Loss: 231.2899\n"
     ]
    },
    {
     "name": "stderr",
     "output_type": "stream",
     "text": [
      "Epoch 126/3000: 100%|██████████| 1/1 [00:00<00:00, 40.18it/s]\n",
      "Epoch 127/3000: 100%|██████████| 1/1 [00:00<00:00, 39.32it/s]\n",
      "Validation: 100%|██████████| 1/1 [00:00<00:00, 49.18it/s]\n"
     ]
    },
    {
     "name": "stdout",
     "output_type": "stream",
     "text": [
      "Epoch: 127, Train Loss: 234.0493, \n",
      "Validation Loss: 189.0008\n"
     ]
    },
    {
     "name": "stderr",
     "output_type": "stream",
     "text": [
      "Epoch 128/3000: 100%|██████████| 1/1 [00:00<00:00, 39.78it/s]\n",
      "Epoch 129/3000: 100%|██████████| 1/1 [00:00<00:00, 38.81it/s]\n",
      "Validation: 100%|██████████| 1/1 [00:00<00:00, 47.42it/s]\n"
     ]
    },
    {
     "name": "stdout",
     "output_type": "stream",
     "text": [
      "Epoch: 129, Train Loss: 415.7306, \n",
      "Validation Loss: 194.9041\n"
     ]
    },
    {
     "name": "stderr",
     "output_type": "stream",
     "text": [
      "Epoch 130/3000: 100%|██████████| 1/1 [00:00<00:00, 37.14it/s]\n",
      "Epoch 131/3000: 100%|██████████| 1/1 [00:00<00:00, 40.16it/s]\n",
      "Validation: 100%|██████████| 1/1 [00:00<00:00, 50.73it/s]\n"
     ]
    },
    {
     "name": "stdout",
     "output_type": "stream",
     "text": [
      "Epoch: 131, Train Loss: 418.1968, \n",
      "Validation Loss: 209.6539\n"
     ]
    },
    {
     "name": "stderr",
     "output_type": "stream",
     "text": [
      "Epoch 132/3000: 100%|██████████| 1/1 [00:00<00:00, 35.44it/s]\n",
      "Epoch 133/3000: 100%|██████████| 1/1 [00:00<00:00, 39.55it/s]\n",
      "Validation: 100%|██████████| 1/1 [00:00<00:00, 47.37it/s]\n"
     ]
    },
    {
     "name": "stdout",
     "output_type": "stream",
     "text": [
      "Epoch: 133, Train Loss: 288.8244, \n",
      "Validation Loss: 173.7551\n"
     ]
    },
    {
     "name": "stderr",
     "output_type": "stream",
     "text": [
      "Epoch 134/3000: 100%|██████████| 1/1 [00:00<00:00, 39.00it/s]\n",
      "Epoch 135/3000: 100%|██████████| 1/1 [00:00<00:00, 34.81it/s]\n",
      "Validation: 100%|██████████| 1/1 [00:00<00:00, 43.20it/s]\n"
     ]
    },
    {
     "name": "stdout",
     "output_type": "stream",
     "text": [
      "Epoch: 135, Train Loss: 311.4956, \n",
      "Validation Loss: 132.5477\n"
     ]
    },
    {
     "name": "stderr",
     "output_type": "stream",
     "text": [
      "Epoch 136/3000: 100%|██████████| 1/1 [00:00<00:00, 40.26it/s]\n",
      "Epoch 137/3000: 100%|██████████| 1/1 [00:00<00:00, 38.28it/s]\n",
      "Validation: 100%|██████████| 1/1 [00:00<00:00, 50.18it/s]\n"
     ]
    },
    {
     "name": "stdout",
     "output_type": "stream",
     "text": [
      "Epoch: 137, Train Loss: 553.0748, \n",
      "Validation Loss: 174.5349\n"
     ]
    },
    {
     "name": "stderr",
     "output_type": "stream",
     "text": [
      "Epoch 138/3000: 100%|██████████| 1/1 [00:00<00:00, 35.63it/s]\n",
      "Epoch 139/3000: 100%|██████████| 1/1 [00:00<00:00, 37.87it/s]\n",
      "Validation: 100%|██████████| 1/1 [00:00<00:00, 51.12it/s]\n"
     ]
    },
    {
     "name": "stdout",
     "output_type": "stream",
     "text": [
      "Epoch: 139, Train Loss: 412.6872, \n",
      "Validation Loss: 230.2189\n"
     ]
    },
    {
     "name": "stderr",
     "output_type": "stream",
     "text": [
      "Epoch 140/3000: 100%|██████████| 1/1 [00:00<00:00, 37.39it/s]\n",
      "Epoch 141/3000: 100%|██████████| 1/1 [00:00<00:00, 37.30it/s]\n",
      "Validation: 100%|██████████| 1/1 [00:00<00:00, 48.19it/s]\n"
     ]
    },
    {
     "name": "stdout",
     "output_type": "stream",
     "text": [
      "Epoch: 141, Train Loss: 730.6888, \n",
      "Validation Loss: 156.1307\n"
     ]
    },
    {
     "name": "stderr",
     "output_type": "stream",
     "text": [
      "Epoch 142/3000: 100%|██████████| 1/1 [00:00<00:00, 32.89it/s]\n",
      "Epoch 143/3000: 100%|██████████| 1/1 [00:00<00:00, 38.79it/s]\n",
      "Validation: 100%|██████████| 1/1 [00:00<00:00, 50.05it/s]\n"
     ]
    },
    {
     "name": "stdout",
     "output_type": "stream",
     "text": [
      "Epoch: 143, Train Loss: 377.7531, \n",
      "Validation Loss: 117.5685\n"
     ]
    },
    {
     "name": "stderr",
     "output_type": "stream",
     "text": [
      "Epoch 144/3000: 100%|██████████| 1/1 [00:00<00:00, 39.95it/s]\n",
      "Epoch 145/3000: 100%|██████████| 1/1 [00:00<00:00, 33.29it/s]\n",
      "Validation: 100%|██████████| 1/1 [00:00<00:00, 46.43it/s]\n"
     ]
    },
    {
     "name": "stdout",
     "output_type": "stream",
     "text": [
      "Epoch: 145, Train Loss: 496.8071, \n",
      "Validation Loss: 126.7309\n"
     ]
    },
    {
     "name": "stderr",
     "output_type": "stream",
     "text": [
      "Epoch 146/3000: 100%|██████████| 1/1 [00:00<00:00, 38.84it/s]\n",
      "Epoch 147/3000: 100%|██████████| 1/1 [00:00<00:00, 39.43it/s]\n",
      "Validation: 100%|██████████| 1/1 [00:00<00:00, 51.07it/s]\n"
     ]
    },
    {
     "name": "stdout",
     "output_type": "stream",
     "text": [
      "Epoch: 147, Train Loss: 291.6241, \n",
      "Validation Loss: 176.5356\n"
     ]
    },
    {
     "name": "stderr",
     "output_type": "stream",
     "text": [
      "Epoch 148/3000: 100%|██████████| 1/1 [00:00<00:00, 37.99it/s]\n",
      "Epoch 149/3000: 100%|██████████| 1/1 [00:00<00:00, 34.60it/s]\n",
      "Validation: 100%|██████████| 1/1 [00:00<00:00, 51.65it/s]\n"
     ]
    },
    {
     "name": "stdout",
     "output_type": "stream",
     "text": [
      "Epoch: 149, Train Loss: 457.0581, \n",
      "Validation Loss: 190.2618\n"
     ]
    },
    {
     "name": "stderr",
     "output_type": "stream",
     "text": [
      "Epoch 150/3000: 100%|██████████| 1/1 [00:00<00:00, 38.35it/s]\n",
      "Epoch 151/3000: 100%|██████████| 1/1 [00:00<00:00, 32.00it/s]\n",
      "Validation: 100%|██████████| 1/1 [00:00<00:00, 48.09it/s]\n"
     ]
    },
    {
     "name": "stdout",
     "output_type": "stream",
     "text": [
      "Epoch: 151, Train Loss: 241.6736, \n",
      "Validation Loss: 155.6470\n"
     ]
    },
    {
     "name": "stderr",
     "output_type": "stream",
     "text": [
      "Epoch 152/3000: 100%|██████████| 1/1 [00:00<00:00, 37.80it/s]\n",
      "Epoch 153/3000: 100%|██████████| 1/1 [00:00<00:00, 41.02it/s]\n",
      "Validation: 100%|██████████| 1/1 [00:00<00:00, 46.62it/s]\n"
     ]
    },
    {
     "name": "stdout",
     "output_type": "stream",
     "text": [
      "Epoch: 153, Train Loss: 504.6855, \n",
      "Validation Loss: 126.9699\n"
     ]
    },
    {
     "name": "stderr",
     "output_type": "stream",
     "text": [
      "Epoch 154/3000: 100%|██████████| 1/1 [00:00<00:00, 37.44it/s]\n",
      "Epoch 155/3000: 100%|██████████| 1/1 [00:00<00:00, 37.52it/s]\n",
      "Validation: 100%|██████████| 1/1 [00:00<00:00, 45.23it/s]\n"
     ]
    },
    {
     "name": "stdout",
     "output_type": "stream",
     "text": [
      "Epoch: 155, Train Loss: 317.4848, \n",
      "Validation Loss: 101.9279\n"
     ]
    },
    {
     "name": "stderr",
     "output_type": "stream",
     "text": [
      "Epoch 156/3000: 100%|██████████| 1/1 [00:00<00:00, 40.45it/s]\n",
      "Epoch 157/3000: 100%|██████████| 1/1 [00:00<00:00, 38.98it/s]\n",
      "Validation: 100%|██████████| 1/1 [00:00<00:00, 51.61it/s]\n"
     ]
    },
    {
     "name": "stdout",
     "output_type": "stream",
     "text": [
      "Epoch: 157, Train Loss: 218.8932, \n",
      "Validation Loss: 132.8179\n"
     ]
    },
    {
     "name": "stderr",
     "output_type": "stream",
     "text": [
      "Epoch 158/3000: 100%|██████████| 1/1 [00:00<00:00, 32.15it/s]\n",
      "Epoch 159/3000: 100%|██████████| 1/1 [00:00<00:00, 39.45it/s]\n",
      "Validation: 100%|██████████| 1/1 [00:00<00:00, 45.23it/s]\n"
     ]
    },
    {
     "name": "stdout",
     "output_type": "stream",
     "text": [
      "Epoch: 159, Train Loss: 327.6574, \n",
      "Validation Loss: 131.4707\n"
     ]
    },
    {
     "name": "stderr",
     "output_type": "stream",
     "text": [
      "Epoch 160/3000: 100%|██████████| 1/1 [00:00<00:00, 37.66it/s]\n",
      "Epoch 161/3000: 100%|██████████| 1/1 [00:00<00:00, 38.21it/s]\n",
      "Validation: 100%|██████████| 1/1 [00:00<00:00, 50.69it/s]\n"
     ]
    },
    {
     "name": "stdout",
     "output_type": "stream",
     "text": [
      "Epoch: 161, Train Loss: 362.0464, \n",
      "Validation Loss: 118.5940\n"
     ]
    },
    {
     "name": "stderr",
     "output_type": "stream",
     "text": [
      "Epoch 162/3000: 100%|██████████| 1/1 [00:00<00:00, 39.87it/s]\n",
      "Epoch 163/3000: 100%|██████████| 1/1 [00:00<00:00, 40.54it/s]\n",
      "Validation: 100%|██████████| 1/1 [00:00<00:00, 50.88it/s]\n"
     ]
    },
    {
     "name": "stdout",
     "output_type": "stream",
     "text": [
      "Epoch: 163, Train Loss: 391.4223, \n",
      "Validation Loss: 120.2748\n"
     ]
    },
    {
     "name": "stderr",
     "output_type": "stream",
     "text": [
      "Epoch 164/3000: 100%|██████████| 1/1 [00:00<00:00, 34.84it/s]\n",
      "Epoch 165/3000: 100%|██████████| 1/1 [00:00<00:00, 36.01it/s]\n",
      "Validation: 100%|██████████| 1/1 [00:00<00:00, 51.73it/s]\n"
     ]
    },
    {
     "name": "stdout",
     "output_type": "stream",
     "text": [
      "Epoch: 165, Train Loss: 260.5160, \n",
      "Validation Loss: 142.3000\n"
     ]
    },
    {
     "name": "stderr",
     "output_type": "stream",
     "text": [
      "Epoch 166/3000: 100%|██████████| 1/1 [00:00<00:00, 34.95it/s]\n",
      "Epoch 167/3000: 100%|██████████| 1/1 [00:00<00:00, 40.04it/s]\n",
      "Validation: 100%|██████████| 1/1 [00:00<00:00, 50.69it/s]\n"
     ]
    },
    {
     "name": "stdout",
     "output_type": "stream",
     "text": [
      "Epoch: 167, Train Loss: 519.8246, \n",
      "Validation Loss: 154.9217\n"
     ]
    },
    {
     "name": "stderr",
     "output_type": "stream",
     "text": [
      "Epoch 168/3000: 100%|██████████| 1/1 [00:00<00:00, 34.91it/s]\n",
      "Epoch 169/3000: 100%|██████████| 1/1 [00:00<00:00, 31.35it/s]\n",
      "Validation: 100%|██████████| 1/1 [00:00<00:00, 50.03it/s]\n"
     ]
    },
    {
     "name": "stdout",
     "output_type": "stream",
     "text": [
      "Epoch: 169, Train Loss: 391.0475, \n",
      "Validation Loss: 175.9959\n"
     ]
    },
    {
     "name": "stderr",
     "output_type": "stream",
     "text": [
      "Epoch 170/3000: 100%|██████████| 1/1 [00:00<00:00, 36.85it/s]\n",
      "Epoch 171/3000: 100%|██████████| 1/1 [00:00<00:00, 34.71it/s]\n",
      "Validation: 100%|██████████| 1/1 [00:00<00:00, 47.04it/s]\n"
     ]
    },
    {
     "name": "stdout",
     "output_type": "stream",
     "text": [
      "Epoch: 171, Train Loss: 275.7720, \n",
      "Validation Loss: 145.4272\n"
     ]
    },
    {
     "name": "stderr",
     "output_type": "stream",
     "text": [
      "Epoch 172/3000: 100%|██████████| 1/1 [00:00<00:00, 35.89it/s]\n",
      "Epoch 173/3000: 100%|██████████| 1/1 [00:00<00:00, 35.50it/s]\n",
      "Validation: 100%|██████████| 1/1 [00:00<00:00, 51.38it/s]\n"
     ]
    },
    {
     "name": "stdout",
     "output_type": "stream",
     "text": [
      "Epoch: 173, Train Loss: 279.9916, \n",
      "Validation Loss: 164.6947\n"
     ]
    },
    {
     "name": "stderr",
     "output_type": "stream",
     "text": [
      "Epoch 174/3000: 100%|██████████| 1/1 [00:00<00:00, 39.98it/s]\n",
      "Epoch 175/3000: 100%|██████████| 1/1 [00:00<00:00, 36.01it/s]\n",
      "Validation: 100%|██████████| 1/1 [00:00<00:00, 44.20it/s]\n"
     ]
    },
    {
     "name": "stdout",
     "output_type": "stream",
     "text": [
      "Epoch: 175, Train Loss: 346.1180, \n",
      "Validation Loss: 200.5143\n"
     ]
    },
    {
     "name": "stderr",
     "output_type": "stream",
     "text": [
      "Epoch 176/3000: 100%|██████████| 1/1 [00:00<00:00, 38.80it/s]\n",
      "Epoch 177/3000: 100%|██████████| 1/1 [00:00<00:00, 34.28it/s]\n",
      "Validation: 100%|██████████| 1/1 [00:00<00:00, 46.61it/s]\n"
     ]
    },
    {
     "name": "stdout",
     "output_type": "stream",
     "text": [
      "Epoch: 177, Train Loss: 310.1305, \n",
      "Validation Loss: 238.9464\n"
     ]
    },
    {
     "name": "stderr",
     "output_type": "stream",
     "text": [
      "Epoch 178/3000: 100%|██████████| 1/1 [00:00<00:00, 34.15it/s]\n",
      "Epoch 179/3000: 100%|██████████| 1/1 [00:00<00:00, 37.28it/s]\n",
      "Validation: 100%|██████████| 1/1 [00:00<00:00, 46.67it/s]\n"
     ]
    },
    {
     "name": "stdout",
     "output_type": "stream",
     "text": [
      "Epoch: 179, Train Loss: 531.2203, \n",
      "Validation Loss: 212.4457\n"
     ]
    },
    {
     "name": "stderr",
     "output_type": "stream",
     "text": [
      "Epoch 180/3000: 100%|██████████| 1/1 [00:00<00:00, 37.65it/s]\n",
      "Epoch 181/3000: 100%|██████████| 1/1 [00:00<00:00, 40.21it/s]\n",
      "Validation: 100%|██████████| 1/1 [00:00<00:00, 51.39it/s]\n"
     ]
    },
    {
     "name": "stdout",
     "output_type": "stream",
     "text": [
      "Epoch: 181, Train Loss: 213.3515, \n",
      "Validation Loss: 137.1836\n"
     ]
    },
    {
     "name": "stderr",
     "output_type": "stream",
     "text": [
      "Epoch 182/3000: 100%|██████████| 1/1 [00:00<00:00, 37.86it/s]\n",
      "Epoch 183/3000: 100%|██████████| 1/1 [00:00<00:00, 37.98it/s]\n",
      "Validation: 100%|██████████| 1/1 [00:00<00:00, 52.01it/s]\n"
     ]
    },
    {
     "name": "stdout",
     "output_type": "stream",
     "text": [
      "Epoch: 183, Train Loss: 414.9334, \n",
      "Validation Loss: 109.4955\n"
     ]
    },
    {
     "name": "stderr",
     "output_type": "stream",
     "text": [
      "Epoch 184/3000: 100%|██████████| 1/1 [00:00<00:00, 37.63it/s]\n",
      "Epoch 185/3000: 100%|██████████| 1/1 [00:00<00:00, 40.50it/s]\n",
      "Validation: 100%|██████████| 1/1 [00:00<00:00, 45.55it/s]\n"
     ]
    },
    {
     "name": "stdout",
     "output_type": "stream",
     "text": [
      "Epoch: 185, Train Loss: 509.9468, \n",
      "Validation Loss: 101.2930\n"
     ]
    },
    {
     "name": "stderr",
     "output_type": "stream",
     "text": [
      "Epoch 186/3000: 100%|██████████| 1/1 [00:00<00:00, 40.48it/s]\n",
      "Epoch 187/3000: 100%|██████████| 1/1 [00:00<00:00, 40.07it/s]\n",
      "Validation: 100%|██████████| 1/1 [00:00<00:00, 50.38it/s]\n"
     ]
    },
    {
     "name": "stdout",
     "output_type": "stream",
     "text": [
      "Epoch: 187, Train Loss: 303.3661, \n",
      "Validation Loss: 140.1013\n"
     ]
    },
    {
     "name": "stderr",
     "output_type": "stream",
     "text": [
      "Epoch 188/3000: 100%|██████████| 1/1 [00:00<00:00, 40.60it/s]\n",
      "Epoch 189/3000: 100%|██████████| 1/1 [00:00<00:00, 39.63it/s]\n",
      "Validation: 100%|██████████| 1/1 [00:00<00:00, 44.89it/s]\n"
     ]
    },
    {
     "name": "stdout",
     "output_type": "stream",
     "text": [
      "Epoch: 189, Train Loss: 323.2187, \n",
      "Validation Loss: 157.7119\n"
     ]
    },
    {
     "name": "stderr",
     "output_type": "stream",
     "text": [
      "Epoch 190/3000: 100%|██████████| 1/1 [00:00<00:00, 36.86it/s]\n",
      "Epoch 191/3000: 100%|██████████| 1/1 [00:00<00:00, 28.07it/s]\n",
      "Validation: 100%|██████████| 1/1 [00:00<00:00, 44.94it/s]\n"
     ]
    },
    {
     "name": "stdout",
     "output_type": "stream",
     "text": [
      "Epoch: 191, Train Loss: 315.4509, \n",
      "Validation Loss: 114.7854\n"
     ]
    },
    {
     "name": "stderr",
     "output_type": "stream",
     "text": [
      "Epoch 192/3000: 100%|██████████| 1/1 [00:00<00:00, 39.70it/s]\n",
      "Epoch 193/3000: 100%|██████████| 1/1 [00:00<00:00, 35.13it/s]\n",
      "Validation: 100%|██████████| 1/1 [00:00<00:00, 49.00it/s]\n"
     ]
    },
    {
     "name": "stdout",
     "output_type": "stream",
     "text": [
      "Epoch: 193, Train Loss: 332.0602, \n",
      "Validation Loss: 107.9524\n"
     ]
    },
    {
     "name": "stderr",
     "output_type": "stream",
     "text": [
      "Epoch 194/3000: 100%|██████████| 1/1 [00:00<00:00, 34.51it/s]\n",
      "Epoch 195/3000: 100%|██████████| 1/1 [00:00<00:00, 40.66it/s]\n",
      "Validation: 100%|██████████| 1/1 [00:00<00:00, 46.46it/s]\n"
     ]
    },
    {
     "name": "stdout",
     "output_type": "stream",
     "text": [
      "Epoch: 195, Train Loss: 270.1429, \n",
      "Validation Loss: 142.7383\n"
     ]
    },
    {
     "name": "stderr",
     "output_type": "stream",
     "text": [
      "Epoch 196/3000: 100%|██████████| 1/1 [00:00<00:00, 36.88it/s]\n",
      "Epoch 197/3000: 100%|██████████| 1/1 [00:00<00:00, 38.59it/s]\n",
      "Validation: 100%|██████████| 1/1 [00:00<00:00, 49.46it/s]\n"
     ]
    },
    {
     "name": "stdout",
     "output_type": "stream",
     "text": [
      "Epoch: 197, Train Loss: 276.5221, \n",
      "Validation Loss: 144.6034\n"
     ]
    },
    {
     "name": "stderr",
     "output_type": "stream",
     "text": [
      "Epoch 198/3000: 100%|██████████| 1/1 [00:00<00:00, 36.47it/s]\n",
      "Epoch 199/3000: 100%|██████████| 1/1 [00:00<00:00, 39.66it/s]\n",
      "Validation: 100%|██████████| 1/1 [00:00<00:00, 50.29it/s]\n"
     ]
    },
    {
     "name": "stdout",
     "output_type": "stream",
     "text": [
      "Epoch: 199, Train Loss: 260.8732, \n",
      "Validation Loss: 167.2438\n"
     ]
    },
    {
     "name": "stderr",
     "output_type": "stream",
     "text": [
      "Epoch 200/3000: 100%|██████████| 1/1 [00:00<00:00, 37.55it/s]\n",
      "Epoch 201/3000: 100%|██████████| 1/1 [00:00<00:00, 40.49it/s]\n",
      "Validation: 100%|██████████| 1/1 [00:00<00:00, 49.84it/s]\n"
     ]
    },
    {
     "name": "stdout",
     "output_type": "stream",
     "text": [
      "Epoch: 201, Train Loss: 348.5002, \n",
      "Validation Loss: 194.5795\n"
     ]
    },
    {
     "name": "stderr",
     "output_type": "stream",
     "text": [
      "Epoch 202/3000: 100%|██████████| 1/1 [00:00<00:00, 38.95it/s]\n",
      "Epoch 203/3000: 100%|██████████| 1/1 [00:00<00:00, 40.98it/s]\n",
      "Validation: 100%|██████████| 1/1 [00:00<00:00, 50.80it/s]\n"
     ]
    },
    {
     "name": "stdout",
     "output_type": "stream",
     "text": [
      "Epoch: 203, Train Loss: 196.6253, \n",
      "Validation Loss: 133.9305\n"
     ]
    },
    {
     "name": "stderr",
     "output_type": "stream",
     "text": [
      "Epoch 204/3000: 100%|██████████| 1/1 [00:00<00:00, 36.24it/s]\n",
      "Epoch 205/3000: 100%|██████████| 1/1 [00:00<00:00, 38.98it/s]\n",
      "Validation: 100%|██████████| 1/1 [00:00<00:00, 49.93it/s]\n"
     ]
    },
    {
     "name": "stdout",
     "output_type": "stream",
     "text": [
      "Epoch: 205, Train Loss: 171.1762, \n",
      "Validation Loss: 87.9853\n"
     ]
    },
    {
     "name": "stderr",
     "output_type": "stream",
     "text": [
      "Epoch 206/3000: 100%|██████████| 1/1 [00:00<00:00, 38.46it/s]\n",
      "Epoch 207/3000: 100%|██████████| 1/1 [00:00<00:00, 40.65it/s]\n",
      "Validation: 100%|██████████| 1/1 [00:00<00:00, 49.91it/s]\n"
     ]
    },
    {
     "name": "stdout",
     "output_type": "stream",
     "text": [
      "Epoch: 207, Train Loss: 362.1510, \n",
      "Validation Loss: 93.5180\n"
     ]
    },
    {
     "name": "stderr",
     "output_type": "stream",
     "text": [
      "Epoch 208/3000: 100%|██████████| 1/1 [00:00<00:00, 39.59it/s]\n",
      "Epoch 209/3000: 100%|██████████| 1/1 [00:00<00:00, 39.58it/s]\n",
      "Validation: 100%|██████████| 1/1 [00:00<00:00, 50.29it/s]\n"
     ]
    },
    {
     "name": "stdout",
     "output_type": "stream",
     "text": [
      "Epoch: 209, Train Loss: 291.9594, \n",
      "Validation Loss: 84.2158\n"
     ]
    },
    {
     "name": "stderr",
     "output_type": "stream",
     "text": [
      "Epoch 210/3000: 100%|██████████| 1/1 [00:00<00:00, 39.66it/s]\n",
      "Epoch 211/3000: 100%|██████████| 1/1 [00:00<00:00, 37.70it/s]\n",
      "Validation: 100%|██████████| 1/1 [00:00<00:00, 47.36it/s]\n"
     ]
    },
    {
     "name": "stdout",
     "output_type": "stream",
     "text": [
      "Epoch: 211, Train Loss: 306.7408, \n",
      "Validation Loss: 70.5357\n"
     ]
    },
    {
     "name": "stderr",
     "output_type": "stream",
     "text": [
      "Epoch 212/3000: 100%|██████████| 1/1 [00:00<00:00, 39.96it/s]\n",
      "Epoch 213/3000: 100%|██████████| 1/1 [00:00<00:00, 36.27it/s]\n",
      "Validation: 100%|██████████| 1/1 [00:00<00:00, 39.65it/s]\n"
     ]
    },
    {
     "name": "stdout",
     "output_type": "stream",
     "text": [
      "Epoch: 213, Train Loss: 372.3415, \n",
      "Validation Loss: 95.1171\n"
     ]
    },
    {
     "name": "stderr",
     "output_type": "stream",
     "text": [
      "Epoch 214/3000: 100%|██████████| 1/1 [00:00<00:00, 40.33it/s]\n",
      "Epoch 215/3000: 100%|██████████| 1/1 [00:00<00:00, 39.81it/s]\n",
      "Validation: 100%|██████████| 1/1 [00:00<00:00, 50.43it/s]\n"
     ]
    },
    {
     "name": "stdout",
     "output_type": "stream",
     "text": [
      "Epoch: 215, Train Loss: 247.1487, \n",
      "Validation Loss: 86.7489\n"
     ]
    },
    {
     "name": "stderr",
     "output_type": "stream",
     "text": [
      "Epoch 216/3000: 100%|██████████| 1/1 [00:00<00:00, 35.53it/s]\n",
      "Epoch 217/3000: 100%|██████████| 1/1 [00:00<00:00, 39.67it/s]\n",
      "Validation: 100%|██████████| 1/1 [00:00<00:00, 51.02it/s]\n"
     ]
    },
    {
     "name": "stdout",
     "output_type": "stream",
     "text": [
      "Epoch: 217, Train Loss: 238.5564, \n",
      "Validation Loss: 102.4062\n"
     ]
    },
    {
     "name": "stderr",
     "output_type": "stream",
     "text": [
      "Epoch 218/3000: 100%|██████████| 1/1 [00:00<00:00, 36.29it/s]\n",
      "Epoch 219/3000: 100%|██████████| 1/1 [00:00<00:00, 40.01it/s]\n",
      "Validation: 100%|██████████| 1/1 [00:00<00:00, 43.72it/s]\n"
     ]
    },
    {
     "name": "stdout",
     "output_type": "stream",
     "text": [
      "Epoch: 219, Train Loss: 232.2338, \n",
      "Validation Loss: 107.0189\n"
     ]
    },
    {
     "name": "stderr",
     "output_type": "stream",
     "text": [
      "Epoch 220/3000: 100%|██████████| 1/1 [00:00<00:00, 39.96it/s]\n",
      "Epoch 221/3000: 100%|██████████| 1/1 [00:00<00:00, 38.31it/s]\n",
      "Validation: 100%|██████████| 1/1 [00:00<00:00, 51.55it/s]\n"
     ]
    },
    {
     "name": "stdout",
     "output_type": "stream",
     "text": [
      "Epoch: 221, Train Loss: 378.6810, \n",
      "Validation Loss: 66.2292\n"
     ]
    },
    {
     "name": "stderr",
     "output_type": "stream",
     "text": [
      "Epoch 222/3000: 100%|██████████| 1/1 [00:00<00:00, 39.29it/s]\n",
      "Epoch 223/3000: 100%|██████████| 1/1 [00:00<00:00, 40.18it/s]\n",
      "Validation: 100%|██████████| 1/1 [00:00<00:00, 50.33it/s]\n"
     ]
    },
    {
     "name": "stdout",
     "output_type": "stream",
     "text": [
      "Epoch: 223, Train Loss: 307.4197, \n",
      "Validation Loss: 38.4682\n"
     ]
    },
    {
     "name": "stderr",
     "output_type": "stream",
     "text": [
      "Epoch 224/3000: 100%|██████████| 1/1 [00:00<00:00, 36.64it/s]\n",
      "Epoch 225/3000: 100%|██████████| 1/1 [00:00<00:00, 39.27it/s]\n",
      "Validation: 100%|██████████| 1/1 [00:00<00:00, 48.16it/s]\n"
     ]
    },
    {
     "name": "stdout",
     "output_type": "stream",
     "text": [
      "Epoch: 225, Train Loss: 226.7091, \n",
      "Validation Loss: 83.5020\n"
     ]
    },
    {
     "name": "stderr",
     "output_type": "stream",
     "text": [
      "Epoch 226/3000: 100%|██████████| 1/1 [00:00<00:00, 39.44it/s]\n",
      "Epoch 227/3000: 100%|██████████| 1/1 [00:00<00:00, 36.11it/s]\n",
      "Validation: 100%|██████████| 1/1 [00:00<00:00, 50.66it/s]\n"
     ]
    },
    {
     "name": "stdout",
     "output_type": "stream",
     "text": [
      "Epoch: 227, Train Loss: 362.5615, \n",
      "Validation Loss: 83.5258\n"
     ]
    },
    {
     "name": "stderr",
     "output_type": "stream",
     "text": [
      "Epoch 228/3000: 100%|██████████| 1/1 [00:00<00:00, 38.30it/s]\n",
      "Epoch 229/3000: 100%|██████████| 1/1 [00:00<00:00, 39.13it/s]\n",
      "Validation: 100%|██████████| 1/1 [00:00<00:00, 45.77it/s]\n"
     ]
    },
    {
     "name": "stdout",
     "output_type": "stream",
     "text": [
      "Epoch: 229, Train Loss: 232.9303, \n",
      "Validation Loss: 65.5343\n"
     ]
    },
    {
     "name": "stderr",
     "output_type": "stream",
     "text": [
      "Epoch 230/3000: 100%|██████████| 1/1 [00:00<00:00, 40.02it/s]\n",
      "Epoch 231/3000: 100%|██████████| 1/1 [00:00<00:00, 38.64it/s]\n",
      "Validation: 100%|██████████| 1/1 [00:00<00:00, 43.64it/s]\n"
     ]
    },
    {
     "name": "stdout",
     "output_type": "stream",
     "text": [
      "Epoch: 231, Train Loss: 190.2397, \n",
      "Validation Loss: 73.3535\n"
     ]
    },
    {
     "name": "stderr",
     "output_type": "stream",
     "text": [
      "Epoch 232/3000: 100%|██████████| 1/1 [00:00<00:00, 34.78it/s]\n",
      "Epoch 233/3000: 100%|██████████| 1/1 [00:00<00:00, 40.30it/s]\n",
      "Validation: 100%|██████████| 1/1 [00:00<00:00, 50.52it/s]\n"
     ]
    },
    {
     "name": "stdout",
     "output_type": "stream",
     "text": [
      "Epoch: 233, Train Loss: 174.3282, \n",
      "Validation Loss: 98.4143\n"
     ]
    },
    {
     "name": "stderr",
     "output_type": "stream",
     "text": [
      "Epoch 234/3000: 100%|██████████| 1/1 [00:00<00:00, 38.65it/s]\n",
      "Epoch 235/3000: 100%|██████████| 1/1 [00:00<00:00, 39.49it/s]\n",
      "Validation: 100%|██████████| 1/1 [00:00<00:00, 51.09it/s]\n"
     ]
    },
    {
     "name": "stdout",
     "output_type": "stream",
     "text": [
      "Epoch: 235, Train Loss: 297.8653, \n",
      "Validation Loss: 78.1412\n"
     ]
    },
    {
     "name": "stderr",
     "output_type": "stream",
     "text": [
      "Epoch 236/3000: 100%|██████████| 1/1 [00:00<00:00, 35.07it/s]\n",
      "Epoch 237/3000: 100%|██████████| 1/1 [00:00<00:00, 32.06it/s]\n",
      "Validation: 100%|██████████| 1/1 [00:00<00:00, 47.46it/s]\n"
     ]
    },
    {
     "name": "stdout",
     "output_type": "stream",
     "text": [
      "Epoch: 237, Train Loss: 216.4580, \n",
      "Validation Loss: 109.2690\n"
     ]
    },
    {
     "name": "stderr",
     "output_type": "stream",
     "text": [
      "Epoch 238/3000: 100%|██████████| 1/1 [00:00<00:00, 37.16it/s]\n",
      "Epoch 239/3000: 100%|██████████| 1/1 [00:00<00:00, 38.00it/s]\n",
      "Validation: 100%|██████████| 1/1 [00:00<00:00, 42.13it/s]\n"
     ]
    },
    {
     "name": "stdout",
     "output_type": "stream",
     "text": [
      "Epoch: 239, Train Loss: 298.2515, \n",
      "Validation Loss: 103.9616\n"
     ]
    },
    {
     "name": "stderr",
     "output_type": "stream",
     "text": [
      "Epoch 240/3000: 100%|██████████| 1/1 [00:00<00:00, 37.31it/s]\n",
      "Epoch 241/3000: 100%|██████████| 1/1 [00:00<00:00, 40.23it/s]\n",
      "Validation: 100%|██████████| 1/1 [00:00<00:00, 47.30it/s]\n"
     ]
    },
    {
     "name": "stdout",
     "output_type": "stream",
     "text": [
      "Epoch: 241, Train Loss: 220.6168, \n",
      "Validation Loss: 65.3093\n"
     ]
    },
    {
     "name": "stderr",
     "output_type": "stream",
     "text": [
      "Epoch 242/3000: 100%|██████████| 1/1 [00:00<00:00, 38.92it/s]\n",
      "Epoch 243/3000: 100%|██████████| 1/1 [00:00<00:00, 38.56it/s]\n",
      "Validation: 100%|██████████| 1/1 [00:00<00:00, 51.11it/s]\n"
     ]
    },
    {
     "name": "stdout",
     "output_type": "stream",
     "text": [
      "Epoch: 243, Train Loss: 245.8746, \n",
      "Validation Loss: 71.0762\n"
     ]
    },
    {
     "name": "stderr",
     "output_type": "stream",
     "text": [
      "Epoch 244/3000: 100%|██████████| 1/1 [00:00<00:00, 33.32it/s]\n",
      "Epoch 245/3000: 100%|██████████| 1/1 [00:00<00:00, 34.49it/s]\n",
      "Validation: 100%|██████████| 1/1 [00:00<00:00, 50.54it/s]\n"
     ]
    },
    {
     "name": "stdout",
     "output_type": "stream",
     "text": [
      "Epoch: 245, Train Loss: 277.6042, \n",
      "Validation Loss: 72.3051\n"
     ]
    },
    {
     "name": "stderr",
     "output_type": "stream",
     "text": [
      "Epoch 246/3000: 100%|██████████| 1/1 [00:00<00:00, 37.27it/s]\n",
      "Epoch 247/3000: 100%|██████████| 1/1 [00:00<00:00, 40.66it/s]\n",
      "Validation: 100%|██████████| 1/1 [00:00<00:00, 49.13it/s]\n"
     ]
    },
    {
     "name": "stdout",
     "output_type": "stream",
     "text": [
      "Epoch: 247, Train Loss: 292.6723, \n",
      "Validation Loss: 93.5737\n"
     ]
    },
    {
     "name": "stderr",
     "output_type": "stream",
     "text": [
      "Epoch 248/3000: 100%|██████████| 1/1 [00:00<00:00, 33.95it/s]\n",
      "Epoch 249/3000: 100%|██████████| 1/1 [00:00<00:00, 34.20it/s]\n",
      "Validation: 100%|██████████| 1/1 [00:00<00:00, 51.18it/s]\n"
     ]
    },
    {
     "name": "stdout",
     "output_type": "stream",
     "text": [
      "Epoch: 249, Train Loss: 324.1408, \n",
      "Validation Loss: 106.4334\n"
     ]
    },
    {
     "name": "stderr",
     "output_type": "stream",
     "text": [
      "Epoch 250/3000: 100%|██████████| 1/1 [00:00<00:00, 34.50it/s]\n",
      "Epoch 251/3000: 100%|██████████| 1/1 [00:00<00:00, 39.59it/s]\n",
      "Validation: 100%|██████████| 1/1 [00:00<00:00, 47.09it/s]\n"
     ]
    },
    {
     "name": "stdout",
     "output_type": "stream",
     "text": [
      "Epoch: 251, Train Loss: 335.4083, \n",
      "Validation Loss: 147.5274\n"
     ]
    },
    {
     "name": "stderr",
     "output_type": "stream",
     "text": [
      "Epoch 252/3000: 100%|██████████| 1/1 [00:00<00:00, 36.09it/s]\n",
      "Epoch 253/3000: 100%|██████████| 1/1 [00:00<00:00, 37.30it/s]\n",
      "Validation: 100%|██████████| 1/1 [00:00<00:00, 46.02it/s]\n"
     ]
    },
    {
     "name": "stdout",
     "output_type": "stream",
     "text": [
      "Epoch: 253, Train Loss: 241.0263, \n",
      "Validation Loss: 184.3740\n"
     ]
    },
    {
     "name": "stderr",
     "output_type": "stream",
     "text": [
      "Epoch 254/3000: 100%|██████████| 1/1 [00:00<00:00, 40.03it/s]\n",
      "Epoch 255/3000: 100%|██████████| 1/1 [00:00<00:00, 38.68it/s]\n",
      "Validation: 100%|██████████| 1/1 [00:00<00:00, 50.65it/s]\n"
     ]
    },
    {
     "name": "stdout",
     "output_type": "stream",
     "text": [
      "Epoch: 255, Train Loss: 454.2732, \n",
      "Validation Loss: 142.6695\n"
     ]
    },
    {
     "name": "stderr",
     "output_type": "stream",
     "text": [
      "Epoch 256/3000: 100%|██████████| 1/1 [00:00<00:00, 35.53it/s]\n",
      "Epoch 257/3000: 100%|██████████| 1/1 [00:00<00:00, 39.86it/s]\n",
      "Validation: 100%|██████████| 1/1 [00:00<00:00, 50.11it/s]\n"
     ]
    },
    {
     "name": "stdout",
     "output_type": "stream",
     "text": [
      "Epoch: 257, Train Loss: 197.4728, \n",
      "Validation Loss: 122.9573\n"
     ]
    },
    {
     "name": "stderr",
     "output_type": "stream",
     "text": [
      "Epoch 258/3000: 100%|██████████| 1/1 [00:00<00:00, 35.50it/s]\n",
      "Epoch 259/3000: 100%|██████████| 1/1 [00:00<00:00, 31.01it/s]\n",
      "Validation: 100%|██████████| 1/1 [00:00<00:00, 50.07it/s]\n"
     ]
    },
    {
     "name": "stdout",
     "output_type": "stream",
     "text": [
      "Epoch: 259, Train Loss: 333.8965, \n",
      "Validation Loss: 214.0177\n"
     ]
    },
    {
     "name": "stderr",
     "output_type": "stream",
     "text": [
      "Epoch 260/3000: 100%|██████████| 1/1 [00:00<00:00, 33.09it/s]\n",
      "Epoch 261/3000: 100%|██████████| 1/1 [00:00<00:00, 36.03it/s]\n",
      "Validation: 100%|██████████| 1/1 [00:00<00:00, 49.97it/s]\n"
     ]
    },
    {
     "name": "stdout",
     "output_type": "stream",
     "text": [
      "Epoch: 261, Train Loss: 306.8481, \n",
      "Validation Loss: 213.7236\n"
     ]
    },
    {
     "name": "stderr",
     "output_type": "stream",
     "text": [
      "Epoch 262/3000: 100%|██████████| 1/1 [00:00<00:00, 30.49it/s]\n",
      "Epoch 263/3000: 100%|██████████| 1/1 [00:00<00:00, 36.21it/s]\n",
      "Validation: 100%|██████████| 1/1 [00:00<00:00, 51.76it/s]\n"
     ]
    },
    {
     "name": "stdout",
     "output_type": "stream",
     "text": [
      "Epoch: 263, Train Loss: 278.6378, \n",
      "Validation Loss: 103.0444\n"
     ]
    },
    {
     "name": "stderr",
     "output_type": "stream",
     "text": [
      "Epoch 264/3000: 100%|██████████| 1/1 [00:00<00:00, 38.72it/s]\n",
      "Epoch 265/3000: 100%|██████████| 1/1 [00:00<00:00, 32.78it/s]\n",
      "Validation: 100%|██████████| 1/1 [00:00<00:00, 50.97it/s]\n"
     ]
    },
    {
     "name": "stdout",
     "output_type": "stream",
     "text": [
      "Epoch: 265, Train Loss: 301.8369, \n",
      "Validation Loss: 99.9467\n"
     ]
    },
    {
     "name": "stderr",
     "output_type": "stream",
     "text": [
      "Epoch 266/3000: 100%|██████████| 1/1 [00:00<00:00, 32.28it/s]\n",
      "Epoch 267/3000: 100%|██████████| 1/1 [00:00<00:00, 39.42it/s]\n",
      "Validation: 100%|██████████| 1/1 [00:00<00:00, 49.20it/s]\n"
     ]
    },
    {
     "name": "stdout",
     "output_type": "stream",
     "text": [
      "Epoch: 267, Train Loss: 220.8846, \n",
      "Validation Loss: 108.9890\n"
     ]
    },
    {
     "name": "stderr",
     "output_type": "stream",
     "text": [
      "Epoch 268/3000: 100%|██████████| 1/1 [00:00<00:00, 39.83it/s]\n",
      "Epoch 269/3000: 100%|██████████| 1/1 [00:00<00:00, 41.31it/s]\n",
      "Validation: 100%|██████████| 1/1 [00:00<00:00, 51.01it/s]\n"
     ]
    },
    {
     "name": "stdout",
     "output_type": "stream",
     "text": [
      "Epoch: 269, Train Loss: 190.8684, \n",
      "Validation Loss: 98.8829\n"
     ]
    },
    {
     "name": "stderr",
     "output_type": "stream",
     "text": [
      "Epoch 270/3000: 100%|██████████| 1/1 [00:00<00:00, 39.78it/s]\n",
      "Epoch 271/3000: 100%|██████████| 1/1 [00:00<00:00, 36.81it/s]\n",
      "Validation: 100%|██████████| 1/1 [00:00<00:00, 50.00it/s]\n"
     ]
    },
    {
     "name": "stdout",
     "output_type": "stream",
     "text": [
      "Epoch: 271, Train Loss: 196.7636, \n",
      "Validation Loss: 115.5697\n"
     ]
    },
    {
     "name": "stderr",
     "output_type": "stream",
     "text": [
      "Epoch 272/3000: 100%|██████████| 1/1 [00:00<00:00, 34.07it/s]\n",
      "Epoch 273/3000: 100%|██████████| 1/1 [00:00<00:00, 39.48it/s]\n",
      "Validation: 100%|██████████| 1/1 [00:00<00:00, 47.98it/s]\n"
     ]
    },
    {
     "name": "stdout",
     "output_type": "stream",
     "text": [
      "Epoch: 273, Train Loss: 299.4826, \n",
      "Validation Loss: 174.6940\n"
     ]
    },
    {
     "name": "stderr",
     "output_type": "stream",
     "text": [
      "Epoch 274/3000: 100%|██████████| 1/1 [00:00<00:00, 41.25it/s]\n",
      "Epoch 275/3000: 100%|██████████| 1/1 [00:00<00:00, 39.63it/s]\n",
      "Validation: 100%|██████████| 1/1 [00:00<00:00, 49.72it/s]\n"
     ]
    },
    {
     "name": "stdout",
     "output_type": "stream",
     "text": [
      "Epoch: 275, Train Loss: 302.8783, \n",
      "Validation Loss: 148.4796\n"
     ]
    },
    {
     "name": "stderr",
     "output_type": "stream",
     "text": [
      "Epoch 276/3000: 100%|██████████| 1/1 [00:00<00:00, 38.40it/s]\n",
      "Epoch 277/3000: 100%|██████████| 1/1 [00:00<00:00, 39.55it/s]\n",
      "Validation: 100%|██████████| 1/1 [00:00<00:00, 50.05it/s]\n"
     ]
    },
    {
     "name": "stdout",
     "output_type": "stream",
     "text": [
      "Epoch: 277, Train Loss: 242.7177, \n",
      "Validation Loss: 103.6167\n"
     ]
    },
    {
     "name": "stderr",
     "output_type": "stream",
     "text": [
      "Epoch 278/3000: 100%|██████████| 1/1 [00:00<00:00, 38.99it/s]\n",
      "Epoch 279/3000: 100%|██████████| 1/1 [00:00<00:00, 36.78it/s]\n",
      "Validation: 100%|██████████| 1/1 [00:00<00:00, 47.79it/s]\n"
     ]
    },
    {
     "name": "stdout",
     "output_type": "stream",
     "text": [
      "Epoch: 279, Train Loss: 214.4482, \n",
      "Validation Loss: 96.7241\n"
     ]
    },
    {
     "name": "stderr",
     "output_type": "stream",
     "text": [
      "Epoch 280/3000: 100%|██████████| 1/1 [00:00<00:00, 36.17it/s]\n",
      "Epoch 281/3000: 100%|██████████| 1/1 [00:00<00:00, 39.38it/s]\n",
      "Validation: 100%|██████████| 1/1 [00:00<00:00, 49.42it/s]\n"
     ]
    },
    {
     "name": "stdout",
     "output_type": "stream",
     "text": [
      "Epoch: 281, Train Loss: 113.5157, \n",
      "Validation Loss: 93.5877\n"
     ]
    },
    {
     "name": "stderr",
     "output_type": "stream",
     "text": [
      "Epoch 282/3000: 100%|██████████| 1/1 [00:00<00:00, 36.02it/s]\n",
      "Epoch 283/3000: 100%|██████████| 1/1 [00:00<00:00, 38.29it/s]\n",
      "Validation: 100%|██████████| 1/1 [00:00<00:00, 45.83it/s]\n"
     ]
    },
    {
     "name": "stdout",
     "output_type": "stream",
     "text": [
      "Epoch: 283, Train Loss: 187.1196, \n",
      "Validation Loss: 81.0388\n"
     ]
    },
    {
     "name": "stderr",
     "output_type": "stream",
     "text": [
      "Epoch 284/3000: 100%|██████████| 1/1 [00:00<00:00, 38.39it/s]\n",
      "Epoch 285/3000: 100%|██████████| 1/1 [00:00<00:00, 38.78it/s]\n",
      "Validation: 100%|██████████| 1/1 [00:00<00:00, 49.07it/s]\n"
     ]
    },
    {
     "name": "stdout",
     "output_type": "stream",
     "text": [
      "Epoch: 285, Train Loss: 262.4746, \n",
      "Validation Loss: 97.8296\n"
     ]
    },
    {
     "name": "stderr",
     "output_type": "stream",
     "text": [
      "Epoch 286/3000: 100%|██████████| 1/1 [00:00<00:00, 36.04it/s]\n",
      "Epoch 287/3000: 100%|██████████| 1/1 [00:00<00:00, 40.05it/s]\n",
      "Validation: 100%|██████████| 1/1 [00:00<00:00, 45.11it/s]\n"
     ]
    },
    {
     "name": "stdout",
     "output_type": "stream",
     "text": [
      "Epoch: 287, Train Loss: 236.8597, \n",
      "Validation Loss: 100.3327\n"
     ]
    },
    {
     "name": "stderr",
     "output_type": "stream",
     "text": [
      "Epoch 288/3000: 100%|██████████| 1/1 [00:00<00:00, 39.28it/s]\n",
      "Epoch 289/3000: 100%|██████████| 1/1 [00:00<00:00, 38.62it/s]\n",
      "Validation: 100%|██████████| 1/1 [00:00<00:00, 47.06it/s]\n"
     ]
    },
    {
     "name": "stdout",
     "output_type": "stream",
     "text": [
      "Epoch: 289, Train Loss: 236.2017, \n",
      "Validation Loss: 64.4593\n"
     ]
    },
    {
     "name": "stderr",
     "output_type": "stream",
     "text": [
      "Epoch 290/3000: 100%|██████████| 1/1 [00:00<00:00, 32.26it/s]\n",
      "Epoch 291/3000: 100%|██████████| 1/1 [00:00<00:00, 38.96it/s]\n",
      "Validation: 100%|██████████| 1/1 [00:00<00:00, 44.18it/s]\n"
     ]
    },
    {
     "name": "stdout",
     "output_type": "stream",
     "text": [
      "Epoch: 291, Train Loss: 179.1210, \n",
      "Validation Loss: 69.7456\n"
     ]
    },
    {
     "name": "stderr",
     "output_type": "stream",
     "text": [
      "Epoch 292/3000: 100%|██████████| 1/1 [00:00<00:00, 37.87it/s]\n",
      "Epoch 293/3000: 100%|██████████| 1/1 [00:00<00:00, 38.32it/s]\n",
      "Validation: 100%|██████████| 1/1 [00:00<00:00, 48.35it/s]\n"
     ]
    },
    {
     "name": "stdout",
     "output_type": "stream",
     "text": [
      "Epoch: 293, Train Loss: 228.1271, \n",
      "Validation Loss: 98.8250\n"
     ]
    },
    {
     "name": "stderr",
     "output_type": "stream",
     "text": [
      "Epoch 294/3000: 100%|██████████| 1/1 [00:00<00:00, 36.05it/s]\n",
      "Epoch 295/3000: 100%|██████████| 1/1 [00:00<00:00, 39.04it/s]\n",
      "Validation: 100%|██████████| 1/1 [00:00<00:00, 47.67it/s]\n"
     ]
    },
    {
     "name": "stdout",
     "output_type": "stream",
     "text": [
      "Epoch: 295, Train Loss: 204.2855, \n",
      "Validation Loss: 70.2163\n"
     ]
    },
    {
     "name": "stderr",
     "output_type": "stream",
     "text": [
      "Epoch 296/3000: 100%|██████████| 1/1 [00:00<00:00, 39.64it/s]\n",
      "Epoch 297/3000: 100%|██████████| 1/1 [00:00<00:00, 39.06it/s]\n",
      "Validation: 100%|██████████| 1/1 [00:00<00:00, 49.07it/s]\n"
     ]
    },
    {
     "name": "stdout",
     "output_type": "stream",
     "text": [
      "Epoch: 297, Train Loss: 174.7940, \n",
      "Validation Loss: 52.7380\n"
     ]
    },
    {
     "name": "stderr",
     "output_type": "stream",
     "text": [
      "Epoch 298/3000: 100%|██████████| 1/1 [00:00<00:00, 39.89it/s]\n",
      "Epoch 299/3000: 100%|██████████| 1/1 [00:00<00:00, 40.90it/s]\n",
      "Validation: 100%|██████████| 1/1 [00:00<00:00, 51.11it/s]\n"
     ]
    },
    {
     "name": "stdout",
     "output_type": "stream",
     "text": [
      "Epoch: 299, Train Loss: 212.8268, \n",
      "Validation Loss: 50.5419\n"
     ]
    },
    {
     "name": "stderr",
     "output_type": "stream",
     "text": [
      "Epoch 300/3000: 100%|██████████| 1/1 [00:00<00:00, 38.22it/s]\n",
      "Epoch 301/3000: 100%|██████████| 1/1 [00:00<00:00, 38.52it/s]\n",
      "Validation: 100%|██████████| 1/1 [00:00<00:00, 51.42it/s]\n"
     ]
    },
    {
     "name": "stdout",
     "output_type": "stream",
     "text": [
      "Epoch: 301, Train Loss: 173.1384, \n",
      "Validation Loss: 50.7292\n"
     ]
    },
    {
     "name": "stderr",
     "output_type": "stream",
     "text": [
      "Epoch 302/3000: 100%|██████████| 1/1 [00:00<00:00, 36.24it/s]\n",
      "Epoch 303/3000: 100%|██████████| 1/1 [00:00<00:00, 38.33it/s]\n",
      "Validation: 100%|██████████| 1/1 [00:00<00:00, 44.77it/s]\n"
     ]
    },
    {
     "name": "stdout",
     "output_type": "stream",
     "text": [
      "Epoch: 303, Train Loss: 150.0625, \n",
      "Validation Loss: 61.1621\n"
     ]
    },
    {
     "name": "stderr",
     "output_type": "stream",
     "text": [
      "Epoch 304/3000: 100%|██████████| 1/1 [00:00<00:00, 37.33it/s]\n",
      "Epoch 305/3000: 100%|██████████| 1/1 [00:00<00:00, 33.03it/s]\n",
      "Validation: 100%|██████████| 1/1 [00:00<00:00, 50.08it/s]\n"
     ]
    },
    {
     "name": "stdout",
     "output_type": "stream",
     "text": [
      "Epoch: 305, Train Loss: 143.4126, \n",
      "Validation Loss: 53.1794\n"
     ]
    },
    {
     "name": "stderr",
     "output_type": "stream",
     "text": [
      "Epoch 306/3000: 100%|██████████| 1/1 [00:00<00:00, 38.84it/s]\n",
      "Epoch 307/3000: 100%|██████████| 1/1 [00:00<00:00, 37.09it/s]\n",
      "Validation: 100%|██████████| 1/1 [00:00<00:00, 46.01it/s]\n"
     ]
    },
    {
     "name": "stdout",
     "output_type": "stream",
     "text": [
      "Epoch: 307, Train Loss: 294.3652, \n",
      "Validation Loss: 55.0120\n"
     ]
    },
    {
     "name": "stderr",
     "output_type": "stream",
     "text": [
      "Epoch 308/3000: 100%|██████████| 1/1 [00:00<00:00, 36.99it/s]\n",
      "Epoch 309/3000: 100%|██████████| 1/1 [00:00<00:00, 35.33it/s]\n",
      "Validation: 100%|██████████| 1/1 [00:00<00:00, 50.45it/s]\n"
     ]
    },
    {
     "name": "stdout",
     "output_type": "stream",
     "text": [
      "Epoch: 309, Train Loss: 195.4242, \n",
      "Validation Loss: 73.6103\n"
     ]
    },
    {
     "name": "stderr",
     "output_type": "stream",
     "text": [
      "Epoch 310/3000: 100%|██████████| 1/1 [00:00<00:00, 38.44it/s]\n",
      "Epoch 311/3000: 100%|██████████| 1/1 [00:00<00:00, 36.98it/s]\n",
      "Validation: 100%|██████████| 1/1 [00:00<00:00, 49.14it/s]\n"
     ]
    },
    {
     "name": "stdout",
     "output_type": "stream",
     "text": [
      "Epoch: 311, Train Loss: 172.3924, \n",
      "Validation Loss: 77.6810\n"
     ]
    },
    {
     "name": "stderr",
     "output_type": "stream",
     "text": [
      "Epoch 312/3000: 100%|██████████| 1/1 [00:00<00:00, 39.81it/s]\n",
      "Epoch 313/3000: 100%|██████████| 1/1 [00:00<00:00, 39.84it/s]\n",
      "Validation: 100%|██████████| 1/1 [00:00<00:00, 48.97it/s]\n"
     ]
    },
    {
     "name": "stdout",
     "output_type": "stream",
     "text": [
      "Epoch: 313, Train Loss: 324.7290, \n",
      "Validation Loss: 69.1576\n"
     ]
    },
    {
     "name": "stderr",
     "output_type": "stream",
     "text": [
      "Epoch 314/3000: 100%|██████████| 1/1 [00:00<00:00, 39.15it/s]\n",
      "Epoch 315/3000: 100%|██████████| 1/1 [00:00<00:00, 38.26it/s]\n",
      "Validation: 100%|██████████| 1/1 [00:00<00:00, 48.73it/s]\n"
     ]
    },
    {
     "name": "stdout",
     "output_type": "stream",
     "text": [
      "Epoch: 315, Train Loss: 219.9823, \n",
      "Validation Loss: 83.4288\n"
     ]
    },
    {
     "name": "stderr",
     "output_type": "stream",
     "text": [
      "Epoch 316/3000: 100%|██████████| 1/1 [00:00<00:00, 36.42it/s]\n",
      "Epoch 317/3000: 100%|██████████| 1/1 [00:00<00:00, 38.20it/s]\n",
      "Validation: 100%|██████████| 1/1 [00:00<00:00, 45.73it/s]\n"
     ]
    },
    {
     "name": "stdout",
     "output_type": "stream",
     "text": [
      "Epoch: 317, Train Loss: 167.6151, \n",
      "Validation Loss: 73.0431\n"
     ]
    },
    {
     "name": "stderr",
     "output_type": "stream",
     "text": [
      "Epoch 318/3000: 100%|██████████| 1/1 [00:00<00:00, 39.92it/s]\n",
      "Epoch 319/3000: 100%|██████████| 1/1 [00:00<00:00, 40.09it/s]\n",
      "Validation: 100%|██████████| 1/1 [00:00<00:00, 46.59it/s]\n"
     ]
    },
    {
     "name": "stdout",
     "output_type": "stream",
     "text": [
      "Epoch: 319, Train Loss: 168.5087, \n",
      "Validation Loss: 44.5049\n"
     ]
    },
    {
     "name": "stderr",
     "output_type": "stream",
     "text": [
      "Epoch 320/3000: 100%|██████████| 1/1 [00:00<00:00, 39.13it/s]\n",
      "Epoch 321/3000: 100%|██████████| 1/1 [00:00<00:00, 34.08it/s]\n",
      "Validation: 100%|██████████| 1/1 [00:00<00:00, 47.20it/s]\n"
     ]
    },
    {
     "name": "stdout",
     "output_type": "stream",
     "text": [
      "Epoch: 321, Train Loss: 210.4651, \n",
      "Validation Loss: 61.9581\n"
     ]
    },
    {
     "name": "stderr",
     "output_type": "stream",
     "text": [
      "Epoch 322/3000: 100%|██████████| 1/1 [00:00<00:00, 38.27it/s]\n",
      "Epoch 323/3000: 100%|██████████| 1/1 [00:00<00:00, 35.20it/s]\n",
      "Validation: 100%|██████████| 1/1 [00:00<00:00, 51.70it/s]\n"
     ]
    },
    {
     "name": "stdout",
     "output_type": "stream",
     "text": [
      "Epoch: 323, Train Loss: 224.6203, \n",
      "Validation Loss: 67.9590\n"
     ]
    },
    {
     "name": "stderr",
     "output_type": "stream",
     "text": [
      "Epoch 324/3000: 100%|██████████| 1/1 [00:00<00:00, 39.85it/s]\n",
      "Epoch 325/3000: 100%|██████████| 1/1 [00:00<00:00, 40.15it/s]\n",
      "Validation: 100%|██████████| 1/1 [00:00<00:00, 46.68it/s]\n"
     ]
    },
    {
     "name": "stdout",
     "output_type": "stream",
     "text": [
      "Epoch: 325, Train Loss: 222.2957, \n",
      "Validation Loss: 53.9363\n"
     ]
    },
    {
     "name": "stderr",
     "output_type": "stream",
     "text": [
      "Epoch 326/3000: 100%|██████████| 1/1 [00:00<00:00, 34.38it/s]\n",
      "Epoch 327/3000: 100%|██████████| 1/1 [00:00<00:00, 37.19it/s]\n",
      "Validation: 100%|██████████| 1/1 [00:00<00:00, 41.74it/s]\n"
     ]
    },
    {
     "name": "stdout",
     "output_type": "stream",
     "text": [
      "Epoch: 327, Train Loss: 96.8145, \n",
      "Validation Loss: 70.2092\n"
     ]
    },
    {
     "name": "stderr",
     "output_type": "stream",
     "text": [
      "Epoch 328/3000: 100%|██████████| 1/1 [00:00<00:00, 37.68it/s]\n",
      "Epoch 329/3000: 100%|██████████| 1/1 [00:00<00:00, 33.97it/s]\n",
      "Validation: 100%|██████████| 1/1 [00:00<00:00, 46.55it/s]\n"
     ]
    },
    {
     "name": "stdout",
     "output_type": "stream",
     "text": [
      "Epoch: 329, Train Loss: 160.1796, \n",
      "Validation Loss: 99.9876\n"
     ]
    },
    {
     "name": "stderr",
     "output_type": "stream",
     "text": [
      "Epoch 330/3000: 100%|██████████| 1/1 [00:00<00:00, 40.65it/s]\n",
      "Epoch 331/3000: 100%|██████████| 1/1 [00:00<00:00, 37.54it/s]\n",
      "Validation: 100%|██████████| 1/1 [00:00<00:00, 47.67it/s]\n"
     ]
    },
    {
     "name": "stdout",
     "output_type": "stream",
     "text": [
      "Epoch: 331, Train Loss: 99.5439, \n",
      "Validation Loss: 99.0774\n"
     ]
    },
    {
     "name": "stderr",
     "output_type": "stream",
     "text": [
      "Epoch 332/3000: 100%|██████████| 1/1 [00:00<00:00, 35.78it/s]\n",
      "Epoch 333/3000: 100%|██████████| 1/1 [00:00<00:00, 37.21it/s]\n",
      "Validation: 100%|██████████| 1/1 [00:00<00:00, 45.44it/s]\n"
     ]
    },
    {
     "name": "stdout",
     "output_type": "stream",
     "text": [
      "Epoch: 333, Train Loss: 108.1095, \n",
      "Validation Loss: 84.1540\n"
     ]
    },
    {
     "name": "stderr",
     "output_type": "stream",
     "text": [
      "Epoch 334/3000: 100%|██████████| 1/1 [00:00<00:00, 39.37it/s]\n",
      "Epoch 335/3000: 100%|██████████| 1/1 [00:00<00:00, 38.55it/s]\n",
      "Validation: 100%|██████████| 1/1 [00:00<00:00, 48.40it/s]\n"
     ]
    },
    {
     "name": "stdout",
     "output_type": "stream",
     "text": [
      "Epoch: 335, Train Loss: 194.2413, \n",
      "Validation Loss: 74.3624\n"
     ]
    },
    {
     "name": "stderr",
     "output_type": "stream",
     "text": [
      "Epoch 336/3000: 100%|██████████| 1/1 [00:00<00:00, 35.80it/s]\n",
      "Epoch 337/3000: 100%|██████████| 1/1 [00:00<00:00, 37.89it/s]\n",
      "Validation: 100%|██████████| 1/1 [00:00<00:00, 49.12it/s]\n"
     ]
    },
    {
     "name": "stdout",
     "output_type": "stream",
     "text": [
      "Epoch: 337, Train Loss: 162.8452, \n",
      "Validation Loss: 63.1749\n"
     ]
    },
    {
     "name": "stderr",
     "output_type": "stream",
     "text": [
      "Epoch 338/3000: 100%|██████████| 1/1 [00:00<00:00, 39.71it/s]\n",
      "Epoch 339/3000: 100%|██████████| 1/1 [00:00<00:00, 38.45it/s]\n",
      "Validation: 100%|██████████| 1/1 [00:00<00:00, 50.97it/s]\n"
     ]
    },
    {
     "name": "stdout",
     "output_type": "stream",
     "text": [
      "Epoch: 339, Train Loss: 149.3084, \n",
      "Validation Loss: 50.0797\n"
     ]
    },
    {
     "name": "stderr",
     "output_type": "stream",
     "text": [
      "Epoch 340/3000: 100%|██████████| 1/1 [00:00<00:00, 29.40it/s]\n",
      "Epoch 341/3000: 100%|██████████| 1/1 [00:00<00:00, 33.18it/s]\n",
      "Validation: 100%|██████████| 1/1 [00:00<00:00, 46.87it/s]\n"
     ]
    },
    {
     "name": "stdout",
     "output_type": "stream",
     "text": [
      "Epoch: 341, Train Loss: 130.6206, \n",
      "Validation Loss: 66.7216\n"
     ]
    },
    {
     "name": "stderr",
     "output_type": "stream",
     "text": [
      "Epoch 342/3000: 100%|██████████| 1/1 [00:00<00:00, 40.97it/s]\n",
      "Epoch 343/3000: 100%|██████████| 1/1 [00:00<00:00, 34.67it/s]\n",
      "Validation: 100%|██████████| 1/1 [00:00<00:00, 49.83it/s]\n"
     ]
    },
    {
     "name": "stdout",
     "output_type": "stream",
     "text": [
      "Epoch: 343, Train Loss: 162.2255, \n",
      "Validation Loss: 68.1733\n"
     ]
    },
    {
     "name": "stderr",
     "output_type": "stream",
     "text": [
      "Epoch 344/3000: 100%|██████████| 1/1 [00:00<00:00, 36.49it/s]\n",
      "Epoch 345/3000: 100%|██████████| 1/1 [00:00<00:00, 40.32it/s]\n",
      "Validation: 100%|██████████| 1/1 [00:00<00:00, 48.09it/s]\n"
     ]
    },
    {
     "name": "stdout",
     "output_type": "stream",
     "text": [
      "Epoch: 345, Train Loss: 98.5535, \n",
      "Validation Loss: 62.7029\n"
     ]
    },
    {
     "name": "stderr",
     "output_type": "stream",
     "text": [
      "Epoch 346/3000: 100%|██████████| 1/1 [00:00<00:00, 39.29it/s]\n",
      "Epoch 347/3000: 100%|██████████| 1/1 [00:00<00:00, 38.10it/s]\n",
      "Validation: 100%|██████████| 1/1 [00:00<00:00, 44.92it/s]\n"
     ]
    },
    {
     "name": "stdout",
     "output_type": "stream",
     "text": [
      "Epoch: 347, Train Loss: 151.3857, \n",
      "Validation Loss: 78.9196\n"
     ]
    },
    {
     "name": "stderr",
     "output_type": "stream",
     "text": [
      "Epoch 348/3000: 100%|██████████| 1/1 [00:00<00:00, 35.86it/s]\n",
      "Epoch 349/3000: 100%|██████████| 1/1 [00:00<00:00, 36.44it/s]\n",
      "Validation: 100%|██████████| 1/1 [00:00<00:00, 44.18it/s]\n"
     ]
    },
    {
     "name": "stdout",
     "output_type": "stream",
     "text": [
      "Epoch: 349, Train Loss: 235.8818, \n",
      "Validation Loss: 93.9815\n"
     ]
    },
    {
     "name": "stderr",
     "output_type": "stream",
     "text": [
      "Epoch 350/3000: 100%|██████████| 1/1 [00:00<00:00, 39.85it/s]\n",
      "Epoch 351/3000: 100%|██████████| 1/1 [00:00<00:00, 36.65it/s]\n",
      "Validation: 100%|██████████| 1/1 [00:00<00:00, 42.19it/s]\n"
     ]
    },
    {
     "name": "stdout",
     "output_type": "stream",
     "text": [
      "Epoch: 351, Train Loss: 215.2687, \n",
      "Validation Loss: 60.1167\n"
     ]
    },
    {
     "name": "stderr",
     "output_type": "stream",
     "text": [
      "Epoch 352/3000: 100%|██████████| 1/1 [00:00<00:00, 40.84it/s]\n",
      "Epoch 353/3000: 100%|██████████| 1/1 [00:00<00:00, 40.25it/s]\n",
      "Validation: 100%|██████████| 1/1 [00:00<00:00, 49.05it/s]\n"
     ]
    },
    {
     "name": "stdout",
     "output_type": "stream",
     "text": [
      "Epoch: 353, Train Loss: 108.2232, \n",
      "Validation Loss: 37.1094\n"
     ]
    },
    {
     "name": "stderr",
     "output_type": "stream",
     "text": [
      "Epoch 354/3000: 100%|██████████| 1/1 [00:00<00:00, 39.30it/s]\n",
      "Epoch 355/3000: 100%|██████████| 1/1 [00:00<00:00, 36.00it/s]\n",
      "Validation: 100%|██████████| 1/1 [00:00<00:00, 48.68it/s]\n"
     ]
    },
    {
     "name": "stdout",
     "output_type": "stream",
     "text": [
      "Epoch: 355, Train Loss: 185.9949, \n",
      "Validation Loss: 57.2507\n"
     ]
    },
    {
     "name": "stderr",
     "output_type": "stream",
     "text": [
      "Epoch 356/3000: 100%|██████████| 1/1 [00:00<00:00, 39.35it/s]\n",
      "Epoch 357/3000: 100%|██████████| 1/1 [00:00<00:00, 33.47it/s]\n",
      "Validation: 100%|██████████| 1/1 [00:00<00:00, 46.38it/s]\n"
     ]
    },
    {
     "name": "stdout",
     "output_type": "stream",
     "text": [
      "Epoch: 357, Train Loss: 235.4311, \n",
      "Validation Loss: 98.8825\n"
     ]
    },
    {
     "name": "stderr",
     "output_type": "stream",
     "text": [
      "Epoch 358/3000: 100%|██████████| 1/1 [00:00<00:00, 32.77it/s]\n",
      "Epoch 359/3000: 100%|██████████| 1/1 [00:00<00:00, 39.20it/s]\n",
      "Validation: 100%|██████████| 1/1 [00:00<00:00, 43.99it/s]\n"
     ]
    },
    {
     "name": "stdout",
     "output_type": "stream",
     "text": [
      "Epoch: 359, Train Loss: 220.8095, \n",
      "Validation Loss: 83.1818\n"
     ]
    },
    {
     "name": "stderr",
     "output_type": "stream",
     "text": [
      "Epoch 360/3000: 100%|██████████| 1/1 [00:00<00:00, 39.00it/s]\n",
      "Epoch 361/3000: 100%|██████████| 1/1 [00:00<00:00, 39.07it/s]\n",
      "Validation: 100%|██████████| 1/1 [00:00<00:00, 49.13it/s]\n"
     ]
    },
    {
     "name": "stdout",
     "output_type": "stream",
     "text": [
      "Epoch: 361, Train Loss: 314.3282, \n",
      "Validation Loss: 74.8439\n"
     ]
    },
    {
     "name": "stderr",
     "output_type": "stream",
     "text": [
      "Epoch 362/3000: 100%|██████████| 1/1 [00:00<00:00, 38.42it/s]\n",
      "Epoch 363/3000: 100%|██████████| 1/1 [00:00<00:00, 32.19it/s]\n",
      "Validation: 100%|██████████| 1/1 [00:00<00:00, 49.73it/s]\n"
     ]
    },
    {
     "name": "stdout",
     "output_type": "stream",
     "text": [
      "Epoch: 363, Train Loss: 238.2017, \n",
      "Validation Loss: 84.5901\n"
     ]
    },
    {
     "name": "stderr",
     "output_type": "stream",
     "text": [
      "Epoch 364/3000: 100%|██████████| 1/1 [00:00<00:00, 38.58it/s]\n",
      "Epoch 365/3000: 100%|██████████| 1/1 [00:00<00:00, 40.40it/s]\n",
      "Validation: 100%|██████████| 1/1 [00:00<00:00, 50.25it/s]\n"
     ]
    },
    {
     "name": "stdout",
     "output_type": "stream",
     "text": [
      "Epoch: 365, Train Loss: 171.3945, \n",
      "Validation Loss: 55.3514\n"
     ]
    },
    {
     "name": "stderr",
     "output_type": "stream",
     "text": [
      "Epoch 366/3000: 100%|██████████| 1/1 [00:00<00:00, 38.97it/s]\n",
      "Epoch 367/3000: 100%|██████████| 1/1 [00:00<00:00, 39.06it/s]\n",
      "Validation: 100%|██████████| 1/1 [00:00<00:00, 50.27it/s]\n"
     ]
    },
    {
     "name": "stdout",
     "output_type": "stream",
     "text": [
      "Epoch: 367, Train Loss: 204.9601, \n",
      "Validation Loss: 54.6996\n"
     ]
    },
    {
     "name": "stderr",
     "output_type": "stream",
     "text": [
      "Epoch 368/3000: 100%|██████████| 1/1 [00:00<00:00, 33.57it/s]\n",
      "Epoch 369/3000: 100%|██████████| 1/1 [00:00<00:00, 33.42it/s]\n",
      "Validation: 100%|██████████| 1/1 [00:00<00:00, 49.97it/s]\n"
     ]
    },
    {
     "name": "stdout",
     "output_type": "stream",
     "text": [
      "Epoch: 369, Train Loss: 125.3610, \n",
      "Validation Loss: 69.2360\n"
     ]
    },
    {
     "name": "stderr",
     "output_type": "stream",
     "text": [
      "Epoch 370/3000: 100%|██████████| 1/1 [00:00<00:00, 38.47it/s]\n",
      "Epoch 371/3000: 100%|██████████| 1/1 [00:00<00:00, 31.67it/s]\n",
      "Validation: 100%|██████████| 1/1 [00:00<00:00, 46.78it/s]\n"
     ]
    },
    {
     "name": "stdout",
     "output_type": "stream",
     "text": [
      "Epoch: 371, Train Loss: 232.2935, \n",
      "Validation Loss: 60.1430\n"
     ]
    },
    {
     "name": "stderr",
     "output_type": "stream",
     "text": [
      "Epoch 372/3000: 100%|██████████| 1/1 [00:00<00:00, 36.19it/s]\n",
      "Epoch 373/3000: 100%|██████████| 1/1 [00:00<00:00, 33.11it/s]\n",
      "Validation: 100%|██████████| 1/1 [00:00<00:00, 50.67it/s]\n"
     ]
    },
    {
     "name": "stdout",
     "output_type": "stream",
     "text": [
      "Epoch: 373, Train Loss: 189.4406, \n",
      "Validation Loss: 57.7116\n"
     ]
    },
    {
     "name": "stderr",
     "output_type": "stream",
     "text": [
      "Epoch 374/3000: 100%|██████████| 1/1 [00:00<00:00, 36.92it/s]\n",
      "Epoch 375/3000: 100%|██████████| 1/1 [00:00<00:00, 39.69it/s]\n",
      "Validation: 100%|██████████| 1/1 [00:00<00:00, 49.65it/s]\n"
     ]
    },
    {
     "name": "stdout",
     "output_type": "stream",
     "text": [
      "Epoch: 375, Train Loss: 182.1282, \n",
      "Validation Loss: 77.6999\n"
     ]
    },
    {
     "name": "stderr",
     "output_type": "stream",
     "text": [
      "Epoch 376/3000: 100%|██████████| 1/1 [00:00<00:00, 39.47it/s]\n",
      "Epoch 377/3000: 100%|██████████| 1/1 [00:00<00:00, 37.22it/s]\n",
      "Validation: 100%|██████████| 1/1 [00:00<00:00, 49.71it/s]\n"
     ]
    },
    {
     "name": "stdout",
     "output_type": "stream",
     "text": [
      "Epoch: 377, Train Loss: 246.4229, \n",
      "Validation Loss: 87.9935\n"
     ]
    },
    {
     "name": "stderr",
     "output_type": "stream",
     "text": [
      "Epoch 378/3000: 100%|██████████| 1/1 [00:00<00:00, 39.58it/s]\n",
      "Epoch 379/3000: 100%|██████████| 1/1 [00:00<00:00, 38.77it/s]\n",
      "Validation: 100%|██████████| 1/1 [00:00<00:00, 45.38it/s]\n"
     ]
    },
    {
     "name": "stdout",
     "output_type": "stream",
     "text": [
      "Epoch: 379, Train Loss: 183.7514, \n",
      "Validation Loss: 81.6875\n"
     ]
    },
    {
     "name": "stderr",
     "output_type": "stream",
     "text": [
      "Epoch 380/3000: 100%|██████████| 1/1 [00:00<00:00, 37.59it/s]\n",
      "Epoch 381/3000: 100%|██████████| 1/1 [00:00<00:00, 40.30it/s]\n",
      "Validation: 100%|██████████| 1/1 [00:00<00:00, 49.25it/s]\n"
     ]
    },
    {
     "name": "stdout",
     "output_type": "stream",
     "text": [
      "Epoch: 381, Train Loss: 351.0095, \n",
      "Validation Loss: 63.4514\n"
     ]
    },
    {
     "name": "stderr",
     "output_type": "stream",
     "text": [
      "Epoch 382/3000: 100%|██████████| 1/1 [00:00<00:00, 34.50it/s]\n",
      "Epoch 383/3000: 100%|██████████| 1/1 [00:00<00:00, 39.01it/s]\n",
      "Validation: 100%|██████████| 1/1 [00:00<00:00, 45.02it/s]\n"
     ]
    },
    {
     "name": "stdout",
     "output_type": "stream",
     "text": [
      "Epoch: 383, Train Loss: 115.3610, \n",
      "Validation Loss: 62.3693\n"
     ]
    },
    {
     "name": "stderr",
     "output_type": "stream",
     "text": [
      "Epoch 384/3000: 100%|██████████| 1/1 [00:00<00:00, 34.00it/s]\n",
      "Epoch 385/3000: 100%|██████████| 1/1 [00:00<00:00, 32.46it/s]\n",
      "Validation: 100%|██████████| 1/1 [00:00<00:00, 44.49it/s]\n"
     ]
    },
    {
     "name": "stdout",
     "output_type": "stream",
     "text": [
      "Epoch: 385, Train Loss: 174.8157, \n",
      "Validation Loss: 67.4366\n"
     ]
    },
    {
     "name": "stderr",
     "output_type": "stream",
     "text": [
      "Epoch 386/3000: 100%|██████████| 1/1 [00:00<00:00, 37.68it/s]\n",
      "Epoch 387/3000: 100%|██████████| 1/1 [00:00<00:00, 38.82it/s]\n",
      "Validation: 100%|██████████| 1/1 [00:00<00:00, 44.93it/s]\n"
     ]
    },
    {
     "name": "stdout",
     "output_type": "stream",
     "text": [
      "Epoch: 387, Train Loss: 142.2895, \n",
      "Validation Loss: 80.5203\n"
     ]
    },
    {
     "name": "stderr",
     "output_type": "stream",
     "text": [
      "Epoch 388/3000: 100%|██████████| 1/1 [00:00<00:00, 40.24it/s]\n",
      "Epoch 389/3000: 100%|██████████| 1/1 [00:00<00:00, 38.34it/s]\n",
      "Validation: 100%|██████████| 1/1 [00:00<00:00, 50.19it/s]\n"
     ]
    },
    {
     "name": "stdout",
     "output_type": "stream",
     "text": [
      "Epoch: 389, Train Loss: 210.7065, \n",
      "Validation Loss: 70.5507\n"
     ]
    },
    {
     "name": "stderr",
     "output_type": "stream",
     "text": [
      "Epoch 390/3000: 100%|██████████| 1/1 [00:00<00:00, 37.36it/s]\n",
      "Epoch 391/3000: 100%|██████████| 1/1 [00:00<00:00, 38.41it/s]\n",
      "Validation: 100%|██████████| 1/1 [00:00<00:00, 45.81it/s]\n"
     ]
    },
    {
     "name": "stdout",
     "output_type": "stream",
     "text": [
      "Epoch: 391, Train Loss: 188.2624, \n",
      "Validation Loss: 50.6620\n"
     ]
    },
    {
     "name": "stderr",
     "output_type": "stream",
     "text": [
      "Epoch 392/3000: 100%|██████████| 1/1 [00:00<00:00, 35.63it/s]\n",
      "Epoch 393/3000: 100%|██████████| 1/1 [00:00<00:00, 33.54it/s]\n",
      "Validation: 100%|██████████| 1/1 [00:00<00:00, 47.02it/s]\n"
     ]
    },
    {
     "name": "stdout",
     "output_type": "stream",
     "text": [
      "Epoch: 393, Train Loss: 188.2514, \n",
      "Validation Loss: 41.2347\n"
     ]
    },
    {
     "name": "stderr",
     "output_type": "stream",
     "text": [
      "Epoch 394/3000: 100%|██████████| 1/1 [00:00<00:00, 38.27it/s]\n",
      "Epoch 395/3000: 100%|██████████| 1/1 [00:00<00:00, 38.33it/s]\n",
      "Validation: 100%|██████████| 1/1 [00:00<00:00, 41.61it/s]\n"
     ]
    },
    {
     "name": "stdout",
     "output_type": "stream",
     "text": [
      "Epoch: 395, Train Loss: 192.8363, \n",
      "Validation Loss: 69.3320\n"
     ]
    },
    {
     "name": "stderr",
     "output_type": "stream",
     "text": [
      "Epoch 396/3000: 100%|██████████| 1/1 [00:00<00:00, 38.81it/s]\n",
      "Epoch 397/3000: 100%|██████████| 1/1 [00:00<00:00, 39.43it/s]\n",
      "Validation: 100%|██████████| 1/1 [00:00<00:00, 50.62it/s]\n"
     ]
    },
    {
     "name": "stdout",
     "output_type": "stream",
     "text": [
      "Epoch: 397, Train Loss: 258.5797, \n",
      "Validation Loss: 93.6358\n"
     ]
    },
    {
     "name": "stderr",
     "output_type": "stream",
     "text": [
      "Epoch 398/3000: 100%|██████████| 1/1 [00:00<00:00, 34.55it/s]\n",
      "Epoch 399/3000: 100%|██████████| 1/1 [00:00<00:00, 36.41it/s]\n",
      "Validation: 100%|██████████| 1/1 [00:00<00:00, 49.66it/s]\n"
     ]
    },
    {
     "name": "stdout",
     "output_type": "stream",
     "text": [
      "Epoch: 399, Train Loss: 185.9375, \n",
      "Validation Loss: 89.7242\n"
     ]
    },
    {
     "name": "stderr",
     "output_type": "stream",
     "text": [
      "Epoch 400/3000: 100%|██████████| 1/1 [00:00<00:00, 38.98it/s]\n",
      "Epoch 401/3000: 100%|██████████| 1/1 [00:00<00:00, 38.85it/s]\n",
      "Validation: 100%|██████████| 1/1 [00:00<00:00, 46.94it/s]\n"
     ]
    },
    {
     "name": "stdout",
     "output_type": "stream",
     "text": [
      "Epoch: 401, Train Loss: 144.1825, \n",
      "Validation Loss: 80.0258\n"
     ]
    },
    {
     "name": "stderr",
     "output_type": "stream",
     "text": [
      "Epoch 402/3000: 100%|██████████| 1/1 [00:00<00:00, 37.86it/s]\n",
      "Epoch 403/3000: 100%|██████████| 1/1 [00:00<00:00, 38.25it/s]\n",
      "Validation: 100%|██████████| 1/1 [00:00<00:00, 48.92it/s]\n"
     ]
    },
    {
     "name": "stdout",
     "output_type": "stream",
     "text": [
      "Epoch: 403, Train Loss: 268.0204, \n",
      "Validation Loss: 91.7221\n"
     ]
    },
    {
     "name": "stderr",
     "output_type": "stream",
     "text": [
      "Epoch 404/3000: 100%|██████████| 1/1 [00:00<00:00, 31.54it/s]\n",
      "Epoch 405/3000: 100%|██████████| 1/1 [00:00<00:00, 39.18it/s]\n",
      "Validation: 100%|██████████| 1/1 [00:00<00:00, 42.60it/s]\n"
     ]
    },
    {
     "name": "stdout",
     "output_type": "stream",
     "text": [
      "Epoch: 405, Train Loss: 196.1222, \n",
      "Validation Loss: 101.6771\n"
     ]
    },
    {
     "name": "stderr",
     "output_type": "stream",
     "text": [
      "Epoch 406/3000: 100%|██████████| 1/1 [00:00<00:00, 38.89it/s]\n",
      "Epoch 407/3000: 100%|██████████| 1/1 [00:00<00:00, 38.63it/s]\n",
      "Validation: 100%|██████████| 1/1 [00:00<00:00, 49.13it/s]\n"
     ]
    },
    {
     "name": "stdout",
     "output_type": "stream",
     "text": [
      "Epoch: 407, Train Loss: 265.1403, \n",
      "Validation Loss: 74.2844\n"
     ]
    },
    {
     "name": "stderr",
     "output_type": "stream",
     "text": [
      "Epoch 408/3000: 100%|██████████| 1/1 [00:00<00:00, 40.08it/s]\n",
      "Epoch 409/3000: 100%|██████████| 1/1 [00:00<00:00, 34.20it/s]\n",
      "Validation: 100%|██████████| 1/1 [00:00<00:00, 46.95it/s]\n"
     ]
    },
    {
     "name": "stdout",
     "output_type": "stream",
     "text": [
      "Epoch: 409, Train Loss: 170.2981, \n",
      "Validation Loss: 33.4625\n"
     ]
    },
    {
     "name": "stderr",
     "output_type": "stream",
     "text": [
      "Epoch 410/3000: 100%|██████████| 1/1 [00:00<00:00, 38.98it/s]\n",
      "Epoch 411/3000: 100%|██████████| 1/1 [00:00<00:00, 37.48it/s]\n",
      "Validation: 100%|██████████| 1/1 [00:00<00:00, 50.99it/s]\n"
     ]
    },
    {
     "name": "stdout",
     "output_type": "stream",
     "text": [
      "Epoch: 411, Train Loss: 123.2801, \n",
      "Validation Loss: 40.1421\n"
     ]
    },
    {
     "name": "stderr",
     "output_type": "stream",
     "text": [
      "Epoch 412/3000: 100%|██████████| 1/1 [00:00<00:00, 37.74it/s]\n",
      "Epoch 413/3000: 100%|██████████| 1/1 [00:00<00:00, 40.38it/s]\n",
      "Validation: 100%|██████████| 1/1 [00:00<00:00, 41.98it/s]\n"
     ]
    },
    {
     "name": "stdout",
     "output_type": "stream",
     "text": [
      "Epoch: 413, Train Loss: 150.7723, \n",
      "Validation Loss: 69.2689\n"
     ]
    },
    {
     "name": "stderr",
     "output_type": "stream",
     "text": [
      "Epoch 414/3000: 100%|██████████| 1/1 [00:00<00:00, 35.46it/s]\n",
      "Epoch 415/3000: 100%|██████████| 1/1 [00:00<00:00, 30.16it/s]\n",
      "Validation: 100%|██████████| 1/1 [00:00<00:00, 50.68it/s]\n"
     ]
    },
    {
     "name": "stdout",
     "output_type": "stream",
     "text": [
      "Epoch: 415, Train Loss: 200.6945, \n",
      "Validation Loss: 65.6855\n"
     ]
    },
    {
     "name": "stderr",
     "output_type": "stream",
     "text": [
      "Epoch 416/3000: 100%|██████████| 1/1 [00:00<00:00, 37.99it/s]\n",
      "Epoch 417/3000: 100%|██████████| 1/1 [00:00<00:00, 36.48it/s]\n",
      "Validation: 100%|██████████| 1/1 [00:00<00:00, 47.67it/s]\n"
     ]
    },
    {
     "name": "stdout",
     "output_type": "stream",
     "text": [
      "Epoch: 417, Train Loss: 99.8887, \n",
      "Validation Loss: 36.5190\n"
     ]
    },
    {
     "name": "stderr",
     "output_type": "stream",
     "text": [
      "Epoch 418/3000: 100%|██████████| 1/1 [00:00<00:00, 38.45it/s]\n",
      "Epoch 419/3000: 100%|██████████| 1/1 [00:00<00:00, 40.02it/s]\n",
      "Validation: 100%|██████████| 1/1 [00:00<00:00, 42.90it/s]\n"
     ]
    },
    {
     "name": "stdout",
     "output_type": "stream",
     "text": [
      "Epoch: 419, Train Loss: 63.8538, \n",
      "Validation Loss: 32.7226\n"
     ]
    },
    {
     "name": "stderr",
     "output_type": "stream",
     "text": [
      "Epoch 420/3000: 100%|██████████| 1/1 [00:00<00:00, 37.99it/s]\n",
      "Epoch 421/3000: 100%|██████████| 1/1 [00:00<00:00, 39.21it/s]\n",
      "Validation: 100%|██████████| 1/1 [00:00<00:00, 40.69it/s]\n"
     ]
    },
    {
     "name": "stdout",
     "output_type": "stream",
     "text": [
      "Epoch: 421, Train Loss: 104.2298, \n",
      "Validation Loss: 34.8259\n"
     ]
    },
    {
     "name": "stderr",
     "output_type": "stream",
     "text": [
      "Epoch 422/3000: 100%|██████████| 1/1 [00:00<00:00, 36.12it/s]\n",
      "Epoch 423/3000: 100%|██████████| 1/1 [00:00<00:00, 34.50it/s]\n",
      "Validation: 100%|██████████| 1/1 [00:00<00:00, 48.45it/s]\n"
     ]
    },
    {
     "name": "stdout",
     "output_type": "stream",
     "text": [
      "Epoch: 423, Train Loss: 80.4319, \n",
      "Validation Loss: 48.9642\n"
     ]
    },
    {
     "name": "stderr",
     "output_type": "stream",
     "text": [
      "Epoch 424/3000: 100%|██████████| 1/1 [00:00<00:00, 39.64it/s]\n",
      "Epoch 425/3000: 100%|██████████| 1/1 [00:00<00:00, 39.24it/s]\n",
      "Validation: 100%|██████████| 1/1 [00:00<00:00, 47.06it/s]\n"
     ]
    },
    {
     "name": "stdout",
     "output_type": "stream",
     "text": [
      "Epoch: 425, Train Loss: 165.4527, \n",
      "Validation Loss: 38.5858\n"
     ]
    },
    {
     "name": "stderr",
     "output_type": "stream",
     "text": [
      "Epoch 426/3000: 100%|██████████| 1/1 [00:00<00:00, 35.52it/s]\n",
      "Epoch 427/3000: 100%|██████████| 1/1 [00:00<00:00, 35.27it/s]\n",
      "Validation: 100%|██████████| 1/1 [00:00<00:00, 48.01it/s]\n"
     ]
    },
    {
     "name": "stdout",
     "output_type": "stream",
     "text": [
      "Epoch: 427, Train Loss: 124.6594, \n",
      "Validation Loss: 35.1963\n"
     ]
    },
    {
     "name": "stderr",
     "output_type": "stream",
     "text": [
      "Epoch 428/3000: 100%|██████████| 1/1 [00:00<00:00, 31.75it/s]\n",
      "Epoch 429/3000: 100%|██████████| 1/1 [00:00<00:00, 39.08it/s]\n",
      "Validation: 100%|██████████| 1/1 [00:00<00:00, 49.82it/s]\n"
     ]
    },
    {
     "name": "stdout",
     "output_type": "stream",
     "text": [
      "Epoch: 429, Train Loss: 148.5618, \n",
      "Validation Loss: 44.7276\n"
     ]
    },
    {
     "name": "stderr",
     "output_type": "stream",
     "text": [
      "Epoch 430/3000: 100%|██████████| 1/1 [00:00<00:00, 34.67it/s]\n",
      "Epoch 431/3000: 100%|██████████| 1/1 [00:00<00:00, 39.51it/s]\n",
      "Validation: 100%|██████████| 1/1 [00:00<00:00, 48.65it/s]\n"
     ]
    },
    {
     "name": "stdout",
     "output_type": "stream",
     "text": [
      "Epoch: 431, Train Loss: 164.5332, \n",
      "Validation Loss: 54.9290\n"
     ]
    },
    {
     "name": "stderr",
     "output_type": "stream",
     "text": [
      "Epoch 432/3000: 100%|██████████| 1/1 [00:00<00:00, 38.53it/s]\n",
      "Epoch 433/3000: 100%|██████████| 1/1 [00:00<00:00, 33.65it/s]\n",
      "Validation: 100%|██████████| 1/1 [00:00<00:00, 50.41it/s]\n"
     ]
    },
    {
     "name": "stdout",
     "output_type": "stream",
     "text": [
      "Epoch: 433, Train Loss: 111.4419, \n",
      "Validation Loss: 58.3036\n"
     ]
    },
    {
     "name": "stderr",
     "output_type": "stream",
     "text": [
      "Epoch 434/3000: 100%|██████████| 1/1 [00:00<00:00, 39.77it/s]\n",
      "Epoch 435/3000: 100%|██████████| 1/1 [00:00<00:00, 30.69it/s]\n",
      "Validation: 100%|██████████| 1/1 [00:00<00:00, 48.63it/s]\n"
     ]
    },
    {
     "name": "stdout",
     "output_type": "stream",
     "text": [
      "Epoch: 435, Train Loss: 87.7578, \n",
      "Validation Loss: 49.6458\n"
     ]
    },
    {
     "name": "stderr",
     "output_type": "stream",
     "text": [
      "Epoch 436/3000: 100%|██████████| 1/1 [00:00<00:00, 34.64it/s]\n",
      "Epoch 437/3000: 100%|██████████| 1/1 [00:00<00:00, 36.01it/s]\n",
      "Validation: 100%|██████████| 1/1 [00:00<00:00, 46.40it/s]\n"
     ]
    },
    {
     "name": "stdout",
     "output_type": "stream",
     "text": [
      "Epoch: 437, Train Loss: 83.7178, \n",
      "Validation Loss: 33.7693\n"
     ]
    },
    {
     "name": "stderr",
     "output_type": "stream",
     "text": [
      "Epoch 438/3000: 100%|██████████| 1/1 [00:00<00:00, 38.87it/s]\n",
      "Epoch 439/3000: 100%|██████████| 1/1 [00:00<00:00, 39.59it/s]\n",
      "Validation: 100%|██████████| 1/1 [00:00<00:00, 44.42it/s]\n"
     ]
    },
    {
     "name": "stdout",
     "output_type": "stream",
     "text": [
      "Epoch: 439, Train Loss: 136.5283, \n",
      "Validation Loss: 33.8428\n"
     ]
    },
    {
     "name": "stderr",
     "output_type": "stream",
     "text": [
      "Epoch 440/3000: 100%|██████████| 1/1 [00:00<00:00, 37.01it/s]\n",
      "Epoch 441/3000: 100%|██████████| 1/1 [00:00<00:00, 39.18it/s]\n",
      "Validation: 100%|██████████| 1/1 [00:00<00:00, 48.85it/s]\n"
     ]
    },
    {
     "name": "stdout",
     "output_type": "stream",
     "text": [
      "Epoch: 441, Train Loss: 112.2517, \n",
      "Validation Loss: 39.1797\n"
     ]
    },
    {
     "name": "stderr",
     "output_type": "stream",
     "text": [
      "Epoch 442/3000: 100%|██████████| 1/1 [00:00<00:00, 37.99it/s]\n",
      "Epoch 443/3000: 100%|██████████| 1/1 [00:00<00:00, 37.15it/s]\n",
      "Validation: 100%|██████████| 1/1 [00:00<00:00, 47.50it/s]\n"
     ]
    },
    {
     "name": "stdout",
     "output_type": "stream",
     "text": [
      "Epoch: 443, Train Loss: 137.9820, \n",
      "Validation Loss: 38.6182\n"
     ]
    },
    {
     "name": "stderr",
     "output_type": "stream",
     "text": [
      "Epoch 444/3000: 100%|██████████| 1/1 [00:00<00:00, 38.91it/s]\n",
      "Epoch 445/3000: 100%|██████████| 1/1 [00:00<00:00, 38.25it/s]\n",
      "Validation: 100%|██████████| 1/1 [00:00<00:00, 47.74it/s]\n"
     ]
    },
    {
     "name": "stdout",
     "output_type": "stream",
     "text": [
      "Epoch: 445, Train Loss: 151.8613, \n",
      "Validation Loss: 40.8162\n"
     ]
    },
    {
     "name": "stderr",
     "output_type": "stream",
     "text": [
      "Epoch 446/3000: 100%|██████████| 1/1 [00:00<00:00, 36.68it/s]\n",
      "Epoch 447/3000: 100%|██████████| 1/1 [00:00<00:00, 37.89it/s]\n",
      "Validation: 100%|██████████| 1/1 [00:00<00:00, 44.16it/s]\n"
     ]
    },
    {
     "name": "stdout",
     "output_type": "stream",
     "text": [
      "Epoch: 447, Train Loss: 98.3747, \n",
      "Validation Loss: 47.1031\n"
     ]
    },
    {
     "name": "stderr",
     "output_type": "stream",
     "text": [
      "Epoch 448/3000: 100%|██████████| 1/1 [00:00<00:00, 37.35it/s]\n",
      "Epoch 449/3000: 100%|██████████| 1/1 [00:00<00:00, 36.93it/s]\n",
      "Validation: 100%|██████████| 1/1 [00:00<00:00, 46.65it/s]\n"
     ]
    },
    {
     "name": "stdout",
     "output_type": "stream",
     "text": [
      "Epoch: 449, Train Loss: 133.2486, \n",
      "Validation Loss: 37.4965\n"
     ]
    },
    {
     "name": "stderr",
     "output_type": "stream",
     "text": [
      "Epoch 450/3000: 100%|██████████| 1/1 [00:00<00:00, 38.97it/s]\n",
      "Epoch 451/3000: 100%|██████████| 1/1 [00:00<00:00, 34.92it/s]\n",
      "Validation: 100%|██████████| 1/1 [00:00<00:00, 44.55it/s]\n"
     ]
    },
    {
     "name": "stdout",
     "output_type": "stream",
     "text": [
      "Epoch: 451, Train Loss: 67.9280, \n",
      "Validation Loss: 42.7740\n"
     ]
    },
    {
     "name": "stderr",
     "output_type": "stream",
     "text": [
      "Epoch 452/3000: 100%|██████████| 1/1 [00:00<00:00, 33.97it/s]\n",
      "Epoch 453/3000: 100%|██████████| 1/1 [00:00<00:00, 35.99it/s]\n",
      "Validation: 100%|██████████| 1/1 [00:00<00:00, 50.63it/s]\n"
     ]
    },
    {
     "name": "stdout",
     "output_type": "stream",
     "text": [
      "Epoch: 453, Train Loss: 157.1155, \n",
      "Validation Loss: 51.6067\n"
     ]
    },
    {
     "name": "stderr",
     "output_type": "stream",
     "text": [
      "Epoch 454/3000: 100%|██████████| 1/1 [00:00<00:00, 39.98it/s]\n",
      "Epoch 455/3000: 100%|██████████| 1/1 [00:00<00:00, 38.88it/s]\n",
      "Validation: 100%|██████████| 1/1 [00:00<00:00, 43.41it/s]\n"
     ]
    },
    {
     "name": "stdout",
     "output_type": "stream",
     "text": [
      "Epoch: 455, Train Loss: 166.4962, \n",
      "Validation Loss: 48.7579\n"
     ]
    },
    {
     "name": "stderr",
     "output_type": "stream",
     "text": [
      "Epoch 456/3000: 100%|██████████| 1/1 [00:00<00:00, 38.46it/s]\n",
      "Epoch 457/3000: 100%|██████████| 1/1 [00:00<00:00, 33.54it/s]\n",
      "Validation: 100%|██████████| 1/1 [00:00<00:00, 42.17it/s]\n"
     ]
    },
    {
     "name": "stdout",
     "output_type": "stream",
     "text": [
      "Epoch: 457, Train Loss: 175.4792, \n",
      "Validation Loss: 63.8310\n"
     ]
    },
    {
     "name": "stderr",
     "output_type": "stream",
     "text": [
      "Epoch 458/3000: 100%|██████████| 1/1 [00:00<00:00, 39.13it/s]\n",
      "Epoch 459/3000: 100%|██████████| 1/1 [00:00<00:00, 37.00it/s]\n",
      "Validation: 100%|██████████| 1/1 [00:00<00:00, 43.55it/s]\n"
     ]
    },
    {
     "name": "stdout",
     "output_type": "stream",
     "text": [
      "Epoch: 459, Train Loss: 108.5689, \n",
      "Validation Loss: 53.9545\n"
     ]
    },
    {
     "name": "stderr",
     "output_type": "stream",
     "text": [
      "Epoch 460/3000: 100%|██████████| 1/1 [00:00<00:00, 34.81it/s]\n",
      "Epoch 461/3000: 100%|██████████| 1/1 [00:00<00:00, 33.80it/s]\n",
      "Validation: 100%|██████████| 1/1 [00:00<00:00, 49.19it/s]\n"
     ]
    },
    {
     "name": "stdout",
     "output_type": "stream",
     "text": [
      "Epoch: 461, Train Loss: 138.5712, \n",
      "Validation Loss: 50.9232\n"
     ]
    },
    {
     "name": "stderr",
     "output_type": "stream",
     "text": [
      "Epoch 462/3000: 100%|██████████| 1/1 [00:00<00:00, 38.03it/s]\n",
      "Epoch 463/3000: 100%|██████████| 1/1 [00:00<00:00, 33.15it/s]\n",
      "Validation: 100%|██████████| 1/1 [00:00<00:00, 46.95it/s]\n"
     ]
    },
    {
     "name": "stdout",
     "output_type": "stream",
     "text": [
      "Epoch: 463, Train Loss: 175.2650, \n",
      "Validation Loss: 52.8197\n"
     ]
    },
    {
     "name": "stderr",
     "output_type": "stream",
     "text": [
      "Epoch 464/3000: 100%|██████████| 1/1 [00:00<00:00, 37.03it/s]\n",
      "Epoch 465/3000: 100%|██████████| 1/1 [00:00<00:00, 39.64it/s]\n",
      "Validation: 100%|██████████| 1/1 [00:00<00:00, 49.78it/s]\n"
     ]
    },
    {
     "name": "stdout",
     "output_type": "stream",
     "text": [
      "Epoch: 465, Train Loss: 150.1901, \n",
      "Validation Loss: 34.7750\n"
     ]
    },
    {
     "name": "stderr",
     "output_type": "stream",
     "text": [
      "Epoch 466/3000: 100%|██████████| 1/1 [00:00<00:00, 37.10it/s]\n",
      "Epoch 467/3000: 100%|██████████| 1/1 [00:00<00:00, 38.89it/s]\n",
      "Validation: 100%|██████████| 1/1 [00:00<00:00, 49.48it/s]\n"
     ]
    },
    {
     "name": "stdout",
     "output_type": "stream",
     "text": [
      "Epoch: 467, Train Loss: 153.8039, \n",
      "Validation Loss: 36.0715\n"
     ]
    },
    {
     "name": "stderr",
     "output_type": "stream",
     "text": [
      "Epoch 468/3000: 100%|██████████| 1/1 [00:00<00:00, 39.99it/s]\n",
      "Epoch 469/3000: 100%|██████████| 1/1 [00:00<00:00, 36.12it/s]\n",
      "Validation: 100%|██████████| 1/1 [00:00<00:00, 50.01it/s]\n"
     ]
    },
    {
     "name": "stdout",
     "output_type": "stream",
     "text": [
      "Epoch: 469, Train Loss: 155.6898, \n",
      "Validation Loss: 57.5318\n"
     ]
    },
    {
     "name": "stderr",
     "output_type": "stream",
     "text": [
      "Epoch 470/3000: 100%|██████████| 1/1 [00:00<00:00, 33.59it/s]\n",
      "Epoch 471/3000: 100%|██████████| 1/1 [00:00<00:00, 31.78it/s]\n",
      "Validation: 100%|██████████| 1/1 [00:00<00:00, 47.28it/s]\n"
     ]
    },
    {
     "name": "stdout",
     "output_type": "stream",
     "text": [
      "Epoch: 471, Train Loss: 121.6499, \n",
      "Validation Loss: 44.7810\n"
     ]
    },
    {
     "name": "stderr",
     "output_type": "stream",
     "text": [
      "Epoch 472/3000: 100%|██████████| 1/1 [00:00<00:00, 39.18it/s]\n",
      "Epoch 473/3000: 100%|██████████| 1/1 [00:00<00:00, 38.90it/s]\n",
      "Validation: 100%|██████████| 1/1 [00:00<00:00, 41.29it/s]\n"
     ]
    },
    {
     "name": "stdout",
     "output_type": "stream",
     "text": [
      "Epoch: 473, Train Loss: 147.4280, \n",
      "Validation Loss: 52.4609\n"
     ]
    },
    {
     "name": "stderr",
     "output_type": "stream",
     "text": [
      "Epoch 474/3000: 100%|██████████| 1/1 [00:00<00:00, 39.85it/s]\n",
      "Epoch 475/3000: 100%|██████████| 1/1 [00:00<00:00, 39.83it/s]\n",
      "Validation: 100%|██████████| 1/1 [00:00<00:00, 49.91it/s]\n"
     ]
    },
    {
     "name": "stdout",
     "output_type": "stream",
     "text": [
      "Epoch: 475, Train Loss: 205.3200, \n",
      "Validation Loss: 68.2678\n"
     ]
    },
    {
     "name": "stderr",
     "output_type": "stream",
     "text": [
      "Epoch 476/3000: 100%|██████████| 1/1 [00:00<00:00, 34.51it/s]\n",
      "Epoch 477/3000: 100%|██████████| 1/1 [00:00<00:00, 33.05it/s]\n",
      "Validation: 100%|██████████| 1/1 [00:00<00:00, 45.12it/s]\n"
     ]
    },
    {
     "name": "stdout",
     "output_type": "stream",
     "text": [
      "Epoch: 477, Train Loss: 108.7266, \n",
      "Validation Loss: 53.7560\n"
     ]
    },
    {
     "name": "stderr",
     "output_type": "stream",
     "text": [
      "Epoch 478/3000: 100%|██████████| 1/1 [00:00<00:00, 35.59it/s]\n",
      "Epoch 479/3000: 100%|██████████| 1/1 [00:00<00:00, 33.90it/s]\n",
      "Validation: 100%|██████████| 1/1 [00:00<00:00, 48.43it/s]\n"
     ]
    },
    {
     "name": "stdout",
     "output_type": "stream",
     "text": [
      "Epoch: 479, Train Loss: 82.0771, \n",
      "Validation Loss: 48.6320\n"
     ]
    },
    {
     "name": "stderr",
     "output_type": "stream",
     "text": [
      "Epoch 480/3000: 100%|██████████| 1/1 [00:00<00:00, 36.03it/s]\n",
      "Epoch 481/3000: 100%|██████████| 1/1 [00:00<00:00, 39.78it/s]\n",
      "Validation: 100%|██████████| 1/1 [00:00<00:00, 40.16it/s]\n"
     ]
    },
    {
     "name": "stdout",
     "output_type": "stream",
     "text": [
      "Epoch: 481, Train Loss: 270.9518, \n",
      "Validation Loss: 45.8820\n"
     ]
    },
    {
     "name": "stderr",
     "output_type": "stream",
     "text": [
      "Epoch 482/3000: 100%|██████████| 1/1 [00:00<00:00, 38.94it/s]\n",
      "Epoch 483/3000: 100%|██████████| 1/1 [00:00<00:00, 40.43it/s]\n",
      "Validation: 100%|██████████| 1/1 [00:00<00:00, 50.88it/s]\n"
     ]
    },
    {
     "name": "stdout",
     "output_type": "stream",
     "text": [
      "Epoch: 483, Train Loss: 144.1631, \n",
      "Validation Loss: 53.6703\n"
     ]
    },
    {
     "name": "stderr",
     "output_type": "stream",
     "text": [
      "Epoch 484/3000: 100%|██████████| 1/1 [00:00<00:00, 38.15it/s]\n",
      "Epoch 485/3000: 100%|██████████| 1/1 [00:00<00:00, 39.45it/s]\n",
      "Validation: 100%|██████████| 1/1 [00:00<00:00, 48.97it/s]\n"
     ]
    },
    {
     "name": "stdout",
     "output_type": "stream",
     "text": [
      "Epoch: 485, Train Loss: 81.0640, \n",
      "Validation Loss: 65.1005\n"
     ]
    },
    {
     "name": "stderr",
     "output_type": "stream",
     "text": [
      "Epoch 486/3000: 100%|██████████| 1/1 [00:00<00:00, 38.06it/s]\n",
      "Epoch 487/3000: 100%|██████████| 1/1 [00:00<00:00, 36.00it/s]\n",
      "Validation: 100%|██████████| 1/1 [00:00<00:00, 48.55it/s]\n"
     ]
    },
    {
     "name": "stdout",
     "output_type": "stream",
     "text": [
      "Epoch: 487, Train Loss: 123.4342, \n",
      "Validation Loss: 57.4084\n"
     ]
    },
    {
     "name": "stderr",
     "output_type": "stream",
     "text": [
      "Epoch 488/3000: 100%|██████████| 1/1 [00:00<00:00, 39.57it/s]\n",
      "Epoch 489/3000: 100%|██████████| 1/1 [00:00<00:00, 40.00it/s]\n",
      "Validation: 100%|██████████| 1/1 [00:00<00:00, 49.56it/s]\n"
     ]
    },
    {
     "name": "stdout",
     "output_type": "stream",
     "text": [
      "Epoch: 489, Train Loss: 181.0294, \n",
      "Validation Loss: 43.7304\n"
     ]
    },
    {
     "name": "stderr",
     "output_type": "stream",
     "text": [
      "Epoch 490/3000: 100%|██████████| 1/1 [00:00<00:00, 30.86it/s]\n",
      "Epoch 491/3000: 100%|██████████| 1/1 [00:00<00:00, 39.34it/s]\n",
      "Validation: 100%|██████████| 1/1 [00:00<00:00, 47.85it/s]\n"
     ]
    },
    {
     "name": "stdout",
     "output_type": "stream",
     "text": [
      "Epoch: 491, Train Loss: 101.8906, \n",
      "Validation Loss: 43.1375\n"
     ]
    },
    {
     "name": "stderr",
     "output_type": "stream",
     "text": [
      "Epoch 492/3000: 100%|██████████| 1/1 [00:00<00:00, 38.20it/s]\n",
      "Epoch 493/3000: 100%|██████████| 1/1 [00:00<00:00, 36.55it/s]\n",
      "Validation: 100%|██████████| 1/1 [00:00<00:00, 47.33it/s]\n"
     ]
    },
    {
     "name": "stdout",
     "output_type": "stream",
     "text": [
      "Epoch: 493, Train Loss: 98.4618, \n",
      "Validation Loss: 59.0628\n"
     ]
    },
    {
     "name": "stderr",
     "output_type": "stream",
     "text": [
      "Epoch 494/3000: 100%|██████████| 1/1 [00:00<00:00, 37.95it/s]\n",
      "Epoch 495/3000: 100%|██████████| 1/1 [00:00<00:00, 34.89it/s]\n",
      "Validation: 100%|██████████| 1/1 [00:00<00:00, 49.02it/s]\n"
     ]
    },
    {
     "name": "stdout",
     "output_type": "stream",
     "text": [
      "Epoch: 495, Train Loss: 138.0176, \n",
      "Validation Loss: 60.0791\n"
     ]
    },
    {
     "name": "stderr",
     "output_type": "stream",
     "text": [
      "Epoch 496/3000: 100%|██████████| 1/1 [00:00<00:00, 39.50it/s]\n",
      "Epoch 497/3000: 100%|██████████| 1/1 [00:00<00:00, 38.85it/s]\n",
      "Validation: 100%|██████████| 1/1 [00:00<00:00, 37.14it/s]\n"
     ]
    },
    {
     "name": "stdout",
     "output_type": "stream",
     "text": [
      "Epoch: 497, Train Loss: 136.8970, \n",
      "Validation Loss: 35.4475\n"
     ]
    },
    {
     "name": "stderr",
     "output_type": "stream",
     "text": [
      "Epoch 498/3000: 100%|██████████| 1/1 [00:00<00:00, 34.75it/s]\n",
      "Epoch 499/3000: 100%|██████████| 1/1 [00:00<00:00, 35.20it/s]\n",
      "Validation: 100%|██████████| 1/1 [00:00<00:00, 51.81it/s]\n"
     ]
    },
    {
     "name": "stdout",
     "output_type": "stream",
     "text": [
      "Epoch: 499, Train Loss: 106.8856, \n",
      "Validation Loss: 38.4498\n"
     ]
    },
    {
     "name": "stderr",
     "output_type": "stream",
     "text": [
      "Epoch 500/3000: 100%|██████████| 1/1 [00:00<00:00, 38.54it/s]\n",
      "Epoch 501/3000: 100%|██████████| 1/1 [00:00<00:00, 33.47it/s]\n",
      "Validation: 100%|██████████| 1/1 [00:00<00:00, 50.08it/s]\n"
     ]
    },
    {
     "name": "stdout",
     "output_type": "stream",
     "text": [
      "Epoch: 501, Train Loss: 168.1793, \n",
      "Validation Loss: 44.4603\n"
     ]
    },
    {
     "name": "stderr",
     "output_type": "stream",
     "text": [
      "Epoch 502/3000: 100%|██████████| 1/1 [00:00<00:00, 36.30it/s]\n",
      "Epoch 503/3000: 100%|██████████| 1/1 [00:00<00:00, 42.33it/s]\n",
      "Validation: 100%|██████████| 1/1 [00:00<00:00, 48.41it/s]\n"
     ]
    },
    {
     "name": "stdout",
     "output_type": "stream",
     "text": [
      "Epoch: 503, Train Loss: 170.3397, \n",
      "Validation Loss: 48.1173\n"
     ]
    },
    {
     "name": "stderr",
     "output_type": "stream",
     "text": [
      "Epoch 504/3000: 100%|██████████| 1/1 [00:00<00:00, 40.59it/s]\n",
      "Epoch 505/3000: 100%|██████████| 1/1 [00:00<00:00, 38.88it/s]\n",
      "Validation: 100%|██████████| 1/1 [00:00<00:00, 52.14it/s]\n"
     ]
    },
    {
     "name": "stdout",
     "output_type": "stream",
     "text": [
      "Epoch: 505, Train Loss: 77.7895, \n",
      "Validation Loss: 49.0308\n"
     ]
    },
    {
     "name": "stderr",
     "output_type": "stream",
     "text": [
      "Epoch 506/3000: 100%|██████████| 1/1 [00:00<00:00, 40.04it/s]\n",
      "Epoch 507/3000: 100%|██████████| 1/1 [00:00<00:00, 43.25it/s]\n",
      "Validation: 100%|██████████| 1/1 [00:00<00:00, 51.76it/s]\n"
     ]
    },
    {
     "name": "stdout",
     "output_type": "stream",
     "text": [
      "Epoch: 507, Train Loss: 146.1649, \n",
      "Validation Loss: 49.0279\n"
     ]
    },
    {
     "name": "stderr",
     "output_type": "stream",
     "text": [
      "Epoch 508/3000: 100%|██████████| 1/1 [00:00<00:00, 38.59it/s]\n",
      "Epoch 509/3000: 100%|██████████| 1/1 [00:00<00:00, 39.77it/s]\n",
      "Validation: 100%|██████████| 1/1 [00:00<00:00, 49.84it/s]\n"
     ]
    },
    {
     "name": "stdout",
     "output_type": "stream",
     "text": [
      "Epoch: 509, Train Loss: 130.3633, \n",
      "Validation Loss: 39.6634\n"
     ]
    },
    {
     "name": "stderr",
     "output_type": "stream",
     "text": [
      "Epoch 510/3000: 100%|██████████| 1/1 [00:00<00:00, 40.94it/s]\n",
      "Epoch 511/3000: 100%|██████████| 1/1 [00:00<00:00, 39.89it/s]\n",
      "Validation: 100%|██████████| 1/1 [00:00<00:00, 47.84it/s]\n"
     ]
    },
    {
     "name": "stdout",
     "output_type": "stream",
     "text": [
      "Epoch: 511, Train Loss: 59.7163, \n",
      "Validation Loss: 39.1156\n"
     ]
    },
    {
     "name": "stderr",
     "output_type": "stream",
     "text": [
      "Epoch 512/3000: 100%|██████████| 1/1 [00:00<00:00, 35.49it/s]\n",
      "Epoch 513/3000: 100%|██████████| 1/1 [00:00<00:00, 36.31it/s]\n",
      "Validation: 100%|██████████| 1/1 [00:00<00:00, 52.95it/s]\n"
     ]
    },
    {
     "name": "stdout",
     "output_type": "stream",
     "text": [
      "Epoch: 513, Train Loss: 117.5981, \n",
      "Validation Loss: 53.7152\n"
     ]
    },
    {
     "name": "stderr",
     "output_type": "stream",
     "text": [
      "Epoch 514/3000: 100%|██████████| 1/1 [00:00<00:00, 32.61it/s]\n",
      "Epoch 515/3000: 100%|██████████| 1/1 [00:00<00:00, 39.53it/s]\n",
      "Validation: 100%|██████████| 1/1 [00:00<00:00, 52.66it/s]\n"
     ]
    },
    {
     "name": "stdout",
     "output_type": "stream",
     "text": [
      "Epoch: 515, Train Loss: 150.0309, \n",
      "Validation Loss: 51.1637\n"
     ]
    },
    {
     "name": "stderr",
     "output_type": "stream",
     "text": [
      "Epoch 516/3000: 100%|██████████| 1/1 [00:00<00:00, 40.17it/s]\n",
      "Epoch 517/3000: 100%|██████████| 1/1 [00:00<00:00, 40.87it/s]\n",
      "Validation: 100%|██████████| 1/1 [00:00<00:00, 50.72it/s]\n"
     ]
    },
    {
     "name": "stdout",
     "output_type": "stream",
     "text": [
      "Epoch: 517, Train Loss: 113.1089, \n",
      "Validation Loss: 46.2540\n"
     ]
    },
    {
     "name": "stderr",
     "output_type": "stream",
     "text": [
      "Epoch 518/3000: 100%|██████████| 1/1 [00:00<00:00, 37.95it/s]\n",
      "Epoch 519/3000: 100%|██████████| 1/1 [00:00<00:00, 42.14it/s]\n",
      "Validation: 100%|██████████| 1/1 [00:00<00:00, 53.26it/s]\n"
     ]
    },
    {
     "name": "stdout",
     "output_type": "stream",
     "text": [
      "Epoch: 519, Train Loss: 98.4421, \n",
      "Validation Loss: 32.6815\n"
     ]
    },
    {
     "name": "stderr",
     "output_type": "stream",
     "text": [
      "Epoch 520/3000: 100%|██████████| 1/1 [00:00<00:00, 40.74it/s]\n",
      "Epoch 521/3000: 100%|██████████| 1/1 [00:00<00:00, 36.16it/s]\n",
      "Validation: 100%|██████████| 1/1 [00:00<00:00, 49.53it/s]\n"
     ]
    },
    {
     "name": "stdout",
     "output_type": "stream",
     "text": [
      "Epoch: 521, Train Loss: 102.7883, \n",
      "Validation Loss: 33.0173\n"
     ]
    },
    {
     "name": "stderr",
     "output_type": "stream",
     "text": [
      "Epoch 522/3000: 100%|██████████| 1/1 [00:00<00:00, 40.51it/s]\n",
      "Epoch 523/3000: 100%|██████████| 1/1 [00:00<00:00, 41.71it/s]\n",
      "Validation: 100%|██████████| 1/1 [00:00<00:00, 52.60it/s]\n"
     ]
    },
    {
     "name": "stdout",
     "output_type": "stream",
     "text": [
      "Epoch: 523, Train Loss: 151.3291, \n",
      "Validation Loss: 36.4104\n"
     ]
    },
    {
     "name": "stderr",
     "output_type": "stream",
     "text": [
      "Epoch 524/3000: 100%|██████████| 1/1 [00:00<00:00, 40.06it/s]\n",
      "Epoch 525/3000: 100%|██████████| 1/1 [00:00<00:00, 36.87it/s]\n",
      "Validation: 100%|██████████| 1/1 [00:00<00:00, 51.21it/s]\n"
     ]
    },
    {
     "name": "stdout",
     "output_type": "stream",
     "text": [
      "Epoch: 525, Train Loss: 197.5923, \n",
      "Validation Loss: 32.0843\n"
     ]
    },
    {
     "name": "stderr",
     "output_type": "stream",
     "text": [
      "Epoch 526/3000: 100%|██████████| 1/1 [00:00<00:00, 40.77it/s]\n",
      "Epoch 527/3000: 100%|██████████| 1/1 [00:00<00:00, 38.66it/s]\n",
      "Validation: 100%|██████████| 1/1 [00:00<00:00, 53.33it/s]\n"
     ]
    },
    {
     "name": "stdout",
     "output_type": "stream",
     "text": [
      "Epoch: 527, Train Loss: 61.1832, \n",
      "Validation Loss: 36.5244\n"
     ]
    },
    {
     "name": "stderr",
     "output_type": "stream",
     "text": [
      "Epoch 528/3000: 100%|██████████| 1/1 [00:00<00:00, 37.38it/s]\n",
      "Epoch 529/3000: 100%|██████████| 1/1 [00:00<00:00, 34.50it/s]\n",
      "Validation: 100%|██████████| 1/1 [00:00<00:00, 48.40it/s]\n"
     ]
    },
    {
     "name": "stdout",
     "output_type": "stream",
     "text": [
      "Epoch: 529, Train Loss: 110.6470, \n",
      "Validation Loss: 42.5052\n"
     ]
    },
    {
     "name": "stderr",
     "output_type": "stream",
     "text": [
      "Epoch 530/3000: 100%|██████████| 1/1 [00:00<00:00, 31.88it/s]\n",
      "Epoch 531/3000: 100%|██████████| 1/1 [00:00<00:00, 39.55it/s]\n",
      "Validation: 100%|██████████| 1/1 [00:00<00:00, 46.34it/s]\n"
     ]
    },
    {
     "name": "stdout",
     "output_type": "stream",
     "text": [
      "Epoch: 531, Train Loss: 89.7288, \n",
      "Validation Loss: 33.3083\n"
     ]
    },
    {
     "name": "stderr",
     "output_type": "stream",
     "text": [
      "Epoch 532/3000: 100%|██████████| 1/1 [00:00<00:00, 41.00it/s]\n",
      "Epoch 533/3000: 100%|██████████| 1/1 [00:00<00:00, 39.87it/s]\n",
      "Validation: 100%|██████████| 1/1 [00:00<00:00, 48.20it/s]\n"
     ]
    },
    {
     "name": "stdout",
     "output_type": "stream",
     "text": [
      "Epoch: 533, Train Loss: 77.7435, \n",
      "Validation Loss: 30.2636\n"
     ]
    },
    {
     "name": "stderr",
     "output_type": "stream",
     "text": [
      "Epoch 534/3000: 100%|██████████| 1/1 [00:00<00:00, 39.85it/s]\n",
      "Epoch 535/3000: 100%|██████████| 1/1 [00:00<00:00, 38.15it/s]\n",
      "Validation: 100%|██████████| 1/1 [00:00<00:00, 50.91it/s]\n"
     ]
    },
    {
     "name": "stdout",
     "output_type": "stream",
     "text": [
      "Epoch: 535, Train Loss: 99.1702, \n",
      "Validation Loss: 38.3661\n"
     ]
    },
    {
     "name": "stderr",
     "output_type": "stream",
     "text": [
      "Epoch 536/3000: 100%|██████████| 1/1 [00:00<00:00, 34.84it/s]\n",
      "Epoch 537/3000: 100%|██████████| 1/1 [00:00<00:00, 28.50it/s]\n",
      "Validation: 100%|██████████| 1/1 [00:00<00:00, 35.58it/s]\n"
     ]
    },
    {
     "name": "stdout",
     "output_type": "stream",
     "text": [
      "Epoch: 537, Train Loss: 99.9502, \n",
      "Validation Loss: 43.7122\n"
     ]
    },
    {
     "name": "stderr",
     "output_type": "stream",
     "text": [
      "Epoch 538/3000: 100%|██████████| 1/1 [00:00<00:00, 39.05it/s]\n",
      "Epoch 539/3000: 100%|██████████| 1/1 [00:00<00:00, 40.11it/s]\n",
      "Validation: 100%|██████████| 1/1 [00:00<00:00, 51.84it/s]\n"
     ]
    },
    {
     "name": "stdout",
     "output_type": "stream",
     "text": [
      "Epoch: 539, Train Loss: 106.0021, \n",
      "Validation Loss: 29.9406\n"
     ]
    },
    {
     "name": "stderr",
     "output_type": "stream",
     "text": [
      "Epoch 540/3000: 100%|██████████| 1/1 [00:00<00:00, 40.21it/s]\n",
      "Epoch 541/3000: 100%|██████████| 1/1 [00:00<00:00, 41.08it/s]\n",
      "Validation: 100%|██████████| 1/1 [00:00<00:00, 51.63it/s]\n"
     ]
    },
    {
     "name": "stdout",
     "output_type": "stream",
     "text": [
      "Epoch: 541, Train Loss: 54.4207, \n",
      "Validation Loss: 30.1134\n"
     ]
    },
    {
     "name": "stderr",
     "output_type": "stream",
     "text": [
      "Epoch 542/3000: 100%|██████████| 1/1 [00:00<00:00, 40.10it/s]\n",
      "Epoch 543/3000: 100%|██████████| 1/1 [00:00<00:00, 35.64it/s]\n",
      "Validation: 100%|██████████| 1/1 [00:00<00:00, 52.45it/s]\n"
     ]
    },
    {
     "name": "stdout",
     "output_type": "stream",
     "text": [
      "Epoch: 543, Train Loss: 87.6607, \n",
      "Validation Loss: 40.7416\n"
     ]
    },
    {
     "name": "stderr",
     "output_type": "stream",
     "text": [
      "Epoch 544/3000: 100%|██████████| 1/1 [00:00<00:00, 39.36it/s]\n",
      "Epoch 545/3000: 100%|██████████| 1/1 [00:00<00:00, 39.73it/s]\n",
      "Validation: 100%|██████████| 1/1 [00:00<00:00, 51.68it/s]\n"
     ]
    },
    {
     "name": "stdout",
     "output_type": "stream",
     "text": [
      "Epoch: 545, Train Loss: 144.9518, \n",
      "Validation Loss: 38.7251\n"
     ]
    },
    {
     "name": "stderr",
     "output_type": "stream",
     "text": [
      "Epoch 546/3000: 100%|██████████| 1/1 [00:00<00:00, 38.64it/s]\n",
      "Epoch 547/3000: 100%|██████████| 1/1 [00:00<00:00, 40.38it/s]\n",
      "Validation: 100%|██████████| 1/1 [00:00<00:00, 52.39it/s]\n"
     ]
    },
    {
     "name": "stdout",
     "output_type": "stream",
     "text": [
      "Epoch: 547, Train Loss: 170.8656, \n",
      "Validation Loss: 27.3432\n"
     ]
    },
    {
     "name": "stderr",
     "output_type": "stream",
     "text": [
      "Epoch 548/3000: 100%|██████████| 1/1 [00:00<00:00, 38.29it/s]\n",
      "Epoch 549/3000: 100%|██████████| 1/1 [00:00<00:00, 41.58it/s]\n",
      "Validation: 100%|██████████| 1/1 [00:00<00:00, 44.51it/s]\n"
     ]
    },
    {
     "name": "stdout",
     "output_type": "stream",
     "text": [
      "Epoch: 549, Train Loss: 122.3166, \n",
      "Validation Loss: 40.8699\n"
     ]
    },
    {
     "name": "stderr",
     "output_type": "stream",
     "text": [
      "Epoch 550/3000: 100%|██████████| 1/1 [00:00<00:00, 40.10it/s]\n",
      "Epoch 551/3000: 100%|██████████| 1/1 [00:00<00:00, 37.03it/s]\n",
      "Validation: 100%|██████████| 1/1 [00:00<00:00, 50.51it/s]\n"
     ]
    },
    {
     "name": "stdout",
     "output_type": "stream",
     "text": [
      "Epoch: 551, Train Loss: 106.8731, \n",
      "Validation Loss: 61.8023\n"
     ]
    },
    {
     "name": "stderr",
     "output_type": "stream",
     "text": [
      "Epoch 552/3000: 100%|██████████| 1/1 [00:00<00:00, 40.11it/s]\n",
      "Epoch 553/3000: 100%|██████████| 1/1 [00:00<00:00, 41.79it/s]\n",
      "Validation: 100%|██████████| 1/1 [00:00<00:00, 52.49it/s]\n"
     ]
    },
    {
     "name": "stdout",
     "output_type": "stream",
     "text": [
      "Epoch: 553, Train Loss: 104.7933, \n",
      "Validation Loss: 43.1643\n"
     ]
    },
    {
     "name": "stderr",
     "output_type": "stream",
     "text": [
      "Epoch 554/3000: 100%|██████████| 1/1 [00:00<00:00, 38.52it/s]\n",
      "Epoch 555/3000: 100%|██████████| 1/1 [00:00<00:00, 40.04it/s]\n",
      "Validation: 100%|██████████| 1/1 [00:00<00:00, 51.12it/s]\n"
     ]
    },
    {
     "name": "stdout",
     "output_type": "stream",
     "text": [
      "Epoch: 555, Train Loss: 145.9094, \n",
      "Validation Loss: 34.4917\n"
     ]
    },
    {
     "name": "stderr",
     "output_type": "stream",
     "text": [
      "Epoch 556/3000: 100%|██████████| 1/1 [00:00<00:00, 37.78it/s]\n",
      "Epoch 557/3000: 100%|██████████| 1/1 [00:00<00:00, 39.98it/s]\n",
      "Validation: 100%|██████████| 1/1 [00:00<00:00, 52.05it/s]\n"
     ]
    },
    {
     "name": "stdout",
     "output_type": "stream",
     "text": [
      "Epoch: 557, Train Loss: 93.1894, \n",
      "Validation Loss: 53.7845\n"
     ]
    },
    {
     "name": "stderr",
     "output_type": "stream",
     "text": [
      "Epoch 558/3000: 100%|██████████| 1/1 [00:00<00:00, 40.10it/s]\n",
      "Epoch 559/3000: 100%|██████████| 1/1 [00:00<00:00, 39.40it/s]\n",
      "Validation: 100%|██████████| 1/1 [00:00<00:00, 40.93it/s]\n"
     ]
    },
    {
     "name": "stdout",
     "output_type": "stream",
     "text": [
      "Epoch: 559, Train Loss: 65.0012, \n",
      "Validation Loss: 47.3899\n"
     ]
    },
    {
     "name": "stderr",
     "output_type": "stream",
     "text": [
      "Epoch 560/3000: 100%|██████████| 1/1 [00:00<00:00, 38.00it/s]\n",
      "Epoch 561/3000: 100%|██████████| 1/1 [00:00<00:00, 36.75it/s]\n",
      "Validation: 100%|██████████| 1/1 [00:00<00:00, 51.38it/s]\n"
     ]
    },
    {
     "name": "stdout",
     "output_type": "stream",
     "text": [
      "Epoch: 561, Train Loss: 168.0513, \n",
      "Validation Loss: 45.0744\n"
     ]
    },
    {
     "name": "stderr",
     "output_type": "stream",
     "text": [
      "Epoch 562/3000: 100%|██████████| 1/1 [00:00<00:00, 40.57it/s]\n",
      "Epoch 563/3000: 100%|██████████| 1/1 [00:00<00:00, 41.76it/s]\n",
      "Validation: 100%|██████████| 1/1 [00:00<00:00, 52.51it/s]\n"
     ]
    },
    {
     "name": "stdout",
     "output_type": "stream",
     "text": [
      "Epoch: 563, Train Loss: 127.4996, \n",
      "Validation Loss: 71.6610\n"
     ]
    },
    {
     "name": "stderr",
     "output_type": "stream",
     "text": [
      "Epoch 564/3000: 100%|██████████| 1/1 [00:00<00:00, 41.32it/s]\n",
      "Epoch 565/3000: 100%|██████████| 1/1 [00:00<00:00, 40.81it/s]\n",
      "Validation: 100%|██████████| 1/1 [00:00<00:00, 53.77it/s]\n"
     ]
    },
    {
     "name": "stdout",
     "output_type": "stream",
     "text": [
      "Epoch: 565, Train Loss: 115.8274, \n",
      "Validation Loss: 49.7781\n"
     ]
    },
    {
     "name": "stderr",
     "output_type": "stream",
     "text": [
      "Epoch 566/3000: 100%|██████████| 1/1 [00:00<00:00, 39.73it/s]\n",
      "Epoch 567/3000: 100%|██████████| 1/1 [00:00<00:00, 39.75it/s]\n",
      "Validation: 100%|██████████| 1/1 [00:00<00:00, 51.54it/s]\n"
     ]
    },
    {
     "name": "stdout",
     "output_type": "stream",
     "text": [
      "Epoch: 567, Train Loss: 96.9814, \n",
      "Validation Loss: 27.9738\n"
     ]
    },
    {
     "name": "stderr",
     "output_type": "stream",
     "text": [
      "Epoch 568/3000: 100%|██████████| 1/1 [00:00<00:00, 38.23it/s]\n",
      "Epoch 569/3000: 100%|██████████| 1/1 [00:00<00:00, 41.30it/s]\n",
      "Validation: 100%|██████████| 1/1 [00:00<00:00, 54.09it/s]\n"
     ]
    },
    {
     "name": "stdout",
     "output_type": "stream",
     "text": [
      "Epoch: 569, Train Loss: 135.9686, \n",
      "Validation Loss: 45.6993\n"
     ]
    },
    {
     "name": "stderr",
     "output_type": "stream",
     "text": [
      "Epoch 570/3000: 100%|██████████| 1/1 [00:00<00:00, 38.35it/s]\n",
      "Epoch 571/3000: 100%|██████████| 1/1 [00:00<00:00, 40.42it/s]\n",
      "Validation: 100%|██████████| 1/1 [00:00<00:00, 51.72it/s]\n"
     ]
    },
    {
     "name": "stdout",
     "output_type": "stream",
     "text": [
      "Epoch: 571, Train Loss: 102.8171, \n",
      "Validation Loss: 53.9998\n"
     ]
    },
    {
     "name": "stderr",
     "output_type": "stream",
     "text": [
      "Epoch 572/3000: 100%|██████████| 1/1 [00:00<00:00, 36.92it/s]\n",
      "Epoch 573/3000: 100%|██████████| 1/1 [00:00<00:00, 39.97it/s]\n",
      "Validation: 100%|██████████| 1/1 [00:00<00:00, 52.00it/s]\n"
     ]
    },
    {
     "name": "stdout",
     "output_type": "stream",
     "text": [
      "Epoch: 573, Train Loss: 138.6237, \n",
      "Validation Loss: 29.6092\n"
     ]
    },
    {
     "name": "stderr",
     "output_type": "stream",
     "text": [
      "Epoch 574/3000: 100%|██████████| 1/1 [00:00<00:00, 38.57it/s]\n",
      "Epoch 575/3000: 100%|██████████| 1/1 [00:00<00:00, 38.61it/s]\n",
      "Validation: 100%|██████████| 1/1 [00:00<00:00, 51.35it/s]\n"
     ]
    },
    {
     "name": "stdout",
     "output_type": "stream",
     "text": [
      "Epoch: 575, Train Loss: 85.4455, \n",
      "Validation Loss: 32.1758\n"
     ]
    },
    {
     "name": "stderr",
     "output_type": "stream",
     "text": [
      "Epoch 576/3000: 100%|██████████| 1/1 [00:00<00:00, 40.64it/s]\n",
      "Epoch 577/3000: 100%|██████████| 1/1 [00:00<00:00, 37.40it/s]\n",
      "Validation: 100%|██████████| 1/1 [00:00<00:00, 51.56it/s]\n"
     ]
    },
    {
     "name": "stdout",
     "output_type": "stream",
     "text": [
      "Epoch: 577, Train Loss: 112.5107, \n",
      "Validation Loss: 45.4563\n"
     ]
    },
    {
     "name": "stderr",
     "output_type": "stream",
     "text": [
      "Epoch 578/3000: 100%|██████████| 1/1 [00:00<00:00, 40.58it/s]\n",
      "Epoch 579/3000: 100%|██████████| 1/1 [00:00<00:00, 41.90it/s]\n",
      "Validation: 100%|██████████| 1/1 [00:00<00:00, 45.90it/s]\n"
     ]
    },
    {
     "name": "stdout",
     "output_type": "stream",
     "text": [
      "Epoch: 579, Train Loss: 78.5215, \n",
      "Validation Loss: 54.3577\n"
     ]
    },
    {
     "name": "stderr",
     "output_type": "stream",
     "text": [
      "Epoch 580/3000: 100%|██████████| 1/1 [00:00<00:00, 40.19it/s]\n",
      "Epoch 581/3000: 100%|██████████| 1/1 [00:00<00:00, 41.16it/s]\n",
      "Validation: 100%|██████████| 1/1 [00:00<00:00, 51.05it/s]\n"
     ]
    },
    {
     "name": "stdout",
     "output_type": "stream",
     "text": [
      "Epoch: 581, Train Loss: 149.4977, \n",
      "Validation Loss: 51.2690\n"
     ]
    },
    {
     "name": "stderr",
     "output_type": "stream",
     "text": [
      "Epoch 582/3000: 100%|██████████| 1/1 [00:00<00:00, 38.98it/s]\n",
      "Epoch 583/3000: 100%|██████████| 1/1 [00:00<00:00, 41.98it/s]\n",
      "Validation: 100%|██████████| 1/1 [00:00<00:00, 50.82it/s]\n"
     ]
    },
    {
     "name": "stdout",
     "output_type": "stream",
     "text": [
      "Epoch: 583, Train Loss: 145.7135, \n",
      "Validation Loss: 38.0069\n"
     ]
    },
    {
     "name": "stderr",
     "output_type": "stream",
     "text": [
      "Epoch 584/3000: 100%|██████████| 1/1 [00:00<00:00, 38.31it/s]\n",
      "Epoch 585/3000: 100%|██████████| 1/1 [00:00<00:00, 39.81it/s]\n",
      "Validation: 100%|██████████| 1/1 [00:00<00:00, 45.18it/s]\n"
     ]
    },
    {
     "name": "stdout",
     "output_type": "stream",
     "text": [
      "Epoch: 585, Train Loss: 117.2840, \n",
      "Validation Loss: 37.1290\n"
     ]
    },
    {
     "name": "stderr",
     "output_type": "stream",
     "text": [
      "Epoch 586/3000: 100%|██████████| 1/1 [00:00<00:00, 36.10it/s]\n",
      "Epoch 587/3000: 100%|██████████| 1/1 [00:00<00:00, 39.92it/s]\n",
      "Validation: 100%|██████████| 1/1 [00:00<00:00, 51.15it/s]\n"
     ]
    },
    {
     "name": "stdout",
     "output_type": "stream",
     "text": [
      "Epoch: 587, Train Loss: 125.6052, \n",
      "Validation Loss: 37.7541\n"
     ]
    },
    {
     "name": "stderr",
     "output_type": "stream",
     "text": [
      "Epoch 588/3000: 100%|██████████| 1/1 [00:00<00:00, 36.06it/s]\n",
      "Epoch 589/3000: 100%|██████████| 1/1 [00:00<00:00, 42.19it/s]\n",
      "Validation: 100%|██████████| 1/1 [00:00<00:00, 48.23it/s]\n"
     ]
    },
    {
     "name": "stdout",
     "output_type": "stream",
     "text": [
      "Epoch: 589, Train Loss: 128.9211, \n",
      "Validation Loss: 29.2758\n"
     ]
    },
    {
     "name": "stderr",
     "output_type": "stream",
     "text": [
      "Epoch 590/3000: 100%|██████████| 1/1 [00:00<00:00, 37.83it/s]\n",
      "Epoch 591/3000: 100%|██████████| 1/1 [00:00<00:00, 37.67it/s]\n",
      "Validation: 100%|██████████| 1/1 [00:00<00:00, 48.37it/s]\n"
     ]
    },
    {
     "name": "stdout",
     "output_type": "stream",
     "text": [
      "Epoch: 591, Train Loss: 135.6209, \n",
      "Validation Loss: 33.9042\n"
     ]
    },
    {
     "name": "stderr",
     "output_type": "stream",
     "text": [
      "Epoch 592/3000: 100%|██████████| 1/1 [00:00<00:00, 40.64it/s]\n",
      "Epoch 593/3000: 100%|██████████| 1/1 [00:00<00:00, 41.17it/s]\n",
      "Validation: 100%|██████████| 1/1 [00:00<00:00, 51.91it/s]\n"
     ]
    },
    {
     "name": "stdout",
     "output_type": "stream",
     "text": [
      "Epoch: 593, Train Loss: 92.8456, \n",
      "Validation Loss: 45.6311\n"
     ]
    },
    {
     "name": "stderr",
     "output_type": "stream",
     "text": [
      "Epoch 594/3000: 100%|██████████| 1/1 [00:00<00:00, 36.53it/s]\n",
      "Epoch 595/3000: 100%|██████████| 1/1 [00:00<00:00, 41.57it/s]\n",
      "Validation: 100%|██████████| 1/1 [00:00<00:00, 51.37it/s]\n"
     ]
    },
    {
     "name": "stdout",
     "output_type": "stream",
     "text": [
      "Epoch: 595, Train Loss: 98.1938, \n",
      "Validation Loss: 56.1034\n"
     ]
    },
    {
     "name": "stderr",
     "output_type": "stream",
     "text": [
      "Epoch 596/3000: 100%|██████████| 1/1 [00:00<00:00, 40.17it/s]\n",
      "Epoch 597/3000: 100%|██████████| 1/1 [00:00<00:00, 41.29it/s]\n",
      "Validation: 100%|██████████| 1/1 [00:00<00:00, 50.19it/s]\n"
     ]
    },
    {
     "name": "stdout",
     "output_type": "stream",
     "text": [
      "Epoch: 597, Train Loss: 122.3558, \n",
      "Validation Loss: 39.2958\n"
     ]
    },
    {
     "name": "stderr",
     "output_type": "stream",
     "text": [
      "Epoch 598/3000: 100%|██████████| 1/1 [00:00<00:00, 39.73it/s]\n",
      "Epoch 599/3000: 100%|██████████| 1/1 [00:00<00:00, 36.17it/s]\n",
      "Validation: 100%|██████████| 1/1 [00:00<00:00, 50.73it/s]\n"
     ]
    },
    {
     "name": "stdout",
     "output_type": "stream",
     "text": [
      "Epoch: 599, Train Loss: 128.9598, \n",
      "Validation Loss: 31.8876\n"
     ]
    },
    {
     "name": "stderr",
     "output_type": "stream",
     "text": [
      "Epoch 600/3000: 100%|██████████| 1/1 [00:00<00:00, 36.87it/s]\n",
      "Epoch 601/3000: 100%|██████████| 1/1 [00:00<00:00, 38.31it/s]\n",
      "Validation: 100%|██████████| 1/1 [00:00<00:00, 50.63it/s]\n"
     ]
    },
    {
     "name": "stdout",
     "output_type": "stream",
     "text": [
      "Epoch: 601, Train Loss: 132.6900, \n",
      "Validation Loss: 37.0699\n"
     ]
    },
    {
     "name": "stderr",
     "output_type": "stream",
     "text": [
      "Epoch 602/3000: 100%|██████████| 1/1 [00:00<00:00, 37.67it/s]\n",
      "Epoch 603/3000: 100%|██████████| 1/1 [00:00<00:00, 39.24it/s]\n",
      "Validation: 100%|██████████| 1/1 [00:00<00:00, 47.26it/s]\n"
     ]
    },
    {
     "name": "stdout",
     "output_type": "stream",
     "text": [
      "Epoch: 603, Train Loss: 195.1054, \n",
      "Validation Loss: 59.7890\n"
     ]
    },
    {
     "name": "stderr",
     "output_type": "stream",
     "text": [
      "Epoch 604/3000: 100%|██████████| 1/1 [00:00<00:00, 41.00it/s]\n",
      "Epoch 605/3000: 100%|██████████| 1/1 [00:00<00:00, 40.61it/s]\n",
      "Validation: 100%|██████████| 1/1 [00:00<00:00, 52.55it/s]\n"
     ]
    },
    {
     "name": "stdout",
     "output_type": "stream",
     "text": [
      "Epoch: 605, Train Loss: 121.9862, \n",
      "Validation Loss: 70.3421\n"
     ]
    },
    {
     "name": "stderr",
     "output_type": "stream",
     "text": [
      "Epoch 606/3000: 100%|██████████| 1/1 [00:00<00:00, 40.20it/s]\n",
      "Epoch 607/3000: 100%|██████████| 1/1 [00:00<00:00, 42.21it/s]\n",
      "Validation: 100%|██████████| 1/1 [00:00<00:00, 47.51it/s]\n"
     ]
    },
    {
     "name": "stdout",
     "output_type": "stream",
     "text": [
      "Epoch: 607, Train Loss: 165.4416, \n",
      "Validation Loss: 62.0877\n"
     ]
    },
    {
     "name": "stderr",
     "output_type": "stream",
     "text": [
      "Epoch 608/3000: 100%|██████████| 1/1 [00:00<00:00, 37.09it/s]\n",
      "Epoch 609/3000: 100%|██████████| 1/1 [00:00<00:00, 36.32it/s]\n",
      "Validation: 100%|██████████| 1/1 [00:00<00:00, 50.26it/s]\n"
     ]
    },
    {
     "name": "stdout",
     "output_type": "stream",
     "text": [
      "Epoch: 609, Train Loss: 196.8321, \n",
      "Validation Loss: 55.3142\n"
     ]
    },
    {
     "name": "stderr",
     "output_type": "stream",
     "text": [
      "Epoch 610/3000: 100%|██████████| 1/1 [00:00<00:00, 38.48it/s]\n",
      "Epoch 611/3000: 100%|██████████| 1/1 [00:00<00:00, 38.18it/s]\n",
      "Validation: 100%|██████████| 1/1 [00:00<00:00, 48.85it/s]\n"
     ]
    },
    {
     "name": "stdout",
     "output_type": "stream",
     "text": [
      "Epoch: 611, Train Loss: 128.3703, \n",
      "Validation Loss: 49.5701\n"
     ]
    },
    {
     "name": "stderr",
     "output_type": "stream",
     "text": [
      "Epoch 612/3000: 100%|██████████| 1/1 [00:00<00:00, 40.20it/s]\n",
      "Epoch 613/3000: 100%|██████████| 1/1 [00:00<00:00, 40.04it/s]\n",
      "Validation: 100%|██████████| 1/1 [00:00<00:00, 49.51it/s]\n"
     ]
    },
    {
     "name": "stdout",
     "output_type": "stream",
     "text": [
      "Epoch: 613, Train Loss: 175.2282, \n",
      "Validation Loss: 37.5979\n"
     ]
    },
    {
     "name": "stderr",
     "output_type": "stream",
     "text": [
      "Epoch 614/3000: 100%|██████████| 1/1 [00:00<00:00, 39.14it/s]\n",
      "Epoch 615/3000: 100%|██████████| 1/1 [00:00<00:00, 39.54it/s]\n",
      "Validation: 100%|██████████| 1/1 [00:00<00:00, 50.33it/s]\n"
     ]
    },
    {
     "name": "stdout",
     "output_type": "stream",
     "text": [
      "Epoch: 615, Train Loss: 79.4048, \n",
      "Validation Loss: 31.2701\n"
     ]
    },
    {
     "name": "stderr",
     "output_type": "stream",
     "text": [
      "Epoch 616/3000: 100%|██████████| 1/1 [00:00<00:00, 40.50it/s]\n",
      "Epoch 617/3000: 100%|██████████| 1/1 [00:00<00:00, 38.16it/s]\n",
      "Validation: 100%|██████████| 1/1 [00:00<00:00, 43.18it/s]\n"
     ]
    },
    {
     "name": "stdout",
     "output_type": "stream",
     "text": [
      "Epoch: 617, Train Loss: 126.2004, \n",
      "Validation Loss: 31.4987\n"
     ]
    },
    {
     "name": "stderr",
     "output_type": "stream",
     "text": [
      "Epoch 618/3000: 100%|██████████| 1/1 [00:00<00:00, 40.59it/s]\n",
      "Epoch 619/3000: 100%|██████████| 1/1 [00:00<00:00, 39.56it/s]\n",
      "Validation: 100%|██████████| 1/1 [00:00<00:00, 51.92it/s]\n"
     ]
    },
    {
     "name": "stdout",
     "output_type": "stream",
     "text": [
      "Epoch: 619, Train Loss: 113.5571, \n",
      "Validation Loss: 38.0919\n"
     ]
    },
    {
     "name": "stderr",
     "output_type": "stream",
     "text": [
      "Epoch 620/3000: 100%|██████████| 1/1 [00:00<00:00, 37.76it/s]\n",
      "Epoch 621/3000: 100%|██████████| 1/1 [00:00<00:00, 40.47it/s]\n",
      "Validation: 100%|██████████| 1/1 [00:00<00:00, 51.22it/s]\n"
     ]
    },
    {
     "name": "stdout",
     "output_type": "stream",
     "text": [
      "Epoch: 621, Train Loss: 113.5485, \n",
      "Validation Loss: 47.2770\n"
     ]
    },
    {
     "name": "stderr",
     "output_type": "stream",
     "text": [
      "Epoch 622/3000: 100%|██████████| 1/1 [00:00<00:00, 41.71it/s]\n",
      "Epoch 623/3000: 100%|██████████| 1/1 [00:00<00:00, 41.23it/s]\n",
      "Validation: 100%|██████████| 1/1 [00:00<00:00, 51.47it/s]\n"
     ]
    },
    {
     "name": "stdout",
     "output_type": "stream",
     "text": [
      "Epoch: 623, Train Loss: 81.3947, \n",
      "Validation Loss: 40.6625\n"
     ]
    },
    {
     "name": "stderr",
     "output_type": "stream",
     "text": [
      "Epoch 624/3000: 100%|██████████| 1/1 [00:00<00:00, 40.09it/s]\n",
      "Epoch 625/3000: 100%|██████████| 1/1 [00:00<00:00, 39.61it/s]\n",
      "Validation: 100%|██████████| 1/1 [00:00<00:00, 52.90it/s]\n"
     ]
    },
    {
     "name": "stdout",
     "output_type": "stream",
     "text": [
      "Epoch: 625, Train Loss: 74.6922, \n",
      "Validation Loss: 33.4970\n"
     ]
    },
    {
     "name": "stderr",
     "output_type": "stream",
     "text": [
      "Epoch 626/3000: 100%|██████████| 1/1 [00:00<00:00, 39.61it/s]\n",
      "Epoch 627/3000: 100%|██████████| 1/1 [00:00<00:00, 41.95it/s]\n",
      "Validation: 100%|██████████| 1/1 [00:00<00:00, 49.75it/s]\n"
     ]
    },
    {
     "name": "stdout",
     "output_type": "stream",
     "text": [
      "Epoch: 627, Train Loss: 64.5237, \n",
      "Validation Loss: 33.0705\n"
     ]
    },
    {
     "name": "stderr",
     "output_type": "stream",
     "text": [
      "Epoch 628/3000: 100%|██████████| 1/1 [00:00<00:00, 37.70it/s]\n",
      "Epoch 629/3000: 100%|██████████| 1/1 [00:00<00:00, 37.07it/s]\n",
      "Validation: 100%|██████████| 1/1 [00:00<00:00, 51.81it/s]\n"
     ]
    },
    {
     "name": "stdout",
     "output_type": "stream",
     "text": [
      "Epoch: 629, Train Loss: 124.7063, \n",
      "Validation Loss: 34.1844\n"
     ]
    },
    {
     "name": "stderr",
     "output_type": "stream",
     "text": [
      "Epoch 630/3000: 100%|██████████| 1/1 [00:00<00:00, 39.47it/s]\n",
      "Epoch 631/3000: 100%|██████████| 1/1 [00:00<00:00, 41.16it/s]\n",
      "Validation: 100%|██████████| 1/1 [00:00<00:00, 52.02it/s]\n"
     ]
    },
    {
     "name": "stdout",
     "output_type": "stream",
     "text": [
      "Epoch: 631, Train Loss: 82.5237, \n",
      "Validation Loss: 26.9426\n"
     ]
    },
    {
     "name": "stderr",
     "output_type": "stream",
     "text": [
      "Epoch 632/3000: 100%|██████████| 1/1 [00:00<00:00, 38.10it/s]\n",
      "Epoch 633/3000: 100%|██████████| 1/1 [00:00<00:00, 41.00it/s]\n",
      "Validation: 100%|██████████| 1/1 [00:00<00:00, 52.06it/s]\n"
     ]
    },
    {
     "name": "stdout",
     "output_type": "stream",
     "text": [
      "Epoch: 633, Train Loss: 100.4748, \n",
      "Validation Loss: 29.1064\n"
     ]
    },
    {
     "name": "stderr",
     "output_type": "stream",
     "text": [
      "Epoch 634/3000: 100%|██████████| 1/1 [00:00<00:00, 38.71it/s]\n",
      "Epoch 635/3000: 100%|██████████| 1/1 [00:00<00:00, 40.92it/s]\n",
      "Validation: 100%|██████████| 1/1 [00:00<00:00, 51.45it/s]\n"
     ]
    },
    {
     "name": "stdout",
     "output_type": "stream",
     "text": [
      "Epoch: 635, Train Loss: 80.3596, \n",
      "Validation Loss: 32.6798\n"
     ]
    },
    {
     "name": "stderr",
     "output_type": "stream",
     "text": [
      "Epoch 636/3000: 100%|██████████| 1/1 [00:00<00:00, 41.58it/s]\n",
      "Epoch 637/3000: 100%|██████████| 1/1 [00:00<00:00, 39.84it/s]\n",
      "Validation: 100%|██████████| 1/1 [00:00<00:00, 51.65it/s]\n"
     ]
    },
    {
     "name": "stdout",
     "output_type": "stream",
     "text": [
      "Epoch: 637, Train Loss: 105.3263, \n",
      "Validation Loss: 33.4656\n"
     ]
    },
    {
     "name": "stderr",
     "output_type": "stream",
     "text": [
      "Epoch 638/3000: 100%|██████████| 1/1 [00:00<00:00, 38.28it/s]\n",
      "Epoch 639/3000: 100%|██████████| 1/1 [00:00<00:00, 39.61it/s]\n",
      "Validation: 100%|██████████| 1/1 [00:00<00:00, 51.51it/s]\n"
     ]
    },
    {
     "name": "stdout",
     "output_type": "stream",
     "text": [
      "Epoch: 639, Train Loss: 79.6817, \n",
      "Validation Loss: 28.1875\n"
     ]
    },
    {
     "name": "stderr",
     "output_type": "stream",
     "text": [
      "Epoch 640/3000: 100%|██████████| 1/1 [00:00<00:00, 37.92it/s]\n",
      "Epoch 641/3000: 100%|██████████| 1/1 [00:00<00:00, 39.68it/s]\n",
      "Validation: 100%|██████████| 1/1 [00:00<00:00, 53.01it/s]\n"
     ]
    },
    {
     "name": "stdout",
     "output_type": "stream",
     "text": [
      "Epoch: 641, Train Loss: 141.7294, \n",
      "Validation Loss: 28.5242\n"
     ]
    },
    {
     "name": "stderr",
     "output_type": "stream",
     "text": [
      "Epoch 642/3000: 100%|██████████| 1/1 [00:00<00:00, 38.63it/s]\n",
      "Epoch 643/3000: 100%|██████████| 1/1 [00:00<00:00, 40.80it/s]\n",
      "Validation: 100%|██████████| 1/1 [00:00<00:00, 51.17it/s]\n"
     ]
    },
    {
     "name": "stdout",
     "output_type": "stream",
     "text": [
      "Epoch: 643, Train Loss: 74.5658, \n",
      "Validation Loss: 31.8737\n"
     ]
    },
    {
     "name": "stderr",
     "output_type": "stream",
     "text": [
      "Epoch 644/3000: 100%|██████████| 1/1 [00:00<00:00, 40.32it/s]\n",
      "Epoch 645/3000: 100%|██████████| 1/1 [00:00<00:00, 34.28it/s]\n",
      "Validation: 100%|██████████| 1/1 [00:00<00:00, 48.37it/s]\n"
     ]
    },
    {
     "name": "stdout",
     "output_type": "stream",
     "text": [
      "Epoch: 645, Train Loss: 179.5124, \n",
      "Validation Loss: 44.7637\n"
     ]
    },
    {
     "name": "stderr",
     "output_type": "stream",
     "text": [
      "Epoch 646/3000: 100%|██████████| 1/1 [00:00<00:00, 40.84it/s]\n",
      "Epoch 647/3000: 100%|██████████| 1/1 [00:00<00:00, 41.19it/s]\n",
      "Validation: 100%|██████████| 1/1 [00:00<00:00, 50.67it/s]\n"
     ]
    },
    {
     "name": "stdout",
     "output_type": "stream",
     "text": [
      "Epoch: 647, Train Loss: 140.7041, \n",
      "Validation Loss: 62.2260\n"
     ]
    },
    {
     "name": "stderr",
     "output_type": "stream",
     "text": [
      "Epoch 648/3000: 100%|██████████| 1/1 [00:00<00:00, 35.73it/s]\n",
      "Epoch 649/3000: 100%|██████████| 1/1 [00:00<00:00, 41.87it/s]\n",
      "Validation: 100%|██████████| 1/1 [00:00<00:00, 52.02it/s]\n"
     ]
    },
    {
     "name": "stdout",
     "output_type": "stream",
     "text": [
      "Epoch: 649, Train Loss: 101.2992, \n",
      "Validation Loss: 62.6893\n"
     ]
    },
    {
     "name": "stderr",
     "output_type": "stream",
     "text": [
      "Epoch 650/3000: 100%|██████████| 1/1 [00:00<00:00, 38.04it/s]\n",
      "Epoch 651/3000: 100%|██████████| 1/1 [00:00<00:00, 41.22it/s]\n",
      "Validation: 100%|██████████| 1/1 [00:00<00:00, 50.61it/s]\n"
     ]
    },
    {
     "name": "stdout",
     "output_type": "stream",
     "text": [
      "Epoch: 651, Train Loss: 125.1705, \n",
      "Validation Loss: 39.9336\n"
     ]
    },
    {
     "name": "stderr",
     "output_type": "stream",
     "text": [
      "Epoch 652/3000: 100%|██████████| 1/1 [00:00<00:00, 37.00it/s]\n",
      "Epoch 653/3000: 100%|██████████| 1/1 [00:00<00:00, 41.35it/s]\n",
      "Validation: 100%|██████████| 1/1 [00:00<00:00, 51.95it/s]\n"
     ]
    },
    {
     "name": "stdout",
     "output_type": "stream",
     "text": [
      "Epoch: 653, Train Loss: 85.8727, \n",
      "Validation Loss: 38.3338\n"
     ]
    },
    {
     "name": "stderr",
     "output_type": "stream",
     "text": [
      "Epoch 654/3000: 100%|██████████| 1/1 [00:00<00:00, 40.20it/s]\n",
      "Epoch 655/3000: 100%|██████████| 1/1 [00:00<00:00, 41.71it/s]\n",
      "Validation: 100%|██████████| 1/1 [00:00<00:00, 50.98it/s]\n"
     ]
    },
    {
     "name": "stdout",
     "output_type": "stream",
     "text": [
      "Epoch: 655, Train Loss: 142.1115, \n",
      "Validation Loss: 48.7879\n"
     ]
    },
    {
     "name": "stderr",
     "output_type": "stream",
     "text": [
      "Epoch 656/3000: 100%|██████████| 1/1 [00:00<00:00, 42.15it/s]\n",
      "Epoch 657/3000: 100%|██████████| 1/1 [00:00<00:00, 38.99it/s]\n",
      "Validation: 100%|██████████| 1/1 [00:00<00:00, 53.28it/s]\n"
     ]
    },
    {
     "name": "stdout",
     "output_type": "stream",
     "text": [
      "Epoch: 657, Train Loss: 96.8029, \n",
      "Validation Loss: 39.3219\n"
     ]
    },
    {
     "name": "stderr",
     "output_type": "stream",
     "text": [
      "Epoch 658/3000: 100%|██████████| 1/1 [00:00<00:00, 41.22it/s]\n",
      "Epoch 659/3000: 100%|██████████| 1/1 [00:00<00:00, 40.52it/s]\n",
      "Validation: 100%|██████████| 1/1 [00:00<00:00, 50.95it/s]\n"
     ]
    },
    {
     "name": "stdout",
     "output_type": "stream",
     "text": [
      "Epoch: 659, Train Loss: 147.2860, \n",
      "Validation Loss: 57.8010\n"
     ]
    },
    {
     "name": "stderr",
     "output_type": "stream",
     "text": [
      "Epoch 660/3000: 100%|██████████| 1/1 [00:00<00:00, 40.19it/s]\n",
      "Epoch 661/3000: 100%|██████████| 1/1 [00:00<00:00, 42.18it/s]\n",
      "Validation: 100%|██████████| 1/1 [00:00<00:00, 53.04it/s]\n"
     ]
    },
    {
     "name": "stdout",
     "output_type": "stream",
     "text": [
      "Epoch: 661, Train Loss: 153.5770, \n",
      "Validation Loss: 86.4482\n"
     ]
    },
    {
     "name": "stderr",
     "output_type": "stream",
     "text": [
      "Epoch 662/3000: 100%|██████████| 1/1 [00:00<00:00, 38.08it/s]\n",
      "Epoch 663/3000: 100%|██████████| 1/1 [00:00<00:00, 39.56it/s]\n",
      "Validation: 100%|██████████| 1/1 [00:00<00:00, 51.64it/s]\n"
     ]
    },
    {
     "name": "stdout",
     "output_type": "stream",
     "text": [
      "Epoch: 663, Train Loss: 194.2474, \n",
      "Validation Loss: 38.9789\n"
     ]
    },
    {
     "name": "stderr",
     "output_type": "stream",
     "text": [
      "Epoch 664/3000: 100%|██████████| 1/1 [00:00<00:00, 40.49it/s]\n",
      "Epoch 665/3000: 100%|██████████| 1/1 [00:00<00:00, 41.35it/s]\n",
      "Validation: 100%|██████████| 1/1 [00:00<00:00, 50.45it/s]\n"
     ]
    },
    {
     "name": "stdout",
     "output_type": "stream",
     "text": [
      "Epoch: 665, Train Loss: 130.1417, \n",
      "Validation Loss: 48.3896\n"
     ]
    },
    {
     "name": "stderr",
     "output_type": "stream",
     "text": [
      "Epoch 666/3000: 100%|██████████| 1/1 [00:00<00:00, 38.82it/s]\n",
      "Epoch 667/3000: 100%|██████████| 1/1 [00:00<00:00, 39.11it/s]\n",
      "Validation: 100%|██████████| 1/1 [00:00<00:00, 45.15it/s]\n"
     ]
    },
    {
     "name": "stdout",
     "output_type": "stream",
     "text": [
      "Epoch: 667, Train Loss: 166.9373, \n",
      "Validation Loss: 86.8953\n"
     ]
    },
    {
     "name": "stderr",
     "output_type": "stream",
     "text": [
      "Epoch 668/3000: 100%|██████████| 1/1 [00:00<00:00, 38.75it/s]\n",
      "Epoch 669/3000: 100%|██████████| 1/1 [00:00<00:00, 40.59it/s]\n",
      "Validation: 100%|██████████| 1/1 [00:00<00:00, 51.13it/s]\n"
     ]
    },
    {
     "name": "stdout",
     "output_type": "stream",
     "text": [
      "Epoch: 669, Train Loss: 189.5841, \n",
      "Validation Loss: 37.2132\n"
     ]
    },
    {
     "name": "stderr",
     "output_type": "stream",
     "text": [
      "Epoch 670/3000: 100%|██████████| 1/1 [00:00<00:00, 39.02it/s]\n",
      "Epoch 671/3000: 100%|██████████| 1/1 [00:00<00:00, 38.78it/s]\n",
      "Validation: 100%|██████████| 1/1 [00:00<00:00, 52.81it/s]\n"
     ]
    },
    {
     "name": "stdout",
     "output_type": "stream",
     "text": [
      "Epoch: 671, Train Loss: 84.9828, \n",
      "Validation Loss: 57.1824\n"
     ]
    },
    {
     "name": "stderr",
     "output_type": "stream",
     "text": [
      "Epoch 672/3000: 100%|██████████| 1/1 [00:00<00:00, 37.45it/s]\n",
      "Epoch 673/3000: 100%|██████████| 1/1 [00:00<00:00, 41.70it/s]\n",
      "Validation: 100%|██████████| 1/1 [00:00<00:00, 48.44it/s]\n"
     ]
    },
    {
     "name": "stdout",
     "output_type": "stream",
     "text": [
      "Epoch: 673, Train Loss: 225.6858, \n",
      "Validation Loss: 77.7760\n"
     ]
    },
    {
     "name": "stderr",
     "output_type": "stream",
     "text": [
      "Epoch 674/3000: 100%|██████████| 1/1 [00:00<00:00, 33.54it/s]\n",
      "Epoch 675/3000: 100%|██████████| 1/1 [00:00<00:00, 40.35it/s]\n",
      "Validation: 100%|██████████| 1/1 [00:00<00:00, 50.51it/s]\n"
     ]
    },
    {
     "name": "stdout",
     "output_type": "stream",
     "text": [
      "Epoch: 675, Train Loss: 88.5495, \n",
      "Validation Loss: 55.1544\n"
     ]
    },
    {
     "name": "stderr",
     "output_type": "stream",
     "text": [
      "Epoch 676/3000: 100%|██████████| 1/1 [00:00<00:00, 34.23it/s]\n",
      "Epoch 677/3000: 100%|██████████| 1/1 [00:00<00:00, 41.07it/s]\n",
      "Validation: 100%|██████████| 1/1 [00:00<00:00, 52.40it/s]\n"
     ]
    },
    {
     "name": "stdout",
     "output_type": "stream",
     "text": [
      "Epoch: 677, Train Loss: 113.9207, \n",
      "Validation Loss: 69.8988\n"
     ]
    },
    {
     "name": "stderr",
     "output_type": "stream",
     "text": [
      "Epoch 678/3000: 100%|██████████| 1/1 [00:00<00:00, 36.44it/s]\n",
      "Epoch 679/3000: 100%|██████████| 1/1 [00:00<00:00, 38.32it/s]\n",
      "Validation: 100%|██████████| 1/1 [00:00<00:00, 50.59it/s]\n"
     ]
    },
    {
     "name": "stdout",
     "output_type": "stream",
     "text": [
      "Epoch: 679, Train Loss: 101.3122, \n",
      "Validation Loss: 68.6752\n"
     ]
    },
    {
     "name": "stderr",
     "output_type": "stream",
     "text": [
      "Epoch 680/3000: 100%|██████████| 1/1 [00:00<00:00, 35.36it/s]\n",
      "Epoch 681/3000: 100%|██████████| 1/1 [00:00<00:00, 41.20it/s]\n",
      "Validation: 100%|██████████| 1/1 [00:00<00:00, 48.31it/s]\n"
     ]
    },
    {
     "name": "stdout",
     "output_type": "stream",
     "text": [
      "Epoch: 681, Train Loss: 92.1673, \n",
      "Validation Loss: 36.3790\n"
     ]
    },
    {
     "name": "stderr",
     "output_type": "stream",
     "text": [
      "Epoch 682/3000: 100%|██████████| 1/1 [00:00<00:00, 41.19it/s]\n",
      "Epoch 683/3000: 100%|██████████| 1/1 [00:00<00:00, 37.94it/s]\n",
      "Validation: 100%|██████████| 1/1 [00:00<00:00, 51.24it/s]\n"
     ]
    },
    {
     "name": "stdout",
     "output_type": "stream",
     "text": [
      "Epoch: 683, Train Loss: 92.5175, \n",
      "Validation Loss: 34.0880\n"
     ]
    },
    {
     "name": "stderr",
     "output_type": "stream",
     "text": [
      "Epoch 684/3000: 100%|██████████| 1/1 [00:00<00:00, 33.76it/s]\n",
      "Epoch 685/3000: 100%|██████████| 1/1 [00:00<00:00, 39.93it/s]\n",
      "Validation: 100%|██████████| 1/1 [00:00<00:00, 51.48it/s]\n"
     ]
    },
    {
     "name": "stdout",
     "output_type": "stream",
     "text": [
      "Epoch: 685, Train Loss: 104.1470, \n",
      "Validation Loss: 64.7948\n"
     ]
    },
    {
     "name": "stderr",
     "output_type": "stream",
     "text": [
      "Epoch 686/3000: 100%|██████████| 1/1 [00:00<00:00, 40.35it/s]\n",
      "Epoch 687/3000: 100%|██████████| 1/1 [00:00<00:00, 42.60it/s]\n",
      "Validation: 100%|██████████| 1/1 [00:00<00:00, 52.27it/s]\n"
     ]
    },
    {
     "name": "stdout",
     "output_type": "stream",
     "text": [
      "Epoch: 687, Train Loss: 112.9514, \n",
      "Validation Loss: 44.9154\n"
     ]
    },
    {
     "name": "stderr",
     "output_type": "stream",
     "text": [
      "Epoch 688/3000: 100%|██████████| 1/1 [00:00<00:00, 38.61it/s]\n",
      "Epoch 689/3000: 100%|██████████| 1/1 [00:00<00:00, 41.82it/s]\n",
      "Validation: 100%|██████████| 1/1 [00:00<00:00, 53.67it/s]\n"
     ]
    },
    {
     "name": "stdout",
     "output_type": "stream",
     "text": [
      "Epoch: 689, Train Loss: 99.0489, \n",
      "Validation Loss: 34.7021\n"
     ]
    },
    {
     "name": "stderr",
     "output_type": "stream",
     "text": [
      "Epoch 690/3000: 100%|██████████| 1/1 [00:00<00:00, 39.44it/s]\n",
      "Epoch 691/3000: 100%|██████████| 1/1 [00:00<00:00, 37.96it/s]\n",
      "Validation: 100%|██████████| 1/1 [00:00<00:00, 50.83it/s]\n"
     ]
    },
    {
     "name": "stdout",
     "output_type": "stream",
     "text": [
      "Epoch: 691, Train Loss: 118.6224, \n",
      "Validation Loss: 47.7584\n"
     ]
    },
    {
     "name": "stderr",
     "output_type": "stream",
     "text": [
      "Epoch 692/3000: 100%|██████████| 1/1 [00:00<00:00, 40.29it/s]\n",
      "Epoch 693/3000: 100%|██████████| 1/1 [00:00<00:00, 37.04it/s]\n",
      "Validation: 100%|██████████| 1/1 [00:00<00:00, 50.14it/s]\n"
     ]
    },
    {
     "name": "stdout",
     "output_type": "stream",
     "text": [
      "Epoch: 693, Train Loss: 89.1188, \n",
      "Validation Loss: 30.4343\n"
     ]
    },
    {
     "name": "stderr",
     "output_type": "stream",
     "text": [
      "Epoch 694/3000: 100%|██████████| 1/1 [00:00<00:00, 36.21it/s]\n",
      "Epoch 695/3000: 100%|██████████| 1/1 [00:00<00:00, 39.28it/s]\n",
      "Validation: 100%|██████████| 1/1 [00:00<00:00, 52.07it/s]\n"
     ]
    },
    {
     "name": "stdout",
     "output_type": "stream",
     "text": [
      "Epoch: 695, Train Loss: 123.7644, \n",
      "Validation Loss: 39.3125\n"
     ]
    },
    {
     "name": "stderr",
     "output_type": "stream",
     "text": [
      "Epoch 696/3000: 100%|██████████| 1/1 [00:00<00:00, 37.24it/s]\n",
      "Epoch 697/3000: 100%|██████████| 1/1 [00:00<00:00, 40.33it/s]\n",
      "Validation: 100%|██████████| 1/1 [00:00<00:00, 46.70it/s]\n"
     ]
    },
    {
     "name": "stdout",
     "output_type": "stream",
     "text": [
      "Epoch: 697, Train Loss: 136.3776, \n",
      "Validation Loss: 82.7898\n"
     ]
    },
    {
     "name": "stderr",
     "output_type": "stream",
     "text": [
      "Epoch 698/3000: 100%|██████████| 1/1 [00:00<00:00, 40.43it/s]\n",
      "Epoch 699/3000: 100%|██████████| 1/1 [00:00<00:00, 40.93it/s]\n",
      "Validation: 100%|██████████| 1/1 [00:00<00:00, 49.46it/s]\n"
     ]
    },
    {
     "name": "stdout",
     "output_type": "stream",
     "text": [
      "Epoch: 699, Train Loss: 145.6969, \n",
      "Validation Loss: 42.2032\n"
     ]
    },
    {
     "name": "stderr",
     "output_type": "stream",
     "text": [
      "Epoch 700/3000: 100%|██████████| 1/1 [00:00<00:00, 37.48it/s]\n",
      "Epoch 701/3000: 100%|██████████| 1/1 [00:00<00:00, 41.00it/s]\n",
      "Validation: 100%|██████████| 1/1 [00:00<00:00, 41.31it/s]\n"
     ]
    },
    {
     "name": "stdout",
     "output_type": "stream",
     "text": [
      "Epoch: 701, Train Loss: 117.5786, \n",
      "Validation Loss: 43.0741\n"
     ]
    },
    {
     "name": "stderr",
     "output_type": "stream",
     "text": [
      "Epoch 702/3000: 100%|██████████| 1/1 [00:00<00:00, 39.34it/s]\n",
      "Epoch 703/3000: 100%|██████████| 1/1 [00:00<00:00, 40.86it/s]\n",
      "Validation: 100%|██████████| 1/1 [00:00<00:00, 52.99it/s]\n"
     ]
    },
    {
     "name": "stdout",
     "output_type": "stream",
     "text": [
      "Epoch: 703, Train Loss: 107.8939, \n",
      "Validation Loss: 84.9932\n"
     ]
    },
    {
     "name": "stderr",
     "output_type": "stream",
     "text": [
      "Epoch 704/3000: 100%|██████████| 1/1 [00:00<00:00, 41.42it/s]\n",
      "Epoch 705/3000: 100%|██████████| 1/1 [00:00<00:00, 42.09it/s]\n",
      "Validation: 100%|██████████| 1/1 [00:00<00:00, 52.33it/s]\n"
     ]
    },
    {
     "name": "stdout",
     "output_type": "stream",
     "text": [
      "Epoch: 705, Train Loss: 153.5609, \n",
      "Validation Loss: 47.7672\n"
     ]
    },
    {
     "name": "stderr",
     "output_type": "stream",
     "text": [
      "Epoch 706/3000: 100%|██████████| 1/1 [00:00<00:00, 41.12it/s]\n",
      "Epoch 707/3000: 100%|██████████| 1/1 [00:00<00:00, 41.86it/s]\n",
      "Validation: 100%|██████████| 1/1 [00:00<00:00, 51.40it/s]\n"
     ]
    },
    {
     "name": "stdout",
     "output_type": "stream",
     "text": [
      "Epoch: 707, Train Loss: 110.2310, \n",
      "Validation Loss: 34.0919\n"
     ]
    },
    {
     "name": "stderr",
     "output_type": "stream",
     "text": [
      "Epoch 708/3000: 100%|██████████| 1/1 [00:00<00:00, 37.87it/s]\n",
      "Epoch 709/3000: 100%|██████████| 1/1 [00:00<00:00, 39.28it/s]\n",
      "Validation: 100%|██████████| 1/1 [00:00<00:00, 48.95it/s]\n"
     ]
    },
    {
     "name": "stdout",
     "output_type": "stream",
     "text": [
      "Epoch: 709, Train Loss: 65.1240, \n",
      "Validation Loss: 60.2873\n"
     ]
    },
    {
     "name": "stderr",
     "output_type": "stream",
     "text": [
      "Epoch 710/3000: 100%|██████████| 1/1 [00:00<00:00, 41.84it/s]\n",
      "Epoch 711/3000: 100%|██████████| 1/1 [00:00<00:00, 39.35it/s]\n",
      "Validation: 100%|██████████| 1/1 [00:00<00:00, 51.73it/s]\n"
     ]
    },
    {
     "name": "stdout",
     "output_type": "stream",
     "text": [
      "Epoch: 711, Train Loss: 159.9817, \n",
      "Validation Loss: 38.7292\n"
     ]
    },
    {
     "name": "stderr",
     "output_type": "stream",
     "text": [
      "Epoch 712/3000: 100%|██████████| 1/1 [00:00<00:00, 40.51it/s]\n",
      "Epoch 713/3000: 100%|██████████| 1/1 [00:00<00:00, 41.31it/s]\n",
      "Validation: 100%|██████████| 1/1 [00:00<00:00, 52.39it/s]\n"
     ]
    },
    {
     "name": "stdout",
     "output_type": "stream",
     "text": [
      "Epoch: 713, Train Loss: 65.7452, \n",
      "Validation Loss: 30.6848\n"
     ]
    },
    {
     "name": "stderr",
     "output_type": "stream",
     "text": [
      "Epoch 714/3000: 100%|██████████| 1/1 [00:00<00:00, 40.15it/s]\n",
      "Epoch 715/3000: 100%|██████████| 1/1 [00:00<00:00, 41.26it/s]\n",
      "Validation: 100%|██████████| 1/1 [00:00<00:00, 49.84it/s]\n"
     ]
    },
    {
     "name": "stdout",
     "output_type": "stream",
     "text": [
      "Epoch: 715, Train Loss: 90.8100, \n",
      "Validation Loss: 45.7173\n"
     ]
    },
    {
     "name": "stderr",
     "output_type": "stream",
     "text": [
      "Epoch 716/3000: 100%|██████████| 1/1 [00:00<00:00, 41.78it/s]\n",
      "Epoch 717/3000: 100%|██████████| 1/1 [00:00<00:00, 40.30it/s]\n",
      "Validation: 100%|██████████| 1/1 [00:00<00:00, 52.18it/s]\n"
     ]
    },
    {
     "name": "stdout",
     "output_type": "stream",
     "text": [
      "Epoch: 717, Train Loss: 92.0614, \n",
      "Validation Loss: 37.1703\n"
     ]
    },
    {
     "name": "stderr",
     "output_type": "stream",
     "text": [
      "Epoch 718/3000: 100%|██████████| 1/1 [00:00<00:00, 34.72it/s]\n",
      "Epoch 719/3000: 100%|██████████| 1/1 [00:00<00:00, 40.69it/s]\n",
      "Validation: 100%|██████████| 1/1 [00:00<00:00, 50.34it/s]\n"
     ]
    },
    {
     "name": "stdout",
     "output_type": "stream",
     "text": [
      "Epoch: 719, Train Loss: 58.8289, \n",
      "Validation Loss: 28.3196\n"
     ]
    },
    {
     "name": "stderr",
     "output_type": "stream",
     "text": [
      "Epoch 720/3000: 100%|██████████| 1/1 [00:00<00:00, 41.55it/s]\n",
      "Epoch 721/3000: 100%|██████████| 1/1 [00:00<00:00, 39.87it/s]\n",
      "Validation: 100%|██████████| 1/1 [00:00<00:00, 54.17it/s]\n"
     ]
    },
    {
     "name": "stdout",
     "output_type": "stream",
     "text": [
      "Epoch: 721, Train Loss: 86.7299, \n",
      "Validation Loss: 29.8657\n"
     ]
    },
    {
     "name": "stderr",
     "output_type": "stream",
     "text": [
      "Epoch 722/3000: 100%|██████████| 1/1 [00:00<00:00, 36.57it/s]\n",
      "Epoch 723/3000: 100%|██████████| 1/1 [00:00<00:00, 35.65it/s]\n",
      "Validation: 100%|██████████| 1/1 [00:00<00:00, 51.42it/s]\n"
     ]
    },
    {
     "name": "stdout",
     "output_type": "stream",
     "text": [
      "Epoch: 723, Train Loss: 97.5987, \n",
      "Validation Loss: 28.7637\n"
     ]
    },
    {
     "name": "stderr",
     "output_type": "stream",
     "text": [
      "Epoch 724/3000: 100%|██████████| 1/1 [00:00<00:00, 41.08it/s]\n",
      "Epoch 725/3000: 100%|██████████| 1/1 [00:00<00:00, 36.09it/s]\n",
      "Validation: 100%|██████████| 1/1 [00:00<00:00, 49.45it/s]\n"
     ]
    },
    {
     "name": "stdout",
     "output_type": "stream",
     "text": [
      "Epoch: 725, Train Loss: 52.3443, \n",
      "Validation Loss: 28.0478\n"
     ]
    },
    {
     "name": "stderr",
     "output_type": "stream",
     "text": [
      "Epoch 726/3000: 100%|██████████| 1/1 [00:00<00:00, 40.75it/s]\n",
      "Epoch 727/3000: 100%|██████████| 1/1 [00:00<00:00, 41.18it/s]\n",
      "Validation: 100%|██████████| 1/1 [00:00<00:00, 53.25it/s]\n"
     ]
    },
    {
     "name": "stdout",
     "output_type": "stream",
     "text": [
      "Epoch: 727, Train Loss: 86.5326, \n",
      "Validation Loss: 37.6191\n"
     ]
    },
    {
     "name": "stderr",
     "output_type": "stream",
     "text": [
      "Epoch 728/3000: 100%|██████████| 1/1 [00:00<00:00, 36.45it/s]\n",
      "Epoch 729/3000: 100%|██████████| 1/1 [00:00<00:00, 35.45it/s]\n",
      "Validation: 100%|██████████| 1/1 [00:00<00:00, 43.92it/s]\n"
     ]
    },
    {
     "name": "stdout",
     "output_type": "stream",
     "text": [
      "Epoch: 729, Train Loss: 88.0904, \n",
      "Validation Loss: 35.3351\n"
     ]
    },
    {
     "name": "stderr",
     "output_type": "stream",
     "text": [
      "Epoch 730/3000: 100%|██████████| 1/1 [00:00<00:00, 39.77it/s]\n",
      "Epoch 731/3000: 100%|██████████| 1/1 [00:00<00:00, 37.50it/s]\n",
      "Validation: 100%|██████████| 1/1 [00:00<00:00, 47.00it/s]\n"
     ]
    },
    {
     "name": "stdout",
     "output_type": "stream",
     "text": [
      "Epoch: 731, Train Loss: 96.0690, \n",
      "Validation Loss: 31.4290\n"
     ]
    },
    {
     "name": "stderr",
     "output_type": "stream",
     "text": [
      "Epoch 732/3000: 100%|██████████| 1/1 [00:00<00:00, 40.72it/s]\n",
      "Epoch 733/3000: 100%|██████████| 1/1 [00:00<00:00, 37.86it/s]\n",
      "Validation: 100%|██████████| 1/1 [00:00<00:00, 49.53it/s]\n"
     ]
    },
    {
     "name": "stdout",
     "output_type": "stream",
     "text": [
      "Epoch: 733, Train Loss: 122.5749, \n",
      "Validation Loss: 48.3075\n"
     ]
    },
    {
     "name": "stderr",
     "output_type": "stream",
     "text": [
      "Epoch 734/3000: 100%|██████████| 1/1 [00:00<00:00, 37.89it/s]\n",
      "Epoch 735/3000: 100%|██████████| 1/1 [00:00<00:00, 40.10it/s]\n",
      "Validation: 100%|██████████| 1/1 [00:00<00:00, 47.94it/s]\n"
     ]
    },
    {
     "name": "stdout",
     "output_type": "stream",
     "text": [
      "Epoch: 735, Train Loss: 85.4441, \n",
      "Validation Loss: 44.9524\n"
     ]
    },
    {
     "name": "stderr",
     "output_type": "stream",
     "text": [
      "Epoch 736/3000: 100%|██████████| 1/1 [00:00<00:00, 38.86it/s]\n",
      "Epoch 737/3000: 100%|██████████| 1/1 [00:00<00:00, 41.22it/s]\n",
      "Validation: 100%|██████████| 1/1 [00:00<00:00, 51.82it/s]\n"
     ]
    },
    {
     "name": "stdout",
     "output_type": "stream",
     "text": [
      "Epoch: 737, Train Loss: 156.7041, \n",
      "Validation Loss: 59.2647\n"
     ]
    },
    {
     "name": "stderr",
     "output_type": "stream",
     "text": [
      "Epoch 738/3000: 100%|██████████| 1/1 [00:00<00:00, 38.64it/s]\n",
      "Epoch 739/3000: 100%|██████████| 1/1 [00:00<00:00, 40.48it/s]\n",
      "Validation: 100%|██████████| 1/1 [00:00<00:00, 50.40it/s]\n"
     ]
    },
    {
     "name": "stdout",
     "output_type": "stream",
     "text": [
      "Epoch: 739, Train Loss: 138.2544, \n",
      "Validation Loss: 49.1278\n"
     ]
    },
    {
     "name": "stderr",
     "output_type": "stream",
     "text": [
      "Epoch 740/3000: 100%|██████████| 1/1 [00:00<00:00, 40.76it/s]\n",
      "Epoch 741/3000: 100%|██████████| 1/1 [00:00<00:00, 40.08it/s]\n",
      "Validation: 100%|██████████| 1/1 [00:00<00:00, 51.38it/s]\n"
     ]
    },
    {
     "name": "stdout",
     "output_type": "stream",
     "text": [
      "Epoch: 741, Train Loss: 59.9829, \n",
      "Validation Loss: 30.1535\n"
     ]
    },
    {
     "name": "stderr",
     "output_type": "stream",
     "text": [
      "Epoch 742/3000: 100%|██████████| 1/1 [00:00<00:00, 39.07it/s]\n",
      "Epoch 743/3000: 100%|██████████| 1/1 [00:00<00:00, 43.34it/s]\n",
      "Validation: 100%|██████████| 1/1 [00:00<00:00, 53.06it/s]\n"
     ]
    },
    {
     "name": "stdout",
     "output_type": "stream",
     "text": [
      "Epoch: 743, Train Loss: 97.5646, \n",
      "Validation Loss: 32.1767\n"
     ]
    },
    {
     "name": "stderr",
     "output_type": "stream",
     "text": [
      "Epoch 744/3000: 100%|██████████| 1/1 [00:00<00:00, 41.09it/s]\n",
      "Epoch 745/3000: 100%|██████████| 1/1 [00:00<00:00, 41.70it/s]\n",
      "Validation: 100%|██████████| 1/1 [00:00<00:00, 51.88it/s]\n"
     ]
    },
    {
     "name": "stdout",
     "output_type": "stream",
     "text": [
      "Epoch: 745, Train Loss: 39.2551, \n",
      "Validation Loss: 38.8280\n"
     ]
    },
    {
     "name": "stderr",
     "output_type": "stream",
     "text": [
      "Epoch 746/3000: 100%|██████████| 1/1 [00:00<00:00, 39.31it/s]\n",
      "Epoch 747/3000: 100%|██████████| 1/1 [00:00<00:00, 40.87it/s]\n",
      "Validation: 100%|██████████| 1/1 [00:00<00:00, 52.06it/s]\n"
     ]
    },
    {
     "name": "stdout",
     "output_type": "stream",
     "text": [
      "Epoch: 747, Train Loss: 116.3001, \n",
      "Validation Loss: 29.2633\n"
     ]
    },
    {
     "name": "stderr",
     "output_type": "stream",
     "text": [
      "Epoch 748/3000: 100%|██████████| 1/1 [00:00<00:00, 38.46it/s]\n",
      "Epoch 749/3000: 100%|██████████| 1/1 [00:00<00:00, 41.04it/s]\n",
      "Validation: 100%|██████████| 1/1 [00:00<00:00, 49.60it/s]\n"
     ]
    },
    {
     "name": "stdout",
     "output_type": "stream",
     "text": [
      "Epoch: 749, Train Loss: 88.2533, \n",
      "Validation Loss: 31.9064\n"
     ]
    },
    {
     "name": "stderr",
     "output_type": "stream",
     "text": [
      "Epoch 750/3000: 100%|██████████| 1/1 [00:00<00:00, 40.96it/s]\n",
      "Epoch 751/3000: 100%|██████████| 1/1 [00:00<00:00, 42.56it/s]\n",
      "Validation: 100%|██████████| 1/1 [00:00<00:00, 51.38it/s]\n"
     ]
    },
    {
     "name": "stdout",
     "output_type": "stream",
     "text": [
      "Epoch: 751, Train Loss: 108.4022, \n",
      "Validation Loss: 38.0845\n"
     ]
    },
    {
     "name": "stderr",
     "output_type": "stream",
     "text": [
      "Epoch 752/3000: 100%|██████████| 1/1 [00:00<00:00, 41.18it/s]\n",
      "Epoch 753/3000: 100%|██████████| 1/1 [00:00<00:00, 41.39it/s]\n",
      "Validation: 100%|██████████| 1/1 [00:00<00:00, 52.12it/s]\n"
     ]
    },
    {
     "name": "stdout",
     "output_type": "stream",
     "text": [
      "Epoch: 753, Train Loss: 106.0493, \n",
      "Validation Loss: 34.6339\n"
     ]
    },
    {
     "name": "stderr",
     "output_type": "stream",
     "text": [
      "Epoch 754/3000: 100%|██████████| 1/1 [00:00<00:00, 36.65it/s]\n",
      "Epoch 755/3000: 100%|██████████| 1/1 [00:00<00:00, 33.52it/s]\n",
      "Validation: 100%|██████████| 1/1 [00:00<00:00, 51.10it/s]\n"
     ]
    },
    {
     "name": "stdout",
     "output_type": "stream",
     "text": [
      "Epoch: 755, Train Loss: 91.9221, \n",
      "Validation Loss: 25.2730\n"
     ]
    },
    {
     "name": "stderr",
     "output_type": "stream",
     "text": [
      "Epoch 756/3000: 100%|██████████| 1/1 [00:00<00:00, 34.91it/s]\n",
      "Epoch 757/3000: 100%|██████████| 1/1 [00:00<00:00, 41.42it/s]\n",
      "Validation: 100%|██████████| 1/1 [00:00<00:00, 42.45it/s]\n"
     ]
    },
    {
     "name": "stdout",
     "output_type": "stream",
     "text": [
      "Epoch: 757, Train Loss: 101.1478, \n",
      "Validation Loss: 36.4707\n"
     ]
    },
    {
     "name": "stderr",
     "output_type": "stream",
     "text": [
      "Epoch 758/3000: 100%|██████████| 1/1 [00:00<00:00, 41.03it/s]\n",
      "Epoch 759/3000: 100%|██████████| 1/1 [00:00<00:00, 39.43it/s]\n",
      "Validation: 100%|██████████| 1/1 [00:00<00:00, 51.72it/s]\n"
     ]
    },
    {
     "name": "stdout",
     "output_type": "stream",
     "text": [
      "Epoch: 759, Train Loss: 82.5353, \n",
      "Validation Loss: 48.7959\n"
     ]
    },
    {
     "name": "stderr",
     "output_type": "stream",
     "text": [
      "Epoch 760/3000: 100%|██████████| 1/1 [00:00<00:00, 34.09it/s]\n",
      "Epoch 761/3000: 100%|██████████| 1/1 [00:00<00:00, 40.42it/s]\n",
      "Validation: 100%|██████████| 1/1 [00:00<00:00, 51.78it/s]\n"
     ]
    },
    {
     "name": "stdout",
     "output_type": "stream",
     "text": [
      "Epoch: 761, Train Loss: 90.6941, \n",
      "Validation Loss: 34.5510\n"
     ]
    },
    {
     "name": "stderr",
     "output_type": "stream",
     "text": [
      "Epoch 762/3000: 100%|██████████| 1/1 [00:00<00:00, 36.25it/s]\n",
      "Epoch 763/3000: 100%|██████████| 1/1 [00:00<00:00, 41.61it/s]\n",
      "Validation: 100%|██████████| 1/1 [00:00<00:00, 48.86it/s]\n"
     ]
    },
    {
     "name": "stdout",
     "output_type": "stream",
     "text": [
      "Epoch: 763, Train Loss: 75.8967, \n",
      "Validation Loss: 43.0029\n"
     ]
    },
    {
     "name": "stderr",
     "output_type": "stream",
     "text": [
      "Epoch 764/3000: 100%|██████████| 1/1 [00:00<00:00, 38.56it/s]\n",
      "Epoch 765/3000: 100%|██████████| 1/1 [00:00<00:00, 39.73it/s]\n",
      "Validation: 100%|██████████| 1/1 [00:00<00:00, 51.61it/s]\n"
     ]
    },
    {
     "name": "stdout",
     "output_type": "stream",
     "text": [
      "Epoch: 765, Train Loss: 96.2292, \n",
      "Validation Loss: 44.8890\n"
     ]
    },
    {
     "name": "stderr",
     "output_type": "stream",
     "text": [
      "Epoch 766/3000: 100%|██████████| 1/1 [00:00<00:00, 38.79it/s]\n",
      "Epoch 767/3000: 100%|██████████| 1/1 [00:00<00:00, 42.02it/s]\n",
      "Validation: 100%|██████████| 1/1 [00:00<00:00, 51.90it/s]\n"
     ]
    },
    {
     "name": "stdout",
     "output_type": "stream",
     "text": [
      "Epoch: 767, Train Loss: 86.3715, \n",
      "Validation Loss: 37.6817\n"
     ]
    },
    {
     "name": "stderr",
     "output_type": "stream",
     "text": [
      "Epoch 768/3000: 100%|██████████| 1/1 [00:00<00:00, 41.97it/s]\n",
      "Epoch 769/3000: 100%|██████████| 1/1 [00:00<00:00, 39.91it/s]\n",
      "Validation: 100%|██████████| 1/1 [00:00<00:00, 52.89it/s]\n"
     ]
    },
    {
     "name": "stdout",
     "output_type": "stream",
     "text": [
      "Epoch: 769, Train Loss: 94.6456, \n",
      "Validation Loss: 51.0533\n"
     ]
    },
    {
     "name": "stderr",
     "output_type": "stream",
     "text": [
      "Epoch 770/3000: 100%|██████████| 1/1 [00:00<00:00, 41.10it/s]\n",
      "Epoch 771/3000: 100%|██████████| 1/1 [00:00<00:00, 40.26it/s]\n",
      "Validation: 100%|██████████| 1/1 [00:00<00:00, 50.88it/s]\n"
     ]
    },
    {
     "name": "stdout",
     "output_type": "stream",
     "text": [
      "Epoch: 771, Train Loss: 148.4581, \n",
      "Validation Loss: 65.6192\n"
     ]
    },
    {
     "name": "stderr",
     "output_type": "stream",
     "text": [
      "Epoch 772/3000: 100%|██████████| 1/1 [00:00<00:00, 39.72it/s]\n",
      "Epoch 773/3000: 100%|██████████| 1/1 [00:00<00:00, 42.75it/s]\n",
      "Validation: 100%|██████████| 1/1 [00:00<00:00, 48.64it/s]\n"
     ]
    },
    {
     "name": "stdout",
     "output_type": "stream",
     "text": [
      "Epoch: 773, Train Loss: 105.4774, \n",
      "Validation Loss: 42.5064\n"
     ]
    },
    {
     "name": "stderr",
     "output_type": "stream",
     "text": [
      "Epoch 774/3000: 100%|██████████| 1/1 [00:00<00:00, 39.82it/s]\n",
      "Epoch 775/3000: 100%|██████████| 1/1 [00:00<00:00, 40.35it/s]\n",
      "Validation: 100%|██████████| 1/1 [00:00<00:00, 55.49it/s]\n"
     ]
    },
    {
     "name": "stdout",
     "output_type": "stream",
     "text": [
      "Epoch: 775, Train Loss: 121.2340, \n",
      "Validation Loss: 44.6385\n"
     ]
    },
    {
     "name": "stderr",
     "output_type": "stream",
     "text": [
      "Epoch 776/3000: 100%|██████████| 1/1 [00:00<00:00, 37.38it/s]\n",
      "Epoch 777/3000: 100%|██████████| 1/1 [00:00<00:00, 37.27it/s]\n",
      "Validation: 100%|██████████| 1/1 [00:00<00:00, 50.58it/s]\n"
     ]
    },
    {
     "name": "stdout",
     "output_type": "stream",
     "text": [
      "Epoch: 777, Train Loss: 61.8066, \n",
      "Validation Loss: 46.8502\n"
     ]
    },
    {
     "name": "stderr",
     "output_type": "stream",
     "text": [
      "Epoch 778/3000: 100%|██████████| 1/1 [00:00<00:00, 41.46it/s]\n",
      "Epoch 779/3000: 100%|██████████| 1/1 [00:00<00:00, 38.99it/s]\n",
      "Validation: 100%|██████████| 1/1 [00:00<00:00, 50.86it/s]\n"
     ]
    },
    {
     "name": "stdout",
     "output_type": "stream",
     "text": [
      "Epoch: 779, Train Loss: 96.9471, \n",
      "Validation Loss: 47.3489\n"
     ]
    },
    {
     "name": "stderr",
     "output_type": "stream",
     "text": [
      "Epoch 780/3000: 100%|██████████| 1/1 [00:00<00:00, 38.08it/s]\n",
      "Epoch 781/3000: 100%|██████████| 1/1 [00:00<00:00, 35.45it/s]\n",
      "Validation: 100%|██████████| 1/1 [00:00<00:00, 47.83it/s]\n"
     ]
    },
    {
     "name": "stdout",
     "output_type": "stream",
     "text": [
      "Epoch: 781, Train Loss: 64.1627, \n",
      "Validation Loss: 42.0294\n"
     ]
    },
    {
     "name": "stderr",
     "output_type": "stream",
     "text": [
      "Epoch 782/3000: 100%|██████████| 1/1 [00:00<00:00, 33.86it/s]\n",
      "Epoch 783/3000: 100%|██████████| 1/1 [00:00<00:00, 42.22it/s]\n",
      "Validation: 100%|██████████| 1/1 [00:00<00:00, 50.90it/s]\n"
     ]
    },
    {
     "name": "stdout",
     "output_type": "stream",
     "text": [
      "Epoch: 783, Train Loss: 101.2244, \n",
      "Validation Loss: 34.3405\n"
     ]
    },
    {
     "name": "stderr",
     "output_type": "stream",
     "text": [
      "Epoch 784/3000: 100%|██████████| 1/1 [00:00<00:00, 33.45it/s]\n",
      "Epoch 785/3000: 100%|██████████| 1/1 [00:00<00:00, 38.73it/s]\n",
      "Validation: 100%|██████████| 1/1 [00:00<00:00, 51.12it/s]\n"
     ]
    },
    {
     "name": "stdout",
     "output_type": "stream",
     "text": [
      "Epoch: 785, Train Loss: 55.9777, \n",
      "Validation Loss: 30.8756\n"
     ]
    },
    {
     "name": "stderr",
     "output_type": "stream",
     "text": [
      "Epoch 786/3000: 100%|██████████| 1/1 [00:00<00:00, 39.31it/s]\n",
      "Epoch 787/3000: 100%|██████████| 1/1 [00:00<00:00, 38.53it/s]\n",
      "Validation: 100%|██████████| 1/1 [00:00<00:00, 52.74it/s]\n"
     ]
    },
    {
     "name": "stdout",
     "output_type": "stream",
     "text": [
      "Epoch: 787, Train Loss: 94.3382, \n",
      "Validation Loss: 38.0213\n"
     ]
    },
    {
     "name": "stderr",
     "output_type": "stream",
     "text": [
      "Epoch 788/3000: 100%|██████████| 1/1 [00:00<00:00, 37.83it/s]\n",
      "Epoch 789/3000: 100%|██████████| 1/1 [00:00<00:00, 38.88it/s]\n",
      "Validation: 100%|██████████| 1/1 [00:00<00:00, 47.44it/s]\n"
     ]
    },
    {
     "name": "stdout",
     "output_type": "stream",
     "text": [
      "Epoch: 789, Train Loss: 64.0571, \n",
      "Validation Loss: 34.4626\n"
     ]
    },
    {
     "name": "stderr",
     "output_type": "stream",
     "text": [
      "Epoch 790/3000: 100%|██████████| 1/1 [00:00<00:00, 37.58it/s]\n",
      "Epoch 791/3000: 100%|██████████| 1/1 [00:00<00:00, 40.53it/s]\n",
      "Validation: 100%|██████████| 1/1 [00:00<00:00, 50.06it/s]\n"
     ]
    },
    {
     "name": "stdout",
     "output_type": "stream",
     "text": [
      "Epoch: 791, Train Loss: 97.9722, \n",
      "Validation Loss: 23.9580\n"
     ]
    },
    {
     "name": "stderr",
     "output_type": "stream",
     "text": [
      "Epoch 792/3000: 100%|██████████| 1/1 [00:00<00:00, 39.69it/s]\n",
      "Epoch 793/3000: 100%|██████████| 1/1 [00:00<00:00, 39.75it/s]\n",
      "Validation: 100%|██████████| 1/1 [00:00<00:00, 55.35it/s]\n"
     ]
    },
    {
     "name": "stdout",
     "output_type": "stream",
     "text": [
      "Epoch: 793, Train Loss: 56.2237, \n",
      "Validation Loss: 24.7581\n"
     ]
    },
    {
     "name": "stderr",
     "output_type": "stream",
     "text": [
      "Epoch 794/3000: 100%|██████████| 1/1 [00:00<00:00, 38.61it/s]\n",
      "Epoch 795/3000: 100%|██████████| 1/1 [00:00<00:00, 38.56it/s]\n",
      "Validation: 100%|██████████| 1/1 [00:00<00:00, 51.44it/s]\n"
     ]
    },
    {
     "name": "stdout",
     "output_type": "stream",
     "text": [
      "Epoch: 795, Train Loss: 127.7863, \n",
      "Validation Loss: 30.3130\n"
     ]
    },
    {
     "name": "stderr",
     "output_type": "stream",
     "text": [
      "Epoch 796/3000: 100%|██████████| 1/1 [00:00<00:00, 41.29it/s]\n",
      "Epoch 797/3000: 100%|██████████| 1/1 [00:00<00:00, 40.85it/s]\n",
      "Validation: 100%|██████████| 1/1 [00:00<00:00, 47.40it/s]\n"
     ]
    },
    {
     "name": "stdout",
     "output_type": "stream",
     "text": [
      "Epoch: 797, Train Loss: 91.5278, \n",
      "Validation Loss: 28.9781\n"
     ]
    },
    {
     "name": "stderr",
     "output_type": "stream",
     "text": [
      "Epoch 798/3000: 100%|██████████| 1/1 [00:00<00:00, 37.59it/s]\n",
      "Epoch 799/3000: 100%|██████████| 1/1 [00:00<00:00, 41.37it/s]\n",
      "Validation: 100%|██████████| 1/1 [00:00<00:00, 49.91it/s]\n"
     ]
    },
    {
     "name": "stdout",
     "output_type": "stream",
     "text": [
      "Epoch: 799, Train Loss: 75.7626, \n",
      "Validation Loss: 26.1457\n"
     ]
    },
    {
     "name": "stderr",
     "output_type": "stream",
     "text": [
      "Epoch 800/3000: 100%|██████████| 1/1 [00:00<00:00, 38.20it/s]\n",
      "Epoch 801/3000: 100%|██████████| 1/1 [00:00<00:00, 38.83it/s]\n",
      "Validation: 100%|██████████| 1/1 [00:00<00:00, 49.69it/s]\n"
     ]
    },
    {
     "name": "stdout",
     "output_type": "stream",
     "text": [
      "Epoch: 801, Train Loss: 80.1321, \n",
      "Validation Loss: 27.6821\n"
     ]
    },
    {
     "name": "stderr",
     "output_type": "stream",
     "text": [
      "Epoch 802/3000: 100%|██████████| 1/1 [00:00<00:00, 37.57it/s]\n",
      "Epoch 803/3000: 100%|██████████| 1/1 [00:00<00:00, 40.18it/s]\n",
      "Validation: 100%|██████████| 1/1 [00:00<00:00, 49.53it/s]\n"
     ]
    },
    {
     "name": "stdout",
     "output_type": "stream",
     "text": [
      "Epoch: 803, Train Loss: 82.0540, \n",
      "Validation Loss: 37.6727\n"
     ]
    },
    {
     "name": "stderr",
     "output_type": "stream",
     "text": [
      "Epoch 804/3000: 100%|██████████| 1/1 [00:00<00:00, 40.83it/s]\n",
      "Epoch 805/3000: 100%|██████████| 1/1 [00:00<00:00, 39.00it/s]\n",
      "Validation: 100%|██████████| 1/1 [00:00<00:00, 51.24it/s]\n"
     ]
    },
    {
     "name": "stdout",
     "output_type": "stream",
     "text": [
      "Epoch: 805, Train Loss: 85.7589, \n",
      "Validation Loss: 30.3259\n"
     ]
    },
    {
     "name": "stderr",
     "output_type": "stream",
     "text": [
      "Epoch 806/3000: 100%|██████████| 1/1 [00:00<00:00, 32.59it/s]\n",
      "Epoch 807/3000: 100%|██████████| 1/1 [00:00<00:00, 30.97it/s]\n",
      "Validation: 100%|██████████| 1/1 [00:00<00:00, 50.46it/s]\n"
     ]
    },
    {
     "name": "stdout",
     "output_type": "stream",
     "text": [
      "Epoch: 807, Train Loss: 97.6224, \n",
      "Validation Loss: 20.9613\n"
     ]
    },
    {
     "name": "stderr",
     "output_type": "stream",
     "text": [
      "Epoch 808/3000: 100%|██████████| 1/1 [00:00<00:00, 34.64it/s]\n",
      "Epoch 809/3000: 100%|██████████| 1/1 [00:00<00:00, 39.75it/s]\n",
      "Validation: 100%|██████████| 1/1 [00:00<00:00, 50.75it/s]\n"
     ]
    },
    {
     "name": "stdout",
     "output_type": "stream",
     "text": [
      "Epoch: 809, Train Loss: 63.7963, \n",
      "Validation Loss: 24.4742\n"
     ]
    },
    {
     "name": "stderr",
     "output_type": "stream",
     "text": [
      "Epoch 810/3000: 100%|██████████| 1/1 [00:00<00:00, 37.07it/s]\n",
      "Epoch 811/3000: 100%|██████████| 1/1 [00:00<00:00, 39.40it/s]\n",
      "Validation: 100%|██████████| 1/1 [00:00<00:00, 52.76it/s]\n"
     ]
    },
    {
     "name": "stdout",
     "output_type": "stream",
     "text": [
      "Epoch: 811, Train Loss: 110.0777, \n",
      "Validation Loss: 37.2572\n"
     ]
    },
    {
     "name": "stderr",
     "output_type": "stream",
     "text": [
      "Epoch 812/3000: 100%|██████████| 1/1 [00:00<00:00, 39.83it/s]\n",
      "Epoch 813/3000: 100%|██████████| 1/1 [00:00<00:00, 35.65it/s]\n",
      "Validation: 100%|██████████| 1/1 [00:00<00:00, 51.61it/s]\n"
     ]
    },
    {
     "name": "stdout",
     "output_type": "stream",
     "text": [
      "Epoch: 813, Train Loss: 73.9060, \n",
      "Validation Loss: 39.7969\n"
     ]
    },
    {
     "name": "stderr",
     "output_type": "stream",
     "text": [
      "Epoch 814/3000: 100%|██████████| 1/1 [00:00<00:00, 40.13it/s]\n",
      "Epoch 815/3000: 100%|██████████| 1/1 [00:00<00:00, 39.34it/s]\n",
      "Validation: 100%|██████████| 1/1 [00:00<00:00, 48.50it/s]\n"
     ]
    },
    {
     "name": "stdout",
     "output_type": "stream",
     "text": [
      "Epoch: 815, Train Loss: 60.6912, \n",
      "Validation Loss: 42.8432\n"
     ]
    },
    {
     "name": "stderr",
     "output_type": "stream",
     "text": [
      "Epoch 816/3000: 100%|██████████| 1/1 [00:00<00:00, 37.68it/s]\n",
      "Epoch 817/3000: 100%|██████████| 1/1 [00:00<00:00, 42.45it/s]\n",
      "Validation: 100%|██████████| 1/1 [00:00<00:00, 50.77it/s]\n"
     ]
    },
    {
     "name": "stdout",
     "output_type": "stream",
     "text": [
      "Epoch: 817, Train Loss: 74.7508, \n",
      "Validation Loss: 35.4124\n"
     ]
    },
    {
     "name": "stderr",
     "output_type": "stream",
     "text": [
      "Epoch 818/3000: 100%|██████████| 1/1 [00:00<00:00, 35.37it/s]\n",
      "Epoch 819/3000: 100%|██████████| 1/1 [00:00<00:00, 39.25it/s]\n",
      "Validation: 100%|██████████| 1/1 [00:00<00:00, 55.77it/s]\n"
     ]
    },
    {
     "name": "stdout",
     "output_type": "stream",
     "text": [
      "Epoch: 819, Train Loss: 129.8654, \n",
      "Validation Loss: 38.9921\n"
     ]
    },
    {
     "name": "stderr",
     "output_type": "stream",
     "text": [
      "Epoch 820/3000: 100%|██████████| 1/1 [00:00<00:00, 37.91it/s]\n",
      "Epoch 821/3000: 100%|██████████| 1/1 [00:00<00:00, 40.35it/s]\n",
      "Validation: 100%|██████████| 1/1 [00:00<00:00, 50.89it/s]\n"
     ]
    },
    {
     "name": "stdout",
     "output_type": "stream",
     "text": [
      "Epoch: 821, Train Loss: 136.9603, \n",
      "Validation Loss: 26.0096\n"
     ]
    },
    {
     "name": "stderr",
     "output_type": "stream",
     "text": [
      "Epoch 822/3000: 100%|██████████| 1/1 [00:00<00:00, 40.20it/s]\n",
      "Epoch 823/3000: 100%|██████████| 1/1 [00:00<00:00, 39.23it/s]\n",
      "Validation: 100%|██████████| 1/1 [00:00<00:00, 50.64it/s]\n"
     ]
    },
    {
     "name": "stdout",
     "output_type": "stream",
     "text": [
      "Epoch: 823, Train Loss: 98.9528, \n",
      "Validation Loss: 26.1912\n"
     ]
    },
    {
     "name": "stderr",
     "output_type": "stream",
     "text": [
      "Epoch 824/3000: 100%|██████████| 1/1 [00:00<00:00, 38.45it/s]\n",
      "Epoch 825/3000: 100%|██████████| 1/1 [00:00<00:00, 42.53it/s]\n",
      "Validation: 100%|██████████| 1/1 [00:00<00:00, 46.67it/s]\n"
     ]
    },
    {
     "name": "stdout",
     "output_type": "stream",
     "text": [
      "Epoch: 825, Train Loss: 52.3121, \n",
      "Validation Loss: 29.7948\n"
     ]
    },
    {
     "name": "stderr",
     "output_type": "stream",
     "text": [
      "Epoch 826/3000: 100%|██████████| 1/1 [00:00<00:00, 40.05it/s]\n",
      "Epoch 827/3000: 100%|██████████| 1/1 [00:00<00:00, 39.65it/s]\n",
      "Validation: 100%|██████████| 1/1 [00:00<00:00, 55.82it/s]\n"
     ]
    },
    {
     "name": "stdout",
     "output_type": "stream",
     "text": [
      "Epoch: 827, Train Loss: 70.3056, \n",
      "Validation Loss: 31.8723\n"
     ]
    },
    {
     "name": "stderr",
     "output_type": "stream",
     "text": [
      "Epoch 828/3000: 100%|██████████| 1/1 [00:00<00:00, 39.20it/s]\n",
      "Epoch 829/3000: 100%|██████████| 1/1 [00:00<00:00, 37.72it/s]\n",
      "Validation: 100%|██████████| 1/1 [00:00<00:00, 42.28it/s]\n"
     ]
    },
    {
     "name": "stdout",
     "output_type": "stream",
     "text": [
      "Epoch: 829, Train Loss: 114.6964, \n",
      "Validation Loss: 36.5451\n"
     ]
    },
    {
     "name": "stderr",
     "output_type": "stream",
     "text": [
      "Epoch 830/3000: 100%|██████████| 1/1 [00:00<00:00, 40.81it/s]\n",
      "Epoch 831/3000: 100%|██████████| 1/1 [00:00<00:00, 40.53it/s]\n",
      "Validation: 100%|██████████| 1/1 [00:00<00:00, 50.58it/s]\n"
     ]
    },
    {
     "name": "stdout",
     "output_type": "stream",
     "text": [
      "Epoch: 831, Train Loss: 98.6652, \n",
      "Validation Loss: 34.9869\n"
     ]
    },
    {
     "name": "stderr",
     "output_type": "stream",
     "text": [
      "Epoch 832/3000: 100%|██████████| 1/1 [00:00<00:00, 39.54it/s]\n",
      "Epoch 833/3000: 100%|██████████| 1/1 [00:00<00:00, 40.27it/s]\n",
      "Validation: 100%|██████████| 1/1 [00:00<00:00, 50.97it/s]\n"
     ]
    },
    {
     "name": "stdout",
     "output_type": "stream",
     "text": [
      "Epoch: 833, Train Loss: 52.7813, \n",
      "Validation Loss: 28.1553\n"
     ]
    },
    {
     "name": "stderr",
     "output_type": "stream",
     "text": [
      "Epoch 834/3000: 100%|██████████| 1/1 [00:00<00:00, 41.66it/s]\n",
      "Epoch 835/3000: 100%|██████████| 1/1 [00:00<00:00, 36.04it/s]\n",
      "Validation: 100%|██████████| 1/1 [00:00<00:00, 50.86it/s]\n"
     ]
    },
    {
     "name": "stdout",
     "output_type": "stream",
     "text": [
      "Epoch: 835, Train Loss: 68.6729, \n",
      "Validation Loss: 31.4448\n"
     ]
    },
    {
     "name": "stderr",
     "output_type": "stream",
     "text": [
      "Epoch 836/3000: 100%|██████████| 1/1 [00:00<00:00, 34.36it/s]\n",
      "Epoch 837/3000: 100%|██████████| 1/1 [00:00<00:00, 40.18it/s]\n",
      "Validation: 100%|██████████| 1/1 [00:00<00:00, 50.63it/s]\n"
     ]
    },
    {
     "name": "stdout",
     "output_type": "stream",
     "text": [
      "Epoch: 837, Train Loss: 64.1400, \n",
      "Validation Loss: 34.9323\n"
     ]
    },
    {
     "name": "stderr",
     "output_type": "stream",
     "text": [
      "Epoch 838/3000: 100%|██████████| 1/1 [00:00<00:00, 39.48it/s]\n",
      "Epoch 839/3000: 100%|██████████| 1/1 [00:00<00:00, 40.97it/s]\n",
      "Validation: 100%|██████████| 1/1 [00:00<00:00, 49.82it/s]\n"
     ]
    },
    {
     "name": "stdout",
     "output_type": "stream",
     "text": [
      "Epoch: 839, Train Loss: 80.5068, \n",
      "Validation Loss: 39.6678\n"
     ]
    },
    {
     "name": "stderr",
     "output_type": "stream",
     "text": [
      "Epoch 840/3000: 100%|██████████| 1/1 [00:00<00:00, 38.99it/s]\n",
      "Epoch 841/3000: 100%|██████████| 1/1 [00:00<00:00, 37.00it/s]\n",
      "Validation: 100%|██████████| 1/1 [00:00<00:00, 52.04it/s]\n"
     ]
    },
    {
     "name": "stdout",
     "output_type": "stream",
     "text": [
      "Epoch: 841, Train Loss: 64.9264, \n",
      "Validation Loss: 38.9354\n"
     ]
    },
    {
     "name": "stderr",
     "output_type": "stream",
     "text": [
      "Epoch 842/3000: 100%|██████████| 1/1 [00:00<00:00, 33.29it/s]\n",
      "Epoch 843/3000: 100%|██████████| 1/1 [00:00<00:00, 39.74it/s]\n",
      "Validation: 100%|██████████| 1/1 [00:00<00:00, 50.49it/s]\n"
     ]
    },
    {
     "name": "stdout",
     "output_type": "stream",
     "text": [
      "Epoch: 843, Train Loss: 84.4583, \n",
      "Validation Loss: 45.1971\n"
     ]
    },
    {
     "name": "stderr",
     "output_type": "stream",
     "text": [
      "Epoch 844/3000: 100%|██████████| 1/1 [00:00<00:00, 36.25it/s]\n",
      "Epoch 845/3000: 100%|██████████| 1/1 [00:00<00:00, 42.77it/s]\n",
      "Validation: 100%|██████████| 1/1 [00:00<00:00, 49.47it/s]\n"
     ]
    },
    {
     "name": "stdout",
     "output_type": "stream",
     "text": [
      "Epoch: 845, Train Loss: 100.7552, \n",
      "Validation Loss: 39.5032\n"
     ]
    },
    {
     "name": "stderr",
     "output_type": "stream",
     "text": [
      "Epoch 846/3000: 100%|██████████| 1/1 [00:00<00:00, 39.52it/s]\n",
      "Epoch 847/3000: 100%|██████████| 1/1 [00:00<00:00, 38.99it/s]\n",
      "Validation: 100%|██████████| 1/1 [00:00<00:00, 55.43it/s]\n"
     ]
    },
    {
     "name": "stdout",
     "output_type": "stream",
     "text": [
      "Epoch: 847, Train Loss: 104.9278, \n",
      "Validation Loss: 39.7841\n"
     ]
    },
    {
     "name": "stderr",
     "output_type": "stream",
     "text": [
      "Epoch 848/3000: 100%|██████████| 1/1 [00:00<00:00, 35.93it/s]\n",
      "Epoch 849/3000: 100%|██████████| 1/1 [00:00<00:00, 42.40it/s]\n",
      "Validation: 100%|██████████| 1/1 [00:00<00:00, 52.53it/s]\n"
     ]
    },
    {
     "name": "stdout",
     "output_type": "stream",
     "text": [
      "Epoch: 849, Train Loss: 64.6334, \n",
      "Validation Loss: 45.8804\n"
     ]
    },
    {
     "name": "stderr",
     "output_type": "stream",
     "text": [
      "Epoch 850/3000: 100%|██████████| 1/1 [00:00<00:00, 43.28it/s]\n",
      "Epoch 851/3000: 100%|██████████| 1/1 [00:00<00:00, 40.47it/s]\n",
      "Validation: 100%|██████████| 1/1 [00:00<00:00, 52.80it/s]\n"
     ]
    },
    {
     "name": "stdout",
     "output_type": "stream",
     "text": [
      "Epoch: 851, Train Loss: 95.0382, \n",
      "Validation Loss: 40.5286\n"
     ]
    },
    {
     "name": "stderr",
     "output_type": "stream",
     "text": [
      "Epoch 852/3000: 100%|██████████| 1/1 [00:00<00:00, 38.59it/s]\n",
      "Epoch 853/3000: 100%|██████████| 1/1 [00:00<00:00, 40.71it/s]\n",
      "Validation: 100%|██████████| 1/1 [00:00<00:00, 41.74it/s]\n"
     ]
    },
    {
     "name": "stdout",
     "output_type": "stream",
     "text": [
      "Epoch: 853, Train Loss: 97.0236, \n",
      "Validation Loss: 27.0806\n"
     ]
    },
    {
     "name": "stderr",
     "output_type": "stream",
     "text": [
      "Epoch 854/3000: 100%|██████████| 1/1 [00:00<00:00, 40.74it/s]\n",
      "Epoch 855/3000: 100%|██████████| 1/1 [00:00<00:00, 39.30it/s]\n",
      "Validation: 100%|██████████| 1/1 [00:00<00:00, 55.81it/s]\n"
     ]
    },
    {
     "name": "stdout",
     "output_type": "stream",
     "text": [
      "Epoch: 855, Train Loss: 57.0310, \n",
      "Validation Loss: 34.6806\n"
     ]
    },
    {
     "name": "stderr",
     "output_type": "stream",
     "text": [
      "Epoch 856/3000: 100%|██████████| 1/1 [00:00<00:00, 38.29it/s]\n",
      "Epoch 857/3000: 100%|██████████| 1/1 [00:00<00:00, 37.82it/s]\n",
      "Validation: 100%|██████████| 1/1 [00:00<00:00, 41.06it/s]\n"
     ]
    },
    {
     "name": "stdout",
     "output_type": "stream",
     "text": [
      "Epoch: 857, Train Loss: 100.3589, \n",
      "Validation Loss: 32.6554\n"
     ]
    },
    {
     "name": "stderr",
     "output_type": "stream",
     "text": [
      "Epoch 858/3000: 100%|██████████| 1/1 [00:00<00:00, 42.07it/s]\n",
      "Epoch 859/3000: 100%|██████████| 1/1 [00:00<00:00, 39.37it/s]\n",
      "Validation: 100%|██████████| 1/1 [00:00<00:00, 50.88it/s]\n"
     ]
    },
    {
     "name": "stdout",
     "output_type": "stream",
     "text": [
      "Epoch: 859, Train Loss: 60.2445, \n",
      "Validation Loss: 24.4533\n"
     ]
    },
    {
     "name": "stderr",
     "output_type": "stream",
     "text": [
      "Epoch 860/3000: 100%|██████████| 1/1 [00:00<00:00, 34.19it/s]\n",
      "Epoch 861/3000: 100%|██████████| 1/1 [00:00<00:00, 41.26it/s]\n",
      "Validation: 100%|██████████| 1/1 [00:00<00:00, 49.21it/s]\n"
     ]
    },
    {
     "name": "stdout",
     "output_type": "stream",
     "text": [
      "Epoch: 861, Train Loss: 38.8735, \n",
      "Validation Loss: 30.9711\n"
     ]
    },
    {
     "name": "stderr",
     "output_type": "stream",
     "text": [
      "Epoch 862/3000: 100%|██████████| 1/1 [00:00<00:00, 35.98it/s]\n",
      "Epoch 863/3000: 100%|██████████| 1/1 [00:00<00:00, 40.69it/s]\n",
      "Validation: 100%|██████████| 1/1 [00:00<00:00, 47.03it/s]\n"
     ]
    },
    {
     "name": "stdout",
     "output_type": "stream",
     "text": [
      "Epoch: 863, Train Loss: 67.0711, \n",
      "Validation Loss: 47.9212\n"
     ]
    },
    {
     "name": "stderr",
     "output_type": "stream",
     "text": [
      "Epoch 864/3000: 100%|██████████| 1/1 [00:00<00:00, 41.20it/s]\n",
      "Epoch 865/3000: 100%|██████████| 1/1 [00:00<00:00, 38.85it/s]\n",
      "Validation: 100%|██████████| 1/1 [00:00<00:00, 51.73it/s]\n"
     ]
    },
    {
     "name": "stdout",
     "output_type": "stream",
     "text": [
      "Epoch: 865, Train Loss: 110.9734, \n",
      "Validation Loss: 47.3661\n"
     ]
    },
    {
     "name": "stderr",
     "output_type": "stream",
     "text": [
      "Epoch 866/3000: 100%|██████████| 1/1 [00:00<00:00, 39.64it/s]\n",
      "Epoch 867/3000: 100%|██████████| 1/1 [00:00<00:00, 39.77it/s]\n",
      "Validation: 100%|██████████| 1/1 [00:00<00:00, 52.46it/s]\n"
     ]
    },
    {
     "name": "stdout",
     "output_type": "stream",
     "text": [
      "Epoch: 867, Train Loss: 74.2833, \n",
      "Validation Loss: 29.9907\n"
     ]
    },
    {
     "name": "stderr",
     "output_type": "stream",
     "text": [
      "Epoch 868/3000: 100%|██████████| 1/1 [00:00<00:00, 40.80it/s]\n",
      "Epoch 869/3000: 100%|██████████| 1/1 [00:00<00:00, 41.38it/s]\n",
      "Validation: 100%|██████████| 1/1 [00:00<00:00, 52.01it/s]\n"
     ]
    },
    {
     "name": "stdout",
     "output_type": "stream",
     "text": [
      "Epoch: 869, Train Loss: 54.0693, \n",
      "Validation Loss: 37.9656\n"
     ]
    },
    {
     "name": "stderr",
     "output_type": "stream",
     "text": [
      "Epoch 870/3000: 100%|██████████| 1/1 [00:00<00:00, 41.21it/s]\n",
      "Epoch 871/3000: 100%|██████████| 1/1 [00:00<00:00, 38.72it/s]\n",
      "Validation: 100%|██████████| 1/1 [00:00<00:00, 54.77it/s]\n"
     ]
    },
    {
     "name": "stdout",
     "output_type": "stream",
     "text": [
      "Epoch: 871, Train Loss: 86.3496, \n",
      "Validation Loss: 35.9447\n"
     ]
    },
    {
     "name": "stderr",
     "output_type": "stream",
     "text": [
      "Epoch 872/3000: 100%|██████████| 1/1 [00:00<00:00, 40.15it/s]\n",
      "Epoch 873/3000: 100%|██████████| 1/1 [00:00<00:00, 38.48it/s]\n",
      "Validation: 100%|██████████| 1/1 [00:00<00:00, 51.18it/s]\n"
     ]
    },
    {
     "name": "stdout",
     "output_type": "stream",
     "text": [
      "Epoch: 873, Train Loss: 70.3383, \n",
      "Validation Loss: 21.9829\n"
     ]
    },
    {
     "name": "stderr",
     "output_type": "stream",
     "text": [
      "Epoch 874/3000: 100%|██████████| 1/1 [00:00<00:00, 42.90it/s]\n",
      "Epoch 875/3000: 100%|██████████| 1/1 [00:00<00:00, 38.81it/s]\n",
      "Validation: 100%|██████████| 1/1 [00:00<00:00, 50.17it/s]\n"
     ]
    },
    {
     "name": "stdout",
     "output_type": "stream",
     "text": [
      "Epoch: 875, Train Loss: 48.1497, \n",
      "Validation Loss: 27.9180\n"
     ]
    },
    {
     "name": "stderr",
     "output_type": "stream",
     "text": [
      "Epoch 876/3000: 100%|██████████| 1/1 [00:00<00:00, 39.06it/s]\n",
      "Epoch 877/3000: 100%|██████████| 1/1 [00:00<00:00, 34.43it/s]\n",
      "Validation: 100%|██████████| 1/1 [00:00<00:00, 47.69it/s]\n"
     ]
    },
    {
     "name": "stdout",
     "output_type": "stream",
     "text": [
      "Epoch: 877, Train Loss: 129.4332, \n",
      "Validation Loss: 35.2599\n"
     ]
    },
    {
     "name": "stderr",
     "output_type": "stream",
     "text": [
      "Epoch 878/3000: 100%|██████████| 1/1 [00:00<00:00, 40.00it/s]\n",
      "Epoch 879/3000: 100%|██████████| 1/1 [00:00<00:00, 40.31it/s]\n",
      "Validation: 100%|██████████| 1/1 [00:00<00:00, 49.92it/s]\n"
     ]
    },
    {
     "name": "stdout",
     "output_type": "stream",
     "text": [
      "Epoch: 879, Train Loss: 61.7136, \n",
      "Validation Loss: 36.8577\n"
     ]
    },
    {
     "name": "stderr",
     "output_type": "stream",
     "text": [
      "Epoch 880/3000: 100%|██████████| 1/1 [00:00<00:00, 36.94it/s]\n",
      "Epoch 881/3000: 100%|██████████| 1/1 [00:00<00:00, 41.71it/s]\n",
      "Validation: 100%|██████████| 1/1 [00:00<00:00, 52.69it/s]\n"
     ]
    },
    {
     "name": "stdout",
     "output_type": "stream",
     "text": [
      "Epoch: 881, Train Loss: 122.8682, \n",
      "Validation Loss: 36.0196\n"
     ]
    },
    {
     "name": "stderr",
     "output_type": "stream",
     "text": [
      "Epoch 882/3000: 100%|██████████| 1/1 [00:00<00:00, 37.92it/s]\n",
      "Epoch 883/3000: 100%|██████████| 1/1 [00:00<00:00, 39.63it/s]\n",
      "Validation: 100%|██████████| 1/1 [00:00<00:00, 49.13it/s]\n"
     ]
    },
    {
     "name": "stdout",
     "output_type": "stream",
     "text": [
      "Epoch: 883, Train Loss: 80.9536, \n",
      "Validation Loss: 34.6312\n"
     ]
    },
    {
     "name": "stderr",
     "output_type": "stream",
     "text": [
      "Epoch 884/3000: 100%|██████████| 1/1 [00:00<00:00, 38.32it/s]\n",
      "Epoch 885/3000: 100%|██████████| 1/1 [00:00<00:00, 38.17it/s]\n",
      "Validation: 100%|██████████| 1/1 [00:00<00:00, 50.20it/s]\n"
     ]
    },
    {
     "name": "stdout",
     "output_type": "stream",
     "text": [
      "Epoch: 885, Train Loss: 75.4753, \n",
      "Validation Loss: 35.4719\n"
     ]
    },
    {
     "name": "stderr",
     "output_type": "stream",
     "text": [
      "Epoch 886/3000: 100%|██████████| 1/1 [00:00<00:00, 38.50it/s]\n",
      "Epoch 887/3000: 100%|██████████| 1/1 [00:00<00:00, 40.08it/s]\n",
      "Validation: 100%|██████████| 1/1 [00:00<00:00, 50.57it/s]\n"
     ]
    },
    {
     "name": "stdout",
     "output_type": "stream",
     "text": [
      "Epoch: 887, Train Loss: 76.7059, \n",
      "Validation Loss: 43.6589\n"
     ]
    },
    {
     "name": "stderr",
     "output_type": "stream",
     "text": [
      "Epoch 888/3000: 100%|██████████| 1/1 [00:00<00:00, 40.42it/s]\n",
      "Epoch 889/3000: 100%|██████████| 1/1 [00:00<00:00, 41.95it/s]\n",
      "Validation: 100%|██████████| 1/1 [00:00<00:00, 52.13it/s]\n"
     ]
    },
    {
     "name": "stdout",
     "output_type": "stream",
     "text": [
      "Epoch: 889, Train Loss: 72.4129, \n",
      "Validation Loss: 50.0936\n"
     ]
    },
    {
     "name": "stderr",
     "output_type": "stream",
     "text": [
      "Epoch 890/3000: 100%|██████████| 1/1 [00:00<00:00, 39.21it/s]\n",
      "Epoch 891/3000: 100%|██████████| 1/1 [00:00<00:00, 38.75it/s]\n",
      "Validation: 100%|██████████| 1/1 [00:00<00:00, 51.97it/s]\n"
     ]
    },
    {
     "name": "stdout",
     "output_type": "stream",
     "text": [
      "Epoch: 891, Train Loss: 88.9537, \n",
      "Validation Loss: 35.7648\n"
     ]
    },
    {
     "name": "stderr",
     "output_type": "stream",
     "text": [
      "Epoch 892/3000: 100%|██████████| 1/1 [00:00<00:00, 37.89it/s]\n",
      "Epoch 893/3000: 100%|██████████| 1/1 [00:00<00:00, 37.84it/s]\n",
      "Validation: 100%|██████████| 1/1 [00:00<00:00, 47.18it/s]\n"
     ]
    },
    {
     "name": "stdout",
     "output_type": "stream",
     "text": [
      "Epoch: 893, Train Loss: 65.0407, \n",
      "Validation Loss: 42.5662\n"
     ]
    },
    {
     "name": "stderr",
     "output_type": "stream",
     "text": [
      "Epoch 894/3000: 100%|██████████| 1/1 [00:00<00:00, 37.16it/s]\n",
      "Epoch 895/3000: 100%|██████████| 1/1 [00:00<00:00, 39.67it/s]\n",
      "Validation: 100%|██████████| 1/1 [00:00<00:00, 50.90it/s]\n"
     ]
    },
    {
     "name": "stdout",
     "output_type": "stream",
     "text": [
      "Epoch: 895, Train Loss: 100.2211, \n",
      "Validation Loss: 50.1533\n"
     ]
    },
    {
     "name": "stderr",
     "output_type": "stream",
     "text": [
      "Epoch 896/3000: 100%|██████████| 1/1 [00:00<00:00, 35.82it/s]\n",
      "Epoch 897/3000: 100%|██████████| 1/1 [00:00<00:00, 38.79it/s]\n",
      "Validation: 100%|██████████| 1/1 [00:00<00:00, 55.41it/s]\n"
     ]
    },
    {
     "name": "stdout",
     "output_type": "stream",
     "text": [
      "Epoch: 897, Train Loss: 73.0545, \n",
      "Validation Loss: 36.6972\n"
     ]
    },
    {
     "name": "stderr",
     "output_type": "stream",
     "text": [
      "Epoch 898/3000: 100%|██████████| 1/1 [00:00<00:00, 38.91it/s]\n",
      "Epoch 899/3000: 100%|██████████| 1/1 [00:00<00:00, 38.37it/s]\n",
      "Validation: 100%|██████████| 1/1 [00:00<00:00, 51.47it/s]\n"
     ]
    },
    {
     "name": "stdout",
     "output_type": "stream",
     "text": [
      "Epoch: 899, Train Loss: 67.2625, \n",
      "Validation Loss: 31.3941\n"
     ]
    },
    {
     "name": "stderr",
     "output_type": "stream",
     "text": [
      "Epoch 900/3000: 100%|██████████| 1/1 [00:00<00:00, 40.26it/s]\n",
      "Epoch 901/3000: 100%|██████████| 1/1 [00:00<00:00, 33.68it/s]\n",
      "Validation: 100%|██████████| 1/1 [00:00<00:00, 47.16it/s]\n"
     ]
    },
    {
     "name": "stdout",
     "output_type": "stream",
     "text": [
      "Epoch: 901, Train Loss: 103.6275, \n",
      "Validation Loss: 36.5350\n"
     ]
    },
    {
     "name": "stderr",
     "output_type": "stream",
     "text": [
      "Epoch 902/3000: 100%|██████████| 1/1 [00:00<00:00, 34.11it/s]\n",
      "Epoch 903/3000: 100%|██████████| 1/1 [00:00<00:00, 42.47it/s]\n",
      "Validation: 100%|██████████| 1/1 [00:00<00:00, 50.79it/s]\n"
     ]
    },
    {
     "name": "stdout",
     "output_type": "stream",
     "text": [
      "Epoch: 903, Train Loss: 57.7327, \n",
      "Validation Loss: 26.7088\n"
     ]
    },
    {
     "name": "stderr",
     "output_type": "stream",
     "text": [
      "Epoch 904/3000: 100%|██████████| 1/1 [00:00<00:00, 37.13it/s]\n",
      "Epoch 905/3000: 100%|██████████| 1/1 [00:00<00:00, 40.83it/s]\n",
      "Validation: 100%|██████████| 1/1 [00:00<00:00, 55.73it/s]\n"
     ]
    },
    {
     "name": "stdout",
     "output_type": "stream",
     "text": [
      "Epoch: 905, Train Loss: 100.8760, \n",
      "Validation Loss: 27.7828\n"
     ]
    },
    {
     "name": "stderr",
     "output_type": "stream",
     "text": [
      "Epoch 906/3000: 100%|██████████| 1/1 [00:00<00:00, 39.59it/s]\n",
      "Epoch 907/3000: 100%|██████████| 1/1 [00:00<00:00, 41.34it/s]\n",
      "Validation: 100%|██████████| 1/1 [00:00<00:00, 50.19it/s]\n"
     ]
    },
    {
     "name": "stdout",
     "output_type": "stream",
     "text": [
      "Epoch: 907, Train Loss: 101.3649, \n",
      "Validation Loss: 33.6132\n"
     ]
    },
    {
     "name": "stderr",
     "output_type": "stream",
     "text": [
      "Epoch 908/3000: 100%|██████████| 1/1 [00:00<00:00, 39.42it/s]\n",
      "Epoch 909/3000: 100%|██████████| 1/1 [00:00<00:00, 36.66it/s]\n",
      "Validation: 100%|██████████| 1/1 [00:00<00:00, 51.40it/s]\n"
     ]
    },
    {
     "name": "stdout",
     "output_type": "stream",
     "text": [
      "Epoch: 909, Train Loss: 83.8739, \n",
      "Validation Loss: 30.4496\n"
     ]
    },
    {
     "name": "stderr",
     "output_type": "stream",
     "text": [
      "Epoch 910/3000: 100%|██████████| 1/1 [00:00<00:00, 38.85it/s]\n",
      "Epoch 911/3000: 100%|██████████| 1/1 [00:00<00:00, 42.73it/s]\n",
      "Validation: 100%|██████████| 1/1 [00:00<00:00, 49.76it/s]\n"
     ]
    },
    {
     "name": "stdout",
     "output_type": "stream",
     "text": [
      "Epoch: 911, Train Loss: 87.3270, \n",
      "Validation Loss: 23.5792\n"
     ]
    },
    {
     "name": "stderr",
     "output_type": "stream",
     "text": [
      "Epoch 912/3000: 100%|██████████| 1/1 [00:00<00:00, 40.40it/s]\n",
      "Epoch 913/3000: 100%|██████████| 1/1 [00:00<00:00, 40.94it/s]\n",
      "Validation: 100%|██████████| 1/1 [00:00<00:00, 55.46it/s]\n"
     ]
    },
    {
     "name": "stdout",
     "output_type": "stream",
     "text": [
      "Epoch: 913, Train Loss: 52.7205, \n",
      "Validation Loss: 28.7473\n"
     ]
    },
    {
     "name": "stderr",
     "output_type": "stream",
     "text": [
      "Epoch 914/3000: 100%|██████████| 1/1 [00:00<00:00, 38.69it/s]\n",
      "Epoch 915/3000: 100%|██████████| 1/1 [00:00<00:00, 41.18it/s]\n",
      "Validation: 100%|██████████| 1/1 [00:00<00:00, 51.72it/s]\n"
     ]
    },
    {
     "name": "stdout",
     "output_type": "stream",
     "text": [
      "Epoch: 915, Train Loss: 90.4396, \n",
      "Validation Loss: 27.1528\n"
     ]
    },
    {
     "name": "stderr",
     "output_type": "stream",
     "text": [
      "Epoch 916/3000: 100%|██████████| 1/1 [00:00<00:00, 42.42it/s]\n",
      "Epoch 917/3000: 100%|██████████| 1/1 [00:00<00:00, 39.48it/s]\n",
      "Validation: 100%|██████████| 1/1 [00:00<00:00, 52.67it/s]\n"
     ]
    },
    {
     "name": "stdout",
     "output_type": "stream",
     "text": [
      "Epoch: 917, Train Loss: 48.5966, \n",
      "Validation Loss: 20.4275\n"
     ]
    },
    {
     "name": "stderr",
     "output_type": "stream",
     "text": [
      "Epoch 918/3000: 100%|██████████| 1/1 [00:00<00:00, 37.98it/s]\n",
      "Epoch 919/3000: 100%|██████████| 1/1 [00:00<00:00, 43.75it/s]\n",
      "Validation: 100%|██████████| 1/1 [00:00<00:00, 53.85it/s]\n"
     ]
    },
    {
     "name": "stdout",
     "output_type": "stream",
     "text": [
      "Epoch: 919, Train Loss: 91.4986, \n",
      "Validation Loss: 23.8478\n"
     ]
    },
    {
     "name": "stderr",
     "output_type": "stream",
     "text": [
      "Epoch 920/3000: 100%|██████████| 1/1 [00:00<00:00, 35.38it/s]\n",
      "Epoch 921/3000: 100%|██████████| 1/1 [00:00<00:00, 39.51it/s]\n",
      "Validation: 100%|██████████| 1/1 [00:00<00:00, 51.95it/s]\n"
     ]
    },
    {
     "name": "stdout",
     "output_type": "stream",
     "text": [
      "Epoch: 921, Train Loss: 78.2497, \n",
      "Validation Loss: 32.3746\n"
     ]
    },
    {
     "name": "stderr",
     "output_type": "stream",
     "text": [
      "Epoch 922/3000: 100%|██████████| 1/1 [00:00<00:00, 31.21it/s]\n",
      "Epoch 923/3000: 100%|██████████| 1/1 [00:00<00:00, 35.43it/s]\n",
      "Validation: 100%|██████████| 1/1 [00:00<00:00, 49.47it/s]\n"
     ]
    },
    {
     "name": "stdout",
     "output_type": "stream",
     "text": [
      "Epoch: 923, Train Loss: 94.2932, \n",
      "Validation Loss: 50.6445\n"
     ]
    },
    {
     "name": "stderr",
     "output_type": "stream",
     "text": [
      "Epoch 924/3000: 100%|██████████| 1/1 [00:00<00:00, 39.50it/s]\n",
      "Epoch 925/3000: 100%|██████████| 1/1 [00:00<00:00, 41.27it/s]\n",
      "Validation: 100%|██████████| 1/1 [00:00<00:00, 52.42it/s]\n"
     ]
    },
    {
     "name": "stdout",
     "output_type": "stream",
     "text": [
      "Epoch: 925, Train Loss: 89.7900, \n",
      "Validation Loss: 40.8670\n"
     ]
    },
    {
     "name": "stderr",
     "output_type": "stream",
     "text": [
      "Epoch 926/3000: 100%|██████████| 1/1 [00:00<00:00, 40.79it/s]\n",
      "Epoch 927/3000: 100%|██████████| 1/1 [00:00<00:00, 34.77it/s]\n",
      "Validation: 100%|██████████| 1/1 [00:00<00:00, 50.49it/s]\n"
     ]
    },
    {
     "name": "stdout",
     "output_type": "stream",
     "text": [
      "Epoch: 927, Train Loss: 74.4433, \n",
      "Validation Loss: 28.3771\n"
     ]
    },
    {
     "name": "stderr",
     "output_type": "stream",
     "text": [
      "Epoch 928/3000: 100%|██████████| 1/1 [00:00<00:00, 37.79it/s]\n",
      "Epoch 929/3000: 100%|██████████| 1/1 [00:00<00:00, 41.02it/s]\n",
      "Validation: 100%|██████████| 1/1 [00:00<00:00, 46.67it/s]\n"
     ]
    },
    {
     "name": "stdout",
     "output_type": "stream",
     "text": [
      "Epoch: 929, Train Loss: 71.6295, \n",
      "Validation Loss: 38.5121\n"
     ]
    },
    {
     "name": "stderr",
     "output_type": "stream",
     "text": [
      "Epoch 930/3000: 100%|██████████| 1/1 [00:00<00:00, 37.97it/s]\n",
      "Epoch 931/3000: 100%|██████████| 1/1 [00:00<00:00, 41.96it/s]\n",
      "Validation: 100%|██████████| 1/1 [00:00<00:00, 54.17it/s]\n"
     ]
    },
    {
     "name": "stdout",
     "output_type": "stream",
     "text": [
      "Epoch: 931, Train Loss: 70.7011, \n",
      "Validation Loss: 40.1108\n"
     ]
    },
    {
     "name": "stderr",
     "output_type": "stream",
     "text": [
      "Epoch 932/3000: 100%|██████████| 1/1 [00:00<00:00, 38.74it/s]\n",
      "Epoch 933/3000: 100%|██████████| 1/1 [00:00<00:00, 39.18it/s]\n",
      "Validation: 100%|██████████| 1/1 [00:00<00:00, 48.18it/s]\n"
     ]
    },
    {
     "name": "stdout",
     "output_type": "stream",
     "text": [
      "Epoch: 933, Train Loss: 50.9647, \n",
      "Validation Loss: 29.6521\n"
     ]
    },
    {
     "name": "stderr",
     "output_type": "stream",
     "text": [
      "Epoch 934/3000: 100%|██████████| 1/1 [00:00<00:00, 34.64it/s]\n",
      "Epoch 935/3000: 100%|██████████| 1/1 [00:00<00:00, 38.59it/s]\n",
      "Validation: 100%|██████████| 1/1 [00:00<00:00, 46.93it/s]\n"
     ]
    },
    {
     "name": "stdout",
     "output_type": "stream",
     "text": [
      "Epoch: 935, Train Loss: 61.9191, \n",
      "Validation Loss: 32.6079\n"
     ]
    },
    {
     "name": "stderr",
     "output_type": "stream",
     "text": [
      "Epoch 936/3000: 100%|██████████| 1/1 [00:00<00:00, 43.64it/s]\n",
      "Epoch 937/3000: 100%|██████████| 1/1 [00:00<00:00, 39.43it/s]\n",
      "Validation: 100%|██████████| 1/1 [00:00<00:00, 50.35it/s]\n"
     ]
    },
    {
     "name": "stdout",
     "output_type": "stream",
     "text": [
      "Epoch: 937, Train Loss: 95.0497, \n",
      "Validation Loss: 39.8784\n"
     ]
    },
    {
     "name": "stderr",
     "output_type": "stream",
     "text": [
      "Epoch 938/3000: 100%|██████████| 1/1 [00:00<00:00, 41.37it/s]\n",
      "Epoch 939/3000: 100%|██████████| 1/1 [00:00<00:00, 42.95it/s]\n",
      "Validation: 100%|██████████| 1/1 [00:00<00:00, 53.94it/s]\n"
     ]
    },
    {
     "name": "stdout",
     "output_type": "stream",
     "text": [
      "Epoch: 939, Train Loss: 83.2404, \n",
      "Validation Loss: 36.0801\n"
     ]
    },
    {
     "name": "stderr",
     "output_type": "stream",
     "text": [
      "Epoch 940/3000: 100%|██████████| 1/1 [00:00<00:00, 39.35it/s]\n",
      "Epoch 941/3000: 100%|██████████| 1/1 [00:00<00:00, 40.33it/s]\n",
      "Validation: 100%|██████████| 1/1 [00:00<00:00, 48.64it/s]\n"
     ]
    },
    {
     "name": "stdout",
     "output_type": "stream",
     "text": [
      "Epoch: 941, Train Loss: 87.3564, \n",
      "Validation Loss: 27.5323\n"
     ]
    },
    {
     "name": "stderr",
     "output_type": "stream",
     "text": [
      "Epoch 942/3000: 100%|██████████| 1/1 [00:00<00:00, 36.48it/s]\n",
      "Epoch 943/3000: 100%|██████████| 1/1 [00:00<00:00, 40.15it/s]\n",
      "Validation: 100%|██████████| 1/1 [00:00<00:00, 52.30it/s]\n"
     ]
    },
    {
     "name": "stdout",
     "output_type": "stream",
     "text": [
      "Epoch: 943, Train Loss: 41.2809, \n",
      "Validation Loss: 24.6750\n"
     ]
    },
    {
     "name": "stderr",
     "output_type": "stream",
     "text": [
      "Epoch 944/3000: 100%|██████████| 1/1 [00:00<00:00, 38.06it/s]\n",
      "Epoch 945/3000: 100%|██████████| 1/1 [00:00<00:00, 39.51it/s]\n",
      "Validation: 100%|██████████| 1/1 [00:00<00:00, 51.38it/s]\n"
     ]
    },
    {
     "name": "stdout",
     "output_type": "stream",
     "text": [
      "Epoch: 945, Train Loss: 78.1017, \n",
      "Validation Loss: 32.2023\n"
     ]
    },
    {
     "name": "stderr",
     "output_type": "stream",
     "text": [
      "Epoch 946/3000: 100%|██████████| 1/1 [00:00<00:00, 34.76it/s]\n",
      "Epoch 947/3000: 100%|██████████| 1/1 [00:00<00:00, 42.16it/s]\n",
      "Validation: 100%|██████████| 1/1 [00:00<00:00, 41.38it/s]\n"
     ]
    },
    {
     "name": "stdout",
     "output_type": "stream",
     "text": [
      "Epoch: 947, Train Loss: 64.6209, \n",
      "Validation Loss: 27.6529\n"
     ]
    },
    {
     "name": "stderr",
     "output_type": "stream",
     "text": [
      "Epoch 948/3000: 100%|██████████| 1/1 [00:00<00:00, 39.91it/s]\n",
      "Epoch 949/3000: 100%|██████████| 1/1 [00:00<00:00, 37.21it/s]\n",
      "Validation: 100%|██████████| 1/1 [00:00<00:00, 55.64it/s]\n"
     ]
    },
    {
     "name": "stdout",
     "output_type": "stream",
     "text": [
      "Epoch: 949, Train Loss: 35.1929, \n",
      "Validation Loss: 23.5059\n"
     ]
    },
    {
     "name": "stderr",
     "output_type": "stream",
     "text": [
      "Epoch 950/3000: 100%|██████████| 1/1 [00:00<00:00, 37.00it/s]\n",
      "Epoch 951/3000: 100%|██████████| 1/1 [00:00<00:00, 39.89it/s]\n",
      "Validation: 100%|██████████| 1/1 [00:00<00:00, 55.70it/s]\n"
     ]
    },
    {
     "name": "stdout",
     "output_type": "stream",
     "text": [
      "Epoch: 951, Train Loss: 89.2205, \n",
      "Validation Loss: 26.9361\n"
     ]
    },
    {
     "name": "stderr",
     "output_type": "stream",
     "text": [
      "Epoch 952/3000: 100%|██████████| 1/1 [00:00<00:00, 34.86it/s]\n",
      "Epoch 953/3000: 100%|██████████| 1/1 [00:00<00:00, 37.75it/s]\n",
      "Validation: 100%|██████████| 1/1 [00:00<00:00, 50.19it/s]\n"
     ]
    },
    {
     "name": "stdout",
     "output_type": "stream",
     "text": [
      "Epoch: 953, Train Loss: 66.6565, \n",
      "Validation Loss: 30.3425\n"
     ]
    },
    {
     "name": "stderr",
     "output_type": "stream",
     "text": [
      "Epoch 954/3000: 100%|██████████| 1/1 [00:00<00:00, 42.18it/s]\n",
      "Epoch 955/3000: 100%|██████████| 1/1 [00:00<00:00, 38.04it/s]\n",
      "Validation: 100%|██████████| 1/1 [00:00<00:00, 42.16it/s]\n"
     ]
    },
    {
     "name": "stdout",
     "output_type": "stream",
     "text": [
      "Epoch: 955, Train Loss: 83.5095, \n",
      "Validation Loss: 30.9840\n"
     ]
    },
    {
     "name": "stderr",
     "output_type": "stream",
     "text": [
      "Epoch 956/3000: 100%|██████████| 1/1 [00:00<00:00, 32.94it/s]\n",
      "Epoch 957/3000: 100%|██████████| 1/1 [00:00<00:00, 37.79it/s]\n",
      "Validation: 100%|██████████| 1/1 [00:00<00:00, 46.12it/s]\n"
     ]
    },
    {
     "name": "stdout",
     "output_type": "stream",
     "text": [
      "Epoch: 957, Train Loss: 80.2642, \n",
      "Validation Loss: 34.2899\n"
     ]
    },
    {
     "name": "stderr",
     "output_type": "stream",
     "text": [
      "Epoch 958/3000: 100%|██████████| 1/1 [00:00<00:00, 34.52it/s]\n",
      "Epoch 959/3000: 100%|██████████| 1/1 [00:00<00:00, 43.39it/s]\n",
      "Validation: 100%|██████████| 1/1 [00:00<00:00, 48.85it/s]\n"
     ]
    },
    {
     "name": "stdout",
     "output_type": "stream",
     "text": [
      "Epoch: 959, Train Loss: 76.3465, \n",
      "Validation Loss: 31.2194\n"
     ]
    },
    {
     "name": "stderr",
     "output_type": "stream",
     "text": [
      "Epoch 960/3000: 100%|██████████| 1/1 [00:00<00:00, 39.68it/s]\n",
      "Epoch 961/3000: 100%|██████████| 1/1 [00:00<00:00, 39.23it/s]\n",
      "Validation: 100%|██████████| 1/1 [00:00<00:00, 55.45it/s]\n"
     ]
    },
    {
     "name": "stdout",
     "output_type": "stream",
     "text": [
      "Epoch: 961, Train Loss: 74.6100, \n",
      "Validation Loss: 30.2117\n"
     ]
    },
    {
     "name": "stderr",
     "output_type": "stream",
     "text": [
      "Epoch 962/3000: 100%|██████████| 1/1 [00:00<00:00, 39.74it/s]\n",
      "Epoch 963/3000: 100%|██████████| 1/1 [00:00<00:00, 40.12it/s]\n",
      "Validation: 100%|██████████| 1/1 [00:00<00:00, 50.38it/s]\n"
     ]
    },
    {
     "name": "stdout",
     "output_type": "stream",
     "text": [
      "Epoch: 963, Train Loss: 69.2244, \n",
      "Validation Loss: 47.5432\n"
     ]
    },
    {
     "name": "stderr",
     "output_type": "stream",
     "text": [
      "Epoch 964/3000: 100%|██████████| 1/1 [00:00<00:00, 38.25it/s]\n",
      "Epoch 965/3000: 100%|██████████| 1/1 [00:00<00:00, 38.17it/s]\n",
      "Validation: 100%|██████████| 1/1 [00:00<00:00, 50.13it/s]\n"
     ]
    },
    {
     "name": "stdout",
     "output_type": "stream",
     "text": [
      "Epoch: 965, Train Loss: 134.2781, \n",
      "Validation Loss: 41.8695\n"
     ]
    },
    {
     "name": "stderr",
     "output_type": "stream",
     "text": [
      "Epoch 966/3000: 100%|██████████| 1/1 [00:00<00:00, 38.32it/s]\n",
      "Epoch 967/3000: 100%|██████████| 1/1 [00:00<00:00, 41.35it/s]\n",
      "Validation: 100%|██████████| 1/1 [00:00<00:00, 48.22it/s]\n"
     ]
    },
    {
     "name": "stdout",
     "output_type": "stream",
     "text": [
      "Epoch: 967, Train Loss: 58.1896, \n",
      "Validation Loss: 35.1913\n"
     ]
    },
    {
     "name": "stderr",
     "output_type": "stream",
     "text": [
      "Epoch 968/3000: 100%|██████████| 1/1 [00:00<00:00, 38.32it/s]\n",
      "Epoch 969/3000: 100%|██████████| 1/1 [00:00<00:00, 39.31it/s]\n",
      "Validation: 100%|██████████| 1/1 [00:00<00:00, 55.44it/s]\n"
     ]
    },
    {
     "name": "stdout",
     "output_type": "stream",
     "text": [
      "Epoch: 969, Train Loss: 67.2003, \n",
      "Validation Loss: 29.5810\n"
     ]
    },
    {
     "name": "stderr",
     "output_type": "stream",
     "text": [
      "Epoch 970/3000: 100%|██████████| 1/1 [00:00<00:00, 38.41it/s]\n",
      "Epoch 971/3000: 100%|██████████| 1/1 [00:00<00:00, 36.55it/s]\n",
      "Validation: 100%|██████████| 1/1 [00:00<00:00, 42.11it/s]\n"
     ]
    },
    {
     "name": "stdout",
     "output_type": "stream",
     "text": [
      "Epoch: 971, Train Loss: 50.2977, \n",
      "Validation Loss: 21.6669\n"
     ]
    },
    {
     "name": "stderr",
     "output_type": "stream",
     "text": [
      "Epoch 972/3000: 100%|██████████| 1/1 [00:00<00:00, 39.83it/s]\n",
      "Epoch 973/3000: 100%|██████████| 1/1 [00:00<00:00, 39.44it/s]\n",
      "Validation: 100%|██████████| 1/1 [00:00<00:00, 50.69it/s]\n"
     ]
    },
    {
     "name": "stdout",
     "output_type": "stream",
     "text": [
      "Epoch: 973, Train Loss: 39.9020, \n",
      "Validation Loss: 24.0528\n"
     ]
    },
    {
     "name": "stderr",
     "output_type": "stream",
     "text": [
      "Epoch 974/3000: 100%|██████████| 1/1 [00:00<00:00, 36.24it/s]\n",
      "Epoch 975/3000: 100%|██████████| 1/1 [00:00<00:00, 41.51it/s]\n",
      "Validation: 100%|██████████| 1/1 [00:00<00:00, 49.81it/s]\n"
     ]
    },
    {
     "name": "stdout",
     "output_type": "stream",
     "text": [
      "Epoch: 975, Train Loss: 81.6615, \n",
      "Validation Loss: 25.4902\n"
     ]
    },
    {
     "name": "stderr",
     "output_type": "stream",
     "text": [
      "Epoch 976/3000: 100%|██████████| 1/1 [00:00<00:00, 37.29it/s]\n",
      "Epoch 977/3000: 100%|██████████| 1/1 [00:00<00:00, 41.13it/s]\n",
      "Validation: 100%|██████████| 1/1 [00:00<00:00, 55.72it/s]\n"
     ]
    },
    {
     "name": "stdout",
     "output_type": "stream",
     "text": [
      "Epoch: 977, Train Loss: 75.5905, \n",
      "Validation Loss: 28.2672\n"
     ]
    },
    {
     "name": "stderr",
     "output_type": "stream",
     "text": [
      "Epoch 978/3000: 100%|██████████| 1/1 [00:00<00:00, 34.74it/s]\n",
      "Epoch 979/3000: 100%|██████████| 1/1 [00:00<00:00, 38.62it/s]\n",
      "Validation: 100%|██████████| 1/1 [00:00<00:00, 51.01it/s]\n"
     ]
    },
    {
     "name": "stdout",
     "output_type": "stream",
     "text": [
      "Epoch: 979, Train Loss: 114.0384, \n",
      "Validation Loss: 28.3542\n"
     ]
    },
    {
     "name": "stderr",
     "output_type": "stream",
     "text": [
      "Epoch 980/3000: 100%|██████████| 1/1 [00:00<00:00, 40.51it/s]\n",
      "Epoch 981/3000: 100%|██████████| 1/1 [00:00<00:00, 38.89it/s]\n",
      "Validation: 100%|██████████| 1/1 [00:00<00:00, 49.84it/s]\n"
     ]
    },
    {
     "name": "stdout",
     "output_type": "stream",
     "text": [
      "Epoch: 981, Train Loss: 84.9249, \n",
      "Validation Loss: 30.7804\n"
     ]
    },
    {
     "name": "stderr",
     "output_type": "stream",
     "text": [
      "Epoch 982/3000: 100%|██████████| 1/1 [00:00<00:00, 36.30it/s]\n",
      "Epoch 983/3000: 100%|██████████| 1/1 [00:00<00:00, 42.40it/s]\n",
      "Validation: 100%|██████████| 1/1 [00:00<00:00, 46.78it/s]\n"
     ]
    },
    {
     "name": "stdout",
     "output_type": "stream",
     "text": [
      "Epoch: 983, Train Loss: 100.8823, \n",
      "Validation Loss: 32.6466\n"
     ]
    },
    {
     "name": "stderr",
     "output_type": "stream",
     "text": [
      "Epoch 984/3000: 100%|██████████| 1/1 [00:00<00:00, 37.48it/s]\n",
      "Epoch 985/3000: 100%|██████████| 1/1 [00:00<00:00, 40.73it/s]\n",
      "Validation: 100%|██████████| 1/1 [00:00<00:00, 50.59it/s]\n"
     ]
    },
    {
     "name": "stdout",
     "output_type": "stream",
     "text": [
      "Epoch: 985, Train Loss: 49.3860, \n",
      "Validation Loss: 27.8952\n"
     ]
    },
    {
     "name": "stderr",
     "output_type": "stream",
     "text": [
      "Epoch 986/3000: 100%|██████████| 1/1 [00:00<00:00, 41.11it/s]\n",
      "Epoch 987/3000: 100%|██████████| 1/1 [00:00<00:00, 39.96it/s]\n",
      "Validation: 100%|██████████| 1/1 [00:00<00:00, 50.15it/s]\n"
     ]
    },
    {
     "name": "stdout",
     "output_type": "stream",
     "text": [
      "Epoch: 987, Train Loss: 48.3516, \n",
      "Validation Loss: 26.9127\n"
     ]
    },
    {
     "name": "stderr",
     "output_type": "stream",
     "text": [
      "Epoch 988/3000: 100%|██████████| 1/1 [00:00<00:00, 42.56it/s]\n",
      "Epoch 989/3000: 100%|██████████| 1/1 [00:00<00:00, 37.48it/s]\n",
      "Validation: 100%|██████████| 1/1 [00:00<00:00, 51.31it/s]\n"
     ]
    },
    {
     "name": "stdout",
     "output_type": "stream",
     "text": [
      "Epoch: 989, Train Loss: 54.0802, \n",
      "Validation Loss: 27.2663\n"
     ]
    },
    {
     "name": "stderr",
     "output_type": "stream",
     "text": [
      "Epoch 990/3000: 100%|██████████| 1/1 [00:00<00:00, 39.65it/s]\n",
      "Epoch 991/3000: 100%|██████████| 1/1 [00:00<00:00, 43.65it/s]\n",
      "Validation: 100%|██████████| 1/1 [00:00<00:00, 50.24it/s]\n"
     ]
    },
    {
     "name": "stdout",
     "output_type": "stream",
     "text": [
      "Epoch: 991, Train Loss: 58.2152, \n",
      "Validation Loss: 21.2331\n"
     ]
    },
    {
     "name": "stderr",
     "output_type": "stream",
     "text": [
      "Epoch 992/3000: 100%|██████████| 1/1 [00:00<00:00, 37.29it/s]\n",
      "Epoch 993/3000: 100%|██████████| 1/1 [00:00<00:00, 35.87it/s]\n",
      "Validation: 100%|██████████| 1/1 [00:00<00:00, 44.97it/s]\n"
     ]
    },
    {
     "name": "stdout",
     "output_type": "stream",
     "text": [
      "Epoch: 993, Train Loss: 55.7916, \n",
      "Validation Loss: 23.9301\n"
     ]
    },
    {
     "name": "stderr",
     "output_type": "stream",
     "text": [
      "Epoch 994/3000: 100%|██████████| 1/1 [00:00<00:00, 38.73it/s]\n",
      "Epoch 995/3000: 100%|██████████| 1/1 [00:00<00:00, 40.80it/s]\n",
      "Validation: 100%|██████████| 1/1 [00:00<00:00, 49.11it/s]\n"
     ]
    },
    {
     "name": "stdout",
     "output_type": "stream",
     "text": [
      "Epoch: 995, Train Loss: 74.2713, \n",
      "Validation Loss: 29.2273\n"
     ]
    },
    {
     "name": "stderr",
     "output_type": "stream",
     "text": [
      "Epoch 996/3000: 100%|██████████| 1/1 [00:00<00:00, 39.03it/s]\n",
      "Epoch 997/3000: 100%|██████████| 1/1 [00:00<00:00, 36.57it/s]\n",
      "Validation: 100%|██████████| 1/1 [00:00<00:00, 51.23it/s]\n"
     ]
    },
    {
     "name": "stdout",
     "output_type": "stream",
     "text": [
      "Epoch: 997, Train Loss: 65.6650, \n",
      "Validation Loss: 34.3314\n"
     ]
    },
    {
     "name": "stderr",
     "output_type": "stream",
     "text": [
      "Epoch 998/3000: 100%|██████████| 1/1 [00:00<00:00, 42.87it/s]\n",
      "Epoch 999/3000: 100%|██████████| 1/1 [00:00<00:00, 39.33it/s]\n",
      "Validation: 100%|██████████| 1/1 [00:00<00:00, 47.76it/s]\n"
     ]
    },
    {
     "name": "stdout",
     "output_type": "stream",
     "text": [
      "Epoch: 999, Train Loss: 97.9609, \n",
      "Validation Loss: 30.9899\n"
     ]
    },
    {
     "name": "stderr",
     "output_type": "stream",
     "text": [
      "Epoch 1000/3000: 100%|██████████| 1/1 [00:00<00:00, 37.82it/s]\n",
      "Epoch 1001/3000: 100%|██████████| 1/1 [00:00<00:00, 38.31it/s]\n",
      "Validation: 100%|██████████| 1/1 [00:00<00:00, 48.86it/s]\n"
     ]
    },
    {
     "name": "stdout",
     "output_type": "stream",
     "text": [
      "Epoch: 1001, Train Loss: 80.8250, \n",
      "Validation Loss: 26.6793\n"
     ]
    },
    {
     "name": "stderr",
     "output_type": "stream",
     "text": [
      "Epoch 1002/3000: 100%|██████████| 1/1 [00:00<00:00, 38.06it/s]\n",
      "Epoch 1003/3000: 100%|██████████| 1/1 [00:00<00:00, 41.18it/s]\n",
      "Validation: 100%|██████████| 1/1 [00:00<00:00, 51.08it/s]\n"
     ]
    },
    {
     "name": "stdout",
     "output_type": "stream",
     "text": [
      "Epoch: 1003, Train Loss: 88.1689, \n",
      "Validation Loss: 26.9841\n"
     ]
    },
    {
     "name": "stderr",
     "output_type": "stream",
     "text": [
      "Epoch 1004/3000: 100%|██████████| 1/1 [00:00<00:00, 39.97it/s]\n",
      "Epoch 1005/3000: 100%|██████████| 1/1 [00:00<00:00, 40.07it/s]\n",
      "Validation: 100%|██████████| 1/1 [00:00<00:00, 50.62it/s]\n"
     ]
    },
    {
     "name": "stdout",
     "output_type": "stream",
     "text": [
      "Epoch: 1005, Train Loss: 71.3128, \n",
      "Validation Loss: 25.9514\n"
     ]
    },
    {
     "name": "stderr",
     "output_type": "stream",
     "text": [
      "Epoch 1006/3000: 100%|██████████| 1/1 [00:00<00:00, 40.39it/s]\n",
      "Epoch 1007/3000: 100%|██████████| 1/1 [00:00<00:00, 39.96it/s]\n",
      "Validation: 100%|██████████| 1/1 [00:00<00:00, 50.20it/s]\n"
     ]
    },
    {
     "name": "stdout",
     "output_type": "stream",
     "text": [
      "Epoch: 1007, Train Loss: 87.6955, \n",
      "Validation Loss: 26.3072\n"
     ]
    },
    {
     "name": "stderr",
     "output_type": "stream",
     "text": [
      "Epoch 1008/3000: 100%|██████████| 1/1 [00:00<00:00, 39.58it/s]\n",
      "Epoch 1009/3000: 100%|██████████| 1/1 [00:00<00:00, 40.06it/s]\n",
      "Validation: 100%|██████████| 1/1 [00:00<00:00, 49.76it/s]\n"
     ]
    },
    {
     "name": "stdout",
     "output_type": "stream",
     "text": [
      "Epoch: 1009, Train Loss: 48.3336, \n",
      "Validation Loss: 27.4755\n"
     ]
    },
    {
     "name": "stderr",
     "output_type": "stream",
     "text": [
      "Epoch 1010/3000: 100%|██████████| 1/1 [00:00<00:00, 36.09it/s]\n",
      "Epoch 1011/3000: 100%|██████████| 1/1 [00:00<00:00, 39.13it/s]\n",
      "Validation: 100%|██████████| 1/1 [00:00<00:00, 51.42it/s]\n"
     ]
    },
    {
     "name": "stdout",
     "output_type": "stream",
     "text": [
      "Epoch: 1011, Train Loss: 46.5948, \n",
      "Validation Loss: 27.9705\n"
     ]
    },
    {
     "name": "stderr",
     "output_type": "stream",
     "text": [
      "Epoch 1012/3000: 100%|██████████| 1/1 [00:00<00:00, 35.71it/s]\n",
      "Epoch 1013/3000: 100%|██████████| 1/1 [00:00<00:00, 42.15it/s]\n",
      "Validation: 100%|██████████| 1/1 [00:00<00:00, 53.13it/s]\n"
     ]
    },
    {
     "name": "stdout",
     "output_type": "stream",
     "text": [
      "Epoch: 1013, Train Loss: 35.8525, \n",
      "Validation Loss: 28.6290\n"
     ]
    },
    {
     "name": "stderr",
     "output_type": "stream",
     "text": [
      "Epoch 1014/3000: 100%|██████████| 1/1 [00:00<00:00, 37.75it/s]\n",
      "Epoch 1015/3000: 100%|██████████| 1/1 [00:00<00:00, 31.87it/s]\n",
      "Validation: 100%|██████████| 1/1 [00:00<00:00, 51.65it/s]\n"
     ]
    },
    {
     "name": "stdout",
     "output_type": "stream",
     "text": [
      "Epoch: 1015, Train Loss: 73.1906, \n",
      "Validation Loss: 29.8601\n"
     ]
    },
    {
     "name": "stderr",
     "output_type": "stream",
     "text": [
      "Epoch 1016/3000: 100%|██████████| 1/1 [00:00<00:00, 36.04it/s]\n",
      "Epoch 1017/3000: 100%|██████████| 1/1 [00:00<00:00, 35.21it/s]\n",
      "Validation: 100%|██████████| 1/1 [00:00<00:00, 52.24it/s]\n"
     ]
    },
    {
     "name": "stdout",
     "output_type": "stream",
     "text": [
      "Epoch: 1017, Train Loss: 72.1976, \n",
      "Validation Loss: 30.9958\n"
     ]
    },
    {
     "name": "stderr",
     "output_type": "stream",
     "text": [
      "Epoch 1018/3000: 100%|██████████| 1/1 [00:00<00:00, 37.22it/s]\n",
      "Epoch 1019/3000: 100%|██████████| 1/1 [00:00<00:00, 39.59it/s]\n",
      "Validation: 100%|██████████| 1/1 [00:00<00:00, 51.56it/s]\n"
     ]
    },
    {
     "name": "stdout",
     "output_type": "stream",
     "text": [
      "Epoch: 1019, Train Loss: 70.6466, \n",
      "Validation Loss: 28.9385\n"
     ]
    },
    {
     "name": "stderr",
     "output_type": "stream",
     "text": [
      "Epoch 1020/3000: 100%|██████████| 1/1 [00:00<00:00, 38.86it/s]\n",
      "Epoch 1021/3000: 100%|██████████| 1/1 [00:00<00:00, 38.97it/s]\n",
      "Validation: 100%|██████████| 1/1 [00:00<00:00, 55.70it/s]\n"
     ]
    },
    {
     "name": "stdout",
     "output_type": "stream",
     "text": [
      "Epoch: 1021, Train Loss: 56.6691, \n",
      "Validation Loss: 32.6465\n"
     ]
    },
    {
     "name": "stderr",
     "output_type": "stream",
     "text": [
      "Epoch 1022/3000: 100%|██████████| 1/1 [00:00<00:00, 37.00it/s]\n",
      "Epoch 1023/3000: 100%|██████████| 1/1 [00:00<00:00, 39.21it/s]\n",
      "Validation: 100%|██████████| 1/1 [00:00<00:00, 49.85it/s]\n"
     ]
    },
    {
     "name": "stdout",
     "output_type": "stream",
     "text": [
      "Epoch: 1023, Train Loss: 67.9131, \n",
      "Validation Loss: 31.8108\n"
     ]
    },
    {
     "name": "stderr",
     "output_type": "stream",
     "text": [
      "Epoch 1024/3000: 100%|██████████| 1/1 [00:00<00:00, 37.60it/s]\n",
      "Epoch 1025/3000: 100%|██████████| 1/1 [00:00<00:00, 38.21it/s]\n",
      "Validation: 100%|██████████| 1/1 [00:00<00:00, 51.97it/s]\n"
     ]
    },
    {
     "name": "stdout",
     "output_type": "stream",
     "text": [
      "Epoch: 1025, Train Loss: 61.0511, \n",
      "Validation Loss: 29.7076\n"
     ]
    },
    {
     "name": "stderr",
     "output_type": "stream",
     "text": [
      "Epoch 1026/3000: 100%|██████████| 1/1 [00:00<00:00, 38.06it/s]\n",
      "Epoch 1027/3000: 100%|██████████| 1/1 [00:00<00:00, 41.98it/s]\n",
      "Validation: 100%|██████████| 1/1 [00:00<00:00, 49.76it/s]\n"
     ]
    },
    {
     "name": "stdout",
     "output_type": "stream",
     "text": [
      "Epoch: 1027, Train Loss: 79.3213, \n",
      "Validation Loss: 35.3533\n"
     ]
    },
    {
     "name": "stderr",
     "output_type": "stream",
     "text": [
      "Epoch 1028/3000: 100%|██████████| 1/1 [00:00<00:00, 40.10it/s]\n",
      "Epoch 1029/3000: 100%|██████████| 1/1 [00:00<00:00, 39.85it/s]\n",
      "Validation: 100%|██████████| 1/1 [00:00<00:00, 54.85it/s]\n"
     ]
    },
    {
     "name": "stdout",
     "output_type": "stream",
     "text": [
      "Epoch: 1029, Train Loss: 58.8407, \n",
      "Validation Loss: 33.1165\n"
     ]
    },
    {
     "name": "stderr",
     "output_type": "stream",
     "text": [
      "Epoch 1030/3000: 100%|██████████| 1/1 [00:00<00:00, 40.18it/s]\n",
      "Epoch 1031/3000: 100%|██████████| 1/1 [00:00<00:00, 40.59it/s]\n",
      "Validation: 100%|██████████| 1/1 [00:00<00:00, 49.91it/s]\n"
     ]
    },
    {
     "name": "stdout",
     "output_type": "stream",
     "text": [
      "Epoch: 1031, Train Loss: 83.2929, \n",
      "Validation Loss: 26.7259\n"
     ]
    },
    {
     "name": "stderr",
     "output_type": "stream",
     "text": [
      "Epoch 1032/3000: 100%|██████████| 1/1 [00:00<00:00, 40.87it/s]\n",
      "Epoch 1033/3000: 100%|██████████| 1/1 [00:00<00:00, 38.92it/s]\n",
      "Validation: 100%|██████████| 1/1 [00:00<00:00, 50.77it/s]\n"
     ]
    },
    {
     "name": "stdout",
     "output_type": "stream",
     "text": [
      "Epoch: 1033, Train Loss: 32.7458, \n",
      "Validation Loss: 25.6565\n"
     ]
    },
    {
     "name": "stderr",
     "output_type": "stream",
     "text": [
      "Epoch 1034/3000: 100%|██████████| 1/1 [00:00<00:00, 37.45it/s]\n",
      "Epoch 1035/3000: 100%|██████████| 1/1 [00:00<00:00, 36.39it/s]\n",
      "Validation: 100%|██████████| 1/1 [00:00<00:00, 50.86it/s]\n"
     ]
    },
    {
     "name": "stdout",
     "output_type": "stream",
     "text": [
      "Epoch: 1035, Train Loss: 61.3648, \n",
      "Validation Loss: 21.7297\n"
     ]
    },
    {
     "name": "stderr",
     "output_type": "stream",
     "text": [
      "Epoch 1036/3000: 100%|██████████| 1/1 [00:00<00:00, 35.29it/s]\n",
      "Epoch 1037/3000: 100%|██████████| 1/1 [00:00<00:00, 33.67it/s]\n",
      "Validation: 100%|██████████| 1/1 [00:00<00:00, 47.68it/s]\n"
     ]
    },
    {
     "name": "stdout",
     "output_type": "stream",
     "text": [
      "Epoch: 1037, Train Loss: 48.3917, \n",
      "Validation Loss: 21.7367\n"
     ]
    },
    {
     "name": "stderr",
     "output_type": "stream",
     "text": [
      "Epoch 1038/3000: 100%|██████████| 1/1 [00:00<00:00, 36.22it/s]\n",
      "Epoch 1039/3000: 100%|██████████| 1/1 [00:00<00:00, 37.20it/s]\n",
      "Validation: 100%|██████████| 1/1 [00:00<00:00, 50.00it/s]\n"
     ]
    },
    {
     "name": "stdout",
     "output_type": "stream",
     "text": [
      "Epoch: 1039, Train Loss: 81.7395, \n",
      "Validation Loss: 28.8722\n"
     ]
    },
    {
     "name": "stderr",
     "output_type": "stream",
     "text": [
      "Epoch 1040/3000: 100%|██████████| 1/1 [00:00<00:00, 36.92it/s]\n",
      "Epoch 1041/3000: 100%|██████████| 1/1 [00:00<00:00, 43.47it/s]\n",
      "Validation: 100%|██████████| 1/1 [00:00<00:00, 47.09it/s]\n"
     ]
    },
    {
     "name": "stdout",
     "output_type": "stream",
     "text": [
      "Epoch: 1041, Train Loss: 50.9774, \n",
      "Validation Loss: 27.4025\n"
     ]
    },
    {
     "name": "stderr",
     "output_type": "stream",
     "text": [
      "Epoch 1042/3000: 100%|██████████| 1/1 [00:00<00:00, 38.67it/s]\n",
      "Epoch 1043/3000: 100%|██████████| 1/1 [00:00<00:00, 38.45it/s]\n",
      "Validation: 100%|██████████| 1/1 [00:00<00:00, 54.79it/s]\n"
     ]
    },
    {
     "name": "stdout",
     "output_type": "stream",
     "text": [
      "Epoch: 1043, Train Loss: 68.8238, \n",
      "Validation Loss: 21.7803\n"
     ]
    },
    {
     "name": "stderr",
     "output_type": "stream",
     "text": [
      "Epoch 1044/3000: 100%|██████████| 1/1 [00:00<00:00, 37.92it/s]\n",
      "Epoch 1045/3000: 100%|██████████| 1/1 [00:00<00:00, 38.33it/s]\n",
      "Validation: 100%|██████████| 1/1 [00:00<00:00, 51.32it/s]\n"
     ]
    },
    {
     "name": "stdout",
     "output_type": "stream",
     "text": [
      "Epoch: 1045, Train Loss: 37.8693, \n",
      "Validation Loss: 23.1829\n"
     ]
    },
    {
     "name": "stderr",
     "output_type": "stream",
     "text": [
      "Epoch 1046/3000: 100%|██████████| 1/1 [00:00<00:00, 38.27it/s]\n",
      "Epoch 1047/3000: 100%|██████████| 1/1 [00:00<00:00, 38.63it/s]\n",
      "Validation: 100%|██████████| 1/1 [00:00<00:00, 49.51it/s]\n"
     ]
    },
    {
     "name": "stdout",
     "output_type": "stream",
     "text": [
      "Epoch: 1047, Train Loss: 50.6495, \n",
      "Validation Loss: 22.9365\n"
     ]
    },
    {
     "name": "stderr",
     "output_type": "stream",
     "text": [
      "Epoch 1048/3000: 100%|██████████| 1/1 [00:00<00:00, 40.07it/s]\n",
      "Epoch 1049/3000: 100%|██████████| 1/1 [00:00<00:00, 36.10it/s]\n",
      "Validation: 100%|██████████| 1/1 [00:00<00:00, 49.16it/s]\n"
     ]
    },
    {
     "name": "stdout",
     "output_type": "stream",
     "text": [
      "Epoch: 1049, Train Loss: 32.0320, \n",
      "Validation Loss: 21.6219\n"
     ]
    },
    {
     "name": "stderr",
     "output_type": "stream",
     "text": [
      "Epoch 1050/3000: 100%|██████████| 1/1 [00:00<00:00, 39.28it/s]\n",
      "Epoch 1051/3000: 100%|██████████| 1/1 [00:00<00:00, 40.64it/s]\n",
      "Validation: 100%|██████████| 1/1 [00:00<00:00, 50.76it/s]\n"
     ]
    },
    {
     "name": "stdout",
     "output_type": "stream",
     "text": [
      "Epoch: 1051, Train Loss: 60.2701, \n",
      "Validation Loss: 22.6414\n"
     ]
    },
    {
     "name": "stderr",
     "output_type": "stream",
     "text": [
      "Epoch 1052/3000: 100%|██████████| 1/1 [00:00<00:00, 38.51it/s]\n",
      "Epoch 1053/3000: 100%|██████████| 1/1 [00:00<00:00, 37.08it/s]\n",
      "Validation: 100%|██████████| 1/1 [00:00<00:00, 52.28it/s]\n"
     ]
    },
    {
     "name": "stdout",
     "output_type": "stream",
     "text": [
      "Epoch: 1053, Train Loss: 37.6312, \n",
      "Validation Loss: 21.6674\n"
     ]
    },
    {
     "name": "stderr",
     "output_type": "stream",
     "text": [
      "Epoch 1054/3000: 100%|██████████| 1/1 [00:00<00:00, 36.81it/s]\n",
      "Epoch 1055/3000: 100%|██████████| 1/1 [00:00<00:00, 39.99it/s]\n",
      "Validation: 100%|██████████| 1/1 [00:00<00:00, 49.62it/s]\n"
     ]
    },
    {
     "name": "stdout",
     "output_type": "stream",
     "text": [
      "Epoch: 1055, Train Loss: 27.3241, \n",
      "Validation Loss: 21.9633\n"
     ]
    },
    {
     "name": "stderr",
     "output_type": "stream",
     "text": [
      "Epoch 1056/3000: 100%|██████████| 1/1 [00:00<00:00, 40.15it/s]\n",
      "Epoch 1057/3000: 100%|██████████| 1/1 [00:00<00:00, 34.02it/s]\n",
      "Validation: 100%|██████████| 1/1 [00:00<00:00, 49.36it/s]\n"
     ]
    },
    {
     "name": "stdout",
     "output_type": "stream",
     "text": [
      "Epoch: 1057, Train Loss: 58.8120, \n",
      "Validation Loss: 21.8711\n"
     ]
    },
    {
     "name": "stderr",
     "output_type": "stream",
     "text": [
      "Epoch 1058/3000: 100%|██████████| 1/1 [00:00<00:00, 38.79it/s]\n",
      "Epoch 1059/3000: 100%|██████████| 1/1 [00:00<00:00, 42.76it/s]\n",
      "Validation: 100%|██████████| 1/1 [00:00<00:00, 47.05it/s]\n"
     ]
    },
    {
     "name": "stdout",
     "output_type": "stream",
     "text": [
      "Epoch: 1059, Train Loss: 62.4409, \n",
      "Validation Loss: 25.1770\n"
     ]
    },
    {
     "name": "stderr",
     "output_type": "stream",
     "text": [
      "Epoch 1060/3000: 100%|██████████| 1/1 [00:00<00:00, 37.19it/s]\n",
      "Epoch 1061/3000: 100%|██████████| 1/1 [00:00<00:00, 39.54it/s]\n",
      "Validation: 100%|██████████| 1/1 [00:00<00:00, 55.35it/s]\n"
     ]
    },
    {
     "name": "stdout",
     "output_type": "stream",
     "text": [
      "Epoch: 1061, Train Loss: 47.5939, \n",
      "Validation Loss: 28.6859\n"
     ]
    },
    {
     "name": "stderr",
     "output_type": "stream",
     "text": [
      "Epoch 1062/3000: 100%|██████████| 1/1 [00:00<00:00, 38.41it/s]\n",
      "Epoch 1063/3000: 100%|██████████| 1/1 [00:00<00:00, 40.58it/s]\n",
      "Validation: 100%|██████████| 1/1 [00:00<00:00, 52.11it/s]\n"
     ]
    },
    {
     "name": "stdout",
     "output_type": "stream",
     "text": [
      "Epoch: 1063, Train Loss: 56.1686, \n",
      "Validation Loss: 29.4055\n"
     ]
    },
    {
     "name": "stderr",
     "output_type": "stream",
     "text": [
      "Epoch 1064/3000: 100%|██████████| 1/1 [00:00<00:00, 39.71it/s]\n",
      "Epoch 1065/3000: 100%|██████████| 1/1 [00:00<00:00, 40.55it/s]\n",
      "Validation: 100%|██████████| 1/1 [00:00<00:00, 47.09it/s]\n"
     ]
    },
    {
     "name": "stdout",
     "output_type": "stream",
     "text": [
      "Epoch: 1065, Train Loss: 53.0637, \n",
      "Validation Loss: 28.8047\n"
     ]
    },
    {
     "name": "stderr",
     "output_type": "stream",
     "text": [
      "Epoch 1066/3000: 100%|██████████| 1/1 [00:00<00:00, 38.79it/s]\n",
      "Epoch 1067/3000: 100%|██████████| 1/1 [00:00<00:00, 42.65it/s]\n",
      "Validation: 100%|██████████| 1/1 [00:00<00:00, 52.50it/s]\n"
     ]
    },
    {
     "name": "stdout",
     "output_type": "stream",
     "text": [
      "Epoch: 1067, Train Loss: 43.6726, \n",
      "Validation Loss: 28.9941\n"
     ]
    },
    {
     "name": "stderr",
     "output_type": "stream",
     "text": [
      "Epoch 1068/3000: 100%|██████████| 1/1 [00:00<00:00, 39.23it/s]\n",
      "Epoch 1069/3000: 100%|██████████| 1/1 [00:00<00:00, 40.89it/s]\n",
      "Validation: 100%|██████████| 1/1 [00:00<00:00, 55.38it/s]\n"
     ]
    },
    {
     "name": "stdout",
     "output_type": "stream",
     "text": [
      "Epoch: 1069, Train Loss: 71.0050, \n",
      "Validation Loss: 26.5710\n"
     ]
    },
    {
     "name": "stderr",
     "output_type": "stream",
     "text": [
      "Epoch 1070/3000: 100%|██████████| 1/1 [00:00<00:00, 35.26it/s]\n",
      "Epoch 1071/3000: 100%|██████████| 1/1 [00:00<00:00, 42.55it/s]\n",
      "Validation: 100%|██████████| 1/1 [00:00<00:00, 51.92it/s]\n"
     ]
    },
    {
     "name": "stdout",
     "output_type": "stream",
     "text": [
      "Epoch: 1071, Train Loss: 51.0684, \n",
      "Validation Loss: 24.0895\n"
     ]
    },
    {
     "name": "stderr",
     "output_type": "stream",
     "text": [
      "Epoch 1072/3000: 100%|██████████| 1/1 [00:00<00:00, 41.34it/s]\n",
      "Epoch 1073/3000: 100%|██████████| 1/1 [00:00<00:00, 40.79it/s]\n",
      "Validation: 100%|██████████| 1/1 [00:00<00:00, 49.82it/s]\n"
     ]
    },
    {
     "name": "stdout",
     "output_type": "stream",
     "text": [
      "Epoch: 1073, Train Loss: 56.2435, \n",
      "Validation Loss: 22.5085\n"
     ]
    },
    {
     "name": "stderr",
     "output_type": "stream",
     "text": [
      "Epoch 1074/3000: 100%|██████████| 1/1 [00:00<00:00, 40.28it/s]\n",
      "Epoch 1075/3000: 100%|██████████| 1/1 [00:00<00:00, 41.99it/s]\n",
      "Validation: 100%|██████████| 1/1 [00:00<00:00, 51.70it/s]\n"
     ]
    },
    {
     "name": "stdout",
     "output_type": "stream",
     "text": [
      "Epoch: 1075, Train Loss: 48.7995, \n",
      "Validation Loss: 26.1707\n"
     ]
    },
    {
     "name": "stderr",
     "output_type": "stream",
     "text": [
      "Epoch 1076/3000: 100%|██████████| 1/1 [00:00<00:00, 39.67it/s]\n",
      "Epoch 1077/3000: 100%|██████████| 1/1 [00:00<00:00, 41.24it/s]\n",
      "Validation: 100%|██████████| 1/1 [00:00<00:00, 51.23it/s]\n"
     ]
    },
    {
     "name": "stdout",
     "output_type": "stream",
     "text": [
      "Epoch: 1077, Train Loss: 43.3955, \n",
      "Validation Loss: 33.9398\n"
     ]
    },
    {
     "name": "stderr",
     "output_type": "stream",
     "text": [
      "Epoch 1078/3000: 100%|██████████| 1/1 [00:00<00:00, 36.73it/s]\n",
      "Epoch 1079/3000: 100%|██████████| 1/1 [00:00<00:00, 33.96it/s]\n",
      "Validation: 100%|██████████| 1/1 [00:00<00:00, 50.92it/s]\n"
     ]
    },
    {
     "name": "stdout",
     "output_type": "stream",
     "text": [
      "Epoch: 1079, Train Loss: 63.4030, \n",
      "Validation Loss: 30.2968\n"
     ]
    },
    {
     "name": "stderr",
     "output_type": "stream",
     "text": [
      "Epoch 1080/3000: 100%|██████████| 1/1 [00:00<00:00, 37.46it/s]\n",
      "Epoch 1081/3000: 100%|██████████| 1/1 [00:00<00:00, 36.70it/s]\n",
      "Validation: 100%|██████████| 1/1 [00:00<00:00, 43.65it/s]\n"
     ]
    },
    {
     "name": "stdout",
     "output_type": "stream",
     "text": [
      "Epoch: 1081, Train Loss: 68.9580, \n",
      "Validation Loss: 23.9124\n"
     ]
    },
    {
     "name": "stderr",
     "output_type": "stream",
     "text": [
      "Epoch 1082/3000: 100%|██████████| 1/1 [00:00<00:00, 38.89it/s]\n",
      "Epoch 1083/3000: 100%|██████████| 1/1 [00:00<00:00, 43.20it/s]\n",
      "Validation: 100%|██████████| 1/1 [00:00<00:00, 49.10it/s]\n"
     ]
    },
    {
     "name": "stdout",
     "output_type": "stream",
     "text": [
      "Epoch: 1083, Train Loss: 42.8871, \n",
      "Validation Loss: 28.9665\n"
     ]
    },
    {
     "name": "stderr",
     "output_type": "stream",
     "text": [
      "Epoch 1084/3000: 100%|██████████| 1/1 [00:00<00:00, 39.11it/s]\n",
      "Epoch 1085/3000: 100%|██████████| 1/1 [00:00<00:00, 38.79it/s]\n",
      "Validation: 100%|██████████| 1/1 [00:00<00:00, 46.87it/s]\n"
     ]
    },
    {
     "name": "stdout",
     "output_type": "stream",
     "text": [
      "Epoch: 1085, Train Loss: 55.2208, \n",
      "Validation Loss: 23.9412\n"
     ]
    },
    {
     "name": "stderr",
     "output_type": "stream",
     "text": [
      "Epoch 1086/3000: 100%|██████████| 1/1 [00:00<00:00, 38.16it/s]\n",
      "Epoch 1087/3000: 100%|██████████| 1/1 [00:00<00:00, 38.49it/s]\n",
      "Validation: 100%|██████████| 1/1 [00:00<00:00, 49.97it/s]\n"
     ]
    },
    {
     "name": "stdout",
     "output_type": "stream",
     "text": [
      "Epoch: 1087, Train Loss: 41.5133, \n",
      "Validation Loss: 21.1814\n"
     ]
    },
    {
     "name": "stderr",
     "output_type": "stream",
     "text": [
      "Epoch 1088/3000: 100%|██████████| 1/1 [00:00<00:00, 39.44it/s]\n",
      "Epoch 1089/3000: 100%|██████████| 1/1 [00:00<00:00, 37.87it/s]\n",
      "Validation: 100%|██████████| 1/1 [00:00<00:00, 47.29it/s]\n"
     ]
    },
    {
     "name": "stdout",
     "output_type": "stream",
     "text": [
      "Epoch: 1089, Train Loss: 31.6048, \n",
      "Validation Loss: 24.4390\n"
     ]
    },
    {
     "name": "stderr",
     "output_type": "stream",
     "text": [
      "Epoch 1090/3000: 100%|██████████| 1/1 [00:00<00:00, 32.88it/s]\n",
      "Epoch 1091/3000: 100%|██████████| 1/1 [00:00<00:00, 38.49it/s]\n",
      "Validation: 100%|██████████| 1/1 [00:00<00:00, 46.66it/s]\n"
     ]
    },
    {
     "name": "stdout",
     "output_type": "stream",
     "text": [
      "Epoch: 1091, Train Loss: 65.7452, \n",
      "Validation Loss: 32.9154\n"
     ]
    },
    {
     "name": "stderr",
     "output_type": "stream",
     "text": [
      "Epoch 1092/3000: 100%|██████████| 1/1 [00:00<00:00, 37.71it/s]\n",
      "Epoch 1093/3000: 100%|██████████| 1/1 [00:00<00:00, 38.53it/s]\n",
      "Validation: 100%|██████████| 1/1 [00:00<00:00, 49.19it/s]\n"
     ]
    },
    {
     "name": "stdout",
     "output_type": "stream",
     "text": [
      "Epoch: 1093, Train Loss: 51.9654, \n",
      "Validation Loss: 35.8707\n"
     ]
    },
    {
     "name": "stderr",
     "output_type": "stream",
     "text": [
      "Epoch 1094/3000: 100%|██████████| 1/1 [00:00<00:00, 37.80it/s]\n",
      "Epoch 1095/3000: 100%|██████████| 1/1 [00:00<00:00, 40.28it/s]\n",
      "Validation: 100%|██████████| 1/1 [00:00<00:00, 51.39it/s]\n"
     ]
    },
    {
     "name": "stdout",
     "output_type": "stream",
     "text": [
      "Epoch: 1095, Train Loss: 49.8654, \n",
      "Validation Loss: 26.5783\n"
     ]
    },
    {
     "name": "stderr",
     "output_type": "stream",
     "text": [
      "Epoch 1096/3000: 100%|██████████| 1/1 [00:00<00:00, 39.18it/s]\n",
      "Epoch 1097/3000: 100%|██████████| 1/1 [00:00<00:00, 40.57it/s]\n",
      "Validation: 100%|██████████| 1/1 [00:00<00:00, 50.28it/s]\n"
     ]
    },
    {
     "name": "stdout",
     "output_type": "stream",
     "text": [
      "Epoch: 1097, Train Loss: 38.6951, \n",
      "Validation Loss: 26.4527\n"
     ]
    },
    {
     "name": "stderr",
     "output_type": "stream",
     "text": [
      "Epoch 1098/3000: 100%|██████████| 1/1 [00:00<00:00, 41.92it/s]\n",
      "Epoch 1099/3000: 100%|██████████| 1/1 [00:00<00:00, 38.73it/s]\n",
      "Validation: 100%|██████████| 1/1 [00:00<00:00, 49.55it/s]\n"
     ]
    },
    {
     "name": "stdout",
     "output_type": "stream",
     "text": [
      "Epoch: 1099, Train Loss: 92.3313, \n",
      "Validation Loss: 34.1491\n"
     ]
    },
    {
     "name": "stderr",
     "output_type": "stream",
     "text": [
      "Epoch 1100/3000: 100%|██████████| 1/1 [00:00<00:00, 39.28it/s]\n",
      "Epoch 1101/3000: 100%|██████████| 1/1 [00:00<00:00, 30.79it/s]\n",
      "Validation: 100%|██████████| 1/1 [00:00<00:00, 46.89it/s]\n"
     ]
    },
    {
     "name": "stdout",
     "output_type": "stream",
     "text": [
      "Epoch: 1101, Train Loss: 77.9645, \n",
      "Validation Loss: 45.9231\n"
     ]
    },
    {
     "name": "stderr",
     "output_type": "stream",
     "text": [
      "Epoch 1102/3000: 100%|██████████| 1/1 [00:00<00:00, 37.54it/s]\n",
      "Epoch 1103/3000: 100%|██████████| 1/1 [00:00<00:00, 38.79it/s]\n",
      "Validation: 100%|██████████| 1/1 [00:00<00:00, 49.36it/s]\n"
     ]
    },
    {
     "name": "stdout",
     "output_type": "stream",
     "text": [
      "Epoch: 1103, Train Loss: 55.6762, \n",
      "Validation Loss: 33.1905\n"
     ]
    },
    {
     "name": "stderr",
     "output_type": "stream",
     "text": [
      "Epoch 1104/3000: 100%|██████████| 1/1 [00:00<00:00, 37.96it/s]\n",
      "Epoch 1105/3000: 100%|██████████| 1/1 [00:00<00:00, 38.36it/s]\n",
      "Validation: 100%|██████████| 1/1 [00:00<00:00, 50.61it/s]\n"
     ]
    },
    {
     "name": "stdout",
     "output_type": "stream",
     "text": [
      "Epoch: 1105, Train Loss: 38.3457, \n",
      "Validation Loss: 24.7343\n"
     ]
    },
    {
     "name": "stderr",
     "output_type": "stream",
     "text": [
      "Epoch 1106/3000: 100%|██████████| 1/1 [00:00<00:00, 39.30it/s]\n",
      "Epoch 1107/3000: 100%|██████████| 1/1 [00:00<00:00, 38.18it/s]\n",
      "Validation: 100%|██████████| 1/1 [00:00<00:00, 51.45it/s]\n"
     ]
    },
    {
     "name": "stdout",
     "output_type": "stream",
     "text": [
      "Epoch: 1107, Train Loss: 44.6718, \n",
      "Validation Loss: 21.9227\n"
     ]
    },
    {
     "name": "stderr",
     "output_type": "stream",
     "text": [
      "Epoch 1108/3000: 100%|██████████| 1/1 [00:00<00:00, 36.86it/s]\n",
      "Epoch 1109/3000: 100%|██████████| 1/1 [00:00<00:00, 39.93it/s]\n",
      "Validation: 100%|██████████| 1/1 [00:00<00:00, 49.06it/s]\n"
     ]
    },
    {
     "name": "stdout",
     "output_type": "stream",
     "text": [
      "Epoch: 1109, Train Loss: 27.5075, \n",
      "Validation Loss: 30.5711\n"
     ]
    },
    {
     "name": "stderr",
     "output_type": "stream",
     "text": [
      "Epoch 1110/3000: 100%|██████████| 1/1 [00:00<00:00, 37.31it/s]\n",
      "Epoch 1111/3000: 100%|██████████| 1/1 [00:00<00:00, 41.73it/s]\n",
      "Validation: 100%|██████████| 1/1 [00:00<00:00, 51.75it/s]\n"
     ]
    },
    {
     "name": "stdout",
     "output_type": "stream",
     "text": [
      "Epoch: 1111, Train Loss: 38.7894, \n",
      "Validation Loss: 28.7350\n"
     ]
    },
    {
     "name": "stderr",
     "output_type": "stream",
     "text": [
      "Epoch 1112/3000: 100%|██████████| 1/1 [00:00<00:00, 38.23it/s]\n",
      "Epoch 1113/3000: 100%|██████████| 1/1 [00:00<00:00, 39.14it/s]\n",
      "Validation: 100%|██████████| 1/1 [00:00<00:00, 50.98it/s]\n"
     ]
    },
    {
     "name": "stdout",
     "output_type": "stream",
     "text": [
      "Epoch: 1113, Train Loss: 73.8563, \n",
      "Validation Loss: 23.7009\n"
     ]
    },
    {
     "name": "stderr",
     "output_type": "stream",
     "text": [
      "Epoch 1114/3000: 100%|██████████| 1/1 [00:00<00:00, 37.43it/s]\n",
      "Epoch 1115/3000: 100%|██████████| 1/1 [00:00<00:00, 36.63it/s]\n",
      "Validation: 100%|██████████| 1/1 [00:00<00:00, 51.05it/s]\n"
     ]
    },
    {
     "name": "stdout",
     "output_type": "stream",
     "text": [
      "Epoch: 1115, Train Loss: 39.0551, \n",
      "Validation Loss: 22.6395\n"
     ]
    },
    {
     "name": "stderr",
     "output_type": "stream",
     "text": [
      "Epoch 1116/3000: 100%|██████████| 1/1 [00:00<00:00, 40.87it/s]\n",
      "Epoch 1117/3000: 100%|██████████| 1/1 [00:00<00:00, 39.64it/s]\n",
      "Validation: 100%|██████████| 1/1 [00:00<00:00, 47.45it/s]\n"
     ]
    },
    {
     "name": "stdout",
     "output_type": "stream",
     "text": [
      "Epoch: 1117, Train Loss: 35.0221, \n",
      "Validation Loss: 29.6700\n"
     ]
    },
    {
     "name": "stderr",
     "output_type": "stream",
     "text": [
      "Epoch 1118/3000: 100%|██████████| 1/1 [00:00<00:00, 40.15it/s]\n",
      "Epoch 1119/3000: 100%|██████████| 1/1 [00:00<00:00, 42.59it/s]\n",
      "Validation: 100%|██████████| 1/1 [00:00<00:00, 51.42it/s]\n"
     ]
    },
    {
     "name": "stdout",
     "output_type": "stream",
     "text": [
      "Epoch: 1119, Train Loss: 83.9761, \n",
      "Validation Loss: 30.0877\n"
     ]
    },
    {
     "name": "stderr",
     "output_type": "stream",
     "text": [
      "Epoch 1120/3000: 100%|██████████| 1/1 [00:00<00:00, 31.59it/s]\n",
      "Epoch 1121/3000: 100%|██████████| 1/1 [00:00<00:00, 31.99it/s]\n",
      "Validation: 100%|██████████| 1/1 [00:00<00:00, 47.51it/s]\n"
     ]
    },
    {
     "name": "stdout",
     "output_type": "stream",
     "text": [
      "Epoch: 1121, Train Loss: 60.9807, \n",
      "Validation Loss: 29.3674\n"
     ]
    },
    {
     "name": "stderr",
     "output_type": "stream",
     "text": [
      "Epoch 1122/3000: 100%|██████████| 1/1 [00:00<00:00, 38.05it/s]\n",
      "Epoch 1123/3000: 100%|██████████| 1/1 [00:00<00:00, 37.92it/s]\n",
      "Validation: 100%|██████████| 1/1 [00:00<00:00, 51.50it/s]\n"
     ]
    },
    {
     "name": "stdout",
     "output_type": "stream",
     "text": [
      "Epoch: 1123, Train Loss: 33.9161, \n",
      "Validation Loss: 31.0600\n"
     ]
    },
    {
     "name": "stderr",
     "output_type": "stream",
     "text": [
      "Epoch 1124/3000: 100%|██████████| 1/1 [00:00<00:00, 39.24it/s]\n",
      "Epoch 1125/3000: 100%|██████████| 1/1 [00:00<00:00, 37.67it/s]\n",
      "Validation: 100%|██████████| 1/1 [00:00<00:00, 50.89it/s]\n"
     ]
    },
    {
     "name": "stdout",
     "output_type": "stream",
     "text": [
      "Epoch: 1125, Train Loss: 63.4560, \n",
      "Validation Loss: 25.1639\n"
     ]
    },
    {
     "name": "stderr",
     "output_type": "stream",
     "text": [
      "Epoch 1126/3000: 100%|██████████| 1/1 [00:00<00:00, 41.42it/s]\n",
      "Epoch 1127/3000: 100%|██████████| 1/1 [00:00<00:00, 40.17it/s]\n",
      "Validation: 100%|██████████| 1/1 [00:00<00:00, 47.18it/s]\n"
     ]
    },
    {
     "name": "stdout",
     "output_type": "stream",
     "text": [
      "Epoch: 1127, Train Loss: 32.5984, \n",
      "Validation Loss: 25.7505\n"
     ]
    },
    {
     "name": "stderr",
     "output_type": "stream",
     "text": [
      "Epoch 1128/3000: 100%|██████████| 1/1 [00:00<00:00, 37.85it/s]\n",
      "Epoch 1129/3000: 100%|██████████| 1/1 [00:00<00:00, 40.31it/s]\n",
      "Validation: 100%|██████████| 1/1 [00:00<00:00, 49.69it/s]\n"
     ]
    },
    {
     "name": "stdout",
     "output_type": "stream",
     "text": [
      "Epoch: 1129, Train Loss: 71.4349, \n",
      "Validation Loss: 38.9089\n"
     ]
    },
    {
     "name": "stderr",
     "output_type": "stream",
     "text": [
      "Epoch 1130/3000: 100%|██████████| 1/1 [00:00<00:00, 37.34it/s]\n",
      "Epoch 1131/3000: 100%|██████████| 1/1 [00:00<00:00, 40.46it/s]\n",
      "Validation: 100%|██████████| 1/1 [00:00<00:00, 52.18it/s]\n"
     ]
    },
    {
     "name": "stdout",
     "output_type": "stream",
     "text": [
      "Epoch: 1131, Train Loss: 41.3867, \n",
      "Validation Loss: 33.8757\n"
     ]
    },
    {
     "name": "stderr",
     "output_type": "stream",
     "text": [
      "Epoch 1132/3000: 100%|██████████| 1/1 [00:00<00:00, 40.87it/s]\n",
      "Epoch 1133/3000: 100%|██████████| 1/1 [00:00<00:00, 39.49it/s]\n",
      "Validation: 100%|██████████| 1/1 [00:00<00:00, 51.54it/s]\n"
     ]
    },
    {
     "name": "stdout",
     "output_type": "stream",
     "text": [
      "Epoch: 1133, Train Loss: 65.4358, \n",
      "Validation Loss: 35.5117\n"
     ]
    },
    {
     "name": "stderr",
     "output_type": "stream",
     "text": [
      "Epoch 1134/3000: 100%|██████████| 1/1 [00:00<00:00, 38.18it/s]\n",
      "Epoch 1135/3000: 100%|██████████| 1/1 [00:00<00:00, 34.59it/s]\n",
      "Validation: 100%|██████████| 1/1 [00:00<00:00, 48.61it/s]\n"
     ]
    },
    {
     "name": "stdout",
     "output_type": "stream",
     "text": [
      "Epoch: 1135, Train Loss: 50.3856, \n",
      "Validation Loss: 36.7971\n"
     ]
    },
    {
     "name": "stderr",
     "output_type": "stream",
     "text": [
      "Epoch 1136/3000: 100%|██████████| 1/1 [00:00<00:00, 39.68it/s]\n",
      "Epoch 1137/3000: 100%|██████████| 1/1 [00:00<00:00, 44.02it/s]\n",
      "Validation: 100%|██████████| 1/1 [00:00<00:00, 48.72it/s]\n"
     ]
    },
    {
     "name": "stdout",
     "output_type": "stream",
     "text": [
      "Epoch: 1137, Train Loss: 106.4277, \n",
      "Validation Loss: 32.2008\n"
     ]
    },
    {
     "name": "stderr",
     "output_type": "stream",
     "text": [
      "Epoch 1138/3000: 100%|██████████| 1/1 [00:00<00:00, 39.10it/s]\n",
      "Epoch 1139/3000: 100%|██████████| 1/1 [00:00<00:00, 39.51it/s]\n",
      "Validation: 100%|██████████| 1/1 [00:00<00:00, 56.02it/s]\n"
     ]
    },
    {
     "name": "stdout",
     "output_type": "stream",
     "text": [
      "Epoch: 1139, Train Loss: 31.2494, \n",
      "Validation Loss: 47.3395\n"
     ]
    },
    {
     "name": "stderr",
     "output_type": "stream",
     "text": [
      "Epoch 1140/3000: 100%|██████████| 1/1 [00:00<00:00, 38.55it/s]\n",
      "Epoch 1141/3000: 100%|██████████| 1/1 [00:00<00:00, 35.81it/s]\n",
      "Validation: 100%|██████████| 1/1 [00:00<00:00, 41.47it/s]\n"
     ]
    },
    {
     "name": "stdout",
     "output_type": "stream",
     "text": [
      "Epoch: 1141, Train Loss: 81.3724, \n",
      "Validation Loss: 50.8137\n"
     ]
    },
    {
     "name": "stderr",
     "output_type": "stream",
     "text": [
      "Epoch 1142/3000: 100%|██████████| 1/1 [00:00<00:00, 42.92it/s]\n",
      "Epoch 1143/3000: 100%|██████████| 1/1 [00:00<00:00, 37.71it/s]\n",
      "Validation: 100%|██████████| 1/1 [00:00<00:00, 49.17it/s]\n"
     ]
    },
    {
     "name": "stdout",
     "output_type": "stream",
     "text": [
      "Epoch: 1143, Train Loss: 60.4928, \n",
      "Validation Loss: 31.1696\n"
     ]
    },
    {
     "name": "stderr",
     "output_type": "stream",
     "text": [
      "Epoch 1144/3000: 100%|██████████| 1/1 [00:00<00:00, 37.10it/s]\n",
      "Epoch 1145/3000: 100%|██████████| 1/1 [00:00<00:00, 43.60it/s]\n",
      "Validation: 100%|██████████| 1/1 [00:00<00:00, 49.32it/s]\n"
     ]
    },
    {
     "name": "stdout",
     "output_type": "stream",
     "text": [
      "Epoch: 1145, Train Loss: 50.5262, \n",
      "Validation Loss: 32.4623\n"
     ]
    },
    {
     "name": "stderr",
     "output_type": "stream",
     "text": [
      "Epoch 1146/3000: 100%|██████████| 1/1 [00:00<00:00, 40.16it/s]\n",
      "Epoch 1147/3000: 100%|██████████| 1/1 [00:00<00:00, 40.25it/s]\n",
      "Validation: 100%|██████████| 1/1 [00:00<00:00, 55.22it/s]\n"
     ]
    },
    {
     "name": "stdout",
     "output_type": "stream",
     "text": [
      "Epoch: 1147, Train Loss: 112.6324, \n",
      "Validation Loss: 36.1009\n"
     ]
    },
    {
     "name": "stderr",
     "output_type": "stream",
     "text": [
      "Epoch 1148/3000: 100%|██████████| 1/1 [00:00<00:00, 36.05it/s]\n",
      "Epoch 1149/3000: 100%|██████████| 1/1 [00:00<00:00, 38.19it/s]\n",
      "Validation: 100%|██████████| 1/1 [00:00<00:00, 50.88it/s]\n"
     ]
    },
    {
     "name": "stdout",
     "output_type": "stream",
     "text": [
      "Epoch: 1149, Train Loss: 112.3089, \n",
      "Validation Loss: 24.8792\n"
     ]
    },
    {
     "name": "stderr",
     "output_type": "stream",
     "text": [
      "Epoch 1150/3000: 100%|██████████| 1/1 [00:00<00:00, 42.94it/s]\n",
      "Epoch 1151/3000: 100%|██████████| 1/1 [00:00<00:00, 34.66it/s]\n",
      "Validation: 100%|██████████| 1/1 [00:00<00:00, 50.63it/s]\n"
     ]
    },
    {
     "name": "stdout",
     "output_type": "stream",
     "text": [
      "Epoch: 1151, Train Loss: 58.4098, \n",
      "Validation Loss: 33.2698\n"
     ]
    },
    {
     "name": "stderr",
     "output_type": "stream",
     "text": [
      "Epoch 1152/3000: 100%|██████████| 1/1 [00:00<00:00, 34.52it/s]\n",
      "Epoch 1153/3000: 100%|██████████| 1/1 [00:00<00:00, 38.23it/s]\n",
      "Validation: 100%|██████████| 1/1 [00:00<00:00, 50.98it/s]\n"
     ]
    },
    {
     "name": "stdout",
     "output_type": "stream",
     "text": [
      "Epoch: 1153, Train Loss: 66.9062, \n",
      "Validation Loss: 44.0781\n"
     ]
    },
    {
     "name": "stderr",
     "output_type": "stream",
     "text": [
      "Epoch 1154/3000: 100%|██████████| 1/1 [00:00<00:00, 37.84it/s]\n",
      "Epoch 1155/3000: 100%|██████████| 1/1 [00:00<00:00, 39.74it/s]\n",
      "Validation: 100%|██████████| 1/1 [00:00<00:00, 50.67it/s]\n"
     ]
    },
    {
     "name": "stdout",
     "output_type": "stream",
     "text": [
      "Epoch: 1155, Train Loss: 78.5670, \n",
      "Validation Loss: 32.9937\n"
     ]
    },
    {
     "name": "stderr",
     "output_type": "stream",
     "text": [
      "Epoch 1156/3000: 100%|██████████| 1/1 [00:00<00:00, 37.99it/s]\n",
      "Epoch 1157/3000: 100%|██████████| 1/1 [00:00<00:00, 39.26it/s]\n",
      "Validation: 100%|██████████| 1/1 [00:00<00:00, 51.85it/s]\n"
     ]
    },
    {
     "name": "stdout",
     "output_type": "stream",
     "text": [
      "Epoch: 1157, Train Loss: 77.0627, \n",
      "Validation Loss: 36.1745\n"
     ]
    },
    {
     "name": "stderr",
     "output_type": "stream",
     "text": [
      "Epoch 1158/3000: 100%|██████████| 1/1 [00:00<00:00, 43.32it/s]\n",
      "Epoch 1159/3000: 100%|██████████| 1/1 [00:00<00:00, 39.70it/s]\n",
      "Validation: 100%|██████████| 1/1 [00:00<00:00, 48.21it/s]\n"
     ]
    },
    {
     "name": "stdout",
     "output_type": "stream",
     "text": [
      "Epoch: 1159, Train Loss: 71.2090, \n",
      "Validation Loss: 36.6107\n"
     ]
    },
    {
     "name": "stderr",
     "output_type": "stream",
     "text": [
      "Epoch 1160/3000: 100%|██████████| 1/1 [00:00<00:00, 38.42it/s]\n",
      "Epoch 1161/3000: 100%|██████████| 1/1 [00:00<00:00, 33.86it/s]\n",
      "Validation: 100%|██████████| 1/1 [00:00<00:00, 50.07it/s]\n"
     ]
    },
    {
     "name": "stdout",
     "output_type": "stream",
     "text": [
      "Epoch: 1161, Train Loss: 45.8601, \n",
      "Validation Loss: 35.8517\n"
     ]
    },
    {
     "name": "stderr",
     "output_type": "stream",
     "text": [
      "Epoch 1162/3000: 100%|██████████| 1/1 [00:00<00:00, 36.56it/s]\n",
      "Epoch 1163/3000: 100%|██████████| 1/1 [00:00<00:00, 39.04it/s]\n",
      "Validation: 100%|██████████| 1/1 [00:00<00:00, 48.97it/s]\n"
     ]
    },
    {
     "name": "stdout",
     "output_type": "stream",
     "text": [
      "Epoch: 1163, Train Loss: 25.4068, \n",
      "Validation Loss: 38.4874\n"
     ]
    },
    {
     "name": "stderr",
     "output_type": "stream",
     "text": [
      "Epoch 1164/3000: 100%|██████████| 1/1 [00:00<00:00, 35.62it/s]\n",
      "Epoch 1165/3000: 100%|██████████| 1/1 [00:00<00:00, 37.45it/s]\n",
      "Validation: 100%|██████████| 1/1 [00:00<00:00, 55.71it/s]\n"
     ]
    },
    {
     "name": "stdout",
     "output_type": "stream",
     "text": [
      "Epoch: 1165, Train Loss: 40.3269, \n",
      "Validation Loss: 37.3134\n"
     ]
    },
    {
     "name": "stderr",
     "output_type": "stream",
     "text": [
      "Epoch 1166/3000: 100%|██████████| 1/1 [00:00<00:00, 39.79it/s]\n",
      "Epoch 1167/3000: 100%|██████████| 1/1 [00:00<00:00, 40.05it/s]\n",
      "Validation: 100%|██████████| 1/1 [00:00<00:00, 49.86it/s]\n"
     ]
    },
    {
     "name": "stdout",
     "output_type": "stream",
     "text": [
      "Epoch: 1167, Train Loss: 83.5087, \n",
      "Validation Loss: 23.6697\n"
     ]
    },
    {
     "name": "stderr",
     "output_type": "stream",
     "text": [
      "Epoch 1168/3000: 100%|██████████| 1/1 [00:00<00:00, 37.84it/s]\n",
      "Epoch 1169/3000: 100%|██████████| 1/1 [00:00<00:00, 38.66it/s]\n",
      "Validation: 100%|██████████| 1/1 [00:00<00:00, 51.37it/s]\n"
     ]
    },
    {
     "name": "stdout",
     "output_type": "stream",
     "text": [
      "Epoch: 1169, Train Loss: 61.9616, \n",
      "Validation Loss: 25.5908\n"
     ]
    },
    {
     "name": "stderr",
     "output_type": "stream",
     "text": [
      "Epoch 1170/3000: 100%|██████████| 1/1 [00:00<00:00, 38.00it/s]\n",
      "Epoch 1171/3000: 100%|██████████| 1/1 [00:00<00:00, 42.04it/s]\n",
      "Validation: 100%|██████████| 1/1 [00:00<00:00, 49.73it/s]\n"
     ]
    },
    {
     "name": "stdout",
     "output_type": "stream",
     "text": [
      "Epoch: 1171, Train Loss: 71.8866, \n",
      "Validation Loss: 33.6690\n"
     ]
    },
    {
     "name": "stderr",
     "output_type": "stream",
     "text": [
      "Epoch 1172/3000: 100%|██████████| 1/1 [00:00<00:00, 34.92it/s]\n",
      "Epoch 1173/3000: 100%|██████████| 1/1 [00:00<00:00, 39.76it/s]\n",
      "Validation: 100%|██████████| 1/1 [00:00<00:00, 54.90it/s]\n"
     ]
    },
    {
     "name": "stdout",
     "output_type": "stream",
     "text": [
      "Epoch: 1173, Train Loss: 76.1401, \n",
      "Validation Loss: 30.3900\n"
     ]
    },
    {
     "name": "stderr",
     "output_type": "stream",
     "text": [
      "Epoch 1174/3000: 100%|██████████| 1/1 [00:00<00:00, 41.66it/s]\n",
      "Epoch 1175/3000: 100%|██████████| 1/1 [00:00<00:00, 35.11it/s]\n",
      "Validation: 100%|██████████| 1/1 [00:00<00:00, 51.38it/s]\n"
     ]
    },
    {
     "name": "stdout",
     "output_type": "stream",
     "text": [
      "Epoch: 1175, Train Loss: 49.3923, \n",
      "Validation Loss: 29.8019\n"
     ]
    },
    {
     "name": "stderr",
     "output_type": "stream",
     "text": [
      "Epoch 1176/3000: 100%|██████████| 1/1 [00:00<00:00, 41.65it/s]\n",
      "Epoch 1177/3000: 100%|██████████| 1/1 [00:00<00:00, 39.96it/s]\n",
      "Validation: 100%|██████████| 1/1 [00:00<00:00, 52.73it/s]\n"
     ]
    },
    {
     "name": "stdout",
     "output_type": "stream",
     "text": [
      "Epoch: 1177, Train Loss: 48.4505, \n",
      "Validation Loss: 32.1749\n"
     ]
    },
    {
     "name": "stderr",
     "output_type": "stream",
     "text": [
      "Epoch 1178/3000: 100%|██████████| 1/1 [00:00<00:00, 39.35it/s]\n",
      "Epoch 1179/3000: 100%|██████████| 1/1 [00:00<00:00, 44.13it/s]\n",
      "Validation: 100%|██████████| 1/1 [00:00<00:00, 50.26it/s]\n"
     ]
    },
    {
     "name": "stdout",
     "output_type": "stream",
     "text": [
      "Epoch: 1179, Train Loss: 38.3647, \n",
      "Validation Loss: 27.0286\n"
     ]
    },
    {
     "name": "stderr",
     "output_type": "stream",
     "text": [
      "Epoch 1180/3000: 100%|██████████| 1/1 [00:00<00:00, 41.64it/s]\n",
      "Epoch 1181/3000: 100%|██████████| 1/1 [00:00<00:00, 35.16it/s]\n",
      "Validation: 100%|██████████| 1/1 [00:00<00:00, 51.36it/s]\n"
     ]
    },
    {
     "name": "stdout",
     "output_type": "stream",
     "text": [
      "Epoch: 1181, Train Loss: 67.1462, \n",
      "Validation Loss: 33.7566\n"
     ]
    },
    {
     "name": "stderr",
     "output_type": "stream",
     "text": [
      "Epoch 1182/3000: 100%|██████████| 1/1 [00:00<00:00, 39.50it/s]\n",
      "Epoch 1183/3000: 100%|██████████| 1/1 [00:00<00:00, 37.90it/s]\n",
      "Validation: 100%|██████████| 1/1 [00:00<00:00, 47.65it/s]\n"
     ]
    },
    {
     "name": "stdout",
     "output_type": "stream",
     "text": [
      "Epoch: 1183, Train Loss: 112.3938, \n",
      "Validation Loss: 33.9204\n"
     ]
    },
    {
     "name": "stderr",
     "output_type": "stream",
     "text": [
      "Epoch 1184/3000: 100%|██████████| 1/1 [00:00<00:00, 43.25it/s]\n",
      "Epoch 1185/3000: 100%|██████████| 1/1 [00:00<00:00, 40.76it/s]\n",
      "Validation: 100%|██████████| 1/1 [00:00<00:00, 52.72it/s]\n"
     ]
    },
    {
     "name": "stdout",
     "output_type": "stream",
     "text": [
      "Epoch: 1185, Train Loss: 57.3876, \n",
      "Validation Loss: 30.6253\n"
     ]
    },
    {
     "name": "stderr",
     "output_type": "stream",
     "text": [
      "Epoch 1186/3000: 100%|██████████| 1/1 [00:00<00:00, 37.82it/s]\n",
      "Epoch 1187/3000: 100%|██████████| 1/1 [00:00<00:00, 44.47it/s]\n",
      "Validation: 100%|██████████| 1/1 [00:00<00:00, 52.37it/s]\n"
     ]
    },
    {
     "name": "stdout",
     "output_type": "stream",
     "text": [
      "Epoch: 1187, Train Loss: 57.3620, \n",
      "Validation Loss: 22.8484\n"
     ]
    },
    {
     "name": "stderr",
     "output_type": "stream",
     "text": [
      "Epoch 1188/3000: 100%|██████████| 1/1 [00:00<00:00, 34.98it/s]\n",
      "Epoch 1189/3000: 100%|██████████| 1/1 [00:00<00:00, 40.43it/s]\n",
      "Validation: 100%|██████████| 1/1 [00:00<00:00, 55.93it/s]\n"
     ]
    },
    {
     "name": "stdout",
     "output_type": "stream",
     "text": [
      "Epoch: 1189, Train Loss: 35.4609, \n",
      "Validation Loss: 27.1366\n"
     ]
    },
    {
     "name": "stderr",
     "output_type": "stream",
     "text": [
      "Epoch 1190/3000: 100%|██████████| 1/1 [00:00<00:00, 34.07it/s]\n",
      "Epoch 1191/3000: 100%|██████████| 1/1 [00:00<00:00, 40.81it/s]\n",
      "Validation: 100%|██████████| 1/1 [00:00<00:00, 47.53it/s]\n"
     ]
    },
    {
     "name": "stdout",
     "output_type": "stream",
     "text": [
      "Epoch: 1191, Train Loss: 38.6866, \n",
      "Validation Loss: 29.5135\n"
     ]
    },
    {
     "name": "stderr",
     "output_type": "stream",
     "text": [
      "Epoch 1192/3000: 100%|██████████| 1/1 [00:00<00:00, 36.88it/s]\n",
      "Epoch 1193/3000: 100%|██████████| 1/1 [00:00<00:00, 40.84it/s]\n",
      "Validation: 100%|██████████| 1/1 [00:00<00:00, 47.85it/s]\n"
     ]
    },
    {
     "name": "stdout",
     "output_type": "stream",
     "text": [
      "Epoch: 1193, Train Loss: 60.5012, \n",
      "Validation Loss: 21.0699\n"
     ]
    },
    {
     "name": "stderr",
     "output_type": "stream",
     "text": [
      "Epoch 1194/3000: 100%|██████████| 1/1 [00:00<00:00, 35.17it/s]\n",
      "Epoch 1195/3000: 100%|██████████| 1/1 [00:00<00:00, 41.31it/s]\n",
      "Validation: 100%|██████████| 1/1 [00:00<00:00, 50.64it/s]\n"
     ]
    },
    {
     "name": "stdout",
     "output_type": "stream",
     "text": [
      "Epoch: 1195, Train Loss: 68.4121, \n",
      "Validation Loss: 21.7549\n"
     ]
    },
    {
     "name": "stderr",
     "output_type": "stream",
     "text": [
      "Epoch 1196/3000: 100%|██████████| 1/1 [00:00<00:00, 38.61it/s]\n",
      "Epoch 1197/3000: 100%|██████████| 1/1 [00:00<00:00, 37.18it/s]\n",
      "Validation: 100%|██████████| 1/1 [00:00<00:00, 55.81it/s]\n"
     ]
    },
    {
     "name": "stdout",
     "output_type": "stream",
     "text": [
      "Epoch: 1197, Train Loss: 94.5641, \n",
      "Validation Loss: 28.2841\n"
     ]
    },
    {
     "name": "stderr",
     "output_type": "stream",
     "text": [
      "Epoch 1198/3000: 100%|██████████| 1/1 [00:00<00:00, 37.68it/s]\n",
      "Epoch 1199/3000: 100%|██████████| 1/1 [00:00<00:00, 33.10it/s]\n",
      "Validation: 100%|██████████| 1/1 [00:00<00:00, 39.40it/s]\n"
     ]
    },
    {
     "name": "stdout",
     "output_type": "stream",
     "text": [
      "Epoch: 1199, Train Loss: 66.6705, \n",
      "Validation Loss: 24.6383\n"
     ]
    },
    {
     "name": "stderr",
     "output_type": "stream",
     "text": [
      "Epoch 1200/3000: 100%|██████████| 1/1 [00:00<00:00, 34.33it/s]\n",
      "Epoch 1201/3000: 100%|██████████| 1/1 [00:00<00:00, 39.27it/s]\n",
      "Validation: 100%|██████████| 1/1 [00:00<00:00, 45.28it/s]\n"
     ]
    },
    {
     "name": "stdout",
     "output_type": "stream",
     "text": [
      "Epoch: 1201, Train Loss: 49.5927, \n",
      "Validation Loss: 29.4765\n"
     ]
    },
    {
     "name": "stderr",
     "output_type": "stream",
     "text": [
      "Epoch 1202/3000: 100%|██████████| 1/1 [00:00<00:00, 43.22it/s]\n",
      "Epoch 1203/3000: 100%|██████████| 1/1 [00:00<00:00, 39.08it/s]\n",
      "Validation: 100%|██████████| 1/1 [00:00<00:00, 52.77it/s]\n"
     ]
    },
    {
     "name": "stdout",
     "output_type": "stream",
     "text": [
      "Epoch: 1203, Train Loss: 38.8507, \n",
      "Validation Loss: 32.8134\n"
     ]
    },
    {
     "name": "stderr",
     "output_type": "stream",
     "text": [
      "Epoch 1204/3000: 100%|██████████| 1/1 [00:00<00:00, 37.69it/s]\n",
      "Epoch 1205/3000: 100%|██████████| 1/1 [00:00<00:00, 41.25it/s]\n",
      "Validation: 100%|██████████| 1/1 [00:00<00:00, 48.05it/s]\n"
     ]
    },
    {
     "name": "stdout",
     "output_type": "stream",
     "text": [
      "Epoch: 1205, Train Loss: 63.7802, \n",
      "Validation Loss: 28.6803\n"
     ]
    },
    {
     "name": "stderr",
     "output_type": "stream",
     "text": [
      "Epoch 1206/3000: 100%|██████████| 1/1 [00:00<00:00, 37.10it/s]\n",
      "Epoch 1207/3000: 100%|██████████| 1/1 [00:00<00:00, 40.93it/s]\n",
      "Validation: 100%|██████████| 1/1 [00:00<00:00, 55.01it/s]\n"
     ]
    },
    {
     "name": "stdout",
     "output_type": "stream",
     "text": [
      "Epoch: 1207, Train Loss: 96.5824, \n",
      "Validation Loss: 23.0690\n"
     ]
    },
    {
     "name": "stderr",
     "output_type": "stream",
     "text": [
      "Epoch 1208/3000: 100%|██████████| 1/1 [00:00<00:00, 40.43it/s]\n",
      "Epoch 1209/3000: 100%|██████████| 1/1 [00:00<00:00, 41.03it/s]\n",
      "Validation: 100%|██████████| 1/1 [00:00<00:00, 50.88it/s]\n"
     ]
    },
    {
     "name": "stdout",
     "output_type": "stream",
     "text": [
      "Epoch: 1209, Train Loss: 31.7439, \n",
      "Validation Loss: 26.9424\n"
     ]
    },
    {
     "name": "stderr",
     "output_type": "stream",
     "text": [
      "Epoch 1210/3000: 100%|██████████| 1/1 [00:00<00:00, 42.95it/s]\n",
      "Epoch 1211/3000: 100%|██████████| 1/1 [00:00<00:00, 41.34it/s]\n",
      "Validation: 100%|██████████| 1/1 [00:00<00:00, 45.81it/s]\n"
     ]
    },
    {
     "name": "stdout",
     "output_type": "stream",
     "text": [
      "Epoch: 1211, Train Loss: 64.5122, \n",
      "Validation Loss: 28.7954\n"
     ]
    },
    {
     "name": "stderr",
     "output_type": "stream",
     "text": [
      "Epoch 1212/3000: 100%|██████████| 1/1 [00:00<00:00, 40.81it/s]\n",
      "Epoch 1213/3000: 100%|██████████| 1/1 [00:00<00:00, 44.56it/s]\n",
      "Validation: 100%|██████████| 1/1 [00:00<00:00, 52.15it/s]\n"
     ]
    },
    {
     "name": "stdout",
     "output_type": "stream",
     "text": [
      "Epoch: 1213, Train Loss: 45.0840, \n",
      "Validation Loss: 26.5093\n"
     ]
    },
    {
     "name": "stderr",
     "output_type": "stream",
     "text": [
      "Epoch 1214/3000: 100%|██████████| 1/1 [00:00<00:00, 34.87it/s]\n",
      "Epoch 1215/3000: 100%|██████████| 1/1 [00:00<00:00, 39.22it/s]\n",
      "Validation: 100%|██████████| 1/1 [00:00<00:00, 53.61it/s]\n"
     ]
    },
    {
     "name": "stdout",
     "output_type": "stream",
     "text": [
      "Epoch: 1215, Train Loss: 43.9542, \n",
      "Validation Loss: 33.1843\n"
     ]
    },
    {
     "name": "stderr",
     "output_type": "stream",
     "text": [
      "Epoch 1216/3000: 100%|██████████| 1/1 [00:00<00:00, 40.65it/s]\n",
      "Epoch 1217/3000: 100%|██████████| 1/1 [00:00<00:00, 42.16it/s]\n",
      "Validation: 100%|██████████| 1/1 [00:00<00:00, 50.37it/s]\n"
     ]
    },
    {
     "name": "stdout",
     "output_type": "stream",
     "text": [
      "Epoch: 1217, Train Loss: 51.9493, \n",
      "Validation Loss: 31.3040\n"
     ]
    },
    {
     "name": "stderr",
     "output_type": "stream",
     "text": [
      "Epoch 1218/3000: 100%|██████████| 1/1 [00:00<00:00, 41.07it/s]\n",
      "Epoch 1219/3000: 100%|██████████| 1/1 [00:00<00:00, 38.87it/s]\n",
      "Validation: 100%|██████████| 1/1 [00:00<00:00, 49.95it/s]\n"
     ]
    },
    {
     "name": "stdout",
     "output_type": "stream",
     "text": [
      "Epoch: 1219, Train Loss: 30.4123, \n",
      "Validation Loss: 35.1264\n"
     ]
    },
    {
     "name": "stderr",
     "output_type": "stream",
     "text": [
      "Epoch 1220/3000: 100%|██████████| 1/1 [00:00<00:00, 36.06it/s]\n",
      "Epoch 1221/3000: 100%|██████████| 1/1 [00:00<00:00, 39.52it/s]\n",
      "Validation: 100%|██████████| 1/1 [00:00<00:00, 48.28it/s]\n"
     ]
    },
    {
     "name": "stdout",
     "output_type": "stream",
     "text": [
      "Epoch: 1221, Train Loss: 57.7476, \n",
      "Validation Loss: 30.4049\n"
     ]
    },
    {
     "name": "stderr",
     "output_type": "stream",
     "text": [
      "Epoch 1222/3000: 100%|██████████| 1/1 [00:00<00:00, 40.37it/s]\n",
      "Epoch 1223/3000: 100%|██████████| 1/1 [00:00<00:00, 41.39it/s]\n",
      "Validation: 100%|██████████| 1/1 [00:00<00:00, 50.70it/s]\n"
     ]
    },
    {
     "name": "stdout",
     "output_type": "stream",
     "text": [
      "Epoch: 1223, Train Loss: 52.8381, \n",
      "Validation Loss: 21.2900\n"
     ]
    },
    {
     "name": "stderr",
     "output_type": "stream",
     "text": [
      "Epoch 1224/3000: 100%|██████████| 1/1 [00:00<00:00, 38.65it/s]\n",
      "Epoch 1225/3000: 100%|██████████| 1/1 [00:00<00:00, 40.41it/s]\n",
      "Validation: 100%|██████████| 1/1 [00:00<00:00, 46.69it/s]\n"
     ]
    },
    {
     "name": "stdout",
     "output_type": "stream",
     "text": [
      "Epoch: 1225, Train Loss: 68.5247, \n",
      "Validation Loss: 24.5951\n"
     ]
    },
    {
     "name": "stderr",
     "output_type": "stream",
     "text": [
      "Epoch 1226/3000: 100%|██████████| 1/1 [00:00<00:00, 40.81it/s]\n",
      "Epoch 1227/3000: 100%|██████████| 1/1 [00:00<00:00, 40.19it/s]\n",
      "Validation: 100%|██████████| 1/1 [00:00<00:00, 51.52it/s]\n"
     ]
    },
    {
     "name": "stdout",
     "output_type": "stream",
     "text": [
      "Epoch: 1227, Train Loss: 57.2206, \n",
      "Validation Loss: 22.8379\n"
     ]
    },
    {
     "name": "stderr",
     "output_type": "stream",
     "text": [
      "Epoch 1228/3000: 100%|██████████| 1/1 [00:00<00:00, 39.08it/s]\n",
      "Epoch 1229/3000: 100%|██████████| 1/1 [00:00<00:00, 43.66it/s]\n",
      "Validation: 100%|██████████| 1/1 [00:00<00:00, 49.21it/s]\n"
     ]
    },
    {
     "name": "stdout",
     "output_type": "stream",
     "text": [
      "Epoch: 1229, Train Loss: 34.4144, \n",
      "Validation Loss: 26.8943\n"
     ]
    },
    {
     "name": "stderr",
     "output_type": "stream",
     "text": [
      "Epoch 1230/3000: 100%|██████████| 1/1 [00:00<00:00, 39.70it/s]\n",
      "Epoch 1231/3000: 100%|██████████| 1/1 [00:00<00:00, 39.78it/s]\n",
      "Validation: 100%|██████████| 1/1 [00:00<00:00, 55.56it/s]\n"
     ]
    },
    {
     "name": "stdout",
     "output_type": "stream",
     "text": [
      "Epoch: 1231, Train Loss: 63.8620, \n",
      "Validation Loss: 28.5450\n"
     ]
    },
    {
     "name": "stderr",
     "output_type": "stream",
     "text": [
      "Epoch 1232/3000: 100%|██████████| 1/1 [00:00<00:00, 35.98it/s]\n",
      "Epoch 1233/3000: 100%|██████████| 1/1 [00:00<00:00, 37.32it/s]\n",
      "Validation: 100%|██████████| 1/1 [00:00<00:00, 46.22it/s]\n"
     ]
    },
    {
     "name": "stdout",
     "output_type": "stream",
     "text": [
      "Epoch: 1233, Train Loss: 51.7374, \n",
      "Validation Loss: 23.0456\n"
     ]
    },
    {
     "name": "stderr",
     "output_type": "stream",
     "text": [
      "Epoch 1234/3000: 100%|██████████| 1/1 [00:00<00:00, 39.95it/s]\n",
      "Epoch 1235/3000: 100%|██████████| 1/1 [00:00<00:00, 37.97it/s]\n",
      "Validation: 100%|██████████| 1/1 [00:00<00:00, 49.66it/s]\n"
     ]
    },
    {
     "name": "stdout",
     "output_type": "stream",
     "text": [
      "Epoch: 1235, Train Loss: 62.3145, \n",
      "Validation Loss: 27.6159\n"
     ]
    },
    {
     "name": "stderr",
     "output_type": "stream",
     "text": [
      "Epoch 1236/3000: 100%|██████████| 1/1 [00:00<00:00, 37.76it/s]\n",
      "Epoch 1237/3000: 100%|██████████| 1/1 [00:00<00:00, 38.64it/s]\n",
      "Validation: 100%|██████████| 1/1 [00:00<00:00, 50.59it/s]\n"
     ]
    },
    {
     "name": "stdout",
     "output_type": "stream",
     "text": [
      "Epoch: 1237, Train Loss: 47.1215, \n",
      "Validation Loss: 23.4991\n"
     ]
    },
    {
     "name": "stderr",
     "output_type": "stream",
     "text": [
      "Epoch 1238/3000: 100%|██████████| 1/1 [00:00<00:00, 36.48it/s]\n",
      "Epoch 1239/3000: 100%|██████████| 1/1 [00:00<00:00, 38.25it/s]\n",
      "Validation: 100%|██████████| 1/1 [00:00<00:00, 49.45it/s]\n"
     ]
    },
    {
     "name": "stdout",
     "output_type": "stream",
     "text": [
      "Epoch: 1239, Train Loss: 50.8935, \n",
      "Validation Loss: 23.2027\n"
     ]
    },
    {
     "name": "stderr",
     "output_type": "stream",
     "text": [
      "Epoch 1240/3000: 100%|██████████| 1/1 [00:00<00:00, 40.89it/s]\n",
      "Epoch 1241/3000: 100%|██████████| 1/1 [00:00<00:00, 37.15it/s]\n",
      "Validation: 100%|██████████| 1/1 [00:00<00:00, 47.47it/s]\n"
     ]
    },
    {
     "name": "stdout",
     "output_type": "stream",
     "text": [
      "Epoch: 1241, Train Loss: 54.5761, \n",
      "Validation Loss: 31.9194\n"
     ]
    },
    {
     "name": "stderr",
     "output_type": "stream",
     "text": [
      "Epoch 1242/3000: 100%|██████████| 1/1 [00:00<00:00, 36.06it/s]\n",
      "Epoch 1243/3000: 100%|██████████| 1/1 [00:00<00:00, 39.85it/s]\n",
      "Validation: 100%|██████████| 1/1 [00:00<00:00, 49.72it/s]\n"
     ]
    },
    {
     "name": "stdout",
     "output_type": "stream",
     "text": [
      "Epoch: 1243, Train Loss: 89.4184, \n",
      "Validation Loss: 29.4784\n"
     ]
    },
    {
     "name": "stderr",
     "output_type": "stream",
     "text": [
      "Epoch 1244/3000: 100%|██████████| 1/1 [00:00<00:00, 33.75it/s]\n",
      "Epoch 1245/3000: 100%|██████████| 1/1 [00:00<00:00, 35.52it/s]\n",
      "Validation: 100%|██████████| 1/1 [00:00<00:00, 50.98it/s]\n"
     ]
    },
    {
     "name": "stdout",
     "output_type": "stream",
     "text": [
      "Epoch: 1245, Train Loss: 44.8948, \n",
      "Validation Loss: 22.8231\n"
     ]
    },
    {
     "name": "stderr",
     "output_type": "stream",
     "text": [
      "Epoch 1246/3000: 100%|██████████| 1/1 [00:00<00:00, 40.69it/s]\n",
      "Epoch 1247/3000: 100%|██████████| 1/1 [00:00<00:00, 40.30it/s]\n",
      "Validation: 100%|██████████| 1/1 [00:00<00:00, 48.82it/s]\n"
     ]
    },
    {
     "name": "stdout",
     "output_type": "stream",
     "text": [
      "Epoch: 1247, Train Loss: 53.5601, \n",
      "Validation Loss: 35.5256\n"
     ]
    },
    {
     "name": "stderr",
     "output_type": "stream",
     "text": [
      "Epoch 1248/3000: 100%|██████████| 1/1 [00:00<00:00, 38.17it/s]\n",
      "Epoch 1249/3000: 100%|██████████| 1/1 [00:00<00:00, 32.88it/s]\n",
      "Validation: 100%|██████████| 1/1 [00:00<00:00, 54.54it/s]\n"
     ]
    },
    {
     "name": "stdout",
     "output_type": "stream",
     "text": [
      "Epoch: 1249, Train Loss: 51.8294, \n",
      "Validation Loss: 32.3458\n"
     ]
    },
    {
     "name": "stderr",
     "output_type": "stream",
     "text": [
      "Epoch 1250/3000: 100%|██████████| 1/1 [00:00<00:00, 35.56it/s]\n",
      "Epoch 1251/3000: 100%|██████████| 1/1 [00:00<00:00, 39.29it/s]\n",
      "Validation: 100%|██████████| 1/1 [00:00<00:00, 51.65it/s]\n"
     ]
    },
    {
     "name": "stdout",
     "output_type": "stream",
     "text": [
      "Epoch: 1251, Train Loss: 85.0227, \n",
      "Validation Loss: 25.7286\n"
     ]
    },
    {
     "name": "stderr",
     "output_type": "stream",
     "text": [
      "Epoch 1252/3000: 100%|██████████| 1/1 [00:00<00:00, 39.74it/s]\n",
      "Epoch 1253/3000: 100%|██████████| 1/1 [00:00<00:00, 38.79it/s]\n",
      "Validation: 100%|██████████| 1/1 [00:00<00:00, 50.56it/s]\n"
     ]
    },
    {
     "name": "stdout",
     "output_type": "stream",
     "text": [
      "Epoch: 1253, Train Loss: 41.1302, \n",
      "Validation Loss: 33.0223\n"
     ]
    },
    {
     "name": "stderr",
     "output_type": "stream",
     "text": [
      "Epoch 1254/3000: 100%|██████████| 1/1 [00:00<00:00, 37.61it/s]\n",
      "Epoch 1255/3000: 100%|██████████| 1/1 [00:00<00:00, 42.51it/s]\n",
      "Validation: 100%|██████████| 1/1 [00:00<00:00, 52.61it/s]\n"
     ]
    },
    {
     "name": "stdout",
     "output_type": "stream",
     "text": [
      "Epoch: 1255, Train Loss: 63.6755, \n",
      "Validation Loss: 24.2113\n"
     ]
    },
    {
     "name": "stderr",
     "output_type": "stream",
     "text": [
      "Epoch 1256/3000: 100%|██████████| 1/1 [00:00<00:00, 39.25it/s]\n",
      "Epoch 1257/3000: 100%|██████████| 1/1 [00:00<00:00, 41.36it/s]\n",
      "Validation: 100%|██████████| 1/1 [00:00<00:00, 54.72it/s]\n"
     ]
    },
    {
     "name": "stdout",
     "output_type": "stream",
     "text": [
      "Epoch: 1257, Train Loss: 15.8454, \n",
      "Validation Loss: 24.8681\n"
     ]
    },
    {
     "name": "stderr",
     "output_type": "stream",
     "text": [
      "Epoch 1258/3000: 100%|██████████| 1/1 [00:00<00:00, 30.17it/s]\n",
      "Epoch 1259/3000: 100%|██████████| 1/1 [00:00<00:00, 39.00it/s]\n",
      "Validation: 100%|██████████| 1/1 [00:00<00:00, 50.52it/s]\n"
     ]
    },
    {
     "name": "stdout",
     "output_type": "stream",
     "text": [
      "Epoch: 1259, Train Loss: 46.9798, \n",
      "Validation Loss: 29.3033\n"
     ]
    },
    {
     "name": "stderr",
     "output_type": "stream",
     "text": [
      "Epoch 1260/3000: 100%|██████████| 1/1 [00:00<00:00, 40.31it/s]\n",
      "Epoch 1261/3000: 100%|██████████| 1/1 [00:00<00:00, 38.91it/s]\n",
      "Validation: 100%|██████████| 1/1 [00:00<00:00, 39.56it/s]\n"
     ]
    },
    {
     "name": "stdout",
     "output_type": "stream",
     "text": [
      "Epoch: 1261, Train Loss: 48.9208, \n",
      "Validation Loss: 21.7236\n"
     ]
    },
    {
     "name": "stderr",
     "output_type": "stream",
     "text": [
      "Epoch 1262/3000: 100%|██████████| 1/1 [00:00<00:00, 34.00it/s]\n",
      "Epoch 1263/3000: 100%|██████████| 1/1 [00:00<00:00, 41.61it/s]\n",
      "Validation: 100%|██████████| 1/1 [00:00<00:00, 49.39it/s]\n"
     ]
    },
    {
     "name": "stdout",
     "output_type": "stream",
     "text": [
      "Epoch: 1263, Train Loss: 67.6520, \n",
      "Validation Loss: 23.1442\n"
     ]
    },
    {
     "name": "stderr",
     "output_type": "stream",
     "text": [
      "Epoch 1264/3000: 100%|██████████| 1/1 [00:00<00:00, 42.53it/s]\n",
      "Epoch 1265/3000: 100%|██████████| 1/1 [00:00<00:00, 38.65it/s]\n",
      "Validation: 100%|██████████| 1/1 [00:00<00:00, 51.57it/s]\n"
     ]
    },
    {
     "name": "stdout",
     "output_type": "stream",
     "text": [
      "Epoch: 1265, Train Loss: 56.6753, \n",
      "Validation Loss: 25.7449\n"
     ]
    },
    {
     "name": "stderr",
     "output_type": "stream",
     "text": [
      "Epoch 1266/3000: 100%|██████████| 1/1 [00:00<00:00, 34.78it/s]\n",
      "Epoch 1267/3000: 100%|██████████| 1/1 [00:00<00:00, 41.98it/s]\n",
      "Validation: 100%|██████████| 1/1 [00:00<00:00, 44.61it/s]\n"
     ]
    },
    {
     "name": "stdout",
     "output_type": "stream",
     "text": [
      "Epoch: 1267, Train Loss: 42.3188, \n",
      "Validation Loss: 23.8099\n"
     ]
    },
    {
     "name": "stderr",
     "output_type": "stream",
     "text": [
      "Epoch 1268/3000: 100%|██████████| 1/1 [00:00<00:00, 35.14it/s]\n",
      "Epoch 1269/3000: 100%|██████████| 1/1 [00:00<00:00, 39.46it/s]\n",
      "Validation: 100%|██████████| 1/1 [00:00<00:00, 51.22it/s]\n"
     ]
    },
    {
     "name": "stdout",
     "output_type": "stream",
     "text": [
      "Epoch: 1269, Train Loss: 36.5540, \n",
      "Validation Loss: 32.8775\n"
     ]
    },
    {
     "name": "stderr",
     "output_type": "stream",
     "text": [
      "Epoch 1270/3000: 100%|██████████| 1/1 [00:00<00:00, 41.88it/s]\n",
      "Epoch 1271/3000: 100%|██████████| 1/1 [00:00<00:00, 40.29it/s]\n",
      "Validation: 100%|██████████| 1/1 [00:00<00:00, 51.60it/s]\n"
     ]
    },
    {
     "name": "stdout",
     "output_type": "stream",
     "text": [
      "Epoch: 1271, Train Loss: 32.7941, \n",
      "Validation Loss: 33.1860\n"
     ]
    },
    {
     "name": "stderr",
     "output_type": "stream",
     "text": [
      "Epoch 1272/3000: 100%|██████████| 1/1 [00:00<00:00, 39.08it/s]\n",
      "Epoch 1273/3000: 100%|██████████| 1/1 [00:00<00:00, 39.20it/s]\n",
      "Validation: 100%|██████████| 1/1 [00:00<00:00, 50.21it/s]\n"
     ]
    },
    {
     "name": "stdout",
     "output_type": "stream",
     "text": [
      "Epoch: 1273, Train Loss: 64.4714, \n",
      "Validation Loss: 24.3505\n"
     ]
    },
    {
     "name": "stderr",
     "output_type": "stream",
     "text": [
      "Epoch 1274/3000: 100%|██████████| 1/1 [00:00<00:00, 36.94it/s]\n",
      "Epoch 1275/3000: 100%|██████████| 1/1 [00:00<00:00, 39.19it/s]\n",
      "Validation: 100%|██████████| 1/1 [00:00<00:00, 48.70it/s]\n"
     ]
    },
    {
     "name": "stdout",
     "output_type": "stream",
     "text": [
      "Epoch: 1275, Train Loss: 61.6355, \n",
      "Validation Loss: 31.4984\n"
     ]
    },
    {
     "name": "stderr",
     "output_type": "stream",
     "text": [
      "Epoch 1276/3000: 100%|██████████| 1/1 [00:00<00:00, 36.46it/s]\n",
      "Epoch 1277/3000: 100%|██████████| 1/1 [00:00<00:00, 37.99it/s]\n",
      "Validation: 100%|██████████| 1/1 [00:00<00:00, 51.12it/s]\n"
     ]
    },
    {
     "name": "stdout",
     "output_type": "stream",
     "text": [
      "Epoch: 1277, Train Loss: 101.3542, \n",
      "Validation Loss: 35.7347\n"
     ]
    },
    {
     "name": "stderr",
     "output_type": "stream",
     "text": [
      "Epoch 1278/3000: 100%|██████████| 1/1 [00:00<00:00, 40.15it/s]\n",
      "Epoch 1279/3000: 100%|██████████| 1/1 [00:00<00:00, 40.47it/s]\n",
      "Validation: 100%|██████████| 1/1 [00:00<00:00, 48.13it/s]\n"
     ]
    },
    {
     "name": "stdout",
     "output_type": "stream",
     "text": [
      "Epoch: 1279, Train Loss: 64.6854, \n",
      "Validation Loss: 25.1438\n"
     ]
    },
    {
     "name": "stderr",
     "output_type": "stream",
     "text": [
      "Epoch 1280/3000: 100%|██████████| 1/1 [00:00<00:00, 37.92it/s]\n",
      "Epoch 1281/3000: 100%|██████████| 1/1 [00:00<00:00, 39.60it/s]\n",
      "Validation: 100%|██████████| 1/1 [00:00<00:00, 51.81it/s]\n"
     ]
    },
    {
     "name": "stdout",
     "output_type": "stream",
     "text": [
      "Epoch: 1281, Train Loss: 43.0795, \n",
      "Validation Loss: 32.0588\n"
     ]
    },
    {
     "name": "stderr",
     "output_type": "stream",
     "text": [
      "Epoch 1282/3000: 100%|██████████| 1/1 [00:00<00:00, 38.18it/s]\n",
      "Epoch 1283/3000: 100%|██████████| 1/1 [00:00<00:00, 40.97it/s]\n",
      "Validation: 100%|██████████| 1/1 [00:00<00:00, 52.44it/s]\n"
     ]
    },
    {
     "name": "stdout",
     "output_type": "stream",
     "text": [
      "Epoch: 1283, Train Loss: 23.2308, \n",
      "Validation Loss: 36.5821\n"
     ]
    },
    {
     "name": "stderr",
     "output_type": "stream",
     "text": [
      "Epoch 1284/3000: 100%|██████████| 1/1 [00:00<00:00, 40.31it/s]\n",
      "Epoch 1285/3000: 100%|██████████| 1/1 [00:00<00:00, 41.15it/s]\n",
      "Validation: 100%|██████████| 1/1 [00:00<00:00, 48.71it/s]\n"
     ]
    },
    {
     "name": "stdout",
     "output_type": "stream",
     "text": [
      "Epoch: 1285, Train Loss: 54.0314, \n",
      "Validation Loss: 29.9115\n"
     ]
    },
    {
     "name": "stderr",
     "output_type": "stream",
     "text": [
      "Epoch 1286/3000: 100%|██████████| 1/1 [00:00<00:00, 36.68it/s]\n",
      "Epoch 1287/3000: 100%|██████████| 1/1 [00:00<00:00, 38.63it/s]\n",
      "Validation: 100%|██████████| 1/1 [00:00<00:00, 55.40it/s]\n"
     ]
    },
    {
     "name": "stdout",
     "output_type": "stream",
     "text": [
      "Epoch: 1287, Train Loss: 44.1937, \n",
      "Validation Loss: 31.7341\n"
     ]
    },
    {
     "name": "stderr",
     "output_type": "stream",
     "text": [
      "Epoch 1288/3000: 100%|██████████| 1/1 [00:00<00:00, 41.57it/s]\n",
      "Epoch 1289/3000: 100%|██████████| 1/1 [00:00<00:00, 38.18it/s]\n",
      "Validation: 100%|██████████| 1/1 [00:00<00:00, 51.41it/s]\n"
     ]
    },
    {
     "name": "stdout",
     "output_type": "stream",
     "text": [
      "Epoch: 1289, Train Loss: 36.8562, \n",
      "Validation Loss: 29.0558\n"
     ]
    },
    {
     "name": "stderr",
     "output_type": "stream",
     "text": [
      "Epoch 1290/3000: 100%|██████████| 1/1 [00:00<00:00, 41.11it/s]\n",
      "Epoch 1291/3000: 100%|██████████| 1/1 [00:00<00:00, 41.73it/s]\n",
      "Validation: 100%|██████████| 1/1 [00:00<00:00, 48.60it/s]\n"
     ]
    },
    {
     "name": "stdout",
     "output_type": "stream",
     "text": [
      "Epoch: 1291, Train Loss: 46.9014, \n",
      "Validation Loss: 34.4108\n"
     ]
    },
    {
     "name": "stderr",
     "output_type": "stream",
     "text": [
      "Epoch 1292/3000: 100%|██████████| 1/1 [00:00<00:00, 35.29it/s]\n",
      "Epoch 1293/3000: 100%|██████████| 1/1 [00:00<00:00, 38.79it/s]\n",
      "Validation: 100%|██████████| 1/1 [00:00<00:00, 39.98it/s]\n"
     ]
    },
    {
     "name": "stdout",
     "output_type": "stream",
     "text": [
      "Epoch: 1293, Train Loss: 50.2431, \n",
      "Validation Loss: 39.8977\n"
     ]
    },
    {
     "name": "stderr",
     "output_type": "stream",
     "text": [
      "Epoch 1294/3000: 100%|██████████| 1/1 [00:00<00:00, 35.96it/s]\n",
      "Epoch 1295/3000: 100%|██████████| 1/1 [00:00<00:00, 40.88it/s]\n",
      "Validation: 100%|██████████| 1/1 [00:00<00:00, 51.40it/s]\n"
     ]
    },
    {
     "name": "stdout",
     "output_type": "stream",
     "text": [
      "Epoch: 1295, Train Loss: 83.0331, \n",
      "Validation Loss: 26.5916\n"
     ]
    },
    {
     "name": "stderr",
     "output_type": "stream",
     "text": [
      "Epoch 1296/3000: 100%|██████████| 1/1 [00:00<00:00, 38.10it/s]\n",
      "Epoch 1297/3000: 100%|██████████| 1/1 [00:00<00:00, 38.49it/s]\n",
      "Validation: 100%|██████████| 1/1 [00:00<00:00, 47.31it/s]\n"
     ]
    },
    {
     "name": "stdout",
     "output_type": "stream",
     "text": [
      "Epoch: 1297, Train Loss: 50.0847, \n",
      "Validation Loss: 29.8745\n"
     ]
    },
    {
     "name": "stderr",
     "output_type": "stream",
     "text": [
      "Epoch 1298/3000: 100%|██████████| 1/1 [00:00<00:00, 35.93it/s]\n",
      "Epoch 1299/3000: 100%|██████████| 1/1 [00:00<00:00, 41.17it/s]\n",
      "Validation: 100%|██████████| 1/1 [00:00<00:00, 51.93it/s]\n"
     ]
    },
    {
     "name": "stdout",
     "output_type": "stream",
     "text": [
      "Epoch: 1299, Train Loss: 28.7586, \n",
      "Validation Loss: 23.7684\n"
     ]
    },
    {
     "name": "stderr",
     "output_type": "stream",
     "text": [
      "Epoch 1300/3000: 100%|██████████| 1/1 [00:00<00:00, 38.76it/s]\n",
      "Epoch 1301/3000: 100%|██████████| 1/1 [00:00<00:00, 36.13it/s]\n",
      "Validation: 100%|██████████| 1/1 [00:00<00:00, 50.26it/s]\n"
     ]
    },
    {
     "name": "stdout",
     "output_type": "stream",
     "text": [
      "Epoch: 1301, Train Loss: 49.7413, \n",
      "Validation Loss: 21.1247\n"
     ]
    },
    {
     "name": "stderr",
     "output_type": "stream",
     "text": [
      "Epoch 1302/3000: 100%|██████████| 1/1 [00:00<00:00, 37.49it/s]\n",
      "Epoch 1303/3000: 100%|██████████| 1/1 [00:00<00:00, 34.88it/s]\n",
      "Validation: 100%|██████████| 1/1 [00:00<00:00, 51.26it/s]\n"
     ]
    },
    {
     "name": "stdout",
     "output_type": "stream",
     "text": [
      "Epoch: 1303, Train Loss: 56.1342, \n",
      "Validation Loss: 28.8668\n"
     ]
    },
    {
     "name": "stderr",
     "output_type": "stream",
     "text": [
      "Epoch 1304/3000: 100%|██████████| 1/1 [00:00<00:00, 33.79it/s]\n",
      "Epoch 1305/3000: 100%|██████████| 1/1 [00:00<00:00, 40.29it/s]\n",
      "Validation: 100%|██████████| 1/1 [00:00<00:00, 55.49it/s]\n"
     ]
    },
    {
     "name": "stdout",
     "output_type": "stream",
     "text": [
      "Epoch: 1305, Train Loss: 46.6946, \n",
      "Validation Loss: 28.6641\n"
     ]
    },
    {
     "name": "stderr",
     "output_type": "stream",
     "text": [
      "Epoch 1306/3000: 100%|██████████| 1/1 [00:00<00:00, 38.96it/s]\n",
      "Epoch 1307/3000: 100%|██████████| 1/1 [00:00<00:00, 40.31it/s]\n",
      "Validation: 100%|██████████| 1/1 [00:00<00:00, 51.25it/s]\n"
     ]
    },
    {
     "name": "stdout",
     "output_type": "stream",
     "text": [
      "Epoch: 1307, Train Loss: 43.2979, \n",
      "Validation Loss: 27.3279\n"
     ]
    },
    {
     "name": "stderr",
     "output_type": "stream",
     "text": [
      "Epoch 1308/3000: 100%|██████████| 1/1 [00:00<00:00, 39.47it/s]\n",
      "Epoch 1309/3000: 100%|██████████| 1/1 [00:00<00:00, 37.61it/s]\n",
      "Validation: 100%|██████████| 1/1 [00:00<00:00, 51.22it/s]\n"
     ]
    },
    {
     "name": "stdout",
     "output_type": "stream",
     "text": [
      "Epoch: 1309, Train Loss: 38.1487, \n",
      "Validation Loss: 34.0989\n"
     ]
    },
    {
     "name": "stderr",
     "output_type": "stream",
     "text": [
      "Epoch 1310/3000: 100%|██████████| 1/1 [00:00<00:00, 37.75it/s]\n",
      "Epoch 1311/3000: 100%|██████████| 1/1 [00:00<00:00, 43.51it/s]\n",
      "Validation: 100%|██████████| 1/1 [00:00<00:00, 51.07it/s]\n"
     ]
    },
    {
     "name": "stdout",
     "output_type": "stream",
     "text": [
      "Epoch: 1311, Train Loss: 99.6963, \n",
      "Validation Loss: 40.1836\n"
     ]
    },
    {
     "name": "stderr",
     "output_type": "stream",
     "text": [
      "Epoch 1312/3000: 100%|██████████| 1/1 [00:00<00:00, 38.07it/s]\n",
      "Epoch 1313/3000: 100%|██████████| 1/1 [00:00<00:00, 37.58it/s]\n",
      "Validation: 100%|██████████| 1/1 [00:00<00:00, 55.23it/s]\n"
     ]
    },
    {
     "name": "stdout",
     "output_type": "stream",
     "text": [
      "Epoch: 1313, Train Loss: 39.0882, \n",
      "Validation Loss: 24.2741\n"
     ]
    },
    {
     "name": "stderr",
     "output_type": "stream",
     "text": [
      "Epoch 1314/3000: 100%|██████████| 1/1 [00:00<00:00, 35.70it/s]\n",
      "Epoch 1315/3000: 100%|██████████| 1/1 [00:00<00:00, 40.44it/s]\n",
      "Validation: 100%|██████████| 1/1 [00:00<00:00, 47.24it/s]\n"
     ]
    },
    {
     "name": "stdout",
     "output_type": "stream",
     "text": [
      "Epoch: 1315, Train Loss: 21.1703, \n",
      "Validation Loss: 21.2901\n"
     ]
    },
    {
     "name": "stderr",
     "output_type": "stream",
     "text": [
      "Epoch 1316/3000: 100%|██████████| 1/1 [00:00<00:00, 36.32it/s]\n",
      "Epoch 1317/3000: 100%|██████████| 1/1 [00:00<00:00, 38.37it/s]\n",
      "Validation: 100%|██████████| 1/1 [00:00<00:00, 50.94it/s]\n"
     ]
    },
    {
     "name": "stdout",
     "output_type": "stream",
     "text": [
      "Epoch: 1317, Train Loss: 61.6374, \n",
      "Validation Loss: 21.5751\n"
     ]
    },
    {
     "name": "stderr",
     "output_type": "stream",
     "text": [
      "Epoch 1318/3000: 100%|██████████| 1/1 [00:00<00:00, 37.25it/s]\n",
      "Epoch 1319/3000: 100%|██████████| 1/1 [00:00<00:00, 37.58it/s]\n",
      "Validation: 100%|██████████| 1/1 [00:00<00:00, 49.54it/s]\n"
     ]
    },
    {
     "name": "stdout",
     "output_type": "stream",
     "text": [
      "Epoch: 1319, Train Loss: 54.3815, \n",
      "Validation Loss: 24.8598\n"
     ]
    },
    {
     "name": "stderr",
     "output_type": "stream",
     "text": [
      "Epoch 1320/3000: 100%|██████████| 1/1 [00:00<00:00, 38.42it/s]\n",
      "Epoch 1321/3000: 100%|██████████| 1/1 [00:00<00:00, 40.06it/s]\n",
      "Validation: 100%|██████████| 1/1 [00:00<00:00, 53.63it/s]\n"
     ]
    },
    {
     "name": "stdout",
     "output_type": "stream",
     "text": [
      "Epoch: 1321, Train Loss: 61.9545, \n",
      "Validation Loss: 35.8657\n"
     ]
    },
    {
     "name": "stderr",
     "output_type": "stream",
     "text": [
      "Epoch 1322/3000: 100%|██████████| 1/1 [00:00<00:00, 39.39it/s]\n",
      "Epoch 1323/3000: 100%|██████████| 1/1 [00:00<00:00, 39.84it/s]\n",
      "Validation: 100%|██████████| 1/1 [00:00<00:00, 50.17it/s]\n"
     ]
    },
    {
     "name": "stdout",
     "output_type": "stream",
     "text": [
      "Epoch: 1323, Train Loss: 55.3630, \n",
      "Validation Loss: 29.4358\n"
     ]
    },
    {
     "name": "stderr",
     "output_type": "stream",
     "text": [
      "Epoch 1324/3000: 100%|██████████| 1/1 [00:00<00:00, 38.12it/s]\n",
      "Epoch 1325/3000: 100%|██████████| 1/1 [00:00<00:00, 39.78it/s]\n",
      "Validation: 100%|██████████| 1/1 [00:00<00:00, 51.13it/s]\n"
     ]
    },
    {
     "name": "stdout",
     "output_type": "stream",
     "text": [
      "Epoch: 1325, Train Loss: 39.2504, \n",
      "Validation Loss: 25.7555\n"
     ]
    },
    {
     "name": "stderr",
     "output_type": "stream",
     "text": [
      "Epoch 1326/3000: 100%|██████████| 1/1 [00:00<00:00, 35.71it/s]\n",
      "Epoch 1327/3000: 100%|██████████| 1/1 [00:00<00:00, 35.65it/s]\n",
      "Validation: 100%|██████████| 1/1 [00:00<00:00, 51.03it/s]\n"
     ]
    },
    {
     "name": "stdout",
     "output_type": "stream",
     "text": [
      "Epoch: 1327, Train Loss: 49.8451, \n",
      "Validation Loss: 24.0526\n"
     ]
    },
    {
     "name": "stderr",
     "output_type": "stream",
     "text": [
      "Epoch 1328/3000: 100%|██████████| 1/1 [00:00<00:00, 37.79it/s]\n",
      "Epoch 1329/3000: 100%|██████████| 1/1 [00:00<00:00, 41.68it/s]\n",
      "Validation: 100%|██████████| 1/1 [00:00<00:00, 51.19it/s]\n"
     ]
    },
    {
     "name": "stdout",
     "output_type": "stream",
     "text": [
      "Epoch: 1329, Train Loss: 72.4975, \n",
      "Validation Loss: 23.8708\n"
     ]
    },
    {
     "name": "stderr",
     "output_type": "stream",
     "text": [
      "Epoch 1330/3000: 100%|██████████| 1/1 [00:00<00:00, 38.81it/s]\n",
      "Epoch 1331/3000: 100%|██████████| 1/1 [00:00<00:00, 38.70it/s]\n",
      "Validation: 100%|██████████| 1/1 [00:00<00:00, 50.78it/s]\n"
     ]
    },
    {
     "name": "stdout",
     "output_type": "stream",
     "text": [
      "Epoch: 1331, Train Loss: 57.6615, \n",
      "Validation Loss: 24.3466\n"
     ]
    },
    {
     "name": "stderr",
     "output_type": "stream",
     "text": [
      "Epoch 1332/3000: 100%|██████████| 1/1 [00:00<00:00, 37.16it/s]\n",
      "Epoch 1333/3000: 100%|██████████| 1/1 [00:00<00:00, 36.85it/s]\n",
      "Validation: 100%|██████████| 1/1 [00:00<00:00, 50.71it/s]\n"
     ]
    },
    {
     "name": "stdout",
     "output_type": "stream",
     "text": [
      "Epoch: 1333, Train Loss: 46.7747, \n",
      "Validation Loss: 21.7545\n"
     ]
    },
    {
     "name": "stderr",
     "output_type": "stream",
     "text": [
      "Epoch 1334/3000: 100%|██████████| 1/1 [00:00<00:00, 36.32it/s]\n",
      "Epoch 1335/3000: 100%|██████████| 1/1 [00:00<00:00, 30.73it/s]\n",
      "Validation: 100%|██████████| 1/1 [00:00<00:00, 50.02it/s]\n"
     ]
    },
    {
     "name": "stdout",
     "output_type": "stream",
     "text": [
      "Epoch: 1335, Train Loss: 27.3474, \n",
      "Validation Loss: 30.5667\n"
     ]
    },
    {
     "name": "stderr",
     "output_type": "stream",
     "text": [
      "Epoch 1336/3000: 100%|██████████| 1/1 [00:00<00:00, 39.90it/s]\n",
      "Epoch 1337/3000: 100%|██████████| 1/1 [00:00<00:00, 43.54it/s]\n",
      "Validation: 100%|██████████| 1/1 [00:00<00:00, 51.30it/s]\n"
     ]
    },
    {
     "name": "stdout",
     "output_type": "stream",
     "text": [
      "Epoch: 1337, Train Loss: 28.2224, \n",
      "Validation Loss: 35.4321\n"
     ]
    },
    {
     "name": "stderr",
     "output_type": "stream",
     "text": [
      "Epoch 1338/3000: 100%|██████████| 1/1 [00:00<00:00, 38.29it/s]\n",
      "Epoch 1339/3000: 100%|██████████| 1/1 [00:00<00:00, 39.31it/s]\n",
      "Validation: 100%|██████████| 1/1 [00:00<00:00, 54.24it/s]\n"
     ]
    },
    {
     "name": "stdout",
     "output_type": "stream",
     "text": [
      "Epoch: 1339, Train Loss: 62.2277, \n",
      "Validation Loss: 36.2983\n"
     ]
    },
    {
     "name": "stderr",
     "output_type": "stream",
     "text": [
      "Epoch 1340/3000: 100%|██████████| 1/1 [00:00<00:00, 41.49it/s]\n",
      "Epoch 1341/3000: 100%|██████████| 1/1 [00:00<00:00, 36.98it/s]\n",
      "Validation: 100%|██████████| 1/1 [00:00<00:00, 51.94it/s]\n"
     ]
    },
    {
     "name": "stdout",
     "output_type": "stream",
     "text": [
      "Epoch: 1341, Train Loss: 46.1122, \n",
      "Validation Loss: 35.6125\n"
     ]
    },
    {
     "name": "stderr",
     "output_type": "stream",
     "text": [
      "Epoch 1342/3000: 100%|██████████| 1/1 [00:00<00:00, 39.92it/s]\n",
      "Epoch 1343/3000: 100%|██████████| 1/1 [00:00<00:00, 40.37it/s]\n",
      "Validation: 100%|██████████| 1/1 [00:00<00:00, 43.55it/s]\n"
     ]
    },
    {
     "name": "stdout",
     "output_type": "stream",
     "text": [
      "Epoch: 1343, Train Loss: 47.2996, \n",
      "Validation Loss: 31.2933\n"
     ]
    },
    {
     "name": "stderr",
     "output_type": "stream",
     "text": [
      "Epoch 1344/3000: 100%|██████████| 1/1 [00:00<00:00, 40.66it/s]\n",
      "Epoch 1345/3000: 100%|██████████| 1/1 [00:00<00:00, 43.01it/s]\n",
      "Validation: 100%|██████████| 1/1 [00:00<00:00, 50.73it/s]\n"
     ]
    },
    {
     "name": "stdout",
     "output_type": "stream",
     "text": [
      "Epoch: 1345, Train Loss: 54.8616, \n",
      "Validation Loss: 36.4892\n"
     ]
    },
    {
     "name": "stderr",
     "output_type": "stream",
     "text": [
      "Epoch 1346/3000: 100%|██████████| 1/1 [00:00<00:00, 37.93it/s]\n",
      "Epoch 1347/3000: 100%|██████████| 1/1 [00:00<00:00, 39.98it/s]\n",
      "Validation: 100%|██████████| 1/1 [00:00<00:00, 55.28it/s]\n"
     ]
    },
    {
     "name": "stdout",
     "output_type": "stream",
     "text": [
      "Epoch: 1347, Train Loss: 41.4719, \n",
      "Validation Loss: 27.4350\n"
     ]
    },
    {
     "name": "stderr",
     "output_type": "stream",
     "text": [
      "Epoch 1348/3000: 100%|██████████| 1/1 [00:00<00:00, 34.74it/s]\n",
      "Epoch 1349/3000: 100%|██████████| 1/1 [00:00<00:00, 40.97it/s]\n",
      "Validation: 100%|██████████| 1/1 [00:00<00:00, 48.62it/s]\n"
     ]
    },
    {
     "name": "stdout",
     "output_type": "stream",
     "text": [
      "Epoch: 1349, Train Loss: 41.0872, \n",
      "Validation Loss: 24.6605\n"
     ]
    },
    {
     "name": "stderr",
     "output_type": "stream",
     "text": [
      "Epoch 1350/3000: 100%|██████████| 1/1 [00:00<00:00, 43.41it/s]\n",
      "Epoch 1351/3000: 100%|██████████| 1/1 [00:00<00:00, 34.91it/s]\n",
      "Validation: 100%|██████████| 1/1 [00:00<00:00, 49.87it/s]\n"
     ]
    },
    {
     "name": "stdout",
     "output_type": "stream",
     "text": [
      "Epoch: 1351, Train Loss: 46.0148, \n",
      "Validation Loss: 27.9687\n"
     ]
    },
    {
     "name": "stderr",
     "output_type": "stream",
     "text": [
      "Epoch 1352/3000: 100%|██████████| 1/1 [00:00<00:00, 37.27it/s]\n",
      "Epoch 1353/3000: 100%|██████████| 1/1 [00:00<00:00, 38.25it/s]\n",
      "Validation: 100%|██████████| 1/1 [00:00<00:00, 46.14it/s]\n"
     ]
    },
    {
     "name": "stdout",
     "output_type": "stream",
     "text": [
      "Epoch: 1353, Train Loss: 43.6262, \n",
      "Validation Loss: 28.0930\n"
     ]
    },
    {
     "name": "stderr",
     "output_type": "stream",
     "text": [
      "Epoch 1354/3000: 100%|██████████| 1/1 [00:00<00:00, 38.98it/s]\n",
      "Epoch 1355/3000: 100%|██████████| 1/1 [00:00<00:00, 41.00it/s]\n",
      "Validation: 100%|██████████| 1/1 [00:00<00:00, 52.23it/s]\n"
     ]
    },
    {
     "name": "stdout",
     "output_type": "stream",
     "text": [
      "Epoch: 1355, Train Loss: 50.4577, \n",
      "Validation Loss: 26.6506\n"
     ]
    },
    {
     "name": "stderr",
     "output_type": "stream",
     "text": [
      "Epoch 1356/3000: 100%|██████████| 1/1 [00:00<00:00, 39.01it/s]\n",
      "Epoch 1357/3000: 100%|██████████| 1/1 [00:00<00:00, 36.91it/s]\n",
      "Validation: 100%|██████████| 1/1 [00:00<00:00, 47.21it/s]\n"
     ]
    },
    {
     "name": "stdout",
     "output_type": "stream",
     "text": [
      "Epoch: 1357, Train Loss: 19.6361, \n",
      "Validation Loss: 26.3120\n"
     ]
    },
    {
     "name": "stderr",
     "output_type": "stream",
     "text": [
      "Epoch 1358/3000: 100%|██████████| 1/1 [00:00<00:00, 39.03it/s]\n",
      "Epoch 1359/3000: 100%|██████████| 1/1 [00:00<00:00, 36.59it/s]\n",
      "Validation: 100%|██████████| 1/1 [00:00<00:00, 51.60it/s]\n"
     ]
    },
    {
     "name": "stdout",
     "output_type": "stream",
     "text": [
      "Epoch: 1359, Train Loss: 28.1347, \n",
      "Validation Loss: 22.5264\n"
     ]
    },
    {
     "name": "stderr",
     "output_type": "stream",
     "text": [
      "Epoch 1360/3000: 100%|██████████| 1/1 [00:00<00:00, 39.80it/s]\n",
      "Epoch 1361/3000: 100%|██████████| 1/1 [00:00<00:00, 40.95it/s]\n",
      "Validation: 100%|██████████| 1/1 [00:00<00:00, 49.75it/s]\n"
     ]
    },
    {
     "name": "stdout",
     "output_type": "stream",
     "text": [
      "Epoch: 1361, Train Loss: 26.9180, \n",
      "Validation Loss: 27.4924\n"
     ]
    },
    {
     "name": "stderr",
     "output_type": "stream",
     "text": [
      "Epoch 1362/3000: 100%|██████████| 1/1 [00:00<00:00, 37.91it/s]\n",
      "Epoch 1363/3000: 100%|██████████| 1/1 [00:00<00:00, 38.59it/s]\n",
      "Validation: 100%|██████████| 1/1 [00:00<00:00, 50.65it/s]\n"
     ]
    },
    {
     "name": "stdout",
     "output_type": "stream",
     "text": [
      "Epoch: 1363, Train Loss: 62.3683, \n",
      "Validation Loss: 29.8682\n"
     ]
    },
    {
     "name": "stderr",
     "output_type": "stream",
     "text": [
      "Epoch 1364/3000: 100%|██████████| 1/1 [00:00<00:00, 34.78it/s]\n",
      "Epoch 1365/3000: 100%|██████████| 1/1 [00:00<00:00, 40.01it/s]\n",
      "Validation: 100%|██████████| 1/1 [00:00<00:00, 54.81it/s]\n"
     ]
    },
    {
     "name": "stdout",
     "output_type": "stream",
     "text": [
      "Epoch: 1365, Train Loss: 26.3313, \n",
      "Validation Loss: 27.2070\n"
     ]
    },
    {
     "name": "stderr",
     "output_type": "stream",
     "text": [
      "Epoch 1366/3000: 100%|██████████| 1/1 [00:00<00:00, 38.07it/s]\n",
      "Epoch 1367/3000: 100%|██████████| 1/1 [00:00<00:00, 41.81it/s]\n",
      "Validation: 100%|██████████| 1/1 [00:00<00:00, 52.30it/s]\n"
     ]
    },
    {
     "name": "stdout",
     "output_type": "stream",
     "text": [
      "Epoch: 1367, Train Loss: 33.6722, \n",
      "Validation Loss: 21.7683\n"
     ]
    },
    {
     "name": "stderr",
     "output_type": "stream",
     "text": [
      "Epoch 1368/3000: 100%|██████████| 1/1 [00:00<00:00, 41.20it/s]\n",
      "Epoch 1369/3000: 100%|██████████| 1/1 [00:00<00:00, 36.89it/s]\n",
      "Validation: 100%|██████████| 1/1 [00:00<00:00, 50.22it/s]\n"
     ]
    },
    {
     "name": "stdout",
     "output_type": "stream",
     "text": [
      "Epoch: 1369, Train Loss: 33.2988, \n",
      "Validation Loss: 31.4768\n"
     ]
    },
    {
     "name": "stderr",
     "output_type": "stream",
     "text": [
      "Epoch 1370/3000: 100%|██████████| 1/1 [00:00<00:00, 34.98it/s]\n",
      "Epoch 1371/3000: 100%|██████████| 1/1 [00:00<00:00, 35.29it/s]\n",
      "Validation: 100%|██████████| 1/1 [00:00<00:00, 46.29it/s]\n"
     ]
    },
    {
     "name": "stdout",
     "output_type": "stream",
     "text": [
      "Epoch: 1371, Train Loss: 40.5602, \n",
      "Validation Loss: 26.2231\n"
     ]
    },
    {
     "name": "stderr",
     "output_type": "stream",
     "text": [
      "Epoch 1372/3000: 100%|██████████| 1/1 [00:00<00:00, 36.03it/s]\n",
      "Epoch 1373/3000: 100%|██████████| 1/1 [00:00<00:00, 40.24it/s]\n",
      "Validation: 100%|██████████| 1/1 [00:00<00:00, 50.26it/s]\n"
     ]
    },
    {
     "name": "stdout",
     "output_type": "stream",
     "text": [
      "Epoch: 1373, Train Loss: 38.2322, \n",
      "Validation Loss: 22.0273\n"
     ]
    },
    {
     "name": "stderr",
     "output_type": "stream",
     "text": [
      "Epoch 1374/3000: 100%|██████████| 1/1 [00:00<00:00, 34.47it/s]\n",
      "Epoch 1375/3000: 100%|██████████| 1/1 [00:00<00:00, 39.60it/s]\n",
      "Validation: 100%|██████████| 1/1 [00:00<00:00, 48.98it/s]\n"
     ]
    },
    {
     "name": "stdout",
     "output_type": "stream",
     "text": [
      "Epoch: 1375, Train Loss: 25.5730, \n",
      "Validation Loss: 44.7533\n"
     ]
    },
    {
     "name": "stderr",
     "output_type": "stream",
     "text": [
      "Epoch 1376/3000: 100%|██████████| 1/1 [00:00<00:00, 35.88it/s]\n",
      "Epoch 1377/3000: 100%|██████████| 1/1 [00:00<00:00, 35.15it/s]\n",
      "Validation: 100%|██████████| 1/1 [00:00<00:00, 51.29it/s]\n"
     ]
    },
    {
     "name": "stdout",
     "output_type": "stream",
     "text": [
      "Epoch: 1377, Train Loss: 92.5382, \n",
      "Validation Loss: 27.7557\n"
     ]
    },
    {
     "name": "stderr",
     "output_type": "stream",
     "text": [
      "Epoch 1378/3000: 100%|██████████| 1/1 [00:00<00:00, 39.61it/s]\n",
      "Epoch 1379/3000: 100%|██████████| 1/1 [00:00<00:00, 41.04it/s]\n",
      "Validation: 100%|██████████| 1/1 [00:00<00:00, 51.75it/s]\n"
     ]
    },
    {
     "name": "stdout",
     "output_type": "stream",
     "text": [
      "Epoch: 1379, Train Loss: 37.6364, \n",
      "Validation Loss: 23.2343\n"
     ]
    },
    {
     "name": "stderr",
     "output_type": "stream",
     "text": [
      "Epoch 1380/3000: 100%|██████████| 1/1 [00:00<00:00, 38.13it/s]\n",
      "Epoch 1381/3000: 100%|██████████| 1/1 [00:00<00:00, 41.35it/s]\n",
      "Validation: 100%|██████████| 1/1 [00:00<00:00, 50.18it/s]\n"
     ]
    },
    {
     "name": "stdout",
     "output_type": "stream",
     "text": [
      "Epoch: 1381, Train Loss: 50.1391, \n",
      "Validation Loss: 28.3198\n"
     ]
    },
    {
     "name": "stderr",
     "output_type": "stream",
     "text": [
      "Epoch 1382/3000: 100%|██████████| 1/1 [00:00<00:00, 40.25it/s]\n",
      "Epoch 1383/3000: 100%|██████████| 1/1 [00:00<00:00, 39.81it/s]\n",
      "Validation: 100%|██████████| 1/1 [00:00<00:00, 55.17it/s]\n"
     ]
    },
    {
     "name": "stdout",
     "output_type": "stream",
     "text": [
      "Epoch: 1383, Train Loss: 31.9531, \n",
      "Validation Loss: 23.0337\n"
     ]
    },
    {
     "name": "stderr",
     "output_type": "stream",
     "text": [
      "Epoch 1384/3000: 100%|██████████| 1/1 [00:00<00:00, 37.26it/s]\n",
      "Epoch 1385/3000: 100%|██████████| 1/1 [00:00<00:00, 39.09it/s]\n",
      "Validation: 100%|██████████| 1/1 [00:00<00:00, 51.18it/s]\n"
     ]
    },
    {
     "name": "stdout",
     "output_type": "stream",
     "text": [
      "Epoch: 1385, Train Loss: 31.9956, \n",
      "Validation Loss: 23.3432\n"
     ]
    },
    {
     "name": "stderr",
     "output_type": "stream",
     "text": [
      "Epoch 1386/3000: 100%|██████████| 1/1 [00:00<00:00, 43.65it/s]\n",
      "Epoch 1387/3000: 100%|██████████| 1/1 [00:00<00:00, 40.49it/s]\n",
      "Validation: 100%|██████████| 1/1 [00:00<00:00, 52.20it/s]\n"
     ]
    },
    {
     "name": "stdout",
     "output_type": "stream",
     "text": [
      "Epoch: 1387, Train Loss: 38.5732, \n",
      "Validation Loss: 20.8738\n"
     ]
    },
    {
     "name": "stderr",
     "output_type": "stream",
     "text": [
      "Epoch 1388/3000: 100%|██████████| 1/1 [00:00<00:00, 41.00it/s]\n",
      "Epoch 1389/3000: 100%|██████████| 1/1 [00:00<00:00, 40.35it/s]\n",
      "Validation: 100%|██████████| 1/1 [00:00<00:00, 42.62it/s]\n"
     ]
    },
    {
     "name": "stdout",
     "output_type": "stream",
     "text": [
      "Epoch: 1389, Train Loss: 37.0538, \n",
      "Validation Loss: 25.2735\n"
     ]
    },
    {
     "name": "stderr",
     "output_type": "stream",
     "text": [
      "Epoch 1390/3000: 100%|██████████| 1/1 [00:00<00:00, 40.34it/s]\n",
      "Epoch 1391/3000: 100%|██████████| 1/1 [00:00<00:00, 39.56it/s]\n",
      "Validation: 100%|██████████| 1/1 [00:00<00:00, 55.54it/s]\n"
     ]
    },
    {
     "name": "stdout",
     "output_type": "stream",
     "text": [
      "Epoch: 1391, Train Loss: 26.2718, \n",
      "Validation Loss: 33.8245\n"
     ]
    },
    {
     "name": "stderr",
     "output_type": "stream",
     "text": [
      "Epoch 1392/3000: 100%|██████████| 1/1 [00:00<00:00, 39.55it/s]\n",
      "Epoch 1393/3000: 100%|██████████| 1/1 [00:00<00:00, 37.95it/s]\n",
      "Validation: 100%|██████████| 1/1 [00:00<00:00, 47.53it/s]\n"
     ]
    },
    {
     "name": "stdout",
     "output_type": "stream",
     "text": [
      "Epoch: 1393, Train Loss: 43.3159, \n",
      "Validation Loss: 23.1863\n"
     ]
    },
    {
     "name": "stderr",
     "output_type": "stream",
     "text": [
      "Epoch 1394/3000: 100%|██████████| 1/1 [00:00<00:00, 43.26it/s]\n",
      "Epoch 1395/3000: 100%|██████████| 1/1 [00:00<00:00, 40.24it/s]\n",
      "Validation: 100%|██████████| 1/1 [00:00<00:00, 45.04it/s]\n"
     ]
    },
    {
     "name": "stdout",
     "output_type": "stream",
     "text": [
      "Epoch: 1395, Train Loss: 24.2167, \n",
      "Validation Loss: 36.6364\n"
     ]
    },
    {
     "name": "stderr",
     "output_type": "stream",
     "text": [
      "Epoch 1396/3000: 100%|██████████| 1/1 [00:00<00:00, 37.64it/s]\n",
      "Epoch 1397/3000: 100%|██████████| 1/1 [00:00<00:00, 41.51it/s]\n",
      "Validation: 100%|██████████| 1/1 [00:00<00:00, 47.88it/s]\n"
     ]
    },
    {
     "name": "stdout",
     "output_type": "stream",
     "text": [
      "Epoch: 1397, Train Loss: 37.9136, \n",
      "Validation Loss: 49.3054\n"
     ]
    },
    {
     "name": "stderr",
     "output_type": "stream",
     "text": [
      "Epoch 1398/3000: 100%|██████████| 1/1 [00:00<00:00, 34.14it/s]\n",
      "Epoch 1399/3000: 100%|██████████| 1/1 [00:00<00:00, 42.07it/s]\n",
      "Validation: 100%|██████████| 1/1 [00:00<00:00, 53.73it/s]\n"
     ]
    },
    {
     "name": "stdout",
     "output_type": "stream",
     "text": [
      "Epoch: 1399, Train Loss: 47.4331, \n",
      "Validation Loss: 26.7253\n"
     ]
    },
    {
     "name": "stderr",
     "output_type": "stream",
     "text": [
      "Epoch 1400/3000: 100%|██████████| 1/1 [00:00<00:00, 36.86it/s]\n",
      "Epoch 1401/3000: 100%|██████████| 1/1 [00:00<00:00, 39.19it/s]\n",
      "Validation: 100%|██████████| 1/1 [00:00<00:00, 51.30it/s]\n"
     ]
    },
    {
     "name": "stdout",
     "output_type": "stream",
     "text": [
      "Epoch: 1401, Train Loss: 32.1299, \n",
      "Validation Loss: 21.4959\n"
     ]
    },
    {
     "name": "stderr",
     "output_type": "stream",
     "text": [
      "Epoch 1402/3000: 100%|██████████| 1/1 [00:00<00:00, 43.61it/s]\n",
      "Epoch 1403/3000: 100%|██████████| 1/1 [00:00<00:00, 38.76it/s]\n",
      "Validation: 100%|██████████| 1/1 [00:00<00:00, 50.18it/s]\n"
     ]
    },
    {
     "name": "stdout",
     "output_type": "stream",
     "text": [
      "Epoch: 1403, Train Loss: 58.6279, \n",
      "Validation Loss: 33.6892\n"
     ]
    },
    {
     "name": "stderr",
     "output_type": "stream",
     "text": [
      "Epoch 1404/3000: 100%|██████████| 1/1 [00:00<00:00, 38.17it/s]\n",
      "Epoch 1405/3000: 100%|██████████| 1/1 [00:00<00:00, 43.09it/s]\n",
      "Validation: 100%|██████████| 1/1 [00:00<00:00, 50.92it/s]\n"
     ]
    },
    {
     "name": "stdout",
     "output_type": "stream",
     "text": [
      "Epoch: 1405, Train Loss: 44.1050, \n",
      "Validation Loss: 46.5048\n"
     ]
    },
    {
     "name": "stderr",
     "output_type": "stream",
     "text": [
      "Epoch 1406/3000: 100%|██████████| 1/1 [00:00<00:00, 40.38it/s]\n",
      "Epoch 1407/3000: 100%|██████████| 1/1 [00:00<00:00, 39.27it/s]\n",
      "Validation: 100%|██████████| 1/1 [00:00<00:00, 45.34it/s]\n"
     ]
    },
    {
     "name": "stdout",
     "output_type": "stream",
     "text": [
      "Epoch: 1407, Train Loss: 57.1485, \n",
      "Validation Loss: 40.0671\n"
     ]
    },
    {
     "name": "stderr",
     "output_type": "stream",
     "text": [
      "Epoch 1408/3000: 100%|██████████| 1/1 [00:00<00:00, 36.78it/s]\n",
      "Epoch 1409/3000: 100%|██████████| 1/1 [00:00<00:00, 41.03it/s]\n",
      "Validation: 100%|██████████| 1/1 [00:00<00:00, 52.54it/s]\n"
     ]
    },
    {
     "name": "stdout",
     "output_type": "stream",
     "text": [
      "Epoch: 1409, Train Loss: 43.1831, \n",
      "Validation Loss: 36.8230\n"
     ]
    },
    {
     "name": "stderr",
     "output_type": "stream",
     "text": [
      "Epoch 1410/3000: 100%|██████████| 1/1 [00:00<00:00, 39.11it/s]\n",
      "Epoch 1411/3000: 100%|██████████| 1/1 [00:00<00:00, 38.98it/s]\n",
      "Validation: 100%|██████████| 1/1 [00:00<00:00, 48.79it/s]\n"
     ]
    },
    {
     "name": "stdout",
     "output_type": "stream",
     "text": [
      "Epoch: 1411, Train Loss: 44.2189, \n",
      "Validation Loss: 31.0933\n"
     ]
    },
    {
     "name": "stderr",
     "output_type": "stream",
     "text": [
      "Epoch 1412/3000: 100%|██████████| 1/1 [00:00<00:00, 40.61it/s]\n",
      "Epoch 1413/3000: 100%|██████████| 1/1 [00:00<00:00, 43.56it/s]\n",
      "Validation: 100%|██████████| 1/1 [00:00<00:00, 50.22it/s]\n"
     ]
    },
    {
     "name": "stdout",
     "output_type": "stream",
     "text": [
      "Epoch: 1413, Train Loss: 50.3900, \n",
      "Validation Loss: 29.5824\n"
     ]
    },
    {
     "name": "stderr",
     "output_type": "stream",
     "text": [
      "Epoch 1414/3000: 100%|██████████| 1/1 [00:00<00:00, 39.54it/s]\n",
      "Epoch 1415/3000: 100%|██████████| 1/1 [00:00<00:00, 41.01it/s]\n",
      "Validation: 100%|██████████| 1/1 [00:00<00:00, 53.98it/s]\n"
     ]
    },
    {
     "name": "stdout",
     "output_type": "stream",
     "text": [
      "Epoch: 1415, Train Loss: 68.0015, \n",
      "Validation Loss: 25.7403\n"
     ]
    },
    {
     "name": "stderr",
     "output_type": "stream",
     "text": [
      "Epoch 1416/3000: 100%|██████████| 1/1 [00:00<00:00, 34.20it/s]\n",
      "Epoch 1417/3000: 100%|██████████| 1/1 [00:00<00:00, 37.12it/s]\n",
      "Validation: 100%|██████████| 1/1 [00:00<00:00, 51.72it/s]\n"
     ]
    },
    {
     "name": "stdout",
     "output_type": "stream",
     "text": [
      "Epoch: 1417, Train Loss: 76.4159, \n",
      "Validation Loss: 35.8548\n"
     ]
    },
    {
     "name": "stderr",
     "output_type": "stream",
     "text": [
      "Epoch 1418/3000: 100%|██████████| 1/1 [00:00<00:00, 43.01it/s]\n",
      "Epoch 1419/3000: 100%|██████████| 1/1 [00:00<00:00, 41.43it/s]\n",
      "Validation: 100%|██████████| 1/1 [00:00<00:00, 49.54it/s]\n"
     ]
    },
    {
     "name": "stdout",
     "output_type": "stream",
     "text": [
      "Epoch: 1419, Train Loss: 49.8003, \n",
      "Validation Loss: 34.5450\n"
     ]
    },
    {
     "name": "stderr",
     "output_type": "stream",
     "text": [
      "Epoch 1420/3000: 100%|██████████| 1/1 [00:00<00:00, 34.38it/s]\n",
      "Epoch 1421/3000: 100%|██████████| 1/1 [00:00<00:00, 40.67it/s]\n",
      "Validation: 100%|██████████| 1/1 [00:00<00:00, 51.90it/s]\n"
     ]
    },
    {
     "name": "stdout",
     "output_type": "stream",
     "text": [
      "Epoch: 1421, Train Loss: 40.8660, \n",
      "Validation Loss: 32.1301\n"
     ]
    },
    {
     "name": "stderr",
     "output_type": "stream",
     "text": [
      "Epoch 1422/3000: 100%|██████████| 1/1 [00:00<00:00, 38.82it/s]\n",
      "Epoch 1423/3000: 100%|██████████| 1/1 [00:00<00:00, 37.97it/s]\n",
      "Validation: 100%|██████████| 1/1 [00:00<00:00, 50.75it/s]\n"
     ]
    },
    {
     "name": "stdout",
     "output_type": "stream",
     "text": [
      "Epoch: 1423, Train Loss: 42.3990, \n",
      "Validation Loss: 29.3085\n"
     ]
    },
    {
     "name": "stderr",
     "output_type": "stream",
     "text": [
      "Epoch 1424/3000: 100%|██████████| 1/1 [00:00<00:00, 40.14it/s]\n",
      "Epoch 1425/3000: 100%|██████████| 1/1 [00:00<00:00, 41.52it/s]\n",
      "Validation: 100%|██████████| 1/1 [00:00<00:00, 52.58it/s]\n"
     ]
    },
    {
     "name": "stdout",
     "output_type": "stream",
     "text": [
      "Epoch: 1425, Train Loss: 24.0194, \n",
      "Validation Loss: 29.7622\n"
     ]
    },
    {
     "name": "stderr",
     "output_type": "stream",
     "text": [
      "Epoch 1426/3000: 100%|██████████| 1/1 [00:00<00:00, 41.08it/s]\n",
      "Epoch 1427/3000: 100%|██████████| 1/1 [00:00<00:00, 36.13it/s]\n",
      "Validation: 100%|██████████| 1/1 [00:00<00:00, 45.85it/s]\n"
     ]
    },
    {
     "name": "stdout",
     "output_type": "stream",
     "text": [
      "Epoch: 1427, Train Loss: 38.0268, \n",
      "Validation Loss: 25.7468\n"
     ]
    },
    {
     "name": "stderr",
     "output_type": "stream",
     "text": [
      "Epoch 1428/3000: 100%|██████████| 1/1 [00:00<00:00, 40.74it/s]\n",
      "Epoch 1429/3000: 100%|██████████| 1/1 [00:00<00:00, 41.47it/s]\n",
      "Validation: 100%|██████████| 1/1 [00:00<00:00, 52.71it/s]\n"
     ]
    },
    {
     "name": "stdout",
     "output_type": "stream",
     "text": [
      "Epoch: 1429, Train Loss: 38.3414, \n",
      "Validation Loss: 26.3306\n"
     ]
    },
    {
     "name": "stderr",
     "output_type": "stream",
     "text": [
      "Epoch 1430/3000: 100%|██████████| 1/1 [00:00<00:00, 38.56it/s]\n",
      "Epoch 1431/3000: 100%|██████████| 1/1 [00:00<00:00, 34.53it/s]\n",
      "Validation: 100%|██████████| 1/1 [00:00<00:00, 47.58it/s]\n"
     ]
    },
    {
     "name": "stdout",
     "output_type": "stream",
     "text": [
      "Epoch: 1431, Train Loss: 84.9543, \n",
      "Validation Loss: 28.2608\n"
     ]
    },
    {
     "name": "stderr",
     "output_type": "stream",
     "text": [
      "Epoch 1432/3000: 100%|██████████| 1/1 [00:00<00:00, 36.30it/s]\n",
      "Epoch 1433/3000: 100%|██████████| 1/1 [00:00<00:00, 37.24it/s]\n",
      "Validation: 100%|██████████| 1/1 [00:00<00:00, 54.64it/s]\n"
     ]
    },
    {
     "name": "stdout",
     "output_type": "stream",
     "text": [
      "Epoch: 1433, Train Loss: 51.8460, \n",
      "Validation Loss: 23.2450\n"
     ]
    },
    {
     "name": "stderr",
     "output_type": "stream",
     "text": [
      "Epoch 1434/3000: 100%|██████████| 1/1 [00:00<00:00, 36.94it/s]\n",
      "Epoch 1435/3000: 100%|██████████| 1/1 [00:00<00:00, 34.17it/s]\n",
      "Validation: 100%|██████████| 1/1 [00:00<00:00, 49.00it/s]\n"
     ]
    },
    {
     "name": "stdout",
     "output_type": "stream",
     "text": [
      "Epoch: 1435, Train Loss: 31.1938, \n",
      "Validation Loss: 24.5850\n"
     ]
    },
    {
     "name": "stderr",
     "output_type": "stream",
     "text": [
      "Epoch 1436/3000: 100%|██████████| 1/1 [00:00<00:00, 34.92it/s]\n",
      "Epoch 1437/3000: 100%|██████████| 1/1 [00:00<00:00, 41.27it/s]\n",
      "Validation: 100%|██████████| 1/1 [00:00<00:00, 47.45it/s]\n"
     ]
    },
    {
     "name": "stdout",
     "output_type": "stream",
     "text": [
      "Epoch: 1437, Train Loss: 40.3214, \n",
      "Validation Loss: 28.0868\n"
     ]
    },
    {
     "name": "stderr",
     "output_type": "stream",
     "text": [
      "Epoch 1438/3000: 100%|██████████| 1/1 [00:00<00:00, 36.94it/s]\n",
      "Epoch 1439/3000: 100%|██████████| 1/1 [00:00<00:00, 35.91it/s]\n",
      "Validation: 100%|██████████| 1/1 [00:00<00:00, 48.55it/s]\n"
     ]
    },
    {
     "name": "stdout",
     "output_type": "stream",
     "text": [
      "Epoch: 1439, Train Loss: 27.9951, \n",
      "Validation Loss: 21.2634\n"
     ]
    },
    {
     "name": "stderr",
     "output_type": "stream",
     "text": [
      "Epoch 1440/3000: 100%|██████████| 1/1 [00:00<00:00, 37.67it/s]\n",
      "Epoch 1441/3000: 100%|██████████| 1/1 [00:00<00:00, 39.95it/s]\n",
      "Validation: 100%|██████████| 1/1 [00:00<00:00, 42.62it/s]\n"
     ]
    },
    {
     "name": "stdout",
     "output_type": "stream",
     "text": [
      "Epoch: 1441, Train Loss: 44.7637, \n",
      "Validation Loss: 26.8043\n"
     ]
    },
    {
     "name": "stderr",
     "output_type": "stream",
     "text": [
      "Epoch 1442/3000: 100%|██████████| 1/1 [00:00<00:00, 36.90it/s]\n",
      "Epoch 1443/3000: 100%|██████████| 1/1 [00:00<00:00, 38.82it/s]\n",
      "Validation: 100%|██████████| 1/1 [00:00<00:00, 50.84it/s]\n"
     ]
    },
    {
     "name": "stdout",
     "output_type": "stream",
     "text": [
      "Epoch: 1443, Train Loss: 51.5005, \n",
      "Validation Loss: 38.1898\n"
     ]
    },
    {
     "name": "stderr",
     "output_type": "stream",
     "text": [
      "Epoch 1444/3000: 100%|██████████| 1/1 [00:00<00:00, 34.05it/s]\n",
      "Epoch 1445/3000: 100%|██████████| 1/1 [00:00<00:00, 39.85it/s]\n",
      "Validation: 100%|██████████| 1/1 [00:00<00:00, 43.11it/s]\n"
     ]
    },
    {
     "name": "stdout",
     "output_type": "stream",
     "text": [
      "Epoch: 1445, Train Loss: 33.6908, \n",
      "Validation Loss: 26.8961\n"
     ]
    },
    {
     "name": "stderr",
     "output_type": "stream",
     "text": [
      "Epoch 1446/3000: 100%|██████████| 1/1 [00:00<00:00, 36.23it/s]\n",
      "Epoch 1447/3000: 100%|██████████| 1/1 [00:00<00:00, 39.85it/s]\n",
      "Validation: 100%|██████████| 1/1 [00:00<00:00, 53.60it/s]\n"
     ]
    },
    {
     "name": "stdout",
     "output_type": "stream",
     "text": [
      "Epoch: 1447, Train Loss: 29.8323, \n",
      "Validation Loss: 29.4751\n"
     ]
    },
    {
     "name": "stderr",
     "output_type": "stream",
     "text": [
      "Epoch 1448/3000: 100%|██████████| 1/1 [00:00<00:00, 37.36it/s]\n",
      "Epoch 1449/3000: 100%|██████████| 1/1 [00:00<00:00, 38.50it/s]\n",
      "Validation: 100%|██████████| 1/1 [00:00<00:00, 51.47it/s]\n"
     ]
    },
    {
     "name": "stdout",
     "output_type": "stream",
     "text": [
      "Epoch: 1449, Train Loss: 29.6832, \n",
      "Validation Loss: 32.4000\n"
     ]
    },
    {
     "name": "stderr",
     "output_type": "stream",
     "text": [
      "Epoch 1450/3000: 100%|██████████| 1/1 [00:00<00:00, 34.54it/s]\n",
      "Epoch 1451/3000: 100%|██████████| 1/1 [00:00<00:00, 38.29it/s]\n",
      "Validation: 100%|██████████| 1/1 [00:00<00:00, 50.73it/s]\n"
     ]
    },
    {
     "name": "stdout",
     "output_type": "stream",
     "text": [
      "Epoch: 1451, Train Loss: 50.1995, \n",
      "Validation Loss: 21.4250\n"
     ]
    },
    {
     "name": "stderr",
     "output_type": "stream",
     "text": [
      "Epoch 1452/3000: 100%|██████████| 1/1 [00:00<00:00, 36.34it/s]\n",
      "Epoch 1453/3000: 100%|██████████| 1/1 [00:00<00:00, 43.43it/s]\n",
      "Validation: 100%|██████████| 1/1 [00:00<00:00, 51.43it/s]\n"
     ]
    },
    {
     "name": "stdout",
     "output_type": "stream",
     "text": [
      "Epoch: 1453, Train Loss: 34.6245, \n",
      "Validation Loss: 22.8648\n"
     ]
    },
    {
     "name": "stderr",
     "output_type": "stream",
     "text": [
      "Epoch 1454/3000: 100%|██████████| 1/1 [00:00<00:00, 40.72it/s]\n",
      "Epoch 1455/3000: 100%|██████████| 1/1 [00:00<00:00, 37.01it/s]\n",
      "Validation: 100%|██████████| 1/1 [00:00<00:00, 54.67it/s]\n"
     ]
    },
    {
     "name": "stdout",
     "output_type": "stream",
     "text": [
      "Epoch: 1455, Train Loss: 42.9202, \n",
      "Validation Loss: 24.2112\n"
     ]
    },
    {
     "name": "stderr",
     "output_type": "stream",
     "text": [
      "Epoch 1456/3000: 100%|██████████| 1/1 [00:00<00:00, 36.91it/s]\n",
      "Epoch 1457/3000: 100%|██████████| 1/1 [00:00<00:00, 40.88it/s]\n",
      "Validation: 100%|██████████| 1/1 [00:00<00:00, 51.23it/s]\n"
     ]
    },
    {
     "name": "stdout",
     "output_type": "stream",
     "text": [
      "Epoch: 1457, Train Loss: 29.2442, \n",
      "Validation Loss: 21.5085\n"
     ]
    },
    {
     "name": "stderr",
     "output_type": "stream",
     "text": [
      "Epoch 1458/3000: 100%|██████████| 1/1 [00:00<00:00, 41.20it/s]\n",
      "Epoch 1459/3000: 100%|██████████| 1/1 [00:00<00:00, 35.66it/s]\n",
      "Validation: 100%|██████████| 1/1 [00:00<00:00, 50.23it/s]\n"
     ]
    },
    {
     "name": "stdout",
     "output_type": "stream",
     "text": [
      "Epoch: 1459, Train Loss: 18.8666, \n",
      "Validation Loss: 28.1782\n"
     ]
    },
    {
     "name": "stderr",
     "output_type": "stream",
     "text": [
      "Epoch 1460/3000: 100%|██████████| 1/1 [00:00<00:00, 39.62it/s]\n",
      "Epoch 1461/3000: 100%|██████████| 1/1 [00:00<00:00, 40.56it/s]\n",
      "Validation: 100%|██████████| 1/1 [00:00<00:00, 50.49it/s]\n"
     ]
    },
    {
     "name": "stdout",
     "output_type": "stream",
     "text": [
      "Epoch: 1461, Train Loss: 53.6330, \n",
      "Validation Loss: 28.8449\n"
     ]
    },
    {
     "name": "stderr",
     "output_type": "stream",
     "text": [
      "Epoch 1462/3000: 100%|██████████| 1/1 [00:00<00:00, 37.77it/s]\n",
      "Epoch 1463/3000: 100%|██████████| 1/1 [00:00<00:00, 38.32it/s]\n",
      "Validation: 100%|██████████| 1/1 [00:00<00:00, 49.27it/s]\n"
     ]
    },
    {
     "name": "stdout",
     "output_type": "stream",
     "text": [
      "Epoch: 1463, Train Loss: 54.7980, \n",
      "Validation Loss: 24.2022\n"
     ]
    },
    {
     "name": "stderr",
     "output_type": "stream",
     "text": [
      "Epoch 1464/3000: 100%|██████████| 1/1 [00:00<00:00, 40.20it/s]\n",
      "Epoch 1465/3000: 100%|██████████| 1/1 [00:00<00:00, 39.49it/s]\n",
      "Validation: 100%|██████████| 1/1 [00:00<00:00, 50.16it/s]\n"
     ]
    },
    {
     "name": "stdout",
     "output_type": "stream",
     "text": [
      "Epoch: 1465, Train Loss: 38.1930, \n",
      "Validation Loss: 29.5634\n"
     ]
    },
    {
     "name": "stderr",
     "output_type": "stream",
     "text": [
      "Epoch 1466/3000: 100%|██████████| 1/1 [00:00<00:00, 32.54it/s]\n",
      "Epoch 1467/3000: 100%|██████████| 1/1 [00:00<00:00, 40.83it/s]\n",
      "Validation: 100%|██████████| 1/1 [00:00<00:00, 52.51it/s]\n"
     ]
    },
    {
     "name": "stdout",
     "output_type": "stream",
     "text": [
      "Epoch: 1467, Train Loss: 20.4931, \n",
      "Validation Loss: 30.4896\n"
     ]
    },
    {
     "name": "stderr",
     "output_type": "stream",
     "text": [
      "Epoch 1468/3000: 100%|██████████| 1/1 [00:00<00:00, 39.42it/s]\n",
      "Epoch 1469/3000: 100%|██████████| 1/1 [00:00<00:00, 35.77it/s]\n",
      "Validation: 100%|██████████| 1/1 [00:00<00:00, 51.75it/s]\n"
     ]
    },
    {
     "name": "stdout",
     "output_type": "stream",
     "text": [
      "Epoch: 1469, Train Loss: 32.7908, \n",
      "Validation Loss: 30.4640\n"
     ]
    },
    {
     "name": "stderr",
     "output_type": "stream",
     "text": [
      "Epoch 1470/3000: 100%|██████████| 1/1 [00:00<00:00, 35.90it/s]\n",
      "Epoch 1471/3000: 100%|██████████| 1/1 [00:00<00:00, 41.28it/s]\n",
      "Validation: 100%|██████████| 1/1 [00:00<00:00, 47.93it/s]\n"
     ]
    },
    {
     "name": "stdout",
     "output_type": "stream",
     "text": [
      "Epoch: 1471, Train Loss: 43.3025, \n",
      "Validation Loss: 29.3386\n"
     ]
    },
    {
     "name": "stderr",
     "output_type": "stream",
     "text": [
      "Epoch 1472/3000: 100%|██████████| 1/1 [00:00<00:00, 35.89it/s]\n",
      "Epoch 1473/3000: 100%|██████████| 1/1 [00:00<00:00, 38.66it/s]\n",
      "Validation: 100%|██████████| 1/1 [00:00<00:00, 55.77it/s]\n"
     ]
    },
    {
     "name": "stdout",
     "output_type": "stream",
     "text": [
      "Epoch: 1473, Train Loss: 31.0289, \n",
      "Validation Loss: 30.3007\n"
     ]
    },
    {
     "name": "stderr",
     "output_type": "stream",
     "text": [
      "Epoch 1474/3000: 100%|██████████| 1/1 [00:00<00:00, 37.30it/s]\n",
      "Epoch 1475/3000: 100%|██████████| 1/1 [00:00<00:00, 39.79it/s]\n",
      "Validation: 100%|██████████| 1/1 [00:00<00:00, 50.93it/s]\n"
     ]
    },
    {
     "name": "stdout",
     "output_type": "stream",
     "text": [
      "Epoch: 1475, Train Loss: 33.4750, \n",
      "Validation Loss: 34.4795\n"
     ]
    },
    {
     "name": "stderr",
     "output_type": "stream",
     "text": [
      "Epoch 1476/3000: 100%|██████████| 1/1 [00:00<00:00, 41.35it/s]\n",
      "Epoch 1477/3000: 100%|██████████| 1/1 [00:00<00:00, 36.37it/s]\n",
      "Validation: 100%|██████████| 1/1 [00:00<00:00, 48.61it/s]\n"
     ]
    },
    {
     "name": "stdout",
     "output_type": "stream",
     "text": [
      "Epoch: 1477, Train Loss: 73.0621, \n",
      "Validation Loss: 37.2011\n"
     ]
    },
    {
     "name": "stderr",
     "output_type": "stream",
     "text": [
      "Epoch 1478/3000: 100%|██████████| 1/1 [00:00<00:00, 39.22it/s]\n",
      "Epoch 1479/3000: 100%|██████████| 1/1 [00:00<00:00, 39.18it/s]\n",
      "Validation: 100%|██████████| 1/1 [00:00<00:00, 51.13it/s]\n"
     ]
    },
    {
     "name": "stdout",
     "output_type": "stream",
     "text": [
      "Epoch: 1479, Train Loss: 43.5752, \n",
      "Validation Loss: 35.8779\n"
     ]
    },
    {
     "name": "stderr",
     "output_type": "stream",
     "text": [
      "Epoch 1480/3000: 100%|██████████| 1/1 [00:00<00:00, 37.39it/s]\n",
      "Epoch 1481/3000: 100%|██████████| 1/1 [00:00<00:00, 41.61it/s]\n",
      "Validation: 100%|██████████| 1/1 [00:00<00:00, 50.79it/s]\n"
     ]
    },
    {
     "name": "stdout",
     "output_type": "stream",
     "text": [
      "Epoch: 1481, Train Loss: 84.4433, \n",
      "Validation Loss: 30.7156\n"
     ]
    },
    {
     "name": "stderr",
     "output_type": "stream",
     "text": [
      "Epoch 1482/3000: 100%|██████████| 1/1 [00:00<00:00, 35.14it/s]\n",
      "Epoch 1483/3000: 100%|██████████| 1/1 [00:00<00:00, 40.80it/s]\n",
      "Validation: 100%|██████████| 1/1 [00:00<00:00, 50.88it/s]\n"
     ]
    },
    {
     "name": "stdout",
     "output_type": "stream",
     "text": [
      "Epoch: 1483, Train Loss: 50.8482, \n",
      "Validation Loss: 36.1493\n"
     ]
    },
    {
     "name": "stderr",
     "output_type": "stream",
     "text": [
      "Epoch 1484/3000: 100%|██████████| 1/1 [00:00<00:00, 34.37it/s]\n",
      "Epoch 1485/3000: 100%|██████████| 1/1 [00:00<00:00, 38.83it/s]\n",
      "Validation: 100%|██████████| 1/1 [00:00<00:00, 53.98it/s]\n"
     ]
    },
    {
     "name": "stdout",
     "output_type": "stream",
     "text": [
      "Epoch: 1485, Train Loss: 33.4060, \n",
      "Validation Loss: 33.0877\n"
     ]
    },
    {
     "name": "stderr",
     "output_type": "stream",
     "text": [
      "Epoch 1486/3000: 100%|██████████| 1/1 [00:00<00:00, 33.97it/s]\n",
      "Epoch 1487/3000: 100%|██████████| 1/1 [00:00<00:00, 38.74it/s]\n",
      "Validation: 100%|██████████| 1/1 [00:00<00:00, 50.72it/s]\n"
     ]
    },
    {
     "name": "stdout",
     "output_type": "stream",
     "text": [
      "Epoch: 1487, Train Loss: 37.9465, \n",
      "Validation Loss: 33.5706\n"
     ]
    },
    {
     "name": "stderr",
     "output_type": "stream",
     "text": [
      "Epoch 1488/3000: 100%|██████████| 1/1 [00:00<00:00, 39.80it/s]\n",
      "Epoch 1489/3000: 100%|██████████| 1/1 [00:00<00:00, 43.99it/s]\n",
      "Validation: 100%|██████████| 1/1 [00:00<00:00, 51.29it/s]\n"
     ]
    },
    {
     "name": "stdout",
     "output_type": "stream",
     "text": [
      "Epoch: 1489, Train Loss: 57.1161, \n",
      "Validation Loss: 39.9757\n"
     ]
    },
    {
     "name": "stderr",
     "output_type": "stream",
     "text": [
      "Epoch 1490/3000: 100%|██████████| 1/1 [00:00<00:00, 37.58it/s]\n",
      "Epoch 1491/3000: 100%|██████████| 1/1 [00:00<00:00, 40.97it/s]\n",
      "Validation: 100%|██████████| 1/1 [00:00<00:00, 55.59it/s]\n"
     ]
    },
    {
     "name": "stdout",
     "output_type": "stream",
     "text": [
      "Epoch: 1491, Train Loss: 40.4123, \n",
      "Validation Loss: 31.0168\n"
     ]
    },
    {
     "name": "stderr",
     "output_type": "stream",
     "text": [
      "Epoch 1492/3000: 100%|██████████| 1/1 [00:00<00:00, 39.25it/s]\n",
      "Epoch 1493/3000: 100%|██████████| 1/1 [00:00<00:00, 35.86it/s]\n",
      "Validation: 100%|██████████| 1/1 [00:00<00:00, 50.73it/s]\n"
     ]
    },
    {
     "name": "stdout",
     "output_type": "stream",
     "text": [
      "Epoch: 1493, Train Loss: 31.6029, \n",
      "Validation Loss: 23.9042\n"
     ]
    },
    {
     "name": "stderr",
     "output_type": "stream",
     "text": [
      "Epoch 1494/3000: 100%|██████████| 1/1 [00:00<00:00, 35.22it/s]\n",
      "Epoch 1495/3000: 100%|██████████| 1/1 [00:00<00:00, 36.36it/s]\n",
      "Validation: 100%|██████████| 1/1 [00:00<00:00, 46.71it/s]\n"
     ]
    },
    {
     "name": "stdout",
     "output_type": "stream",
     "text": [
      "Epoch: 1495, Train Loss: 41.9169, \n",
      "Validation Loss: 29.8874\n"
     ]
    },
    {
     "name": "stderr",
     "output_type": "stream",
     "text": [
      "Epoch 1496/3000: 100%|██████████| 1/1 [00:00<00:00, 39.65it/s]\n",
      "Epoch 1497/3000: 100%|██████████| 1/1 [00:00<00:00, 40.77it/s]\n",
      "Validation: 100%|██████████| 1/1 [00:00<00:00, 51.18it/s]\n"
     ]
    },
    {
     "name": "stdout",
     "output_type": "stream",
     "text": [
      "Epoch: 1497, Train Loss: 62.5942, \n",
      "Validation Loss: 21.2049\n"
     ]
    },
    {
     "name": "stderr",
     "output_type": "stream",
     "text": [
      "Epoch 1498/3000: 100%|██████████| 1/1 [00:00<00:00, 39.44it/s]\n",
      "Epoch 1499/3000: 100%|██████████| 1/1 [00:00<00:00, 39.84it/s]\n",
      "Validation: 100%|██████████| 1/1 [00:00<00:00, 54.31it/s]\n"
     ]
    },
    {
     "name": "stdout",
     "output_type": "stream",
     "text": [
      "Epoch: 1499, Train Loss: 30.0218, \n",
      "Validation Loss: 24.1418\n"
     ]
    },
    {
     "name": "stderr",
     "output_type": "stream",
     "text": [
      "Epoch 1500/3000: 100%|██████████| 1/1 [00:00<00:00, 37.91it/s]\n",
      "Epoch 1501/3000: 100%|██████████| 1/1 [00:00<00:00, 39.31it/s]\n",
      "Validation: 100%|██████████| 1/1 [00:00<00:00, 52.24it/s]\n"
     ]
    },
    {
     "name": "stdout",
     "output_type": "stream",
     "text": [
      "Epoch: 1501, Train Loss: 64.1941, \n",
      "Validation Loss: 27.2056\n"
     ]
    },
    {
     "name": "stderr",
     "output_type": "stream",
     "text": [
      "Epoch 1502/3000: 100%|██████████| 1/1 [00:00<00:00, 38.61it/s]\n",
      "Epoch 1503/3000: 100%|██████████| 1/1 [00:00<00:00, 31.83it/s]\n",
      "Validation: 100%|██████████| 1/1 [00:00<00:00, 50.28it/s]\n"
     ]
    },
    {
     "name": "stdout",
     "output_type": "stream",
     "text": [
      "Epoch: 1503, Train Loss: 42.0688, \n",
      "Validation Loss: 21.7653\n"
     ]
    },
    {
     "name": "stderr",
     "output_type": "stream",
     "text": [
      "Epoch 1504/3000: 100%|██████████| 1/1 [00:00<00:00, 33.47it/s]\n",
      "Epoch 1505/3000: 100%|██████████| 1/1 [00:00<00:00, 40.74it/s]\n",
      "Validation: 100%|██████████| 1/1 [00:00<00:00, 43.64it/s]\n"
     ]
    },
    {
     "name": "stdout",
     "output_type": "stream",
     "text": [
      "Epoch: 1505, Train Loss: 10.0181, \n",
      "Validation Loss: 33.2657\n"
     ]
    },
    {
     "name": "stderr",
     "output_type": "stream",
     "text": [
      "Epoch 1506/3000: 100%|██████████| 1/1 [00:00<00:00, 38.96it/s]\n",
      "Epoch 1507/3000: 100%|██████████| 1/1 [00:00<00:00, 38.11it/s]\n",
      "Validation: 100%|██████████| 1/1 [00:00<00:00, 49.51it/s]\n"
     ]
    },
    {
     "name": "stdout",
     "output_type": "stream",
     "text": [
      "Epoch: 1507, Train Loss: 27.2239, \n",
      "Validation Loss: 36.8876\n"
     ]
    },
    {
     "name": "stderr",
     "output_type": "stream",
     "text": [
      "Epoch 1508/3000: 100%|██████████| 1/1 [00:00<00:00, 37.44it/s]\n",
      "Epoch 1509/3000: 100%|██████████| 1/1 [00:00<00:00, 43.89it/s]\n",
      "Validation: 100%|██████████| 1/1 [00:00<00:00, 47.52it/s]\n"
     ]
    },
    {
     "name": "stdout",
     "output_type": "stream",
     "text": [
      "Epoch: 1509, Train Loss: 29.5080, \n",
      "Validation Loss: 21.4755\n"
     ]
    },
    {
     "name": "stderr",
     "output_type": "stream",
     "text": [
      "Epoch 1510/3000: 100%|██████████| 1/1 [00:00<00:00, 36.92it/s]\n",
      "Epoch 1511/3000: 100%|██████████| 1/1 [00:00<00:00, 38.92it/s]\n",
      "Validation: 100%|██████████| 1/1 [00:00<00:00, 56.16it/s]\n"
     ]
    },
    {
     "name": "stdout",
     "output_type": "stream",
     "text": [
      "Epoch: 1511, Train Loss: 40.7127, \n",
      "Validation Loss: 30.2269\n"
     ]
    },
    {
     "name": "stderr",
     "output_type": "stream",
     "text": [
      "Epoch 1512/3000: 100%|██████████| 1/1 [00:00<00:00, 39.91it/s]\n",
      "Epoch 1513/3000: 100%|██████████| 1/1 [00:00<00:00, 41.39it/s]\n",
      "Validation: 100%|██████████| 1/1 [00:00<00:00, 50.40it/s]\n"
     ]
    },
    {
     "name": "stdout",
     "output_type": "stream",
     "text": [
      "Epoch: 1513, Train Loss: 43.0699, \n",
      "Validation Loss: 26.5345\n"
     ]
    },
    {
     "name": "stderr",
     "output_type": "stream",
     "text": [
      "Epoch 1514/3000: 100%|██████████| 1/1 [00:00<00:00, 39.91it/s]\n",
      "Epoch 1515/3000: 100%|██████████| 1/1 [00:00<00:00, 35.71it/s]\n",
      "Validation: 100%|██████████| 1/1 [00:00<00:00, 44.61it/s]\n"
     ]
    },
    {
     "name": "stdout",
     "output_type": "stream",
     "text": [
      "Epoch: 1515, Train Loss: 18.9121, \n",
      "Validation Loss: 21.2352\n"
     ]
    },
    {
     "name": "stderr",
     "output_type": "stream",
     "text": [
      "Epoch 1516/3000: 100%|██████████| 1/1 [00:00<00:00, 40.96it/s]\n",
      "Epoch 1517/3000: 100%|██████████| 1/1 [00:00<00:00, 43.56it/s]\n",
      "Validation: 100%|██████████| 1/1 [00:00<00:00, 50.42it/s]\n"
     ]
    },
    {
     "name": "stdout",
     "output_type": "stream",
     "text": [
      "Epoch: 1517, Train Loss: 20.4227, \n",
      "Validation Loss: 22.2117\n"
     ]
    },
    {
     "name": "stderr",
     "output_type": "stream",
     "text": [
      "Epoch 1518/3000: 100%|██████████| 1/1 [00:00<00:00, 40.60it/s]\n",
      "Epoch 1519/3000: 100%|██████████| 1/1 [00:00<00:00, 41.39it/s]\n",
      "Validation: 100%|██████████| 1/1 [00:00<00:00, 54.90it/s]\n"
     ]
    },
    {
     "name": "stdout",
     "output_type": "stream",
     "text": [
      "Epoch: 1519, Train Loss: 37.6869, \n",
      "Validation Loss: 32.0808\n"
     ]
    },
    {
     "name": "stderr",
     "output_type": "stream",
     "text": [
      "Epoch 1520/3000: 100%|██████████| 1/1 [00:00<00:00, 38.79it/s]\n",
      "Epoch 1521/3000: 100%|██████████| 1/1 [00:00<00:00, 31.13it/s]\n",
      "Validation: 100%|██████████| 1/1 [00:00<00:00, 51.43it/s]\n"
     ]
    },
    {
     "name": "stdout",
     "output_type": "stream",
     "text": [
      "Epoch: 1521, Train Loss: 52.4276, \n",
      "Validation Loss: 34.4251\n"
     ]
    },
    {
     "name": "stderr",
     "output_type": "stream",
     "text": [
      "Epoch 1522/3000: 100%|██████████| 1/1 [00:00<00:00, 43.02it/s]\n",
      "Epoch 1523/3000: 100%|██████████| 1/1 [00:00<00:00, 39.40it/s]\n",
      "Validation: 100%|██████████| 1/1 [00:00<00:00, 52.00it/s]\n"
     ]
    },
    {
     "name": "stdout",
     "output_type": "stream",
     "text": [
      "Epoch: 1523, Train Loss: 109.6995, \n",
      "Validation Loss: 26.6326\n"
     ]
    },
    {
     "name": "stderr",
     "output_type": "stream",
     "text": [
      "Epoch 1524/3000: 100%|██████████| 1/1 [00:00<00:00, 36.17it/s]\n",
      "Epoch 1525/3000: 100%|██████████| 1/1 [00:00<00:00, 41.49it/s]\n",
      "Validation: 100%|██████████| 1/1 [00:00<00:00, 48.85it/s]\n"
     ]
    },
    {
     "name": "stdout",
     "output_type": "stream",
     "text": [
      "Epoch: 1525, Train Loss: 38.2244, \n",
      "Validation Loss: 28.8283\n"
     ]
    },
    {
     "name": "stderr",
     "output_type": "stream",
     "text": [
      "Epoch 1526/3000: 100%|██████████| 1/1 [00:00<00:00, 40.35it/s]\n",
      "Epoch 1527/3000: 100%|██████████| 1/1 [00:00<00:00, 39.88it/s]\n",
      "Validation: 100%|██████████| 1/1 [00:00<00:00, 54.63it/s]\n"
     ]
    },
    {
     "name": "stdout",
     "output_type": "stream",
     "text": [
      "Epoch: 1527, Train Loss: 39.6362, \n",
      "Validation Loss: 37.2869\n"
     ]
    },
    {
     "name": "stderr",
     "output_type": "stream",
     "text": [
      "Epoch 1528/3000: 100%|██████████| 1/1 [00:00<00:00, 36.17it/s]\n",
      "Epoch 1529/3000: 100%|██████████| 1/1 [00:00<00:00, 37.93it/s]\n",
      "Validation: 100%|██████████| 1/1 [00:00<00:00, 50.47it/s]\n"
     ]
    },
    {
     "name": "stdout",
     "output_type": "stream",
     "text": [
      "Epoch: 1529, Train Loss: 61.1227, \n",
      "Validation Loss: 32.8375\n"
     ]
    },
    {
     "name": "stderr",
     "output_type": "stream",
     "text": [
      "Epoch 1530/3000: 100%|██████████| 1/1 [00:00<00:00, 39.99it/s]\n",
      "Epoch 1531/3000: 100%|██████████| 1/1 [00:00<00:00, 37.11it/s]\n",
      "Validation: 100%|██████████| 1/1 [00:00<00:00, 50.15it/s]\n"
     ]
    },
    {
     "name": "stdout",
     "output_type": "stream",
     "text": [
      "Epoch: 1531, Train Loss: 61.1530, \n",
      "Validation Loss: 26.5348\n"
     ]
    },
    {
     "name": "stderr",
     "output_type": "stream",
     "text": [
      "Epoch 1532/3000: 100%|██████████| 1/1 [00:00<00:00, 37.48it/s]\n",
      "Epoch 1533/3000: 100%|██████████| 1/1 [00:00<00:00, 40.31it/s]\n",
      "Validation: 100%|██████████| 1/1 [00:00<00:00, 48.31it/s]\n"
     ]
    },
    {
     "name": "stdout",
     "output_type": "stream",
     "text": [
      "Epoch: 1533, Train Loss: 51.1888, \n",
      "Validation Loss: 29.7837\n"
     ]
    },
    {
     "name": "stderr",
     "output_type": "stream",
     "text": [
      "Epoch 1534/3000: 100%|██████████| 1/1 [00:00<00:00, 36.22it/s]\n",
      "Epoch 1535/3000: 100%|██████████| 1/1 [00:00<00:00, 39.31it/s]\n",
      "Validation: 100%|██████████| 1/1 [00:00<00:00, 51.05it/s]\n"
     ]
    },
    {
     "name": "stdout",
     "output_type": "stream",
     "text": [
      "Epoch: 1535, Train Loss: 43.8473, \n",
      "Validation Loss: 21.5255\n"
     ]
    },
    {
     "name": "stderr",
     "output_type": "stream",
     "text": [
      "Epoch 1536/3000: 100%|██████████| 1/1 [00:00<00:00, 36.78it/s]\n",
      "Epoch 1537/3000: 100%|██████████| 1/1 [00:00<00:00, 36.23it/s]\n",
      "Validation: 100%|██████████| 1/1 [00:00<00:00, 43.25it/s]\n"
     ]
    },
    {
     "name": "stdout",
     "output_type": "stream",
     "text": [
      "Epoch: 1537, Train Loss: 43.1677, \n",
      "Validation Loss: 24.4771\n"
     ]
    },
    {
     "name": "stderr",
     "output_type": "stream",
     "text": [
      "Epoch 1538/3000: 100%|██████████| 1/1 [00:00<00:00, 39.43it/s]\n",
      "Epoch 1539/3000: 100%|██████████| 1/1 [00:00<00:00, 40.36it/s]\n",
      "Validation: 100%|██████████| 1/1 [00:00<00:00, 48.59it/s]\n"
     ]
    },
    {
     "name": "stdout",
     "output_type": "stream",
     "text": [
      "Epoch: 1539, Train Loss: 38.8260, \n",
      "Validation Loss: 32.5980\n"
     ]
    },
    {
     "name": "stderr",
     "output_type": "stream",
     "text": [
      "Epoch 1540/3000: 100%|██████████| 1/1 [00:00<00:00, 40.90it/s]\n",
      "Epoch 1541/3000: 100%|██████████| 1/1 [00:00<00:00, 33.45it/s]\n",
      "Validation: 100%|██████████| 1/1 [00:00<00:00, 46.51it/s]\n"
     ]
    },
    {
     "name": "stdout",
     "output_type": "stream",
     "text": [
      "Epoch: 1541, Train Loss: 48.2477, \n",
      "Validation Loss: 27.2528\n"
     ]
    },
    {
     "name": "stderr",
     "output_type": "stream",
     "text": [
      "Epoch 1542/3000: 100%|██████████| 1/1 [00:00<00:00, 39.60it/s]\n",
      "Epoch 1543/3000: 100%|██████████| 1/1 [00:00<00:00, 39.91it/s]\n",
      "Validation: 100%|██████████| 1/1 [00:00<00:00, 50.87it/s]\n"
     ]
    },
    {
     "name": "stdout",
     "output_type": "stream",
     "text": [
      "Epoch: 1543, Train Loss: 35.5285, \n",
      "Validation Loss: 22.2252\n"
     ]
    },
    {
     "name": "stderr",
     "output_type": "stream",
     "text": [
      "Epoch 1544/3000: 100%|██████████| 1/1 [00:00<00:00, 39.94it/s]\n",
      "Epoch 1545/3000: 100%|██████████| 1/1 [00:00<00:00, 36.52it/s]\n",
      "Validation: 100%|██████████| 1/1 [00:00<00:00, 53.56it/s]\n"
     ]
    },
    {
     "name": "stdout",
     "output_type": "stream",
     "text": [
      "Epoch: 1545, Train Loss: 56.5817, \n",
      "Validation Loss: 21.4473\n"
     ]
    },
    {
     "name": "stderr",
     "output_type": "stream",
     "text": [
      "Epoch 1546/3000: 100%|██████████| 1/1 [00:00<00:00, 39.25it/s]\n",
      "Epoch 1547/3000: 100%|██████████| 1/1 [00:00<00:00, 41.39it/s]\n",
      "Validation: 100%|██████████| 1/1 [00:00<00:00, 50.44it/s]\n"
     ]
    },
    {
     "name": "stdout",
     "output_type": "stream",
     "text": [
      "Epoch: 1547, Train Loss: 28.3507, \n",
      "Validation Loss: 29.7837\n"
     ]
    },
    {
     "name": "stderr",
     "output_type": "stream",
     "text": [
      "Epoch 1548/3000: 100%|██████████| 1/1 [00:00<00:00, 39.96it/s]\n",
      "Epoch 1549/3000: 100%|██████████| 1/1 [00:00<00:00, 38.87it/s]\n",
      "Validation: 100%|██████████| 1/1 [00:00<00:00, 50.90it/s]\n"
     ]
    },
    {
     "name": "stdout",
     "output_type": "stream",
     "text": [
      "Epoch: 1549, Train Loss: 40.0103, \n",
      "Validation Loss: 24.4925\n"
     ]
    },
    {
     "name": "stderr",
     "output_type": "stream",
     "text": [
      "Epoch 1550/3000: 100%|██████████| 1/1 [00:00<00:00, 39.91it/s]\n",
      "Epoch 1551/3000: 100%|██████████| 1/1 [00:00<00:00, 41.06it/s]\n",
      "Validation: 100%|██████████| 1/1 [00:00<00:00, 50.88it/s]\n"
     ]
    },
    {
     "name": "stdout",
     "output_type": "stream",
     "text": [
      "Epoch: 1551, Train Loss: 34.1109, \n",
      "Validation Loss: 21.2420\n"
     ]
    },
    {
     "name": "stderr",
     "output_type": "stream",
     "text": [
      "Epoch 1552/3000: 100%|██████████| 1/1 [00:00<00:00, 39.57it/s]\n",
      "Epoch 1553/3000: 100%|██████████| 1/1 [00:00<00:00, 36.14it/s]\n",
      "Validation: 100%|██████████| 1/1 [00:00<00:00, 52.57it/s]\n"
     ]
    },
    {
     "name": "stdout",
     "output_type": "stream",
     "text": [
      "Epoch: 1553, Train Loss: 34.2938, \n",
      "Validation Loss: 27.8077\n"
     ]
    },
    {
     "name": "stderr",
     "output_type": "stream",
     "text": [
      "Epoch 1554/3000: 100%|██████████| 1/1 [00:00<00:00, 38.02it/s]\n",
      "Epoch 1555/3000: 100%|██████████| 1/1 [00:00<00:00, 35.87it/s]\n",
      "Validation: 100%|██████████| 1/1 [00:00<00:00, 52.32it/s]\n"
     ]
    },
    {
     "name": "stdout",
     "output_type": "stream",
     "text": [
      "Epoch: 1555, Train Loss: 52.9233, \n",
      "Validation Loss: 20.9398\n"
     ]
    },
    {
     "name": "stderr",
     "output_type": "stream",
     "text": [
      "Epoch 1556/3000: 100%|██████████| 1/1 [00:00<00:00, 42.84it/s]\n",
      "Epoch 1557/3000: 100%|██████████| 1/1 [00:00<00:00, 40.30it/s]\n",
      "Validation: 100%|██████████| 1/1 [00:00<00:00, 47.53it/s]\n"
     ]
    },
    {
     "name": "stdout",
     "output_type": "stream",
     "text": [
      "Epoch: 1557, Train Loss: 36.3554, \n",
      "Validation Loss: 21.9565\n"
     ]
    },
    {
     "name": "stderr",
     "output_type": "stream",
     "text": [
      "Epoch 1558/3000: 100%|██████████| 1/1 [00:00<00:00, 36.47it/s]\n",
      "Epoch 1559/3000: 100%|██████████| 1/1 [00:00<00:00, 39.00it/s]\n",
      "Validation: 100%|██████████| 1/1 [00:00<00:00, 41.71it/s]\n"
     ]
    },
    {
     "name": "stdout",
     "output_type": "stream",
     "text": [
      "Epoch: 1559, Train Loss: 56.5461, \n",
      "Validation Loss: 23.8909\n"
     ]
    },
    {
     "name": "stderr",
     "output_type": "stream",
     "text": [
      "Epoch 1560/3000: 100%|██████████| 1/1 [00:00<00:00, 40.13it/s]\n",
      "Epoch 1561/3000: 100%|██████████| 1/1 [00:00<00:00, 39.54it/s]\n",
      "Validation: 100%|██████████| 1/1 [00:00<00:00, 49.43it/s]\n"
     ]
    },
    {
     "name": "stdout",
     "output_type": "stream",
     "text": [
      "Epoch: 1561, Train Loss: 47.6890, \n",
      "Validation Loss: 25.1367\n"
     ]
    },
    {
     "name": "stderr",
     "output_type": "stream",
     "text": [
      "Epoch 1562/3000: 100%|██████████| 1/1 [00:00<00:00, 37.26it/s]\n",
      "Epoch 1563/3000: 100%|██████████| 1/1 [00:00<00:00, 39.84it/s]\n",
      "Validation: 100%|██████████| 1/1 [00:00<00:00, 55.37it/s]\n"
     ]
    },
    {
     "name": "stdout",
     "output_type": "stream",
     "text": [
      "Epoch: 1563, Train Loss: 29.6625, \n",
      "Validation Loss: 23.7066\n"
     ]
    },
    {
     "name": "stderr",
     "output_type": "stream",
     "text": [
      "Epoch 1564/3000: 100%|██████████| 1/1 [00:00<00:00, 39.77it/s]\n",
      "Epoch 1565/3000: 100%|██████████| 1/1 [00:00<00:00, 38.79it/s]\n",
      "Validation: 100%|██████████| 1/1 [00:00<00:00, 50.32it/s]\n"
     ]
    },
    {
     "name": "stdout",
     "output_type": "stream",
     "text": [
      "Epoch: 1565, Train Loss: 68.5324, \n",
      "Validation Loss: 25.4455\n"
     ]
    },
    {
     "name": "stderr",
     "output_type": "stream",
     "text": [
      "Epoch 1566/3000: 100%|██████████| 1/1 [00:00<00:00, 38.08it/s]\n",
      "Epoch 1567/3000: 100%|██████████| 1/1 [00:00<00:00, 39.66it/s]\n",
      "Validation: 100%|██████████| 1/1 [00:00<00:00, 50.46it/s]\n"
     ]
    },
    {
     "name": "stdout",
     "output_type": "stream",
     "text": [
      "Epoch: 1567, Train Loss: 43.1619, \n",
      "Validation Loss: 22.7592\n"
     ]
    },
    {
     "name": "stderr",
     "output_type": "stream",
     "text": [
      "Epoch 1568/3000: 100%|██████████| 1/1 [00:00<00:00, 38.06it/s]\n",
      "Epoch 1569/3000: 100%|██████████| 1/1 [00:00<00:00, 42.00it/s]\n",
      "Validation: 100%|██████████| 1/1 [00:00<00:00, 51.13it/s]\n"
     ]
    },
    {
     "name": "stdout",
     "output_type": "stream",
     "text": [
      "Epoch: 1569, Train Loss: 28.9989, \n",
      "Validation Loss: 23.4865\n"
     ]
    },
    {
     "name": "stderr",
     "output_type": "stream",
     "text": [
      "Epoch 1570/3000: 100%|██████████| 1/1 [00:00<00:00, 35.59it/s]\n",
      "Epoch 1571/3000: 100%|██████████| 1/1 [00:00<00:00, 33.21it/s]\n",
      "Validation: 100%|██████████| 1/1 [00:00<00:00, 51.16it/s]\n"
     ]
    },
    {
     "name": "stdout",
     "output_type": "stream",
     "text": [
      "Epoch: 1571, Train Loss: 20.4463, \n",
      "Validation Loss: 27.7549\n"
     ]
    },
    {
     "name": "stderr",
     "output_type": "stream",
     "text": [
      "Epoch 1572/3000: 100%|██████████| 1/1 [00:00<00:00, 36.20it/s]\n",
      "Epoch 1573/3000: 100%|██████████| 1/1 [00:00<00:00, 32.03it/s]\n",
      "Validation: 100%|██████████| 1/1 [00:00<00:00, 51.85it/s]\n"
     ]
    },
    {
     "name": "stdout",
     "output_type": "stream",
     "text": [
      "Epoch: 1573, Train Loss: 16.8961, \n",
      "Validation Loss: 27.9674\n"
     ]
    },
    {
     "name": "stderr",
     "output_type": "stream",
     "text": [
      "Epoch 1574/3000: 100%|██████████| 1/1 [00:00<00:00, 37.13it/s]\n",
      "Epoch 1575/3000: 100%|██████████| 1/1 [00:00<00:00, 38.89it/s]\n",
      "Validation: 100%|██████████| 1/1 [00:00<00:00, 51.28it/s]\n"
     ]
    },
    {
     "name": "stdout",
     "output_type": "stream",
     "text": [
      "Epoch: 1575, Train Loss: 37.2414, \n",
      "Validation Loss: 21.2153\n"
     ]
    },
    {
     "name": "stderr",
     "output_type": "stream",
     "text": [
      "Epoch 1576/3000: 100%|██████████| 1/1 [00:00<00:00, 38.96it/s]\n",
      "Epoch 1577/3000: 100%|██████████| 1/1 [00:00<00:00, 40.19it/s]\n",
      "Validation: 100%|██████████| 1/1 [00:00<00:00, 48.04it/s]\n"
     ]
    },
    {
     "name": "stdout",
     "output_type": "stream",
     "text": [
      "Epoch: 1577, Train Loss: 33.8491, \n",
      "Validation Loss: 22.8023\n"
     ]
    },
    {
     "name": "stderr",
     "output_type": "stream",
     "text": [
      "Epoch 1578/3000: 100%|██████████| 1/1 [00:00<00:00, 38.99it/s]\n",
      "Epoch 1579/3000: 100%|██████████| 1/1 [00:00<00:00, 42.08it/s]\n",
      "Validation: 100%|██████████| 1/1 [00:00<00:00, 51.90it/s]\n"
     ]
    },
    {
     "name": "stdout",
     "output_type": "stream",
     "text": [
      "Epoch: 1579, Train Loss: 25.0596, \n",
      "Validation Loss: 26.3395\n"
     ]
    },
    {
     "name": "stderr",
     "output_type": "stream",
     "text": [
      "Epoch 1580/3000: 100%|██████████| 1/1 [00:00<00:00, 40.93it/s]\n",
      "Epoch 1581/3000: 100%|██████████| 1/1 [00:00<00:00, 38.77it/s]\n",
      "Validation: 100%|██████████| 1/1 [00:00<00:00, 51.18it/s]\n"
     ]
    },
    {
     "name": "stdout",
     "output_type": "stream",
     "text": [
      "Epoch: 1581, Train Loss: 26.9276, \n",
      "Validation Loss: 21.4002\n"
     ]
    },
    {
     "name": "stderr",
     "output_type": "stream",
     "text": [
      "Epoch 1582/3000: 100%|██████████| 1/1 [00:00<00:00, 38.55it/s]\n",
      "Epoch 1583/3000: 100%|██████████| 1/1 [00:00<00:00, 38.58it/s]\n",
      "Validation: 100%|██████████| 1/1 [00:00<00:00, 49.40it/s]\n"
     ]
    },
    {
     "name": "stdout",
     "output_type": "stream",
     "text": [
      "Epoch: 1583, Train Loss: 29.4395, \n",
      "Validation Loss: 21.0256\n"
     ]
    },
    {
     "name": "stderr",
     "output_type": "stream",
     "text": [
      "Epoch 1584/3000: 100%|██████████| 1/1 [00:00<00:00, 39.26it/s]\n",
      "Epoch 1585/3000: 100%|██████████| 1/1 [00:00<00:00, 39.91it/s]\n",
      "Validation: 100%|██████████| 1/1 [00:00<00:00, 48.68it/s]\n"
     ]
    },
    {
     "name": "stdout",
     "output_type": "stream",
     "text": [
      "Epoch: 1585, Train Loss: 26.1644, \n",
      "Validation Loss: 21.2010\n"
     ]
    },
    {
     "name": "stderr",
     "output_type": "stream",
     "text": [
      "Epoch 1586/3000: 100%|██████████| 1/1 [00:00<00:00, 36.18it/s]\n",
      "Epoch 1587/3000: 100%|██████████| 1/1 [00:00<00:00, 42.81it/s]\n",
      "Validation: 100%|██████████| 1/1 [00:00<00:00, 51.39it/s]\n"
     ]
    },
    {
     "name": "stdout",
     "output_type": "stream",
     "text": [
      "Epoch: 1587, Train Loss: 18.5409, \n",
      "Validation Loss: 21.6803\n"
     ]
    },
    {
     "name": "stderr",
     "output_type": "stream",
     "text": [
      "Epoch 1588/3000: 100%|██████████| 1/1 [00:00<00:00, 33.59it/s]\n",
      "Epoch 1589/3000: 100%|██████████| 1/1 [00:00<00:00, 35.86it/s]\n",
      "Validation: 100%|██████████| 1/1 [00:00<00:00, 50.67it/s]\n"
     ]
    },
    {
     "name": "stdout",
     "output_type": "stream",
     "text": [
      "Epoch: 1589, Train Loss: 41.6342, \n",
      "Validation Loss: 21.8577\n"
     ]
    },
    {
     "name": "stderr",
     "output_type": "stream",
     "text": [
      "Epoch 1590/3000: 100%|██████████| 1/1 [00:00<00:00, 37.42it/s]\n",
      "Epoch 1591/3000: 100%|██████████| 1/1 [00:00<00:00, 38.98it/s]\n",
      "Validation: 100%|██████████| 1/1 [00:00<00:00, 50.66it/s]\n"
     ]
    },
    {
     "name": "stdout",
     "output_type": "stream",
     "text": [
      "Epoch: 1591, Train Loss: 47.6359, \n",
      "Validation Loss: 22.3257\n"
     ]
    },
    {
     "name": "stderr",
     "output_type": "stream",
     "text": [
      "Epoch 1592/3000: 100%|██████████| 1/1 [00:00<00:00, 38.07it/s]\n",
      "Epoch 1593/3000: 100%|██████████| 1/1 [00:00<00:00, 41.01it/s]\n",
      "Validation: 100%|██████████| 1/1 [00:00<00:00, 48.63it/s]\n"
     ]
    },
    {
     "name": "stdout",
     "output_type": "stream",
     "text": [
      "Epoch: 1593, Train Loss: 27.6952, \n",
      "Validation Loss: 22.6421\n"
     ]
    },
    {
     "name": "stderr",
     "output_type": "stream",
     "text": [
      "Epoch 1594/3000: 100%|██████████| 1/1 [00:00<00:00, 38.17it/s]\n",
      "Epoch 1595/3000: 100%|██████████| 1/1 [00:00<00:00, 43.41it/s]\n",
      "Validation: 100%|██████████| 1/1 [00:00<00:00, 51.29it/s]\n"
     ]
    },
    {
     "name": "stdout",
     "output_type": "stream",
     "text": [
      "Epoch: 1595, Train Loss: 36.5482, \n",
      "Validation Loss: 21.2922\n"
     ]
    },
    {
     "name": "stderr",
     "output_type": "stream",
     "text": [
      "Epoch 1596/3000: 100%|██████████| 1/1 [00:00<00:00, 37.16it/s]\n",
      "Epoch 1597/3000: 100%|██████████| 1/1 [00:00<00:00, 39.63it/s]\n",
      "Validation: 100%|██████████| 1/1 [00:00<00:00, 44.95it/s]\n"
     ]
    },
    {
     "name": "stdout",
     "output_type": "stream",
     "text": [
      "Epoch: 1597, Train Loss: 44.6779, \n",
      "Validation Loss: 21.3074\n"
     ]
    },
    {
     "name": "stderr",
     "output_type": "stream",
     "text": [
      "Epoch 1598/3000: 100%|██████████| 1/1 [00:00<00:00, 39.56it/s]\n",
      "Epoch 1599/3000: 100%|██████████| 1/1 [00:00<00:00, 38.24it/s]\n",
      "Validation: 100%|██████████| 1/1 [00:00<00:00, 52.64it/s]\n"
     ]
    },
    {
     "name": "stdout",
     "output_type": "stream",
     "text": [
      "Epoch: 1599, Train Loss: 28.2585, \n",
      "Validation Loss: 21.1153\n"
     ]
    },
    {
     "name": "stderr",
     "output_type": "stream",
     "text": [
      "Epoch 1600/3000: 100%|██████████| 1/1 [00:00<00:00, 42.44it/s]\n",
      "Epoch 1601/3000: 100%|██████████| 1/1 [00:00<00:00, 32.75it/s]\n",
      "Validation: 100%|██████████| 1/1 [00:00<00:00, 47.54it/s]\n"
     ]
    },
    {
     "name": "stdout",
     "output_type": "stream",
     "text": [
      "Epoch: 1601, Train Loss: 31.7481, \n",
      "Validation Loss: 20.7016\n"
     ]
    },
    {
     "name": "stderr",
     "output_type": "stream",
     "text": [
      "Epoch 1602/3000: 100%|██████████| 1/1 [00:00<00:00, 40.75it/s]\n",
      "Epoch 1603/3000: 100%|██████████| 1/1 [00:00<00:00, 41.38it/s]\n",
      "Validation: 100%|██████████| 1/1 [00:00<00:00, 49.95it/s]\n"
     ]
    },
    {
     "name": "stdout",
     "output_type": "stream",
     "text": [
      "Epoch: 1603, Train Loss: 28.7931, \n",
      "Validation Loss: 20.9419\n"
     ]
    },
    {
     "name": "stderr",
     "output_type": "stream",
     "text": [
      "Epoch 1604/3000: 100%|██████████| 1/1 [00:00<00:00, 37.26it/s]\n",
      "Epoch 1605/3000: 100%|██████████| 1/1 [00:00<00:00, 31.11it/s]\n",
      "Validation: 100%|██████████| 1/1 [00:00<00:00, 46.46it/s]\n"
     ]
    },
    {
     "name": "stdout",
     "output_type": "stream",
     "text": [
      "Epoch: 1605, Train Loss: 31.7514, \n",
      "Validation Loss: 21.7967\n"
     ]
    },
    {
     "name": "stderr",
     "output_type": "stream",
     "text": [
      "Epoch 1606/3000: 100%|██████████| 1/1 [00:00<00:00, 39.69it/s]\n",
      "Epoch 1607/3000: 100%|██████████| 1/1 [00:00<00:00, 39.28it/s]\n",
      "Validation: 100%|██████████| 1/1 [00:00<00:00, 55.74it/s]\n"
     ]
    },
    {
     "name": "stdout",
     "output_type": "stream",
     "text": [
      "Epoch: 1607, Train Loss: 33.5407, \n",
      "Validation Loss: 22.5663\n"
     ]
    },
    {
     "name": "stderr",
     "output_type": "stream",
     "text": [
      "Epoch 1608/3000: 100%|██████████| 1/1 [00:00<00:00, 38.27it/s]\n",
      "Epoch 1609/3000: 100%|██████████| 1/1 [00:00<00:00, 39.93it/s]\n",
      "Validation: 100%|██████████| 1/1 [00:00<00:00, 50.77it/s]\n"
     ]
    },
    {
     "name": "stdout",
     "output_type": "stream",
     "text": [
      "Epoch: 1609, Train Loss: 22.3194, \n",
      "Validation Loss: 21.6809\n"
     ]
    },
    {
     "name": "stderr",
     "output_type": "stream",
     "text": [
      "Epoch 1610/3000: 100%|██████████| 1/1 [00:00<00:00, 38.44it/s]\n",
      "Epoch 1611/3000: 100%|██████████| 1/1 [00:00<00:00, 38.55it/s]\n",
      "Validation: 100%|██████████| 1/1 [00:00<00:00, 49.20it/s]\n"
     ]
    },
    {
     "name": "stdout",
     "output_type": "stream",
     "text": [
      "Epoch: 1611, Train Loss: 43.7818, \n",
      "Validation Loss: 21.3354\n"
     ]
    },
    {
     "name": "stderr",
     "output_type": "stream",
     "text": [
      "Epoch 1612/3000: 100%|██████████| 1/1 [00:00<00:00, 41.11it/s]\n",
      "Epoch 1613/3000: 100%|██████████| 1/1 [00:00<00:00, 43.78it/s]\n",
      "Validation: 100%|██████████| 1/1 [00:00<00:00, 51.10it/s]\n"
     ]
    },
    {
     "name": "stdout",
     "output_type": "stream",
     "text": [
      "Epoch: 1613, Train Loss: 16.8027, \n",
      "Validation Loss: 21.3867\n"
     ]
    },
    {
     "name": "stderr",
     "output_type": "stream",
     "text": [
      "Epoch 1614/3000: 100%|██████████| 1/1 [00:00<00:00, 38.30it/s]\n",
      "Epoch 1615/3000: 100%|██████████| 1/1 [00:00<00:00, 39.65it/s]\n",
      "Validation: 100%|██████████| 1/1 [00:00<00:00, 55.89it/s]\n"
     ]
    },
    {
     "name": "stdout",
     "output_type": "stream",
     "text": [
      "Epoch: 1615, Train Loss: 17.0580, \n",
      "Validation Loss: 25.7201\n"
     ]
    },
    {
     "name": "stderr",
     "output_type": "stream",
     "text": [
      "Epoch 1616/3000: 100%|██████████| 1/1 [00:00<00:00, 37.70it/s]\n",
      "Epoch 1617/3000: 100%|██████████| 1/1 [00:00<00:00, 36.79it/s]\n",
      "Validation: 100%|██████████| 1/1 [00:00<00:00, 50.71it/s]\n"
     ]
    },
    {
     "name": "stdout",
     "output_type": "stream",
     "text": [
      "Epoch: 1617, Train Loss: 38.1811, \n",
      "Validation Loss: 21.5654\n"
     ]
    },
    {
     "name": "stderr",
     "output_type": "stream",
     "text": [
      "Epoch 1618/3000: 100%|██████████| 1/1 [00:00<00:00, 43.57it/s]\n",
      "Epoch 1619/3000: 100%|██████████| 1/1 [00:00<00:00, 39.07it/s]\n",
      "Validation: 100%|██████████| 1/1 [00:00<00:00, 49.03it/s]\n"
     ]
    },
    {
     "name": "stdout",
     "output_type": "stream",
     "text": [
      "Epoch: 1619, Train Loss: 37.4493, \n",
      "Validation Loss: 20.8326\n"
     ]
    },
    {
     "name": "stderr",
     "output_type": "stream",
     "text": [
      "Epoch 1620/3000: 100%|██████████| 1/1 [00:00<00:00, 33.15it/s]\n",
      "Epoch 1621/3000: 100%|██████████| 1/1 [00:00<00:00, 36.49it/s]\n",
      "Validation: 100%|██████████| 1/1 [00:00<00:00, 44.51it/s]\n"
     ]
    },
    {
     "name": "stdout",
     "output_type": "stream",
     "text": [
      "Epoch: 1621, Train Loss: 19.4169, \n",
      "Validation Loss: 21.5799\n"
     ]
    },
    {
     "name": "stderr",
     "output_type": "stream",
     "text": [
      "Epoch 1622/3000: 100%|██████████| 1/1 [00:00<00:00, 36.70it/s]\n",
      "Epoch 1623/3000: 100%|██████████| 1/1 [00:00<00:00, 40.63it/s]\n",
      "Validation: 100%|██████████| 1/1 [00:00<00:00, 53.96it/s]\n"
     ]
    },
    {
     "name": "stdout",
     "output_type": "stream",
     "text": [
      "Epoch: 1623, Train Loss: 34.9594, \n",
      "Validation Loss: 21.4620\n"
     ]
    },
    {
     "name": "stderr",
     "output_type": "stream",
     "text": [
      "Epoch 1624/3000: 100%|██████████| 1/1 [00:00<00:00, 37.07it/s]\n",
      "Epoch 1625/3000: 100%|██████████| 1/1 [00:00<00:00, 35.68it/s]\n",
      "Validation: 100%|██████████| 1/1 [00:00<00:00, 52.07it/s]\n"
     ]
    },
    {
     "name": "stdout",
     "output_type": "stream",
     "text": [
      "Epoch: 1625, Train Loss: 16.4569, \n",
      "Validation Loss: 21.6065\n"
     ]
    },
    {
     "name": "stderr",
     "output_type": "stream",
     "text": [
      "Epoch 1626/3000: 100%|██████████| 1/1 [00:00<00:00, 39.30it/s]\n",
      "Epoch 1627/3000: 100%|██████████| 1/1 [00:00<00:00, 39.64it/s]\n",
      "Validation: 100%|██████████| 1/1 [00:00<00:00, 51.21it/s]\n"
     ]
    },
    {
     "name": "stdout",
     "output_type": "stream",
     "text": [
      "Epoch: 1627, Train Loss: 56.3797, \n",
      "Validation Loss: 21.4383\n"
     ]
    },
    {
     "name": "stderr",
     "output_type": "stream",
     "text": [
      "Epoch 1628/3000: 100%|██████████| 1/1 [00:00<00:00, 41.88it/s]\n",
      "Epoch 1629/3000: 100%|██████████| 1/1 [00:00<00:00, 40.60it/s]\n",
      "Validation: 100%|██████████| 1/1 [00:00<00:00, 50.46it/s]\n"
     ]
    },
    {
     "name": "stdout",
     "output_type": "stream",
     "text": [
      "Epoch: 1629, Train Loss: 33.1352, \n",
      "Validation Loss: 21.8627\n"
     ]
    },
    {
     "name": "stderr",
     "output_type": "stream",
     "text": [
      "Epoch 1630/3000: 100%|██████████| 1/1 [00:00<00:00, 39.95it/s]\n",
      "Epoch 1631/3000: 100%|██████████| 1/1 [00:00<00:00, 41.05it/s]\n",
      "Validation: 100%|██████████| 1/1 [00:00<00:00, 51.13it/s]\n"
     ]
    },
    {
     "name": "stdout",
     "output_type": "stream",
     "text": [
      "Epoch: 1631, Train Loss: 37.0143, \n",
      "Validation Loss: 21.0007\n"
     ]
    },
    {
     "name": "stderr",
     "output_type": "stream",
     "text": [
      "Epoch 1632/3000: 100%|██████████| 1/1 [00:00<00:00, 38.10it/s]\n",
      "Epoch 1633/3000: 100%|██████████| 1/1 [00:00<00:00, 37.87it/s]\n",
      "Validation: 100%|██████████| 1/1 [00:00<00:00, 52.77it/s]\n"
     ]
    },
    {
     "name": "stdout",
     "output_type": "stream",
     "text": [
      "Epoch: 1633, Train Loss: 12.4035, \n",
      "Validation Loss: 21.0394\n"
     ]
    },
    {
     "name": "stderr",
     "output_type": "stream",
     "text": [
      "Epoch 1634/3000: 100%|██████████| 1/1 [00:00<00:00, 41.23it/s]\n",
      "Epoch 1635/3000: 100%|██████████| 1/1 [00:00<00:00, 37.59it/s]\n",
      "Validation: 100%|██████████| 1/1 [00:00<00:00, 51.79it/s]\n"
     ]
    },
    {
     "name": "stdout",
     "output_type": "stream",
     "text": [
      "Epoch: 1635, Train Loss: 10.0003, \n",
      "Validation Loss: 22.6171\n"
     ]
    },
    {
     "name": "stderr",
     "output_type": "stream",
     "text": [
      "Epoch 1636/3000: 100%|██████████| 1/1 [00:00<00:00, 37.53it/s]\n",
      "Epoch 1637/3000: 100%|██████████| 1/1 [00:00<00:00, 30.58it/s]\n",
      "Validation: 100%|██████████| 1/1 [00:00<00:00, 43.34it/s]\n"
     ]
    },
    {
     "name": "stdout",
     "output_type": "stream",
     "text": [
      "Epoch: 1637, Train Loss: 48.5073, \n",
      "Validation Loss: 21.0971\n"
     ]
    },
    {
     "name": "stderr",
     "output_type": "stream",
     "text": [
      "Epoch 1638/3000: 100%|██████████| 1/1 [00:00<00:00, 37.50it/s]\n",
      "Epoch 1639/3000: 100%|██████████| 1/1 [00:00<00:00, 40.09it/s]\n",
      "Validation: 100%|██████████| 1/1 [00:00<00:00, 49.93it/s]\n"
     ]
    },
    {
     "name": "stdout",
     "output_type": "stream",
     "text": [
      "Epoch: 1639, Train Loss: 11.3539, \n",
      "Validation Loss: 20.8464\n"
     ]
    },
    {
     "name": "stderr",
     "output_type": "stream",
     "text": [
      "Epoch 1640/3000: 100%|██████████| 1/1 [00:00<00:00, 38.02it/s]\n",
      "Epoch 1641/3000: 100%|██████████| 1/1 [00:00<00:00, 40.75it/s]\n",
      "Validation: 100%|██████████| 1/1 [00:00<00:00, 51.35it/s]\n"
     ]
    },
    {
     "name": "stdout",
     "output_type": "stream",
     "text": [
      "Epoch: 1641, Train Loss: 22.6712, \n",
      "Validation Loss: 20.8762\n"
     ]
    },
    {
     "name": "stderr",
     "output_type": "stream",
     "text": [
      "Epoch 1642/3000: 100%|██████████| 1/1 [00:00<00:00, 36.54it/s]\n",
      "Epoch 1643/3000: 100%|██████████| 1/1 [00:00<00:00, 38.82it/s]\n",
      "Validation: 100%|██████████| 1/1 [00:00<00:00, 52.55it/s]\n"
     ]
    },
    {
     "name": "stdout",
     "output_type": "stream",
     "text": [
      "Epoch: 1643, Train Loss: 14.1416, \n",
      "Validation Loss: 21.5786\n"
     ]
    },
    {
     "name": "stderr",
     "output_type": "stream",
     "text": [
      "Epoch 1644/3000: 100%|██████████| 1/1 [00:00<00:00, 40.05it/s]\n",
      "Epoch 1645/3000: 100%|██████████| 1/1 [00:00<00:00, 34.92it/s]\n",
      "Validation: 100%|██████████| 1/1 [00:00<00:00, 51.15it/s]\n"
     ]
    },
    {
     "name": "stdout",
     "output_type": "stream",
     "text": [
      "Epoch: 1645, Train Loss: 16.6095, \n",
      "Validation Loss: 28.0797\n"
     ]
    },
    {
     "name": "stderr",
     "output_type": "stream",
     "text": [
      "Epoch 1646/3000: 100%|██████████| 1/1 [00:00<00:00, 39.74it/s]\n",
      "Epoch 1647/3000: 100%|██████████| 1/1 [00:00<00:00, 36.10it/s]\n",
      "Validation: 100%|██████████| 1/1 [00:00<00:00, 49.59it/s]\n"
     ]
    },
    {
     "name": "stdout",
     "output_type": "stream",
     "text": [
      "Epoch: 1647, Train Loss: 27.9520, \n",
      "Validation Loss: 24.2625\n"
     ]
    },
    {
     "name": "stderr",
     "output_type": "stream",
     "text": [
      "Epoch 1648/3000: 100%|██████████| 1/1 [00:00<00:00, 40.17it/s]\n",
      "Epoch 1649/3000: 100%|██████████| 1/1 [00:00<00:00, 39.24it/s]\n",
      "Validation: 100%|██████████| 1/1 [00:00<00:00, 44.61it/s]\n"
     ]
    },
    {
     "name": "stdout",
     "output_type": "stream",
     "text": [
      "Epoch: 1649, Train Loss: 20.5210, \n",
      "Validation Loss: 22.2064\n"
     ]
    },
    {
     "name": "stderr",
     "output_type": "stream",
     "text": [
      "Epoch 1650/3000: 100%|██████████| 1/1 [00:00<00:00, 43.46it/s]\n",
      "Epoch 1651/3000: 100%|██████████| 1/1 [00:00<00:00, 39.65it/s]\n",
      "Validation: 100%|██████████| 1/1 [00:00<00:00, 49.72it/s]\n"
     ]
    },
    {
     "name": "stdout",
     "output_type": "stream",
     "text": [
      "Epoch: 1651, Train Loss: 17.4746, \n",
      "Validation Loss: 21.6486\n"
     ]
    },
    {
     "name": "stderr",
     "output_type": "stream",
     "text": [
      "Epoch 1652/3000: 100%|██████████| 1/1 [00:00<00:00, 39.46it/s]\n",
      "Epoch 1653/3000: 100%|██████████| 1/1 [00:00<00:00, 42.21it/s]\n",
      "Validation: 100%|██████████| 1/1 [00:00<00:00, 47.52it/s]\n"
     ]
    },
    {
     "name": "stdout",
     "output_type": "stream",
     "text": [
      "Epoch: 1653, Train Loss: 13.8272, \n",
      "Validation Loss: 28.4860\n"
     ]
    },
    {
     "name": "stderr",
     "output_type": "stream",
     "text": [
      "Epoch 1654/3000: 100%|██████████| 1/1 [00:00<00:00, 36.70it/s]\n",
      "Epoch 1655/3000: 100%|██████████| 1/1 [00:00<00:00, 39.57it/s]\n",
      "Validation: 100%|██████████| 1/1 [00:00<00:00, 54.84it/s]\n"
     ]
    },
    {
     "name": "stdout",
     "output_type": "stream",
     "text": [
      "Epoch: 1655, Train Loss: 49.5277, \n",
      "Validation Loss: 23.8230\n"
     ]
    },
    {
     "name": "stderr",
     "output_type": "stream",
     "text": [
      "Epoch 1656/3000: 100%|██████████| 1/1 [00:00<00:00, 40.94it/s]\n",
      "Epoch 1657/3000: 100%|██████████| 1/1 [00:00<00:00, 39.66it/s]\n",
      "Validation: 100%|██████████| 1/1 [00:00<00:00, 48.73it/s]\n"
     ]
    },
    {
     "name": "stdout",
     "output_type": "stream",
     "text": [
      "Epoch: 1657, Train Loss: 31.3156, \n",
      "Validation Loss: 21.4644\n"
     ]
    },
    {
     "name": "stderr",
     "output_type": "stream",
     "text": [
      "Epoch 1658/3000: 100%|██████████| 1/1 [00:00<00:00, 40.40it/s]\n",
      "Epoch 1659/3000: 100%|██████████| 1/1 [00:00<00:00, 40.33it/s]\n",
      "Validation: 100%|██████████| 1/1 [00:00<00:00, 50.20it/s]\n"
     ]
    },
    {
     "name": "stdout",
     "output_type": "stream",
     "text": [
      "Epoch: 1659, Train Loss: 20.0019, \n",
      "Validation Loss: 21.3175\n"
     ]
    },
    {
     "name": "stderr",
     "output_type": "stream",
     "text": [
      "Epoch 1660/3000: 100%|██████████| 1/1 [00:00<00:00, 38.60it/s]\n",
      "Epoch 1661/3000: 100%|██████████| 1/1 [00:00<00:00, 42.06it/s]\n",
      "Validation: 100%|██████████| 1/1 [00:00<00:00, 50.14it/s]\n"
     ]
    },
    {
     "name": "stdout",
     "output_type": "stream",
     "text": [
      "Epoch: 1661, Train Loss: 29.0440, \n",
      "Validation Loss: 20.7718\n"
     ]
    },
    {
     "name": "stderr",
     "output_type": "stream",
     "text": [
      "Epoch 1662/3000: 100%|██████████| 1/1 [00:00<00:00, 39.13it/s]\n",
      "Epoch 1663/3000: 100%|██████████| 1/1 [00:00<00:00, 39.89it/s]\n",
      "Validation: 100%|██████████| 1/1 [00:00<00:00, 51.71it/s]\n"
     ]
    },
    {
     "name": "stdout",
     "output_type": "stream",
     "text": [
      "Epoch: 1663, Train Loss: 34.6420, \n",
      "Validation Loss: 21.1286\n"
     ]
    },
    {
     "name": "stderr",
     "output_type": "stream",
     "text": [
      "Epoch 1664/3000: 100%|██████████| 1/1 [00:00<00:00, 37.31it/s]\n",
      "Epoch 1665/3000: 100%|██████████| 1/1 [00:00<00:00, 38.27it/s]\n",
      "Validation: 100%|██████████| 1/1 [00:00<00:00, 50.34it/s]\n"
     ]
    },
    {
     "name": "stdout",
     "output_type": "stream",
     "text": [
      "Epoch: 1665, Train Loss: 23.7743, \n",
      "Validation Loss: 24.0508\n"
     ]
    },
    {
     "name": "stderr",
     "output_type": "stream",
     "text": [
      "Epoch 1666/3000: 100%|██████████| 1/1 [00:00<00:00, 39.89it/s]\n",
      "Epoch 1667/3000: 100%|██████████| 1/1 [00:00<00:00, 38.52it/s]\n",
      "Validation: 100%|██████████| 1/1 [00:00<00:00, 51.48it/s]\n"
     ]
    },
    {
     "name": "stdout",
     "output_type": "stream",
     "text": [
      "Epoch: 1667, Train Loss: 34.7184, \n",
      "Validation Loss: 28.3047\n"
     ]
    },
    {
     "name": "stderr",
     "output_type": "stream",
     "text": [
      "Epoch 1668/3000: 100%|██████████| 1/1 [00:00<00:00, 40.11it/s]\n",
      "Epoch 1669/3000: 100%|██████████| 1/1 [00:00<00:00, 41.16it/s]\n",
      "Validation: 100%|██████████| 1/1 [00:00<00:00, 50.20it/s]\n"
     ]
    },
    {
     "name": "stdout",
     "output_type": "stream",
     "text": [
      "Epoch: 1669, Train Loss: 50.4835, \n",
      "Validation Loss: 22.2739\n"
     ]
    },
    {
     "name": "stderr",
     "output_type": "stream",
     "text": [
      "Epoch 1670/3000: 100%|██████████| 1/1 [00:00<00:00, 39.85it/s]\n",
      "Epoch 1671/3000: 100%|██████████| 1/1 [00:00<00:00, 34.19it/s]\n",
      "Validation: 100%|██████████| 1/1 [00:00<00:00, 51.50it/s]\n"
     ]
    },
    {
     "name": "stdout",
     "output_type": "stream",
     "text": [
      "Epoch: 1671, Train Loss: 20.2296, \n",
      "Validation Loss: 21.4610\n"
     ]
    },
    {
     "name": "stderr",
     "output_type": "stream",
     "text": [
      "Epoch 1672/3000: 100%|██████████| 1/1 [00:00<00:00, 37.57it/s]\n",
      "Epoch 1673/3000: 100%|██████████| 1/1 [00:00<00:00, 40.34it/s]\n",
      "Validation: 100%|██████████| 1/1 [00:00<00:00, 50.14it/s]\n"
     ]
    },
    {
     "name": "stdout",
     "output_type": "stream",
     "text": [
      "Epoch: 1673, Train Loss: 16.0025, \n",
      "Validation Loss: 22.4855\n"
     ]
    },
    {
     "name": "stderr",
     "output_type": "stream",
     "text": [
      "Epoch 1674/3000: 100%|██████████| 1/1 [00:00<00:00, 38.18it/s]\n",
      "Epoch 1675/3000: 100%|██████████| 1/1 [00:00<00:00, 39.94it/s]\n",
      "Validation: 100%|██████████| 1/1 [00:00<00:00, 52.71it/s]\n"
     ]
    },
    {
     "name": "stdout",
     "output_type": "stream",
     "text": [
      "Epoch: 1675, Train Loss: 8.8987, \n",
      "Validation Loss: 21.0333\n"
     ]
    },
    {
     "name": "stderr",
     "output_type": "stream",
     "text": [
      "Epoch 1676/3000: 100%|██████████| 1/1 [00:00<00:00, 37.80it/s]\n",
      "Epoch 1677/3000: 100%|██████████| 1/1 [00:00<00:00, 35.08it/s]\n",
      "Validation: 100%|██████████| 1/1 [00:00<00:00, 40.80it/s]\n"
     ]
    },
    {
     "name": "stdout",
     "output_type": "stream",
     "text": [
      "Epoch: 1677, Train Loss: 53.9960, \n",
      "Validation Loss: 24.6280\n"
     ]
    },
    {
     "name": "stderr",
     "output_type": "stream",
     "text": [
      "Epoch 1678/3000: 100%|██████████| 1/1 [00:00<00:00, 39.92it/s]\n",
      "Epoch 1679/3000: 100%|██████████| 1/1 [00:00<00:00, 41.85it/s]\n",
      "Validation: 100%|██████████| 1/1 [00:00<00:00, 49.95it/s]\n"
     ]
    },
    {
     "name": "stdout",
     "output_type": "stream",
     "text": [
      "Epoch: 1679, Train Loss: 18.0747, \n",
      "Validation Loss: 35.4495\n"
     ]
    },
    {
     "name": "stderr",
     "output_type": "stream",
     "text": [
      "Epoch 1680/3000: 100%|██████████| 1/1 [00:00<00:00, 33.57it/s]\n",
      "Epoch 1681/3000: 100%|██████████| 1/1 [00:00<00:00, 42.31it/s]\n",
      "Validation: 100%|██████████| 1/1 [00:00<00:00, 49.14it/s]\n"
     ]
    },
    {
     "name": "stdout",
     "output_type": "stream",
     "text": [
      "Epoch: 1681, Train Loss: 46.5630, \n",
      "Validation Loss: 27.2025\n"
     ]
    },
    {
     "name": "stderr",
     "output_type": "stream",
     "text": [
      "Epoch 1682/3000: 100%|██████████| 1/1 [00:00<00:00, 39.80it/s]\n",
      "Epoch 1683/3000: 100%|██████████| 1/1 [00:00<00:00, 39.89it/s]\n",
      "Validation: 100%|██████████| 1/1 [00:00<00:00, 54.40it/s]\n"
     ]
    },
    {
     "name": "stdout",
     "output_type": "stream",
     "text": [
      "Epoch: 1683, Train Loss: 12.7480, \n",
      "Validation Loss: 21.4447\n"
     ]
    },
    {
     "name": "stderr",
     "output_type": "stream",
     "text": [
      "Epoch 1684/3000: 100%|██████████| 1/1 [00:00<00:00, 37.32it/s]\n",
      "Epoch 1685/3000: 100%|██████████| 1/1 [00:00<00:00, 36.77it/s]\n",
      "Validation: 100%|██████████| 1/1 [00:00<00:00, 49.64it/s]\n"
     ]
    },
    {
     "name": "stdout",
     "output_type": "stream",
     "text": [
      "Epoch: 1685, Train Loss: 11.6683, \n",
      "Validation Loss: 21.9307\n"
     ]
    },
    {
     "name": "stderr",
     "output_type": "stream",
     "text": [
      "Epoch 1686/3000: 100%|██████████| 1/1 [00:00<00:00, 41.81it/s]\n",
      "Epoch 1687/3000: 100%|██████████| 1/1 [00:00<00:00, 33.89it/s]\n",
      "Validation: 100%|██████████| 1/1 [00:00<00:00, 50.48it/s]\n"
     ]
    },
    {
     "name": "stdout",
     "output_type": "stream",
     "text": [
      "Epoch: 1687, Train Loss: 42.9139, \n",
      "Validation Loss: 21.3006\n"
     ]
    },
    {
     "name": "stderr",
     "output_type": "stream",
     "text": [
      "Epoch 1688/3000: 100%|██████████| 1/1 [00:00<00:00, 26.28it/s]\n",
      "Epoch 1689/3000: 100%|██████████| 1/1 [00:00<00:00, 39.64it/s]\n",
      "Validation: 100%|██████████| 1/1 [00:00<00:00, 49.24it/s]\n"
     ]
    },
    {
     "name": "stdout",
     "output_type": "stream",
     "text": [
      "Epoch: 1689, Train Loss: 30.9588, \n",
      "Validation Loss: 22.8524\n"
     ]
    },
    {
     "name": "stderr",
     "output_type": "stream",
     "text": [
      "Epoch 1690/3000: 100%|██████████| 1/1 [00:00<00:00, 40.71it/s]\n",
      "Epoch 1691/3000: 100%|██████████| 1/1 [00:00<00:00, 36.86it/s]\n",
      "Validation: 100%|██████████| 1/1 [00:00<00:00, 49.19it/s]\n"
     ]
    },
    {
     "name": "stdout",
     "output_type": "stream",
     "text": [
      "Epoch: 1691, Train Loss: 49.5987, \n",
      "Validation Loss: 20.9270\n"
     ]
    },
    {
     "name": "stderr",
     "output_type": "stream",
     "text": [
      "Epoch 1692/3000: 100%|██████████| 1/1 [00:00<00:00, 39.88it/s]\n",
      "Epoch 1693/3000: 100%|██████████| 1/1 [00:00<00:00, 37.19it/s]\n",
      "Validation: 100%|██████████| 1/1 [00:00<00:00, 54.55it/s]\n"
     ]
    },
    {
     "name": "stdout",
     "output_type": "stream",
     "text": [
      "Epoch: 1693, Train Loss: 36.3318, \n",
      "Validation Loss: 21.3658\n"
     ]
    },
    {
     "name": "stderr",
     "output_type": "stream",
     "text": [
      "Epoch 1694/3000: 100%|██████████| 1/1 [00:00<00:00, 40.48it/s]\n",
      "Epoch 1695/3000: 100%|██████████| 1/1 [00:00<00:00, 39.02it/s]\n",
      "Validation: 100%|██████████| 1/1 [00:00<00:00, 49.13it/s]\n"
     ]
    },
    {
     "name": "stdout",
     "output_type": "stream",
     "text": [
      "Epoch: 1695, Train Loss: 25.9687, \n",
      "Validation Loss: 26.3586\n"
     ]
    },
    {
     "name": "stderr",
     "output_type": "stream",
     "text": [
      "Epoch 1696/3000: 100%|██████████| 1/1 [00:00<00:00, 40.70it/s]\n",
      "Epoch 1697/3000: 100%|██████████| 1/1 [00:00<00:00, 36.23it/s]\n",
      "Validation: 100%|██████████| 1/1 [00:00<00:00, 50.52it/s]\n"
     ]
    },
    {
     "name": "stdout",
     "output_type": "stream",
     "text": [
      "Epoch: 1697, Train Loss: 14.9154, \n",
      "Validation Loss: 20.7600\n"
     ]
    },
    {
     "name": "stderr",
     "output_type": "stream",
     "text": [
      "Epoch 1698/3000: 100%|██████████| 1/1 [00:00<00:00, 37.11it/s]\n",
      "Epoch 1699/3000: 100%|██████████| 1/1 [00:00<00:00, 43.01it/s]\n",
      "Validation: 100%|██████████| 1/1 [00:00<00:00, 49.83it/s]\n"
     ]
    },
    {
     "name": "stdout",
     "output_type": "stream",
     "text": [
      "Epoch: 1699, Train Loss: 29.2393, \n",
      "Validation Loss: 20.2914\n"
     ]
    },
    {
     "name": "stderr",
     "output_type": "stream",
     "text": [
      "Epoch 1700/3000: 100%|██████████| 1/1 [00:00<00:00, 40.39it/s]\n",
      "Epoch 1701/3000: 100%|██████████| 1/1 [00:00<00:00, 39.33it/s]\n",
      "Validation: 100%|██████████| 1/1 [00:00<00:00, 55.24it/s]\n"
     ]
    },
    {
     "name": "stdout",
     "output_type": "stream",
     "text": [
      "Epoch: 1701, Train Loss: 21.7709, \n",
      "Validation Loss: 20.9717\n"
     ]
    },
    {
     "name": "stderr",
     "output_type": "stream",
     "text": [
      "Epoch 1702/3000: 100%|██████████| 1/1 [00:00<00:00, 33.32it/s]\n",
      "Epoch 1703/3000: 100%|██████████| 1/1 [00:00<00:00, 35.99it/s]\n",
      "Validation: 100%|██████████| 1/1 [00:00<00:00, 49.93it/s]\n"
     ]
    },
    {
     "name": "stdout",
     "output_type": "stream",
     "text": [
      "Epoch: 1703, Train Loss: 10.7593, \n",
      "Validation Loss: 21.4178\n"
     ]
    },
    {
     "name": "stderr",
     "output_type": "stream",
     "text": [
      "Epoch 1704/3000: 100%|██████████| 1/1 [00:00<00:00, 42.13it/s]\n",
      "Epoch 1705/3000: 100%|██████████| 1/1 [00:00<00:00, 33.14it/s]\n",
      "Validation: 100%|██████████| 1/1 [00:00<00:00, 49.85it/s]\n"
     ]
    },
    {
     "name": "stdout",
     "output_type": "stream",
     "text": [
      "Epoch: 1705, Train Loss: 24.2973, \n",
      "Validation Loss: 21.4973\n"
     ]
    },
    {
     "name": "stderr",
     "output_type": "stream",
     "text": [
      "Epoch 1706/3000: 100%|██████████| 1/1 [00:00<00:00, 34.18it/s]\n",
      "Epoch 1707/3000: 100%|██████████| 1/1 [00:00<00:00, 40.72it/s]\n",
      "Validation: 100%|██████████| 1/1 [00:00<00:00, 50.61it/s]\n"
     ]
    },
    {
     "name": "stdout",
     "output_type": "stream",
     "text": [
      "Epoch: 1707, Train Loss: 24.7904, \n",
      "Validation Loss: 21.2041\n"
     ]
    },
    {
     "name": "stderr",
     "output_type": "stream",
     "text": [
      "Epoch 1708/3000: 100%|██████████| 1/1 [00:00<00:00, 35.70it/s]\n",
      "Epoch 1709/3000: 100%|██████████| 1/1 [00:00<00:00, 42.10it/s]\n",
      "Validation: 100%|██████████| 1/1 [00:00<00:00, 45.22it/s]\n"
     ]
    },
    {
     "name": "stdout",
     "output_type": "stream",
     "text": [
      "Epoch: 1709, Train Loss: 36.8576, \n",
      "Validation Loss: 22.4815\n"
     ]
    },
    {
     "name": "stderr",
     "output_type": "stream",
     "text": [
      "Epoch 1710/3000: 100%|██████████| 1/1 [00:00<00:00, 35.68it/s]\n",
      "Epoch 1711/3000: 100%|██████████| 1/1 [00:00<00:00, 31.61it/s]\n",
      "Validation: 100%|██████████| 1/1 [00:00<00:00, 54.90it/s]\n"
     ]
    },
    {
     "name": "stdout",
     "output_type": "stream",
     "text": [
      "Epoch: 1711, Train Loss: 40.5388, \n",
      "Validation Loss: 24.7513\n"
     ]
    },
    {
     "name": "stderr",
     "output_type": "stream",
     "text": [
      "Epoch 1712/3000: 100%|██████████| 1/1 [00:00<00:00, 38.21it/s]\n",
      "Epoch 1713/3000: 100%|██████████| 1/1 [00:00<00:00, 34.76it/s]\n",
      "Validation: 100%|██████████| 1/1 [00:00<00:00, 51.54it/s]\n"
     ]
    },
    {
     "name": "stdout",
     "output_type": "stream",
     "text": [
      "Epoch: 1713, Train Loss: 33.3660, \n",
      "Validation Loss: 20.9625\n"
     ]
    },
    {
     "name": "stderr",
     "output_type": "stream",
     "text": [
      "Epoch 1714/3000: 100%|██████████| 1/1 [00:00<00:00, 36.95it/s]\n",
      "Epoch 1715/3000: 100%|██████████| 1/1 [00:00<00:00, 40.71it/s]\n",
      "Validation: 100%|██████████| 1/1 [00:00<00:00, 46.99it/s]\n"
     ]
    },
    {
     "name": "stdout",
     "output_type": "stream",
     "text": [
      "Epoch: 1715, Train Loss: 19.9283, \n",
      "Validation Loss: 26.2444\n"
     ]
    },
    {
     "name": "stderr",
     "output_type": "stream",
     "text": [
      "Epoch 1716/3000: 100%|██████████| 1/1 [00:00<00:00, 40.48it/s]\n",
      "Epoch 1717/3000: 100%|██████████| 1/1 [00:00<00:00, 41.52it/s]\n",
      "Validation: 100%|██████████| 1/1 [00:00<00:00, 51.91it/s]\n"
     ]
    },
    {
     "name": "stdout",
     "output_type": "stream",
     "text": [
      "Epoch: 1717, Train Loss: 51.2871, \n",
      "Validation Loss: 21.3050\n"
     ]
    },
    {
     "name": "stderr",
     "output_type": "stream",
     "text": [
      "Epoch 1718/3000: 100%|██████████| 1/1 [00:00<00:00, 36.88it/s]\n",
      "Epoch 1719/3000: 100%|██████████| 1/1 [00:00<00:00, 39.03it/s]\n",
      "Validation: 100%|██████████| 1/1 [00:00<00:00, 52.56it/s]\n"
     ]
    },
    {
     "name": "stdout",
     "output_type": "stream",
     "text": [
      "Epoch: 1719, Train Loss: 18.0176, \n",
      "Validation Loss: 21.3224\n"
     ]
    },
    {
     "name": "stderr",
     "output_type": "stream",
     "text": [
      "Epoch 1720/3000: 100%|██████████| 1/1 [00:00<00:00, 36.60it/s]\n",
      "Epoch 1721/3000: 100%|██████████| 1/1 [00:00<00:00, 33.28it/s]\n",
      "Validation: 100%|██████████| 1/1 [00:00<00:00, 54.75it/s]\n"
     ]
    },
    {
     "name": "stdout",
     "output_type": "stream",
     "text": [
      "Epoch: 1721, Train Loss: 14.6372, \n",
      "Validation Loss: 26.0032\n"
     ]
    },
    {
     "name": "stderr",
     "output_type": "stream",
     "text": [
      "Epoch 1722/3000: 100%|██████████| 1/1 [00:00<00:00, 35.64it/s]\n",
      "Epoch 1723/3000: 100%|██████████| 1/1 [00:00<00:00, 39.43it/s]\n",
      "Validation: 100%|██████████| 1/1 [00:00<00:00, 49.50it/s]\n"
     ]
    },
    {
     "name": "stdout",
     "output_type": "stream",
     "text": [
      "Epoch: 1723, Train Loss: 59.4797, \n",
      "Validation Loss: 21.9207\n"
     ]
    },
    {
     "name": "stderr",
     "output_type": "stream",
     "text": [
      "Epoch 1724/3000: 100%|██████████| 1/1 [00:00<00:00, 42.00it/s]\n",
      "Epoch 1725/3000: 100%|██████████| 1/1 [00:00<00:00, 35.64it/s]\n",
      "Validation: 100%|██████████| 1/1 [00:00<00:00, 50.99it/s]\n"
     ]
    },
    {
     "name": "stdout",
     "output_type": "stream",
     "text": [
      "Epoch: 1725, Train Loss: 32.7969, \n",
      "Validation Loss: 21.6121\n"
     ]
    },
    {
     "name": "stderr",
     "output_type": "stream",
     "text": [
      "Epoch 1726/3000: 100%|██████████| 1/1 [00:00<00:00, 34.75it/s]\n",
      "Epoch 1727/3000: 100%|██████████| 1/1 [00:00<00:00, 43.66it/s]\n",
      "Validation: 100%|██████████| 1/1 [00:00<00:00, 50.89it/s]\n"
     ]
    },
    {
     "name": "stdout",
     "output_type": "stream",
     "text": [
      "Epoch: 1727, Train Loss: 30.4672, \n",
      "Validation Loss: 23.0201\n"
     ]
    },
    {
     "name": "stderr",
     "output_type": "stream",
     "text": [
      "Epoch 1728/3000: 100%|██████████| 1/1 [00:00<00:00, 38.39it/s]\n",
      "Epoch 1729/3000: 100%|██████████| 1/1 [00:00<00:00, 40.63it/s]\n",
      "Validation: 100%|██████████| 1/1 [00:00<00:00, 48.48it/s]\n"
     ]
    },
    {
     "name": "stdout",
     "output_type": "stream",
     "text": [
      "Epoch: 1729, Train Loss: 20.5754, \n",
      "Validation Loss: 21.1240\n"
     ]
    },
    {
     "name": "stderr",
     "output_type": "stream",
     "text": [
      "Epoch 1730/3000: 100%|██████████| 1/1 [00:00<00:00, 34.44it/s]\n",
      "Epoch 1731/3000: 100%|██████████| 1/1 [00:00<00:00, 37.18it/s]\n",
      "Validation: 100%|██████████| 1/1 [00:00<00:00, 54.65it/s]\n"
     ]
    },
    {
     "name": "stdout",
     "output_type": "stream",
     "text": [
      "Epoch: 1731, Train Loss: 21.1415, \n",
      "Validation Loss: 20.9352\n"
     ]
    },
    {
     "name": "stderr",
     "output_type": "stream",
     "text": [
      "Epoch 1732/3000: 100%|██████████| 1/1 [00:00<00:00, 37.38it/s]\n",
      "Epoch 1733/3000: 100%|██████████| 1/1 [00:00<00:00, 40.21it/s]\n",
      "Validation: 100%|██████████| 1/1 [00:00<00:00, 50.72it/s]\n"
     ]
    },
    {
     "name": "stdout",
     "output_type": "stream",
     "text": [
      "Epoch: 1733, Train Loss: 12.3249, \n",
      "Validation Loss: 20.8864\n"
     ]
    },
    {
     "name": "stderr",
     "output_type": "stream",
     "text": [
      "Epoch 1734/3000: 100%|██████████| 1/1 [00:00<00:00, 42.83it/s]\n",
      "Epoch 1735/3000: 100%|██████████| 1/1 [00:00<00:00, 32.71it/s]\n",
      "Validation: 100%|██████████| 1/1 [00:00<00:00, 43.60it/s]\n"
     ]
    },
    {
     "name": "stdout",
     "output_type": "stream",
     "text": [
      "Epoch: 1735, Train Loss: 21.4876, \n",
      "Validation Loss: 21.3949\n"
     ]
    },
    {
     "name": "stderr",
     "output_type": "stream",
     "text": [
      "Epoch 1736/3000: 100%|██████████| 1/1 [00:00<00:00, 39.67it/s]\n",
      "Epoch 1737/3000: 100%|██████████| 1/1 [00:00<00:00, 36.85it/s]\n",
      "Validation: 100%|██████████| 1/1 [00:00<00:00, 49.72it/s]\n"
     ]
    },
    {
     "name": "stdout",
     "output_type": "stream",
     "text": [
      "Epoch: 1737, Train Loss: 26.4958, \n",
      "Validation Loss: 24.9624\n"
     ]
    },
    {
     "name": "stderr",
     "output_type": "stream",
     "text": [
      "Epoch 1738/3000: 100%|██████████| 1/1 [00:00<00:00, 37.40it/s]\n",
      "Epoch 1739/3000: 100%|██████████| 1/1 [00:00<00:00, 41.03it/s]\n",
      "Validation: 100%|██████████| 1/1 [00:00<00:00, 49.69it/s]\n"
     ]
    },
    {
     "name": "stdout",
     "output_type": "stream",
     "text": [
      "Epoch: 1739, Train Loss: 6.1899, \n",
      "Validation Loss: 21.3339\n"
     ]
    },
    {
     "name": "stderr",
     "output_type": "stream",
     "text": [
      "Epoch 1740/3000: 100%|██████████| 1/1 [00:00<00:00, 36.73it/s]\n",
      "Epoch 1741/3000: 100%|██████████| 1/1 [00:00<00:00, 36.30it/s]\n",
      "Validation: 100%|██████████| 1/1 [00:00<00:00, 50.38it/s]\n"
     ]
    },
    {
     "name": "stdout",
     "output_type": "stream",
     "text": [
      "Epoch: 1741, Train Loss: 13.9084, \n",
      "Validation Loss: 21.8464\n"
     ]
    },
    {
     "name": "stderr",
     "output_type": "stream",
     "text": [
      "Epoch 1742/3000: 100%|██████████| 1/1 [00:00<00:00, 36.49it/s]\n",
      "Epoch 1743/3000: 100%|██████████| 1/1 [00:00<00:00, 40.74it/s]\n",
      "Validation: 100%|██████████| 1/1 [00:00<00:00, 54.83it/s]\n"
     ]
    },
    {
     "name": "stdout",
     "output_type": "stream",
     "text": [
      "Epoch: 1743, Train Loss: 32.8399, \n",
      "Validation Loss: 23.4196\n"
     ]
    },
    {
     "name": "stderr",
     "output_type": "stream",
     "text": [
      "Epoch 1744/3000: 100%|██████████| 1/1 [00:00<00:00, 39.85it/s]\n",
      "Epoch 1745/3000: 100%|██████████| 1/1 [00:00<00:00, 39.48it/s]\n",
      "Validation: 100%|██████████| 1/1 [00:00<00:00, 51.07it/s]\n"
     ]
    },
    {
     "name": "stdout",
     "output_type": "stream",
     "text": [
      "Epoch: 1745, Train Loss: 28.7091, \n",
      "Validation Loss: 21.5293\n"
     ]
    },
    {
     "name": "stderr",
     "output_type": "stream",
     "text": [
      "Epoch 1746/3000: 100%|██████████| 1/1 [00:00<00:00, 40.67it/s]\n",
      "Epoch 1747/3000: 100%|██████████| 1/1 [00:00<00:00, 35.82it/s]\n",
      "Validation: 100%|██████████| 1/1 [00:00<00:00, 52.55it/s]\n"
     ]
    },
    {
     "name": "stdout",
     "output_type": "stream",
     "text": [
      "Epoch: 1747, Train Loss: 27.2553, \n",
      "Validation Loss: 21.1611\n"
     ]
    },
    {
     "name": "stderr",
     "output_type": "stream",
     "text": [
      "Epoch 1748/3000: 100%|██████████| 1/1 [00:00<00:00, 37.52it/s]\n",
      "Epoch 1749/3000: 100%|██████████| 1/1 [00:00<00:00, 40.43it/s]\n",
      "Validation: 100%|██████████| 1/1 [00:00<00:00, 42.75it/s]\n"
     ]
    },
    {
     "name": "stdout",
     "output_type": "stream",
     "text": [
      "Epoch: 1749, Train Loss: 23.0769, \n",
      "Validation Loss: 23.2877\n"
     ]
    },
    {
     "name": "stderr",
     "output_type": "stream",
     "text": [
      "Epoch 1750/3000: 100%|██████████| 1/1 [00:00<00:00, 39.94it/s]\n",
      "Epoch 1751/3000: 100%|██████████| 1/1 [00:00<00:00, 34.41it/s]\n",
      "Validation: 100%|██████████| 1/1 [00:00<00:00, 42.27it/s]\n"
     ]
    },
    {
     "name": "stdout",
     "output_type": "stream",
     "text": [
      "Epoch: 1751, Train Loss: 46.3366, \n",
      "Validation Loss: 21.3997\n"
     ]
    },
    {
     "name": "stderr",
     "output_type": "stream",
     "text": [
      "Epoch 1752/3000: 100%|██████████| 1/1 [00:00<00:00, 39.05it/s]\n",
      "Epoch 1753/3000: 100%|██████████| 1/1 [00:00<00:00, 39.62it/s]\n",
      "Validation: 100%|██████████| 1/1 [00:00<00:00, 52.63it/s]\n"
     ]
    },
    {
     "name": "stdout",
     "output_type": "stream",
     "text": [
      "Epoch: 1753, Train Loss: 21.6876, \n",
      "Validation Loss: 42.6460\n"
     ]
    },
    {
     "name": "stderr",
     "output_type": "stream",
     "text": [
      "Epoch 1754/3000: 100%|██████████| 1/1 [00:00<00:00, 38.41it/s]\n",
      "Epoch 1755/3000: 100%|██████████| 1/1 [00:00<00:00, 40.65it/s]\n",
      "Validation: 100%|██████████| 1/1 [00:00<00:00, 50.46it/s]\n"
     ]
    },
    {
     "name": "stdout",
     "output_type": "stream",
     "text": [
      "Epoch: 1755, Train Loss: 51.4452, \n",
      "Validation Loss: 24.5782\n"
     ]
    },
    {
     "name": "stderr",
     "output_type": "stream",
     "text": [
      "Epoch 1756/3000: 100%|██████████| 1/1 [00:00<00:00, 40.04it/s]\n",
      "Epoch 1757/3000: 100%|██████████| 1/1 [00:00<00:00, 38.66it/s]\n",
      "Validation: 100%|██████████| 1/1 [00:00<00:00, 51.36it/s]\n"
     ]
    },
    {
     "name": "stdout",
     "output_type": "stream",
     "text": [
      "Epoch: 1757, Train Loss: 33.2628, \n",
      "Validation Loss: 20.9612\n"
     ]
    },
    {
     "name": "stderr",
     "output_type": "stream",
     "text": [
      "Epoch 1758/3000: 100%|██████████| 1/1 [00:00<00:00, 40.73it/s]\n",
      "Epoch 1759/3000: 100%|██████████| 1/1 [00:00<00:00, 40.63it/s]\n",
      "Validation: 100%|██████████| 1/1 [00:00<00:00, 54.87it/s]\n"
     ]
    },
    {
     "name": "stdout",
     "output_type": "stream",
     "text": [
      "Epoch: 1759, Train Loss: 27.4851, \n",
      "Validation Loss: 21.4807\n"
     ]
    },
    {
     "name": "stderr",
     "output_type": "stream",
     "text": [
      "Epoch 1760/3000: 100%|██████████| 1/1 [00:00<00:00, 40.35it/s]\n",
      "Epoch 1761/3000: 100%|██████████| 1/1 [00:00<00:00, 35.78it/s]\n",
      "Validation: 100%|██████████| 1/1 [00:00<00:00, 50.68it/s]\n"
     ]
    },
    {
     "name": "stdout",
     "output_type": "stream",
     "text": [
      "Epoch: 1761, Train Loss: 18.4215, \n",
      "Validation Loss: 21.6874\n"
     ]
    },
    {
     "name": "stderr",
     "output_type": "stream",
     "text": [
      "Epoch 1762/3000: 100%|██████████| 1/1 [00:00<00:00, 43.45it/s]\n",
      "Epoch 1763/3000: 100%|██████████| 1/1 [00:00<00:00, 36.53it/s]\n",
      "Validation: 100%|██████████| 1/1 [00:00<00:00, 46.23it/s]\n"
     ]
    },
    {
     "name": "stdout",
     "output_type": "stream",
     "text": [
      "Epoch: 1763, Train Loss: 19.5559, \n",
      "Validation Loss: 24.0879\n"
     ]
    },
    {
     "name": "stderr",
     "output_type": "stream",
     "text": [
      "Epoch 1764/3000: 100%|██████████| 1/1 [00:00<00:00, 36.40it/s]\n",
      "Epoch 1765/3000: 100%|██████████| 1/1 [00:00<00:00, 39.62it/s]\n",
      "Validation: 100%|██████████| 1/1 [00:00<00:00, 50.69it/s]\n"
     ]
    },
    {
     "name": "stdout",
     "output_type": "stream",
     "text": [
      "Epoch: 1765, Train Loss: 32.9691, \n",
      "Validation Loss: 22.8646\n"
     ]
    },
    {
     "name": "stderr",
     "output_type": "stream",
     "text": [
      "Epoch 1766/3000: 100%|██████████| 1/1 [00:00<00:00, 37.45it/s]\n",
      "Epoch 1767/3000: 100%|██████████| 1/1 [00:00<00:00, 34.43it/s]\n",
      "Validation: 100%|██████████| 1/1 [00:00<00:00, 49.19it/s]\n"
     ]
    },
    {
     "name": "stdout",
     "output_type": "stream",
     "text": [
      "Epoch: 1767, Train Loss: 26.8720, \n",
      "Validation Loss: 22.2805\n"
     ]
    },
    {
     "name": "stderr",
     "output_type": "stream",
     "text": [
      "Epoch 1768/3000: 100%|██████████| 1/1 [00:00<00:00, 34.45it/s]\n",
      "Epoch 1769/3000: 100%|██████████| 1/1 [00:00<00:00, 37.60it/s]\n",
      "Validation: 100%|██████████| 1/1 [00:00<00:00, 53.64it/s]\n"
     ]
    },
    {
     "name": "stdout",
     "output_type": "stream",
     "text": [
      "Epoch: 1769, Train Loss: 38.5088, \n",
      "Validation Loss: 25.8494\n"
     ]
    },
    {
     "name": "stderr",
     "output_type": "stream",
     "text": [
      "Epoch 1770/3000: 100%|██████████| 1/1 [00:00<00:00, 37.87it/s]\n",
      "Epoch 1771/3000: 100%|██████████| 1/1 [00:00<00:00, 37.32it/s]\n",
      "Validation: 100%|██████████| 1/1 [00:00<00:00, 47.86it/s]\n"
     ]
    },
    {
     "name": "stdout",
     "output_type": "stream",
     "text": [
      "Epoch: 1771, Train Loss: 12.2443, \n",
      "Validation Loss: 21.9676\n"
     ]
    },
    {
     "name": "stderr",
     "output_type": "stream",
     "text": [
      "Epoch 1772/3000: 100%|██████████| 1/1 [00:00<00:00, 39.73it/s]\n",
      "Epoch 1773/3000: 100%|██████████| 1/1 [00:00<00:00, 39.48it/s]\n",
      "Validation: 100%|██████████| 1/1 [00:00<00:00, 49.75it/s]\n"
     ]
    },
    {
     "name": "stdout",
     "output_type": "stream",
     "text": [
      "Epoch: 1773, Train Loss: 22.7565, \n",
      "Validation Loss: 21.3232\n"
     ]
    },
    {
     "name": "stderr",
     "output_type": "stream",
     "text": [
      "Epoch 1774/3000: 100%|██████████| 1/1 [00:00<00:00, 36.24it/s]\n",
      "Epoch 1775/3000: 100%|██████████| 1/1 [00:00<00:00, 39.78it/s]\n",
      "Validation: 100%|██████████| 1/1 [00:00<00:00, 48.97it/s]\n"
     ]
    },
    {
     "name": "stdout",
     "output_type": "stream",
     "text": [
      "Epoch: 1775, Train Loss: 13.3358, \n",
      "Validation Loss: 25.6694\n"
     ]
    },
    {
     "name": "stderr",
     "output_type": "stream",
     "text": [
      "Epoch 1776/3000: 100%|██████████| 1/1 [00:00<00:00, 40.16it/s]\n",
      "Epoch 1777/3000: 100%|██████████| 1/1 [00:00<00:00, 38.13it/s]\n",
      "Validation: 100%|██████████| 1/1 [00:00<00:00, 51.15it/s]\n"
     ]
    },
    {
     "name": "stdout",
     "output_type": "stream",
     "text": [
      "Epoch: 1777, Train Loss: 48.2130, \n",
      "Validation Loss: 22.1122\n"
     ]
    },
    {
     "name": "stderr",
     "output_type": "stream",
     "text": [
      "Epoch 1778/3000: 100%|██████████| 1/1 [00:00<00:00, 32.78it/s]\n",
      "Epoch 1779/3000: 100%|██████████| 1/1 [00:00<00:00, 40.19it/s]\n",
      "Validation: 100%|██████████| 1/1 [00:00<00:00, 51.25it/s]\n"
     ]
    },
    {
     "name": "stdout",
     "output_type": "stream",
     "text": [
      "Epoch: 1779, Train Loss: 6.8663, \n",
      "Validation Loss: 21.2850\n"
     ]
    },
    {
     "name": "stderr",
     "output_type": "stream",
     "text": [
      "Epoch 1780/3000: 100%|██████████| 1/1 [00:00<00:00, 40.12it/s]\n",
      "Epoch 1781/3000: 100%|██████████| 1/1 [00:00<00:00, 41.42it/s]\n",
      "Validation: 100%|██████████| 1/1 [00:00<00:00, 53.22it/s]\n"
     ]
    },
    {
     "name": "stdout",
     "output_type": "stream",
     "text": [
      "Epoch: 1781, Train Loss: 14.2712, \n",
      "Validation Loss: 23.6498\n"
     ]
    },
    {
     "name": "stderr",
     "output_type": "stream",
     "text": [
      "Epoch 1782/3000: 100%|██████████| 1/1 [00:00<00:00, 36.91it/s]\n",
      "Epoch 1783/3000: 100%|██████████| 1/1 [00:00<00:00, 39.93it/s]\n",
      "Validation: 100%|██████████| 1/1 [00:00<00:00, 44.10it/s]\n"
     ]
    },
    {
     "name": "stdout",
     "output_type": "stream",
     "text": [
      "Epoch: 1783, Train Loss: 23.2252, \n",
      "Validation Loss: 20.5784\n"
     ]
    },
    {
     "name": "stderr",
     "output_type": "stream",
     "text": [
      "Epoch 1784/3000: 100%|██████████| 1/1 [00:00<00:00, 35.90it/s]\n",
      "Epoch 1785/3000: 100%|██████████| 1/1 [00:00<00:00, 43.56it/s]\n",
      "Validation: 100%|██████████| 1/1 [00:00<00:00, 50.82it/s]\n"
     ]
    },
    {
     "name": "stdout",
     "output_type": "stream",
     "text": [
      "Epoch: 1785, Train Loss: 34.6511, \n",
      "Validation Loss: 20.7799\n"
     ]
    },
    {
     "name": "stderr",
     "output_type": "stream",
     "text": [
      "Epoch 1786/3000: 100%|██████████| 1/1 [00:00<00:00, 38.20it/s]\n",
      "Epoch 1787/3000: 100%|██████████| 1/1 [00:00<00:00, 38.59it/s]\n",
      "Validation: 100%|██████████| 1/1 [00:00<00:00, 54.57it/s]\n"
     ]
    },
    {
     "name": "stdout",
     "output_type": "stream",
     "text": [
      "Epoch: 1787, Train Loss: 16.0087, \n",
      "Validation Loss: 21.2119\n"
     ]
    },
    {
     "name": "stderr",
     "output_type": "stream",
     "text": [
      "Epoch 1788/3000: 100%|██████████| 1/1 [00:00<00:00, 37.60it/s]\n",
      "Epoch 1789/3000: 100%|██████████| 1/1 [00:00<00:00, 37.85it/s]\n",
      "Validation: 100%|██████████| 1/1 [00:00<00:00, 49.81it/s]\n"
     ]
    },
    {
     "name": "stdout",
     "output_type": "stream",
     "text": [
      "Epoch: 1789, Train Loss: 13.0438, \n",
      "Validation Loss: 21.5182\n"
     ]
    },
    {
     "name": "stderr",
     "output_type": "stream",
     "text": [
      "Epoch 1790/3000: 100%|██████████| 1/1 [00:00<00:00, 41.50it/s]\n",
      "Epoch 1791/3000: 100%|██████████| 1/1 [00:00<00:00, 35.80it/s]\n",
      "Validation: 100%|██████████| 1/1 [00:00<00:00, 47.42it/s]\n"
     ]
    },
    {
     "name": "stdout",
     "output_type": "stream",
     "text": [
      "Epoch: 1791, Train Loss: 26.3795, \n",
      "Validation Loss: 21.3142\n"
     ]
    },
    {
     "name": "stderr",
     "output_type": "stream",
     "text": [
      "Epoch 1792/3000: 100%|██████████| 1/1 [00:00<00:00, 41.52it/s]\n",
      "Epoch 1793/3000: 100%|██████████| 1/1 [00:00<00:00, 36.98it/s]\n",
      "Validation: 100%|██████████| 1/1 [00:00<00:00, 48.81it/s]\n"
     ]
    },
    {
     "name": "stdout",
     "output_type": "stream",
     "text": [
      "Epoch: 1793, Train Loss: 8.6134, \n",
      "Validation Loss: 21.2906\n"
     ]
    },
    {
     "name": "stderr",
     "output_type": "stream",
     "text": [
      "Epoch 1794/3000: 100%|██████████| 1/1 [00:00<00:00, 38.26it/s]\n",
      "Epoch 1795/3000: 100%|██████████| 1/1 [00:00<00:00, 40.02it/s]\n",
      "Validation: 100%|██████████| 1/1 [00:00<00:00, 53.60it/s]\n"
     ]
    },
    {
     "name": "stdout",
     "output_type": "stream",
     "text": [
      "Epoch: 1795, Train Loss: 11.5916, \n",
      "Validation Loss: 21.5292\n"
     ]
    },
    {
     "name": "stderr",
     "output_type": "stream",
     "text": [
      "Epoch 1796/3000: 100%|██████████| 1/1 [00:00<00:00, 41.73it/s]\n",
      "Epoch 1797/3000: 100%|██████████| 1/1 [00:00<00:00, 40.12it/s]\n",
      "Validation: 100%|██████████| 1/1 [00:00<00:00, 51.16it/s]\n"
     ]
    },
    {
     "name": "stdout",
     "output_type": "stream",
     "text": [
      "Epoch: 1797, Train Loss: 28.6004, \n",
      "Validation Loss: 21.6778\n"
     ]
    },
    {
     "name": "stderr",
     "output_type": "stream",
     "text": [
      "Epoch 1798/3000: 100%|██████████| 1/1 [00:00<00:00, 42.64it/s]\n",
      "Epoch 1799/3000: 100%|██████████| 1/1 [00:00<00:00, 40.35it/s]\n",
      "Validation: 100%|██████████| 1/1 [00:00<00:00, 52.35it/s]\n"
     ]
    },
    {
     "name": "stdout",
     "output_type": "stream",
     "text": [
      "Epoch: 1799, Train Loss: 21.0664, \n",
      "Validation Loss: 21.9402\n"
     ]
    },
    {
     "name": "stderr",
     "output_type": "stream",
     "text": [
      "Epoch 1800/3000: 100%|██████████| 1/1 [00:00<00:00, 35.16it/s]\n",
      "Epoch 1801/3000: 100%|██████████| 1/1 [00:00<00:00, 33.68it/s]\n",
      "Validation: 100%|██████████| 1/1 [00:00<00:00, 49.45it/s]\n"
     ]
    },
    {
     "name": "stdout",
     "output_type": "stream",
     "text": [
      "Epoch: 1801, Train Loss: 17.8800, \n",
      "Validation Loss: 20.6676\n"
     ]
    },
    {
     "name": "stderr",
     "output_type": "stream",
     "text": [
      "Epoch 1802/3000: 100%|██████████| 1/1 [00:00<00:00, 38.64it/s]\n",
      "Epoch 1803/3000: 100%|██████████| 1/1 [00:00<00:00, 40.34it/s]\n",
      "Validation: 100%|██████████| 1/1 [00:00<00:00, 53.88it/s]\n"
     ]
    },
    {
     "name": "stdout",
     "output_type": "stream",
     "text": [
      "Epoch: 1803, Train Loss: 37.5180, \n",
      "Validation Loss: 21.7090\n"
     ]
    },
    {
     "name": "stderr",
     "output_type": "stream",
     "text": [
      "Epoch 1804/3000: 100%|██████████| 1/1 [00:00<00:00, 36.90it/s]\n",
      "Epoch 1805/3000: 100%|██████████| 1/1 [00:00<00:00, 41.00it/s]\n",
      "Validation: 100%|██████████| 1/1 [00:00<00:00, 51.10it/s]\n"
     ]
    },
    {
     "name": "stdout",
     "output_type": "stream",
     "text": [
      "Epoch: 1805, Train Loss: 25.2198, \n",
      "Validation Loss: 23.3218\n"
     ]
    },
    {
     "name": "stderr",
     "output_type": "stream",
     "text": [
      "Epoch 1806/3000: 100%|██████████| 1/1 [00:00<00:00, 41.73it/s]\n",
      "Epoch 1807/3000: 100%|██████████| 1/1 [00:00<00:00, 40.38it/s]\n",
      "Validation: 100%|██████████| 1/1 [00:00<00:00, 52.37it/s]\n"
     ]
    },
    {
     "name": "stdout",
     "output_type": "stream",
     "text": [
      "Epoch: 1807, Train Loss: 17.5528, \n",
      "Validation Loss: 21.4299\n"
     ]
    },
    {
     "name": "stderr",
     "output_type": "stream",
     "text": [
      "Epoch 1808/3000: 100%|██████████| 1/1 [00:00<00:00, 39.78it/s]\n",
      "Epoch 1809/3000: 100%|██████████| 1/1 [00:00<00:00, 40.20it/s]\n",
      "Validation: 100%|██████████| 1/1 [00:00<00:00, 48.24it/s]\n"
     ]
    },
    {
     "name": "stdout",
     "output_type": "stream",
     "text": [
      "Epoch: 1809, Train Loss: 6.7754, \n",
      "Validation Loss: 20.5609\n"
     ]
    },
    {
     "name": "stderr",
     "output_type": "stream",
     "text": [
      "Epoch 1810/3000: 100%|██████████| 1/1 [00:00<00:00, 38.55it/s]\n",
      "Epoch 1811/3000: 100%|██████████| 1/1 [00:00<00:00, 36.84it/s]\n",
      "Validation: 100%|██████████| 1/1 [00:00<00:00, 53.73it/s]\n"
     ]
    },
    {
     "name": "stdout",
     "output_type": "stream",
     "text": [
      "Epoch: 1811, Train Loss: 18.1482, \n",
      "Validation Loss: 20.4292\n"
     ]
    },
    {
     "name": "stderr",
     "output_type": "stream",
     "text": [
      "Epoch 1812/3000: 100%|██████████| 1/1 [00:00<00:00, 37.58it/s]\n",
      "Epoch 1813/3000: 100%|██████████| 1/1 [00:00<00:00, 39.37it/s]\n",
      "Validation: 100%|██████████| 1/1 [00:00<00:00, 49.54it/s]\n"
     ]
    },
    {
     "name": "stdout",
     "output_type": "stream",
     "text": [
      "Epoch: 1813, Train Loss: 8.5088, \n",
      "Validation Loss: 21.3510\n"
     ]
    },
    {
     "name": "stderr",
     "output_type": "stream",
     "text": [
      "Epoch 1814/3000: 100%|██████████| 1/1 [00:00<00:00, 42.07it/s]\n",
      "Epoch 1815/3000: 100%|██████████| 1/1 [00:00<00:00, 40.19it/s]\n",
      "Validation: 100%|██████████| 1/1 [00:00<00:00, 50.79it/s]\n"
     ]
    },
    {
     "name": "stdout",
     "output_type": "stream",
     "text": [
      "Epoch: 1815, Train Loss: 22.5352, \n",
      "Validation Loss: 23.5628\n"
     ]
    },
    {
     "name": "stderr",
     "output_type": "stream",
     "text": [
      "Epoch 1816/3000: 100%|██████████| 1/1 [00:00<00:00, 35.60it/s]\n",
      "Epoch 1817/3000: 100%|██████████| 1/1 [00:00<00:00, 36.16it/s]\n",
      "Validation: 100%|██████████| 1/1 [00:00<00:00, 43.83it/s]\n"
     ]
    },
    {
     "name": "stdout",
     "output_type": "stream",
     "text": [
      "Epoch: 1817, Train Loss: 30.7330, \n",
      "Validation Loss: 22.2530\n"
     ]
    },
    {
     "name": "stderr",
     "output_type": "stream",
     "text": [
      "Epoch 1818/3000: 100%|██████████| 1/1 [00:00<00:00, 39.94it/s]\n",
      "Epoch 1819/3000: 100%|██████████| 1/1 [00:00<00:00, 39.03it/s]\n",
      "Validation: 100%|██████████| 1/1 [00:00<00:00, 49.85it/s]\n"
     ]
    },
    {
     "name": "stdout",
     "output_type": "stream",
     "text": [
      "Epoch: 1819, Train Loss: 45.3854, \n",
      "Validation Loss: 21.3641\n"
     ]
    },
    {
     "name": "stderr",
     "output_type": "stream",
     "text": [
      "Epoch 1820/3000: 100%|██████████| 1/1 [00:00<00:00, 40.63it/s]\n",
      "Epoch 1821/3000: 100%|██████████| 1/1 [00:00<00:00, 40.03it/s]\n",
      "Validation: 100%|██████████| 1/1 [00:00<00:00, 50.99it/s]\n"
     ]
    },
    {
     "name": "stdout",
     "output_type": "stream",
     "text": [
      "Epoch: 1821, Train Loss: 21.3984, \n",
      "Validation Loss: 21.0233\n"
     ]
    },
    {
     "name": "stderr",
     "output_type": "stream",
     "text": [
      "Epoch 1822/3000: 100%|██████████| 1/1 [00:00<00:00, 39.15it/s]\n",
      "Epoch 1823/3000: 100%|██████████| 1/1 [00:00<00:00, 35.93it/s]\n",
      "Validation: 100%|██████████| 1/1 [00:00<00:00, 51.19it/s]\n"
     ]
    },
    {
     "name": "stdout",
     "output_type": "stream",
     "text": [
      "Epoch: 1823, Train Loss: 19.9099, \n",
      "Validation Loss: 21.2904\n"
     ]
    },
    {
     "name": "stderr",
     "output_type": "stream",
     "text": [
      "Epoch 1824/3000: 100%|██████████| 1/1 [00:00<00:00, 37.69it/s]\n",
      "Epoch 1825/3000: 100%|██████████| 1/1 [00:00<00:00, 36.41it/s]\n",
      "Validation: 100%|██████████| 1/1 [00:00<00:00, 50.76it/s]\n"
     ]
    },
    {
     "name": "stdout",
     "output_type": "stream",
     "text": [
      "Epoch: 1825, Train Loss: 50.3472, \n",
      "Validation Loss: 28.9905\n"
     ]
    },
    {
     "name": "stderr",
     "output_type": "stream",
     "text": [
      "Epoch 1826/3000: 100%|██████████| 1/1 [00:00<00:00, 34.95it/s]\n",
      "Epoch 1827/3000: 100%|██████████| 1/1 [00:00<00:00, 42.72it/s]\n",
      "Validation: 100%|██████████| 1/1 [00:00<00:00, 51.62it/s]\n"
     ]
    },
    {
     "name": "stdout",
     "output_type": "stream",
     "text": [
      "Epoch: 1827, Train Loss: 32.6347, \n",
      "Validation Loss: 20.6664\n"
     ]
    },
    {
     "name": "stderr",
     "output_type": "stream",
     "text": [
      "Epoch 1828/3000: 100%|██████████| 1/1 [00:00<00:00, 40.13it/s]\n",
      "Epoch 1829/3000: 100%|██████████| 1/1 [00:00<00:00, 38.05it/s]\n",
      "Validation: 100%|██████████| 1/1 [00:00<00:00, 55.34it/s]\n"
     ]
    },
    {
     "name": "stdout",
     "output_type": "stream",
     "text": [
      "Epoch: 1829, Train Loss: 35.6244, \n",
      "Validation Loss: 21.1957\n"
     ]
    },
    {
     "name": "stderr",
     "output_type": "stream",
     "text": [
      "Epoch 1830/3000: 100%|██████████| 1/1 [00:00<00:00, 41.32it/s]\n",
      "Epoch 1831/3000: 100%|██████████| 1/1 [00:00<00:00, 38.99it/s]\n",
      "Validation: 100%|██████████| 1/1 [00:00<00:00, 51.35it/s]\n"
     ]
    },
    {
     "name": "stdout",
     "output_type": "stream",
     "text": [
      "Epoch: 1831, Train Loss: 42.8093, \n",
      "Validation Loss: 21.5006\n"
     ]
    },
    {
     "name": "stderr",
     "output_type": "stream",
     "text": [
      "Epoch 1832/3000: 100%|██████████| 1/1 [00:00<00:00, 36.85it/s]\n",
      "Epoch 1833/3000: 100%|██████████| 1/1 [00:00<00:00, 31.19it/s]\n",
      "Validation: 100%|██████████| 1/1 [00:00<00:00, 50.05it/s]\n"
     ]
    },
    {
     "name": "stdout",
     "output_type": "stream",
     "text": [
      "Epoch: 1833, Train Loss: 37.5182, \n",
      "Validation Loss: 21.4559\n"
     ]
    },
    {
     "name": "stderr",
     "output_type": "stream",
     "text": [
      "Epoch 1834/3000: 100%|██████████| 1/1 [00:00<00:00, 40.06it/s]\n",
      "Epoch 1835/3000: 100%|██████████| 1/1 [00:00<00:00, 38.91it/s]\n",
      "Validation: 100%|██████████| 1/1 [00:00<00:00, 50.71it/s]\n"
     ]
    },
    {
     "name": "stdout",
     "output_type": "stream",
     "text": [
      "Epoch: 1835, Train Loss: 28.9932, \n",
      "Validation Loss: 27.7531\n"
     ]
    },
    {
     "name": "stderr",
     "output_type": "stream",
     "text": [
      "Epoch 1836/3000: 100%|██████████| 1/1 [00:00<00:00, 38.24it/s]\n",
      "Epoch 1837/3000: 100%|██████████| 1/1 [00:00<00:00, 38.45it/s]\n",
      "Validation: 100%|██████████| 1/1 [00:00<00:00, 52.14it/s]\n"
     ]
    },
    {
     "name": "stdout",
     "output_type": "stream",
     "text": [
      "Epoch: 1837, Train Loss: 27.0387, \n",
      "Validation Loss: 22.7278\n"
     ]
    },
    {
     "name": "stderr",
     "output_type": "stream",
     "text": [
      "Epoch 1838/3000: 100%|██████████| 1/1 [00:00<00:00, 38.62it/s]\n",
      "Epoch 1839/3000: 100%|██████████| 1/1 [00:00<00:00, 33.67it/s]\n",
      "Validation: 100%|██████████| 1/1 [00:00<00:00, 52.48it/s]\n"
     ]
    },
    {
     "name": "stdout",
     "output_type": "stream",
     "text": [
      "Epoch: 1839, Train Loss: 17.4774, \n",
      "Validation Loss: 21.3873\n"
     ]
    },
    {
     "name": "stderr",
     "output_type": "stream",
     "text": [
      "Epoch 1840/3000: 100%|██████████| 1/1 [00:00<00:00, 42.33it/s]\n",
      "Epoch 1841/3000: 100%|██████████| 1/1 [00:00<00:00, 41.08it/s]\n",
      "Validation: 100%|██████████| 1/1 [00:00<00:00, 50.19it/s]\n"
     ]
    },
    {
     "name": "stdout",
     "output_type": "stream",
     "text": [
      "Epoch: 1841, Train Loss: 13.1025, \n",
      "Validation Loss: 21.7607\n"
     ]
    },
    {
     "name": "stderr",
     "output_type": "stream",
     "text": [
      "Epoch 1842/3000: 100%|██████████| 1/1 [00:00<00:00, 35.83it/s]\n",
      "Epoch 1843/3000: 100%|██████████| 1/1 [00:00<00:00, 37.38it/s]\n",
      "Validation: 100%|██████████| 1/1 [00:00<00:00, 45.75it/s]\n"
     ]
    },
    {
     "name": "stdout",
     "output_type": "stream",
     "text": [
      "Epoch: 1843, Train Loss: 28.1314, \n",
      "Validation Loss: 21.6867\n"
     ]
    },
    {
     "name": "stderr",
     "output_type": "stream",
     "text": [
      "Epoch 1844/3000: 100%|██████████| 1/1 [00:00<00:00, 40.23it/s]\n",
      "Epoch 1845/3000: 100%|██████████| 1/1 [00:00<00:00, 41.74it/s]\n",
      "Validation: 100%|██████████| 1/1 [00:00<00:00, 50.61it/s]\n"
     ]
    },
    {
     "name": "stdout",
     "output_type": "stream",
     "text": [
      "Epoch: 1845, Train Loss: 12.1004, \n",
      "Validation Loss: 20.7853\n"
     ]
    },
    {
     "name": "stderr",
     "output_type": "stream",
     "text": [
      "Epoch 1846/3000: 100%|██████████| 1/1 [00:00<00:00, 37.78it/s]\n",
      "Epoch 1847/3000: 100%|██████████| 1/1 [00:00<00:00, 36.24it/s]\n",
      "Validation: 100%|██████████| 1/1 [00:00<00:00, 51.47it/s]\n"
     ]
    },
    {
     "name": "stdout",
     "output_type": "stream",
     "text": [
      "Epoch: 1847, Train Loss: 22.1931, \n",
      "Validation Loss: 21.3536\n"
     ]
    },
    {
     "name": "stderr",
     "output_type": "stream",
     "text": [
      "Epoch 1848/3000: 100%|██████████| 1/1 [00:00<00:00, 39.74it/s]\n",
      "Epoch 1849/3000: 100%|██████████| 1/1 [00:00<00:00, 39.75it/s]\n",
      "Validation: 100%|██████████| 1/1 [00:00<00:00, 52.59it/s]\n"
     ]
    },
    {
     "name": "stdout",
     "output_type": "stream",
     "text": [
      "Epoch: 1849, Train Loss: 26.8696, \n",
      "Validation Loss: 20.7553\n"
     ]
    },
    {
     "name": "stderr",
     "output_type": "stream",
     "text": [
      "Epoch 1850/3000: 100%|██████████| 1/1 [00:00<00:00, 34.43it/s]\n",
      "Epoch 1851/3000: 100%|██████████| 1/1 [00:00<00:00, 40.19it/s]\n",
      "Validation: 100%|██████████| 1/1 [00:00<00:00, 51.76it/s]\n"
     ]
    },
    {
     "name": "stdout",
     "output_type": "stream",
     "text": [
      "Epoch: 1851, Train Loss: 28.4219, \n",
      "Validation Loss: 22.6444\n"
     ]
    },
    {
     "name": "stderr",
     "output_type": "stream",
     "text": [
      "Epoch 1852/3000: 100%|██████████| 1/1 [00:00<00:00, 39.52it/s]\n",
      "Epoch 1853/3000: 100%|██████████| 1/1 [00:00<00:00, 41.19it/s]\n",
      "Validation: 100%|██████████| 1/1 [00:00<00:00, 51.72it/s]\n"
     ]
    },
    {
     "name": "stdout",
     "output_type": "stream",
     "text": [
      "Epoch: 1853, Train Loss: 5.7561, \n",
      "Validation Loss: 21.4613\n"
     ]
    },
    {
     "name": "stderr",
     "output_type": "stream",
     "text": [
      "Epoch 1854/3000: 100%|██████████| 1/1 [00:00<00:00, 35.42it/s]\n",
      "Epoch 1855/3000: 100%|██████████| 1/1 [00:00<00:00, 38.56it/s]\n",
      "Validation: 100%|██████████| 1/1 [00:00<00:00, 52.14it/s]\n"
     ]
    },
    {
     "name": "stdout",
     "output_type": "stream",
     "text": [
      "Epoch: 1855, Train Loss: 32.1088, \n",
      "Validation Loss: 23.3458\n"
     ]
    },
    {
     "name": "stderr",
     "output_type": "stream",
     "text": [
      "Epoch 1856/3000: 100%|██████████| 1/1 [00:00<00:00, 39.41it/s]\n",
      "Epoch 1857/3000: 100%|██████████| 1/1 [00:00<00:00, 41.12it/s]\n",
      "Validation: 100%|██████████| 1/1 [00:00<00:00, 51.66it/s]\n"
     ]
    },
    {
     "name": "stdout",
     "output_type": "stream",
     "text": [
      "Epoch: 1857, Train Loss: 12.3830, \n",
      "Validation Loss: 21.8106\n"
     ]
    },
    {
     "name": "stderr",
     "output_type": "stream",
     "text": [
      "Epoch 1858/3000: 100%|██████████| 1/1 [00:00<00:00, 33.75it/s]\n",
      "Epoch 1859/3000: 100%|██████████| 1/1 [00:00<00:00, 34.52it/s]\n",
      "Validation: 100%|██████████| 1/1 [00:00<00:00, 53.71it/s]\n"
     ]
    },
    {
     "name": "stdout",
     "output_type": "stream",
     "text": [
      "Epoch: 1859, Train Loss: 30.4505, \n",
      "Validation Loss: 21.3879\n"
     ]
    },
    {
     "name": "stderr",
     "output_type": "stream",
     "text": [
      "Epoch 1860/3000: 100%|██████████| 1/1 [00:00<00:00, 37.90it/s]\n",
      "Epoch 1861/3000: 100%|██████████| 1/1 [00:00<00:00, 39.02it/s]\n",
      "Validation: 100%|██████████| 1/1 [00:00<00:00, 50.48it/s]\n"
     ]
    },
    {
     "name": "stdout",
     "output_type": "stream",
     "text": [
      "Epoch: 1861, Train Loss: 53.0619, \n",
      "Validation Loss: 21.7525\n"
     ]
    },
    {
     "name": "stderr",
     "output_type": "stream",
     "text": [
      "Epoch 1862/3000: 100%|██████████| 1/1 [00:00<00:00, 35.59it/s]\n",
      "Epoch 1863/3000: 100%|██████████| 1/1 [00:00<00:00, 34.53it/s]\n",
      "Validation: 100%|██████████| 1/1 [00:00<00:00, 50.82it/s]\n"
     ]
    },
    {
     "name": "stdout",
     "output_type": "stream",
     "text": [
      "Epoch: 1863, Train Loss: 16.3950, \n",
      "Validation Loss: 21.1149\n"
     ]
    },
    {
     "name": "stderr",
     "output_type": "stream",
     "text": [
      "Epoch 1864/3000: 100%|██████████| 1/1 [00:00<00:00, 40.30it/s]\n",
      "Epoch 1865/3000: 100%|██████████| 1/1 [00:00<00:00, 41.34it/s]\n",
      "Validation: 100%|██████████| 1/1 [00:00<00:00, 46.93it/s]\n"
     ]
    },
    {
     "name": "stdout",
     "output_type": "stream",
     "text": [
      "Epoch: 1865, Train Loss: 18.9544, \n",
      "Validation Loss: 23.2981\n"
     ]
    },
    {
     "name": "stderr",
     "output_type": "stream",
     "text": [
      "Epoch 1866/3000: 100%|██████████| 1/1 [00:00<00:00, 39.87it/s]\n",
      "Epoch 1867/3000: 100%|██████████| 1/1 [00:00<00:00, 40.03it/s]\n",
      "Validation: 100%|██████████| 1/1 [00:00<00:00, 55.41it/s]\n"
     ]
    },
    {
     "name": "stdout",
     "output_type": "stream",
     "text": [
      "Epoch: 1867, Train Loss: 42.8141, \n",
      "Validation Loss: 21.2751\n"
     ]
    },
    {
     "name": "stderr",
     "output_type": "stream",
     "text": [
      "Epoch 1868/3000: 100%|██████████| 1/1 [00:00<00:00, 36.98it/s]\n",
      "Epoch 1869/3000: 100%|██████████| 1/1 [00:00<00:00, 37.33it/s]\n",
      "Validation: 100%|██████████| 1/1 [00:00<00:00, 51.05it/s]\n"
     ]
    },
    {
     "name": "stdout",
     "output_type": "stream",
     "text": [
      "Epoch: 1869, Train Loss: 22.1061, \n",
      "Validation Loss: 21.1098\n"
     ]
    },
    {
     "name": "stderr",
     "output_type": "stream",
     "text": [
      "Epoch 1870/3000: 100%|██████████| 1/1 [00:00<00:00, 38.34it/s]\n",
      "Epoch 1871/3000: 100%|██████████| 1/1 [00:00<00:00, 34.55it/s]\n",
      "Validation: 100%|██████████| 1/1 [00:00<00:00, 51.74it/s]\n"
     ]
    },
    {
     "name": "stdout",
     "output_type": "stream",
     "text": [
      "Epoch: 1871, Train Loss: 11.4855, \n",
      "Validation Loss: 23.4131\n"
     ]
    },
    {
     "name": "stderr",
     "output_type": "stream",
     "text": [
      "Epoch 1872/3000: 100%|██████████| 1/1 [00:00<00:00, 34.74it/s]\n",
      "Epoch 1873/3000: 100%|██████████| 1/1 [00:00<00:00, 37.44it/s]\n",
      "Validation: 100%|██████████| 1/1 [00:00<00:00, 44.20it/s]\n"
     ]
    },
    {
     "name": "stdout",
     "output_type": "stream",
     "text": [
      "Epoch: 1873, Train Loss: 48.2973, \n",
      "Validation Loss: 28.3299\n"
     ]
    },
    {
     "name": "stderr",
     "output_type": "stream",
     "text": [
      "Epoch 1874/3000: 100%|██████████| 1/1 [00:00<00:00, 39.52it/s]\n",
      "Epoch 1875/3000: 100%|██████████| 1/1 [00:00<00:00, 39.89it/s]\n",
      "Validation: 100%|██████████| 1/1 [00:00<00:00, 50.36it/s]\n"
     ]
    },
    {
     "name": "stdout",
     "output_type": "stream",
     "text": [
      "Epoch: 1875, Train Loss: 63.9825, \n",
      "Validation Loss: 21.2212\n"
     ]
    },
    {
     "name": "stderr",
     "output_type": "stream",
     "text": [
      "Epoch 1876/3000: 100%|██████████| 1/1 [00:00<00:00, 38.79it/s]\n",
      "Epoch 1877/3000: 100%|██████████| 1/1 [00:00<00:00, 34.26it/s]\n",
      "Validation: 100%|██████████| 1/1 [00:00<00:00, 51.49it/s]\n"
     ]
    },
    {
     "name": "stdout",
     "output_type": "stream",
     "text": [
      "Epoch: 1877, Train Loss: 32.7761, \n",
      "Validation Loss: 29.2795\n"
     ]
    },
    {
     "name": "stderr",
     "output_type": "stream",
     "text": [
      "Epoch 1878/3000: 100%|██████████| 1/1 [00:00<00:00, 35.71it/s]\n",
      "Epoch 1879/3000: 100%|██████████| 1/1 [00:00<00:00, 41.17it/s]\n",
      "Validation: 100%|██████████| 1/1 [00:00<00:00, 49.17it/s]\n"
     ]
    },
    {
     "name": "stdout",
     "output_type": "stream",
     "text": [
      "Epoch: 1879, Train Loss: 47.3276, \n",
      "Validation Loss: 31.9505\n"
     ]
    },
    {
     "name": "stderr",
     "output_type": "stream",
     "text": [
      "Epoch 1880/3000: 100%|██████████| 1/1 [00:00<00:00, 42.88it/s]\n",
      "Epoch 1881/3000: 100%|██████████| 1/1 [00:00<00:00, 39.17it/s]\n",
      "Validation: 100%|██████████| 1/1 [00:00<00:00, 52.33it/s]\n"
     ]
    },
    {
     "name": "stdout",
     "output_type": "stream",
     "text": [
      "Epoch: 1881, Train Loss: 20.2994, \n",
      "Validation Loss: 21.9887\n"
     ]
    },
    {
     "name": "stderr",
     "output_type": "stream",
     "text": [
      "Epoch 1882/3000: 100%|██████████| 1/1 [00:00<00:00, 38.47it/s]\n",
      "Epoch 1883/3000: 100%|██████████| 1/1 [00:00<00:00, 41.09it/s]\n",
      "Validation: 100%|██████████| 1/1 [00:00<00:00, 47.71it/s]\n"
     ]
    },
    {
     "name": "stdout",
     "output_type": "stream",
     "text": [
      "Epoch: 1883, Train Loss: 16.7821, \n",
      "Validation Loss: 23.8505\n"
     ]
    },
    {
     "name": "stderr",
     "output_type": "stream",
     "text": [
      "Epoch 1884/3000: 100%|██████████| 1/1 [00:00<00:00, 41.26it/s]\n",
      "Epoch 1885/3000: 100%|██████████| 1/1 [00:00<00:00, 40.08it/s]\n",
      "Validation: 100%|██████████| 1/1 [00:00<00:00, 55.66it/s]\n"
     ]
    },
    {
     "name": "stdout",
     "output_type": "stream",
     "text": [
      "Epoch: 1885, Train Loss: 22.0457, \n",
      "Validation Loss: 21.3770\n"
     ]
    },
    {
     "name": "stderr",
     "output_type": "stream",
     "text": [
      "Epoch 1886/3000: 100%|██████████| 1/1 [00:00<00:00, 33.87it/s]\n",
      "Epoch 1887/3000: 100%|██████████| 1/1 [00:00<00:00, 38.60it/s]\n",
      "Validation: 100%|██████████| 1/1 [00:00<00:00, 51.38it/s]\n"
     ]
    },
    {
     "name": "stdout",
     "output_type": "stream",
     "text": [
      "Epoch: 1887, Train Loss: 25.8206, \n",
      "Validation Loss: 21.2866\n"
     ]
    },
    {
     "name": "stderr",
     "output_type": "stream",
     "text": [
      "Epoch 1888/3000: 100%|██████████| 1/1 [00:00<00:00, 42.19it/s]\n",
      "Epoch 1889/3000: 100%|██████████| 1/1 [00:00<00:00, 37.75it/s]\n",
      "Validation: 100%|██████████| 1/1 [00:00<00:00, 50.26it/s]\n"
     ]
    },
    {
     "name": "stdout",
     "output_type": "stream",
     "text": [
      "Epoch: 1889, Train Loss: 24.1408, \n",
      "Validation Loss: 24.3915\n"
     ]
    },
    {
     "name": "stderr",
     "output_type": "stream",
     "text": [
      "Epoch 1890/3000: 100%|██████████| 1/1 [00:00<00:00, 35.43it/s]\n",
      "Epoch 1891/3000: 100%|██████████| 1/1 [00:00<00:00, 30.85it/s]\n",
      "Validation: 100%|██████████| 1/1 [00:00<00:00, 43.13it/s]\n"
     ]
    },
    {
     "name": "stdout",
     "output_type": "stream",
     "text": [
      "Epoch: 1891, Train Loss: 22.2052, \n",
      "Validation Loss: 24.5152\n"
     ]
    },
    {
     "name": "stderr",
     "output_type": "stream",
     "text": [
      "Epoch 1892/3000: 100%|██████████| 1/1 [00:00<00:00, 36.59it/s]\n",
      "Epoch 1893/3000: 100%|██████████| 1/1 [00:00<00:00, 41.69it/s]\n",
      "Validation: 100%|██████████| 1/1 [00:00<00:00, 51.80it/s]\n"
     ]
    },
    {
     "name": "stdout",
     "output_type": "stream",
     "text": [
      "Epoch: 1893, Train Loss: 18.1342, \n",
      "Validation Loss: 21.1797\n"
     ]
    },
    {
     "name": "stderr",
     "output_type": "stream",
     "text": [
      "Epoch 1894/3000: 100%|██████████| 1/1 [00:00<00:00, 34.93it/s]\n",
      "Epoch 1895/3000: 100%|██████████| 1/1 [00:00<00:00, 38.75it/s]\n",
      "Validation: 100%|██████████| 1/1 [00:00<00:00, 55.66it/s]\n"
     ]
    },
    {
     "name": "stdout",
     "output_type": "stream",
     "text": [
      "Epoch: 1895, Train Loss: 16.0945, \n",
      "Validation Loss: 20.9173\n"
     ]
    },
    {
     "name": "stderr",
     "output_type": "stream",
     "text": [
      "Epoch 1896/3000: 100%|██████████| 1/1 [00:00<00:00, 36.25it/s]\n",
      "Epoch 1897/3000: 100%|██████████| 1/1 [00:00<00:00, 31.81it/s]\n",
      "Validation: 100%|██████████| 1/1 [00:00<00:00, 48.93it/s]\n"
     ]
    },
    {
     "name": "stdout",
     "output_type": "stream",
     "text": [
      "Epoch: 1897, Train Loss: 10.6977, \n",
      "Validation Loss: 21.0054\n"
     ]
    },
    {
     "name": "stderr",
     "output_type": "stream",
     "text": [
      "Epoch 1898/3000: 100%|██████████| 1/1 [00:00<00:00, 42.50it/s]\n",
      "Epoch 1899/3000: 100%|██████████| 1/1 [00:00<00:00, 39.13it/s]\n",
      "Validation: 100%|██████████| 1/1 [00:00<00:00, 49.41it/s]\n"
     ]
    },
    {
     "name": "stdout",
     "output_type": "stream",
     "text": [
      "Epoch: 1899, Train Loss: 18.7302, \n",
      "Validation Loss: 20.7835\n"
     ]
    },
    {
     "name": "stderr",
     "output_type": "stream",
     "text": [
      "Epoch 1900/3000: 100%|██████████| 1/1 [00:00<00:00, 37.18it/s]\n",
      "Epoch 1901/3000: 100%|██████████| 1/1 [00:00<00:00, 41.07it/s]\n",
      "Validation: 100%|██████████| 1/1 [00:00<00:00, 50.72it/s]\n"
     ]
    },
    {
     "name": "stdout",
     "output_type": "stream",
     "text": [
      "Epoch: 1901, Train Loss: 22.9810, \n",
      "Validation Loss: 21.1017\n"
     ]
    },
    {
     "name": "stderr",
     "output_type": "stream",
     "text": [
      "Epoch 1902/3000: 100%|██████████| 1/1 [00:00<00:00, 38.56it/s]\n",
      "Epoch 1903/3000: 100%|██████████| 1/1 [00:00<00:00, 36.53it/s]\n",
      "Validation: 100%|██████████| 1/1 [00:00<00:00, 48.96it/s]\n"
     ]
    },
    {
     "name": "stdout",
     "output_type": "stream",
     "text": [
      "Epoch: 1903, Train Loss: 22.6580, \n",
      "Validation Loss: 21.2557\n"
     ]
    },
    {
     "name": "stderr",
     "output_type": "stream",
     "text": [
      "Epoch 1904/3000: 100%|██████████| 1/1 [00:00<00:00, 40.32it/s]\n",
      "Epoch 1905/3000: 100%|██████████| 1/1 [00:00<00:00, 34.46it/s]\n",
      "Validation: 100%|██████████| 1/1 [00:00<00:00, 49.57it/s]\n"
     ]
    },
    {
     "name": "stdout",
     "output_type": "stream",
     "text": [
      "Epoch: 1905, Train Loss: 31.8443, \n",
      "Validation Loss: 21.2401\n"
     ]
    },
    {
     "name": "stderr",
     "output_type": "stream",
     "text": [
      "Epoch 1906/3000: 100%|██████████| 1/1 [00:00<00:00, 35.46it/s]\n",
      "Epoch 1907/3000: 100%|██████████| 1/1 [00:00<00:00, 38.35it/s]\n",
      "Validation: 100%|██████████| 1/1 [00:00<00:00, 50.71it/s]\n"
     ]
    },
    {
     "name": "stdout",
     "output_type": "stream",
     "text": [
      "Epoch: 1907, Train Loss: 9.6838, \n",
      "Validation Loss: 21.1760\n"
     ]
    },
    {
     "name": "stderr",
     "output_type": "stream",
     "text": [
      "Epoch 1908/3000: 100%|██████████| 1/1 [00:00<00:00, 37.93it/s]\n",
      "Epoch 1909/3000: 100%|██████████| 1/1 [00:00<00:00, 37.27it/s]\n",
      "Validation: 100%|██████████| 1/1 [00:00<00:00, 50.20it/s]\n"
     ]
    },
    {
     "name": "stdout",
     "output_type": "stream",
     "text": [
      "Epoch: 1909, Train Loss: 20.6036, \n",
      "Validation Loss: 20.9798\n"
     ]
    },
    {
     "name": "stderr",
     "output_type": "stream",
     "text": [
      "Epoch 1910/3000: 100%|██████████| 1/1 [00:00<00:00, 39.17it/s]\n",
      "Epoch 1911/3000: 100%|██████████| 1/1 [00:00<00:00, 39.41it/s]\n",
      "Validation: 100%|██████████| 1/1 [00:00<00:00, 50.31it/s]\n"
     ]
    },
    {
     "name": "stdout",
     "output_type": "stream",
     "text": [
      "Epoch: 1911, Train Loss: 22.5487, \n",
      "Validation Loss: 20.7830\n"
     ]
    },
    {
     "name": "stderr",
     "output_type": "stream",
     "text": [
      "Epoch 1912/3000: 100%|██████████| 1/1 [00:00<00:00, 35.59it/s]\n",
      "Epoch 1913/3000: 100%|██████████| 1/1 [00:00<00:00, 39.53it/s]\n",
      "Validation: 100%|██████████| 1/1 [00:00<00:00, 54.41it/s]\n"
     ]
    },
    {
     "name": "stdout",
     "output_type": "stream",
     "text": [
      "Epoch: 1913, Train Loss: 27.3005, \n",
      "Validation Loss: 20.8886\n"
     ]
    },
    {
     "name": "stderr",
     "output_type": "stream",
     "text": [
      "Epoch 1914/3000: 100%|██████████| 1/1 [00:00<00:00, 38.18it/s]\n",
      "Epoch 1915/3000: 100%|██████████| 1/1 [00:00<00:00, 39.33it/s]\n",
      "Validation: 100%|██████████| 1/1 [00:00<00:00, 52.82it/s]\n"
     ]
    },
    {
     "name": "stdout",
     "output_type": "stream",
     "text": [
      "Epoch: 1915, Train Loss: 25.6258, \n",
      "Validation Loss: 21.4028\n"
     ]
    },
    {
     "name": "stderr",
     "output_type": "stream",
     "text": [
      "Epoch 1916/3000: 100%|██████████| 1/1 [00:00<00:00, 39.42it/s]\n",
      "Epoch 1917/3000: 100%|██████████| 1/1 [00:00<00:00, 37.44it/s]\n",
      "Validation: 100%|██████████| 1/1 [00:00<00:00, 45.98it/s]\n"
     ]
    },
    {
     "name": "stdout",
     "output_type": "stream",
     "text": [
      "Epoch: 1917, Train Loss: 17.7697, \n",
      "Validation Loss: 23.2551\n"
     ]
    },
    {
     "name": "stderr",
     "output_type": "stream",
     "text": [
      "Epoch 1918/3000: 100%|██████████| 1/1 [00:00<00:00, 39.28it/s]\n",
      "Epoch 1919/3000: 100%|██████████| 1/1 [00:00<00:00, 37.39it/s]\n",
      "Validation: 100%|██████████| 1/1 [00:00<00:00, 45.10it/s]\n"
     ]
    },
    {
     "name": "stdout",
     "output_type": "stream",
     "text": [
      "Epoch: 1919, Train Loss: 21.9051, \n",
      "Validation Loss: 21.0771\n"
     ]
    },
    {
     "name": "stderr",
     "output_type": "stream",
     "text": [
      "Epoch 1920/3000: 100%|██████████| 1/1 [00:00<00:00, 36.78it/s]\n",
      "Epoch 1921/3000: 100%|██████████| 1/1 [00:00<00:00, 38.80it/s]\n",
      "Validation: 100%|██████████| 1/1 [00:00<00:00, 49.41it/s]\n"
     ]
    },
    {
     "name": "stdout",
     "output_type": "stream",
     "text": [
      "Epoch: 1921, Train Loss: 26.0143, \n",
      "Validation Loss: 22.2037\n"
     ]
    },
    {
     "name": "stderr",
     "output_type": "stream",
     "text": [
      "Epoch 1922/3000: 100%|██████████| 1/1 [00:00<00:00, 37.06it/s]\n",
      "Epoch 1923/3000: 100%|██████████| 1/1 [00:00<00:00, 39.94it/s]\n",
      "Validation: 100%|██████████| 1/1 [00:00<00:00, 55.29it/s]\n"
     ]
    },
    {
     "name": "stdout",
     "output_type": "stream",
     "text": [
      "Epoch: 1923, Train Loss: 13.8620, \n",
      "Validation Loss: 21.1322\n"
     ]
    },
    {
     "name": "stderr",
     "output_type": "stream",
     "text": [
      "Epoch 1924/3000: 100%|██████████| 1/1 [00:00<00:00, 38.52it/s]\n",
      "Epoch 1925/3000: 100%|██████████| 1/1 [00:00<00:00, 39.07it/s]\n",
      "Validation: 100%|██████████| 1/1 [00:00<00:00, 50.51it/s]\n"
     ]
    },
    {
     "name": "stdout",
     "output_type": "stream",
     "text": [
      "Epoch: 1925, Train Loss: 13.0347, \n",
      "Validation Loss: 21.3023\n"
     ]
    },
    {
     "name": "stderr",
     "output_type": "stream",
     "text": [
      "Epoch 1926/3000: 100%|██████████| 1/1 [00:00<00:00, 41.36it/s]\n",
      "Epoch 1927/3000: 100%|██████████| 1/1 [00:00<00:00, 32.90it/s]\n",
      "Validation: 100%|██████████| 1/1 [00:00<00:00, 50.79it/s]\n"
     ]
    },
    {
     "name": "stdout",
     "output_type": "stream",
     "text": [
      "Epoch: 1927, Train Loss: 16.8392, \n",
      "Validation Loss: 21.3614\n"
     ]
    },
    {
     "name": "stderr",
     "output_type": "stream",
     "text": [
      "Epoch 1928/3000: 100%|██████████| 1/1 [00:00<00:00, 36.60it/s]\n",
      "Epoch 1929/3000: 100%|██████████| 1/1 [00:00<00:00, 36.00it/s]\n",
      "Validation: 100%|██████████| 1/1 [00:00<00:00, 49.34it/s]\n"
     ]
    },
    {
     "name": "stdout",
     "output_type": "stream",
     "text": [
      "Epoch: 1929, Train Loss: 24.1567, \n",
      "Validation Loss: 21.1553\n"
     ]
    },
    {
     "name": "stderr",
     "output_type": "stream",
     "text": [
      "Epoch 1930/3000: 100%|██████████| 1/1 [00:00<00:00, 39.61it/s]\n",
      "Epoch 1931/3000: 100%|██████████| 1/1 [00:00<00:00, 34.80it/s]\n",
      "Validation: 100%|██████████| 1/1 [00:00<00:00, 52.00it/s]\n"
     ]
    },
    {
     "name": "stdout",
     "output_type": "stream",
     "text": [
      "Epoch: 1931, Train Loss: 16.4404, \n",
      "Validation Loss: 21.1971\n"
     ]
    },
    {
     "name": "stderr",
     "output_type": "stream",
     "text": [
      "Epoch 1932/3000: 100%|██████████| 1/1 [00:00<00:00, 33.67it/s]\n",
      "Epoch 1933/3000: 100%|██████████| 1/1 [00:00<00:00, 38.75it/s]\n",
      "Validation: 100%|██████████| 1/1 [00:00<00:00, 54.71it/s]\n"
     ]
    },
    {
     "name": "stdout",
     "output_type": "stream",
     "text": [
      "Epoch: 1933, Train Loss: 20.6911, \n",
      "Validation Loss: 22.8808\n"
     ]
    },
    {
     "name": "stderr",
     "output_type": "stream",
     "text": [
      "Epoch 1934/3000: 100%|██████████| 1/1 [00:00<00:00, 34.03it/s]\n",
      "Epoch 1935/3000: 100%|██████████| 1/1 [00:00<00:00, 34.94it/s]\n",
      "Validation: 100%|██████████| 1/1 [00:00<00:00, 47.99it/s]\n"
     ]
    },
    {
     "name": "stdout",
     "output_type": "stream",
     "text": [
      "Epoch: 1935, Train Loss: 11.6062, \n",
      "Validation Loss: 20.7362\n"
     ]
    },
    {
     "name": "stderr",
     "output_type": "stream",
     "text": [
      "Epoch 1936/3000: 100%|██████████| 1/1 [00:00<00:00, 40.62it/s]\n",
      "Epoch 1937/3000: 100%|██████████| 1/1 [00:00<00:00, 35.54it/s]\n",
      "Validation: 100%|██████████| 1/1 [00:00<00:00, 50.92it/s]\n"
     ]
    },
    {
     "name": "stdout",
     "output_type": "stream",
     "text": [
      "Epoch: 1937, Train Loss: 8.9379, \n",
      "Validation Loss: 20.8883\n"
     ]
    },
    {
     "name": "stderr",
     "output_type": "stream",
     "text": [
      "Epoch 1938/3000: 100%|██████████| 1/1 [00:00<00:00, 38.82it/s]\n",
      "Epoch 1939/3000: 100%|██████████| 1/1 [00:00<00:00, 39.46it/s]\n",
      "Validation: 100%|██████████| 1/1 [00:00<00:00, 50.08it/s]\n"
     ]
    },
    {
     "name": "stdout",
     "output_type": "stream",
     "text": [
      "Epoch: 1939, Train Loss: 23.6930, \n",
      "Validation Loss: 20.9330\n"
     ]
    },
    {
     "name": "stderr",
     "output_type": "stream",
     "text": [
      "Epoch 1940/3000: 100%|██████████| 1/1 [00:00<00:00, 38.24it/s]\n",
      "Epoch 1941/3000: 100%|██████████| 1/1 [00:00<00:00, 41.41it/s]\n",
      "Validation: 100%|██████████| 1/1 [00:00<00:00, 55.00it/s]\n"
     ]
    },
    {
     "name": "stdout",
     "output_type": "stream",
     "text": [
      "Epoch: 1941, Train Loss: 8.0344, \n",
      "Validation Loss: 20.3668\n"
     ]
    },
    {
     "name": "stderr",
     "output_type": "stream",
     "text": [
      "Epoch 1942/3000: 100%|██████████| 1/1 [00:00<00:00, 40.10it/s]\n",
      "Epoch 1943/3000: 100%|██████████| 1/1 [00:00<00:00, 38.11it/s]\n",
      "Validation: 100%|██████████| 1/1 [00:00<00:00, 45.63it/s]\n"
     ]
    },
    {
     "name": "stdout",
     "output_type": "stream",
     "text": [
      "Epoch: 1943, Train Loss: 12.6669, \n",
      "Validation Loss: 20.1543\n"
     ]
    },
    {
     "name": "stderr",
     "output_type": "stream",
     "text": [
      "Epoch 1944/3000: 100%|██████████| 1/1 [00:00<00:00, 41.54it/s]\n",
      "Epoch 1945/3000: 100%|██████████| 1/1 [00:00<00:00, 37.01it/s]\n",
      "Validation: 100%|██████████| 1/1 [00:00<00:00, 46.64it/s]\n"
     ]
    },
    {
     "name": "stdout",
     "output_type": "stream",
     "text": [
      "Epoch: 1945, Train Loss: 23.2562, \n",
      "Validation Loss: 20.5115\n"
     ]
    },
    {
     "name": "stderr",
     "output_type": "stream",
     "text": [
      "Epoch 1946/3000: 100%|██████████| 1/1 [00:00<00:00, 36.92it/s]\n",
      "Epoch 1947/3000: 100%|██████████| 1/1 [00:00<00:00, 39.10it/s]\n",
      "Validation: 100%|██████████| 1/1 [00:00<00:00, 50.62it/s]\n"
     ]
    },
    {
     "name": "stdout",
     "output_type": "stream",
     "text": [
      "Epoch: 1947, Train Loss: 20.8742, \n",
      "Validation Loss: 21.6690\n"
     ]
    },
    {
     "name": "stderr",
     "output_type": "stream",
     "text": [
      "Epoch 1948/3000: 100%|██████████| 1/1 [00:00<00:00, 40.37it/s]\n",
      "Epoch 1949/3000: 100%|██████████| 1/1 [00:00<00:00, 26.96it/s]\n",
      "Validation: 100%|██████████| 1/1 [00:00<00:00, 46.46it/s]\n"
     ]
    },
    {
     "name": "stdout",
     "output_type": "stream",
     "text": [
      "Epoch: 1949, Train Loss: 26.6954, \n",
      "Validation Loss: 21.7525\n"
     ]
    },
    {
     "name": "stderr",
     "output_type": "stream",
     "text": [
      "Epoch 1950/3000: 100%|██████████| 1/1 [00:00<00:00, 40.77it/s]\n",
      "Epoch 1951/3000: 100%|██████████| 1/1 [00:00<00:00, 38.08it/s]\n",
      "Validation: 100%|██████████| 1/1 [00:00<00:00, 54.18it/s]\n"
     ]
    },
    {
     "name": "stdout",
     "output_type": "stream",
     "text": [
      "Epoch: 1951, Train Loss: 15.2371, \n",
      "Validation Loss: 22.2131\n"
     ]
    },
    {
     "name": "stderr",
     "output_type": "stream",
     "text": [
      "Epoch 1952/3000: 100%|██████████| 1/1 [00:00<00:00, 39.24it/s]\n",
      "Epoch 1953/3000: 100%|██████████| 1/1 [00:00<00:00, 35.92it/s]\n",
      "Validation: 100%|██████████| 1/1 [00:00<00:00, 50.44it/s]\n"
     ]
    },
    {
     "name": "stdout",
     "output_type": "stream",
     "text": [
      "Epoch: 1953, Train Loss: 21.4746, \n",
      "Validation Loss: 24.3646\n"
     ]
    },
    {
     "name": "stderr",
     "output_type": "stream",
     "text": [
      "Epoch 1954/3000: 100%|██████████| 1/1 [00:00<00:00, 41.25it/s]\n",
      "Epoch 1955/3000: 100%|██████████| 1/1 [00:00<00:00, 36.99it/s]\n",
      "Validation: 100%|██████████| 1/1 [00:00<00:00, 48.13it/s]\n"
     ]
    },
    {
     "name": "stdout",
     "output_type": "stream",
     "text": [
      "Epoch: 1955, Train Loss: 24.6198, \n",
      "Validation Loss: 20.3857\n"
     ]
    },
    {
     "name": "stderr",
     "output_type": "stream",
     "text": [
      "Epoch 1956/3000: 100%|██████████| 1/1 [00:00<00:00, 39.90it/s]\n",
      "Epoch 1957/3000: 100%|██████████| 1/1 [00:00<00:00, 36.46it/s]\n",
      "Validation: 100%|██████████| 1/1 [00:00<00:00, 52.34it/s]\n"
     ]
    },
    {
     "name": "stdout",
     "output_type": "stream",
     "text": [
      "Epoch: 1957, Train Loss: 15.8714, \n",
      "Validation Loss: 20.9533\n"
     ]
    },
    {
     "name": "stderr",
     "output_type": "stream",
     "text": [
      "Epoch 1958/3000: 100%|██████████| 1/1 [00:00<00:00, 37.90it/s]\n",
      "Epoch 1959/3000: 100%|██████████| 1/1 [00:00<00:00, 41.68it/s]\n",
      "Validation: 100%|██████████| 1/1 [00:00<00:00, 51.04it/s]\n"
     ]
    },
    {
     "name": "stdout",
     "output_type": "stream",
     "text": [
      "Epoch: 1959, Train Loss: 20.8432, \n",
      "Validation Loss: 21.8296\n"
     ]
    },
    {
     "name": "stderr",
     "output_type": "stream",
     "text": [
      "Epoch 1960/3000: 100%|██████████| 1/1 [00:00<00:00, 39.48it/s]\n",
      "Epoch 1961/3000: 100%|██████████| 1/1 [00:00<00:00, 36.03it/s]\n",
      "Validation: 100%|██████████| 1/1 [00:00<00:00, 51.31it/s]\n"
     ]
    },
    {
     "name": "stdout",
     "output_type": "stream",
     "text": [
      "Epoch: 1961, Train Loss: 15.7307, \n",
      "Validation Loss: 20.6229\n"
     ]
    },
    {
     "name": "stderr",
     "output_type": "stream",
     "text": [
      "Epoch 1962/3000: 100%|██████████| 1/1 [00:00<00:00, 37.56it/s]\n",
      "Epoch 1963/3000: 100%|██████████| 1/1 [00:00<00:00, 32.76it/s]\n",
      "Validation: 100%|██████████| 1/1 [00:00<00:00, 41.02it/s]\n"
     ]
    },
    {
     "name": "stdout",
     "output_type": "stream",
     "text": [
      "Epoch: 1963, Train Loss: 9.0775, \n",
      "Validation Loss: 19.7237\n"
     ]
    },
    {
     "name": "stderr",
     "output_type": "stream",
     "text": [
      "Epoch 1964/3000: 100%|██████████| 1/1 [00:00<00:00, 40.12it/s]\n",
      "Epoch 1965/3000: 100%|██████████| 1/1 [00:00<00:00, 37.78it/s]\n",
      "Validation: 100%|██████████| 1/1 [00:00<00:00, 45.47it/s]\n"
     ]
    },
    {
     "name": "stdout",
     "output_type": "stream",
     "text": [
      "Epoch: 1965, Train Loss: 18.5532, \n",
      "Validation Loss: 24.5797\n"
     ]
    },
    {
     "name": "stderr",
     "output_type": "stream",
     "text": [
      "Epoch 1966/3000: 100%|██████████| 1/1 [00:00<00:00, 38.03it/s]\n",
      "Epoch 1967/3000: 100%|██████████| 1/1 [00:00<00:00, 35.40it/s]\n",
      "Validation: 100%|██████████| 1/1 [00:00<00:00, 49.31it/s]\n"
     ]
    },
    {
     "name": "stdout",
     "output_type": "stream",
     "text": [
      "Epoch: 1967, Train Loss: 18.7394, \n",
      "Validation Loss: 26.3605\n"
     ]
    },
    {
     "name": "stderr",
     "output_type": "stream",
     "text": [
      "Epoch 1968/3000: 100%|██████████| 1/1 [00:00<00:00, 32.84it/s]\n",
      "Epoch 1969/3000: 100%|██████████| 1/1 [00:00<00:00, 40.83it/s]\n",
      "Validation: 100%|██████████| 1/1 [00:00<00:00, 46.76it/s]\n"
     ]
    },
    {
     "name": "stdout",
     "output_type": "stream",
     "text": [
      "Epoch: 1969, Train Loss: 37.2473, \n",
      "Validation Loss: 22.6010\n"
     ]
    },
    {
     "name": "stderr",
     "output_type": "stream",
     "text": [
      "Epoch 1970/3000: 100%|██████████| 1/1 [00:00<00:00, 37.58it/s]\n",
      "Epoch 1971/3000: 100%|██████████| 1/1 [00:00<00:00, 32.15it/s]\n",
      "Validation: 100%|██████████| 1/1 [00:00<00:00, 55.55it/s]\n"
     ]
    },
    {
     "name": "stdout",
     "output_type": "stream",
     "text": [
      "Epoch: 1971, Train Loss: 31.3518, \n",
      "Validation Loss: 21.9886\n"
     ]
    },
    {
     "name": "stderr",
     "output_type": "stream",
     "text": [
      "Epoch 1972/3000: 100%|██████████| 1/1 [00:00<00:00, 33.79it/s]\n",
      "Epoch 1973/3000: 100%|██████████| 1/1 [00:00<00:00, 38.79it/s]\n",
      "Validation: 100%|██████████| 1/1 [00:00<00:00, 51.56it/s]\n"
     ]
    },
    {
     "name": "stdout",
     "output_type": "stream",
     "text": [
      "Epoch: 1973, Train Loss: 49.8807, \n",
      "Validation Loss: 21.1246\n"
     ]
    },
    {
     "name": "stderr",
     "output_type": "stream",
     "text": [
      "Epoch 1974/3000: 100%|██████████| 1/1 [00:00<00:00, 40.92it/s]\n",
      "Epoch 1975/3000: 100%|██████████| 1/1 [00:00<00:00, 33.96it/s]\n",
      "Validation: 100%|██████████| 1/1 [00:00<00:00, 48.70it/s]\n"
     ]
    },
    {
     "name": "stdout",
     "output_type": "stream",
     "text": [
      "Epoch: 1975, Train Loss: 25.6769, \n",
      "Validation Loss: 20.1224\n"
     ]
    },
    {
     "name": "stderr",
     "output_type": "stream",
     "text": [
      "Epoch 1976/3000: 100%|██████████| 1/1 [00:00<00:00, 37.46it/s]\n",
      "Epoch 1977/3000: 100%|██████████| 1/1 [00:00<00:00, 41.69it/s]\n",
      "Validation: 100%|██████████| 1/1 [00:00<00:00, 51.85it/s]\n"
     ]
    },
    {
     "name": "stdout",
     "output_type": "stream",
     "text": [
      "Epoch: 1977, Train Loss: 31.8251, \n",
      "Validation Loss: 24.7138\n"
     ]
    },
    {
     "name": "stderr",
     "output_type": "stream",
     "text": [
      "Epoch 1978/3000: 100%|██████████| 1/1 [00:00<00:00, 31.58it/s]\n",
      "Epoch 1979/3000: 100%|██████████| 1/1 [00:00<00:00, 43.77it/s]\n",
      "Validation: 100%|██████████| 1/1 [00:00<00:00, 51.06it/s]\n"
     ]
    },
    {
     "name": "stdout",
     "output_type": "stream",
     "text": [
      "Epoch: 1979, Train Loss: 32.5055, \n",
      "Validation Loss: 21.3487\n"
     ]
    },
    {
     "name": "stderr",
     "output_type": "stream",
     "text": [
      "Epoch 1980/3000: 100%|██████████| 1/1 [00:00<00:00, 37.82it/s]\n",
      "Epoch 1981/3000: 100%|██████████| 1/1 [00:00<00:00, 40.15it/s]\n",
      "Validation: 100%|██████████| 1/1 [00:00<00:00, 52.57it/s]\n"
     ]
    },
    {
     "name": "stdout",
     "output_type": "stream",
     "text": [
      "Epoch: 1981, Train Loss: 17.9275, \n",
      "Validation Loss: 29.7638\n"
     ]
    },
    {
     "name": "stderr",
     "output_type": "stream",
     "text": [
      "Epoch 1982/3000: 100%|██████████| 1/1 [00:00<00:00, 34.89it/s]\n",
      "Epoch 1983/3000: 100%|██████████| 1/1 [00:00<00:00, 40.92it/s]\n",
      "Validation: 100%|██████████| 1/1 [00:00<00:00, 48.49it/s]\n"
     ]
    },
    {
     "name": "stdout",
     "output_type": "stream",
     "text": [
      "Epoch: 1983, Train Loss: 23.7369, \n",
      "Validation Loss: 28.5102\n"
     ]
    },
    {
     "name": "stderr",
     "output_type": "stream",
     "text": [
      "Epoch 1984/3000: 100%|██████████| 1/1 [00:00<00:00, 42.58it/s]\n",
      "Epoch 1985/3000: 100%|██████████| 1/1 [00:00<00:00, 33.94it/s]\n",
      "Validation: 100%|██████████| 1/1 [00:00<00:00, 50.95it/s]\n"
     ]
    },
    {
     "name": "stdout",
     "output_type": "stream",
     "text": [
      "Epoch: 1985, Train Loss: 38.0071, \n",
      "Validation Loss: 26.5723\n"
     ]
    },
    {
     "name": "stderr",
     "output_type": "stream",
     "text": [
      "Epoch 1986/3000: 100%|██████████| 1/1 [00:00<00:00, 37.60it/s]\n",
      "Epoch 1987/3000: 100%|██████████| 1/1 [00:00<00:00, 33.20it/s]\n",
      "Validation: 100%|██████████| 1/1 [00:00<00:00, 49.04it/s]\n"
     ]
    },
    {
     "name": "stdout",
     "output_type": "stream",
     "text": [
      "Epoch: 1987, Train Loss: 47.1920, \n",
      "Validation Loss: 21.7496\n"
     ]
    },
    {
     "name": "stderr",
     "output_type": "stream",
     "text": [
      "Epoch 1988/3000: 100%|██████████| 1/1 [00:00<00:00, 35.15it/s]\n",
      "Epoch 1989/3000: 100%|██████████| 1/1 [00:00<00:00, 37.40it/s]\n",
      "Validation: 100%|██████████| 1/1 [00:00<00:00, 52.57it/s]\n"
     ]
    },
    {
     "name": "stdout",
     "output_type": "stream",
     "text": [
      "Epoch: 1989, Train Loss: 23.0750, \n",
      "Validation Loss: 29.0527\n"
     ]
    },
    {
     "name": "stderr",
     "output_type": "stream",
     "text": [
      "Epoch 1990/3000: 100%|██████████| 1/1 [00:00<00:00, 38.33it/s]\n",
      "Epoch 1991/3000: 100%|██████████| 1/1 [00:00<00:00, 37.82it/s]\n",
      "Validation: 100%|██████████| 1/1 [00:00<00:00, 53.20it/s]\n"
     ]
    },
    {
     "name": "stdout",
     "output_type": "stream",
     "text": [
      "Epoch: 1991, Train Loss: 35.2001, \n",
      "Validation Loss: 26.4887\n"
     ]
    },
    {
     "name": "stderr",
     "output_type": "stream",
     "text": [
      "Epoch 1992/3000: 100%|██████████| 1/1 [00:00<00:00, 35.40it/s]\n",
      "Epoch 1993/3000: 100%|██████████| 1/1 [00:00<00:00, 33.98it/s]\n",
      "Validation: 100%|██████████| 1/1 [00:00<00:00, 40.08it/s]\n"
     ]
    },
    {
     "name": "stdout",
     "output_type": "stream",
     "text": [
      "Epoch: 1993, Train Loss: 32.1831, \n",
      "Validation Loss: 22.0737\n"
     ]
    },
    {
     "name": "stderr",
     "output_type": "stream",
     "text": [
      "Epoch 1994/3000: 100%|██████████| 1/1 [00:00<00:00, 42.44it/s]\n",
      "Epoch 1995/3000: 100%|██████████| 1/1 [00:00<00:00, 40.38it/s]\n",
      "Validation: 100%|██████████| 1/1 [00:00<00:00, 50.66it/s]\n"
     ]
    },
    {
     "name": "stdout",
     "output_type": "stream",
     "text": [
      "Epoch: 1995, Train Loss: 43.4075, \n",
      "Validation Loss: 23.5147\n"
     ]
    },
    {
     "name": "stderr",
     "output_type": "stream",
     "text": [
      "Epoch 1996/3000: 100%|██████████| 1/1 [00:00<00:00, 36.84it/s]\n",
      "Epoch 1997/3000: 100%|██████████| 1/1 [00:00<00:00, 43.38it/s]\n",
      "Validation: 100%|██████████| 1/1 [00:00<00:00, 51.80it/s]\n"
     ]
    },
    {
     "name": "stdout",
     "output_type": "stream",
     "text": [
      "Epoch: 1997, Train Loss: 28.8875, \n",
      "Validation Loss: 20.7188\n"
     ]
    },
    {
     "name": "stderr",
     "output_type": "stream",
     "text": [
      "Epoch 1998/3000: 100%|██████████| 1/1 [00:00<00:00, 38.58it/s]\n",
      "Epoch 1999/3000: 100%|██████████| 1/1 [00:00<00:00, 36.12it/s]\n",
      "Validation: 100%|██████████| 1/1 [00:00<00:00, 49.69it/s]\n"
     ]
    },
    {
     "name": "stdout",
     "output_type": "stream",
     "text": [
      "Epoch: 1999, Train Loss: 19.7961, \n",
      "Validation Loss: 20.7874\n"
     ]
    },
    {
     "name": "stderr",
     "output_type": "stream",
     "text": [
      "Epoch 2000/3000: 100%|██████████| 1/1 [00:00<00:00, 37.06it/s]\n",
      "Epoch 2001/3000: 100%|██████████| 1/1 [00:00<00:00, 37.70it/s]\n",
      "Validation: 100%|██████████| 1/1 [00:00<00:00, 50.46it/s]\n"
     ]
    },
    {
     "name": "stdout",
     "output_type": "stream",
     "text": [
      "Epoch: 2001, Train Loss: 34.7146, \n",
      "Validation Loss: 21.8867\n"
     ]
    },
    {
     "name": "stderr",
     "output_type": "stream",
     "text": [
      "Epoch 2002/3000: 100%|██████████| 1/1 [00:00<00:00, 38.77it/s]\n",
      "Epoch 2003/3000: 100%|██████████| 1/1 [00:00<00:00, 39.12it/s]\n",
      "Validation: 100%|██████████| 1/1 [00:00<00:00, 51.29it/s]\n"
     ]
    },
    {
     "name": "stdout",
     "output_type": "stream",
     "text": [
      "Epoch: 2003, Train Loss: 35.8249, \n",
      "Validation Loss: 21.6218\n"
     ]
    },
    {
     "name": "stderr",
     "output_type": "stream",
     "text": [
      "Epoch 2004/3000: 100%|██████████| 1/1 [00:00<00:00, 37.58it/s]\n",
      "Epoch 2005/3000: 100%|██████████| 1/1 [00:00<00:00, 40.14it/s]\n",
      "Validation: 100%|██████████| 1/1 [00:00<00:00, 48.86it/s]\n"
     ]
    },
    {
     "name": "stdout",
     "output_type": "stream",
     "text": [
      "Epoch: 2005, Train Loss: 51.3269, \n",
      "Validation Loss: 21.3584\n"
     ]
    },
    {
     "name": "stderr",
     "output_type": "stream",
     "text": [
      "Epoch 2006/3000: 100%|██████████| 1/1 [00:00<00:00, 38.82it/s]\n",
      "Epoch 2007/3000: 100%|██████████| 1/1 [00:00<00:00, 36.94it/s]\n",
      "Validation: 100%|██████████| 1/1 [00:00<00:00, 49.62it/s]\n"
     ]
    },
    {
     "name": "stdout",
     "output_type": "stream",
     "text": [
      "Epoch: 2007, Train Loss: 11.1341, \n",
      "Validation Loss: 21.4924\n"
     ]
    },
    {
     "name": "stderr",
     "output_type": "stream",
     "text": [
      "Epoch 2008/3000: 100%|██████████| 1/1 [00:00<00:00, 31.28it/s]\n",
      "Epoch 2009/3000: 100%|██████████| 1/1 [00:00<00:00, 35.43it/s]\n",
      "Validation: 100%|██████████| 1/1 [00:00<00:00, 50.60it/s]\n"
     ]
    },
    {
     "name": "stdout",
     "output_type": "stream",
     "text": [
      "Epoch: 2009, Train Loss: 26.7426, \n",
      "Validation Loss: 25.1108\n"
     ]
    },
    {
     "name": "stderr",
     "output_type": "stream",
     "text": [
      "Epoch 2010/3000: 100%|██████████| 1/1 [00:00<00:00, 38.90it/s]\n",
      "Epoch 2011/3000: 100%|██████████| 1/1 [00:00<00:00, 37.02it/s]\n",
      "Validation: 100%|██████████| 1/1 [00:00<00:00, 48.08it/s]\n"
     ]
    },
    {
     "name": "stdout",
     "output_type": "stream",
     "text": [
      "Epoch: 2011, Train Loss: 17.5664, \n",
      "Validation Loss: 21.1724\n"
     ]
    },
    {
     "name": "stderr",
     "output_type": "stream",
     "text": [
      "Epoch 2012/3000: 100%|██████████| 1/1 [00:00<00:00, 42.35it/s]\n",
      "Epoch 2013/3000: 100%|██████████| 1/1 [00:00<00:00, 39.38it/s]\n",
      "Validation: 100%|██████████| 1/1 [00:00<00:00, 48.63it/s]\n"
     ]
    },
    {
     "name": "stdout",
     "output_type": "stream",
     "text": [
      "Epoch: 2013, Train Loss: 24.6231, \n",
      "Validation Loss: 22.4829\n"
     ]
    },
    {
     "name": "stderr",
     "output_type": "stream",
     "text": [
      "Epoch 2014/3000: 100%|██████████| 1/1 [00:00<00:00, 38.48it/s]\n",
      "Epoch 2015/3000: 100%|██████████| 1/1 [00:00<00:00, 41.09it/s]\n",
      "Validation: 100%|██████████| 1/1 [00:00<00:00, 53.18it/s]\n"
     ]
    },
    {
     "name": "stdout",
     "output_type": "stream",
     "text": [
      "Epoch: 2015, Train Loss: 38.5029, \n",
      "Validation Loss: 21.1233\n"
     ]
    },
    {
     "name": "stderr",
     "output_type": "stream",
     "text": [
      "Epoch 2016/3000: 100%|██████████| 1/1 [00:00<00:00, 38.82it/s]\n",
      "Epoch 2017/3000: 100%|██████████| 1/1 [00:00<00:00, 40.94it/s]\n",
      "Validation: 100%|██████████| 1/1 [00:00<00:00, 53.04it/s]\n"
     ]
    },
    {
     "name": "stdout",
     "output_type": "stream",
     "text": [
      "Epoch: 2017, Train Loss: 11.1843, \n",
      "Validation Loss: 20.6950\n"
     ]
    },
    {
     "name": "stderr",
     "output_type": "stream",
     "text": [
      "Epoch 2018/3000: 100%|██████████| 1/1 [00:00<00:00, 39.49it/s]\n",
      "Epoch 2019/3000: 100%|██████████| 1/1 [00:00<00:00, 35.83it/s]\n",
      "Validation: 100%|██████████| 1/1 [00:00<00:00, 52.67it/s]\n"
     ]
    },
    {
     "name": "stdout",
     "output_type": "stream",
     "text": [
      "Epoch: 2019, Train Loss: 12.2148, \n",
      "Validation Loss: 24.8699\n"
     ]
    },
    {
     "name": "stderr",
     "output_type": "stream",
     "text": [
      "Epoch 2020/3000: 100%|██████████| 1/1 [00:00<00:00, 36.79it/s]\n",
      "Epoch 2021/3000: 100%|██████████| 1/1 [00:00<00:00, 34.76it/s]\n",
      "Validation: 100%|██████████| 1/1 [00:00<00:00, 52.79it/s]\n"
     ]
    },
    {
     "name": "stdout",
     "output_type": "stream",
     "text": [
      "Epoch: 2021, Train Loss: 46.4136, \n",
      "Validation Loss: 21.1981\n"
     ]
    },
    {
     "name": "stderr",
     "output_type": "stream",
     "text": [
      "Epoch 2022/3000: 100%|██████████| 1/1 [00:00<00:00, 36.53it/s]\n",
      "Epoch 2023/3000: 100%|██████████| 1/1 [00:00<00:00, 29.72it/s]\n",
      "Validation: 100%|██████████| 1/1 [00:00<00:00, 47.07it/s]\n"
     ]
    },
    {
     "name": "stdout",
     "output_type": "stream",
     "text": [
      "Epoch: 2023, Train Loss: 12.6052, \n",
      "Validation Loss: 21.1847\n"
     ]
    },
    {
     "name": "stderr",
     "output_type": "stream",
     "text": [
      "Epoch 2024/3000: 100%|██████████| 1/1 [00:00<00:00, 39.36it/s]\n",
      "Epoch 2025/3000: 100%|██████████| 1/1 [00:00<00:00, 39.54it/s]\n",
      "Validation: 100%|██████████| 1/1 [00:00<00:00, 51.38it/s]\n"
     ]
    },
    {
     "name": "stdout",
     "output_type": "stream",
     "text": [
      "Epoch: 2025, Train Loss: 15.7845, \n",
      "Validation Loss: 25.1586\n"
     ]
    },
    {
     "name": "stderr",
     "output_type": "stream",
     "text": [
      "Epoch 2026/3000: 100%|██████████| 1/1 [00:00<00:00, 37.12it/s]\n",
      "Epoch 2027/3000: 100%|██████████| 1/1 [00:00<00:00, 39.96it/s]\n",
      "Validation: 100%|██████████| 1/1 [00:00<00:00, 50.42it/s]\n"
     ]
    },
    {
     "name": "stdout",
     "output_type": "stream",
     "text": [
      "Epoch: 2027, Train Loss: 31.6896, \n",
      "Validation Loss: 23.8825\n"
     ]
    },
    {
     "name": "stderr",
     "output_type": "stream",
     "text": [
      "Epoch 2028/3000: 100%|██████████| 1/1 [00:00<00:00, 37.64it/s]\n",
      "Epoch 2029/3000: 100%|██████████| 1/1 [00:00<00:00, 39.50it/s]\n",
      "Validation: 100%|██████████| 1/1 [00:00<00:00, 50.79it/s]\n"
     ]
    },
    {
     "name": "stdout",
     "output_type": "stream",
     "text": [
      "Epoch: 2029, Train Loss: 10.2258, \n",
      "Validation Loss: 21.1122\n"
     ]
    },
    {
     "name": "stderr",
     "output_type": "stream",
     "text": [
      "Epoch 2030/3000: 100%|██████████| 1/1 [00:00<00:00, 36.69it/s]\n",
      "Epoch 2031/3000: 100%|██████████| 1/1 [00:00<00:00, 36.16it/s]\n",
      "Validation: 100%|██████████| 1/1 [00:00<00:00, 48.98it/s]\n"
     ]
    },
    {
     "name": "stdout",
     "output_type": "stream",
     "text": [
      "Epoch: 2031, Train Loss: 34.2105, \n",
      "Validation Loss: 21.4613\n"
     ]
    },
    {
     "name": "stderr",
     "output_type": "stream",
     "text": [
      "Epoch 2032/3000: 100%|██████████| 1/1 [00:00<00:00, 38.75it/s]\n",
      "Epoch 2033/3000: 100%|██████████| 1/1 [00:00<00:00, 32.10it/s]\n",
      "Validation: 100%|██████████| 1/1 [00:00<00:00, 50.77it/s]\n"
     ]
    },
    {
     "name": "stdout",
     "output_type": "stream",
     "text": [
      "Epoch: 2033, Train Loss: 17.4414, \n",
      "Validation Loss: 21.4280\n"
     ]
    },
    {
     "name": "stderr",
     "output_type": "stream",
     "text": [
      "Epoch 2034/3000: 100%|██████████| 1/1 [00:00<00:00, 38.75it/s]\n",
      "Epoch 2035/3000: 100%|██████████| 1/1 [00:00<00:00, 36.57it/s]\n",
      "Validation: 100%|██████████| 1/1 [00:00<00:00, 49.52it/s]\n"
     ]
    },
    {
     "name": "stdout",
     "output_type": "stream",
     "text": [
      "Epoch: 2035, Train Loss: 17.0800, \n",
      "Validation Loss: 21.0391\n"
     ]
    },
    {
     "name": "stderr",
     "output_type": "stream",
     "text": [
      "Epoch 2036/3000: 100%|██████████| 1/1 [00:00<00:00, 31.47it/s]\n",
      "Epoch 2037/3000: 100%|██████████| 1/1 [00:00<00:00, 35.41it/s]\n",
      "Validation: 100%|██████████| 1/1 [00:00<00:00, 49.50it/s]\n"
     ]
    },
    {
     "name": "stdout",
     "output_type": "stream",
     "text": [
      "Epoch: 2037, Train Loss: 33.7853, \n",
      "Validation Loss: 21.0737\n"
     ]
    },
    {
     "name": "stderr",
     "output_type": "stream",
     "text": [
      "Epoch 2038/3000: 100%|██████████| 1/1 [00:00<00:00, 35.19it/s]\n",
      "Epoch 2039/3000: 100%|██████████| 1/1 [00:00<00:00, 38.36it/s]\n",
      "Validation: 100%|██████████| 1/1 [00:00<00:00, 55.23it/s]\n"
     ]
    },
    {
     "name": "stdout",
     "output_type": "stream",
     "text": [
      "Epoch: 2039, Train Loss: 18.8832, \n",
      "Validation Loss: 21.0725\n"
     ]
    },
    {
     "name": "stderr",
     "output_type": "stream",
     "text": [
      "Epoch 2040/3000: 100%|██████████| 1/1 [00:00<00:00, 40.57it/s]\n",
      "Epoch 2041/3000: 100%|██████████| 1/1 [00:00<00:00, 37.46it/s]\n",
      "Validation: 100%|██████████| 1/1 [00:00<00:00, 46.13it/s]\n"
     ]
    },
    {
     "name": "stdout",
     "output_type": "stream",
     "text": [
      "Epoch: 2041, Train Loss: 23.8123, \n",
      "Validation Loss: 20.9496\n"
     ]
    },
    {
     "name": "stderr",
     "output_type": "stream",
     "text": [
      "Epoch 2042/3000: 100%|██████████| 1/1 [00:00<00:00, 41.11it/s]\n",
      "Epoch 2043/3000: 100%|██████████| 1/1 [00:00<00:00, 35.59it/s]\n",
      "Validation: 100%|██████████| 1/1 [00:00<00:00, 51.04it/s]\n"
     ]
    },
    {
     "name": "stdout",
     "output_type": "stream",
     "text": [
      "Epoch: 2043, Train Loss: 15.3974, \n",
      "Validation Loss: 20.4475\n"
     ]
    },
    {
     "name": "stderr",
     "output_type": "stream",
     "text": [
      "Epoch 2044/3000: 100%|██████████| 1/1 [00:00<00:00, 36.49it/s]\n",
      "Epoch 2045/3000: 100%|██████████| 1/1 [00:00<00:00, 42.39it/s]\n",
      "Validation: 100%|██████████| 1/1 [00:00<00:00, 50.65it/s]\n"
     ]
    },
    {
     "name": "stdout",
     "output_type": "stream",
     "text": [
      "Epoch: 2045, Train Loss: 24.4303, \n",
      "Validation Loss: 20.4333\n"
     ]
    },
    {
     "name": "stderr",
     "output_type": "stream",
     "text": [
      "Epoch 2046/3000: 100%|██████████| 1/1 [00:00<00:00, 36.75it/s]\n",
      "Epoch 2047/3000: 100%|██████████| 1/1 [00:00<00:00, 40.38it/s]\n",
      "Validation: 100%|██████████| 1/1 [00:00<00:00, 53.57it/s]\n"
     ]
    },
    {
     "name": "stdout",
     "output_type": "stream",
     "text": [
      "Epoch: 2047, Train Loss: 18.9439, \n",
      "Validation Loss: 20.3372\n"
     ]
    },
    {
     "name": "stderr",
     "output_type": "stream",
     "text": [
      "Epoch 2048/3000: 100%|██████████| 1/1 [00:00<00:00, 36.81it/s]\n",
      "Epoch 2049/3000: 100%|██████████| 1/1 [00:00<00:00, 35.16it/s]\n",
      "Validation: 100%|██████████| 1/1 [00:00<00:00, 50.47it/s]\n"
     ]
    },
    {
     "name": "stdout",
     "output_type": "stream",
     "text": [
      "Epoch: 2049, Train Loss: 29.3288, \n",
      "Validation Loss: 20.4852\n"
     ]
    },
    {
     "name": "stderr",
     "output_type": "stream",
     "text": [
      "Epoch 2050/3000: 100%|██████████| 1/1 [00:00<00:00, 36.74it/s]\n",
      "Epoch 2051/3000: 100%|██████████| 1/1 [00:00<00:00, 32.78it/s]\n",
      "Validation: 100%|██████████| 1/1 [00:00<00:00, 43.47it/s]\n"
     ]
    },
    {
     "name": "stdout",
     "output_type": "stream",
     "text": [
      "Epoch: 2051, Train Loss: 15.9948, \n",
      "Validation Loss: 20.7539\n"
     ]
    },
    {
     "name": "stderr",
     "output_type": "stream",
     "text": [
      "Epoch 2052/3000: 100%|██████████| 1/1 [00:00<00:00, 38.35it/s]\n",
      "Epoch 2053/3000: 100%|██████████| 1/1 [00:00<00:00, 35.93it/s]\n",
      "Validation: 100%|██████████| 1/1 [00:00<00:00, 51.63it/s]\n"
     ]
    },
    {
     "name": "stdout",
     "output_type": "stream",
     "text": [
      "Epoch: 2053, Train Loss: 29.5897, \n",
      "Validation Loss: 21.2034\n"
     ]
    },
    {
     "name": "stderr",
     "output_type": "stream",
     "text": [
      "Epoch 2054/3000: 100%|██████████| 1/1 [00:00<00:00, 36.47it/s]\n",
      "Epoch 2055/3000: 100%|██████████| 1/1 [00:00<00:00, 42.44it/s]\n",
      "Validation: 100%|██████████| 1/1 [00:00<00:00, 49.60it/s]\n"
     ]
    },
    {
     "name": "stdout",
     "output_type": "stream",
     "text": [
      "Epoch: 2055, Train Loss: 21.5850, \n",
      "Validation Loss: 25.6553\n"
     ]
    },
    {
     "name": "stderr",
     "output_type": "stream",
     "text": [
      "Epoch 2056/3000: 100%|██████████| 1/1 [00:00<00:00, 39.13it/s]\n",
      "Epoch 2057/3000: 100%|██████████| 1/1 [00:00<00:00, 40.52it/s]\n",
      "Validation: 100%|██████████| 1/1 [00:00<00:00, 55.72it/s]\n"
     ]
    },
    {
     "name": "stdout",
     "output_type": "stream",
     "text": [
      "Epoch: 2057, Train Loss: 7.9433, \n",
      "Validation Loss: 20.3077\n"
     ]
    },
    {
     "name": "stderr",
     "output_type": "stream",
     "text": [
      "Epoch 2058/3000: 100%|██████████| 1/1 [00:00<00:00, 35.60it/s]\n",
      "Epoch 2059/3000: 100%|██████████| 1/1 [00:00<00:00, 34.76it/s]\n",
      "Validation: 100%|██████████| 1/1 [00:00<00:00, 50.04it/s]\n"
     ]
    },
    {
     "name": "stdout",
     "output_type": "stream",
     "text": [
      "Epoch: 2059, Train Loss: 8.9373, \n",
      "Validation Loss: 19.8050\n"
     ]
    },
    {
     "name": "stderr",
     "output_type": "stream",
     "text": [
      "Epoch 2060/3000: 100%|██████████| 1/1 [00:00<00:00, 39.61it/s]\n",
      "Epoch 2061/3000: 100%|██████████| 1/1 [00:00<00:00, 36.20it/s]\n",
      "Validation: 100%|██████████| 1/1 [00:00<00:00, 50.04it/s]\n"
     ]
    },
    {
     "name": "stdout",
     "output_type": "stream",
     "text": [
      "Epoch: 2061, Train Loss: 6.4453, \n",
      "Validation Loss: 23.4584\n"
     ]
    },
    {
     "name": "stderr",
     "output_type": "stream",
     "text": [
      "Epoch 2062/3000: 100%|██████████| 1/1 [00:00<00:00, 40.20it/s]\n",
      "Epoch 2063/3000: 100%|██████████| 1/1 [00:00<00:00, 36.91it/s]\n",
      "Validation: 100%|██████████| 1/1 [00:00<00:00, 48.85it/s]\n"
     ]
    },
    {
     "name": "stdout",
     "output_type": "stream",
     "text": [
      "Epoch: 2063, Train Loss: 20.4421, \n",
      "Validation Loss: 20.6427\n"
     ]
    },
    {
     "name": "stderr",
     "output_type": "stream",
     "text": [
      "Epoch 2064/3000: 100%|██████████| 1/1 [00:00<00:00, 33.68it/s]\n",
      "Epoch 2065/3000: 100%|██████████| 1/1 [00:00<00:00, 31.15it/s]\n",
      "Validation: 100%|██████████| 1/1 [00:00<00:00, 51.94it/s]\n"
     ]
    },
    {
     "name": "stdout",
     "output_type": "stream",
     "text": [
      "Epoch: 2065, Train Loss: 18.4743, \n",
      "Validation Loss: 21.0921\n"
     ]
    },
    {
     "name": "stderr",
     "output_type": "stream",
     "text": [
      "Epoch 2066/3000: 100%|██████████| 1/1 [00:00<00:00, 32.11it/s]\n",
      "Epoch 2067/3000: 100%|██████████| 1/1 [00:00<00:00, 40.48it/s]\n",
      "Validation: 100%|██████████| 1/1 [00:00<00:00, 51.03it/s]\n"
     ]
    },
    {
     "name": "stdout",
     "output_type": "stream",
     "text": [
      "Epoch: 2067, Train Loss: 14.8138, \n",
      "Validation Loss: 21.0309\n"
     ]
    },
    {
     "name": "stderr",
     "output_type": "stream",
     "text": [
      "Epoch 2068/3000: 100%|██████████| 1/1 [00:00<00:00, 40.86it/s]\n",
      "Epoch 2069/3000: 100%|██████████| 1/1 [00:00<00:00, 35.76it/s]\n",
      "Validation: 100%|██████████| 1/1 [00:00<00:00, 50.35it/s]\n"
     ]
    },
    {
     "name": "stdout",
     "output_type": "stream",
     "text": [
      "Epoch: 2069, Train Loss: 11.4810, \n",
      "Validation Loss: 20.8932\n"
     ]
    },
    {
     "name": "stderr",
     "output_type": "stream",
     "text": [
      "Epoch 2070/3000: 100%|██████████| 1/1 [00:00<00:00, 38.63it/s]\n",
      "Epoch 2071/3000: 100%|██████████| 1/1 [00:00<00:00, 37.72it/s]\n",
      "Validation: 100%|██████████| 1/1 [00:00<00:00, 49.23it/s]\n"
     ]
    },
    {
     "name": "stdout",
     "output_type": "stream",
     "text": [
      "Epoch: 2071, Train Loss: 14.1236, \n",
      "Validation Loss: 20.7937\n"
     ]
    },
    {
     "name": "stderr",
     "output_type": "stream",
     "text": [
      "Epoch 2072/3000: 100%|██████████| 1/1 [00:00<00:00, 38.87it/s]\n",
      "Epoch 2073/3000: 100%|██████████| 1/1 [00:00<00:00, 32.54it/s]\n",
      "Validation: 100%|██████████| 1/1 [00:00<00:00, 45.44it/s]\n"
     ]
    },
    {
     "name": "stdout",
     "output_type": "stream",
     "text": [
      "Epoch: 2073, Train Loss: 18.2197, \n",
      "Validation Loss: 20.9997\n"
     ]
    },
    {
     "name": "stderr",
     "output_type": "stream",
     "text": [
      "Epoch 2074/3000: 100%|██████████| 1/1 [00:00<00:00, 40.07it/s]\n",
      "Epoch 2075/3000: 100%|██████████| 1/1 [00:00<00:00, 39.74it/s]\n",
      "Validation: 100%|██████████| 1/1 [00:00<00:00, 48.68it/s]\n"
     ]
    },
    {
     "name": "stdout",
     "output_type": "stream",
     "text": [
      "Epoch: 2075, Train Loss: 8.2222, \n",
      "Validation Loss: 22.0502\n"
     ]
    },
    {
     "name": "stderr",
     "output_type": "stream",
     "text": [
      "Epoch 2076/3000: 100%|██████████| 1/1 [00:00<00:00, 39.17it/s]\n",
      "Epoch 2077/3000: 100%|██████████| 1/1 [00:00<00:00, 36.55it/s]\n",
      "Validation: 100%|██████████| 1/1 [00:00<00:00, 49.83it/s]\n"
     ]
    },
    {
     "name": "stdout",
     "output_type": "stream",
     "text": [
      "Epoch: 2077, Train Loss: 14.4936, \n",
      "Validation Loss: 20.9793\n"
     ]
    },
    {
     "name": "stderr",
     "output_type": "stream",
     "text": [
      "Epoch 2078/3000: 100%|██████████| 1/1 [00:00<00:00, 37.30it/s]\n",
      "Epoch 2079/3000: 100%|██████████| 1/1 [00:00<00:00, 33.22it/s]\n",
      "Validation: 100%|██████████| 1/1 [00:00<00:00, 49.20it/s]\n"
     ]
    },
    {
     "name": "stdout",
     "output_type": "stream",
     "text": [
      "Epoch: 2079, Train Loss: 15.0165, \n",
      "Validation Loss: 20.3270\n"
     ]
    },
    {
     "name": "stderr",
     "output_type": "stream",
     "text": [
      "Epoch 2080/3000: 100%|██████████| 1/1 [00:00<00:00, 39.07it/s]\n",
      "Epoch 2081/3000: 100%|██████████| 1/1 [00:00<00:00, 35.51it/s]\n",
      "Validation: 100%|██████████| 1/1 [00:00<00:00, 45.91it/s]\n"
     ]
    },
    {
     "name": "stdout",
     "output_type": "stream",
     "text": [
      "Epoch: 2081, Train Loss: 12.7011, \n",
      "Validation Loss: 20.2906\n"
     ]
    },
    {
     "name": "stderr",
     "output_type": "stream",
     "text": [
      "Epoch 2082/3000: 100%|██████████| 1/1 [00:00<00:00, 41.36it/s]\n",
      "Epoch 2083/3000: 100%|██████████| 1/1 [00:00<00:00, 37.52it/s]\n",
      "Validation: 100%|██████████| 1/1 [00:00<00:00, 51.14it/s]\n"
     ]
    },
    {
     "name": "stdout",
     "output_type": "stream",
     "text": [
      "Epoch: 2083, Train Loss: 32.7019, \n",
      "Validation Loss: 20.5524\n"
     ]
    },
    {
     "name": "stderr",
     "output_type": "stream",
     "text": [
      "Epoch 2084/3000: 100%|██████████| 1/1 [00:00<00:00, 37.41it/s]\n",
      "Epoch 2085/3000: 100%|██████████| 1/1 [00:00<00:00, 32.63it/s]\n",
      "Validation: 100%|██████████| 1/1 [00:00<00:00, 40.37it/s]\n"
     ]
    },
    {
     "name": "stdout",
     "output_type": "stream",
     "text": [
      "Epoch: 2085, Train Loss: 16.8351, \n",
      "Validation Loss: 24.6741\n"
     ]
    },
    {
     "name": "stderr",
     "output_type": "stream",
     "text": [
      "Epoch 2086/3000: 100%|██████████| 1/1 [00:00<00:00, 39.58it/s]\n",
      "Epoch 2087/3000: 100%|██████████| 1/1 [00:00<00:00, 37.37it/s]\n",
      "Validation: 100%|██████████| 1/1 [00:00<00:00, 50.75it/s]\n"
     ]
    },
    {
     "name": "stdout",
     "output_type": "stream",
     "text": [
      "Epoch: 2087, Train Loss: 26.1943, \n",
      "Validation Loss: 22.9127\n"
     ]
    },
    {
     "name": "stderr",
     "output_type": "stream",
     "text": [
      "Epoch 2088/3000: 100%|██████████| 1/1 [00:00<00:00, 33.55it/s]\n",
      "Epoch 2089/3000: 100%|██████████| 1/1 [00:00<00:00, 41.02it/s]\n",
      "Validation: 100%|██████████| 1/1 [00:00<00:00, 50.22it/s]\n"
     ]
    },
    {
     "name": "stdout",
     "output_type": "stream",
     "text": [
      "Epoch: 2089, Train Loss: 39.4553, \n",
      "Validation Loss: 22.8318\n"
     ]
    },
    {
     "name": "stderr",
     "output_type": "stream",
     "text": [
      "Epoch 2090/3000: 100%|██████████| 1/1 [00:00<00:00, 36.97it/s]\n",
      "Epoch 2091/3000: 100%|██████████| 1/1 [00:00<00:00, 34.34it/s]\n",
      "Validation: 100%|██████████| 1/1 [00:00<00:00, 52.92it/s]\n"
     ]
    },
    {
     "name": "stdout",
     "output_type": "stream",
     "text": [
      "Epoch: 2091, Train Loss: 13.8059, \n",
      "Validation Loss: 20.6357\n"
     ]
    },
    {
     "name": "stderr",
     "output_type": "stream",
     "text": [
      "Epoch 2092/3000: 100%|██████████| 1/1 [00:00<00:00, 35.86it/s]\n",
      "Epoch 2093/3000: 100%|██████████| 1/1 [00:00<00:00, 36.88it/s]\n",
      "Validation: 100%|██████████| 1/1 [00:00<00:00, 42.26it/s]\n"
     ]
    },
    {
     "name": "stdout",
     "output_type": "stream",
     "text": [
      "Epoch: 2093, Train Loss: 30.1283, \n",
      "Validation Loss: 20.9333\n"
     ]
    },
    {
     "name": "stderr",
     "output_type": "stream",
     "text": [
      "Epoch 2094/3000: 100%|██████████| 1/1 [00:00<00:00, 41.05it/s]\n",
      "Epoch 2095/3000: 100%|██████████| 1/1 [00:00<00:00, 39.27it/s]\n",
      "Validation: 100%|██████████| 1/1 [00:00<00:00, 50.84it/s]\n"
     ]
    },
    {
     "name": "stdout",
     "output_type": "stream",
     "text": [
      "Epoch: 2095, Train Loss: 17.3828, \n",
      "Validation Loss: 21.5120\n"
     ]
    },
    {
     "name": "stderr",
     "output_type": "stream",
     "text": [
      "Epoch 2096/3000: 100%|██████████| 1/1 [00:00<00:00, 35.16it/s]\n",
      "Epoch 2097/3000: 100%|██████████| 1/1 [00:00<00:00, 40.45it/s]\n",
      "Validation: 100%|██████████| 1/1 [00:00<00:00, 51.95it/s]\n"
     ]
    },
    {
     "name": "stdout",
     "output_type": "stream",
     "text": [
      "Epoch: 2097, Train Loss: 11.1040, \n",
      "Validation Loss: 21.9573\n"
     ]
    },
    {
     "name": "stderr",
     "output_type": "stream",
     "text": [
      "Epoch 2098/3000: 100%|██████████| 1/1 [00:00<00:00, 36.57it/s]\n",
      "Epoch 2099/3000: 100%|██████████| 1/1 [00:00<00:00, 39.82it/s]\n",
      "Validation: 100%|██████████| 1/1 [00:00<00:00, 49.60it/s]\n"
     ]
    },
    {
     "name": "stdout",
     "output_type": "stream",
     "text": [
      "Epoch: 2099, Train Loss: 23.4703, \n",
      "Validation Loss: 21.7668\n"
     ]
    },
    {
     "name": "stderr",
     "output_type": "stream",
     "text": [
      "Epoch 2100/3000: 100%|██████████| 1/1 [00:00<00:00, 35.25it/s]\n",
      "Epoch 2101/3000: 100%|██████████| 1/1 [00:00<00:00, 39.99it/s]\n",
      "Validation: 100%|██████████| 1/1 [00:00<00:00, 50.08it/s]\n"
     ]
    },
    {
     "name": "stdout",
     "output_type": "stream",
     "text": [
      "Epoch: 2101, Train Loss: 21.2951, \n",
      "Validation Loss: 20.8979\n"
     ]
    },
    {
     "name": "stderr",
     "output_type": "stream",
     "text": [
      "Epoch 2102/3000: 100%|██████████| 1/1 [00:00<00:00, 36.02it/s]\n",
      "Epoch 2103/3000: 100%|██████████| 1/1 [00:00<00:00, 40.34it/s]\n",
      "Validation: 100%|██████████| 1/1 [00:00<00:00, 51.97it/s]\n"
     ]
    },
    {
     "name": "stdout",
     "output_type": "stream",
     "text": [
      "Epoch: 2103, Train Loss: 9.9578, \n",
      "Validation Loss: 19.9002\n"
     ]
    },
    {
     "name": "stderr",
     "output_type": "stream",
     "text": [
      "Epoch 2104/3000: 100%|██████████| 1/1 [00:00<00:00, 38.94it/s]\n",
      "Epoch 2105/3000: 100%|██████████| 1/1 [00:00<00:00, 35.81it/s]\n",
      "Validation: 100%|██████████| 1/1 [00:00<00:00, 48.35it/s]\n"
     ]
    },
    {
     "name": "stdout",
     "output_type": "stream",
     "text": [
      "Epoch: 2105, Train Loss: 19.6472, \n",
      "Validation Loss: 19.9879\n"
     ]
    },
    {
     "name": "stderr",
     "output_type": "stream",
     "text": [
      "Epoch 2106/3000: 100%|██████████| 1/1 [00:00<00:00, 39.77it/s]\n",
      "Epoch 2107/3000: 100%|██████████| 1/1 [00:00<00:00, 32.09it/s]\n",
      "Validation: 100%|██████████| 1/1 [00:00<00:00, 43.90it/s]\n"
     ]
    },
    {
     "name": "stdout",
     "output_type": "stream",
     "text": [
      "Epoch: 2107, Train Loss: 21.8813, \n",
      "Validation Loss: 20.2208\n"
     ]
    },
    {
     "name": "stderr",
     "output_type": "stream",
     "text": [
      "Epoch 2108/3000: 100%|██████████| 1/1 [00:00<00:00, 36.66it/s]\n",
      "Epoch 2109/3000: 100%|██████████| 1/1 [00:00<00:00, 37.09it/s]\n",
      "Validation: 100%|██████████| 1/1 [00:00<00:00, 40.92it/s]\n"
     ]
    },
    {
     "name": "stdout",
     "output_type": "stream",
     "text": [
      "Epoch: 2109, Train Loss: 10.3405, \n",
      "Validation Loss: 21.1112\n"
     ]
    },
    {
     "name": "stderr",
     "output_type": "stream",
     "text": [
      "Epoch 2110/3000: 100%|██████████| 1/1 [00:00<00:00, 37.58it/s]\n",
      "Epoch 2111/3000: 100%|██████████| 1/1 [00:00<00:00, 38.71it/s]\n",
      "Validation: 100%|██████████| 1/1 [00:00<00:00, 44.43it/s]\n"
     ]
    },
    {
     "name": "stdout",
     "output_type": "stream",
     "text": [
      "Epoch: 2111, Train Loss: 10.6038, \n",
      "Validation Loss: 20.6400\n"
     ]
    },
    {
     "name": "stderr",
     "output_type": "stream",
     "text": [
      "Epoch 2112/3000: 100%|██████████| 1/1 [00:00<00:00, 37.77it/s]\n",
      "Epoch 2113/3000: 100%|██████████| 1/1 [00:00<00:00, 42.43it/s]\n",
      "Validation: 100%|██████████| 1/1 [00:00<00:00, 48.15it/s]\n"
     ]
    },
    {
     "name": "stdout",
     "output_type": "stream",
     "text": [
      "Epoch: 2113, Train Loss: 13.9652, \n",
      "Validation Loss: 23.8228\n"
     ]
    },
    {
     "name": "stderr",
     "output_type": "stream",
     "text": [
      "Epoch 2114/3000: 100%|██████████| 1/1 [00:00<00:00, 37.77it/s]\n",
      "Epoch 2115/3000: 100%|██████████| 1/1 [00:00<00:00, 36.10it/s]\n",
      "Validation: 100%|██████████| 1/1 [00:00<00:00, 54.79it/s]\n"
     ]
    },
    {
     "name": "stdout",
     "output_type": "stream",
     "text": [
      "Epoch: 2115, Train Loss: 21.1540, \n",
      "Validation Loss: 20.6570\n"
     ]
    },
    {
     "name": "stderr",
     "output_type": "stream",
     "text": [
      "Epoch 2116/3000: 100%|██████████| 1/1 [00:00<00:00, 37.39it/s]\n",
      "Epoch 2117/3000: 100%|██████████| 1/1 [00:00<00:00, 37.14it/s]\n",
      "Validation: 100%|██████████| 1/1 [00:00<00:00, 51.82it/s]\n"
     ]
    },
    {
     "name": "stdout",
     "output_type": "stream",
     "text": [
      "Epoch: 2117, Train Loss: 10.5873, \n",
      "Validation Loss: 20.1808\n"
     ]
    },
    {
     "name": "stderr",
     "output_type": "stream",
     "text": [
      "Epoch 2118/3000: 100%|██████████| 1/1 [00:00<00:00, 40.63it/s]\n",
      "Epoch 2119/3000: 100%|██████████| 1/1 [00:00<00:00, 39.10it/s]\n",
      "Validation: 100%|██████████| 1/1 [00:00<00:00, 38.94it/s]\n"
     ]
    },
    {
     "name": "stdout",
     "output_type": "stream",
     "text": [
      "Epoch: 2119, Train Loss: 23.6278, \n",
      "Validation Loss: 20.6850\n"
     ]
    },
    {
     "name": "stderr",
     "output_type": "stream",
     "text": [
      "Epoch 2120/3000: 100%|██████████| 1/1 [00:00<00:00, 38.14it/s]\n",
      "Epoch 2121/3000: 100%|██████████| 1/1 [00:00<00:00, 40.23it/s]\n",
      "Validation: 100%|██████████| 1/1 [00:00<00:00, 50.64it/s]\n"
     ]
    },
    {
     "name": "stdout",
     "output_type": "stream",
     "text": [
      "Epoch: 2121, Train Loss: 26.5728, \n",
      "Validation Loss: 21.9091\n"
     ]
    },
    {
     "name": "stderr",
     "output_type": "stream",
     "text": [
      "Epoch 2122/3000: 100%|██████████| 1/1 [00:00<00:00, 35.49it/s]\n",
      "Epoch 2123/3000: 100%|██████████| 1/1 [00:00<00:00, 33.96it/s]\n",
      "Validation: 100%|██████████| 1/1 [00:00<00:00, 50.75it/s]\n"
     ]
    },
    {
     "name": "stdout",
     "output_type": "stream",
     "text": [
      "Epoch: 2123, Train Loss: 14.5722, \n",
      "Validation Loss: 20.8498\n"
     ]
    },
    {
     "name": "stderr",
     "output_type": "stream",
     "text": [
      "Epoch 2124/3000: 100%|██████████| 1/1 [00:00<00:00, 35.63it/s]\n",
      "Epoch 2125/3000: 100%|██████████| 1/1 [00:00<00:00, 40.47it/s]\n",
      "Validation: 100%|██████████| 1/1 [00:00<00:00, 55.85it/s]\n"
     ]
    },
    {
     "name": "stdout",
     "output_type": "stream",
     "text": [
      "Epoch: 2125, Train Loss: 11.1106, \n",
      "Validation Loss: 21.4189\n"
     ]
    },
    {
     "name": "stderr",
     "output_type": "stream",
     "text": [
      "Epoch 2126/3000: 100%|██████████| 1/1 [00:00<00:00, 40.65it/s]\n",
      "Epoch 2127/3000: 100%|██████████| 1/1 [00:00<00:00, 39.02it/s]\n",
      "Validation: 100%|██████████| 1/1 [00:00<00:00, 48.57it/s]\n"
     ]
    },
    {
     "name": "stdout",
     "output_type": "stream",
     "text": [
      "Epoch: 2127, Train Loss: 15.1611, \n",
      "Validation Loss: 21.1764\n"
     ]
    },
    {
     "name": "stderr",
     "output_type": "stream",
     "text": [
      "Epoch 2128/3000: 100%|██████████| 1/1 [00:00<00:00, 40.48it/s]\n",
      "Epoch 2129/3000: 100%|██████████| 1/1 [00:00<00:00, 38.14it/s]\n",
      "Validation: 100%|██████████| 1/1 [00:00<00:00, 52.68it/s]\n"
     ]
    },
    {
     "name": "stdout",
     "output_type": "stream",
     "text": [
      "Epoch: 2129, Train Loss: 19.5803, \n",
      "Validation Loss: 20.4052\n"
     ]
    },
    {
     "name": "stderr",
     "output_type": "stream",
     "text": [
      "Epoch 2130/3000: 100%|██████████| 1/1 [00:00<00:00, 40.38it/s]\n",
      "Epoch 2131/3000: 100%|██████████| 1/1 [00:00<00:00, 38.79it/s]\n",
      "Validation: 100%|██████████| 1/1 [00:00<00:00, 50.14it/s]\n"
     ]
    },
    {
     "name": "stdout",
     "output_type": "stream",
     "text": [
      "Epoch: 2131, Train Loss: 15.7831, \n",
      "Validation Loss: 20.3355\n"
     ]
    },
    {
     "name": "stderr",
     "output_type": "stream",
     "text": [
      "Epoch 2132/3000: 100%|██████████| 1/1 [00:00<00:00, 37.82it/s]\n",
      "Epoch 2133/3000: 100%|██████████| 1/1 [00:00<00:00, 29.66it/s]\n",
      "Validation: 100%|██████████| 1/1 [00:00<00:00, 50.10it/s]\n"
     ]
    },
    {
     "name": "stdout",
     "output_type": "stream",
     "text": [
      "Epoch: 2133, Train Loss: 7.8737, \n",
      "Validation Loss: 19.8906\n"
     ]
    },
    {
     "name": "stderr",
     "output_type": "stream",
     "text": [
      "Epoch 2134/3000: 100%|██████████| 1/1 [00:00<00:00, 34.97it/s]\n",
      "Epoch 2135/3000: 100%|██████████| 1/1 [00:00<00:00, 40.48it/s]\n",
      "Validation: 100%|██████████| 1/1 [00:00<00:00, 50.89it/s]\n"
     ]
    },
    {
     "name": "stdout",
     "output_type": "stream",
     "text": [
      "Epoch: 2135, Train Loss: 13.9292, \n",
      "Validation Loss: 20.4539\n"
     ]
    },
    {
     "name": "stderr",
     "output_type": "stream",
     "text": [
      "Epoch 2136/3000: 100%|██████████| 1/1 [00:00<00:00, 40.89it/s]\n",
      "Epoch 2137/3000: 100%|██████████| 1/1 [00:00<00:00, 33.98it/s]\n",
      "Validation: 100%|██████████| 1/1 [00:00<00:00, 48.85it/s]\n"
     ]
    },
    {
     "name": "stdout",
     "output_type": "stream",
     "text": [
      "Epoch: 2137, Train Loss: 21.8866, \n",
      "Validation Loss: 21.3728\n"
     ]
    },
    {
     "name": "stderr",
     "output_type": "stream",
     "text": [
      "Epoch 2138/3000: 100%|██████████| 1/1 [00:00<00:00, 36.42it/s]\n",
      "Epoch 2139/3000: 100%|██████████| 1/1 [00:00<00:00, 39.72it/s]\n",
      "Validation: 100%|██████████| 1/1 [00:00<00:00, 49.17it/s]\n"
     ]
    },
    {
     "name": "stdout",
     "output_type": "stream",
     "text": [
      "Epoch: 2139, Train Loss: 9.5506, \n",
      "Validation Loss: 21.7246\n"
     ]
    },
    {
     "name": "stderr",
     "output_type": "stream",
     "text": [
      "Epoch 2140/3000: 100%|██████████| 1/1 [00:00<00:00, 37.10it/s]\n",
      "Epoch 2141/3000: 100%|██████████| 1/1 [00:00<00:00, 39.29it/s]\n",
      "Validation: 100%|██████████| 1/1 [00:00<00:00, 44.16it/s]\n"
     ]
    },
    {
     "name": "stdout",
     "output_type": "stream",
     "text": [
      "Epoch: 2141, Train Loss: 11.3421, \n",
      "Validation Loss: 21.7140\n"
     ]
    },
    {
     "name": "stderr",
     "output_type": "stream",
     "text": [
      "Epoch 2142/3000: 100%|██████████| 1/1 [00:00<00:00, 36.96it/s]\n",
      "Epoch 2143/3000: 100%|██████████| 1/1 [00:00<00:00, 37.23it/s]\n",
      "Validation: 100%|██████████| 1/1 [00:00<00:00, 50.09it/s]\n"
     ]
    },
    {
     "name": "stdout",
     "output_type": "stream",
     "text": [
      "Epoch: 2143, Train Loss: 13.8532, \n",
      "Validation Loss: 21.8269\n"
     ]
    },
    {
     "name": "stderr",
     "output_type": "stream",
     "text": [
      "Epoch 2144/3000: 100%|██████████| 1/1 [00:00<00:00, 35.46it/s]\n",
      "Epoch 2145/3000: 100%|██████████| 1/1 [00:00<00:00, 40.01it/s]\n",
      "Validation: 100%|██████████| 1/1 [00:00<00:00, 45.96it/s]\n"
     ]
    },
    {
     "name": "stdout",
     "output_type": "stream",
     "text": [
      "Epoch: 2145, Train Loss: 14.1708, \n",
      "Validation Loss: 19.1380\n"
     ]
    },
    {
     "name": "stderr",
     "output_type": "stream",
     "text": [
      "Epoch 2146/3000: 100%|██████████| 1/1 [00:00<00:00, 38.21it/s]\n",
      "Epoch 2147/3000: 100%|██████████| 1/1 [00:00<00:00, 38.18it/s]\n",
      "Validation: 100%|██████████| 1/1 [00:00<00:00, 50.54it/s]\n"
     ]
    },
    {
     "name": "stdout",
     "output_type": "stream",
     "text": [
      "Epoch: 2147, Train Loss: 25.5984, \n",
      "Validation Loss: 22.7019\n"
     ]
    },
    {
     "name": "stderr",
     "output_type": "stream",
     "text": [
      "Epoch 2148/3000: 100%|██████████| 1/1 [00:00<00:00, 39.47it/s]\n",
      "Epoch 2149/3000: 100%|██████████| 1/1 [00:00<00:00, 37.95it/s]\n",
      "Validation: 100%|██████████| 1/1 [00:00<00:00, 50.11it/s]\n"
     ]
    },
    {
     "name": "stdout",
     "output_type": "stream",
     "text": [
      "Epoch: 2149, Train Loss: 16.7536, \n",
      "Validation Loss: 23.3306\n"
     ]
    },
    {
     "name": "stderr",
     "output_type": "stream",
     "text": [
      "Epoch 2150/3000: 100%|██████████| 1/1 [00:00<00:00, 39.61it/s]\n",
      "Epoch 2151/3000: 100%|██████████| 1/1 [00:00<00:00, 38.67it/s]\n",
      "Validation: 100%|██████████| 1/1 [00:00<00:00, 50.80it/s]\n"
     ]
    },
    {
     "name": "stdout",
     "output_type": "stream",
     "text": [
      "Epoch: 2151, Train Loss: 12.3492, \n",
      "Validation Loss: 22.1328\n"
     ]
    },
    {
     "name": "stderr",
     "output_type": "stream",
     "text": [
      "Epoch 2152/3000: 100%|██████████| 1/1 [00:00<00:00, 33.23it/s]\n",
      "Epoch 2153/3000: 100%|██████████| 1/1 [00:00<00:00, 37.60it/s]\n",
      "Validation: 100%|██████████| 1/1 [00:00<00:00, 54.34it/s]\n"
     ]
    },
    {
     "name": "stdout",
     "output_type": "stream",
     "text": [
      "Epoch: 2153, Train Loss: 23.8086, \n",
      "Validation Loss: 26.0210\n"
     ]
    },
    {
     "name": "stderr",
     "output_type": "stream",
     "text": [
      "Epoch 2154/3000: 100%|██████████| 1/1 [00:00<00:00, 39.81it/s]\n",
      "Epoch 2155/3000: 100%|██████████| 1/1 [00:00<00:00, 36.55it/s]\n",
      "Validation: 100%|██████████| 1/1 [00:00<00:00, 49.13it/s]\n"
     ]
    },
    {
     "name": "stdout",
     "output_type": "stream",
     "text": [
      "Epoch: 2155, Train Loss: 9.3807, \n",
      "Validation Loss: 20.9145\n"
     ]
    },
    {
     "name": "stderr",
     "output_type": "stream",
     "text": [
      "Epoch 2156/3000: 100%|██████████| 1/1 [00:00<00:00, 43.25it/s]\n",
      "Epoch 2157/3000: 100%|██████████| 1/1 [00:00<00:00, 37.39it/s]\n",
      "Validation: 100%|██████████| 1/1 [00:00<00:00, 49.42it/s]\n"
     ]
    },
    {
     "name": "stdout",
     "output_type": "stream",
     "text": [
      "Epoch: 2157, Train Loss: 12.2069, \n",
      "Validation Loss: 20.2097\n"
     ]
    },
    {
     "name": "stderr",
     "output_type": "stream",
     "text": [
      "Epoch 2158/3000: 100%|██████████| 1/1 [00:00<00:00, 34.80it/s]\n",
      "Epoch 2159/3000: 100%|██████████| 1/1 [00:00<00:00, 37.09it/s]\n",
      "Validation: 100%|██████████| 1/1 [00:00<00:00, 45.19it/s]\n"
     ]
    },
    {
     "name": "stdout",
     "output_type": "stream",
     "text": [
      "Epoch: 2159, Train Loss: 19.8033, \n",
      "Validation Loss: 19.7670\n"
     ]
    },
    {
     "name": "stderr",
     "output_type": "stream",
     "text": [
      "Epoch 2160/3000: 100%|██████████| 1/1 [00:00<00:00, 36.08it/s]\n",
      "Epoch 2161/3000: 100%|██████████| 1/1 [00:00<00:00, 39.95it/s]\n",
      "Validation: 100%|██████████| 1/1 [00:00<00:00, 51.80it/s]\n"
     ]
    },
    {
     "name": "stdout",
     "output_type": "stream",
     "text": [
      "Epoch: 2161, Train Loss: 17.5511, \n",
      "Validation Loss: 22.2079\n"
     ]
    },
    {
     "name": "stderr",
     "output_type": "stream",
     "text": [
      "Epoch 2162/3000: 100%|██████████| 1/1 [00:00<00:00, 38.68it/s]\n",
      "Epoch 2163/3000: 100%|██████████| 1/1 [00:00<00:00, 36.75it/s]\n",
      "Validation: 100%|██████████| 1/1 [00:00<00:00, 53.43it/s]\n"
     ]
    },
    {
     "name": "stdout",
     "output_type": "stream",
     "text": [
      "Epoch: 2163, Train Loss: 16.9219, \n",
      "Validation Loss: 22.5604\n"
     ]
    },
    {
     "name": "stderr",
     "output_type": "stream",
     "text": [
      "Epoch 2164/3000: 100%|██████████| 1/1 [00:00<00:00, 37.02it/s]\n",
      "Epoch 2165/3000: 100%|██████████| 1/1 [00:00<00:00, 37.26it/s]\n",
      "Validation: 100%|██████████| 1/1 [00:00<00:00, 48.14it/s]\n"
     ]
    },
    {
     "name": "stdout",
     "output_type": "stream",
     "text": [
      "Epoch: 2165, Train Loss: 32.9538, \n",
      "Validation Loss: 20.5719\n"
     ]
    },
    {
     "name": "stderr",
     "output_type": "stream",
     "text": [
      "Epoch 2166/3000: 100%|██████████| 1/1 [00:00<00:00, 42.13it/s]\n",
      "Epoch 2167/3000: 100%|██████████| 1/1 [00:00<00:00, 34.49it/s]\n",
      "Validation: 100%|██████████| 1/1 [00:00<00:00, 47.36it/s]\n"
     ]
    },
    {
     "name": "stdout",
     "output_type": "stream",
     "text": [
      "Epoch: 2167, Train Loss: 17.7825, \n",
      "Validation Loss: 24.2435\n"
     ]
    },
    {
     "name": "stderr",
     "output_type": "stream",
     "text": [
      "Epoch 2168/3000: 100%|██████████| 1/1 [00:00<00:00, 31.42it/s]\n",
      "Epoch 2169/3000: 100%|██████████| 1/1 [00:00<00:00, 39.44it/s]\n",
      "Validation: 100%|██████████| 1/1 [00:00<00:00, 50.38it/s]\n"
     ]
    },
    {
     "name": "stdout",
     "output_type": "stream",
     "text": [
      "Epoch: 2169, Train Loss: 9.1437, \n",
      "Validation Loss: 24.0296\n"
     ]
    },
    {
     "name": "stderr",
     "output_type": "stream",
     "text": [
      "Epoch 2170/3000: 100%|██████████| 1/1 [00:00<00:00, 37.94it/s]\n",
      "Epoch 2171/3000: 100%|██████████| 1/1 [00:00<00:00, 37.74it/s]\n",
      "Validation: 100%|██████████| 1/1 [00:00<00:00, 49.57it/s]\n"
     ]
    },
    {
     "name": "stdout",
     "output_type": "stream",
     "text": [
      "Epoch: 2171, Train Loss: 14.0477, \n",
      "Validation Loss: 20.8162\n"
     ]
    },
    {
     "name": "stderr",
     "output_type": "stream",
     "text": [
      "Epoch 2172/3000: 100%|██████████| 1/1 [00:00<00:00, 40.67it/s]\n",
      "Epoch 2173/3000: 100%|██████████| 1/1 [00:00<00:00, 33.83it/s]\n",
      "Validation: 100%|██████████| 1/1 [00:00<00:00, 42.45it/s]\n"
     ]
    },
    {
     "name": "stdout",
     "output_type": "stream",
     "text": [
      "Epoch: 2173, Train Loss: 22.7169, \n",
      "Validation Loss: 20.8629\n"
     ]
    },
    {
     "name": "stderr",
     "output_type": "stream",
     "text": [
      "Epoch 2174/3000: 100%|██████████| 1/1 [00:00<00:00, 36.93it/s]\n",
      "Epoch 2175/3000: 100%|██████████| 1/1 [00:00<00:00, 31.98it/s]\n",
      "Validation: 100%|██████████| 1/1 [00:00<00:00, 43.14it/s]\n"
     ]
    },
    {
     "name": "stdout",
     "output_type": "stream",
     "text": [
      "Epoch: 2175, Train Loss: 23.3931, \n",
      "Validation Loss: 20.4944\n"
     ]
    },
    {
     "name": "stderr",
     "output_type": "stream",
     "text": [
      "Epoch 2176/3000: 100%|██████████| 1/1 [00:00<00:00, 34.38it/s]\n",
      "Epoch 2177/3000: 100%|██████████| 1/1 [00:00<00:00, 39.65it/s]\n",
      "Validation: 100%|██████████| 1/1 [00:00<00:00, 47.42it/s]\n"
     ]
    },
    {
     "name": "stdout",
     "output_type": "stream",
     "text": [
      "Epoch: 2177, Train Loss: 23.4586, \n",
      "Validation Loss: 20.5125\n"
     ]
    },
    {
     "name": "stderr",
     "output_type": "stream",
     "text": [
      "Epoch 2178/3000: 100%|██████████| 1/1 [00:00<00:00, 35.46it/s]\n",
      "Epoch 2179/3000: 100%|██████████| 1/1 [00:00<00:00, 37.52it/s]\n",
      "Validation: 100%|██████████| 1/1 [00:00<00:00, 49.03it/s]\n"
     ]
    },
    {
     "name": "stdout",
     "output_type": "stream",
     "text": [
      "Epoch: 2179, Train Loss: 27.2870, \n",
      "Validation Loss: 20.0946\n"
     ]
    },
    {
     "name": "stderr",
     "output_type": "stream",
     "text": [
      "Epoch 2180/3000: 100%|██████████| 1/1 [00:00<00:00, 35.75it/s]\n",
      "Epoch 2181/3000: 100%|██████████| 1/1 [00:00<00:00, 40.01it/s]\n",
      "Validation: 100%|██████████| 1/1 [00:00<00:00, 48.19it/s]\n"
     ]
    },
    {
     "name": "stdout",
     "output_type": "stream",
     "text": [
      "Epoch: 2181, Train Loss: 25.2811, \n",
      "Validation Loss: 22.5092\n"
     ]
    },
    {
     "name": "stderr",
     "output_type": "stream",
     "text": [
      "Epoch 2182/3000: 100%|██████████| 1/1 [00:00<00:00, 33.61it/s]\n",
      "Epoch 2183/3000: 100%|██████████| 1/1 [00:00<00:00, 39.42it/s]\n",
      "Validation: 100%|██████████| 1/1 [00:00<00:00, 50.32it/s]\n"
     ]
    },
    {
     "name": "stdout",
     "output_type": "stream",
     "text": [
      "Epoch: 2183, Train Loss: 28.6984, \n",
      "Validation Loss: 21.8227\n"
     ]
    },
    {
     "name": "stderr",
     "output_type": "stream",
     "text": [
      "Epoch 2184/3000: 100%|██████████| 1/1 [00:00<00:00, 38.64it/s]\n",
      "Epoch 2185/3000: 100%|██████████| 1/1 [00:00<00:00, 33.04it/s]\n",
      "Validation: 100%|██████████| 1/1 [00:00<00:00, 50.22it/s]\n"
     ]
    },
    {
     "name": "stdout",
     "output_type": "stream",
     "text": [
      "Epoch: 2185, Train Loss: 14.3663, \n",
      "Validation Loss: 20.4299\n"
     ]
    },
    {
     "name": "stderr",
     "output_type": "stream",
     "text": [
      "Epoch 2186/3000: 100%|██████████| 1/1 [00:00<00:00, 35.05it/s]\n",
      "Epoch 2187/3000: 100%|██████████| 1/1 [00:00<00:00, 38.00it/s]\n",
      "Validation: 100%|██████████| 1/1 [00:00<00:00, 49.81it/s]\n"
     ]
    },
    {
     "name": "stdout",
     "output_type": "stream",
     "text": [
      "Epoch: 2187, Train Loss: 27.6178, \n",
      "Validation Loss: 26.3485\n"
     ]
    },
    {
     "name": "stderr",
     "output_type": "stream",
     "text": [
      "Epoch 2188/3000: 100%|██████████| 1/1 [00:00<00:00, 34.53it/s]\n",
      "Epoch 2189/3000: 100%|██████████| 1/1 [00:00<00:00, 38.70it/s]\n",
      "Validation: 100%|██████████| 1/1 [00:00<00:00, 50.12it/s]\n"
     ]
    },
    {
     "name": "stdout",
     "output_type": "stream",
     "text": [
      "Epoch: 2189, Train Loss: 31.9653, \n",
      "Validation Loss: 21.1580\n"
     ]
    },
    {
     "name": "stderr",
     "output_type": "stream",
     "text": [
      "Epoch 2190/3000: 100%|██████████| 1/1 [00:00<00:00, 40.33it/s]\n",
      "Epoch 2191/3000: 100%|██████████| 1/1 [00:00<00:00, 39.90it/s]\n",
      "Validation: 100%|██████████| 1/1 [00:00<00:00, 50.88it/s]\n"
     ]
    },
    {
     "name": "stdout",
     "output_type": "stream",
     "text": [
      "Epoch: 2191, Train Loss: 5.1739, \n",
      "Validation Loss: 21.4628\n"
     ]
    },
    {
     "name": "stderr",
     "output_type": "stream",
     "text": [
      "Epoch 2192/3000: 100%|██████████| 1/1 [00:00<00:00, 34.82it/s]\n",
      "Epoch 2193/3000: 100%|██████████| 1/1 [00:00<00:00, 40.33it/s]\n",
      "Validation: 100%|██████████| 1/1 [00:00<00:00, 52.59it/s]\n"
     ]
    },
    {
     "name": "stdout",
     "output_type": "stream",
     "text": [
      "Epoch: 2193, Train Loss: 26.0143, \n",
      "Validation Loss: 23.9011\n"
     ]
    },
    {
     "name": "stderr",
     "output_type": "stream",
     "text": [
      "Epoch 2194/3000: 100%|██████████| 1/1 [00:00<00:00, 40.31it/s]\n",
      "Epoch 2195/3000: 100%|██████████| 1/1 [00:00<00:00, 36.89it/s]\n",
      "Validation: 100%|██████████| 1/1 [00:00<00:00, 50.03it/s]\n"
     ]
    },
    {
     "name": "stdout",
     "output_type": "stream",
     "text": [
      "Epoch: 2195, Train Loss: 17.1275, \n",
      "Validation Loss: 20.5522\n"
     ]
    },
    {
     "name": "stderr",
     "output_type": "stream",
     "text": [
      "Epoch 2196/3000: 100%|██████████| 1/1 [00:00<00:00, 39.03it/s]\n",
      "Epoch 2197/3000: 100%|██████████| 1/1 [00:00<00:00, 36.55it/s]\n",
      "Validation: 100%|██████████| 1/1 [00:00<00:00, 51.60it/s]\n"
     ]
    },
    {
     "name": "stdout",
     "output_type": "stream",
     "text": [
      "Epoch: 2197, Train Loss: 5.2377, \n",
      "Validation Loss: 20.1487\n"
     ]
    },
    {
     "name": "stderr",
     "output_type": "stream",
     "text": [
      "Epoch 2198/3000: 100%|██████████| 1/1 [00:00<00:00, 31.85it/s]\n",
      "Epoch 2199/3000: 100%|██████████| 1/1 [00:00<00:00, 39.02it/s]\n",
      "Validation: 100%|██████████| 1/1 [00:00<00:00, 49.94it/s]\n"
     ]
    },
    {
     "name": "stdout",
     "output_type": "stream",
     "text": [
      "Epoch: 2199, Train Loss: 56.5377, \n",
      "Validation Loss: 19.8347\n"
     ]
    },
    {
     "name": "stderr",
     "output_type": "stream",
     "text": [
      "Epoch 2200/3000: 100%|██████████| 1/1 [00:00<00:00, 37.81it/s]\n",
      "Epoch 2201/3000: 100%|██████████| 1/1 [00:00<00:00, 32.16it/s]\n",
      "Validation: 100%|██████████| 1/1 [00:00<00:00, 46.32it/s]\n"
     ]
    },
    {
     "name": "stdout",
     "output_type": "stream",
     "text": [
      "Epoch: 2201, Train Loss: 19.4009, \n",
      "Validation Loss: 20.5516\n"
     ]
    },
    {
     "name": "stderr",
     "output_type": "stream",
     "text": [
      "Epoch 2202/3000: 100%|██████████| 1/1 [00:00<00:00, 41.06it/s]\n",
      "Epoch 2203/3000: 100%|██████████| 1/1 [00:00<00:00, 39.71it/s]\n",
      "Validation: 100%|██████████| 1/1 [00:00<00:00, 52.43it/s]\n"
     ]
    },
    {
     "name": "stdout",
     "output_type": "stream",
     "text": [
      "Epoch: 2203, Train Loss: 14.4135, \n",
      "Validation Loss: 20.5215\n"
     ]
    },
    {
     "name": "stderr",
     "output_type": "stream",
     "text": [
      "Epoch 2204/3000: 100%|██████████| 1/1 [00:00<00:00, 39.39it/s]\n",
      "Epoch 2205/3000: 100%|██████████| 1/1 [00:00<00:00, 40.98it/s]\n",
      "Validation: 100%|██████████| 1/1 [00:00<00:00, 50.76it/s]\n"
     ]
    },
    {
     "name": "stdout",
     "output_type": "stream",
     "text": [
      "Epoch: 2205, Train Loss: 12.3413, \n",
      "Validation Loss: 19.7148\n"
     ]
    },
    {
     "name": "stderr",
     "output_type": "stream",
     "text": [
      "Epoch 2206/3000: 100%|██████████| 1/1 [00:00<00:00, 36.61it/s]\n",
      "Epoch 2207/3000: 100%|██████████| 1/1 [00:00<00:00, 37.11it/s]\n",
      "Validation: 100%|██████████| 1/1 [00:00<00:00, 50.91it/s]\n"
     ]
    },
    {
     "name": "stdout",
     "output_type": "stream",
     "text": [
      "Epoch: 2207, Train Loss: 16.0811, \n",
      "Validation Loss: 23.8992\n"
     ]
    },
    {
     "name": "stderr",
     "output_type": "stream",
     "text": [
      "Epoch 2208/3000: 100%|██████████| 1/1 [00:00<00:00, 34.71it/s]\n",
      "Epoch 2209/3000: 100%|██████████| 1/1 [00:00<00:00, 38.61it/s]\n",
      "Validation: 100%|██████████| 1/1 [00:00<00:00, 51.03it/s]\n"
     ]
    },
    {
     "name": "stdout",
     "output_type": "stream",
     "text": [
      "Epoch: 2209, Train Loss: 11.8287, \n",
      "Validation Loss: 23.8357\n"
     ]
    },
    {
     "name": "stderr",
     "output_type": "stream",
     "text": [
      "Epoch 2210/3000: 100%|██████████| 1/1 [00:00<00:00, 37.17it/s]\n",
      "Epoch 2211/3000: 100%|██████████| 1/1 [00:00<00:00, 40.61it/s]\n",
      "Validation: 100%|██████████| 1/1 [00:00<00:00, 46.89it/s]\n"
     ]
    },
    {
     "name": "stdout",
     "output_type": "stream",
     "text": [
      "Epoch: 2211, Train Loss: 20.9198, \n",
      "Validation Loss: 21.6111\n"
     ]
    },
    {
     "name": "stderr",
     "output_type": "stream",
     "text": [
      "Epoch 2212/3000: 100%|██████████| 1/1 [00:00<00:00, 41.13it/s]\n",
      "Epoch 2213/3000: 100%|██████████| 1/1 [00:00<00:00, 37.63it/s]\n",
      "Validation: 100%|██████████| 1/1 [00:00<00:00, 50.95it/s]\n"
     ]
    },
    {
     "name": "stdout",
     "output_type": "stream",
     "text": [
      "Epoch: 2213, Train Loss: 29.8325, \n",
      "Validation Loss: 20.8522\n"
     ]
    },
    {
     "name": "stderr",
     "output_type": "stream",
     "text": [
      "Epoch 2214/3000: 100%|██████████| 1/1 [00:00<00:00, 32.87it/s]\n",
      "Epoch 2215/3000: 100%|██████████| 1/1 [00:00<00:00, 34.12it/s]\n",
      "Validation: 100%|██████████| 1/1 [00:00<00:00, 52.83it/s]\n"
     ]
    },
    {
     "name": "stdout",
     "output_type": "stream",
     "text": [
      "Epoch: 2215, Train Loss: 10.9052, \n",
      "Validation Loss: 20.2046\n"
     ]
    },
    {
     "name": "stderr",
     "output_type": "stream",
     "text": [
      "Epoch 2216/3000: 100%|██████████| 1/1 [00:00<00:00, 33.46it/s]\n",
      "Epoch 2217/3000: 100%|██████████| 1/1 [00:00<00:00, 36.64it/s]\n",
      "Validation: 100%|██████████| 1/1 [00:00<00:00, 50.79it/s]\n"
     ]
    },
    {
     "name": "stdout",
     "output_type": "stream",
     "text": [
      "Epoch: 2217, Train Loss: 7.2972, \n",
      "Validation Loss: 24.0284\n"
     ]
    },
    {
     "name": "stderr",
     "output_type": "stream",
     "text": [
      "Epoch 2218/3000: 100%|██████████| 1/1 [00:00<00:00, 40.28it/s]\n",
      "Epoch 2219/3000: 100%|██████████| 1/1 [00:00<00:00, 39.67it/s]\n",
      "Validation: 100%|██████████| 1/1 [00:00<00:00, 46.40it/s]\n"
     ]
    },
    {
     "name": "stdout",
     "output_type": "stream",
     "text": [
      "Epoch: 2219, Train Loss: 11.4506, \n",
      "Validation Loss: 22.2365\n"
     ]
    },
    {
     "name": "stderr",
     "output_type": "stream",
     "text": [
      "Epoch 2220/3000: 100%|██████████| 1/1 [00:00<00:00, 39.05it/s]\n",
      "Epoch 2221/3000: 100%|██████████| 1/1 [00:00<00:00, 40.41it/s]\n",
      "Validation: 100%|██████████| 1/1 [00:00<00:00, 51.67it/s]\n"
     ]
    },
    {
     "name": "stdout",
     "output_type": "stream",
     "text": [
      "Epoch: 2221, Train Loss: 6.2799, \n",
      "Validation Loss: 20.2427\n"
     ]
    },
    {
     "name": "stderr",
     "output_type": "stream",
     "text": [
      "Epoch 2222/3000: 100%|██████████| 1/1 [00:00<00:00, 38.52it/s]\n",
      "Epoch 2223/3000: 100%|██████████| 1/1 [00:00<00:00, 39.24it/s]\n",
      "Validation: 100%|██████████| 1/1 [00:00<00:00, 52.61it/s]\n"
     ]
    },
    {
     "name": "stdout",
     "output_type": "stream",
     "text": [
      "Epoch: 2223, Train Loss: 16.6523, \n",
      "Validation Loss: 19.8352\n"
     ]
    },
    {
     "name": "stderr",
     "output_type": "stream",
     "text": [
      "Epoch 2224/3000: 100%|██████████| 1/1 [00:00<00:00, 35.62it/s]\n",
      "Epoch 2225/3000: 100%|██████████| 1/1 [00:00<00:00, 41.72it/s]\n",
      "Validation: 100%|██████████| 1/1 [00:00<00:00, 50.77it/s]\n"
     ]
    },
    {
     "name": "stdout",
     "output_type": "stream",
     "text": [
      "Epoch: 2225, Train Loss: 7.3453, \n",
      "Validation Loss: 20.0049\n"
     ]
    },
    {
     "name": "stderr",
     "output_type": "stream",
     "text": [
      "Epoch 2226/3000: 100%|██████████| 1/1 [00:00<00:00, 36.26it/s]\n",
      "Epoch 2227/3000: 100%|██████████| 1/1 [00:00<00:00, 29.98it/s]\n",
      "Validation: 100%|██████████| 1/1 [00:00<00:00, 51.50it/s]\n"
     ]
    },
    {
     "name": "stdout",
     "output_type": "stream",
     "text": [
      "Epoch: 2227, Train Loss: 17.7861, \n",
      "Validation Loss: 20.2329\n"
     ]
    },
    {
     "name": "stderr",
     "output_type": "stream",
     "text": [
      "Epoch 2228/3000: 100%|██████████| 1/1 [00:00<00:00, 35.39it/s]\n",
      "Epoch 2229/3000: 100%|██████████| 1/1 [00:00<00:00, 40.25it/s]\n",
      "Validation: 100%|██████████| 1/1 [00:00<00:00, 48.31it/s]\n"
     ]
    },
    {
     "name": "stdout",
     "output_type": "stream",
     "text": [
      "Epoch: 2229, Train Loss: 17.5420, \n",
      "Validation Loss: 20.2181\n"
     ]
    },
    {
     "name": "stderr",
     "output_type": "stream",
     "text": [
      "Epoch 2230/3000: 100%|██████████| 1/1 [00:00<00:00, 40.10it/s]\n",
      "Epoch 2231/3000: 100%|██████████| 1/1 [00:00<00:00, 39.36it/s]\n",
      "Validation: 100%|██████████| 1/1 [00:00<00:00, 51.28it/s]\n"
     ]
    },
    {
     "name": "stdout",
     "output_type": "stream",
     "text": [
      "Epoch: 2231, Train Loss: 18.7161, \n",
      "Validation Loss: 19.8234\n"
     ]
    },
    {
     "name": "stderr",
     "output_type": "stream",
     "text": [
      "Epoch 2232/3000: 100%|██████████| 1/1 [00:00<00:00, 37.72it/s]\n",
      "Epoch 2233/3000: 100%|██████████| 1/1 [00:00<00:00, 37.89it/s]\n",
      "Validation: 100%|██████████| 1/1 [00:00<00:00, 51.48it/s]\n"
     ]
    },
    {
     "name": "stdout",
     "output_type": "stream",
     "text": [
      "Epoch: 2233, Train Loss: 19.2256, \n",
      "Validation Loss: 20.2666\n"
     ]
    },
    {
     "name": "stderr",
     "output_type": "stream",
     "text": [
      "Epoch 2234/3000: 100%|██████████| 1/1 [00:00<00:00, 34.61it/s]\n",
      "Epoch 2235/3000: 100%|██████████| 1/1 [00:00<00:00, 41.59it/s]\n",
      "Validation: 100%|██████████| 1/1 [00:00<00:00, 45.76it/s]\n"
     ]
    },
    {
     "name": "stdout",
     "output_type": "stream",
     "text": [
      "Epoch: 2235, Train Loss: 7.5926, \n",
      "Validation Loss: 21.0861\n"
     ]
    },
    {
     "name": "stderr",
     "output_type": "stream",
     "text": [
      "Epoch 2236/3000: 100%|██████████| 1/1 [00:00<00:00, 40.51it/s]\n",
      "Epoch 2237/3000: 100%|██████████| 1/1 [00:00<00:00, 38.99it/s]\n",
      "Validation: 100%|██████████| 1/1 [00:00<00:00, 52.25it/s]\n"
     ]
    },
    {
     "name": "stdout",
     "output_type": "stream",
     "text": [
      "Epoch: 2237, Train Loss: 17.5774, \n",
      "Validation Loss: 24.4114\n"
     ]
    },
    {
     "name": "stderr",
     "output_type": "stream",
     "text": [
      "Epoch 2238/3000: 100%|██████████| 1/1 [00:00<00:00, 39.85it/s]\n",
      "Epoch 2239/3000: 100%|██████████| 1/1 [00:00<00:00, 36.62it/s]\n",
      "Validation: 100%|██████████| 1/1 [00:00<00:00, 44.22it/s]\n"
     ]
    },
    {
     "name": "stdout",
     "output_type": "stream",
     "text": [
      "Epoch: 2239, Train Loss: 25.9496, \n",
      "Validation Loss: 20.5580\n"
     ]
    },
    {
     "name": "stderr",
     "output_type": "stream",
     "text": [
      "Epoch 2240/3000: 100%|██████████| 1/1 [00:00<00:00, 33.30it/s]\n",
      "Epoch 2241/3000: 100%|██████████| 1/1 [00:00<00:00, 37.08it/s]\n",
      "Validation: 100%|██████████| 1/1 [00:00<00:00, 52.06it/s]\n"
     ]
    },
    {
     "name": "stdout",
     "output_type": "stream",
     "text": [
      "Epoch: 2241, Train Loss: 6.7368, \n",
      "Validation Loss: 19.9986\n"
     ]
    },
    {
     "name": "stderr",
     "output_type": "stream",
     "text": [
      "Epoch 2242/3000: 100%|██████████| 1/1 [00:00<00:00, 33.93it/s]\n",
      "Epoch 2243/3000: 100%|██████████| 1/1 [00:00<00:00, 33.95it/s]\n",
      "Validation: 100%|██████████| 1/1 [00:00<00:00, 51.19it/s]\n"
     ]
    },
    {
     "name": "stdout",
     "output_type": "stream",
     "text": [
      "Epoch: 2243, Train Loss: 15.7951, \n",
      "Validation Loss: 19.8998\n"
     ]
    },
    {
     "name": "stderr",
     "output_type": "stream",
     "text": [
      "Epoch 2244/3000: 100%|██████████| 1/1 [00:00<00:00, 32.70it/s]\n",
      "Epoch 2245/3000: 100%|██████████| 1/1 [00:00<00:00, 36.83it/s]\n",
      "Validation: 100%|██████████| 1/1 [00:00<00:00, 50.60it/s]\n"
     ]
    },
    {
     "name": "stdout",
     "output_type": "stream",
     "text": [
      "Epoch: 2245, Train Loss: 6.7402, \n",
      "Validation Loss: 19.7884\n"
     ]
    },
    {
     "name": "stderr",
     "output_type": "stream",
     "text": [
      "Epoch 2246/3000: 100%|██████████| 1/1 [00:00<00:00, 38.85it/s]\n",
      "Epoch 2247/3000: 100%|██████████| 1/1 [00:00<00:00, 39.15it/s]\n",
      "Validation: 100%|██████████| 1/1 [00:00<00:00, 48.69it/s]\n"
     ]
    },
    {
     "name": "stdout",
     "output_type": "stream",
     "text": [
      "Epoch: 2247, Train Loss: 20.0121, \n",
      "Validation Loss: 23.6348\n"
     ]
    },
    {
     "name": "stderr",
     "output_type": "stream",
     "text": [
      "Epoch 2248/3000: 100%|██████████| 1/1 [00:00<00:00, 37.90it/s]\n",
      "Epoch 2249/3000: 100%|██████████| 1/1 [00:00<00:00, 37.20it/s]\n",
      "Validation: 100%|██████████| 1/1 [00:00<00:00, 51.84it/s]\n"
     ]
    },
    {
     "name": "stdout",
     "output_type": "stream",
     "text": [
      "Epoch: 2249, Train Loss: 29.7884, \n",
      "Validation Loss: 21.5671\n"
     ]
    },
    {
     "name": "stderr",
     "output_type": "stream",
     "text": [
      "Epoch 2250/3000: 100%|██████████| 1/1 [00:00<00:00, 35.41it/s]\n",
      "Epoch 2251/3000: 100%|██████████| 1/1 [00:00<00:00, 37.00it/s]\n",
      "Validation: 100%|██████████| 1/1 [00:00<00:00, 52.20it/s]\n"
     ]
    },
    {
     "name": "stdout",
     "output_type": "stream",
     "text": [
      "Epoch: 2251, Train Loss: 9.3890, \n",
      "Validation Loss: 20.2195\n"
     ]
    },
    {
     "name": "stderr",
     "output_type": "stream",
     "text": [
      "Epoch 2252/3000: 100%|██████████| 1/1 [00:00<00:00, 38.51it/s]\n",
      "Epoch 2253/3000: 100%|██████████| 1/1 [00:00<00:00, 39.31it/s]\n",
      "Validation: 100%|██████████| 1/1 [00:00<00:00, 48.89it/s]\n"
     ]
    },
    {
     "name": "stdout",
     "output_type": "stream",
     "text": [
      "Epoch: 2253, Train Loss: 14.8350, \n",
      "Validation Loss: 20.8547\n"
     ]
    },
    {
     "name": "stderr",
     "output_type": "stream",
     "text": [
      "Epoch 2254/3000: 100%|██████████| 1/1 [00:00<00:00, 35.37it/s]\n",
      "Epoch 2255/3000: 100%|██████████| 1/1 [00:00<00:00, 39.55it/s]\n",
      "Validation: 100%|██████████| 1/1 [00:00<00:00, 44.00it/s]\n"
     ]
    },
    {
     "name": "stdout",
     "output_type": "stream",
     "text": [
      "Epoch: 2255, Train Loss: 9.1846, \n",
      "Validation Loss: 20.1559\n"
     ]
    },
    {
     "name": "stderr",
     "output_type": "stream",
     "text": [
      "Epoch 2256/3000: 100%|██████████| 1/1 [00:00<00:00, 40.95it/s]\n",
      "Epoch 2257/3000: 100%|██████████| 1/1 [00:00<00:00, 35.35it/s]\n",
      "Validation: 100%|██████████| 1/1 [00:00<00:00, 44.58it/s]\n"
     ]
    },
    {
     "name": "stdout",
     "output_type": "stream",
     "text": [
      "Epoch: 2257, Train Loss: 23.5960, \n",
      "Validation Loss: 23.6846\n"
     ]
    },
    {
     "name": "stderr",
     "output_type": "stream",
     "text": [
      "Epoch 2258/3000: 100%|██████████| 1/1 [00:00<00:00, 33.88it/s]\n",
      "Epoch 2259/3000: 100%|██████████| 1/1 [00:00<00:00, 39.82it/s]\n",
      "Validation: 100%|██████████| 1/1 [00:00<00:00, 51.72it/s]\n"
     ]
    },
    {
     "name": "stdout",
     "output_type": "stream",
     "text": [
      "Epoch: 2259, Train Loss: 13.5945, \n",
      "Validation Loss: 20.6859\n"
     ]
    },
    {
     "name": "stderr",
     "output_type": "stream",
     "text": [
      "Epoch 2260/3000: 100%|██████████| 1/1 [00:00<00:00, 34.50it/s]\n",
      "Epoch 2261/3000: 100%|██████████| 1/1 [00:00<00:00, 38.81it/s]\n",
      "Validation: 100%|██████████| 1/1 [00:00<00:00, 52.03it/s]\n"
     ]
    },
    {
     "name": "stdout",
     "output_type": "stream",
     "text": [
      "Epoch: 2261, Train Loss: 9.9980, \n",
      "Validation Loss: 20.6903\n"
     ]
    },
    {
     "name": "stderr",
     "output_type": "stream",
     "text": [
      "Epoch 2262/3000: 100%|██████████| 1/1 [00:00<00:00, 39.15it/s]\n",
      "Epoch 2263/3000: 100%|██████████| 1/1 [00:00<00:00, 34.53it/s]\n",
      "Validation: 100%|██████████| 1/1 [00:00<00:00, 51.37it/s]\n"
     ]
    },
    {
     "name": "stdout",
     "output_type": "stream",
     "text": [
      "Epoch: 2263, Train Loss: 16.1489, \n",
      "Validation Loss: 20.6659\n"
     ]
    },
    {
     "name": "stderr",
     "output_type": "stream",
     "text": [
      "Epoch 2264/3000: 100%|██████████| 1/1 [00:00<00:00, 40.26it/s]\n",
      "Epoch 2265/3000: 100%|██████████| 1/1 [00:00<00:00, 40.00it/s]\n",
      "Validation: 100%|██████████| 1/1 [00:00<00:00, 48.89it/s]\n"
     ]
    },
    {
     "name": "stdout",
     "output_type": "stream",
     "text": [
      "Epoch: 2265, Train Loss: 8.2040, \n",
      "Validation Loss: 19.5908\n"
     ]
    },
    {
     "name": "stderr",
     "output_type": "stream",
     "text": [
      "Epoch 2266/3000: 100%|██████████| 1/1 [00:00<00:00, 38.63it/s]\n",
      "Epoch 2267/3000: 100%|██████████| 1/1 [00:00<00:00, 32.31it/s]\n",
      "Validation: 100%|██████████| 1/1 [00:00<00:00, 42.37it/s]\n"
     ]
    },
    {
     "name": "stdout",
     "output_type": "stream",
     "text": [
      "Epoch: 2267, Train Loss: 22.1871, \n",
      "Validation Loss: 24.0464\n"
     ]
    },
    {
     "name": "stderr",
     "output_type": "stream",
     "text": [
      "Epoch 2268/3000: 100%|██████████| 1/1 [00:00<00:00, 39.16it/s]\n",
      "Epoch 2269/3000: 100%|██████████| 1/1 [00:00<00:00, 38.42it/s]\n",
      "Validation: 100%|██████████| 1/1 [00:00<00:00, 50.99it/s]\n"
     ]
    },
    {
     "name": "stdout",
     "output_type": "stream",
     "text": [
      "Epoch: 2269, Train Loss: 15.0063, \n",
      "Validation Loss: 23.5205\n"
     ]
    },
    {
     "name": "stderr",
     "output_type": "stream",
     "text": [
      "Epoch 2270/3000: 100%|██████████| 1/1 [00:00<00:00, 37.26it/s]\n",
      "Epoch 2271/3000: 100%|██████████| 1/1 [00:00<00:00, 36.46it/s]\n",
      "Validation: 100%|██████████| 1/1 [00:00<00:00, 49.99it/s]\n"
     ]
    },
    {
     "name": "stdout",
     "output_type": "stream",
     "text": [
      "Epoch: 2271, Train Loss: 25.1533, \n",
      "Validation Loss: 20.5283\n"
     ]
    },
    {
     "name": "stderr",
     "output_type": "stream",
     "text": [
      "Epoch 2272/3000: 100%|██████████| 1/1 [00:00<00:00, 33.16it/s]\n",
      "Epoch 2273/3000: 100%|██████████| 1/1 [00:00<00:00, 39.74it/s]\n",
      "Validation: 100%|██████████| 1/1 [00:00<00:00, 42.11it/s]\n"
     ]
    },
    {
     "name": "stdout",
     "output_type": "stream",
     "text": [
      "Epoch: 2273, Train Loss: 34.9183, \n",
      "Validation Loss: 20.4188\n"
     ]
    },
    {
     "name": "stderr",
     "output_type": "stream",
     "text": [
      "Epoch 2274/3000: 100%|██████████| 1/1 [00:00<00:00, 39.09it/s]\n",
      "Epoch 2275/3000: 100%|██████████| 1/1 [00:00<00:00, 36.75it/s]\n",
      "Validation: 100%|██████████| 1/1 [00:00<00:00, 51.48it/s]\n"
     ]
    },
    {
     "name": "stdout",
     "output_type": "stream",
     "text": [
      "Epoch: 2275, Train Loss: 16.6147, \n",
      "Validation Loss: 20.1382\n"
     ]
    },
    {
     "name": "stderr",
     "output_type": "stream",
     "text": [
      "Epoch 2276/3000: 100%|██████████| 1/1 [00:00<00:00, 40.18it/s]\n",
      "Epoch 2277/3000: 100%|██████████| 1/1 [00:00<00:00, 40.25it/s]\n",
      "Validation: 100%|██████████| 1/1 [00:00<00:00, 52.53it/s]\n"
     ]
    },
    {
     "name": "stdout",
     "output_type": "stream",
     "text": [
      "Epoch: 2277, Train Loss: 10.6010, \n",
      "Validation Loss: 19.4636\n"
     ]
    },
    {
     "name": "stderr",
     "output_type": "stream",
     "text": [
      "Epoch 2278/3000: 100%|██████████| 1/1 [00:00<00:00, 39.70it/s]\n",
      "Epoch 2279/3000: 100%|██████████| 1/1 [00:00<00:00, 40.54it/s]\n",
      "Validation: 100%|██████████| 1/1 [00:00<00:00, 47.90it/s]\n"
     ]
    },
    {
     "name": "stdout",
     "output_type": "stream",
     "text": [
      "Epoch: 2279, Train Loss: 22.5447, \n",
      "Validation Loss: 19.0440\n"
     ]
    },
    {
     "name": "stderr",
     "output_type": "stream",
     "text": [
      "Epoch 2280/3000: 100%|██████████| 1/1 [00:00<00:00, 38.03it/s]\n",
      "Epoch 2281/3000: 100%|██████████| 1/1 [00:00<00:00, 38.39it/s]\n",
      "Validation: 100%|██████████| 1/1 [00:00<00:00, 46.57it/s]\n"
     ]
    },
    {
     "name": "stdout",
     "output_type": "stream",
     "text": [
      "Epoch: 2281, Train Loss: 9.6293, \n",
      "Validation Loss: 19.9416\n"
     ]
    },
    {
     "name": "stderr",
     "output_type": "stream",
     "text": [
      "Epoch 2282/3000: 100%|██████████| 1/1 [00:00<00:00, 37.42it/s]\n",
      "Epoch 2283/3000: 100%|██████████| 1/1 [00:00<00:00, 37.88it/s]\n",
      "Validation: 100%|██████████| 1/1 [00:00<00:00, 50.19it/s]\n"
     ]
    },
    {
     "name": "stdout",
     "output_type": "stream",
     "text": [
      "Epoch: 2283, Train Loss: 20.3252, \n",
      "Validation Loss: 22.5555\n"
     ]
    },
    {
     "name": "stderr",
     "output_type": "stream",
     "text": [
      "Epoch 2284/3000: 100%|██████████| 1/1 [00:00<00:00, 37.74it/s]\n",
      "Epoch 2285/3000: 100%|██████████| 1/1 [00:00<00:00, 34.57it/s]\n",
      "Validation: 100%|██████████| 1/1 [00:00<00:00, 51.15it/s]\n"
     ]
    },
    {
     "name": "stdout",
     "output_type": "stream",
     "text": [
      "Epoch: 2285, Train Loss: 19.9888, \n",
      "Validation Loss: 20.3723\n"
     ]
    },
    {
     "name": "stderr",
     "output_type": "stream",
     "text": [
      "Epoch 2286/3000: 100%|██████████| 1/1 [00:00<00:00, 35.95it/s]\n",
      "Epoch 2287/3000: 100%|██████████| 1/1 [00:00<00:00, 34.48it/s]\n",
      "Validation: 100%|██████████| 1/1 [00:00<00:00, 43.56it/s]\n"
     ]
    },
    {
     "name": "stdout",
     "output_type": "stream",
     "text": [
      "Epoch: 2287, Train Loss: 13.6476, \n",
      "Validation Loss: 19.6404\n"
     ]
    },
    {
     "name": "stderr",
     "output_type": "stream",
     "text": [
      "Epoch 2288/3000: 100%|██████████| 1/1 [00:00<00:00, 39.61it/s]\n",
      "Epoch 2289/3000: 100%|██████████| 1/1 [00:00<00:00, 35.12it/s]\n",
      "Validation: 100%|██████████| 1/1 [00:00<00:00, 52.40it/s]\n"
     ]
    },
    {
     "name": "stdout",
     "output_type": "stream",
     "text": [
      "Epoch: 2289, Train Loss: 18.4861, \n",
      "Validation Loss: 19.2791\n"
     ]
    },
    {
     "name": "stderr",
     "output_type": "stream",
     "text": [
      "Epoch 2290/3000: 100%|██████████| 1/1 [00:00<00:00, 35.71it/s]\n",
      "Epoch 2291/3000: 100%|██████████| 1/1 [00:00<00:00, 40.22it/s]\n",
      "Validation: 100%|██████████| 1/1 [00:00<00:00, 50.51it/s]\n"
     ]
    },
    {
     "name": "stdout",
     "output_type": "stream",
     "text": [
      "Epoch: 2291, Train Loss: 10.6588, \n",
      "Validation Loss: 19.5117\n"
     ]
    },
    {
     "name": "stderr",
     "output_type": "stream",
     "text": [
      "Epoch 2292/3000: 100%|██████████| 1/1 [00:00<00:00, 39.66it/s]\n",
      "Epoch 2293/3000: 100%|██████████| 1/1 [00:00<00:00, 39.65it/s]\n",
      "Validation: 100%|██████████| 1/1 [00:00<00:00, 50.07it/s]\n"
     ]
    },
    {
     "name": "stdout",
     "output_type": "stream",
     "text": [
      "Epoch: 2293, Train Loss: 17.6411, \n",
      "Validation Loss: 20.4670\n"
     ]
    },
    {
     "name": "stderr",
     "output_type": "stream",
     "text": [
      "Epoch 2294/3000: 100%|██████████| 1/1 [00:00<00:00, 36.27it/s]\n",
      "Epoch 2295/3000: 100%|██████████| 1/1 [00:00<00:00, 34.94it/s]\n",
      "Validation: 100%|██████████| 1/1 [00:00<00:00, 42.46it/s]\n"
     ]
    },
    {
     "name": "stdout",
     "output_type": "stream",
     "text": [
      "Epoch: 2295, Train Loss: 9.8075, \n",
      "Validation Loss: 20.6043\n"
     ]
    },
    {
     "name": "stderr",
     "output_type": "stream",
     "text": [
      "Epoch 2296/3000: 100%|██████████| 1/1 [00:00<00:00, 40.21it/s]\n",
      "Epoch 2297/3000: 100%|██████████| 1/1 [00:00<00:00, 37.89it/s]\n",
      "Validation: 100%|██████████| 1/1 [00:00<00:00, 51.50it/s]\n"
     ]
    },
    {
     "name": "stdout",
     "output_type": "stream",
     "text": [
      "Epoch: 2297, Train Loss: 17.7394, \n",
      "Validation Loss: 20.2162\n"
     ]
    },
    {
     "name": "stderr",
     "output_type": "stream",
     "text": [
      "Epoch 2298/3000: 100%|██████████| 1/1 [00:00<00:00, 38.71it/s]\n",
      "Epoch 2299/3000: 100%|██████████| 1/1 [00:00<00:00, 36.68it/s]\n",
      "Validation: 100%|██████████| 1/1 [00:00<00:00, 51.61it/s]\n"
     ]
    },
    {
     "name": "stdout",
     "output_type": "stream",
     "text": [
      "Epoch: 2299, Train Loss: 14.5678, \n",
      "Validation Loss: 24.5686\n"
     ]
    },
    {
     "name": "stderr",
     "output_type": "stream",
     "text": [
      "Epoch 2300/3000: 100%|██████████| 1/1 [00:00<00:00, 33.11it/s]\n",
      "Epoch 2301/3000: 100%|██████████| 1/1 [00:00<00:00, 41.61it/s]\n",
      "Validation: 100%|██████████| 1/1 [00:00<00:00, 52.10it/s]\n"
     ]
    },
    {
     "name": "stdout",
     "output_type": "stream",
     "text": [
      "Epoch: 2301, Train Loss: 31.0641, \n",
      "Validation Loss: 20.6733\n"
     ]
    },
    {
     "name": "stderr",
     "output_type": "stream",
     "text": [
      "Epoch 2302/3000: 100%|██████████| 1/1 [00:00<00:00, 37.26it/s]\n",
      "Epoch 2303/3000: 100%|██████████| 1/1 [00:00<00:00, 36.54it/s]\n",
      "Validation: 100%|██████████| 1/1 [00:00<00:00, 51.89it/s]\n"
     ]
    },
    {
     "name": "stdout",
     "output_type": "stream",
     "text": [
      "Epoch: 2303, Train Loss: 19.2454, \n",
      "Validation Loss: 19.1412\n"
     ]
    },
    {
     "name": "stderr",
     "output_type": "stream",
     "text": [
      "Epoch 2304/3000: 100%|██████████| 1/1 [00:00<00:00, 38.05it/s]\n",
      "Epoch 2305/3000: 100%|██████████| 1/1 [00:00<00:00, 39.91it/s]\n",
      "Validation: 100%|██████████| 1/1 [00:00<00:00, 51.93it/s]\n"
     ]
    },
    {
     "name": "stdout",
     "output_type": "stream",
     "text": [
      "Epoch: 2305, Train Loss: 18.8230, \n",
      "Validation Loss: 19.7891\n"
     ]
    },
    {
     "name": "stderr",
     "output_type": "stream",
     "text": [
      "Epoch 2306/3000: 100%|██████████| 1/1 [00:00<00:00, 31.74it/s]\n",
      "Epoch 2307/3000: 100%|██████████| 1/1 [00:00<00:00, 38.77it/s]\n",
      "Validation: 100%|██████████| 1/1 [00:00<00:00, 47.93it/s]\n"
     ]
    },
    {
     "name": "stdout",
     "output_type": "stream",
     "text": [
      "Epoch: 2307, Train Loss: 18.3128, \n",
      "Validation Loss: 19.6460\n"
     ]
    },
    {
     "name": "stderr",
     "output_type": "stream",
     "text": [
      "Epoch 2308/3000: 100%|██████████| 1/1 [00:00<00:00, 31.91it/s]\n",
      "Epoch 2309/3000: 100%|██████████| 1/1 [00:00<00:00, 40.13it/s]\n",
      "Validation: 100%|██████████| 1/1 [00:00<00:00, 48.01it/s]\n"
     ]
    },
    {
     "name": "stdout",
     "output_type": "stream",
     "text": [
      "Epoch: 2309, Train Loss: 20.9612, \n",
      "Validation Loss: 22.5403\n"
     ]
    },
    {
     "name": "stderr",
     "output_type": "stream",
     "text": [
      "Epoch 2310/3000: 100%|██████████| 1/1 [00:00<00:00, 39.89it/s]\n",
      "Epoch 2311/3000: 100%|██████████| 1/1 [00:00<00:00, 35.12it/s]\n",
      "Validation: 100%|██████████| 1/1 [00:00<00:00, 51.25it/s]\n"
     ]
    },
    {
     "name": "stdout",
     "output_type": "stream",
     "text": [
      "Epoch: 2311, Train Loss: 20.4632, \n",
      "Validation Loss: 19.4505\n"
     ]
    },
    {
     "name": "stderr",
     "output_type": "stream",
     "text": [
      "Epoch 2312/3000: 100%|██████████| 1/1 [00:00<00:00, 35.09it/s]\n",
      "Epoch 2313/3000: 100%|██████████| 1/1 [00:00<00:00, 37.91it/s]\n",
      "Validation: 100%|██████████| 1/1 [00:00<00:00, 51.39it/s]\n"
     ]
    },
    {
     "name": "stdout",
     "output_type": "stream",
     "text": [
      "Epoch: 2313, Train Loss: 15.8055, \n",
      "Validation Loss: 19.2080\n"
     ]
    },
    {
     "name": "stderr",
     "output_type": "stream",
     "text": [
      "Epoch 2314/3000: 100%|██████████| 1/1 [00:00<00:00, 32.65it/s]\n",
      "Epoch 2315/3000: 100%|██████████| 1/1 [00:00<00:00, 38.61it/s]\n",
      "Validation: 100%|██████████| 1/1 [00:00<00:00, 50.92it/s]\n"
     ]
    },
    {
     "name": "stdout",
     "output_type": "stream",
     "text": [
      "Epoch: 2315, Train Loss: 25.5238, \n",
      "Validation Loss: 20.6070\n"
     ]
    },
    {
     "name": "stderr",
     "output_type": "stream",
     "text": [
      "Epoch 2316/3000: 100%|██████████| 1/1 [00:00<00:00, 39.94it/s]\n",
      "Epoch 2317/3000: 100%|██████████| 1/1 [00:00<00:00, 37.99it/s]\n",
      "Validation: 100%|██████████| 1/1 [00:00<00:00, 50.93it/s]\n"
     ]
    },
    {
     "name": "stdout",
     "output_type": "stream",
     "text": [
      "Epoch: 2317, Train Loss: 2.6284, \n",
      "Validation Loss: 19.4896\n"
     ]
    },
    {
     "name": "stderr",
     "output_type": "stream",
     "text": [
      "Epoch 2318/3000: 100%|██████████| 1/1 [00:00<00:00, 35.06it/s]\n",
      "Epoch 2319/3000: 100%|██████████| 1/1 [00:00<00:00, 36.99it/s]\n",
      "Validation: 100%|██████████| 1/1 [00:00<00:00, 43.48it/s]\n"
     ]
    },
    {
     "name": "stdout",
     "output_type": "stream",
     "text": [
      "Epoch: 2319, Train Loss: 21.7009, \n",
      "Validation Loss: 20.3256\n"
     ]
    },
    {
     "name": "stderr",
     "output_type": "stream",
     "text": [
      "Epoch 2320/3000: 100%|██████████| 1/1 [00:00<00:00, 37.65it/s]\n",
      "Epoch 2321/3000: 100%|██████████| 1/1 [00:00<00:00, 37.71it/s]\n",
      "Validation: 100%|██████████| 1/1 [00:00<00:00, 46.51it/s]\n"
     ]
    },
    {
     "name": "stdout",
     "output_type": "stream",
     "text": [
      "Epoch: 2321, Train Loss: 16.7190, \n",
      "Validation Loss: 20.5275\n"
     ]
    },
    {
     "name": "stderr",
     "output_type": "stream",
     "text": [
      "Epoch 2322/3000: 100%|██████████| 1/1 [00:00<00:00, 38.00it/s]\n",
      "Epoch 2323/3000: 100%|██████████| 1/1 [00:00<00:00, 36.77it/s]\n",
      "Validation: 100%|██████████| 1/1 [00:00<00:00, 52.69it/s]\n"
     ]
    },
    {
     "name": "stdout",
     "output_type": "stream",
     "text": [
      "Epoch: 2323, Train Loss: 17.8318, \n",
      "Validation Loss: 20.3103\n"
     ]
    },
    {
     "name": "stderr",
     "output_type": "stream",
     "text": [
      "Epoch 2324/3000: 100%|██████████| 1/1 [00:00<00:00, 40.79it/s]\n",
      "Epoch 2325/3000: 100%|██████████| 1/1 [00:00<00:00, 36.03it/s]\n",
      "Validation: 100%|██████████| 1/1 [00:00<00:00, 52.79it/s]\n"
     ]
    },
    {
     "name": "stdout",
     "output_type": "stream",
     "text": [
      "Epoch: 2325, Train Loss: 11.0733, \n",
      "Validation Loss: 19.9315\n"
     ]
    },
    {
     "name": "stderr",
     "output_type": "stream",
     "text": [
      "Epoch 2326/3000: 100%|██████████| 1/1 [00:00<00:00, 33.92it/s]\n",
      "Epoch 2327/3000: 100%|██████████| 1/1 [00:00<00:00, 41.19it/s]\n",
      "Validation: 100%|██████████| 1/1 [00:00<00:00, 44.49it/s]\n"
     ]
    },
    {
     "name": "stdout",
     "output_type": "stream",
     "text": [
      "Epoch: 2327, Train Loss: 8.6776, \n",
      "Validation Loss: 20.1282\n"
     ]
    },
    {
     "name": "stderr",
     "output_type": "stream",
     "text": [
      "Epoch 2328/3000: 100%|██████████| 1/1 [00:00<00:00, 40.15it/s]\n",
      "Epoch 2329/3000: 100%|██████████| 1/1 [00:00<00:00, 38.59it/s]\n",
      "Validation: 100%|██████████| 1/1 [00:00<00:00, 51.71it/s]\n"
     ]
    },
    {
     "name": "stdout",
     "output_type": "stream",
     "text": [
      "Epoch: 2329, Train Loss: 9.3487, \n",
      "Validation Loss: 19.9705\n"
     ]
    },
    {
     "name": "stderr",
     "output_type": "stream",
     "text": [
      "Epoch 2330/3000: 100%|██████████| 1/1 [00:00<00:00, 39.69it/s]\n",
      "Epoch 2331/3000: 100%|██████████| 1/1 [00:00<00:00, 38.87it/s]\n",
      "Validation: 100%|██████████| 1/1 [00:00<00:00, 45.36it/s]\n"
     ]
    },
    {
     "name": "stdout",
     "output_type": "stream",
     "text": [
      "Epoch: 2331, Train Loss: 8.9090, \n",
      "Validation Loss: 19.5439\n"
     ]
    },
    {
     "name": "stderr",
     "output_type": "stream",
     "text": [
      "Epoch 2332/3000: 100%|██████████| 1/1 [00:00<00:00, 38.42it/s]\n",
      "Epoch 2333/3000: 100%|██████████| 1/1 [00:00<00:00, 38.96it/s]\n",
      "Validation: 100%|██████████| 1/1 [00:00<00:00, 51.50it/s]\n"
     ]
    },
    {
     "name": "stdout",
     "output_type": "stream",
     "text": [
      "Epoch: 2333, Train Loss: 12.8557, \n",
      "Validation Loss: 22.9395\n"
     ]
    },
    {
     "name": "stderr",
     "output_type": "stream",
     "text": [
      "Epoch 2334/3000: 100%|██████████| 1/1 [00:00<00:00, 32.26it/s]\n",
      "Epoch 2335/3000: 100%|██████████| 1/1 [00:00<00:00, 36.92it/s]\n",
      "Validation: 100%|██████████| 1/1 [00:00<00:00, 52.17it/s]\n"
     ]
    },
    {
     "name": "stdout",
     "output_type": "stream",
     "text": [
      "Epoch: 2335, Train Loss: 7.2121, \n",
      "Validation Loss: 20.3232\n"
     ]
    },
    {
     "name": "stderr",
     "output_type": "stream",
     "text": [
      "Epoch 2336/3000: 100%|██████████| 1/1 [00:00<00:00, 36.21it/s]\n",
      "Epoch 2337/3000: 100%|██████████| 1/1 [00:00<00:00, 35.96it/s]\n",
      "Validation: 100%|██████████| 1/1 [00:00<00:00, 49.85it/s]\n"
     ]
    },
    {
     "name": "stdout",
     "output_type": "stream",
     "text": [
      "Epoch: 2337, Train Loss: 23.7042, \n",
      "Validation Loss: 20.3736\n"
     ]
    },
    {
     "name": "stderr",
     "output_type": "stream",
     "text": [
      "Epoch 2338/3000: 100%|██████████| 1/1 [00:00<00:00, 36.04it/s]\n",
      "Epoch 2339/3000: 100%|██████████| 1/1 [00:00<00:00, 40.44it/s]\n",
      "Validation: 100%|██████████| 1/1 [00:00<00:00, 51.04it/s]\n"
     ]
    },
    {
     "name": "stdout",
     "output_type": "stream",
     "text": [
      "Epoch: 2339, Train Loss: 11.1860, \n",
      "Validation Loss: 22.7629\n"
     ]
    },
    {
     "name": "stderr",
     "output_type": "stream",
     "text": [
      "Epoch 2340/3000: 100%|██████████| 1/1 [00:00<00:00, 38.56it/s]\n",
      "Epoch 2341/3000: 100%|██████████| 1/1 [00:00<00:00, 37.11it/s]\n",
      "Validation: 100%|██████████| 1/1 [00:00<00:00, 51.17it/s]\n"
     ]
    },
    {
     "name": "stdout",
     "output_type": "stream",
     "text": [
      "Epoch: 2341, Train Loss: 12.5029, \n",
      "Validation Loss: 20.0128\n"
     ]
    },
    {
     "name": "stderr",
     "output_type": "stream",
     "text": [
      "Epoch 2342/3000: 100%|██████████| 1/1 [00:00<00:00, 37.60it/s]\n",
      "Epoch 2343/3000: 100%|██████████| 1/1 [00:00<00:00, 33.32it/s]\n",
      "Validation: 100%|██████████| 1/1 [00:00<00:00, 51.48it/s]\n"
     ]
    },
    {
     "name": "stdout",
     "output_type": "stream",
     "text": [
      "Epoch: 2343, Train Loss: 22.9352, \n",
      "Validation Loss: 19.7027\n"
     ]
    },
    {
     "name": "stderr",
     "output_type": "stream",
     "text": [
      "Epoch 2344/3000: 100%|██████████| 1/1 [00:00<00:00, 36.18it/s]\n",
      "Epoch 2345/3000: 100%|██████████| 1/1 [00:00<00:00, 39.59it/s]\n",
      "Validation: 100%|██████████| 1/1 [00:00<00:00, 52.36it/s]\n"
     ]
    },
    {
     "name": "stdout",
     "output_type": "stream",
     "text": [
      "Epoch: 2345, Train Loss: 10.3269, \n",
      "Validation Loss: 21.2489\n"
     ]
    },
    {
     "name": "stderr",
     "output_type": "stream",
     "text": [
      "Epoch 2346/3000: 100%|██████████| 1/1 [00:00<00:00, 31.71it/s]\n",
      "Epoch 2347/3000: 100%|██████████| 1/1 [00:00<00:00, 33.36it/s]\n",
      "Validation: 100%|██████████| 1/1 [00:00<00:00, 48.57it/s]\n"
     ]
    },
    {
     "name": "stdout",
     "output_type": "stream",
     "text": [
      "Epoch: 2347, Train Loss: 12.2689, \n",
      "Validation Loss: 19.8631\n"
     ]
    },
    {
     "name": "stderr",
     "output_type": "stream",
     "text": [
      "Epoch 2348/3000: 100%|██████████| 1/1 [00:00<00:00, 39.34it/s]\n",
      "Epoch 2349/3000: 100%|██████████| 1/1 [00:00<00:00, 39.31it/s]\n",
      "Validation: 100%|██████████| 1/1 [00:00<00:00, 45.16it/s]\n"
     ]
    },
    {
     "name": "stdout",
     "output_type": "stream",
     "text": [
      "Epoch: 2349, Train Loss: 22.1120, \n",
      "Validation Loss: 19.0761\n"
     ]
    },
    {
     "name": "stderr",
     "output_type": "stream",
     "text": [
      "Epoch 2350/3000: 100%|██████████| 1/1 [00:00<00:00, 39.00it/s]\n",
      "Epoch 2351/3000: 100%|██████████| 1/1 [00:00<00:00, 34.01it/s]\n",
      "Validation: 100%|██████████| 1/1 [00:00<00:00, 49.84it/s]\n"
     ]
    },
    {
     "name": "stdout",
     "output_type": "stream",
     "text": [
      "Epoch: 2351, Train Loss: 18.4740, \n",
      "Validation Loss: 18.5936\n"
     ]
    },
    {
     "name": "stderr",
     "output_type": "stream",
     "text": [
      "Epoch 2352/3000: 100%|██████████| 1/1 [00:00<00:00, 34.46it/s]\n",
      "Epoch 2353/3000: 100%|██████████| 1/1 [00:00<00:00, 39.01it/s]\n",
      "Validation: 100%|██████████| 1/1 [00:00<00:00, 48.13it/s]\n"
     ]
    },
    {
     "name": "stdout",
     "output_type": "stream",
     "text": [
      "Epoch: 2353, Train Loss: 8.7261, \n",
      "Validation Loss: 18.6633\n"
     ]
    },
    {
     "name": "stderr",
     "output_type": "stream",
     "text": [
      "Epoch 2354/3000: 100%|██████████| 1/1 [00:00<00:00, 37.10it/s]\n",
      "Epoch 2355/3000: 100%|██████████| 1/1 [00:00<00:00, 34.06it/s]\n",
      "Validation: 100%|██████████| 1/1 [00:00<00:00, 49.29it/s]\n"
     ]
    },
    {
     "name": "stdout",
     "output_type": "stream",
     "text": [
      "Epoch: 2355, Train Loss: 15.1247, \n",
      "Validation Loss: 18.7450\n"
     ]
    },
    {
     "name": "stderr",
     "output_type": "stream",
     "text": [
      "Epoch 2356/3000: 100%|██████████| 1/1 [00:00<00:00, 36.79it/s]\n",
      "Epoch 2357/3000: 100%|██████████| 1/1 [00:00<00:00, 38.28it/s]\n",
      "Validation: 100%|██████████| 1/1 [00:00<00:00, 52.55it/s]\n"
     ]
    },
    {
     "name": "stdout",
     "output_type": "stream",
     "text": [
      "Epoch: 2357, Train Loss: 18.5557, \n",
      "Validation Loss: 21.9199\n"
     ]
    },
    {
     "name": "stderr",
     "output_type": "stream",
     "text": [
      "Epoch 2358/3000: 100%|██████████| 1/1 [00:00<00:00, 33.81it/s]\n",
      "Epoch 2359/3000: 100%|██████████| 1/1 [00:00<00:00, 33.40it/s]\n",
      "Validation: 100%|██████████| 1/1 [00:00<00:00, 47.72it/s]\n"
     ]
    },
    {
     "name": "stdout",
     "output_type": "stream",
     "text": [
      "Epoch: 2359, Train Loss: 10.5017, \n",
      "Validation Loss: 18.5814\n"
     ]
    },
    {
     "name": "stderr",
     "output_type": "stream",
     "text": [
      "Epoch 2360/3000: 100%|██████████| 1/1 [00:00<00:00, 38.75it/s]\n",
      "Epoch 2361/3000: 100%|██████████| 1/1 [00:00<00:00, 40.92it/s]\n",
      "Validation: 100%|██████████| 1/1 [00:00<00:00, 49.50it/s]\n"
     ]
    },
    {
     "name": "stdout",
     "output_type": "stream",
     "text": [
      "Epoch: 2361, Train Loss: 19.0462, \n",
      "Validation Loss: 18.5378\n"
     ]
    },
    {
     "name": "stderr",
     "output_type": "stream",
     "text": [
      "Epoch 2362/3000: 100%|██████████| 1/1 [00:00<00:00, 36.71it/s]\n",
      "Epoch 2363/3000: 100%|██████████| 1/1 [00:00<00:00, 38.34it/s]\n",
      "Validation: 100%|██████████| 1/1 [00:00<00:00, 47.03it/s]\n"
     ]
    },
    {
     "name": "stdout",
     "output_type": "stream",
     "text": [
      "Epoch: 2363, Train Loss: 10.7338, \n",
      "Validation Loss: 18.9023\n"
     ]
    },
    {
     "name": "stderr",
     "output_type": "stream",
     "text": [
      "Epoch 2364/3000: 100%|██████████| 1/1 [00:00<00:00, 35.78it/s]\n",
      "Epoch 2365/3000: 100%|██████████| 1/1 [00:00<00:00, 32.19it/s]\n",
      "Validation: 100%|██████████| 1/1 [00:00<00:00, 48.07it/s]\n"
     ]
    },
    {
     "name": "stdout",
     "output_type": "stream",
     "text": [
      "Epoch: 2365, Train Loss: 9.2014, \n",
      "Validation Loss: 18.7534\n"
     ]
    },
    {
     "name": "stderr",
     "output_type": "stream",
     "text": [
      "Epoch 2366/3000: 100%|██████████| 1/1 [00:00<00:00, 34.64it/s]\n",
      "Epoch 2367/3000: 100%|██████████| 1/1 [00:00<00:00, 38.13it/s]\n",
      "Validation: 100%|██████████| 1/1 [00:00<00:00, 49.81it/s]\n"
     ]
    },
    {
     "name": "stdout",
     "output_type": "stream",
     "text": [
      "Epoch: 2367, Train Loss: 10.1186, \n",
      "Validation Loss: 18.0153\n"
     ]
    },
    {
     "name": "stderr",
     "output_type": "stream",
     "text": [
      "Epoch 2368/3000: 100%|██████████| 1/1 [00:00<00:00, 37.89it/s]\n",
      "Epoch 2369/3000: 100%|██████████| 1/1 [00:00<00:00, 35.31it/s]\n",
      "Validation: 100%|██████████| 1/1 [00:00<00:00, 49.00it/s]\n"
     ]
    },
    {
     "name": "stdout",
     "output_type": "stream",
     "text": [
      "Epoch: 2369, Train Loss: 11.0027, \n",
      "Validation Loss: 17.3388\n"
     ]
    },
    {
     "name": "stderr",
     "output_type": "stream",
     "text": [
      "Epoch 2370/3000: 100%|██████████| 1/1 [00:00<00:00, 41.01it/s]\n",
      "Epoch 2371/3000: 100%|██████████| 1/1 [00:00<00:00, 33.13it/s]\n",
      "Validation: 100%|██████████| 1/1 [00:00<00:00, 40.94it/s]\n"
     ]
    },
    {
     "name": "stdout",
     "output_type": "stream",
     "text": [
      "Epoch: 2371, Train Loss: 9.2065, \n",
      "Validation Loss: 17.6502\n"
     ]
    },
    {
     "name": "stderr",
     "output_type": "stream",
     "text": [
      "Epoch 2372/3000: 100%|██████████| 1/1 [00:00<00:00, 36.01it/s]\n",
      "Epoch 2373/3000: 100%|██████████| 1/1 [00:00<00:00, 39.84it/s]\n",
      "Validation: 100%|██████████| 1/1 [00:00<00:00, 51.15it/s]\n"
     ]
    },
    {
     "name": "stdout",
     "output_type": "stream",
     "text": [
      "Epoch: 2373, Train Loss: 7.8887, \n",
      "Validation Loss: 19.6299\n"
     ]
    },
    {
     "name": "stderr",
     "output_type": "stream",
     "text": [
      "Epoch 2374/3000: 100%|██████████| 1/1 [00:00<00:00, 37.95it/s]\n",
      "Epoch 2375/3000: 100%|██████████| 1/1 [00:00<00:00, 34.99it/s]\n",
      "Validation: 100%|██████████| 1/1 [00:00<00:00, 50.09it/s]\n"
     ]
    },
    {
     "name": "stdout",
     "output_type": "stream",
     "text": [
      "Epoch: 2375, Train Loss: 9.3147, \n",
      "Validation Loss: 17.4681\n"
     ]
    },
    {
     "name": "stderr",
     "output_type": "stream",
     "text": [
      "Epoch 2376/3000: 100%|██████████| 1/1 [00:00<00:00, 36.63it/s]\n",
      "Epoch 2377/3000: 100%|██████████| 1/1 [00:00<00:00, 35.61it/s]\n",
      "Validation: 100%|██████████| 1/1 [00:00<00:00, 50.86it/s]\n"
     ]
    },
    {
     "name": "stdout",
     "output_type": "stream",
     "text": [
      "Epoch: 2377, Train Loss: 12.5735, \n",
      "Validation Loss: 18.2307\n"
     ]
    },
    {
     "name": "stderr",
     "output_type": "stream",
     "text": [
      "Epoch 2378/3000: 100%|██████████| 1/1 [00:00<00:00, 39.03it/s]\n",
      "Epoch 2379/3000: 100%|██████████| 1/1 [00:00<00:00, 39.35it/s]\n",
      "Validation: 100%|██████████| 1/1 [00:00<00:00, 50.17it/s]\n"
     ]
    },
    {
     "name": "stdout",
     "output_type": "stream",
     "text": [
      "Epoch: 2379, Train Loss: 8.8121, \n",
      "Validation Loss: 20.4170\n"
     ]
    },
    {
     "name": "stderr",
     "output_type": "stream",
     "text": [
      "Epoch 2380/3000: 100%|██████████| 1/1 [00:00<00:00, 38.39it/s]\n",
      "Epoch 2381/3000: 100%|██████████| 1/1 [00:00<00:00, 38.37it/s]\n",
      "Validation: 100%|██████████| 1/1 [00:00<00:00, 42.66it/s]\n"
     ]
    },
    {
     "name": "stdout",
     "output_type": "stream",
     "text": [
      "Epoch: 2381, Train Loss: 9.6061, \n",
      "Validation Loss: 18.5455\n"
     ]
    },
    {
     "name": "stderr",
     "output_type": "stream",
     "text": [
      "Epoch 2382/3000: 100%|██████████| 1/1 [00:00<00:00, 39.63it/s]\n",
      "Epoch 2383/3000: 100%|██████████| 1/1 [00:00<00:00, 40.39it/s]\n",
      "Validation: 100%|██████████| 1/1 [00:00<00:00, 49.12it/s]\n"
     ]
    },
    {
     "name": "stdout",
     "output_type": "stream",
     "text": [
      "Epoch: 2383, Train Loss: 8.9705, \n",
      "Validation Loss: 17.7394\n"
     ]
    },
    {
     "name": "stderr",
     "output_type": "stream",
     "text": [
      "Epoch 2384/3000: 100%|██████████| 1/1 [00:00<00:00, 30.48it/s]\n",
      "Epoch 2385/3000: 100%|██████████| 1/1 [00:00<00:00, 40.17it/s]\n",
      "Validation: 100%|██████████| 1/1 [00:00<00:00, 48.47it/s]\n"
     ]
    },
    {
     "name": "stdout",
     "output_type": "stream",
     "text": [
      "Epoch: 2385, Train Loss: 11.8252, \n",
      "Validation Loss: 16.1892\n"
     ]
    },
    {
     "name": "stderr",
     "output_type": "stream",
     "text": [
      "Epoch 2386/3000: 100%|██████████| 1/1 [00:00<00:00, 38.36it/s]\n",
      "Epoch 2387/3000: 100%|██████████| 1/1 [00:00<00:00, 37.66it/s]\n",
      "Validation: 100%|██████████| 1/1 [00:00<00:00, 46.37it/s]\n"
     ]
    },
    {
     "name": "stdout",
     "output_type": "stream",
     "text": [
      "Epoch: 2387, Train Loss: 11.0059, \n",
      "Validation Loss: 18.0044\n"
     ]
    },
    {
     "name": "stderr",
     "output_type": "stream",
     "text": [
      "Epoch 2388/3000: 100%|██████████| 1/1 [00:00<00:00, 37.01it/s]\n",
      "Epoch 2389/3000: 100%|██████████| 1/1 [00:00<00:00, 35.42it/s]\n",
      "Validation: 100%|██████████| 1/1 [00:00<00:00, 47.84it/s]\n"
     ]
    },
    {
     "name": "stdout",
     "output_type": "stream",
     "text": [
      "Epoch: 2389, Train Loss: 27.8264, \n",
      "Validation Loss: 20.5843\n"
     ]
    },
    {
     "name": "stderr",
     "output_type": "stream",
     "text": [
      "Epoch 2390/3000: 100%|██████████| 1/1 [00:00<00:00, 40.19it/s]\n",
      "Epoch 2391/3000: 100%|██████████| 1/1 [00:00<00:00, 36.23it/s]\n",
      "Validation: 100%|██████████| 1/1 [00:00<00:00, 51.40it/s]\n"
     ]
    },
    {
     "name": "stdout",
     "output_type": "stream",
     "text": [
      "Epoch: 2391, Train Loss: 12.9756, \n",
      "Validation Loss: 19.4714\n"
     ]
    },
    {
     "name": "stderr",
     "output_type": "stream",
     "text": [
      "Epoch 2392/3000: 100%|██████████| 1/1 [00:00<00:00, 38.62it/s]\n",
      "Epoch 2393/3000: 100%|██████████| 1/1 [00:00<00:00, 35.43it/s]\n",
      "Validation: 100%|██████████| 1/1 [00:00<00:00, 51.06it/s]\n"
     ]
    },
    {
     "name": "stdout",
     "output_type": "stream",
     "text": [
      "Epoch: 2393, Train Loss: 16.4069, \n",
      "Validation Loss: 20.2034\n"
     ]
    },
    {
     "name": "stderr",
     "output_type": "stream",
     "text": [
      "Epoch 2394/3000: 100%|██████████| 1/1 [00:00<00:00, 40.60it/s]\n",
      "Epoch 2395/3000: 100%|██████████| 1/1 [00:00<00:00, 40.99it/s]\n",
      "Validation: 100%|██████████| 1/1 [00:00<00:00, 51.61it/s]\n"
     ]
    },
    {
     "name": "stdout",
     "output_type": "stream",
     "text": [
      "Epoch: 2395, Train Loss: 32.1719, \n",
      "Validation Loss: 19.9279\n"
     ]
    },
    {
     "name": "stderr",
     "output_type": "stream",
     "text": [
      "Epoch 2396/3000: 100%|██████████| 1/1 [00:00<00:00, 36.39it/s]\n",
      "Epoch 2397/3000: 100%|██████████| 1/1 [00:00<00:00, 31.67it/s]\n",
      "Validation: 100%|██████████| 1/1 [00:00<00:00, 50.17it/s]\n"
     ]
    },
    {
     "name": "stdout",
     "output_type": "stream",
     "text": [
      "Epoch: 2397, Train Loss: 8.0945, \n",
      "Validation Loss: 18.7704\n"
     ]
    },
    {
     "name": "stderr",
     "output_type": "stream",
     "text": [
      "Epoch 2398/3000: 100%|██████████| 1/1 [00:00<00:00, 37.54it/s]\n",
      "Epoch 2399/3000: 100%|██████████| 1/1 [00:00<00:00, 38.73it/s]\n",
      "Validation: 100%|██████████| 1/1 [00:00<00:00, 51.52it/s]\n"
     ]
    },
    {
     "name": "stdout",
     "output_type": "stream",
     "text": [
      "Epoch: 2399, Train Loss: 12.0319, \n",
      "Validation Loss: 17.7771\n"
     ]
    },
    {
     "name": "stderr",
     "output_type": "stream",
     "text": [
      "Epoch 2400/3000: 100%|██████████| 1/1 [00:00<00:00, 40.26it/s]\n",
      "Epoch 2401/3000: 100%|██████████| 1/1 [00:00<00:00, 42.17it/s]\n",
      "Validation: 100%|██████████| 1/1 [00:00<00:00, 53.23it/s]\n"
     ]
    },
    {
     "name": "stdout",
     "output_type": "stream",
     "text": [
      "Epoch: 2401, Train Loss: 6.9506, \n",
      "Validation Loss: 19.1230\n"
     ]
    },
    {
     "name": "stderr",
     "output_type": "stream",
     "text": [
      "Epoch 2402/3000: 100%|██████████| 1/1 [00:00<00:00, 40.99it/s]\n",
      "Epoch 2403/3000: 100%|██████████| 1/1 [00:00<00:00, 36.88it/s]\n",
      "Validation: 100%|██████████| 1/1 [00:00<00:00, 52.57it/s]\n"
     ]
    },
    {
     "name": "stdout",
     "output_type": "stream",
     "text": [
      "Epoch: 2403, Train Loss: 15.5613, \n",
      "Validation Loss: 19.4040\n"
     ]
    },
    {
     "name": "stderr",
     "output_type": "stream",
     "text": [
      "Epoch 2404/3000: 100%|██████████| 1/1 [00:00<00:00, 35.19it/s]\n",
      "Epoch 2405/3000: 100%|██████████| 1/1 [00:00<00:00, 37.81it/s]\n",
      "Validation: 100%|██████████| 1/1 [00:00<00:00, 48.11it/s]\n"
     ]
    },
    {
     "name": "stdout",
     "output_type": "stream",
     "text": [
      "Epoch: 2405, Train Loss: 14.5870, \n",
      "Validation Loss: 22.7819\n"
     ]
    },
    {
     "name": "stderr",
     "output_type": "stream",
     "text": [
      "Epoch 2406/3000: 100%|██████████| 1/1 [00:00<00:00, 37.48it/s]\n",
      "Epoch 2407/3000: 100%|██████████| 1/1 [00:00<00:00, 38.63it/s]\n",
      "Validation: 100%|██████████| 1/1 [00:00<00:00, 48.95it/s]\n"
     ]
    },
    {
     "name": "stdout",
     "output_type": "stream",
     "text": [
      "Epoch: 2407, Train Loss: 6.2873, \n",
      "Validation Loss: 17.5490\n"
     ]
    },
    {
     "name": "stderr",
     "output_type": "stream",
     "text": [
      "Epoch 2408/3000: 100%|██████████| 1/1 [00:00<00:00, 36.91it/s]\n",
      "Epoch 2409/3000: 100%|██████████| 1/1 [00:00<00:00, 35.81it/s]\n",
      "Validation: 100%|██████████| 1/1 [00:00<00:00, 46.26it/s]\n"
     ]
    },
    {
     "name": "stdout",
     "output_type": "stream",
     "text": [
      "Epoch: 2409, Train Loss: 11.2526, \n",
      "Validation Loss: 17.8427\n"
     ]
    },
    {
     "name": "stderr",
     "output_type": "stream",
     "text": [
      "Epoch 2410/3000: 100%|██████████| 1/1 [00:00<00:00, 37.00it/s]\n",
      "Epoch 2411/3000: 100%|██████████| 1/1 [00:00<00:00, 37.01it/s]\n",
      "Validation: 100%|██████████| 1/1 [00:00<00:00, 51.94it/s]\n"
     ]
    },
    {
     "name": "stdout",
     "output_type": "stream",
     "text": [
      "Epoch: 2411, Train Loss: 10.5165, \n",
      "Validation Loss: 22.6720\n"
     ]
    },
    {
     "name": "stderr",
     "output_type": "stream",
     "text": [
      "Epoch 2412/3000: 100%|██████████| 1/1 [00:00<00:00, 40.64it/s]\n",
      "Epoch 2413/3000: 100%|██████████| 1/1 [00:00<00:00, 37.19it/s]\n",
      "Validation: 100%|██████████| 1/1 [00:00<00:00, 50.80it/s]\n"
     ]
    },
    {
     "name": "stdout",
     "output_type": "stream",
     "text": [
      "Epoch: 2413, Train Loss: 12.1122, \n",
      "Validation Loss: 20.3634\n"
     ]
    },
    {
     "name": "stderr",
     "output_type": "stream",
     "text": [
      "Epoch 2414/3000: 100%|██████████| 1/1 [00:00<00:00, 40.99it/s]\n",
      "Epoch 2415/3000: 100%|██████████| 1/1 [00:00<00:00, 36.75it/s]\n",
      "Validation: 100%|██████████| 1/1 [00:00<00:00, 48.78it/s]\n"
     ]
    },
    {
     "name": "stdout",
     "output_type": "stream",
     "text": [
      "Epoch: 2415, Train Loss: 20.0897, \n",
      "Validation Loss: 20.0899\n"
     ]
    },
    {
     "name": "stderr",
     "output_type": "stream",
     "text": [
      "Epoch 2416/3000: 100%|██████████| 1/1 [00:00<00:00, 38.29it/s]\n",
      "Epoch 2417/3000: 100%|██████████| 1/1 [00:00<00:00, 34.06it/s]\n",
      "Validation: 100%|██████████| 1/1 [00:00<00:00, 49.90it/s]\n"
     ]
    },
    {
     "name": "stdout",
     "output_type": "stream",
     "text": [
      "Epoch: 2417, Train Loss: 8.7955, \n",
      "Validation Loss: 19.5630\n"
     ]
    },
    {
     "name": "stderr",
     "output_type": "stream",
     "text": [
      "Epoch 2418/3000: 100%|██████████| 1/1 [00:00<00:00, 40.36it/s]\n",
      "Epoch 2419/3000: 100%|██████████| 1/1 [00:00<00:00, 36.92it/s]\n",
      "Validation: 100%|██████████| 1/1 [00:00<00:00, 51.61it/s]\n"
     ]
    },
    {
     "name": "stdout",
     "output_type": "stream",
     "text": [
      "Epoch: 2419, Train Loss: 24.7888, \n",
      "Validation Loss: 19.6880\n"
     ]
    },
    {
     "name": "stderr",
     "output_type": "stream",
     "text": [
      "Epoch 2420/3000: 100%|██████████| 1/1 [00:00<00:00, 35.25it/s]\n",
      "Epoch 2421/3000: 100%|██████████| 1/1 [00:00<00:00, 37.04it/s]\n",
      "Validation: 100%|██████████| 1/1 [00:00<00:00, 47.60it/s]\n"
     ]
    },
    {
     "name": "stdout",
     "output_type": "stream",
     "text": [
      "Epoch: 2421, Train Loss: 9.6575, \n",
      "Validation Loss: 19.3023\n"
     ]
    },
    {
     "name": "stderr",
     "output_type": "stream",
     "text": [
      "Epoch 2422/3000: 100%|██████████| 1/1 [00:00<00:00, 37.15it/s]\n",
      "Epoch 2423/3000: 100%|██████████| 1/1 [00:00<00:00, 38.95it/s]\n",
      "Validation: 100%|██████████| 1/1 [00:00<00:00, 51.52it/s]\n"
     ]
    },
    {
     "name": "stdout",
     "output_type": "stream",
     "text": [
      "Epoch: 2423, Train Loss: 6.9604, \n",
      "Validation Loss: 19.3489\n"
     ]
    },
    {
     "name": "stderr",
     "output_type": "stream",
     "text": [
      "Epoch 2424/3000: 100%|██████████| 1/1 [00:00<00:00, 38.56it/s]\n",
      "Epoch 2425/3000: 100%|██████████| 1/1 [00:00<00:00, 33.74it/s]\n",
      "Validation: 100%|██████████| 1/1 [00:00<00:00, 47.41it/s]\n"
     ]
    },
    {
     "name": "stdout",
     "output_type": "stream",
     "text": [
      "Epoch: 2425, Train Loss: 14.0124, \n",
      "Validation Loss: 19.0887\n"
     ]
    },
    {
     "name": "stderr",
     "output_type": "stream",
     "text": [
      "Epoch 2426/3000: 100%|██████████| 1/1 [00:00<00:00, 32.93it/s]\n",
      "Epoch 2427/3000: 100%|██████████| 1/1 [00:00<00:00, 39.34it/s]\n",
      "Validation: 100%|██████████| 1/1 [00:00<00:00, 44.67it/s]\n"
     ]
    },
    {
     "name": "stdout",
     "output_type": "stream",
     "text": [
      "Epoch: 2427, Train Loss: 19.5472, \n",
      "Validation Loss: 20.4171\n"
     ]
    },
    {
     "name": "stderr",
     "output_type": "stream",
     "text": [
      "Epoch 2428/3000: 100%|██████████| 1/1 [00:00<00:00, 38.93it/s]\n",
      "Epoch 2429/3000: 100%|██████████| 1/1 [00:00<00:00, 32.59it/s]\n",
      "Validation: 100%|██████████| 1/1 [00:00<00:00, 49.10it/s]\n"
     ]
    },
    {
     "name": "stdout",
     "output_type": "stream",
     "text": [
      "Epoch: 2429, Train Loss: 12.3620, \n",
      "Validation Loss: 19.2968\n"
     ]
    },
    {
     "name": "stderr",
     "output_type": "stream",
     "text": [
      "Epoch 2430/3000: 100%|██████████| 1/1 [00:00<00:00, 32.86it/s]\n",
      "Epoch 2431/3000: 100%|██████████| 1/1 [00:00<00:00, 35.96it/s]\n",
      "Validation: 100%|██████████| 1/1 [00:00<00:00, 47.47it/s]\n"
     ]
    },
    {
     "name": "stdout",
     "output_type": "stream",
     "text": [
      "Epoch: 2431, Train Loss: 17.4612, \n",
      "Validation Loss: 21.3934\n"
     ]
    },
    {
     "name": "stderr",
     "output_type": "stream",
     "text": [
      "Epoch 2432/3000: 100%|██████████| 1/1 [00:00<00:00, 38.01it/s]\n",
      "Epoch 2433/3000: 100%|██████████| 1/1 [00:00<00:00, 35.62it/s]\n",
      "Validation: 100%|██████████| 1/1 [00:00<00:00, 52.66it/s]\n"
     ]
    },
    {
     "name": "stdout",
     "output_type": "stream",
     "text": [
      "Epoch: 2433, Train Loss: 10.5354, \n",
      "Validation Loss: 19.6024\n"
     ]
    },
    {
     "name": "stderr",
     "output_type": "stream",
     "text": [
      "Epoch 2434/3000: 100%|██████████| 1/1 [00:00<00:00, 36.06it/s]\n",
      "Epoch 2435/3000: 100%|██████████| 1/1 [00:00<00:00, 30.50it/s]\n",
      "Validation: 100%|██████████| 1/1 [00:00<00:00, 42.39it/s]\n"
     ]
    },
    {
     "name": "stdout",
     "output_type": "stream",
     "text": [
      "Epoch: 2435, Train Loss: 13.5020, \n",
      "Validation Loss: 19.9429\n"
     ]
    },
    {
     "name": "stderr",
     "output_type": "stream",
     "text": [
      "Epoch 2436/3000: 100%|██████████| 1/1 [00:00<00:00, 39.48it/s]\n",
      "Epoch 2437/3000: 100%|██████████| 1/1 [00:00<00:00, 33.10it/s]\n",
      "Validation: 100%|██████████| 1/1 [00:00<00:00, 48.78it/s]\n"
     ]
    },
    {
     "name": "stdout",
     "output_type": "stream",
     "text": [
      "Epoch: 2437, Train Loss: 7.0600, \n",
      "Validation Loss: 23.1873\n"
     ]
    },
    {
     "name": "stderr",
     "output_type": "stream",
     "text": [
      "Epoch 2438/3000: 100%|██████████| 1/1 [00:00<00:00, 37.08it/s]\n",
      "Epoch 2439/3000: 100%|██████████| 1/1 [00:00<00:00, 34.71it/s]\n",
      "Validation: 100%|██████████| 1/1 [00:00<00:00, 45.98it/s]\n"
     ]
    },
    {
     "name": "stdout",
     "output_type": "stream",
     "text": [
      "Epoch: 2439, Train Loss: 6.3545, \n",
      "Validation Loss: 18.3670\n"
     ]
    },
    {
     "name": "stderr",
     "output_type": "stream",
     "text": [
      "Epoch 2440/3000: 100%|██████████| 1/1 [00:00<00:00, 38.57it/s]\n",
      "Epoch 2441/3000: 100%|██████████| 1/1 [00:00<00:00, 37.64it/s]\n",
      "Validation: 100%|██████████| 1/1 [00:00<00:00, 50.55it/s]\n"
     ]
    },
    {
     "name": "stdout",
     "output_type": "stream",
     "text": [
      "Epoch: 2441, Train Loss: 13.3660, \n",
      "Validation Loss: 17.2358\n"
     ]
    },
    {
     "name": "stderr",
     "output_type": "stream",
     "text": [
      "Epoch 2442/3000: 100%|██████████| 1/1 [00:00<00:00, 35.54it/s]\n",
      "Epoch 2443/3000: 100%|██████████| 1/1 [00:00<00:00, 40.31it/s]\n",
      "Validation: 100%|██████████| 1/1 [00:00<00:00, 48.11it/s]\n"
     ]
    },
    {
     "name": "stdout",
     "output_type": "stream",
     "text": [
      "Epoch: 2443, Train Loss: 9.7415, \n",
      "Validation Loss: 24.0019\n"
     ]
    },
    {
     "name": "stderr",
     "output_type": "stream",
     "text": [
      "Epoch 2444/3000: 100%|██████████| 1/1 [00:00<00:00, 40.54it/s]\n",
      "Epoch 2445/3000: 100%|██████████| 1/1 [00:00<00:00, 39.54it/s]\n",
      "Validation: 100%|██████████| 1/1 [00:00<00:00, 46.74it/s]\n"
     ]
    },
    {
     "name": "stdout",
     "output_type": "stream",
     "text": [
      "Epoch: 2445, Train Loss: 3.9292, \n",
      "Validation Loss: 19.6486\n"
     ]
    },
    {
     "name": "stderr",
     "output_type": "stream",
     "text": [
      "Epoch 2446/3000: 100%|██████████| 1/1 [00:00<00:00, 36.75it/s]\n",
      "Epoch 2447/3000: 100%|██████████| 1/1 [00:00<00:00, 27.53it/s]\n",
      "Validation: 100%|██████████| 1/1 [00:00<00:00, 45.41it/s]\n"
     ]
    },
    {
     "name": "stdout",
     "output_type": "stream",
     "text": [
      "Epoch: 2447, Train Loss: 21.2821, \n",
      "Validation Loss: 19.3791\n"
     ]
    },
    {
     "name": "stderr",
     "output_type": "stream",
     "text": [
      "Epoch 2448/3000: 100%|██████████| 1/1 [00:00<00:00, 39.13it/s]\n",
      "Epoch 2449/3000: 100%|██████████| 1/1 [00:00<00:00, 39.30it/s]\n",
      "Validation: 100%|██████████| 1/1 [00:00<00:00, 48.79it/s]\n"
     ]
    },
    {
     "name": "stdout",
     "output_type": "stream",
     "text": [
      "Epoch: 2449, Train Loss: 6.4021, \n",
      "Validation Loss: 21.9189\n"
     ]
    },
    {
     "name": "stderr",
     "output_type": "stream",
     "text": [
      "Epoch 2450/3000: 100%|██████████| 1/1 [00:00<00:00, 36.06it/s]\n",
      "Epoch 2451/3000: 100%|██████████| 1/1 [00:00<00:00, 35.17it/s]\n",
      "Validation: 100%|██████████| 1/1 [00:00<00:00, 50.51it/s]\n"
     ]
    },
    {
     "name": "stdout",
     "output_type": "stream",
     "text": [
      "Epoch: 2451, Train Loss: 20.0862, \n",
      "Validation Loss: 17.1879\n"
     ]
    },
    {
     "name": "stderr",
     "output_type": "stream",
     "text": [
      "Epoch 2452/3000: 100%|██████████| 1/1 [00:00<00:00, 32.05it/s]\n",
      "Epoch 2453/3000: 100%|██████████| 1/1 [00:00<00:00, 38.24it/s]\n",
      "Validation: 100%|██████████| 1/1 [00:00<00:00, 49.70it/s]\n"
     ]
    },
    {
     "name": "stdout",
     "output_type": "stream",
     "text": [
      "Epoch: 2453, Train Loss: 13.9968, \n",
      "Validation Loss: 20.0302\n"
     ]
    },
    {
     "name": "stderr",
     "output_type": "stream",
     "text": [
      "Epoch 2454/3000: 100%|██████████| 1/1 [00:00<00:00, 34.91it/s]\n",
      "Epoch 2455/3000: 100%|██████████| 1/1 [00:00<00:00, 37.58it/s]\n",
      "Validation: 100%|██████████| 1/1 [00:00<00:00, 49.51it/s]\n"
     ]
    },
    {
     "name": "stdout",
     "output_type": "stream",
     "text": [
      "Epoch: 2455, Train Loss: 7.1829, \n",
      "Validation Loss: 20.2349\n"
     ]
    },
    {
     "name": "stderr",
     "output_type": "stream",
     "text": [
      "Epoch 2456/3000: 100%|██████████| 1/1 [00:00<00:00, 37.36it/s]\n",
      "Epoch 2457/3000: 100%|██████████| 1/1 [00:00<00:00, 30.98it/s]\n",
      "Validation: 100%|██████████| 1/1 [00:00<00:00, 47.14it/s]\n"
     ]
    },
    {
     "name": "stdout",
     "output_type": "stream",
     "text": [
      "Epoch: 2457, Train Loss: 7.7586, \n",
      "Validation Loss: 21.8586\n"
     ]
    },
    {
     "name": "stderr",
     "output_type": "stream",
     "text": [
      "Epoch 2458/3000: 100%|██████████| 1/1 [00:00<00:00, 32.04it/s]\n",
      "Epoch 2459/3000: 100%|██████████| 1/1 [00:00<00:00, 36.89it/s]\n",
      "Validation: 100%|██████████| 1/1 [00:00<00:00, 43.75it/s]\n"
     ]
    },
    {
     "name": "stdout",
     "output_type": "stream",
     "text": [
      "Epoch: 2459, Train Loss: 12.8987, \n",
      "Validation Loss: 19.1349\n"
     ]
    },
    {
     "name": "stderr",
     "output_type": "stream",
     "text": [
      "Epoch 2460/3000: 100%|██████████| 1/1 [00:00<00:00, 39.37it/s]\n",
      "Epoch 2461/3000: 100%|██████████| 1/1 [00:00<00:00, 36.43it/s]\n",
      "Validation: 100%|██████████| 1/1 [00:00<00:00, 49.35it/s]\n"
     ]
    },
    {
     "name": "stdout",
     "output_type": "stream",
     "text": [
      "Epoch: 2461, Train Loss: 4.4381, \n",
      "Validation Loss: 17.7752\n"
     ]
    },
    {
     "name": "stderr",
     "output_type": "stream",
     "text": [
      "Epoch 2462/3000: 100%|██████████| 1/1 [00:00<00:00, 38.24it/s]\n",
      "Epoch 2463/3000: 100%|██████████| 1/1 [00:00<00:00, 37.49it/s]\n",
      "Validation: 100%|██████████| 1/1 [00:00<00:00, 51.43it/s]\n"
     ]
    },
    {
     "name": "stdout",
     "output_type": "stream",
     "text": [
      "Epoch: 2463, Train Loss: 15.4708, \n",
      "Validation Loss: 19.3097\n"
     ]
    },
    {
     "name": "stderr",
     "output_type": "stream",
     "text": [
      "Epoch 2464/3000: 100%|██████████| 1/1 [00:00<00:00, 35.78it/s]\n",
      "Epoch 2465/3000: 100%|██████████| 1/1 [00:00<00:00, 38.80it/s]\n",
      "Validation: 100%|██████████| 1/1 [00:00<00:00, 49.60it/s]\n"
     ]
    },
    {
     "name": "stdout",
     "output_type": "stream",
     "text": [
      "Epoch: 2465, Train Loss: 8.0902, \n",
      "Validation Loss: 18.0727\n"
     ]
    },
    {
     "name": "stderr",
     "output_type": "stream",
     "text": [
      "Epoch 2466/3000: 100%|██████████| 1/1 [00:00<00:00, 35.79it/s]\n",
      "Epoch 2467/3000: 100%|██████████| 1/1 [00:00<00:00, 35.78it/s]\n",
      "Validation: 100%|██████████| 1/1 [00:00<00:00, 44.88it/s]\n"
     ]
    },
    {
     "name": "stdout",
     "output_type": "stream",
     "text": [
      "Epoch: 2467, Train Loss: 8.9631, \n",
      "Validation Loss: 19.1451\n"
     ]
    },
    {
     "name": "stderr",
     "output_type": "stream",
     "text": [
      "Epoch 2468/3000: 100%|██████████| 1/1 [00:00<00:00, 36.72it/s]\n",
      "Epoch 2469/3000: 100%|██████████| 1/1 [00:00<00:00, 37.69it/s]\n",
      "Validation: 100%|██████████| 1/1 [00:00<00:00, 50.34it/s]\n"
     ]
    },
    {
     "name": "stdout",
     "output_type": "stream",
     "text": [
      "Epoch: 2469, Train Loss: 14.3627, \n",
      "Validation Loss: 21.3202\n"
     ]
    },
    {
     "name": "stderr",
     "output_type": "stream",
     "text": [
      "Epoch 2470/3000: 100%|██████████| 1/1 [00:00<00:00, 36.56it/s]\n",
      "Epoch 2471/3000: 100%|██████████| 1/1 [00:00<00:00, 31.67it/s]\n",
      "Validation: 100%|██████████| 1/1 [00:00<00:00, 49.17it/s]\n"
     ]
    },
    {
     "name": "stdout",
     "output_type": "stream",
     "text": [
      "Epoch: 2471, Train Loss: 13.8526, \n",
      "Validation Loss: 19.0813\n"
     ]
    },
    {
     "name": "stderr",
     "output_type": "stream",
     "text": [
      "Epoch 2472/3000: 100%|██████████| 1/1 [00:00<00:00, 36.49it/s]\n",
      "Epoch 2473/3000: 100%|██████████| 1/1 [00:00<00:00, 34.70it/s]\n",
      "Validation: 100%|██████████| 1/1 [00:00<00:00, 51.28it/s]\n"
     ]
    },
    {
     "name": "stdout",
     "output_type": "stream",
     "text": [
      "Epoch: 2473, Train Loss: 8.9330, \n",
      "Validation Loss: 18.6336\n"
     ]
    },
    {
     "name": "stderr",
     "output_type": "stream",
     "text": [
      "Epoch 2474/3000: 100%|██████████| 1/1 [00:00<00:00, 37.47it/s]\n",
      "Epoch 2475/3000: 100%|██████████| 1/1 [00:00<00:00, 36.93it/s]\n",
      "Validation: 100%|██████████| 1/1 [00:00<00:00, 46.32it/s]\n"
     ]
    },
    {
     "name": "stdout",
     "output_type": "stream",
     "text": [
      "Epoch: 2475, Train Loss: 9.2539, \n",
      "Validation Loss: 21.0564\n"
     ]
    },
    {
     "name": "stderr",
     "output_type": "stream",
     "text": [
      "Epoch 2476/3000: 100%|██████████| 1/1 [00:00<00:00, 38.46it/s]\n",
      "Epoch 2477/3000: 100%|██████████| 1/1 [00:00<00:00, 39.94it/s]\n",
      "Validation: 100%|██████████| 1/1 [00:00<00:00, 51.64it/s]\n"
     ]
    },
    {
     "name": "stdout",
     "output_type": "stream",
     "text": [
      "Epoch: 2477, Train Loss: 8.1017, \n",
      "Validation Loss: 18.0128\n"
     ]
    },
    {
     "name": "stderr",
     "output_type": "stream",
     "text": [
      "Epoch 2478/3000: 100%|██████████| 1/1 [00:00<00:00, 34.56it/s]\n",
      "Epoch 2479/3000: 100%|██████████| 1/1 [00:00<00:00, 37.71it/s]\n",
      "Validation: 100%|██████████| 1/1 [00:00<00:00, 49.14it/s]\n"
     ]
    },
    {
     "name": "stdout",
     "output_type": "stream",
     "text": [
      "Epoch: 2479, Train Loss: 25.2328, \n",
      "Validation Loss: 17.0978\n"
     ]
    },
    {
     "name": "stderr",
     "output_type": "stream",
     "text": [
      "Epoch 2480/3000: 100%|██████████| 1/1 [00:00<00:00, 33.83it/s]\n",
      "Epoch 2481/3000: 100%|██████████| 1/1 [00:00<00:00, 40.35it/s]\n",
      "Validation: 100%|██████████| 1/1 [00:00<00:00, 51.69it/s]\n"
     ]
    },
    {
     "name": "stdout",
     "output_type": "stream",
     "text": [
      "Epoch: 2481, Train Loss: 38.2193, \n",
      "Validation Loss: 21.0771\n"
     ]
    },
    {
     "name": "stderr",
     "output_type": "stream",
     "text": [
      "Epoch 2482/3000: 100%|██████████| 1/1 [00:00<00:00, 39.90it/s]\n",
      "Epoch 2483/3000: 100%|██████████| 1/1 [00:00<00:00, 31.77it/s]\n",
      "Validation: 100%|██████████| 1/1 [00:00<00:00, 43.90it/s]\n"
     ]
    },
    {
     "name": "stdout",
     "output_type": "stream",
     "text": [
      "Epoch: 2483, Train Loss: 24.4878, \n",
      "Validation Loss: 21.4216\n"
     ]
    },
    {
     "name": "stderr",
     "output_type": "stream",
     "text": [
      "Epoch 2484/3000: 100%|██████████| 1/1 [00:00<00:00, 39.82it/s]\n",
      "Epoch 2485/3000: 100%|██████████| 1/1 [00:00<00:00, 40.68it/s]\n",
      "Validation: 100%|██████████| 1/1 [00:00<00:00, 50.75it/s]\n"
     ]
    },
    {
     "name": "stdout",
     "output_type": "stream",
     "text": [
      "Epoch: 2485, Train Loss: 22.6981, \n",
      "Validation Loss: 21.4010\n"
     ]
    },
    {
     "name": "stderr",
     "output_type": "stream",
     "text": [
      "Epoch 2486/3000: 100%|██████████| 1/1 [00:00<00:00, 38.39it/s]\n",
      "Epoch 2487/3000: 100%|██████████| 1/1 [00:00<00:00, 38.32it/s]\n",
      "Validation: 100%|██████████| 1/1 [00:00<00:00, 53.41it/s]\n"
     ]
    },
    {
     "name": "stdout",
     "output_type": "stream",
     "text": [
      "Epoch: 2487, Train Loss: 13.1887, \n",
      "Validation Loss: 22.1865\n"
     ]
    },
    {
     "name": "stderr",
     "output_type": "stream",
     "text": [
      "Epoch 2488/3000: 100%|██████████| 1/1 [00:00<00:00, 36.86it/s]\n",
      "Epoch 2489/3000: 100%|██████████| 1/1 [00:00<00:00, 37.50it/s]\n",
      "Validation: 100%|██████████| 1/1 [00:00<00:00, 49.42it/s]\n"
     ]
    },
    {
     "name": "stdout",
     "output_type": "stream",
     "text": [
      "Epoch: 2489, Train Loss: 15.0028, \n",
      "Validation Loss: 21.2797\n"
     ]
    },
    {
     "name": "stderr",
     "output_type": "stream",
     "text": [
      "Epoch 2490/3000: 100%|██████████| 1/1 [00:00<00:00, 34.28it/s]\n",
      "Epoch 2491/3000: 100%|██████████| 1/1 [00:00<00:00, 36.38it/s]\n",
      "Validation: 100%|██████████| 1/1 [00:00<00:00, 50.56it/s]\n"
     ]
    },
    {
     "name": "stdout",
     "output_type": "stream",
     "text": [
      "Epoch: 2491, Train Loss: 24.6570, \n",
      "Validation Loss: 18.0800\n"
     ]
    },
    {
     "name": "stderr",
     "output_type": "stream",
     "text": [
      "Epoch 2492/3000: 100%|██████████| 1/1 [00:00<00:00, 35.20it/s]\n",
      "Epoch 2493/3000: 100%|██████████| 1/1 [00:00<00:00, 37.93it/s]\n",
      "Validation: 100%|██████████| 1/1 [00:00<00:00, 48.50it/s]\n"
     ]
    },
    {
     "name": "stdout",
     "output_type": "stream",
     "text": [
      "Epoch: 2493, Train Loss: 8.8572, \n",
      "Validation Loss: 17.3280\n"
     ]
    },
    {
     "name": "stderr",
     "output_type": "stream",
     "text": [
      "Epoch 2494/3000: 100%|██████████| 1/1 [00:00<00:00, 38.74it/s]\n",
      "Epoch 2495/3000: 100%|██████████| 1/1 [00:00<00:00, 34.65it/s]\n",
      "Validation: 100%|██████████| 1/1 [00:00<00:00, 47.73it/s]\n"
     ]
    },
    {
     "name": "stdout",
     "output_type": "stream",
     "text": [
      "Epoch: 2495, Train Loss: 10.6772, \n",
      "Validation Loss: 17.9223\n"
     ]
    },
    {
     "name": "stderr",
     "output_type": "stream",
     "text": [
      "Epoch 2496/3000: 100%|██████████| 1/1 [00:00<00:00, 35.79it/s]\n",
      "Epoch 2497/3000: 100%|██████████| 1/1 [00:00<00:00, 39.16it/s]\n",
      "Validation: 100%|██████████| 1/1 [00:00<00:00, 52.15it/s]\n"
     ]
    },
    {
     "name": "stdout",
     "output_type": "stream",
     "text": [
      "Epoch: 2497, Train Loss: 28.4439, \n",
      "Validation Loss: 18.8178\n"
     ]
    },
    {
     "name": "stderr",
     "output_type": "stream",
     "text": [
      "Epoch 2498/3000: 100%|██████████| 1/1 [00:00<00:00, 41.26it/s]\n",
      "Epoch 2499/3000: 100%|██████████| 1/1 [00:00<00:00, 40.29it/s]\n",
      "Validation: 100%|██████████| 1/1 [00:00<00:00, 50.37it/s]\n"
     ]
    },
    {
     "name": "stdout",
     "output_type": "stream",
     "text": [
      "Epoch: 2499, Train Loss: 5.8804, \n",
      "Validation Loss: 18.9412\n"
     ]
    },
    {
     "name": "stderr",
     "output_type": "stream",
     "text": [
      "Epoch 2500/3000: 100%|██████████| 1/1 [00:00<00:00, 40.45it/s]\n",
      "Epoch 2501/3000: 100%|██████████| 1/1 [00:00<00:00, 37.94it/s]\n",
      "Validation: 100%|██████████| 1/1 [00:00<00:00, 50.23it/s]\n"
     ]
    },
    {
     "name": "stdout",
     "output_type": "stream",
     "text": [
      "Epoch: 2501, Train Loss: 7.2209, \n",
      "Validation Loss: 19.6076\n"
     ]
    },
    {
     "name": "stderr",
     "output_type": "stream",
     "text": [
      "Epoch 2502/3000: 100%|██████████| 1/1 [00:00<00:00, 37.37it/s]\n",
      "Epoch 2503/3000: 100%|██████████| 1/1 [00:00<00:00, 39.27it/s]\n",
      "Validation: 100%|██████████| 1/1 [00:00<00:00, 49.99it/s]\n"
     ]
    },
    {
     "name": "stdout",
     "output_type": "stream",
     "text": [
      "Epoch: 2503, Train Loss: 15.7931, \n",
      "Validation Loss: 18.8638\n"
     ]
    },
    {
     "name": "stderr",
     "output_type": "stream",
     "text": [
      "Epoch 2504/3000: 100%|██████████| 1/1 [00:00<00:00, 38.14it/s]\n",
      "Epoch 2505/3000: 100%|██████████| 1/1 [00:00<00:00, 37.60it/s]\n",
      "Validation: 100%|██████████| 1/1 [00:00<00:00, 46.86it/s]\n"
     ]
    },
    {
     "name": "stdout",
     "output_type": "stream",
     "text": [
      "Epoch: 2505, Train Loss: 31.3277, \n",
      "Validation Loss: 18.5128\n"
     ]
    },
    {
     "name": "stderr",
     "output_type": "stream",
     "text": [
      "Epoch 2506/3000: 100%|██████████| 1/1 [00:00<00:00, 37.34it/s]\n",
      "Epoch 2507/3000: 100%|██████████| 1/1 [00:00<00:00, 27.33it/s]\n",
      "Validation: 100%|██████████| 1/1 [00:00<00:00, 46.92it/s]\n"
     ]
    },
    {
     "name": "stdout",
     "output_type": "stream",
     "text": [
      "Epoch: 2507, Train Loss: 16.1629, \n",
      "Validation Loss: 19.6597\n"
     ]
    },
    {
     "name": "stderr",
     "output_type": "stream",
     "text": [
      "Epoch 2508/3000: 100%|██████████| 1/1 [00:00<00:00, 39.16it/s]\n",
      "Epoch 2509/3000: 100%|██████████| 1/1 [00:00<00:00, 37.07it/s]\n",
      "Validation: 100%|██████████| 1/1 [00:00<00:00, 52.40it/s]\n"
     ]
    },
    {
     "name": "stdout",
     "output_type": "stream",
     "text": [
      "Epoch: 2509, Train Loss: 15.5506, \n",
      "Validation Loss: 19.2777\n"
     ]
    },
    {
     "name": "stderr",
     "output_type": "stream",
     "text": [
      "Epoch 2510/3000: 100%|██████████| 1/1 [00:00<00:00, 38.84it/s]\n",
      "Epoch 2511/3000: 100%|██████████| 1/1 [00:00<00:00, 36.13it/s]\n",
      "Validation: 100%|██████████| 1/1 [00:00<00:00, 50.16it/s]\n"
     ]
    },
    {
     "name": "stdout",
     "output_type": "stream",
     "text": [
      "Epoch: 2511, Train Loss: 14.5200, \n",
      "Validation Loss: 18.0161\n"
     ]
    },
    {
     "name": "stderr",
     "output_type": "stream",
     "text": [
      "Epoch 2512/3000: 100%|██████████| 1/1 [00:00<00:00, 39.19it/s]\n",
      "Epoch 2513/3000: 100%|██████████| 1/1 [00:00<00:00, 39.25it/s]\n",
      "Validation: 100%|██████████| 1/1 [00:00<00:00, 49.85it/s]\n"
     ]
    },
    {
     "name": "stdout",
     "output_type": "stream",
     "text": [
      "Epoch: 2513, Train Loss: 9.2261, \n",
      "Validation Loss: 18.1996\n"
     ]
    },
    {
     "name": "stderr",
     "output_type": "stream",
     "text": [
      "Epoch 2514/3000: 100%|██████████| 1/1 [00:00<00:00, 39.03it/s]\n",
      "Epoch 2515/3000: 100%|██████████| 1/1 [00:00<00:00, 36.22it/s]\n",
      "Validation: 100%|██████████| 1/1 [00:00<00:00, 50.79it/s]\n"
     ]
    },
    {
     "name": "stdout",
     "output_type": "stream",
     "text": [
      "Epoch: 2515, Train Loss: 11.4534, \n",
      "Validation Loss: 18.2016\n"
     ]
    },
    {
     "name": "stderr",
     "output_type": "stream",
     "text": [
      "Epoch 2516/3000: 100%|██████████| 1/1 [00:00<00:00, 34.27it/s]\n",
      "Epoch 2517/3000: 100%|██████████| 1/1 [00:00<00:00, 35.56it/s]\n",
      "Validation: 100%|██████████| 1/1 [00:00<00:00, 49.53it/s]\n"
     ]
    },
    {
     "name": "stdout",
     "output_type": "stream",
     "text": [
      "Epoch: 2517, Train Loss: 12.4041, \n",
      "Validation Loss: 18.6245\n"
     ]
    },
    {
     "name": "stderr",
     "output_type": "stream",
     "text": [
      "Epoch 2518/3000: 100%|██████████| 1/1 [00:00<00:00, 32.76it/s]\n",
      "Epoch 2519/3000: 100%|██████████| 1/1 [00:00<00:00, 38.04it/s]\n",
      "Validation: 100%|██████████| 1/1 [00:00<00:00, 37.45it/s]\n"
     ]
    },
    {
     "name": "stdout",
     "output_type": "stream",
     "text": [
      "Epoch: 2519, Train Loss: 13.6891, \n",
      "Validation Loss: 20.3072\n"
     ]
    },
    {
     "name": "stderr",
     "output_type": "stream",
     "text": [
      "Epoch 2520/3000: 100%|██████████| 1/1 [00:00<00:00, 37.12it/s]\n",
      "Epoch 2521/3000: 100%|██████████| 1/1 [00:00<00:00, 36.42it/s]\n",
      "Validation: 100%|██████████| 1/1 [00:00<00:00, 47.87it/s]\n"
     ]
    },
    {
     "name": "stdout",
     "output_type": "stream",
     "text": [
      "Epoch: 2521, Train Loss: 8.0993, \n",
      "Validation Loss: 20.1974\n"
     ]
    },
    {
     "name": "stderr",
     "output_type": "stream",
     "text": [
      "Epoch 2522/3000: 100%|██████████| 1/1 [00:00<00:00, 39.11it/s]\n",
      "Epoch 2523/3000: 100%|██████████| 1/1 [00:00<00:00, 32.70it/s]\n",
      "Validation: 100%|██████████| 1/1 [00:00<00:00, 44.71it/s]\n"
     ]
    },
    {
     "name": "stdout",
     "output_type": "stream",
     "text": [
      "Epoch: 2523, Train Loss: 10.3579, \n",
      "Validation Loss: 19.3981\n"
     ]
    },
    {
     "name": "stderr",
     "output_type": "stream",
     "text": [
      "Epoch 2524/3000: 100%|██████████| 1/1 [00:00<00:00, 34.39it/s]\n",
      "Epoch 2525/3000: 100%|██████████| 1/1 [00:00<00:00, 38.60it/s]\n",
      "Validation: 100%|██████████| 1/1 [00:00<00:00, 51.96it/s]\n"
     ]
    },
    {
     "name": "stdout",
     "output_type": "stream",
     "text": [
      "Epoch: 2525, Train Loss: 12.9325, \n",
      "Validation Loss: 17.6053\n"
     ]
    },
    {
     "name": "stderr",
     "output_type": "stream",
     "text": [
      "Epoch 2526/3000: 100%|██████████| 1/1 [00:00<00:00, 40.41it/s]\n",
      "Epoch 2527/3000: 100%|██████████| 1/1 [00:00<00:00, 36.69it/s]\n",
      "Validation: 100%|██████████| 1/1 [00:00<00:00, 50.06it/s]\n"
     ]
    },
    {
     "name": "stdout",
     "output_type": "stream",
     "text": [
      "Epoch: 2527, Train Loss: 6.9204, \n",
      "Validation Loss: 17.7727\n"
     ]
    },
    {
     "name": "stderr",
     "output_type": "stream",
     "text": [
      "Epoch 2528/3000: 100%|██████████| 1/1 [00:00<00:00, 39.27it/s]\n",
      "Epoch 2529/3000: 100%|██████████| 1/1 [00:00<00:00, 36.25it/s]\n",
      "Validation: 100%|██████████| 1/1 [00:00<00:00, 51.26it/s]\n"
     ]
    },
    {
     "name": "stdout",
     "output_type": "stream",
     "text": [
      "Epoch: 2529, Train Loss: 7.2203, \n",
      "Validation Loss: 18.4390\n"
     ]
    },
    {
     "name": "stderr",
     "output_type": "stream",
     "text": [
      "Epoch 2530/3000: 100%|██████████| 1/1 [00:00<00:00, 39.10it/s]\n",
      "Epoch 2531/3000: 100%|██████████| 1/1 [00:00<00:00, 34.94it/s]\n",
      "Validation: 100%|██████████| 1/1 [00:00<00:00, 43.26it/s]\n"
     ]
    },
    {
     "name": "stdout",
     "output_type": "stream",
     "text": [
      "Epoch: 2531, Train Loss: 7.7206, \n",
      "Validation Loss: 20.7445\n"
     ]
    },
    {
     "name": "stderr",
     "output_type": "stream",
     "text": [
      "Epoch 2532/3000: 100%|██████████| 1/1 [00:00<00:00, 37.45it/s]\n",
      "Epoch 2533/3000: 100%|██████████| 1/1 [00:00<00:00, 36.29it/s]\n",
      "Validation: 100%|██████████| 1/1 [00:00<00:00, 49.16it/s]\n"
     ]
    },
    {
     "name": "stdout",
     "output_type": "stream",
     "text": [
      "Epoch: 2533, Train Loss: 11.8593, \n",
      "Validation Loss: 19.1596\n"
     ]
    },
    {
     "name": "stderr",
     "output_type": "stream",
     "text": [
      "Epoch 2534/3000: 100%|██████████| 1/1 [00:00<00:00, 40.95it/s]\n",
      "Epoch 2535/3000: 100%|██████████| 1/1 [00:00<00:00, 38.23it/s]\n",
      "Validation: 100%|██████████| 1/1 [00:00<00:00, 48.83it/s]\n"
     ]
    },
    {
     "name": "stdout",
     "output_type": "stream",
     "text": [
      "Epoch: 2535, Train Loss: 13.4314, \n",
      "Validation Loss: 18.5177\n"
     ]
    },
    {
     "name": "stderr",
     "output_type": "stream",
     "text": [
      "Epoch 2536/3000: 100%|██████████| 1/1 [00:00<00:00, 38.90it/s]\n",
      "Epoch 2537/3000: 100%|██████████| 1/1 [00:00<00:00, 37.76it/s]\n",
      "Validation: 100%|██████████| 1/1 [00:00<00:00, 51.57it/s]\n"
     ]
    },
    {
     "name": "stdout",
     "output_type": "stream",
     "text": [
      "Epoch: 2537, Train Loss: 8.4546, \n",
      "Validation Loss: 17.0726\n"
     ]
    },
    {
     "name": "stderr",
     "output_type": "stream",
     "text": [
      "Epoch 2538/3000: 100%|██████████| 1/1 [00:00<00:00, 37.54it/s]\n",
      "Epoch 2539/3000: 100%|██████████| 1/1 [00:00<00:00, 34.57it/s]\n",
      "Validation: 100%|██████████| 1/1 [00:00<00:00, 51.00it/s]\n"
     ]
    },
    {
     "name": "stdout",
     "output_type": "stream",
     "text": [
      "Epoch: 2539, Train Loss: 15.8441, \n",
      "Validation Loss: 16.9632\n"
     ]
    },
    {
     "name": "stderr",
     "output_type": "stream",
     "text": [
      "Epoch 2540/3000: 100%|██████████| 1/1 [00:00<00:00, 33.58it/s]\n",
      "Epoch 2541/3000: 100%|██████████| 1/1 [00:00<00:00, 40.98it/s]\n",
      "Validation: 100%|██████████| 1/1 [00:00<00:00, 49.85it/s]\n"
     ]
    },
    {
     "name": "stdout",
     "output_type": "stream",
     "text": [
      "Epoch: 2541, Train Loss: 10.6269, \n",
      "Validation Loss: 16.2541\n"
     ]
    },
    {
     "name": "stderr",
     "output_type": "stream",
     "text": [
      "Epoch 2542/3000: 100%|██████████| 1/1 [00:00<00:00, 33.78it/s]\n",
      "Epoch 2543/3000: 100%|██████████| 1/1 [00:00<00:00, 39.22it/s]\n",
      "Validation: 100%|██████████| 1/1 [00:00<00:00, 49.32it/s]\n"
     ]
    },
    {
     "name": "stdout",
     "output_type": "stream",
     "text": [
      "Epoch: 2543, Train Loss: 24.0813, \n",
      "Validation Loss: 16.1764\n"
     ]
    },
    {
     "name": "stderr",
     "output_type": "stream",
     "text": [
      "Epoch 2544/3000: 100%|██████████| 1/1 [00:00<00:00, 35.28it/s]\n",
      "Epoch 2545/3000: 100%|██████████| 1/1 [00:00<00:00, 31.46it/s]\n",
      "Validation: 100%|██████████| 1/1 [00:00<00:00, 51.91it/s]\n"
     ]
    },
    {
     "name": "stdout",
     "output_type": "stream",
     "text": [
      "Epoch: 2545, Train Loss: 20.0855, \n",
      "Validation Loss: 15.5784\n"
     ]
    },
    {
     "name": "stderr",
     "output_type": "stream",
     "text": [
      "Epoch 2546/3000: 100%|██████████| 1/1 [00:00<00:00, 41.26it/s]\n",
      "Epoch 2547/3000: 100%|██████████| 1/1 [00:00<00:00, 37.31it/s]\n",
      "Validation: 100%|██████████| 1/1 [00:00<00:00, 49.70it/s]\n"
     ]
    },
    {
     "name": "stdout",
     "output_type": "stream",
     "text": [
      "Epoch: 2547, Train Loss: 25.3880, \n",
      "Validation Loss: 16.9797\n"
     ]
    },
    {
     "name": "stderr",
     "output_type": "stream",
     "text": [
      "Epoch 2548/3000: 100%|██████████| 1/1 [00:00<00:00, 35.42it/s]\n",
      "Epoch 2549/3000: 100%|██████████| 1/1 [00:00<00:00, 37.95it/s]\n",
      "Validation: 100%|██████████| 1/1 [00:00<00:00, 49.79it/s]\n"
     ]
    },
    {
     "name": "stdout",
     "output_type": "stream",
     "text": [
      "Epoch: 2549, Train Loss: 17.1022, \n",
      "Validation Loss: 17.7680\n"
     ]
    },
    {
     "name": "stderr",
     "output_type": "stream",
     "text": [
      "Epoch 2550/3000: 100%|██████████| 1/1 [00:00<00:00, 37.72it/s]\n",
      "Epoch 2551/3000: 100%|██████████| 1/1 [00:00<00:00, 37.70it/s]\n",
      "Validation: 100%|██████████| 1/1 [00:00<00:00, 47.72it/s]\n"
     ]
    },
    {
     "name": "stdout",
     "output_type": "stream",
     "text": [
      "Epoch: 2551, Train Loss: 19.2607, \n",
      "Validation Loss: 20.9512\n"
     ]
    },
    {
     "name": "stderr",
     "output_type": "stream",
     "text": [
      "Epoch 2552/3000: 100%|██████████| 1/1 [00:00<00:00, 39.24it/s]\n",
      "Epoch 2553/3000: 100%|██████████| 1/1 [00:00<00:00, 39.31it/s]\n",
      "Validation: 100%|██████████| 1/1 [00:00<00:00, 49.88it/s]\n"
     ]
    },
    {
     "name": "stdout",
     "output_type": "stream",
     "text": [
      "Epoch: 2553, Train Loss: 15.4365, \n",
      "Validation Loss: 17.6464\n"
     ]
    },
    {
     "name": "stderr",
     "output_type": "stream",
     "text": [
      "Epoch 2554/3000: 100%|██████████| 1/1 [00:00<00:00, 38.58it/s]\n",
      "Epoch 2555/3000: 100%|██████████| 1/1 [00:00<00:00, 37.72it/s]\n",
      "Validation: 100%|██████████| 1/1 [00:00<00:00, 51.36it/s]\n"
     ]
    },
    {
     "name": "stdout",
     "output_type": "stream",
     "text": [
      "Epoch: 2555, Train Loss: 6.2157, \n",
      "Validation Loss: 16.0982\n"
     ]
    },
    {
     "name": "stderr",
     "output_type": "stream",
     "text": [
      "Epoch 2556/3000: 100%|██████████| 1/1 [00:00<00:00, 41.42it/s]\n",
      "Epoch 2557/3000: 100%|██████████| 1/1 [00:00<00:00, 40.00it/s]\n",
      "Validation: 100%|██████████| 1/1 [00:00<00:00, 44.53it/s]\n"
     ]
    },
    {
     "name": "stdout",
     "output_type": "stream",
     "text": [
      "Epoch: 2557, Train Loss: 17.5717, \n",
      "Validation Loss: 16.0636\n"
     ]
    },
    {
     "name": "stderr",
     "output_type": "stream",
     "text": [
      "Epoch 2558/3000: 100%|██████████| 1/1 [00:00<00:00, 38.97it/s]\n",
      "Epoch 2559/3000: 100%|██████████| 1/1 [00:00<00:00, 37.47it/s]\n",
      "Validation: 100%|██████████| 1/1 [00:00<00:00, 51.67it/s]\n"
     ]
    },
    {
     "name": "stdout",
     "output_type": "stream",
     "text": [
      "Epoch: 2559, Train Loss: 9.7805, \n",
      "Validation Loss: 19.5719\n"
     ]
    },
    {
     "name": "stderr",
     "output_type": "stream",
     "text": [
      "Epoch 2560/3000: 100%|██████████| 1/1 [00:00<00:00, 39.74it/s]\n",
      "Epoch 2561/3000: 100%|██████████| 1/1 [00:00<00:00, 36.83it/s]\n",
      "Validation: 100%|██████████| 1/1 [00:00<00:00, 48.87it/s]\n"
     ]
    },
    {
     "name": "stdout",
     "output_type": "stream",
     "text": [
      "Epoch: 2561, Train Loss: 17.6276, \n",
      "Validation Loss: 19.7032\n"
     ]
    },
    {
     "name": "stderr",
     "output_type": "stream",
     "text": [
      "Epoch 2562/3000: 100%|██████████| 1/1 [00:00<00:00, 39.78it/s]\n",
      "Epoch 2563/3000: 100%|██████████| 1/1 [00:00<00:00, 36.80it/s]\n",
      "Validation: 100%|██████████| 1/1 [00:00<00:00, 47.65it/s]\n"
     ]
    },
    {
     "name": "stdout",
     "output_type": "stream",
     "text": [
      "Epoch: 2563, Train Loss: 20.2285, \n",
      "Validation Loss: 19.2354\n"
     ]
    },
    {
     "name": "stderr",
     "output_type": "stream",
     "text": [
      "Epoch 2564/3000: 100%|██████████| 1/1 [00:00<00:00, 37.59it/s]\n",
      "Epoch 2565/3000: 100%|██████████| 1/1 [00:00<00:00, 33.75it/s]\n",
      "Validation: 100%|██████████| 1/1 [00:00<00:00, 47.83it/s]\n"
     ]
    },
    {
     "name": "stdout",
     "output_type": "stream",
     "text": [
      "Epoch: 2565, Train Loss: 14.5128, \n",
      "Validation Loss: 18.2214\n"
     ]
    },
    {
     "name": "stderr",
     "output_type": "stream",
     "text": [
      "Epoch 2566/3000: 100%|██████████| 1/1 [00:00<00:00, 39.63it/s]\n",
      "Epoch 2567/3000: 100%|██████████| 1/1 [00:00<00:00, 36.33it/s]\n",
      "Validation: 100%|██████████| 1/1 [00:00<00:00, 51.12it/s]\n"
     ]
    },
    {
     "name": "stdout",
     "output_type": "stream",
     "text": [
      "Epoch: 2567, Train Loss: 9.8479, \n",
      "Validation Loss: 16.7453\n"
     ]
    },
    {
     "name": "stderr",
     "output_type": "stream",
     "text": [
      "Epoch 2568/3000: 100%|██████████| 1/1 [00:00<00:00, 39.19it/s]\n",
      "Epoch 2569/3000: 100%|██████████| 1/1 [00:00<00:00, 36.08it/s]\n",
      "Validation: 100%|██████████| 1/1 [00:00<00:00, 51.88it/s]\n"
     ]
    },
    {
     "name": "stdout",
     "output_type": "stream",
     "text": [
      "Epoch: 2569, Train Loss: 8.4034, \n",
      "Validation Loss: 17.5889\n"
     ]
    },
    {
     "name": "stderr",
     "output_type": "stream",
     "text": [
      "Epoch 2570/3000: 100%|██████████| 1/1 [00:00<00:00, 33.75it/s]\n",
      "Epoch 2571/3000: 100%|██████████| 1/1 [00:00<00:00, 38.47it/s]\n",
      "Validation: 100%|██████████| 1/1 [00:00<00:00, 46.83it/s]\n"
     ]
    },
    {
     "name": "stdout",
     "output_type": "stream",
     "text": [
      "Epoch: 2571, Train Loss: 10.0782, \n",
      "Validation Loss: 18.6473\n"
     ]
    },
    {
     "name": "stderr",
     "output_type": "stream",
     "text": [
      "Epoch 2572/3000: 100%|██████████| 1/1 [00:00<00:00, 37.05it/s]\n",
      "Epoch 2573/3000: 100%|██████████| 1/1 [00:00<00:00, 37.07it/s]\n",
      "Validation: 100%|██████████| 1/1 [00:00<00:00, 47.88it/s]\n"
     ]
    },
    {
     "name": "stdout",
     "output_type": "stream",
     "text": [
      "Epoch: 2573, Train Loss: 19.5931, \n",
      "Validation Loss: 19.4871\n"
     ]
    },
    {
     "name": "stderr",
     "output_type": "stream",
     "text": [
      "Epoch 2574/3000: 100%|██████████| 1/1 [00:00<00:00, 33.71it/s]\n",
      "Epoch 2575/3000: 100%|██████████| 1/1 [00:00<00:00, 37.06it/s]\n",
      "Validation: 100%|██████████| 1/1 [00:00<00:00, 48.88it/s]\n"
     ]
    },
    {
     "name": "stdout",
     "output_type": "stream",
     "text": [
      "Epoch: 2575, Train Loss: 22.8606, \n",
      "Validation Loss: 20.9455\n"
     ]
    },
    {
     "name": "stderr",
     "output_type": "stream",
     "text": [
      "Epoch 2576/3000: 100%|██████████| 1/1 [00:00<00:00, 33.12it/s]\n",
      "Epoch 2577/3000: 100%|██████████| 1/1 [00:00<00:00, 38.60it/s]\n",
      "Validation: 100%|██████████| 1/1 [00:00<00:00, 48.42it/s]\n"
     ]
    },
    {
     "name": "stdout",
     "output_type": "stream",
     "text": [
      "Epoch: 2577, Train Loss: 12.1249, \n",
      "Validation Loss: 27.6285\n"
     ]
    },
    {
     "name": "stderr",
     "output_type": "stream",
     "text": [
      "Epoch 2578/3000: 100%|██████████| 1/1 [00:00<00:00, 37.10it/s]\n",
      "Epoch 2579/3000: 100%|██████████| 1/1 [00:00<00:00, 35.83it/s]\n",
      "Validation: 100%|██████████| 1/1 [00:00<00:00, 51.04it/s]\n"
     ]
    },
    {
     "name": "stdout",
     "output_type": "stream",
     "text": [
      "Epoch: 2579, Train Loss: 26.6116, \n",
      "Validation Loss: 20.2022\n"
     ]
    },
    {
     "name": "stderr",
     "output_type": "stream",
     "text": [
      "Epoch 2580/3000: 100%|██████████| 1/1 [00:00<00:00, 36.57it/s]\n",
      "Epoch 2581/3000: 100%|██████████| 1/1 [00:00<00:00, 35.56it/s]\n",
      "Validation: 100%|██████████| 1/1 [00:00<00:00, 45.54it/s]\n"
     ]
    },
    {
     "name": "stdout",
     "output_type": "stream",
     "text": [
      "Epoch: 2581, Train Loss: 12.0022, \n",
      "Validation Loss: 18.5947\n"
     ]
    },
    {
     "name": "stderr",
     "output_type": "stream",
     "text": [
      "Epoch 2582/3000: 100%|██████████| 1/1 [00:00<00:00, 37.77it/s]\n",
      "Epoch 2583/3000: 100%|██████████| 1/1 [00:00<00:00, 28.28it/s]\n",
      "Validation: 100%|██████████| 1/1 [00:00<00:00, 48.28it/s]\n"
     ]
    },
    {
     "name": "stdout",
     "output_type": "stream",
     "text": [
      "Epoch: 2583, Train Loss: 21.7602, \n",
      "Validation Loss: 20.3454\n"
     ]
    },
    {
     "name": "stderr",
     "output_type": "stream",
     "text": [
      "Epoch 2584/3000: 100%|██████████| 1/1 [00:00<00:00, 33.80it/s]\n",
      "Epoch 2585/3000: 100%|██████████| 1/1 [00:00<00:00, 35.12it/s]\n",
      "Validation: 100%|██████████| 1/1 [00:00<00:00, 49.33it/s]\n"
     ]
    },
    {
     "name": "stdout",
     "output_type": "stream",
     "text": [
      "Epoch: 2585, Train Loss: 10.8545, \n",
      "Validation Loss: 19.2806\n"
     ]
    },
    {
     "name": "stderr",
     "output_type": "stream",
     "text": [
      "Epoch 2586/3000: 100%|██████████| 1/1 [00:00<00:00, 31.31it/s]\n",
      "Epoch 2587/3000: 100%|██████████| 1/1 [00:00<00:00, 38.90it/s]\n",
      "Validation: 100%|██████████| 1/1 [00:00<00:00, 49.65it/s]\n"
     ]
    },
    {
     "name": "stdout",
     "output_type": "stream",
     "text": [
      "Epoch: 2587, Train Loss: 25.2358, \n",
      "Validation Loss: 20.0091\n"
     ]
    },
    {
     "name": "stderr",
     "output_type": "stream",
     "text": [
      "Epoch 2588/3000: 100%|██████████| 1/1 [00:00<00:00, 40.15it/s]\n",
      "Epoch 2589/3000: 100%|██████████| 1/1 [00:00<00:00, 39.85it/s]\n",
      "Validation: 100%|██████████| 1/1 [00:00<00:00, 51.46it/s]\n"
     ]
    },
    {
     "name": "stdout",
     "output_type": "stream",
     "text": [
      "Epoch: 2589, Train Loss: 10.1989, \n",
      "Validation Loss: 19.6318\n"
     ]
    },
    {
     "name": "stderr",
     "output_type": "stream",
     "text": [
      "Epoch 2590/3000: 100%|██████████| 1/1 [00:00<00:00, 37.85it/s]\n",
      "Epoch 2591/3000: 100%|██████████| 1/1 [00:00<00:00, 35.39it/s]\n",
      "Validation: 100%|██████████| 1/1 [00:00<00:00, 51.95it/s]\n"
     ]
    },
    {
     "name": "stdout",
     "output_type": "stream",
     "text": [
      "Epoch: 2591, Train Loss: 23.1913, \n",
      "Validation Loss: 19.5179\n"
     ]
    },
    {
     "name": "stderr",
     "output_type": "stream",
     "text": [
      "Epoch 2592/3000: 100%|██████████| 1/1 [00:00<00:00, 38.73it/s]\n",
      "Epoch 2593/3000: 100%|██████████| 1/1 [00:00<00:00, 40.49it/s]\n",
      "Validation: 100%|██████████| 1/1 [00:00<00:00, 49.92it/s]\n"
     ]
    },
    {
     "name": "stdout",
     "output_type": "stream",
     "text": [
      "Epoch: 2593, Train Loss: 13.0627, \n",
      "Validation Loss: 20.2615\n"
     ]
    },
    {
     "name": "stderr",
     "output_type": "stream",
     "text": [
      "Epoch 2594/3000: 100%|██████████| 1/1 [00:00<00:00, 40.52it/s]\n",
      "Epoch 2595/3000: 100%|██████████| 1/1 [00:00<00:00, 36.85it/s]\n",
      "Validation: 100%|██████████| 1/1 [00:00<00:00, 47.93it/s]\n"
     ]
    },
    {
     "name": "stdout",
     "output_type": "stream",
     "text": [
      "Epoch: 2595, Train Loss: 17.5570, \n",
      "Validation Loss: 19.0543\n"
     ]
    },
    {
     "name": "stderr",
     "output_type": "stream",
     "text": [
      "Epoch 2596/3000: 100%|██████████| 1/1 [00:00<00:00, 34.60it/s]\n",
      "Epoch 2597/3000: 100%|██████████| 1/1 [00:00<00:00, 38.39it/s]\n",
      "Validation: 100%|██████████| 1/1 [00:00<00:00, 52.97it/s]\n"
     ]
    },
    {
     "name": "stdout",
     "output_type": "stream",
     "text": [
      "Epoch: 2597, Train Loss: 9.4028, \n",
      "Validation Loss: 19.5348\n"
     ]
    },
    {
     "name": "stderr",
     "output_type": "stream",
     "text": [
      "Epoch 2598/3000: 100%|██████████| 1/1 [00:00<00:00, 33.91it/s]\n",
      "Epoch 2599/3000: 100%|██████████| 1/1 [00:00<00:00, 36.99it/s]\n",
      "Validation: 100%|██████████| 1/1 [00:00<00:00, 52.39it/s]\n"
     ]
    },
    {
     "name": "stdout",
     "output_type": "stream",
     "text": [
      "Epoch: 2599, Train Loss: 16.4644, \n",
      "Validation Loss: 29.3885\n"
     ]
    },
    {
     "name": "stderr",
     "output_type": "stream",
     "text": [
      "Epoch 2600/3000: 100%|██████████| 1/1 [00:00<00:00, 38.34it/s]\n",
      "Epoch 2601/3000: 100%|██████████| 1/1 [00:00<00:00, 35.03it/s]\n",
      "Validation: 100%|██████████| 1/1 [00:00<00:00, 51.42it/s]\n"
     ]
    },
    {
     "name": "stdout",
     "output_type": "stream",
     "text": [
      "Epoch: 2601, Train Loss: 27.8434, \n",
      "Validation Loss: 19.6159\n"
     ]
    },
    {
     "name": "stderr",
     "output_type": "stream",
     "text": [
      "Epoch 2602/3000: 100%|██████████| 1/1 [00:00<00:00, 41.75it/s]\n",
      "Epoch 2603/3000: 100%|██████████| 1/1 [00:00<00:00, 38.54it/s]\n",
      "Validation: 100%|██████████| 1/1 [00:00<00:00, 52.15it/s]\n"
     ]
    },
    {
     "name": "stdout",
     "output_type": "stream",
     "text": [
      "Epoch: 2603, Train Loss: 8.2053, \n",
      "Validation Loss: 22.8583\n"
     ]
    },
    {
     "name": "stderr",
     "output_type": "stream",
     "text": [
      "Epoch 2604/3000: 100%|██████████| 1/1 [00:00<00:00, 38.24it/s]\n",
      "Epoch 2605/3000: 100%|██████████| 1/1 [00:00<00:00, 36.80it/s]\n",
      "Validation: 100%|██████████| 1/1 [00:00<00:00, 51.73it/s]\n"
     ]
    },
    {
     "name": "stdout",
     "output_type": "stream",
     "text": [
      "Epoch: 2605, Train Loss: 27.5278, \n",
      "Validation Loss: 17.3581\n"
     ]
    },
    {
     "name": "stderr",
     "output_type": "stream",
     "text": [
      "Epoch 2606/3000: 100%|██████████| 1/1 [00:00<00:00, 39.68it/s]\n",
      "Epoch 2607/3000: 100%|██████████| 1/1 [00:00<00:00, 36.22it/s]\n",
      "Validation: 100%|██████████| 1/1 [00:00<00:00, 51.82it/s]\n"
     ]
    },
    {
     "name": "stdout",
     "output_type": "stream",
     "text": [
      "Epoch: 2607, Train Loss: 6.6947, \n",
      "Validation Loss: 19.2115\n"
     ]
    },
    {
     "name": "stderr",
     "output_type": "stream",
     "text": [
      "Epoch 2608/3000: 100%|██████████| 1/1 [00:00<00:00, 34.76it/s]\n",
      "Epoch 2609/3000: 100%|██████████| 1/1 [00:00<00:00, 30.59it/s]\n",
      "Validation: 100%|██████████| 1/1 [00:00<00:00, 43.36it/s]\n"
     ]
    },
    {
     "name": "stdout",
     "output_type": "stream",
     "text": [
      "Epoch: 2609, Train Loss: 24.6762, \n",
      "Validation Loss: 27.9425\n"
     ]
    },
    {
     "name": "stderr",
     "output_type": "stream",
     "text": [
      "Epoch 2610/3000: 100%|██████████| 1/1 [00:00<00:00, 35.93it/s]\n",
      "Epoch 2611/3000: 100%|██████████| 1/1 [00:00<00:00, 39.33it/s]\n",
      "Validation: 100%|██████████| 1/1 [00:00<00:00, 51.54it/s]\n"
     ]
    },
    {
     "name": "stdout",
     "output_type": "stream",
     "text": [
      "Epoch: 2611, Train Loss: 27.8902, \n",
      "Validation Loss: 18.8009\n"
     ]
    },
    {
     "name": "stderr",
     "output_type": "stream",
     "text": [
      "Epoch 2612/3000: 100%|██████████| 1/1 [00:00<00:00, 37.96it/s]\n",
      "Epoch 2613/3000: 100%|██████████| 1/1 [00:00<00:00, 38.17it/s]\n",
      "Validation: 100%|██████████| 1/1 [00:00<00:00, 43.63it/s]\n"
     ]
    },
    {
     "name": "stdout",
     "output_type": "stream",
     "text": [
      "Epoch: 2613, Train Loss: 14.1790, \n",
      "Validation Loss: 19.1405\n"
     ]
    },
    {
     "name": "stderr",
     "output_type": "stream",
     "text": [
      "Epoch 2614/3000: 100%|██████████| 1/1 [00:00<00:00, 38.27it/s]\n",
      "Epoch 2615/3000: 100%|██████████| 1/1 [00:00<00:00, 38.21it/s]\n",
      "Validation: 100%|██████████| 1/1 [00:00<00:00, 50.79it/s]\n"
     ]
    },
    {
     "name": "stdout",
     "output_type": "stream",
     "text": [
      "Epoch: 2615, Train Loss: 22.8835, \n",
      "Validation Loss: 17.3912\n"
     ]
    },
    {
     "name": "stderr",
     "output_type": "stream",
     "text": [
      "Epoch 2616/3000: 100%|██████████| 1/1 [00:00<00:00, 34.25it/s]\n",
      "Epoch 2617/3000: 100%|██████████| 1/1 [00:00<00:00, 28.72it/s]\n",
      "Validation: 100%|██████████| 1/1 [00:00<00:00, 44.39it/s]\n"
     ]
    },
    {
     "name": "stdout",
     "output_type": "stream",
     "text": [
      "Epoch: 2617, Train Loss: 6.8393, \n",
      "Validation Loss: 19.6660\n"
     ]
    },
    {
     "name": "stderr",
     "output_type": "stream",
     "text": [
      "Epoch 2618/3000: 100%|██████████| 1/1 [00:00<00:00, 39.11it/s]\n",
      "Epoch 2619/3000: 100%|██████████| 1/1 [00:00<00:00, 34.58it/s]\n",
      "Validation: 100%|██████████| 1/1 [00:00<00:00, 47.02it/s]\n"
     ]
    },
    {
     "name": "stdout",
     "output_type": "stream",
     "text": [
      "Epoch: 2619, Train Loss: 33.8482, \n",
      "Validation Loss: 20.0211\n"
     ]
    },
    {
     "name": "stderr",
     "output_type": "stream",
     "text": [
      "Epoch 2620/3000: 100%|██████████| 1/1 [00:00<00:00, 32.81it/s]\n",
      "Epoch 2621/3000: 100%|██████████| 1/1 [00:00<00:00, 36.51it/s]\n",
      "Validation: 100%|██████████| 1/1 [00:00<00:00, 52.03it/s]\n"
     ]
    },
    {
     "name": "stdout",
     "output_type": "stream",
     "text": [
      "Epoch: 2621, Train Loss: 18.4152, \n",
      "Validation Loss: 19.2366\n"
     ]
    },
    {
     "name": "stderr",
     "output_type": "stream",
     "text": [
      "Epoch 2622/3000: 100%|██████████| 1/1 [00:00<00:00, 33.48it/s]\n",
      "Epoch 2623/3000: 100%|██████████| 1/1 [00:00<00:00, 28.82it/s]\n",
      "Validation: 100%|██████████| 1/1 [00:00<00:00, 49.04it/s]\n"
     ]
    },
    {
     "name": "stdout",
     "output_type": "stream",
     "text": [
      "Epoch: 2623, Train Loss: 14.5874, \n",
      "Validation Loss: 18.6985\n"
     ]
    },
    {
     "name": "stderr",
     "output_type": "stream",
     "text": [
      "Epoch 2624/3000: 100%|██████████| 1/1 [00:00<00:00, 37.48it/s]\n",
      "Epoch 2625/3000: 100%|██████████| 1/1 [00:00<00:00, 35.08it/s]\n",
      "Validation: 100%|██████████| 1/1 [00:00<00:00, 51.76it/s]\n"
     ]
    },
    {
     "name": "stdout",
     "output_type": "stream",
     "text": [
      "Epoch: 2625, Train Loss: 13.6074, \n",
      "Validation Loss: 21.2211\n"
     ]
    },
    {
     "name": "stderr",
     "output_type": "stream",
     "text": [
      "Epoch 2626/3000: 100%|██████████| 1/1 [00:00<00:00, 39.85it/s]\n",
      "Epoch 2627/3000: 100%|██████████| 1/1 [00:00<00:00, 38.49it/s]\n",
      "Validation: 100%|██████████| 1/1 [00:00<00:00, 47.26it/s]\n"
     ]
    },
    {
     "name": "stdout",
     "output_type": "stream",
     "text": [
      "Epoch: 2627, Train Loss: 4.9521, \n",
      "Validation Loss: 20.3265\n"
     ]
    },
    {
     "name": "stderr",
     "output_type": "stream",
     "text": [
      "Epoch 2628/3000: 100%|██████████| 1/1 [00:00<00:00, 37.11it/s]\n",
      "Epoch 2629/3000: 100%|██████████| 1/1 [00:00<00:00, 36.11it/s]\n",
      "Validation: 100%|██████████| 1/1 [00:00<00:00, 48.54it/s]\n"
     ]
    },
    {
     "name": "stdout",
     "output_type": "stream",
     "text": [
      "Epoch: 2629, Train Loss: 22.8658, \n",
      "Validation Loss: 22.3632\n"
     ]
    },
    {
     "name": "stderr",
     "output_type": "stream",
     "text": [
      "Epoch 2630/3000: 100%|██████████| 1/1 [00:00<00:00, 37.17it/s]\n",
      "Epoch 2631/3000: 100%|██████████| 1/1 [00:00<00:00, 35.07it/s]\n",
      "Validation: 100%|██████████| 1/1 [00:00<00:00, 49.73it/s]\n"
     ]
    },
    {
     "name": "stdout",
     "output_type": "stream",
     "text": [
      "Epoch: 2631, Train Loss: 19.9290, \n",
      "Validation Loss: 18.6647\n"
     ]
    },
    {
     "name": "stderr",
     "output_type": "stream",
     "text": [
      "Epoch 2632/3000: 100%|██████████| 1/1 [00:00<00:00, 30.72it/s]\n",
      "Epoch 2633/3000: 100%|██████████| 1/1 [00:00<00:00, 38.66it/s]\n",
      "Validation: 100%|██████████| 1/1 [00:00<00:00, 50.20it/s]\n"
     ]
    },
    {
     "name": "stdout",
     "output_type": "stream",
     "text": [
      "Epoch: 2633, Train Loss: 8.2360, \n",
      "Validation Loss: 18.3800\n"
     ]
    },
    {
     "name": "stderr",
     "output_type": "stream",
     "text": [
      "Epoch 2634/3000: 100%|██████████| 1/1 [00:00<00:00, 35.85it/s]\n",
      "Epoch 2635/3000: 100%|██████████| 1/1 [00:00<00:00, 32.31it/s]\n",
      "Validation: 100%|██████████| 1/1 [00:00<00:00, 47.43it/s]\n"
     ]
    },
    {
     "name": "stdout",
     "output_type": "stream",
     "text": [
      "Epoch: 2635, Train Loss: 7.2887, \n",
      "Validation Loss: 23.0673\n"
     ]
    },
    {
     "name": "stderr",
     "output_type": "stream",
     "text": [
      "Epoch 2636/3000: 100%|██████████| 1/1 [00:00<00:00, 34.64it/s]\n",
      "Epoch 2637/3000: 100%|██████████| 1/1 [00:00<00:00, 39.51it/s]\n",
      "Validation: 100%|██████████| 1/1 [00:00<00:00, 50.65it/s]\n"
     ]
    },
    {
     "name": "stdout",
     "output_type": "stream",
     "text": [
      "Epoch: 2637, Train Loss: 8.5743, \n",
      "Validation Loss: 22.7229\n"
     ]
    },
    {
     "name": "stderr",
     "output_type": "stream",
     "text": [
      "Epoch 2638/3000: 100%|██████████| 1/1 [00:00<00:00, 33.97it/s]\n",
      "Epoch 2639/3000: 100%|██████████| 1/1 [00:00<00:00, 37.77it/s]\n",
      "Validation: 100%|██████████| 1/1 [00:00<00:00, 49.58it/s]\n"
     ]
    },
    {
     "name": "stdout",
     "output_type": "stream",
     "text": [
      "Epoch: 2639, Train Loss: 55.0234, \n",
      "Validation Loss: 23.0265\n"
     ]
    },
    {
     "name": "stderr",
     "output_type": "stream",
     "text": [
      "Epoch 2640/3000: 100%|██████████| 1/1 [00:00<00:00, 35.68it/s]\n",
      "Epoch 2641/3000: 100%|██████████| 1/1 [00:00<00:00, 41.00it/s]\n",
      "Validation: 100%|██████████| 1/1 [00:00<00:00, 49.73it/s]\n"
     ]
    },
    {
     "name": "stdout",
     "output_type": "stream",
     "text": [
      "Epoch: 2641, Train Loss: 12.6500, \n",
      "Validation Loss: 19.3790\n"
     ]
    },
    {
     "name": "stderr",
     "output_type": "stream",
     "text": [
      "Epoch 2642/3000: 100%|██████████| 1/1 [00:00<00:00, 42.50it/s]\n",
      "Epoch 2643/3000: 100%|██████████| 1/1 [00:00<00:00, 40.68it/s]\n",
      "Validation: 100%|██████████| 1/1 [00:00<00:00, 53.16it/s]\n"
     ]
    },
    {
     "name": "stdout",
     "output_type": "stream",
     "text": [
      "Epoch: 2643, Train Loss: 18.5405, \n",
      "Validation Loss: 19.0887\n"
     ]
    },
    {
     "name": "stderr",
     "output_type": "stream",
     "text": [
      "Epoch 2644/3000: 100%|██████████| 1/1 [00:00<00:00, 38.98it/s]\n",
      "Epoch 2645/3000: 100%|██████████| 1/1 [00:00<00:00, 38.55it/s]\n",
      "Validation: 100%|██████████| 1/1 [00:00<00:00, 52.88it/s]\n"
     ]
    },
    {
     "name": "stdout",
     "output_type": "stream",
     "text": [
      "Epoch: 2645, Train Loss: 15.9392, \n",
      "Validation Loss: 17.5730\n"
     ]
    },
    {
     "name": "stderr",
     "output_type": "stream",
     "text": [
      "Epoch 2646/3000: 100%|██████████| 1/1 [00:00<00:00, 39.55it/s]\n",
      "Epoch 2647/3000: 100%|██████████| 1/1 [00:00<00:00, 36.87it/s]\n",
      "Validation: 100%|██████████| 1/1 [00:00<00:00, 48.17it/s]\n"
     ]
    },
    {
     "name": "stdout",
     "output_type": "stream",
     "text": [
      "Epoch: 2647, Train Loss: 18.2428, \n",
      "Validation Loss: 18.0886\n"
     ]
    },
    {
     "name": "stderr",
     "output_type": "stream",
     "text": [
      "Epoch 2648/3000: 100%|██████████| 1/1 [00:00<00:00, 35.45it/s]\n",
      "Epoch 2649/3000: 100%|██████████| 1/1 [00:00<00:00, 40.27it/s]\n",
      "Validation: 100%|██████████| 1/1 [00:00<00:00, 51.20it/s]\n"
     ]
    },
    {
     "name": "stdout",
     "output_type": "stream",
     "text": [
      "Epoch: 2649, Train Loss: 15.9480, \n",
      "Validation Loss: 18.9984\n"
     ]
    },
    {
     "name": "stderr",
     "output_type": "stream",
     "text": [
      "Epoch 2650/3000: 100%|██████████| 1/1 [00:00<00:00, 39.96it/s]\n",
      "Epoch 2651/3000: 100%|██████████| 1/1 [00:00<00:00, 37.19it/s]\n",
      "Validation: 100%|██████████| 1/1 [00:00<00:00, 52.09it/s]\n"
     ]
    },
    {
     "name": "stdout",
     "output_type": "stream",
     "text": [
      "Epoch: 2651, Train Loss: 11.2631, \n",
      "Validation Loss: 19.2133\n"
     ]
    },
    {
     "name": "stderr",
     "output_type": "stream",
     "text": [
      "Epoch 2652/3000: 100%|██████████| 1/1 [00:00<00:00, 36.81it/s]\n",
      "Epoch 2653/3000: 100%|██████████| 1/1 [00:00<00:00, 37.46it/s]\n",
      "Validation: 100%|██████████| 1/1 [00:00<00:00, 46.44it/s]\n"
     ]
    },
    {
     "name": "stdout",
     "output_type": "stream",
     "text": [
      "Epoch: 2653, Train Loss: 14.5924, \n",
      "Validation Loss: 18.3336\n"
     ]
    },
    {
     "name": "stderr",
     "output_type": "stream",
     "text": [
      "Epoch 2654/3000: 100%|██████████| 1/1 [00:00<00:00, 38.67it/s]\n",
      "Epoch 2655/3000: 100%|██████████| 1/1 [00:00<00:00, 35.69it/s]\n",
      "Validation: 100%|██████████| 1/1 [00:00<00:00, 50.61it/s]\n"
     ]
    },
    {
     "name": "stdout",
     "output_type": "stream",
     "text": [
      "Epoch: 2655, Train Loss: 9.6450, \n",
      "Validation Loss: 16.8738\n"
     ]
    },
    {
     "name": "stderr",
     "output_type": "stream",
     "text": [
      "Epoch 2656/3000: 100%|██████████| 1/1 [00:00<00:00, 38.84it/s]\n",
      "Epoch 2657/3000: 100%|██████████| 1/1 [00:00<00:00, 38.53it/s]\n",
      "Validation: 100%|██████████| 1/1 [00:00<00:00, 52.01it/s]\n"
     ]
    },
    {
     "name": "stdout",
     "output_type": "stream",
     "text": [
      "Epoch: 2657, Train Loss: 17.4077, \n",
      "Validation Loss: 17.2211\n"
     ]
    },
    {
     "name": "stderr",
     "output_type": "stream",
     "text": [
      "Epoch 2658/3000: 100%|██████████| 1/1 [00:00<00:00, 40.90it/s]\n",
      "Epoch 2659/3000: 100%|██████████| 1/1 [00:00<00:00, 39.77it/s]\n",
      "Validation: 100%|██████████| 1/1 [00:00<00:00, 49.57it/s]\n"
     ]
    },
    {
     "name": "stdout",
     "output_type": "stream",
     "text": [
      "Epoch: 2659, Train Loss: 4.4829, \n",
      "Validation Loss: 18.4710\n"
     ]
    },
    {
     "name": "stderr",
     "output_type": "stream",
     "text": [
      "Epoch 2660/3000: 100%|██████████| 1/1 [00:00<00:00, 32.49it/s]\n",
      "Epoch 2661/3000: 100%|██████████| 1/1 [00:00<00:00, 33.68it/s]\n",
      "Validation: 100%|██████████| 1/1 [00:00<00:00, 52.30it/s]\n"
     ]
    },
    {
     "name": "stdout",
     "output_type": "stream",
     "text": [
      "Epoch: 2661, Train Loss: 13.1159, \n",
      "Validation Loss: 18.5719\n"
     ]
    },
    {
     "name": "stderr",
     "output_type": "stream",
     "text": [
      "Epoch 2662/3000: 100%|██████████| 1/1 [00:00<00:00, 39.50it/s]\n",
      "Epoch 2663/3000: 100%|██████████| 1/1 [00:00<00:00, 38.01it/s]\n",
      "Validation: 100%|██████████| 1/1 [00:00<00:00, 51.43it/s]\n"
     ]
    },
    {
     "name": "stdout",
     "output_type": "stream",
     "text": [
      "Epoch: 2663, Train Loss: 16.0620, \n",
      "Validation Loss: 17.1409\n"
     ]
    },
    {
     "name": "stderr",
     "output_type": "stream",
     "text": [
      "Epoch 2664/3000: 100%|██████████| 1/1 [00:00<00:00, 38.30it/s]\n",
      "Epoch 2665/3000: 100%|██████████| 1/1 [00:00<00:00, 40.25it/s]\n",
      "Validation: 100%|██████████| 1/1 [00:00<00:00, 50.78it/s]\n"
     ]
    },
    {
     "name": "stdout",
     "output_type": "stream",
     "text": [
      "Epoch: 2665, Train Loss: 4.7658, \n",
      "Validation Loss: 20.8091\n"
     ]
    },
    {
     "name": "stderr",
     "output_type": "stream",
     "text": [
      "Epoch 2666/3000: 100%|██████████| 1/1 [00:00<00:00, 38.22it/s]\n",
      "Epoch 2667/3000: 100%|██████████| 1/1 [00:00<00:00, 33.98it/s]\n",
      "Validation: 100%|██████████| 1/1 [00:00<00:00, 50.40it/s]\n"
     ]
    },
    {
     "name": "stdout",
     "output_type": "stream",
     "text": [
      "Epoch: 2667, Train Loss: 13.2722, \n",
      "Validation Loss: 21.3110\n"
     ]
    },
    {
     "name": "stderr",
     "output_type": "stream",
     "text": [
      "Epoch 2668/3000: 100%|██████████| 1/1 [00:00<00:00, 38.55it/s]\n",
      "Epoch 2669/3000: 100%|██████████| 1/1 [00:00<00:00, 38.92it/s]\n",
      "Validation: 100%|██████████| 1/1 [00:00<00:00, 51.77it/s]\n"
     ]
    },
    {
     "name": "stdout",
     "output_type": "stream",
     "text": [
      "Epoch: 2669, Train Loss: 11.7009, \n",
      "Validation Loss: 19.7861\n"
     ]
    },
    {
     "name": "stderr",
     "output_type": "stream",
     "text": [
      "Epoch 2670/3000: 100%|██████████| 1/1 [00:00<00:00, 35.71it/s]\n",
      "Epoch 2671/3000: 100%|██████████| 1/1 [00:00<00:00, 35.92it/s]\n",
      "Validation: 100%|██████████| 1/1 [00:00<00:00, 48.73it/s]\n"
     ]
    },
    {
     "name": "stdout",
     "output_type": "stream",
     "text": [
      "Epoch: 2671, Train Loss: 17.5809, \n",
      "Validation Loss: 18.9596\n"
     ]
    },
    {
     "name": "stderr",
     "output_type": "stream",
     "text": [
      "Epoch 2672/3000: 100%|██████████| 1/1 [00:00<00:00, 38.86it/s]\n",
      "Epoch 2673/3000: 100%|██████████| 1/1 [00:00<00:00, 36.63it/s]\n",
      "Validation: 100%|██████████| 1/1 [00:00<00:00, 47.58it/s]\n"
     ]
    },
    {
     "name": "stdout",
     "output_type": "stream",
     "text": [
      "Epoch: 2673, Train Loss: 14.2795, \n",
      "Validation Loss: 18.0014\n"
     ]
    },
    {
     "name": "stderr",
     "output_type": "stream",
     "text": [
      "Epoch 2674/3000: 100%|██████████| 1/1 [00:00<00:00, 37.80it/s]\n",
      "Epoch 2675/3000: 100%|██████████| 1/1 [00:00<00:00, 38.95it/s]\n",
      "Validation: 100%|██████████| 1/1 [00:00<00:00, 50.55it/s]\n"
     ]
    },
    {
     "name": "stdout",
     "output_type": "stream",
     "text": [
      "Epoch: 2675, Train Loss: 4.6483, \n",
      "Validation Loss: 16.2260\n"
     ]
    },
    {
     "name": "stderr",
     "output_type": "stream",
     "text": [
      "Epoch 2676/3000: 100%|██████████| 1/1 [00:00<00:00, 40.62it/s]\n",
      "Epoch 2677/3000: 100%|██████████| 1/1 [00:00<00:00, 38.29it/s]\n",
      "Validation: 100%|██████████| 1/1 [00:00<00:00, 48.53it/s]\n"
     ]
    },
    {
     "name": "stdout",
     "output_type": "stream",
     "text": [
      "Epoch: 2677, Train Loss: 9.0765, \n",
      "Validation Loss: 17.0745\n"
     ]
    },
    {
     "name": "stderr",
     "output_type": "stream",
     "text": [
      "Epoch 2678/3000: 100%|██████████| 1/1 [00:00<00:00, 38.15it/s]\n",
      "Epoch 2679/3000: 100%|██████████| 1/1 [00:00<00:00, 35.06it/s]\n",
      "Validation: 100%|██████████| 1/1 [00:00<00:00, 49.89it/s]\n"
     ]
    },
    {
     "name": "stdout",
     "output_type": "stream",
     "text": [
      "Epoch: 2679, Train Loss: 7.5173, \n",
      "Validation Loss: 16.9271\n"
     ]
    },
    {
     "name": "stderr",
     "output_type": "stream",
     "text": [
      "Epoch 2680/3000: 100%|██████████| 1/1 [00:00<00:00, 38.79it/s]\n",
      "Epoch 2681/3000: 100%|██████████| 1/1 [00:00<00:00, 38.87it/s]\n",
      "Validation: 100%|██████████| 1/1 [00:00<00:00, 49.05it/s]\n"
     ]
    },
    {
     "name": "stdout",
     "output_type": "stream",
     "text": [
      "Epoch: 2681, Train Loss: 20.4067, \n",
      "Validation Loss: 17.0269\n"
     ]
    },
    {
     "name": "stderr",
     "output_type": "stream",
     "text": [
      "Epoch 2682/3000: 100%|██████████| 1/1 [00:00<00:00, 39.57it/s]\n",
      "Epoch 2683/3000: 100%|██████████| 1/1 [00:00<00:00, 27.39it/s]\n",
      "Validation: 100%|██████████| 1/1 [00:00<00:00, 41.96it/s]\n"
     ]
    },
    {
     "name": "stdout",
     "output_type": "stream",
     "text": [
      "Epoch: 2683, Train Loss: 20.1687, \n",
      "Validation Loss: 18.8904\n"
     ]
    },
    {
     "name": "stderr",
     "output_type": "stream",
     "text": [
      "Epoch 2684/3000: 100%|██████████| 1/1 [00:00<00:00, 37.06it/s]\n",
      "Epoch 2685/3000: 100%|██████████| 1/1 [00:00<00:00, 39.24it/s]\n",
      "Validation: 100%|██████████| 1/1 [00:00<00:00, 51.22it/s]\n"
     ]
    },
    {
     "name": "stdout",
     "output_type": "stream",
     "text": [
      "Epoch: 2685, Train Loss: 9.8873, \n",
      "Validation Loss: 21.3145\n"
     ]
    },
    {
     "name": "stderr",
     "output_type": "stream",
     "text": [
      "Epoch 2686/3000: 100%|██████████| 1/1 [00:00<00:00, 32.09it/s]\n",
      "Epoch 2687/3000: 100%|██████████| 1/1 [00:00<00:00, 36.96it/s]\n",
      "Validation: 100%|██████████| 1/1 [00:00<00:00, 50.89it/s]\n"
     ]
    },
    {
     "name": "stdout",
     "output_type": "stream",
     "text": [
      "Epoch: 2687, Train Loss: 16.5337, \n",
      "Validation Loss: 22.1128\n"
     ]
    },
    {
     "name": "stderr",
     "output_type": "stream",
     "text": [
      "Epoch 2688/3000: 100%|██████████| 1/1 [00:00<00:00, 38.07it/s]\n",
      "Epoch 2689/3000: 100%|██████████| 1/1 [00:00<00:00, 37.38it/s]\n",
      "Validation: 100%|██████████| 1/1 [00:00<00:00, 50.25it/s]\n"
     ]
    },
    {
     "name": "stdout",
     "output_type": "stream",
     "text": [
      "Epoch: 2689, Train Loss: 6.1508, \n",
      "Validation Loss: 18.2733\n"
     ]
    },
    {
     "name": "stderr",
     "output_type": "stream",
     "text": [
      "Epoch 2690/3000: 100%|██████████| 1/1 [00:00<00:00, 37.03it/s]\n",
      "Epoch 2691/3000: 100%|██████████| 1/1 [00:00<00:00, 35.46it/s]\n",
      "Validation: 100%|██████████| 1/1 [00:00<00:00, 50.56it/s]\n"
     ]
    },
    {
     "name": "stdout",
     "output_type": "stream",
     "text": [
      "Epoch: 2691, Train Loss: 15.0370, \n",
      "Validation Loss: 16.7737\n"
     ]
    },
    {
     "name": "stderr",
     "output_type": "stream",
     "text": [
      "Epoch 2692/3000: 100%|██████████| 1/1 [00:00<00:00, 39.51it/s]\n",
      "Epoch 2693/3000: 100%|██████████| 1/1 [00:00<00:00, 38.21it/s]\n",
      "Validation: 100%|██████████| 1/1 [00:00<00:00, 51.44it/s]\n"
     ]
    },
    {
     "name": "stdout",
     "output_type": "stream",
     "text": [
      "Epoch: 2693, Train Loss: 6.4455, \n",
      "Validation Loss: 16.3275\n"
     ]
    },
    {
     "name": "stderr",
     "output_type": "stream",
     "text": [
      "Epoch 2694/3000: 100%|██████████| 1/1 [00:00<00:00, 36.93it/s]\n",
      "Epoch 2695/3000: 100%|██████████| 1/1 [00:00<00:00, 40.94it/s]\n",
      "Validation: 100%|██████████| 1/1 [00:00<00:00, 43.71it/s]\n"
     ]
    },
    {
     "name": "stdout",
     "output_type": "stream",
     "text": [
      "Epoch: 2695, Train Loss: 14.9559, \n",
      "Validation Loss: 18.6527\n"
     ]
    },
    {
     "name": "stderr",
     "output_type": "stream",
     "text": [
      "Epoch 2696/3000: 100%|██████████| 1/1 [00:00<00:00, 32.44it/s]\n",
      "Epoch 2697/3000: 100%|██████████| 1/1 [00:00<00:00, 41.93it/s]\n",
      "Validation: 100%|██████████| 1/1 [00:00<00:00, 52.08it/s]\n"
     ]
    },
    {
     "name": "stdout",
     "output_type": "stream",
     "text": [
      "Epoch: 2697, Train Loss: 15.7374, \n",
      "Validation Loss: 16.1408\n"
     ]
    },
    {
     "name": "stderr",
     "output_type": "stream",
     "text": [
      "Epoch 2698/3000: 100%|██████████| 1/1 [00:00<00:00, 33.82it/s]\n",
      "Epoch 2699/3000: 100%|██████████| 1/1 [00:00<00:00, 40.58it/s]\n",
      "Validation: 100%|██████████| 1/1 [00:00<00:00, 52.65it/s]\n"
     ]
    },
    {
     "name": "stdout",
     "output_type": "stream",
     "text": [
      "Epoch: 2699, Train Loss: 14.3506, \n",
      "Validation Loss: 19.3214\n"
     ]
    },
    {
     "name": "stderr",
     "output_type": "stream",
     "text": [
      "Epoch 2700/3000: 100%|██████████| 1/1 [00:00<00:00, 38.64it/s]\n",
      "Epoch 2701/3000: 100%|██████████| 1/1 [00:00<00:00, 37.78it/s]\n",
      "Validation: 100%|██████████| 1/1 [00:00<00:00, 53.13it/s]\n"
     ]
    },
    {
     "name": "stdout",
     "output_type": "stream",
     "text": [
      "Epoch: 2701, Train Loss: 15.2026, \n",
      "Validation Loss: 21.2031\n"
     ]
    },
    {
     "name": "stderr",
     "output_type": "stream",
     "text": [
      "Epoch 2702/3000: 100%|██████████| 1/1 [00:00<00:00, 33.47it/s]\n",
      "Epoch 2703/3000: 100%|██████████| 1/1 [00:00<00:00, 40.41it/s]\n",
      "Validation: 100%|██████████| 1/1 [00:00<00:00, 52.60it/s]\n"
     ]
    },
    {
     "name": "stdout",
     "output_type": "stream",
     "text": [
      "Epoch: 2703, Train Loss: 11.2524, \n",
      "Validation Loss: 21.3213\n"
     ]
    },
    {
     "name": "stderr",
     "output_type": "stream",
     "text": [
      "Epoch 2704/3000: 100%|██████████| 1/1 [00:00<00:00, 34.29it/s]\n",
      "Epoch 2705/3000: 100%|██████████| 1/1 [00:00<00:00, 39.14it/s]\n",
      "Validation: 100%|██████████| 1/1 [00:00<00:00, 51.71it/s]\n"
     ]
    },
    {
     "name": "stdout",
     "output_type": "stream",
     "text": [
      "Epoch: 2705, Train Loss: 12.3765, \n",
      "Validation Loss: 19.6061\n"
     ]
    },
    {
     "name": "stderr",
     "output_type": "stream",
     "text": [
      "Epoch 2706/3000: 100%|██████████| 1/1 [00:00<00:00, 40.10it/s]\n",
      "Epoch 2707/3000: 100%|██████████| 1/1 [00:00<00:00, 35.65it/s]\n",
      "Validation: 100%|██████████| 1/1 [00:00<00:00, 50.80it/s]\n"
     ]
    },
    {
     "name": "stdout",
     "output_type": "stream",
     "text": [
      "Epoch: 2707, Train Loss: 13.8366, \n",
      "Validation Loss: 18.3340\n"
     ]
    },
    {
     "name": "stderr",
     "output_type": "stream",
     "text": [
      "Epoch 2708/3000: 100%|██████████| 1/1 [00:00<00:00, 34.77it/s]\n",
      "Epoch 2709/3000: 100%|██████████| 1/1 [00:00<00:00, 37.77it/s]\n",
      "Validation: 100%|██████████| 1/1 [00:00<00:00, 50.91it/s]\n"
     ]
    },
    {
     "name": "stdout",
     "output_type": "stream",
     "text": [
      "Epoch: 2709, Train Loss: 10.3076, \n",
      "Validation Loss: 18.3927\n"
     ]
    },
    {
     "name": "stderr",
     "output_type": "stream",
     "text": [
      "Epoch 2710/3000: 100%|██████████| 1/1 [00:00<00:00, 36.54it/s]\n",
      "Epoch 2711/3000: 100%|██████████| 1/1 [00:00<00:00, 37.32it/s]\n",
      "Validation: 100%|██████████| 1/1 [00:00<00:00, 46.22it/s]\n"
     ]
    },
    {
     "name": "stdout",
     "output_type": "stream",
     "text": [
      "Epoch: 2711, Train Loss: 10.3403, \n",
      "Validation Loss: 18.0667\n"
     ]
    },
    {
     "name": "stderr",
     "output_type": "stream",
     "text": [
      "Epoch 2712/3000: 100%|██████████| 1/1 [00:00<00:00, 34.09it/s]\n",
      "Epoch 2713/3000: 100%|██████████| 1/1 [00:00<00:00, 35.78it/s]\n",
      "Validation: 100%|██████████| 1/1 [00:00<00:00, 51.51it/s]\n"
     ]
    },
    {
     "name": "stdout",
     "output_type": "stream",
     "text": [
      "Epoch: 2713, Train Loss: 16.4578, \n",
      "Validation Loss: 17.8643\n"
     ]
    },
    {
     "name": "stderr",
     "output_type": "stream",
     "text": [
      "Epoch 2714/3000: 100%|██████████| 1/1 [00:00<00:00, 38.93it/s]\n",
      "Epoch 2715/3000: 100%|██████████| 1/1 [00:00<00:00, 36.88it/s]\n",
      "Validation: 100%|██████████| 1/1 [00:00<00:00, 51.97it/s]\n"
     ]
    },
    {
     "name": "stdout",
     "output_type": "stream",
     "text": [
      "Epoch: 2715, Train Loss: 12.3746, \n",
      "Validation Loss: 24.0470\n"
     ]
    },
    {
     "name": "stderr",
     "output_type": "stream",
     "text": [
      "Epoch 2716/3000: 100%|██████████| 1/1 [00:00<00:00, 39.56it/s]\n",
      "Epoch 2717/3000: 100%|██████████| 1/1 [00:00<00:00, 36.09it/s]\n",
      "Validation: 100%|██████████| 1/1 [00:00<00:00, 49.43it/s]\n"
     ]
    },
    {
     "name": "stdout",
     "output_type": "stream",
     "text": [
      "Epoch: 2717, Train Loss: 24.6304, \n",
      "Validation Loss: 19.1119\n"
     ]
    },
    {
     "name": "stderr",
     "output_type": "stream",
     "text": [
      "Epoch 2718/3000: 100%|██████████| 1/1 [00:00<00:00, 40.38it/s]\n",
      "Epoch 2719/3000: 100%|██████████| 1/1 [00:00<00:00, 34.24it/s]\n",
      "Validation: 100%|██████████| 1/1 [00:00<00:00, 44.19it/s]\n"
     ]
    },
    {
     "name": "stdout",
     "output_type": "stream",
     "text": [
      "Epoch: 2719, Train Loss: 9.8821, \n",
      "Validation Loss: 19.0026\n"
     ]
    },
    {
     "name": "stderr",
     "output_type": "stream",
     "text": [
      "Epoch 2720/3000: 100%|██████████| 1/1 [00:00<00:00, 37.63it/s]\n",
      "Epoch 2721/3000: 100%|██████████| 1/1 [00:00<00:00, 35.60it/s]\n",
      "Validation: 100%|██████████| 1/1 [00:00<00:00, 48.18it/s]\n"
     ]
    },
    {
     "name": "stdout",
     "output_type": "stream",
     "text": [
      "Epoch: 2721, Train Loss: 18.0117, \n",
      "Validation Loss: 19.0343\n"
     ]
    },
    {
     "name": "stderr",
     "output_type": "stream",
     "text": [
      "Epoch 2722/3000: 100%|██████████| 1/1 [00:00<00:00, 40.34it/s]\n",
      "Epoch 2723/3000: 100%|██████████| 1/1 [00:00<00:00, 36.90it/s]\n",
      "Validation: 100%|██████████| 1/1 [00:00<00:00, 50.51it/s]\n"
     ]
    },
    {
     "name": "stdout",
     "output_type": "stream",
     "text": [
      "Epoch: 2723, Train Loss: 10.3747, \n",
      "Validation Loss: 18.8883\n"
     ]
    },
    {
     "name": "stderr",
     "output_type": "stream",
     "text": [
      "Epoch 2724/3000: 100%|██████████| 1/1 [00:00<00:00, 40.42it/s]\n",
      "Epoch 2725/3000: 100%|██████████| 1/1 [00:00<00:00, 40.14it/s]\n",
      "Validation: 100%|██████████| 1/1 [00:00<00:00, 51.02it/s]\n"
     ]
    },
    {
     "name": "stdout",
     "output_type": "stream",
     "text": [
      "Epoch: 2725, Train Loss: 22.6958, \n",
      "Validation Loss: 18.1247\n"
     ]
    },
    {
     "name": "stderr",
     "output_type": "stream",
     "text": [
      "Epoch 2726/3000: 100%|██████████| 1/1 [00:00<00:00, 40.14it/s]\n",
      "Epoch 2727/3000: 100%|██████████| 1/1 [00:00<00:00, 39.09it/s]\n",
      "Validation: 100%|██████████| 1/1 [00:00<00:00, 50.19it/s]\n"
     ]
    },
    {
     "name": "stdout",
     "output_type": "stream",
     "text": [
      "Epoch: 2727, Train Loss: 19.0511, \n",
      "Validation Loss: 22.3692\n"
     ]
    },
    {
     "name": "stderr",
     "output_type": "stream",
     "text": [
      "Epoch 2728/3000: 100%|██████████| 1/1 [00:00<00:00, 34.90it/s]\n",
      "Epoch 2729/3000: 100%|██████████| 1/1 [00:00<00:00, 37.00it/s]\n",
      "Validation: 100%|██████████| 1/1 [00:00<00:00, 40.87it/s]\n"
     ]
    },
    {
     "name": "stdout",
     "output_type": "stream",
     "text": [
      "Epoch: 2729, Train Loss: 24.6795, \n",
      "Validation Loss: 18.5153\n"
     ]
    },
    {
     "name": "stderr",
     "output_type": "stream",
     "text": [
      "Epoch 2730/3000: 100%|██████████| 1/1 [00:00<00:00, 38.42it/s]\n",
      "Epoch 2731/3000: 100%|██████████| 1/1 [00:00<00:00, 31.88it/s]\n",
      "Validation: 100%|██████████| 1/1 [00:00<00:00, 48.42it/s]\n"
     ]
    },
    {
     "name": "stdout",
     "output_type": "stream",
     "text": [
      "Epoch: 2731, Train Loss: 14.9205, \n",
      "Validation Loss: 18.6276\n"
     ]
    },
    {
     "name": "stderr",
     "output_type": "stream",
     "text": [
      "Epoch 2732/3000: 100%|██████████| 1/1 [00:00<00:00, 33.18it/s]\n",
      "Epoch 2733/3000: 100%|██████████| 1/1 [00:00<00:00, 39.61it/s]\n",
      "Validation: 100%|██████████| 1/1 [00:00<00:00, 46.85it/s]\n"
     ]
    },
    {
     "name": "stdout",
     "output_type": "stream",
     "text": [
      "Epoch: 2733, Train Loss: 15.4511, \n",
      "Validation Loss: 17.8974\n"
     ]
    },
    {
     "name": "stderr",
     "output_type": "stream",
     "text": [
      "Epoch 2734/3000: 100%|██████████| 1/1 [00:00<00:00, 39.47it/s]\n",
      "Epoch 2735/3000: 100%|██████████| 1/1 [00:00<00:00, 36.81it/s]\n",
      "Validation: 100%|██████████| 1/1 [00:00<00:00, 52.66it/s]\n"
     ]
    },
    {
     "name": "stdout",
     "output_type": "stream",
     "text": [
      "Epoch: 2735, Train Loss: 20.7944, \n",
      "Validation Loss: 19.2268\n"
     ]
    },
    {
     "name": "stderr",
     "output_type": "stream",
     "text": [
      "Epoch 2736/3000: 100%|██████████| 1/1 [00:00<00:00, 36.19it/s]\n",
      "Epoch 2737/3000: 100%|██████████| 1/1 [00:00<00:00, 35.88it/s]\n",
      "Validation: 100%|██████████| 1/1 [00:00<00:00, 50.16it/s]\n"
     ]
    },
    {
     "name": "stdout",
     "output_type": "stream",
     "text": [
      "Epoch: 2737, Train Loss: 8.8059, \n",
      "Validation Loss: 16.8948\n"
     ]
    },
    {
     "name": "stderr",
     "output_type": "stream",
     "text": [
      "Epoch 2738/3000: 100%|██████████| 1/1 [00:00<00:00, 37.92it/s]\n",
      "Epoch 2739/3000: 100%|██████████| 1/1 [00:00<00:00, 38.27it/s]\n",
      "Validation: 100%|██████████| 1/1 [00:00<00:00, 50.04it/s]\n"
     ]
    },
    {
     "name": "stdout",
     "output_type": "stream",
     "text": [
      "Epoch: 2739, Train Loss: 8.2408, \n",
      "Validation Loss: 16.2174\n"
     ]
    },
    {
     "name": "stderr",
     "output_type": "stream",
     "text": [
      "Epoch 2740/3000: 100%|██████████| 1/1 [00:00<00:00, 37.97it/s]\n",
      "Epoch 2741/3000: 100%|██████████| 1/1 [00:00<00:00, 36.84it/s]\n",
      "Validation: 100%|██████████| 1/1 [00:00<00:00, 45.98it/s]\n"
     ]
    },
    {
     "name": "stdout",
     "output_type": "stream",
     "text": [
      "Epoch: 2741, Train Loss: 7.3778, \n",
      "Validation Loss: 15.4796\n"
     ]
    },
    {
     "name": "stderr",
     "output_type": "stream",
     "text": [
      "Epoch 2742/3000: 100%|██████████| 1/1 [00:00<00:00, 35.23it/s]\n",
      "Epoch 2743/3000: 100%|██████████| 1/1 [00:00<00:00, 40.37it/s]\n",
      "Validation: 100%|██████████| 1/1 [00:00<00:00, 52.30it/s]\n"
     ]
    },
    {
     "name": "stdout",
     "output_type": "stream",
     "text": [
      "Epoch: 2743, Train Loss: 5.7779, \n",
      "Validation Loss: 16.6673\n"
     ]
    },
    {
     "name": "stderr",
     "output_type": "stream",
     "text": [
      "Epoch 2744/3000: 100%|██████████| 1/1 [00:00<00:00, 38.22it/s]\n",
      "Epoch 2745/3000: 100%|██████████| 1/1 [00:00<00:00, 35.19it/s]\n",
      "Validation: 100%|██████████| 1/1 [00:00<00:00, 50.76it/s]\n"
     ]
    },
    {
     "name": "stdout",
     "output_type": "stream",
     "text": [
      "Epoch: 2745, Train Loss: 13.5987, \n",
      "Validation Loss: 18.5755\n"
     ]
    },
    {
     "name": "stderr",
     "output_type": "stream",
     "text": [
      "Epoch 2746/3000: 100%|██████████| 1/1 [00:00<00:00, 34.80it/s]\n",
      "Epoch 2747/3000: 100%|██████████| 1/1 [00:00<00:00, 35.83it/s]\n",
      "Validation: 100%|██████████| 1/1 [00:00<00:00, 49.99it/s]\n"
     ]
    },
    {
     "name": "stdout",
     "output_type": "stream",
     "text": [
      "Epoch: 2747, Train Loss: 8.8001, \n",
      "Validation Loss: 18.4091\n"
     ]
    },
    {
     "name": "stderr",
     "output_type": "stream",
     "text": [
      "Epoch 2748/3000: 100%|██████████| 1/1 [00:00<00:00, 39.70it/s]\n",
      "Epoch 2749/3000: 100%|██████████| 1/1 [00:00<00:00, 35.49it/s]\n",
      "Validation: 100%|██████████| 1/1 [00:00<00:00, 49.95it/s]\n"
     ]
    },
    {
     "name": "stdout",
     "output_type": "stream",
     "text": [
      "Epoch: 2749, Train Loss: 14.8046, \n",
      "Validation Loss: 18.9607\n"
     ]
    },
    {
     "name": "stderr",
     "output_type": "stream",
     "text": [
      "Epoch 2750/3000: 100%|██████████| 1/1 [00:00<00:00, 35.95it/s]\n",
      "Epoch 2751/3000: 100%|██████████| 1/1 [00:00<00:00, 37.26it/s]\n",
      "Validation: 100%|██████████| 1/1 [00:00<00:00, 52.35it/s]\n"
     ]
    },
    {
     "name": "stdout",
     "output_type": "stream",
     "text": [
      "Epoch: 2751, Train Loss: 16.4258, \n",
      "Validation Loss: 17.4898\n"
     ]
    },
    {
     "name": "stderr",
     "output_type": "stream",
     "text": [
      "Epoch 2752/3000: 100%|██████████| 1/1 [00:00<00:00, 38.99it/s]\n",
      "Epoch 2753/3000: 100%|██████████| 1/1 [00:00<00:00, 35.94it/s]\n",
      "Validation: 100%|██████████| 1/1 [00:00<00:00, 45.47it/s]\n"
     ]
    },
    {
     "name": "stdout",
     "output_type": "stream",
     "text": [
      "Epoch: 2753, Train Loss: 12.4794, \n",
      "Validation Loss: 16.5448\n"
     ]
    },
    {
     "name": "stderr",
     "output_type": "stream",
     "text": [
      "Epoch 2754/3000: 100%|██████████| 1/1 [00:00<00:00, 39.88it/s]\n",
      "Epoch 2755/3000: 100%|██████████| 1/1 [00:00<00:00, 39.22it/s]\n",
      "Validation: 100%|██████████| 1/1 [00:00<00:00, 49.98it/s]\n"
     ]
    },
    {
     "name": "stdout",
     "output_type": "stream",
     "text": [
      "Epoch: 2755, Train Loss: 8.5489, \n",
      "Validation Loss: 16.9224\n"
     ]
    },
    {
     "name": "stderr",
     "output_type": "stream",
     "text": [
      "Epoch 2756/3000: 100%|██████████| 1/1 [00:00<00:00, 37.24it/s]\n",
      "Epoch 2757/3000: 100%|██████████| 1/1 [00:00<00:00, 32.32it/s]\n",
      "Validation: 100%|██████████| 1/1 [00:00<00:00, 49.03it/s]\n"
     ]
    },
    {
     "name": "stdout",
     "output_type": "stream",
     "text": [
      "Epoch: 2757, Train Loss: 10.6051, \n",
      "Validation Loss: 19.7294\n"
     ]
    },
    {
     "name": "stderr",
     "output_type": "stream",
     "text": [
      "Epoch 2758/3000: 100%|██████████| 1/1 [00:00<00:00, 38.75it/s]\n",
      "Epoch 2759/3000: 100%|██████████| 1/1 [00:00<00:00, 36.17it/s]\n",
      "Validation: 100%|██████████| 1/1 [00:00<00:00, 49.77it/s]\n"
     ]
    },
    {
     "name": "stdout",
     "output_type": "stream",
     "text": [
      "Epoch: 2759, Train Loss: 13.0442, \n",
      "Validation Loss: 19.6386\n"
     ]
    },
    {
     "name": "stderr",
     "output_type": "stream",
     "text": [
      "Epoch 2760/3000: 100%|██████████| 1/1 [00:00<00:00, 40.67it/s]\n",
      "Epoch 2761/3000: 100%|██████████| 1/1 [00:00<00:00, 40.35it/s]\n",
      "Validation: 100%|██████████| 1/1 [00:00<00:00, 50.95it/s]\n"
     ]
    },
    {
     "name": "stdout",
     "output_type": "stream",
     "text": [
      "Epoch: 2761, Train Loss: 9.4400, \n",
      "Validation Loss: 15.0380\n"
     ]
    },
    {
     "name": "stderr",
     "output_type": "stream",
     "text": [
      "Epoch 2762/3000: 100%|██████████| 1/1 [00:00<00:00, 41.00it/s]\n",
      "Epoch 2763/3000: 100%|██████████| 1/1 [00:00<00:00, 39.15it/s]\n",
      "Validation: 100%|██████████| 1/1 [00:00<00:00, 47.14it/s]\n"
     ]
    },
    {
     "name": "stdout",
     "output_type": "stream",
     "text": [
      "Epoch: 2763, Train Loss: 15.8845, \n",
      "Validation Loss: 14.6536\n"
     ]
    },
    {
     "name": "stderr",
     "output_type": "stream",
     "text": [
      "Epoch 2764/3000: 100%|██████████| 1/1 [00:00<00:00, 34.93it/s]\n",
      "Epoch 2765/3000: 100%|██████████| 1/1 [00:00<00:00, 33.59it/s]\n",
      "Validation: 100%|██████████| 1/1 [00:00<00:00, 48.69it/s]\n"
     ]
    },
    {
     "name": "stdout",
     "output_type": "stream",
     "text": [
      "Epoch: 2765, Train Loss: 6.7811, \n",
      "Validation Loss: 19.9748\n"
     ]
    },
    {
     "name": "stderr",
     "output_type": "stream",
     "text": [
      "Epoch 2766/3000: 100%|██████████| 1/1 [00:00<00:00, 37.26it/s]\n",
      "Epoch 2767/3000: 100%|██████████| 1/1 [00:00<00:00, 31.42it/s]\n",
      "Validation: 100%|██████████| 1/1 [00:00<00:00, 43.12it/s]\n"
     ]
    },
    {
     "name": "stdout",
     "output_type": "stream",
     "text": [
      "Epoch: 2767, Train Loss: 8.8709, \n",
      "Validation Loss: 19.0899\n"
     ]
    },
    {
     "name": "stderr",
     "output_type": "stream",
     "text": [
      "Epoch 2768/3000: 100%|██████████| 1/1 [00:00<00:00, 38.96it/s]\n",
      "Epoch 2769/3000: 100%|██████████| 1/1 [00:00<00:00, 39.15it/s]\n",
      "Validation: 100%|██████████| 1/1 [00:00<00:00, 47.68it/s]\n"
     ]
    },
    {
     "name": "stdout",
     "output_type": "stream",
     "text": [
      "Epoch: 2769, Train Loss: 26.6770, \n",
      "Validation Loss: 20.4944\n"
     ]
    },
    {
     "name": "stderr",
     "output_type": "stream",
     "text": [
      "Epoch 2770/3000: 100%|██████████| 1/1 [00:00<00:00, 38.78it/s]\n",
      "Epoch 2771/3000: 100%|██████████| 1/1 [00:00<00:00, 36.73it/s]\n",
      "Validation: 100%|██████████| 1/1 [00:00<00:00, 47.40it/s]\n"
     ]
    },
    {
     "name": "stdout",
     "output_type": "stream",
     "text": [
      "Epoch: 2771, Train Loss: 13.0222, \n",
      "Validation Loss: 18.6591\n"
     ]
    },
    {
     "name": "stderr",
     "output_type": "stream",
     "text": [
      "Epoch 2772/3000: 100%|██████████| 1/1 [00:00<00:00, 36.62it/s]\n",
      "Epoch 2773/3000: 100%|██████████| 1/1 [00:00<00:00, 36.56it/s]\n",
      "Validation: 100%|██████████| 1/1 [00:00<00:00, 49.78it/s]\n"
     ]
    },
    {
     "name": "stdout",
     "output_type": "stream",
     "text": [
      "Epoch: 2773, Train Loss: 5.9147, \n",
      "Validation Loss: 16.3474\n"
     ]
    },
    {
     "name": "stderr",
     "output_type": "stream",
     "text": [
      "Epoch 2774/3000: 100%|██████████| 1/1 [00:00<00:00, 34.44it/s]\n",
      "Epoch 2775/3000: 100%|██████████| 1/1 [00:00<00:00, 36.12it/s]\n",
      "Validation: 100%|██████████| 1/1 [00:00<00:00, 49.43it/s]\n"
     ]
    },
    {
     "name": "stdout",
     "output_type": "stream",
     "text": [
      "Epoch: 2775, Train Loss: 14.7076, \n",
      "Validation Loss: 14.9258\n"
     ]
    },
    {
     "name": "stderr",
     "output_type": "stream",
     "text": [
      "Epoch 2776/3000: 100%|██████████| 1/1 [00:00<00:00, 39.49it/s]\n",
      "Epoch 2777/3000: 100%|██████████| 1/1 [00:00<00:00, 31.70it/s]\n",
      "Validation: 100%|██████████| 1/1 [00:00<00:00, 45.60it/s]\n"
     ]
    },
    {
     "name": "stdout",
     "output_type": "stream",
     "text": [
      "Epoch: 2777, Train Loss: 5.5994, \n",
      "Validation Loss: 17.6155\n"
     ]
    },
    {
     "name": "stderr",
     "output_type": "stream",
     "text": [
      "Epoch 2778/3000: 100%|██████████| 1/1 [00:00<00:00, 40.51it/s]\n",
      "Epoch 2779/3000: 100%|██████████| 1/1 [00:00<00:00, 40.19it/s]\n",
      "Validation: 100%|██████████| 1/1 [00:00<00:00, 49.43it/s]\n"
     ]
    },
    {
     "name": "stdout",
     "output_type": "stream",
     "text": [
      "Epoch: 2779, Train Loss: 17.3167, \n",
      "Validation Loss: 20.4599\n"
     ]
    },
    {
     "name": "stderr",
     "output_type": "stream",
     "text": [
      "Epoch 2780/3000: 100%|██████████| 1/1 [00:00<00:00, 39.57it/s]\n",
      "Epoch 2781/3000: 100%|██████████| 1/1 [00:00<00:00, 34.80it/s]\n",
      "Validation: 100%|██████████| 1/1 [00:00<00:00, 48.05it/s]\n"
     ]
    },
    {
     "name": "stdout",
     "output_type": "stream",
     "text": [
      "Epoch: 2781, Train Loss: 14.4186, \n",
      "Validation Loss: 22.8230\n"
     ]
    },
    {
     "name": "stderr",
     "output_type": "stream",
     "text": [
      "Epoch 2782/3000: 100%|██████████| 1/1 [00:00<00:00, 38.70it/s]\n",
      "Epoch 2783/3000: 100%|██████████| 1/1 [00:00<00:00, 38.13it/s]\n",
      "Validation: 100%|██████████| 1/1 [00:00<00:00, 50.40it/s]\n"
     ]
    },
    {
     "name": "stdout",
     "output_type": "stream",
     "text": [
      "Epoch: 2783, Train Loss: 10.9949, \n",
      "Validation Loss: 18.5067\n"
     ]
    },
    {
     "name": "stderr",
     "output_type": "stream",
     "text": [
      "Epoch 2784/3000: 100%|██████████| 1/1 [00:00<00:00, 40.18it/s]\n",
      "Epoch 2785/3000: 100%|██████████| 1/1 [00:00<00:00, 39.77it/s]\n",
      "Validation: 100%|██████████| 1/1 [00:00<00:00, 50.31it/s]\n"
     ]
    },
    {
     "name": "stdout",
     "output_type": "stream",
     "text": [
      "Epoch: 2785, Train Loss: 9.0544, \n",
      "Validation Loss: 17.0065\n"
     ]
    },
    {
     "name": "stderr",
     "output_type": "stream",
     "text": [
      "Epoch 2786/3000: 100%|██████████| 1/1 [00:00<00:00, 38.42it/s]\n",
      "Epoch 2787/3000: 100%|██████████| 1/1 [00:00<00:00, 38.25it/s]\n",
      "Validation: 100%|██████████| 1/1 [00:00<00:00, 49.05it/s]\n"
     ]
    },
    {
     "name": "stdout",
     "output_type": "stream",
     "text": [
      "Epoch: 2787, Train Loss: 20.0672, \n",
      "Validation Loss: 17.6864\n"
     ]
    },
    {
     "name": "stderr",
     "output_type": "stream",
     "text": [
      "Epoch 2788/3000: 100%|██████████| 1/1 [00:00<00:00, 39.20it/s]\n",
      "Epoch 2789/3000: 100%|██████████| 1/1 [00:00<00:00, 35.64it/s]\n",
      "Validation: 100%|██████████| 1/1 [00:00<00:00, 41.23it/s]\n"
     ]
    },
    {
     "name": "stdout",
     "output_type": "stream",
     "text": [
      "Epoch: 2789, Train Loss: 12.2989, \n",
      "Validation Loss: 25.7202\n"
     ]
    },
    {
     "name": "stderr",
     "output_type": "stream",
     "text": [
      "Epoch 2790/3000: 100%|██████████| 1/1 [00:00<00:00, 36.87it/s]\n",
      "Epoch 2791/3000: 100%|██████████| 1/1 [00:00<00:00, 35.86it/s]\n",
      "Validation: 100%|██████████| 1/1 [00:00<00:00, 47.51it/s]\n"
     ]
    },
    {
     "name": "stdout",
     "output_type": "stream",
     "text": [
      "Epoch: 2791, Train Loss: 15.9423, \n",
      "Validation Loss: 17.7393\n"
     ]
    },
    {
     "name": "stderr",
     "output_type": "stream",
     "text": [
      "Epoch 2792/3000: 100%|██████████| 1/1 [00:00<00:00, 36.90it/s]\n",
      "Epoch 2793/3000: 100%|██████████| 1/1 [00:00<00:00, 33.67it/s]\n",
      "Validation: 100%|██████████| 1/1 [00:00<00:00, 50.02it/s]\n"
     ]
    },
    {
     "name": "stdout",
     "output_type": "stream",
     "text": [
      "Epoch: 2793, Train Loss: 9.6438, \n",
      "Validation Loss: 17.3243\n"
     ]
    },
    {
     "name": "stderr",
     "output_type": "stream",
     "text": [
      "Epoch 2794/3000: 100%|██████████| 1/1 [00:00<00:00, 38.98it/s]\n",
      "Epoch 2795/3000: 100%|██████████| 1/1 [00:00<00:00, 39.31it/s]\n",
      "Validation: 100%|██████████| 1/1 [00:00<00:00, 51.87it/s]\n"
     ]
    },
    {
     "name": "stdout",
     "output_type": "stream",
     "text": [
      "Epoch: 2795, Train Loss: 9.3405, \n",
      "Validation Loss: 20.2189\n"
     ]
    },
    {
     "name": "stderr",
     "output_type": "stream",
     "text": [
      "Epoch 2796/3000: 100%|██████████| 1/1 [00:00<00:00, 37.85it/s]\n",
      "Epoch 2797/3000: 100%|██████████| 1/1 [00:00<00:00, 39.81it/s]\n",
      "Validation: 100%|██████████| 1/1 [00:00<00:00, 51.57it/s]\n"
     ]
    },
    {
     "name": "stdout",
     "output_type": "stream",
     "text": [
      "Epoch: 2797, Train Loss: 7.9565, \n",
      "Validation Loss: 18.9426\n"
     ]
    },
    {
     "name": "stderr",
     "output_type": "stream",
     "text": [
      "Epoch 2798/3000: 100%|██████████| 1/1 [00:00<00:00, 39.09it/s]\n",
      "Epoch 2799/3000: 100%|██████████| 1/1 [00:00<00:00, 35.37it/s]\n",
      "Validation: 100%|██████████| 1/1 [00:00<00:00, 45.76it/s]\n"
     ]
    },
    {
     "name": "stdout",
     "output_type": "stream",
     "text": [
      "Epoch: 2799, Train Loss: 18.9327, \n",
      "Validation Loss: 18.4423\n"
     ]
    },
    {
     "name": "stderr",
     "output_type": "stream",
     "text": [
      "Epoch 2800/3000: 100%|██████████| 1/1 [00:00<00:00, 32.89it/s]\n",
      "Epoch 2801/3000: 100%|██████████| 1/1 [00:00<00:00, 36.25it/s]\n",
      "Validation: 100%|██████████| 1/1 [00:00<00:00, 51.25it/s]\n"
     ]
    },
    {
     "name": "stdout",
     "output_type": "stream",
     "text": [
      "Epoch: 2801, Train Loss: 14.6041, \n",
      "Validation Loss: 18.0268\n"
     ]
    },
    {
     "name": "stderr",
     "output_type": "stream",
     "text": [
      "Epoch 2802/3000: 100%|██████████| 1/1 [00:00<00:00, 35.43it/s]\n",
      "Epoch 2803/3000: 100%|██████████| 1/1 [00:00<00:00, 36.95it/s]\n",
      "Validation: 100%|██████████| 1/1 [00:00<00:00, 51.06it/s]\n"
     ]
    },
    {
     "name": "stdout",
     "output_type": "stream",
     "text": [
      "Epoch: 2803, Train Loss: 12.2066, \n",
      "Validation Loss: 19.3389\n"
     ]
    },
    {
     "name": "stderr",
     "output_type": "stream",
     "text": [
      "Epoch 2804/3000: 100%|██████████| 1/1 [00:00<00:00, 38.47it/s]\n",
      "Epoch 2805/3000: 100%|██████████| 1/1 [00:00<00:00, 40.43it/s]\n",
      "Validation: 100%|██████████| 1/1 [00:00<00:00, 48.63it/s]\n"
     ]
    },
    {
     "name": "stdout",
     "output_type": "stream",
     "text": [
      "Epoch: 2805, Train Loss: 11.4357, \n",
      "Validation Loss: 17.6640\n"
     ]
    },
    {
     "name": "stderr",
     "output_type": "stream",
     "text": [
      "Epoch 2806/3000: 100%|██████████| 1/1 [00:00<00:00, 38.88it/s]\n",
      "Epoch 2807/3000: 100%|██████████| 1/1 [00:00<00:00, 36.90it/s]\n",
      "Validation: 100%|██████████| 1/1 [00:00<00:00, 50.54it/s]\n"
     ]
    },
    {
     "name": "stdout",
     "output_type": "stream",
     "text": [
      "Epoch: 2807, Train Loss: 7.5197, \n",
      "Validation Loss: 17.0470\n"
     ]
    },
    {
     "name": "stderr",
     "output_type": "stream",
     "text": [
      "Epoch 2808/3000: 100%|██████████| 1/1 [00:00<00:00, 40.33it/s]\n",
      "Epoch 2809/3000: 100%|██████████| 1/1 [00:00<00:00, 37.32it/s]\n",
      "Validation: 100%|██████████| 1/1 [00:00<00:00, 52.03it/s]\n"
     ]
    },
    {
     "name": "stdout",
     "output_type": "stream",
     "text": [
      "Epoch: 2809, Train Loss: 15.3513, \n",
      "Validation Loss: 20.9667\n"
     ]
    },
    {
     "name": "stderr",
     "output_type": "stream",
     "text": [
      "Epoch 2810/3000: 100%|██████████| 1/1 [00:00<00:00, 38.14it/s]\n",
      "Epoch 2811/3000: 100%|██████████| 1/1 [00:00<00:00, 36.99it/s]\n",
      "Validation: 100%|██████████| 1/1 [00:00<00:00, 46.19it/s]\n"
     ]
    },
    {
     "name": "stdout",
     "output_type": "stream",
     "text": [
      "Epoch: 2811, Train Loss: 5.8927, \n",
      "Validation Loss: 16.1685\n"
     ]
    },
    {
     "name": "stderr",
     "output_type": "stream",
     "text": [
      "Epoch 2812/3000: 100%|██████████| 1/1 [00:00<00:00, 38.97it/s]\n",
      "Epoch 2813/3000: 100%|██████████| 1/1 [00:00<00:00, 37.33it/s]\n",
      "Validation: 100%|██████████| 1/1 [00:00<00:00, 51.73it/s]\n"
     ]
    },
    {
     "name": "stdout",
     "output_type": "stream",
     "text": [
      "Epoch: 2813, Train Loss: 11.3754, \n",
      "Validation Loss: 15.7329\n"
     ]
    },
    {
     "name": "stderr",
     "output_type": "stream",
     "text": [
      "Epoch 2814/3000: 100%|██████████| 1/1 [00:00<00:00, 40.10it/s]\n",
      "Epoch 2815/3000: 100%|██████████| 1/1 [00:00<00:00, 36.60it/s]\n",
      "Validation: 100%|██████████| 1/1 [00:00<00:00, 49.77it/s]\n"
     ]
    },
    {
     "name": "stdout",
     "output_type": "stream",
     "text": [
      "Epoch: 2815, Train Loss: 7.8516, \n",
      "Validation Loss: 19.5530\n"
     ]
    },
    {
     "name": "stderr",
     "output_type": "stream",
     "text": [
      "Epoch 2816/3000: 100%|██████████| 1/1 [00:00<00:00, 39.64it/s]\n",
      "Epoch 2817/3000: 100%|██████████| 1/1 [00:00<00:00, 40.69it/s]\n",
      "Validation: 100%|██████████| 1/1 [00:00<00:00, 50.34it/s]\n"
     ]
    },
    {
     "name": "stdout",
     "output_type": "stream",
     "text": [
      "Epoch: 2817, Train Loss: 14.5511, \n",
      "Validation Loss: 19.2877\n"
     ]
    },
    {
     "name": "stderr",
     "output_type": "stream",
     "text": [
      "Epoch 2818/3000: 100%|██████████| 1/1 [00:00<00:00, 39.53it/s]\n",
      "Epoch 2819/3000: 100%|██████████| 1/1 [00:00<00:00, 35.54it/s]\n",
      "Validation: 100%|██████████| 1/1 [00:00<00:00, 49.91it/s]\n"
     ]
    },
    {
     "name": "stdout",
     "output_type": "stream",
     "text": [
      "Epoch: 2819, Train Loss: 19.1743, \n",
      "Validation Loss: 21.2131\n"
     ]
    },
    {
     "name": "stderr",
     "output_type": "stream",
     "text": [
      "Epoch 2820/3000: 100%|██████████| 1/1 [00:00<00:00, 36.42it/s]\n",
      "Epoch 2821/3000: 100%|██████████| 1/1 [00:00<00:00, 36.97it/s]\n",
      "Validation: 100%|██████████| 1/1 [00:00<00:00, 36.85it/s]\n"
     ]
    },
    {
     "name": "stdout",
     "output_type": "stream",
     "text": [
      "Epoch: 2821, Train Loss: 9.7558, \n",
      "Validation Loss: 18.8632\n"
     ]
    },
    {
     "name": "stderr",
     "output_type": "stream",
     "text": [
      "Epoch 2822/3000: 100%|██████████| 1/1 [00:00<00:00, 40.06it/s]\n",
      "Epoch 2823/3000: 100%|██████████| 1/1 [00:00<00:00, 35.46it/s]\n",
      "Validation: 100%|██████████| 1/1 [00:00<00:00, 47.50it/s]\n"
     ]
    },
    {
     "name": "stdout",
     "output_type": "stream",
     "text": [
      "Epoch: 2823, Train Loss: 16.4273, \n",
      "Validation Loss: 18.9576\n"
     ]
    },
    {
     "name": "stderr",
     "output_type": "stream",
     "text": [
      "Epoch 2824/3000: 100%|██████████| 1/1 [00:00<00:00, 38.81it/s]\n",
      "Epoch 2825/3000: 100%|██████████| 1/1 [00:00<00:00, 38.98it/s]\n",
      "Validation: 100%|██████████| 1/1 [00:00<00:00, 50.22it/s]\n"
     ]
    },
    {
     "name": "stdout",
     "output_type": "stream",
     "text": [
      "Epoch: 2825, Train Loss: 10.2702, \n",
      "Validation Loss: 16.9102\n"
     ]
    },
    {
     "name": "stderr",
     "output_type": "stream",
     "text": [
      "Epoch 2826/3000: 100%|██████████| 1/1 [00:00<00:00, 36.22it/s]\n",
      "Epoch 2827/3000: 100%|██████████| 1/1 [00:00<00:00, 37.10it/s]\n",
      "Validation: 100%|██████████| 1/1 [00:00<00:00, 48.84it/s]\n"
     ]
    },
    {
     "name": "stdout",
     "output_type": "stream",
     "text": [
      "Epoch: 2827, Train Loss: 15.6528, \n",
      "Validation Loss: 19.8350\n"
     ]
    },
    {
     "name": "stderr",
     "output_type": "stream",
     "text": [
      "Epoch 2828/3000: 100%|██████████| 1/1 [00:00<00:00, 36.16it/s]\n",
      "Epoch 2829/3000: 100%|██████████| 1/1 [00:00<00:00, 35.72it/s]\n",
      "Validation: 100%|██████████| 1/1 [00:00<00:00, 42.41it/s]\n"
     ]
    },
    {
     "name": "stdout",
     "output_type": "stream",
     "text": [
      "Epoch: 2829, Train Loss: 9.2229, \n",
      "Validation Loss: 18.7676\n"
     ]
    },
    {
     "name": "stderr",
     "output_type": "stream",
     "text": [
      "Epoch 2830/3000: 100%|██████████| 1/1 [00:00<00:00, 39.76it/s]\n",
      "Epoch 2831/3000: 100%|██████████| 1/1 [00:00<00:00, 35.84it/s]\n",
      "Validation: 100%|██████████| 1/1 [00:00<00:00, 50.38it/s]\n"
     ]
    },
    {
     "name": "stdout",
     "output_type": "stream",
     "text": [
      "Epoch: 2831, Train Loss: 14.2616, \n",
      "Validation Loss: 19.2969\n"
     ]
    },
    {
     "name": "stderr",
     "output_type": "stream",
     "text": [
      "Epoch 2832/3000: 100%|██████████| 1/1 [00:00<00:00, 33.13it/s]\n",
      "Epoch 2833/3000: 100%|██████████| 1/1 [00:00<00:00, 33.64it/s]\n",
      "Validation: 100%|██████████| 1/1 [00:00<00:00, 45.15it/s]\n"
     ]
    },
    {
     "name": "stdout",
     "output_type": "stream",
     "text": [
      "Epoch: 2833, Train Loss: 10.8532, \n",
      "Validation Loss: 19.0655\n"
     ]
    },
    {
     "name": "stderr",
     "output_type": "stream",
     "text": [
      "Epoch 2834/3000: 100%|██████████| 1/1 [00:00<00:00, 39.19it/s]\n",
      "Epoch 2835/3000: 100%|██████████| 1/1 [00:00<00:00, 35.38it/s]\n",
      "Validation: 100%|██████████| 1/1 [00:00<00:00, 51.34it/s]\n"
     ]
    },
    {
     "name": "stdout",
     "output_type": "stream",
     "text": [
      "Epoch: 2835, Train Loss: 13.8283, \n",
      "Validation Loss: 18.6755\n"
     ]
    },
    {
     "name": "stderr",
     "output_type": "stream",
     "text": [
      "Epoch 2836/3000: 100%|██████████| 1/1 [00:00<00:00, 37.07it/s]\n",
      "Epoch 2837/3000: 100%|██████████| 1/1 [00:00<00:00, 38.58it/s]\n",
      "Validation: 100%|██████████| 1/1 [00:00<00:00, 51.28it/s]\n"
     ]
    },
    {
     "name": "stdout",
     "output_type": "stream",
     "text": [
      "Epoch: 2837, Train Loss: 18.6839, \n",
      "Validation Loss: 19.0477\n"
     ]
    },
    {
     "name": "stderr",
     "output_type": "stream",
     "text": [
      "Epoch 2838/3000: 100%|██████████| 1/1 [00:00<00:00, 36.97it/s]\n",
      "Epoch 2839/3000: 100%|██████████| 1/1 [00:00<00:00, 34.32it/s]\n",
      "Validation: 100%|██████████| 1/1 [00:00<00:00, 51.26it/s]\n"
     ]
    },
    {
     "name": "stdout",
     "output_type": "stream",
     "text": [
      "Epoch: 2839, Train Loss: 8.9762, \n",
      "Validation Loss: 17.1696\n"
     ]
    },
    {
     "name": "stderr",
     "output_type": "stream",
     "text": [
      "Epoch 2840/3000: 100%|██████████| 1/1 [00:00<00:00, 35.52it/s]\n",
      "Epoch 2841/3000: 100%|██████████| 1/1 [00:00<00:00, 35.05it/s]\n",
      "Validation: 100%|██████████| 1/1 [00:00<00:00, 45.85it/s]\n"
     ]
    },
    {
     "name": "stdout",
     "output_type": "stream",
     "text": [
      "Epoch: 2841, Train Loss: 9.2208, \n",
      "Validation Loss: 19.7205\n"
     ]
    },
    {
     "name": "stderr",
     "output_type": "stream",
     "text": [
      "Epoch 2842/3000: 100%|██████████| 1/1 [00:00<00:00, 35.13it/s]\n",
      "Epoch 2843/3000: 100%|██████████| 1/1 [00:00<00:00, 39.51it/s]\n",
      "Validation: 100%|██████████| 1/1 [00:00<00:00, 43.49it/s]\n"
     ]
    },
    {
     "name": "stdout",
     "output_type": "stream",
     "text": [
      "Epoch: 2843, Train Loss: 22.0181, \n",
      "Validation Loss: 17.0599\n"
     ]
    },
    {
     "name": "stderr",
     "output_type": "stream",
     "text": [
      "Epoch 2844/3000: 100%|██████████| 1/1 [00:00<00:00, 36.48it/s]\n",
      "Epoch 2845/3000: 100%|██████████| 1/1 [00:00<00:00, 30.92it/s]\n",
      "Validation: 100%|██████████| 1/1 [00:00<00:00, 47.23it/s]\n"
     ]
    },
    {
     "name": "stdout",
     "output_type": "stream",
     "text": [
      "Epoch: 2845, Train Loss: 14.5028, \n",
      "Validation Loss: 17.5272\n"
     ]
    },
    {
     "name": "stderr",
     "output_type": "stream",
     "text": [
      "Epoch 2846/3000: 100%|██████████| 1/1 [00:00<00:00, 38.08it/s]\n",
      "Epoch 2847/3000: 100%|██████████| 1/1 [00:00<00:00, 33.62it/s]\n",
      "Validation: 100%|██████████| 1/1 [00:00<00:00, 48.33it/s]\n"
     ]
    },
    {
     "name": "stdout",
     "output_type": "stream",
     "text": [
      "Epoch: 2847, Train Loss: 11.9795, \n",
      "Validation Loss: 17.9883\n"
     ]
    },
    {
     "name": "stderr",
     "output_type": "stream",
     "text": [
      "Epoch 2848/3000: 100%|██████████| 1/1 [00:00<00:00, 35.16it/s]\n",
      "Epoch 2849/3000: 100%|██████████| 1/1 [00:00<00:00, 35.75it/s]\n",
      "Validation: 100%|██████████| 1/1 [00:00<00:00, 45.21it/s]\n"
     ]
    },
    {
     "name": "stdout",
     "output_type": "stream",
     "text": [
      "Epoch: 2849, Train Loss: 18.2687, \n",
      "Validation Loss: 23.4182\n"
     ]
    },
    {
     "name": "stderr",
     "output_type": "stream",
     "text": [
      "Epoch 2850/3000: 100%|██████████| 1/1 [00:00<00:00, 38.07it/s]\n",
      "Epoch 2851/3000: 100%|██████████| 1/1 [00:00<00:00, 40.74it/s]\n",
      "Validation: 100%|██████████| 1/1 [00:00<00:00, 51.87it/s]\n"
     ]
    },
    {
     "name": "stdout",
     "output_type": "stream",
     "text": [
      "Epoch: 2851, Train Loss: 20.1112, \n",
      "Validation Loss: 18.5924\n"
     ]
    },
    {
     "name": "stderr",
     "output_type": "stream",
     "text": [
      "Epoch 2852/3000: 100%|██████████| 1/1 [00:00<00:00, 40.51it/s]\n",
      "Epoch 2853/3000: 100%|██████████| 1/1 [00:00<00:00, 39.91it/s]\n",
      "Validation: 100%|██████████| 1/1 [00:00<00:00, 51.02it/s]\n"
     ]
    },
    {
     "name": "stdout",
     "output_type": "stream",
     "text": [
      "Epoch: 2853, Train Loss: 11.1818, \n",
      "Validation Loss: 20.5074\n"
     ]
    },
    {
     "name": "stderr",
     "output_type": "stream",
     "text": [
      "Epoch 2854/3000: 100%|██████████| 1/1 [00:00<00:00, 37.11it/s]\n",
      "Epoch 2855/3000: 100%|██████████| 1/1 [00:00<00:00, 37.26it/s]\n",
      "Validation: 100%|██████████| 1/1 [00:00<00:00, 49.42it/s]\n"
     ]
    },
    {
     "name": "stdout",
     "output_type": "stream",
     "text": [
      "Epoch: 2855, Train Loss: 23.2313, \n",
      "Validation Loss: 18.1428\n"
     ]
    },
    {
     "name": "stderr",
     "output_type": "stream",
     "text": [
      "Epoch 2856/3000: 100%|██████████| 1/1 [00:00<00:00, 37.45it/s]\n",
      "Epoch 2857/3000: 100%|██████████| 1/1 [00:00<00:00, 33.69it/s]\n",
      "Validation: 100%|██████████| 1/1 [00:00<00:00, 44.08it/s]\n"
     ]
    },
    {
     "name": "stdout",
     "output_type": "stream",
     "text": [
      "Epoch: 2857, Train Loss: 7.5776, \n",
      "Validation Loss: 16.7689\n"
     ]
    },
    {
     "name": "stderr",
     "output_type": "stream",
     "text": [
      "Epoch 2858/3000: 100%|██████████| 1/1 [00:00<00:00, 35.78it/s]\n",
      "Epoch 2859/3000: 100%|██████████| 1/1 [00:00<00:00, 36.51it/s]\n",
      "Validation: 100%|██████████| 1/1 [00:00<00:00, 45.45it/s]\n"
     ]
    },
    {
     "name": "stdout",
     "output_type": "stream",
     "text": [
      "Epoch: 2859, Train Loss: 20.7524, \n",
      "Validation Loss: 22.6744\n"
     ]
    },
    {
     "name": "stderr",
     "output_type": "stream",
     "text": [
      "Epoch 2860/3000: 100%|██████████| 1/1 [00:00<00:00, 40.46it/s]\n",
      "Epoch 2861/3000: 100%|██████████| 1/1 [00:00<00:00, 38.26it/s]\n",
      "Validation: 100%|██████████| 1/1 [00:00<00:00, 48.96it/s]\n"
     ]
    },
    {
     "name": "stdout",
     "output_type": "stream",
     "text": [
      "Epoch: 2861, Train Loss: 19.0680, \n",
      "Validation Loss: 19.1248\n"
     ]
    },
    {
     "name": "stderr",
     "output_type": "stream",
     "text": [
      "Epoch 2862/3000: 100%|██████████| 1/1 [00:00<00:00, 35.11it/s]\n",
      "Epoch 2863/3000: 100%|██████████| 1/1 [00:00<00:00, 34.49it/s]\n",
      "Validation: 100%|██████████| 1/1 [00:00<00:00, 49.63it/s]\n"
     ]
    },
    {
     "name": "stdout",
     "output_type": "stream",
     "text": [
      "Epoch: 2863, Train Loss: 6.3447, \n",
      "Validation Loss: 17.6688\n"
     ]
    },
    {
     "name": "stderr",
     "output_type": "stream",
     "text": [
      "Epoch 2864/3000: 100%|██████████| 1/1 [00:00<00:00, 37.65it/s]\n",
      "Epoch 2865/3000: 100%|██████████| 1/1 [00:00<00:00, 35.99it/s]\n",
      "Validation: 100%|██████████| 1/1 [00:00<00:00, 52.62it/s]\n"
     ]
    },
    {
     "name": "stdout",
     "output_type": "stream",
     "text": [
      "Epoch: 2865, Train Loss: 10.3386, \n",
      "Validation Loss: 17.7121\n"
     ]
    },
    {
     "name": "stderr",
     "output_type": "stream",
     "text": [
      "Epoch 2866/3000: 100%|██████████| 1/1 [00:00<00:00, 36.90it/s]\n",
      "Epoch 2867/3000: 100%|██████████| 1/1 [00:00<00:00, 31.86it/s]\n",
      "Validation: 100%|██████████| 1/1 [00:00<00:00, 52.61it/s]\n"
     ]
    },
    {
     "name": "stdout",
     "output_type": "stream",
     "text": [
      "Epoch: 2867, Train Loss: 16.7390, \n",
      "Validation Loss: 18.0357\n"
     ]
    },
    {
     "name": "stderr",
     "output_type": "stream",
     "text": [
      "Epoch 2868/3000: 100%|██████████| 1/1 [00:00<00:00, 34.75it/s]\n",
      "Epoch 2869/3000: 100%|██████████| 1/1 [00:00<00:00, 38.94it/s]\n",
      "Validation: 100%|██████████| 1/1 [00:00<00:00, 50.18it/s]\n"
     ]
    },
    {
     "name": "stdout",
     "output_type": "stream",
     "text": [
      "Epoch: 2869, Train Loss: 26.4192, \n",
      "Validation Loss: 20.3851\n"
     ]
    },
    {
     "name": "stderr",
     "output_type": "stream",
     "text": [
      "Epoch 2870/3000: 100%|██████████| 1/1 [00:00<00:00, 36.54it/s]\n",
      "Epoch 2871/3000: 100%|██████████| 1/1 [00:00<00:00, 37.77it/s]\n",
      "Validation: 100%|██████████| 1/1 [00:00<00:00, 49.15it/s]\n"
     ]
    },
    {
     "name": "stdout",
     "output_type": "stream",
     "text": [
      "Epoch: 2871, Train Loss: 7.0453, \n",
      "Validation Loss: 17.7815\n"
     ]
    },
    {
     "name": "stderr",
     "output_type": "stream",
     "text": [
      "Epoch 2872/3000: 100%|██████████| 1/1 [00:00<00:00, 39.40it/s]\n",
      "Epoch 2873/3000: 100%|██████████| 1/1 [00:00<00:00, 39.39it/s]\n",
      "Validation: 100%|██████████| 1/1 [00:00<00:00, 48.04it/s]\n"
     ]
    },
    {
     "name": "stdout",
     "output_type": "stream",
     "text": [
      "Epoch: 2873, Train Loss: 15.2279, \n",
      "Validation Loss: 17.3773\n"
     ]
    },
    {
     "name": "stderr",
     "output_type": "stream",
     "text": [
      "Epoch 2874/3000: 100%|██████████| 1/1 [00:00<00:00, 38.61it/s]\n",
      "Epoch 2875/3000: 100%|██████████| 1/1 [00:00<00:00, 36.17it/s]\n",
      "Validation: 100%|██████████| 1/1 [00:00<00:00, 50.76it/s]\n"
     ]
    },
    {
     "name": "stdout",
     "output_type": "stream",
     "text": [
      "Epoch: 2875, Train Loss: 7.3573, \n",
      "Validation Loss: 17.1109\n"
     ]
    },
    {
     "name": "stderr",
     "output_type": "stream",
     "text": [
      "Epoch 2876/3000: 100%|██████████| 1/1 [00:00<00:00, 34.73it/s]\n",
      "Epoch 2877/3000: 100%|██████████| 1/1 [00:00<00:00, 32.23it/s]\n",
      "Validation: 100%|██████████| 1/1 [00:00<00:00, 40.83it/s]\n"
     ]
    },
    {
     "name": "stdout",
     "output_type": "stream",
     "text": [
      "Epoch: 2877, Train Loss: 12.0905, \n",
      "Validation Loss: 16.8903\n"
     ]
    },
    {
     "name": "stderr",
     "output_type": "stream",
     "text": [
      "Epoch 2878/3000: 100%|██████████| 1/1 [00:00<00:00, 39.16it/s]\n",
      "Epoch 2879/3000: 100%|██████████| 1/1 [00:00<00:00, 40.25it/s]\n",
      "Validation: 100%|██████████| 1/1 [00:00<00:00, 50.75it/s]\n"
     ]
    },
    {
     "name": "stdout",
     "output_type": "stream",
     "text": [
      "Epoch: 2879, Train Loss: 4.3402, \n",
      "Validation Loss: 16.1857\n"
     ]
    },
    {
     "name": "stderr",
     "output_type": "stream",
     "text": [
      "Epoch 2880/3000: 100%|██████████| 1/1 [00:00<00:00, 37.11it/s]\n",
      "Epoch 2881/3000: 100%|██████████| 1/1 [00:00<00:00, 41.00it/s]\n",
      "Validation: 100%|██████████| 1/1 [00:00<00:00, 49.64it/s]\n"
     ]
    },
    {
     "name": "stdout",
     "output_type": "stream",
     "text": [
      "Epoch: 2881, Train Loss: 14.4990, \n",
      "Validation Loss: 21.4208\n"
     ]
    },
    {
     "name": "stderr",
     "output_type": "stream",
     "text": [
      "Epoch 2882/3000: 100%|██████████| 1/1 [00:00<00:00, 38.34it/s]\n",
      "Epoch 2883/3000: 100%|██████████| 1/1 [00:00<00:00, 36.03it/s]\n",
      "Validation: 100%|██████████| 1/1 [00:00<00:00, 48.61it/s]\n"
     ]
    },
    {
     "name": "stdout",
     "output_type": "stream",
     "text": [
      "Epoch: 2883, Train Loss: 7.7698, \n",
      "Validation Loss: 18.1352\n"
     ]
    },
    {
     "name": "stderr",
     "output_type": "stream",
     "text": [
      "Epoch 2884/3000: 100%|██████████| 1/1 [00:00<00:00, 38.92it/s]\n",
      "Epoch 2885/3000: 100%|██████████| 1/1 [00:00<00:00, 39.11it/s]\n",
      "Validation: 100%|██████████| 1/1 [00:00<00:00, 51.39it/s]\n"
     ]
    },
    {
     "name": "stdout",
     "output_type": "stream",
     "text": [
      "Epoch: 2885, Train Loss: 12.3196, \n",
      "Validation Loss: 17.9431\n"
     ]
    },
    {
     "name": "stderr",
     "output_type": "stream",
     "text": [
      "Epoch 2886/3000: 100%|██████████| 1/1 [00:00<00:00, 34.46it/s]\n",
      "Epoch 2887/3000: 100%|██████████| 1/1 [00:00<00:00, 32.48it/s]\n",
      "Validation: 100%|██████████| 1/1 [00:00<00:00, 50.60it/s]\n"
     ]
    },
    {
     "name": "stdout",
     "output_type": "stream",
     "text": [
      "Epoch: 2887, Train Loss: 10.0765, \n",
      "Validation Loss: 20.2456\n"
     ]
    },
    {
     "name": "stderr",
     "output_type": "stream",
     "text": [
      "Epoch 2888/3000: 100%|██████████| 1/1 [00:00<00:00, 37.08it/s]\n",
      "Epoch 2889/3000: 100%|██████████| 1/1 [00:00<00:00, 38.49it/s]\n",
      "Validation: 100%|██████████| 1/1 [00:00<00:00, 48.12it/s]\n"
     ]
    },
    {
     "name": "stdout",
     "output_type": "stream",
     "text": [
      "Epoch: 2889, Train Loss: 11.5711, \n",
      "Validation Loss: 17.2424\n"
     ]
    },
    {
     "name": "stderr",
     "output_type": "stream",
     "text": [
      "Epoch 2890/3000: 100%|██████████| 1/1 [00:00<00:00, 30.10it/s]\n",
      "Epoch 2891/3000: 100%|██████████| 1/1 [00:00<00:00, 40.63it/s]\n",
      "Validation: 100%|██████████| 1/1 [00:00<00:00, 48.35it/s]\n"
     ]
    },
    {
     "name": "stdout",
     "output_type": "stream",
     "text": [
      "Epoch: 2891, Train Loss: 8.1692, \n",
      "Validation Loss: 16.6280\n"
     ]
    },
    {
     "name": "stderr",
     "output_type": "stream",
     "text": [
      "Epoch 2892/3000: 100%|██████████| 1/1 [00:00<00:00, 39.35it/s]\n",
      "Epoch 2893/3000: 100%|██████████| 1/1 [00:00<00:00, 37.73it/s]\n",
      "Validation: 100%|██████████| 1/1 [00:00<00:00, 48.54it/s]\n"
     ]
    },
    {
     "name": "stdout",
     "output_type": "stream",
     "text": [
      "Epoch: 2893, Train Loss: 17.5560, \n",
      "Validation Loss: 15.7085\n"
     ]
    },
    {
     "name": "stderr",
     "output_type": "stream",
     "text": [
      "Epoch 2894/3000: 100%|██████████| 1/1 [00:00<00:00, 37.76it/s]\n",
      "Epoch 2895/3000: 100%|██████████| 1/1 [00:00<00:00, 38.13it/s]\n",
      "Validation: 100%|██████████| 1/1 [00:00<00:00, 49.76it/s]\n"
     ]
    },
    {
     "name": "stdout",
     "output_type": "stream",
     "text": [
      "Epoch: 2895, Train Loss: 11.7774, \n",
      "Validation Loss: 19.0904\n"
     ]
    },
    {
     "name": "stderr",
     "output_type": "stream",
     "text": [
      "Epoch 2896/3000: 100%|██████████| 1/1 [00:00<00:00, 39.16it/s]\n",
      "Epoch 2897/3000: 100%|██████████| 1/1 [00:00<00:00, 36.29it/s]\n",
      "Validation: 100%|██████████| 1/1 [00:00<00:00, 47.59it/s]\n"
     ]
    },
    {
     "name": "stdout",
     "output_type": "stream",
     "text": [
      "Epoch: 2897, Train Loss: 7.6434, \n",
      "Validation Loss: 18.5324\n"
     ]
    },
    {
     "name": "stderr",
     "output_type": "stream",
     "text": [
      "Epoch 2898/3000: 100%|██████████| 1/1 [00:00<00:00, 37.47it/s]\n",
      "Epoch 2899/3000: 100%|██████████| 1/1 [00:00<00:00, 37.84it/s]\n",
      "Validation: 100%|██████████| 1/1 [00:00<00:00, 49.73it/s]\n"
     ]
    },
    {
     "name": "stdout",
     "output_type": "stream",
     "text": [
      "Epoch: 2899, Train Loss: 7.7611, \n",
      "Validation Loss: 18.0267\n"
     ]
    },
    {
     "name": "stderr",
     "output_type": "stream",
     "text": [
      "Epoch 2900/3000: 100%|██████████| 1/1 [00:00<00:00, 36.67it/s]\n",
      "Epoch 2901/3000: 100%|██████████| 1/1 [00:00<00:00, 36.83it/s]\n",
      "Validation: 100%|██████████| 1/1 [00:00<00:00, 51.26it/s]\n"
     ]
    },
    {
     "name": "stdout",
     "output_type": "stream",
     "text": [
      "Epoch: 2901, Train Loss: 20.7830, \n",
      "Validation Loss: 18.3622\n"
     ]
    },
    {
     "name": "stderr",
     "output_type": "stream",
     "text": [
      "Epoch 2902/3000: 100%|██████████| 1/1 [00:00<00:00, 40.34it/s]\n",
      "Epoch 2903/3000: 100%|██████████| 1/1 [00:00<00:00, 37.11it/s]\n",
      "Validation: 100%|██████████| 1/1 [00:00<00:00, 43.77it/s]\n"
     ]
    },
    {
     "name": "stdout",
     "output_type": "stream",
     "text": [
      "Epoch: 2903, Train Loss: 7.7813, \n",
      "Validation Loss: 17.1736\n"
     ]
    },
    {
     "name": "stderr",
     "output_type": "stream",
     "text": [
      "Epoch 2904/3000: 100%|██████████| 1/1 [00:00<00:00, 39.77it/s]\n",
      "Epoch 2905/3000: 100%|██████████| 1/1 [00:00<00:00, 36.48it/s]\n",
      "Validation: 100%|██████████| 1/1 [00:00<00:00, 52.15it/s]\n"
     ]
    },
    {
     "name": "stdout",
     "output_type": "stream",
     "text": [
      "Epoch: 2905, Train Loss: 10.0644, \n",
      "Validation Loss: 16.8607\n"
     ]
    },
    {
     "name": "stderr",
     "output_type": "stream",
     "text": [
      "Epoch 2906/3000: 100%|██████████| 1/1 [00:00<00:00, 36.47it/s]\n",
      "Epoch 2907/3000: 100%|██████████| 1/1 [00:00<00:00, 35.74it/s]\n",
      "Validation: 100%|██████████| 1/1 [00:00<00:00, 50.61it/s]\n"
     ]
    },
    {
     "name": "stdout",
     "output_type": "stream",
     "text": [
      "Epoch: 2907, Train Loss: 3.7017, \n",
      "Validation Loss: 18.5880\n"
     ]
    },
    {
     "name": "stderr",
     "output_type": "stream",
     "text": [
      "Epoch 2908/3000: 100%|██████████| 1/1 [00:00<00:00, 34.15it/s]\n",
      "Epoch 2909/3000: 100%|██████████| 1/1 [00:00<00:00, 31.67it/s]\n",
      "Validation: 100%|██████████| 1/1 [00:00<00:00, 47.32it/s]\n"
     ]
    },
    {
     "name": "stdout",
     "output_type": "stream",
     "text": [
      "Epoch: 2909, Train Loss: 20.6942, \n",
      "Validation Loss: 21.4843\n"
     ]
    },
    {
     "name": "stderr",
     "output_type": "stream",
     "text": [
      "Epoch 2910/3000: 100%|██████████| 1/1 [00:00<00:00, 34.87it/s]\n",
      "Epoch 2911/3000: 100%|██████████| 1/1 [00:00<00:00, 35.67it/s]\n",
      "Validation: 100%|██████████| 1/1 [00:00<00:00, 50.75it/s]\n"
     ]
    },
    {
     "name": "stdout",
     "output_type": "stream",
     "text": [
      "Epoch: 2911, Train Loss: 11.8203, \n",
      "Validation Loss: 18.0819\n"
     ]
    },
    {
     "name": "stderr",
     "output_type": "stream",
     "text": [
      "Epoch 2912/3000: 100%|██████████| 1/1 [00:00<00:00, 38.35it/s]\n",
      "Epoch 2913/3000: 100%|██████████| 1/1 [00:00<00:00, 35.25it/s]\n",
      "Validation: 100%|██████████| 1/1 [00:00<00:00, 49.42it/s]\n"
     ]
    },
    {
     "name": "stdout",
     "output_type": "stream",
     "text": [
      "Epoch: 2913, Train Loss: 19.4602, \n",
      "Validation Loss: 16.5345\n"
     ]
    },
    {
     "name": "stderr",
     "output_type": "stream",
     "text": [
      "Epoch 2914/3000: 100%|██████████| 1/1 [00:00<00:00, 35.40it/s]\n",
      "Epoch 2915/3000: 100%|██████████| 1/1 [00:00<00:00, 35.94it/s]\n",
      "Validation: 100%|██████████| 1/1 [00:00<00:00, 49.48it/s]\n"
     ]
    },
    {
     "name": "stdout",
     "output_type": "stream",
     "text": [
      "Epoch: 2915, Train Loss: 9.7013, \n",
      "Validation Loss: 15.3077\n"
     ]
    },
    {
     "name": "stderr",
     "output_type": "stream",
     "text": [
      "Epoch 2916/3000: 100%|██████████| 1/1 [00:00<00:00, 39.35it/s]\n",
      "Epoch 2917/3000: 100%|██████████| 1/1 [00:00<00:00, 36.44it/s]\n",
      "Validation: 100%|██████████| 1/1 [00:00<00:00, 50.98it/s]\n"
     ]
    },
    {
     "name": "stdout",
     "output_type": "stream",
     "text": [
      "Epoch: 2917, Train Loss: 26.4740, \n",
      "Validation Loss: 16.8178\n"
     ]
    },
    {
     "name": "stderr",
     "output_type": "stream",
     "text": [
      "Epoch 2918/3000: 100%|██████████| 1/1 [00:00<00:00, 36.93it/s]\n",
      "Epoch 2919/3000: 100%|██████████| 1/1 [00:00<00:00, 36.38it/s]\n",
      "Validation: 100%|██████████| 1/1 [00:00<00:00, 49.52it/s]\n"
     ]
    },
    {
     "name": "stdout",
     "output_type": "stream",
     "text": [
      "Epoch: 2919, Train Loss: 5.2595, \n",
      "Validation Loss: 19.8538\n"
     ]
    },
    {
     "name": "stderr",
     "output_type": "stream",
     "text": [
      "Epoch 2920/3000: 100%|██████████| 1/1 [00:00<00:00, 37.77it/s]\n",
      "Epoch 2921/3000: 100%|██████████| 1/1 [00:00<00:00, 39.40it/s]\n",
      "Validation: 100%|██████████| 1/1 [00:00<00:00, 50.73it/s]\n"
     ]
    },
    {
     "name": "stdout",
     "output_type": "stream",
     "text": [
      "Epoch: 2921, Train Loss: 6.0149, \n",
      "Validation Loss: 17.6464\n"
     ]
    },
    {
     "name": "stderr",
     "output_type": "stream",
     "text": [
      "Epoch 2922/3000: 100%|██████████| 1/1 [00:00<00:00, 38.16it/s]\n",
      "Epoch 2923/3000: 100%|██████████| 1/1 [00:00<00:00, 35.97it/s]\n",
      "Validation: 100%|██████████| 1/1 [00:00<00:00, 50.58it/s]\n"
     ]
    },
    {
     "name": "stdout",
     "output_type": "stream",
     "text": [
      "Epoch: 2923, Train Loss: 14.5394, \n",
      "Validation Loss: 17.2277\n"
     ]
    },
    {
     "name": "stderr",
     "output_type": "stream",
     "text": [
      "Epoch 2924/3000: 100%|██████████| 1/1 [00:00<00:00, 36.74it/s]\n",
      "Epoch 2925/3000: 100%|██████████| 1/1 [00:00<00:00, 38.71it/s]\n",
      "Validation: 100%|██████████| 1/1 [00:00<00:00, 47.99it/s]\n"
     ]
    },
    {
     "name": "stdout",
     "output_type": "stream",
     "text": [
      "Epoch: 2925, Train Loss: 4.9615, \n",
      "Validation Loss: 16.1279\n"
     ]
    },
    {
     "name": "stderr",
     "output_type": "stream",
     "text": [
      "Epoch 2926/3000: 100%|██████████| 1/1 [00:00<00:00, 39.38it/s]\n",
      "Epoch 2927/3000: 100%|██████████| 1/1 [00:00<00:00, 38.81it/s]\n",
      "Validation: 100%|██████████| 1/1 [00:00<00:00, 44.36it/s]\n"
     ]
    },
    {
     "name": "stdout",
     "output_type": "stream",
     "text": [
      "Epoch: 2927, Train Loss: 19.6771, \n",
      "Validation Loss: 19.0935\n"
     ]
    },
    {
     "name": "stderr",
     "output_type": "stream",
     "text": [
      "Epoch 2928/3000: 100%|██████████| 1/1 [00:00<00:00, 37.49it/s]\n",
      "Epoch 2929/3000: 100%|██████████| 1/1 [00:00<00:00, 38.76it/s]\n",
      "Validation: 100%|██████████| 1/1 [00:00<00:00, 44.23it/s]\n"
     ]
    },
    {
     "name": "stdout",
     "output_type": "stream",
     "text": [
      "Epoch: 2929, Train Loss: 10.2803, \n",
      "Validation Loss: 18.5628\n"
     ]
    },
    {
     "name": "stderr",
     "output_type": "stream",
     "text": [
      "Epoch 2930/3000: 100%|██████████| 1/1 [00:00<00:00, 35.42it/s]\n",
      "Epoch 2931/3000: 100%|██████████| 1/1 [00:00<00:00, 35.32it/s]\n",
      "Validation: 100%|██████████| 1/1 [00:00<00:00, 47.11it/s]\n"
     ]
    },
    {
     "name": "stdout",
     "output_type": "stream",
     "text": [
      "Epoch: 2931, Train Loss: 22.1460, \n",
      "Validation Loss: 18.1879\n"
     ]
    },
    {
     "name": "stderr",
     "output_type": "stream",
     "text": [
      "Epoch 2932/3000: 100%|██████████| 1/1 [00:00<00:00, 37.36it/s]\n",
      "Epoch 2933/3000: 100%|██████████| 1/1 [00:00<00:00, 34.66it/s]\n",
      "Validation: 100%|██████████| 1/1 [00:00<00:00, 46.55it/s]\n"
     ]
    },
    {
     "name": "stdout",
     "output_type": "stream",
     "text": [
      "Epoch: 2933, Train Loss: 11.4514, \n",
      "Validation Loss: 15.9316\n"
     ]
    },
    {
     "name": "stderr",
     "output_type": "stream",
     "text": [
      "Epoch 2934/3000: 100%|██████████| 1/1 [00:00<00:00, 38.68it/s]\n",
      "Epoch 2935/3000: 100%|██████████| 1/1 [00:00<00:00, 38.59it/s]\n",
      "Validation: 100%|██████████| 1/1 [00:00<00:00, 51.60it/s]\n"
     ]
    },
    {
     "name": "stdout",
     "output_type": "stream",
     "text": [
      "Epoch: 2935, Train Loss: 7.2310, \n",
      "Validation Loss: 15.3685\n"
     ]
    },
    {
     "name": "stderr",
     "output_type": "stream",
     "text": [
      "Epoch 2936/3000: 100%|██████████| 1/1 [00:00<00:00, 37.33it/s]\n",
      "Epoch 2937/3000: 100%|██████████| 1/1 [00:00<00:00, 33.99it/s]\n",
      "Validation: 100%|██████████| 1/1 [00:00<00:00, 40.48it/s]\n"
     ]
    },
    {
     "name": "stdout",
     "output_type": "stream",
     "text": [
      "Epoch: 2937, Train Loss: 9.0505, \n",
      "Validation Loss: 15.0276\n"
     ]
    },
    {
     "name": "stderr",
     "output_type": "stream",
     "text": [
      "Epoch 2938/3000: 100%|██████████| 1/1 [00:00<00:00, 35.96it/s]\n",
      "Epoch 2939/3000: 100%|██████████| 1/1 [00:00<00:00, 40.38it/s]\n",
      "Validation: 100%|██████████| 1/1 [00:00<00:00, 45.90it/s]\n"
     ]
    },
    {
     "name": "stdout",
     "output_type": "stream",
     "text": [
      "Epoch: 2939, Train Loss: 10.5283, \n",
      "Validation Loss: 15.7647\n"
     ]
    },
    {
     "name": "stderr",
     "output_type": "stream",
     "text": [
      "Epoch 2940/3000: 100%|██████████| 1/1 [00:00<00:00, 35.53it/s]\n",
      "Epoch 2941/3000: 100%|██████████| 1/1 [00:00<00:00, 39.87it/s]\n",
      "Validation: 100%|██████████| 1/1 [00:00<00:00, 50.67it/s]\n"
     ]
    },
    {
     "name": "stdout",
     "output_type": "stream",
     "text": [
      "Epoch: 2941, Train Loss: 11.5809, \n",
      "Validation Loss: 16.4805\n"
     ]
    },
    {
     "name": "stderr",
     "output_type": "stream",
     "text": [
      "Epoch 2942/3000: 100%|██████████| 1/1 [00:00<00:00, 39.08it/s]\n",
      "Epoch 2943/3000: 100%|██████████| 1/1 [00:00<00:00, 39.09it/s]\n",
      "Validation: 100%|██████████| 1/1 [00:00<00:00, 51.39it/s]\n"
     ]
    },
    {
     "name": "stdout",
     "output_type": "stream",
     "text": [
      "Epoch: 2943, Train Loss: 11.0003, \n",
      "Validation Loss: 16.0380\n"
     ]
    },
    {
     "name": "stderr",
     "output_type": "stream",
     "text": [
      "Epoch 2944/3000: 100%|██████████| 1/1 [00:00<00:00, 33.51it/s]\n",
      "Epoch 2945/3000: 100%|██████████| 1/1 [00:00<00:00, 37.96it/s]\n",
      "Validation: 100%|██████████| 1/1 [00:00<00:00, 49.11it/s]\n"
     ]
    },
    {
     "name": "stdout",
     "output_type": "stream",
     "text": [
      "Epoch: 2945, Train Loss: 10.3842, \n",
      "Validation Loss: 16.3222\n"
     ]
    },
    {
     "name": "stderr",
     "output_type": "stream",
     "text": [
      "Epoch 2946/3000: 100%|██████████| 1/1 [00:00<00:00, 36.15it/s]\n",
      "Epoch 2947/3000: 100%|██████████| 1/1 [00:00<00:00, 35.11it/s]\n",
      "Validation: 100%|██████████| 1/1 [00:00<00:00, 40.05it/s]\n"
     ]
    },
    {
     "name": "stdout",
     "output_type": "stream",
     "text": [
      "Epoch: 2947, Train Loss: 16.4206, \n",
      "Validation Loss: 19.7440\n"
     ]
    },
    {
     "name": "stderr",
     "output_type": "stream",
     "text": [
      "Epoch 2948/3000: 100%|██████████| 1/1 [00:00<00:00, 40.75it/s]\n",
      "Epoch 2949/3000: 100%|██████████| 1/1 [00:00<00:00, 34.60it/s]\n",
      "Validation: 100%|██████████| 1/1 [00:00<00:00, 48.47it/s]\n"
     ]
    },
    {
     "name": "stdout",
     "output_type": "stream",
     "text": [
      "Epoch: 2949, Train Loss: 6.8658, \n",
      "Validation Loss: 15.8987\n"
     ]
    },
    {
     "name": "stderr",
     "output_type": "stream",
     "text": [
      "Epoch 2950/3000: 100%|██████████| 1/1 [00:00<00:00, 39.37it/s]\n",
      "Epoch 2951/3000: 100%|██████████| 1/1 [00:00<00:00, 38.00it/s]\n",
      "Validation: 100%|██████████| 1/1 [00:00<00:00, 48.51it/s]\n"
     ]
    },
    {
     "name": "stdout",
     "output_type": "stream",
     "text": [
      "Epoch: 2951, Train Loss: 28.8428, \n",
      "Validation Loss: 15.0182\n"
     ]
    },
    {
     "name": "stderr",
     "output_type": "stream",
     "text": [
      "Epoch 2952/3000: 100%|██████████| 1/1 [00:00<00:00, 37.98it/s]\n",
      "Epoch 2953/3000: 100%|██████████| 1/1 [00:00<00:00, 36.47it/s]\n",
      "Validation: 100%|██████████| 1/1 [00:00<00:00, 50.69it/s]\n"
     ]
    },
    {
     "name": "stdout",
     "output_type": "stream",
     "text": [
      "Epoch: 2953, Train Loss: 9.4205, \n",
      "Validation Loss: 17.0249\n"
     ]
    },
    {
     "name": "stderr",
     "output_type": "stream",
     "text": [
      "Epoch 2954/3000: 100%|██████████| 1/1 [00:00<00:00, 32.66it/s]\n",
      "Epoch 2955/3000: 100%|██████████| 1/1 [00:00<00:00, 39.08it/s]\n",
      "Validation: 100%|██████████| 1/1 [00:00<00:00, 52.08it/s]\n"
     ]
    },
    {
     "name": "stdout",
     "output_type": "stream",
     "text": [
      "Epoch: 2955, Train Loss: 14.9680, \n",
      "Validation Loss: 18.1405\n"
     ]
    },
    {
     "name": "stderr",
     "output_type": "stream",
     "text": [
      "Epoch 2956/3000: 100%|██████████| 1/1 [00:00<00:00, 37.71it/s]\n",
      "Epoch 2957/3000: 100%|██████████| 1/1 [00:00<00:00, 36.45it/s]\n",
      "Validation: 100%|██████████| 1/1 [00:00<00:00, 41.17it/s]\n"
     ]
    },
    {
     "name": "stdout",
     "output_type": "stream",
     "text": [
      "Epoch: 2957, Train Loss: 12.3855, \n",
      "Validation Loss: 19.1558\n"
     ]
    },
    {
     "name": "stderr",
     "output_type": "stream",
     "text": [
      "Epoch 2958/3000: 100%|██████████| 1/1 [00:00<00:00, 36.36it/s]\n",
      "Epoch 2959/3000: 100%|██████████| 1/1 [00:00<00:00, 38.17it/s]\n",
      "Validation: 100%|██████████| 1/1 [00:00<00:00, 46.74it/s]\n"
     ]
    },
    {
     "name": "stdout",
     "output_type": "stream",
     "text": [
      "Epoch: 2959, Train Loss: 9.0772, \n",
      "Validation Loss: 18.1861\n"
     ]
    },
    {
     "name": "stderr",
     "output_type": "stream",
     "text": [
      "Epoch 2960/3000: 100%|██████████| 1/1 [00:00<00:00, 40.94it/s]\n",
      "Epoch 2961/3000: 100%|██████████| 1/1 [00:00<00:00, 38.66it/s]\n",
      "Validation: 100%|██████████| 1/1 [00:00<00:00, 51.32it/s]\n"
     ]
    },
    {
     "name": "stdout",
     "output_type": "stream",
     "text": [
      "Epoch: 2961, Train Loss: 8.5148, \n",
      "Validation Loss: 17.3124\n"
     ]
    },
    {
     "name": "stderr",
     "output_type": "stream",
     "text": [
      "Epoch 2962/3000: 100%|██████████| 1/1 [00:00<00:00, 37.41it/s]\n",
      "Epoch 2963/3000: 100%|██████████| 1/1 [00:00<00:00, 37.37it/s]\n",
      "Validation: 100%|██████████| 1/1 [00:00<00:00, 51.48it/s]\n"
     ]
    },
    {
     "name": "stdout",
     "output_type": "stream",
     "text": [
      "Epoch: 2963, Train Loss: 10.5897, \n",
      "Validation Loss: 20.8115\n"
     ]
    },
    {
     "name": "stderr",
     "output_type": "stream",
     "text": [
      "Epoch 2964/3000: 100%|██████████| 1/1 [00:00<00:00, 36.97it/s]\n",
      "Epoch 2965/3000: 100%|██████████| 1/1 [00:00<00:00, 38.67it/s]\n",
      "Validation: 100%|██████████| 1/1 [00:00<00:00, 50.17it/s]\n"
     ]
    },
    {
     "name": "stdout",
     "output_type": "stream",
     "text": [
      "Epoch: 2965, Train Loss: 7.6698, \n",
      "Validation Loss: 20.7324\n"
     ]
    },
    {
     "name": "stderr",
     "output_type": "stream",
     "text": [
      "Epoch 2966/3000: 100%|██████████| 1/1 [00:00<00:00, 38.64it/s]\n",
      "Epoch 2967/3000: 100%|██████████| 1/1 [00:00<00:00, 35.94it/s]\n",
      "Validation: 100%|██████████| 1/1 [00:00<00:00, 38.35it/s]\n"
     ]
    },
    {
     "name": "stdout",
     "output_type": "stream",
     "text": [
      "Epoch: 2967, Train Loss: 14.1050, \n",
      "Validation Loss: 22.2368\n"
     ]
    },
    {
     "name": "stderr",
     "output_type": "stream",
     "text": [
      "Epoch 2968/3000: 100%|██████████| 1/1 [00:00<00:00, 39.32it/s]\n",
      "Epoch 2969/3000: 100%|██████████| 1/1 [00:00<00:00, 38.74it/s]\n",
      "Validation: 100%|██████████| 1/1 [00:00<00:00, 50.73it/s]\n"
     ]
    },
    {
     "name": "stdout",
     "output_type": "stream",
     "text": [
      "Epoch: 2969, Train Loss: 26.1946, \n",
      "Validation Loss: 16.4279\n"
     ]
    },
    {
     "name": "stderr",
     "output_type": "stream",
     "text": [
      "Epoch 2970/3000: 100%|██████████| 1/1 [00:00<00:00, 39.48it/s]\n",
      "Epoch 2971/3000: 100%|██████████| 1/1 [00:00<00:00, 37.18it/s]\n",
      "Validation: 100%|██████████| 1/1 [00:00<00:00, 51.16it/s]\n"
     ]
    },
    {
     "name": "stdout",
     "output_type": "stream",
     "text": [
      "Epoch: 2971, Train Loss: 8.8853, \n",
      "Validation Loss: 17.5407\n"
     ]
    },
    {
     "name": "stderr",
     "output_type": "stream",
     "text": [
      "Epoch 2972/3000: 100%|██████████| 1/1 [00:00<00:00, 36.96it/s]\n",
      "Epoch 2973/3000: 100%|██████████| 1/1 [00:00<00:00, 36.87it/s]\n",
      "Validation: 100%|██████████| 1/1 [00:00<00:00, 51.18it/s]\n"
     ]
    },
    {
     "name": "stdout",
     "output_type": "stream",
     "text": [
      "Epoch: 2973, Train Loss: 14.9990, \n",
      "Validation Loss: 17.2990\n"
     ]
    },
    {
     "name": "stderr",
     "output_type": "stream",
     "text": [
      "Epoch 2974/3000: 100%|██████████| 1/1 [00:00<00:00, 38.44it/s]\n",
      "Epoch 2975/3000: 100%|██████████| 1/1 [00:00<00:00, 37.24it/s]\n",
      "Validation: 100%|██████████| 1/1 [00:00<00:00, 48.93it/s]\n"
     ]
    },
    {
     "name": "stdout",
     "output_type": "stream",
     "text": [
      "Epoch: 2975, Train Loss: 24.3762, \n",
      "Validation Loss: 20.6604\n"
     ]
    },
    {
     "name": "stderr",
     "output_type": "stream",
     "text": [
      "Epoch 2976/3000: 100%|██████████| 1/1 [00:00<00:00, 40.05it/s]\n",
      "Epoch 2977/3000: 100%|██████████| 1/1 [00:00<00:00, 34.98it/s]\n",
      "Validation: 100%|██████████| 1/1 [00:00<00:00, 37.20it/s]\n"
     ]
    },
    {
     "name": "stdout",
     "output_type": "stream",
     "text": [
      "Epoch: 2977, Train Loss: 17.3021, \n",
      "Validation Loss: 21.4931\n"
     ]
    },
    {
     "name": "stderr",
     "output_type": "stream",
     "text": [
      "Epoch 2978/3000: 100%|██████████| 1/1 [00:00<00:00, 34.82it/s]\n",
      "Epoch 2979/3000: 100%|██████████| 1/1 [00:00<00:00, 36.52it/s]\n",
      "Validation: 100%|██████████| 1/1 [00:00<00:00, 50.53it/s]\n"
     ]
    },
    {
     "name": "stdout",
     "output_type": "stream",
     "text": [
      "Epoch: 2979, Train Loss: 10.7637, \n",
      "Validation Loss: 17.2677\n"
     ]
    },
    {
     "name": "stderr",
     "output_type": "stream",
     "text": [
      "Epoch 2980/3000: 100%|██████████| 1/1 [00:00<00:00, 40.32it/s]\n",
      "Epoch 2981/3000: 100%|██████████| 1/1 [00:00<00:00, 34.27it/s]\n",
      "Validation: 100%|██████████| 1/1 [00:00<00:00, 50.85it/s]\n"
     ]
    },
    {
     "name": "stdout",
     "output_type": "stream",
     "text": [
      "Epoch: 2981, Train Loss: 11.2767, \n",
      "Validation Loss: 17.4450\n"
     ]
    },
    {
     "name": "stderr",
     "output_type": "stream",
     "text": [
      "Epoch 2982/3000: 100%|██████████| 1/1 [00:00<00:00, 39.15it/s]\n",
      "Epoch 2983/3000: 100%|██████████| 1/1 [00:00<00:00, 39.21it/s]\n",
      "Validation: 100%|██████████| 1/1 [00:00<00:00, 51.18it/s]\n"
     ]
    },
    {
     "name": "stdout",
     "output_type": "stream",
     "text": [
      "Epoch: 2983, Train Loss: 15.5527, \n",
      "Validation Loss: 18.2764\n"
     ]
    },
    {
     "name": "stderr",
     "output_type": "stream",
     "text": [
      "Epoch 2984/3000: 100%|██████████| 1/1 [00:00<00:00, 37.86it/s]\n",
      "Epoch 2985/3000: 100%|██████████| 1/1 [00:00<00:00, 38.54it/s]\n",
      "Validation: 100%|██████████| 1/1 [00:00<00:00, 47.42it/s]\n"
     ]
    },
    {
     "name": "stdout",
     "output_type": "stream",
     "text": [
      "Epoch: 2985, Train Loss: 13.6319, \n",
      "Validation Loss: 20.0848\n"
     ]
    },
    {
     "name": "stderr",
     "output_type": "stream",
     "text": [
      "Epoch 2986/3000: 100%|██████████| 1/1 [00:00<00:00, 39.60it/s]\n",
      "Epoch 2987/3000: 100%|██████████| 1/1 [00:00<00:00, 39.16it/s]\n",
      "Validation: 100%|██████████| 1/1 [00:00<00:00, 50.14it/s]\n"
     ]
    },
    {
     "name": "stdout",
     "output_type": "stream",
     "text": [
      "Epoch: 2987, Train Loss: 16.7348, \n",
      "Validation Loss: 21.1169\n"
     ]
    },
    {
     "name": "stderr",
     "output_type": "stream",
     "text": [
      "Epoch 2988/3000: 100%|██████████| 1/1 [00:00<00:00, 37.27it/s]\n",
      "Epoch 2989/3000: 100%|██████████| 1/1 [00:00<00:00, 29.22it/s]\n",
      "Validation: 100%|██████████| 1/1 [00:00<00:00, 40.08it/s]\n"
     ]
    },
    {
     "name": "stdout",
     "output_type": "stream",
     "text": [
      "Epoch: 2989, Train Loss: 11.7294, \n",
      "Validation Loss: 17.0025\n"
     ]
    },
    {
     "name": "stderr",
     "output_type": "stream",
     "text": [
      "Epoch 2990/3000: 100%|██████████| 1/1 [00:00<00:00, 38.64it/s]\n",
      "Epoch 2991/3000: 100%|██████████| 1/1 [00:00<00:00, 39.31it/s]\n",
      "Validation: 100%|██████████| 1/1 [00:00<00:00, 52.40it/s]\n"
     ]
    },
    {
     "name": "stdout",
     "output_type": "stream",
     "text": [
      "Epoch: 2991, Train Loss: 14.5188, \n",
      "Validation Loss: 16.3029\n"
     ]
    },
    {
     "name": "stderr",
     "output_type": "stream",
     "text": [
      "Epoch 2992/3000: 100%|██████████| 1/1 [00:00<00:00, 39.38it/s]\n",
      "Epoch 2993/3000: 100%|██████████| 1/1 [00:00<00:00, 40.60it/s]\n",
      "Validation: 100%|██████████| 1/1 [00:00<00:00, 52.43it/s]\n"
     ]
    },
    {
     "name": "stdout",
     "output_type": "stream",
     "text": [
      "Epoch: 2993, Train Loss: 9.5709, \n",
      "Validation Loss: 16.4750\n"
     ]
    },
    {
     "name": "stderr",
     "output_type": "stream",
     "text": [
      "Epoch 2994/3000: 100%|██████████| 1/1 [00:00<00:00, 40.37it/s]\n",
      "Epoch 2995/3000: 100%|██████████| 1/1 [00:00<00:00, 33.98it/s]\n",
      "Validation: 100%|██████████| 1/1 [00:00<00:00, 50.52it/s]\n"
     ]
    },
    {
     "name": "stdout",
     "output_type": "stream",
     "text": [
      "Epoch: 2995, Train Loss: 8.2318, \n",
      "Validation Loss: 17.5887\n"
     ]
    },
    {
     "name": "stderr",
     "output_type": "stream",
     "text": [
      "Epoch 2996/3000: 100%|██████████| 1/1 [00:00<00:00, 38.50it/s]\n",
      "Epoch 2997/3000: 100%|██████████| 1/1 [00:00<00:00, 39.34it/s]\n",
      "Validation: 100%|██████████| 1/1 [00:00<00:00, 50.79it/s]\n"
     ]
    },
    {
     "name": "stdout",
     "output_type": "stream",
     "text": [
      "Epoch: 2997, Train Loss: 13.4540, \n",
      "Validation Loss: 18.1819\n"
     ]
    },
    {
     "name": "stderr",
     "output_type": "stream",
     "text": [
      "Epoch 2998/3000: 100%|██████████| 1/1 [00:00<00:00, 36.90it/s]\n",
      "Epoch 2999/3000: 100%|██████████| 1/1 [00:00<00:00, 34.54it/s]\n",
      "Validation: 100%|██████████| 1/1 [00:00<00:00, 46.18it/s]\n"
     ]
    },
    {
     "name": "stdout",
     "output_type": "stream",
     "text": [
      "Epoch: 2999, Train Loss: 11.1271, \n",
      "Validation Loss: 17.2316\n"
     ]
    },
    {
     "name": "stderr",
     "output_type": "stream",
     "text": [
      "Epoch 3000/3000: 100%|██████████| 1/1 [00:00<00:00, 37.96it/s]"
     ]
    },
    {
     "name": "stdout",
     "output_type": "stream",
     "text": [
      "Training completed!\n"
     ]
    },
    {
     "name": "stderr",
     "output_type": "stream",
     "text": [
      "\n"
     ]
    }
   ],
   "source": [
    "# Training\n",
    "epochs = 3000\n",
    "optimizer = optim.AdamW(model.parameters(), lr=1e-4, weight_decay=6e-5)\n",
    "\n",
    "losses = []\n",
    "last_loss = torch.inf\n",
    "avg_train_loss, avg_primal_loss, avg_fixed_point_loss, avg_qp_cost_loss = [], [], [], []\n",
    "avg_val_loss = []\n",
    "\n",
    "for epoch in range(epochs):\n",
    "    \n",
    "    # Train Loop\n",
    "    model.train()\n",
    "    losses_train, primal_losses, fixed_point_losses, qp_cost_losses = [], [], [], []\n",
    "    \n",
    "    for (inp, desired_speed_batched, desired_twisting_speed_batched) in tqdm(train_loader, desc=f\"Epoch {epoch+1}/{epochs}\"):\n",
    "        \n",
    "        desired_speed_batched, rng_desired_speed_batched = sample_uniform_variables(None, var_min= -2, var_max = 2, dataset_size=dataset_size, nvar=2)\n",
    "        desired_twisting_speed_batched, rng_desired_twisting_speed_batched = sample_uniform_variables(None, var_min= -0.5, var_max = 0.5, \n",
    "                                                                                                     dataset_size=dataset_size, nvar=1)\n",
    "        \n",
    "        \n",
    "        #print(\"desired_speed_batched\", desired_speed_batched)\n",
    "\n",
    "        desired_speed_batched = torch.tensor(desired_speed_batched).float()\n",
    "        desired_twisting_speed_batched = torch.tensor(desired_twisting_speed_batched).float()\n",
    "        # Input and Output \n",
    "        inp = inp.to(device)\n",
    "        desired_speed_batched = desired_speed_batched.to(device)\n",
    "        desired_twisting_speed_batched = desired_twisting_speed_batched.to(device)\n",
    "        \n",
    "        # Forward pass through quadruped model\n",
    "        xi_projected, avg_res_fixed_point, avg_res_primal, avg_res_qp_cost, res_primal_history, res_fixed_point_history, _ = model(inp, desired_speed_batched, \n",
    "                                                                                                               desired_twisting_speed_batched, rnn)\n",
    "        \n",
    "        \n",
    "        # Compute loss\n",
    "        primal_loss, fixed_point_loss, qp_cost_loss ,loss = model.mlp_loss(\n",
    "            avg_res_primal, avg_res_fixed_point, avg_res_qp_cost)\n",
    "\n",
    "        optimizer.zero_grad()\n",
    "        loss.backward()\n",
    "        \n",
    "        # Optional gradient clipping\n",
    "        #torch.nn.utils.clip_grad_norm_(model.parameters(), max_norm=1.0)\n",
    "        \n",
    "        optimizer.step()\n",
    "        \n",
    "        losses_train.append(loss.detach().cpu().numpy()) \n",
    "        primal_losses.append(primal_loss.detach().cpu().numpy())\n",
    "        fixed_point_losses.append(fixed_point_loss.detach().cpu().numpy())\n",
    "        qp_cost_losses.append(qp_cost_loss.detach().cpu().numpy())\n",
    "        #projection_losses.append(projection_loss.detach().cpu().numpy())\n",
    "        \n",
    "    # Validation every 2 epochs\n",
    "    if epoch % 2 == 0:\n",
    "        model.eval()\n",
    "        val_losses = []\n",
    "\n",
    "        with torch.no_grad():\n",
    "            for (inp_val, desired_speed_batched_val, desired_twisting_speed_batched_val) in tqdm(val_loader, desc=\"Validation\"):\n",
    "                inp_val = inp_val.to(device)\n",
    "                desired_speed_batched_val = desired_speed_batched_val.to(device)\n",
    "                desired_twisting_speed_batched_val = desired_twisting_speed_batched_val.to(device)\n",
    "\n",
    "                xi_projected, avg_res_fixed_point, avg_res_primal, avg_res_qp_cost, res_primal_history, res_fixed_point_history, _ = model(inp_val, desired_speed_batched_val, \n",
    "                                                                                                                       desired_twisting_speed_batched_val,\n",
    "                                                                                                                       rnn)\n",
    "                \n",
    "                _, _, _, val_loss = model.mlp_loss(\n",
    "                    avg_res_primal, avg_res_fixed_point, avg_res_qp_cost\n",
    "                )\n",
    "\n",
    "                val_losses.append(val_loss.detach().cpu().numpy())\n",
    "\n",
    "    # Print progress every 2 epochs\n",
    "    if epoch % 2 == 0:    \n",
    "        print(\n",
    "            f\"Epoch: {epoch + 1}, Train Loss: {np.average(losses_train):.4f}, \"\n",
    "        )\n",
    "\n",
    "              #f\"Projection Loss: {np.average(projection_losses):.4f}\")\n",
    "        \n",
    "        if len(val_losses) > 0:\n",
    "            print(f\"Validation Loss: {np.average(val_losses):.4f}\")\n",
    "\n",
    "    # Save best model\n",
    "    os.makedirs(\"./training_weights\", exist_ok=True)\n",
    "    if loss <= last_loss:\n",
    "        torch.save(model.state_dict(), f\"./training_weights/mlp_learned_quadruped_{rnn}.pth\")\n",
    "        last_loss = loss\n",
    "\n",
    "    # Store metrics\n",
    "    avg_train_loss.append(np.average(losses_train))\n",
    "    avg_primal_loss.append(np.average(primal_losses))\n",
    "    avg_qp_cost_loss.append(np.average(qp_cost_losses))\n",
    "    avg_fixed_point_loss.append(np.average(fixed_point_losses))\n",
    "    \n",
    "    if len(val_losses) > 0:\n",
    "        avg_val_loss.append(np.average(val_losses))\n",
    "    else:\n",
    "        avg_val_loss.append(avg_val_loss[-1] if avg_val_loss else 0.0)\n",
    "\n",
    "print(\"Training completed!\")\n",
    "\n"
   ]
  },
  {
   "cell_type": "code",
   "execution_count": 23,
   "id": "a92793eb",
   "metadata": {},
   "outputs": [
    {
     "data": {
      "image/png": "[encoded data removed]",
      "text/plain": [
       "<Figure size 1200x600 with 1 Axes>"
      ]
     },
     "metadata": {},
     "output_type": "display_data"
    },
    {
     "data": {
      "image/png": "[encoded data removed]",
      "text/plain": [
       "<Figure size 1200x600 with 1 Axes>"
      ]
     },
     "metadata": {},
     "output_type": "display_data"
    }
   ],
   "source": [
    "# Plot training losses\n",
    "\n",
    "plt.figure(figsize=(12, 6))\n",
    "\n",
    "plt.plot(avg_train_loss, label='Total Loss')\n",
    "plt.plot(avg_primal_loss, label='Primal Loss')\n",
    "plt.plot(avg_fixed_point_loss, label='Fixed-Point Loss')\n",
    "plt.plot(avg_qp_cost_loss, label='QP Cost Loss')\n",
    "\n",
    "\n",
    "plt.title('Training Loss Curves')\n",
    "plt.xlabel('Epoch')\n",
    "plt.ylabel('Loss')\n",
    "plt.legend()\n",
    "plt.grid(True)\n",
    "plt.tight_layout()\n",
    "plt.show()\n",
    "\n",
    "# Plot validation losses\n",
    "plt.figure(figsize=(12, 6))\n",
    "plt.plot(avg_val_loss, label='Validation Loss')\n",
    "\n",
    "plt.title('Validation Loss Curves')\n",
    "plt.xlabel('Epoch')\n",
    "plt.ylabel('Loss')\n",
    "plt.legend()\n",
    "plt.grid(True)\n",
    "plt.tight_layout()\n",
    "plt.show()"
   ]
  },
  {
   "cell_type": "code",
   "execution_count": 24,
   "id": "c9726596",
   "metadata": {},
   "outputs": [
    {
     "name": "stdout",
     "output_type": "stream",
     "text": [
      "Training_loss_start 5459.323\n",
      "Validation_loss_start 2245.4583\n",
      "Fixed_Point_loss_start 3.8039234\n",
      "QP_loss_start 6819.3994\n",
      "Training_loss_end 6.0677567\n",
      "Validation_loss_end 17.231607\n",
      "Fixed_Point_loss_end 0.24340658\n",
      "QP_loss_end 7.280437\n"
     ]
    }
   ],
   "source": [
    "avg_train_loss = np.asarray(avg_train_loss)\n",
    "avg_val_loss = np.asarray(avg_val_loss)\n",
    "avg_fixed_point_loss = np.asarray(avg_fixed_point_loss)\n",
    "avg_qp_cost_loss = np.asarray(avg_qp_cost_loss)\n",
    "\n",
    "print(\"Training_loss_start\", avg_train_loss[0])\n",
    "print(\"Validation_loss_start\", avg_val_loss[0])\n",
    "print(\"Fixed_Point_loss_start\", avg_fixed_point_loss[0])\n",
    "print(\"QP_loss_start\", avg_qp_cost_loss[0])\n",
    "\n",
    "print(\"Training_loss_end\", avg_train_loss[-1])\n",
    "print(\"Validation_loss_end\", avg_val_loss[-1])\n",
    "print(\"Fixed_Point_loss_end\", avg_fixed_point_loss[-1])\n",
    "print(\"QP_loss_end\", avg_qp_cost_loss[-1])"
   ]
  }
 ],
 "metadata": {
  "kernelspec": {
   "display_name": "manipulator_torch_env",
   "language": "python",
   "name": "python3"
  },
  "language_info": {
   "codemirror_mode": {
    "name": "ipython",
    "version": 3
   },
   "file_extension": ".py",
   "mimetype": "text/x-python",
   "name": "python",
   "nbconvert_exporter": "python",
   "pygments_lexer": "ipython3",
   "version": "3.12.3"
  }
 },
 "nbformat": 4,
 "nbformat_minor": 5
}
