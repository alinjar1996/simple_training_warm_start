{
 "cells": [
  {
   "cell_type": "code",
   "execution_count": 1,
   "id": "ca5f5edc",
   "metadata": {},
   "outputs": [],
   "source": [
    "# parser = argparse.ArgumentParser(description=\"Choose RNN module: LSTM or GRU\")\n",
    "# parser.add_argument(\"--rnn_module\", type=str, default=\"LSTM\", help=\"Choose RNN module: LSTM or GRU\")\n",
    "# args = parser.parse_args()\n",
    "#rnn = \"LSTM\"\n",
    "rnn = \"GRU\"\n",
    "\n"
   ]
  },
  {
   "cell_type": "code",
   "execution_count": 2,
   "id": "7890e186",
   "metadata": {},
   "outputs": [
    {
     "name": "stdout",
     "output_type": "stream",
     "text": [
      "/home/alinjar/simple_training_warm_start/Quadruped_qp\n"
     ]
    }
   ],
   "source": [
    "import os\n",
    "current_working_directory = os.getcwd()\n",
    "print(current_working_directory)\n",
    "\n",
    "import matplotlib.pyplot as plt\n",
    "import numpy as np \n",
    "import torch \n",
    "import torch.nn as nn \n",
    "import torch.optim as optim\n",
    "\n",
    "from torch.utils.data import Dataset, DataLoader\n",
    "import scipy.io as sio\n",
    "\n",
    "from tqdm import trange, tqdm\n",
    "import argparse\n",
    "\n",
    "# Import the quadruped model components from your second file\n",
    "from mlp_quadruped_rnn import MLP, MLPQuadrupedProjectionFilter, CustomGRULayer, GRU_Hidden_State, CustomLSTMLayer, LSTM_Hidden_State\n",
    "from stance_leg_controller import ForceStanceLegController\n",
    "\n",
    "from scipy.spatial.transform import Rotation as R"
   ]
  },
  {
   "cell_type": "code",
   "execution_count": 3,
   "id": "59360871",
   "metadata": {},
   "outputs": [
    {
     "name": "stdout",
     "output_type": "stream",
     "text": [
      "Using cuda device\n"
     ]
    }
   ],
   "source": [
    "device = torch.device(\"cuda\" if torch.cuda.is_available() else \"cpu\")\n",
    "print(f\"Using {device} device\")"
   ]
  },
  {
   "cell_type": "code",
   "execution_count": 4,
   "id": "3942e946",
   "metadata": {},
   "outputs": [],
   "source": [
    "class ForceDataset(Dataset):\n",
    "    \"\"\"Expert Trajectory Dataset.\"\"\"\n",
    "    def __init__(self, inp, desired_speed, desired_twisting_speed):\n",
    "        # input\n",
    "        self.inp = inp\n",
    "        self.desired_speed = desired_speed\n",
    "        self.desired_twisting_speed = desired_twisting_speed\n",
    "\n",
    "    def __len__(self):\n",
    "        return len(self.inp)    \n",
    "        \n",
    "    def __getitem__(self, idx):\n",
    "        # Input\n",
    "        inp = self.inp[idx]\n",
    "        desired_speed = self.desired_speed[idx]\n",
    "        desired_twisting_speed = self.desired_twisting_speed\n",
    "        return torch.tensor(inp).float(), torch.tensor(desired_speed).float(), torch.tensor(desired_twisting_speed).float()    \n",
    "\n",
    "\n",
    "def sample_uniform_variables(key, var_min, var_max, dataset_size, nvar):\n",
    "    rng = np.random.default_rng(seed=key)\n",
    "    xi_samples = rng.uniform(\n",
    "        low=var_min,\n",
    "        high=var_max,\n",
    "        size=(dataset_size, nvar)\n",
    "    )\n",
    "    return xi_samples, rng"
   ]
  },
  {
   "cell_type": "code",
   "execution_count": 5,
   "id": "4bb92a86",
   "metadata": {},
   "outputs": [],
   "source": [
    "# Parameters for Quadruped Model\n",
    "num_batch = 1000\n",
    "timestep = 0.05  \n",
    "horizon = 10     # prediction horizon steps\n",
    "num_legs = 4\n",
    "friction_coeff = 0.2\n",
    "body_mass = 50.0  # kg\n",
    "\n",
    "body_inertia=(1.0, 0.0, 0.0, 0.0, 1.0, 0.0, 0.0, 0.0, 1.0)\n",
    "\n",
    "# Desired motion parameters\n",
    "desired_speed = (0.0, 0.0)        # m/s\n",
    "desired_twisting_speed = 0.5  # rad/s\n",
    "desired_body_height = 0.5     # m\n",
    "\n",
    "# Force limits\n",
    "F_max = 100.0  # Maximum force magnitude for sampling\n",
    "\n",
    "# Problem dimensions for quadruped force control\n",
    "\n",
    "\n",
    "##Parameters for MLP model\n",
    "# Default states\n",
    "BaseRollPitchYaw = (0.0, 0.0, 0.0)\n",
    "AngularVelocityBodyFrame = (0.0, 0.0, 0.0)\n",
    "ComVelocityBodyFrame = (0.0, 0.0, 0.0)\n",
    "FootContacts = (True, True, True, True)\n",
    "slope_estimate = (0.0, 0.0, 0.0)\n",
    "RotationBodyWrtWorld = (1.0, 0.0, 0.0, 0.0, 1.0, 0.0, 0.0, 0.0, 1.0)"
   ]
  },
  {
   "cell_type": "code",
   "execution_count": 6,
   "id": "7278d588",
   "metadata": {},
   "outputs": [],
   "source": [
    "# Parameters for Quadruped Model\n",
    "num_batch = 1\n",
    "timestep = 0.05  # 50 Hz control frequency\n",
    "horizon = 10     # prediction horizon steps\n",
    "num_legs = 4\n",
    "friction_coeff = 0.2\n",
    "body_mass = 50.0  # kg\n",
    "\n",
    "body_inertia=(1.0, 0.0, 0.0, 0.0, 1.0, 0.0, 0.0, 0.0, 1.0)\n",
    "\n",
    "# Desired motion parameters\n",
    "# desired_speed_x_tensor, rng = sample_uniform_variable(42, -0.5, 0.5, 1, 1)\n",
    "# desired_speed_x = desired_speed_x_tensor.squeeze().item()\n",
    "# print(\"desired_speed_x\", desired_speed_x)\n",
    "desired_body_height = 0.5     # m\n",
    "\n",
    "##Parameters for MLP model\n",
    "# Default states\n",
    "BaseRollPitchYaw = (0.0, 0.0, 0.0)\n",
    "AngularVelocityBodyFrame = (0.0, 0.0, 0.0)\n",
    "ComVelocityBodyFrame = (0.0, 0.0, 0.0)\n",
    "FootContacts = (True, True, True, True)\n",
    "slope_estimate = (0.0, 0.0, 0.0)\n",
    "RotationBodyWrtWorld = (1.0, 0.0, 0.0, 0.0, 1.0, 0.0, 0.0, 0.0, 1.0)\n",
    "\n",
    "roll, pitch, yaw = BaseRollPitchYaw\n",
    "\n",
    "# Create rotation object from Euler angles (in radians)\n",
    "rot = R.from_euler('xyz', [roll, pitch, yaw])\n",
    "\n",
    "# Convert to rotation matrix\n",
    "rotation_matrix = rot.as_matrix()  # Shape (3, 3)\n",
    "\n",
    "# Flatten into a 9-element tuple (row-major order)\n",
    "RotationBodyWrtWorld = tuple(rotation_matrix.flatten())\n",
    "#self.RotationBodyWrtWorld = (1.0, 0.0, 0.0, 0.0, 1.0, 0.0, 0.0, 0.0, 1.0)"
   ]
  },
  {
   "cell_type": "code",
   "execution_count": 7,
   "id": "14733ff5",
   "metadata": {},
   "outputs": [],
   "source": [
    "\"\"\"Setup foot positions and default states for quadruped\"\"\"\n",
    "# Foot positions in body frame\n",
    "foot_x=0.2\n",
    "foot_y=0.2\n",
    "foot_z=-desired_body_height\n",
    "\n",
    "FootPositionsInBodyFrame = torch.tensor([\n",
    "    [ foot_x,  foot_y, foot_z],\n",
    "    [-foot_x,  foot_y, foot_z],\n",
    "    [ foot_x, -foot_y, foot_z],\n",
    "    [-foot_x, -foot_y, foot_z]])\n",
    "\n",
    "# Define QP matrices for quadruped control (simplified example)\n",
    "# In practice, these would come from your quadruped dynamics model\n",
    "\n",
    "\n",
    "\n",
    "\n",
    "# Maximum Iterations\n",
    "maxiter_projection = 20\n",
    "\n",
    "nvar = 3*num_legs*horizon\n",
    "\n",
    "num_total_constraints = 2*nvar"
   ]
  },
  {
   "cell_type": "code",
   "execution_count": 8,
   "id": "1234f415",
   "metadata": {},
   "outputs": [
    {
     "name": "stdout",
     "output_type": "stream",
     "text": [
      "desired_speed_batched.shape (1, 2)\n",
      "desired_twisting_speed_batched.shape (1, 1)\n",
      "Training with GRU\n"
     ]
    }
   ],
   "source": [
    "desired_speed_batched, rng_desired_speed_batched = sample_uniform_variables(41, var_min= -0.2, var_max = 0.2, dataset_size=num_batch, nvar=2)\n",
    "desired_twisting_speed_batched,  rng_desired_twisting_speed_batched = sample_uniform_variables(\n",
    "                                                                      42, var_min= -0.2, var_max = 0.2, dataset_size=num_batch, \n",
    "                                                                      nvar=1)\n",
    "\n",
    "desired_speed_batched_val, rng_desired_speed_batched = sample_uniform_variables(40, var_min= -0.1, var_max = 0.1, dataset_size=num_batch, nvar=2)\n",
    "desired_twisting_speed_batched_val,  rng_desired_twisting_speed_batched = sample_uniform_variables(\n",
    "                                                                      39, var_min= -0.1, var_max = 0.1, dataset_size=num_batch,\n",
    "                                                                      nvar=1)\n",
    "\n",
    "print(\"desired_speed_batched.shape\", desired_speed_batched.shape)\n",
    "print(\"desired_twisting_speed_batched.shape\", desired_twisting_speed_batched.shape)\n",
    "\n",
    "inp = np.hstack((desired_speed_batched, desired_twisting_speed_batched))\n",
    "\n",
    "inp_val = np.hstack(( desired_speed_batched_val, desired_twisting_speed_batched_val))\n",
    "\n",
    "# Using PyTorch Dataloader\n",
    "train_dataset = ForceDataset(inp, desired_speed_batched, desired_twisting_speed_batched)\n",
    "val_dataset = ForceDataset(inp_val, desired_speed_batched_val, desired_twisting_speed_batched_val)\n",
    "\n",
    "train_loader = DataLoader(train_dataset, batch_size=num_batch, shuffle=True, num_workers=0, drop_last=True)\n",
    "val_loader = DataLoader(val_dataset, batch_size=num_batch, shuffle=True, num_workers=0, drop_last=True)\n",
    "\n",
    "if rnn == \"GRU\":\n",
    "    print(\"Training with GRU\")\n",
    "    #GRU handling\n",
    "    rnn = \"GRU\"\n",
    "    gru_input_size = 3*num_total_constraints+3*nvar\n",
    "    # print(gru_input_size)\n",
    "    gru_hidden_size = 512\n",
    "    # gru_output_size = (2*nvar)**2+2*nvar\n",
    "    gru_output_size = num_total_constraints+nvar\n",
    "    # gru_context_size = mlp_planner_inp_dim\n",
    "\n",
    "    gru_context = CustomGRULayer(gru_input_size, gru_hidden_size, gru_output_size)\n",
    "\n",
    "    rnn_context = gru_context\n",
    "\n",
    "\n",
    "    input_hidden_state_init = np.shape(inp)[1]\n",
    "    mid_hidden_state_init = 512\n",
    "    out_hidden_state_init = gru_hidden_size\n",
    "\n",
    "    gru_init  =  GRU_Hidden_State(input_hidden_state_init, mid_hidden_state_init, out_hidden_state_init)\n",
    "    \n",
    "    rnn_init = gru_init\n",
    "    ##\n",
    "elif rnn == \"LSTM\":\n",
    "    print(\"Training with LSTM\")\n",
    "    #LSTM handling\n",
    "    rnn = \"LSTM\"\n",
    "    lstm_input_size = 3*num_total_constraints+3*nvar\n",
    "    # print(lstm_input_size)\n",
    "    lstm_hidden_size = 512\n",
    "    # lstm_output_size = (2*nvar)**2+2*nvar\n",
    "    lstm_output_size = num_total_constraints+nvar\n",
    "    # lstm_context_size = mlp_planner_inp_dim\n",
    "\n",
    "    lstm_context = CustomLSTMLayer(lstm_input_size, lstm_hidden_size, lstm_output_size)\n",
    "\n",
    "    rnn_context = lstm_context\n",
    "\n",
    "    input_hidden_state_init = np.shape(inp)[1]\n",
    "    mid_hidden_state_init = 512\n",
    "    out_hidden_state_init = lstm_hidden_size\n",
    "\n",
    "    lstm_init = LSTM_Hidden_State(input_hidden_state_init, mid_hidden_state_init, out_hidden_state_init)\n",
    "\n",
    "    rnn_init = lstm_init\n",
    "\n",
    "    ##"
   ]
  },
  {
   "cell_type": "code",
   "execution_count": 9,
   "id": "3da8438a",
   "metadata": {},
   "outputs": [
    {
     "name": "stdout",
     "output_type": "stream",
     "text": [
      "Model type: <class 'mlp_quadruped_rnn.MLPQuadrupedProjectionFilter'>\n",
      "Number of parameters: 4869192\n"
     ]
    }
   ],
   "source": [
    "# MLP setup\n",
    "enc_inp_dim = np.shape(inp)[1] \n",
    "mlp_inp_dim = enc_inp_dim\n",
    "hidden_dim = 1024\n",
    "mlp_out_dim = 2*nvar + num_total_constraints  # xi_samples, lambda_samples, slack_variables\n",
    "\n",
    "mlp = MLP(mlp_inp_dim, hidden_dim, mlp_out_dim)\n",
    "\n",
    "# Create the quadruped model\n",
    "model = MLPQuadrupedProjectionFilter(\n",
    "    mlp=mlp,\n",
    "    rnn_context=rnn_context, \n",
    "    rnn_init=rnn_init, \n",
    "    num_batch=num_batch,\n",
    "    maxiter_projection=maxiter_projection,\n",
    "    BaseRollPitchYaw=BaseRollPitchYaw,\n",
    "    AngularVelocityBodyFrame=AngularVelocityBodyFrame,\n",
    "    ComVelocityBodyFrame=ComVelocityBodyFrame,\n",
    "    FootPositionsInBodyFrame=FootPositionsInBodyFrame,\n",
    "    FootContacts=FootContacts,\n",
    "    slope_estimate=slope_estimate,\n",
    "    RotationBodyWrtWorld=RotationBodyWrtWorld, \n",
    "    desired_body_height=desired_body_height,\n",
    "    body_mass=body_mass,\n",
    "    body_inertia=body_inertia,\n",
    "    num_legs=num_legs,\n",
    "    friction_coeff=friction_coeff,\n",
    "    timestep=timestep,\n",
    "    horizon=horizon,\n",
    "    rnn=rnn).to(device)\n",
    "\n",
    "print(f\"Model type: {type(model)}\")\n",
    "print(f\"Number of parameters: {sum(p.numel() for p in model.parameters())}\")\n"
   ]
  },
  {
   "cell_type": "code",
   "execution_count": 10,
   "id": "8f9ed5ba",
   "metadata": {},
   "outputs": [
    {
     "name": "stderr",
     "output_type": "stream",
     "text": [
      "Epoch 1/1000: 100%|██████████| 1/1 [00:00<00:00,  2.58it/s]\n",
      "Validation: 100%|██████████| 1/1 [00:00<00:00, 28.52it/s]\n",
      "/home/alinjar/manipulator_torch_env/lib/python3.12/site-packages/numpy/lib/_function_base_impl.py:552: RuntimeWarning: Mean of empty slice.\n",
      "  avg = a.mean(axis, **keepdims_kw)\n",
      "/home/alinjar/manipulator_torch_env/lib/python3.12/site-packages/numpy/_core/_methods.py:145: RuntimeWarning: invalid value encountered in scalar divide\n",
      "  ret = ret.dtype.type(ret / rcount)\n"
     ]
    },
    {
     "name": "stdout",
     "output_type": "stream",
     "text": [
      "Epoch: 1\n",
      "Validation Loss: 65.8038\n"
     ]
    },
    {
     "name": "stderr",
     "output_type": "stream",
     "text": [
      "Epoch 2/1000: 100%|██████████| 1/1 [00:00<00:00, 26.61it/s]\n",
      "Epoch 3/1000: 100%|██████████| 1/1 [00:00<00:00, 26.49it/s]\n",
      "Validation: 100%|██████████| 1/1 [00:00<00:00, 39.08it/s]\n"
     ]
    },
    {
     "name": "stdout",
     "output_type": "stream",
     "text": [
      "Epoch: 3\n",
      "Validation Loss: 42.2345\n"
     ]
    },
    {
     "name": "stderr",
     "output_type": "stream",
     "text": [
      "Epoch 4/1000: 100%|██████████| 1/1 [00:00<00:00, 27.10it/s]\n",
      "Epoch 5/1000: 100%|██████████| 1/1 [00:00<00:00, 27.31it/s]\n",
      "Validation: 100%|██████████| 1/1 [00:00<00:00, 40.85it/s]\n"
     ]
    },
    {
     "name": "stdout",
     "output_type": "stream",
     "text": [
      "Epoch: 5\n",
      "Validation Loss: 35.8979\n"
     ]
    },
    {
     "name": "stderr",
     "output_type": "stream",
     "text": [
      "Epoch 6/1000: 100%|██████████| 1/1 [00:00<00:00, 26.35it/s]\n",
      "Epoch 7/1000: 100%|██████████| 1/1 [00:00<00:00, 27.53it/s]\n",
      "Validation: 100%|██████████| 1/1 [00:00<00:00, 40.85it/s]\n"
     ]
    },
    {
     "name": "stdout",
     "output_type": "stream",
     "text": [
      "Epoch: 7\n",
      "Validation Loss: 37.6110\n"
     ]
    },
    {
     "name": "stderr",
     "output_type": "stream",
     "text": [
      "Epoch 8/1000: 100%|██████████| 1/1 [00:00<00:00, 26.85it/s]\n",
      "Epoch 9/1000: 100%|██████████| 1/1 [00:00<00:00, 27.14it/s]\n",
      "Validation: 100%|██████████| 1/1 [00:00<00:00, 40.18it/s]\n"
     ]
    },
    {
     "name": "stdout",
     "output_type": "stream",
     "text": [
      "Epoch: 9\n",
      "Validation Loss: 35.1244\n"
     ]
    },
    {
     "name": "stderr",
     "output_type": "stream",
     "text": [
      "Epoch 10/1000: 100%|██████████| 1/1 [00:00<00:00, 25.70it/s]\n",
      "Epoch 11/1000: 100%|██████████| 1/1 [00:00<00:00, 26.70it/s]\n",
      "Validation: 100%|██████████| 1/1 [00:00<00:00, 39.70it/s]\n"
     ]
    },
    {
     "name": "stdout",
     "output_type": "stream",
     "text": [
      "Epoch: 11\n",
      "Validation Loss: 36.3254\n"
     ]
    },
    {
     "name": "stderr",
     "output_type": "stream",
     "text": [
      "Epoch 12/1000: 100%|██████████| 1/1 [00:00<00:00, 26.61it/s]\n",
      "Epoch 13/1000: 100%|██████████| 1/1 [00:00<00:00, 27.53it/s]\n",
      "Validation: 100%|██████████| 1/1 [00:00<00:00, 39.33it/s]\n"
     ]
    },
    {
     "name": "stdout",
     "output_type": "stream",
     "text": [
      "Epoch: 13\n",
      "Validation Loss: 34.7716\n"
     ]
    },
    {
     "name": "stderr",
     "output_type": "stream",
     "text": [
      "Epoch 14/1000: 100%|██████████| 1/1 [00:00<00:00, 25.17it/s]\n",
      "Epoch 15/1000: 100%|██████████| 1/1 [00:00<00:00, 23.14it/s]\n",
      "Validation: 100%|██████████| 1/1 [00:00<00:00, 39.85it/s]\n"
     ]
    },
    {
     "name": "stdout",
     "output_type": "stream",
     "text": [
      "Epoch: 15\n",
      "Validation Loss: 34.8319\n"
     ]
    },
    {
     "name": "stderr",
     "output_type": "stream",
     "text": [
      "Epoch 16/1000: 100%|██████████| 1/1 [00:00<00:00, 26.69it/s]\n",
      "Epoch 17/1000: 100%|██████████| 1/1 [00:00<00:00, 27.68it/s]\n",
      "Validation: 100%|██████████| 1/1 [00:00<00:00, 39.15it/s]\n"
     ]
    },
    {
     "name": "stdout",
     "output_type": "stream",
     "text": [
      "Epoch: 17\n",
      "Validation Loss: 33.0164\n"
     ]
    },
    {
     "name": "stderr",
     "output_type": "stream",
     "text": [
      "Epoch 18/1000: 100%|██████████| 1/1 [00:00<00:00, 27.19it/s]\n",
      "Epoch 19/1000: 100%|██████████| 1/1 [00:00<00:00, 26.16it/s]\n",
      "Validation: 100%|██████████| 1/1 [00:00<00:00, 39.97it/s]\n"
     ]
    },
    {
     "name": "stdout",
     "output_type": "stream",
     "text": [
      "Epoch: 19\n",
      "Validation Loss: 32.5501\n"
     ]
    },
    {
     "name": "stderr",
     "output_type": "stream",
     "text": [
      "Epoch 20/1000: 100%|██████████| 1/1 [00:00<00:00, 26.54it/s]\n",
      "Epoch 21/1000: 100%|██████████| 1/1 [00:00<00:00, 25.74it/s]\n",
      "Validation: 100%|██████████| 1/1 [00:00<00:00, 37.26it/s]\n"
     ]
    },
    {
     "name": "stdout",
     "output_type": "stream",
     "text": [
      "Epoch: 21\n",
      "Validation Loss: 31.5564\n"
     ]
    },
    {
     "name": "stderr",
     "output_type": "stream",
     "text": [
      "Epoch 22/1000: 100%|██████████| 1/1 [00:00<00:00, 26.07it/s]\n",
      "Epoch 23/1000: 100%|██████████| 1/1 [00:00<00:00, 25.82it/s]\n",
      "Validation: 100%|██████████| 1/1 [00:00<00:00, 38.30it/s]\n"
     ]
    },
    {
     "name": "stdout",
     "output_type": "stream",
     "text": [
      "Epoch: 23\n",
      "Validation Loss: 32.1366\n"
     ]
    },
    {
     "name": "stderr",
     "output_type": "stream",
     "text": [
      "Epoch 24/1000: 100%|██████████| 1/1 [00:00<00:00, 24.27it/s]\n",
      "Epoch 25/1000: 100%|██████████| 1/1 [00:00<00:00, 26.51it/s]\n",
      "Validation: 100%|██████████| 1/1 [00:00<00:00, 40.59it/s]\n"
     ]
    },
    {
     "name": "stdout",
     "output_type": "stream",
     "text": [
      "Epoch: 25\n",
      "Validation Loss: 30.6002\n"
     ]
    },
    {
     "name": "stderr",
     "output_type": "stream",
     "text": [
      "Epoch 26/1000: 100%|██████████| 1/1 [00:00<00:00, 26.60it/s]\n",
      "Epoch 27/1000: 100%|██████████| 1/1 [00:00<00:00, 24.95it/s]\n",
      "Validation: 100%|██████████| 1/1 [00:00<00:00, 39.02it/s]\n"
     ]
    },
    {
     "name": "stdout",
     "output_type": "stream",
     "text": [
      "Epoch: 27\n",
      "Validation Loss: 30.2765\n"
     ]
    },
    {
     "name": "stderr",
     "output_type": "stream",
     "text": [
      "Epoch 28/1000: 100%|██████████| 1/1 [00:00<00:00, 26.51it/s]\n",
      "Epoch 29/1000: 100%|██████████| 1/1 [00:00<00:00, 27.15it/s]\n",
      "Validation: 100%|██████████| 1/1 [00:00<00:00, 39.95it/s]\n"
     ]
    },
    {
     "name": "stdout",
     "output_type": "stream",
     "text": [
      "Epoch: 29\n",
      "Validation Loss: 30.3767\n"
     ]
    },
    {
     "name": "stderr",
     "output_type": "stream",
     "text": [
      "Epoch 30/1000: 100%|██████████| 1/1 [00:00<00:00, 22.09it/s]\n",
      "Epoch 31/1000: 100%|██████████| 1/1 [00:00<00:00, 22.07it/s]\n",
      "Validation: 100%|██████████| 1/1 [00:00<00:00, 34.13it/s]\n"
     ]
    },
    {
     "name": "stdout",
     "output_type": "stream",
     "text": [
      "Epoch: 31\n",
      "Validation Loss: 30.0682\n"
     ]
    },
    {
     "name": "stderr",
     "output_type": "stream",
     "text": [
      "Epoch 32/1000: 100%|██████████| 1/1 [00:00<00:00, 25.65it/s]\n",
      "Epoch 33/1000: 100%|██████████| 1/1 [00:00<00:00, 22.06it/s]\n",
      "Validation: 100%|██████████| 1/1 [00:00<00:00, 38.94it/s]\n"
     ]
    },
    {
     "name": "stdout",
     "output_type": "stream",
     "text": [
      "Epoch: 33\n",
      "Validation Loss: 29.9183\n"
     ]
    },
    {
     "name": "stderr",
     "output_type": "stream",
     "text": [
      "Epoch 34/1000: 100%|██████████| 1/1 [00:00<00:00, 26.07it/s]\n",
      "Epoch 35/1000: 100%|██████████| 1/1 [00:00<00:00, 25.76it/s]\n",
      "Validation: 100%|██████████| 1/1 [00:00<00:00, 39.17it/s]\n"
     ]
    },
    {
     "name": "stdout",
     "output_type": "stream",
     "text": [
      "Epoch: 35\n",
      "Validation Loss: 28.2889\n"
     ]
    },
    {
     "name": "stderr",
     "output_type": "stream",
     "text": [
      "Epoch 36/1000: 100%|██████████| 1/1 [00:00<00:00, 27.30it/s]\n",
      "Epoch 37/1000: 100%|██████████| 1/1 [00:00<00:00, 26.05it/s]\n",
      "Validation: 100%|██████████| 1/1 [00:00<00:00, 34.63it/s]\n"
     ]
    },
    {
     "name": "stdout",
     "output_type": "stream",
     "text": [
      "Epoch: 37\n",
      "Validation Loss: 27.9858\n"
     ]
    },
    {
     "name": "stderr",
     "output_type": "stream",
     "text": [
      "Epoch 38/1000: 100%|██████████| 1/1 [00:00<00:00, 26.99it/s]\n",
      "Epoch 39/1000: 100%|██████████| 1/1 [00:00<00:00, 25.29it/s]\n",
      "Validation: 100%|██████████| 1/1 [00:00<00:00, 40.19it/s]\n"
     ]
    },
    {
     "name": "stdout",
     "output_type": "stream",
     "text": [
      "Epoch: 39\n",
      "Validation Loss: 28.1282\n"
     ]
    },
    {
     "name": "stderr",
     "output_type": "stream",
     "text": [
      "Epoch 40/1000: 100%|██████████| 1/1 [00:00<00:00, 25.05it/s]\n",
      "Epoch 41/1000: 100%|██████████| 1/1 [00:00<00:00, 26.15it/s]\n",
      "Validation: 100%|██████████| 1/1 [00:00<00:00, 34.83it/s]\n"
     ]
    },
    {
     "name": "stdout",
     "output_type": "stream",
     "text": [
      "Epoch: 41\n",
      "Validation Loss: 27.3582\n"
     ]
    },
    {
     "name": "stderr",
     "output_type": "stream",
     "text": [
      "Epoch 42/1000: 100%|██████████| 1/1 [00:00<00:00, 25.85it/s]\n",
      "Epoch 43/1000: 100%|██████████| 1/1 [00:00<00:00, 27.15it/s]\n",
      "Validation: 100%|██████████| 1/1 [00:00<00:00, 39.04it/s]\n"
     ]
    },
    {
     "name": "stdout",
     "output_type": "stream",
     "text": [
      "Epoch: 43\n",
      "Validation Loss: 26.2736\n"
     ]
    },
    {
     "name": "stderr",
     "output_type": "stream",
     "text": [
      "Epoch 44/1000: 100%|██████████| 1/1 [00:00<00:00, 22.34it/s]\n",
      "Epoch 45/1000: 100%|██████████| 1/1 [00:00<00:00, 24.19it/s]\n",
      "Validation: 100%|██████████| 1/1 [00:00<00:00, 39.65it/s]\n"
     ]
    },
    {
     "name": "stdout",
     "output_type": "stream",
     "text": [
      "Epoch: 45\n",
      "Validation Loss: 25.8453\n"
     ]
    },
    {
     "name": "stderr",
     "output_type": "stream",
     "text": [
      "Epoch 46/1000: 100%|██████████| 1/1 [00:00<00:00, 25.51it/s]\n",
      "Epoch 47/1000: 100%|██████████| 1/1 [00:00<00:00, 26.42it/s]\n",
      "Validation: 100%|██████████| 1/1 [00:00<00:00, 39.69it/s]\n"
     ]
    },
    {
     "name": "stdout",
     "output_type": "stream",
     "text": [
      "Epoch: 47\n",
      "Validation Loss: 26.1665\n"
     ]
    },
    {
     "name": "stderr",
     "output_type": "stream",
     "text": [
      "Epoch 48/1000: 100%|██████████| 1/1 [00:00<00:00, 26.64it/s]\n",
      "Epoch 49/1000: 100%|██████████| 1/1 [00:00<00:00, 27.60it/s]\n",
      "Validation: 100%|██████████| 1/1 [00:00<00:00, 39.74it/s]\n"
     ]
    },
    {
     "name": "stdout",
     "output_type": "stream",
     "text": [
      "Epoch: 49\n",
      "Validation Loss: 27.8438\n"
     ]
    },
    {
     "name": "stderr",
     "output_type": "stream",
     "text": [
      "Epoch 50/1000: 100%|██████████| 1/1 [00:00<00:00, 27.43it/s]\n",
      "Epoch 51/1000: 100%|██████████| 1/1 [00:00<00:00, 27.05it/s]\n",
      "Validation: 100%|██████████| 1/1 [00:00<00:00, 39.22it/s]\n"
     ]
    },
    {
     "name": "stdout",
     "output_type": "stream",
     "text": [
      "Epoch: 51\n",
      "Validation Loss: 25.8629\n"
     ]
    },
    {
     "name": "stderr",
     "output_type": "stream",
     "text": [
      "Epoch 52/1000: 100%|██████████| 1/1 [00:00<00:00, 26.44it/s]\n",
      "Epoch 53/1000: 100%|██████████| 1/1 [00:00<00:00, 25.61it/s]\n",
      "Validation: 100%|██████████| 1/1 [00:00<00:00, 33.53it/s]\n"
     ]
    },
    {
     "name": "stdout",
     "output_type": "stream",
     "text": [
      "Epoch: 53\n",
      "Validation Loss: 25.4349\n"
     ]
    },
    {
     "name": "stderr",
     "output_type": "stream",
     "text": [
      "Epoch 54/1000: 100%|██████████| 1/1 [00:00<00:00, 26.21it/s]\n",
      "Epoch 55/1000: 100%|██████████| 1/1 [00:00<00:00, 26.27it/s]\n",
      "Validation: 100%|██████████| 1/1 [00:00<00:00, 41.34it/s]\n"
     ]
    },
    {
     "name": "stdout",
     "output_type": "stream",
     "text": [
      "Epoch: 55\n",
      "Validation Loss: 25.1576\n"
     ]
    },
    {
     "name": "stderr",
     "output_type": "stream",
     "text": [
      "Epoch 56/1000: 100%|██████████| 1/1 [00:00<00:00, 27.13it/s]\n",
      "Epoch 57/1000: 100%|██████████| 1/1 [00:00<00:00, 25.99it/s]\n",
      "Validation: 100%|██████████| 1/1 [00:00<00:00, 38.74it/s]\n"
     ]
    },
    {
     "name": "stdout",
     "output_type": "stream",
     "text": [
      "Epoch: 57\n",
      "Validation Loss: 29.1246\n"
     ]
    },
    {
     "name": "stderr",
     "output_type": "stream",
     "text": [
      "Epoch 58/1000: 100%|██████████| 1/1 [00:00<00:00, 27.33it/s]\n",
      "Epoch 59/1000: 100%|██████████| 1/1 [00:00<00:00, 26.40it/s]\n",
      "Validation: 100%|██████████| 1/1 [00:00<00:00, 41.17it/s]\n"
     ]
    },
    {
     "name": "stdout",
     "output_type": "stream",
     "text": [
      "Epoch: 59\n",
      "Validation Loss: 30.4370\n"
     ]
    },
    {
     "name": "stderr",
     "output_type": "stream",
     "text": [
      "Epoch 60/1000: 100%|██████████| 1/1 [00:00<00:00, 27.28it/s]\n",
      "Epoch 61/1000: 100%|██████████| 1/1 [00:00<00:00, 27.20it/s]\n",
      "Validation: 100%|██████████| 1/1 [00:00<00:00, 40.98it/s]\n"
     ]
    },
    {
     "name": "stdout",
     "output_type": "stream",
     "text": [
      "Epoch: 61\n",
      "Validation Loss: 29.3673\n"
     ]
    },
    {
     "name": "stderr",
     "output_type": "stream",
     "text": [
      "Epoch 62/1000: 100%|██████████| 1/1 [00:00<00:00, 27.14it/s]\n",
      "Epoch 63/1000: 100%|██████████| 1/1 [00:00<00:00, 25.78it/s]\n",
      "Validation: 100%|██████████| 1/1 [00:00<00:00, 38.33it/s]\n"
     ]
    },
    {
     "name": "stdout",
     "output_type": "stream",
     "text": [
      "Epoch: 63\n",
      "Validation Loss: 30.8837\n"
     ]
    },
    {
     "name": "stderr",
     "output_type": "stream",
     "text": [
      "Epoch 64/1000: 100%|██████████| 1/1 [00:00<00:00, 26.90it/s]\n",
      "Epoch 65/1000: 100%|██████████| 1/1 [00:00<00:00, 26.98it/s]\n",
      "Validation: 100%|██████████| 1/1 [00:00<00:00, 39.55it/s]\n"
     ]
    },
    {
     "name": "stdout",
     "output_type": "stream",
     "text": [
      "Epoch: 65\n",
      "Validation Loss: 28.6355\n"
     ]
    },
    {
     "name": "stderr",
     "output_type": "stream",
     "text": [
      "Epoch 66/1000: 100%|██████████| 1/1 [00:00<00:00, 24.22it/s]\n",
      "Epoch 67/1000: 100%|██████████| 1/1 [00:00<00:00, 26.61it/s]\n",
      "Validation: 100%|██████████| 1/1 [00:00<00:00, 39.76it/s]\n"
     ]
    },
    {
     "name": "stdout",
     "output_type": "stream",
     "text": [
      "Epoch: 67\n",
      "Validation Loss: 29.0470\n"
     ]
    },
    {
     "name": "stderr",
     "output_type": "stream",
     "text": [
      "Epoch 68/1000: 100%|██████████| 1/1 [00:00<00:00, 25.99it/s]\n",
      "Epoch 69/1000: 100%|██████████| 1/1 [00:00<00:00, 26.88it/s]\n",
      "Validation: 100%|██████████| 1/1 [00:00<00:00, 39.78it/s]\n"
     ]
    },
    {
     "name": "stdout",
     "output_type": "stream",
     "text": [
      "Epoch: 69\n",
      "Validation Loss: 27.0753\n"
     ]
    },
    {
     "name": "stderr",
     "output_type": "stream",
     "text": [
      "Epoch 70/1000: 100%|██████████| 1/1 [00:00<00:00, 26.23it/s]\n",
      "Epoch 71/1000: 100%|██████████| 1/1 [00:00<00:00, 24.15it/s]\n",
      "Validation: 100%|██████████| 1/1 [00:00<00:00, 34.95it/s]\n"
     ]
    },
    {
     "name": "stdout",
     "output_type": "stream",
     "text": [
      "Epoch: 71\n",
      "Validation Loss: 27.2584\n"
     ]
    },
    {
     "name": "stderr",
     "output_type": "stream",
     "text": [
      "Epoch 72/1000: 100%|██████████| 1/1 [00:00<00:00, 26.99it/s]\n",
      "Epoch 73/1000: 100%|██████████| 1/1 [00:00<00:00, 27.15it/s]\n",
      "Validation: 100%|██████████| 1/1 [00:00<00:00, 40.51it/s]\n"
     ]
    },
    {
     "name": "stdout",
     "output_type": "stream",
     "text": [
      "Epoch: 73\n",
      "Validation Loss: 26.4474\n"
     ]
    },
    {
     "name": "stderr",
     "output_type": "stream",
     "text": [
      "Epoch 74/1000: 100%|██████████| 1/1 [00:00<00:00, 24.49it/s]\n",
      "Epoch 75/1000: 100%|██████████| 1/1 [00:00<00:00, 27.46it/s]\n",
      "Validation: 100%|██████████| 1/1 [00:00<00:00, 40.84it/s]\n"
     ]
    },
    {
     "name": "stdout",
     "output_type": "stream",
     "text": [
      "Epoch: 75\n",
      "Validation Loss: 27.8501\n"
     ]
    },
    {
     "name": "stderr",
     "output_type": "stream",
     "text": [
      "Epoch 76/1000: 100%|██████████| 1/1 [00:00<00:00, 26.21it/s]\n",
      "Epoch 77/1000: 100%|██████████| 1/1 [00:00<00:00, 27.05it/s]\n",
      "Validation: 100%|██████████| 1/1 [00:00<00:00, 38.64it/s]\n"
     ]
    },
    {
     "name": "stdout",
     "output_type": "stream",
     "text": [
      "Epoch: 77\n",
      "Validation Loss: 27.7759\n"
     ]
    },
    {
     "name": "stderr",
     "output_type": "stream",
     "text": [
      "Epoch 78/1000: 100%|██████████| 1/1 [00:00<00:00, 26.41it/s]\n",
      "Epoch 79/1000: 100%|██████████| 1/1 [00:00<00:00, 27.33it/s]\n",
      "Validation: 100%|██████████| 1/1 [00:00<00:00, 40.46it/s]\n"
     ]
    },
    {
     "name": "stdout",
     "output_type": "stream",
     "text": [
      "Epoch: 79\n",
      "Validation Loss: 27.2508\n"
     ]
    },
    {
     "name": "stderr",
     "output_type": "stream",
     "text": [
      "Epoch 80/1000: 100%|██████████| 1/1 [00:00<00:00, 26.32it/s]\n",
      "Epoch 81/1000: 100%|██████████| 1/1 [00:00<00:00, 26.79it/s]\n",
      "Validation: 100%|██████████| 1/1 [00:00<00:00, 40.73it/s]\n"
     ]
    },
    {
     "name": "stdout",
     "output_type": "stream",
     "text": [
      "Epoch: 81\n",
      "Validation Loss: 27.5377\n"
     ]
    },
    {
     "name": "stderr",
     "output_type": "stream",
     "text": [
      "Epoch 82/1000: 100%|██████████| 1/1 [00:00<00:00, 25.78it/s]\n",
      "Epoch 83/1000: 100%|██████████| 1/1 [00:00<00:00, 27.62it/s]\n",
      "Validation: 100%|██████████| 1/1 [00:00<00:00, 41.13it/s]\n"
     ]
    },
    {
     "name": "stdout",
     "output_type": "stream",
     "text": [
      "Epoch: 83\n",
      "Validation Loss: 26.7129\n"
     ]
    },
    {
     "name": "stderr",
     "output_type": "stream",
     "text": [
      "Epoch 84/1000: 100%|██████████| 1/1 [00:00<00:00, 26.88it/s]\n",
      "Epoch 85/1000: 100%|██████████| 1/1 [00:00<00:00, 27.39it/s]\n",
      "Validation: 100%|██████████| 1/1 [00:00<00:00, 40.63it/s]\n"
     ]
    },
    {
     "name": "stdout",
     "output_type": "stream",
     "text": [
      "Epoch: 85\n",
      "Validation Loss: 25.5023\n"
     ]
    },
    {
     "name": "stderr",
     "output_type": "stream",
     "text": [
      "Epoch 86/1000: 100%|██████████| 1/1 [00:00<00:00, 21.24it/s]\n",
      "Epoch 87/1000: 100%|██████████| 1/1 [00:00<00:00, 27.16it/s]\n",
      "Validation: 100%|██████████| 1/1 [00:00<00:00, 40.00it/s]\n"
     ]
    },
    {
     "name": "stdout",
     "output_type": "stream",
     "text": [
      "Epoch: 87\n",
      "Validation Loss: 24.9352\n"
     ]
    },
    {
     "name": "stderr",
     "output_type": "stream",
     "text": [
      "Epoch 88/1000: 100%|██████████| 1/1 [00:00<00:00, 27.61it/s]\n",
      "Epoch 89/1000: 100%|██████████| 1/1 [00:00<00:00, 26.32it/s]\n",
      "Validation: 100%|██████████| 1/1 [00:00<00:00, 30.13it/s]\n"
     ]
    },
    {
     "name": "stdout",
     "output_type": "stream",
     "text": [
      "Epoch: 89\n",
      "Validation Loss: 25.1083\n"
     ]
    },
    {
     "name": "stderr",
     "output_type": "stream",
     "text": [
      "Epoch 90/1000: 100%|██████████| 1/1 [00:00<00:00, 23.92it/s]\n",
      "Epoch 91/1000: 100%|██████████| 1/1 [00:00<00:00, 28.04it/s]\n",
      "Validation: 100%|██████████| 1/1 [00:00<00:00, 39.89it/s]\n"
     ]
    },
    {
     "name": "stdout",
     "output_type": "stream",
     "text": [
      "Epoch: 91\n",
      "Validation Loss: 23.6856\n"
     ]
    },
    {
     "name": "stderr",
     "output_type": "stream",
     "text": [
      "Epoch 92/1000: 100%|██████████| 1/1 [00:00<00:00, 25.87it/s]\n",
      "Epoch 93/1000: 100%|██████████| 1/1 [00:00<00:00, 26.06it/s]\n",
      "Validation: 100%|██████████| 1/1 [00:00<00:00, 35.76it/s]\n"
     ]
    },
    {
     "name": "stdout",
     "output_type": "stream",
     "text": [
      "Epoch: 93\n",
      "Validation Loss: 24.9715\n"
     ]
    },
    {
     "name": "stderr",
     "output_type": "stream",
     "text": [
      "Epoch 94/1000: 100%|██████████| 1/1 [00:00<00:00, 27.28it/s]\n",
      "Epoch 95/1000: 100%|██████████| 1/1 [00:00<00:00, 26.91it/s]\n",
      "Validation: 100%|██████████| 1/1 [00:00<00:00, 38.10it/s]\n"
     ]
    },
    {
     "name": "stdout",
     "output_type": "stream",
     "text": [
      "Epoch: 95\n",
      "Validation Loss: 24.6794\n"
     ]
    },
    {
     "name": "stderr",
     "output_type": "stream",
     "text": [
      "Epoch 96/1000: 100%|██████████| 1/1 [00:00<00:00, 26.88it/s]\n",
      "Epoch 97/1000: 100%|██████████| 1/1 [00:00<00:00, 27.92it/s]\n",
      "Validation: 100%|██████████| 1/1 [00:00<00:00, 40.10it/s]\n"
     ]
    },
    {
     "name": "stdout",
     "output_type": "stream",
     "text": [
      "Epoch: 97\n",
      "Validation Loss: 24.5543\n"
     ]
    },
    {
     "name": "stderr",
     "output_type": "stream",
     "text": [
      "Epoch 98/1000: 100%|██████████| 1/1 [00:00<00:00, 27.29it/s]\n",
      "Epoch 99/1000: 100%|██████████| 1/1 [00:00<00:00, 24.04it/s]\n",
      "Validation: 100%|██████████| 1/1 [00:00<00:00, 41.34it/s]\n"
     ]
    },
    {
     "name": "stdout",
     "output_type": "stream",
     "text": [
      "Epoch: 99\n",
      "Validation Loss: 24.3226\n"
     ]
    },
    {
     "name": "stderr",
     "output_type": "stream",
     "text": [
      "Epoch 100/1000: 100%|██████████| 1/1 [00:00<00:00, 25.79it/s]\n",
      "Epoch 101/1000: 100%|██████████| 1/1 [00:00<00:00, 27.08it/s]\n",
      "Validation: 100%|██████████| 1/1 [00:00<00:00, 39.99it/s]\n"
     ]
    },
    {
     "name": "stdout",
     "output_type": "stream",
     "text": [
      "Epoch: 101\n",
      "Validation Loss: 22.9258\n"
     ]
    },
    {
     "name": "stderr",
     "output_type": "stream",
     "text": [
      "Epoch 102/1000: 100%|██████████| 1/1 [00:00<00:00, 26.12it/s]\n",
      "Epoch 103/1000: 100%|██████████| 1/1 [00:00<00:00, 26.08it/s]\n",
      "Validation: 100%|██████████| 1/1 [00:00<00:00, 41.05it/s]\n"
     ]
    },
    {
     "name": "stdout",
     "output_type": "stream",
     "text": [
      "Epoch: 103\n",
      "Validation Loss: 22.5813\n"
     ]
    },
    {
     "name": "stderr",
     "output_type": "stream",
     "text": [
      "Epoch 104/1000: 100%|██████████| 1/1 [00:00<00:00, 25.77it/s]\n",
      "Epoch 105/1000: 100%|██████████| 1/1 [00:00<00:00, 24.65it/s]\n",
      "Validation: 100%|██████████| 1/1 [00:00<00:00, 40.87it/s]\n"
     ]
    },
    {
     "name": "stdout",
     "output_type": "stream",
     "text": [
      "Epoch: 105\n",
      "Validation Loss: 22.7318\n"
     ]
    },
    {
     "name": "stderr",
     "output_type": "stream",
     "text": [
      "Epoch 106/1000: 100%|██████████| 1/1 [00:00<00:00, 23.98it/s]\n",
      "Epoch 107/1000: 100%|██████████| 1/1 [00:00<00:00, 25.88it/s]\n",
      "Validation: 100%|██████████| 1/1 [00:00<00:00, 39.01it/s]\n"
     ]
    },
    {
     "name": "stdout",
     "output_type": "stream",
     "text": [
      "Epoch: 107\n",
      "Validation Loss: 22.1695\n"
     ]
    },
    {
     "name": "stderr",
     "output_type": "stream",
     "text": [
      "Epoch 108/1000: 100%|██████████| 1/1 [00:00<00:00, 25.91it/s]\n",
      "Epoch 109/1000: 100%|██████████| 1/1 [00:00<00:00, 25.08it/s]\n",
      "Validation: 100%|██████████| 1/1 [00:00<00:00, 38.74it/s]\n"
     ]
    },
    {
     "name": "stdout",
     "output_type": "stream",
     "text": [
      "Epoch: 109\n",
      "Validation Loss: 22.6605\n"
     ]
    },
    {
     "name": "stderr",
     "output_type": "stream",
     "text": [
      "Epoch 110/1000: 100%|██████████| 1/1 [00:00<00:00, 24.06it/s]\n",
      "Epoch 111/1000: 100%|██████████| 1/1 [00:00<00:00, 26.83it/s]\n",
      "Validation: 100%|██████████| 1/1 [00:00<00:00, 38.59it/s]\n"
     ]
    },
    {
     "name": "stdout",
     "output_type": "stream",
     "text": [
      "Epoch: 111\n",
      "Validation Loss: 22.0856\n"
     ]
    },
    {
     "name": "stderr",
     "output_type": "stream",
     "text": [
      "Epoch 112/1000: 100%|██████████| 1/1 [00:00<00:00, 27.10it/s]\n",
      "Epoch 113/1000: 100%|██████████| 1/1 [00:00<00:00, 25.52it/s]\n",
      "Validation: 100%|██████████| 1/1 [00:00<00:00, 38.64it/s]\n"
     ]
    },
    {
     "name": "stdout",
     "output_type": "stream",
     "text": [
      "Epoch: 113\n",
      "Validation Loss: 22.4427\n"
     ]
    },
    {
     "name": "stderr",
     "output_type": "stream",
     "text": [
      "Epoch 114/1000: 100%|██████████| 1/1 [00:00<00:00, 27.06it/s]\n",
      "Epoch 115/1000: 100%|██████████| 1/1 [00:00<00:00, 23.13it/s]\n",
      "Validation: 100%|██████████| 1/1 [00:00<00:00, 37.79it/s]\n"
     ]
    },
    {
     "name": "stdout",
     "output_type": "stream",
     "text": [
      "Epoch: 115\n",
      "Validation Loss: 21.8011\n"
     ]
    },
    {
     "name": "stderr",
     "output_type": "stream",
     "text": [
      "Epoch 116/1000: 100%|██████████| 1/1 [00:00<00:00, 26.36it/s]\n",
      "Epoch 117/1000: 100%|██████████| 1/1 [00:00<00:00, 26.27it/s]\n",
      "Validation: 100%|██████████| 1/1 [00:00<00:00, 40.61it/s]\n"
     ]
    },
    {
     "name": "stdout",
     "output_type": "stream",
     "text": [
      "Epoch: 117\n",
      "Validation Loss: 21.3015\n"
     ]
    },
    {
     "name": "stderr",
     "output_type": "stream",
     "text": [
      "Epoch 118/1000: 100%|██████████| 1/1 [00:00<00:00, 25.22it/s]\n",
      "Epoch 119/1000: 100%|██████████| 1/1 [00:00<00:00, 24.93it/s]\n",
      "Validation: 100%|██████████| 1/1 [00:00<00:00, 36.44it/s]\n"
     ]
    },
    {
     "name": "stdout",
     "output_type": "stream",
     "text": [
      "Epoch: 119\n",
      "Validation Loss: 21.6516\n"
     ]
    },
    {
     "name": "stderr",
     "output_type": "stream",
     "text": [
      "Epoch 120/1000: 100%|██████████| 1/1 [00:00<00:00, 24.49it/s]\n",
      "Epoch 121/1000: 100%|██████████| 1/1 [00:00<00:00, 26.58it/s]\n",
      "Validation: 100%|██████████| 1/1 [00:00<00:00, 35.85it/s]\n"
     ]
    },
    {
     "name": "stdout",
     "output_type": "stream",
     "text": [
      "Epoch: 121\n",
      "Validation Loss: 21.0043\n"
     ]
    },
    {
     "name": "stderr",
     "output_type": "stream",
     "text": [
      "Epoch 122/1000: 100%|██████████| 1/1 [00:00<00:00, 24.64it/s]\n",
      "Epoch 123/1000: 100%|██████████| 1/1 [00:00<00:00, 24.36it/s]\n",
      "Validation: 100%|██████████| 1/1 [00:00<00:00, 38.83it/s]\n"
     ]
    },
    {
     "name": "stdout",
     "output_type": "stream",
     "text": [
      "Epoch: 123\n",
      "Validation Loss: 21.0660\n"
     ]
    },
    {
     "name": "stderr",
     "output_type": "stream",
     "text": [
      "Epoch 124/1000: 100%|██████████| 1/1 [00:00<00:00, 22.40it/s]\n",
      "Epoch 125/1000: 100%|██████████| 1/1 [00:00<00:00, 26.69it/s]\n",
      "Validation: 100%|██████████| 1/1 [00:00<00:00, 38.99it/s]\n"
     ]
    },
    {
     "name": "stdout",
     "output_type": "stream",
     "text": [
      "Epoch: 125\n",
      "Validation Loss: 20.7310\n"
     ]
    },
    {
     "name": "stderr",
     "output_type": "stream",
     "text": [
      "Epoch 126/1000: 100%|██████████| 1/1 [00:00<00:00, 26.55it/s]\n",
      "Epoch 127/1000: 100%|██████████| 1/1 [00:00<00:00, 25.47it/s]\n",
      "Validation: 100%|██████████| 1/1 [00:00<00:00, 39.03it/s]\n"
     ]
    },
    {
     "name": "stdout",
     "output_type": "stream",
     "text": [
      "Epoch: 127\n",
      "Validation Loss: 20.8756\n"
     ]
    },
    {
     "name": "stderr",
     "output_type": "stream",
     "text": [
      "Epoch 128/1000: 100%|██████████| 1/1 [00:00<00:00, 25.59it/s]\n",
      "Epoch 129/1000: 100%|██████████| 1/1 [00:00<00:00, 24.93it/s]\n",
      "Validation: 100%|██████████| 1/1 [00:00<00:00, 39.96it/s]\n"
     ]
    },
    {
     "name": "stdout",
     "output_type": "stream",
     "text": [
      "Epoch: 129\n",
      "Validation Loss: 20.9736\n"
     ]
    },
    {
     "name": "stderr",
     "output_type": "stream",
     "text": [
      "Epoch 130/1000: 100%|██████████| 1/1 [00:00<00:00, 22.11it/s]\n",
      "Epoch 131/1000: 100%|██████████| 1/1 [00:00<00:00, 22.79it/s]\n",
      "Validation: 100%|██████████| 1/1 [00:00<00:00, 40.30it/s]\n"
     ]
    },
    {
     "name": "stdout",
     "output_type": "stream",
     "text": [
      "Epoch: 131\n",
      "Validation Loss: 20.1568\n"
     ]
    },
    {
     "name": "stderr",
     "output_type": "stream",
     "text": [
      "Epoch 132/1000: 100%|██████████| 1/1 [00:00<00:00, 22.25it/s]\n",
      "Epoch 133/1000: 100%|██████████| 1/1 [00:00<00:00, 22.07it/s]\n",
      "Validation: 100%|██████████| 1/1 [00:00<00:00, 39.68it/s]\n"
     ]
    },
    {
     "name": "stdout",
     "output_type": "stream",
     "text": [
      "Epoch: 133\n",
      "Validation Loss: 20.6577\n"
     ]
    },
    {
     "name": "stderr",
     "output_type": "stream",
     "text": [
      "Epoch 134/1000: 100%|██████████| 1/1 [00:00<00:00, 25.57it/s]\n",
      "Epoch 135/1000: 100%|██████████| 1/1 [00:00<00:00, 26.49it/s]\n",
      "Validation: 100%|██████████| 1/1 [00:00<00:00, 39.97it/s]\n"
     ]
    },
    {
     "name": "stdout",
     "output_type": "stream",
     "text": [
      "Epoch: 135\n",
      "Validation Loss: 20.6759\n"
     ]
    },
    {
     "name": "stderr",
     "output_type": "stream",
     "text": [
      "Epoch 136/1000: 100%|██████████| 1/1 [00:00<00:00, 27.24it/s]\n",
      "Epoch 137/1000: 100%|██████████| 1/1 [00:00<00:00, 24.69it/s]\n",
      "Validation: 100%|██████████| 1/1 [00:00<00:00, 39.78it/s]\n"
     ]
    },
    {
     "name": "stdout",
     "output_type": "stream",
     "text": [
      "Epoch: 137\n",
      "Validation Loss: 20.5055\n"
     ]
    },
    {
     "name": "stderr",
     "output_type": "stream",
     "text": [
      "Epoch 138/1000: 100%|██████████| 1/1 [00:00<00:00, 24.39it/s]\n",
      "Epoch 139/1000: 100%|██████████| 1/1 [00:00<00:00, 26.80it/s]\n",
      "Validation: 100%|██████████| 1/1 [00:00<00:00, 39.62it/s]\n"
     ]
    },
    {
     "name": "stdout",
     "output_type": "stream",
     "text": [
      "Epoch: 139\n",
      "Validation Loss: 21.3335\n"
     ]
    },
    {
     "name": "stderr",
     "output_type": "stream",
     "text": [
      "Epoch 140/1000: 100%|██████████| 1/1 [00:00<00:00, 26.30it/s]\n",
      "Epoch 141/1000: 100%|██████████| 1/1 [00:00<00:00, 26.51it/s]\n",
      "Validation: 100%|██████████| 1/1 [00:00<00:00, 39.76it/s]\n"
     ]
    },
    {
     "name": "stdout",
     "output_type": "stream",
     "text": [
      "Epoch: 141\n",
      "Validation Loss: 20.2563\n"
     ]
    },
    {
     "name": "stderr",
     "output_type": "stream",
     "text": [
      "Epoch 142/1000: 100%|██████████| 1/1 [00:00<00:00, 26.76it/s]\n",
      "Epoch 143/1000: 100%|██████████| 1/1 [00:00<00:00, 23.97it/s]\n",
      "Validation: 100%|██████████| 1/1 [00:00<00:00, 39.41it/s]\n"
     ]
    },
    {
     "name": "stdout",
     "output_type": "stream",
     "text": [
      "Epoch: 143\n",
      "Validation Loss: 20.1576\n"
     ]
    },
    {
     "name": "stderr",
     "output_type": "stream",
     "text": [
      "Epoch 144/1000: 100%|██████████| 1/1 [00:00<00:00, 23.19it/s]\n",
      "Epoch 145/1000: 100%|██████████| 1/1 [00:00<00:00, 21.89it/s]\n",
      "Validation: 100%|██████████| 1/1 [00:00<00:00, 40.35it/s]\n"
     ]
    },
    {
     "name": "stdout",
     "output_type": "stream",
     "text": [
      "Epoch: 145\n",
      "Validation Loss: 20.5176\n"
     ]
    },
    {
     "name": "stderr",
     "output_type": "stream",
     "text": [
      "Epoch 146/1000: 100%|██████████| 1/1 [00:00<00:00, 26.72it/s]\n",
      "Epoch 147/1000: 100%|██████████| 1/1 [00:00<00:00, 25.06it/s]\n",
      "Validation: 100%|██████████| 1/1 [00:00<00:00, 35.86it/s]\n"
     ]
    },
    {
     "name": "stdout",
     "output_type": "stream",
     "text": [
      "Epoch: 147\n",
      "Validation Loss: 20.3595\n"
     ]
    },
    {
     "name": "stderr",
     "output_type": "stream",
     "text": [
      "Epoch 148/1000: 100%|██████████| 1/1 [00:00<00:00, 20.32it/s]\n",
      "Epoch 149/1000: 100%|██████████| 1/1 [00:00<00:00, 23.41it/s]\n",
      "Validation: 100%|██████████| 1/1 [00:00<00:00, 35.22it/s]\n"
     ]
    },
    {
     "name": "stdout",
     "output_type": "stream",
     "text": [
      "Epoch: 149\n",
      "Validation Loss: 20.3619\n"
     ]
    },
    {
     "name": "stderr",
     "output_type": "stream",
     "text": [
      "Epoch 150/1000: 100%|██████████| 1/1 [00:00<00:00, 25.73it/s]\n",
      "Epoch 151/1000: 100%|██████████| 1/1 [00:00<00:00, 26.00it/s]\n",
      "Validation: 100%|██████████| 1/1 [00:00<00:00, 39.45it/s]\n"
     ]
    },
    {
     "name": "stdout",
     "output_type": "stream",
     "text": [
      "Epoch: 151\n",
      "Validation Loss: 20.5565\n"
     ]
    },
    {
     "name": "stderr",
     "output_type": "stream",
     "text": [
      "Epoch 152/1000: 100%|██████████| 1/1 [00:00<00:00, 22.14it/s]\n",
      "Epoch 153/1000: 100%|██████████| 1/1 [00:00<00:00, 24.75it/s]\n",
      "Validation: 100%|██████████| 1/1 [00:00<00:00, 39.85it/s]\n"
     ]
    },
    {
     "name": "stdout",
     "output_type": "stream",
     "text": [
      "Epoch: 153\n",
      "Validation Loss: 20.6660\n"
     ]
    },
    {
     "name": "stderr",
     "output_type": "stream",
     "text": [
      "Epoch 154/1000: 100%|██████████| 1/1 [00:00<00:00, 25.70it/s]\n",
      "Epoch 155/1000: 100%|██████████| 1/1 [00:00<00:00, 26.78it/s]\n",
      "Validation: 100%|██████████| 1/1 [00:00<00:00, 36.33it/s]\n"
     ]
    },
    {
     "name": "stdout",
     "output_type": "stream",
     "text": [
      "Epoch: 155\n",
      "Validation Loss: 19.8033\n"
     ]
    },
    {
     "name": "stderr",
     "output_type": "stream",
     "text": [
      "Epoch 156/1000: 100%|██████████| 1/1 [00:00<00:00, 26.21it/s]\n",
      "Epoch 157/1000: 100%|██████████| 1/1 [00:00<00:00, 26.18it/s]\n",
      "Validation: 100%|██████████| 1/1 [00:00<00:00, 39.55it/s]\n"
     ]
    },
    {
     "name": "stdout",
     "output_type": "stream",
     "text": [
      "Epoch: 157\n",
      "Validation Loss: 19.8113\n"
     ]
    },
    {
     "name": "stderr",
     "output_type": "stream",
     "text": [
      "Epoch 158/1000: 100%|██████████| 1/1 [00:00<00:00, 26.65it/s]\n",
      "Epoch 159/1000: 100%|██████████| 1/1 [00:00<00:00, 27.15it/s]\n",
      "Validation: 100%|██████████| 1/1 [00:00<00:00, 39.34it/s]\n"
     ]
    },
    {
     "name": "stdout",
     "output_type": "stream",
     "text": [
      "Epoch: 159\n",
      "Validation Loss: 19.9516\n"
     ]
    },
    {
     "name": "stderr",
     "output_type": "stream",
     "text": [
      "Epoch 160/1000: 100%|██████████| 1/1 [00:00<00:00, 25.63it/s]\n",
      "Epoch 161/1000: 100%|██████████| 1/1 [00:00<00:00, 26.24it/s]\n",
      "Validation: 100%|██████████| 1/1 [00:00<00:00, 35.02it/s]\n"
     ]
    },
    {
     "name": "stdout",
     "output_type": "stream",
     "text": [
      "Epoch: 161\n",
      "Validation Loss: 20.6248\n"
     ]
    },
    {
     "name": "stderr",
     "output_type": "stream",
     "text": [
      "Epoch 162/1000: 100%|██████████| 1/1 [00:00<00:00, 24.63it/s]\n",
      "Epoch 163/1000: 100%|██████████| 1/1 [00:00<00:00, 26.98it/s]\n",
      "Validation: 100%|██████████| 1/1 [00:00<00:00, 38.63it/s]\n"
     ]
    },
    {
     "name": "stdout",
     "output_type": "stream",
     "text": [
      "Epoch: 163\n",
      "Validation Loss: 20.4834\n"
     ]
    },
    {
     "name": "stderr",
     "output_type": "stream",
     "text": [
      "Epoch 164/1000: 100%|██████████| 1/1 [00:00<00:00, 25.50it/s]\n",
      "Epoch 165/1000: 100%|██████████| 1/1 [00:00<00:00, 25.99it/s]\n",
      "Validation: 100%|██████████| 1/1 [00:00<00:00, 39.06it/s]\n"
     ]
    },
    {
     "name": "stdout",
     "output_type": "stream",
     "text": [
      "Epoch: 165\n",
      "Validation Loss: 20.3285\n"
     ]
    },
    {
     "name": "stderr",
     "output_type": "stream",
     "text": [
      "Epoch 166/1000: 100%|██████████| 1/1 [00:00<00:00, 26.67it/s]\n",
      "Epoch 167/1000: 100%|██████████| 1/1 [00:00<00:00, 26.20it/s]\n",
      "Validation: 100%|██████████| 1/1 [00:00<00:00, 31.49it/s]\n"
     ]
    },
    {
     "name": "stdout",
     "output_type": "stream",
     "text": [
      "Epoch: 167\n",
      "Validation Loss: 20.1848\n"
     ]
    },
    {
     "name": "stderr",
     "output_type": "stream",
     "text": [
      "Epoch 168/1000: 100%|██████████| 1/1 [00:00<00:00, 26.82it/s]\n",
      "Epoch 169/1000: 100%|██████████| 1/1 [00:00<00:00, 26.86it/s]\n",
      "Validation: 100%|██████████| 1/1 [00:00<00:00, 40.16it/s]\n"
     ]
    },
    {
     "name": "stdout",
     "output_type": "stream",
     "text": [
      "Epoch: 169\n",
      "Validation Loss: 20.2127\n"
     ]
    },
    {
     "name": "stderr",
     "output_type": "stream",
     "text": [
      "Epoch 170/1000: 100%|██████████| 1/1 [00:00<00:00, 26.51it/s]\n",
      "Epoch 171/1000: 100%|██████████| 1/1 [00:00<00:00, 24.15it/s]\n",
      "Validation: 100%|██████████| 1/1 [00:00<00:00, 38.74it/s]\n"
     ]
    },
    {
     "name": "stdout",
     "output_type": "stream",
     "text": [
      "Epoch: 171\n",
      "Validation Loss: 19.9618\n"
     ]
    },
    {
     "name": "stderr",
     "output_type": "stream",
     "text": [
      "Epoch 172/1000: 100%|██████████| 1/1 [00:00<00:00, 26.15it/s]\n",
      "Epoch 173/1000: 100%|██████████| 1/1 [00:00<00:00, 26.72it/s]\n",
      "Validation: 100%|██████████| 1/1 [00:00<00:00, 41.14it/s]\n"
     ]
    },
    {
     "name": "stdout",
     "output_type": "stream",
     "text": [
      "Epoch: 173\n",
      "Validation Loss: 19.4410\n"
     ]
    },
    {
     "name": "stderr",
     "output_type": "stream",
     "text": [
      "Epoch 174/1000: 100%|██████████| 1/1 [00:00<00:00, 26.67it/s]\n",
      "Epoch 175/1000: 100%|██████████| 1/1 [00:00<00:00, 26.17it/s]\n",
      "Validation: 100%|██████████| 1/1 [00:00<00:00, 35.64it/s]\n"
     ]
    },
    {
     "name": "stdout",
     "output_type": "stream",
     "text": [
      "Epoch: 175\n",
      "Validation Loss: 19.3137\n"
     ]
    },
    {
     "name": "stderr",
     "output_type": "stream",
     "text": [
      "Epoch 176/1000: 100%|██████████| 1/1 [00:00<00:00, 23.00it/s]\n",
      "Epoch 177/1000: 100%|██████████| 1/1 [00:00<00:00, 22.04it/s]\n",
      "Validation: 100%|██████████| 1/1 [00:00<00:00, 38.90it/s]\n"
     ]
    },
    {
     "name": "stdout",
     "output_type": "stream",
     "text": [
      "Epoch: 177\n",
      "Validation Loss: 20.0036\n"
     ]
    },
    {
     "name": "stderr",
     "output_type": "stream",
     "text": [
      "Epoch 178/1000: 100%|██████████| 1/1 [00:00<00:00, 24.89it/s]\n",
      "Epoch 179/1000: 100%|██████████| 1/1 [00:00<00:00, 27.12it/s]\n",
      "Validation: 100%|██████████| 1/1 [00:00<00:00, 38.21it/s]\n"
     ]
    },
    {
     "name": "stdout",
     "output_type": "stream",
     "text": [
      "Epoch: 179\n",
      "Validation Loss: 19.4732\n"
     ]
    },
    {
     "name": "stderr",
     "output_type": "stream",
     "text": [
      "Epoch 180/1000: 100%|██████████| 1/1 [00:00<00:00, 26.94it/s]\n",
      "Epoch 181/1000: 100%|██████████| 1/1 [00:00<00:00, 26.36it/s]\n",
      "Validation: 100%|██████████| 1/1 [00:00<00:00, 34.54it/s]\n"
     ]
    },
    {
     "name": "stdout",
     "output_type": "stream",
     "text": [
      "Epoch: 181\n",
      "Validation Loss: 19.3237\n"
     ]
    },
    {
     "name": "stderr",
     "output_type": "stream",
     "text": [
      "Epoch 182/1000: 100%|██████████| 1/1 [00:00<00:00, 23.02it/s]\n",
      "Epoch 183/1000: 100%|██████████| 1/1 [00:00<00:00, 26.79it/s]\n",
      "Validation: 100%|██████████| 1/1 [00:00<00:00, 39.63it/s]\n"
     ]
    },
    {
     "name": "stdout",
     "output_type": "stream",
     "text": [
      "Epoch: 183\n",
      "Validation Loss: 20.1254\n"
     ]
    },
    {
     "name": "stderr",
     "output_type": "stream",
     "text": [
      "Epoch 184/1000: 100%|██████████| 1/1 [00:00<00:00, 26.13it/s]\n",
      "Epoch 185/1000: 100%|██████████| 1/1 [00:00<00:00, 27.44it/s]\n",
      "Validation: 100%|██████████| 1/1 [00:00<00:00, 38.91it/s]\n"
     ]
    },
    {
     "name": "stdout",
     "output_type": "stream",
     "text": [
      "Epoch: 185\n",
      "Validation Loss: 19.6167\n"
     ]
    },
    {
     "name": "stderr",
     "output_type": "stream",
     "text": [
      "Epoch 186/1000: 100%|██████████| 1/1 [00:00<00:00, 26.47it/s]\n",
      "Epoch 187/1000: 100%|██████████| 1/1 [00:00<00:00, 26.64it/s]\n",
      "Validation: 100%|██████████| 1/1 [00:00<00:00, 39.23it/s]\n"
     ]
    },
    {
     "name": "stdout",
     "output_type": "stream",
     "text": [
      "Epoch: 187\n",
      "Validation Loss: 19.2199\n"
     ]
    },
    {
     "name": "stderr",
     "output_type": "stream",
     "text": [
      "Epoch 188/1000: 100%|██████████| 1/1 [00:00<00:00, 23.03it/s]\n",
      "Epoch 189/1000: 100%|██████████| 1/1 [00:00<00:00, 24.66it/s]\n",
      "Validation: 100%|██████████| 1/1 [00:00<00:00, 38.84it/s]\n"
     ]
    },
    {
     "name": "stdout",
     "output_type": "stream",
     "text": [
      "Epoch: 189\n",
      "Validation Loss: 18.7201\n"
     ]
    },
    {
     "name": "stderr",
     "output_type": "stream",
     "text": [
      "Epoch 190/1000: 100%|██████████| 1/1 [00:00<00:00, 26.08it/s]\n",
      "Epoch 191/1000: 100%|██████████| 1/1 [00:00<00:00, 27.33it/s]\n",
      "Validation: 100%|██████████| 1/1 [00:00<00:00, 40.63it/s]\n"
     ]
    },
    {
     "name": "stdout",
     "output_type": "stream",
     "text": [
      "Epoch: 191\n",
      "Validation Loss: 19.6295\n"
     ]
    },
    {
     "name": "stderr",
     "output_type": "stream",
     "text": [
      "Epoch 192/1000: 100%|██████████| 1/1 [00:00<00:00, 26.44it/s]\n",
      "Epoch 193/1000: 100%|██████████| 1/1 [00:00<00:00, 25.89it/s]\n",
      "Validation: 100%|██████████| 1/1 [00:00<00:00, 38.22it/s]\n"
     ]
    },
    {
     "name": "stdout",
     "output_type": "stream",
     "text": [
      "Epoch: 193\n",
      "Validation Loss: 20.2482\n"
     ]
    },
    {
     "name": "stderr",
     "output_type": "stream",
     "text": [
      "Epoch 194/1000: 100%|██████████| 1/1 [00:00<00:00, 22.52it/s]\n",
      "Epoch 195/1000: 100%|██████████| 1/1 [00:00<00:00, 23.65it/s]\n",
      "Validation: 100%|██████████| 1/1 [00:00<00:00, 36.49it/s]\n"
     ]
    },
    {
     "name": "stdout",
     "output_type": "stream",
     "text": [
      "Epoch: 195\n",
      "Validation Loss: 19.8584\n"
     ]
    },
    {
     "name": "stderr",
     "output_type": "stream",
     "text": [
      "Epoch 196/1000: 100%|██████████| 1/1 [00:00<00:00, 23.84it/s]\n",
      "Epoch 197/1000: 100%|██████████| 1/1 [00:00<00:00, 23.69it/s]\n",
      "Validation: 100%|██████████| 1/1 [00:00<00:00, 35.20it/s]\n"
     ]
    },
    {
     "name": "stdout",
     "output_type": "stream",
     "text": [
      "Epoch: 197\n",
      "Validation Loss: 19.0343\n"
     ]
    },
    {
     "name": "stderr",
     "output_type": "stream",
     "text": [
      "Epoch 198/1000: 100%|██████████| 1/1 [00:00<00:00, 25.76it/s]\n",
      "Epoch 199/1000: 100%|██████████| 1/1 [00:00<00:00, 24.86it/s]\n",
      "Validation: 100%|██████████| 1/1 [00:00<00:00, 38.66it/s]\n"
     ]
    },
    {
     "name": "stdout",
     "output_type": "stream",
     "text": [
      "Epoch: 199\n",
      "Validation Loss: 18.4948\n"
     ]
    },
    {
     "name": "stderr",
     "output_type": "stream",
     "text": [
      "Epoch 200/1000: 100%|██████████| 1/1 [00:00<00:00, 25.78it/s]\n",
      "Epoch 201/1000: 100%|██████████| 1/1 [00:00<00:00, 26.12it/s]\n",
      "Validation: 100%|██████████| 1/1 [00:00<00:00, 39.10it/s]\n"
     ]
    },
    {
     "name": "stdout",
     "output_type": "stream",
     "text": [
      "Epoch: 201\n",
      "Validation Loss: 19.0640\n"
     ]
    },
    {
     "name": "stderr",
     "output_type": "stream",
     "text": [
      "Epoch 202/1000: 100%|██████████| 1/1 [00:00<00:00, 26.01it/s]\n",
      "Epoch 203/1000: 100%|██████████| 1/1 [00:00<00:00, 25.85it/s]\n",
      "Validation: 100%|██████████| 1/1 [00:00<00:00, 39.20it/s]\n"
     ]
    },
    {
     "name": "stdout",
     "output_type": "stream",
     "text": [
      "Epoch: 203\n",
      "Validation Loss: 18.8996\n"
     ]
    },
    {
     "name": "stderr",
     "output_type": "stream",
     "text": [
      "Epoch 204/1000: 100%|██████████| 1/1 [00:00<00:00, 22.95it/s]\n",
      "Epoch 205/1000: 100%|██████████| 1/1 [00:00<00:00, 25.20it/s]\n",
      "Validation: 100%|██████████| 1/1 [00:00<00:00, 39.92it/s]\n"
     ]
    },
    {
     "name": "stdout",
     "output_type": "stream",
     "text": [
      "Epoch: 205\n",
      "Validation Loss: 18.6443\n"
     ]
    },
    {
     "name": "stderr",
     "output_type": "stream",
     "text": [
      "Epoch 206/1000: 100%|██████████| 1/1 [00:00<00:00, 24.93it/s]\n",
      "Epoch 207/1000: 100%|██████████| 1/1 [00:00<00:00, 26.91it/s]\n",
      "Validation: 100%|██████████| 1/1 [00:00<00:00, 40.06it/s]\n"
     ]
    },
    {
     "name": "stdout",
     "output_type": "stream",
     "text": [
      "Epoch: 207\n",
      "Validation Loss: 18.3713\n"
     ]
    },
    {
     "name": "stderr",
     "output_type": "stream",
     "text": [
      "Epoch 208/1000: 100%|██████████| 1/1 [00:00<00:00, 26.40it/s]\n",
      "Epoch 209/1000: 100%|██████████| 1/1 [00:00<00:00, 27.64it/s]\n",
      "Validation: 100%|██████████| 1/1 [00:00<00:00, 41.07it/s]\n"
     ]
    },
    {
     "name": "stdout",
     "output_type": "stream",
     "text": [
      "Epoch: 209\n",
      "Validation Loss: 18.0621\n"
     ]
    },
    {
     "name": "stderr",
     "output_type": "stream",
     "text": [
      "Epoch 210/1000: 100%|██████████| 1/1 [00:00<00:00, 26.64it/s]\n",
      "Epoch 211/1000: 100%|██████████| 1/1 [00:00<00:00, 25.07it/s]\n",
      "Validation: 100%|██████████| 1/1 [00:00<00:00, 40.23it/s]\n"
     ]
    },
    {
     "name": "stdout",
     "output_type": "stream",
     "text": [
      "Epoch: 211\n",
      "Validation Loss: 17.7131\n"
     ]
    },
    {
     "name": "stderr",
     "output_type": "stream",
     "text": [
      "Epoch 212/1000: 100%|██████████| 1/1 [00:00<00:00, 26.76it/s]\n",
      "Epoch 213/1000: 100%|██████████| 1/1 [00:00<00:00, 27.05it/s]\n",
      "Validation: 100%|██████████| 1/1 [00:00<00:00, 40.61it/s]\n"
     ]
    },
    {
     "name": "stdout",
     "output_type": "stream",
     "text": [
      "Epoch: 213\n",
      "Validation Loss: 18.0023\n"
     ]
    },
    {
     "name": "stderr",
     "output_type": "stream",
     "text": [
      "Epoch 214/1000: 100%|██████████| 1/1 [00:00<00:00, 26.74it/s]\n",
      "Epoch 215/1000: 100%|██████████| 1/1 [00:00<00:00, 27.29it/s]\n",
      "Validation: 100%|██████████| 1/1 [00:00<00:00, 41.25it/s]\n"
     ]
    },
    {
     "name": "stdout",
     "output_type": "stream",
     "text": [
      "Epoch: 215\n",
      "Validation Loss: 17.3366\n"
     ]
    },
    {
     "name": "stderr",
     "output_type": "stream",
     "text": [
      "Epoch 216/1000: 100%|██████████| 1/1 [00:00<00:00, 27.09it/s]\n",
      "Epoch 217/1000: 100%|██████████| 1/1 [00:00<00:00, 25.88it/s]\n",
      "Validation: 100%|██████████| 1/1 [00:00<00:00, 39.73it/s]\n"
     ]
    },
    {
     "name": "stdout",
     "output_type": "stream",
     "text": [
      "Epoch: 217\n",
      "Validation Loss: 17.6580\n"
     ]
    },
    {
     "name": "stderr",
     "output_type": "stream",
     "text": [
      "Epoch 218/1000: 100%|██████████| 1/1 [00:00<00:00, 26.31it/s]\n",
      "Epoch 219/1000: 100%|██████████| 1/1 [00:00<00:00, 27.25it/s]\n",
      "Validation: 100%|██████████| 1/1 [00:00<00:00, 41.62it/s]\n"
     ]
    },
    {
     "name": "stdout",
     "output_type": "stream",
     "text": [
      "Epoch: 219\n",
      "Validation Loss: 17.5425\n"
     ]
    },
    {
     "name": "stderr",
     "output_type": "stream",
     "text": [
      "Epoch 220/1000: 100%|██████████| 1/1 [00:00<00:00, 26.83it/s]\n",
      "Epoch 221/1000: 100%|██████████| 1/1 [00:00<00:00, 26.65it/s]\n",
      "Validation: 100%|██████████| 1/1 [00:00<00:00, 39.77it/s]\n"
     ]
    },
    {
     "name": "stdout",
     "output_type": "stream",
     "text": [
      "Epoch: 221\n",
      "Validation Loss: 18.0331\n"
     ]
    },
    {
     "name": "stderr",
     "output_type": "stream",
     "text": [
      "Epoch 222/1000: 100%|██████████| 1/1 [00:00<00:00, 27.01it/s]\n",
      "Epoch 223/1000: 100%|██████████| 1/1 [00:00<00:00, 27.80it/s]\n",
      "Validation: 100%|██████████| 1/1 [00:00<00:00, 38.85it/s]\n"
     ]
    },
    {
     "name": "stdout",
     "output_type": "stream",
     "text": [
      "Epoch: 223\n",
      "Validation Loss: 17.5963\n"
     ]
    },
    {
     "name": "stderr",
     "output_type": "stream",
     "text": [
      "Epoch 224/1000: 100%|██████████| 1/1 [00:00<00:00, 28.07it/s]\n",
      "Epoch 225/1000: 100%|██████████| 1/1 [00:00<00:00, 27.37it/s]\n",
      "Validation: 100%|██████████| 1/1 [00:00<00:00, 40.92it/s]\n"
     ]
    },
    {
     "name": "stdout",
     "output_type": "stream",
     "text": [
      "Epoch: 225\n",
      "Validation Loss: 17.3080\n"
     ]
    },
    {
     "name": "stderr",
     "output_type": "stream",
     "text": [
      "Epoch 226/1000: 100%|██████████| 1/1 [00:00<00:00, 25.93it/s]\n",
      "Epoch 227/1000: 100%|██████████| 1/1 [00:00<00:00, 27.11it/s]\n",
      "Validation: 100%|██████████| 1/1 [00:00<00:00, 40.87it/s]\n"
     ]
    },
    {
     "name": "stdout",
     "output_type": "stream",
     "text": [
      "Epoch: 227\n",
      "Validation Loss: 17.3183\n"
     ]
    },
    {
     "name": "stderr",
     "output_type": "stream",
     "text": [
      "Epoch 228/1000: 100%|██████████| 1/1 [00:00<00:00, 26.12it/s]\n",
      "Epoch 229/1000: 100%|██████████| 1/1 [00:00<00:00, 24.99it/s]\n",
      "Validation: 100%|██████████| 1/1 [00:00<00:00, 40.34it/s]\n"
     ]
    },
    {
     "name": "stdout",
     "output_type": "stream",
     "text": [
      "Epoch: 229\n",
      "Validation Loss: 17.7305\n"
     ]
    },
    {
     "name": "stderr",
     "output_type": "stream",
     "text": [
      "Epoch 230/1000: 100%|██████████| 1/1 [00:00<00:00, 26.97it/s]\n",
      "Epoch 231/1000: 100%|██████████| 1/1 [00:00<00:00, 25.79it/s]\n",
      "Validation: 100%|██████████| 1/1 [00:00<00:00, 39.58it/s]\n"
     ]
    },
    {
     "name": "stdout",
     "output_type": "stream",
     "text": [
      "Epoch: 231\n",
      "Validation Loss: 17.3637\n"
     ]
    },
    {
     "name": "stderr",
     "output_type": "stream",
     "text": [
      "Epoch 232/1000: 100%|██████████| 1/1 [00:00<00:00, 26.44it/s]\n",
      "Epoch 233/1000: 100%|██████████| 1/1 [00:00<00:00, 26.83it/s]\n",
      "Validation: 100%|██████████| 1/1 [00:00<00:00, 40.57it/s]\n"
     ]
    },
    {
     "name": "stdout",
     "output_type": "stream",
     "text": [
      "Epoch: 233\n",
      "Validation Loss: 17.2788\n"
     ]
    },
    {
     "name": "stderr",
     "output_type": "stream",
     "text": [
      "Epoch 234/1000: 100%|██████████| 1/1 [00:00<00:00, 26.90it/s]\n",
      "Epoch 235/1000: 100%|██████████| 1/1 [00:00<00:00, 27.55it/s]\n",
      "Validation: 100%|██████████| 1/1 [00:00<00:00, 39.52it/s]\n"
     ]
    },
    {
     "name": "stdout",
     "output_type": "stream",
     "text": [
      "Epoch: 235\n",
      "Validation Loss: 17.5198\n"
     ]
    },
    {
     "name": "stderr",
     "output_type": "stream",
     "text": [
      "Epoch 236/1000: 100%|██████████| 1/1 [00:00<00:00, 26.82it/s]\n",
      "Epoch 237/1000: 100%|██████████| 1/1 [00:00<00:00, 26.97it/s]\n",
      "Validation: 100%|██████████| 1/1 [00:00<00:00, 37.70it/s]\n"
     ]
    },
    {
     "name": "stdout",
     "output_type": "stream",
     "text": [
      "Epoch: 237\n",
      "Validation Loss: 17.0445\n"
     ]
    },
    {
     "name": "stderr",
     "output_type": "stream",
     "text": [
      "Epoch 238/1000: 100%|██████████| 1/1 [00:00<00:00, 21.79it/s]\n",
      "Epoch 239/1000: 100%|██████████| 1/1 [00:00<00:00, 26.97it/s]\n",
      "Validation: 100%|██████████| 1/1 [00:00<00:00, 37.65it/s]\n"
     ]
    },
    {
     "name": "stdout",
     "output_type": "stream",
     "text": [
      "Epoch: 239\n",
      "Validation Loss: 17.2337\n"
     ]
    },
    {
     "name": "stderr",
     "output_type": "stream",
     "text": [
      "Epoch 240/1000: 100%|██████████| 1/1 [00:00<00:00, 26.29it/s]\n",
      "Epoch 241/1000: 100%|██████████| 1/1 [00:00<00:00, 27.54it/s]\n",
      "Validation: 100%|██████████| 1/1 [00:00<00:00, 39.53it/s]\n"
     ]
    },
    {
     "name": "stdout",
     "output_type": "stream",
     "text": [
      "Epoch: 241\n",
      "Validation Loss: 16.8023\n"
     ]
    },
    {
     "name": "stderr",
     "output_type": "stream",
     "text": [
      "Epoch 242/1000: 100%|██████████| 1/1 [00:00<00:00, 26.60it/s]\n",
      "Epoch 243/1000: 100%|██████████| 1/1 [00:00<00:00, 26.55it/s]\n",
      "Validation: 100%|██████████| 1/1 [00:00<00:00, 39.41it/s]\n"
     ]
    },
    {
     "name": "stdout",
     "output_type": "stream",
     "text": [
      "Epoch: 243\n",
      "Validation Loss: 17.0323\n"
     ]
    },
    {
     "name": "stderr",
     "output_type": "stream",
     "text": [
      "Epoch 244/1000: 100%|██████████| 1/1 [00:00<00:00, 25.45it/s]\n",
      "Epoch 245/1000: 100%|██████████| 1/1 [00:00<00:00, 26.80it/s]\n",
      "Validation: 100%|██████████| 1/1 [00:00<00:00, 40.65it/s]\n"
     ]
    },
    {
     "name": "stdout",
     "output_type": "stream",
     "text": [
      "Epoch: 245\n",
      "Validation Loss: 17.6170\n"
     ]
    },
    {
     "name": "stderr",
     "output_type": "stream",
     "text": [
      "Epoch 246/1000: 100%|██████████| 1/1 [00:00<00:00, 24.36it/s]\n",
      "Epoch 247/1000: 100%|██████████| 1/1 [00:00<00:00, 24.96it/s]\n",
      "Validation: 100%|██████████| 1/1 [00:00<00:00, 40.76it/s]\n"
     ]
    },
    {
     "name": "stdout",
     "output_type": "stream",
     "text": [
      "Epoch: 247\n",
      "Validation Loss: 17.3556\n"
     ]
    },
    {
     "name": "stderr",
     "output_type": "stream",
     "text": [
      "Epoch 248/1000: 100%|██████████| 1/1 [00:00<00:00, 26.63it/s]\n",
      "Epoch 249/1000: 100%|██████████| 1/1 [00:00<00:00, 25.39it/s]\n",
      "Validation: 100%|██████████| 1/1 [00:00<00:00, 38.88it/s]\n"
     ]
    },
    {
     "name": "stdout",
     "output_type": "stream",
     "text": [
      "Epoch: 249\n",
      "Validation Loss: 16.4645\n"
     ]
    },
    {
     "name": "stderr",
     "output_type": "stream",
     "text": [
      "Epoch 250/1000: 100%|██████████| 1/1 [00:00<00:00, 26.73it/s]\n",
      "Epoch 251/1000: 100%|██████████| 1/1 [00:00<00:00, 23.36it/s]\n",
      "Validation: 100%|██████████| 1/1 [00:00<00:00, 39.64it/s]\n"
     ]
    },
    {
     "name": "stdout",
     "output_type": "stream",
     "text": [
      "Epoch: 251\n",
      "Validation Loss: 16.1937\n"
     ]
    },
    {
     "name": "stderr",
     "output_type": "stream",
     "text": [
      "Epoch 252/1000: 100%|██████████| 1/1 [00:00<00:00, 26.30it/s]\n",
      "Epoch 253/1000: 100%|██████████| 1/1 [00:00<00:00, 25.52it/s]\n",
      "Validation: 100%|██████████| 1/1 [00:00<00:00, 38.92it/s]\n"
     ]
    },
    {
     "name": "stdout",
     "output_type": "stream",
     "text": [
      "Epoch: 253\n",
      "Validation Loss: 16.2133\n"
     ]
    },
    {
     "name": "stderr",
     "output_type": "stream",
     "text": [
      "Epoch 254/1000: 100%|██████████| 1/1 [00:00<00:00, 26.84it/s]\n",
      "Epoch 255/1000: 100%|██████████| 1/1 [00:00<00:00, 27.47it/s]\n",
      "Validation: 100%|██████████| 1/1 [00:00<00:00, 39.92it/s]\n"
     ]
    },
    {
     "name": "stdout",
     "output_type": "stream",
     "text": [
      "Epoch: 255\n",
      "Validation Loss: 16.1526\n"
     ]
    },
    {
     "name": "stderr",
     "output_type": "stream",
     "text": [
      "Epoch 256/1000: 100%|██████████| 1/1 [00:00<00:00, 27.76it/s]\n",
      "Epoch 257/1000: 100%|██████████| 1/1 [00:00<00:00, 27.09it/s]\n",
      "Validation: 100%|██████████| 1/1 [00:00<00:00, 39.13it/s]\n"
     ]
    },
    {
     "name": "stdout",
     "output_type": "stream",
     "text": [
      "Epoch: 257\n",
      "Validation Loss: 16.0526\n"
     ]
    },
    {
     "name": "stderr",
     "output_type": "stream",
     "text": [
      "Epoch 258/1000: 100%|██████████| 1/1 [00:00<00:00, 26.47it/s]\n",
      "Epoch 259/1000: 100%|██████████| 1/1 [00:00<00:00, 26.31it/s]\n",
      "Validation: 100%|██████████| 1/1 [00:00<00:00, 40.48it/s]\n"
     ]
    },
    {
     "name": "stdout",
     "output_type": "stream",
     "text": [
      "Epoch: 259\n",
      "Validation Loss: 15.8735\n"
     ]
    },
    {
     "name": "stderr",
     "output_type": "stream",
     "text": [
      "Epoch 260/1000: 100%|██████████| 1/1 [00:00<00:00, 26.06it/s]\n",
      "Epoch 261/1000: 100%|██████████| 1/1 [00:00<00:00, 26.82it/s]\n",
      "Validation: 100%|██████████| 1/1 [00:00<00:00, 39.50it/s]\n"
     ]
    },
    {
     "name": "stdout",
     "output_type": "stream",
     "text": [
      "Epoch: 261\n",
      "Validation Loss: 16.2061\n"
     ]
    },
    {
     "name": "stderr",
     "output_type": "stream",
     "text": [
      "Epoch 262/1000: 100%|██████████| 1/1 [00:00<00:00, 22.71it/s]\n",
      "Epoch 263/1000: 100%|██████████| 1/1 [00:00<00:00, 27.61it/s]\n",
      "Validation: 100%|██████████| 1/1 [00:00<00:00, 40.20it/s]\n"
     ]
    },
    {
     "name": "stdout",
     "output_type": "stream",
     "text": [
      "Epoch: 263\n",
      "Validation Loss: 15.5937\n"
     ]
    },
    {
     "name": "stderr",
     "output_type": "stream",
     "text": [
      "Epoch 264/1000: 100%|██████████| 1/1 [00:00<00:00, 27.05it/s]\n",
      "Epoch 265/1000: 100%|██████████| 1/1 [00:00<00:00, 27.26it/s]\n",
      "Validation: 100%|██████████| 1/1 [00:00<00:00, 39.45it/s]\n"
     ]
    },
    {
     "name": "stdout",
     "output_type": "stream",
     "text": [
      "Epoch: 265\n",
      "Validation Loss: 16.4371\n"
     ]
    },
    {
     "name": "stderr",
     "output_type": "stream",
     "text": [
      "Epoch 266/1000: 100%|██████████| 1/1 [00:00<00:00, 26.44it/s]\n",
      "Epoch 267/1000: 100%|██████████| 1/1 [00:00<00:00, 26.97it/s]\n",
      "Validation: 100%|██████████| 1/1 [00:00<00:00, 40.56it/s]\n"
     ]
    },
    {
     "name": "stdout",
     "output_type": "stream",
     "text": [
      "Epoch: 267\n",
      "Validation Loss: 15.5014\n"
     ]
    },
    {
     "name": "stderr",
     "output_type": "stream",
     "text": [
      "Epoch 268/1000: 100%|██████████| 1/1 [00:00<00:00, 26.63it/s]\n",
      "Epoch 269/1000: 100%|██████████| 1/1 [00:00<00:00, 27.44it/s]\n",
      "Validation: 100%|██████████| 1/1 [00:00<00:00, 39.21it/s]\n"
     ]
    },
    {
     "name": "stdout",
     "output_type": "stream",
     "text": [
      "Epoch: 269\n",
      "Validation Loss: 15.6573\n"
     ]
    },
    {
     "name": "stderr",
     "output_type": "stream",
     "text": [
      "Epoch 270/1000: 100%|██████████| 1/1 [00:00<00:00, 26.51it/s]\n",
      "Epoch 271/1000: 100%|██████████| 1/1 [00:00<00:00, 26.75it/s]\n",
      "Validation: 100%|██████████| 1/1 [00:00<00:00, 40.77it/s]\n"
     ]
    },
    {
     "name": "stdout",
     "output_type": "stream",
     "text": [
      "Epoch: 271\n",
      "Validation Loss: 15.8205\n"
     ]
    },
    {
     "name": "stderr",
     "output_type": "stream",
     "text": [
      "Epoch 272/1000: 100%|██████████| 1/1 [00:00<00:00, 24.96it/s]\n",
      "Epoch 273/1000: 100%|██████████| 1/1 [00:00<00:00, 26.74it/s]\n",
      "Validation: 100%|██████████| 1/1 [00:00<00:00, 39.60it/s]\n"
     ]
    },
    {
     "name": "stdout",
     "output_type": "stream",
     "text": [
      "Epoch: 273\n",
      "Validation Loss: 15.5062\n"
     ]
    },
    {
     "name": "stderr",
     "output_type": "stream",
     "text": [
      "Epoch 274/1000: 100%|██████████| 1/1 [00:00<00:00, 23.50it/s]\n",
      "Epoch 275/1000: 100%|██████████| 1/1 [00:00<00:00, 25.86it/s]\n",
      "Validation: 100%|██████████| 1/1 [00:00<00:00, 40.46it/s]\n"
     ]
    },
    {
     "name": "stdout",
     "output_type": "stream",
     "text": [
      "Epoch: 275\n",
      "Validation Loss: 15.0955\n"
     ]
    },
    {
     "name": "stderr",
     "output_type": "stream",
     "text": [
      "Epoch 276/1000: 100%|██████████| 1/1 [00:00<00:00, 23.23it/s]\n",
      "Epoch 277/1000: 100%|██████████| 1/1 [00:00<00:00, 26.65it/s]\n",
      "Validation: 100%|██████████| 1/1 [00:00<00:00, 40.00it/s]\n"
     ]
    },
    {
     "name": "stdout",
     "output_type": "stream",
     "text": [
      "Epoch: 277\n",
      "Validation Loss: 15.2553\n"
     ]
    },
    {
     "name": "stderr",
     "output_type": "stream",
     "text": [
      "Epoch 278/1000: 100%|██████████| 1/1 [00:00<00:00, 26.46it/s]\n",
      "Epoch 279/1000: 100%|██████████| 1/1 [00:00<00:00, 23.86it/s]\n",
      "Validation: 100%|██████████| 1/1 [00:00<00:00, 36.12it/s]\n"
     ]
    },
    {
     "name": "stdout",
     "output_type": "stream",
     "text": [
      "Epoch: 279\n",
      "Validation Loss: 15.6951\n"
     ]
    },
    {
     "name": "stderr",
     "output_type": "stream",
     "text": [
      "Epoch 280/1000: 100%|██████████| 1/1 [00:00<00:00, 26.97it/s]\n",
      "Epoch 281/1000: 100%|██████████| 1/1 [00:00<00:00, 27.27it/s]\n",
      "Validation: 100%|██████████| 1/1 [00:00<00:00, 39.40it/s]\n"
     ]
    },
    {
     "name": "stdout",
     "output_type": "stream",
     "text": [
      "Epoch: 281\n",
      "Validation Loss: 15.1048\n"
     ]
    },
    {
     "name": "stderr",
     "output_type": "stream",
     "text": [
      "Epoch 282/1000: 100%|██████████| 1/1 [00:00<00:00, 22.47it/s]\n",
      "Epoch 283/1000: 100%|██████████| 1/1 [00:00<00:00, 26.83it/s]\n",
      "Validation: 100%|██████████| 1/1 [00:00<00:00, 38.18it/s]\n"
     ]
    },
    {
     "name": "stdout",
     "output_type": "stream",
     "text": [
      "Epoch: 283\n",
      "Validation Loss: 14.9695\n"
     ]
    },
    {
     "name": "stderr",
     "output_type": "stream",
     "text": [
      "Epoch 284/1000: 100%|██████████| 1/1 [00:00<00:00, 26.15it/s]\n",
      "Epoch 285/1000: 100%|██████████| 1/1 [00:00<00:00, 27.28it/s]\n",
      "Validation: 100%|██████████| 1/1 [00:00<00:00, 39.51it/s]\n"
     ]
    },
    {
     "name": "stdout",
     "output_type": "stream",
     "text": [
      "Epoch: 285\n",
      "Validation Loss: 14.5098\n"
     ]
    },
    {
     "name": "stderr",
     "output_type": "stream",
     "text": [
      "Epoch 286/1000: 100%|██████████| 1/1 [00:00<00:00, 27.27it/s]\n",
      "Epoch 287/1000: 100%|██████████| 1/1 [00:00<00:00, 25.67it/s]\n",
      "Validation: 100%|██████████| 1/1 [00:00<00:00, 40.38it/s]\n"
     ]
    },
    {
     "name": "stdout",
     "output_type": "stream",
     "text": [
      "Epoch: 287\n",
      "Validation Loss: 14.7839\n"
     ]
    },
    {
     "name": "stderr",
     "output_type": "stream",
     "text": [
      "Epoch 288/1000: 100%|██████████| 1/1 [00:00<00:00, 22.39it/s]\n",
      "Epoch 289/1000: 100%|██████████| 1/1 [00:00<00:00, 27.19it/s]\n",
      "Validation: 100%|██████████| 1/1 [00:00<00:00, 40.21it/s]\n"
     ]
    },
    {
     "name": "stdout",
     "output_type": "stream",
     "text": [
      "Epoch: 289\n",
      "Validation Loss: 14.2756\n"
     ]
    },
    {
     "name": "stderr",
     "output_type": "stream",
     "text": [
      "Epoch 290/1000: 100%|██████████| 1/1 [00:00<00:00, 26.17it/s]\n",
      "Epoch 291/1000: 100%|██████████| 1/1 [00:00<00:00, 27.37it/s]\n",
      "Validation: 100%|██████████| 1/1 [00:00<00:00, 39.86it/s]\n"
     ]
    },
    {
     "name": "stdout",
     "output_type": "stream",
     "text": [
      "Epoch: 291\n",
      "Validation Loss: 14.4581\n"
     ]
    },
    {
     "name": "stderr",
     "output_type": "stream",
     "text": [
      "Epoch 292/1000: 100%|██████████| 1/1 [00:00<00:00, 25.21it/s]\n",
      "Epoch 293/1000: 100%|██████████| 1/1 [00:00<00:00, 26.58it/s]\n",
      "Validation: 100%|██████████| 1/1 [00:00<00:00, 39.89it/s]\n"
     ]
    },
    {
     "name": "stdout",
     "output_type": "stream",
     "text": [
      "Epoch: 293\n",
      "Validation Loss: 14.3191\n"
     ]
    },
    {
     "name": "stderr",
     "output_type": "stream",
     "text": [
      "Epoch 294/1000: 100%|██████████| 1/1 [00:00<00:00, 26.03it/s]\n",
      "Epoch 295/1000: 100%|██████████| 1/1 [00:00<00:00, 27.08it/s]\n",
      "Validation: 100%|██████████| 1/1 [00:00<00:00, 38.55it/s]\n"
     ]
    },
    {
     "name": "stdout",
     "output_type": "stream",
     "text": [
      "Epoch: 295\n",
      "Validation Loss: 14.0317\n"
     ]
    },
    {
     "name": "stderr",
     "output_type": "stream",
     "text": [
      "Epoch 296/1000: 100%|██████████| 1/1 [00:00<00:00, 26.67it/s]\n",
      "Epoch 297/1000: 100%|██████████| 1/1 [00:00<00:00, 27.48it/s]\n",
      "Validation: 100%|██████████| 1/1 [00:00<00:00, 39.71it/s]\n"
     ]
    },
    {
     "name": "stdout",
     "output_type": "stream",
     "text": [
      "Epoch: 297\n",
      "Validation Loss: 14.3086\n"
     ]
    },
    {
     "name": "stderr",
     "output_type": "stream",
     "text": [
      "Epoch 298/1000: 100%|██████████| 1/1 [00:00<00:00, 25.61it/s]\n",
      "Epoch 299/1000: 100%|██████████| 1/1 [00:00<00:00, 26.54it/s]\n",
      "Validation: 100%|██████████| 1/1 [00:00<00:00, 39.15it/s]\n"
     ]
    },
    {
     "name": "stdout",
     "output_type": "stream",
     "text": [
      "Epoch: 299\n",
      "Validation Loss: 13.9565\n"
     ]
    },
    {
     "name": "stderr",
     "output_type": "stream",
     "text": [
      "Epoch 300/1000: 100%|██████████| 1/1 [00:00<00:00, 25.14it/s]\n",
      "Epoch 301/1000: 100%|██████████| 1/1 [00:00<00:00, 27.41it/s]\n",
      "Validation: 100%|██████████| 1/1 [00:00<00:00, 39.23it/s]\n"
     ]
    },
    {
     "name": "stdout",
     "output_type": "stream",
     "text": [
      "Epoch: 301\n",
      "Validation Loss: 13.7515\n"
     ]
    },
    {
     "name": "stderr",
     "output_type": "stream",
     "text": [
      "Epoch 302/1000: 100%|██████████| 1/1 [00:00<00:00, 26.15it/s]\n",
      "Epoch 303/1000: 100%|██████████| 1/1 [00:00<00:00, 26.22it/s]\n",
      "Validation: 100%|██████████| 1/1 [00:00<00:00, 40.58it/s]\n"
     ]
    },
    {
     "name": "stdout",
     "output_type": "stream",
     "text": [
      "Epoch: 303\n",
      "Validation Loss: 13.5426\n"
     ]
    },
    {
     "name": "stderr",
     "output_type": "stream",
     "text": [
      "Epoch 304/1000: 100%|██████████| 1/1 [00:00<00:00, 26.94it/s]\n",
      "Epoch 305/1000: 100%|██████████| 1/1 [00:00<00:00, 26.02it/s]\n",
      "Validation: 100%|██████████| 1/1 [00:00<00:00, 35.60it/s]\n"
     ]
    },
    {
     "name": "stdout",
     "output_type": "stream",
     "text": [
      "Epoch: 305\n",
      "Validation Loss: 13.9101\n"
     ]
    },
    {
     "name": "stderr",
     "output_type": "stream",
     "text": [
      "Epoch 306/1000: 100%|██████████| 1/1 [00:00<00:00, 22.21it/s]\n",
      "Epoch 307/1000: 100%|██████████| 1/1 [00:00<00:00, 25.49it/s]\n",
      "Validation: 100%|██████████| 1/1 [00:00<00:00, 26.21it/s]\n"
     ]
    },
    {
     "name": "stdout",
     "output_type": "stream",
     "text": [
      "Epoch: 307\n",
      "Validation Loss: 13.7836\n"
     ]
    },
    {
     "name": "stderr",
     "output_type": "stream",
     "text": [
      "Epoch 308/1000: 100%|██████████| 1/1 [00:00<00:00, 21.50it/s]\n",
      "Epoch 309/1000: 100%|██████████| 1/1 [00:00<00:00, 20.35it/s]\n",
      "Validation: 100%|██████████| 1/1 [00:00<00:00, 38.56it/s]\n"
     ]
    },
    {
     "name": "stdout",
     "output_type": "stream",
     "text": [
      "Epoch: 309\n",
      "Validation Loss: 13.7728\n"
     ]
    },
    {
     "name": "stderr",
     "output_type": "stream",
     "text": [
      "Epoch 310/1000: 100%|██████████| 1/1 [00:00<00:00, 24.38it/s]\n",
      "Epoch 311/1000: 100%|██████████| 1/1 [00:00<00:00, 28.30it/s]\n",
      "Validation: 100%|██████████| 1/1 [00:00<00:00, 42.23it/s]\n"
     ]
    },
    {
     "name": "stdout",
     "output_type": "stream",
     "text": [
      "Epoch: 311\n",
      "Validation Loss: 13.6022\n"
     ]
    },
    {
     "name": "stderr",
     "output_type": "stream",
     "text": [
      "Epoch 312/1000: 100%|██████████| 1/1 [00:00<00:00, 27.76it/s]\n",
      "Epoch 313/1000: 100%|██████████| 1/1 [00:00<00:00, 27.31it/s]\n",
      "Validation: 100%|██████████| 1/1 [00:00<00:00, 34.59it/s]\n"
     ]
    },
    {
     "name": "stdout",
     "output_type": "stream",
     "text": [
      "Epoch: 313\n",
      "Validation Loss: 14.0393\n"
     ]
    },
    {
     "name": "stderr",
     "output_type": "stream",
     "text": [
      "Epoch 314/1000: 100%|██████████| 1/1 [00:00<00:00, 26.36it/s]\n",
      "Epoch 315/1000: 100%|██████████| 1/1 [00:00<00:00, 24.51it/s]\n",
      "Validation: 100%|██████████| 1/1 [00:00<00:00, 39.33it/s]\n"
     ]
    },
    {
     "name": "stdout",
     "output_type": "stream",
     "text": [
      "Epoch: 315\n",
      "Validation Loss: 13.2045\n"
     ]
    },
    {
     "name": "stderr",
     "output_type": "stream",
     "text": [
      "Epoch 316/1000: 100%|██████████| 1/1 [00:00<00:00, 24.82it/s]\n",
      "Epoch 317/1000: 100%|██████████| 1/1 [00:00<00:00, 26.89it/s]\n",
      "Validation: 100%|██████████| 1/1 [00:00<00:00, 41.33it/s]\n"
     ]
    },
    {
     "name": "stdout",
     "output_type": "stream",
     "text": [
      "Epoch: 317\n",
      "Validation Loss: 13.0870\n"
     ]
    },
    {
     "name": "stderr",
     "output_type": "stream",
     "text": [
      "Epoch 318/1000: 100%|██████████| 1/1 [00:00<00:00, 26.74it/s]\n",
      "Epoch 319/1000: 100%|██████████| 1/1 [00:00<00:00, 27.13it/s]\n",
      "Validation: 100%|██████████| 1/1 [00:00<00:00, 41.14it/s]\n"
     ]
    },
    {
     "name": "stdout",
     "output_type": "stream",
     "text": [
      "Epoch: 319\n",
      "Validation Loss: 12.9538\n"
     ]
    },
    {
     "name": "stderr",
     "output_type": "stream",
     "text": [
      "Epoch 320/1000: 100%|██████████| 1/1 [00:00<00:00, 26.09it/s]\n",
      "Epoch 321/1000: 100%|██████████| 1/1 [00:00<00:00, 25.65it/s]\n",
      "Validation: 100%|██████████| 1/1 [00:00<00:00, 39.69it/s]\n"
     ]
    },
    {
     "name": "stdout",
     "output_type": "stream",
     "text": [
      "Epoch: 321\n",
      "Validation Loss: 12.8885\n"
     ]
    },
    {
     "name": "stderr",
     "output_type": "stream",
     "text": [
      "Epoch 322/1000: 100%|██████████| 1/1 [00:00<00:00, 26.84it/s]\n",
      "Epoch 323/1000: 100%|██████████| 1/1 [00:00<00:00, 27.26it/s]\n",
      "Validation: 100%|██████████| 1/1 [00:00<00:00, 40.60it/s]\n"
     ]
    },
    {
     "name": "stdout",
     "output_type": "stream",
     "text": [
      "Epoch: 323\n",
      "Validation Loss: 12.9298\n"
     ]
    },
    {
     "name": "stderr",
     "output_type": "stream",
     "text": [
      "Epoch 324/1000: 100%|██████████| 1/1 [00:00<00:00, 27.10it/s]\n",
      "Epoch 325/1000: 100%|██████████| 1/1 [00:00<00:00, 28.19it/s]\n",
      "Validation: 100%|██████████| 1/1 [00:00<00:00, 40.98it/s]\n"
     ]
    },
    {
     "name": "stdout",
     "output_type": "stream",
     "text": [
      "Epoch: 325\n",
      "Validation Loss: 13.4789\n"
     ]
    },
    {
     "name": "stderr",
     "output_type": "stream",
     "text": [
      "Epoch 326/1000: 100%|██████████| 1/1 [00:00<00:00, 23.68it/s]\n",
      "Epoch 327/1000: 100%|██████████| 1/1 [00:00<00:00, 23.23it/s]\n",
      "Validation: 100%|██████████| 1/1 [00:00<00:00, 29.37it/s]\n"
     ]
    },
    {
     "name": "stdout",
     "output_type": "stream",
     "text": [
      "Epoch: 327\n",
      "Validation Loss: 12.9943\n"
     ]
    },
    {
     "name": "stderr",
     "output_type": "stream",
     "text": [
      "Epoch 328/1000: 100%|██████████| 1/1 [00:00<00:00, 24.13it/s]\n",
      "Epoch 329/1000: 100%|██████████| 1/1 [00:00<00:00, 21.23it/s]\n",
      "Validation: 100%|██████████| 1/1 [00:00<00:00, 37.28it/s]\n"
     ]
    },
    {
     "name": "stdout",
     "output_type": "stream",
     "text": [
      "Epoch: 329\n",
      "Validation Loss: 12.7547\n"
     ]
    },
    {
     "name": "stderr",
     "output_type": "stream",
     "text": [
      "Epoch 330/1000: 100%|██████████| 1/1 [00:00<00:00, 20.52it/s]\n",
      "Epoch 331/1000: 100%|██████████| 1/1 [00:00<00:00, 26.83it/s]\n",
      "Validation: 100%|██████████| 1/1 [00:00<00:00, 40.06it/s]\n"
     ]
    },
    {
     "name": "stdout",
     "output_type": "stream",
     "text": [
      "Epoch: 331\n",
      "Validation Loss: 12.3113\n"
     ]
    },
    {
     "name": "stderr",
     "output_type": "stream",
     "text": [
      "Epoch 332/1000: 100%|██████████| 1/1 [00:00<00:00, 27.29it/s]\n",
      "Epoch 333/1000: 100%|██████████| 1/1 [00:00<00:00, 26.74it/s]\n",
      "Validation: 100%|██████████| 1/1 [00:00<00:00, 40.65it/s]\n"
     ]
    },
    {
     "name": "stdout",
     "output_type": "stream",
     "text": [
      "Epoch: 333\n",
      "Validation Loss: 12.8049\n"
     ]
    },
    {
     "name": "stderr",
     "output_type": "stream",
     "text": [
      "Epoch 334/1000: 100%|██████████| 1/1 [00:00<00:00, 26.67it/s]\n",
      "Epoch 335/1000: 100%|██████████| 1/1 [00:00<00:00, 27.65it/s]\n",
      "Validation: 100%|██████████| 1/1 [00:00<00:00, 39.46it/s]\n"
     ]
    },
    {
     "name": "stdout",
     "output_type": "stream",
     "text": [
      "Epoch: 335\n",
      "Validation Loss: 12.2614\n"
     ]
    },
    {
     "name": "stderr",
     "output_type": "stream",
     "text": [
      "Epoch 336/1000: 100%|██████████| 1/1 [00:00<00:00, 25.84it/s]\n",
      "Epoch 337/1000: 100%|██████████| 1/1 [00:00<00:00, 26.13it/s]\n",
      "Validation: 100%|██████████| 1/1 [00:00<00:00, 41.12it/s]\n"
     ]
    },
    {
     "name": "stdout",
     "output_type": "stream",
     "text": [
      "Epoch: 337\n",
      "Validation Loss: 12.4303\n"
     ]
    },
    {
     "name": "stderr",
     "output_type": "stream",
     "text": [
      "Epoch 338/1000: 100%|██████████| 1/1 [00:00<00:00, 27.10it/s]\n",
      "Epoch 339/1000: 100%|██████████| 1/1 [00:00<00:00, 26.96it/s]\n",
      "Validation: 100%|██████████| 1/1 [00:00<00:00, 41.03it/s]\n"
     ]
    },
    {
     "name": "stdout",
     "output_type": "stream",
     "text": [
      "Epoch: 339\n",
      "Validation Loss: 12.1690\n"
     ]
    },
    {
     "name": "stderr",
     "output_type": "stream",
     "text": [
      "Epoch 340/1000: 100%|██████████| 1/1 [00:00<00:00, 25.85it/s]\n",
      "Epoch 341/1000: 100%|██████████| 1/1 [00:00<00:00, 26.91it/s]\n",
      "Validation: 100%|██████████| 1/1 [00:00<00:00, 39.54it/s]\n"
     ]
    },
    {
     "name": "stdout",
     "output_type": "stream",
     "text": [
      "Epoch: 341\n",
      "Validation Loss: 12.0561\n"
     ]
    },
    {
     "name": "stderr",
     "output_type": "stream",
     "text": [
      "Epoch 342/1000: 100%|██████████| 1/1 [00:00<00:00, 24.90it/s]\n",
      "Epoch 343/1000: 100%|██████████| 1/1 [00:00<00:00, 26.66it/s]\n",
      "Validation: 100%|██████████| 1/1 [00:00<00:00, 40.09it/s]\n"
     ]
    },
    {
     "name": "stdout",
     "output_type": "stream",
     "text": [
      "Epoch: 343\n",
      "Validation Loss: 12.1620\n"
     ]
    },
    {
     "name": "stderr",
     "output_type": "stream",
     "text": [
      "Epoch 344/1000: 100%|██████████| 1/1 [00:00<00:00, 27.31it/s]\n",
      "Epoch 345/1000: 100%|██████████| 1/1 [00:00<00:00, 27.59it/s]\n",
      "Validation: 100%|██████████| 1/1 [00:00<00:00, 40.84it/s]\n"
     ]
    },
    {
     "name": "stdout",
     "output_type": "stream",
     "text": [
      "Epoch: 345\n",
      "Validation Loss: 11.7841\n"
     ]
    },
    {
     "name": "stderr",
     "output_type": "stream",
     "text": [
      "Epoch 346/1000: 100%|██████████| 1/1 [00:00<00:00, 25.70it/s]\n",
      "Epoch 347/1000: 100%|██████████| 1/1 [00:00<00:00, 24.22it/s]\n",
      "Validation: 100%|██████████| 1/1 [00:00<00:00, 40.34it/s]\n"
     ]
    },
    {
     "name": "stdout",
     "output_type": "stream",
     "text": [
      "Epoch: 347\n",
      "Validation Loss: 11.6654\n"
     ]
    },
    {
     "name": "stderr",
     "output_type": "stream",
     "text": [
      "Epoch 348/1000: 100%|██████████| 1/1 [00:00<00:00, 26.69it/s]\n",
      "Epoch 349/1000: 100%|██████████| 1/1 [00:00<00:00, 27.74it/s]\n",
      "Validation: 100%|██████████| 1/1 [00:00<00:00, 40.64it/s]\n"
     ]
    },
    {
     "name": "stdout",
     "output_type": "stream",
     "text": [
      "Epoch: 349\n",
      "Validation Loss: 12.0378\n"
     ]
    },
    {
     "name": "stderr",
     "output_type": "stream",
     "text": [
      "Epoch 350/1000: 100%|██████████| 1/1 [00:00<00:00, 26.39it/s]\n",
      "Epoch 351/1000: 100%|██████████| 1/1 [00:00<00:00, 28.20it/s]\n",
      "Validation: 100%|██████████| 1/1 [00:00<00:00, 33.68it/s]\n"
     ]
    },
    {
     "name": "stdout",
     "output_type": "stream",
     "text": [
      "Epoch: 351\n",
      "Validation Loss: 11.5943\n"
     ]
    },
    {
     "name": "stderr",
     "output_type": "stream",
     "text": [
      "Epoch 352/1000: 100%|██████████| 1/1 [00:00<00:00, 27.45it/s]\n",
      "Epoch 353/1000: 100%|██████████| 1/1 [00:00<00:00, 28.51it/s]\n",
      "Validation: 100%|██████████| 1/1 [00:00<00:00, 42.37it/s]\n"
     ]
    },
    {
     "name": "stdout",
     "output_type": "stream",
     "text": [
      "Epoch: 353\n",
      "Validation Loss: 11.7065\n"
     ]
    },
    {
     "name": "stderr",
     "output_type": "stream",
     "text": [
      "Epoch 354/1000: 100%|██████████| 1/1 [00:00<00:00, 27.27it/s]\n",
      "Epoch 355/1000: 100%|██████████| 1/1 [00:00<00:00, 28.47it/s]\n",
      "Validation: 100%|██████████| 1/1 [00:00<00:00, 42.14it/s]\n"
     ]
    },
    {
     "name": "stdout",
     "output_type": "stream",
     "text": [
      "Epoch: 355\n",
      "Validation Loss: 11.5891\n"
     ]
    },
    {
     "name": "stderr",
     "output_type": "stream",
     "text": [
      "Epoch 356/1000: 100%|██████████| 1/1 [00:00<00:00, 26.64it/s]\n",
      "Epoch 357/1000: 100%|██████████| 1/1 [00:00<00:00, 26.88it/s]\n",
      "Validation: 100%|██████████| 1/1 [00:00<00:00, 39.30it/s]\n"
     ]
    },
    {
     "name": "stdout",
     "output_type": "stream",
     "text": [
      "Epoch: 357\n",
      "Validation Loss: 11.7115\n"
     ]
    },
    {
     "name": "stderr",
     "output_type": "stream",
     "text": [
      "Epoch 358/1000: 100%|██████████| 1/1 [00:00<00:00, 27.22it/s]\n",
      "Epoch 359/1000: 100%|██████████| 1/1 [00:00<00:00, 28.26it/s]\n",
      "Validation: 100%|██████████| 1/1 [00:00<00:00, 42.12it/s]\n"
     ]
    },
    {
     "name": "stdout",
     "output_type": "stream",
     "text": [
      "Epoch: 359\n",
      "Validation Loss: 11.3200\n"
     ]
    },
    {
     "name": "stderr",
     "output_type": "stream",
     "text": [
      "Epoch 360/1000: 100%|██████████| 1/1 [00:00<00:00, 25.51it/s]\n",
      "Epoch 361/1000: 100%|██████████| 1/1 [00:00<00:00, 27.23it/s]\n",
      "Validation: 100%|██████████| 1/1 [00:00<00:00, 41.97it/s]\n"
     ]
    },
    {
     "name": "stdout",
     "output_type": "stream",
     "text": [
      "Epoch: 361\n",
      "Validation Loss: 11.0342\n"
     ]
    },
    {
     "name": "stderr",
     "output_type": "stream",
     "text": [
      "Epoch 362/1000: 100%|██████████| 1/1 [00:00<00:00, 26.86it/s]\n",
      "Epoch 363/1000: 100%|██████████| 1/1 [00:00<00:00, 28.43it/s]\n",
      "Validation: 100%|██████████| 1/1 [00:00<00:00, 41.90it/s]\n"
     ]
    },
    {
     "name": "stdout",
     "output_type": "stream",
     "text": [
      "Epoch: 363\n",
      "Validation Loss: 10.6991\n"
     ]
    },
    {
     "name": "stderr",
     "output_type": "stream",
     "text": [
      "Epoch 364/1000: 100%|██████████| 1/1 [00:00<00:00, 25.65it/s]\n",
      "Epoch 365/1000: 100%|██████████| 1/1 [00:00<00:00, 26.26it/s]\n",
      "Validation: 100%|██████████| 1/1 [00:00<00:00, 42.62it/s]\n"
     ]
    },
    {
     "name": "stdout",
     "output_type": "stream",
     "text": [
      "Epoch: 365\n",
      "Validation Loss: 10.9968\n"
     ]
    },
    {
     "name": "stderr",
     "output_type": "stream",
     "text": [
      "Epoch 366/1000: 100%|██████████| 1/1 [00:00<00:00, 26.67it/s]\n",
      "Epoch 367/1000: 100%|██████████| 1/1 [00:00<00:00, 28.08it/s]\n",
      "Validation: 100%|██████████| 1/1 [00:00<00:00, 42.86it/s]\n"
     ]
    },
    {
     "name": "stdout",
     "output_type": "stream",
     "text": [
      "Epoch: 367\n",
      "Validation Loss: 10.8013\n"
     ]
    },
    {
     "name": "stderr",
     "output_type": "stream",
     "text": [
      "Epoch 368/1000: 100%|██████████| 1/1 [00:00<00:00, 22.58it/s]\n",
      "Epoch 369/1000: 100%|██████████| 1/1 [00:00<00:00, 22.02it/s]\n",
      "Validation: 100%|██████████| 1/1 [00:00<00:00, 37.79it/s]\n"
     ]
    },
    {
     "name": "stdout",
     "output_type": "stream",
     "text": [
      "Epoch: 369\n",
      "Validation Loss: 10.9829\n"
     ]
    },
    {
     "name": "stderr",
     "output_type": "stream",
     "text": [
      "Epoch 370/1000: 100%|██████████| 1/1 [00:00<00:00, 26.29it/s]\n",
      "Epoch 371/1000: 100%|██████████| 1/1 [00:00<00:00, 27.54it/s]\n",
      "Validation: 100%|██████████| 1/1 [00:00<00:00, 41.76it/s]\n"
     ]
    },
    {
     "name": "stdout",
     "output_type": "stream",
     "text": [
      "Epoch: 371\n",
      "Validation Loss: 10.3994\n"
     ]
    },
    {
     "name": "stderr",
     "output_type": "stream",
     "text": [
      "Epoch 372/1000: 100%|██████████| 1/1 [00:00<00:00, 26.78it/s]\n",
      "Epoch 373/1000: 100%|██████████| 1/1 [00:00<00:00, 28.01it/s]\n",
      "Validation: 100%|██████████| 1/1 [00:00<00:00, 42.59it/s]\n"
     ]
    },
    {
     "name": "stdout",
     "output_type": "stream",
     "text": [
      "Epoch: 373\n",
      "Validation Loss: 10.1418\n"
     ]
    },
    {
     "name": "stderr",
     "output_type": "stream",
     "text": [
      "Epoch 374/1000: 100%|██████████| 1/1 [00:00<00:00, 27.77it/s]\n",
      "Epoch 375/1000: 100%|██████████| 1/1 [00:00<00:00, 28.52it/s]\n",
      "Validation: 100%|██████████| 1/1 [00:00<00:00, 40.01it/s]\n"
     ]
    },
    {
     "name": "stdout",
     "output_type": "stream",
     "text": [
      "Epoch: 375\n",
      "Validation Loss: 9.5930\n"
     ]
    },
    {
     "name": "stderr",
     "output_type": "stream",
     "text": [
      "Epoch 376/1000: 100%|██████████| 1/1 [00:00<00:00, 25.81it/s]\n",
      "Epoch 377/1000: 100%|██████████| 1/1 [00:00<00:00, 27.16it/s]\n",
      "Validation: 100%|██████████| 1/1 [00:00<00:00, 42.31it/s]\n"
     ]
    },
    {
     "name": "stdout",
     "output_type": "stream",
     "text": [
      "Epoch: 377\n",
      "Validation Loss: 10.4197\n"
     ]
    },
    {
     "name": "stderr",
     "output_type": "stream",
     "text": [
      "Epoch 378/1000: 100%|██████████| 1/1 [00:00<00:00, 26.81it/s]\n",
      "Epoch 379/1000: 100%|██████████| 1/1 [00:00<00:00, 27.67it/s]\n",
      "Validation: 100%|██████████| 1/1 [00:00<00:00, 41.69it/s]\n"
     ]
    },
    {
     "name": "stdout",
     "output_type": "stream",
     "text": [
      "Epoch: 379\n",
      "Validation Loss: 9.9860\n"
     ]
    },
    {
     "name": "stderr",
     "output_type": "stream",
     "text": [
      "Epoch 380/1000: 100%|██████████| 1/1 [00:00<00:00, 26.98it/s]\n",
      "Epoch 381/1000: 100%|██████████| 1/1 [00:00<00:00, 28.25it/s]\n",
      "Validation: 100%|██████████| 1/1 [00:00<00:00, 41.96it/s]\n"
     ]
    },
    {
     "name": "stdout",
     "output_type": "stream",
     "text": [
      "Epoch: 381\n",
      "Validation Loss: 9.6512\n"
     ]
    },
    {
     "name": "stderr",
     "output_type": "stream",
     "text": [
      "Epoch 382/1000: 100%|██████████| 1/1 [00:00<00:00, 27.76it/s]\n",
      "Epoch 383/1000: 100%|██████████| 1/1 [00:00<00:00, 28.34it/s]\n",
      "Validation: 100%|██████████| 1/1 [00:00<00:00, 42.91it/s]\n"
     ]
    },
    {
     "name": "stdout",
     "output_type": "stream",
     "text": [
      "Epoch: 383\n",
      "Validation Loss: 9.6495\n"
     ]
    },
    {
     "name": "stderr",
     "output_type": "stream",
     "text": [
      "Epoch 384/1000: 100%|██████████| 1/1 [00:00<00:00, 23.24it/s]\n",
      "Epoch 385/1000: 100%|██████████| 1/1 [00:00<00:00, 24.86it/s]\n",
      "Validation: 100%|██████████| 1/1 [00:00<00:00, 42.07it/s]\n"
     ]
    },
    {
     "name": "stdout",
     "output_type": "stream",
     "text": [
      "Epoch: 385\n",
      "Validation Loss: 9.3257\n"
     ]
    },
    {
     "name": "stderr",
     "output_type": "stream",
     "text": [
      "Epoch 386/1000: 100%|██████████| 1/1 [00:00<00:00, 24.62it/s]\n",
      "Epoch 387/1000: 100%|██████████| 1/1 [00:00<00:00, 27.65it/s]\n",
      "Validation: 100%|██████████| 1/1 [00:00<00:00, 36.78it/s]\n"
     ]
    },
    {
     "name": "stdout",
     "output_type": "stream",
     "text": [
      "Epoch: 387\n",
      "Validation Loss: 9.2040\n"
     ]
    },
    {
     "name": "stderr",
     "output_type": "stream",
     "text": [
      "Epoch 388/1000: 100%|██████████| 1/1 [00:00<00:00, 27.58it/s]\n",
      "Epoch 389/1000: 100%|██████████| 1/1 [00:00<00:00, 28.24it/s]\n",
      "Validation: 100%|██████████| 1/1 [00:00<00:00, 38.81it/s]\n"
     ]
    },
    {
     "name": "stdout",
     "output_type": "stream",
     "text": [
      "Epoch: 389\n",
      "Validation Loss: 9.1093\n"
     ]
    },
    {
     "name": "stderr",
     "output_type": "stream",
     "text": [
      "Epoch 390/1000: 100%|██████████| 1/1 [00:00<00:00, 27.24it/s]\n",
      "Epoch 391/1000: 100%|██████████| 1/1 [00:00<00:00, 28.43it/s]\n",
      "Validation: 100%|██████████| 1/1 [00:00<00:00, 42.71it/s]\n"
     ]
    },
    {
     "name": "stdout",
     "output_type": "stream",
     "text": [
      "Epoch: 391\n",
      "Validation Loss: 8.8437\n"
     ]
    },
    {
     "name": "stderr",
     "output_type": "stream",
     "text": [
      "Epoch 392/1000: 100%|██████████| 1/1 [00:00<00:00, 27.85it/s]\n",
      "Epoch 393/1000: 100%|██████████| 1/1 [00:00<00:00, 28.16it/s]\n",
      "Validation: 100%|██████████| 1/1 [00:00<00:00, 42.21it/s]\n"
     ]
    },
    {
     "name": "stdout",
     "output_type": "stream",
     "text": [
      "Epoch: 393\n",
      "Validation Loss: 8.8781\n"
     ]
    },
    {
     "name": "stderr",
     "output_type": "stream",
     "text": [
      "Epoch 394/1000: 100%|██████████| 1/1 [00:00<00:00, 26.33it/s]\n",
      "Epoch 395/1000: 100%|██████████| 1/1 [00:00<00:00, 25.83it/s]\n",
      "Validation: 100%|██████████| 1/1 [00:00<00:00, 42.70it/s]\n"
     ]
    },
    {
     "name": "stdout",
     "output_type": "stream",
     "text": [
      "Epoch: 395\n",
      "Validation Loss: 8.6502\n"
     ]
    },
    {
     "name": "stderr",
     "output_type": "stream",
     "text": [
      "Epoch 396/1000: 100%|██████████| 1/1 [00:00<00:00, 27.10it/s]\n",
      "Epoch 397/1000: 100%|██████████| 1/1 [00:00<00:00, 28.15it/s]\n",
      "Validation: 100%|██████████| 1/1 [00:00<00:00, 42.73it/s]\n"
     ]
    },
    {
     "name": "stdout",
     "output_type": "stream",
     "text": [
      "Epoch: 397\n",
      "Validation Loss: 8.8766\n"
     ]
    },
    {
     "name": "stderr",
     "output_type": "stream",
     "text": [
      "Epoch 398/1000: 100%|██████████| 1/1 [00:00<00:00, 28.21it/s]\n",
      "Epoch 399/1000: 100%|██████████| 1/1 [00:00<00:00, 28.70it/s]\n",
      "Validation: 100%|██████████| 1/1 [00:00<00:00, 42.76it/s]\n"
     ]
    },
    {
     "name": "stdout",
     "output_type": "stream",
     "text": [
      "Epoch: 399\n",
      "Validation Loss: 8.8103\n"
     ]
    },
    {
     "name": "stderr",
     "output_type": "stream",
     "text": [
      "Epoch 400/1000: 100%|██████████| 1/1 [00:00<00:00, 25.94it/s]\n",
      "Epoch 401/1000: 100%|██████████| 1/1 [00:00<00:00, 25.03it/s]\n",
      "Validation: 100%|██████████| 1/1 [00:00<00:00, 36.61it/s]\n"
     ]
    },
    {
     "name": "stdout",
     "output_type": "stream",
     "text": [
      "Epoch: 401\n",
      "Validation Loss: 8.4772\n"
     ]
    },
    {
     "name": "stderr",
     "output_type": "stream",
     "text": [
      "Epoch 402/1000: 100%|██████████| 1/1 [00:00<00:00, 27.72it/s]\n",
      "Epoch 403/1000: 100%|██████████| 1/1 [00:00<00:00, 28.54it/s]\n",
      "Validation: 100%|██████████| 1/1 [00:00<00:00, 42.51it/s]\n"
     ]
    },
    {
     "name": "stdout",
     "output_type": "stream",
     "text": [
      "Epoch: 403\n",
      "Validation Loss: 8.6910\n"
     ]
    },
    {
     "name": "stderr",
     "output_type": "stream",
     "text": [
      "Epoch 404/1000: 100%|██████████| 1/1 [00:00<00:00, 27.50it/s]\n",
      "Epoch 405/1000: 100%|██████████| 1/1 [00:00<00:00, 28.74it/s]\n",
      "Validation: 100%|██████████| 1/1 [00:00<00:00, 42.49it/s]\n"
     ]
    },
    {
     "name": "stdout",
     "output_type": "stream",
     "text": [
      "Epoch: 405\n",
      "Validation Loss: 8.0840\n"
     ]
    },
    {
     "name": "stderr",
     "output_type": "stream",
     "text": [
      "Epoch 406/1000: 100%|██████████| 1/1 [00:00<00:00, 25.41it/s]\n",
      "Epoch 407/1000: 100%|██████████| 1/1 [00:00<00:00, 27.90it/s]\n",
      "Validation: 100%|██████████| 1/1 [00:00<00:00, 38.08it/s]\n"
     ]
    },
    {
     "name": "stdout",
     "output_type": "stream",
     "text": [
      "Epoch: 407\n",
      "Validation Loss: 7.9193\n"
     ]
    },
    {
     "name": "stderr",
     "output_type": "stream",
     "text": [
      "Epoch 408/1000: 100%|██████████| 1/1 [00:00<00:00, 27.02it/s]\n",
      "Epoch 409/1000: 100%|██████████| 1/1 [00:00<00:00, 26.72it/s]\n",
      "Validation: 100%|██████████| 1/1 [00:00<00:00, 42.30it/s]\n"
     ]
    },
    {
     "name": "stdout",
     "output_type": "stream",
     "text": [
      "Epoch: 409\n",
      "Validation Loss: 8.3350\n"
     ]
    },
    {
     "name": "stderr",
     "output_type": "stream",
     "text": [
      "Epoch 410/1000: 100%|██████████| 1/1 [00:00<00:00, 28.00it/s]\n",
      "Epoch 411/1000: 100%|██████████| 1/1 [00:00<00:00, 26.42it/s]\n",
      "Validation: 100%|██████████| 1/1 [00:00<00:00, 41.56it/s]\n"
     ]
    },
    {
     "name": "stdout",
     "output_type": "stream",
     "text": [
      "Epoch: 411\n",
      "Validation Loss: 7.6043\n"
     ]
    },
    {
     "name": "stderr",
     "output_type": "stream",
     "text": [
      "Epoch 412/1000: 100%|██████████| 1/1 [00:00<00:00, 27.95it/s]\n",
      "Epoch 413/1000: 100%|██████████| 1/1 [00:00<00:00, 27.17it/s]\n",
      "Validation: 100%|██████████| 1/1 [00:00<00:00, 35.05it/s]\n"
     ]
    },
    {
     "name": "stdout",
     "output_type": "stream",
     "text": [
      "Epoch: 413\n",
      "Validation Loss: 7.8809\n"
     ]
    },
    {
     "name": "stderr",
     "output_type": "stream",
     "text": [
      "Epoch 414/1000: 100%|██████████| 1/1 [00:00<00:00, 24.92it/s]\n",
      "Epoch 415/1000: 100%|██████████| 1/1 [00:00<00:00, 27.34it/s]\n",
      "Validation: 100%|██████████| 1/1 [00:00<00:00, 42.25it/s]\n"
     ]
    },
    {
     "name": "stdout",
     "output_type": "stream",
     "text": [
      "Epoch: 415\n",
      "Validation Loss: 7.7753\n"
     ]
    },
    {
     "name": "stderr",
     "output_type": "stream",
     "text": [
      "Epoch 416/1000: 100%|██████████| 1/1 [00:00<00:00, 27.43it/s]\n",
      "Epoch 417/1000: 100%|██████████| 1/1 [00:00<00:00, 28.04it/s]\n",
      "Validation: 100%|██████████| 1/1 [00:00<00:00, 41.53it/s]\n"
     ]
    },
    {
     "name": "stdout",
     "output_type": "stream",
     "text": [
      "Epoch: 417\n",
      "Validation Loss: 7.3707\n"
     ]
    },
    {
     "name": "stderr",
     "output_type": "stream",
     "text": [
      "Epoch 418/1000: 100%|██████████| 1/1 [00:00<00:00, 22.49it/s]\n",
      "Epoch 419/1000: 100%|██████████| 1/1 [00:00<00:00, 27.80it/s]\n",
      "Validation: 100%|██████████| 1/1 [00:00<00:00, 41.86it/s]\n"
     ]
    },
    {
     "name": "stdout",
     "output_type": "stream",
     "text": [
      "Epoch: 419\n",
      "Validation Loss: 7.5312\n"
     ]
    },
    {
     "name": "stderr",
     "output_type": "stream",
     "text": [
      "Epoch 420/1000: 100%|██████████| 1/1 [00:00<00:00, 28.22it/s]\n",
      "Epoch 421/1000: 100%|██████████| 1/1 [00:00<00:00, 28.59it/s]\n",
      "Validation: 100%|██████████| 1/1 [00:00<00:00, 42.71it/s]\n"
     ]
    },
    {
     "name": "stdout",
     "output_type": "stream",
     "text": [
      "Epoch: 421\n",
      "Validation Loss: 7.5228\n"
     ]
    },
    {
     "name": "stderr",
     "output_type": "stream",
     "text": [
      "Epoch 422/1000: 100%|██████████| 1/1 [00:00<00:00, 28.38it/s]\n",
      "Epoch 423/1000: 100%|██████████| 1/1 [00:00<00:00, 29.04it/s]\n",
      "Validation: 100%|██████████| 1/1 [00:00<00:00, 42.53it/s]\n"
     ]
    },
    {
     "name": "stdout",
     "output_type": "stream",
     "text": [
      "Epoch: 423\n",
      "Validation Loss: 7.2345\n"
     ]
    },
    {
     "name": "stderr",
     "output_type": "stream",
     "text": [
      "Epoch 424/1000: 100%|██████████| 1/1 [00:00<00:00, 28.09it/s]\n",
      "Epoch 425/1000: 100%|██████████| 1/1 [00:00<00:00, 26.91it/s]\n",
      "Validation: 100%|██████████| 1/1 [00:00<00:00, 41.89it/s]\n"
     ]
    },
    {
     "name": "stdout",
     "output_type": "stream",
     "text": [
      "Epoch: 425\n",
      "Validation Loss: 7.2730\n"
     ]
    },
    {
     "name": "stderr",
     "output_type": "stream",
     "text": [
      "Epoch 426/1000: 100%|██████████| 1/1 [00:00<00:00, 26.07it/s]\n",
      "Epoch 427/1000: 100%|██████████| 1/1 [00:00<00:00, 27.44it/s]\n",
      "Validation: 100%|██████████| 1/1 [00:00<00:00, 40.08it/s]\n"
     ]
    },
    {
     "name": "stdout",
     "output_type": "stream",
     "text": [
      "Epoch: 427\n",
      "Validation Loss: 7.0697\n"
     ]
    },
    {
     "name": "stderr",
     "output_type": "stream",
     "text": [
      "Epoch 428/1000: 100%|██████████| 1/1 [00:00<00:00, 25.98it/s]\n",
      "Epoch 429/1000: 100%|██████████| 1/1 [00:00<00:00, 28.32it/s]\n",
      "Validation: 100%|██████████| 1/1 [00:00<00:00, 42.53it/s]\n"
     ]
    },
    {
     "name": "stdout",
     "output_type": "stream",
     "text": [
      "Epoch: 429\n",
      "Validation Loss: 6.7422\n"
     ]
    },
    {
     "name": "stderr",
     "output_type": "stream",
     "text": [
      "Epoch 430/1000: 100%|██████████| 1/1 [00:00<00:00, 26.25it/s]\n",
      "Epoch 431/1000: 100%|██████████| 1/1 [00:00<00:00, 24.69it/s]\n",
      "Validation: 100%|██████████| 1/1 [00:00<00:00, 42.06it/s]\n"
     ]
    },
    {
     "name": "stdout",
     "output_type": "stream",
     "text": [
      "Epoch: 431\n",
      "Validation Loss: 6.9507\n"
     ]
    },
    {
     "name": "stderr",
     "output_type": "stream",
     "text": [
      "Epoch 432/1000: 100%|██████████| 1/1 [00:00<00:00, 27.41it/s]\n",
      "Epoch 433/1000: 100%|██████████| 1/1 [00:00<00:00, 27.61it/s]\n",
      "Validation: 100%|██████████| 1/1 [00:00<00:00, 41.97it/s]\n"
     ]
    },
    {
     "name": "stdout",
     "output_type": "stream",
     "text": [
      "Epoch: 433\n",
      "Validation Loss: 6.5522\n"
     ]
    },
    {
     "name": "stderr",
     "output_type": "stream",
     "text": [
      "Epoch 434/1000: 100%|██████████| 1/1 [00:00<00:00, 25.72it/s]\n",
      "Epoch 435/1000: 100%|██████████| 1/1 [00:00<00:00, 26.48it/s]\n",
      "Validation: 100%|██████████| 1/1 [00:00<00:00, 39.64it/s]\n"
     ]
    },
    {
     "name": "stdout",
     "output_type": "stream",
     "text": [
      "Epoch: 435\n",
      "Validation Loss: 6.4782\n"
     ]
    },
    {
     "name": "stderr",
     "output_type": "stream",
     "text": [
      "Epoch 436/1000: 100%|██████████| 1/1 [00:00<00:00, 26.26it/s]\n",
      "Epoch 437/1000: 100%|██████████| 1/1 [00:00<00:00, 27.20it/s]\n",
      "Validation: 100%|██████████| 1/1 [00:00<00:00, 40.50it/s]\n"
     ]
    },
    {
     "name": "stdout",
     "output_type": "stream",
     "text": [
      "Epoch: 437\n",
      "Validation Loss: 6.3547\n"
     ]
    },
    {
     "name": "stderr",
     "output_type": "stream",
     "text": [
      "Epoch 438/1000: 100%|██████████| 1/1 [00:00<00:00, 22.82it/s]\n",
      "Epoch 439/1000: 100%|██████████| 1/1 [00:00<00:00, 25.79it/s]\n",
      "Validation: 100%|██████████| 1/1 [00:00<00:00, 41.23it/s]\n"
     ]
    },
    {
     "name": "stdout",
     "output_type": "stream",
     "text": [
      "Epoch: 439\n",
      "Validation Loss: 6.5152\n"
     ]
    },
    {
     "name": "stderr",
     "output_type": "stream",
     "text": [
      "Epoch 440/1000: 100%|██████████| 1/1 [00:00<00:00, 26.32it/s]\n",
      "Epoch 441/1000: 100%|██████████| 1/1 [00:00<00:00, 26.73it/s]\n",
      "Validation: 100%|██████████| 1/1 [00:00<00:00, 39.13it/s]\n"
     ]
    },
    {
     "name": "stdout",
     "output_type": "stream",
     "text": [
      "Epoch: 441\n",
      "Validation Loss: 6.2201\n"
     ]
    },
    {
     "name": "stderr",
     "output_type": "stream",
     "text": [
      "Epoch 442/1000: 100%|██████████| 1/1 [00:00<00:00, 24.62it/s]\n",
      "Epoch 443/1000: 100%|██████████| 1/1 [00:00<00:00, 26.00it/s]\n",
      "Validation: 100%|██████████| 1/1 [00:00<00:00, 39.51it/s]\n"
     ]
    },
    {
     "name": "stdout",
     "output_type": "stream",
     "text": [
      "Epoch: 443\n",
      "Validation Loss: 6.1013\n"
     ]
    },
    {
     "name": "stderr",
     "output_type": "stream",
     "text": [
      "Epoch 444/1000: 100%|██████████| 1/1 [00:00<00:00, 26.42it/s]\n",
      "Epoch 445/1000: 100%|██████████| 1/1 [00:00<00:00, 27.35it/s]\n",
      "Validation: 100%|██████████| 1/1 [00:00<00:00, 40.05it/s]\n"
     ]
    },
    {
     "name": "stdout",
     "output_type": "stream",
     "text": [
      "Epoch: 445\n",
      "Validation Loss: 6.0747\n"
     ]
    },
    {
     "name": "stderr",
     "output_type": "stream",
     "text": [
      "Epoch 446/1000: 100%|██████████| 1/1 [00:00<00:00, 25.78it/s]\n",
      "Epoch 447/1000: 100%|██████████| 1/1 [00:00<00:00, 27.59it/s]\n",
      "Validation: 100%|██████████| 1/1 [00:00<00:00, 39.54it/s]\n"
     ]
    },
    {
     "name": "stdout",
     "output_type": "stream",
     "text": [
      "Epoch: 447\n",
      "Validation Loss: 5.7539\n"
     ]
    },
    {
     "name": "stderr",
     "output_type": "stream",
     "text": [
      "Epoch 448/1000: 100%|██████████| 1/1 [00:00<00:00, 27.11it/s]\n",
      "Epoch 449/1000: 100%|██████████| 1/1 [00:00<00:00, 26.30it/s]\n",
      "Validation: 100%|██████████| 1/1 [00:00<00:00, 42.47it/s]\n"
     ]
    },
    {
     "name": "stdout",
     "output_type": "stream",
     "text": [
      "Epoch: 449\n",
      "Validation Loss: 5.3781\n"
     ]
    },
    {
     "name": "stderr",
     "output_type": "stream",
     "text": [
      "Epoch 450/1000: 100%|██████████| 1/1 [00:00<00:00, 27.32it/s]\n",
      "Epoch 451/1000: 100%|██████████| 1/1 [00:00<00:00, 27.44it/s]\n",
      "Validation: 100%|██████████| 1/1 [00:00<00:00, 42.08it/s]\n"
     ]
    },
    {
     "name": "stdout",
     "output_type": "stream",
     "text": [
      "Epoch: 451\n",
      "Validation Loss: 5.8448\n"
     ]
    },
    {
     "name": "stderr",
     "output_type": "stream",
     "text": [
      "Epoch 452/1000: 100%|██████████| 1/1 [00:00<00:00, 27.17it/s]\n",
      "Epoch 453/1000: 100%|██████████| 1/1 [00:00<00:00, 27.98it/s]\n",
      "Validation: 100%|██████████| 1/1 [00:00<00:00, 42.53it/s]\n"
     ]
    },
    {
     "name": "stdout",
     "output_type": "stream",
     "text": [
      "Epoch: 453\n",
      "Validation Loss: 5.7133\n"
     ]
    },
    {
     "name": "stderr",
     "output_type": "stream",
     "text": [
      "Epoch 454/1000: 100%|██████████| 1/1 [00:00<00:00, 28.40it/s]\n",
      "Epoch 455/1000: 100%|██████████| 1/1 [00:00<00:00, 28.35it/s]\n",
      "Validation: 100%|██████████| 1/1 [00:00<00:00, 42.07it/s]\n"
     ]
    },
    {
     "name": "stdout",
     "output_type": "stream",
     "text": [
      "Epoch: 455\n",
      "Validation Loss: 5.6397\n"
     ]
    },
    {
     "name": "stderr",
     "output_type": "stream",
     "text": [
      "Epoch 456/1000: 100%|██████████| 1/1 [00:00<00:00, 27.85it/s]\n",
      "Epoch 457/1000: 100%|██████████| 1/1 [00:00<00:00, 28.62it/s]\n",
      "Validation: 100%|██████████| 1/1 [00:00<00:00, 42.86it/s]\n"
     ]
    },
    {
     "name": "stdout",
     "output_type": "stream",
     "text": [
      "Epoch: 457\n",
      "Validation Loss: 5.1475\n"
     ]
    },
    {
     "name": "stderr",
     "output_type": "stream",
     "text": [
      "Epoch 458/1000: 100%|██████████| 1/1 [00:00<00:00, 27.33it/s]\n",
      "Epoch 459/1000: 100%|██████████| 1/1 [00:00<00:00, 26.14it/s]\n",
      "Validation: 100%|██████████| 1/1 [00:00<00:00, 41.92it/s]\n"
     ]
    },
    {
     "name": "stdout",
     "output_type": "stream",
     "text": [
      "Epoch: 459\n",
      "Validation Loss: 5.0787\n"
     ]
    },
    {
     "name": "stderr",
     "output_type": "stream",
     "text": [
      "Epoch 460/1000: 100%|██████████| 1/1 [00:00<00:00, 27.39it/s]\n",
      "Epoch 461/1000: 100%|██████████| 1/1 [00:00<00:00, 28.55it/s]\n",
      "Validation: 100%|██████████| 1/1 [00:00<00:00, 41.10it/s]\n"
     ]
    },
    {
     "name": "stdout",
     "output_type": "stream",
     "text": [
      "Epoch: 461\n",
      "Validation Loss: 4.8006\n"
     ]
    },
    {
     "name": "stderr",
     "output_type": "stream",
     "text": [
      "Epoch 462/1000: 100%|██████████| 1/1 [00:00<00:00, 25.67it/s]\n",
      "Epoch 463/1000: 100%|██████████| 1/1 [00:00<00:00, 25.01it/s]\n",
      "Validation: 100%|██████████| 1/1 [00:00<00:00, 36.23it/s]\n"
     ]
    },
    {
     "name": "stdout",
     "output_type": "stream",
     "text": [
      "Epoch: 463\n",
      "Validation Loss: 4.8402\n"
     ]
    },
    {
     "name": "stderr",
     "output_type": "stream",
     "text": [
      "Epoch 464/1000: 100%|██████████| 1/1 [00:00<00:00, 26.60it/s]\n",
      "Epoch 465/1000: 100%|██████████| 1/1 [00:00<00:00, 25.45it/s]\n",
      "Validation: 100%|██████████| 1/1 [00:00<00:00, 28.93it/s]\n"
     ]
    },
    {
     "name": "stdout",
     "output_type": "stream",
     "text": [
      "Epoch: 465\n",
      "Validation Loss: 4.9980\n"
     ]
    },
    {
     "name": "stderr",
     "output_type": "stream",
     "text": [
      "Epoch 466/1000: 100%|██████████| 1/1 [00:00<00:00, 26.07it/s]\n",
      "Epoch 467/1000: 100%|██████████| 1/1 [00:00<00:00, 24.02it/s]\n",
      "Validation: 100%|██████████| 1/1 [00:00<00:00, 36.25it/s]\n"
     ]
    },
    {
     "name": "stdout",
     "output_type": "stream",
     "text": [
      "Epoch: 467\n",
      "Validation Loss: 5.2603\n"
     ]
    },
    {
     "name": "stderr",
     "output_type": "stream",
     "text": [
      "Epoch 468/1000: 100%|██████████| 1/1 [00:00<00:00, 25.47it/s]\n",
      "Epoch 469/1000: 100%|██████████| 1/1 [00:00<00:00, 25.21it/s]\n",
      "Validation: 100%|██████████| 1/1 [00:00<00:00, 40.47it/s]\n"
     ]
    },
    {
     "name": "stdout",
     "output_type": "stream",
     "text": [
      "Epoch: 469\n",
      "Validation Loss: 5.0485\n"
     ]
    },
    {
     "name": "stderr",
     "output_type": "stream",
     "text": [
      "Epoch 470/1000: 100%|██████████| 1/1 [00:00<00:00, 26.18it/s]\n",
      "Epoch 471/1000: 100%|██████████| 1/1 [00:00<00:00, 27.26it/s]\n",
      "Validation: 100%|██████████| 1/1 [00:00<00:00, 39.86it/s]\n"
     ]
    },
    {
     "name": "stdout",
     "output_type": "stream",
     "text": [
      "Epoch: 471\n",
      "Validation Loss: 4.6936\n"
     ]
    },
    {
     "name": "stderr",
     "output_type": "stream",
     "text": [
      "Epoch 472/1000: 100%|██████████| 1/1 [00:00<00:00, 26.56it/s]\n",
      "Epoch 473/1000: 100%|██████████| 1/1 [00:00<00:00, 25.86it/s]\n",
      "Validation: 100%|██████████| 1/1 [00:00<00:00, 39.29it/s]\n"
     ]
    },
    {
     "name": "stdout",
     "output_type": "stream",
     "text": [
      "Epoch: 473\n",
      "Validation Loss: 4.5312\n"
     ]
    },
    {
     "name": "stderr",
     "output_type": "stream",
     "text": [
      "Epoch 474/1000: 100%|██████████| 1/1 [00:00<00:00, 26.23it/s]\n",
      "Epoch 475/1000: 100%|██████████| 1/1 [00:00<00:00, 27.76it/s]\n",
      "Validation: 100%|██████████| 1/1 [00:00<00:00, 40.02it/s]\n"
     ]
    },
    {
     "name": "stdout",
     "output_type": "stream",
     "text": [
      "Epoch: 475\n",
      "Validation Loss: 4.4308\n"
     ]
    },
    {
     "name": "stderr",
     "output_type": "stream",
     "text": [
      "Epoch 476/1000: 100%|██████████| 1/1 [00:00<00:00, 22.18it/s]\n",
      "Epoch 477/1000: 100%|██████████| 1/1 [00:00<00:00, 25.48it/s]\n",
      "Validation: 100%|██████████| 1/1 [00:00<00:00, 38.69it/s]\n"
     ]
    },
    {
     "name": "stdout",
     "output_type": "stream",
     "text": [
      "Epoch: 477\n",
      "Validation Loss: 4.3876\n"
     ]
    },
    {
     "name": "stderr",
     "output_type": "stream",
     "text": [
      "Epoch 478/1000: 100%|██████████| 1/1 [00:00<00:00, 26.29it/s]\n",
      "Epoch 479/1000: 100%|██████████| 1/1 [00:00<00:00, 26.72it/s]\n",
      "Validation: 100%|██████████| 1/1 [00:00<00:00, 39.50it/s]\n"
     ]
    },
    {
     "name": "stdout",
     "output_type": "stream",
     "text": [
      "Epoch: 479\n",
      "Validation Loss: 4.1968\n"
     ]
    },
    {
     "name": "stderr",
     "output_type": "stream",
     "text": [
      "Epoch 480/1000: 100%|██████████| 1/1 [00:00<00:00, 26.76it/s]\n",
      "Epoch 481/1000: 100%|██████████| 1/1 [00:00<00:00, 28.15it/s]\n",
      "Validation: 100%|██████████| 1/1 [00:00<00:00, 41.15it/s]\n"
     ]
    },
    {
     "name": "stdout",
     "output_type": "stream",
     "text": [
      "Epoch: 481\n",
      "Validation Loss: 4.1814\n"
     ]
    },
    {
     "name": "stderr",
     "output_type": "stream",
     "text": [
      "Epoch 482/1000: 100%|██████████| 1/1 [00:00<00:00, 25.41it/s]\n",
      "Epoch 483/1000: 100%|██████████| 1/1 [00:00<00:00, 27.64it/s]\n",
      "Validation: 100%|██████████| 1/1 [00:00<00:00, 40.20it/s]\n"
     ]
    },
    {
     "name": "stdout",
     "output_type": "stream",
     "text": [
      "Epoch: 483\n",
      "Validation Loss: 4.2608\n"
     ]
    },
    {
     "name": "stderr",
     "output_type": "stream",
     "text": [
      "Epoch 484/1000: 100%|██████████| 1/1 [00:00<00:00, 27.13it/s]\n",
      "Epoch 485/1000: 100%|██████████| 1/1 [00:00<00:00, 27.43it/s]\n",
      "Validation: 100%|██████████| 1/1 [00:00<00:00, 40.42it/s]\n"
     ]
    },
    {
     "name": "stdout",
     "output_type": "stream",
     "text": [
      "Epoch: 485\n",
      "Validation Loss: 4.0977\n"
     ]
    },
    {
     "name": "stderr",
     "output_type": "stream",
     "text": [
      "Epoch 486/1000: 100%|██████████| 1/1 [00:00<00:00, 26.58it/s]\n",
      "Epoch 487/1000: 100%|██████████| 1/1 [00:00<00:00, 27.52it/s]\n",
      "Validation: 100%|██████████| 1/1 [00:00<00:00, 40.57it/s]\n"
     ]
    },
    {
     "name": "stdout",
     "output_type": "stream",
     "text": [
      "Epoch: 487\n",
      "Validation Loss: 4.0652\n"
     ]
    },
    {
     "name": "stderr",
     "output_type": "stream",
     "text": [
      "Epoch 488/1000: 100%|██████████| 1/1 [00:00<00:00, 25.16it/s]\n",
      "Epoch 489/1000: 100%|██████████| 1/1 [00:00<00:00, 23.67it/s]\n",
      "Validation: 100%|██████████| 1/1 [00:00<00:00, 40.90it/s]\n"
     ]
    },
    {
     "name": "stdout",
     "output_type": "stream",
     "text": [
      "Epoch: 489\n",
      "Validation Loss: 4.0633\n"
     ]
    },
    {
     "name": "stderr",
     "output_type": "stream",
     "text": [
      "Epoch 490/1000: 100%|██████████| 1/1 [00:00<00:00, 27.69it/s]\n",
      "Epoch 491/1000: 100%|██████████| 1/1 [00:00<00:00, 28.16it/s]\n",
      "Validation: 100%|██████████| 1/1 [00:00<00:00, 42.47it/s]\n"
     ]
    },
    {
     "name": "stdout",
     "output_type": "stream",
     "text": [
      "Epoch: 491\n",
      "Validation Loss: 3.7398\n"
     ]
    },
    {
     "name": "stderr",
     "output_type": "stream",
     "text": [
      "Epoch 492/1000: 100%|██████████| 1/1 [00:00<00:00, 28.19it/s]\n",
      "Epoch 493/1000: 100%|██████████| 1/1 [00:00<00:00, 27.42it/s]\n",
      "Validation: 100%|██████████| 1/1 [00:00<00:00, 35.22it/s]\n"
     ]
    },
    {
     "name": "stdout",
     "output_type": "stream",
     "text": [
      "Epoch: 493\n",
      "Validation Loss: 3.9170\n"
     ]
    },
    {
     "name": "stderr",
     "output_type": "stream",
     "text": [
      "Epoch 494/1000: 100%|██████████| 1/1 [00:00<00:00, 28.03it/s]\n",
      "Epoch 495/1000: 100%|██████████| 1/1 [00:00<00:00, 28.70it/s]\n",
      "Validation: 100%|██████████| 1/1 [00:00<00:00, 41.33it/s]\n"
     ]
    },
    {
     "name": "stdout",
     "output_type": "stream",
     "text": [
      "Epoch: 495\n",
      "Validation Loss: 3.4079\n"
     ]
    },
    {
     "name": "stderr",
     "output_type": "stream",
     "text": [
      "Epoch 496/1000: 100%|██████████| 1/1 [00:00<00:00, 26.64it/s]\n",
      "Epoch 497/1000: 100%|██████████| 1/1 [00:00<00:00, 27.57it/s]\n",
      "Validation: 100%|██████████| 1/1 [00:00<00:00, 42.20it/s]\n"
     ]
    },
    {
     "name": "stdout",
     "output_type": "stream",
     "text": [
      "Epoch: 497\n",
      "Validation Loss: 3.7730\n"
     ]
    },
    {
     "name": "stderr",
     "output_type": "stream",
     "text": [
      "Epoch 498/1000: 100%|██████████| 1/1 [00:00<00:00, 27.66it/s]\n",
      "Epoch 499/1000: 100%|██████████| 1/1 [00:00<00:00, 28.00it/s]\n",
      "Validation: 100%|██████████| 1/1 [00:00<00:00, 38.12it/s]\n"
     ]
    },
    {
     "name": "stdout",
     "output_type": "stream",
     "text": [
      "Epoch: 499\n",
      "Validation Loss: 3.6881\n"
     ]
    },
    {
     "name": "stderr",
     "output_type": "stream",
     "text": [
      "Epoch 500/1000: 100%|██████████| 1/1 [00:00<00:00, 24.65it/s]\n",
      "Epoch 501/1000: 100%|██████████| 1/1 [00:00<00:00, 27.58it/s]\n",
      "Validation: 100%|██████████| 1/1 [00:00<00:00, 38.65it/s]\n"
     ]
    },
    {
     "name": "stdout",
     "output_type": "stream",
     "text": [
      "Epoch: 501\n",
      "Validation Loss: 3.7341\n"
     ]
    },
    {
     "name": "stderr",
     "output_type": "stream",
     "text": [
      "Epoch 502/1000: 100%|██████████| 1/1 [00:00<00:00, 27.47it/s]\n",
      "Epoch 503/1000: 100%|██████████| 1/1 [00:00<00:00, 26.76it/s]\n",
      "Validation: 100%|██████████| 1/1 [00:00<00:00, 37.98it/s]\n"
     ]
    },
    {
     "name": "stdout",
     "output_type": "stream",
     "text": [
      "Epoch: 503\n",
      "Validation Loss: 3.6760\n"
     ]
    },
    {
     "name": "stderr",
     "output_type": "stream",
     "text": [
      "Epoch 504/1000: 100%|██████████| 1/1 [00:00<00:00, 25.30it/s]\n",
      "Epoch 505/1000: 100%|██████████| 1/1 [00:00<00:00, 25.14it/s]\n",
      "Validation: 100%|██████████| 1/1 [00:00<00:00, 38.19it/s]\n"
     ]
    },
    {
     "name": "stdout",
     "output_type": "stream",
     "text": [
      "Epoch: 505\n",
      "Validation Loss: 3.4700\n"
     ]
    },
    {
     "name": "stderr",
     "output_type": "stream",
     "text": [
      "Epoch 506/1000: 100%|██████████| 1/1 [00:00<00:00, 26.68it/s]\n",
      "Epoch 507/1000: 100%|██████████| 1/1 [00:00<00:00, 26.44it/s]\n",
      "Validation: 100%|██████████| 1/1 [00:00<00:00, 39.43it/s]\n"
     ]
    },
    {
     "name": "stdout",
     "output_type": "stream",
     "text": [
      "Epoch: 507\n",
      "Validation Loss: 3.5408\n"
     ]
    },
    {
     "name": "stderr",
     "output_type": "stream",
     "text": [
      "Epoch 508/1000: 100%|██████████| 1/1 [00:00<00:00, 27.26it/s]\n",
      "Epoch 509/1000: 100%|██████████| 1/1 [00:00<00:00, 27.98it/s]\n",
      "Validation: 100%|██████████| 1/1 [00:00<00:00, 41.82it/s]\n"
     ]
    },
    {
     "name": "stdout",
     "output_type": "stream",
     "text": [
      "Epoch: 509\n",
      "Validation Loss: 3.1794\n"
     ]
    },
    {
     "name": "stderr",
     "output_type": "stream",
     "text": [
      "Epoch 510/1000: 100%|██████████| 1/1 [00:00<00:00, 26.81it/s]\n",
      "Epoch 511/1000: 100%|██████████| 1/1 [00:00<00:00, 27.84it/s]\n",
      "Validation: 100%|██████████| 1/1 [00:00<00:00, 41.35it/s]\n"
     ]
    },
    {
     "name": "stdout",
     "output_type": "stream",
     "text": [
      "Epoch: 511\n",
      "Validation Loss: 3.5627\n"
     ]
    },
    {
     "name": "stderr",
     "output_type": "stream",
     "text": [
      "Epoch 512/1000: 100%|██████████| 1/1 [00:00<00:00, 26.07it/s]\n",
      "Epoch 513/1000: 100%|██████████| 1/1 [00:00<00:00, 26.46it/s]\n",
      "Validation: 100%|██████████| 1/1 [00:00<00:00, 30.31it/s]\n"
     ]
    },
    {
     "name": "stdout",
     "output_type": "stream",
     "text": [
      "Epoch: 513\n",
      "Validation Loss: 3.7409\n"
     ]
    },
    {
     "name": "stderr",
     "output_type": "stream",
     "text": [
      "Epoch 514/1000: 100%|██████████| 1/1 [00:00<00:00, 18.61it/s]\n",
      "Epoch 515/1000: 100%|██████████| 1/1 [00:00<00:00, 22.82it/s]\n",
      "Validation: 100%|██████████| 1/1 [00:00<00:00, 39.10it/s]\n"
     ]
    },
    {
     "name": "stdout",
     "output_type": "stream",
     "text": [
      "Epoch: 515\n",
      "Validation Loss: 3.5138\n"
     ]
    },
    {
     "name": "stderr",
     "output_type": "stream",
     "text": [
      "Epoch 516/1000: 100%|██████████| 1/1 [00:00<00:00, 25.77it/s]\n",
      "Epoch 517/1000: 100%|██████████| 1/1 [00:00<00:00, 25.41it/s]\n",
      "Validation: 100%|██████████| 1/1 [00:00<00:00, 37.95it/s]\n"
     ]
    },
    {
     "name": "stdout",
     "output_type": "stream",
     "text": [
      "Epoch: 517\n",
      "Validation Loss: 3.5243\n"
     ]
    },
    {
     "name": "stderr",
     "output_type": "stream",
     "text": [
      "Epoch 518/1000: 100%|██████████| 1/1 [00:00<00:00, 22.84it/s]\n",
      "Epoch 519/1000: 100%|██████████| 1/1 [00:00<00:00, 26.36it/s]\n",
      "Validation: 100%|██████████| 1/1 [00:00<00:00, 39.96it/s]\n"
     ]
    },
    {
     "name": "stdout",
     "output_type": "stream",
     "text": [
      "Epoch: 519\n",
      "Validation Loss: 3.3851\n"
     ]
    },
    {
     "name": "stderr",
     "output_type": "stream",
     "text": [
      "Epoch 520/1000: 100%|██████████| 1/1 [00:00<00:00, 25.28it/s]\n",
      "Epoch 521/1000: 100%|██████████| 1/1 [00:00<00:00, 21.78it/s]\n",
      "Validation: 100%|██████████| 1/1 [00:00<00:00, 33.49it/s]\n"
     ]
    },
    {
     "name": "stdout",
     "output_type": "stream",
     "text": [
      "Epoch: 521\n",
      "Validation Loss: 3.3535\n"
     ]
    },
    {
     "name": "stderr",
     "output_type": "stream",
     "text": [
      "Epoch 522/1000: 100%|██████████| 1/1 [00:00<00:00, 27.15it/s]\n",
      "Epoch 523/1000: 100%|██████████| 1/1 [00:00<00:00, 26.68it/s]\n",
      "Validation: 100%|██████████| 1/1 [00:00<00:00, 38.56it/s]\n"
     ]
    },
    {
     "name": "stdout",
     "output_type": "stream",
     "text": [
      "Epoch: 523\n",
      "Validation Loss: 3.1971\n"
     ]
    },
    {
     "name": "stderr",
     "output_type": "stream",
     "text": [
      "Epoch 524/1000: 100%|██████████| 1/1 [00:00<00:00, 24.79it/s]\n",
      "Epoch 525/1000: 100%|██████████| 1/1 [00:00<00:00, 26.47it/s]\n",
      "Validation: 100%|██████████| 1/1 [00:00<00:00, 39.82it/s]\n"
     ]
    },
    {
     "name": "stdout",
     "output_type": "stream",
     "text": [
      "Epoch: 525\n",
      "Validation Loss: 3.1131\n"
     ]
    },
    {
     "name": "stderr",
     "output_type": "stream",
     "text": [
      "Epoch 526/1000: 100%|██████████| 1/1 [00:00<00:00, 26.82it/s]\n",
      "Epoch 527/1000: 100%|██████████| 1/1 [00:00<00:00, 26.03it/s]\n",
      "Validation: 100%|██████████| 1/1 [00:00<00:00, 41.29it/s]\n"
     ]
    },
    {
     "name": "stdout",
     "output_type": "stream",
     "text": [
      "Epoch: 527\n",
      "Validation Loss: 3.2949\n"
     ]
    },
    {
     "name": "stderr",
     "output_type": "stream",
     "text": [
      "Epoch 528/1000: 100%|██████████| 1/1 [00:00<00:00, 26.78it/s]\n",
      "Epoch 529/1000: 100%|██████████| 1/1 [00:00<00:00, 27.72it/s]\n",
      "Validation: 100%|██████████| 1/1 [00:00<00:00, 41.89it/s]\n"
     ]
    },
    {
     "name": "stdout",
     "output_type": "stream",
     "text": [
      "Epoch: 529\n",
      "Validation Loss: 3.0084\n"
     ]
    },
    {
     "name": "stderr",
     "output_type": "stream",
     "text": [
      "Epoch 530/1000: 100%|██████████| 1/1 [00:00<00:00, 26.87it/s]\n",
      "Epoch 531/1000: 100%|██████████| 1/1 [00:00<00:00, 26.81it/s]\n",
      "Validation: 100%|██████████| 1/1 [00:00<00:00, 38.53it/s]\n"
     ]
    },
    {
     "name": "stdout",
     "output_type": "stream",
     "text": [
      "Epoch: 531\n",
      "Validation Loss: 3.2995\n"
     ]
    },
    {
     "name": "stderr",
     "output_type": "stream",
     "text": [
      "Epoch 532/1000: 100%|██████████| 1/1 [00:00<00:00, 27.11it/s]\n",
      "Epoch 533/1000: 100%|██████████| 1/1 [00:00<00:00, 26.73it/s]\n",
      "Validation: 100%|██████████| 1/1 [00:00<00:00, 40.40it/s]\n"
     ]
    },
    {
     "name": "stdout",
     "output_type": "stream",
     "text": [
      "Epoch: 533\n",
      "Validation Loss: 2.9513\n"
     ]
    },
    {
     "name": "stderr",
     "output_type": "stream",
     "text": [
      "Epoch 534/1000: 100%|██████████| 1/1 [00:00<00:00, 22.38it/s]\n",
      "Epoch 535/1000: 100%|██████████| 1/1 [00:00<00:00, 25.08it/s]\n",
      "Validation: 100%|██████████| 1/1 [00:00<00:00, 38.83it/s]\n"
     ]
    },
    {
     "name": "stdout",
     "output_type": "stream",
     "text": [
      "Epoch: 535\n",
      "Validation Loss: 2.8605\n"
     ]
    },
    {
     "name": "stderr",
     "output_type": "stream",
     "text": [
      "Epoch 536/1000: 100%|██████████| 1/1 [00:00<00:00, 27.40it/s]\n",
      "Epoch 537/1000: 100%|██████████| 1/1 [00:00<00:00, 19.88it/s]\n",
      "Validation: 100%|██████████| 1/1 [00:00<00:00, 38.10it/s]\n"
     ]
    },
    {
     "name": "stdout",
     "output_type": "stream",
     "text": [
      "Epoch: 537\n",
      "Validation Loss: 3.5928\n"
     ]
    },
    {
     "name": "stderr",
     "output_type": "stream",
     "text": [
      "Epoch 538/1000: 100%|██████████| 1/1 [00:00<00:00, 22.34it/s]\n",
      "Epoch 539/1000: 100%|██████████| 1/1 [00:00<00:00, 27.13it/s]\n",
      "Validation: 100%|██████████| 1/1 [00:00<00:00, 38.70it/s]\n"
     ]
    },
    {
     "name": "stdout",
     "output_type": "stream",
     "text": [
      "Epoch: 539\n",
      "Validation Loss: 3.7643\n"
     ]
    },
    {
     "name": "stderr",
     "output_type": "stream",
     "text": [
      "Epoch 540/1000: 100%|██████████| 1/1 [00:00<00:00, 26.71it/s]\n",
      "Epoch 541/1000: 100%|██████████| 1/1 [00:00<00:00, 26.35it/s]\n",
      "Validation: 100%|██████████| 1/1 [00:00<00:00, 40.06it/s]\n"
     ]
    },
    {
     "name": "stdout",
     "output_type": "stream",
     "text": [
      "Epoch: 541\n",
      "Validation Loss: 3.7413\n"
     ]
    },
    {
     "name": "stderr",
     "output_type": "stream",
     "text": [
      "Epoch 542/1000: 100%|██████████| 1/1 [00:00<00:00, 26.96it/s]\n",
      "Epoch 543/1000: 100%|██████████| 1/1 [00:00<00:00, 27.67it/s]\n",
      "Validation: 100%|██████████| 1/1 [00:00<00:00, 40.23it/s]\n"
     ]
    },
    {
     "name": "stdout",
     "output_type": "stream",
     "text": [
      "Epoch: 543\n",
      "Validation Loss: 3.3156\n"
     ]
    },
    {
     "name": "stderr",
     "output_type": "stream",
     "text": [
      "Epoch 544/1000: 100%|██████████| 1/1 [00:00<00:00, 26.73it/s]\n",
      "Epoch 545/1000: 100%|██████████| 1/1 [00:00<00:00, 26.61it/s]\n",
      "Validation: 100%|██████████| 1/1 [00:00<00:00, 38.74it/s]\n"
     ]
    },
    {
     "name": "stdout",
     "output_type": "stream",
     "text": [
      "Epoch: 545\n",
      "Validation Loss: 3.2938\n"
     ]
    },
    {
     "name": "stderr",
     "output_type": "stream",
     "text": [
      "Epoch 546/1000: 100%|██████████| 1/1 [00:00<00:00, 27.01it/s]\n",
      "Epoch 547/1000: 100%|██████████| 1/1 [00:00<00:00, 26.22it/s]\n",
      "Validation: 100%|██████████| 1/1 [00:00<00:00, 40.66it/s]\n"
     ]
    },
    {
     "name": "stdout",
     "output_type": "stream",
     "text": [
      "Epoch: 547\n",
      "Validation Loss: 3.5259\n"
     ]
    },
    {
     "name": "stderr",
     "output_type": "stream",
     "text": [
      "Epoch 548/1000: 100%|██████████| 1/1 [00:00<00:00, 26.37it/s]\n",
      "Epoch 549/1000: 100%|██████████| 1/1 [00:00<00:00, 26.53it/s]\n",
      "Validation: 100%|██████████| 1/1 [00:00<00:00, 40.11it/s]\n"
     ]
    },
    {
     "name": "stdout",
     "output_type": "stream",
     "text": [
      "Epoch: 549\n",
      "Validation Loss: 3.6784\n"
     ]
    },
    {
     "name": "stderr",
     "output_type": "stream",
     "text": [
      "Epoch 550/1000: 100%|██████████| 1/1 [00:00<00:00, 26.91it/s]\n",
      "Epoch 551/1000: 100%|██████████| 1/1 [00:00<00:00, 27.72it/s]\n",
      "Validation: 100%|██████████| 1/1 [00:00<00:00, 39.71it/s]\n"
     ]
    },
    {
     "name": "stdout",
     "output_type": "stream",
     "text": [
      "Epoch: 551\n",
      "Validation Loss: 3.0919\n"
     ]
    },
    {
     "name": "stderr",
     "output_type": "stream",
     "text": [
      "Epoch 552/1000: 100%|██████████| 1/1 [00:00<00:00, 26.94it/s]\n",
      "Epoch 553/1000: 100%|██████████| 1/1 [00:00<00:00, 27.00it/s]\n",
      "Validation: 100%|██████████| 1/1 [00:00<00:00, 39.72it/s]\n"
     ]
    },
    {
     "name": "stdout",
     "output_type": "stream",
     "text": [
      "Epoch: 553\n",
      "Validation Loss: 2.9971\n"
     ]
    },
    {
     "name": "stderr",
     "output_type": "stream",
     "text": [
      "Epoch 554/1000: 100%|██████████| 1/1 [00:00<00:00, 27.36it/s]\n",
      "Epoch 555/1000: 100%|██████████| 1/1 [00:00<00:00, 26.80it/s]\n",
      "Validation: 100%|██████████| 1/1 [00:00<00:00, 39.76it/s]\n"
     ]
    },
    {
     "name": "stdout",
     "output_type": "stream",
     "text": [
      "Epoch: 555\n",
      "Validation Loss: 2.9836\n"
     ]
    },
    {
     "name": "stderr",
     "output_type": "stream",
     "text": [
      "Epoch 556/1000: 100%|██████████| 1/1 [00:00<00:00, 27.28it/s]\n",
      "Epoch 557/1000: 100%|██████████| 1/1 [00:00<00:00, 27.53it/s]\n",
      "Validation: 100%|██████████| 1/1 [00:00<00:00, 40.55it/s]\n"
     ]
    },
    {
     "name": "stdout",
     "output_type": "stream",
     "text": [
      "Epoch: 557\n",
      "Validation Loss: 2.6178\n"
     ]
    },
    {
     "name": "stderr",
     "output_type": "stream",
     "text": [
      "Epoch 558/1000: 100%|██████████| 1/1 [00:00<00:00, 22.78it/s]\n",
      "Epoch 559/1000: 100%|██████████| 1/1 [00:00<00:00, 26.96it/s]\n",
      "Validation: 100%|██████████| 1/1 [00:00<00:00, 39.13it/s]\n"
     ]
    },
    {
     "name": "stdout",
     "output_type": "stream",
     "text": [
      "Epoch: 559\n",
      "Validation Loss: 2.9849\n"
     ]
    },
    {
     "name": "stderr",
     "output_type": "stream",
     "text": [
      "Epoch 560/1000: 100%|██████████| 1/1 [00:00<00:00, 26.74it/s]\n",
      "Epoch 561/1000: 100%|██████████| 1/1 [00:00<00:00, 27.30it/s]\n",
      "Validation: 100%|██████████| 1/1 [00:00<00:00, 40.13it/s]\n"
     ]
    },
    {
     "name": "stdout",
     "output_type": "stream",
     "text": [
      "Epoch: 561\n",
      "Validation Loss: 2.7686\n"
     ]
    },
    {
     "name": "stderr",
     "output_type": "stream",
     "text": [
      "Epoch 562/1000: 100%|██████████| 1/1 [00:00<00:00, 26.09it/s]\n",
      "Epoch 563/1000: 100%|██████████| 1/1 [00:00<00:00, 28.09it/s]\n",
      "Validation: 100%|██████████| 1/1 [00:00<00:00, 39.83it/s]\n"
     ]
    },
    {
     "name": "stdout",
     "output_type": "stream",
     "text": [
      "Epoch: 563\n",
      "Validation Loss: 2.5714\n"
     ]
    },
    {
     "name": "stderr",
     "output_type": "stream",
     "text": [
      "Epoch 564/1000: 100%|██████████| 1/1 [00:00<00:00, 25.76it/s]\n",
      "Epoch 565/1000: 100%|██████████| 1/1 [00:00<00:00, 25.82it/s]\n",
      "Validation: 100%|██████████| 1/1 [00:00<00:00, 40.73it/s]\n"
     ]
    },
    {
     "name": "stdout",
     "output_type": "stream",
     "text": [
      "Epoch: 565\n",
      "Validation Loss: 2.3823\n"
     ]
    },
    {
     "name": "stderr",
     "output_type": "stream",
     "text": [
      "Epoch 566/1000: 100%|██████████| 1/1 [00:00<00:00, 26.78it/s]\n",
      "Epoch 567/1000: 100%|██████████| 1/1 [00:00<00:00, 26.15it/s]\n",
      "Validation: 100%|██████████| 1/1 [00:00<00:00, 38.00it/s]\n"
     ]
    },
    {
     "name": "stdout",
     "output_type": "stream",
     "text": [
      "Epoch: 567\n",
      "Validation Loss: 2.4870\n"
     ]
    },
    {
     "name": "stderr",
     "output_type": "stream",
     "text": [
      "Epoch 568/1000: 100%|██████████| 1/1 [00:00<00:00, 26.60it/s]\n",
      "Epoch 569/1000: 100%|██████████| 1/1 [00:00<00:00, 26.21it/s]\n",
      "Validation: 100%|██████████| 1/1 [00:00<00:00, 37.46it/s]\n"
     ]
    },
    {
     "name": "stdout",
     "output_type": "stream",
     "text": [
      "Epoch: 569\n",
      "Validation Loss: 2.5051\n"
     ]
    },
    {
     "name": "stderr",
     "output_type": "stream",
     "text": [
      "Epoch 570/1000: 100%|██████████| 1/1 [00:00<00:00, 26.47it/s]\n",
      "Epoch 571/1000: 100%|██████████| 1/1 [00:00<00:00, 27.42it/s]\n",
      "Validation: 100%|██████████| 1/1 [00:00<00:00, 39.63it/s]\n"
     ]
    },
    {
     "name": "stdout",
     "output_type": "stream",
     "text": [
      "Epoch: 571\n",
      "Validation Loss: 2.6809\n"
     ]
    },
    {
     "name": "stderr",
     "output_type": "stream",
     "text": [
      "Epoch 572/1000: 100%|██████████| 1/1 [00:00<00:00, 24.31it/s]\n",
      "Epoch 573/1000: 100%|██████████| 1/1 [00:00<00:00, 27.09it/s]\n",
      "Validation: 100%|██████████| 1/1 [00:00<00:00, 40.43it/s]\n"
     ]
    },
    {
     "name": "stdout",
     "output_type": "stream",
     "text": [
      "Epoch: 573\n",
      "Validation Loss: 2.4358\n"
     ]
    },
    {
     "name": "stderr",
     "output_type": "stream",
     "text": [
      "Epoch 574/1000: 100%|██████████| 1/1 [00:00<00:00, 27.42it/s]\n",
      "Epoch 575/1000: 100%|██████████| 1/1 [00:00<00:00, 26.59it/s]\n",
      "Validation: 100%|██████████| 1/1 [00:00<00:00, 40.83it/s]\n"
     ]
    },
    {
     "name": "stdout",
     "output_type": "stream",
     "text": [
      "Epoch: 575\n",
      "Validation Loss: 2.4137\n"
     ]
    },
    {
     "name": "stderr",
     "output_type": "stream",
     "text": [
      "Epoch 576/1000: 100%|██████████| 1/1 [00:00<00:00, 25.68it/s]\n",
      "Epoch 577/1000: 100%|██████████| 1/1 [00:00<00:00, 25.83it/s]\n",
      "Validation: 100%|██████████| 1/1 [00:00<00:00, 32.96it/s]\n"
     ]
    },
    {
     "name": "stdout",
     "output_type": "stream",
     "text": [
      "Epoch: 577\n",
      "Validation Loss: 2.3008\n"
     ]
    },
    {
     "name": "stderr",
     "output_type": "stream",
     "text": [
      "Epoch 578/1000: 100%|██████████| 1/1 [00:00<00:00, 25.92it/s]\n",
      "Epoch 579/1000: 100%|██████████| 1/1 [00:00<00:00, 27.17it/s]\n",
      "Validation: 100%|██████████| 1/1 [00:00<00:00, 38.75it/s]\n"
     ]
    },
    {
     "name": "stdout",
     "output_type": "stream",
     "text": [
      "Epoch: 579\n",
      "Validation Loss: 2.0843\n"
     ]
    },
    {
     "name": "stderr",
     "output_type": "stream",
     "text": [
      "Epoch 580/1000: 100%|██████████| 1/1 [00:00<00:00, 22.72it/s]\n",
      "Epoch 581/1000: 100%|██████████| 1/1 [00:00<00:00, 27.17it/s]\n",
      "Validation: 100%|██████████| 1/1 [00:00<00:00, 41.00it/s]\n"
     ]
    },
    {
     "name": "stdout",
     "output_type": "stream",
     "text": [
      "Epoch: 581\n",
      "Validation Loss: 2.3599\n"
     ]
    },
    {
     "name": "stderr",
     "output_type": "stream",
     "text": [
      "Epoch 582/1000: 100%|██████████| 1/1 [00:00<00:00, 23.72it/s]\n",
      "Epoch 583/1000: 100%|██████████| 1/1 [00:00<00:00, 26.60it/s]\n",
      "Validation: 100%|██████████| 1/1 [00:00<00:00, 40.35it/s]\n"
     ]
    },
    {
     "name": "stdout",
     "output_type": "stream",
     "text": [
      "Epoch: 583\n",
      "Validation Loss: 1.9801\n"
     ]
    },
    {
     "name": "stderr",
     "output_type": "stream",
     "text": [
      "Epoch 584/1000: 100%|██████████| 1/1 [00:00<00:00, 26.47it/s]\n",
      "Epoch 585/1000: 100%|██████████| 1/1 [00:00<00:00, 27.23it/s]\n",
      "Validation: 100%|██████████| 1/1 [00:00<00:00, 40.85it/s]\n"
     ]
    },
    {
     "name": "stdout",
     "output_type": "stream",
     "text": [
      "Epoch: 585\n",
      "Validation Loss: 2.4125\n"
     ]
    },
    {
     "name": "stderr",
     "output_type": "stream",
     "text": [
      "Epoch 586/1000: 100%|██████████| 1/1 [00:00<00:00, 26.85it/s]\n",
      "Epoch 587/1000: 100%|██████████| 1/1 [00:00<00:00, 27.60it/s]\n",
      "Validation: 100%|██████████| 1/1 [00:00<00:00, 39.09it/s]\n"
     ]
    },
    {
     "name": "stdout",
     "output_type": "stream",
     "text": [
      "Epoch: 587\n",
      "Validation Loss: 2.2433\n"
     ]
    },
    {
     "name": "stderr",
     "output_type": "stream",
     "text": [
      "Epoch 588/1000: 100%|██████████| 1/1 [00:00<00:00, 26.03it/s]\n",
      "Epoch 589/1000: 100%|██████████| 1/1 [00:00<00:00, 26.90it/s]\n",
      "Validation: 100%|██████████| 1/1 [00:00<00:00, 37.91it/s]\n"
     ]
    },
    {
     "name": "stdout",
     "output_type": "stream",
     "text": [
      "Epoch: 589\n",
      "Validation Loss: 2.3168\n"
     ]
    },
    {
     "name": "stderr",
     "output_type": "stream",
     "text": [
      "Epoch 590/1000: 100%|██████████| 1/1 [00:00<00:00, 27.13it/s]\n",
      "Epoch 591/1000: 100%|██████████| 1/1 [00:00<00:00, 27.40it/s]\n",
      "Validation: 100%|██████████| 1/1 [00:00<00:00, 33.82it/s]\n"
     ]
    },
    {
     "name": "stdout",
     "output_type": "stream",
     "text": [
      "Epoch: 591\n",
      "Validation Loss: 2.3136\n"
     ]
    },
    {
     "name": "stderr",
     "output_type": "stream",
     "text": [
      "Epoch 592/1000: 100%|██████████| 1/1 [00:00<00:00, 25.51it/s]\n",
      "Epoch 593/1000: 100%|██████████| 1/1 [00:00<00:00, 27.44it/s]\n",
      "Validation: 100%|██████████| 1/1 [00:00<00:00, 40.38it/s]\n"
     ]
    },
    {
     "name": "stdout",
     "output_type": "stream",
     "text": [
      "Epoch: 593\n",
      "Validation Loss: 2.1433\n"
     ]
    },
    {
     "name": "stderr",
     "output_type": "stream",
     "text": [
      "Epoch 594/1000: 100%|██████████| 1/1 [00:00<00:00, 27.33it/s]\n",
      "Epoch 595/1000: 100%|██████████| 1/1 [00:00<00:00, 28.16it/s]\n",
      "Validation: 100%|██████████| 1/1 [00:00<00:00, 33.08it/s]\n"
     ]
    },
    {
     "name": "stdout",
     "output_type": "stream",
     "text": [
      "Epoch: 595\n",
      "Validation Loss: 2.3606\n"
     ]
    },
    {
     "name": "stderr",
     "output_type": "stream",
     "text": [
      "Epoch 596/1000: 100%|██████████| 1/1 [00:00<00:00, 26.15it/s]\n",
      "Epoch 597/1000: 100%|██████████| 1/1 [00:00<00:00, 24.19it/s]\n",
      "Validation: 100%|██████████| 1/1 [00:00<00:00, 36.64it/s]\n"
     ]
    },
    {
     "name": "stdout",
     "output_type": "stream",
     "text": [
      "Epoch: 597\n",
      "Validation Loss: 2.2673\n"
     ]
    },
    {
     "name": "stderr",
     "output_type": "stream",
     "text": [
      "Epoch 598/1000: 100%|██████████| 1/1 [00:00<00:00, 26.68it/s]\n",
      "Epoch 599/1000: 100%|██████████| 1/1 [00:00<00:00, 27.41it/s]\n",
      "Validation: 100%|██████████| 1/1 [00:00<00:00, 35.27it/s]\n"
     ]
    },
    {
     "name": "stdout",
     "output_type": "stream",
     "text": [
      "Epoch: 599\n",
      "Validation Loss: 2.6394\n"
     ]
    },
    {
     "name": "stderr",
     "output_type": "stream",
     "text": [
      "Epoch 600/1000: 100%|██████████| 1/1 [00:00<00:00, 25.00it/s]\n",
      "Epoch 601/1000: 100%|██████████| 1/1 [00:00<00:00, 25.20it/s]\n",
      "Validation: 100%|██████████| 1/1 [00:00<00:00, 39.18it/s]\n"
     ]
    },
    {
     "name": "stdout",
     "output_type": "stream",
     "text": [
      "Epoch: 601\n",
      "Validation Loss: 2.4272\n"
     ]
    },
    {
     "name": "stderr",
     "output_type": "stream",
     "text": [
      "Epoch 602/1000: 100%|██████████| 1/1 [00:00<00:00, 26.39it/s]\n",
      "Epoch 603/1000: 100%|██████████| 1/1 [00:00<00:00, 26.27it/s]\n",
      "Validation: 100%|██████████| 1/1 [00:00<00:00, 38.84it/s]\n"
     ]
    },
    {
     "name": "stdout",
     "output_type": "stream",
     "text": [
      "Epoch: 603\n",
      "Validation Loss: 2.1118\n"
     ]
    },
    {
     "name": "stderr",
     "output_type": "stream",
     "text": [
      "Epoch 604/1000: 100%|██████████| 1/1 [00:00<00:00, 25.85it/s]\n",
      "Epoch 605/1000: 100%|██████████| 1/1 [00:00<00:00, 26.63it/s]\n",
      "Validation: 100%|██████████| 1/1 [00:00<00:00, 32.96it/s]\n"
     ]
    },
    {
     "name": "stdout",
     "output_type": "stream",
     "text": [
      "Epoch: 605\n",
      "Validation Loss: 2.1629\n"
     ]
    },
    {
     "name": "stderr",
     "output_type": "stream",
     "text": [
      "Epoch 606/1000: 100%|██████████| 1/1 [00:00<00:00, 26.18it/s]\n",
      "Epoch 607/1000: 100%|██████████| 1/1 [00:00<00:00, 26.88it/s]\n",
      "Validation: 100%|██████████| 1/1 [00:00<00:00, 38.42it/s]\n"
     ]
    },
    {
     "name": "stdout",
     "output_type": "stream",
     "text": [
      "Epoch: 607\n",
      "Validation Loss: 1.7232\n"
     ]
    },
    {
     "name": "stderr",
     "output_type": "stream",
     "text": [
      "Epoch 608/1000: 100%|██████████| 1/1 [00:00<00:00, 26.17it/s]\n",
      "Epoch 609/1000: 100%|██████████| 1/1 [00:00<00:00, 26.79it/s]\n",
      "Validation: 100%|██████████| 1/1 [00:00<00:00, 40.24it/s]\n"
     ]
    },
    {
     "name": "stdout",
     "output_type": "stream",
     "text": [
      "Epoch: 609\n",
      "Validation Loss: 2.4147\n"
     ]
    },
    {
     "name": "stderr",
     "output_type": "stream",
     "text": [
      "Epoch 610/1000: 100%|██████████| 1/1 [00:00<00:00, 25.21it/s]\n",
      "Epoch 611/1000: 100%|██████████| 1/1 [00:00<00:00, 26.16it/s]\n",
      "Validation: 100%|██████████| 1/1 [00:00<00:00, 39.27it/s]\n"
     ]
    },
    {
     "name": "stdout",
     "output_type": "stream",
     "text": [
      "Epoch: 611\n",
      "Validation Loss: 1.9418\n"
     ]
    },
    {
     "name": "stderr",
     "output_type": "stream",
     "text": [
      "Epoch 612/1000: 100%|██████████| 1/1 [00:00<00:00, 26.73it/s]\n",
      "Epoch 613/1000: 100%|██████████| 1/1 [00:00<00:00, 23.86it/s]\n",
      "Validation: 100%|██████████| 1/1 [00:00<00:00, 35.72it/s]\n"
     ]
    },
    {
     "name": "stdout",
     "output_type": "stream",
     "text": [
      "Epoch: 613\n",
      "Validation Loss: 2.0104\n"
     ]
    },
    {
     "name": "stderr",
     "output_type": "stream",
     "text": [
      "Epoch 614/1000: 100%|██████████| 1/1 [00:00<00:00, 24.38it/s]\n",
      "Epoch 615/1000: 100%|██████████| 1/1 [00:00<00:00, 27.07it/s]\n",
      "Validation: 100%|██████████| 1/1 [00:00<00:00, 40.00it/s]\n"
     ]
    },
    {
     "name": "stdout",
     "output_type": "stream",
     "text": [
      "Epoch: 615\n",
      "Validation Loss: 2.2907\n"
     ]
    },
    {
     "name": "stderr",
     "output_type": "stream",
     "text": [
      "Epoch 616/1000: 100%|██████████| 1/1 [00:00<00:00, 26.74it/s]\n",
      "Epoch 617/1000: 100%|██████████| 1/1 [00:00<00:00, 27.33it/s]\n",
      "Validation: 100%|██████████| 1/1 [00:00<00:00, 40.03it/s]\n"
     ]
    },
    {
     "name": "stdout",
     "output_type": "stream",
     "text": [
      "Epoch: 617\n",
      "Validation Loss: 2.0709\n"
     ]
    },
    {
     "name": "stderr",
     "output_type": "stream",
     "text": [
      "Epoch 618/1000: 100%|██████████| 1/1 [00:00<00:00, 27.78it/s]\n",
      "Epoch 619/1000: 100%|██████████| 1/1 [00:00<00:00, 26.96it/s]\n",
      "Validation: 100%|██████████| 1/1 [00:00<00:00, 39.73it/s]\n"
     ]
    },
    {
     "name": "stdout",
     "output_type": "stream",
     "text": [
      "Epoch: 619\n",
      "Validation Loss: 2.7193\n"
     ]
    },
    {
     "name": "stderr",
     "output_type": "stream",
     "text": [
      "Epoch 620/1000: 100%|██████████| 1/1 [00:00<00:00, 25.60it/s]\n",
      "Epoch 621/1000: 100%|██████████| 1/1 [00:00<00:00, 26.40it/s]\n",
      "Validation: 100%|██████████| 1/1 [00:00<00:00, 36.78it/s]\n"
     ]
    },
    {
     "name": "stdout",
     "output_type": "stream",
     "text": [
      "Epoch: 621\n",
      "Validation Loss: 1.7187\n"
     ]
    },
    {
     "name": "stderr",
     "output_type": "stream",
     "text": [
      "Epoch 622/1000: 100%|██████████| 1/1 [00:00<00:00, 25.95it/s]\n",
      "Epoch 623/1000: 100%|██████████| 1/1 [00:00<00:00, 25.95it/s]\n",
      "Validation: 100%|██████████| 1/1 [00:00<00:00, 37.02it/s]\n"
     ]
    },
    {
     "name": "stdout",
     "output_type": "stream",
     "text": [
      "Epoch: 623\n",
      "Validation Loss: 1.9837\n"
     ]
    },
    {
     "name": "stderr",
     "output_type": "stream",
     "text": [
      "Epoch 624/1000: 100%|██████████| 1/1 [00:00<00:00, 27.81it/s]\n",
      "Epoch 625/1000: 100%|██████████| 1/1 [00:00<00:00, 28.14it/s]\n",
      "Validation: 100%|██████████| 1/1 [00:00<00:00, 42.26it/s]\n"
     ]
    },
    {
     "name": "stdout",
     "output_type": "stream",
     "text": [
      "Epoch: 625\n",
      "Validation Loss: 1.8137\n"
     ]
    },
    {
     "name": "stderr",
     "output_type": "stream",
     "text": [
      "Epoch 626/1000: 100%|██████████| 1/1 [00:00<00:00, 23.09it/s]\n",
      "Epoch 627/1000: 100%|██████████| 1/1 [00:00<00:00, 23.81it/s]\n",
      "Validation: 100%|██████████| 1/1 [00:00<00:00, 36.69it/s]\n"
     ]
    },
    {
     "name": "stdout",
     "output_type": "stream",
     "text": [
      "Epoch: 627\n",
      "Validation Loss: 1.9550\n"
     ]
    },
    {
     "name": "stderr",
     "output_type": "stream",
     "text": [
      "Epoch 628/1000: 100%|██████████| 1/1 [00:00<00:00, 26.37it/s]\n",
      "Epoch 629/1000: 100%|██████████| 1/1 [00:00<00:00, 25.71it/s]\n",
      "Validation: 100%|██████████| 1/1 [00:00<00:00, 36.76it/s]\n"
     ]
    },
    {
     "name": "stdout",
     "output_type": "stream",
     "text": [
      "Epoch: 629\n",
      "Validation Loss: 1.8778\n"
     ]
    },
    {
     "name": "stderr",
     "output_type": "stream",
     "text": [
      "Epoch 630/1000: 100%|██████████| 1/1 [00:00<00:00, 26.19it/s]\n",
      "Epoch 631/1000: 100%|██████████| 1/1 [00:00<00:00, 27.62it/s]\n",
      "Validation: 100%|██████████| 1/1 [00:00<00:00, 41.37it/s]\n"
     ]
    },
    {
     "name": "stdout",
     "output_type": "stream",
     "text": [
      "Epoch: 631\n",
      "Validation Loss: 1.8907\n"
     ]
    },
    {
     "name": "stderr",
     "output_type": "stream",
     "text": [
      "Epoch 632/1000: 100%|██████████| 1/1 [00:00<00:00, 27.27it/s]\n",
      "Epoch 633/1000: 100%|██████████| 1/1 [00:00<00:00, 25.21it/s]\n",
      "Validation: 100%|██████████| 1/1 [00:00<00:00, 41.05it/s]\n"
     ]
    },
    {
     "name": "stdout",
     "output_type": "stream",
     "text": [
      "Epoch: 633\n",
      "Validation Loss: 2.2628\n"
     ]
    },
    {
     "name": "stderr",
     "output_type": "stream",
     "text": [
      "Epoch 634/1000: 100%|██████████| 1/1 [00:00<00:00, 27.32it/s]\n",
      "Epoch 635/1000: 100%|██████████| 1/1 [00:00<00:00, 26.50it/s]\n",
      "Validation: 100%|██████████| 1/1 [00:00<00:00, 40.47it/s]\n"
     ]
    },
    {
     "name": "stdout",
     "output_type": "stream",
     "text": [
      "Epoch: 635\n",
      "Validation Loss: 1.4368\n"
     ]
    },
    {
     "name": "stderr",
     "output_type": "stream",
     "text": [
      "Epoch 636/1000: 100%|██████████| 1/1 [00:00<00:00, 26.38it/s]\n",
      "Epoch 637/1000: 100%|██████████| 1/1 [00:00<00:00, 24.89it/s]\n",
      "Validation: 100%|██████████| 1/1 [00:00<00:00, 39.19it/s]\n"
     ]
    },
    {
     "name": "stdout",
     "output_type": "stream",
     "text": [
      "Epoch: 637\n",
      "Validation Loss: 2.5046\n"
     ]
    },
    {
     "name": "stderr",
     "output_type": "stream",
     "text": [
      "Epoch 638/1000: 100%|██████████| 1/1 [00:00<00:00, 26.36it/s]\n",
      "Epoch 639/1000: 100%|██████████| 1/1 [00:00<00:00, 27.39it/s]\n",
      "Validation: 100%|██████████| 1/1 [00:00<00:00, 41.41it/s]\n"
     ]
    },
    {
     "name": "stdout",
     "output_type": "stream",
     "text": [
      "Epoch: 639\n",
      "Validation Loss: 2.6058\n"
     ]
    },
    {
     "name": "stderr",
     "output_type": "stream",
     "text": [
      "Epoch 640/1000: 100%|██████████| 1/1 [00:00<00:00, 26.27it/s]\n",
      "Epoch 641/1000: 100%|██████████| 1/1 [00:00<00:00, 26.82it/s]\n",
      "Validation: 100%|██████████| 1/1 [00:00<00:00, 40.10it/s]\n"
     ]
    },
    {
     "name": "stdout",
     "output_type": "stream",
     "text": [
      "Epoch: 641\n",
      "Validation Loss: 2.3845\n"
     ]
    },
    {
     "name": "stderr",
     "output_type": "stream",
     "text": [
      "Epoch 642/1000: 100%|██████████| 1/1 [00:00<00:00, 26.43it/s]\n",
      "Epoch 643/1000: 100%|██████████| 1/1 [00:00<00:00, 28.71it/s]\n",
      "Validation: 100%|██████████| 1/1 [00:00<00:00, 42.64it/s]\n"
     ]
    },
    {
     "name": "stdout",
     "output_type": "stream",
     "text": [
      "Epoch: 643\n",
      "Validation Loss: 1.9753\n"
     ]
    },
    {
     "name": "stderr",
     "output_type": "stream",
     "text": [
      "Epoch 644/1000: 100%|██████████| 1/1 [00:00<00:00, 25.31it/s]\n",
      "Epoch 645/1000: 100%|██████████| 1/1 [00:00<00:00, 25.95it/s]\n",
      "Validation: 100%|██████████| 1/1 [00:00<00:00, 37.83it/s]\n"
     ]
    },
    {
     "name": "stdout",
     "output_type": "stream",
     "text": [
      "Epoch: 645\n",
      "Validation Loss: 2.1608\n"
     ]
    },
    {
     "name": "stderr",
     "output_type": "stream",
     "text": [
      "Epoch 646/1000: 100%|██████████| 1/1 [00:00<00:00, 27.85it/s]\n",
      "Epoch 647/1000: 100%|██████████| 1/1 [00:00<00:00, 28.61it/s]\n",
      "Validation: 100%|██████████| 1/1 [00:00<00:00, 41.88it/s]\n"
     ]
    },
    {
     "name": "stdout",
     "output_type": "stream",
     "text": [
      "Epoch: 647\n",
      "Validation Loss: 2.5446\n"
     ]
    },
    {
     "name": "stderr",
     "output_type": "stream",
     "text": [
      "Epoch 648/1000: 100%|██████████| 1/1 [00:00<00:00, 27.95it/s]\n",
      "Epoch 649/1000: 100%|██████████| 1/1 [00:00<00:00, 29.04it/s]\n",
      "Validation: 100%|██████████| 1/1 [00:00<00:00, 41.36it/s]\n"
     ]
    },
    {
     "name": "stdout",
     "output_type": "stream",
     "text": [
      "Epoch: 649\n",
      "Validation Loss: 2.2225\n"
     ]
    },
    {
     "name": "stderr",
     "output_type": "stream",
     "text": [
      "Epoch 650/1000: 100%|██████████| 1/1 [00:00<00:00, 27.09it/s]\n",
      "Epoch 651/1000: 100%|██████████| 1/1 [00:00<00:00, 26.48it/s]\n",
      "Validation: 100%|██████████| 1/1 [00:00<00:00, 42.02it/s]\n"
     ]
    },
    {
     "name": "stdout",
     "output_type": "stream",
     "text": [
      "Epoch: 651\n",
      "Validation Loss: 2.5728\n"
     ]
    },
    {
     "name": "stderr",
     "output_type": "stream",
     "text": [
      "Epoch 652/1000: 100%|██████████| 1/1 [00:00<00:00, 27.21it/s]\n",
      "Epoch 653/1000: 100%|██████████| 1/1 [00:00<00:00, 28.22it/s]\n",
      "Validation: 100%|██████████| 1/1 [00:00<00:00, 39.58it/s]\n"
     ]
    },
    {
     "name": "stdout",
     "output_type": "stream",
     "text": [
      "Epoch: 653\n",
      "Validation Loss: 2.2558\n"
     ]
    },
    {
     "name": "stderr",
     "output_type": "stream",
     "text": [
      "Epoch 654/1000: 100%|██████████| 1/1 [00:00<00:00, 27.99it/s]\n",
      "Epoch 655/1000: 100%|██████████| 1/1 [00:00<00:00, 26.59it/s]\n",
      "Validation: 100%|██████████| 1/1 [00:00<00:00, 41.70it/s]\n"
     ]
    },
    {
     "name": "stdout",
     "output_type": "stream",
     "text": [
      "Epoch: 655\n",
      "Validation Loss: 2.2587\n"
     ]
    },
    {
     "name": "stderr",
     "output_type": "stream",
     "text": [
      "Epoch 656/1000: 100%|██████████| 1/1 [00:00<00:00, 26.85it/s]\n",
      "Epoch 657/1000: 100%|██████████| 1/1 [00:00<00:00, 28.39it/s]\n",
      "Validation: 100%|██████████| 1/1 [00:00<00:00, 39.57it/s]\n"
     ]
    },
    {
     "name": "stdout",
     "output_type": "stream",
     "text": [
      "Epoch: 657\n",
      "Validation Loss: 2.2553\n"
     ]
    },
    {
     "name": "stderr",
     "output_type": "stream",
     "text": [
      "Epoch 658/1000: 100%|██████████| 1/1 [00:00<00:00, 28.33it/s]\n",
      "Epoch 659/1000: 100%|██████████| 1/1 [00:00<00:00, 28.35it/s]\n",
      "Validation: 100%|██████████| 1/1 [00:00<00:00, 41.66it/s]\n"
     ]
    },
    {
     "name": "stdout",
     "output_type": "stream",
     "text": [
      "Epoch: 659\n",
      "Validation Loss: 1.8926\n"
     ]
    },
    {
     "name": "stderr",
     "output_type": "stream",
     "text": [
      "Epoch 660/1000: 100%|██████████| 1/1 [00:00<00:00, 28.08it/s]\n",
      "Epoch 661/1000: 100%|██████████| 1/1 [00:00<00:00, 27.37it/s]\n",
      "Validation: 100%|██████████| 1/1 [00:00<00:00, 42.04it/s]\n"
     ]
    },
    {
     "name": "stdout",
     "output_type": "stream",
     "text": [
      "Epoch: 661\n",
      "Validation Loss: 1.5377\n"
     ]
    },
    {
     "name": "stderr",
     "output_type": "stream",
     "text": [
      "Epoch 662/1000: 100%|██████████| 1/1 [00:00<00:00, 28.51it/s]\n",
      "Epoch 663/1000: 100%|██████████| 1/1 [00:00<00:00, 28.65it/s]\n",
      "Validation: 100%|██████████| 1/1 [00:00<00:00, 42.34it/s]\n"
     ]
    },
    {
     "name": "stdout",
     "output_type": "stream",
     "text": [
      "Epoch: 663\n",
      "Validation Loss: 1.7099\n"
     ]
    },
    {
     "name": "stderr",
     "output_type": "stream",
     "text": [
      "Epoch 664/1000: 100%|██████████| 1/1 [00:00<00:00, 27.00it/s]\n",
      "Epoch 665/1000: 100%|██████████| 1/1 [00:00<00:00, 28.01it/s]\n",
      "Validation: 100%|██████████| 1/1 [00:00<00:00, 42.43it/s]\n"
     ]
    },
    {
     "name": "stdout",
     "output_type": "stream",
     "text": [
      "Epoch: 665\n",
      "Validation Loss: 1.8856\n"
     ]
    },
    {
     "name": "stderr",
     "output_type": "stream",
     "text": [
      "Epoch 666/1000: 100%|██████████| 1/1 [00:00<00:00, 28.72it/s]\n",
      "Epoch 667/1000: 100%|██████████| 1/1 [00:00<00:00, 28.04it/s]\n",
      "Validation: 100%|██████████| 1/1 [00:00<00:00, 42.13it/s]\n"
     ]
    },
    {
     "name": "stdout",
     "output_type": "stream",
     "text": [
      "Epoch: 667\n",
      "Validation Loss: 1.8610\n"
     ]
    },
    {
     "name": "stderr",
     "output_type": "stream",
     "text": [
      "Epoch 668/1000: 100%|██████████| 1/1 [00:00<00:00, 26.88it/s]\n",
      "Epoch 669/1000: 100%|██████████| 1/1 [00:00<00:00, 28.05it/s]\n",
      "Validation: 100%|██████████| 1/1 [00:00<00:00, 42.31it/s]\n"
     ]
    },
    {
     "name": "stdout",
     "output_type": "stream",
     "text": [
      "Epoch: 669\n",
      "Validation Loss: 1.7031\n"
     ]
    },
    {
     "name": "stderr",
     "output_type": "stream",
     "text": [
      "Epoch 670/1000: 100%|██████████| 1/1 [00:00<00:00, 25.31it/s]\n",
      "Epoch 671/1000: 100%|██████████| 1/1 [00:00<00:00, 22.58it/s]\n",
      "Validation: 100%|██████████| 1/1 [00:00<00:00, 38.33it/s]\n"
     ]
    },
    {
     "name": "stdout",
     "output_type": "stream",
     "text": [
      "Epoch: 671\n",
      "Validation Loss: 2.1005\n"
     ]
    },
    {
     "name": "stderr",
     "output_type": "stream",
     "text": [
      "Epoch 672/1000: 100%|██████████| 1/1 [00:00<00:00, 26.68it/s]\n",
      "Epoch 673/1000: 100%|██████████| 1/1 [00:00<00:00, 25.87it/s]\n",
      "Validation: 100%|██████████| 1/1 [00:00<00:00, 36.85it/s]\n"
     ]
    },
    {
     "name": "stdout",
     "output_type": "stream",
     "text": [
      "Epoch: 673\n",
      "Validation Loss: 1.9280\n"
     ]
    },
    {
     "name": "stderr",
     "output_type": "stream",
     "text": [
      "Epoch 674/1000: 100%|██████████| 1/1 [00:00<00:00, 27.87it/s]\n",
      "Epoch 675/1000: 100%|██████████| 1/1 [00:00<00:00, 26.29it/s]\n",
      "Validation: 100%|██████████| 1/1 [00:00<00:00, 38.68it/s]\n"
     ]
    },
    {
     "name": "stdout",
     "output_type": "stream",
     "text": [
      "Epoch: 675\n",
      "Validation Loss: 1.9474\n"
     ]
    },
    {
     "name": "stderr",
     "output_type": "stream",
     "text": [
      "Epoch 676/1000: 100%|██████████| 1/1 [00:00<00:00, 27.22it/s]\n",
      "Epoch 677/1000: 100%|██████████| 1/1 [00:00<00:00, 25.46it/s]\n",
      "Validation: 100%|██████████| 1/1 [00:00<00:00, 42.40it/s]\n"
     ]
    },
    {
     "name": "stdout",
     "output_type": "stream",
     "text": [
      "Epoch: 677\n",
      "Validation Loss: 1.9913\n"
     ]
    },
    {
     "name": "stderr",
     "output_type": "stream",
     "text": [
      "Epoch 678/1000: 100%|██████████| 1/1 [00:00<00:00, 27.37it/s]\n",
      "Epoch 679/1000: 100%|██████████| 1/1 [00:00<00:00, 28.56it/s]\n",
      "Validation: 100%|██████████| 1/1 [00:00<00:00, 42.18it/s]\n"
     ]
    },
    {
     "name": "stdout",
     "output_type": "stream",
     "text": [
      "Epoch: 679\n",
      "Validation Loss: 1.8993\n"
     ]
    },
    {
     "name": "stderr",
     "output_type": "stream",
     "text": [
      "Epoch 680/1000: 100%|██████████| 1/1 [00:00<00:00, 28.02it/s]\n",
      "Epoch 681/1000: 100%|██████████| 1/1 [00:00<00:00, 28.10it/s]\n",
      "Validation: 100%|██████████| 1/1 [00:00<00:00, 42.48it/s]\n"
     ]
    },
    {
     "name": "stdout",
     "output_type": "stream",
     "text": [
      "Epoch: 681\n",
      "Validation Loss: 2.1733\n"
     ]
    },
    {
     "name": "stderr",
     "output_type": "stream",
     "text": [
      "Epoch 682/1000: 100%|██████████| 1/1 [00:00<00:00, 27.15it/s]\n",
      "Epoch 683/1000: 100%|██████████| 1/1 [00:00<00:00, 27.12it/s]\n",
      "Validation: 100%|██████████| 1/1 [00:00<00:00, 38.46it/s]\n"
     ]
    },
    {
     "name": "stdout",
     "output_type": "stream",
     "text": [
      "Epoch: 683\n",
      "Validation Loss: 1.9594\n"
     ]
    },
    {
     "name": "stderr",
     "output_type": "stream",
     "text": [
      "Epoch 684/1000: 100%|██████████| 1/1 [00:00<00:00, 26.94it/s]\n",
      "Epoch 685/1000: 100%|██████████| 1/1 [00:00<00:00, 26.49it/s]\n",
      "Validation: 100%|██████████| 1/1 [00:00<00:00, 37.98it/s]\n"
     ]
    },
    {
     "name": "stdout",
     "output_type": "stream",
     "text": [
      "Epoch: 685\n",
      "Validation Loss: 2.4079\n"
     ]
    },
    {
     "name": "stderr",
     "output_type": "stream",
     "text": [
      "Epoch 686/1000: 100%|██████████| 1/1 [00:00<00:00, 27.33it/s]\n",
      "Epoch 687/1000: 100%|██████████| 1/1 [00:00<00:00, 27.00it/s]\n",
      "Validation: 100%|██████████| 1/1 [00:00<00:00, 41.37it/s]\n"
     ]
    },
    {
     "name": "stdout",
     "output_type": "stream",
     "text": [
      "Epoch: 687\n",
      "Validation Loss: 1.8760\n"
     ]
    },
    {
     "name": "stderr",
     "output_type": "stream",
     "text": [
      "Epoch 688/1000: 100%|██████████| 1/1 [00:00<00:00, 27.62it/s]\n",
      "Epoch 689/1000: 100%|██████████| 1/1 [00:00<00:00, 27.89it/s]\n",
      "Validation: 100%|██████████| 1/1 [00:00<00:00, 42.04it/s]\n"
     ]
    },
    {
     "name": "stdout",
     "output_type": "stream",
     "text": [
      "Epoch: 689\n",
      "Validation Loss: 1.6382\n"
     ]
    },
    {
     "name": "stderr",
     "output_type": "stream",
     "text": [
      "Epoch 690/1000: 100%|██████████| 1/1 [00:00<00:00, 24.52it/s]\n",
      "Epoch 691/1000: 100%|██████████| 1/1 [00:00<00:00, 25.41it/s]\n",
      "Validation: 100%|██████████| 1/1 [00:00<00:00, 38.03it/s]\n"
     ]
    },
    {
     "name": "stdout",
     "output_type": "stream",
     "text": [
      "Epoch: 691\n",
      "Validation Loss: 1.8538\n"
     ]
    },
    {
     "name": "stderr",
     "output_type": "stream",
     "text": [
      "Epoch 692/1000: 100%|██████████| 1/1 [00:00<00:00, 23.41it/s]\n",
      "Epoch 693/1000: 100%|██████████| 1/1 [00:00<00:00, 24.21it/s]\n",
      "Validation: 100%|██████████| 1/1 [00:00<00:00, 35.15it/s]\n"
     ]
    },
    {
     "name": "stdout",
     "output_type": "stream",
     "text": [
      "Epoch: 693\n",
      "Validation Loss: 1.6328\n"
     ]
    },
    {
     "name": "stderr",
     "output_type": "stream",
     "text": [
      "Epoch 694/1000: 100%|██████████| 1/1 [00:00<00:00, 26.10it/s]\n",
      "Epoch 695/1000: 100%|██████████| 1/1 [00:00<00:00, 24.49it/s]\n",
      "Validation: 100%|██████████| 1/1 [00:00<00:00, 39.87it/s]\n"
     ]
    },
    {
     "name": "stdout",
     "output_type": "stream",
     "text": [
      "Epoch: 695\n",
      "Validation Loss: 1.6177\n"
     ]
    },
    {
     "name": "stderr",
     "output_type": "stream",
     "text": [
      "Epoch 696/1000: 100%|██████████| 1/1 [00:00<00:00, 27.08it/s]\n",
      "Epoch 697/1000: 100%|██████████| 1/1 [00:00<00:00, 27.17it/s]\n",
      "Validation: 100%|██████████| 1/1 [00:00<00:00, 40.04it/s]\n"
     ]
    },
    {
     "name": "stdout",
     "output_type": "stream",
     "text": [
      "Epoch: 697\n",
      "Validation Loss: 1.5603\n"
     ]
    },
    {
     "name": "stderr",
     "output_type": "stream",
     "text": [
      "Epoch 698/1000: 100%|██████████| 1/1 [00:00<00:00, 25.22it/s]\n",
      "Epoch 699/1000: 100%|██████████| 1/1 [00:00<00:00, 27.14it/s]\n",
      "Validation: 100%|██████████| 1/1 [00:00<00:00, 39.76it/s]\n"
     ]
    },
    {
     "name": "stdout",
     "output_type": "stream",
     "text": [
      "Epoch: 699\n",
      "Validation Loss: 1.6664\n"
     ]
    },
    {
     "name": "stderr",
     "output_type": "stream",
     "text": [
      "Epoch 700/1000: 100%|██████████| 1/1 [00:00<00:00, 23.34it/s]\n",
      "Epoch 701/1000: 100%|██████████| 1/1 [00:00<00:00, 27.37it/s]\n",
      "Validation: 100%|██████████| 1/1 [00:00<00:00, 40.04it/s]\n"
     ]
    },
    {
     "name": "stdout",
     "output_type": "stream",
     "text": [
      "Epoch: 701\n",
      "Validation Loss: 1.9071\n"
     ]
    },
    {
     "name": "stderr",
     "output_type": "stream",
     "text": [
      "Epoch 702/1000: 100%|██████████| 1/1 [00:00<00:00, 26.38it/s]\n",
      "Epoch 703/1000: 100%|██████████| 1/1 [00:00<00:00, 27.50it/s]\n",
      "Validation: 100%|██████████| 1/1 [00:00<00:00, 39.63it/s]\n"
     ]
    },
    {
     "name": "stdout",
     "output_type": "stream",
     "text": [
      "Epoch: 703\n",
      "Validation Loss: 1.5823\n"
     ]
    },
    {
     "name": "stderr",
     "output_type": "stream",
     "text": [
      "Epoch 704/1000: 100%|██████████| 1/1 [00:00<00:00, 25.01it/s]\n",
      "Epoch 705/1000: 100%|██████████| 1/1 [00:00<00:00, 26.89it/s]\n",
      "Validation: 100%|██████████| 1/1 [00:00<00:00, 40.33it/s]\n"
     ]
    },
    {
     "name": "stdout",
     "output_type": "stream",
     "text": [
      "Epoch: 705\n",
      "Validation Loss: 1.6914\n"
     ]
    },
    {
     "name": "stderr",
     "output_type": "stream",
     "text": [
      "Epoch 706/1000: 100%|██████████| 1/1 [00:00<00:00, 26.71it/s]\n",
      "Epoch 707/1000: 100%|██████████| 1/1 [00:00<00:00, 27.40it/s]\n",
      "Validation: 100%|██████████| 1/1 [00:00<00:00, 39.68it/s]\n"
     ]
    },
    {
     "name": "stdout",
     "output_type": "stream",
     "text": [
      "Epoch: 707\n",
      "Validation Loss: 1.2723\n"
     ]
    },
    {
     "name": "stderr",
     "output_type": "stream",
     "text": [
      "Epoch 708/1000: 100%|██████████| 1/1 [00:00<00:00, 25.25it/s]\n",
      "Epoch 709/1000: 100%|██████████| 1/1 [00:00<00:00, 28.98it/s]\n",
      "Validation: 100%|██████████| 1/1 [00:00<00:00, 41.29it/s]\n"
     ]
    },
    {
     "name": "stdout",
     "output_type": "stream",
     "text": [
      "Epoch: 709\n",
      "Validation Loss: 1.1021\n"
     ]
    },
    {
     "name": "stderr",
     "output_type": "stream",
     "text": [
      "Epoch 710/1000: 100%|██████████| 1/1 [00:00<00:00, 23.48it/s]\n",
      "Epoch 711/1000: 100%|██████████| 1/1 [00:00<00:00, 28.47it/s]\n",
      "Validation: 100%|██████████| 1/1 [00:00<00:00, 41.58it/s]\n"
     ]
    },
    {
     "name": "stdout",
     "output_type": "stream",
     "text": [
      "Epoch: 711\n",
      "Validation Loss: 1.5144\n"
     ]
    },
    {
     "name": "stderr",
     "output_type": "stream",
     "text": [
      "Epoch 712/1000: 100%|██████████| 1/1 [00:00<00:00, 27.41it/s]\n",
      "Epoch 713/1000: 100%|██████████| 1/1 [00:00<00:00, 24.72it/s]\n",
      "Validation: 100%|██████████| 1/1 [00:00<00:00, 41.34it/s]\n"
     ]
    },
    {
     "name": "stdout",
     "output_type": "stream",
     "text": [
      "Epoch: 713\n",
      "Validation Loss: 1.2237\n"
     ]
    },
    {
     "name": "stderr",
     "output_type": "stream",
     "text": [
      "Epoch 714/1000: 100%|██████████| 1/1 [00:00<00:00, 28.17it/s]\n",
      "Epoch 715/1000: 100%|██████████| 1/1 [00:00<00:00, 28.09it/s]\n",
      "Validation: 100%|██████████| 1/1 [00:00<00:00, 41.08it/s]\n"
     ]
    },
    {
     "name": "stdout",
     "output_type": "stream",
     "text": [
      "Epoch: 715\n",
      "Validation Loss: 1.6755\n"
     ]
    },
    {
     "name": "stderr",
     "output_type": "stream",
     "text": [
      "Epoch 716/1000: 100%|██████████| 1/1 [00:00<00:00, 28.19it/s]\n",
      "Epoch 717/1000: 100%|██████████| 1/1 [00:00<00:00, 28.52it/s]\n",
      "Validation: 100%|██████████| 1/1 [00:00<00:00, 42.01it/s]\n"
     ]
    },
    {
     "name": "stdout",
     "output_type": "stream",
     "text": [
      "Epoch: 717\n",
      "Validation Loss: 1.8388\n"
     ]
    },
    {
     "name": "stderr",
     "output_type": "stream",
     "text": [
      "Epoch 718/1000: 100%|██████████| 1/1 [00:00<00:00, 26.53it/s]\n",
      "Epoch 719/1000: 100%|██████████| 1/1 [00:00<00:00, 25.79it/s]\n",
      "Validation: 100%|██████████| 1/1 [00:00<00:00, 38.41it/s]\n"
     ]
    },
    {
     "name": "stdout",
     "output_type": "stream",
     "text": [
      "Epoch: 719\n",
      "Validation Loss: 1.4262\n"
     ]
    },
    {
     "name": "stderr",
     "output_type": "stream",
     "text": [
      "Epoch 720/1000: 100%|██████████| 1/1 [00:00<00:00, 27.58it/s]\n",
      "Epoch 721/1000: 100%|██████████| 1/1 [00:00<00:00, 28.07it/s]\n",
      "Validation: 100%|██████████| 1/1 [00:00<00:00, 42.26it/s]\n"
     ]
    },
    {
     "name": "stdout",
     "output_type": "stream",
     "text": [
      "Epoch: 721\n",
      "Validation Loss: 1.7063\n"
     ]
    },
    {
     "name": "stderr",
     "output_type": "stream",
     "text": [
      "Epoch 722/1000: 100%|██████████| 1/1 [00:00<00:00, 28.08it/s]\n",
      "Epoch 723/1000: 100%|██████████| 1/1 [00:00<00:00, 28.15it/s]\n",
      "Validation: 100%|██████████| 1/1 [00:00<00:00, 41.66it/s]\n"
     ]
    },
    {
     "name": "stdout",
     "output_type": "stream",
     "text": [
      "Epoch: 723\n",
      "Validation Loss: 1.5858\n"
     ]
    },
    {
     "name": "stderr",
     "output_type": "stream",
     "text": [
      "Epoch 724/1000: 100%|██████████| 1/1 [00:00<00:00, 26.23it/s]\n",
      "Epoch 725/1000: 100%|██████████| 1/1 [00:00<00:00, 23.36it/s]\n",
      "Validation: 100%|██████████| 1/1 [00:00<00:00, 41.65it/s]\n"
     ]
    },
    {
     "name": "stdout",
     "output_type": "stream",
     "text": [
      "Epoch: 725\n",
      "Validation Loss: 2.7264\n"
     ]
    },
    {
     "name": "stderr",
     "output_type": "stream",
     "text": [
      "Epoch 726/1000: 100%|██████████| 1/1 [00:00<00:00, 23.57it/s]\n",
      "Epoch 727/1000: 100%|██████████| 1/1 [00:00<00:00, 23.24it/s]\n",
      "Validation: 100%|██████████| 1/1 [00:00<00:00, 36.04it/s]\n"
     ]
    },
    {
     "name": "stdout",
     "output_type": "stream",
     "text": [
      "Epoch: 727\n",
      "Validation Loss: 1.7448\n"
     ]
    },
    {
     "name": "stderr",
     "output_type": "stream",
     "text": [
      "Epoch 728/1000: 100%|██████████| 1/1 [00:00<00:00, 22.30it/s]\n",
      "Epoch 729/1000: 100%|██████████| 1/1 [00:00<00:00, 26.57it/s]\n",
      "Validation: 100%|██████████| 1/1 [00:00<00:00, 38.10it/s]\n"
     ]
    },
    {
     "name": "stdout",
     "output_type": "stream",
     "text": [
      "Epoch: 729\n",
      "Validation Loss: 1.9763\n"
     ]
    },
    {
     "name": "stderr",
     "output_type": "stream",
     "text": [
      "Epoch 730/1000: 100%|██████████| 1/1 [00:00<00:00, 26.75it/s]\n",
      "Epoch 731/1000: 100%|██████████| 1/1 [00:00<00:00, 27.42it/s]\n",
      "Validation: 100%|██████████| 1/1 [00:00<00:00, 42.03it/s]\n"
     ]
    },
    {
     "name": "stdout",
     "output_type": "stream",
     "text": [
      "Epoch: 731\n",
      "Validation Loss: 1.8813\n"
     ]
    },
    {
     "name": "stderr",
     "output_type": "stream",
     "text": [
      "Epoch 732/1000: 100%|██████████| 1/1 [00:00<00:00, 26.33it/s]\n",
      "Epoch 733/1000: 100%|██████████| 1/1 [00:00<00:00, 28.37it/s]\n",
      "Validation: 100%|██████████| 1/1 [00:00<00:00, 41.91it/s]\n"
     ]
    },
    {
     "name": "stdout",
     "output_type": "stream",
     "text": [
      "Epoch: 733\n",
      "Validation Loss: 1.7546\n"
     ]
    },
    {
     "name": "stderr",
     "output_type": "stream",
     "text": [
      "Epoch 734/1000: 100%|██████████| 1/1 [00:00<00:00, 26.86it/s]\n",
      "Epoch 735/1000: 100%|██████████| 1/1 [00:00<00:00, 28.14it/s]\n",
      "Validation: 100%|██████████| 1/1 [00:00<00:00, 42.21it/s]\n"
     ]
    },
    {
     "name": "stdout",
     "output_type": "stream",
     "text": [
      "Epoch: 735\n",
      "Validation Loss: 1.7479\n"
     ]
    },
    {
     "name": "stderr",
     "output_type": "stream",
     "text": [
      "Epoch 736/1000: 100%|██████████| 1/1 [00:00<00:00, 27.58it/s]\n",
      "Epoch 737/1000: 100%|██████████| 1/1 [00:00<00:00, 28.34it/s]\n",
      "Validation: 100%|██████████| 1/1 [00:00<00:00, 40.26it/s]\n"
     ]
    },
    {
     "name": "stdout",
     "output_type": "stream",
     "text": [
      "Epoch: 737\n",
      "Validation Loss: 2.0080\n"
     ]
    },
    {
     "name": "stderr",
     "output_type": "stream",
     "text": [
      "Epoch 738/1000: 100%|██████████| 1/1 [00:00<00:00, 25.51it/s]\n",
      "Epoch 739/1000: 100%|██████████| 1/1 [00:00<00:00, 25.38it/s]\n",
      "Validation: 100%|██████████| 1/1 [00:00<00:00, 41.17it/s]\n"
     ]
    },
    {
     "name": "stdout",
     "output_type": "stream",
     "text": [
      "Epoch: 739\n",
      "Validation Loss: 1.7075\n"
     ]
    },
    {
     "name": "stderr",
     "output_type": "stream",
     "text": [
      "Epoch 740/1000: 100%|██████████| 1/1 [00:00<00:00, 27.49it/s]\n",
      "Epoch 741/1000: 100%|██████████| 1/1 [00:00<00:00, 28.08it/s]\n",
      "Validation: 100%|██████████| 1/1 [00:00<00:00, 42.14it/s]\n"
     ]
    },
    {
     "name": "stdout",
     "output_type": "stream",
     "text": [
      "Epoch: 741\n",
      "Validation Loss: 1.8355\n"
     ]
    },
    {
     "name": "stderr",
     "output_type": "stream",
     "text": [
      "Epoch 742/1000: 100%|██████████| 1/1 [00:00<00:00, 27.72it/s]\n",
      "Epoch 743/1000: 100%|██████████| 1/1 [00:00<00:00, 27.97it/s]\n",
      "Validation: 100%|██████████| 1/1 [00:00<00:00, 42.22it/s]\n"
     ]
    },
    {
     "name": "stdout",
     "output_type": "stream",
     "text": [
      "Epoch: 743\n",
      "Validation Loss: 1.8114\n"
     ]
    },
    {
     "name": "stderr",
     "output_type": "stream",
     "text": [
      "Epoch 744/1000: 100%|██████████| 1/1 [00:00<00:00, 26.64it/s]\n",
      "Epoch 745/1000: 100%|██████████| 1/1 [00:00<00:00, 27.84it/s]\n",
      "Validation: 100%|██████████| 1/1 [00:00<00:00, 40.22it/s]\n"
     ]
    },
    {
     "name": "stdout",
     "output_type": "stream",
     "text": [
      "Epoch: 745\n",
      "Validation Loss: 1.6127\n"
     ]
    },
    {
     "name": "stderr",
     "output_type": "stream",
     "text": [
      "Epoch 746/1000: 100%|██████████| 1/1 [00:00<00:00, 28.63it/s]\n",
      "Epoch 747/1000: 100%|██████████| 1/1 [00:00<00:00, 27.54it/s]\n",
      "Validation: 100%|██████████| 1/1 [00:00<00:00, 41.33it/s]\n"
     ]
    },
    {
     "name": "stdout",
     "output_type": "stream",
     "text": [
      "Epoch: 747\n",
      "Validation Loss: 1.5275\n"
     ]
    },
    {
     "name": "stderr",
     "output_type": "stream",
     "text": [
      "Epoch 748/1000: 100%|██████████| 1/1 [00:00<00:00, 27.54it/s]\n",
      "Epoch 749/1000: 100%|██████████| 1/1 [00:00<00:00, 28.01it/s]\n",
      "Validation: 100%|██████████| 1/1 [00:00<00:00, 39.88it/s]\n"
     ]
    },
    {
     "name": "stdout",
     "output_type": "stream",
     "text": [
      "Epoch: 749\n",
      "Validation Loss: 1.4774\n"
     ]
    },
    {
     "name": "stderr",
     "output_type": "stream",
     "text": [
      "Epoch 750/1000: 100%|██████████| 1/1 [00:00<00:00, 23.49it/s]\n",
      "Epoch 751/1000: 100%|██████████| 1/1 [00:00<00:00, 18.49it/s]\n",
      "Validation: 100%|██████████| 1/1 [00:00<00:00, 35.27it/s]\n"
     ]
    },
    {
     "name": "stdout",
     "output_type": "stream",
     "text": [
      "Epoch: 751\n",
      "Validation Loss: 1.2582\n"
     ]
    },
    {
     "name": "stderr",
     "output_type": "stream",
     "text": [
      "Epoch 752/1000: 100%|██████████| 1/1 [00:00<00:00, 28.11it/s]\n",
      "Epoch 753/1000: 100%|██████████| 1/1 [00:00<00:00, 27.85it/s]\n",
      "Validation: 100%|██████████| 1/1 [00:00<00:00, 42.81it/s]\n"
     ]
    },
    {
     "name": "stdout",
     "output_type": "stream",
     "text": [
      "Epoch: 753\n",
      "Validation Loss: 1.4185\n"
     ]
    },
    {
     "name": "stderr",
     "output_type": "stream",
     "text": [
      "Epoch 754/1000: 100%|██████████| 1/1 [00:00<00:00, 26.88it/s]\n",
      "Epoch 755/1000: 100%|██████████| 1/1 [00:00<00:00, 27.92it/s]\n",
      "Validation: 100%|██████████| 1/1 [00:00<00:00, 42.69it/s]\n"
     ]
    },
    {
     "name": "stdout",
     "output_type": "stream",
     "text": [
      "Epoch: 755\n",
      "Validation Loss: 1.4874\n"
     ]
    },
    {
     "name": "stderr",
     "output_type": "stream",
     "text": [
      "Epoch 756/1000: 100%|██████████| 1/1 [00:00<00:00, 26.00it/s]\n",
      "Epoch 757/1000: 100%|██████████| 1/1 [00:00<00:00, 27.62it/s]\n",
      "Validation: 100%|██████████| 1/1 [00:00<00:00, 42.82it/s]\n"
     ]
    },
    {
     "name": "stdout",
     "output_type": "stream",
     "text": [
      "Epoch: 757\n",
      "Validation Loss: 1.5840\n"
     ]
    },
    {
     "name": "stderr",
     "output_type": "stream",
     "text": [
      "Epoch 758/1000: 100%|██████████| 1/1 [00:00<00:00, 27.34it/s]\n",
      "Epoch 759/1000: 100%|██████████| 1/1 [00:00<00:00, 28.98it/s]\n",
      "Validation: 100%|██████████| 1/1 [00:00<00:00, 39.11it/s]\n"
     ]
    },
    {
     "name": "stdout",
     "output_type": "stream",
     "text": [
      "Epoch: 759\n",
      "Validation Loss: 1.6788\n"
     ]
    },
    {
     "name": "stderr",
     "output_type": "stream",
     "text": [
      "Epoch 760/1000: 100%|██████████| 1/1 [00:00<00:00, 26.07it/s]\n",
      "Epoch 761/1000: 100%|██████████| 1/1 [00:00<00:00, 25.80it/s]\n",
      "Validation: 100%|██████████| 1/1 [00:00<00:00, 38.90it/s]\n"
     ]
    },
    {
     "name": "stdout",
     "output_type": "stream",
     "text": [
      "Epoch: 761\n",
      "Validation Loss: 1.4571\n"
     ]
    },
    {
     "name": "stderr",
     "output_type": "stream",
     "text": [
      "Epoch 762/1000: 100%|██████████| 1/1 [00:00<00:00, 26.39it/s]\n",
      "Epoch 763/1000: 100%|██████████| 1/1 [00:00<00:00, 26.20it/s]\n",
      "Validation: 100%|██████████| 1/1 [00:00<00:00, 40.17it/s]\n"
     ]
    },
    {
     "name": "stdout",
     "output_type": "stream",
     "text": [
      "Epoch: 763\n",
      "Validation Loss: 1.6453\n"
     ]
    },
    {
     "name": "stderr",
     "output_type": "stream",
     "text": [
      "Epoch 764/1000: 100%|██████████| 1/1 [00:00<00:00, 26.26it/s]\n",
      "Epoch 765/1000: 100%|██████████| 1/1 [00:00<00:00, 22.48it/s]\n",
      "Validation: 100%|██████████| 1/1 [00:00<00:00, 37.00it/s]\n"
     ]
    },
    {
     "name": "stdout",
     "output_type": "stream",
     "text": [
      "Epoch: 765\n",
      "Validation Loss: 1.9793\n"
     ]
    },
    {
     "name": "stderr",
     "output_type": "stream",
     "text": [
      "Epoch 766/1000: 100%|██████████| 1/1 [00:00<00:00, 26.80it/s]\n",
      "Epoch 767/1000: 100%|██████████| 1/1 [00:00<00:00, 25.22it/s]\n",
      "Validation: 100%|██████████| 1/1 [00:00<00:00, 35.99it/s]\n"
     ]
    },
    {
     "name": "stdout",
     "output_type": "stream",
     "text": [
      "Epoch: 767\n",
      "Validation Loss: 1.8949\n"
     ]
    },
    {
     "name": "stderr",
     "output_type": "stream",
     "text": [
      "Epoch 768/1000: 100%|██████████| 1/1 [00:00<00:00, 26.07it/s]\n",
      "Epoch 769/1000: 100%|██████████| 1/1 [00:00<00:00, 24.13it/s]\n",
      "Validation: 100%|██████████| 1/1 [00:00<00:00, 33.60it/s]\n"
     ]
    },
    {
     "name": "stdout",
     "output_type": "stream",
     "text": [
      "Epoch: 769\n",
      "Validation Loss: 1.9474\n"
     ]
    },
    {
     "name": "stderr",
     "output_type": "stream",
     "text": [
      "Epoch 770/1000: 100%|██████████| 1/1 [00:00<00:00, 26.29it/s]\n",
      "Epoch 771/1000: 100%|██████████| 1/1 [00:00<00:00, 27.72it/s]\n",
      "Validation: 100%|██████████| 1/1 [00:00<00:00, 39.01it/s]\n"
     ]
    },
    {
     "name": "stdout",
     "output_type": "stream",
     "text": [
      "Epoch: 771\n",
      "Validation Loss: 1.8425\n"
     ]
    },
    {
     "name": "stderr",
     "output_type": "stream",
     "text": [
      "Epoch 772/1000: 100%|██████████| 1/1 [00:00<00:00, 27.74it/s]\n",
      "Epoch 773/1000: 100%|██████████| 1/1 [00:00<00:00, 28.14it/s]\n",
      "Validation: 100%|██████████| 1/1 [00:00<00:00, 39.61it/s]\n"
     ]
    },
    {
     "name": "stdout",
     "output_type": "stream",
     "text": [
      "Epoch: 773\n",
      "Validation Loss: 1.7865\n"
     ]
    },
    {
     "name": "stderr",
     "output_type": "stream",
     "text": [
      "Epoch 774/1000: 100%|██████████| 1/1 [00:00<00:00, 27.75it/s]\n",
      "Epoch 775/1000: 100%|██████████| 1/1 [00:00<00:00, 26.66it/s]\n",
      "Validation: 100%|██████████| 1/1 [00:00<00:00, 37.21it/s]\n"
     ]
    },
    {
     "name": "stdout",
     "output_type": "stream",
     "text": [
      "Epoch: 775\n",
      "Validation Loss: 1.6266\n"
     ]
    },
    {
     "name": "stderr",
     "output_type": "stream",
     "text": [
      "Epoch 776/1000: 100%|██████████| 1/1 [00:00<00:00, 25.10it/s]\n",
      "Epoch 777/1000: 100%|██████████| 1/1 [00:00<00:00, 26.36it/s]\n",
      "Validation: 100%|██████████| 1/1 [00:00<00:00, 38.23it/s]\n"
     ]
    },
    {
     "name": "stdout",
     "output_type": "stream",
     "text": [
      "Epoch: 777\n",
      "Validation Loss: 1.7144\n"
     ]
    },
    {
     "name": "stderr",
     "output_type": "stream",
     "text": [
      "Epoch 778/1000: 100%|██████████| 1/1 [00:00<00:00, 25.99it/s]\n",
      "Epoch 779/1000: 100%|██████████| 1/1 [00:00<00:00, 27.05it/s]\n",
      "Validation: 100%|██████████| 1/1 [00:00<00:00, 39.81it/s]\n"
     ]
    },
    {
     "name": "stdout",
     "output_type": "stream",
     "text": [
      "Epoch: 779\n",
      "Validation Loss: 1.8297\n"
     ]
    },
    {
     "name": "stderr",
     "output_type": "stream",
     "text": [
      "Epoch 780/1000: 100%|██████████| 1/1 [00:00<00:00, 27.39it/s]\n",
      "Epoch 781/1000: 100%|██████████| 1/1 [00:00<00:00, 26.65it/s]\n",
      "Validation: 100%|██████████| 1/1 [00:00<00:00, 38.53it/s]\n"
     ]
    },
    {
     "name": "stdout",
     "output_type": "stream",
     "text": [
      "Epoch: 781\n",
      "Validation Loss: 1.7258\n"
     ]
    },
    {
     "name": "stderr",
     "output_type": "stream",
     "text": [
      "Epoch 782/1000: 100%|██████████| 1/1 [00:00<00:00, 25.96it/s]\n",
      "Epoch 783/1000: 100%|██████████| 1/1 [00:00<00:00, 27.42it/s]\n",
      "Validation: 100%|██████████| 1/1 [00:00<00:00, 40.17it/s]\n"
     ]
    },
    {
     "name": "stdout",
     "output_type": "stream",
     "text": [
      "Epoch: 783\n",
      "Validation Loss: 2.0507\n"
     ]
    },
    {
     "name": "stderr",
     "output_type": "stream",
     "text": [
      "Epoch 784/1000: 100%|██████████| 1/1 [00:00<00:00, 25.83it/s]\n",
      "Epoch 785/1000: 100%|██████████| 1/1 [00:00<00:00, 26.85it/s]\n",
      "Validation: 100%|██████████| 1/1 [00:00<00:00, 39.93it/s]\n"
     ]
    },
    {
     "name": "stdout",
     "output_type": "stream",
     "text": [
      "Epoch: 785\n",
      "Validation Loss: 1.5960\n"
     ]
    },
    {
     "name": "stderr",
     "output_type": "stream",
     "text": [
      "Epoch 786/1000: 100%|██████████| 1/1 [00:00<00:00, 27.79it/s]\n",
      "Epoch 787/1000: 100%|██████████| 1/1 [00:00<00:00, 28.07it/s]\n",
      "Validation: 100%|██████████| 1/1 [00:00<00:00, 40.01it/s]\n"
     ]
    },
    {
     "name": "stdout",
     "output_type": "stream",
     "text": [
      "Epoch: 787\n",
      "Validation Loss: 2.0273\n"
     ]
    },
    {
     "name": "stderr",
     "output_type": "stream",
     "text": [
      "Epoch 788/1000: 100%|██████████| 1/1 [00:00<00:00, 25.05it/s]\n",
      "Epoch 789/1000: 100%|██████████| 1/1 [00:00<00:00, 26.66it/s]\n",
      "Validation: 100%|██████████| 1/1 [00:00<00:00, 39.50it/s]\n"
     ]
    },
    {
     "name": "stdout",
     "output_type": "stream",
     "text": [
      "Epoch: 789\n",
      "Validation Loss: 1.6798\n"
     ]
    },
    {
     "name": "stderr",
     "output_type": "stream",
     "text": [
      "Epoch 790/1000: 100%|██████████| 1/1 [00:00<00:00, 26.79it/s]\n",
      "Epoch 791/1000: 100%|██████████| 1/1 [00:00<00:00, 26.99it/s]\n",
      "Validation: 100%|██████████| 1/1 [00:00<00:00, 42.25it/s]\n"
     ]
    },
    {
     "name": "stdout",
     "output_type": "stream",
     "text": [
      "Epoch: 791\n",
      "Validation Loss: 1.3848\n"
     ]
    },
    {
     "name": "stderr",
     "output_type": "stream",
     "text": [
      "Epoch 792/1000: 100%|██████████| 1/1 [00:00<00:00, 27.97it/s]\n",
      "Epoch 793/1000: 100%|██████████| 1/1 [00:00<00:00, 27.41it/s]\n",
      "Validation: 100%|██████████| 1/1 [00:00<00:00, 39.53it/s]\n"
     ]
    },
    {
     "name": "stdout",
     "output_type": "stream",
     "text": [
      "Epoch: 793\n",
      "Validation Loss: 1.3229\n"
     ]
    },
    {
     "name": "stderr",
     "output_type": "stream",
     "text": [
      "Epoch 794/1000: 100%|██████████| 1/1 [00:00<00:00, 26.87it/s]\n",
      "Epoch 795/1000: 100%|██████████| 1/1 [00:00<00:00, 26.11it/s]\n",
      "Validation: 100%|██████████| 1/1 [00:00<00:00, 31.46it/s]\n"
     ]
    },
    {
     "name": "stdout",
     "output_type": "stream",
     "text": [
      "Epoch: 795\n",
      "Validation Loss: 1.2565\n"
     ]
    },
    {
     "name": "stderr",
     "output_type": "stream",
     "text": [
      "Epoch 796/1000: 100%|██████████| 1/1 [00:00<00:00, 26.27it/s]\n",
      "Epoch 797/1000: 100%|██████████| 1/1 [00:00<00:00, 26.11it/s]\n",
      "Validation: 100%|██████████| 1/1 [00:00<00:00, 39.67it/s]\n"
     ]
    },
    {
     "name": "stdout",
     "output_type": "stream",
     "text": [
      "Epoch: 797\n",
      "Validation Loss: 1.6874\n"
     ]
    },
    {
     "name": "stderr",
     "output_type": "stream",
     "text": [
      "Epoch 798/1000: 100%|██████████| 1/1 [00:00<00:00, 27.35it/s]\n",
      "Epoch 799/1000: 100%|██████████| 1/1 [00:00<00:00, 28.98it/s]\n",
      "Validation: 100%|██████████| 1/1 [00:00<00:00, 42.71it/s]\n"
     ]
    },
    {
     "name": "stdout",
     "output_type": "stream",
     "text": [
      "Epoch: 799\n",
      "Validation Loss: 1.4154\n"
     ]
    },
    {
     "name": "stderr",
     "output_type": "stream",
     "text": [
      "Epoch 800/1000: 100%|██████████| 1/1 [00:00<00:00, 28.02it/s]\n",
      "Epoch 801/1000: 100%|██████████| 1/1 [00:00<00:00, 28.62it/s]\n",
      "Validation: 100%|██████████| 1/1 [00:00<00:00, 42.50it/s]\n"
     ]
    },
    {
     "name": "stdout",
     "output_type": "stream",
     "text": [
      "Epoch: 801\n",
      "Validation Loss: 1.2366\n"
     ]
    },
    {
     "name": "stderr",
     "output_type": "stream",
     "text": [
      "Epoch 802/1000: 100%|██████████| 1/1 [00:00<00:00, 28.00it/s]\n",
      "Epoch 803/1000: 100%|██████████| 1/1 [00:00<00:00, 27.25it/s]\n",
      "Validation: 100%|██████████| 1/1 [00:00<00:00, 42.06it/s]\n"
     ]
    },
    {
     "name": "stdout",
     "output_type": "stream",
     "text": [
      "Epoch: 803\n",
      "Validation Loss: 1.5170\n"
     ]
    },
    {
     "name": "stderr",
     "output_type": "stream",
     "text": [
      "Epoch 804/1000: 100%|██████████| 1/1 [00:00<00:00, 23.23it/s]\n",
      "Epoch 805/1000: 100%|██████████| 1/1 [00:00<00:00, 27.26it/s]\n",
      "Validation: 100%|██████████| 1/1 [00:00<00:00, 41.03it/s]\n"
     ]
    },
    {
     "name": "stdout",
     "output_type": "stream",
     "text": [
      "Epoch: 805\n",
      "Validation Loss: 1.2771\n"
     ]
    },
    {
     "name": "stderr",
     "output_type": "stream",
     "text": [
      "Epoch 806/1000: 100%|██████████| 1/1 [00:00<00:00, 26.35it/s]\n",
      "Epoch 807/1000: 100%|██████████| 1/1 [00:00<00:00, 27.37it/s]\n",
      "Validation: 100%|██████████| 1/1 [00:00<00:00, 41.69it/s]\n"
     ]
    },
    {
     "name": "stdout",
     "output_type": "stream",
     "text": [
      "Epoch: 807\n",
      "Validation Loss: 1.6080\n"
     ]
    },
    {
     "name": "stderr",
     "output_type": "stream",
     "text": [
      "Epoch 808/1000: 100%|██████████| 1/1 [00:00<00:00, 24.25it/s]\n",
      "Epoch 809/1000: 100%|██████████| 1/1 [00:00<00:00, 26.97it/s]\n",
      "Validation: 100%|██████████| 1/1 [00:00<00:00, 41.41it/s]\n"
     ]
    },
    {
     "name": "stdout",
     "output_type": "stream",
     "text": [
      "Epoch: 809\n",
      "Validation Loss: 1.4513\n"
     ]
    },
    {
     "name": "stderr",
     "output_type": "stream",
     "text": [
      "Epoch 810/1000: 100%|██████████| 1/1 [00:00<00:00, 27.98it/s]\n",
      "Epoch 811/1000: 100%|██████████| 1/1 [00:00<00:00, 28.43it/s]\n",
      "Validation: 100%|██████████| 1/1 [00:00<00:00, 41.44it/s]\n"
     ]
    },
    {
     "name": "stdout",
     "output_type": "stream",
     "text": [
      "Epoch: 811\n",
      "Validation Loss: 1.4806\n"
     ]
    },
    {
     "name": "stderr",
     "output_type": "stream",
     "text": [
      "Epoch 812/1000: 100%|██████████| 1/1 [00:00<00:00, 25.57it/s]\n",
      "Epoch 813/1000: 100%|██████████| 1/1 [00:00<00:00, 25.64it/s]\n",
      "Validation: 100%|██████████| 1/1 [00:00<00:00, 36.15it/s]\n"
     ]
    },
    {
     "name": "stdout",
     "output_type": "stream",
     "text": [
      "Epoch: 813\n",
      "Validation Loss: 1.3658\n"
     ]
    },
    {
     "name": "stderr",
     "output_type": "stream",
     "text": [
      "Epoch 814/1000: 100%|██████████| 1/1 [00:00<00:00, 28.20it/s]\n",
      "Epoch 815/1000: 100%|██████████| 1/1 [00:00<00:00, 27.53it/s]\n",
      "Validation: 100%|██████████| 1/1 [00:00<00:00, 42.41it/s]\n"
     ]
    },
    {
     "name": "stdout",
     "output_type": "stream",
     "text": [
      "Epoch: 815\n",
      "Validation Loss: 1.3898\n"
     ]
    },
    {
     "name": "stderr",
     "output_type": "stream",
     "text": [
      "Epoch 816/1000: 100%|██████████| 1/1 [00:00<00:00, 26.13it/s]\n",
      "Epoch 817/1000: 100%|██████████| 1/1 [00:00<00:00, 26.22it/s]\n",
      "Validation: 100%|██████████| 1/1 [00:00<00:00, 38.59it/s]\n"
     ]
    },
    {
     "name": "stdout",
     "output_type": "stream",
     "text": [
      "Epoch: 817\n",
      "Validation Loss: 1.3632\n"
     ]
    },
    {
     "name": "stderr",
     "output_type": "stream",
     "text": [
      "Epoch 818/1000: 100%|██████████| 1/1 [00:00<00:00, 24.64it/s]\n",
      "Epoch 819/1000: 100%|██████████| 1/1 [00:00<00:00, 28.72it/s]\n",
      "Validation: 100%|██████████| 1/1 [00:00<00:00, 42.25it/s]\n"
     ]
    },
    {
     "name": "stdout",
     "output_type": "stream",
     "text": [
      "Epoch: 819\n",
      "Validation Loss: 1.4059\n"
     ]
    },
    {
     "name": "stderr",
     "output_type": "stream",
     "text": [
      "Epoch 820/1000: 100%|██████████| 1/1 [00:00<00:00, 27.51it/s]\n",
      "Epoch 821/1000: 100%|██████████| 1/1 [00:00<00:00, 27.76it/s]\n",
      "Validation: 100%|██████████| 1/1 [00:00<00:00, 42.01it/s]\n"
     ]
    },
    {
     "name": "stdout",
     "output_type": "stream",
     "text": [
      "Epoch: 821\n",
      "Validation Loss: 1.3714\n"
     ]
    },
    {
     "name": "stderr",
     "output_type": "stream",
     "text": [
      "Epoch 822/1000: 100%|██████████| 1/1 [00:00<00:00, 27.10it/s]\n",
      "Epoch 823/1000: 100%|██████████| 1/1 [00:00<00:00, 26.16it/s]\n",
      "Validation: 100%|██████████| 1/1 [00:00<00:00, 37.34it/s]\n"
     ]
    },
    {
     "name": "stdout",
     "output_type": "stream",
     "text": [
      "Epoch: 823\n",
      "Validation Loss: 1.3815\n"
     ]
    },
    {
     "name": "stderr",
     "output_type": "stream",
     "text": [
      "Epoch 824/1000: 100%|██████████| 1/1 [00:00<00:00, 26.75it/s]\n",
      "Epoch 825/1000: 100%|██████████| 1/1 [00:00<00:00, 26.23it/s]\n",
      "Validation: 100%|██████████| 1/1 [00:00<00:00, 39.83it/s]\n"
     ]
    },
    {
     "name": "stdout",
     "output_type": "stream",
     "text": [
      "Epoch: 825\n",
      "Validation Loss: 1.2668\n"
     ]
    },
    {
     "name": "stderr",
     "output_type": "stream",
     "text": [
      "Epoch 826/1000: 100%|██████████| 1/1 [00:00<00:00, 26.13it/s]\n",
      "Epoch 827/1000: 100%|██████████| 1/1 [00:00<00:00, 24.97it/s]\n",
      "Validation: 100%|██████████| 1/1 [00:00<00:00, 38.39it/s]\n"
     ]
    },
    {
     "name": "stdout",
     "output_type": "stream",
     "text": [
      "Epoch: 827\n",
      "Validation Loss: 1.5909\n"
     ]
    },
    {
     "name": "stderr",
     "output_type": "stream",
     "text": [
      "Epoch 828/1000: 100%|██████████| 1/1 [00:00<00:00, 24.94it/s]\n",
      "Epoch 829/1000: 100%|██████████| 1/1 [00:00<00:00, 27.01it/s]\n",
      "Validation: 100%|██████████| 1/1 [00:00<00:00, 40.37it/s]\n"
     ]
    },
    {
     "name": "stdout",
     "output_type": "stream",
     "text": [
      "Epoch: 829\n",
      "Validation Loss: 1.4404\n"
     ]
    },
    {
     "name": "stderr",
     "output_type": "stream",
     "text": [
      "Epoch 830/1000: 100%|██████████| 1/1 [00:00<00:00, 26.94it/s]\n",
      "Epoch 831/1000: 100%|██████████| 1/1 [00:00<00:00, 27.88it/s]\n",
      "Validation: 100%|██████████| 1/1 [00:00<00:00, 40.49it/s]\n"
     ]
    },
    {
     "name": "stdout",
     "output_type": "stream",
     "text": [
      "Epoch: 831\n",
      "Validation Loss: 1.9944\n"
     ]
    },
    {
     "name": "stderr",
     "output_type": "stream",
     "text": [
      "Epoch 832/1000: 100%|██████████| 1/1 [00:00<00:00, 26.70it/s]\n",
      "Epoch 833/1000: 100%|██████████| 1/1 [00:00<00:00, 28.50it/s]\n",
      "Validation: 100%|██████████| 1/1 [00:00<00:00, 38.57it/s]\n"
     ]
    },
    {
     "name": "stdout",
     "output_type": "stream",
     "text": [
      "Epoch: 833\n",
      "Validation Loss: 1.4656\n"
     ]
    },
    {
     "name": "stderr",
     "output_type": "stream",
     "text": [
      "Epoch 834/1000: 100%|██████████| 1/1 [00:00<00:00, 23.65it/s]\n",
      "Epoch 835/1000: 100%|██████████| 1/1 [00:00<00:00, 24.87it/s]\n",
      "Validation: 100%|██████████| 1/1 [00:00<00:00, 40.18it/s]\n"
     ]
    },
    {
     "name": "stdout",
     "output_type": "stream",
     "text": [
      "Epoch: 835\n",
      "Validation Loss: 1.3499\n"
     ]
    },
    {
     "name": "stderr",
     "output_type": "stream",
     "text": [
      "Epoch 836/1000: 100%|██████████| 1/1 [00:00<00:00, 26.14it/s]\n",
      "Epoch 837/1000: 100%|██████████| 1/1 [00:00<00:00, 24.45it/s]\n",
      "Validation: 100%|██████████| 1/1 [00:00<00:00, 39.74it/s]\n"
     ]
    },
    {
     "name": "stdout",
     "output_type": "stream",
     "text": [
      "Epoch: 837\n",
      "Validation Loss: 1.3763\n"
     ]
    },
    {
     "name": "stderr",
     "output_type": "stream",
     "text": [
      "Epoch 838/1000: 100%|██████████| 1/1 [00:00<00:00, 24.20it/s]\n",
      "Epoch 839/1000: 100%|██████████| 1/1 [00:00<00:00, 22.22it/s]\n",
      "Validation: 100%|██████████| 1/1 [00:00<00:00, 36.45it/s]\n"
     ]
    },
    {
     "name": "stdout",
     "output_type": "stream",
     "text": [
      "Epoch: 839\n",
      "Validation Loss: 1.3354\n"
     ]
    },
    {
     "name": "stderr",
     "output_type": "stream",
     "text": [
      "Epoch 840/1000: 100%|██████████| 1/1 [00:00<00:00, 26.97it/s]\n",
      "Epoch 841/1000: 100%|██████████| 1/1 [00:00<00:00, 25.58it/s]\n",
      "Validation: 100%|██████████| 1/1 [00:00<00:00, 37.58it/s]\n"
     ]
    },
    {
     "name": "stdout",
     "output_type": "stream",
     "text": [
      "Epoch: 841\n",
      "Validation Loss: 1.4179\n"
     ]
    },
    {
     "name": "stderr",
     "output_type": "stream",
     "text": [
      "Epoch 842/1000: 100%|██████████| 1/1 [00:00<00:00, 26.40it/s]\n",
      "Epoch 843/1000: 100%|██████████| 1/1 [00:00<00:00, 26.49it/s]\n",
      "Validation: 100%|██████████| 1/1 [00:00<00:00, 37.82it/s]\n"
     ]
    },
    {
     "name": "stdout",
     "output_type": "stream",
     "text": [
      "Epoch: 843\n",
      "Validation Loss: 1.0815\n"
     ]
    },
    {
     "name": "stderr",
     "output_type": "stream",
     "text": [
      "Epoch 844/1000: 100%|██████████| 1/1 [00:00<00:00, 24.61it/s]\n",
      "Epoch 845/1000: 100%|██████████| 1/1 [00:00<00:00, 27.23it/s]\n",
      "Validation: 100%|██████████| 1/1 [00:00<00:00, 38.55it/s]\n"
     ]
    },
    {
     "name": "stdout",
     "output_type": "stream",
     "text": [
      "Epoch: 845\n",
      "Validation Loss: 1.5410\n"
     ]
    },
    {
     "name": "stderr",
     "output_type": "stream",
     "text": [
      "Epoch 846/1000: 100%|██████████| 1/1 [00:00<00:00, 27.14it/s]\n",
      "Epoch 847/1000: 100%|██████████| 1/1 [00:00<00:00, 25.92it/s]\n",
      "Validation: 100%|██████████| 1/1 [00:00<00:00, 38.28it/s]\n"
     ]
    },
    {
     "name": "stdout",
     "output_type": "stream",
     "text": [
      "Epoch: 847\n",
      "Validation Loss: 1.3409\n"
     ]
    },
    {
     "name": "stderr",
     "output_type": "stream",
     "text": [
      "Epoch 848/1000: 100%|██████████| 1/1 [00:00<00:00, 26.12it/s]\n",
      "Epoch 849/1000: 100%|██████████| 1/1 [00:00<00:00, 27.66it/s]\n",
      "Validation: 100%|██████████| 1/1 [00:00<00:00, 41.15it/s]\n"
     ]
    },
    {
     "name": "stdout",
     "output_type": "stream",
     "text": [
      "Epoch: 849\n",
      "Validation Loss: 1.1292\n"
     ]
    },
    {
     "name": "stderr",
     "output_type": "stream",
     "text": [
      "Epoch 850/1000: 100%|██████████| 1/1 [00:00<00:00, 27.25it/s]\n",
      "Epoch 851/1000: 100%|██████████| 1/1 [00:00<00:00, 26.96it/s]\n",
      "Validation: 100%|██████████| 1/1 [00:00<00:00, 40.03it/s]\n"
     ]
    },
    {
     "name": "stdout",
     "output_type": "stream",
     "text": [
      "Epoch: 851\n",
      "Validation Loss: 1.5657\n"
     ]
    },
    {
     "name": "stderr",
     "output_type": "stream",
     "text": [
      "Epoch 852/1000: 100%|██████████| 1/1 [00:00<00:00, 27.35it/s]\n",
      "Epoch 853/1000: 100%|██████████| 1/1 [00:00<00:00, 28.13it/s]\n",
      "Validation: 100%|██████████| 1/1 [00:00<00:00, 41.96it/s]\n"
     ]
    },
    {
     "name": "stdout",
     "output_type": "stream",
     "text": [
      "Epoch: 853\n",
      "Validation Loss: 1.6315\n"
     ]
    },
    {
     "name": "stderr",
     "output_type": "stream",
     "text": [
      "Epoch 854/1000: 100%|██████████| 1/1 [00:00<00:00, 27.57it/s]\n",
      "Epoch 855/1000: 100%|██████████| 1/1 [00:00<00:00, 28.40it/s]\n",
      "Validation: 100%|██████████| 1/1 [00:00<00:00, 39.92it/s]\n"
     ]
    },
    {
     "name": "stdout",
     "output_type": "stream",
     "text": [
      "Epoch: 855\n",
      "Validation Loss: 1.4682\n"
     ]
    },
    {
     "name": "stderr",
     "output_type": "stream",
     "text": [
      "Epoch 856/1000: 100%|██████████| 1/1 [00:00<00:00, 25.86it/s]\n",
      "Epoch 857/1000: 100%|██████████| 1/1 [00:00<00:00, 27.47it/s]\n",
      "Validation: 100%|██████████| 1/1 [00:00<00:00, 42.16it/s]\n"
     ]
    },
    {
     "name": "stdout",
     "output_type": "stream",
     "text": [
      "Epoch: 857\n",
      "Validation Loss: 1.5882\n"
     ]
    },
    {
     "name": "stderr",
     "output_type": "stream",
     "text": [
      "Epoch 858/1000: 100%|██████████| 1/1 [00:00<00:00, 27.23it/s]\n",
      "Epoch 859/1000: 100%|██████████| 1/1 [00:00<00:00, 25.88it/s]\n",
      "Validation: 100%|██████████| 1/1 [00:00<00:00, 40.46it/s]\n"
     ]
    },
    {
     "name": "stdout",
     "output_type": "stream",
     "text": [
      "Epoch: 859\n",
      "Validation Loss: 2.2854\n"
     ]
    },
    {
     "name": "stderr",
     "output_type": "stream",
     "text": [
      "Epoch 860/1000: 100%|██████████| 1/1 [00:00<00:00, 22.95it/s]\n",
      "Epoch 861/1000: 100%|██████████| 1/1 [00:00<00:00, 28.29it/s]\n",
      "Validation: 100%|██████████| 1/1 [00:00<00:00, 41.92it/s]\n"
     ]
    },
    {
     "name": "stdout",
     "output_type": "stream",
     "text": [
      "Epoch: 861\n",
      "Validation Loss: 2.1425\n"
     ]
    },
    {
     "name": "stderr",
     "output_type": "stream",
     "text": [
      "Epoch 862/1000: 100%|██████████| 1/1 [00:00<00:00, 26.70it/s]\n",
      "Epoch 863/1000: 100%|██████████| 1/1 [00:00<00:00, 27.83it/s]\n",
      "Validation: 100%|██████████| 1/1 [00:00<00:00, 41.99it/s]\n"
     ]
    },
    {
     "name": "stdout",
     "output_type": "stream",
     "text": [
      "Epoch: 863\n",
      "Validation Loss: 2.2253\n"
     ]
    },
    {
     "name": "stderr",
     "output_type": "stream",
     "text": [
      "Epoch 864/1000: 100%|██████████| 1/1 [00:00<00:00, 28.08it/s]\n",
      "Epoch 865/1000: 100%|██████████| 1/1 [00:00<00:00, 28.74it/s]\n",
      "Validation: 100%|██████████| 1/1 [00:00<00:00, 42.42it/s]\n"
     ]
    },
    {
     "name": "stdout",
     "output_type": "stream",
     "text": [
      "Epoch: 865\n",
      "Validation Loss: 2.4185\n"
     ]
    },
    {
     "name": "stderr",
     "output_type": "stream",
     "text": [
      "Epoch 866/1000: 100%|██████████| 1/1 [00:00<00:00, 27.80it/s]\n",
      "Epoch 867/1000: 100%|██████████| 1/1 [00:00<00:00, 28.98it/s]\n",
      "Validation: 100%|██████████| 1/1 [00:00<00:00, 42.00it/s]\n"
     ]
    },
    {
     "name": "stdout",
     "output_type": "stream",
     "text": [
      "Epoch: 867\n",
      "Validation Loss: 2.1078\n"
     ]
    },
    {
     "name": "stderr",
     "output_type": "stream",
     "text": [
      "Epoch 868/1000: 100%|██████████| 1/1 [00:00<00:00, 27.89it/s]\n",
      "Epoch 869/1000: 100%|██████████| 1/1 [00:00<00:00, 27.94it/s]\n",
      "Validation: 100%|██████████| 1/1 [00:00<00:00, 42.19it/s]\n"
     ]
    },
    {
     "name": "stdout",
     "output_type": "stream",
     "text": [
      "Epoch: 869\n",
      "Validation Loss: 2.3538\n"
     ]
    },
    {
     "name": "stderr",
     "output_type": "stream",
     "text": [
      "Epoch 870/1000: 100%|██████████| 1/1 [00:00<00:00, 28.43it/s]\n",
      "Epoch 871/1000: 100%|██████████| 1/1 [00:00<00:00, 28.59it/s]\n",
      "Validation: 100%|██████████| 1/1 [00:00<00:00, 41.45it/s]\n"
     ]
    },
    {
     "name": "stdout",
     "output_type": "stream",
     "text": [
      "Epoch: 871\n",
      "Validation Loss: 2.1047\n"
     ]
    },
    {
     "name": "stderr",
     "output_type": "stream",
     "text": [
      "Epoch 872/1000: 100%|██████████| 1/1 [00:00<00:00, 27.78it/s]\n",
      "Epoch 873/1000: 100%|██████████| 1/1 [00:00<00:00, 26.62it/s]\n",
      "Validation: 100%|██████████| 1/1 [00:00<00:00, 41.68it/s]\n"
     ]
    },
    {
     "name": "stdout",
     "output_type": "stream",
     "text": [
      "Epoch: 873\n",
      "Validation Loss: 1.8938\n"
     ]
    },
    {
     "name": "stderr",
     "output_type": "stream",
     "text": [
      "Epoch 874/1000: 100%|██████████| 1/1 [00:00<00:00, 27.80it/s]\n",
      "Epoch 875/1000: 100%|██████████| 1/1 [00:00<00:00, 28.80it/s]\n",
      "Validation: 100%|██████████| 1/1 [00:00<00:00, 39.79it/s]\n"
     ]
    },
    {
     "name": "stdout",
     "output_type": "stream",
     "text": [
      "Epoch: 875\n",
      "Validation Loss: 1.9290\n"
     ]
    },
    {
     "name": "stderr",
     "output_type": "stream",
     "text": [
      "Epoch 876/1000: 100%|██████████| 1/1 [00:00<00:00, 25.75it/s]\n",
      "Epoch 877/1000: 100%|██████████| 1/1 [00:00<00:00, 28.32it/s]\n",
      "Validation: 100%|██████████| 1/1 [00:00<00:00, 41.90it/s]\n"
     ]
    },
    {
     "name": "stdout",
     "output_type": "stream",
     "text": [
      "Epoch: 877\n",
      "Validation Loss: 1.4260\n"
     ]
    },
    {
     "name": "stderr",
     "output_type": "stream",
     "text": [
      "Epoch 878/1000: 100%|██████████| 1/1 [00:00<00:00, 28.14it/s]\n",
      "Epoch 879/1000: 100%|██████████| 1/1 [00:00<00:00, 23.72it/s]\n",
      "Validation: 100%|██████████| 1/1 [00:00<00:00, 39.71it/s]\n"
     ]
    },
    {
     "name": "stdout",
     "output_type": "stream",
     "text": [
      "Epoch: 879\n",
      "Validation Loss: 1.5077\n"
     ]
    },
    {
     "name": "stderr",
     "output_type": "stream",
     "text": [
      "Epoch 880/1000: 100%|██████████| 1/1 [00:00<00:00, 27.68it/s]\n",
      "Epoch 881/1000: 100%|██████████| 1/1 [00:00<00:00, 28.53it/s]\n",
      "Validation: 100%|██████████| 1/1 [00:00<00:00, 42.12it/s]\n"
     ]
    },
    {
     "name": "stdout",
     "output_type": "stream",
     "text": [
      "Epoch: 881\n",
      "Validation Loss: 1.3707\n"
     ]
    },
    {
     "name": "stderr",
     "output_type": "stream",
     "text": [
      "Epoch 882/1000: 100%|██████████| 1/1 [00:00<00:00, 28.02it/s]\n",
      "Epoch 883/1000: 100%|██████████| 1/1 [00:00<00:00, 28.22it/s]\n",
      "Validation: 100%|██████████| 1/1 [00:00<00:00, 42.18it/s]\n"
     ]
    },
    {
     "name": "stdout",
     "output_type": "stream",
     "text": [
      "Epoch: 883\n",
      "Validation Loss: 1.2964\n"
     ]
    },
    {
     "name": "stderr",
     "output_type": "stream",
     "text": [
      "Epoch 884/1000: 100%|██████████| 1/1 [00:00<00:00, 26.98it/s]\n",
      "Epoch 885/1000: 100%|██████████| 1/1 [00:00<00:00, 27.99it/s]\n",
      "Validation: 100%|██████████| 1/1 [00:00<00:00, 41.44it/s]\n"
     ]
    },
    {
     "name": "stdout",
     "output_type": "stream",
     "text": [
      "Epoch: 885\n",
      "Validation Loss: 1.4030\n"
     ]
    },
    {
     "name": "stderr",
     "output_type": "stream",
     "text": [
      "Epoch 886/1000: 100%|██████████| 1/1 [00:00<00:00, 28.38it/s]\n",
      "Epoch 887/1000: 100%|██████████| 1/1 [00:00<00:00, 27.10it/s]\n",
      "Validation: 100%|██████████| 1/1 [00:00<00:00, 41.52it/s]\n"
     ]
    },
    {
     "name": "stdout",
     "output_type": "stream",
     "text": [
      "Epoch: 887\n",
      "Validation Loss: 1.1018\n"
     ]
    },
    {
     "name": "stderr",
     "output_type": "stream",
     "text": [
      "Epoch 888/1000: 100%|██████████| 1/1 [00:00<00:00, 26.89it/s]\n",
      "Epoch 889/1000: 100%|██████████| 1/1 [00:00<00:00, 26.02it/s]\n",
      "Validation: 100%|██████████| 1/1 [00:00<00:00, 42.73it/s]\n"
     ]
    },
    {
     "name": "stdout",
     "output_type": "stream",
     "text": [
      "Epoch: 889\n",
      "Validation Loss: 1.3915\n"
     ]
    },
    {
     "name": "stderr",
     "output_type": "stream",
     "text": [
      "Epoch 890/1000: 100%|██████████| 1/1 [00:00<00:00, 27.47it/s]\n",
      "Epoch 891/1000: 100%|██████████| 1/1 [00:00<00:00, 28.21it/s]\n",
      "Validation: 100%|██████████| 1/1 [00:00<00:00, 40.74it/s]\n"
     ]
    },
    {
     "name": "stdout",
     "output_type": "stream",
     "text": [
      "Epoch: 891\n",
      "Validation Loss: 1.3337\n"
     ]
    },
    {
     "name": "stderr",
     "output_type": "stream",
     "text": [
      "Epoch 892/1000: 100%|██████████| 1/1 [00:00<00:00, 24.56it/s]\n",
      "Epoch 893/1000: 100%|██████████| 1/1 [00:00<00:00, 28.22it/s]\n",
      "Validation: 100%|██████████| 1/1 [00:00<00:00, 42.82it/s]\n"
     ]
    },
    {
     "name": "stdout",
     "output_type": "stream",
     "text": [
      "Epoch: 893\n",
      "Validation Loss: 1.3020\n"
     ]
    },
    {
     "name": "stderr",
     "output_type": "stream",
     "text": [
      "Epoch 894/1000: 100%|██████████| 1/1 [00:00<00:00, 28.08it/s]\n",
      "Epoch 895/1000: 100%|██████████| 1/1 [00:00<00:00, 28.78it/s]\n",
      "Validation: 100%|██████████| 1/1 [00:00<00:00, 42.15it/s]\n"
     ]
    },
    {
     "name": "stdout",
     "output_type": "stream",
     "text": [
      "Epoch: 895\n",
      "Validation Loss: 1.2186\n"
     ]
    },
    {
     "name": "stderr",
     "output_type": "stream",
     "text": [
      "Epoch 896/1000: 100%|██████████| 1/1 [00:00<00:00, 26.80it/s]\n",
      "Epoch 897/1000: 100%|██████████| 1/1 [00:00<00:00, 27.86it/s]\n",
      "Validation: 100%|██████████| 1/1 [00:00<00:00, 41.75it/s]\n"
     ]
    },
    {
     "name": "stdout",
     "output_type": "stream",
     "text": [
      "Epoch: 897\n",
      "Validation Loss: 1.7096\n"
     ]
    },
    {
     "name": "stderr",
     "output_type": "stream",
     "text": [
      "Epoch 898/1000: 100%|██████████| 1/1 [00:00<00:00, 27.82it/s]\n",
      "Epoch 899/1000: 100%|██████████| 1/1 [00:00<00:00, 28.32it/s]\n",
      "Validation: 100%|██████████| 1/1 [00:00<00:00, 42.31it/s]\n"
     ]
    },
    {
     "name": "stdout",
     "output_type": "stream",
     "text": [
      "Epoch: 899\n",
      "Validation Loss: 1.4796\n"
     ]
    },
    {
     "name": "stderr",
     "output_type": "stream",
     "text": [
      "Epoch 900/1000: 100%|██████████| 1/1 [00:00<00:00, 28.53it/s]\n",
      "Epoch 901/1000: 100%|██████████| 1/1 [00:00<00:00, 29.01it/s]\n",
      "Validation: 100%|██████████| 1/1 [00:00<00:00, 42.22it/s]\n"
     ]
    },
    {
     "name": "stdout",
     "output_type": "stream",
     "text": [
      "Epoch: 901\n",
      "Validation Loss: 1.5878\n"
     ]
    },
    {
     "name": "stderr",
     "output_type": "stream",
     "text": [
      "Epoch 902/1000: 100%|██████████| 1/1 [00:00<00:00, 25.89it/s]\n",
      "Epoch 903/1000: 100%|██████████| 1/1 [00:00<00:00, 27.62it/s]\n",
      "Validation: 100%|██████████| 1/1 [00:00<00:00, 39.24it/s]\n"
     ]
    },
    {
     "name": "stdout",
     "output_type": "stream",
     "text": [
      "Epoch: 903\n",
      "Validation Loss: 1.9188\n"
     ]
    },
    {
     "name": "stderr",
     "output_type": "stream",
     "text": [
      "Epoch 904/1000: 100%|██████████| 1/1 [00:00<00:00, 26.45it/s]\n",
      "Epoch 905/1000: 100%|██████████| 1/1 [00:00<00:00, 27.08it/s]\n",
      "Validation: 100%|██████████| 1/1 [00:00<00:00, 40.30it/s]\n"
     ]
    },
    {
     "name": "stdout",
     "output_type": "stream",
     "text": [
      "Epoch: 905\n",
      "Validation Loss: 1.7048\n"
     ]
    },
    {
     "name": "stderr",
     "output_type": "stream",
     "text": [
      "Epoch 906/1000: 100%|██████████| 1/1 [00:00<00:00, 26.55it/s]\n",
      "Epoch 907/1000: 100%|██████████| 1/1 [00:00<00:00, 27.03it/s]\n",
      "Validation: 100%|██████████| 1/1 [00:00<00:00, 42.62it/s]\n"
     ]
    },
    {
     "name": "stdout",
     "output_type": "stream",
     "text": [
      "Epoch: 907\n",
      "Validation Loss: 1.0062\n"
     ]
    },
    {
     "name": "stderr",
     "output_type": "stream",
     "text": [
      "Epoch 908/1000: 100%|██████████| 1/1 [00:00<00:00, 28.51it/s]\n",
      "Epoch 909/1000: 100%|██████████| 1/1 [00:00<00:00, 26.37it/s]\n",
      "Validation: 100%|██████████| 1/1 [00:00<00:00, 38.53it/s]\n"
     ]
    },
    {
     "name": "stdout",
     "output_type": "stream",
     "text": [
      "Epoch: 909\n",
      "Validation Loss: 1.0900\n"
     ]
    },
    {
     "name": "stderr",
     "output_type": "stream",
     "text": [
      "Epoch 910/1000: 100%|██████████| 1/1 [00:00<00:00, 27.78it/s]\n",
      "Epoch 911/1000: 100%|██████████| 1/1 [00:00<00:00, 28.85it/s]\n",
      "Validation: 100%|██████████| 1/1 [00:00<00:00, 42.39it/s]\n"
     ]
    },
    {
     "name": "stdout",
     "output_type": "stream",
     "text": [
      "Epoch: 911\n",
      "Validation Loss: 0.9689\n"
     ]
    },
    {
     "name": "stderr",
     "output_type": "stream",
     "text": [
      "Epoch 912/1000: 100%|██████████| 1/1 [00:00<00:00, 26.59it/s]\n",
      "Epoch 913/1000: 100%|██████████| 1/1 [00:00<00:00, 28.48it/s]\n",
      "Validation: 100%|██████████| 1/1 [00:00<00:00, 42.89it/s]\n"
     ]
    },
    {
     "name": "stdout",
     "output_type": "stream",
     "text": [
      "Epoch: 913\n",
      "Validation Loss: 1.2538\n"
     ]
    },
    {
     "name": "stderr",
     "output_type": "stream",
     "text": [
      "Epoch 914/1000: 100%|██████████| 1/1 [00:00<00:00, 27.52it/s]\n",
      "Epoch 915/1000: 100%|██████████| 1/1 [00:00<00:00, 28.99it/s]\n",
      "Validation: 100%|██████████| 1/1 [00:00<00:00, 42.54it/s]\n"
     ]
    },
    {
     "name": "stdout",
     "output_type": "stream",
     "text": [
      "Epoch: 915\n",
      "Validation Loss: 1.4147\n"
     ]
    },
    {
     "name": "stderr",
     "output_type": "stream",
     "text": [
      "Epoch 916/1000: 100%|██████████| 1/1 [00:00<00:00, 28.17it/s]\n",
      "Epoch 917/1000: 100%|██████████| 1/1 [00:00<00:00, 26.24it/s]\n",
      "Validation: 100%|██████████| 1/1 [00:00<00:00, 42.54it/s]\n"
     ]
    },
    {
     "name": "stdout",
     "output_type": "stream",
     "text": [
      "Epoch: 917\n",
      "Validation Loss: 1.2799\n"
     ]
    },
    {
     "name": "stderr",
     "output_type": "stream",
     "text": [
      "Epoch 918/1000: 100%|██████████| 1/1 [00:00<00:00, 28.46it/s]\n",
      "Epoch 919/1000: 100%|██████████| 1/1 [00:00<00:00, 28.39it/s]\n",
      "Validation: 100%|██████████| 1/1 [00:00<00:00, 43.01it/s]\n"
     ]
    },
    {
     "name": "stdout",
     "output_type": "stream",
     "text": [
      "Epoch: 919\n",
      "Validation Loss: 1.1861\n"
     ]
    },
    {
     "name": "stderr",
     "output_type": "stream",
     "text": [
      "Epoch 920/1000: 100%|██████████| 1/1 [00:00<00:00, 28.86it/s]\n",
      "Epoch 921/1000: 100%|██████████| 1/1 [00:00<00:00, 29.10it/s]\n",
      "Validation: 100%|██████████| 1/1 [00:00<00:00, 42.34it/s]\n"
     ]
    },
    {
     "name": "stdout",
     "output_type": "stream",
     "text": [
      "Epoch: 921\n",
      "Validation Loss: 1.1631\n"
     ]
    },
    {
     "name": "stderr",
     "output_type": "stream",
     "text": [
      "Epoch 922/1000: 100%|██████████| 1/1 [00:00<00:00, 25.31it/s]\n",
      "Epoch 923/1000: 100%|██████████| 1/1 [00:00<00:00, 22.23it/s]\n",
      "Validation: 100%|██████████| 1/1 [00:00<00:00, 42.35it/s]\n"
     ]
    },
    {
     "name": "stdout",
     "output_type": "stream",
     "text": [
      "Epoch: 923\n",
      "Validation Loss: 0.9717\n"
     ]
    },
    {
     "name": "stderr",
     "output_type": "stream",
     "text": [
      "Epoch 924/1000: 100%|██████████| 1/1 [00:00<00:00, 28.13it/s]\n",
      "Epoch 925/1000: 100%|██████████| 1/1 [00:00<00:00, 29.05it/s]\n",
      "Validation: 100%|██████████| 1/1 [00:00<00:00, 42.39it/s]\n"
     ]
    },
    {
     "name": "stdout",
     "output_type": "stream",
     "text": [
      "Epoch: 925\n",
      "Validation Loss: 1.2421\n"
     ]
    },
    {
     "name": "stderr",
     "output_type": "stream",
     "text": [
      "Epoch 926/1000: 100%|██████████| 1/1 [00:00<00:00, 27.33it/s]\n",
      "Epoch 927/1000: 100%|██████████| 1/1 [00:00<00:00, 27.65it/s]\n",
      "Validation: 100%|██████████| 1/1 [00:00<00:00, 40.78it/s]\n"
     ]
    },
    {
     "name": "stdout",
     "output_type": "stream",
     "text": [
      "Epoch: 927\n",
      "Validation Loss: 1.0891\n"
     ]
    },
    {
     "name": "stderr",
     "output_type": "stream",
     "text": [
      "Epoch 928/1000: 100%|██████████| 1/1 [00:00<00:00, 28.40it/s]\n",
      "Epoch 929/1000: 100%|██████████| 1/1 [00:00<00:00, 27.78it/s]\n",
      "Validation: 100%|██████████| 1/1 [00:00<00:00, 42.79it/s]\n"
     ]
    },
    {
     "name": "stdout",
     "output_type": "stream",
     "text": [
      "Epoch: 929\n",
      "Validation Loss: 1.0966\n"
     ]
    },
    {
     "name": "stderr",
     "output_type": "stream",
     "text": [
      "Epoch 930/1000: 100%|██████████| 1/1 [00:00<00:00, 28.21it/s]\n",
      "Epoch 931/1000: 100%|██████████| 1/1 [00:00<00:00, 28.34it/s]\n",
      "Validation: 100%|██████████| 1/1 [00:00<00:00, 41.96it/s]\n"
     ]
    },
    {
     "name": "stdout",
     "output_type": "stream",
     "text": [
      "Epoch: 931\n",
      "Validation Loss: 1.4621\n"
     ]
    },
    {
     "name": "stderr",
     "output_type": "stream",
     "text": [
      "Epoch 932/1000: 100%|██████████| 1/1 [00:00<00:00, 26.36it/s]\n",
      "Epoch 933/1000: 100%|██████████| 1/1 [00:00<00:00, 26.97it/s]\n",
      "Validation: 100%|██████████| 1/1 [00:00<00:00, 40.47it/s]\n"
     ]
    },
    {
     "name": "stdout",
     "output_type": "stream",
     "text": [
      "Epoch: 933\n",
      "Validation Loss: 1.1969\n"
     ]
    },
    {
     "name": "stderr",
     "output_type": "stream",
     "text": [
      "Epoch 934/1000: 100%|██████████| 1/1 [00:00<00:00, 28.48it/s]\n",
      "Epoch 935/1000: 100%|██████████| 1/1 [00:00<00:00, 26.93it/s]\n",
      "Validation: 100%|██████████| 1/1 [00:00<00:00, 42.21it/s]\n"
     ]
    },
    {
     "name": "stdout",
     "output_type": "stream",
     "text": [
      "Epoch: 935\n",
      "Validation Loss: 1.1653\n"
     ]
    },
    {
     "name": "stderr",
     "output_type": "stream",
     "text": [
      "Epoch 936/1000: 100%|██████████| 1/1 [00:00<00:00, 27.76it/s]\n",
      "Epoch 937/1000: 100%|██████████| 1/1 [00:00<00:00, 27.40it/s]\n",
      "Validation: 100%|██████████| 1/1 [00:00<00:00, 42.37it/s]\n"
     ]
    },
    {
     "name": "stdout",
     "output_type": "stream",
     "text": [
      "Epoch: 937\n",
      "Validation Loss: 1.1400\n"
     ]
    },
    {
     "name": "stderr",
     "output_type": "stream",
     "text": [
      "Epoch 938/1000: 100%|██████████| 1/1 [00:00<00:00, 27.98it/s]\n",
      "Epoch 939/1000: 100%|██████████| 1/1 [00:00<00:00, 26.77it/s]\n",
      "Validation: 100%|██████████| 1/1 [00:00<00:00, 42.26it/s]\n"
     ]
    },
    {
     "name": "stdout",
     "output_type": "stream",
     "text": [
      "Epoch: 939\n",
      "Validation Loss: 1.0709\n"
     ]
    },
    {
     "name": "stderr",
     "output_type": "stream",
     "text": [
      "Epoch 940/1000: 100%|██████████| 1/1 [00:00<00:00, 27.35it/s]\n",
      "Epoch 941/1000: 100%|██████████| 1/1 [00:00<00:00, 28.52it/s]\n",
      "Validation: 100%|██████████| 1/1 [00:00<00:00, 41.45it/s]\n"
     ]
    },
    {
     "name": "stdout",
     "output_type": "stream",
     "text": [
      "Epoch: 941\n",
      "Validation Loss: 1.3554\n"
     ]
    },
    {
     "name": "stderr",
     "output_type": "stream",
     "text": [
      "Epoch 942/1000: 100%|██████████| 1/1 [00:00<00:00, 25.42it/s]\n",
      "Epoch 943/1000: 100%|██████████| 1/1 [00:00<00:00, 23.82it/s]\n",
      "Validation: 100%|██████████| 1/1 [00:00<00:00, 42.54it/s]\n"
     ]
    },
    {
     "name": "stdout",
     "output_type": "stream",
     "text": [
      "Epoch: 943\n",
      "Validation Loss: 1.1403\n"
     ]
    },
    {
     "name": "stderr",
     "output_type": "stream",
     "text": [
      "Epoch 944/1000: 100%|██████████| 1/1 [00:00<00:00, 25.91it/s]\n",
      "Epoch 945/1000: 100%|██████████| 1/1 [00:00<00:00, 27.86it/s]\n",
      "Validation: 100%|██████████| 1/1 [00:00<00:00, 40.95it/s]\n"
     ]
    },
    {
     "name": "stdout",
     "output_type": "stream",
     "text": [
      "Epoch: 945\n",
      "Validation Loss: 1.5638\n"
     ]
    },
    {
     "name": "stderr",
     "output_type": "stream",
     "text": [
      "Epoch 946/1000: 100%|██████████| 1/1 [00:00<00:00, 26.62it/s]\n",
      "Epoch 947/1000: 100%|██████████| 1/1 [00:00<00:00, 27.68it/s]\n",
      "Validation: 100%|██████████| 1/1 [00:00<00:00, 41.30it/s]\n"
     ]
    },
    {
     "name": "stdout",
     "output_type": "stream",
     "text": [
      "Epoch: 947\n",
      "Validation Loss: 1.2535\n"
     ]
    },
    {
     "name": "stderr",
     "output_type": "stream",
     "text": [
      "Epoch 948/1000: 100%|██████████| 1/1 [00:00<00:00, 26.05it/s]\n",
      "Epoch 949/1000: 100%|██████████| 1/1 [00:00<00:00, 27.31it/s]\n",
      "Validation: 100%|██████████| 1/1 [00:00<00:00, 38.97it/s]\n"
     ]
    },
    {
     "name": "stdout",
     "output_type": "stream",
     "text": [
      "Epoch: 949\n",
      "Validation Loss: 1.5167\n"
     ]
    },
    {
     "name": "stderr",
     "output_type": "stream",
     "text": [
      "Epoch 950/1000: 100%|██████████| 1/1 [00:00<00:00, 27.04it/s]\n",
      "Epoch 951/1000: 100%|██████████| 1/1 [00:00<00:00, 27.56it/s]\n",
      "Validation: 100%|██████████| 1/1 [00:00<00:00, 39.87it/s]\n"
     ]
    },
    {
     "name": "stdout",
     "output_type": "stream",
     "text": [
      "Epoch: 951\n",
      "Validation Loss: 1.4496\n"
     ]
    },
    {
     "name": "stderr",
     "output_type": "stream",
     "text": [
      "Epoch 952/1000: 100%|██████████| 1/1 [00:00<00:00, 27.70it/s]\n",
      "Epoch 953/1000: 100%|██████████| 1/1 [00:00<00:00, 27.26it/s]\n",
      "Validation: 100%|██████████| 1/1 [00:00<00:00, 40.56it/s]\n"
     ]
    },
    {
     "name": "stdout",
     "output_type": "stream",
     "text": [
      "Epoch: 953\n",
      "Validation Loss: 1.2322\n"
     ]
    },
    {
     "name": "stderr",
     "output_type": "stream",
     "text": [
      "Epoch 954/1000: 100%|██████████| 1/1 [00:00<00:00, 26.88it/s]\n",
      "Epoch 955/1000: 100%|██████████| 1/1 [00:00<00:00, 27.05it/s]\n",
      "Validation: 100%|██████████| 1/1 [00:00<00:00, 41.26it/s]\n"
     ]
    },
    {
     "name": "stdout",
     "output_type": "stream",
     "text": [
      "Epoch: 955\n",
      "Validation Loss: 1.2234\n"
     ]
    },
    {
     "name": "stderr",
     "output_type": "stream",
     "text": [
      "Epoch 956/1000: 100%|██████████| 1/1 [00:00<00:00, 26.66it/s]\n",
      "Epoch 957/1000: 100%|██████████| 1/1 [00:00<00:00, 28.18it/s]\n",
      "Validation: 100%|██████████| 1/1 [00:00<00:00, 41.04it/s]\n"
     ]
    },
    {
     "name": "stdout",
     "output_type": "stream",
     "text": [
      "Epoch: 957\n",
      "Validation Loss: 1.2288\n"
     ]
    },
    {
     "name": "stderr",
     "output_type": "stream",
     "text": [
      "Epoch 958/1000: 100%|██████████| 1/1 [00:00<00:00, 26.87it/s]\n",
      "Epoch 959/1000: 100%|██████████| 1/1 [00:00<00:00, 27.57it/s]\n",
      "Validation: 100%|██████████| 1/1 [00:00<00:00, 39.47it/s]\n"
     ]
    },
    {
     "name": "stdout",
     "output_type": "stream",
     "text": [
      "Epoch: 959\n",
      "Validation Loss: 1.1100\n"
     ]
    },
    {
     "name": "stderr",
     "output_type": "stream",
     "text": [
      "Epoch 960/1000: 100%|██████████| 1/1 [00:00<00:00, 26.83it/s]\n",
      "Epoch 961/1000: 100%|██████████| 1/1 [00:00<00:00, 27.18it/s]\n",
      "Validation: 100%|██████████| 1/1 [00:00<00:00, 39.78it/s]\n"
     ]
    },
    {
     "name": "stdout",
     "output_type": "stream",
     "text": [
      "Epoch: 961\n",
      "Validation Loss: 1.1412\n"
     ]
    },
    {
     "name": "stderr",
     "output_type": "stream",
     "text": [
      "Epoch 962/1000: 100%|██████████| 1/1 [00:00<00:00, 27.13it/s]\n",
      "Epoch 963/1000: 100%|██████████| 1/1 [00:00<00:00, 28.46it/s]\n",
      "Validation: 100%|██████████| 1/1 [00:00<00:00, 41.40it/s]\n"
     ]
    },
    {
     "name": "stdout",
     "output_type": "stream",
     "text": [
      "Epoch: 963\n",
      "Validation Loss: 1.1348\n"
     ]
    },
    {
     "name": "stderr",
     "output_type": "stream",
     "text": [
      "Epoch 964/1000: 100%|██████████| 1/1 [00:00<00:00, 26.35it/s]\n",
      "Epoch 965/1000: 100%|██████████| 1/1 [00:00<00:00, 22.30it/s]\n",
      "Validation: 100%|██████████| 1/1 [00:00<00:00, 39.01it/s]\n"
     ]
    },
    {
     "name": "stdout",
     "output_type": "stream",
     "text": [
      "Epoch: 965\n",
      "Validation Loss: 1.3443\n"
     ]
    },
    {
     "name": "stderr",
     "output_type": "stream",
     "text": [
      "Epoch 966/1000: 100%|██████████| 1/1 [00:00<00:00, 25.10it/s]\n",
      "Epoch 967/1000: 100%|██████████| 1/1 [00:00<00:00, 27.78it/s]\n",
      "Validation: 100%|██████████| 1/1 [00:00<00:00, 40.25it/s]\n"
     ]
    },
    {
     "name": "stdout",
     "output_type": "stream",
     "text": [
      "Epoch: 967\n",
      "Validation Loss: 1.1525\n"
     ]
    },
    {
     "name": "stderr",
     "output_type": "stream",
     "text": [
      "Epoch 968/1000: 100%|██████████| 1/1 [00:00<00:00, 27.56it/s]\n",
      "Epoch 969/1000: 100%|██████████| 1/1 [00:00<00:00, 26.27it/s]\n",
      "Validation: 100%|██████████| 1/1 [00:00<00:00, 36.99it/s]\n"
     ]
    },
    {
     "name": "stdout",
     "output_type": "stream",
     "text": [
      "Epoch: 969\n",
      "Validation Loss: 1.1030\n"
     ]
    },
    {
     "name": "stderr",
     "output_type": "stream",
     "text": [
      "Epoch 970/1000: 100%|██████████| 1/1 [00:00<00:00, 25.76it/s]\n",
      "Epoch 971/1000: 100%|██████████| 1/1 [00:00<00:00, 26.48it/s]\n",
      "Validation: 100%|██████████| 1/1 [00:00<00:00, 39.53it/s]\n"
     ]
    },
    {
     "name": "stdout",
     "output_type": "stream",
     "text": [
      "Epoch: 971\n",
      "Validation Loss: 1.2929\n"
     ]
    },
    {
     "name": "stderr",
     "output_type": "stream",
     "text": [
      "Epoch 972/1000: 100%|██████████| 1/1 [00:00<00:00, 27.36it/s]\n",
      "Epoch 973/1000: 100%|██████████| 1/1 [00:00<00:00, 26.97it/s]\n",
      "Validation: 100%|██████████| 1/1 [00:00<00:00, 39.63it/s]\n"
     ]
    },
    {
     "name": "stdout",
     "output_type": "stream",
     "text": [
      "Epoch: 973\n",
      "Validation Loss: 1.1429\n"
     ]
    },
    {
     "name": "stderr",
     "output_type": "stream",
     "text": [
      "Epoch 974/1000: 100%|██████████| 1/1 [00:00<00:00, 25.93it/s]\n",
      "Epoch 975/1000: 100%|██████████| 1/1 [00:00<00:00, 26.04it/s]\n",
      "Validation: 100%|██████████| 1/1 [00:00<00:00, 40.31it/s]\n"
     ]
    },
    {
     "name": "stdout",
     "output_type": "stream",
     "text": [
      "Epoch: 975\n",
      "Validation Loss: 0.9758\n"
     ]
    },
    {
     "name": "stderr",
     "output_type": "stream",
     "text": [
      "Epoch 976/1000: 100%|██████████| 1/1 [00:00<00:00, 26.45it/s]\n",
      "Epoch 977/1000: 100%|██████████| 1/1 [00:00<00:00, 25.73it/s]\n",
      "Validation: 100%|██████████| 1/1 [00:00<00:00, 37.49it/s]\n"
     ]
    },
    {
     "name": "stdout",
     "output_type": "stream",
     "text": [
      "Epoch: 977\n",
      "Validation Loss: 1.6244\n"
     ]
    },
    {
     "name": "stderr",
     "output_type": "stream",
     "text": [
      "Epoch 978/1000: 100%|██████████| 1/1 [00:00<00:00, 27.13it/s]\n",
      "Epoch 979/1000: 100%|██████████| 1/1 [00:00<00:00, 25.90it/s]\n",
      "Validation: 100%|██████████| 1/1 [00:00<00:00, 39.36it/s]\n"
     ]
    },
    {
     "name": "stdout",
     "output_type": "stream",
     "text": [
      "Epoch: 979\n",
      "Validation Loss: 1.3943\n"
     ]
    },
    {
     "name": "stderr",
     "output_type": "stream",
     "text": [
      "Epoch 980/1000: 100%|██████████| 1/1 [00:00<00:00, 26.56it/s]\n",
      "Epoch 981/1000: 100%|██████████| 1/1 [00:00<00:00, 25.59it/s]\n",
      "Validation: 100%|██████████| 1/1 [00:00<00:00, 39.09it/s]\n"
     ]
    },
    {
     "name": "stdout",
     "output_type": "stream",
     "text": [
      "Epoch: 981\n",
      "Validation Loss: 1.5528\n"
     ]
    },
    {
     "name": "stderr",
     "output_type": "stream",
     "text": [
      "Epoch 982/1000: 100%|██████████| 1/1 [00:00<00:00, 26.47it/s]\n",
      "Epoch 983/1000: 100%|██████████| 1/1 [00:00<00:00, 27.43it/s]\n",
      "Validation: 100%|██████████| 1/1 [00:00<00:00, 38.68it/s]\n"
     ]
    },
    {
     "name": "stdout",
     "output_type": "stream",
     "text": [
      "Epoch: 983\n",
      "Validation Loss: 1.1477\n"
     ]
    },
    {
     "name": "stderr",
     "output_type": "stream",
     "text": [
      "Epoch 984/1000: 100%|██████████| 1/1 [00:00<00:00, 22.60it/s]\n",
      "Epoch 985/1000: 100%|██████████| 1/1 [00:00<00:00, 26.48it/s]\n",
      "Validation: 100%|██████████| 1/1 [00:00<00:00, 42.30it/s]\n"
     ]
    },
    {
     "name": "stdout",
     "output_type": "stream",
     "text": [
      "Epoch: 985\n",
      "Validation Loss: 1.6973\n"
     ]
    },
    {
     "name": "stderr",
     "output_type": "stream",
     "text": [
      "Epoch 986/1000: 100%|██████████| 1/1 [00:00<00:00, 28.15it/s]\n",
      "Epoch 987/1000: 100%|██████████| 1/1 [00:00<00:00, 27.33it/s]\n",
      "Validation: 100%|██████████| 1/1 [00:00<00:00, 40.29it/s]\n"
     ]
    },
    {
     "name": "stdout",
     "output_type": "stream",
     "text": [
      "Epoch: 987\n",
      "Validation Loss: 1.1512\n"
     ]
    },
    {
     "name": "stderr",
     "output_type": "stream",
     "text": [
      "Epoch 988/1000: 100%|██████████| 1/1 [00:00<00:00, 28.24it/s]\n",
      "Epoch 989/1000: 100%|██████████| 1/1 [00:00<00:00, 28.65it/s]\n",
      "Validation: 100%|██████████| 1/1 [00:00<00:00, 42.04it/s]\n"
     ]
    },
    {
     "name": "stdout",
     "output_type": "stream",
     "text": [
      "Epoch: 989\n",
      "Validation Loss: 1.2430\n"
     ]
    },
    {
     "name": "stderr",
     "output_type": "stream",
     "text": [
      "Epoch 990/1000: 100%|██████████| 1/1 [00:00<00:00, 28.38it/s]\n",
      "Epoch 991/1000: 100%|██████████| 1/1 [00:00<00:00, 28.66it/s]\n",
      "Validation: 100%|██████████| 1/1 [00:00<00:00, 41.90it/s]\n"
     ]
    },
    {
     "name": "stdout",
     "output_type": "stream",
     "text": [
      "Epoch: 991\n",
      "Validation Loss: 0.9895\n"
     ]
    },
    {
     "name": "stderr",
     "output_type": "stream",
     "text": [
      "Epoch 992/1000: 100%|██████████| 1/1 [00:00<00:00, 28.22it/s]\n",
      "Epoch 993/1000: 100%|██████████| 1/1 [00:00<00:00, 28.31it/s]\n",
      "Validation: 100%|██████████| 1/1 [00:00<00:00, 42.09it/s]\n"
     ]
    },
    {
     "name": "stdout",
     "output_type": "stream",
     "text": [
      "Epoch: 993\n",
      "Validation Loss: 1.1152\n"
     ]
    },
    {
     "name": "stderr",
     "output_type": "stream",
     "text": [
      "Epoch 994/1000: 100%|██████████| 1/1 [00:00<00:00, 28.27it/s]\n",
      "Epoch 995/1000: 100%|██████████| 1/1 [00:00<00:00, 28.63it/s]\n",
      "Validation: 100%|██████████| 1/1 [00:00<00:00, 42.51it/s]\n"
     ]
    },
    {
     "name": "stdout",
     "output_type": "stream",
     "text": [
      "Epoch: 995\n",
      "Validation Loss: 1.0219\n"
     ]
    },
    {
     "name": "stderr",
     "output_type": "stream",
     "text": [
      "Epoch 996/1000: 100%|██████████| 1/1 [00:00<00:00, 27.17it/s]\n",
      "Epoch 997/1000: 100%|██████████| 1/1 [00:00<00:00, 28.51it/s]\n",
      "Validation: 100%|██████████| 1/1 [00:00<00:00, 39.96it/s]\n"
     ]
    },
    {
     "name": "stdout",
     "output_type": "stream",
     "text": [
      "Epoch: 997\n",
      "Validation Loss: 1.4334\n"
     ]
    },
    {
     "name": "stderr",
     "output_type": "stream",
     "text": [
      "Epoch 998/1000: 100%|██████████| 1/1 [00:00<00:00, 26.63it/s]\n",
      "Epoch 999/1000: 100%|██████████| 1/1 [00:00<00:00, 27.38it/s]\n",
      "Validation: 100%|██████████| 1/1 [00:00<00:00, 40.53it/s]\n"
     ]
    },
    {
     "name": "stdout",
     "output_type": "stream",
     "text": [
      "Epoch: 999\n",
      "Validation Loss: 1.1664\n"
     ]
    },
    {
     "name": "stderr",
     "output_type": "stream",
     "text": [
      "Epoch 1000/1000: 100%|██████████| 1/1 [00:00<00:00, 27.65it/s]"
     ]
    },
    {
     "name": "stdout",
     "output_type": "stream",
     "text": [
      "Training completed!\n"
     ]
    },
    {
     "name": "stderr",
     "output_type": "stream",
     "text": [
      "\n"
     ]
    }
   ],
   "source": [
    "# Training\n",
    "epochs = 1000\n",
    "optimizer = optim.AdamW(model.parameters(), lr=1e-3, weight_decay=6e-5)\n",
    "\n",
    "losses = []\n",
    "last_loss = torch.inf\n",
    "avg_train_loss, avg_primal_loss, avg_fixed_point_loss, avg_projection_loss = [], [], [], []\n",
    "avg_val_loss = []\n",
    "\n",
    "for epoch in range(epochs):\n",
    "    \n",
    "    # Train Loop\n",
    "    model.train()\n",
    "    losses_train, primal_losses, fixed_point_losses, projection_losses = [], [], [], []\n",
    "    \n",
    "    for (inp, desired_speed_batched, desired_twisting_speed_batched) in tqdm(train_loader, desc=f\"Epoch {epoch+1}/{epochs}\"):\n",
    "        \n",
    "        # Input and Output \n",
    "        inp = inp.to(device)\n",
    "        desired_speed_batched = desired_speed_batched.to(device)\n",
    "        desired_twisting_speed_batched = desired_twisting_speed_batched.to(device)\n",
    "        \n",
    "        # Forward pass through quadruped model\n",
    "        xi_projected, avg_res_fixed_point, avg_res_primal, res_primal_history, res_fixed_point_history = model(inp, desired_speed_batched, \n",
    "                                                                                                               desired_twisting_speed_batched, rnn)\n",
    "        \n",
    "        \n",
    "        # Compute loss\n",
    "        primal_loss, fixed_point_loss, loss = model.mlp_loss(\n",
    "            avg_res_primal, avg_res_fixed_point)\n",
    "\n",
    "        optimizer.zero_grad()\n",
    "        loss.backward()\n",
    "        \n",
    "        # Optional gradient clipping\n",
    "        #torch.nn.utils.clip_grad_norm_(model.parameters(), max_norm=1.0)\n",
    "        \n",
    "        optimizer.step()\n",
    "        \n",
    "        losses_train.append(loss.detach().cpu().numpy()) \n",
    "        primal_losses.append(primal_loss.detach().cpu().numpy())\n",
    "        fixed_point_losses.append(fixed_point_loss.detach().cpu().numpy())\n",
    "        #projection_losses.append(projection_loss.detach().cpu().numpy())\n",
    "        \n",
    "    # Validation every 2 epochs\n",
    "    if epoch % 2 == 0:\n",
    "        model.eval()\n",
    "        val_losses = []\n",
    "\n",
    "        with torch.no_grad():\n",
    "            for (inp_val, desired_speed_batched_val, desired_twisting_speed_batched_val) in tqdm(val_loader, desc=\"Validation\"):\n",
    "                inp_val = inp_val.to(device)\n",
    "                desired_speed_batched_val = desired_speed_batched_val.to(device)\n",
    "                desired_twisting_speed_batched_val = desired_twisting_speed_batched_val.to(device)\n",
    "\n",
    "                xi_projected, avg_res_fixed_point, avg_res_primal, res_primal_history, res_fixed_point_history = model(inp_val, desired_speed_batched_val, \n",
    "                                                                                                                       desired_twisting_speed_batched_val,\n",
    "                                                                                                                       rnn)\n",
    "                \n",
    "                _, _, val_loss = model.mlp_loss(\n",
    "                    avg_res_primal, avg_res_fixed_point\n",
    "                )\n",
    "\n",
    "                val_losses.append(val_loss.detach().cpu().numpy())\n",
    "\n",
    "    # Print progress every 2 epochs\n",
    "    if epoch % 2 == 0:    \n",
    "        print(f\"Epoch: {epoch + 1}\")       \n",
    "        if len(val_losses) > 0:\n",
    "            print(f\"Validation Loss: {np.average(val_losses):.4f}\")\n",
    "\n",
    "    # Save best model\n",
    "    os.makedirs(\"./training_weights\", exist_ok=True)\n",
    "    if loss <= last_loss:\n",
    "        torch.save(model.state_dict(), f\"./training_weights/mlp_learned_quadruped_{rnn}.pth\")\n",
    "        last_loss = loss\n",
    "\n",
    "    # Store metrics\n",
    "    avg_train_loss.append(np.average(losses_train))\n",
    "    avg_primal_loss.append(np.average(primal_losses))\n",
    "    avg_projection_loss.append(np.average(projection_losses))\n",
    "    avg_fixed_point_loss.append(np.average(fixed_point_losses))\n",
    "    \n",
    "    if len(val_losses) > 0:\n",
    "        avg_val_loss.append(np.average(val_losses))\n",
    "    else:\n",
    "        avg_val_loss.append(avg_val_loss[-1] if avg_val_loss else 0.0)\n",
    "\n",
    "print(\"Training completed!\")\n",
    "\n"
   ]
  },
  {
   "cell_type": "code",
   "execution_count": 11,
   "id": "4a0c60bc",
   "metadata": {},
   "outputs": [
    {
     "data": {
      "image/png": "[encoded data removed]",
      "text/plain": [
       "<Figure size 1200x600 with 1 Axes>"
      ]
     },
     "metadata": {},
     "output_type": "display_data"
    },
    {
     "data": {
      "image/png": "[encoded data removed]",
      "text/plain": [
       "<Figure size 1200x600 with 1 Axes>"
      ]
     },
     "metadata": {},
     "output_type": "display_data"
    }
   ],
   "source": [
    "# Plot training losses\n",
    "\n",
    "plt.figure(figsize=(12, 6))\n",
    "\n",
    "plt.plot(avg_train_loss, label='Total Loss')\n",
    "plt.plot(avg_primal_loss, label='Primal Loss')\n",
    "plt.plot(avg_fixed_point_loss, label='Fixed-Point Loss')\n",
    "plt.plot(avg_projection_loss, label='Projection Loss')\n",
    "\n",
    "\n",
    "plt.title('Training Loss Curves')\n",
    "plt.xlabel('Epoch')\n",
    "plt.ylabel('Loss')\n",
    "plt.legend()\n",
    "plt.grid(True)\n",
    "plt.tight_layout()\n",
    "plt.show()\n",
    "\n",
    "# Plot validation losses\n",
    "plt.figure(figsize=(12, 6))\n",
    "plt.plot(avg_val_loss, label='Validation Loss')\n",
    "\n",
    "plt.title('Validation Loss Curves')\n",
    "plt.xlabel('Epoch')\n",
    "plt.ylabel('Loss')\n",
    "plt.legend()\n",
    "plt.grid(True)\n",
    "plt.tight_layout()\n",
    "plt.show()"
   ]
  }
 ],
 "metadata": {
  "kernelspec": {
   "display_name": "manipulator_torch_env",
   "language": "python",
   "name": "python3"
  },
  "language_info": {
   "codemirror_mode": {
    "name": "ipython",
    "version": 3
   },
   "file_extension": ".py",
   "mimetype": "text/x-python",
   "name": "python",
   "nbconvert_exporter": "python",
   "pygments_lexer": "ipython3",
   "version": "3.12.3"
  }
 },
 "nbformat": 4,
 "nbformat_minor": 5
}
