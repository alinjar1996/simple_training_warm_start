{
 "cells": [
  {
   "cell_type": "code",
   "execution_count": null,
   "id": "7890e186",
   "metadata": {},
   "outputs": [
    {
     "name": "stdout",
     "output_type": "stream",
     "text": [
      "/home/alinjar/simple_training_warm_start/qp\n",
      "Using cuda device\n"
     ]
    }
   ],
   "source": [
    "import os\n",
    "current_working_directory = os.getcwd()\n",
    "print(current_working_directory)\n",
    "\n",
    "import matplotlib.pyplot as plt\n",
    "import numpy as np \n",
    "import torch \n",
    "import torch.nn as nn \n",
    "import torch.optim as optim\n",
    "\n",
    "from torch.utils.data import Dataset, DataLoader\n",
    "import scipy.io as sio\n",
    "\n",
    "from tqdm import trange, tqdm\n",
    "\n",
    "# Import the quadruped model components from your second file\n",
    "from Quadruped_qp.mlp_quadruped_rnn import MLP, MLPQuadrupedProjectionFilter, CustomGRULayer, GRU_Hidden_State\n",
    "from stance_leg_controller import ForceStanceLegController\n",
    "\n",
    "# Device setup\n",
    "device = torch.device(\"cuda\" if torch.cuda.is_available() else \"cpu\")\n",
    "print(f\"Using {device} device\")"
   ]
  },
  {
   "cell_type": "code",
   "execution_count": 2,
   "id": "59360871",
   "metadata": {},
   "outputs": [],
   "source": [
    "class ForceDataset(Dataset):\n",
    "    \"\"\"Expert Trajectory Dataset.\"\"\"\n",
    "    def __init__(self, inp):\n",
    "        # input\n",
    "        self.inp = inp\n",
    "\n",
    "    def __len__(self):\n",
    "        return len(self.inp)    \n",
    "        \n",
    "    def __getitem__(self, idx):\n",
    "        # Input\n",
    "        inp = self.inp[idx]\n",
    "        return torch.tensor(inp).float()    \n",
    "\n",
    "def sample_uniform_forces(key, F_max, num_batch, nvar):\n",
    "    rng = np.random.default_rng(seed=key)\n",
    "    xi_samples = rng.uniform(\n",
    "        low=-F_max,\n",
    "        high=F_max,\n",
    "        size=(num_batch, nvar)\n",
    "    )\n",
    "    return xi_samples, rng"
   ]
  },
  {
   "cell_type": "code",
   "execution_count": 3,
   "id": "4bb92a86",
   "metadata": {},
   "outputs": [],
   "source": [
    "# Parameters for Quadruped Model\n",
    "num_batch = 1000\n",
    "timestep = 0.05  # 50 Hz control frequency\n",
    "horizon = 10     # prediction horizon steps\n",
    "num_legs = 4\n",
    "friction_coeff = 0.2\n",
    "body_mass = 50.0  # kg\n",
    "\n",
    "body_inertia=(1.0, 0.0, 0.0, 0.0, 1.0, 0.0, 0.0, 0.0, 1.0)\n",
    "\n",
    "# Desired motion parameters\n",
    "desired_speed = (0.0, 0.0)        # m/s\n",
    "desired_twisting_speed = 0.5  # rad/s\n",
    "desired_body_height = 0.5     # m\n",
    "\n",
    "# Force limits\n",
    "F_max = 100.0  # Maximum force magnitude for sampling\n",
    "\n",
    "# Problem dimensions for quadruped force control\n",
    "\n",
    "\n",
    "##Parameters for MLP model\n",
    "# Default states\n",
    "BaseRollPitchYaw = (0.0, 0.0, 0.0)\n",
    "AngularVelocityBodyFrame = (0.0, 0.0, 0.0)\n",
    "ComVelocityBodyFrame = (0.0, 0.0, 0.0)\n",
    "FootContacts = (True, True, True, True)\n",
    "slope_estimate = (0.0, 0.0, 0.0)\n",
    "RotationBodyWrtWorld = (1.0, 0.0, 0.0, 0.0, 1.0, 0.0, 0.0, 0.0, 1.0)"
   ]
  },
  {
   "cell_type": "code",
   "execution_count": 4,
   "id": "7278d588",
   "metadata": {},
   "outputs": [],
   "source": [
    "\"\"\"Setup foot positions and default states for quadruped\"\"\"\n",
    "# Foot positions in body frame\n",
    "foot_x=0.2\n",
    "foot_y=0.2\n",
    "foot_z=-desired_body_height\n",
    "\n",
    "FootPositionsInBodyFrame = torch.tensor([\n",
    "    [ foot_x,  foot_y, foot_z],\n",
    "    [-foot_x,  foot_y, foot_z],\n",
    "    [ foot_x, -foot_y, foot_z],\n",
    "    [-foot_x, -foot_y, foot_z]])\n",
    "\n",
    "# Define QP matrices for quadruped control (simplified example)\n",
    "# In practice, these would come from your quadruped dynamics model\n",
    "controller = ForceStanceLegController(\n",
    "    desired_speed=desired_speed,\n",
    "    desired_twisting_speed=desired_twisting_speed,\n",
    "    desired_body_height=desired_body_height,\n",
    "    body_mass=body_mass,\n",
    "    body_inertia=body_inertia,\n",
    "    num_legs=num_legs,\n",
    "    friction_coeff=friction_coeff,\n",
    "    timestep=timestep,\n",
    "    horizon=horizon\n",
    ")\n",
    "\n",
    "# Get QP matrices\n",
    "H, g, C, c = controller.getMatrices(\n",
    "    BaseRollPitchYaw=BaseRollPitchYaw,\n",
    "    AngularVelocityBodyFrame=AngularVelocityBodyFrame,\n",
    "    ComVelocityBodyFrame=ComVelocityBodyFrame,\n",
    "    FootPositionsInBodyFrame=FootPositionsInBodyFrame,\n",
    "    FootContacts=FootContacts,\n",
    "    slope_estimate=slope_estimate,\n",
    "    RotationBodyWrtWorld=RotationBodyWrtWorld\n",
    ")\n",
    "\n",
    "\n",
    "# Store matrices\n",
    "H = H                       # QP Hessian (3nk x 3nk)\n",
    "g = g                       # Linear term (3nk)\n",
    "C = C                       # Constraint matrix (num_total_constraints x 3nk)\n",
    "c_lower = c                       # Lower bound (num_total_constraints)\n",
    "c_upper = -c                     # Upper bound (num_total_constraints)\n",
    "\n",
    "# Maximum Iterations\n",
    "maxiter_projection = 20"
   ]
  },
  {
   "cell_type": "code",
   "execution_count": 5,
   "id": "14733ff5",
   "metadata": {},
   "outputs": [],
   "source": [
    "nvar = H.shape[0]\n",
    "C_torch = torch.from_numpy(C).float().to(device)\n",
    "A_control = torch.vstack((C_torch, -C_torch))\n",
    "\n",
    "\n",
    "num_total_constraints = A_control.shape[0]\n",
    "\n",
    "# Generate training and validation data\n",
    "xi_samples, rng = sample_uniform_forces(42, F_max, num_batch, nvar)\n",
    "xi_val, rng_val = sample_uniform_forces(43, F_max, num_batch, nvar)\n",
    "\n",
    "inp = xi_samples\n",
    "inp_val = xi_val\n",
    "\n",
    "# Using PyTorch Dataloader\n",
    "train_dataset = ForceDataset(inp)\n",
    "val_dataset = ForceDataset(inp_val)\n",
    "\n",
    "train_loader = DataLoader(train_dataset, batch_size=num_batch, shuffle=True, num_workers=0, drop_last=True)\n",
    "val_loader = DataLoader(val_dataset, batch_size=num_batch, shuffle=True, num_workers=0, drop_last=True)\n",
    "\n",
    "# GRU handling\n",
    "gru_input_size = 3 * num_total_constraints + 3 * nvar\n",
    "gru_hidden_size = 512\n",
    "gru_output_size = num_total_constraints + nvar\n",
    "\n",
    "gru_context = CustomGRULayer(gru_input_size, gru_hidden_size, gru_output_size)\n",
    "\n",
    "input_hidden_state_init = np.shape(inp)[1]\n",
    "mid_hidden_state_init = 512\n",
    "out_hidden_state_init = gru_hidden_size\n",
    "\n",
    "gru_init = GRU_Hidden_State(input_hidden_state_init, mid_hidden_state_init, out_hidden_state_init)\n",
    "\n",
    "# MLP setup\n",
    "enc_inp_dim = np.shape(inp)[1] \n",
    "mlp_inp_dim = enc_inp_dim\n",
    "hidden_dim = 1024\n",
    "mlp_out_dim = 2*nvar + num_total_constraints  # xi_samples, lambda_samples, slack_variables\n",
    "\n",
    "mlp = MLP(mlp_inp_dim, hidden_dim, mlp_out_dim)"
   ]
  },
  {
   "cell_type": "code",
   "execution_count": 6,
   "id": "3da8438a",
   "metadata": {},
   "outputs": [
    {
     "name": "stdout",
     "output_type": "stream",
     "text": [
      "Problem dimensions:\n",
      "H matrix shape: torch.Size([120, 120])\n",
      "g vector shape: torch.Size([120])\n",
      "C matrix shape: torch.Size([240, 120])\n",
      "Number of variables: 120\n",
      "Number of constraints: 480\n",
      "Model type: <class 'mlp_quadruped_gru.MLPQuadrupedProjectionFilter'>\n",
      "Number of parameters: 6339624\n"
     ]
    }
   ],
   "source": [
    "# Create the quadruped model\n",
    "model = MLPQuadrupedProjectionFilter(\n",
    "    mlp=mlp,\n",
    "    gru_context=gru_context, \n",
    "    gru_init=gru_init, \n",
    "    num_batch=num_batch,\n",
    "    H=H, \n",
    "    g=g, \n",
    "    C=C, \n",
    "    c_lower=c_lower, \n",
    "    c_upper=c_upper, \n",
    "    maxiter_projection=maxiter_projection,\n",
    "    desired_speed=desired_speed,\n",
    "    desired_twisting_speed=desired_twisting_speed,\n",
    "    desired_body_height=desired_body_height,\n",
    "    body_mass=body_mass,\n",
    "    body_inertia=body_inertia,\n",
    "    num_legs=num_legs,\n",
    "    friction_coeff=friction_coeff,\n",
    "    timestep=timestep,\n",
    "    horizon=horizon).to(device)\n",
    "\n",
    "print(f\"Model type: {type(model)}\")\n",
    "print(f\"Number of parameters: {sum(p.numel() for p in model.parameters())}\")"
   ]
  },
  {
   "cell_type": "code",
   "execution_count": 7,
   "id": "8f9ed5ba",
   "metadata": {},
   "outputs": [
    {
     "name": "stderr",
     "output_type": "stream",
     "text": [
      "Epoch 1/500: 100%|██████████| 1/1 [00:00<00:00,  2.92it/s]\n",
      "Validation: 100%|██████████| 1/1 [00:00<00:00, 50.22it/s]\n"
     ]
    },
    {
     "name": "stdout",
     "output_type": "stream",
     "text": [
      "Epoch: 1\n"
     ]
    },
    {
     "name": "stderr",
     "output_type": "stream",
     "text": [
      "Epoch 2/500: 100%|██████████| 1/1 [00:00<00:00, 23.00it/s]\n",
      "Epoch 3/500: 100%|██████████| 1/1 [00:00<00:00, 24.54it/s]\n",
      "Validation: 100%|██████████| 1/1 [00:00<00:00, 54.96it/s]\n"
     ]
    },
    {
     "name": "stdout",
     "output_type": "stream",
     "text": [
      "Epoch: 3\n"
     ]
    },
    {
     "name": "stderr",
     "output_type": "stream",
     "text": [
      "Epoch 4/500: 100%|██████████| 1/1 [00:00<00:00, 24.76it/s]\n",
      "Epoch 5/500: 100%|██████████| 1/1 [00:00<00:00, 25.70it/s]\n",
      "Validation: 100%|██████████| 1/1 [00:00<00:00, 55.36it/s]\n"
     ]
    },
    {
     "name": "stdout",
     "output_type": "stream",
     "text": [
      "Epoch: 5\n"
     ]
    },
    {
     "name": "stderr",
     "output_type": "stream",
     "text": [
      "Epoch 6/500: 100%|██████████| 1/1 [00:00<00:00, 22.07it/s]\n",
      "Epoch 7/500: 100%|██████████| 1/1 [00:00<00:00, 25.98it/s]\n",
      "Validation: 100%|██████████| 1/1 [00:00<00:00, 58.16it/s]\n"
     ]
    },
    {
     "name": "stdout",
     "output_type": "stream",
     "text": [
      "Epoch: 7\n"
     ]
    },
    {
     "name": "stderr",
     "output_type": "stream",
     "text": [
      "Epoch 8/500: 100%|██████████| 1/1 [00:00<00:00, 24.42it/s]\n",
      "Epoch 9/500: 100%|██████████| 1/1 [00:00<00:00, 22.23it/s]\n",
      "Validation: 100%|██████████| 1/1 [00:00<00:00, 56.36it/s]\n"
     ]
    },
    {
     "name": "stdout",
     "output_type": "stream",
     "text": [
      "Epoch: 9\n"
     ]
    },
    {
     "name": "stderr",
     "output_type": "stream",
     "text": [
      "Epoch 10/500: 100%|██████████| 1/1 [00:00<00:00, 24.77it/s]\n",
      "Epoch 11/500: 100%|██████████| 1/1 [00:00<00:00, 24.55it/s]\n",
      "Validation: 100%|██████████| 1/1 [00:00<00:00, 57.55it/s]\n"
     ]
    },
    {
     "name": "stdout",
     "output_type": "stream",
     "text": [
      "Epoch: 11\n"
     ]
    },
    {
     "name": "stderr",
     "output_type": "stream",
     "text": [
      "Epoch 12/500: 100%|██████████| 1/1 [00:00<00:00, 24.55it/s]\n",
      "Epoch 13/500: 100%|██████████| 1/1 [00:00<00:00, 25.05it/s]\n",
      "Validation: 100%|██████████| 1/1 [00:00<00:00, 57.02it/s]\n"
     ]
    },
    {
     "name": "stdout",
     "output_type": "stream",
     "text": [
      "Epoch: 13\n"
     ]
    },
    {
     "name": "stderr",
     "output_type": "stream",
     "text": [
      "Epoch 14/500: 100%|██████████| 1/1 [00:00<00:00, 24.75it/s]\n",
      "Epoch 15/500: 100%|██████████| 1/1 [00:00<00:00, 24.93it/s]\n",
      "Validation: 100%|██████████| 1/1 [00:00<00:00, 54.33it/s]\n"
     ]
    },
    {
     "name": "stdout",
     "output_type": "stream",
     "text": [
      "Epoch: 15\n"
     ]
    },
    {
     "name": "stderr",
     "output_type": "stream",
     "text": [
      "Epoch 16/500: 100%|██████████| 1/1 [00:00<00:00, 24.59it/s]\n",
      "Epoch 17/500: 100%|██████████| 1/1 [00:00<00:00, 24.44it/s]\n",
      "Validation: 100%|██████████| 1/1 [00:00<00:00, 54.58it/s]\n"
     ]
    },
    {
     "name": "stdout",
     "output_type": "stream",
     "text": [
      "Epoch: 17\n"
     ]
    },
    {
     "name": "stderr",
     "output_type": "stream",
     "text": [
      "Epoch 18/500: 100%|██████████| 1/1 [00:00<00:00, 25.05it/s]\n",
      "Epoch 19/500: 100%|██████████| 1/1 [00:00<00:00, 23.73it/s]\n",
      "Validation: 100%|██████████| 1/1 [00:00<00:00, 41.57it/s]\n"
     ]
    },
    {
     "name": "stdout",
     "output_type": "stream",
     "text": [
      "Epoch: 19\n"
     ]
    },
    {
     "name": "stderr",
     "output_type": "stream",
     "text": [
      "Epoch 20/500: 100%|██████████| 1/1 [00:00<00:00, 20.79it/s]\n",
      "Epoch 21/500: 100%|██████████| 1/1 [00:00<00:00, 25.24it/s]\n",
      "Validation: 100%|██████████| 1/1 [00:00<00:00, 52.84it/s]\n"
     ]
    },
    {
     "name": "stdout",
     "output_type": "stream",
     "text": [
      "Epoch: 21\n"
     ]
    },
    {
     "name": "stderr",
     "output_type": "stream",
     "text": [
      "Epoch 22/500: 100%|██████████| 1/1 [00:00<00:00, 25.14it/s]\n",
      "Epoch 23/500: 100%|██████████| 1/1 [00:00<00:00, 24.53it/s]\n",
      "Validation: 100%|██████████| 1/1 [00:00<00:00, 56.54it/s]\n"
     ]
    },
    {
     "name": "stdout",
     "output_type": "stream",
     "text": [
      "Epoch: 23\n"
     ]
    },
    {
     "name": "stderr",
     "output_type": "stream",
     "text": [
      "Epoch 24/500: 100%|██████████| 1/1 [00:00<00:00, 24.59it/s]\n",
      "Epoch 25/500: 100%|██████████| 1/1 [00:00<00:00, 21.83it/s]\n",
      "Validation: 100%|██████████| 1/1 [00:00<00:00, 54.82it/s]\n"
     ]
    },
    {
     "name": "stdout",
     "output_type": "stream",
     "text": [
      "Epoch: 25\n"
     ]
    },
    {
     "name": "stderr",
     "output_type": "stream",
     "text": [
      "Epoch 26/500: 100%|██████████| 1/1 [00:00<00:00, 23.64it/s]\n",
      "Epoch 27/500: 100%|██████████| 1/1 [00:00<00:00, 24.79it/s]\n",
      "Validation: 100%|██████████| 1/1 [00:00<00:00, 55.03it/s]\n"
     ]
    },
    {
     "name": "stdout",
     "output_type": "stream",
     "text": [
      "Epoch: 27\n"
     ]
    },
    {
     "name": "stderr",
     "output_type": "stream",
     "text": [
      "Epoch 28/500: 100%|██████████| 1/1 [00:00<00:00, 24.36it/s]\n",
      "Epoch 29/500: 100%|██████████| 1/1 [00:00<00:00, 25.00it/s]\n",
      "Validation: 100%|██████████| 1/1 [00:00<00:00, 54.16it/s]\n"
     ]
    },
    {
     "name": "stdout",
     "output_type": "stream",
     "text": [
      "Epoch: 29\n"
     ]
    },
    {
     "name": "stderr",
     "output_type": "stream",
     "text": [
      "Epoch 30/500: 100%|██████████| 1/1 [00:00<00:00, 20.00it/s]\n",
      "Epoch 31/500: 100%|██████████| 1/1 [00:00<00:00, 25.41it/s]\n",
      "Validation: 100%|██████████| 1/1 [00:00<00:00, 55.61it/s]\n"
     ]
    },
    {
     "name": "stdout",
     "output_type": "stream",
     "text": [
      "Epoch: 31\n"
     ]
    },
    {
     "name": "stderr",
     "output_type": "stream",
     "text": [
      "Epoch 32/500: 100%|██████████| 1/1 [00:00<00:00, 23.20it/s]\n",
      "Epoch 33/500: 100%|██████████| 1/1 [00:00<00:00, 23.87it/s]\n",
      "Validation: 100%|██████████| 1/1 [00:00<00:00, 58.47it/s]\n"
     ]
    },
    {
     "name": "stdout",
     "output_type": "stream",
     "text": [
      "Epoch: 33\n"
     ]
    },
    {
     "name": "stderr",
     "output_type": "stream",
     "text": [
      "Epoch 34/500: 100%|██████████| 1/1 [00:00<00:00, 24.13it/s]\n",
      "Epoch 35/500: 100%|██████████| 1/1 [00:00<00:00, 24.84it/s]\n",
      "Validation: 100%|██████████| 1/1 [00:00<00:00, 58.09it/s]\n"
     ]
    },
    {
     "name": "stdout",
     "output_type": "stream",
     "text": [
      "Epoch: 35\n"
     ]
    },
    {
     "name": "stderr",
     "output_type": "stream",
     "text": [
      "Epoch 36/500: 100%|██████████| 1/1 [00:00<00:00, 22.89it/s]\n",
      "Epoch 37/500: 100%|██████████| 1/1 [00:00<00:00, 24.25it/s]\n",
      "Validation: 100%|██████████| 1/1 [00:00<00:00, 56.07it/s]\n"
     ]
    },
    {
     "name": "stdout",
     "output_type": "stream",
     "text": [
      "Epoch: 37\n"
     ]
    },
    {
     "name": "stderr",
     "output_type": "stream",
     "text": [
      "Epoch 38/500: 100%|██████████| 1/1 [00:00<00:00, 24.69it/s]\n",
      "Epoch 39/500: 100%|██████████| 1/1 [00:00<00:00, 25.08it/s]\n",
      "Validation: 100%|██████████| 1/1 [00:00<00:00, 54.04it/s]\n"
     ]
    },
    {
     "name": "stdout",
     "output_type": "stream",
     "text": [
      "Epoch: 39\n"
     ]
    },
    {
     "name": "stderr",
     "output_type": "stream",
     "text": [
      "Epoch 40/500: 100%|██████████| 1/1 [00:00<00:00, 25.51it/s]\n",
      "Epoch 41/500: 100%|██████████| 1/1 [00:00<00:00, 24.91it/s]\n",
      "Validation: 100%|██████████| 1/1 [00:00<00:00, 58.31it/s]\n"
     ]
    },
    {
     "name": "stdout",
     "output_type": "stream",
     "text": [
      "Epoch: 41\n"
     ]
    },
    {
     "name": "stderr",
     "output_type": "stream",
     "text": [
      "Epoch 42/500: 100%|██████████| 1/1 [00:00<00:00, 24.59it/s]\n",
      "Epoch 43/500: 100%|██████████| 1/1 [00:00<00:00, 24.62it/s]\n",
      "Validation: 100%|██████████| 1/1 [00:00<00:00, 51.69it/s]\n"
     ]
    },
    {
     "name": "stdout",
     "output_type": "stream",
     "text": [
      "Epoch: 43\n"
     ]
    },
    {
     "name": "stderr",
     "output_type": "stream",
     "text": [
      "Epoch 44/500: 100%|██████████| 1/1 [00:00<00:00, 24.11it/s]\n",
      "Epoch 45/500: 100%|██████████| 1/1 [00:00<00:00, 24.47it/s]\n",
      "Validation: 100%|██████████| 1/1 [00:00<00:00, 41.41it/s]\n"
     ]
    },
    {
     "name": "stdout",
     "output_type": "stream",
     "text": [
      "Epoch: 45\n"
     ]
    },
    {
     "name": "stderr",
     "output_type": "stream",
     "text": [
      "Epoch 46/500: 100%|██████████| 1/1 [00:00<00:00, 24.68it/s]\n",
      "Epoch 47/500: 100%|██████████| 1/1 [00:00<00:00, 24.87it/s]\n",
      "Validation: 100%|██████████| 1/1 [00:00<00:00, 52.73it/s]\n"
     ]
    },
    {
     "name": "stdout",
     "output_type": "stream",
     "text": [
      "Epoch: 47\n"
     ]
    },
    {
     "name": "stderr",
     "output_type": "stream",
     "text": [
      "Epoch 48/500: 100%|██████████| 1/1 [00:00<00:00, 23.87it/s]\n",
      "Epoch 49/500: 100%|██████████| 1/1 [00:00<00:00, 25.52it/s]\n",
      "Validation: 100%|██████████| 1/1 [00:00<00:00, 57.20it/s]\n"
     ]
    },
    {
     "name": "stdout",
     "output_type": "stream",
     "text": [
      "Epoch: 49\n"
     ]
    },
    {
     "name": "stderr",
     "output_type": "stream",
     "text": [
      "Epoch 50/500: 100%|██████████| 1/1 [00:00<00:00, 23.50it/s]\n",
      "Epoch 51/500: 100%|██████████| 1/1 [00:00<00:00, 23.88it/s]\n",
      "Validation: 100%|██████████| 1/1 [00:00<00:00, 49.48it/s]\n"
     ]
    },
    {
     "name": "stdout",
     "output_type": "stream",
     "text": [
      "Epoch: 51\n"
     ]
    },
    {
     "name": "stderr",
     "output_type": "stream",
     "text": [
      "Epoch 52/500: 100%|██████████| 1/1 [00:00<00:00, 25.59it/s]\n",
      "Epoch 53/500: 100%|██████████| 1/1 [00:00<00:00, 25.95it/s]\n",
      "Validation: 100%|██████████| 1/1 [00:00<00:00, 57.01it/s]\n"
     ]
    },
    {
     "name": "stdout",
     "output_type": "stream",
     "text": [
      "Epoch: 53\n"
     ]
    },
    {
     "name": "stderr",
     "output_type": "stream",
     "text": [
      "Epoch 54/500: 100%|██████████| 1/1 [00:00<00:00, 24.97it/s]\n",
      "Epoch 55/500: 100%|██████████| 1/1 [00:00<00:00, 25.09it/s]\n",
      "Validation: 100%|██████████| 1/1 [00:00<00:00, 43.33it/s]\n"
     ]
    },
    {
     "name": "stdout",
     "output_type": "stream",
     "text": [
      "Epoch: 55\n"
     ]
    },
    {
     "name": "stderr",
     "output_type": "stream",
     "text": [
      "Epoch 56/500: 100%|██████████| 1/1 [00:00<00:00, 23.63it/s]\n",
      "Epoch 57/500: 100%|██████████| 1/1 [00:00<00:00, 24.79it/s]\n",
      "Validation: 100%|██████████| 1/1 [00:00<00:00, 58.06it/s]\n"
     ]
    },
    {
     "name": "stdout",
     "output_type": "stream",
     "text": [
      "Epoch: 57\n"
     ]
    },
    {
     "name": "stderr",
     "output_type": "stream",
     "text": [
      "Epoch 58/500: 100%|██████████| 1/1 [00:00<00:00, 25.24it/s]\n",
      "Epoch 59/500: 100%|██████████| 1/1 [00:00<00:00, 24.43it/s]\n",
      "Validation: 100%|██████████| 1/1 [00:00<00:00, 57.83it/s]\n"
     ]
    },
    {
     "name": "stdout",
     "output_type": "stream",
     "text": [
      "Epoch: 59\n"
     ]
    },
    {
     "name": "stderr",
     "output_type": "stream",
     "text": [
      "Epoch 60/500: 100%|██████████| 1/1 [00:00<00:00, 25.67it/s]\n",
      "Epoch 61/500: 100%|██████████| 1/1 [00:00<00:00, 26.12it/s]\n",
      "Validation: 100%|██████████| 1/1 [00:00<00:00, 54.65it/s]\n"
     ]
    },
    {
     "name": "stdout",
     "output_type": "stream",
     "text": [
      "Epoch: 61\n"
     ]
    },
    {
     "name": "stderr",
     "output_type": "stream",
     "text": [
      "Epoch 62/500: 100%|██████████| 1/1 [00:00<00:00, 25.65it/s]\n",
      "Epoch 63/500: 100%|██████████| 1/1 [00:00<00:00, 24.21it/s]\n",
      "Validation: 100%|██████████| 1/1 [00:00<00:00, 49.18it/s]\n"
     ]
    },
    {
     "name": "stdout",
     "output_type": "stream",
     "text": [
      "Epoch: 63\n"
     ]
    },
    {
     "name": "stderr",
     "output_type": "stream",
     "text": [
      "Epoch 64/500: 100%|██████████| 1/1 [00:00<00:00, 24.30it/s]\n",
      "Epoch 65/500: 100%|██████████| 1/1 [00:00<00:00, 21.76it/s]\n",
      "Validation: 100%|██████████| 1/1 [00:00<00:00, 55.60it/s]\n"
     ]
    },
    {
     "name": "stdout",
     "output_type": "stream",
     "text": [
      "Epoch: 65\n"
     ]
    },
    {
     "name": "stderr",
     "output_type": "stream",
     "text": [
      "Epoch 66/500: 100%|██████████| 1/1 [00:00<00:00, 24.60it/s]\n",
      "Epoch 67/500: 100%|██████████| 1/1 [00:00<00:00, 24.93it/s]\n",
      "Validation: 100%|██████████| 1/1 [00:00<00:00, 53.43it/s]\n"
     ]
    },
    {
     "name": "stdout",
     "output_type": "stream",
     "text": [
      "Epoch: 67\n"
     ]
    },
    {
     "name": "stderr",
     "output_type": "stream",
     "text": [
      "Epoch 68/500: 100%|██████████| 1/1 [00:00<00:00, 25.34it/s]\n",
      "Epoch 69/500: 100%|██████████| 1/1 [00:00<00:00, 26.36it/s]\n",
      "Validation: 100%|██████████| 1/1 [00:00<00:00, 58.34it/s]\n"
     ]
    },
    {
     "name": "stdout",
     "output_type": "stream",
     "text": [
      "Epoch: 69\n"
     ]
    },
    {
     "name": "stderr",
     "output_type": "stream",
     "text": [
      "Epoch 70/500: 100%|██████████| 1/1 [00:00<00:00, 20.98it/s]\n",
      "Epoch 71/500: 100%|██████████| 1/1 [00:00<00:00, 23.94it/s]\n",
      "Validation: 100%|██████████| 1/1 [00:00<00:00, 55.07it/s]\n"
     ]
    },
    {
     "name": "stdout",
     "output_type": "stream",
     "text": [
      "Epoch: 71\n"
     ]
    },
    {
     "name": "stderr",
     "output_type": "stream",
     "text": [
      "Epoch 72/500: 100%|██████████| 1/1 [00:00<00:00, 24.64it/s]\n",
      "Epoch 73/500: 100%|██████████| 1/1 [00:00<00:00, 25.55it/s]\n",
      "Validation: 100%|██████████| 1/1 [00:00<00:00, 55.43it/s]\n"
     ]
    },
    {
     "name": "stdout",
     "output_type": "stream",
     "text": [
      "Epoch: 73\n"
     ]
    },
    {
     "name": "stderr",
     "output_type": "stream",
     "text": [
      "Epoch 74/500: 100%|██████████| 1/1 [00:00<00:00, 24.83it/s]\n",
      "Epoch 75/500: 100%|██████████| 1/1 [00:00<00:00, 22.27it/s]\n",
      "Validation: 100%|██████████| 1/1 [00:00<00:00, 55.94it/s]\n"
     ]
    },
    {
     "name": "stdout",
     "output_type": "stream",
     "text": [
      "Epoch: 75\n"
     ]
    },
    {
     "name": "stderr",
     "output_type": "stream",
     "text": [
      "Epoch 76/500: 100%|██████████| 1/1 [00:00<00:00, 21.25it/s]\n",
      "Epoch 77/500: 100%|██████████| 1/1 [00:00<00:00, 23.41it/s]\n",
      "Validation: 100%|██████████| 1/1 [00:00<00:00, 56.22it/s]\n"
     ]
    },
    {
     "name": "stdout",
     "output_type": "stream",
     "text": [
      "Epoch: 77\n"
     ]
    },
    {
     "name": "stderr",
     "output_type": "stream",
     "text": [
      "Epoch 78/500: 100%|██████████| 1/1 [00:00<00:00, 24.54it/s]\n",
      "Epoch 79/500: 100%|██████████| 1/1 [00:00<00:00, 25.50it/s]\n",
      "Validation: 100%|██████████| 1/1 [00:00<00:00, 53.84it/s]\n"
     ]
    },
    {
     "name": "stdout",
     "output_type": "stream",
     "text": [
      "Epoch: 79\n"
     ]
    },
    {
     "name": "stderr",
     "output_type": "stream",
     "text": [
      "Epoch 80/500: 100%|██████████| 1/1 [00:00<00:00, 23.24it/s]\n",
      "Epoch 81/500: 100%|██████████| 1/1 [00:00<00:00, 23.04it/s]\n",
      "Validation: 100%|██████████| 1/1 [00:00<00:00, 53.19it/s]\n"
     ]
    },
    {
     "name": "stdout",
     "output_type": "stream",
     "text": [
      "Epoch: 81\n"
     ]
    },
    {
     "name": "stderr",
     "output_type": "stream",
     "text": [
      "Epoch 82/500: 100%|██████████| 1/1 [00:00<00:00, 25.95it/s]\n",
      "Epoch 83/500: 100%|██████████| 1/1 [00:00<00:00, 23.22it/s]\n",
      "Validation: 100%|██████████| 1/1 [00:00<00:00, 55.08it/s]\n"
     ]
    },
    {
     "name": "stdout",
     "output_type": "stream",
     "text": [
      "Epoch: 83\n"
     ]
    },
    {
     "name": "stderr",
     "output_type": "stream",
     "text": [
      "Epoch 84/500: 100%|██████████| 1/1 [00:00<00:00, 23.15it/s]\n",
      "Epoch 85/500: 100%|██████████| 1/1 [00:00<00:00, 24.57it/s]\n",
      "Validation: 100%|██████████| 1/1 [00:00<00:00, 54.03it/s]\n"
     ]
    },
    {
     "name": "stdout",
     "output_type": "stream",
     "text": [
      "Epoch: 85\n"
     ]
    },
    {
     "name": "stderr",
     "output_type": "stream",
     "text": [
      "Epoch 86/500: 100%|██████████| 1/1 [00:00<00:00, 25.38it/s]\n",
      "Epoch 87/500: 100%|██████████| 1/1 [00:00<00:00, 24.37it/s]\n",
      "Validation: 100%|██████████| 1/1 [00:00<00:00, 46.19it/s]\n"
     ]
    },
    {
     "name": "stdout",
     "output_type": "stream",
     "text": [
      "Epoch: 87\n"
     ]
    },
    {
     "name": "stderr",
     "output_type": "stream",
     "text": [
      "Epoch 88/500: 100%|██████████| 1/1 [00:00<00:00, 24.42it/s]\n",
      "Epoch 89/500: 100%|██████████| 1/1 [00:00<00:00, 25.45it/s]\n",
      "Validation: 100%|██████████| 1/1 [00:00<00:00, 56.02it/s]\n"
     ]
    },
    {
     "name": "stdout",
     "output_type": "stream",
     "text": [
      "Epoch: 89\n"
     ]
    },
    {
     "name": "stderr",
     "output_type": "stream",
     "text": [
      "Epoch 90/500: 100%|██████████| 1/1 [00:00<00:00, 24.09it/s]\n",
      "Epoch 91/500: 100%|██████████| 1/1 [00:00<00:00, 25.24it/s]\n",
      "Validation: 100%|██████████| 1/1 [00:00<00:00, 52.64it/s]\n"
     ]
    },
    {
     "name": "stdout",
     "output_type": "stream",
     "text": [
      "Epoch: 91\n"
     ]
    },
    {
     "name": "stderr",
     "output_type": "stream",
     "text": [
      "Epoch 92/500: 100%|██████████| 1/1 [00:00<00:00, 25.29it/s]\n",
      "Epoch 93/500: 100%|██████████| 1/1 [00:00<00:00, 25.15it/s]\n",
      "Validation: 100%|██████████| 1/1 [00:00<00:00, 56.11it/s]\n"
     ]
    },
    {
     "name": "stdout",
     "output_type": "stream",
     "text": [
      "Epoch: 93\n"
     ]
    },
    {
     "name": "stderr",
     "output_type": "stream",
     "text": [
      "Epoch 94/500: 100%|██████████| 1/1 [00:00<00:00, 23.46it/s]\n",
      "Epoch 95/500: 100%|██████████| 1/1 [00:00<00:00, 23.99it/s]\n",
      "Validation: 100%|██████████| 1/1 [00:00<00:00, 54.16it/s]\n"
     ]
    },
    {
     "name": "stdout",
     "output_type": "stream",
     "text": [
      "Epoch: 95\n"
     ]
    },
    {
     "name": "stderr",
     "output_type": "stream",
     "text": [
      "Epoch 96/500: 100%|██████████| 1/1 [00:00<00:00, 23.74it/s]\n",
      "Epoch 97/500: 100%|██████████| 1/1 [00:00<00:00, 25.15it/s]\n",
      "Validation: 100%|██████████| 1/1 [00:00<00:00, 56.13it/s]\n"
     ]
    },
    {
     "name": "stdout",
     "output_type": "stream",
     "text": [
      "Epoch: 97\n"
     ]
    },
    {
     "name": "stderr",
     "output_type": "stream",
     "text": [
      "Epoch 98/500: 100%|██████████| 1/1 [00:00<00:00, 24.66it/s]\n",
      "Epoch 99/500: 100%|██████████| 1/1 [00:00<00:00, 24.36it/s]\n",
      "Validation: 100%|██████████| 1/1 [00:00<00:00, 56.45it/s]\n"
     ]
    },
    {
     "name": "stdout",
     "output_type": "stream",
     "text": [
      "Epoch: 99\n"
     ]
    },
    {
     "name": "stderr",
     "output_type": "stream",
     "text": [
      "Epoch 100/500: 100%|██████████| 1/1 [00:00<00:00, 25.41it/s]\n",
      "Epoch 101/500: 100%|██████████| 1/1 [00:00<00:00, 22.04it/s]\n",
      "Validation: 100%|██████████| 1/1 [00:00<00:00, 58.82it/s]\n"
     ]
    },
    {
     "name": "stdout",
     "output_type": "stream",
     "text": [
      "Epoch: 101\n"
     ]
    },
    {
     "name": "stderr",
     "output_type": "stream",
     "text": [
      "Epoch 102/500: 100%|██████████| 1/1 [00:00<00:00, 25.63it/s]\n",
      "Epoch 103/500: 100%|██████████| 1/1 [00:00<00:00, 23.89it/s]\n",
      "Validation: 100%|██████████| 1/1 [00:00<00:00, 54.00it/s]\n"
     ]
    },
    {
     "name": "stdout",
     "output_type": "stream",
     "text": [
      "Epoch: 103\n"
     ]
    },
    {
     "name": "stderr",
     "output_type": "stream",
     "text": [
      "Epoch 104/500: 100%|██████████| 1/1 [00:00<00:00, 25.15it/s]\n",
      "Epoch 105/500: 100%|██████████| 1/1 [00:00<00:00, 23.58it/s]\n",
      "Validation: 100%|██████████| 1/1 [00:00<00:00, 57.68it/s]\n"
     ]
    },
    {
     "name": "stdout",
     "output_type": "stream",
     "text": [
      "Epoch: 105\n"
     ]
    },
    {
     "name": "stderr",
     "output_type": "stream",
     "text": [
      "Epoch 106/500: 100%|██████████| 1/1 [00:00<00:00, 25.40it/s]\n",
      "Epoch 107/500: 100%|██████████| 1/1 [00:00<00:00, 25.07it/s]\n",
      "Validation: 100%|██████████| 1/1 [00:00<00:00, 56.72it/s]\n"
     ]
    },
    {
     "name": "stdout",
     "output_type": "stream",
     "text": [
      "Epoch: 107\n"
     ]
    },
    {
     "name": "stderr",
     "output_type": "stream",
     "text": [
      "Epoch 108/500: 100%|██████████| 1/1 [00:00<00:00, 24.50it/s]\n",
      "Epoch 109/500: 100%|██████████| 1/1 [00:00<00:00, 23.64it/s]\n",
      "Validation: 100%|██████████| 1/1 [00:00<00:00, 57.72it/s]\n"
     ]
    },
    {
     "name": "stdout",
     "output_type": "stream",
     "text": [
      "Epoch: 109\n"
     ]
    },
    {
     "name": "stderr",
     "output_type": "stream",
     "text": [
      "Epoch 110/500: 100%|██████████| 1/1 [00:00<00:00, 24.39it/s]\n",
      "Epoch 111/500: 100%|██████████| 1/1 [00:00<00:00, 23.03it/s]\n",
      "Validation: 100%|██████████| 1/1 [00:00<00:00, 53.24it/s]\n"
     ]
    },
    {
     "name": "stdout",
     "output_type": "stream",
     "text": [
      "Epoch: 111\n"
     ]
    },
    {
     "name": "stderr",
     "output_type": "stream",
     "text": [
      "Epoch 112/500: 100%|██████████| 1/1 [00:00<00:00, 23.08it/s]\n",
      "Epoch 113/500: 100%|██████████| 1/1 [00:00<00:00, 25.49it/s]\n",
      "Validation: 100%|██████████| 1/1 [00:00<00:00, 54.11it/s]\n"
     ]
    },
    {
     "name": "stdout",
     "output_type": "stream",
     "text": [
      "Epoch: 113\n"
     ]
    },
    {
     "name": "stderr",
     "output_type": "stream",
     "text": [
      "Epoch 114/500: 100%|██████████| 1/1 [00:00<00:00, 23.95it/s]\n",
      "Epoch 115/500: 100%|██████████| 1/1 [00:00<00:00, 25.72it/s]\n",
      "Validation: 100%|██████████| 1/1 [00:00<00:00, 55.48it/s]\n"
     ]
    },
    {
     "name": "stdout",
     "output_type": "stream",
     "text": [
      "Epoch: 115\n"
     ]
    },
    {
     "name": "stderr",
     "output_type": "stream",
     "text": [
      "Epoch 116/500: 100%|██████████| 1/1 [00:00<00:00, 21.85it/s]\n",
      "Epoch 117/500: 100%|██████████| 1/1 [00:00<00:00, 25.10it/s]\n",
      "Validation: 100%|██████████| 1/1 [00:00<00:00, 56.67it/s]\n"
     ]
    },
    {
     "name": "stdout",
     "output_type": "stream",
     "text": [
      "Epoch: 117\n"
     ]
    },
    {
     "name": "stderr",
     "output_type": "stream",
     "text": [
      "Epoch 118/500: 100%|██████████| 1/1 [00:00<00:00, 23.53it/s]\n",
      "Epoch 119/500: 100%|██████████| 1/1 [00:00<00:00, 24.68it/s]\n",
      "Validation: 100%|██████████| 1/1 [00:00<00:00, 53.85it/s]\n"
     ]
    },
    {
     "name": "stdout",
     "output_type": "stream",
     "text": [
      "Epoch: 119\n"
     ]
    },
    {
     "name": "stderr",
     "output_type": "stream",
     "text": [
      "Epoch 120/500: 100%|██████████| 1/1 [00:00<00:00, 24.42it/s]\n",
      "Epoch 121/500: 100%|██████████| 1/1 [00:00<00:00, 24.83it/s]\n",
      "Validation: 100%|██████████| 1/1 [00:00<00:00, 41.81it/s]\n"
     ]
    },
    {
     "name": "stdout",
     "output_type": "stream",
     "text": [
      "Epoch: 121\n"
     ]
    },
    {
     "name": "stderr",
     "output_type": "stream",
     "text": [
      "Epoch 122/500: 100%|██████████| 1/1 [00:00<00:00, 24.50it/s]\n",
      "Epoch 123/500: 100%|██████████| 1/1 [00:00<00:00, 25.66it/s]\n",
      "Validation: 100%|██████████| 1/1 [00:00<00:00, 48.70it/s]\n"
     ]
    },
    {
     "name": "stdout",
     "output_type": "stream",
     "text": [
      "Epoch: 123\n"
     ]
    },
    {
     "name": "stderr",
     "output_type": "stream",
     "text": [
      "Epoch 124/500: 100%|██████████| 1/1 [00:00<00:00, 25.61it/s]\n",
      "Epoch 125/500: 100%|██████████| 1/1 [00:00<00:00, 24.22it/s]\n",
      "Validation: 100%|██████████| 1/1 [00:00<00:00, 53.83it/s]\n"
     ]
    },
    {
     "name": "stdout",
     "output_type": "stream",
     "text": [
      "Epoch: 125\n"
     ]
    },
    {
     "name": "stderr",
     "output_type": "stream",
     "text": [
      "Epoch 126/500: 100%|██████████| 1/1 [00:00<00:00, 24.61it/s]\n",
      "Epoch 127/500: 100%|██████████| 1/1 [00:00<00:00, 24.98it/s]\n",
      "Validation: 100%|██████████| 1/1 [00:00<00:00, 46.53it/s]\n"
     ]
    },
    {
     "name": "stdout",
     "output_type": "stream",
     "text": [
      "Epoch: 127\n"
     ]
    },
    {
     "name": "stderr",
     "output_type": "stream",
     "text": [
      "Epoch 128/500: 100%|██████████| 1/1 [00:00<00:00, 21.33it/s]\n",
      "Epoch 129/500: 100%|██████████| 1/1 [00:00<00:00, 23.73it/s]\n",
      "Validation: 100%|██████████| 1/1 [00:00<00:00, 52.62it/s]\n"
     ]
    },
    {
     "name": "stdout",
     "output_type": "stream",
     "text": [
      "Epoch: 129\n"
     ]
    },
    {
     "name": "stderr",
     "output_type": "stream",
     "text": [
      "Epoch 130/500: 100%|██████████| 1/1 [00:00<00:00, 24.67it/s]\n",
      "Epoch 131/500: 100%|██████████| 1/1 [00:00<00:00, 24.37it/s]\n",
      "Validation: 100%|██████████| 1/1 [00:00<00:00, 48.70it/s]\n"
     ]
    },
    {
     "name": "stdout",
     "output_type": "stream",
     "text": [
      "Epoch: 131\n"
     ]
    },
    {
     "name": "stderr",
     "output_type": "stream",
     "text": [
      "Epoch 132/500: 100%|██████████| 1/1 [00:00<00:00, 23.09it/s]\n",
      "Epoch 133/500: 100%|██████████| 1/1 [00:00<00:00, 24.75it/s]\n",
      "Validation: 100%|██████████| 1/1 [00:00<00:00, 55.31it/s]\n"
     ]
    },
    {
     "name": "stdout",
     "output_type": "stream",
     "text": [
      "Epoch: 133\n"
     ]
    },
    {
     "name": "stderr",
     "output_type": "stream",
     "text": [
      "Epoch 134/500: 100%|██████████| 1/1 [00:00<00:00, 22.70it/s]\n",
      "Epoch 135/500: 100%|██████████| 1/1 [00:00<00:00, 24.68it/s]\n",
      "Validation: 100%|██████████| 1/1 [00:00<00:00, 56.03it/s]\n"
     ]
    },
    {
     "name": "stdout",
     "output_type": "stream",
     "text": [
      "Epoch: 135\n"
     ]
    },
    {
     "name": "stderr",
     "output_type": "stream",
     "text": [
      "Epoch 136/500: 100%|██████████| 1/1 [00:00<00:00, 23.90it/s]\n",
      "Epoch 137/500: 100%|██████████| 1/1 [00:00<00:00, 23.76it/s]\n",
      "Validation: 100%|██████████| 1/1 [00:00<00:00, 54.11it/s]\n"
     ]
    },
    {
     "name": "stdout",
     "output_type": "stream",
     "text": [
      "Epoch: 137\n"
     ]
    },
    {
     "name": "stderr",
     "output_type": "stream",
     "text": [
      "Epoch 138/500: 100%|██████████| 1/1 [00:00<00:00, 24.92it/s]\n",
      "Epoch 139/500: 100%|██████████| 1/1 [00:00<00:00, 24.82it/s]\n",
      "Validation: 100%|██████████| 1/1 [00:00<00:00, 54.08it/s]\n"
     ]
    },
    {
     "name": "stdout",
     "output_type": "stream",
     "text": [
      "Epoch: 139\n"
     ]
    },
    {
     "name": "stderr",
     "output_type": "stream",
     "text": [
      "Epoch 140/500: 100%|██████████| 1/1 [00:00<00:00, 23.15it/s]\n",
      "Epoch 141/500: 100%|██████████| 1/1 [00:00<00:00, 21.82it/s]\n",
      "Validation: 100%|██████████| 1/1 [00:00<00:00, 53.10it/s]\n"
     ]
    },
    {
     "name": "stdout",
     "output_type": "stream",
     "text": [
      "Epoch: 141\n"
     ]
    },
    {
     "name": "stderr",
     "output_type": "stream",
     "text": [
      "Epoch 142/500: 100%|██████████| 1/1 [00:00<00:00, 22.24it/s]\n",
      "Epoch 143/500: 100%|██████████| 1/1 [00:00<00:00, 24.01it/s]\n",
      "Validation: 100%|██████████| 1/1 [00:00<00:00, 43.55it/s]\n"
     ]
    },
    {
     "name": "stdout",
     "output_type": "stream",
     "text": [
      "Epoch: 143\n"
     ]
    },
    {
     "name": "stderr",
     "output_type": "stream",
     "text": [
      "Epoch 144/500: 100%|██████████| 1/1 [00:00<00:00, 24.21it/s]\n",
      "Epoch 145/500: 100%|██████████| 1/1 [00:00<00:00, 24.93it/s]\n",
      "Validation: 100%|██████████| 1/1 [00:00<00:00, 53.74it/s]\n"
     ]
    },
    {
     "name": "stdout",
     "output_type": "stream",
     "text": [
      "Epoch: 145\n"
     ]
    },
    {
     "name": "stderr",
     "output_type": "stream",
     "text": [
      "Epoch 146/500: 100%|██████████| 1/1 [00:00<00:00, 23.45it/s]\n",
      "Epoch 147/500: 100%|██████████| 1/1 [00:00<00:00, 21.09it/s]\n",
      "Validation: 100%|██████████| 1/1 [00:00<00:00, 48.32it/s]\n"
     ]
    },
    {
     "name": "stdout",
     "output_type": "stream",
     "text": [
      "Epoch: 147\n"
     ]
    },
    {
     "name": "stderr",
     "output_type": "stream",
     "text": [
      "Epoch 148/500: 100%|██████████| 1/1 [00:00<00:00, 24.21it/s]\n",
      "Epoch 149/500: 100%|██████████| 1/1 [00:00<00:00, 22.33it/s]\n",
      "Validation: 100%|██████████| 1/1 [00:00<00:00, 54.35it/s]\n"
     ]
    },
    {
     "name": "stdout",
     "output_type": "stream",
     "text": [
      "Epoch: 149\n"
     ]
    },
    {
     "name": "stderr",
     "output_type": "stream",
     "text": [
      "Epoch 150/500: 100%|██████████| 1/1 [00:00<00:00, 22.85it/s]\n",
      "Epoch 151/500: 100%|██████████| 1/1 [00:00<00:00, 25.24it/s]\n",
      "Validation: 100%|██████████| 1/1 [00:00<00:00, 59.04it/s]\n"
     ]
    },
    {
     "name": "stdout",
     "output_type": "stream",
     "text": [
      "Epoch: 151\n"
     ]
    },
    {
     "name": "stderr",
     "output_type": "stream",
     "text": [
      "Epoch 152/500: 100%|██████████| 1/1 [00:00<00:00, 24.80it/s]\n",
      "Epoch 153/500: 100%|██████████| 1/1 [00:00<00:00, 23.83it/s]\n",
      "Validation: 100%|██████████| 1/1 [00:00<00:00, 52.78it/s]\n"
     ]
    },
    {
     "name": "stdout",
     "output_type": "stream",
     "text": [
      "Epoch: 153\n"
     ]
    },
    {
     "name": "stderr",
     "output_type": "stream",
     "text": [
      "Epoch 154/500: 100%|██████████| 1/1 [00:00<00:00, 25.21it/s]\n",
      "Epoch 155/500: 100%|██████████| 1/1 [00:00<00:00, 25.58it/s]\n",
      "Validation: 100%|██████████| 1/1 [00:00<00:00, 48.81it/s]\n"
     ]
    },
    {
     "name": "stdout",
     "output_type": "stream",
     "text": [
      "Epoch: 155\n"
     ]
    },
    {
     "name": "stderr",
     "output_type": "stream",
     "text": [
      "Epoch 156/500: 100%|██████████| 1/1 [00:00<00:00, 24.05it/s]\n",
      "Epoch 157/500: 100%|██████████| 1/1 [00:00<00:00, 24.43it/s]\n",
      "Validation: 100%|██████████| 1/1 [00:00<00:00, 55.33it/s]\n"
     ]
    },
    {
     "name": "stdout",
     "output_type": "stream",
     "text": [
      "Epoch: 157\n"
     ]
    },
    {
     "name": "stderr",
     "output_type": "stream",
     "text": [
      "Epoch 158/500: 100%|██████████| 1/1 [00:00<00:00, 24.89it/s]\n",
      "Epoch 159/500: 100%|██████████| 1/1 [00:00<00:00, 24.81it/s]\n",
      "Validation: 100%|██████████| 1/1 [00:00<00:00, 52.50it/s]\n"
     ]
    },
    {
     "name": "stdout",
     "output_type": "stream",
     "text": [
      "Epoch: 159\n"
     ]
    },
    {
     "name": "stderr",
     "output_type": "stream",
     "text": [
      "Epoch 160/500: 100%|██████████| 1/1 [00:00<00:00, 25.54it/s]\n",
      "Epoch 161/500: 100%|██████████| 1/1 [00:00<00:00, 25.72it/s]\n",
      "Validation: 100%|██████████| 1/1 [00:00<00:00, 56.59it/s]\n"
     ]
    },
    {
     "name": "stdout",
     "output_type": "stream",
     "text": [
      "Epoch: 161\n"
     ]
    },
    {
     "name": "stderr",
     "output_type": "stream",
     "text": [
      "Epoch 162/500: 100%|██████████| 1/1 [00:00<00:00, 24.77it/s]\n",
      "Epoch 163/500: 100%|██████████| 1/1 [00:00<00:00, 22.87it/s]\n",
      "Validation: 100%|██████████| 1/1 [00:00<00:00, 55.98it/s]\n"
     ]
    },
    {
     "name": "stdout",
     "output_type": "stream",
     "text": [
      "Epoch: 163\n"
     ]
    },
    {
     "name": "stderr",
     "output_type": "stream",
     "text": [
      "Epoch 164/500: 100%|██████████| 1/1 [00:00<00:00, 24.95it/s]\n",
      "Epoch 165/500: 100%|██████████| 1/1 [00:00<00:00, 24.23it/s]\n",
      "Validation: 100%|██████████| 1/1 [00:00<00:00, 54.06it/s]\n"
     ]
    },
    {
     "name": "stdout",
     "output_type": "stream",
     "text": [
      "Epoch: 165\n"
     ]
    },
    {
     "name": "stderr",
     "output_type": "stream",
     "text": [
      "Epoch 166/500: 100%|██████████| 1/1 [00:00<00:00, 24.44it/s]\n",
      "Epoch 167/500: 100%|██████████| 1/1 [00:00<00:00, 24.84it/s]\n",
      "Validation: 100%|██████████| 1/1 [00:00<00:00, 56.99it/s]\n"
     ]
    },
    {
     "name": "stdout",
     "output_type": "stream",
     "text": [
      "Epoch: 167\n"
     ]
    },
    {
     "name": "stderr",
     "output_type": "stream",
     "text": [
      "Epoch 168/500: 100%|██████████| 1/1 [00:00<00:00, 22.66it/s]\n",
      "Epoch 169/500: 100%|██████████| 1/1 [00:00<00:00, 25.54it/s]\n",
      "Validation: 100%|██████████| 1/1 [00:00<00:00, 59.42it/s]\n"
     ]
    },
    {
     "name": "stdout",
     "output_type": "stream",
     "text": [
      "Epoch: 169\n"
     ]
    },
    {
     "name": "stderr",
     "output_type": "stream",
     "text": [
      "Epoch 170/500: 100%|██████████| 1/1 [00:00<00:00, 25.29it/s]\n",
      "Epoch 171/500: 100%|██████████| 1/1 [00:00<00:00, 25.42it/s]\n",
      "Validation: 100%|██████████| 1/1 [00:00<00:00, 56.11it/s]\n"
     ]
    },
    {
     "name": "stdout",
     "output_type": "stream",
     "text": [
      "Epoch: 171\n"
     ]
    },
    {
     "name": "stderr",
     "output_type": "stream",
     "text": [
      "Epoch 172/500: 100%|██████████| 1/1 [00:00<00:00, 25.12it/s]\n",
      "Epoch 173/500: 100%|██████████| 1/1 [00:00<00:00, 24.24it/s]\n",
      "Validation: 100%|██████████| 1/1 [00:00<00:00, 53.03it/s]\n"
     ]
    },
    {
     "name": "stdout",
     "output_type": "stream",
     "text": [
      "Epoch: 173\n"
     ]
    },
    {
     "name": "stderr",
     "output_type": "stream",
     "text": [
      "Epoch 174/500: 100%|██████████| 1/1 [00:00<00:00, 23.13it/s]\n",
      "Epoch 175/500: 100%|██████████| 1/1 [00:00<00:00, 24.13it/s]\n",
      "Validation: 100%|██████████| 1/1 [00:00<00:00, 59.53it/s]\n"
     ]
    },
    {
     "name": "stdout",
     "output_type": "stream",
     "text": [
      "Epoch: 175\n"
     ]
    },
    {
     "name": "stderr",
     "output_type": "stream",
     "text": [
      "Epoch 176/500: 100%|██████████| 1/1 [00:00<00:00, 25.13it/s]\n",
      "Epoch 177/500: 100%|██████████| 1/1 [00:00<00:00, 25.01it/s]\n",
      "Validation: 100%|██████████| 1/1 [00:00<00:00, 53.92it/s]\n"
     ]
    },
    {
     "name": "stdout",
     "output_type": "stream",
     "text": [
      "Epoch: 177\n"
     ]
    },
    {
     "name": "stderr",
     "output_type": "stream",
     "text": [
      "Epoch 178/500: 100%|██████████| 1/1 [00:00<00:00, 23.25it/s]\n",
      "Epoch 179/500: 100%|██████████| 1/1 [00:00<00:00, 25.24it/s]\n",
      "Validation: 100%|██████████| 1/1 [00:00<00:00, 54.95it/s]\n"
     ]
    },
    {
     "name": "stdout",
     "output_type": "stream",
     "text": [
      "Epoch: 179\n"
     ]
    },
    {
     "name": "stderr",
     "output_type": "stream",
     "text": [
      "Epoch 180/500: 100%|██████████| 1/1 [00:00<00:00, 24.44it/s]\n",
      "Epoch 181/500: 100%|██████████| 1/1 [00:00<00:00, 25.09it/s]\n",
      "Validation: 100%|██████████| 1/1 [00:00<00:00, 54.02it/s]\n"
     ]
    },
    {
     "name": "stdout",
     "output_type": "stream",
     "text": [
      "Epoch: 181\n"
     ]
    },
    {
     "name": "stderr",
     "output_type": "stream",
     "text": [
      "Epoch 182/500: 100%|██████████| 1/1 [00:00<00:00, 24.70it/s]\n",
      "Epoch 183/500: 100%|██████████| 1/1 [00:00<00:00, 24.46it/s]\n",
      "Validation: 100%|██████████| 1/1 [00:00<00:00, 55.35it/s]\n"
     ]
    },
    {
     "name": "stdout",
     "output_type": "stream",
     "text": [
      "Epoch: 183\n"
     ]
    },
    {
     "name": "stderr",
     "output_type": "stream",
     "text": [
      "Epoch 184/500: 100%|██████████| 1/1 [00:00<00:00, 24.80it/s]\n",
      "Epoch 185/500: 100%|██████████| 1/1 [00:00<00:00, 24.82it/s]\n",
      "Validation: 100%|██████████| 1/1 [00:00<00:00, 54.01it/s]\n"
     ]
    },
    {
     "name": "stdout",
     "output_type": "stream",
     "text": [
      "Epoch: 185\n"
     ]
    },
    {
     "name": "stderr",
     "output_type": "stream",
     "text": [
      "Epoch 186/500: 100%|██████████| 1/1 [00:00<00:00, 24.51it/s]\n",
      "Epoch 187/500: 100%|██████████| 1/1 [00:00<00:00, 24.91it/s]\n",
      "Validation: 100%|██████████| 1/1 [00:00<00:00, 49.24it/s]\n"
     ]
    },
    {
     "name": "stdout",
     "output_type": "stream",
     "text": [
      "Epoch: 187\n"
     ]
    },
    {
     "name": "stderr",
     "output_type": "stream",
     "text": [
      "Epoch 188/500: 100%|██████████| 1/1 [00:00<00:00, 24.62it/s]\n",
      "Epoch 189/500: 100%|██████████| 1/1 [00:00<00:00, 23.91it/s]\n",
      "Validation: 100%|██████████| 1/1 [00:00<00:00, 53.33it/s]\n"
     ]
    },
    {
     "name": "stdout",
     "output_type": "stream",
     "text": [
      "Epoch: 189\n"
     ]
    },
    {
     "name": "stderr",
     "output_type": "stream",
     "text": [
      "Epoch 190/500: 100%|██████████| 1/1 [00:00<00:00, 24.45it/s]\n",
      "Epoch 191/500: 100%|██████████| 1/1 [00:00<00:00, 25.37it/s]\n",
      "Validation: 100%|██████████| 1/1 [00:00<00:00, 53.23it/s]\n"
     ]
    },
    {
     "name": "stdout",
     "output_type": "stream",
     "text": [
      "Epoch: 191\n"
     ]
    },
    {
     "name": "stderr",
     "output_type": "stream",
     "text": [
      "Epoch 192/500: 100%|██████████| 1/1 [00:00<00:00, 22.60it/s]\n",
      "Epoch 193/500: 100%|██████████| 1/1 [00:00<00:00, 22.83it/s]\n",
      "Validation: 100%|██████████| 1/1 [00:00<00:00, 54.10it/s]\n"
     ]
    },
    {
     "name": "stdout",
     "output_type": "stream",
     "text": [
      "Epoch: 193\n"
     ]
    },
    {
     "name": "stderr",
     "output_type": "stream",
     "text": [
      "Epoch 194/500: 100%|██████████| 1/1 [00:00<00:00, 23.12it/s]\n",
      "Epoch 195/500: 100%|██████████| 1/1 [00:00<00:00, 25.03it/s]\n",
      "Validation: 100%|██████████| 1/1 [00:00<00:00, 54.98it/s]\n"
     ]
    },
    {
     "name": "stdout",
     "output_type": "stream",
     "text": [
      "Epoch: 195\n"
     ]
    },
    {
     "name": "stderr",
     "output_type": "stream",
     "text": [
      "Epoch 196/500: 100%|██████████| 1/1 [00:00<00:00, 21.17it/s]\n",
      "Epoch 197/500: 100%|██████████| 1/1 [00:00<00:00, 24.04it/s]\n",
      "Validation: 100%|██████████| 1/1 [00:00<00:00, 47.10it/s]\n"
     ]
    },
    {
     "name": "stdout",
     "output_type": "stream",
     "text": [
      "Epoch: 197\n"
     ]
    },
    {
     "name": "stderr",
     "output_type": "stream",
     "text": [
      "Epoch 198/500: 100%|██████████| 1/1 [00:00<00:00, 24.99it/s]\n",
      "Epoch 199/500: 100%|██████████| 1/1 [00:00<00:00, 25.18it/s]\n",
      "Validation: 100%|██████████| 1/1 [00:00<00:00, 53.05it/s]\n"
     ]
    },
    {
     "name": "stdout",
     "output_type": "stream",
     "text": [
      "Epoch: 199\n"
     ]
    },
    {
     "name": "stderr",
     "output_type": "stream",
     "text": [
      "Epoch 200/500: 100%|██████████| 1/1 [00:00<00:00, 24.97it/s]\n",
      "Epoch 201/500: 100%|██████████| 1/1 [00:00<00:00, 20.88it/s]\n",
      "Validation: 100%|██████████| 1/1 [00:00<00:00, 48.19it/s]\n"
     ]
    },
    {
     "name": "stdout",
     "output_type": "stream",
     "text": [
      "Epoch: 201\n"
     ]
    },
    {
     "name": "stderr",
     "output_type": "stream",
     "text": [
      "Epoch 202/500: 100%|██████████| 1/1 [00:00<00:00, 24.72it/s]\n",
      "Epoch 203/500: 100%|██████████| 1/1 [00:00<00:00, 24.38it/s]\n",
      "Validation: 100%|██████████| 1/1 [00:00<00:00, 55.26it/s]\n"
     ]
    },
    {
     "name": "stdout",
     "output_type": "stream",
     "text": [
      "Epoch: 203\n"
     ]
    },
    {
     "name": "stderr",
     "output_type": "stream",
     "text": [
      "Epoch 204/500: 100%|██████████| 1/1 [00:00<00:00, 24.06it/s]\n",
      "Epoch 205/500: 100%|██████████| 1/1 [00:00<00:00, 21.15it/s]\n",
      "Validation: 100%|██████████| 1/1 [00:00<00:00, 55.07it/s]\n"
     ]
    },
    {
     "name": "stdout",
     "output_type": "stream",
     "text": [
      "Epoch: 205\n"
     ]
    },
    {
     "name": "stderr",
     "output_type": "stream",
     "text": [
      "Epoch 206/500: 100%|██████████| 1/1 [00:00<00:00, 22.10it/s]\n",
      "Epoch 207/500: 100%|██████████| 1/1 [00:00<00:00, 25.11it/s]\n",
      "Validation: 100%|██████████| 1/1 [00:00<00:00, 54.17it/s]\n"
     ]
    },
    {
     "name": "stdout",
     "output_type": "stream",
     "text": [
      "Epoch: 207\n"
     ]
    },
    {
     "name": "stderr",
     "output_type": "stream",
     "text": [
      "Epoch 208/500: 100%|██████████| 1/1 [00:00<00:00, 24.61it/s]\n",
      "Epoch 209/500: 100%|██████████| 1/1 [00:00<00:00, 24.57it/s]\n",
      "Validation: 100%|██████████| 1/1 [00:00<00:00, 47.77it/s]\n"
     ]
    },
    {
     "name": "stdout",
     "output_type": "stream",
     "text": [
      "Epoch: 209\n"
     ]
    },
    {
     "name": "stderr",
     "output_type": "stream",
     "text": [
      "Epoch 210/500: 100%|██████████| 1/1 [00:00<00:00, 24.86it/s]\n",
      "Epoch 211/500: 100%|██████████| 1/1 [00:00<00:00, 24.47it/s]\n",
      "Validation: 100%|██████████| 1/1 [00:00<00:00, 54.16it/s]\n"
     ]
    },
    {
     "name": "stdout",
     "output_type": "stream",
     "text": [
      "Epoch: 211\n"
     ]
    },
    {
     "name": "stderr",
     "output_type": "stream",
     "text": [
      "Epoch 212/500: 100%|██████████| 1/1 [00:00<00:00, 23.89it/s]\n",
      "Epoch 213/500: 100%|██████████| 1/1 [00:00<00:00, 24.63it/s]\n",
      "Validation: 100%|██████████| 1/1 [00:00<00:00, 56.62it/s]\n"
     ]
    },
    {
     "name": "stdout",
     "output_type": "stream",
     "text": [
      "Epoch: 213\n"
     ]
    },
    {
     "name": "stderr",
     "output_type": "stream",
     "text": [
      "Epoch 214/500: 100%|██████████| 1/1 [00:00<00:00, 24.61it/s]\n",
      "Epoch 215/500: 100%|██████████| 1/1 [00:00<00:00, 25.40it/s]\n",
      "Validation: 100%|██████████| 1/1 [00:00<00:00, 52.98it/s]\n"
     ]
    },
    {
     "name": "stdout",
     "output_type": "stream",
     "text": [
      "Epoch: 215\n"
     ]
    },
    {
     "name": "stderr",
     "output_type": "stream",
     "text": [
      "Epoch 216/500: 100%|██████████| 1/1 [00:00<00:00, 23.83it/s]\n",
      "Epoch 217/500: 100%|██████████| 1/1 [00:00<00:00, 25.77it/s]\n",
      "Validation: 100%|██████████| 1/1 [00:00<00:00, 49.13it/s]\n"
     ]
    },
    {
     "name": "stdout",
     "output_type": "stream",
     "text": [
      "Epoch: 217\n"
     ]
    },
    {
     "name": "stderr",
     "output_type": "stream",
     "text": [
      "Epoch 218/500: 100%|██████████| 1/1 [00:00<00:00, 23.73it/s]\n",
      "Epoch 219/500: 100%|██████████| 1/1 [00:00<00:00, 24.87it/s]\n",
      "Validation: 100%|██████████| 1/1 [00:00<00:00, 57.39it/s]\n"
     ]
    },
    {
     "name": "stdout",
     "output_type": "stream",
     "text": [
      "Epoch: 219\n"
     ]
    },
    {
     "name": "stderr",
     "output_type": "stream",
     "text": [
      "Epoch 220/500: 100%|██████████| 1/1 [00:00<00:00, 24.59it/s]\n",
      "Epoch 221/500: 100%|██████████| 1/1 [00:00<00:00, 24.55it/s]\n",
      "Validation: 100%|██████████| 1/1 [00:00<00:00, 53.98it/s]\n"
     ]
    },
    {
     "name": "stdout",
     "output_type": "stream",
     "text": [
      "Epoch: 221\n"
     ]
    },
    {
     "name": "stderr",
     "output_type": "stream",
     "text": [
      "Epoch 222/500: 100%|██████████| 1/1 [00:00<00:00, 23.66it/s]\n",
      "Epoch 223/500: 100%|██████████| 1/1 [00:00<00:00, 23.52it/s]\n",
      "Validation: 100%|██████████| 1/1 [00:00<00:00, 55.64it/s]\n"
     ]
    },
    {
     "name": "stdout",
     "output_type": "stream",
     "text": [
      "Epoch: 223\n"
     ]
    },
    {
     "name": "stderr",
     "output_type": "stream",
     "text": [
      "Epoch 224/500: 100%|██████████| 1/1 [00:00<00:00, 25.38it/s]\n",
      "Epoch 225/500: 100%|██████████| 1/1 [00:00<00:00, 25.12it/s]\n",
      "Validation: 100%|██████████| 1/1 [00:00<00:00, 57.60it/s]\n"
     ]
    },
    {
     "name": "stdout",
     "output_type": "stream",
     "text": [
      "Epoch: 225\n"
     ]
    },
    {
     "name": "stderr",
     "output_type": "stream",
     "text": [
      "Epoch 226/500: 100%|██████████| 1/1 [00:00<00:00, 24.50it/s]\n",
      "Epoch 227/500: 100%|██████████| 1/1 [00:00<00:00, 24.61it/s]\n",
      "Validation: 100%|██████████| 1/1 [00:00<00:00, 56.09it/s]\n"
     ]
    },
    {
     "name": "stdout",
     "output_type": "stream",
     "text": [
      "Epoch: 227\n"
     ]
    },
    {
     "name": "stderr",
     "output_type": "stream",
     "text": [
      "Epoch 228/500: 100%|██████████| 1/1 [00:00<00:00, 22.07it/s]\n",
      "Epoch 229/500: 100%|██████████| 1/1 [00:00<00:00, 24.89it/s]\n",
      "Validation: 100%|██████████| 1/1 [00:00<00:00, 56.26it/s]\n"
     ]
    },
    {
     "name": "stdout",
     "output_type": "stream",
     "text": [
      "Epoch: 229\n"
     ]
    },
    {
     "name": "stderr",
     "output_type": "stream",
     "text": [
      "Epoch 230/500: 100%|██████████| 1/1 [00:00<00:00, 25.20it/s]\n",
      "Epoch 231/500: 100%|██████████| 1/1 [00:00<00:00, 24.32it/s]\n",
      "Validation: 100%|██████████| 1/1 [00:00<00:00, 56.89it/s]\n"
     ]
    },
    {
     "name": "stdout",
     "output_type": "stream",
     "text": [
      "Epoch: 231\n"
     ]
    },
    {
     "name": "stderr",
     "output_type": "stream",
     "text": [
      "Epoch 232/500: 100%|██████████| 1/1 [00:00<00:00, 25.41it/s]\n",
      "Epoch 233/500: 100%|██████████| 1/1 [00:00<00:00, 23.65it/s]\n",
      "Validation: 100%|██████████| 1/1 [00:00<00:00, 55.57it/s]\n"
     ]
    },
    {
     "name": "stdout",
     "output_type": "stream",
     "text": [
      "Epoch: 233\n"
     ]
    },
    {
     "name": "stderr",
     "output_type": "stream",
     "text": [
      "Epoch 234/500: 100%|██████████| 1/1 [00:00<00:00, 23.71it/s]\n",
      "Epoch 235/500: 100%|██████████| 1/1 [00:00<00:00, 24.79it/s]\n",
      "Validation: 100%|██████████| 1/1 [00:00<00:00, 55.32it/s]\n"
     ]
    },
    {
     "name": "stdout",
     "output_type": "stream",
     "text": [
      "Epoch: 235\n"
     ]
    },
    {
     "name": "stderr",
     "output_type": "stream",
     "text": [
      "Epoch 236/500: 100%|██████████| 1/1 [00:00<00:00, 24.71it/s]\n",
      "Epoch 237/500: 100%|██████████| 1/1 [00:00<00:00, 24.48it/s]\n",
      "Validation: 100%|██████████| 1/1 [00:00<00:00, 56.75it/s]\n"
     ]
    },
    {
     "name": "stdout",
     "output_type": "stream",
     "text": [
      "Epoch: 237\n"
     ]
    },
    {
     "name": "stderr",
     "output_type": "stream",
     "text": [
      "Epoch 238/500: 100%|██████████| 1/1 [00:00<00:00, 22.19it/s]\n",
      "Epoch 239/500: 100%|██████████| 1/1 [00:00<00:00, 25.25it/s]\n",
      "Validation: 100%|██████████| 1/1 [00:00<00:00, 55.07it/s]\n"
     ]
    },
    {
     "name": "stdout",
     "output_type": "stream",
     "text": [
      "Epoch: 239\n"
     ]
    },
    {
     "name": "stderr",
     "output_type": "stream",
     "text": [
      "Epoch 240/500: 100%|██████████| 1/1 [00:00<00:00, 24.22it/s]\n",
      "Epoch 241/500: 100%|██████████| 1/1 [00:00<00:00, 24.37it/s]\n",
      "Validation: 100%|██████████| 1/1 [00:00<00:00, 56.86it/s]\n"
     ]
    },
    {
     "name": "stdout",
     "output_type": "stream",
     "text": [
      "Epoch: 241\n"
     ]
    },
    {
     "name": "stderr",
     "output_type": "stream",
     "text": [
      "Epoch 242/500: 100%|██████████| 1/1 [00:00<00:00, 24.91it/s]\n",
      "Epoch 243/500: 100%|██████████| 1/1 [00:00<00:00, 25.60it/s]\n",
      "Validation: 100%|██████████| 1/1 [00:00<00:00, 57.27it/s]\n"
     ]
    },
    {
     "name": "stdout",
     "output_type": "stream",
     "text": [
      "Epoch: 243\n"
     ]
    },
    {
     "name": "stderr",
     "output_type": "stream",
     "text": [
      "Epoch 244/500: 100%|██████████| 1/1 [00:00<00:00, 25.62it/s]\n",
      "Epoch 245/500: 100%|██████████| 1/1 [00:00<00:00, 25.24it/s]\n",
      "Validation: 100%|██████████| 1/1 [00:00<00:00, 55.33it/s]\n"
     ]
    },
    {
     "name": "stdout",
     "output_type": "stream",
     "text": [
      "Epoch: 245\n"
     ]
    },
    {
     "name": "stderr",
     "output_type": "stream",
     "text": [
      "Epoch 246/500: 100%|██████████| 1/1 [00:00<00:00, 23.42it/s]\n",
      "Epoch 247/500: 100%|██████████| 1/1 [00:00<00:00, 26.25it/s]\n",
      "Validation: 100%|██████████| 1/1 [00:00<00:00, 54.39it/s]\n"
     ]
    },
    {
     "name": "stdout",
     "output_type": "stream",
     "text": [
      "Epoch: 247\n"
     ]
    },
    {
     "name": "stderr",
     "output_type": "stream",
     "text": [
      "Epoch 248/500: 100%|██████████| 1/1 [00:00<00:00, 24.85it/s]\n",
      "Epoch 249/500: 100%|██████████| 1/1 [00:00<00:00, 24.90it/s]\n",
      "Validation: 100%|██████████| 1/1 [00:00<00:00, 55.50it/s]\n"
     ]
    },
    {
     "name": "stdout",
     "output_type": "stream",
     "text": [
      "Epoch: 249\n"
     ]
    },
    {
     "name": "stderr",
     "output_type": "stream",
     "text": [
      "Epoch 250/500: 100%|██████████| 1/1 [00:00<00:00, 24.44it/s]\n",
      "Epoch 251/500: 100%|██████████| 1/1 [00:00<00:00, 24.31it/s]\n",
      "Validation: 100%|██████████| 1/1 [00:00<00:00, 57.33it/s]\n"
     ]
    },
    {
     "name": "stdout",
     "output_type": "stream",
     "text": [
      "Epoch: 251\n"
     ]
    },
    {
     "name": "stderr",
     "output_type": "stream",
     "text": [
      "Epoch 252/500: 100%|██████████| 1/1 [00:00<00:00, 23.28it/s]\n",
      "Epoch 253/500: 100%|██████████| 1/1 [00:00<00:00, 25.20it/s]\n",
      "Validation: 100%|██████████| 1/1 [00:00<00:00, 52.96it/s]\n"
     ]
    },
    {
     "name": "stdout",
     "output_type": "stream",
     "text": [
      "Epoch: 253\n"
     ]
    },
    {
     "name": "stderr",
     "output_type": "stream",
     "text": [
      "Epoch 254/500: 100%|██████████| 1/1 [00:00<00:00, 24.97it/s]\n",
      "Epoch 255/500: 100%|██████████| 1/1 [00:00<00:00, 23.74it/s]\n",
      "Validation: 100%|██████████| 1/1 [00:00<00:00, 53.86it/s]\n"
     ]
    },
    {
     "name": "stdout",
     "output_type": "stream",
     "text": [
      "Epoch: 255\n"
     ]
    },
    {
     "name": "stderr",
     "output_type": "stream",
     "text": [
      "Epoch 256/500: 100%|██████████| 1/1 [00:00<00:00, 25.39it/s]\n",
      "Epoch 257/500: 100%|██████████| 1/1 [00:00<00:00, 24.56it/s]\n",
      "Validation: 100%|██████████| 1/1 [00:00<00:00, 57.49it/s]\n"
     ]
    },
    {
     "name": "stdout",
     "output_type": "stream",
     "text": [
      "Epoch: 257\n"
     ]
    },
    {
     "name": "stderr",
     "output_type": "stream",
     "text": [
      "Epoch 258/500: 100%|██████████| 1/1 [00:00<00:00, 24.03it/s]\n",
      "Epoch 259/500: 100%|██████████| 1/1 [00:00<00:00, 24.94it/s]\n",
      "Validation: 100%|██████████| 1/1 [00:00<00:00, 54.44it/s]\n"
     ]
    },
    {
     "name": "stdout",
     "output_type": "stream",
     "text": [
      "Epoch: 259\n"
     ]
    },
    {
     "name": "stderr",
     "output_type": "stream",
     "text": [
      "Epoch 260/500: 100%|██████████| 1/1 [00:00<00:00, 23.53it/s]\n",
      "Epoch 261/500: 100%|██████████| 1/1 [00:00<00:00, 24.94it/s]\n",
      "Validation: 100%|██████████| 1/1 [00:00<00:00, 55.58it/s]\n"
     ]
    },
    {
     "name": "stdout",
     "output_type": "stream",
     "text": [
      "Epoch: 261\n"
     ]
    },
    {
     "name": "stderr",
     "output_type": "stream",
     "text": [
      "Epoch 262/500: 100%|██████████| 1/1 [00:00<00:00, 25.16it/s]\n",
      "Epoch 263/500: 100%|██████████| 1/1 [00:00<00:00, 24.44it/s]\n",
      "Validation: 100%|██████████| 1/1 [00:00<00:00, 41.84it/s]\n"
     ]
    },
    {
     "name": "stdout",
     "output_type": "stream",
     "text": [
      "Epoch: 263\n"
     ]
    },
    {
     "name": "stderr",
     "output_type": "stream",
     "text": [
      "Epoch 264/500: 100%|██████████| 1/1 [00:00<00:00, 21.88it/s]\n",
      "Epoch 265/500: 100%|██████████| 1/1 [00:00<00:00, 23.20it/s]\n",
      "Validation: 100%|██████████| 1/1 [00:00<00:00, 50.84it/s]\n"
     ]
    },
    {
     "name": "stdout",
     "output_type": "stream",
     "text": [
      "Epoch: 265\n"
     ]
    },
    {
     "name": "stderr",
     "output_type": "stream",
     "text": [
      "Epoch 266/500: 100%|██████████| 1/1 [00:00<00:00, 24.00it/s]\n",
      "Epoch 267/500: 100%|██████████| 1/1 [00:00<00:00, 24.01it/s]\n",
      "Validation: 100%|██████████| 1/1 [00:00<00:00, 56.45it/s]\n"
     ]
    },
    {
     "name": "stdout",
     "output_type": "stream",
     "text": [
      "Epoch: 267\n"
     ]
    },
    {
     "name": "stderr",
     "output_type": "stream",
     "text": [
      "Epoch 268/500: 100%|██████████| 1/1 [00:00<00:00, 24.26it/s]\n",
      "Epoch 269/500: 100%|██████████| 1/1 [00:00<00:00, 23.48it/s]\n",
      "Validation: 100%|██████████| 1/1 [00:00<00:00, 55.60it/s]\n"
     ]
    },
    {
     "name": "stdout",
     "output_type": "stream",
     "text": [
      "Epoch: 269\n"
     ]
    },
    {
     "name": "stderr",
     "output_type": "stream",
     "text": [
      "Epoch 270/500: 100%|██████████| 1/1 [00:00<00:00, 24.64it/s]\n",
      "Epoch 271/500: 100%|██████████| 1/1 [00:00<00:00, 24.87it/s]\n",
      "Validation: 100%|██████████| 1/1 [00:00<00:00, 54.24it/s]\n"
     ]
    },
    {
     "name": "stdout",
     "output_type": "stream",
     "text": [
      "Epoch: 271\n"
     ]
    },
    {
     "name": "stderr",
     "output_type": "stream",
     "text": [
      "Epoch 272/500: 100%|██████████| 1/1 [00:00<00:00, 24.48it/s]\n",
      "Epoch 273/500: 100%|██████████| 1/1 [00:00<00:00, 24.85it/s]\n",
      "Validation: 100%|██████████| 1/1 [00:00<00:00, 45.47it/s]\n"
     ]
    },
    {
     "name": "stdout",
     "output_type": "stream",
     "text": [
      "Epoch: 273\n"
     ]
    },
    {
     "name": "stderr",
     "output_type": "stream",
     "text": [
      "Epoch 274/500: 100%|██████████| 1/1 [00:00<00:00, 25.36it/s]\n",
      "Epoch 275/500: 100%|██████████| 1/1 [00:00<00:00, 23.98it/s]\n",
      "Validation: 100%|██████████| 1/1 [00:00<00:00, 53.53it/s]\n"
     ]
    },
    {
     "name": "stdout",
     "output_type": "stream",
     "text": [
      "Epoch: 275\n"
     ]
    },
    {
     "name": "stderr",
     "output_type": "stream",
     "text": [
      "Epoch 276/500: 100%|██████████| 1/1 [00:00<00:00, 23.75it/s]\n",
      "Epoch 277/500: 100%|██████████| 1/1 [00:00<00:00, 24.35it/s]\n",
      "Validation: 100%|██████████| 1/1 [00:00<00:00, 55.99it/s]\n"
     ]
    },
    {
     "name": "stdout",
     "output_type": "stream",
     "text": [
      "Epoch: 277\n"
     ]
    },
    {
     "name": "stderr",
     "output_type": "stream",
     "text": [
      "Epoch 278/500: 100%|██████████| 1/1 [00:00<00:00, 24.05it/s]\n",
      "Epoch 279/500: 100%|██████████| 1/1 [00:00<00:00, 25.52it/s]\n",
      "Validation: 100%|██████████| 1/1 [00:00<00:00, 55.09it/s]\n"
     ]
    },
    {
     "name": "stdout",
     "output_type": "stream",
     "text": [
      "Epoch: 279\n"
     ]
    },
    {
     "name": "stderr",
     "output_type": "stream",
     "text": [
      "Epoch 280/500: 100%|██████████| 1/1 [00:00<00:00, 24.32it/s]\n",
      "Epoch 281/500: 100%|██████████| 1/1 [00:00<00:00, 24.91it/s]\n",
      "Validation: 100%|██████████| 1/1 [00:00<00:00, 53.32it/s]\n"
     ]
    },
    {
     "name": "stdout",
     "output_type": "stream",
     "text": [
      "Epoch: 281\n"
     ]
    },
    {
     "name": "stderr",
     "output_type": "stream",
     "text": [
      "Epoch 282/500: 100%|██████████| 1/1 [00:00<00:00, 22.58it/s]\n",
      "Epoch 283/500: 100%|██████████| 1/1 [00:00<00:00, 24.12it/s]\n",
      "Validation: 100%|██████████| 1/1 [00:00<00:00, 56.22it/s]\n"
     ]
    },
    {
     "name": "stdout",
     "output_type": "stream",
     "text": [
      "Epoch: 283\n"
     ]
    },
    {
     "name": "stderr",
     "output_type": "stream",
     "text": [
      "Epoch 284/500: 100%|██████████| 1/1 [00:00<00:00, 23.78it/s]\n",
      "Epoch 285/500: 100%|██████████| 1/1 [00:00<00:00, 25.35it/s]\n",
      "Validation: 100%|██████████| 1/1 [00:00<00:00, 50.95it/s]\n"
     ]
    },
    {
     "name": "stdout",
     "output_type": "stream",
     "text": [
      "Epoch: 285\n"
     ]
    },
    {
     "name": "stderr",
     "output_type": "stream",
     "text": [
      "Epoch 286/500: 100%|██████████| 1/1 [00:00<00:00, 24.86it/s]\n",
      "Epoch 287/500: 100%|██████████| 1/1 [00:00<00:00, 24.19it/s]\n",
      "Validation: 100%|██████████| 1/1 [00:00<00:00, 53.76it/s]\n"
     ]
    },
    {
     "name": "stdout",
     "output_type": "stream",
     "text": [
      "Epoch: 287\n"
     ]
    },
    {
     "name": "stderr",
     "output_type": "stream",
     "text": [
      "Epoch 288/500: 100%|██████████| 1/1 [00:00<00:00, 24.86it/s]\n",
      "Epoch 289/500: 100%|██████████| 1/1 [00:00<00:00, 21.71it/s]\n",
      "Validation: 100%|██████████| 1/1 [00:00<00:00, 53.00it/s]\n"
     ]
    },
    {
     "name": "stdout",
     "output_type": "stream",
     "text": [
      "Epoch: 289\n"
     ]
    },
    {
     "name": "stderr",
     "output_type": "stream",
     "text": [
      "Epoch 290/500: 100%|██████████| 1/1 [00:00<00:00, 24.55it/s]\n",
      "Epoch 291/500: 100%|██████████| 1/1 [00:00<00:00, 24.14it/s]\n",
      "Validation: 100%|██████████| 1/1 [00:00<00:00, 54.53it/s]\n"
     ]
    },
    {
     "name": "stdout",
     "output_type": "stream",
     "text": [
      "Epoch: 291\n"
     ]
    },
    {
     "name": "stderr",
     "output_type": "stream",
     "text": [
      "Epoch 292/500: 100%|██████████| 1/1 [00:00<00:00, 25.00it/s]\n",
      "Epoch 293/500: 100%|██████████| 1/1 [00:00<00:00, 23.86it/s]\n",
      "Validation: 100%|██████████| 1/1 [00:00<00:00, 54.31it/s]\n"
     ]
    },
    {
     "name": "stdout",
     "output_type": "stream",
     "text": [
      "Epoch: 293\n"
     ]
    },
    {
     "name": "stderr",
     "output_type": "stream",
     "text": [
      "Epoch 294/500: 100%|██████████| 1/1 [00:00<00:00, 23.95it/s]\n",
      "Epoch 295/500: 100%|██████████| 1/1 [00:00<00:00, 24.06it/s]\n",
      "Validation: 100%|██████████| 1/1 [00:00<00:00, 56.01it/s]\n"
     ]
    },
    {
     "name": "stdout",
     "output_type": "stream",
     "text": [
      "Epoch: 295\n"
     ]
    },
    {
     "name": "stderr",
     "output_type": "stream",
     "text": [
      "Epoch 296/500: 100%|██████████| 1/1 [00:00<00:00, 24.57it/s]\n",
      "Epoch 297/500: 100%|██████████| 1/1 [00:00<00:00, 23.89it/s]\n",
      "Validation: 100%|██████████| 1/1 [00:00<00:00, 56.32it/s]\n"
     ]
    },
    {
     "name": "stdout",
     "output_type": "stream",
     "text": [
      "Epoch: 297\n"
     ]
    },
    {
     "name": "stderr",
     "output_type": "stream",
     "text": [
      "Epoch 298/500: 100%|██████████| 1/1 [00:00<00:00, 24.41it/s]\n",
      "Epoch 299/500: 100%|██████████| 1/1 [00:00<00:00, 24.66it/s]\n",
      "Validation: 100%|██████████| 1/1 [00:00<00:00, 51.43it/s]\n"
     ]
    },
    {
     "name": "stdout",
     "output_type": "stream",
     "text": [
      "Epoch: 299\n"
     ]
    },
    {
     "name": "stderr",
     "output_type": "stream",
     "text": [
      "Epoch 300/500: 100%|██████████| 1/1 [00:00<00:00, 24.43it/s]\n",
      "Epoch 301/500: 100%|██████████| 1/1 [00:00<00:00, 24.56it/s]\n",
      "Validation: 100%|██████████| 1/1 [00:00<00:00, 54.29it/s]\n"
     ]
    },
    {
     "name": "stdout",
     "output_type": "stream",
     "text": [
      "Epoch: 301\n"
     ]
    },
    {
     "name": "stderr",
     "output_type": "stream",
     "text": [
      "Epoch 302/500: 100%|██████████| 1/1 [00:00<00:00, 21.42it/s]\n",
      "Epoch 303/500: 100%|██████████| 1/1 [00:00<00:00, 25.85it/s]\n",
      "Validation: 100%|██████████| 1/1 [00:00<00:00, 54.12it/s]\n"
     ]
    },
    {
     "name": "stdout",
     "output_type": "stream",
     "text": [
      "Epoch: 303\n"
     ]
    },
    {
     "name": "stderr",
     "output_type": "stream",
     "text": [
      "Epoch 304/500: 100%|██████████| 1/1 [00:00<00:00, 24.99it/s]\n",
      "Epoch 305/500: 100%|██████████| 1/1 [00:00<00:00, 25.32it/s]\n",
      "Validation: 100%|██████████| 1/1 [00:00<00:00, 56.33it/s]\n"
     ]
    },
    {
     "name": "stdout",
     "output_type": "stream",
     "text": [
      "Epoch: 305\n"
     ]
    },
    {
     "name": "stderr",
     "output_type": "stream",
     "text": [
      "Epoch 306/500: 100%|██████████| 1/1 [00:00<00:00, 24.43it/s]\n",
      "Epoch 307/500: 100%|██████████| 1/1 [00:00<00:00, 24.94it/s]\n",
      "Validation: 100%|██████████| 1/1 [00:00<00:00, 53.85it/s]\n"
     ]
    },
    {
     "name": "stdout",
     "output_type": "stream",
     "text": [
      "Epoch: 307\n"
     ]
    },
    {
     "name": "stderr",
     "output_type": "stream",
     "text": [
      "Epoch 308/500: 100%|██████████| 1/1 [00:00<00:00, 25.37it/s]\n",
      "Epoch 309/500: 100%|██████████| 1/1 [00:00<00:00, 24.12it/s]\n",
      "Validation: 100%|██████████| 1/1 [00:00<00:00, 54.23it/s]\n"
     ]
    },
    {
     "name": "stdout",
     "output_type": "stream",
     "text": [
      "Epoch: 309\n"
     ]
    },
    {
     "name": "stderr",
     "output_type": "stream",
     "text": [
      "Epoch 310/500: 100%|██████████| 1/1 [00:00<00:00, 23.57it/s]\n",
      "Epoch 311/500: 100%|██████████| 1/1 [00:00<00:00, 24.19it/s]\n",
      "Validation: 100%|██████████| 1/1 [00:00<00:00, 56.17it/s]\n"
     ]
    },
    {
     "name": "stdout",
     "output_type": "stream",
     "text": [
      "Epoch: 311\n"
     ]
    },
    {
     "name": "stderr",
     "output_type": "stream",
     "text": [
      "Epoch 312/500: 100%|██████████| 1/1 [00:00<00:00, 24.52it/s]\n",
      "Epoch 313/500: 100%|██████████| 1/1 [00:00<00:00, 23.95it/s]\n",
      "Validation: 100%|██████████| 1/1 [00:00<00:00, 58.67it/s]\n"
     ]
    },
    {
     "name": "stdout",
     "output_type": "stream",
     "text": [
      "Epoch: 313\n"
     ]
    },
    {
     "name": "stderr",
     "output_type": "stream",
     "text": [
      "Epoch 314/500: 100%|██████████| 1/1 [00:00<00:00, 23.66it/s]\n",
      "Epoch 315/500: 100%|██████████| 1/1 [00:00<00:00, 25.01it/s]\n",
      "Validation: 100%|██████████| 1/1 [00:00<00:00, 52.87it/s]\n"
     ]
    },
    {
     "name": "stdout",
     "output_type": "stream",
     "text": [
      "Epoch: 315\n"
     ]
    },
    {
     "name": "stderr",
     "output_type": "stream",
     "text": [
      "Epoch 316/500: 100%|██████████| 1/1 [00:00<00:00, 24.61it/s]\n",
      "Epoch 317/500: 100%|██████████| 1/1 [00:00<00:00, 24.46it/s]\n",
      "Validation: 100%|██████████| 1/1 [00:00<00:00, 55.16it/s]\n"
     ]
    },
    {
     "name": "stdout",
     "output_type": "stream",
     "text": [
      "Epoch: 317\n"
     ]
    },
    {
     "name": "stderr",
     "output_type": "stream",
     "text": [
      "Epoch 318/500: 100%|██████████| 1/1 [00:00<00:00, 24.93it/s]\n",
      "Epoch 319/500: 100%|██████████| 1/1 [00:00<00:00, 24.53it/s]\n",
      "Validation: 100%|██████████| 1/1 [00:00<00:00, 56.04it/s]\n"
     ]
    },
    {
     "name": "stdout",
     "output_type": "stream",
     "text": [
      "Epoch: 319\n"
     ]
    },
    {
     "name": "stderr",
     "output_type": "stream",
     "text": [
      "Epoch 320/500: 100%|██████████| 1/1 [00:00<00:00, 24.64it/s]\n",
      "Epoch 321/500: 100%|██████████| 1/1 [00:00<00:00, 24.25it/s]\n",
      "Validation: 100%|██████████| 1/1 [00:00<00:00, 53.74it/s]\n"
     ]
    },
    {
     "name": "stdout",
     "output_type": "stream",
     "text": [
      "Epoch: 321\n"
     ]
    },
    {
     "name": "stderr",
     "output_type": "stream",
     "text": [
      "Epoch 322/500: 100%|██████████| 1/1 [00:00<00:00, 22.58it/s]\n",
      "Epoch 323/500: 100%|██████████| 1/1 [00:00<00:00, 25.03it/s]\n",
      "Validation: 100%|██████████| 1/1 [00:00<00:00, 56.17it/s]\n"
     ]
    },
    {
     "name": "stdout",
     "output_type": "stream",
     "text": [
      "Epoch: 323\n"
     ]
    },
    {
     "name": "stderr",
     "output_type": "stream",
     "text": [
      "Epoch 324/500: 100%|██████████| 1/1 [00:00<00:00, 24.40it/s]\n",
      "Epoch 325/500: 100%|██████████| 1/1 [00:00<00:00, 23.85it/s]\n",
      "Validation: 100%|██████████| 1/1 [00:00<00:00, 51.35it/s]\n"
     ]
    },
    {
     "name": "stdout",
     "output_type": "stream",
     "text": [
      "Epoch: 325\n"
     ]
    },
    {
     "name": "stderr",
     "output_type": "stream",
     "text": [
      "Epoch 326/500: 100%|██████████| 1/1 [00:00<00:00, 20.27it/s]\n",
      "Epoch 327/500: 100%|██████████| 1/1 [00:00<00:00, 25.22it/s]\n",
      "Validation: 100%|██████████| 1/1 [00:00<00:00, 54.39it/s]\n"
     ]
    },
    {
     "name": "stdout",
     "output_type": "stream",
     "text": [
      "Epoch: 327\n"
     ]
    },
    {
     "name": "stderr",
     "output_type": "stream",
     "text": [
      "Epoch 328/500: 100%|██████████| 1/1 [00:00<00:00, 24.33it/s]\n",
      "Epoch 329/500: 100%|██████████| 1/1 [00:00<00:00, 25.42it/s]\n",
      "Validation: 100%|██████████| 1/1 [00:00<00:00, 53.35it/s]\n"
     ]
    },
    {
     "name": "stdout",
     "output_type": "stream",
     "text": [
      "Epoch: 329\n"
     ]
    },
    {
     "name": "stderr",
     "output_type": "stream",
     "text": [
      "Epoch 330/500: 100%|██████████| 1/1 [00:00<00:00, 22.34it/s]\n",
      "Epoch 331/500: 100%|██████████| 1/1 [00:00<00:00, 23.89it/s]\n",
      "Validation: 100%|██████████| 1/1 [00:00<00:00, 54.99it/s]\n"
     ]
    },
    {
     "name": "stdout",
     "output_type": "stream",
     "text": [
      "Epoch: 331\n"
     ]
    },
    {
     "name": "stderr",
     "output_type": "stream",
     "text": [
      "Epoch 332/500: 100%|██████████| 1/1 [00:00<00:00, 23.98it/s]\n",
      "Epoch 333/500: 100%|██████████| 1/1 [00:00<00:00, 24.69it/s]\n",
      "Validation: 100%|██████████| 1/1 [00:00<00:00, 52.14it/s]\n"
     ]
    },
    {
     "name": "stdout",
     "output_type": "stream",
     "text": [
      "Epoch: 333\n"
     ]
    },
    {
     "name": "stderr",
     "output_type": "stream",
     "text": [
      "Epoch 334/500: 100%|██████████| 1/1 [00:00<00:00, 22.36it/s]\n",
      "Epoch 335/500: 100%|██████████| 1/1 [00:00<00:00, 24.37it/s]\n",
      "Validation: 100%|██████████| 1/1 [00:00<00:00, 56.07it/s]\n"
     ]
    },
    {
     "name": "stdout",
     "output_type": "stream",
     "text": [
      "Epoch: 335\n"
     ]
    },
    {
     "name": "stderr",
     "output_type": "stream",
     "text": [
      "Epoch 336/500: 100%|██████████| 1/1 [00:00<00:00, 23.28it/s]\n",
      "Epoch 337/500: 100%|██████████| 1/1 [00:00<00:00, 25.23it/s]\n",
      "Validation: 100%|██████████| 1/1 [00:00<00:00, 56.23it/s]\n"
     ]
    },
    {
     "name": "stdout",
     "output_type": "stream",
     "text": [
      "Epoch: 337\n"
     ]
    },
    {
     "name": "stderr",
     "output_type": "stream",
     "text": [
      "Epoch 338/500: 100%|██████████| 1/1 [00:00<00:00, 23.32it/s]\n",
      "Epoch 339/500: 100%|██████████| 1/1 [00:00<00:00, 21.27it/s]\n",
      "Validation: 100%|██████████| 1/1 [00:00<00:00, 54.54it/s]\n"
     ]
    },
    {
     "name": "stdout",
     "output_type": "stream",
     "text": [
      "Epoch: 339\n"
     ]
    },
    {
     "name": "stderr",
     "output_type": "stream",
     "text": [
      "Epoch 340/500: 100%|██████████| 1/1 [00:00<00:00, 21.12it/s]\n",
      "Epoch 341/500: 100%|██████████| 1/1 [00:00<00:00, 21.48it/s]\n",
      "Validation: 100%|██████████| 1/1 [00:00<00:00, 43.87it/s]\n"
     ]
    },
    {
     "name": "stdout",
     "output_type": "stream",
     "text": [
      "Epoch: 341\n"
     ]
    },
    {
     "name": "stderr",
     "output_type": "stream",
     "text": [
      "Epoch 342/500: 100%|██████████| 1/1 [00:00<00:00, 24.98it/s]\n",
      "Epoch 343/500: 100%|██████████| 1/1 [00:00<00:00, 24.14it/s]\n",
      "Validation: 100%|██████████| 1/1 [00:00<00:00, 46.65it/s]\n"
     ]
    },
    {
     "name": "stdout",
     "output_type": "stream",
     "text": [
      "Epoch: 343\n"
     ]
    },
    {
     "name": "stderr",
     "output_type": "stream",
     "text": [
      "Epoch 344/500: 100%|██████████| 1/1 [00:00<00:00, 20.72it/s]\n",
      "Epoch 345/500: 100%|██████████| 1/1 [00:00<00:00, 23.80it/s]\n",
      "Validation: 100%|██████████| 1/1 [00:00<00:00, 55.29it/s]\n"
     ]
    },
    {
     "name": "stdout",
     "output_type": "stream",
     "text": [
      "Epoch: 345\n"
     ]
    },
    {
     "name": "stderr",
     "output_type": "stream",
     "text": [
      "Epoch 346/500: 100%|██████████| 1/1 [00:00<00:00, 21.77it/s]\n",
      "Epoch 347/500: 100%|██████████| 1/1 [00:00<00:00, 24.51it/s]\n",
      "Validation: 100%|██████████| 1/1 [00:00<00:00, 55.91it/s]\n"
     ]
    },
    {
     "name": "stdout",
     "output_type": "stream",
     "text": [
      "Epoch: 347\n"
     ]
    },
    {
     "name": "stderr",
     "output_type": "stream",
     "text": [
      "Epoch 348/500: 100%|██████████| 1/1 [00:00<00:00, 23.47it/s]\n",
      "Epoch 349/500: 100%|██████████| 1/1 [00:00<00:00, 24.56it/s]\n",
      "Validation: 100%|██████████| 1/1 [00:00<00:00, 53.76it/s]\n"
     ]
    },
    {
     "name": "stdout",
     "output_type": "stream",
     "text": [
      "Epoch: 349\n"
     ]
    },
    {
     "name": "stderr",
     "output_type": "stream",
     "text": [
      "Epoch 350/500: 100%|██████████| 1/1 [00:00<00:00, 20.62it/s]\n",
      "Epoch 351/500: 100%|██████████| 1/1 [00:00<00:00, 24.11it/s]\n",
      "Validation: 100%|██████████| 1/1 [00:00<00:00, 55.92it/s]\n"
     ]
    },
    {
     "name": "stdout",
     "output_type": "stream",
     "text": [
      "Epoch: 351\n"
     ]
    },
    {
     "name": "stderr",
     "output_type": "stream",
     "text": [
      "Epoch 352/500: 100%|██████████| 1/1 [00:00<00:00, 24.74it/s]\n",
      "Epoch 353/500: 100%|██████████| 1/1 [00:00<00:00, 21.24it/s]\n",
      "Validation: 100%|██████████| 1/1 [00:00<00:00, 50.92it/s]\n"
     ]
    },
    {
     "name": "stdout",
     "output_type": "stream",
     "text": [
      "Epoch: 353\n"
     ]
    },
    {
     "name": "stderr",
     "output_type": "stream",
     "text": [
      "Epoch 354/500: 100%|██████████| 1/1 [00:00<00:00, 23.93it/s]\n",
      "Epoch 355/500: 100%|██████████| 1/1 [00:00<00:00, 23.26it/s]\n",
      "Validation: 100%|██████████| 1/1 [00:00<00:00, 43.90it/s]\n"
     ]
    },
    {
     "name": "stdout",
     "output_type": "stream",
     "text": [
      "Epoch: 355\n"
     ]
    },
    {
     "name": "stderr",
     "output_type": "stream",
     "text": [
      "Epoch 356/500: 100%|██████████| 1/1 [00:00<00:00, 24.80it/s]\n",
      "Epoch 357/500: 100%|██████████| 1/1 [00:00<00:00, 24.31it/s]\n",
      "Validation: 100%|██████████| 1/1 [00:00<00:00, 54.00it/s]\n"
     ]
    },
    {
     "name": "stdout",
     "output_type": "stream",
     "text": [
      "Epoch: 357\n"
     ]
    },
    {
     "name": "stderr",
     "output_type": "stream",
     "text": [
      "Epoch 358/500: 100%|██████████| 1/1 [00:00<00:00, 23.30it/s]\n",
      "Epoch 359/500: 100%|██████████| 1/1 [00:00<00:00, 24.30it/s]\n",
      "Validation: 100%|██████████| 1/1 [00:00<00:00, 57.16it/s]\n"
     ]
    },
    {
     "name": "stdout",
     "output_type": "stream",
     "text": [
      "Epoch: 359\n"
     ]
    },
    {
     "name": "stderr",
     "output_type": "stream",
     "text": [
      "Epoch 360/500: 100%|██████████| 1/1 [00:00<00:00, 22.61it/s]\n",
      "Epoch 361/500: 100%|██████████| 1/1 [00:00<00:00, 24.92it/s]\n",
      "Validation: 100%|██████████| 1/1 [00:00<00:00, 58.05it/s]\n"
     ]
    },
    {
     "name": "stdout",
     "output_type": "stream",
     "text": [
      "Epoch: 361\n"
     ]
    },
    {
     "name": "stderr",
     "output_type": "stream",
     "text": [
      "Epoch 362/500: 100%|██████████| 1/1 [00:00<00:00, 22.75it/s]\n",
      "Epoch 363/500: 100%|██████████| 1/1 [00:00<00:00, 24.62it/s]\n",
      "Validation: 100%|██████████| 1/1 [00:00<00:00, 52.70it/s]\n"
     ]
    },
    {
     "name": "stdout",
     "output_type": "stream",
     "text": [
      "Epoch: 363\n"
     ]
    },
    {
     "name": "stderr",
     "output_type": "stream",
     "text": [
      "Epoch 364/500: 100%|██████████| 1/1 [00:00<00:00, 24.75it/s]\n",
      "Epoch 365/500: 100%|██████████| 1/1 [00:00<00:00, 21.27it/s]\n",
      "Validation: 100%|██████████| 1/1 [00:00<00:00, 56.33it/s]\n"
     ]
    },
    {
     "name": "stdout",
     "output_type": "stream",
     "text": [
      "Epoch: 365\n"
     ]
    },
    {
     "name": "stderr",
     "output_type": "stream",
     "text": [
      "Epoch 366/500: 100%|██████████| 1/1 [00:00<00:00, 24.24it/s]\n",
      "Epoch 367/500: 100%|██████████| 1/1 [00:00<00:00, 24.42it/s]\n",
      "Validation: 100%|██████████| 1/1 [00:00<00:00, 55.04it/s]\n"
     ]
    },
    {
     "name": "stdout",
     "output_type": "stream",
     "text": [
      "Epoch: 367\n"
     ]
    },
    {
     "name": "stderr",
     "output_type": "stream",
     "text": [
      "Epoch 368/500: 100%|██████████| 1/1 [00:00<00:00, 24.55it/s]\n",
      "Epoch 369/500: 100%|██████████| 1/1 [00:00<00:00, 22.23it/s]\n",
      "Validation: 100%|██████████| 1/1 [00:00<00:00, 55.30it/s]\n"
     ]
    },
    {
     "name": "stdout",
     "output_type": "stream",
     "text": [
      "Epoch: 369\n"
     ]
    },
    {
     "name": "stderr",
     "output_type": "stream",
     "text": [
      "Epoch 370/500: 100%|██████████| 1/1 [00:00<00:00, 22.29it/s]\n",
      "Epoch 371/500: 100%|██████████| 1/1 [00:00<00:00, 25.21it/s]\n",
      "Validation: 100%|██████████| 1/1 [00:00<00:00, 52.81it/s]\n"
     ]
    },
    {
     "name": "stdout",
     "output_type": "stream",
     "text": [
      "Epoch: 371\n"
     ]
    },
    {
     "name": "stderr",
     "output_type": "stream",
     "text": [
      "Epoch 372/500: 100%|██████████| 1/1 [00:00<00:00, 21.09it/s]\n",
      "Epoch 373/500: 100%|██████████| 1/1 [00:00<00:00, 24.04it/s]\n",
      "Validation: 100%|██████████| 1/1 [00:00<00:00, 54.50it/s]\n"
     ]
    },
    {
     "name": "stdout",
     "output_type": "stream",
     "text": [
      "Epoch: 373\n"
     ]
    },
    {
     "name": "stderr",
     "output_type": "stream",
     "text": [
      "Epoch 374/500: 100%|██████████| 1/1 [00:00<00:00, 21.65it/s]\n",
      "Epoch 375/500: 100%|██████████| 1/1 [00:00<00:00, 24.48it/s]\n",
      "Validation: 100%|██████████| 1/1 [00:00<00:00, 42.55it/s]\n"
     ]
    },
    {
     "name": "stdout",
     "output_type": "stream",
     "text": [
      "Epoch: 375\n"
     ]
    },
    {
     "name": "stderr",
     "output_type": "stream",
     "text": [
      "Epoch 376/500: 100%|██████████| 1/1 [00:00<00:00, 24.66it/s]\n",
      "Epoch 377/500: 100%|██████████| 1/1 [00:00<00:00, 24.33it/s]\n",
      "Validation: 100%|██████████| 1/1 [00:00<00:00, 46.30it/s]\n"
     ]
    },
    {
     "name": "stdout",
     "output_type": "stream",
     "text": [
      "Epoch: 377\n"
     ]
    },
    {
     "name": "stderr",
     "output_type": "stream",
     "text": [
      "Epoch 378/500: 100%|██████████| 1/1 [00:00<00:00, 24.34it/s]\n",
      "Epoch 379/500: 100%|██████████| 1/1 [00:00<00:00, 24.06it/s]\n",
      "Validation: 100%|██████████| 1/1 [00:00<00:00, 57.03it/s]\n"
     ]
    },
    {
     "name": "stdout",
     "output_type": "stream",
     "text": [
      "Epoch: 379\n"
     ]
    },
    {
     "name": "stderr",
     "output_type": "stream",
     "text": [
      "Epoch 380/500: 100%|██████████| 1/1 [00:00<00:00, 24.59it/s]\n",
      "Epoch 381/500: 100%|██████████| 1/1 [00:00<00:00, 25.05it/s]\n",
      "Validation: 100%|██████████| 1/1 [00:00<00:00, 40.98it/s]\n"
     ]
    },
    {
     "name": "stdout",
     "output_type": "stream",
     "text": [
      "Epoch: 381\n"
     ]
    },
    {
     "name": "stderr",
     "output_type": "stream",
     "text": [
      "Epoch 382/500: 100%|██████████| 1/1 [00:00<00:00, 21.87it/s]\n",
      "Epoch 383/500: 100%|██████████| 1/1 [00:00<00:00, 24.73it/s]\n",
      "Validation: 100%|██████████| 1/1 [00:00<00:00, 53.50it/s]\n"
     ]
    },
    {
     "name": "stdout",
     "output_type": "stream",
     "text": [
      "Epoch: 383\n"
     ]
    },
    {
     "name": "stderr",
     "output_type": "stream",
     "text": [
      "Epoch 384/500: 100%|██████████| 1/1 [00:00<00:00, 23.71it/s]\n",
      "Epoch 385/500: 100%|██████████| 1/1 [00:00<00:00, 24.88it/s]\n",
      "Validation: 100%|██████████| 1/1 [00:00<00:00, 57.77it/s]\n"
     ]
    },
    {
     "name": "stdout",
     "output_type": "stream",
     "text": [
      "Epoch: 385\n"
     ]
    },
    {
     "name": "stderr",
     "output_type": "stream",
     "text": [
      "Epoch 386/500: 100%|██████████| 1/1 [00:00<00:00, 24.95it/s]\n",
      "Epoch 387/500: 100%|██████████| 1/1 [00:00<00:00, 24.62it/s]\n",
      "Validation: 100%|██████████| 1/1 [00:00<00:00, 55.62it/s]\n"
     ]
    },
    {
     "name": "stdout",
     "output_type": "stream",
     "text": [
      "Epoch: 387\n"
     ]
    },
    {
     "name": "stderr",
     "output_type": "stream",
     "text": [
      "Epoch 388/500: 100%|██████████| 1/1 [00:00<00:00, 23.91it/s]\n",
      "Epoch 389/500: 100%|██████████| 1/1 [00:00<00:00, 24.25it/s]\n",
      "Validation: 100%|██████████| 1/1 [00:00<00:00, 53.62it/s]\n"
     ]
    },
    {
     "name": "stdout",
     "output_type": "stream",
     "text": [
      "Epoch: 389\n"
     ]
    },
    {
     "name": "stderr",
     "output_type": "stream",
     "text": [
      "Epoch 390/500: 100%|██████████| 1/1 [00:00<00:00, 19.52it/s]\n",
      "Epoch 391/500: 100%|██████████| 1/1 [00:00<00:00, 24.52it/s]\n",
      "Validation: 100%|██████████| 1/1 [00:00<00:00, 52.42it/s]\n"
     ]
    },
    {
     "name": "stdout",
     "output_type": "stream",
     "text": [
      "Epoch: 391\n"
     ]
    },
    {
     "name": "stderr",
     "output_type": "stream",
     "text": [
      "Epoch 392/500: 100%|██████████| 1/1 [00:00<00:00, 22.38it/s]\n",
      "Epoch 393/500: 100%|██████████| 1/1 [00:00<00:00, 23.49it/s]\n",
      "Validation: 100%|██████████| 1/1 [00:00<00:00, 54.00it/s]\n"
     ]
    },
    {
     "name": "stdout",
     "output_type": "stream",
     "text": [
      "Epoch: 393\n"
     ]
    },
    {
     "name": "stderr",
     "output_type": "stream",
     "text": [
      "Epoch 394/500: 100%|██████████| 1/1 [00:00<00:00, 24.66it/s]\n",
      "Epoch 395/500: 100%|██████████| 1/1 [00:00<00:00, 24.46it/s]\n",
      "Validation: 100%|██████████| 1/1 [00:00<00:00, 52.69it/s]\n"
     ]
    },
    {
     "name": "stdout",
     "output_type": "stream",
     "text": [
      "Epoch: 395\n"
     ]
    },
    {
     "name": "stderr",
     "output_type": "stream",
     "text": [
      "Epoch 396/500: 100%|██████████| 1/1 [00:00<00:00, 24.69it/s]\n",
      "Epoch 397/500: 100%|██████████| 1/1 [00:00<00:00, 24.56it/s]\n",
      "Validation: 100%|██████████| 1/1 [00:00<00:00, 55.56it/s]\n"
     ]
    },
    {
     "name": "stdout",
     "output_type": "stream",
     "text": [
      "Epoch: 397\n"
     ]
    },
    {
     "name": "stderr",
     "output_type": "stream",
     "text": [
      "Epoch 398/500: 100%|██████████| 1/1 [00:00<00:00, 24.94it/s]\n",
      "Epoch 399/500: 100%|██████████| 1/1 [00:00<00:00, 25.27it/s]\n",
      "Validation: 100%|██████████| 1/1 [00:00<00:00, 49.74it/s]\n"
     ]
    },
    {
     "name": "stdout",
     "output_type": "stream",
     "text": [
      "Epoch: 399\n"
     ]
    },
    {
     "name": "stderr",
     "output_type": "stream",
     "text": [
      "Epoch 400/500: 100%|██████████| 1/1 [00:00<00:00, 24.29it/s]\n",
      "Epoch 401/500: 100%|██████████| 1/1 [00:00<00:00, 24.86it/s]\n",
      "Validation: 100%|██████████| 1/1 [00:00<00:00, 56.37it/s]\n"
     ]
    },
    {
     "name": "stdout",
     "output_type": "stream",
     "text": [
      "Epoch: 401\n"
     ]
    },
    {
     "name": "stderr",
     "output_type": "stream",
     "text": [
      "Epoch 402/500: 100%|██████████| 1/1 [00:00<00:00, 23.92it/s]\n",
      "Epoch 403/500: 100%|██████████| 1/1 [00:00<00:00, 25.41it/s]\n",
      "Validation: 100%|██████████| 1/1 [00:00<00:00, 56.39it/s]\n"
     ]
    },
    {
     "name": "stdout",
     "output_type": "stream",
     "text": [
      "Epoch: 403\n"
     ]
    },
    {
     "name": "stderr",
     "output_type": "stream",
     "text": [
      "Epoch 404/500: 100%|██████████| 1/1 [00:00<00:00, 20.76it/s]\n",
      "Epoch 405/500: 100%|██████████| 1/1 [00:00<00:00, 23.00it/s]\n",
      "Validation: 100%|██████████| 1/1 [00:00<00:00, 48.52it/s]\n"
     ]
    },
    {
     "name": "stdout",
     "output_type": "stream",
     "text": [
      "Epoch: 405\n"
     ]
    },
    {
     "name": "stderr",
     "output_type": "stream",
     "text": [
      "Epoch 406/500: 100%|██████████| 1/1 [00:00<00:00, 24.67it/s]\n",
      "Epoch 407/500: 100%|██████████| 1/1 [00:00<00:00, 24.35it/s]\n",
      "Validation: 100%|██████████| 1/1 [00:00<00:00, 53.08it/s]\n"
     ]
    },
    {
     "name": "stdout",
     "output_type": "stream",
     "text": [
      "Epoch: 407\n"
     ]
    },
    {
     "name": "stderr",
     "output_type": "stream",
     "text": [
      "Epoch 408/500: 100%|██████████| 1/1 [00:00<00:00, 21.98it/s]\n",
      "Epoch 409/500: 100%|██████████| 1/1 [00:00<00:00, 24.57it/s]\n",
      "Validation: 100%|██████████| 1/1 [00:00<00:00, 54.50it/s]\n"
     ]
    },
    {
     "name": "stdout",
     "output_type": "stream",
     "text": [
      "Epoch: 409\n"
     ]
    },
    {
     "name": "stderr",
     "output_type": "stream",
     "text": [
      "Epoch 410/500: 100%|██████████| 1/1 [00:00<00:00, 24.71it/s]\n",
      "Epoch 411/500: 100%|██████████| 1/1 [00:00<00:00, 25.29it/s]\n",
      "Validation: 100%|██████████| 1/1 [00:00<00:00, 51.23it/s]\n"
     ]
    },
    {
     "name": "stdout",
     "output_type": "stream",
     "text": [
      "Epoch: 411\n"
     ]
    },
    {
     "name": "stderr",
     "output_type": "stream",
     "text": [
      "Epoch 412/500: 100%|██████████| 1/1 [00:00<00:00, 23.71it/s]\n",
      "Epoch 413/500: 100%|██████████| 1/1 [00:00<00:00, 20.30it/s]\n",
      "Validation: 100%|██████████| 1/1 [00:00<00:00, 54.81it/s]\n"
     ]
    },
    {
     "name": "stdout",
     "output_type": "stream",
     "text": [
      "Epoch: 413\n"
     ]
    },
    {
     "name": "stderr",
     "output_type": "stream",
     "text": [
      "Epoch 414/500: 100%|██████████| 1/1 [00:00<00:00, 24.62it/s]\n",
      "Epoch 415/500: 100%|██████████| 1/1 [00:00<00:00, 25.19it/s]\n",
      "Validation: 100%|██████████| 1/1 [00:00<00:00, 53.08it/s]\n"
     ]
    },
    {
     "name": "stdout",
     "output_type": "stream",
     "text": [
      "Epoch: 415\n"
     ]
    },
    {
     "name": "stderr",
     "output_type": "stream",
     "text": [
      "Epoch 416/500: 100%|██████████| 1/1 [00:00<00:00, 24.05it/s]\n",
      "Epoch 417/500: 100%|██████████| 1/1 [00:00<00:00, 25.10it/s]\n",
      "Validation: 100%|██████████| 1/1 [00:00<00:00, 54.94it/s]\n"
     ]
    },
    {
     "name": "stdout",
     "output_type": "stream",
     "text": [
      "Epoch: 417\n"
     ]
    },
    {
     "name": "stderr",
     "output_type": "stream",
     "text": [
      "Epoch 418/500: 100%|██████████| 1/1 [00:00<00:00, 24.22it/s]\n",
      "Epoch 419/500: 100%|██████████| 1/1 [00:00<00:00, 23.43it/s]\n",
      "Validation: 100%|██████████| 1/1 [00:00<00:00, 56.50it/s]\n"
     ]
    },
    {
     "name": "stdout",
     "output_type": "stream",
     "text": [
      "Epoch: 419\n"
     ]
    },
    {
     "name": "stderr",
     "output_type": "stream",
     "text": [
      "Epoch 420/500: 100%|██████████| 1/1 [00:00<00:00, 24.59it/s]\n",
      "Epoch 421/500: 100%|██████████| 1/1 [00:00<00:00, 25.40it/s]\n",
      "Validation: 100%|██████████| 1/1 [00:00<00:00, 54.05it/s]\n"
     ]
    },
    {
     "name": "stdout",
     "output_type": "stream",
     "text": [
      "Epoch: 421\n"
     ]
    },
    {
     "name": "stderr",
     "output_type": "stream",
     "text": [
      "Epoch 422/500: 100%|██████████| 1/1 [00:00<00:00, 25.48it/s]\n",
      "Epoch 423/500: 100%|██████████| 1/1 [00:00<00:00, 24.97it/s]\n",
      "Validation: 100%|██████████| 1/1 [00:00<00:00, 53.08it/s]\n"
     ]
    },
    {
     "name": "stdout",
     "output_type": "stream",
     "text": [
      "Epoch: 423\n"
     ]
    },
    {
     "name": "stderr",
     "output_type": "stream",
     "text": [
      "Epoch 424/500: 100%|██████████| 1/1 [00:00<00:00, 24.90it/s]\n",
      "Epoch 425/500: 100%|██████████| 1/1 [00:00<00:00, 24.08it/s]\n",
      "Validation: 100%|██████████| 1/1 [00:00<00:00, 52.26it/s]\n"
     ]
    },
    {
     "name": "stdout",
     "output_type": "stream",
     "text": [
      "Epoch: 425\n"
     ]
    },
    {
     "name": "stderr",
     "output_type": "stream",
     "text": [
      "Epoch 426/500: 100%|██████████| 1/1 [00:00<00:00, 25.41it/s]\n",
      "Epoch 427/500: 100%|██████████| 1/1 [00:00<00:00, 23.77it/s]\n",
      "Validation: 100%|██████████| 1/1 [00:00<00:00, 54.04it/s]\n"
     ]
    },
    {
     "name": "stdout",
     "output_type": "stream",
     "text": [
      "Epoch: 427\n"
     ]
    },
    {
     "name": "stderr",
     "output_type": "stream",
     "text": [
      "Epoch 428/500: 100%|██████████| 1/1 [00:00<00:00, 24.29it/s]\n",
      "Epoch 429/500: 100%|██████████| 1/1 [00:00<00:00, 24.60it/s]\n",
      "Validation: 100%|██████████| 1/1 [00:00<00:00, 55.60it/s]\n"
     ]
    },
    {
     "name": "stdout",
     "output_type": "stream",
     "text": [
      "Epoch: 429\n"
     ]
    },
    {
     "name": "stderr",
     "output_type": "stream",
     "text": [
      "Epoch 430/500: 100%|██████████| 1/1 [00:00<00:00, 24.90it/s]\n",
      "Epoch 431/500: 100%|██████████| 1/1 [00:00<00:00, 25.68it/s]\n",
      "Validation: 100%|██████████| 1/1 [00:00<00:00, 57.13it/s]\n"
     ]
    },
    {
     "name": "stdout",
     "output_type": "stream",
     "text": [
      "Epoch: 431\n"
     ]
    },
    {
     "name": "stderr",
     "output_type": "stream",
     "text": [
      "Epoch 432/500: 100%|██████████| 1/1 [00:00<00:00, 25.42it/s]\n",
      "Epoch 433/500: 100%|██████████| 1/1 [00:00<00:00, 25.07it/s]\n",
      "Validation: 100%|██████████| 1/1 [00:00<00:00, 52.86it/s]\n"
     ]
    },
    {
     "name": "stdout",
     "output_type": "stream",
     "text": [
      "Epoch: 433\n"
     ]
    },
    {
     "name": "stderr",
     "output_type": "stream",
     "text": [
      "Epoch 434/500: 100%|██████████| 1/1 [00:00<00:00, 24.84it/s]\n",
      "Epoch 435/500: 100%|██████████| 1/1 [00:00<00:00, 24.56it/s]\n",
      "Validation: 100%|██████████| 1/1 [00:00<00:00, 52.00it/s]\n"
     ]
    },
    {
     "name": "stdout",
     "output_type": "stream",
     "text": [
      "Epoch: 435\n"
     ]
    },
    {
     "name": "stderr",
     "output_type": "stream",
     "text": [
      "Epoch 436/500: 100%|██████████| 1/1 [00:00<00:00, 24.78it/s]\n",
      "Epoch 437/500: 100%|██████████| 1/1 [00:00<00:00, 23.64it/s]\n",
      "Validation: 100%|██████████| 1/1 [00:00<00:00, 49.03it/s]\n"
     ]
    },
    {
     "name": "stdout",
     "output_type": "stream",
     "text": [
      "Epoch: 437\n"
     ]
    },
    {
     "name": "stderr",
     "output_type": "stream",
     "text": [
      "Epoch 438/500: 100%|██████████| 1/1 [00:00<00:00, 24.64it/s]\n",
      "Epoch 439/500: 100%|██████████| 1/1 [00:00<00:00, 24.13it/s]\n",
      "Validation: 100%|██████████| 1/1 [00:00<00:00, 52.84it/s]\n"
     ]
    },
    {
     "name": "stdout",
     "output_type": "stream",
     "text": [
      "Epoch: 439\n"
     ]
    },
    {
     "name": "stderr",
     "output_type": "stream",
     "text": [
      "Epoch 440/500: 100%|██████████| 1/1 [00:00<00:00, 22.18it/s]\n",
      "Epoch 441/500: 100%|██████████| 1/1 [00:00<00:00, 24.29it/s]\n",
      "Validation: 100%|██████████| 1/1 [00:00<00:00, 54.76it/s]\n"
     ]
    },
    {
     "name": "stdout",
     "output_type": "stream",
     "text": [
      "Epoch: 441\n"
     ]
    },
    {
     "name": "stderr",
     "output_type": "stream",
     "text": [
      "Epoch 442/500: 100%|██████████| 1/1 [00:00<00:00, 24.29it/s]\n",
      "Epoch 443/500: 100%|██████████| 1/1 [00:00<00:00, 24.69it/s]\n",
      "Validation: 100%|██████████| 1/1 [00:00<00:00, 52.64it/s]\n"
     ]
    },
    {
     "name": "stdout",
     "output_type": "stream",
     "text": [
      "Epoch: 443\n"
     ]
    },
    {
     "name": "stderr",
     "output_type": "stream",
     "text": [
      "Epoch 444/500: 100%|██████████| 1/1 [00:00<00:00, 22.77it/s]\n",
      "Epoch 445/500: 100%|██████████| 1/1 [00:00<00:00, 21.99it/s]\n",
      "Validation: 100%|██████████| 1/1 [00:00<00:00, 55.96it/s]\n"
     ]
    },
    {
     "name": "stdout",
     "output_type": "stream",
     "text": [
      "Epoch: 445\n"
     ]
    },
    {
     "name": "stderr",
     "output_type": "stream",
     "text": [
      "Epoch 446/500: 100%|██████████| 1/1 [00:00<00:00, 25.02it/s]\n",
      "Epoch 447/500: 100%|██████████| 1/1 [00:00<00:00, 25.35it/s]\n",
      "Validation: 100%|██████████| 1/1 [00:00<00:00, 55.27it/s]\n"
     ]
    },
    {
     "name": "stdout",
     "output_type": "stream",
     "text": [
      "Epoch: 447\n"
     ]
    },
    {
     "name": "stderr",
     "output_type": "stream",
     "text": [
      "Epoch 448/500: 100%|██████████| 1/1 [00:00<00:00, 24.76it/s]\n",
      "Epoch 449/500: 100%|██████████| 1/1 [00:00<00:00, 25.38it/s]\n",
      "Validation: 100%|██████████| 1/1 [00:00<00:00, 55.37it/s]\n"
     ]
    },
    {
     "name": "stdout",
     "output_type": "stream",
     "text": [
      "Epoch: 449\n"
     ]
    },
    {
     "name": "stderr",
     "output_type": "stream",
     "text": [
      "Epoch 450/500: 100%|██████████| 1/1 [00:00<00:00, 25.09it/s]\n",
      "Epoch 451/500: 100%|██████████| 1/1 [00:00<00:00, 24.45it/s]\n",
      "Validation: 100%|██████████| 1/1 [00:00<00:00, 58.40it/s]\n"
     ]
    },
    {
     "name": "stdout",
     "output_type": "stream",
     "text": [
      "Epoch: 451\n"
     ]
    },
    {
     "name": "stderr",
     "output_type": "stream",
     "text": [
      "Epoch 452/500: 100%|██████████| 1/1 [00:00<00:00, 25.18it/s]\n",
      "Epoch 453/500: 100%|██████████| 1/1 [00:00<00:00, 23.85it/s]\n",
      "Validation: 100%|██████████| 1/1 [00:00<00:00, 51.18it/s]\n"
     ]
    },
    {
     "name": "stdout",
     "output_type": "stream",
     "text": [
      "Epoch: 453\n"
     ]
    },
    {
     "name": "stderr",
     "output_type": "stream",
     "text": [
      "Epoch 454/500: 100%|██████████| 1/1 [00:00<00:00, 23.96it/s]\n",
      "Epoch 455/500: 100%|██████████| 1/1 [00:00<00:00, 24.73it/s]\n",
      "Validation: 100%|██████████| 1/1 [00:00<00:00, 51.51it/s]\n"
     ]
    },
    {
     "name": "stdout",
     "output_type": "stream",
     "text": [
      "Epoch: 455\n"
     ]
    },
    {
     "name": "stderr",
     "output_type": "stream",
     "text": [
      "Epoch 456/500: 100%|██████████| 1/1 [00:00<00:00, 24.20it/s]\n",
      "Epoch 457/500: 100%|██████████| 1/1 [00:00<00:00, 24.20it/s]\n",
      "Validation: 100%|██████████| 1/1 [00:00<00:00, 52.73it/s]\n"
     ]
    },
    {
     "name": "stdout",
     "output_type": "stream",
     "text": [
      "Epoch: 457\n"
     ]
    },
    {
     "name": "stderr",
     "output_type": "stream",
     "text": [
      "Epoch 458/500: 100%|██████████| 1/1 [00:00<00:00, 24.87it/s]\n",
      "Epoch 459/500: 100%|██████████| 1/1 [00:00<00:00, 23.53it/s]\n",
      "Validation: 100%|██████████| 1/1 [00:00<00:00, 53.98it/s]\n"
     ]
    },
    {
     "name": "stdout",
     "output_type": "stream",
     "text": [
      "Epoch: 459\n"
     ]
    },
    {
     "name": "stderr",
     "output_type": "stream",
     "text": [
      "Epoch 460/500: 100%|██████████| 1/1 [00:00<00:00, 23.86it/s]\n",
      "Epoch 461/500: 100%|██████████| 1/1 [00:00<00:00, 24.38it/s]\n",
      "Validation: 100%|██████████| 1/1 [00:00<00:00, 54.19it/s]\n"
     ]
    },
    {
     "name": "stdout",
     "output_type": "stream",
     "text": [
      "Epoch: 461\n"
     ]
    },
    {
     "name": "stderr",
     "output_type": "stream",
     "text": [
      "Epoch 462/500: 100%|██████████| 1/1 [00:00<00:00, 23.50it/s]\n",
      "Epoch 463/500: 100%|██████████| 1/1 [00:00<00:00, 22.02it/s]\n",
      "Validation: 100%|██████████| 1/1 [00:00<00:00, 56.92it/s]\n"
     ]
    },
    {
     "name": "stdout",
     "output_type": "stream",
     "text": [
      "Epoch: 463\n"
     ]
    },
    {
     "name": "stderr",
     "output_type": "stream",
     "text": [
      "Epoch 464/500: 100%|██████████| 1/1 [00:00<00:00, 24.85it/s]\n",
      "Epoch 465/500: 100%|██████████| 1/1 [00:00<00:00, 23.57it/s]\n",
      "Validation: 100%|██████████| 1/1 [00:00<00:00, 49.22it/s]\n"
     ]
    },
    {
     "name": "stdout",
     "output_type": "stream",
     "text": [
      "Epoch: 465\n"
     ]
    },
    {
     "name": "stderr",
     "output_type": "stream",
     "text": [
      "Epoch 466/500: 100%|██████████| 1/1 [00:00<00:00, 24.94it/s]\n",
      "Epoch 467/500: 100%|██████████| 1/1 [00:00<00:00, 24.91it/s]\n",
      "Validation: 100%|██████████| 1/1 [00:00<00:00, 47.63it/s]\n"
     ]
    },
    {
     "name": "stdout",
     "output_type": "stream",
     "text": [
      "Epoch: 467\n"
     ]
    },
    {
     "name": "stderr",
     "output_type": "stream",
     "text": [
      "Epoch 468/500: 100%|██████████| 1/1 [00:00<00:00, 25.17it/s]\n",
      "Epoch 469/500: 100%|██████████| 1/1 [00:00<00:00, 24.67it/s]\n",
      "Validation: 100%|██████████| 1/1 [00:00<00:00, 53.82it/s]\n"
     ]
    },
    {
     "name": "stdout",
     "output_type": "stream",
     "text": [
      "Epoch: 469\n"
     ]
    },
    {
     "name": "stderr",
     "output_type": "stream",
     "text": [
      "Epoch 470/500: 100%|██████████| 1/1 [00:00<00:00, 21.12it/s]\n",
      "Epoch 471/500: 100%|██████████| 1/1 [00:00<00:00, 23.49it/s]\n",
      "Validation: 100%|██████████| 1/1 [00:00<00:00, 56.11it/s]\n"
     ]
    },
    {
     "name": "stdout",
     "output_type": "stream",
     "text": [
      "Epoch: 471\n"
     ]
    },
    {
     "name": "stderr",
     "output_type": "stream",
     "text": [
      "Epoch 472/500: 100%|██████████| 1/1 [00:00<00:00, 24.52it/s]\n",
      "Epoch 473/500: 100%|██████████| 1/1 [00:00<00:00, 24.27it/s]\n",
      "Validation: 100%|██████████| 1/1 [00:00<00:00, 53.28it/s]\n"
     ]
    },
    {
     "name": "stdout",
     "output_type": "stream",
     "text": [
      "Epoch: 473\n"
     ]
    },
    {
     "name": "stderr",
     "output_type": "stream",
     "text": [
      "Epoch 474/500: 100%|██████████| 1/1 [00:00<00:00, 24.11it/s]\n",
      "Epoch 475/500: 100%|██████████| 1/1 [00:00<00:00, 24.57it/s]\n",
      "Validation: 100%|██████████| 1/1 [00:00<00:00, 55.88it/s]\n"
     ]
    },
    {
     "name": "stdout",
     "output_type": "stream",
     "text": [
      "Epoch: 475\n"
     ]
    },
    {
     "name": "stderr",
     "output_type": "stream",
     "text": [
      "Epoch 476/500: 100%|██████████| 1/1 [00:00<00:00, 24.69it/s]\n",
      "Epoch 477/500: 100%|██████████| 1/1 [00:00<00:00, 24.54it/s]\n",
      "Validation: 100%|██████████| 1/1 [00:00<00:00, 55.00it/s]\n"
     ]
    },
    {
     "name": "stdout",
     "output_type": "stream",
     "text": [
      "Epoch: 477\n"
     ]
    },
    {
     "name": "stderr",
     "output_type": "stream",
     "text": [
      "Epoch 478/500: 100%|██████████| 1/1 [00:00<00:00, 24.43it/s]\n",
      "Epoch 479/500: 100%|██████████| 1/1 [00:00<00:00, 23.42it/s]\n",
      "Validation: 100%|██████████| 1/1 [00:00<00:00, 53.70it/s]\n"
     ]
    },
    {
     "name": "stdout",
     "output_type": "stream",
     "text": [
      "Epoch: 479\n"
     ]
    },
    {
     "name": "stderr",
     "output_type": "stream",
     "text": [
      "Epoch 480/500: 100%|██████████| 1/1 [00:00<00:00, 24.11it/s]\n",
      "Epoch 481/500: 100%|██████████| 1/1 [00:00<00:00, 24.51it/s]\n",
      "Validation: 100%|██████████| 1/1 [00:00<00:00, 53.54it/s]\n"
     ]
    },
    {
     "name": "stdout",
     "output_type": "stream",
     "text": [
      "Epoch: 481\n"
     ]
    },
    {
     "name": "stderr",
     "output_type": "stream",
     "text": [
      "Epoch 482/500: 100%|██████████| 1/1 [00:00<00:00, 24.17it/s]\n",
      "Epoch 483/500: 100%|██████████| 1/1 [00:00<00:00, 24.61it/s]\n",
      "Validation: 100%|██████████| 1/1 [00:00<00:00, 53.78it/s]\n"
     ]
    },
    {
     "name": "stdout",
     "output_type": "stream",
     "text": [
      "Epoch: 483\n"
     ]
    },
    {
     "name": "stderr",
     "output_type": "stream",
     "text": [
      "Epoch 484/500: 100%|██████████| 1/1 [00:00<00:00, 24.54it/s]\n",
      "Epoch 485/500: 100%|██████████| 1/1 [00:00<00:00, 23.72it/s]\n",
      "Validation: 100%|██████████| 1/1 [00:00<00:00, 55.02it/s]\n"
     ]
    },
    {
     "name": "stdout",
     "output_type": "stream",
     "text": [
      "Epoch: 485\n"
     ]
    },
    {
     "name": "stderr",
     "output_type": "stream",
     "text": [
      "Epoch 486/500: 100%|██████████| 1/1 [00:00<00:00, 24.18it/s]\n",
      "Epoch 487/500: 100%|██████████| 1/1 [00:00<00:00, 25.00it/s]\n",
      "Validation: 100%|██████████| 1/1 [00:00<00:00, 54.42it/s]\n"
     ]
    },
    {
     "name": "stdout",
     "output_type": "stream",
     "text": [
      "Epoch: 487\n"
     ]
    },
    {
     "name": "stderr",
     "output_type": "stream",
     "text": [
      "Epoch 488/500: 100%|██████████| 1/1 [00:00<00:00, 24.40it/s]\n",
      "Epoch 489/500: 100%|██████████| 1/1 [00:00<00:00, 25.06it/s]\n",
      "Validation: 100%|██████████| 1/1 [00:00<00:00, 54.34it/s]\n"
     ]
    },
    {
     "name": "stdout",
     "output_type": "stream",
     "text": [
      "Epoch: 489\n"
     ]
    },
    {
     "name": "stderr",
     "output_type": "stream",
     "text": [
      "Epoch 490/500: 100%|██████████| 1/1 [00:00<00:00, 24.16it/s]\n",
      "Epoch 491/500: 100%|██████████| 1/1 [00:00<00:00, 24.73it/s]\n",
      "Validation: 100%|██████████| 1/1 [00:00<00:00, 54.54it/s]\n"
     ]
    },
    {
     "name": "stdout",
     "output_type": "stream",
     "text": [
      "Epoch: 491\n"
     ]
    },
    {
     "name": "stderr",
     "output_type": "stream",
     "text": [
      "Epoch 492/500: 100%|██████████| 1/1 [00:00<00:00, 25.01it/s]\n",
      "Epoch 493/500: 100%|██████████| 1/1 [00:00<00:00, 25.48it/s]\n",
      "Validation: 100%|██████████| 1/1 [00:00<00:00, 56.70it/s]\n"
     ]
    },
    {
     "name": "stdout",
     "output_type": "stream",
     "text": [
      "Epoch: 493\n"
     ]
    },
    {
     "name": "stderr",
     "output_type": "stream",
     "text": [
      "Epoch 494/500: 100%|██████████| 1/1 [00:00<00:00, 26.03it/s]\n",
      "Epoch 495/500: 100%|██████████| 1/1 [00:00<00:00, 22.80it/s]\n",
      "Validation: 100%|██████████| 1/1 [00:00<00:00, 54.70it/s]\n"
     ]
    },
    {
     "name": "stdout",
     "output_type": "stream",
     "text": [
      "Epoch: 495\n"
     ]
    },
    {
     "name": "stderr",
     "output_type": "stream",
     "text": [
      "Epoch 496/500: 100%|██████████| 1/1 [00:00<00:00, 24.19it/s]\n",
      "Epoch 497/500: 100%|██████████| 1/1 [00:00<00:00, 24.16it/s]\n",
      "Validation: 100%|██████████| 1/1 [00:00<00:00, 52.82it/s]\n"
     ]
    },
    {
     "name": "stdout",
     "output_type": "stream",
     "text": [
      "Epoch: 497\n"
     ]
    },
    {
     "name": "stderr",
     "output_type": "stream",
     "text": [
      "Epoch 498/500: 100%|██████████| 1/1 [00:00<00:00, 25.51it/s]\n",
      "Epoch 499/500: 100%|██████████| 1/1 [00:00<00:00, 24.62it/s]\n",
      "Validation: 100%|██████████| 1/1 [00:00<00:00, 54.05it/s]\n"
     ]
    },
    {
     "name": "stdout",
     "output_type": "stream",
     "text": [
      "Epoch: 499\n"
     ]
    },
    {
     "name": "stderr",
     "output_type": "stream",
     "text": [
      "Epoch 500/500: 100%|██████████| 1/1 [00:00<00:00, 24.01it/s]"
     ]
    },
    {
     "name": "stdout",
     "output_type": "stream",
     "text": [
      "Training completed!\n"
     ]
    },
    {
     "name": "stderr",
     "output_type": "stream",
     "text": [
      "\n"
     ]
    }
   ],
   "source": [
    "# Training\n",
    "epochs = 500\n",
    "optimizer = optim.AdamW(model.parameters(), lr=1e-2, weight_decay=1e-3)\n",
    "\n",
    "losses = []\n",
    "last_loss = torch.inf\n",
    "avg_train_loss, avg_primal_loss, avg_fixed_point_loss, avg_projection_loss = [], [], [], []\n",
    "avg_val_loss = []\n",
    "\n",
    "for epoch in range(epochs):\n",
    "    \n",
    "    # Train Loop\n",
    "    model.train()\n",
    "    losses_train, primal_losses, fixed_point_losses, projection_losses = [], [], [], []\n",
    "    \n",
    "    for (inp) in tqdm(train_loader, desc=f\"Epoch {epoch+1}/{epochs}\"):\n",
    "        \n",
    "        # Input and Output \n",
    "        inp = inp.to(device)\n",
    "        \n",
    "        # Forward pass through quadruped model\n",
    "        xi_projected, avg_res_fixed_point, avg_res_primal, res_primal_history, res_fixed_point_history = model(inp)\n",
    "        \n",
    "        # Compute loss\n",
    "        primal_loss, fixed_point_loss, projection_loss, loss = model.mlp_loss(\n",
    "            avg_res_primal, avg_res_fixed_point, inp, xi_projected)\n",
    "\n",
    "        optimizer.zero_grad()\n",
    "        loss.backward()\n",
    "        \n",
    "        # Optional gradient clipping\n",
    "        torch.nn.utils.clip_grad_norm_(model.parameters(), max_norm=1.0)\n",
    "        \n",
    "        optimizer.step()\n",
    "        \n",
    "        losses_train.append(loss.detach().cpu().numpy()) \n",
    "        primal_losses.append(primal_loss.detach().cpu().numpy())\n",
    "        fixed_point_losses.append(fixed_point_loss.detach().cpu().numpy())\n",
    "        projection_losses.append(projection_loss.detach().cpu().numpy())\n",
    "        \n",
    "    # Validation every 2 epochs\n",
    "    if epoch % 2 == 0:\n",
    "        model.eval()\n",
    "        val_losses = []\n",
    "\n",
    "        with torch.no_grad():\n",
    "            for (inp_val) in tqdm(val_loader, desc=\"Validation\"):\n",
    "                inp_val = inp_val.to(device)\n",
    "\n",
    "                xi_projected, avg_res_fixed_point, avg_res_primal, res_primal_history, res_fixed_point_history = model(inp_val)\n",
    "\n",
    "                _, _, _, val_loss = model.mlp_loss(\n",
    "                    avg_res_primal, avg_res_fixed_point, inp_val, xi_projected\n",
    "                )\n",
    "\n",
    "                val_losses.append(val_loss.detach().cpu().numpy())\n",
    "\n",
    "    # Print progress every 2 epochs\n",
    "    if epoch % 2 == 0:    \n",
    "        print(f\"Epoch: {epoch + 1}\")\n",
    "        \n",
    "        # if len(val_losses) > 0:\n",
    "        #     print(f\"Validation Loss: {np.average(val_losses):.4f}\")\n",
    "\n",
    "    # Save best model\n",
    "    os.makedirs(\"./training_weights\", exist_ok=True)\n",
    "    if loss <= last_loss:\n",
    "        torch.save(model.state_dict(), f\"./training_weights/mlp_learned_quadruped_gru.pth\")\n",
    "        last_loss = loss\n",
    "\n",
    "    # Store metrics\n",
    "    avg_train_loss.append(np.average(losses_train))\n",
    "    avg_primal_loss.append(np.average(primal_losses))\n",
    "    avg_projection_loss.append(np.average(projection_losses))\n",
    "    avg_fixed_point_loss.append(np.average(fixed_point_losses))\n",
    "    \n",
    "    if len(val_losses) > 0:\n",
    "        avg_val_loss.append(np.average(val_losses))\n",
    "    else:\n",
    "        avg_val_loss.append(avg_val_loss[-1] if avg_val_loss else 0.0)\n",
    "\n",
    "print(\"Training completed!\")\n",
    "\n"
   ]
  },
  {
   "cell_type": "code",
   "execution_count": 9,
   "id": "4a0c60bc",
   "metadata": {},
   "outputs": [
    {
     "data": {
      "image/png": "[encoded data removed]",
      "text/plain": [
       "<Figure size 1200x600 with 1 Axes>"
      ]
     },
     "metadata": {},
     "output_type": "display_data"
    },
    {
     "data": {
      "image/png": "[encoded data removed]",
      "text/plain": [
       "<Figure size 1200x600 with 1 Axes>"
      ]
     },
     "metadata": {},
     "output_type": "display_data"
    }
   ],
   "source": [
    "# Plot training losses\n",
    "\n",
    "plt.figure(figsize=(12, 6))\n",
    "\n",
    "plt.plot(avg_train_loss, label='Total Loss')\n",
    "plt.plot(avg_primal_loss, label='Primal Loss')\n",
    "plt.plot(avg_fixed_point_loss, label='Fixed-Point Loss')\n",
    "plt.plot(avg_projection_loss, label='Projection Loss')\n",
    "\n",
    "\n",
    "plt.title('Training Loss Curves')\n",
    "plt.xlabel('Epoch')\n",
    "plt.ylabel('Loss')\n",
    "plt.legend()\n",
    "plt.grid(True)\n",
    "plt.tight_layout()\n",
    "plt.show()\n",
    "\n",
    "# Plot validation losses\n",
    "plt.figure(figsize=(12, 6))\n",
    "plt.plot(avg_val_loss, label='Validation Loss')\n",
    "\n",
    "plt.title('Validation Loss Curves')\n",
    "plt.xlabel('Epoch')\n",
    "plt.ylabel('Loss')\n",
    "plt.legend()\n",
    "plt.grid(True)\n",
    "plt.tight_layout()\n",
    "plt.show()"
   ]
  }
 ],
 "metadata": {
  "kernelspec": {
   "display_name": "manipulator_torch_env",
   "language": "python",
   "name": "python3"
  },
  "language_info": {
   "codemirror_mode": {
    "name": "ipython",
    "version": 3
   },
   "file_extension": ".py",
   "mimetype": "text/x-python",
   "name": "python",
   "nbconvert_exporter": "python",
   "pygments_lexer": "ipython3",
   "version": "3.12.3"
  }
 },
 "nbformat": 4,
 "nbformat_minor": 5
}
