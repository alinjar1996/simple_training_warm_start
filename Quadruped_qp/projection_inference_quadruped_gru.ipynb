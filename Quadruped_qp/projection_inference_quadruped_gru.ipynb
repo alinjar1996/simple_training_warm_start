{
 "cells": [
  {
   "cell_type": "code",
   "execution_count": 16,
   "id": "7ae03972",
   "metadata": {},
   "outputs": [],
   "source": [
    "# parser = argparse.ArgumentParser(description=\"Choose RNN module: LSTM or GRU\")\n",
    "# parser.add_argument(\"--rnn_module\", type=str, default=\"LSTM\", help=\"Choose RNN module: LSTM or GRU\")\n",
    "# args = parser.parse_args()\n",
    "\n",
    "rnn = \"GRU\"\n"
   ]
  },
  {
   "cell_type": "code",
   "execution_count": 17,
   "id": "045c494f",
   "metadata": {},
   "outputs": [
    {
     "name": "stdout",
     "output_type": "stream",
     "text": [
      "/home/alinjar/simple_training_warm_start/Quadruped_qp\n"
     ]
    }
   ],
   "source": [
    "import os\n",
    "current_working_directory = os.getcwd()\n",
    "print(current_working_directory)\n",
    "\n",
    "import matplotlib.pyplot as plt\n",
    "\n",
    "\n",
    "import numpy as np \n",
    "import torch \n",
    "import torch.nn as nn \n",
    "import torch.optim as optim\n",
    "\n",
    "from torch.utils.data import Dataset, DataLoader\n",
    "import scipy.io as sio\n",
    "\n",
    "from tqdm import trange, tqdm\n",
    "\n",
    "# Import the single DOF finite difference model MLP model\n",
    "from mlp_quadruped_rnn import MLP, MLPQuadrupedProjectionFilter, CustomGRULayer, GRU_Hidden_State, CustomLSTMLayer, LSTM_Hidden_State\n",
    "\n",
    "from scipy.spatial.transform import Rotation as R\n"
   ]
  },
  {
   "cell_type": "code",
   "execution_count": 18,
   "id": "155089d0",
   "metadata": {},
   "outputs": [],
   "source": [
    "def sample_uniform_variables(key, var_min, var_max, dataset_size, nvar):\n",
    "    rng = np.random.default_rng(seed=key)\n",
    "    xi_samples = rng.uniform(\n",
    "        low=var_min,\n",
    "        high=var_max,\n",
    "        size=(dataset_size, nvar)\n",
    "    )\n",
    "    return xi_samples, rng"
   ]
  },
  {
   "cell_type": "code",
   "execution_count": 19,
   "id": "72c9cf4a",
   "metadata": {},
   "outputs": [],
   "source": [
    "# Parameters for Quadruped Model\n",
    "num_batch = 1\n",
    "timestep = 0.05  # 50 Hz control frequency\n",
    "horizon = 10     # prediction horizon steps\n",
    "num_legs = 4\n",
    "friction_coeff = 0.2\n",
    "body_mass = 50.0  # kg\n",
    "\n",
    "body_inertia=(1.0, 0.0, 0.0, 0.0, 1.0, 0.0, 0.0, 0.0, 1.0)\n",
    "\n",
    "# Desired motion parameters\n",
    "# desired_speed_x_tensor, rng = sample_uniform_variable(42, -0.5, 0.5, 1, 1)\n",
    "# desired_speed_x = desired_speed_x_tensor.squeeze().item()\n",
    "# print(\"desired_speed_x\", desired_speed_x)\n",
    "desired_body_height = 0.5     # m\n",
    "\n",
    "\n",
    "# Problem dimensions for quadruped force control\n",
    "\n",
    "\n",
    "##Parameters for MLP model\n",
    "# Default states\n",
    "BaseRollPitchYaw = (0.0, 0.0, 0.0)\n",
    "AngularVelocityBodyFrame = (0.0, 0.0, 0.0)\n",
    "ComVelocityBodyFrame = (0.0, 0.0, 0.0)\n",
    "FootContacts = (True, True, True, True)\n",
    "slope_estimate = (0.0, 0.0, 0.0)\n",
    "RotationBodyWrtWorld = (1.0, 0.0, 0.0, 0.0, 1.0, 0.0, 0.0, 0.0, 1.0)\n",
    "\n",
    "roll, pitch, yaw = BaseRollPitchYaw\n",
    "\n",
    "# Create rotation object from Euler angles (in radians)\n",
    "rot = R.from_euler('xyz', [roll, pitch, yaw])\n",
    "\n",
    "# Convert to rotation matrix\n",
    "rotation_matrix = rot.as_matrix()  # Shape (3, 3)\n",
    "\n",
    "# Flatten into a 9-element tuple (row-major order)\n",
    "RotationBodyWrtWorld = tuple(rotation_matrix.flatten())\n",
    "#self.RotationBodyWrtWorld = (1.0, 0.0, 0.0, 0.0, 1.0, 0.0, 0.0, 0.0, 1.0)\n",
    "\n"
   ]
  },
  {
   "cell_type": "code",
   "execution_count": 20,
   "id": "86aac9ee",
   "metadata": {},
   "outputs": [],
   "source": [
    "\"\"\"Setup foot positions and default states for quadruped\"\"\"\n",
    "# Foot positions in body frame\n",
    "foot_x=0.2\n",
    "foot_y=0.2\n",
    "foot_z=-desired_body_height\n",
    "\n",
    "FootPositionsInBodyFrame = torch.tensor([\n",
    "    [ foot_x,  foot_y, foot_z],\n",
    "    [-foot_x,  foot_y, foot_z],\n",
    "    [ foot_x, -foot_y, foot_z],\n",
    "    [-foot_x, -foot_y, foot_z]])"
   ]
  },
  {
   "cell_type": "code",
   "execution_count": 21,
   "id": "f7816734",
   "metadata": {},
   "outputs": [],
   "source": [
    "# Maximum Iterations\n",
    "maxiter_projection = 20\n",
    "\n",
    "nvar = 3*num_legs*horizon\n",
    "\n",
    "num_total_constraints = 2*nvar"
   ]
  },
  {
   "cell_type": "code",
   "execution_count": 22,
   "id": "a8130efd",
   "metadata": {},
   "outputs": [
    {
     "name": "stdout",
     "output_type": "stream",
     "text": [
      "Using cuda device\n"
     ]
    }
   ],
   "source": [
    "device = torch.device(\"cuda\" if torch.cuda.is_available() else \"cpu\")\n",
    "print(f\"Using {device} device\")\n"
   ]
  },
  {
   "cell_type": "code",
   "execution_count": 23,
   "id": "430198bf",
   "metadata": {},
   "outputs": [
    {
     "name": "stdout",
     "output_type": "stream",
     "text": [
      "desired_speed_batched.shape (1, 2)\n",
      "desired_twisting_speed_batched.shape (1, 1)\n"
     ]
    }
   ],
   "source": [
    "desired_speed_batched, rng_desired_speed_batched = sample_uniform_variables(41, var_min= -0.2, var_max = 0.2, dataset_size=num_batch, nvar=2)\n",
    "desired_twisting_speed_batched,  rng_desired_twisting_speed_batched = sample_uniform_variables(\n",
    "                                                                      42, var_min= -0.2, var_max = 0.2, dataset_size=num_batch, \n",
    "                                                                      nvar=1)\n",
    "\n",
    "desired_speed_batched_val, rng_desired_speed_batched = sample_uniform_variables(40, var_min= -0.1, var_max = 0.1, dataset_size=num_batch, nvar=2)\n",
    "desired_twisting_speed_batched_val,  rng_desired_twisting_speed_batched = sample_uniform_variables(\n",
    "                                                                      39, var_min= -0.1, var_max = 0.1, dataset_size=num_batch,\n",
    "                                                                      nvar=1)\n",
    "\n",
    "print(\"desired_speed_batched.shape\", desired_speed_batched.shape)\n",
    "print(\"desired_twisting_speed_batched.shape\", desired_twisting_speed_batched.shape)\n"
   ]
  },
  {
   "cell_type": "code",
   "execution_count": 24,
   "id": "24366104",
   "metadata": {},
   "outputs": [],
   "source": [
    "inp = np.hstack((desired_speed_batched, desired_twisting_speed_batched))\n"
   ]
  },
  {
   "cell_type": "code",
   "execution_count": 25,
   "id": "42fcc29f",
   "metadata": {},
   "outputs": [
    {
     "name": "stdout",
     "output_type": "stream",
     "text": [
      "Inferencing with GRU\n"
     ]
    }
   ],
   "source": [
    "if rnn == \"GRU\":\n",
    "    print(\"Inferencing with GRU\")\n",
    "    #GRU handling\n",
    "    rnn = \"GRU\"\n",
    "    gru_input_size = 3*num_total_constraints+3*nvar\n",
    "    # print(gru_input_size)\n",
    "    gru_hidden_size = 512\n",
    "    # gru_output_size = (2*nvar)**2+2*nvar\n",
    "    gru_output_size = num_total_constraints+nvar\n",
    "    # gru_context_size = mlp_planner_inp_dim\n",
    "\n",
    "    gru_context = CustomGRULayer(gru_input_size, gru_hidden_size, gru_output_size)\n",
    "\n",
    "    rnn_context = gru_context\n",
    "\n",
    "\n",
    "    input_hidden_state_init = np.shape(inp)[1]\n",
    "    mid_hidden_state_init = 512\n",
    "    out_hidden_state_init = gru_hidden_size\n",
    "\n",
    "    gru_init  =  GRU_Hidden_State(input_hidden_state_init, mid_hidden_state_init, out_hidden_state_init)\n",
    "    \n",
    "    rnn_init = gru_init\n",
    "    ##\n",
    "elif rnn == \"LSTM\":\n",
    "    print(\"Inferencing with LSTM\")\n",
    "    #LSTM handling\n",
    "    rnn = \"LSTM\"\n",
    "    lstm_input_size = 3*num_total_constraints+3*nvar\n",
    "    # print(lstm_input_size)\n",
    "    lstm_hidden_size = 512\n",
    "    # lstm_output_size = (2*nvar)**2+2*nvar\n",
    "    lstm_output_size = num_total_constraints+nvar\n",
    "    # lstm_context_size = mlp_planner_inp_dim\n",
    "\n",
    "    lstm_context = CustomLSTMLayer(lstm_input_size, lstm_hidden_size, lstm_output_size)\n",
    "\n",
    "    rnn_context = lstm_context\n",
    "\n",
    "    input_hidden_state_init = np.shape(inp)[1]\n",
    "    mid_hidden_state_init = 512\n",
    "    out_hidden_state_init = lstm_hidden_size\n",
    "\n",
    "    lstm_init = LSTM_Hidden_State(input_hidden_state_init, mid_hidden_state_init, out_hidden_state_init)\n",
    "\n",
    "    rnn_init = lstm_init\n",
    "\n",
    "    ##\n",
    "\n",
    "##\n"
   ]
  },
  {
   "cell_type": "code",
   "execution_count": 26,
   "id": "7aaffb8c",
   "metadata": {},
   "outputs": [],
   "source": [
    "\n",
    "enc_inp_dim = np.shape(inp)[1] \n",
    "mlp_inp_dim = enc_inp_dim\n",
    "hidden_dim = 1024\n",
    "mlp_out_dim = 2*nvar + num_total_constraints #( xi_samples- 0:nvar, lamda_smples- nvar:2*nvar)\n",
    "\n",
    "mlp =  MLP(mlp_inp_dim, hidden_dim, mlp_out_dim)\n",
    "\n",
    "\n"
   ]
  },
  {
   "cell_type": "code",
   "execution_count": 27,
   "id": "efa4736d",
   "metadata": {},
   "outputs": [
    {
     "name": "stdout",
     "output_type": "stream",
     "text": [
      "<class 'mlp_quadruped_rnn.MLPQuadrupedProjectionFilter'>\n"
     ]
    },
    {
     "data": {
      "text/plain": [
       "MLPQuadrupedProjectionFilter(\n",
       "  (mlp): MLP(\n",
       "    (mlp): Sequential(\n",
       "      (0): Linear(in_features=3, out_features=1024, bias=True)\n",
       "      (1): LayerNorm((1024,), eps=1e-05, elementwise_affine=True)\n",
       "      (2): ReLU()\n",
       "      (3): Dropout(p=0.2, inplace=False)\n",
       "      (4): Linear(in_features=1024, out_features=1024, bias=True)\n",
       "      (5): LayerNorm((1024,), eps=1e-05, elementwise_affine=True)\n",
       "      (6): ReLU()\n",
       "      (7): Dropout(p=0.2, inplace=False)\n",
       "      (8): Linear(in_features=1024, out_features=256, bias=True)\n",
       "      (9): LayerNorm((256,), eps=1e-05, elementwise_affine=True)\n",
       "      (10): ReLU()\n",
       "      (11): Dropout(p=0.2, inplace=False)\n",
       "      (12): Linear(in_features=256, out_features=480, bias=True)\n",
       "    )\n",
       "  )\n",
       "  (gru_context): CustomGRULayer(\n",
       "    (gru_cell): GRUCell(1080, 512)\n",
       "    (output_transform): Sequential(\n",
       "      (0): Linear(in_features=512, out_features=512, bias=True)\n",
       "      (1): Tanh()\n",
       "      (2): Linear(in_features=512, out_features=360, bias=True)\n",
       "    )\n",
       "  )\n",
       "  (gru_init): GRU_Hidden_State(\n",
       "    (mlp): Sequential(\n",
       "      (0): Linear(in_features=3, out_features=512, bias=True)\n",
       "      (1): LayerNorm((512,), eps=1e-05, elementwise_affine=True)\n",
       "      (2): ReLU()\n",
       "      (3): Linear(in_features=512, out_features=512, bias=True)\n",
       "      (4): LayerNorm((512,), eps=1e-05, elementwise_affine=True)\n",
       "      (5): ReLU()\n",
       "      (6): Linear(in_features=512, out_features=512, bias=True)\n",
       "    )\n",
       "  )\n",
       "  (rcl_loss): MSELoss()\n",
       ")"
      ]
     },
     "execution_count": 27,
     "metadata": {},
     "output_type": "execute_result"
    }
   ],
   "source": [
    "# Create the quadruped model\n",
    "model = MLPQuadrupedProjectionFilter(\n",
    "    mlp=mlp,\n",
    "    rnn_context=rnn_context, \n",
    "    rnn_init=rnn_init, \n",
    "    num_batch=num_batch,\n",
    "    maxiter_projection=maxiter_projection,\n",
    "    BaseRollPitchYaw=BaseRollPitchYaw,\n",
    "    AngularVelocityBodyFrame=AngularVelocityBodyFrame,\n",
    "    ComVelocityBodyFrame=ComVelocityBodyFrame,\n",
    "    FootPositionsInBodyFrame=FootPositionsInBodyFrame,\n",
    "    FootContacts=FootContacts,\n",
    "    slope_estimate=slope_estimate,\n",
    "    RotationBodyWrtWorld=RotationBodyWrtWorld, \n",
    "    desired_body_height=desired_body_height,\n",
    "    body_mass=body_mass,\n",
    "    body_inertia=body_inertia,\n",
    "    num_legs=num_legs,\n",
    "    friction_coeff=friction_coeff,\n",
    "    timestep=timestep,\n",
    "    horizon=horizon,\n",
    "    rnn=rnn).to(device)\n",
    "\n",
    "print(type(model))\n",
    "\n",
    "model.load_state_dict(torch.load(f'./training_weights/mlp_learned_quadruped_{rnn}.pth', weights_only=True))\n",
    "model.eval()"
   ]
  },
  {
   "cell_type": "code",
   "execution_count": 28,
   "id": "000b7b35",
   "metadata": {},
   "outputs": [],
   "source": [
    "######\n",
    "#Generate Test Data\n",
    "\n",
    "\n",
    "inp_test = inp\n",
    "inp_test = torch.tensor(inp_test).float()\n",
    "inp_test = inp_test.to(device)\n",
    "inp_mean = inp_test.mean()\n",
    "inp_std = inp_test.std()\n",
    "# inp_test = torch.vstack([inp_test] * num_batch)\n",
    "inp_norm_test = (inp_test - inp_mean) / inp_std\n",
    "inp_norm_test = inp_norm_test.to(device)\n",
    "\n",
    "\n",
    "desired_speed_test = torch.from_numpy(desired_speed_batched).float().to(device)\n",
    "desired_twisting_speed_test = torch.from_numpy(desired_twisting_speed_batched).float().to(device)\n",
    "\n",
    "\n",
    "with torch.no_grad():\n",
    "    xi_projected, avg_res_fixed_point, avg_res_primal, res_primal_history, res_fixed_point_history = model.decoder_function(inp_norm_test, \n",
    "                                                                                                                            desired_speed_test, \n",
    "                                                                                                                            desired_twisting_speed_test, \n",
    "                                                                                                                            rnn)\n"
   ]
  },
  {
   "cell_type": "code",
   "execution_count": 29,
   "id": "88a97a58",
   "metadata": {},
   "outputs": [
    {
     "name": "stdout",
     "output_type": "stream",
     "text": [
      "\n",
      "Convergence Statistics:\n",
      "Prime residuals shape: (20, 1)\n",
      "Fixed point residuals shape: (20, 1)\n",
      "Start\n",
      "Max Prime residuals start: 0.0\n",
      "Max fixed residuals start: 7.34436559677124\n",
      "Min Prime residuals start: 0.0\n",
      "Min fixed residuals start: 7.34436559677124\n",
      "End\n",
      "Max Prime residuals end: 0.0\n",
      "Max fixed residuals end: 5.149843215942383\n",
      "Min Prime residuals end: 0.0\n",
      "Min fixed residuals end: 5.149843215942383\n"
     ]
    }
   ],
   "source": [
    "# Convert to numpy for analysis\n",
    "\n",
    "xi_filtered_np = np.array(xi_projected.cpu().detach().numpy())\n",
    "prime_residuals_np = np.array(res_primal_history.cpu().detach().numpy())\n",
    "fixed_residuals_np = np.array(res_fixed_point_history.cpu().detach().numpy())\n",
    "# Print convergence statistics\n",
    "print(f\"\\nConvergence Statistics:\")\n",
    "# print(f\"Final primal residual - Mean: {np.mean(prime_residuals_np[-1]):.6f}, Max: {np.max(prime_residuals_np[-1]):.6f}\")\n",
    "# print(f\"Final fixed point residual - Mean: {np.mean(fixed_residuals_np[-1]):.6f}, Max: {np.max(fixed_residuals_np[-1]):.6f}\")\n",
    "\n",
    "print(f\"Prime residuals shape: {prime_residuals_np.shape}\")\n",
    "print(f\"Fixed point residuals shape: {fixed_residuals_np.shape}\")\n",
    "\n",
    "#Save\n",
    "os.makedirs('results_quadruped_{rnn}_inference', exist_ok=True)\n",
    "\n",
    "#Start\n",
    "print(\"Start\")\n",
    "print(f\"Max Prime residuals start: {max(prime_residuals_np[0])}\")\n",
    "print(f\"Max fixed residuals start: {max(fixed_residuals_np[0])}\")\n",
    "print(f\"Min Prime residuals start: {min(prime_residuals_np[0])}\")\n",
    "print(f\"Min fixed residuals start: {min(fixed_residuals_np[0])}\")\n",
    "\n",
    "#End\n",
    "print(\"End\")\n",
    "print(f\"Max Prime residuals end: {max(prime_residuals_np[-1])}\")\n",
    "print(f\"Max fixed residuals end: {max(fixed_residuals_np[-1])}\")\n",
    "print(f\"Min Prime residuals end: {min(prime_residuals_np[-1])}\")\n",
    "print(f\"Min fixed residuals end: {min(fixed_residuals_np[-1])}\")\n",
    "\n",
    "\n",
    "\n",
    "np.savetxt('results_quadruped_{rnn}_inference/projected_trajectory.csv', xi_filtered_np, delimiter=',')\n",
    "np.savetxt('results_quadruped_{rnn}_inference/prime_residuals.csv', prime_residuals_np, delimiter=',')\n",
    "np.savetxt('results_quadruped_{rnn}_inference/fixed_residuals.csv', fixed_residuals_np, delimiter=',')"
   ]
  },
  {
   "cell_type": "code",
   "execution_count": 30,
   "id": "de0955a3",
   "metadata": {},
   "outputs": [
    {
     "data": {
      "image/png": "[encoded data removed]",
      "text/plain": [
       "<Figure size 640x480 with 1 Axes>"
      ]
     },
     "metadata": {},
     "output_type": "display_data"
    }
   ],
   "source": [
    "\n",
    "%matplotlib inline\n",
    "plt.figure(3)\n",
    "plt.plot(xi_filtered_np.T)\n",
    "plt.show()"
   ]
  },
  {
   "cell_type": "code",
   "execution_count": 31,
   "id": "af771c96",
   "metadata": {},
   "outputs": [],
   "source": [
    "import numpy as np\n",
    "import matplotlib.pyplot as plt\n",
    "\n",
    "\n",
    "def visualize_residuals(residuals):\n",
    "    \"\"\"Visualize residuals across iterations for a specific batch sample\"\"\"\n",
    "    \n",
    "    # residuals shape: (maxiter_projection, num_batch)\n",
    "    # Extract residuals for specific batch sample\n",
    "    \n",
    "    residuals_sample = residuals\n",
    "    \n",
    "    \n",
    "    \n",
    "    plt.figure(figsize=(10, 6))\n",
    "    plt.plot(residuals_sample, 'b-', marker='o')\n",
    "    plt.xlabel('Iteration')\n",
    "    plt.ylabel('Residual')\n",
    "    plt.title(f'ADMM Residuals Convergence )')\n",
    "    plt.grid(True)\n",
    "    \n",
    "    try:\n",
    "        plt.show()\n",
    "    except:\n",
    "        plt.savefig(f\"residuals_batch.png\")\n",
    "        print(f\"Residuals plot saved as residuals_batch.png\")\n",
    "        \n"
   ]
  },
  {
   "cell_type": "code",
   "execution_count": 32,
   "id": "fc513c61",
   "metadata": {},
   "outputs": [
    {
     "data": {
      "image/png": "[encoded data removed]",
      "text/plain": [
       "<Figure size 1000x600 with 1 Axes>"
      ]
     },
     "metadata": {},
     "output_type": "display_data"
    },
    {
     "data": {
      "image/png": "[encoded data removed]",
      "text/plain": [
       "<Figure size 1000x600 with 1 Axes>"
      ]
     },
     "metadata": {},
     "output_type": "display_data"
    }
   ],
   "source": [
    "%matplotlib inline\n",
    "\n",
    "visualize_residuals(prime_residuals_np)\n",
    "visualize_residuals(fixed_residuals_np)"
   ]
  },
  {
   "cell_type": "code",
   "execution_count": 33,
   "id": "da86f6da",
   "metadata": {},
   "outputs": [
    {
     "name": "stdout",
     "output_type": "stream",
     "text": [
      "Start\n",
      "Max Prime residuals start_GRU: 0.0\n",
      "Max fixed residuals start_GRU: 7.34436559677124\n",
      "Min Prime residuals start_GRU: 0.0\n",
      "Min fixed residuals start_GRU: 7.34436559677124\n",
      "End\n",
      "Max Prime residuals end_GRU: 0.0\n",
      "Max fixed residuals end_GRU: 5.149843215942383\n",
      "Min Prime residuals end_GRU: 0.0\n",
      "Min fixed residuals end_GRU: 5.149843215942383\n"
     ]
    }
   ],
   "source": [
    "#Start\n",
    "print(\"Start\")\n",
    "print(f\"Max Prime residuals start_{rnn}: {max(prime_residuals_np[0])}\")\n",
    "print(f\"Max fixed residuals start_{rnn}: {max(fixed_residuals_np[0])}\")\n",
    "print(f\"Min Prime residuals start_{rnn}: {min(prime_residuals_np[0])}\")\n",
    "print(f\"Min fixed residuals start_{rnn}: {min(fixed_residuals_np[0])}\")\n",
    "\n",
    "#End\n",
    "print(\"End\")\n",
    "print(f\"Max Prime residuals end_{rnn}: {max(prime_residuals_np[-1])}\")\n",
    "print(f\"Max fixed residuals end_{rnn}: {max(fixed_residuals_np[-1])}\")\n",
    "print(f\"Min Prime residuals end_{rnn}: {min(prime_residuals_np[-1])}\")\n",
    "print(f\"Min fixed residuals end_{rnn}: {min(fixed_residuals_np[-1])}\")"
   ]
  }
 ],
 "metadata": {
  "kernelspec": {
   "display_name": "manipulator_torch_env",
   "language": "python",
   "name": "python3"
  },
  "language_info": {
   "codemirror_mode": {
    "name": "ipython",
    "version": 3
   },
   "file_extension": ".py",
   "mimetype": "text/x-python",
   "name": "python",
   "nbconvert_exporter": "python",
   "pygments_lexer": "ipython3",
   "version": "3.12.3"
  }
 },
 "nbformat": 4,
 "nbformat_minor": 5
}
