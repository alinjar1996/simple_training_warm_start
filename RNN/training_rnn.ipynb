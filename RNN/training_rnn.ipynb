{
 "cells": [
  {
   "cell_type": "code",
   "execution_count": 1,
   "id": "5f8c6a33",
   "metadata": {},
   "outputs": [],
   "source": [
    "# import argparse\n",
    "\n",
    "# parser = argparse.ArgumentParser(description=\"Choose RNN module: LSTM or GRU\")\n",
    "# parser.add_argument(\"--rnn_module\", type=str, default=\"LSTM\", help=\"Choose RNN module: LSTM or GRU\")\n",
    "# args = parser.parse_args()\n",
    "\n",
    "#Choose GRU or LSTM here\n",
    "\n",
    "#rnn = \"GRU\"\n",
    "rnn = \"LSTM\""
   ]
  },
  {
   "cell_type": "code",
   "execution_count": 2,
   "id": "3312d148",
   "metadata": {},
   "outputs": [
    {
     "name": "stdout",
     "output_type": "stream",
     "text": [
      "/home/alinjar/simple_training_warm_start/RNN\n"
     ]
    }
   ],
   "source": [
    "import os\n",
    "current_working_directory = os.getcwd()\n",
    "print(current_working_directory)\n",
    "\n",
    "import matplotlib.pyplot as plt\n",
    "\n",
    "\n",
    "import numpy as np \n",
    "import torch \n",
    "import torch.nn as nn \n",
    "import torch.optim as optim\n",
    "\n",
    "from torch.utils.data import Dataset, DataLoader\n",
    "import scipy.io as sio\n",
    "\n",
    "from tqdm import trange, tqdm\n",
    "\n",
    "# Import the single DOF finite difference model\n",
    "from mlp_singledof_rnn import MLP, MLPProjectionFilter, CustomGRULayer, GRU_Hidden_State, CustomLSTMLayer, LSTM_Hidden_State\n",
    "\n"
   ]
  },
  {
   "cell_type": "code",
   "execution_count": 3,
   "id": "5d3f27d7",
   "metadata": {},
   "outputs": [],
   "source": [
    "class TrajDataset(Dataset):\n",
    "    \"\"\"Expert Trajectory Dataset.\"\"\"\n",
    "    def __init__(self, inp, theta_init, v_start, v_goal):\n",
    "        # input\n",
    "        self.inp = inp \n",
    "        self.theta_init = theta_init\n",
    "        self.v_start = v_start\n",
    "        self.v_goal = v_goal\n",
    "\n",
    "    def __len__(self):\n",
    "        return len(self.inp)    \n",
    "\n",
    "    def __getitem__(self, idx):\n",
    "        # Input\n",
    "        inp = self.inp[idx]\n",
    "        theta_init = self.theta_init[idx]\n",
    "        v_start = self.v_start[idx]\n",
    "        v_goal = self.v_goal[idx]\n",
    "\n",
    "        return (torch.tensor(inp).float(),\n",
    "                torch.tensor(theta_init).float(),\n",
    "                torch.tensor(v_start).float(),\n",
    "                torch.tensor(v_goal).float())"
   ]
  },
  {
   "cell_type": "code",
   "execution_count": 4,
   "id": "ea9d0aac",
   "metadata": {},
   "outputs": [],
   "source": [
    "def sample_uniform_trajectories(key, var_min, var_max, dataset_size, nvar):\n",
    "    rng = np.random.default_rng(seed=key)\n",
    "    xi_samples = rng.uniform(\n",
    "        low=var_min,\n",
    "        high=var_max,\n",
    "        size=(dataset_size, nvar)\n",
    "    )\n",
    "    return xi_samples, rng"
   ]
  },
  {
   "cell_type": "code",
   "execution_count": 5,
   "id": "06c0e452",
   "metadata": {},
   "outputs": [],
   "source": [
    "#Parameters for MLP model\n",
    "\n",
    "num_batch = 1000\n",
    "num_dof=1\n",
    "num_steps=50\n",
    "timestep=0.05\n",
    "v_max=1.0\n",
    "a_max=2.0\n",
    "j_max=5.0\n",
    "p_max=180.0*np.pi/180.0 \n",
    "theta_init=0.0\n",
    "maxiter_projection = 5\n",
    "nvar_single = num_steps\n",
    "nvar = num_dof * nvar_single\n",
    "theta_init_min=-np.pi\n",
    "theta_init_max=np.pi"
   ]
  },
  {
   "cell_type": "code",
   "execution_count": 6,
   "id": "d8e4b192",
   "metadata": {},
   "outputs": [],
   "source": [
    "#calculating number of constraints\n",
    "num_acc = num_steps - 1\n",
    "num_jerk = num_acc - 1\n",
    "num_pos = num_steps\n",
    "num_vel_constraints = 2 * num_steps * num_dof\n",
    "num_acc_constraints = 2 * num_acc * num_dof\n",
    "num_jerk_constraints = 2 * num_jerk * num_dof\n",
    "num_pos_constraints = 2 * num_pos * num_dof\n",
    "num_total_constraints = (num_vel_constraints + num_acc_constraints + \n",
    "                            num_jerk_constraints + num_pos_constraints)\n",
    "\n",
    "\n"
   ]
  },
  {
   "cell_type": "code",
   "execution_count": 7,
   "id": "c15fb698",
   "metadata": {},
   "outputs": [
    {
     "name": "stdout",
     "output_type": "stream",
     "text": [
      "Using cuda device\n"
     ]
    }
   ],
   "source": [
    "device = torch.device(\"cuda\" if torch.cuda.is_available() else \"cpu\")\n",
    "print(f\"Using {device} device\")\n",
    "\n",
    "#### creating dataset\n",
    "\n",
    "dataset_size = num_batch*20 #200000\n",
    "\n",
    "theta_init, rng_theta_init = sample_uniform_trajectories(41, var_min= theta_init_min, var_max = theta_init_max, dataset_size=dataset_size, nvar=1)\n",
    "#print(\"theta_init\", theta_init.shape)\n",
    "v_start, rng_v_start = sample_uniform_trajectories(40, var_min =-1.0*v_max, var_max = 1.0*v_max, dataset_size=dataset_size, nvar=1)\n",
    "#print(\"v_start\", v_start.shape)\n",
    "v_goal, rng_v_goal = sample_uniform_trajectories(39, var_min =-1.0*v_max, var_max = 1.0*v_max, dataset_size=dataset_size, nvar=1)\n",
    "\n",
    "#For training\n",
    "xi_samples, rng = sample_uniform_trajectories(42, var_min=-v_max, var_max=v_max ,dataset_size=dataset_size, nvar=nvar)\n",
    "\n",
    "#For validation\n",
    "xi_val, rng_val = sample_uniform_trajectories(43, var_min=-v_max, var_max=v_max ,dataset_size=dataset_size, nvar=nvar)\n",
    "\n",
    "# xi_samples = torch.from_numpy(xi_samples)\n",
    "# xi_val = torch.from_numpy(xi_val)\n",
    "\n",
    "inp = np.hstack(( xi_samples, theta_init, v_start, v_goal))\n",
    "\n",
    "inp_val = np.hstack(( xi_val, theta_init, v_start, v_goal))"
   ]
  },
  {
   "cell_type": "code",
   "execution_count": 8,
   "id": "a2f2a7d7",
   "metadata": {},
   "outputs": [
    {
     "name": "stdout",
     "output_type": "stream",
     "text": [
      "inp_mean -0.00017285970188430394\n",
      "inp_std 0.6235914652792635\n"
     ]
    }
   ],
   "source": [
    "print(\"inp_mean\", inp.mean())\n",
    "print(\"inp_std\", inp.std())"
   ]
  },
  {
   "cell_type": "code",
   "execution_count": 9,
   "id": "a4f5f457",
   "metadata": {},
   "outputs": [
    {
     "name": "stdout",
     "output_type": "stream",
     "text": [
      "input shape:  (20000, 53)\n",
      "(53,)\n",
      "(53,)\n",
      "(53,)\n",
      "(53,)\n",
      "input shape:  (20000, 53)\n",
      "(53,)\n",
      "(53,)\n",
      "(53,)\n",
      "(53,)\n"
     ]
    }
   ],
   "source": [
    "\n",
    "# A Torch version of the same is used in decoder function of corresponding MLP class for training\n",
    "#Statistical Parameters:Median, Q1, Q3, IQR for all features\n",
    "\n",
    "inp_median_ = np.median(inp, axis=0)\n",
    "inp_q1 = np.percentile(inp, 25, axis=0)\n",
    "inp_q3 = np.percentile(inp, 75, axis=0)\n",
    "inp_iqr_ = inp_q3 - inp_q1\n",
    "\n",
    "\n",
    "# Handle constant features\n",
    "inp_iqr_ = np.where(inp_iqr_ == 0, 1, inp_iqr_)\n",
    "\n",
    "print(\"input shape: \", inp.shape)\n",
    "print(inp_median_.shape)\n",
    "print(inp_q1.shape)\n",
    "print(inp_q3.shape)\n",
    "print(inp_iqr_.shape)\n",
    "\n",
    "# print(np.array_repr(inp_median_))\n",
    "# print(np.array_repr(inp_iqr_))\n",
    "\n",
    "\n",
    "inp_val_median_ = np.median(inp_val, axis=0)\n",
    "inp_val_q1 = np.percentile(inp_val, 25, axis=0)\n",
    "inp_val_q3 = np.percentile(inp_val, 75, axis=0)\n",
    "inp_val_iqr_ = inp_val_q3 - inp_val_q1\n",
    "\n",
    "\n",
    "# Handle constant features\n",
    "inp_val_iqr_ = np.where(inp_val_iqr_ == 0, 1, inp_val_iqr_)\n",
    "\n",
    "print(\"input shape: \", inp_val.shape)\n",
    "print(inp_val_median_.shape)\n",
    "print(inp_val_q1.shape)\n",
    "print(inp_val_q3.shape)\n",
    "print(inp_val_iqr_.shape)\n",
    "\n",
    "# print(np.array_repr(inp_median_))\n",
    "# print(np.array_repr(inp_iqr_))\n",
    "\n"
   ]
  },
  {
   "cell_type": "code",
   "execution_count": 10,
   "id": "2315636e",
   "metadata": {},
   "outputs": [],
   "source": [
    "# Using PyTorch Dataloader\n",
    "train_dataset = TrajDataset(inp, theta_init, v_start, v_goal)\n",
    "val_dataset = TrajDataset(inp_val, theta_init, v_start, v_goal)\n",
    "\n",
    "train_loader = DataLoader(train_dataset, batch_size=num_batch, shuffle=True, num_workers=0, drop_last=True)\n",
    "val_loader = DataLoader(val_dataset, batch_size=num_batch, shuffle=True, num_workers=0, drop_last=True)\n"
   ]
  },
  {
   "cell_type": "code",
   "execution_count": 11,
   "id": "64c25ff3",
   "metadata": {},
   "outputs": [
    {
     "name": "stdout",
     "output_type": "stream",
     "text": [
      "Training with LSTM\n"
     ]
    }
   ],
   "source": [
    "\n",
    "if rnn == \"GRU\":\n",
    "    print(\"Training with GRU\")\n",
    "    #GRU handling\n",
    "    rnn = \"GRU\"\n",
    "    gru_input_size = 3*num_total_constraints+3*nvar\n",
    "    # print(gru_input_size)\n",
    "    gru_hidden_size = 512\n",
    "    # gru_output_size = (2*nvar)**2+2*nvar\n",
    "    gru_output_size = num_total_constraints+nvar\n",
    "    # gru_context_size = mlp_planner_inp_dim\n",
    "\n",
    "    gru_context = CustomGRULayer(gru_input_size, gru_hidden_size, gru_output_size)\n",
    "\n",
    "    rnn_context = gru_context\n",
    "\n",
    "\n",
    "    input_hidden_state_init = np.shape(inp)[1]\n",
    "    mid_hidden_state_init = 512\n",
    "    out_hidden_state_init = gru_hidden_size\n",
    "\n",
    "    gru_init  =  GRU_Hidden_State(input_hidden_state_init, mid_hidden_state_init, out_hidden_state_init)\n",
    "    \n",
    "    rnn_init = gru_init\n",
    "    ##\n",
    "elif rnn == \"LSTM\":\n",
    "    print(\"Training with LSTM\")\n",
    "    #LSTM handling\n",
    "    rnn = \"LSTM\"\n",
    "    lstm_input_size = 3*num_total_constraints+3*nvar\n",
    "    # print(lstm_input_size)\n",
    "    lstm_hidden_size = 512\n",
    "    # lstm_output_size = (2*nvar)**2+2*nvar\n",
    "    lstm_output_size = num_total_constraints+nvar\n",
    "    # lstm_context_size = mlp_planner_inp_dim\n",
    "\n",
    "    lstm_context = CustomLSTMLayer(lstm_input_size, lstm_hidden_size, lstm_output_size)\n",
    "\n",
    "    rnn_context = lstm_context\n",
    "\n",
    "    input_hidden_state_init = np.shape(inp)[1]\n",
    "    mid_hidden_state_init = 512\n",
    "    out_hidden_state_init = lstm_hidden_size\n",
    "\n",
    "    lstm_init = LSTM_Hidden_State(input_hidden_state_init, mid_hidden_state_init, out_hidden_state_init)\n",
    "\n",
    "    rnn_init = lstm_init\n",
    "\n",
    "    ##\n",
    "\n",
    "##\n"
   ]
  },
  {
   "cell_type": "code",
   "execution_count": 12,
   "id": "96510791",
   "metadata": {},
   "outputs": [],
   "source": [
    "\n",
    "enc_inp_dim = np.shape(inp)[1] \n",
    "mlp_inp_dim = enc_inp_dim\n",
    "hidden_dim = 1024\n",
    "mlp_out_dim = 2*nvar + num_total_constraints #( xi_samples- 0:nvar, lamda_smples- nvar:2*nvar)\n",
    "\n",
    "mlp =  MLP(mlp_inp_dim, hidden_dim, mlp_out_dim)"
   ]
  },
  {
   "cell_type": "code",
   "execution_count": 13,
   "id": "45fd3589",
   "metadata": {},
   "outputs": [
    {
     "name": "stdout",
     "output_type": "stream",
     "text": [
      "<class 'mlp_singledof_rnn.MLPProjectionFilter'>\n"
     ]
    }
   ],
   "source": [
    "\n",
    "\n",
    "model = MLPProjectionFilter(mlp=mlp,rnn_context=rnn_context, rnn_init = rnn_init, num_batch = num_batch,num_dof=num_dof,num_steps=num_steps,\n",
    "\t\t\t\t\t\t\ttimestep=timestep,v_max=v_max,a_max=a_max,j_max=j_max,p_max=p_max, \n",
    "\t\t\t\t\t\t\tmaxiter_projection=maxiter_projection, rnn=rnn).to(device)\n",
    "\n",
    "print(type(model))                            "
   ]
  },
  {
   "cell_type": "code",
   "execution_count": 14,
   "id": "e09d897f",
   "metadata": {},
   "outputs": [
    {
     "name": "stderr",
     "output_type": "stream",
     "text": [
      "100%|██████████| 20/20 [00:00<00:00, 28.28it/s]\n",
      "100%|██████████| 20/20 [00:00<00:00, 72.92it/s]\n"
     ]
    },
    {
     "name": "stdout",
     "output_type": "stream",
     "text": [
      "Epoch: 1\n",
      "Train Loss: 6.3759\n"
     ]
    },
    {
     "name": "stderr",
     "output_type": "stream",
     "text": [
      "100%|██████████| 20/20 [00:00<00:00, 50.94it/s]\n",
      "100%|██████████| 20/20 [00:00<00:00, 40.04it/s]\n",
      "100%|██████████| 20/20 [00:00<00:00, 69.71it/s]\n"
     ]
    },
    {
     "name": "stdout",
     "output_type": "stream",
     "text": [
      "Epoch: 3\n",
      "Train Loss: 3.8448\n"
     ]
    },
    {
     "name": "stderr",
     "output_type": "stream",
     "text": [
      "100%|██████████| 20/20 [00:00<00:00, 49.35it/s]\n",
      "100%|██████████| 20/20 [00:00<00:00, 50.08it/s]\n",
      "100%|██████████| 20/20 [00:00<00:00, 56.54it/s]\n"
     ]
    },
    {
     "name": "stdout",
     "output_type": "stream",
     "text": [
      "Epoch: 5\n",
      "Train Loss: 1.3340\n"
     ]
    },
    {
     "name": "stderr",
     "output_type": "stream",
     "text": [
      "100%|██████████| 20/20 [00:00<00:00, 50.58it/s]\n",
      "100%|██████████| 20/20 [00:00<00:00, 50.91it/s]\n",
      "100%|██████████| 20/20 [00:00<00:00, 72.92it/s]\n"
     ]
    },
    {
     "name": "stdout",
     "output_type": "stream",
     "text": [
      "Epoch: 7\n",
      "Train Loss: 0.8003\n"
     ]
    },
    {
     "name": "stderr",
     "output_type": "stream",
     "text": [
      "100%|██████████| 20/20 [00:00<00:00, 50.43it/s]\n",
      "100%|██████████| 20/20 [00:00<00:00, 42.17it/s]\n",
      "100%|██████████| 20/20 [00:00<00:00, 73.40it/s]\n"
     ]
    },
    {
     "name": "stdout",
     "output_type": "stream",
     "text": [
      "Epoch: 9\n",
      "Train Loss: 0.4916\n"
     ]
    },
    {
     "name": "stderr",
     "output_type": "stream",
     "text": [
      "100%|██████████| 20/20 [00:00<00:00, 48.93it/s]\n",
      "100%|██████████| 20/20 [00:00<00:00, 50.23it/s]\n",
      "100%|██████████| 20/20 [00:00<00:00, 71.81it/s]\n"
     ]
    },
    {
     "name": "stdout",
     "output_type": "stream",
     "text": [
      "Epoch: 11\n",
      "Train Loss: 0.4177\n"
     ]
    },
    {
     "name": "stderr",
     "output_type": "stream",
     "text": [
      "100%|██████████| 20/20 [00:00<00:00, 41.71it/s]\n",
      "100%|██████████| 20/20 [00:00<00:00, 50.40it/s]\n",
      "100%|██████████| 20/20 [00:00<00:00, 70.74it/s]\n"
     ]
    },
    {
     "name": "stdout",
     "output_type": "stream",
     "text": [
      "Epoch: 13\n",
      "Train Loss: 0.3943\n"
     ]
    },
    {
     "name": "stderr",
     "output_type": "stream",
     "text": [
      "100%|██████████| 20/20 [00:00<00:00, 48.61it/s]\n",
      "100%|██████████| 20/20 [00:00<00:00, 41.74it/s]\n",
      "100%|██████████| 20/20 [00:00<00:00, 70.98it/s]\n"
     ]
    },
    {
     "name": "stdout",
     "output_type": "stream",
     "text": [
      "Epoch: 15\n",
      "Train Loss: 0.3642\n"
     ]
    },
    {
     "name": "stderr",
     "output_type": "stream",
     "text": [
      "100%|██████████| 20/20 [00:00<00:00, 48.04it/s]\n",
      "100%|██████████| 20/20 [00:00<00:00, 50.12it/s]\n",
      "100%|██████████| 20/20 [00:00<00:00, 72.53it/s]\n"
     ]
    },
    {
     "name": "stdout",
     "output_type": "stream",
     "text": [
      "Epoch: 17\n",
      "Train Loss: 0.3586\n"
     ]
    },
    {
     "name": "stderr",
     "output_type": "stream",
     "text": [
      "100%|██████████| 20/20 [00:00<00:00, 42.17it/s]\n",
      "100%|██████████| 20/20 [00:00<00:00, 50.53it/s]\n",
      "100%|██████████| 20/20 [00:00<00:00, 70.00it/s]\n"
     ]
    },
    {
     "name": "stdout",
     "output_type": "stream",
     "text": [
      "Epoch: 19\n",
      "Train Loss: 0.3400\n"
     ]
    },
    {
     "name": "stderr",
     "output_type": "stream",
     "text": [
      "100%|██████████| 20/20 [00:00<00:00, 49.34it/s]\n",
      "100%|██████████| 20/20 [00:00<00:00, 50.14it/s]\n",
      "100%|██████████| 20/20 [00:00<00:00, 57.51it/s]\n"
     ]
    },
    {
     "name": "stdout",
     "output_type": "stream",
     "text": [
      "Epoch: 21\n",
      "Train Loss: 0.3335\n"
     ]
    },
    {
     "name": "stderr",
     "output_type": "stream",
     "text": [
      "100%|██████████| 20/20 [00:00<00:00, 47.09it/s]\n",
      "100%|██████████| 20/20 [00:00<00:00, 49.46it/s]\n",
      "100%|██████████| 20/20 [00:00<00:00, 71.29it/s]\n"
     ]
    },
    {
     "name": "stdout",
     "output_type": "stream",
     "text": [
      "Epoch: 23\n",
      "Train Loss: 0.3259\n"
     ]
    },
    {
     "name": "stderr",
     "output_type": "stream",
     "text": [
      "100%|██████████| 20/20 [00:00<00:00, 49.34it/s]\n",
      "100%|██████████| 20/20 [00:00<00:00, 42.56it/s]\n",
      "100%|██████████| 20/20 [00:00<00:00, 71.12it/s]\n"
     ]
    },
    {
     "name": "stdout",
     "output_type": "stream",
     "text": [
      "Epoch: 25\n",
      "Train Loss: 0.3242\n"
     ]
    },
    {
     "name": "stderr",
     "output_type": "stream",
     "text": [
      "100%|██████████| 20/20 [00:00<00:00, 49.25it/s]\n",
      "100%|██████████| 20/20 [00:00<00:00, 49.10it/s]\n",
      "100%|██████████| 20/20 [00:00<00:00, 56.94it/s]\n"
     ]
    },
    {
     "name": "stdout",
     "output_type": "stream",
     "text": [
      "Epoch: 27\n",
      "Train Loss: 0.3096\n"
     ]
    },
    {
     "name": "stderr",
     "output_type": "stream",
     "text": [
      "100%|██████████| 20/20 [00:00<00:00, 49.47it/s]\n",
      "100%|██████████| 20/20 [00:00<00:00, 49.47it/s]\n",
      "100%|██████████| 20/20 [00:00<00:00, 70.23it/s]\n"
     ]
    },
    {
     "name": "stdout",
     "output_type": "stream",
     "text": [
      "Epoch: 29\n",
      "Train Loss: 0.3066\n"
     ]
    },
    {
     "name": "stderr",
     "output_type": "stream",
     "text": [
      "100%|██████████| 20/20 [00:00<00:00, 49.30it/s]\n",
      "100%|██████████| 20/20 [00:00<00:00, 41.80it/s]\n",
      "100%|██████████| 20/20 [00:00<00:00, 72.61it/s]\n"
     ]
    },
    {
     "name": "stdout",
     "output_type": "stream",
     "text": [
      "Epoch: 31\n",
      "Train Loss: 0.2941\n"
     ]
    },
    {
     "name": "stderr",
     "output_type": "stream",
     "text": [
      "100%|██████████| 20/20 [00:00<00:00, 50.22it/s]\n",
      "100%|██████████| 20/20 [00:00<00:00, 51.23it/s]\n",
      "100%|██████████| 20/20 [00:00<00:00, 71.90it/s]\n"
     ]
    },
    {
     "name": "stdout",
     "output_type": "stream",
     "text": [
      "Epoch: 33\n",
      "Train Loss: 0.2958\n"
     ]
    },
    {
     "name": "stderr",
     "output_type": "stream",
     "text": [
      "100%|██████████| 20/20 [00:00<00:00, 41.98it/s]\n",
      "100%|██████████| 20/20 [00:00<00:00, 50.20it/s]\n",
      "100%|██████████| 20/20 [00:00<00:00, 73.08it/s]\n"
     ]
    },
    {
     "name": "stdout",
     "output_type": "stream",
     "text": [
      "Epoch: 35\n",
      "Train Loss: 0.2941\n"
     ]
    },
    {
     "name": "stderr",
     "output_type": "stream",
     "text": [
      "100%|██████████| 20/20 [00:00<00:00, 50.10it/s]\n",
      "100%|██████████| 20/20 [00:00<00:00, 40.66it/s]\n",
      "100%|██████████| 20/20 [00:00<00:00, 69.88it/s]\n"
     ]
    },
    {
     "name": "stdout",
     "output_type": "stream",
     "text": [
      "Epoch: 37\n",
      "Train Loss: 0.2859\n"
     ]
    },
    {
     "name": "stderr",
     "output_type": "stream",
     "text": [
      "100%|██████████| 20/20 [00:00<00:00, 49.97it/s]\n",
      "100%|██████████| 20/20 [00:00<00:00, 49.76it/s]\n",
      "100%|██████████| 20/20 [00:00<00:00, 69.39it/s]\n"
     ]
    },
    {
     "name": "stdout",
     "output_type": "stream",
     "text": [
      "Epoch: 39\n",
      "Train Loss: 0.2880\n"
     ]
    },
    {
     "name": "stderr",
     "output_type": "stream",
     "text": [
      "100%|██████████| 20/20 [00:00<00:00, 42.39it/s]\n",
      "100%|██████████| 20/20 [00:00<00:00, 49.40it/s]\n",
      "100%|██████████| 20/20 [00:00<00:00, 71.69it/s]\n"
     ]
    },
    {
     "name": "stdout",
     "output_type": "stream",
     "text": [
      "Epoch: 41\n",
      "Train Loss: 0.2803\n"
     ]
    },
    {
     "name": "stderr",
     "output_type": "stream",
     "text": [
      "100%|██████████| 20/20 [00:00<00:00, 49.17it/s]\n",
      "100%|██████████| 20/20 [00:00<00:00, 49.33it/s]\n",
      "100%|██████████| 20/20 [00:00<00:00, 56.36it/s]\n"
     ]
    },
    {
     "name": "stdout",
     "output_type": "stream",
     "text": [
      "Epoch: 43\n",
      "Train Loss: 0.2811\n"
     ]
    },
    {
     "name": "stderr",
     "output_type": "stream",
     "text": [
      "100%|██████████| 20/20 [00:00<00:00, 50.30it/s]\n",
      "100%|██████████| 20/20 [00:00<00:00, 47.04it/s]\n",
      "100%|██████████| 20/20 [00:00<00:00, 70.45it/s]\n"
     ]
    },
    {
     "name": "stdout",
     "output_type": "stream",
     "text": [
      "Epoch: 45\n",
      "Train Loss: 0.2811\n"
     ]
    },
    {
     "name": "stderr",
     "output_type": "stream",
     "text": [
      "100%|██████████| 20/20 [00:00<00:00, 41.25it/s]\n",
      "100%|██████████| 20/20 [00:00<00:00, 49.16it/s]\n",
      "100%|██████████| 20/20 [00:00<00:00, 74.08it/s]\n"
     ]
    },
    {
     "name": "stdout",
     "output_type": "stream",
     "text": [
      "Epoch: 47\n",
      "Train Loss: 0.2750\n"
     ]
    },
    {
     "name": "stderr",
     "output_type": "stream",
     "text": [
      "100%|██████████| 20/20 [00:00<00:00, 49.39it/s]\n",
      "100%|██████████| 20/20 [00:00<00:00, 51.95it/s]\n",
      "100%|██████████| 20/20 [00:00<00:00, 59.57it/s]\n"
     ]
    },
    {
     "name": "stdout",
     "output_type": "stream",
     "text": [
      "Epoch: 49\n",
      "Train Loss: 0.2748\n"
     ]
    },
    {
     "name": "stderr",
     "output_type": "stream",
     "text": [
      "100%|██████████| 20/20 [00:00<00:00, 50.15it/s]\n",
      "100%|██████████| 20/20 [00:00<00:00, 51.82it/s]\n",
      "100%|██████████| 20/20 [00:00<00:00, 71.77it/s]\n"
     ]
    },
    {
     "name": "stdout",
     "output_type": "stream",
     "text": [
      "Epoch: 51\n",
      "Train Loss: 0.2700\n"
     ]
    },
    {
     "name": "stderr",
     "output_type": "stream",
     "text": [
      "100%|██████████| 20/20 [00:00<00:00, 48.14it/s]\n",
      "100%|██████████| 20/20 [00:00<00:00, 43.50it/s]\n",
      "100%|██████████| 20/20 [00:00<00:00, 69.81it/s]\n"
     ]
    },
    {
     "name": "stdout",
     "output_type": "stream",
     "text": [
      "Epoch: 53\n",
      "Train Loss: 0.2766\n"
     ]
    },
    {
     "name": "stderr",
     "output_type": "stream",
     "text": [
      "100%|██████████| 20/20 [00:00<00:00, 51.03it/s]\n",
      "100%|██████████| 20/20 [00:00<00:00, 49.23it/s]\n",
      "100%|██████████| 20/20 [00:00<00:00, 70.86it/s]\n"
     ]
    },
    {
     "name": "stdout",
     "output_type": "stream",
     "text": [
      "Epoch: 55\n",
      "Train Loss: 0.2716\n"
     ]
    },
    {
     "name": "stderr",
     "output_type": "stream",
     "text": [
      "100%|██████████| 20/20 [00:00<00:00, 42.69it/s]\n",
      "100%|██████████| 20/20 [00:00<00:00, 51.62it/s]\n",
      "100%|██████████| 20/20 [00:00<00:00, 72.98it/s]\n"
     ]
    },
    {
     "name": "stdout",
     "output_type": "stream",
     "text": [
      "Epoch: 57\n",
      "Train Loss: 0.2696\n"
     ]
    },
    {
     "name": "stderr",
     "output_type": "stream",
     "text": [
      "100%|██████████| 20/20 [00:00<00:00, 51.72it/s]\n",
      "100%|██████████| 20/20 [00:00<00:00, 43.13it/s]\n",
      "100%|██████████| 20/20 [00:00<00:00, 70.05it/s]\n"
     ]
    },
    {
     "name": "stdout",
     "output_type": "stream",
     "text": [
      "Epoch: 59\n",
      "Train Loss: 0.2620\n"
     ]
    },
    {
     "name": "stderr",
     "output_type": "stream",
     "text": [
      "100%|██████████| 20/20 [00:00<00:00, 52.09it/s]\n",
      "100%|██████████| 20/20 [00:00<00:00, 51.30it/s]\n",
      "100%|██████████| 20/20 [00:00<00:00, 72.92it/s]\n"
     ]
    },
    {
     "name": "stdout",
     "output_type": "stream",
     "text": [
      "Epoch: 61\n",
      "Train Loss: 0.2757\n"
     ]
    },
    {
     "name": "stderr",
     "output_type": "stream",
     "text": [
      "100%|██████████| 20/20 [00:00<00:00, 44.45it/s]\n",
      "100%|██████████| 20/20 [00:00<00:00, 53.31it/s]\n",
      "100%|██████████| 20/20 [00:00<00:00, 75.44it/s]\n"
     ]
    },
    {
     "name": "stdout",
     "output_type": "stream",
     "text": [
      "Epoch: 63\n",
      "Train Loss: 0.2624\n"
     ]
    },
    {
     "name": "stderr",
     "output_type": "stream",
     "text": [
      "100%|██████████| 20/20 [00:00<00:00, 51.34it/s]\n",
      "100%|██████████| 20/20 [00:00<00:00, 51.58it/s]\n",
      "100%|██████████| 20/20 [00:00<00:00, 58.95it/s]\n"
     ]
    },
    {
     "name": "stdout",
     "output_type": "stream",
     "text": [
      "Epoch: 65\n",
      "Train Loss: 0.2630\n"
     ]
    },
    {
     "name": "stderr",
     "output_type": "stream",
     "text": [
      "100%|██████████| 20/20 [00:00<00:00, 51.58it/s]\n",
      "100%|██████████| 20/20 [00:00<00:00, 52.93it/s]\n",
      "100%|██████████| 20/20 [00:00<00:00, 75.29it/s]\n"
     ]
    },
    {
     "name": "stdout",
     "output_type": "stream",
     "text": [
      "Epoch: 67\n",
      "Train Loss: 0.2634\n"
     ]
    },
    {
     "name": "stderr",
     "output_type": "stream",
     "text": [
      "100%|██████████| 20/20 [00:00<00:00, 42.81it/s]\n",
      "100%|██████████| 20/20 [00:00<00:00, 51.36it/s]\n",
      "100%|██████████| 20/20 [00:00<00:00, 75.15it/s]\n"
     ]
    },
    {
     "name": "stdout",
     "output_type": "stream",
     "text": [
      "Epoch: 69\n",
      "Train Loss: 0.2678\n"
     ]
    },
    {
     "name": "stderr",
     "output_type": "stream",
     "text": [
      "100%|██████████| 20/20 [00:00<00:00, 48.93it/s]\n",
      "100%|██████████| 20/20 [00:00<00:00, 50.32it/s]\n",
      "100%|██████████| 20/20 [00:00<00:00, 56.47it/s]\n"
     ]
    },
    {
     "name": "stdout",
     "output_type": "stream",
     "text": [
      "Epoch: 71\n",
      "Train Loss: 0.2595\n"
     ]
    },
    {
     "name": "stderr",
     "output_type": "stream",
     "text": [
      "100%|██████████| 20/20 [00:00<00:00, 49.17it/s]\n",
      "100%|██████████| 20/20 [00:00<00:00, 54.13it/s]\n",
      "100%|██████████| 20/20 [00:00<00:00, 77.04it/s]\n"
     ]
    },
    {
     "name": "stdout",
     "output_type": "stream",
     "text": [
      "Epoch: 73\n",
      "Train Loss: 0.2646\n"
     ]
    },
    {
     "name": "stderr",
     "output_type": "stream",
     "text": [
      "100%|██████████| 20/20 [00:00<00:00, 51.70it/s]\n",
      "100%|██████████| 20/20 [00:00<00:00, 44.58it/s]\n",
      "100%|██████████| 20/20 [00:00<00:00, 76.02it/s]\n"
     ]
    },
    {
     "name": "stdout",
     "output_type": "stream",
     "text": [
      "Epoch: 75\n",
      "Train Loss: 0.2622\n"
     ]
    },
    {
     "name": "stderr",
     "output_type": "stream",
     "text": [
      "100%|██████████| 20/20 [00:00<00:00, 51.66it/s]\n",
      "100%|██████████| 20/20 [00:00<00:00, 53.47it/s]\n",
      "100%|██████████| 20/20 [00:00<00:00, 58.95it/s]\n"
     ]
    },
    {
     "name": "stdout",
     "output_type": "stream",
     "text": [
      "Epoch: 77\n",
      "Train Loss: 0.2664\n"
     ]
    },
    {
     "name": "stderr",
     "output_type": "stream",
     "text": [
      "100%|██████████| 20/20 [00:00<00:00, 50.40it/s]\n",
      "100%|██████████| 20/20 [00:00<00:00, 52.14it/s]\n",
      "100%|██████████| 20/20 [00:00<00:00, 76.52it/s]\n"
     ]
    },
    {
     "name": "stdout",
     "output_type": "stream",
     "text": [
      "Epoch: 79\n",
      "Train Loss: 0.2592\n"
     ]
    },
    {
     "name": "stderr",
     "output_type": "stream",
     "text": [
      "100%|██████████| 20/20 [00:00<00:00, 53.50it/s]\n",
      "100%|██████████| 20/20 [00:00<00:00, 45.48it/s]\n",
      "100%|██████████| 20/20 [00:00<00:00, 75.07it/s]\n"
     ]
    },
    {
     "name": "stdout",
     "output_type": "stream",
     "text": [
      "Epoch: 81\n",
      "Train Loss: 0.2607\n"
     ]
    },
    {
     "name": "stderr",
     "output_type": "stream",
     "text": [
      "100%|██████████| 20/20 [00:00<00:00, 51.45it/s]\n",
      "100%|██████████| 20/20 [00:00<00:00, 52.09it/s]\n",
      "100%|██████████| 20/20 [00:00<00:00, 71.76it/s]\n"
     ]
    },
    {
     "name": "stdout",
     "output_type": "stream",
     "text": [
      "Epoch: 83\n",
      "Train Loss: 0.2532\n"
     ]
    },
    {
     "name": "stderr",
     "output_type": "stream",
     "text": [
      "100%|██████████| 20/20 [00:00<00:00, 42.67it/s]\n",
      "100%|██████████| 20/20 [00:00<00:00, 52.86it/s]\n",
      "100%|██████████| 20/20 [00:00<00:00, 69.00it/s]\n"
     ]
    },
    {
     "name": "stdout",
     "output_type": "stream",
     "text": [
      "Epoch: 85\n",
      "Train Loss: 0.2573\n"
     ]
    },
    {
     "name": "stderr",
     "output_type": "stream",
     "text": [
      "100%|██████████| 20/20 [00:00<00:00, 49.79it/s]\n",
      "100%|██████████| 20/20 [00:00<00:00, 48.71it/s]\n",
      "100%|██████████| 20/20 [00:00<00:00, 55.61it/s]\n"
     ]
    },
    {
     "name": "stdout",
     "output_type": "stream",
     "text": [
      "Epoch: 87\n",
      "Train Loss: 0.2546\n"
     ]
    },
    {
     "name": "stderr",
     "output_type": "stream",
     "text": [
      "100%|██████████| 20/20 [00:00<00:00, 50.35it/s]\n",
      "100%|██████████| 20/20 [00:00<00:00, 52.90it/s]\n",
      "100%|██████████| 20/20 [00:00<00:00, 70.61it/s]\n"
     ]
    },
    {
     "name": "stdout",
     "output_type": "stream",
     "text": [
      "Epoch: 89\n",
      "Train Loss: 0.2583\n"
     ]
    },
    {
     "name": "stderr",
     "output_type": "stream",
     "text": [
      "100%|██████████| 20/20 [00:00<00:00, 44.70it/s]\n",
      "100%|██████████| 20/20 [00:00<00:00, 50.86it/s]\n",
      "100%|██████████| 20/20 [00:00<00:00, 71.58it/s]\n"
     ]
    },
    {
     "name": "stdout",
     "output_type": "stream",
     "text": [
      "Epoch: 91\n",
      "Train Loss: 0.2547\n"
     ]
    },
    {
     "name": "stderr",
     "output_type": "stream",
     "text": [
      "100%|██████████| 20/20 [00:00<00:00, 53.01it/s]\n",
      "100%|██████████| 20/20 [00:00<00:00, 53.87it/s]\n",
      "100%|██████████| 20/20 [00:00<00:00, 60.15it/s]\n"
     ]
    },
    {
     "name": "stdout",
     "output_type": "stream",
     "text": [
      "Epoch: 93\n",
      "Train Loss: 0.2575\n"
     ]
    },
    {
     "name": "stderr",
     "output_type": "stream",
     "text": [
      "100%|██████████| 20/20 [00:00<00:00, 52.31it/s]\n",
      "100%|██████████| 20/20 [00:00<00:00, 54.02it/s]\n",
      "100%|██████████| 20/20 [00:00<00:00, 76.37it/s]\n"
     ]
    },
    {
     "name": "stdout",
     "output_type": "stream",
     "text": [
      "Epoch: 95\n",
      "Train Loss: 0.2568\n"
     ]
    },
    {
     "name": "stderr",
     "output_type": "stream",
     "text": [
      "100%|██████████| 20/20 [00:00<00:00, 51.53it/s]\n",
      "100%|██████████| 20/20 [00:00<00:00, 45.41it/s]\n",
      "100%|██████████| 20/20 [00:00<00:00, 76.64it/s]\n"
     ]
    },
    {
     "name": "stdout",
     "output_type": "stream",
     "text": [
      "Epoch: 97\n",
      "Train Loss: 0.2517\n"
     ]
    },
    {
     "name": "stderr",
     "output_type": "stream",
     "text": [
      "100%|██████████| 20/20 [00:00<00:00, 54.39it/s]\n",
      "100%|██████████| 20/20 [00:00<00:00, 52.98it/s]\n",
      "100%|██████████| 20/20 [00:00<00:00, 59.48it/s]\n"
     ]
    },
    {
     "name": "stdout",
     "output_type": "stream",
     "text": [
      "Epoch: 99\n",
      "Train Loss: 0.2481\n"
     ]
    },
    {
     "name": "stderr",
     "output_type": "stream",
     "text": [
      "100%|██████████| 20/20 [00:00<00:00, 52.79it/s]\n"
     ]
    }
   ],
   "source": [
    "epochs = 100\n",
    "#step, beta = 0, 1.0 # 3.5\n",
    "optimizer = optim.AdamW(model.parameters(), lr = 1e-4, weight_decay=6e-5)\n",
    "#scheduler = optim.lr_scheduler.StepLR(optimizer, step_size = 30, gamma = 0.1, verbose=True)\n",
    "\n",
    "losses = []\n",
    "last_loss = torch.inf\n",
    "avg_train_loss, avg_primal_loss, avg_fixed_point_loss, avg_projection_loss = [], [], [], []\n",
    "avg_val_loss = []\n",
    "for epoch in range(epochs):\n",
    "    \n",
    "    # Train Loop\n",
    "    losses_train, primal_losses, fixed_point_losses, projection_losses = [], [], [], []\n",
    "    \n",
    "    for (inp, theta_init, v_start, v_goal) in tqdm(train_loader):\n",
    "        \n",
    "        # Input and Output \n",
    "        inp = inp.to(device)\n",
    "        theta_init = theta_init.to(device)\n",
    "        v_start = v_start.to(device)\n",
    "        v_goal = v_goal.to(device)\n",
    "        \n",
    "        xi_projected, accumulated_res_fixed_point, accumulated_res_primal, \\\n",
    "        accumulated_res_primal_temp, accumulated_res_fixed_point_temp = model(inp, theta_init, v_start, v_goal, rnn)\n",
    "\n",
    "        xi_samples_inp = inp[:, :nvar]\n",
    "\n",
    "        primal_loss, fixed_point_loss, projection_loss, loss = model.mlp_loss(accumulated_res_primal, \n",
    "                                                                              accumulated_res_fixed_point, xi_samples_inp, xi_projected)\n",
    "\n",
    "        \n",
    "        optimizer.zero_grad() #clears the gradients of the model parameters\n",
    "        loss.backward() #computes the gradients of the model parameters\n",
    "        \n",
    "        \n",
    "        # #Gradient Norm check\n",
    "        # total_norm = 0.0\n",
    "        # for p in model.parameters():\n",
    "        #     if p.grad is not None:\n",
    "        #         param_norm = p.grad.data.norm(2)  # L2 norm\n",
    "        #         total_norm += param_norm.item() ** 2\n",
    "\n",
    "        # total_norm = total_norm ** 0.5\n",
    "        # print(f\"Gradient L2 norm: {total_norm:.4f}\")\n",
    "        \n",
    "        ##Gradient Norm clipping\n",
    "        #torch.nn.utils.clip_grad_norm_(model.parameters(), max_norm=1.0)\n",
    "\n",
    "\n",
    "        optimizer.step() #updates the model parameters (e.g. weights and biases)\n",
    "        \n",
    "        losses_train.append(loss.detach().cpu().numpy()) \n",
    "        primal_losses.append(primal_loss.detach().cpu().numpy())\n",
    "        fixed_point_losses.append(fixed_point_loss.detach().cpu().numpy())\n",
    "        projection_losses.append(projection_loss.detach().cpu().numpy())\n",
    "        \n",
    "    if epoch % 2 == 0:\n",
    "        \n",
    "        # Validation \n",
    "        model.eval()\n",
    "        val_losses = []\n",
    "\n",
    "        with torch.no_grad():\n",
    "            for (inp_val, theta_init, v_start, v_goal) in tqdm(val_loader):\n",
    "                inp_val = inp_val.to(device)\n",
    "                theta_init = theta_init.to(device)\n",
    "                v_start = v_start.to(device)\n",
    "                v_goal =  v_goal.to(device)\n",
    "\n",
    "                xi_projected, accumulated_res_fixed_point, accumulated_res_primal, \\\n",
    "                accumulated_res_primal_temp, accumulated_res_fixed_point_temp = model(inp_val, theta_init, v_start, v_goal, rnn)\n",
    "\n",
    "                xi_samples_inp_val = inp_val[:, :nvar]\n",
    "\n",
    "                _, _, _, val_loss = model.mlp_loss(\n",
    "                    accumulated_res_primal, accumulated_res_fixed_point, xi_samples_inp_val, xi_projected\n",
    "                )\n",
    "\n",
    "                val_losses.append(val_loss.detach().cpu().numpy())\n",
    "\n",
    "                #print(f\"Validation Loss: {np.average(val_losses):.4f}\")\n",
    "            \n",
    "\n",
    "    if epoch % 2 == 0:    \n",
    "        print(f\"Epoch: {epoch + 1}\")\n",
    "        print(f\"Train Loss: {np.average(losses_train):.4f}\")\n",
    "        \n",
    "\n",
    "\n",
    "    #step += 0.07 #0.15\n",
    "    #scheduler.step()\n",
    "\n",
    "    # mean_train_loss = np.mean(losses_train)\n",
    "    # mean_val_loss = np.mean(val_losses)\n",
    "    \n",
    "    os.makedirs(\"./training_weights\", exist_ok=True)\n",
    "    #if mean_val_loss <= last_loss:\n",
    "    if loss <= last_loss:\n",
    "            torch.save(model.state_dict(), f\"./training_weights/mlp_learned_single_dof_{rnn}.pth\")\n",
    "            last_loss = loss\n",
    "\n",
    "    avg_train_loss.append(np.average(losses_train)), avg_primal_loss.append(np.average(primal_losses)), \\\n",
    "    avg_projection_loss.append(np.average(projection_losses)), avg_fixed_point_loss.append(np.average(fixed_point_losses))\n",
    "    avg_val_loss.append(np.average(val_losses))\n"
   ]
  },
  {
   "cell_type": "code",
   "execution_count": 15,
   "id": "9b981e32",
   "metadata": {},
   "outputs": [
    {
     "data": {
      "image/png": "[encoded data removed]",
      "text/plain": [
       "<Figure size 1200x600 with 1 Axes>"
      ]
     },
     "metadata": {},
     "output_type": "display_data"
    },
    {
     "data": {
      "image/png": "[encoded data removed]",
      "text/plain": [
       "<Figure size 1200x600 with 1 Axes>"
      ]
     },
     "metadata": {},
     "output_type": "display_data"
    }
   ],
   "source": [
    "# Plot training losses\n",
    "\n",
    "plt.figure(figsize=(12, 6))\n",
    "\n",
    "#plt.plot(avg_train_loss, label='Total Loss')\n",
    "plt.plot(avg_primal_loss, label='Primal Loss')\n",
    "plt.plot(avg_fixed_point_loss, label='Fixed-Point Loss')\n",
    "plt.plot(avg_projection_loss, label='Projection Loss')\n",
    "\n",
    "\n",
    "plt.title('Training Loss Curves')\n",
    "plt.xlabel('Epoch')\n",
    "plt.ylabel('Loss')\n",
    "plt.legend()\n",
    "plt.grid(True)\n",
    "plt.tight_layout()\n",
    "plt.show()\n",
    "\n",
    "# Plot validation losses\n",
    "plt.figure(figsize=(12, 6))\n",
    "plt.plot(avg_val_loss, label='Validation Loss')\n",
    "\n",
    "plt.title('Validation Loss Curves')\n",
    "plt.xlabel('Epoch')\n",
    "plt.ylabel('Loss')\n",
    "plt.legend()\n",
    "plt.grid(True)\n",
    "plt.tight_layout()\n",
    "plt.show()"
   ]
  },
  {
   "cell_type": "code",
   "execution_count": 16,
   "id": "0f784660",
   "metadata": {},
   "outputs": [
    {
     "name": "stdout",
     "output_type": "stream",
     "text": [
      "Training_loss_end 0.25330895\n",
      "Validation_loss_end 0.24762805\n",
      "max projection_loss 0.27963477\n",
      "min projection_loss 0.1975176\n"
     ]
    }
   ],
   "source": [
    "avg_train_loss = np.asarray(avg_train_loss)\n",
    "avg_val_loss = np.asarray(avg_val_loss)\n",
    "print(\"Training_loss_end\", avg_train_loss[-1])\n",
    "print(\"Validation_loss_end\", avg_val_loss[-1])\n",
    "\n",
    "print(\"max projection_loss\", np.max(np.asarray(avg_projection_loss)))\n",
    "print(\"min projection_loss\", np.min(np.asarray(avg_projection_loss)))"
   ]
  }
 ],
 "metadata": {
  "kernelspec": {
   "display_name": "manipulator_torch_env",
   "language": "python",
   "name": "python3"
  },
  "language_info": {
   "codemirror_mode": {
    "name": "ipython",
    "version": 3
   },
   "file_extension": ".py",
   "mimetype": "text/x-python",
   "name": "python",
   "nbconvert_exporter": "python",
   "pygments_lexer": "ipython3",
   "version": "3.12.3"
  }
 },
 "nbformat": 4,
 "nbformat_minor": 5
}
