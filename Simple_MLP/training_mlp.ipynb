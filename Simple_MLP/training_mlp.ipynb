{
 "cells": [
  {
   "cell_type": "code",
   "execution_count": 15,
   "id": "3312d148",
   "metadata": {},
   "outputs": [
    {
     "name": "stdout",
     "output_type": "stream",
     "text": [
      "/home/alinjar/simple_training_warm_start/Simple_MLP\n"
     ]
    }
   ],
   "source": [
    "import os\n",
    "current_working_directory = os.getcwd()\n",
    "print(current_working_directory)\n",
    "\n",
    "import matplotlib.pyplot as plt\n",
    "\n",
    "\n",
    "import numpy as np \n",
    "import torch \n",
    "import torch.nn as nn \n",
    "import torch.optim as optim\n",
    "\n",
    "from torch.utils.data import Dataset, DataLoader\n",
    "import scipy.io as sio\n",
    "\n",
    "from tqdm import trange, tqdm\n",
    "\n",
    "# Import the single DOF finite difference model\n",
    "from mlp_singledof import MLP, MLPProjectionFilter\n",
    "\n"
   ]
  },
  {
   "cell_type": "code",
   "execution_count": 16,
   "id": "5d3f27d7",
   "metadata": {},
   "outputs": [],
   "source": [
    "class TrajDataset(Dataset):\n",
    "    \"\"\"Expert Trajectory Dataset.\"\"\"\n",
    "    def __init__(self, inp, theta_init, v_start):\n",
    "        # input\n",
    "        self.inp = inp \n",
    "        self.theta_init = theta_init\n",
    "        self.v_start = v_start\n",
    "        \n",
    "\n",
    "    def __len__(self):\n",
    "        return len(self.inp)    \n",
    "\n",
    "    def __getitem__(self, idx):\n",
    "        # Input\n",
    "        inp = self.inp[idx]\n",
    "        theta_init = self.theta_init[idx]\n",
    "        v_start = self.v_start[idx]\n",
    "        \n",
    "\n",
    "        return (torch.tensor(inp).float(),\n",
    "                torch.tensor(theta_init).float(),\n",
    "                torch.tensor(v_start).float())\n",
    "                "
   ]
  },
  {
   "cell_type": "code",
   "execution_count": 17,
   "id": "ea9d0aac",
   "metadata": {},
   "outputs": [],
   "source": [
    "def sample_uniform_trajectories(key, var_min, var_max, dataset_size, nvar):\n",
    "    rng = np.random.default_rng(seed=key)\n",
    "    xi_samples = rng.uniform(\n",
    "        low=var_min,\n",
    "        high=var_max,\n",
    "        size=(dataset_size, nvar)\n",
    "    )\n",
    "    return xi_samples, rng"
   ]
  },
  {
   "cell_type": "code",
   "execution_count": 18,
   "id": "06c0e452",
   "metadata": {},
   "outputs": [],
   "source": [
    "#Parameters for MLP model\n",
    "\n",
    "num_batch = 1000\n",
    "num_dof=1\n",
    "num_steps=20\n",
    "timestep=0.05\n",
    "v_max=1.0\n",
    "a_max=2.0\n",
    "j_max=4.0\n",
    "p_max=180.0*np.pi/180.0 \n",
    "maxiter_projection = 5\n",
    "nvar_single = num_steps\n",
    "nvar = num_dof * nvar_single\n",
    "theta_init_min=-np.pi\n",
    "theta_init_max=np.pi"
   ]
  },
  {
   "cell_type": "code",
   "execution_count": 19,
   "id": "d8e4b192",
   "metadata": {},
   "outputs": [],
   "source": [
    "#calculating number of constraints\n",
    "num_acc = num_steps - 1\n",
    "num_jerk = num_acc - 1\n",
    "num_pos = num_steps\n",
    "num_vel_constraints = 2 * num_steps * num_dof\n",
    "num_acc_constraints = 2 * num_acc * num_dof\n",
    "num_jerk_constraints = 2 * num_jerk * num_dof\n",
    "num_pos_constraints = 2 * num_pos * num_dof\n",
    "num_total_constraints = (num_vel_constraints + num_acc_constraints + \n",
    "                            num_jerk_constraints + num_pos_constraints)\n",
    "\n",
    "\n"
   ]
  },
  {
   "cell_type": "code",
   "execution_count": 20,
   "id": "c15fb698",
   "metadata": {},
   "outputs": [
    {
     "name": "stdout",
     "output_type": "stream",
     "text": [
      "Using cuda device\n"
     ]
    }
   ],
   "source": [
    "device = torch.device(\"cuda\" if torch.cuda.is_available() else \"cpu\")\n",
    "print(f\"Using {device} device\")\n",
    "\n",
    "#### creating dataset\n",
    "\n",
    "dataset_size = num_batch*30 #200000\n",
    "\n",
    "theta_init, rng_theta_init = sample_uniform_trajectories(41, var_min= theta_init_min, var_max = theta_init_max, dataset_size=dataset_size, nvar=1)\n",
    "\n",
    "theta_init_val, rng_theta_init_val = sample_uniform_trajectories(1, var_min= theta_init_min, var_max = theta_init_max, dataset_size=dataset_size, nvar=1)\n",
    "\n",
    "v_start, rng_v_start = sample_uniform_trajectories(40, var_min =-1.0*v_max, var_max = 1.0*v_max, dataset_size=dataset_size, nvar=1)\n",
    "\n",
    "v_start_val, rng_v_start_val = sample_uniform_trajectories(2, var_min =-1.0*v_max, var_max = 1.0*v_max, dataset_size=dataset_size, nvar=1)\n",
    "#print(\"v_start\", v_start.shape)\n",
    "\n",
    "#For training\n",
    "xi_samples, rng = sample_uniform_trajectories(42, var_min=-v_max, var_max=v_max ,dataset_size=dataset_size, nvar=nvar)\n",
    "\n",
    "#For validation\n",
    "xi_val, rng_val = sample_uniform_trajectories(43, var_min=-v_max, var_max=v_max ,dataset_size=dataset_size, nvar=nvar)\n",
    "\n",
    "# xi_samples = torch.from_numpy(xi_samples)\n",
    "# xi_val = torch.from_numpy(xi_val)\n",
    "\n",
    "inp = np.hstack(( xi_samples, theta_init, v_start))\n",
    "\n",
    "inp_val = np.hstack(( xi_val, theta_init_val, v_start_val))"
   ]
  },
  {
   "cell_type": "code",
   "execution_count": 21,
   "id": "a2f2a7d7",
   "metadata": {},
   "outputs": [
    {
     "name": "stdout",
     "output_type": "stream",
     "text": [
      "inp_mean -0.0006183883359578748\n",
      "inp_std 0.682808147452024\n"
     ]
    }
   ],
   "source": [
    "print(\"inp_mean\", inp.mean())\n",
    "print(\"inp_std\", inp.std())"
   ]
  },
  {
   "cell_type": "code",
   "execution_count": 22,
   "id": "a4f5f457",
   "metadata": {},
   "outputs": [
    {
     "name": "stdout",
     "output_type": "stream",
     "text": [
      "input shape:  (30000, 22)\n",
      "(22,)\n",
      "(22,)\n",
      "(22,)\n",
      "(22,)\n",
      "input shape:  (30000, 22)\n",
      "(22,)\n",
      "(22,)\n",
      "(22,)\n",
      "(22,)\n"
     ]
    }
   ],
   "source": [
    "\n",
    "# A Torch version of the same is used in decoder function of corresponding MLP class for training\n",
    "#Statistical Parameters:Median, Q1, Q3, IQR for all features\n",
    "\n",
    "inp_median_ = np.median(inp, axis=0)\n",
    "inp_q1 = np.percentile(inp, 25, axis=0)\n",
    "inp_q3 = np.percentile(inp, 75, axis=0)\n",
    "inp_iqr_ = inp_q3 - inp_q1\n",
    "\n",
    "\n",
    "# Handle constant features\n",
    "inp_iqr_ = np.where(inp_iqr_ == 0, 1, inp_iqr_)\n",
    "\n",
    "print(\"input shape: \", inp.shape)\n",
    "print(inp_median_.shape)\n",
    "print(inp_q1.shape)\n",
    "print(inp_q3.shape)\n",
    "print(inp_iqr_.shape)\n",
    "\n",
    "# print(np.array_repr(inp_median_))\n",
    "# print(np.array_repr(inp_iqr_))\n",
    "\n",
    "\n",
    "inp_val_median_ = np.median(inp_val, axis=0)\n",
    "inp_val_q1 = np.percentile(inp_val, 25, axis=0)\n",
    "inp_val_q3 = np.percentile(inp_val, 75, axis=0)\n",
    "inp_val_iqr_ = inp_val_q3 - inp_val_q1\n",
    "\n",
    "\n",
    "# Handle constant features\n",
    "inp_val_iqr_ = np.where(inp_val_iqr_ == 0, 1, inp_val_iqr_)\n",
    "\n",
    "print(\"input shape: \", inp_val.shape)\n",
    "print(inp_val_median_.shape)\n",
    "print(inp_val_q1.shape)\n",
    "print(inp_val_q3.shape)\n",
    "print(inp_val_iqr_.shape)\n",
    "\n",
    "# print(np.array_repr(inp_median_))\n",
    "# print(np.array_repr(inp_iqr_))\n",
    "\n"
   ]
  },
  {
   "cell_type": "code",
   "execution_count": 23,
   "id": "2315636e",
   "metadata": {},
   "outputs": [],
   "source": [
    "# Using PyTorch Dataloader\n",
    "train_dataset = TrajDataset(inp, theta_init, v_start)\n",
    "val_dataset = TrajDataset(inp_val, theta_init_val, v_start_val)\n",
    "\n",
    "train_loader = DataLoader(train_dataset, batch_size=num_batch, shuffle=True, num_workers=0, drop_last=True)\n",
    "val_loader = DataLoader(val_dataset, batch_size=num_batch, shuffle=True, num_workers=0, drop_last=True)\n"
   ]
  },
  {
   "cell_type": "code",
   "execution_count": 24,
   "id": "96510791",
   "metadata": {},
   "outputs": [],
   "source": [
    "\n",
    "enc_inp_dim = np.shape(inp)[1] \n",
    "mlp_inp_dim = enc_inp_dim\n",
    "hidden_dim = 1024\n",
    "mlp_out_dim = 2*nvar + num_total_constraints #( xi_samples- 0:nvar, lamda_smples- nvar:2*nvar)\n",
    "\n",
    "mlp =  MLP(mlp_inp_dim, hidden_dim, mlp_out_dim)"
   ]
  },
  {
   "cell_type": "code",
   "execution_count": 25,
   "id": "45fd3589",
   "metadata": {},
   "outputs": [
    {
     "name": "stdout",
     "output_type": "stream",
     "text": [
      "<class 'mlp_singledof.MLPProjectionFilter'>\n"
     ]
    }
   ],
   "source": [
    "\n",
    "\n",
    "model = MLPProjectionFilter(mlp=mlp, num_batch = num_batch,num_dof=num_dof,num_steps=num_steps,\n",
    "\t\t\t\t\t\t\ttimestep=timestep,v_max=v_max,a_max=a_max,j_max=j_max,p_max=p_max, \n",
    "\t\t\t\t\t\t\tmaxiter_projection=maxiter_projection).to(device)\n",
    "\n",
    "print(type(model))                            "
   ]
  },
  {
   "cell_type": "code",
   "execution_count": 26,
   "id": "e09d897f",
   "metadata": {},
   "outputs": [
    {
     "name": "stderr",
     "output_type": "stream",
     "text": [
      "100%|██████████| 30/30 [00:00<00:00, 62.18it/s]\n",
      "100%|██████████| 30/30 [00:00<00:00, 102.39it/s]\n"
     ]
    },
    {
     "name": "stdout",
     "output_type": "stream",
     "text": [
      "Epoch: 1\n",
      "Train Loss: 3.4029\n"
     ]
    },
    {
     "name": "stderr",
     "output_type": "stream",
     "text": [
      "100%|██████████| 30/30 [00:00<00:00, 62.95it/s]\n",
      "100%|██████████| 30/30 [00:00<00:00, 74.03it/s]\n",
      "100%|██████████| 30/30 [00:00<00:00, 96.82it/s] \n"
     ]
    },
    {
     "name": "stdout",
     "output_type": "stream",
     "text": [
      "Epoch: 3\n",
      "Train Loss: 2.5608\n"
     ]
    },
    {
     "name": "stderr",
     "output_type": "stream",
     "text": [
      "100%|██████████| 30/30 [00:00<00:00, 58.82it/s]\n",
      "100%|██████████| 30/30 [00:00<00:00, 76.54it/s]\n",
      "100%|██████████| 30/30 [00:00<00:00, 80.23it/s] \n"
     ]
    },
    {
     "name": "stdout",
     "output_type": "stream",
     "text": [
      "Epoch: 5\n",
      "Train Loss: 2.0126\n"
     ]
    },
    {
     "name": "stderr",
     "output_type": "stream",
     "text": [
      "100%|██████████| 30/30 [00:00<00:00, 77.67it/s]\n",
      "100%|██████████| 30/30 [00:00<00:00, 63.65it/s]\n",
      "100%|██████████| 30/30 [00:00<00:00, 98.69it/s] \n"
     ]
    },
    {
     "name": "stdout",
     "output_type": "stream",
     "text": [
      "Epoch: 7\n",
      "Train Loss: 1.5986\n"
     ]
    },
    {
     "name": "stderr",
     "output_type": "stream",
     "text": [
      "100%|██████████| 30/30 [00:00<00:00, 74.75it/s]\n",
      "100%|██████████| 30/30 [00:00<00:00, 61.95it/s]\n",
      "100%|██████████| 30/30 [00:00<00:00, 101.19it/s]\n"
     ]
    },
    {
     "name": "stdout",
     "output_type": "stream",
     "text": [
      "Epoch: 9\n",
      "Train Loss: 1.2903\n"
     ]
    },
    {
     "name": "stderr",
     "output_type": "stream",
     "text": [
      "100%|██████████| 30/30 [00:00<00:00, 63.00it/s]\n",
      "100%|██████████| 30/30 [00:00<00:00, 73.02it/s]\n",
      "100%|██████████| 30/30 [00:00<00:00, 82.31it/s] \n"
     ]
    },
    {
     "name": "stdout",
     "output_type": "stream",
     "text": [
      "Epoch: 11\n",
      "Train Loss: 1.0640\n"
     ]
    },
    {
     "name": "stderr",
     "output_type": "stream",
     "text": [
      "100%|██████████| 30/30 [00:00<00:00, 75.18it/s]\n",
      "100%|██████████| 30/30 [00:00<00:00, 65.10it/s]\n",
      "100%|██████████| 30/30 [00:00<00:00, 99.11it/s] \n"
     ]
    },
    {
     "name": "stdout",
     "output_type": "stream",
     "text": [
      "Epoch: 13\n",
      "Train Loss: 0.9430\n"
     ]
    },
    {
     "name": "stderr",
     "output_type": "stream",
     "text": [
      "100%|██████████| 30/30 [00:00<00:00, 74.20it/s]\n",
      "100%|██████████| 30/30 [00:00<00:00, 63.85it/s]\n",
      "100%|██████████| 30/30 [00:00<00:00, 101.98it/s]\n"
     ]
    },
    {
     "name": "stdout",
     "output_type": "stream",
     "text": [
      "Epoch: 15\n",
      "Train Loss: 0.8013\n"
     ]
    },
    {
     "name": "stderr",
     "output_type": "stream",
     "text": [
      "100%|██████████| 30/30 [00:00<00:00, 63.31it/s]\n",
      "100%|██████████| 30/30 [00:00<00:00, 73.70it/s]\n",
      "100%|██████████| 30/30 [00:00<00:00, 101.40it/s]\n"
     ]
    },
    {
     "name": "stdout",
     "output_type": "stream",
     "text": [
      "Epoch: 17\n",
      "Train Loss: 0.7306\n"
     ]
    },
    {
     "name": "stderr",
     "output_type": "stream",
     "text": [
      "100%|██████████| 30/30 [00:00<00:00, 64.11it/s]\n",
      "100%|██████████| 30/30 [00:00<00:00, 76.98it/s]\n",
      "100%|██████████| 30/30 [00:00<00:00, 81.27it/s]\n"
     ]
    },
    {
     "name": "stdout",
     "output_type": "stream",
     "text": [
      "Epoch: 19\n",
      "Train Loss: 0.6962\n"
     ]
    },
    {
     "name": "stderr",
     "output_type": "stream",
     "text": [
      "100%|██████████| 30/30 [00:00<00:00, 74.53it/s]\n",
      "100%|██████████| 30/30 [00:00<00:00, 62.69it/s]\n",
      "100%|██████████| 30/30 [00:00<00:00, 101.38it/s]\n"
     ]
    },
    {
     "name": "stdout",
     "output_type": "stream",
     "text": [
      "Epoch: 21\n",
      "Train Loss: 0.6677\n"
     ]
    },
    {
     "name": "stderr",
     "output_type": "stream",
     "text": [
      "100%|██████████| 30/30 [00:00<00:00, 76.27it/s]\n",
      "100%|██████████| 30/30 [00:00<00:00, 63.64it/s]\n",
      "100%|██████████| 30/30 [00:00<00:00, 102.22it/s]\n"
     ]
    },
    {
     "name": "stdout",
     "output_type": "stream",
     "text": [
      "Epoch: 23\n",
      "Train Loss: 0.6499\n"
     ]
    },
    {
     "name": "stderr",
     "output_type": "stream",
     "text": [
      "100%|██████████| 30/30 [00:00<00:00, 63.83it/s]\n",
      "100%|██████████| 30/30 [00:00<00:00, 77.59it/s]\n",
      "100%|██████████| 30/30 [00:00<00:00, 79.80it/s]\n"
     ]
    },
    {
     "name": "stdout",
     "output_type": "stream",
     "text": [
      "Epoch: 25\n",
      "Train Loss: 0.5973\n"
     ]
    },
    {
     "name": "stderr",
     "output_type": "stream",
     "text": [
      "100%|██████████| 30/30 [00:00<00:00, 74.71it/s]\n",
      "100%|██████████| 30/30 [00:00<00:00, 71.49it/s]\n",
      "100%|██████████| 30/30 [00:00<00:00, 80.65it/s]\n"
     ]
    },
    {
     "name": "stdout",
     "output_type": "stream",
     "text": [
      "Epoch: 27\n",
      "Train Loss: 0.5841\n"
     ]
    },
    {
     "name": "stderr",
     "output_type": "stream",
     "text": [
      "100%|██████████| 30/30 [00:00<00:00, 75.21it/s]\n",
      "100%|██████████| 30/30 [00:00<00:00, 64.15it/s]\n",
      "100%|██████████| 30/30 [00:00<00:00, 101.70it/s]\n"
     ]
    },
    {
     "name": "stdout",
     "output_type": "stream",
     "text": [
      "Epoch: 29\n",
      "Train Loss: 0.5758\n"
     ]
    },
    {
     "name": "stderr",
     "output_type": "stream",
     "text": [
      "100%|██████████| 30/30 [00:00<00:00, 60.71it/s]\n",
      "100%|██████████| 30/30 [00:00<00:00, 74.86it/s]\n",
      "100%|██████████| 30/30 [00:00<00:00, 78.53it/s]\n"
     ]
    },
    {
     "name": "stdout",
     "output_type": "stream",
     "text": [
      "Epoch: 31\n",
      "Train Loss: 0.5824\n"
     ]
    },
    {
     "name": "stderr",
     "output_type": "stream",
     "text": [
      "100%|██████████| 30/30 [00:00<00:00, 76.72it/s]\n",
      "100%|██████████| 30/30 [00:00<00:00, 74.35it/s]\n",
      "100%|██████████| 30/30 [00:00<00:00, 80.64it/s]\n"
     ]
    },
    {
     "name": "stdout",
     "output_type": "stream",
     "text": [
      "Epoch: 33\n",
      "Train Loss: 0.5693\n"
     ]
    },
    {
     "name": "stderr",
     "output_type": "stream",
     "text": [
      "100%|██████████| 30/30 [00:00<00:00, 72.89it/s]\n",
      "100%|██████████| 30/30 [00:00<00:00, 60.23it/s]\n",
      "100%|██████████| 30/30 [00:00<00:00, 98.85it/s] \n"
     ]
    },
    {
     "name": "stdout",
     "output_type": "stream",
     "text": [
      "Epoch: 35\n",
      "Train Loss: 0.5676\n"
     ]
    },
    {
     "name": "stderr",
     "output_type": "stream",
     "text": [
      "100%|██████████| 30/30 [00:00<00:00, 62.12it/s]\n",
      "100%|██████████| 30/30 [00:00<00:00, 73.75it/s]\n",
      "100%|██████████| 30/30 [00:00<00:00, 96.22it/s]\n"
     ]
    },
    {
     "name": "stdout",
     "output_type": "stream",
     "text": [
      "Epoch: 37\n",
      "Train Loss: 0.5590\n"
     ]
    },
    {
     "name": "stderr",
     "output_type": "stream",
     "text": [
      "100%|██████████| 30/30 [00:00<00:00, 61.08it/s]\n",
      "100%|██████████| 30/30 [00:00<00:00, 74.77it/s]\n",
      "100%|██████████| 30/30 [00:00<00:00, 79.25it/s] \n"
     ]
    },
    {
     "name": "stdout",
     "output_type": "stream",
     "text": [
      "Epoch: 39\n",
      "Train Loss: 0.5578\n"
     ]
    },
    {
     "name": "stderr",
     "output_type": "stream",
     "text": [
      "100%|██████████| 30/30 [00:00<00:00, 74.18it/s]\n",
      "100%|██████████| 30/30 [00:00<00:00, 62.89it/s]\n",
      "100%|██████████| 30/30 [00:00<00:00, 100.41it/s]\n"
     ]
    },
    {
     "name": "stdout",
     "output_type": "stream",
     "text": [
      "Epoch: 41\n",
      "Train Loss: 0.5647\n"
     ]
    },
    {
     "name": "stderr",
     "output_type": "stream",
     "text": [
      "100%|██████████| 30/30 [00:00<00:00, 71.23it/s]\n",
      "100%|██████████| 30/30 [00:00<00:00, 59.33it/s]\n",
      "100%|██████████| 30/30 [00:00<00:00, 100.15it/s]\n"
     ]
    },
    {
     "name": "stdout",
     "output_type": "stream",
     "text": [
      "Epoch: 43\n",
      "Train Loss: 0.5604\n"
     ]
    },
    {
     "name": "stderr",
     "output_type": "stream",
     "text": [
      "100%|██████████| 30/30 [00:00<00:00, 59.37it/s]\n",
      "100%|██████████| 30/30 [00:00<00:00, 71.10it/s]\n",
      "100%|██████████| 30/30 [00:00<00:00, 77.71it/s]\n"
     ]
    },
    {
     "name": "stdout",
     "output_type": "stream",
     "text": [
      "Epoch: 45\n",
      "Train Loss: 0.5626\n"
     ]
    },
    {
     "name": "stderr",
     "output_type": "stream",
     "text": [
      "100%|██████████| 30/30 [00:00<00:00, 74.92it/s]\n",
      "100%|██████████| 30/30 [00:00<00:00, 71.68it/s]\n",
      "100%|██████████| 30/30 [00:00<00:00, 74.25it/s]\n"
     ]
    },
    {
     "name": "stdout",
     "output_type": "stream",
     "text": [
      "Epoch: 47\n",
      "Train Loss: 0.5522\n"
     ]
    },
    {
     "name": "stderr",
     "output_type": "stream",
     "text": [
      "100%|██████████| 30/30 [00:00<00:00, 73.22it/s]\n",
      "100%|██████████| 30/30 [00:00<00:00, 60.94it/s]\n",
      "100%|██████████| 30/30 [00:00<00:00, 95.16it/s]\n"
     ]
    },
    {
     "name": "stdout",
     "output_type": "stream",
     "text": [
      "Epoch: 49\n",
      "Train Loss: 0.5551\n"
     ]
    },
    {
     "name": "stderr",
     "output_type": "stream",
     "text": [
      "100%|██████████| 30/30 [00:00<00:00, 61.31it/s]\n",
      "100%|██████████| 30/30 [00:00<00:00, 72.47it/s]\n",
      "100%|██████████| 30/30 [00:00<00:00, 97.77it/s]\n"
     ]
    },
    {
     "name": "stdout",
     "output_type": "stream",
     "text": [
      "Epoch: 51\n",
      "Train Loss: 0.5633\n"
     ]
    },
    {
     "name": "stderr",
     "output_type": "stream",
     "text": [
      "100%|██████████| 30/30 [00:00<00:00, 60.90it/s]\n",
      "100%|██████████| 30/30 [00:00<00:00, 69.32it/s]\n",
      "100%|██████████| 30/30 [00:00<00:00, 77.58it/s]\n"
     ]
    },
    {
     "name": "stdout",
     "output_type": "stream",
     "text": [
      "Epoch: 53\n",
      "Train Loss: 0.5543\n"
     ]
    },
    {
     "name": "stderr",
     "output_type": "stream",
     "text": [
      "100%|██████████| 30/30 [00:00<00:00, 74.41it/s]\n",
      "100%|██████████| 30/30 [00:00<00:00, 65.09it/s]\n",
      "100%|██████████| 30/30 [00:00<00:00, 101.37it/s]\n"
     ]
    },
    {
     "name": "stdout",
     "output_type": "stream",
     "text": [
      "Epoch: 55\n",
      "Train Loss: 0.5585\n"
     ]
    },
    {
     "name": "stderr",
     "output_type": "stream",
     "text": [
      "100%|██████████| 30/30 [00:00<00:00, 76.52it/s]\n",
      "100%|██████████| 30/30 [00:00<00:00, 62.33it/s]\n",
      "100%|██████████| 30/30 [00:00<00:00, 101.18it/s]\n"
     ]
    },
    {
     "name": "stdout",
     "output_type": "stream",
     "text": [
      "Epoch: 57\n",
      "Train Loss: 0.5515\n"
     ]
    },
    {
     "name": "stderr",
     "output_type": "stream",
     "text": [
      "100%|██████████| 30/30 [00:00<00:00, 62.80it/s]\n",
      "100%|██████████| 30/30 [00:00<00:00, 74.22it/s]\n",
      "100%|██████████| 30/30 [00:00<00:00, 79.99it/s] \n"
     ]
    },
    {
     "name": "stdout",
     "output_type": "stream",
     "text": [
      "Epoch: 59\n",
      "Train Loss: 0.5640\n"
     ]
    },
    {
     "name": "stderr",
     "output_type": "stream",
     "text": [
      "100%|██████████| 30/30 [00:00<00:00, 71.40it/s]\n",
      "100%|██████████| 30/30 [00:00<00:00, 75.51it/s]\n",
      "100%|██████████| 30/30 [00:00<00:00, 79.50it/s]\n"
     ]
    },
    {
     "name": "stdout",
     "output_type": "stream",
     "text": [
      "Epoch: 61\n",
      "Train Loss: 0.5503\n"
     ]
    },
    {
     "name": "stderr",
     "output_type": "stream",
     "text": [
      "100%|██████████| 30/30 [00:00<00:00, 73.03it/s]\n",
      "100%|██████████| 30/30 [00:00<00:00, 63.33it/s]\n",
      "100%|██████████| 30/30 [00:00<00:00, 100.27it/s]\n"
     ]
    },
    {
     "name": "stdout",
     "output_type": "stream",
     "text": [
      "Epoch: 63\n",
      "Train Loss: 0.5524\n"
     ]
    },
    {
     "name": "stderr",
     "output_type": "stream",
     "text": [
      "100%|██████████| 30/30 [00:00<00:00, 63.22it/s]\n",
      "100%|██████████| 30/30 [00:00<00:00, 73.27it/s]\n",
      "100%|██████████| 30/30 [00:00<00:00, 100.84it/s]\n"
     ]
    },
    {
     "name": "stdout",
     "output_type": "stream",
     "text": [
      "Epoch: 65\n",
      "Train Loss: 0.5529\n"
     ]
    },
    {
     "name": "stderr",
     "output_type": "stream",
     "text": [
      "100%|██████████| 30/30 [00:00<00:00, 59.45it/s]\n",
      "100%|██████████| 30/30 [00:00<00:00, 75.25it/s]\n",
      "100%|██████████| 30/30 [00:00<00:00, 80.45it/s] \n"
     ]
    },
    {
     "name": "stdout",
     "output_type": "stream",
     "text": [
      "Epoch: 67\n",
      "Train Loss: 0.5514\n"
     ]
    },
    {
     "name": "stderr",
     "output_type": "stream",
     "text": [
      "100%|██████████| 30/30 [00:00<00:00, 75.76it/s]\n",
      "100%|██████████| 30/30 [00:00<00:00, 60.68it/s]\n",
      "100%|██████████| 30/30 [00:00<00:00, 101.17it/s]\n"
     ]
    },
    {
     "name": "stdout",
     "output_type": "stream",
     "text": [
      "Epoch: 69\n",
      "Train Loss: 0.5511\n"
     ]
    },
    {
     "name": "stderr",
     "output_type": "stream",
     "text": [
      "100%|██████████| 30/30 [00:00<00:00, 75.69it/s]\n",
      "100%|██████████| 30/30 [00:00<00:00, 63.31it/s]\n",
      "100%|██████████| 30/30 [00:00<00:00, 101.14it/s]\n"
     ]
    },
    {
     "name": "stdout",
     "output_type": "stream",
     "text": [
      "Epoch: 71\n",
      "Train Loss: 0.5493\n"
     ]
    },
    {
     "name": "stderr",
     "output_type": "stream",
     "text": [
      "100%|██████████| 30/30 [00:00<00:00, 62.21it/s]\n",
      "100%|██████████| 30/30 [00:00<00:00, 70.35it/s]\n",
      "100%|██████████| 30/30 [00:00<00:00, 80.34it/s] \n"
     ]
    },
    {
     "name": "stdout",
     "output_type": "stream",
     "text": [
      "Epoch: 73\n",
      "Train Loss: 0.5418\n"
     ]
    },
    {
     "name": "stderr",
     "output_type": "stream",
     "text": [
      "100%|██████████| 30/30 [00:00<00:00, 73.56it/s]\n",
      "100%|██████████| 30/30 [00:00<00:00, 60.59it/s]\n",
      "100%|██████████| 30/30 [00:00<00:00, 100.96it/s]\n"
     ]
    },
    {
     "name": "stdout",
     "output_type": "stream",
     "text": [
      "Epoch: 75\n",
      "Train Loss: 0.5444\n"
     ]
    },
    {
     "name": "stderr",
     "output_type": "stream",
     "text": [
      "100%|██████████| 30/30 [00:00<00:00, 74.96it/s]\n",
      "100%|██████████| 30/30 [00:00<00:00, 63.76it/s]\n",
      "100%|██████████| 30/30 [00:00<00:00, 102.41it/s]\n"
     ]
    },
    {
     "name": "stdout",
     "output_type": "stream",
     "text": [
      "Epoch: 77\n",
      "Train Loss: 0.5507\n"
     ]
    },
    {
     "name": "stderr",
     "output_type": "stream",
     "text": [
      "100%|██████████| 30/30 [00:00<00:00, 62.21it/s]\n",
      "100%|██████████| 30/30 [00:00<00:00, 74.61it/s]\n",
      "100%|██████████| 30/30 [00:00<00:00, 100.04it/s]\n"
     ]
    },
    {
     "name": "stdout",
     "output_type": "stream",
     "text": [
      "Epoch: 79\n",
      "Train Loss: 0.5473\n"
     ]
    },
    {
     "name": "stderr",
     "output_type": "stream",
     "text": [
      "100%|██████████| 30/30 [00:00<00:00, 61.48it/s]\n",
      "100%|██████████| 30/30 [00:00<00:00, 75.37it/s]\n",
      "100%|██████████| 30/30 [00:00<00:00, 79.83it/s]\n"
     ]
    },
    {
     "name": "stdout",
     "output_type": "stream",
     "text": [
      "Epoch: 81\n",
      "Train Loss: 0.5546\n"
     ]
    },
    {
     "name": "stderr",
     "output_type": "stream",
     "text": [
      "100%|██████████| 30/30 [00:00<00:00, 73.29it/s]\n",
      "100%|██████████| 30/30 [00:00<00:00, 63.73it/s]\n",
      "100%|██████████| 30/30 [00:00<00:00, 101.94it/s]\n"
     ]
    },
    {
     "name": "stdout",
     "output_type": "stream",
     "text": [
      "Epoch: 83\n",
      "Train Loss: 0.5428\n"
     ]
    },
    {
     "name": "stderr",
     "output_type": "stream",
     "text": [
      "100%|██████████| 30/30 [00:00<00:00, 73.79it/s]\n",
      "100%|██████████| 30/30 [00:00<00:00, 64.62it/s]\n",
      "100%|██████████| 30/30 [00:00<00:00, 100.72it/s]\n"
     ]
    },
    {
     "name": "stdout",
     "output_type": "stream",
     "text": [
      "Epoch: 85\n",
      "Train Loss: 0.5456\n"
     ]
    },
    {
     "name": "stderr",
     "output_type": "stream",
     "text": [
      "100%|██████████| 30/30 [00:00<00:00, 60.39it/s]\n",
      "100%|██████████| 30/30 [00:00<00:00, 74.32it/s]\n",
      "100%|██████████| 30/30 [00:00<00:00, 81.32it/s] \n"
     ]
    },
    {
     "name": "stdout",
     "output_type": "stream",
     "text": [
      "Epoch: 87\n",
      "Train Loss: 0.5518\n"
     ]
    },
    {
     "name": "stderr",
     "output_type": "stream",
     "text": [
      "100%|██████████| 30/30 [00:00<00:00, 75.65it/s]\n",
      "100%|██████████| 30/30 [00:00<00:00, 73.71it/s]\n",
      "100%|██████████| 30/30 [00:00<00:00, 79.05it/s]\n"
     ]
    },
    {
     "name": "stdout",
     "output_type": "stream",
     "text": [
      "Epoch: 89\n",
      "Train Loss: 0.5448\n"
     ]
    },
    {
     "name": "stderr",
     "output_type": "stream",
     "text": [
      "100%|██████████| 30/30 [00:00<00:00, 74.44it/s]\n",
      "100%|██████████| 30/30 [00:00<00:00, 64.24it/s]\n",
      "100%|██████████| 30/30 [00:00<00:00, 102.60it/s]\n"
     ]
    },
    {
     "name": "stdout",
     "output_type": "stream",
     "text": [
      "Epoch: 91\n",
      "Train Loss: 0.5460\n"
     ]
    },
    {
     "name": "stderr",
     "output_type": "stream",
     "text": [
      "100%|██████████| 30/30 [00:00<00:00, 60.36it/s]\n",
      "100%|██████████| 30/30 [00:00<00:00, 76.80it/s]\n",
      "100%|██████████| 30/30 [00:00<00:00, 79.53it/s] \n"
     ]
    },
    {
     "name": "stdout",
     "output_type": "stream",
     "text": [
      "Epoch: 93\n",
      "Train Loss: 0.5472\n"
     ]
    },
    {
     "name": "stderr",
     "output_type": "stream",
     "text": [
      "100%|██████████| 30/30 [00:00<00:00, 71.88it/s]\n",
      "100%|██████████| 30/30 [00:00<00:00, 74.19it/s]\n",
      "100%|██████████| 30/30 [00:00<00:00, 78.55it/s]\n"
     ]
    },
    {
     "name": "stdout",
     "output_type": "stream",
     "text": [
      "Epoch: 95\n",
      "Train Loss: 0.5427\n"
     ]
    },
    {
     "name": "stderr",
     "output_type": "stream",
     "text": [
      "100%|██████████| 30/30 [00:00<00:00, 76.08it/s]\n",
      "100%|██████████| 30/30 [00:00<00:00, 64.01it/s]\n",
      "100%|██████████| 30/30 [00:00<00:00, 101.55it/s]\n"
     ]
    },
    {
     "name": "stdout",
     "output_type": "stream",
     "text": [
      "Epoch: 97\n",
      "Train Loss: 0.5458\n"
     ]
    },
    {
     "name": "stderr",
     "output_type": "stream",
     "text": [
      "100%|██████████| 30/30 [00:00<00:00, 60.82it/s]\n",
      "100%|██████████| 30/30 [00:00<00:00, 75.64it/s]\n",
      "100%|██████████| 30/30 [00:00<00:00, 101.83it/s]\n"
     ]
    },
    {
     "name": "stdout",
     "output_type": "stream",
     "text": [
      "Epoch: 99\n",
      "Train Loss: 0.5441\n"
     ]
    },
    {
     "name": "stderr",
     "output_type": "stream",
     "text": [
      "100%|██████████| 30/30 [00:00<00:00, 63.46it/s]\n"
     ]
    }
   ],
   "source": [
    "epochs = 100\n",
    "#step, beta = 0, 1.0 # 3.5\n",
    "optimizer = optim.AdamW(model.parameters(), lr = 1e-4, weight_decay=6e-5)\n",
    "#scheduler = optim.lr_scheduler.StepLR(optimizer, step_size = 30, gamma = 0.1, verbose=True)\n",
    "\n",
    "losses = []\n",
    "last_loss = torch.inf\n",
    "avg_train_loss, avg_primal_loss, avg_fixed_point_loss, avg_projection_loss = [], [], [], []\n",
    "avg_val_loss = []\n",
    "for epoch in range(epochs):\n",
    "    \n",
    "    # Train Loop\n",
    "    losses_train, primal_losses, fixed_point_losses, projection_losses = [], [], [], []\n",
    "    \n",
    "    for (inp, theta_init, v_start) in tqdm(train_loader):\n",
    "        \n",
    "        # Input and Output \n",
    "        inp = inp.to(device)\n",
    "        theta_init = theta_init.to(device)\n",
    "        v_start = v_start.to(device)\n",
    "        \n",
    "        xi_projected, accumulated_res_fixed_point, accumulated_res_primal, \\\n",
    "        accumulated_res_primal_temp, accumulated_res_fixed_point_temp = model(inp, theta_init, v_start)\n",
    "\n",
    "        xi_samples_inp = inp[:, :nvar]\n",
    "\n",
    "        primal_loss, fixed_point_loss, projection_loss, loss = model.mlp_loss(accumulated_res_primal, \n",
    "                                                                              accumulated_res_fixed_point, xi_samples_inp, xi_projected)\n",
    "\n",
    "        \n",
    "        optimizer.zero_grad() #clears the gradients of the model parameters\n",
    "        loss.backward() #computes the gradients of the model parameters\n",
    "        \n",
    "        \n",
    "        # #Gradient Norm check\n",
    "        # total_norm = 0.0\n",
    "        # for p in model.parameters():\n",
    "        #     if p.grad is not None:\n",
    "        #         param_norm = p.grad.data.norm(2)  # L2 norm\n",
    "        #         total_norm += param_norm.item() ** 2\n",
    "\n",
    "        # total_norm = total_norm ** 0.5\n",
    "        # print(f\"Gradient L2 norm: {total_norm:.4f}\")\n",
    "        \n",
    "        ##Gradient Norm clipping\n",
    "        #torch.nn.utils.clip_grad_norm_(model.parameters(), max_norm=1.0)\n",
    "\n",
    "\n",
    "        optimizer.step() #updates the model parameters (e.g. weights and biases)\n",
    "        \n",
    "        losses_train.append(loss.detach().cpu().numpy()) \n",
    "        primal_losses.append(primal_loss.detach().cpu().numpy())\n",
    "        fixed_point_losses.append(fixed_point_loss.detach().cpu().numpy())\n",
    "        projection_losses.append(projection_loss.detach().cpu().numpy())\n",
    "        \n",
    "    if epoch % 2 == 0:\n",
    "        \n",
    "        # Validation \n",
    "        model.eval()\n",
    "        val_losses = []\n",
    "\n",
    "        with torch.no_grad():\n",
    "            for (inp_val, theta_init, v_start) in tqdm(val_loader):\n",
    "                inp_val = inp_val.to(device)\n",
    "                theta_init = theta_init.to(device)\n",
    "                v_start = v_start.to(device)\n",
    "\n",
    "                xi_projected, accumulated_res_fixed_point, accumulated_res_primal, \\\n",
    "                accumulated_res_primal_temp, accumulated_res_fixed_point_temp = model(inp_val, theta_init, v_start)\n",
    "\n",
    "                xi_samples_inp_val = inp_val[:, :nvar]\n",
    "\n",
    "                _, _, _, val_loss = model.mlp_loss(\n",
    "                    accumulated_res_primal, accumulated_res_fixed_point, xi_samples_inp_val, xi_projected\n",
    "                )\n",
    "\n",
    "                val_losses.append(val_loss.detach().cpu().numpy())\n",
    "\n",
    "                #print(f\"Validation Loss: {np.average(val_losses):.4f}\")\n",
    "            \n",
    "\n",
    "    if epoch % 2 == 0:    \n",
    "        print(f\"Epoch: {epoch + 1}\")\n",
    "        print(f\"Train Loss: {np.average(losses_train):.4f}\")\n",
    "        \n",
    "\n",
    "\n",
    "    #step += 0.07 #0.15\n",
    "    #scheduler.step()\n",
    "\n",
    "    # mean_train_loss = np.mean(losses_train)\n",
    "    # mean_val_loss = np.mean(val_losses)\n",
    "    \n",
    "    os.makedirs(\"./training_weights\", exist_ok=True)\n",
    "    #if mean_val_loss <= last_loss:\n",
    "    if loss <= last_loss:\n",
    "            torch.save(model.state_dict(), f\"./training_weights/mlp_learned_single_dof.pth\")\n",
    "            last_loss = loss\n",
    "\n",
    "    avg_train_loss.append(np.average(losses_train)), avg_primal_loss.append(np.average(primal_losses)), \\\n",
    "    avg_projection_loss.append(np.average(projection_losses)), avg_fixed_point_loss.append(np.average(fixed_point_losses))\n",
    "    avg_val_loss.append(np.average(val_losses))\n"
   ]
  },
  {
   "cell_type": "code",
   "execution_count": 27,
   "id": "9b981e32",
   "metadata": {},
   "outputs": [
    {
     "data": {
      "image/png": "[encoded data removed]",
      "text/plain": [
       "<Figure size 1200x600 with 1 Axes>"
      ]
     },
     "metadata": {},
     "output_type": "display_data"
    },
    {
     "data": {
      "image/png": "[encoded data removed]",
      "text/plain": [
       "<Figure size 1200x600 with 1 Axes>"
      ]
     },
     "metadata": {},
     "output_type": "display_data"
    }
   ],
   "source": [
    "# Plot training losses\n",
    "\n",
    "plt.figure(figsize=(12, 6))\n",
    "\n",
    "plt.plot(avg_train_loss, label='Total Loss')\n",
    "plt.plot(avg_primal_loss, label='Primal Loss')\n",
    "plt.plot(avg_fixed_point_loss, label='Fixed-Point Loss')\n",
    "plt.plot(avg_projection_loss, label='Projection Loss')\n",
    "\n",
    "\n",
    "plt.title('Training Loss Curves')\n",
    "plt.xlabel('Epoch')\n",
    "plt.ylabel('Loss')\n",
    "plt.legend()\n",
    "plt.grid(True)\n",
    "plt.tight_layout()\n",
    "plt.show()\n",
    "\n",
    "# Plot validation losses\n",
    "plt.figure(figsize=(12, 6))\n",
    "plt.plot(avg_val_loss, label='Validation Loss')\n",
    "\n",
    "plt.title('Validation Loss Curves')\n",
    "plt.xlabel('Epoch')\n",
    "plt.ylabel('Loss')\n",
    "plt.legend()\n",
    "plt.grid(True)\n",
    "plt.tight_layout()\n",
    "plt.show()"
   ]
  },
  {
   "cell_type": "code",
   "execution_count": 28,
   "id": "0f784660",
   "metadata": {},
   "outputs": [
    {
     "name": "stdout",
     "output_type": "stream",
     "text": [
      "Training_loss_end 0.54584724\n",
      "Validation_loss_end 0.56050754\n",
      "max projection_loss 0.24560407\n",
      "min projection_loss 0.19313408\n"
     ]
    }
   ],
   "source": [
    "avg_train_loss = np.asarray(avg_train_loss)\n",
    "avg_val_loss = np.asarray(avg_val_loss)\n",
    "print(\"Training_loss_end\", avg_train_loss[-1])\n",
    "print(\"Validation_loss_end\", avg_val_loss[-1])\n",
    "\n",
    "print(\"max projection_loss\", np.max(np.asarray(avg_projection_loss)))\n",
    "print(\"min projection_loss\", np.min(np.asarray(avg_projection_loss)))"
   ]
  }
 ],
 "metadata": {
  "kernelspec": {
   "display_name": "manipulator_torch_env",
   "language": "python",
   "name": "python3"
  },
  "language_info": {
   "codemirror_mode": {
    "name": "ipython",
    "version": 3
   },
   "file_extension": ".py",
   "mimetype": "text/x-python",
   "name": "python",
   "nbconvert_exporter": "python",
   "pygments_lexer": "ipython3",
   "version": "3.12.3"
  }
 },
 "nbformat": 4,
 "nbformat_minor": 5
}
